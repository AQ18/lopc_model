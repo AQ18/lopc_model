{
 "cells": [
  {
   "cell_type": "markdown",
   "id": "496db2c5-f284-4aaa-8eaf-cc495acc71e2",
   "metadata": {},
   "source": [
    "Generating plots that explore iridoplasts using the LOPC model. This notebook is for generating publication-ready plots, which will be automatically exported to the LaTeX directory. To follow the process of exploring the data, look at the other notebooks."
   ]
  },
  {
   "cell_type": "code",
   "execution_count": null,
   "id": "46385c37-7017-4f40-b9a1-49f4735887e8",
   "metadata": {
    "tags": []
   },
   "outputs": [],
   "source": [
    "# computation\n",
    "import lumapi\n",
    "import numpy as np\n",
    "import warnings\n",
    "import xarray as xr\n",
    "import pandas as pd\n",
    "# import xyzpy as xyz\n",
    "# from xyzpy.gen.combo_runner import multi_concat\n",
    "from multilayer_simulator.lumerical_classes import LumericalOscillator, format_stackrt, format_stackfield\n",
    "from multilayer_simulator.helpers.mixins import convert_wavelength_and_frequency\n",
    "import dask\n",
    "from functools import partial\n",
    "from pathlib import Path\n",
    "import sys\n",
    "from tqdm import tqdm\n",
    "# plotting\n",
    "import hvplot.xarray\n",
    "import hvplot.pandas\n",
    "import holoviews as hv\n",
    "from holoviews import dim, opts\n",
    "import colorcet\n",
    "import panel as pn\n",
    "import panel.widgets as pnw\n",
    "from bokeh.io import export_png, export_svg\n",
    "from selenium.webdriver import Firefox\n",
    "from selenium.webdriver.firefox.options import Options\n",
    "from scipy.signal import find_peaks\n",
    "from bokeh.models import PrintfTickFormatter"
   ]
  },
  {
   "cell_type": "code",
   "execution_count": null,
   "id": "a47c2674-216d-4783-8a7c-921fd6f22bc0",
   "metadata": {
    "tags": []
   },
   "outputs": [],
   "source": [
    "hv.extension(\"bokeh\", inline=False, case_sensitive_completion=True)  # use matplotlib because rendering bokeh to svg is broken\n",
    "pn.config.throttled = True  # don't update interactive plots until mouse is unclicked\n",
    "\n",
    "# default_color_cycle = hv.Cycle(\"Colorblind\")  # Ruth doesn't like the inclusion of yellow, which is fair enough\n",
    "default_color_cycle = hv.Cycle(colorcet.glasbey_dark)\n",
    "default_dash_cycle = hv.Cycle([\"solid\", \"dashed\", \"dashdot\", \"dotted\", \"dotdash\"])\n",
    "universal_opts = dict(fontscale=2, title=\"\")\n",
    "matplotlib_opts = dict(fig_inches=5, aspect=2, fig_latex=True)\n",
    "bokeh_opts = dict(width=700, height=300)\n",
    "opts.defaults(opts.Curve(**universal_opts|bokeh_opts, color=default_color_cycle, line_width=1.5),\n",
    "              opts.Scatter(**universal_opts|bokeh_opts, color=default_color_cycle),\n",
    "              opts.Image(**universal_opts|bokeh_opts),\n",
    "              opts.Slope(**universal_opts|bokeh_opts, color=default_color_cycle),\n",
    "              opts.Area(**universal_opts|bokeh_opts, color=default_color_cycle),\n",
    "              opts.Overlay(**universal_opts|bokeh_opts),\n",
    "              opts.Layout(**universal_opts|bokeh_opts),\n",
    "              opts.GridSpace(**universal_opts|bokeh_opts),\n",
    "              )\n",
    "\n",
    "xarray_engine='h5netcdf'"
   ]
  },
  {
   "cell_type": "code",
   "execution_count": null,
   "id": "4497decf-a174-4643-bcac-7707fc3c0e62",
   "metadata": {
    "tags": []
   },
   "outputs": [],
   "source": [
    "root = Path.cwd().parent.parent.parent  # depth of parents depends on if this is running in JupyterLab or Notebook"
   ]
  },
  {
   "cell_type": "code",
   "execution_count": null,
   "id": "a312f031-6357-47c4-8976-1bbb4a3d8f61",
   "metadata": {
    "tags": []
   },
   "outputs": [],
   "source": [
    "code_path = root / r\"research\""
   ]
  },
  {
   "cell_type": "code",
   "execution_count": null,
   "id": "439c9e48-3d69-4fc9-88ed-e26a929ed7c2",
   "metadata": {
    "tags": []
   },
   "outputs": [],
   "source": [
    "data_path = code_path / r\"notebooks/data\""
   ]
  },
  {
   "cell_type": "code",
   "execution_count": null,
   "id": "da697f25-e739-4d53-99ba-8957800fcd54",
   "metadata": {
    "tags": []
   },
   "outputs": [],
   "source": [
    "archive_path = root / r\"thesis/LaTeX/chapters/chapter_3\""
   ]
  },
  {
   "cell_type": "code",
   "execution_count": null,
   "id": "4c845302-5577-49e9-84f7-f9fa889c62c4",
   "metadata": {
    "tags": []
   },
   "outputs": [],
   "source": [
    "fig_path = archive_path / \"fig_chapter_3\""
   ]
  },
  {
   "cell_type": "code",
   "execution_count": null,
   "id": "0e7831ac-113a-4ad7-a916-2395abd3754b",
   "metadata": {
    "tags": []
   },
   "outputs": [],
   "source": [
    "if not code_path in sys.path:\n",
    "    sys.path.append(str(code_path))\n",
    "from LOPC import LOPC\n",
    "from LOPC.helpers import (\n",
    "    assign_derived_attrs,\n",
    "    restack,\n",
    "    enhancement_factor,\n",
    "    # combo_length,\n",
    "    # estimate_combo_run_time,\n",
    "    linewidth_calculator,\n",
    "    lopc_data,\n",
    "    spectrum,\n",
    "    normalise_over_dim,\n",
    "    integrate_da,\n",
    "    sel_or_integrate,\n",
    "    find_optimum_coords,\n",
    "    plot_secondary,\n",
    "    pre_process_for_plots,\n",
    "    vlines,\n",
    "    coordinate_string,\n",
    "    plot_da,\n",
    "    plot_var,\n",
    "    plot_optimum_over_dim,\n",
    "    plot_field,\n",
    "    visualise_multilayer,\n",
    "    complex_elements,\n",
    "    indexer_from_dataset,\n",
    "    fix_bin_labels,\n",
    "    mean_and_std,\n",
    "    assign_high_from_mean_and_std,\n",
    "    assign_low_from_mean_and_std,\n",
    "    assign_high_and_low,\n",
    "    max_min_pos,\n",
    ")"
   ]
  },
  {
   "cell_type": "markdown",
   "id": "ef7b7a9c-221f-4665-9ac2-25072046e8c3",
   "metadata": {},
   "source": [
    "Turn on auto-archiving of cells and Holoviews outputs. See the user guide [here](https://holoviews.org/user_guide/Exporting_and_Archiving.html).\n",
    "\n",
    "Might need to install `ipympl`.\n",
    "\n",
    "EDIT: This does not work but I'm leaving this here so a future researcher can avoid the rabbithole I fell down."
   ]
  },
  {
   "cell_type": "code",
   "execution_count": null,
   "id": "be75ad20-b97a-44da-b592-73ea322cb49f",
   "metadata": {
    "tags": []
   },
   "outputs": [],
   "source": [
    "# # This is the idiomatic way to record all generated figures with holoviews\n",
    "# # This does NOT work in JupyterLab: see https://github.com/holoviz/holoviews/issues/3570\n",
    "# # This also does not work in Jupyter Notebook\n",
    "# # It's just utterly broken\n",
    "\n",
    "# hv.archive.auto(root=str(archive_path), export_name=\"fig_chapter_2\") "
   ]
  },
  {
   "cell_type": "markdown",
   "id": "5303024c-324f-4f0f-8779-3f9f6de3ebf6",
   "metadata": {
    "tags": []
   },
   "source": [
    "# Load/define datasets"
   ]
  },
  {
   "cell_type": "markdown",
   "id": "b219a8f2-dd5c-46d0-b747-d0994f22bfeb",
   "metadata": {},
   "source": [
    "## Basic datasets"
   ]
  },
  {
   "cell_type": "code",
   "execution_count": null,
   "id": "1358b273-da22-4754-898b-2a2c22b1be27",
   "metadata": {
    "tags": []
   },
   "outputs": [],
   "source": [
    "# chunks for plotting or integrating over angle\n",
    "undisordered_run_number = 2\n",
    "pds_chunks = {\n",
    "    \"frequency\": 256,\n",
    "    \"excitonic_layer_thickness\": 16,\n",
    "    \"passive_layer_thickness\": 32,\n",
    "    \"theta\": 16,\n",
    "    \"num_periods\": 1,\n",
    "}\n",
    "\n",
    "periodic_ds = xr.open_mfdataset(\n",
    "    data_path / f\"run_{undisordered_run_number}/LOPC.nc\",\n",
    "    engine=xarray_engine,\n",
    "    lock=False,\n",
    "    chunks=pds_chunks,\n",
    ")\n",
    "periodic_ds = assign_derived_attrs(\n",
    "    periodic_ds, per_oscillator=[\"Rs\", \"Rp\", \"R\", \"Ts\", \"Tp\", \"T\", \"As\", \"Ap\", \"A\"]\n",
    ")"
   ]
  },
  {
   "cell_type": "code",
   "execution_count": null,
   "id": "c0798ec6-243f-4cab-9fae-d8d690fa1999",
   "metadata": {},
   "outputs": [],
   "source": []
  },
  {
   "cell_type": "markdown",
   "id": "66e905ce-8f38-4b40-8be5-14be5735c021",
   "metadata": {},
   "source": [
    "# Prepare for Plots"
   ]
  },
  {
   "cell_type": "markdown",
   "id": "f8d024bf-4282-4706-a3de-adc45b834af1",
   "metadata": {},
   "source": [
    "## Pre-processing"
   ]
  },
  {
   "cell_type": "code",
   "execution_count": null,
   "id": "74bd69d5-ffd2-434b-bc5e-9265ccacd03d",
   "metadata": {
    "tags": []
   },
   "outputs": [],
   "source": [
    "blue = hv.Cycle.default_cycles['default_colors'][0]\n",
    "red = hv.Cycle.default_cycles['default_colors'][1]\n",
    "yellow = hv.Cycle.default_cycles['default_colors'][2]\n",
    "green = hv.Cycle.default_cycles['default_colors'][3]"
   ]
  },
  {
   "cell_type": "code",
   "execution_count": null,
   "id": "6c603963-1786-4d2a-8001-f2140a587610",
   "metadata": {
    "tags": []
   },
   "outputs": [],
   "source": [
    "RTA_cycle = hv.Cycle([blue, yellow, red])"
   ]
  },
  {
   "cell_type": "code",
   "execution_count": null,
   "id": "e6a72776-1d70-4f46-b791-a04ac76dbdf7",
   "metadata": {
    "tags": []
   },
   "outputs": [],
   "source": [
    "wavelengths_in_nanometres = np.linspace(480, 880, 256)\n",
    "wavelengths = wavelengths_in_nanometres * 1e-9\n",
    "frequencies = convert_wavelength_and_frequency(wavelengths)\n",
    "angles = np.linspace(0, 86, 64)"
   ]
  },
  {
   "cell_type": "code",
   "execution_count": null,
   "id": "e0610287-987e-4d72-8cd8-fdb7714a3684",
   "metadata": {
    "tags": []
   },
   "outputs": [],
   "source": [
    "default_oscillator_params = {\n",
    "    \"N\": 1e26,\n",
    "    \"permittivity\": 2.2,\n",
    "    \"lorentz_resonance_wavelength\": 680,\n",
    "    \"lorentz_linewidth\": 7.5e13,\n",
    "}"
   ]
  },
  {
   "cell_type": "code",
   "execution_count": null,
   "id": "3e9803b5-3151-4bb5-9356-9f182aef6242",
   "metadata": {
    "tags": []
   },
   "outputs": [],
   "source": [
    "unpolarised_RTA = [\"R\", \"T\", \"A\"]\n",
    "s_polarised_RTA = [\"Rs\", \"Ts\", \"As\"]\n",
    "p_polarised_RTA = [\"Rp\", \"Tp\", \"Ap\"]\n",
    "reflectance = [\"Rs\", \"Rp\", \"R\"]\n",
    "transmittance = [\"Ts\", \"Tp\", \"T\"]\n",
    "absorptance = [\"As\", \"Ap\", \"A\"]\n",
    "per_oscillator_RTA = [\"R_per_oscillator\", \"T_per_oscillator\", \"A_per_oscillator\"]"
   ]
  },
  {
   "cell_type": "code",
   "execution_count": null,
   "id": "3265a041-9be4-4ad4-a8c9-b0c5f0b21aa2",
   "metadata": {
    "tags": []
   },
   "outputs": [],
   "source": [
    "pre_process_for_plots = partial(pre_process_for_plots, strict=False)"
   ]
  },
  {
   "cell_type": "code",
   "execution_count": null,
   "id": "a4406099-5e09-45c3-83e2-12ec5cdc3368",
   "metadata": {
    "tags": []
   },
   "outputs": [],
   "source": [
    "# WARNING: all these datasets will be fundamentally changed after this cell, to the extent that it can't be run twice\n",
    "# For consistency, keep important calculations in the preceding section!\n",
    "periodic_ds = pre_process_for_plots(periodic_ds)  # the delta=0 case\n",
    "# singles_pds = pre_process_for_plots(singles_pds)  # periodic_ds indexed by singles_ds, below\n",
    "\n",
    "# uncorrelated_aggregated_ds = pre_process_for_plots(uncorrelated_aggregated_ds) # uncorrelated delta<0.15, higher precision in elt and period\n",
    "# correlated_aggregated_ds = pre_process_for_plots(correlated_aggregated_ds) # correlated delta<0.15, higher precision in elt and period\n",
    "# aggregated_ds = pre_process_for_plots(aggregated_ds) # combination of above\n",
    "\n",
    "# singles_ds_01_04 = pre_process_for_plots(singles_ds_01_04)  # individual run data delta<0.4, coarse\n",
    "# singles_ds_05 = pre_process_for_plots(singles_ds_05)  # individual run data delta=0.5, coarse\n",
    "# # singles_ds_10 = pre_process_for_plots(singles_ds_10)  # individual run data delta=1, coarse, inefficient - never use this!\n",
    "# correlated_ds_10 = pre_process_for_plots(correlated_ds_10)  # much faster version of above without unnecessary reindexing\n",
    "# singles_ds = pre_process_for_plots(singles_ds)  # merge of the above - convenient but inefficient due to ragged structure\n",
    "# stats_ds = pre_process_for_plots(stats_ds)  # calculated mean and standard deviation of individual run data\n",
    "\n",
    "# # + restacked versions of all the above\n",
    "# ref = pre_process_for_plots(ref)\n",
    "# crs_1 = pre_process_for_plots(crs_1)\n",
    "# # norm_1 = pre_process_for_plots(norm_1)\n",
    "# # restacked_norm_1 = pre_process_for_plots(restacked_norm_1)\n",
    "# # diff_1 = pre_process_for_plots(diff_1)\n",
    "# # restacked_diff_1 = pre_process_for_plots(restacked_diff_1)"
   ]
  },
  {
   "cell_type": "code",
   "execution_count": null,
   "id": "64a3963c-89ad-4f1d-b369-3d510a83342c",
   "metadata": {
    "tags": []
   },
   "outputs": [],
   "source": [
    "restack_plt_to_period = partial(\n",
    "    restack,\n",
    "    start_idxs=[\"passive_layer_thickness\", \"excitonic_layer_thickness\"],\n",
    "    end_idxs=[\"period\", \"excitonic_layer_thickness\"],\n",
    ")"
   ]
  },
  {
   "cell_type": "code",
   "execution_count": null,
   "id": "758c93a1-d443-462f-91ea-397488cdfc8c",
   "metadata": {
    "tags": []
   },
   "outputs": [],
   "source": [
    "with dask.config.set(**{'array.slicing.split_large_chunks': False}):\n",
    "    restacked_pds = restack_plt_to_period(periodic_ds)  # the delta=0 case\n",
    "#     restacked_spds = restack_plt_to_period(singles_pds)  # periodic_ds indexed by singles_ds, below\n",
    "\n",
    "#     restacked_uads = restack_plt_to_period(uncorrelated_aggregated_ds) # uncorrelated delta<0.15, higher precision in elt and period\n",
    "#     restacked_cads = restack_plt_to_period(correlated_aggregated_ds) # correlated delta<0.15, higher precision in elt and period\n",
    "#     restacked_ads = restack_plt_to_period(aggregated_ds)\n",
    "\n",
    "#     restacked_sds_01_04 = restack_plt_to_period(singles_ds_01_04)  # individual run data delta<0.4, coarse\n",
    "#     restacked_sds_05 = restack_plt_to_period(singles_ds_05)  # individual run data delta=0.5, coarse\n",
    "#     # restacked_sds_10 = restack_plt_to_period(singles_ds_10)  # individual run data delta=1, coarse, inefficient - never use this!\n",
    "#     restacked_cds_10 = restack_plt_to_period(correlated_ds_10)  # much faster version of above without unnecessary reindexing\n",
    "#     restacked_sds = restack_plt_to_period(singles_ds)  # merge of the above - convenient but inefficient due to ragged structure\n",
    "#     restacked_stats_ds = restack_plt_to_period(stats_ds)  # calculated mean and standard deviation of individual run data"
   ]
  },
  {
   "cell_type": "code",
   "execution_count": null,
   "id": "163e08f6-3a45-4ed1-8e0c-5e75188f0b54",
   "metadata": {
    "tags": []
   },
   "outputs": [],
   "source": [
    "period_dim = hv.Dimension(\"period\", label=\"Λ\", unit=\"nm\")\n",
    "wavelength_dim = hv.Dimension(\"wavelength\", label=\"λ\", unit=\"nm\")\n",
    "real_index_dim = hv.Dimension(\"n\")\n",
    "imag_index_dim = hv.Dimension(\"k\", label=\"ϰ\")\n",
    "delta_dim = hv.Dimension(\"delta\", label=\"Δ\")\n",
    "elt_dim = hv.Dimension(\"excitonic_layer_thickness\", label=\"d_e\", unit=\"nm\")"
   ]
  },
  {
   "cell_type": "markdown",
   "id": "83c34290-e27b-471b-b1f1-f22d09c41bf2",
   "metadata": {},
   "source": [
    "## Plotting functions"
   ]
  },
  {
   "cell_type": "markdown",
   "id": "856d8508-b302-4726-bd40-28616a91f794",
   "metadata": {
    "tags": []
   },
   "source": [
    "### Useful lines"
   ]
  },
  {
   "cell_type": "markdown",
   "id": "9adca423-f37a-4279-b016-9bb2c98ffcfa",
   "metadata": {
    "tags": []
   },
   "source": [
    "#### Function to do linewidth maths"
   ]
  },
  {
   "cell_type": "code",
   "execution_count": null,
   "id": "b1da307b-f8f2-43c2-bda5-04e4c4a7abe9",
   "metadata": {
    "tags": []
   },
   "outputs": [],
   "source": [
    "def linewidth_calculator_factory(centre, linewidth):\n",
    "    return partial(linewidth_calculator, centre=centre, linewidth=linewidth)"
   ]
  },
  {
   "cell_type": "markdown",
   "id": "c88b76f1-5dd0-489b-aeb6-c7707c006bff",
   "metadata": {
    "tags": []
   },
   "source": [
    "#### Lorentz lines"
   ]
  },
  {
   "cell_type": "markdown",
   "id": "d8cd0895-e0e8-4f0d-bd94-eed4651914ba",
   "metadata": {},
   "source": [
    "I want some sort of metric for 'near the resonance' and 'far from the resonance'. The natural unit of distance in this instance is the linewidth. The linewidth is given in rad/s so there need to be some conversions to get the equivalent lines in the plots by wavelength, but they are roughly symmetrical around the peak wavelength.\n",
    "\n",
    "Based on the plots of the refractive index below, I think I will consider 'near' to be 'within two linewidths', and 'far' to be 'at least four linewidths away'."
   ]
  },
  {
   "cell_type": "code",
   "execution_count": null,
   "id": "c9e9911a-2c94-40a7-b7e1-4433d417e145",
   "metadata": {
    "tags": []
   },
   "outputs": [],
   "source": [
    "# resonance_line = hv.VLine(680, label='LO resonance wavelength').opts(line_dash='dotted')\n",
    "\n",
    "# Convert from rad/s to Hz\n",
    "lorentz_linewidth_frequency = default_oscillator_params[\"lorentz_linewidth\"] / (2*np.pi)"
   ]
  },
  {
   "cell_type": "code",
   "execution_count": null,
   "id": "0695741c-b2b5-4c29-82b1-ee873787ae35",
   "metadata": {
    "tags": []
   },
   "outputs": [],
   "source": [
    "lorentz_line_frequency = linewidth_calculator_factory(convert_wavelength_and_frequency(680e-9), lorentz_linewidth_frequency)\n",
    "\n",
    "def lorentz_line_wavelength(x=None):\n",
    "    x = -x if x is not None else x\n",
    "    return convert_wavelength_and_frequency(lorentz_line_frequency(x))"
   ]
  },
  {
   "cell_type": "code",
   "execution_count": null,
   "id": "65521285-ea8a-4234-9a6b-811055d2ff90",
   "metadata": {
    "tags": []
   },
   "outputs": [],
   "source": [
    "def lorentz_vlines(x=0, scale=1, mode='wavelength', **kwargs):\n",
    "    if mode == 'wavelength':\n",
    "        line_func = lorentz_line_wavelength\n",
    "    elif mode == 'frequency':\n",
    "        line_func = lorentz_line_frequency\n",
    "    else:\n",
    "        raise TypeError(f\"mode should be 'wavelength' or 'frequency', not {mode}\")\n",
    "        \n",
    "    match x:\n",
    "        case [*xs]:\n",
    "            line_pos = [line_func(x)/scale for x in xs]\n",
    "        case x:\n",
    "            line_pos = line_func(x)/scale\n",
    "            \n",
    "    return vlines(line_pos, **kwargs)"
   ]
  },
  {
   "cell_type": "markdown",
   "id": "c2b92132-090f-46a3-b618-aff86304d38c",
   "metadata": {
    "tags": []
   },
   "source": [
    "### Useful functions"
   ]
  },
  {
   "cell_type": "markdown",
   "id": "f8d97e51-2126-43a4-8b29-b732ebcfb493",
   "metadata": {
    "tags": []
   },
   "source": [
    "#### Select a wavelength or wavelength range based on the distance from the resonance in linewidths."
   ]
  },
  {
   "cell_type": "code",
   "execution_count": null,
   "id": "42226b74-fff9-4d87-b946-4c79a266d8df",
   "metadata": {
    "tags": []
   },
   "outputs": [],
   "source": [
    "def select_lorentz_line(da, lorentz_line=0, window_radius=0):\n",
    "    if window_radius == 0:\n",
    "        wavelength = lorentz_line_wavelength(lorentz_line) * 1e9\n",
    "        wavelength_sel_method = \"nearest\"\n",
    "    else:\n",
    "        wavelength = slice(\n",
    "            lorentz_line_wavelength(lorentz_line - window_radius) * 1e9,\n",
    "            lorentz_line_wavelength(lorentz_line + window_radius) * 1e9,\n",
    "        )\n",
    "        wavelength_sel_method = None\n",
    "    da = da.sel(wavelength=wavelength, method=wavelength_sel_method)\n",
    "    \n",
    "    return da"
   ]
  },
  {
   "cell_type": "code",
   "execution_count": null,
   "id": "adec96f7-ba1f-4772-94e9-19353d682bc1",
   "metadata": {
    "tags": []
   },
   "outputs": [],
   "source": [
    "def cross_section(\n",
    "    dataset,\n",
    "    variable=None,\n",
    "    wavelength=None,\n",
    "    lorentz_line=0,\n",
    "    window_radius=0,\n",
    "    theta=0,\n",
    "    integrate_angle=None,\n",
    "    normalisation=1,\n",
    "):\n",
    "    \"\"\"Select and integrate\"\"\"\n",
    "    da = dataset[variable] if variable is not None else dataset\n",
    "    integration_dims = []\n",
    "\n",
    "    if not integrate_angle:\n",
    "        if theta is not None:\n",
    "            da = da.sel(theta=theta, method=\"nearest\")\n",
    "    else:  # integrate_angle must be a float, so that (theta, integrate_angle) is a slice syntax\n",
    "        da = da.sel(theta=slice(theta, integrate_angle))\n",
    "        integration_dims.append(\"theta\")\n",
    "\n",
    "    match wavelength:\n",
    "        case None:\n",
    "            da = select_lorentz_line(\n",
    "                da, lorentz_line=lorentz_line, window_radius=window_radius\n",
    "            )\n",
    "\n",
    "            if window_radius != 0:\n",
    "                integration_dims.append(\"wavelength\")\n",
    "        case (start, stop, *_):\n",
    "            da = da.sel(wavelength=slice(*wavelength))\n",
    "            integration_dims.append(\"wavelength\")\n",
    "        case _:\n",
    "            da = sel_slice_or_nearest(da, \"wavelength\", wavelength)\n",
    "\n",
    "    if integration_dims:  # if the list isn't empty\n",
    "        da = integrate_da(\n",
    "            da, integration_dims, weighting=1, normalisation=normalisation\n",
    "        )\n",
    "\n",
    "    return da"
   ]
  },
  {
   "cell_type": "markdown",
   "id": "e5270c0b-8536-4d32-aff1-62b9759ea043",
   "metadata": {
    "tags": []
   },
   "source": [
    "### Useful functions"
   ]
  },
  {
   "cell_type": "markdown",
   "id": "eede4746-7905-4ee5-885f-c8bdcc091878",
   "metadata": {
    "tags": []
   },
   "source": [
    "#### Plot a comparison of the reflectance and absorptance of the LOPC with that of the reference slab."
   ]
  },
  {
   "cell_type": "code",
   "execution_count": null,
   "id": "2d0297f4-ac66-435d-ab34-662a47825b75",
   "metadata": {
    "tags": []
   },
   "outputs": [],
   "source": [
    "opts_R = [opts.Curve(color=blue, ylim=(0,1)), opts.Image(cmap='viridis', clim=(0,1)), opts.QuadMesh(cmap='viridis', clim=(0,1)), opts.Violin(violin_fill_color=blue)]\n",
    "\n",
    "def plot_R(variable=\"R\", dataset=None, label_field=\"long_name\", label_append=None, **hvplot_kwargs):\n",
    "    plot = plot_var(variable, dataset, label_field, label_append, **hvplot_kwargs)\n",
    "    plot.opts(*opts_R)\n",
    "    return plot\n",
    "\n",
    "# # test\n",
    "# plot_R(dataset=restacked_pds.mean(\"run\", keep_attrs=True).sel(period=200, excitonic_layer_thickness=50, num_periods=10).squeeze(), x=\"wavelength\", y=\"theta\").opts(cmap=\"cividis\", clim=(None, None))"
   ]
  },
  {
   "cell_type": "code",
   "execution_count": null,
   "id": "ef1a84d7-d53f-46f0-93fd-b2028c8cc71f",
   "metadata": {
    "tags": []
   },
   "outputs": [],
   "source": [
    "opts_T = [opts.Curve(color=yellow, ylim=(0,1)), opts.Image(cmap='cividis', clim=(0,1)), opts.QuadMesh(cmap='cividis', clim=(0,1)), opts.Violin(violin_fill_color=yellow)]\n",
    "\n",
    "def plot_T(variable=\"T\", dataset=None, label_field=\"long_name\", label_append=None, **hvplot_kwargs):\n",
    "    plot = plot_var(variable, dataset, label_field, label_append, **hvplot_kwargs)\n",
    "    plot.opts(*opts_T)\n",
    "    return plot"
   ]
  },
  {
   "cell_type": "code",
   "execution_count": null,
   "id": "3d7f7155-e73b-4ae5-9900-8469db7d0582",
   "metadata": {
    "tags": []
   },
   "outputs": [],
   "source": [
    "opts_A = [opts.Curve(color=red, ylim=(0,1)), opts.Image(cmap='inferno', clim=(0,1)), opts.QuadMesh(cmap='inferno', clim=(0,1)), opts.Violin(violin_fill_color=red)]\n",
    "\n",
    "def plot_A(variable=\"A\", dataset=None, label_field=\"long_name\", label_append=None, **hvplot_kwargs):\n",
    "    plot = plot_var(variable, dataset, label_field, label_append, **hvplot_kwargs)\n",
    "    plot.opts(*opts_A)\n",
    "    return plot"
   ]
  },
  {
   "cell_type": "code",
   "execution_count": null,
   "id": "781c8bc2-0475-494d-ac48-a4ed624f0b64",
   "metadata": {
    "tags": []
   },
   "outputs": [],
   "source": [
    "def plot_vars_to_funcs(plot_vars):\n",
    "    var_func_mapping = {\n",
    "        \"R\": plot_R,\n",
    "        \"T\": plot_T,\n",
    "        \"A\": plot_A,\n",
    "        \"Rs\": partial(plot_R, variable=\"Rs\"),\n",
    "        \"Ts\": partial(plot_T, variable=\"Ts\"),\n",
    "        \"As\": partial(plot_A, variable=\"As\"),\n",
    "        \"Rp\": partial(plot_R, variable=\"Rp\"),\n",
    "        \"Tp\": partial(plot_T, variable=\"Tp\"),\n",
    "        \"Ap\": partial(plot_A, variable=\"Ap\"),\n",
    "        \"R_per_oscillator\": partial(plot_R, variable=\"R_per_oscillator\"),\n",
    "        \"T_per_oscillator\": partial(plot_T, variable=\"T_per_oscillator\"),\n",
    "        \"A_per_oscillator\": partial(plot_A, variable=\"A_per_oscillator\"),\n",
    "        \"Rs_per_oscillator\": partial(plot_R, variable=\"Rs_per_oscillator\"),\n",
    "        \"Ts_per_oscillator\": partial(plot_T, variable=\"Ts_per_oscillator\"),\n",
    "        \"As_per_oscillator\": partial(plot_A, variable=\"As_per_oscillator\"),\n",
    "        \"Rp_per_oscillator\": partial(plot_R, variable=\"Rp_per_oscillator\"),\n",
    "        \"Tp_per_oscillator\": partial(plot_T, variable=\"Tp_per_oscillator\"),\n",
    "        \"Ap_per_oscillator\": partial(plot_A, variable=\"Ap_per_oscillator\"),\n",
    "    }\n",
    "\n",
    "    plot_funcs = []\n",
    "    for var in plot_vars:\n",
    "        try:\n",
    "            func = var_func_mapping[var]\n",
    "        except KeyError:\n",
    "            func = partial(plot_var, variable=var)\n",
    "        plot_funcs.append(func)\n",
    "\n",
    "    return plot_funcs"
   ]
  },
  {
   "cell_type": "code",
   "execution_count": null,
   "id": "7ec96d19-398a-4558-8ffb-38a69a1fa757",
   "metadata": {
    "tags": []
   },
   "outputs": [],
   "source": [
    "# new version\n",
    "def plot_RTA(\n",
    "    period,\n",
    "    excitonic_layer_thickness,\n",
    "    num_periods,\n",
    "    theta,\n",
    "    title=\"\",\n",
    "    include=[\"LOPC\", \"CRS_1\"],\n",
    "    plot_vars=[\"R\", \"T\", \"A\"],\n",
    "    label_override=None,\n",
    "    label_append=None,\n",
    "):\n",
    "    label_field = None  # for debugging\n",
    "    label_append = \"\" if label_append is None else label_append\n",
    "\n",
    "    P = period\n",
    "    t = excitonic_layer_thickness\n",
    "    N = num_periods\n",
    "\n",
    "    plot_funcs = [\n",
    "        partial(func, x=\"wavelength\", label_field=label_field)\n",
    "        for func in plot_vars_to_funcs(plot_vars)\n",
    "    ]\n",
    "    curves = []\n",
    "    if \"LOPC\" in include:\n",
    "        lopc_label = \" (LOPC)\" if label_override is None else label_override\n",
    "        lopc_label += label_append\n",
    "        lopc_sel = restacked_pds.sel(\n",
    "            period=P, excitonic_layer_thickness=t, num_periods=N\n",
    "        ).squeeze()\n",
    "        lopc_sel = sel_or_integrate(lopc_sel, \"theta\", theta, normalisation=1)\n",
    "        lopc_curves = [\n",
    "            plot_func(dataset=lopc_sel, label_append=lopc_label).opts(line_dash=\"solid\")\n",
    "            for plot_func in plot_funcs\n",
    "        ]\n",
    "        curves += lopc_curves\n",
    "    if \"CRS_1\" in include:\n",
    "        crs_1_label = \" (CRS)\" if label_override is None else label_override\n",
    "        crs_1_label += label_append\n",
    "        crs_1_sel = crs_1.sel(total_excitonic_thickness=t * N).squeeze()\n",
    "        crs_1_sel = sel_or_integrate(crs_1_sel, \"theta\", theta, normalisation=1)\n",
    "        crs_1_curves = [\n",
    "            plot_func(dataset=crs_1_sel, label_append=crs_1_label).opts(\n",
    "                line_dash=\"dashed\"\n",
    "            )\n",
    "            for plot_func in plot_funcs\n",
    "        ]\n",
    "        curves += crs_1_curves\n",
    "    if \"FRS_1\" in include:\n",
    "        frs_1_label = \" (FRS)\" if label_override is None else label_override\n",
    "        frs_1_label += label_append\n",
    "        frs_1_sel = frs_1.sel(total_thickness=(P + t) * N).squeeze()\n",
    "        frs_1_sel = sel_or_integrate(frs_1_sel, \"theta\", theta, normalisation=1)\n",
    "        frs_1_curves = [\n",
    "            plot_func(dataset=frs_1_sel, label_append=frs_1_label).opts(\n",
    "                line_dash=\"dotted\"\n",
    "            )\n",
    "            for plot_func in plot_funcs\n",
    "        ]\n",
    "        curves += frs_1_curves\n",
    "\n",
    "    overlay = hv.Overlay(curves).opts(\n",
    "        opts.Curve(\n",
    "            ylim=(0, 1),\n",
    "            ylabel=\"Intensity\",\n",
    "            title=f\"{title}{coordinate_string(period=P, excitonic_layer_thickness=t, num_periods=N, theta=theta)}\",\n",
    "        ),\n",
    "    )\n",
    "\n",
    "    return overlay\n",
    "\n",
    "\n",
    "# # test\n",
    "# display(\n",
    "#     plot_RTA(200, 50, 20, 0, \"test\\n\", include=[\"LOPC\", \"CRS_1\"]).opts(\n",
    "#         legend_position=\"right\"\n",
    "#     )\n",
    "# )\n",
    "\n",
    "# display(\n",
    "#     plot_RTA(\n",
    "#         200,\n",
    "#         50,\n",
    "#         20,\n",
    "#         (10, 50),\n",
    "#         \"test RA only\\n\",\n",
    "#         include=[\"LOPC\", \"CRS_1\"],\n",
    "#         plot_vars=[\"R\", \"A\"],\n",
    "#     ).opts(opts.Overlay(legend_position=\"right\"))\n",
    "# )\n",
    "\n",
    "# display(\n",
    "#     plot_RTA(\n",
    "#         200,\n",
    "#         50,\n",
    "#         20,\n",
    "#         75,\n",
    "#         \"test\\n\",\n",
    "#         include=[\"LOPC\"],\n",
    "#         plot_vars=[\"R_per_oscillator\", \"A_per_oscillator\"],\n",
    "#         label_append=\" test\",\n",
    "#         label_override=\"OVERRIDDEN\",\n",
    "#     ).opts(opts.Curve(ylim=(None, None)), opts.Overlay(legend_position=\"right\"))\n",
    "# )"
   ]
  },
  {
   "cell_type": "markdown",
   "id": "14c8fc08-b9bb-4eb3-9829-9d79ffda1bb8",
   "metadata": {
    "tags": []
   },
   "source": [
    "#### Plot a comparison of normal incidence to integrated"
   ]
  },
  {
   "cell_type": "code",
   "execution_count": null,
   "id": "398241b5-ac97-4c1a-83bd-509c1a8a3b22",
   "metadata": {
    "tags": []
   },
   "outputs": [],
   "source": [
    "def plot_comparison(*comparison_params: tuple[dict, list[\"opts\"]], plot_func=plot_RTA, **shared_params):\n",
    "    param_opts = [(shared_params|comp_params, comp_opts) for comp_params, comp_opts in comparison_params]\n",
    "    plots = [plot_func(**comp_params).opts(*comp_opts) for comp_params, comp_opts in param_opts]\n",
    "    return plots"
   ]
  },
  {
   "cell_type": "code",
   "execution_count": null,
   "id": "834a747f-ebe3-41d3-9779-94d9e112c724",
   "metadata": {
    "tags": []
   },
   "outputs": [],
   "source": [
    "def compare_RTA(*args, opts_cycle=None, plot_func=plot_RTA, **shared_params):\n",
    "    default_opts = [\n",
    "        [opts.Curve(line_dash=style)]\n",
    "        for style in [\"solid\", \"dashed\", \"dotted\", \"dotdash\", \"dashdot\"]\n",
    "    ]\n",
    "    opts_cycle = default_opts if opts_cycle is None else opts_cycle\n",
    "\n",
    "    # comparison_params = list(zip(args, opts_cycle))\n",
    "\n",
    "    plots = plot_comparison(\n",
    "        *zip(args, opts_cycle), plot_func=plot_func, **shared_params\n",
    "    )\n",
    "    overlay = hv.Overlay(plots).opts(opts.Overlay(legend_position=\"right\"))\n",
    "\n",
    "    return overlay\n",
    "\n",
    "\n",
    "# # test\n",
    "# shared_params = {\n",
    "#     \"period\": 250,\n",
    "#     \"excitonic_layer_thickness\": 70,\n",
    "#     \"num_periods\": 30,\n",
    "#     \"include\": [\"LOPC\"],\n",
    "# }\n",
    "# compare_RTA({\"theta\": (0, 75), \"label_override\": \" (integrated)\"}, {\"theta\": 0, \"label_override\": \" (θ = 0)\"}, **shared_params)"
   ]
  },
  {
   "cell_type": "code",
   "execution_count": null,
   "id": "fa59f4cd-5999-4ef5-8c30-84b3da45968c",
   "metadata": {
    "tags": []
   },
   "outputs": [],
   "source": [
    "compare_RTA_normal_vs_integrated = partial(\n",
    "    compare_RTA,\n",
    "    {\"theta\": (0, 75), \"label_override\": \" (integrated)\"},\n",
    "    {\"theta\": 0, \"label_override\": \" (θ = 0)\"},\n",
    "    include=[\"LOPC\"],\n",
    ")\n",
    "\n",
    "# # test\n",
    "# shared_params = {\n",
    "#     \"period\": 250,\n",
    "#     \"excitonic_layer_thickness\": 70,\n",
    "#     \"num_periods\": 30,\n",
    "# }\n",
    "# compare_RTA_normal_vs_integrated(**shared_params)"
   ]
  },
  {
   "cell_type": "markdown",
   "id": "40154047-6e64-4958-94b5-e953c1476e85",
   "metadata": {
    "tags": []
   },
   "source": [
    "#### Plot an enhancement factor."
   ]
  },
  {
   "cell_type": "code",
   "execution_count": null,
   "id": "988eb3ac-9a35-40a7-ab82-4100dc430f13",
   "metadata": {
    "tags": []
   },
   "outputs": [],
   "source": [
    "def plot_ef(\n",
    "    variable,\n",
    "    dataset,\n",
    "    sel=None,\n",
    "    sel_method=None,\n",
    "    title=\"\",\n",
    "    *,\n",
    "    x=\"wavelength\",\n",
    "    y=None,\n",
    "):\n",
    "    sel = {} if sel is None else sel\n",
    "    da = dataset[variable].sel(**sel, method=sel_method).squeeze()\n",
    "    if y is None:\n",
    "        plot = da.hvplot(x=x, label=f\"{variable} enhancement factor\")\n",
    "        plot *= hv.HLine(1).opts(line_dash=\"dotted\")\n",
    "    else:\n",
    "        plot = da.hvplot(\n",
    "            kind=\"image\",\n",
    "            x=x,\n",
    "            y=y,\n",
    "            label=f\"{variable} enhancement factor\",\n",
    "            cmap=\"RdBu_r\",\n",
    "            clim=(0.5, 1.5),\n",
    "        )\n",
    "    plot = plot.opts(\n",
    "        opts.Curve(\n",
    "            title=f\"{title}{coordinate_string(**sel)}\",\n",
    "        ),\n",
    "        opts.Overlay(\n",
    "            title=f\"{title}{coordinate_string(**sel)}\",\n",
    "        ),\n",
    "    )\n",
    "\n",
    "    return plot\n",
    "\n",
    "\n",
    "# # test\n",
    "# sel_1 = {\"period\": 200, \"excitonic_layer_thickness\": 40, \"num_periods\": 10, \"theta\": 30}\n",
    "# sel_2 = {\"period\": 200, \"excitonic_layer_thickness\": 40, \"num_periods\": 10, \"theta\": 0}\n",
    "# sel_3 = {\"period\": 200, \"excitonic_layer_thickness\": 40, \"num_periods\": 10}\n",
    "# display(\n",
    "#     (\n",
    "#         plot_ef(\"As\", restacked_norm_1, sel_1, \"nearest\", \"test\\n\")\n",
    "#         + plot_ef(\"As\", restacked_norm_2, sel_2, title=\"test2\\n\")\n",
    "#     ).cols(1)\n",
    "# )\n",
    "# display(\n",
    "#     plot_ef(\"As\", restacked_norm_1, sel_3, title=\"test3\\n\", x=\"theta\", y=\"wavelength\").opts(clim=(0, 2), cmap=\"RdBu_r\")\n",
    "# )"
   ]
  },
  {
   "cell_type": "markdown",
   "id": "dae4b39c-20c1-4b58-8eeb-ca3998311b8a",
   "metadata": {
    "tags": []
   },
   "source": [
    "#### Plot a difference factor."
   ]
  },
  {
   "cell_type": "code",
   "execution_count": null,
   "id": "c4ef9987-715b-4b76-acef-b8cae0af43e0",
   "metadata": {
    "tags": []
   },
   "outputs": [],
   "source": [
    "def plot_df(\n",
    "    variable,\n",
    "    dataset,\n",
    "    sel=None,\n",
    "    sel_method=None,\n",
    "    title=\"\",\n",
    "    *,\n",
    "    x=\"wavelength\",\n",
    "    y=None,\n",
    "):\n",
    "    sel = {} if sel is None else sel\n",
    "    da = dataset[variable].sel(**sel, method=sel_method).squeeze()\n",
    "    if y is None:\n",
    "        plot = da.hvplot(x=x, label=f\"{variable} difference factor\")\n",
    "        plot *= hv.HLine(0).opts(line_dash=\"dotted\")\n",
    "    else:\n",
    "        plot = da.hvplot(\n",
    "            kind=\"image\",\n",
    "            x=x,\n",
    "            y=y,\n",
    "            label=f\"{variable} difference factor\",\n",
    "            cmap=\"RdBu_r\",\n",
    "            clim=(-0.5, 0.5),\n",
    "        )\n",
    "    plot = plot.opts(\n",
    "        opts.Curve(\n",
    "            title=f\"{title}{coordinate_string(**sel)}\",\n",
    "        ),\n",
    "        opts.Overlay(\n",
    "            title=f\"{title}{coordinate_string(**sel)}\",\n",
    "        ),\n",
    "    )\n",
    "\n",
    "    return plot"
   ]
  },
  {
   "cell_type": "markdown",
   "id": "8583522a-69c0-4318-8216-04d16d51e696",
   "metadata": {},
   "source": [
    "# Plots"
   ]
  },
  {
   "cell_type": "code",
   "execution_count": null,
   "id": "850a81e7-3282-4b4c-bed6-a3d0c7893243",
   "metadata": {},
   "outputs": [],
   "source": []
  },
  {
   "cell_type": "markdown",
   "id": "126b4d8b-8352-4097-a4de-272308499733",
   "metadata": {
    "tags": []
   },
   "source": [
    "## Light spectra from Endler"
   ]
  },
  {
   "cell_type": "code",
   "execution_count": null,
   "id": "fc54422d-1a70-457d-b294-6a2518bfd5a8",
   "metadata": {
    "tags": []
   },
   "outputs": [],
   "source": [
    "Endler_path = data_path / \"Endler_data\""
   ]
  },
  {
   "cell_type": "code",
   "execution_count": null,
   "id": "bb855f37-82d2-4cbd-9b4f-21486280dd72",
   "metadata": {
    "tags": []
   },
   "outputs": [],
   "source": [
    "forest_shade_data = pd.read_csv(Endler_path / \"forest_shade_sunny_Endler_1993.csv\", names=[\"Wavelength\", \"Intensity\"])\n",
    "woodland_shade_data = pd.read_csv(Endler_path / \"woodland_shade_sunny_Endler_1993.csv\", names=[\"Wavelength\", \"Intensity\"])\n",
    "small_gap_data = pd.read_csv(Endler_path / \"direct_sunlight_small_gaps_Endler_1993.csv\", names=[\"Wavelength\", \"Intensity\"])\n",
    "no_canopy_data = pd.read_csv(Endler_path / \"direct_sunlight_no_canopy_Endler_1993.csv\", names=[\"Wavelength\", \"Intensity\"])\n",
    "pisonia_data = pd.read_csv(Endler_path / \"forest_shade_pisonia_Endler_1993.csv\", names=[\"Wavelength\", \"Intensity\"])\n",
    "leaf_data = pd.read_csv(Endler_path / \"leaf_sun_Endler_1993.csv\", names=[\"Wavelength\", \"Intensity\"])"
   ]
  },
  {
   "cell_type": "code",
   "execution_count": null,
   "id": "ca394c45-10c6-4986-aa30-0149143c841e",
   "metadata": {
    "tags": []
   },
   "outputs": [],
   "source": [
    "Endler_data = {\n",
    "    \"Forest Shade\": forest_shade_data,\n",
    "    \"Woodland Shade\": woodland_shade_data,\n",
    "    \"Small Gap\": small_gap_data,\n",
    "    \"No Canopy\": no_canopy_data,\n",
    "    \"Pisonia\": pisonia_data,\n",
    "    \"Leaf\": leaf_data,\n",
    "}"
   ]
  },
  {
   "cell_type": "markdown",
   "id": "0baea9f9-b9a8-404b-843a-902d6c2165cd",
   "metadata": {},
   "source": [
    "According to the caption of Fig. 6, photon intensity was meant to be recorded with 2 nm spacing. I will assume that this is correct and every measurement was meant to be made exactly on the wavelengths 400, 402, ... 700 nm. The deviations from this are ascribed to error in WebPlotDigitizer."
   ]
  },
  {
   "cell_type": "markdown",
   "id": "5209e1f5-3e3f-4251-88c3-61da70dad790",
   "metadata": {},
   "source": [
    "The curves from Endler have offsets applied to them so they can be presented side-by-side in the same plots. Reverse the offsets:"
   ]
  },
  {
   "cell_type": "code",
   "execution_count": null,
   "id": "907ee786-6740-4b36-b8b1-99946949324e",
   "metadata": {
    "tags": []
   },
   "outputs": [],
   "source": [
    "Endler_data_offsets = {\n",
    "    \"Forest Shade\": 0.050,\n",
    "    \"Woodland Shade\": 0,\n",
    "    \"Small Gap\": 0.050,\n",
    "    \"No Canopy\": 0.115,\n",
    "    \"Pisonia\": 0,\n",
    "    \"Leaf\": 0,\n",
    "}"
   ]
  },
  {
   "cell_type": "code",
   "execution_count": null,
   "id": "9cd1f334-3a64-4c67-afaf-cd09d9e803c6",
   "metadata": {
    "tags": []
   },
   "outputs": [],
   "source": [
    "for label in Endler_data:\n",
    "    df = Endler_data[label]\n",
    "    offset = Endler_data_offsets[label]\n",
    "    df[\"Wavelength\"] = np.arange(400, 701, 2)  # align DataFrames\n",
    "    df[\"Intensity\"] -= offset  # remove offsets\n",
    "    # df[\"Normalised Intensity\"] = df[\"Intensity\"]/df[\"Intensity\"].max()  # normalise to max values\n",
    "    df[\"Normalised Intensity\"] = df[\"Intensity\"]/df.loc[lambda df: df[\"Wavelength\"]==550][\"Intensity\"].iloc[0]  # normalise to 550 nm values"
   ]
  },
  {
   "cell_type": "code",
   "execution_count": null,
   "id": "2256c051-5d81-4b1e-ae6e-ea3e856fc409",
   "metadata": {
    "tags": []
   },
   "outputs": [],
   "source": [
    "overlay = hv.Overlay(\n",
    "    [\n",
    "        # hv.Curve((df[\"Wavelength\"], df[\"Normalised Intensity\"]), kdims=[wavelength_dim], vdims=[\"Normalised Intensity\"], label=label)\n",
    "        df.hvplot(x=\"Wavelength\", y=\"Normalised Intensity\", label=label)\n",
    "        for label, df in Endler_data.items()# if label != \"Pisonia\"\n",
    "    ]\n",
    ")"
   ]
  },
  {
   "cell_type": "code",
   "execution_count": null,
   "id": "6b098883-e1f4-4e03-80f7-d9b4856a3722",
   "metadata": {
    "tags": []
   },
   "outputs": [],
   "source": [
    "overlay = overlay.redim(Wavelength=wavelength_dim)\n",
    "\n",
    "overlay.opts(\n",
    "    opts.Curve(\n",
    "        ylim=(0, 1.2),\n",
    "        line_dash=hv.Cycle(\n",
    "            [\"solid\", \"dashdot\", \"dashed\", \"dotted\", \"dotdash\", \"solid\"]\n",
    "        ),\n",
    "        color=hv.Cycle(\n",
    "            [\n",
    "                default_color_cycle.values[0],\n",
    "                default_color_cycle.values[1],\n",
    "                default_color_cycle.values[4],\n",
    "                default_color_cycle.values[3],\n",
    "                default_color_cycle.values[2],\n",
    "                default_color_cycle.values[5],\n",
    "            ]\n",
    "        ),\n",
    "    ),\n",
    "    opts.Overlay(\n",
    "        legend_position=\"bottom_right\",\n",
    "        legend_cols=3,\n",
    "        legend_opts={\"background_fill_alpha\": 0, \"border_line_alpha\": 0},\n",
    "        fontscale=1.2,  # this plot will be 4x bigger in paper, so don't need fontscale=2\n",
    "    ),\n",
    ")"
   ]
  },
  {
   "cell_type": "code",
   "execution_count": null,
   "id": "940d729e-5ab0-4960-8ed1-fae62d2e4d39",
   "metadata": {
    "tags": []
   },
   "outputs": [],
   "source": [
    "hv.save(overlay, filename=fig_path / \"light_spectra_550_Endler_1993\", fmt=\"png\", toolbar=False)"
   ]
  },
  {
   "cell_type": "code",
   "execution_count": null,
   "id": "d5958297-0338-422d-b615-7a97624f0f41",
   "metadata": {
    "tags": []
   },
   "outputs": [],
   "source": [
    "from scipy import integrate"
   ]
  },
  {
   "cell_type": "code",
   "execution_count": null,
   "id": "80191b99-931a-4439-ae79-74a6c5d7c108",
   "metadata": {
    "tags": []
   },
   "outputs": [],
   "source": [
    "for df in Endler_data.values():\n",
    "    df[\"Normalised by Total\"] = df[\"Intensity\"]/(integrate.trapezoid(df[\"Intensity\"], x=df[\"Wavelength\"]))  # normalise to total intensity\n",
    "max_intensity = max([max(df[\"Normalised by Total\"]) for label, df in Endler_data.items() if label != \"Leaf\"])\n",
    "for df in Endler_data.values():\n",
    "    df[\"Normalised Intensity\"] = df[\"Normalised by Total\"]/max_intensity  # normalise to max intensity in whole dataset"
   ]
  },
  {
   "cell_type": "code",
   "execution_count": null,
   "id": "5b9ac4d1-4eab-420c-a7a5-9b884c62aaea",
   "metadata": {
    "tags": []
   },
   "outputs": [],
   "source": [
    "overlay = hv.Overlay(\n",
    "    [\n",
    "        # hv.Curve((df[\"Wavelength\"], df[\"Normalised Intensity\"]), kdims=[wavelength_dim], vdims=[\"Normalised Intensity\"], label=label)\n",
    "        df.hvplot(x=\"Wavelength\", y=\"Normalised Intensity\", label=label)\n",
    "        for label, df in Endler_data.items() if label != \"Leaf\"\n",
    "    ]\n",
    ")"
   ]
  },
  {
   "cell_type": "code",
   "execution_count": null,
   "id": "eee93e15-3903-4c6d-bda6-66401fb37444",
   "metadata": {
    "tags": []
   },
   "outputs": [],
   "source": [
    "overlay = overlay.redim(Wavelength=wavelength_dim)\n",
    "\n",
    "overlay.opts(\n",
    "    opts.Curve(\n",
    "        ylim=(0, 1),\n",
    "        line_dash=hv.Cycle(\n",
    "            [\"solid\", \"dashdot\", \"dashed\", \"dotted\", \"dotdash\", \"solid\"]\n",
    "        ),\n",
    "        color=hv.Cycle(\n",
    "            [\n",
    "                default_color_cycle.values[0],\n",
    "                default_color_cycle.values[1],\n",
    "                default_color_cycle.values[4],\n",
    "                default_color_cycle.values[3],\n",
    "                default_color_cycle.values[2],\n",
    "                default_color_cycle.values[5],\n",
    "            ]\n",
    "        ),\n",
    "    ),\n",
    "    opts.Overlay(\n",
    "        legend_position=\"bottom_right\",\n",
    "        legend_cols=3,\n",
    "        legend_opts={\"background_fill_alpha\": 0, \"border_line_alpha\": 0},\n",
    "        fontscale=1.2,  # this plot will be 4x bigger in paper, so don't need fontscale=2\n",
    "    ),\n",
    ")"
   ]
  },
  {
   "cell_type": "code",
   "execution_count": null,
   "id": "4b89cd4b-9145-40e4-af53-b877303277b5",
   "metadata": {
    "tags": []
   },
   "outputs": [],
   "source": [
    "hv.save(overlay, filename=fig_path / \"light_spectra_total_max_Endler_1993\", fmt=\"png\", toolbar=False)"
   ]
  },
  {
   "cell_type": "code",
   "execution_count": null,
   "id": "46e075ab-61f9-457c-9d15-7373fd1245ca",
   "metadata": {
    "tags": []
   },
   "outputs": [],
   "source": [
    "overlay = hv.Overlay(\n",
    "    [\n",
    "        # hv.Curve((df[\"Wavelength\"], df[\"Normalised Intensity\"]), kdims=[wavelength_dim], vdims=[\"Normalised Intensity\"], label=label)\n",
    "        df.hvplot(x=\"Wavelength\", y=\"Intensity\", label=label)\n",
    "        for label, df in Endler_data.items() if label != \"Leaf\"\n",
    "    ]\n",
    ")"
   ]
  },
  {
   "cell_type": "code",
   "execution_count": null,
   "id": "e739e7db-e045-40fe-aebd-6ddb650109c6",
   "metadata": {
    "tags": []
   },
   "outputs": [],
   "source": [
    "overlay = overlay.redim(Wavelength=wavelength_dim)\n",
    "\n",
    "overlay.opts(\n",
    "    opts.Curve(\n",
    "        ylim=(0, 0.123),\n",
    "        line_dash=hv.Cycle(\n",
    "            [\"solid\", \"dashdot\", \"dashed\", \"dotted\", \"dotdash\", \"solid\"]\n",
    "        ),\n",
    "        color=hv.Cycle(\n",
    "            [\n",
    "                default_color_cycle.values[0],\n",
    "                default_color_cycle.values[1],\n",
    "                default_color_cycle.values[4],\n",
    "                default_color_cycle.values[3],\n",
    "                default_color_cycle.values[2],\n",
    "                default_color_cycle.values[5],\n",
    "            ]\n",
    "        ),\n",
    "    ),\n",
    "    opts.Overlay(\n",
    "        legend_position=\"bottom_right\",\n",
    "        legend_cols=3,\n",
    "        legend_opts={\"background_fill_alpha\": 0, \"border_line_alpha\": 0},\n",
    "        fontscale=1.2,  # this plot will be 4x bigger in paper, so don't need fontscale=2\n",
    "    ),\n",
    ")"
   ]
  },
  {
   "cell_type": "code",
   "execution_count": null,
   "id": "51f4d878-70ef-4b0d-a2ca-fd5bb875e6b5",
   "metadata": {
    "tags": []
   },
   "outputs": [],
   "source": [
    "hv.save(overlay, filename=fig_path / \"light_spectra_total_Endler_1993\", fmt=\"png\", toolbar=False)"
   ]
  },
  {
   "cell_type": "markdown",
   "id": "eebbd6a3-5f40-4068-8065-2ad4283f90cb",
   "metadata": {
    "tags": []
   },
   "source": [
    "## Direct-diffuse differentiation"
   ]
  },
  {
   "cell_type": "code",
   "execution_count": null,
   "id": "cb959421-c289-4dd0-83d8-6e3ab3dc3176",
   "metadata": {
    "tags": []
   },
   "outputs": [],
   "source": [
    "P = 300\n",
    "elt = 30\n",
    "N = 10\n",
    "theta = (0, 45)\n",
    "fig = plot_R(\n",
    "    dataset=restacked_pds.sel(\n",
    "        period=P, excitonic_layer_thickness=elt, num_periods=N\n",
    "    ).sel(theta=slice(*theta)).squeeze(),\n",
    "    x=\"wavelength\",\n",
    "    y=\"theta\",\n",
    ")\n",
    "fig.opts(opts.Image(clim=(0,None)))"
   ]
  },
  {
   "cell_type": "code",
   "execution_count": null,
   "id": "23171763-d8ac-4d61-9f25-c631c2abefe4",
   "metadata": {
    "tags": []
   },
   "outputs": [],
   "source": [
    "fig = compare_RTA_normal_vs_integrated(\n",
    "    {\"theta\": 10, \"label_override\": \" (θ = 10)\"},\n",
    "    {\"theta\": 20, \"label_override\": \" (θ = 20)\"},\n",
    "    {\"theta\": 30, \"label_override\": \" (θ = 30)\"},\n",
    "    period=P,\n",
    "    excitonic_layer_thickness=elt,\n",
    "    num_periods=N,\n",
    "    plot_vars=[\"R\"],\n",
    "    include=[\"LOPC\"],\n",
    ")\n",
    "fig.opts(opts.Curve(ylim=(0, None)))"
   ]
  },
  {
   "cell_type": "code",
   "execution_count": null,
   "id": "fc3e61dd-0c8f-4d00-b886-d0f954ec3cde",
   "metadata": {
    "tags": []
   },
   "outputs": [],
   "source": [
    "fig = compare_RTA_normal_vs_integrated(period=P, excitonic_layer_thickness=elt, num_periods=N, plot_vars=[\"R\"])\n",
    "fig.opts(opts.Curve(ylim=(0, None)))"
   ]
  },
  {
   "cell_type": "code",
   "execution_count": null,
   "id": "33261a24-464a-41d0-8a49-0c2642e170d1",
   "metadata": {
    "tags": []
   },
   "outputs": [],
   "source": [
    "P = 200\n",
    "elt = 30\n",
    "N = 10\n",
    "theta = (0, 45)\n",
    "fig = plot_R(\n",
    "    dataset=restacked_pds.sel(\n",
    "        period=P, excitonic_layer_thickness=elt, num_periods=N\n",
    "    ).sel(theta=slice(*theta)).squeeze(),\n",
    "    x=\"wavelength\",\n",
    "    y=\"theta\",\n",
    ")\n",
    "fig.opts(opts.Image(clim=(0,None)))"
   ]
  },
  {
   "cell_type": "code",
   "execution_count": null,
   "id": "4411eed7-3ff7-4fdb-b8e5-1d89cf0d8e7e",
   "metadata": {
    "tags": []
   },
   "outputs": [],
   "source": [
    "fig = compare_RTA_normal_vs_integrated(\n",
    "    {\"theta\": 10, \"label_override\": \" (θ = 10)\"},\n",
    "    {\"theta\": 20, \"label_override\": \" (θ = 20)\"},\n",
    "    {\"theta\": 30, \"label_override\": \" (θ = 30)\"},\n",
    "    period=P,\n",
    "    excitonic_layer_thickness=elt,\n",
    "    num_periods=N,\n",
    "    plot_vars=[\"R\"],\n",
    "    include=[\"LOPC\"],\n",
    ")\n",
    "fig.opts(opts.Curve(ylim=(0, None)))"
   ]
  },
  {
   "cell_type": "code",
   "execution_count": null,
   "id": "5e220cb4-a480-4c49-b916-666bfa615a1e",
   "metadata": {
    "tags": []
   },
   "outputs": [],
   "source": [
    "fig = compare_RTA_normal_vs_integrated(period=P, excitonic_layer_thickness=elt, num_periods=N, plot_vars=[\"R\"])\n",
    "fig.opts(opts.Curve(ylim=(0, None)))"
   ]
  },
  {
   "cell_type": "code",
   "execution_count": null,
   "id": "41a63370-62b8-4b23-9335-600a8603167e",
   "metadata": {
    "tags": []
   },
   "outputs": [],
   "source": [
    "restacked_pds"
   ]
  },
  {
   "cell_type": "code",
   "execution_count": null,
   "id": "4c3a9104-0877-47cb-ac58-e5537b12b297",
   "metadata": {
    "tags": []
   },
   "outputs": [],
   "source": [
    "plot_RTA(period=200, excitonic_layer_thickness=20, num_periods=10, theta=0, include=[\"LOPC\"])"
   ]
  },
  {
   "cell_type": "markdown",
   "id": "34a3b6de-d6d5-43f7-a811-871afdf61fdc",
   "metadata": {},
   "source": [
    "### Broadband reflectance (generous assumptions)"
   ]
  },
  {
   "cell_type": "code",
   "execution_count": null,
   "id": "7d11bf75-acc6-4e07-a6c1-ad9762f5948e",
   "metadata": {
    "tags": []
   },
   "outputs": [],
   "source": [
    "N = 30  # actual optimum is 17\n",
    "elt = 40\n",
    "theta_range = (0, 70)\n",
    "period_range = (elt, elt+310)\n",
    "normal_dataset = integrate_da(\n",
    "    restacked_pds.sel(num_periods=N, excitonic_layer_thickness=elt)\n",
    "    .sel(theta=0)\n",
    "    .squeeze(),\n",
    "    dim=\"wavelength\",\n",
    "    normalisation=1,\n",
    ")\n",
    "angle_dataset = integrate_da(\n",
    "    restacked_pds.sel(num_periods=N, excitonic_layer_thickness=elt)\n",
    "    .sel(theta=slice(*theta_range))\n",
    "    .squeeze(),\n",
    "    dim=[\"wavelength\", \"theta\"],\n",
    "    normalisation=1,\n",
    ")\n",
    "overlay = (\n",
    "    compare_RTA(\n",
    "        {\"dataset\": angle_dataset, \"label_append\": \" (integrated)\"},\n",
    "        {\"dataset\": normal_dataset, \"label_append\": \" (θ = 0)\"},\n",
    "        plot_func=plot_R,\n",
    "        label_field=None,\n",
    "        x=\"period\",\n",
    "    )\n",
    ").redim(period=period_dim)\n",
    "\n",
    "overlay.opts(\n",
    "    opts.Curve(ylabel=\"R_tot\", ylim=(0, None), xlim=period_range),\n",
    "    opts.Overlay(legend_position=\"top_left\"),\n",
    ")"
   ]
  },
  {
   "cell_type": "code",
   "execution_count": null,
   "id": "d5d50f34-957b-4a0f-9515-b3ba77f68cff",
   "metadata": {
    "tags": []
   },
   "outputs": [],
   "source": [
    "hv.save(overlay, filename=fig_path / \"Rtot_normal_vs_integrated_comparison_broadband_generous\", fmt=\"png\", toolbar=False)"
   ]
  },
  {
   "cell_type": "code",
   "execution_count": null,
   "id": "c14acdc7-e319-40ab-bb74-29f642d89b62",
   "metadata": {
    "tags": []
   },
   "outputs": [],
   "source": [
    "overlay = (\n",
    "    plot_df(variable=\"R\", dataset=(normal_dataset - angle_dataset), x=\"period\")\n",
    ").redim(period=period_dim, R=\"R_tot (difference)\")\n",
    "overlay.opts(opts.Curve(xlim=period_range, color=blue))"
   ]
  },
  {
   "cell_type": "code",
   "execution_count": null,
   "id": "046f92d8-d36c-4c5f-b4bd-4d447295ab69",
   "metadata": {
    "tags": []
   },
   "outputs": [],
   "source": [
    "hv.save(overlay, filename=fig_path / \"Rtot_normal_vs_integrated_difference_broadband_generous\", fmt=\"png\", toolbar=False)"
   ]
  },
  {
   "cell_type": "code",
   "execution_count": null,
   "id": "79d71bbe-7138-4151-9e55-535327857209",
   "metadata": {
    "tags": []
   },
   "outputs": [],
   "source": [
    "overlay = (\n",
    "    plot_ef(variable=\"R\", dataset=(normal_dataset / angle_dataset), x=\"period\")\n",
    ").redim(period=period_dim, R=\"R_tot (ratio)\")\n",
    "overlay.opts(opts.Curve(xlim=period_range, color=blue))"
   ]
  },
  {
   "cell_type": "code",
   "execution_count": null,
   "id": "d338edd3-c80c-439c-a9a1-b8d786c9ee63",
   "metadata": {
    "tags": []
   },
   "outputs": [],
   "source": [
    "hv.save(overlay, filename=fig_path / \"Rtot_normal_vs_integrated_ratio_broadband_generous\", fmt=\"png\", toolbar=False)"
   ]
  },
  {
   "cell_type": "code",
   "execution_count": null,
   "id": "76bdd6df-dbfc-43bb-b1da-8744823a2ba4",
   "metadata": {
    "tags": []
   },
   "outputs": [],
   "source": [
    "inverse_normal_dataset = 1 - normal_dataset\n",
    "inverse_angle_dataset = 1 - angle_dataset\n",
    "overlay = (\n",
    "    compare_RTA(\n",
    "        {\"dataset\": inverse_angle_dataset, \"label\": \"1-R (integrated)\"},\n",
    "        {\"dataset\": inverse_normal_dataset, \"label\": \"1-R (θ = 0)\"},\n",
    "        plot_func=plot_R,\n",
    "        # label_field=None,\n",
    "        x=\"period\",\n",
    "    )\n",
    ").redim(period=period_dim)\n",
    "\n",
    "overlay.opts(\n",
    "    opts.Curve(ylabel=\"1-R_tot\", ylim=(None, 1), xlim=period_range),\n",
    "    opts.Overlay(legend_position=\"bottom_left\"),\n",
    ")"
   ]
  },
  {
   "cell_type": "code",
   "execution_count": null,
   "id": "21ec6411-e886-4a96-8fe4-ae0187b5f7ef",
   "metadata": {
    "tags": []
   },
   "outputs": [],
   "source": [
    "overlay = (\n",
    "    plot_ef(variable=\"R\", dataset=(inverse_normal_dataset / inverse_angle_dataset), x=\"period\")\n",
    ").redim(period=period_dim, R=\"1-R_tot (ratio)\")\n",
    "overlay.opts(opts.Curve(xlim=period_range, color=blue))"
   ]
  },
  {
   "cell_type": "code",
   "execution_count": null,
   "id": "e7f75492-eb76-493f-b311-b2977043f906",
   "metadata": {
    "tags": []
   },
   "outputs": [],
   "source": [
    "hv.save(overlay, filename=fig_path / \"inverse_Rtot_normal_vs_integrated_ratio_broadband_generous\", fmt=\"png\", toolbar=False)"
   ]
  },
  {
   "cell_type": "code",
   "execution_count": null,
   "id": "404f282f-e141-455d-8923-df31b4b94166",
   "metadata": {
    "tags": []
   },
   "outputs": [],
   "source": [
    "# peak is at Lambda = 180\n",
    "P = 180\n",
    "fig = compare_RTA_normal_vs_integrated(period=P, excitonic_layer_thickness=elt, num_periods=N, plot_vars=[\"R\"])\n",
    "fig.opts(opts.Curve(ylabel=\"R\", ylim=(0, None)),opts.Overlay(legend_position=\"top_right\"))"
   ]
  },
  {
   "cell_type": "code",
   "execution_count": null,
   "id": "901c0b82-b3a4-4582-9a6d-4e6958874630",
   "metadata": {
    "tags": []
   },
   "outputs": [],
   "source": [
    "hv.save(fig, filename=fig_path / \"R_LOPC_1D_wl_P180_elt40_N30_th_normal_vs_integrated_comparison_broadband_generous\", fmt=\"png\", toolbar=False)"
   ]
  },
  {
   "cell_type": "code",
   "execution_count": null,
   "id": "40612af7-d5c0-4dac-8a90-7677aff075cf",
   "metadata": {
    "tags": []
   },
   "outputs": [],
   "source": [
    "fig = plot_R(\n",
    "    dataset=restacked_pds.sel(\n",
    "        period=P, excitonic_layer_thickness=elt, num_periods=N\n",
    "    ).sel(theta=slice(*theta_range)).squeeze(),\n",
    "    x=\"wavelength\",\n",
    "    y=\"theta\",\n",
    ")\n",
    "fig.opts(opts.Image(clim=(0,None), title=\"\"))"
   ]
  },
  {
   "cell_type": "code",
   "execution_count": null,
   "id": "3e8ea8c7-60d6-452d-909d-8b0a98f42974",
   "metadata": {
    "tags": []
   },
   "outputs": [],
   "source": [
    "hv.save(fig, filename=fig_path / \"R_LOPC_2D_wl_th_P180_elt40_N30_broadband_generous\", fmt=\"png\", toolbar=False)"
   ]
  },
  {
   "cell_type": "code",
   "execution_count": null,
   "id": "461512cc-4053-43e7-82bd-c7fe8f473473",
   "metadata": {
    "tags": []
   },
   "outputs": [],
   "source": [
    "# second peak is at Lambda = 260\n",
    "P = 260\n",
    "fig = compare_RTA_normal_vs_integrated(period=P, excitonic_layer_thickness=elt, num_periods=N, plot_vars=[\"R\"])\n",
    "fig.opts(opts.Curve(ylabel=\"R\", ylim=(0, None)),opts.Overlay(legend_position=\"top_left\"))"
   ]
  },
  {
   "cell_type": "code",
   "execution_count": null,
   "id": "e26a5e1b-f891-48b6-8cb0-7275be807033",
   "metadata": {
    "tags": []
   },
   "outputs": [],
   "source": [
    "hv.save(fig, filename=fig_path / \"R_LOPC_1D_wl_P260_elt40_N30_th_normal_vs_integrated_comparison_broadband_generous\", fmt=\"png\", toolbar=False)"
   ]
  },
  {
   "cell_type": "code",
   "execution_count": null,
   "id": "0e034418-52a0-47bd-b584-c216294b8fe1",
   "metadata": {
    "tags": []
   },
   "outputs": [],
   "source": [
    "fig = plot_R(\n",
    "    dataset=restacked_pds.sel(\n",
    "        period=P, excitonic_layer_thickness=elt, num_periods=N\n",
    "    ).sel(theta=slice(*theta_range)).squeeze(),\n",
    "    x=\"wavelength\",\n",
    "    y=\"theta\",\n",
    ")\n",
    "fig.opts(opts.Image(clim=(0,None), title=\"\"))"
   ]
  },
  {
   "cell_type": "code",
   "execution_count": null,
   "id": "e8e0e92c-2d4e-4a6b-98f5-e73b09fded05",
   "metadata": {
    "tags": []
   },
   "outputs": [],
   "source": [
    "hv.save(fig, filename=fig_path / \"R_LOPC_2D_wl_th_P260_elt40_N30_broadband_generous\", fmt=\"png\", toolbar=False)"
   ]
  },
  {
   "cell_type": "markdown",
   "id": "d1490fb3-ba45-41cc-81de-c058de268183",
   "metadata": {},
   "source": [
    "### Narrowband reflectance (generous assumptions)"
   ]
  },
  {
   "cell_type": "code",
   "execution_count": null,
   "id": "f43ca154-e165-481c-bf9d-75e0ac47aa9f",
   "metadata": {
    "tags": []
   },
   "outputs": [],
   "source": [
    "lorentz_line = 2\n",
    "window_radius = 1\n",
    "N = 30  # actual optimum is 17\n",
    "elt = 40\n",
    "theta_range = (0, 70)\n",
    "period_range = (elt, elt+310)\n",
    "\n",
    "normal_dataset = integrate_da(\n",
    "    select_lorentz_line(restacked_pds, lorentz_line, window_radius)\n",
    "    .sel(num_periods=N, excitonic_layer_thickness=elt)\n",
    "    .sel(theta=0)\n",
    "    .squeeze(),\n",
    "    dim=\"wavelength\",\n",
    "    normalisation=1,\n",
    ")\n",
    "angle_dataset = integrate_da(\n",
    "    select_lorentz_line(restacked_pds, lorentz_line, window_radius)\n",
    "    .sel(num_periods=N, excitonic_layer_thickness=elt)\n",
    "    .sel(theta=slice(*theta_range))\n",
    "    .squeeze(),\n",
    "    dim=[\"wavelength\", \"theta\"],\n",
    "    normalisation=1,\n",
    ")\n",
    "lines = lorentz_vlines(\n",
    "    [lorentz_line - window_radius, lorentz_line + window_radius], scale=1e-9\n",
    ").opts(\n",
    "    opts.VLine(line_color=\"white\", line_dash=\"dotted\"),\n",
    ")\n",
    "shade = hv.VSpan(lines.VLine.I.x, lines.VLine.II.x).opts(alpha=0.1, color=\"gray\")\n",
    "\n",
    "overlay = (\n",
    "    compare_RTA(\n",
    "        {\"dataset\": angle_dataset, \"label_append\": \" (integrated)\"},\n",
    "        {\"dataset\": normal_dataset, \"label_append\": \" (θ = 0)\"},\n",
    "        plot_func=plot_R,\n",
    "        label_field=None,\n",
    "        x=\"period\",\n",
    "    )\n",
    ").redim(period=period_dim)\n",
    "\n",
    "overlay.opts(\n",
    "    opts.Curve(ylabel=\"R_tot\", ylim=(0, None), xlim=period_range),\n",
    "    opts.Overlay(legend_position=\"top_left\"),\n",
    ")"
   ]
  },
  {
   "cell_type": "code",
   "execution_count": null,
   "id": "540ee225-6a7e-4649-9792-9ae3fff3e4c5",
   "metadata": {
    "tags": []
   },
   "outputs": [],
   "source": [
    "hv.save(overlay, filename=fig_path / \"Rtot_normal_vs_integrated_comparison_narrowband_generous\", fmt=\"png\", toolbar=False)"
   ]
  },
  {
   "cell_type": "code",
   "execution_count": null,
   "id": "2bdd7278-af74-4916-9025-c659f4e8273f",
   "metadata": {
    "tags": []
   },
   "outputs": [],
   "source": [
    "overlay = (\n",
    "    plot_df(variable=\"R\", dataset=(normal_dataset - angle_dataset), x=\"period\")\n",
    ").redim(period=period_dim, R=\"R_tot (difference)\")\n",
    "overlay.opts(opts.Curve(xlim=period_range, color=blue))"
   ]
  },
  {
   "cell_type": "code",
   "execution_count": null,
   "id": "e4a3137d-c014-49c1-b792-276e1db89743",
   "metadata": {
    "tags": []
   },
   "outputs": [],
   "source": [
    "hv.save(overlay, filename=fig_path / \"Rtot_normal_vs_integrated_difference_narrowband_generous\", fmt=\"png\", toolbar=False)"
   ]
  },
  {
   "cell_type": "code",
   "execution_count": null,
   "id": "bd8adabc-8648-4898-8620-2c2e5cc3fc27",
   "metadata": {
    "tags": []
   },
   "outputs": [],
   "source": [
    "overlay = (\n",
    "    plot_ef(variable=\"R\", dataset=(normal_dataset / angle_dataset), x=\"period\")\n",
    ").redim(period=period_dim, R=\"R_tot (ratio)\")\n",
    "overlay.opts(opts.Curve(xlim=period_range, color=blue))"
   ]
  },
  {
   "cell_type": "code",
   "execution_count": null,
   "id": "d1561317-74a0-481e-93ef-9357607b0010",
   "metadata": {
    "tags": []
   },
   "outputs": [],
   "source": [
    "hv.save(overlay, filename=fig_path / \"Rtot_normal_vs_integrated_ratio_narrowband_generous\", fmt=\"png\", toolbar=False)"
   ]
  },
  {
   "cell_type": "code",
   "execution_count": null,
   "id": "3d00bc1f-01a7-4dbe-acb9-1811e72966dd",
   "metadata": {
    "tags": []
   },
   "outputs": [],
   "source": [
    "inverse_normal_dataset = 1 - normal_dataset\n",
    "inverse_angle_dataset = 1 - angle_dataset\n",
    "overlay = (\n",
    "    compare_RTA(\n",
    "        {\"dataset\": inverse_angle_dataset, \"label\": \"1-R (integrated)\"},\n",
    "        {\"dataset\": inverse_normal_dataset, \"label\": \"1-R (θ = 0)\"},\n",
    "        plot_func=plot_R,\n",
    "        # label_field=None,\n",
    "        x=\"period\",\n",
    "    )\n",
    ").redim(period=period_dim)\n",
    "\n",
    "overlay.opts(\n",
    "    opts.Curve(ylabel=\"1-R_tot\", ylim=(None, 1), xlim=period_range),\n",
    "    opts.Overlay(legend_position=\"bottom_left\"),\n",
    ")"
   ]
  },
  {
   "cell_type": "code",
   "execution_count": null,
   "id": "7abb63af-9b41-4d7d-a3ec-ff2effe08bfa",
   "metadata": {
    "tags": []
   },
   "outputs": [],
   "source": [
    "overlay = (\n",
    "    plot_ef(variable=\"R\", dataset=(inverse_normal_dataset / inverse_angle_dataset), x=\"period\")\n",
    ").redim(period=period_dim, R=\"1-R_tot (ratio)\")\n",
    "overlay.opts(opts.Curve(xlim=period_range, color=blue))"
   ]
  },
  {
   "cell_type": "code",
   "execution_count": null,
   "id": "c8defe30-a910-426e-96ab-5e2c7b183151",
   "metadata": {
    "tags": []
   },
   "outputs": [],
   "source": [
    "hv.save(overlay, filename=fig_path / \"inverse_Rtot_normal_vs_integrated_ratio_narrowband_generous\", fmt=\"png\", toolbar=False)"
   ]
  },
  {
   "cell_type": "code",
   "execution_count": null,
   "id": "822a3415-fea9-4b21-ab0b-76635bc2219d",
   "metadata": {
    "tags": []
   },
   "outputs": [],
   "source": [
    "# peak is at Lambda = 260\n",
    "P = 260\n",
    "fig = (\n",
    "    compare_RTA_normal_vs_integrated(\n",
    "        period=P, excitonic_layer_thickness=elt, num_periods=N, plot_vars=[\"R\"]\n",
    "    )\n",
    "    * lines\n",
    "    * shade\n",
    ")\n",
    "fig.opts(\n",
    "    opts.Curve(ylabel=\"R\", ylim=(0, None)),\n",
    "    opts.Overlay(legend_position=\"top_left\"),\n",
    "    opts.VLine(line_color=green),\n",
    ")"
   ]
  },
  {
   "cell_type": "code",
   "execution_count": null,
   "id": "95cbc0de-68c9-4247-81e9-5da1bd02a830",
   "metadata": {
    "tags": []
   },
   "outputs": [],
   "source": [
    "hv.save(fig, filename=fig_path / \"R_LOPC_1D_wl_P260_elt40_N30_th_normal_vs_integrated_comparison_narrowband_generous\", fmt=\"png\", toolbar=False)"
   ]
  },
  {
   "cell_type": "code",
   "execution_count": null,
   "id": "63597dfb-a3f5-46c5-98b7-6e65821c4d82",
   "metadata": {
    "tags": []
   },
   "outputs": [],
   "source": [
    "fig = (\n",
    "    plot_R(\n",
    "        dataset=restacked_pds.sel(\n",
    "            period=P, excitonic_layer_thickness=elt, num_periods=N\n",
    "        )\n",
    "        .sel(theta=slice(*theta_range))\n",
    "        .squeeze(),\n",
    "        x=\"wavelength\",\n",
    "        y=\"theta\",\n",
    "    )\n",
    "    * lines\n",
    ")\n",
    "fig.opts(opts.Image(clim=(0, None)), opts.VLine(line_color=\"white\"))"
   ]
  },
  {
   "cell_type": "code",
   "execution_count": null,
   "id": "771e8ce4-4526-49fd-95b6-8b0d1b011039",
   "metadata": {
    "tags": []
   },
   "outputs": [],
   "source": [
    "hv.save(fig, filename=fig_path / \"R_LOPC_2D_wl_th_P260_elt40_N30_narrowband_generous\", fmt=\"png\", toolbar=False)"
   ]
  },
  {
   "cell_type": "markdown",
   "id": "be3e5deb-b4f0-42d9-9bff-43a70a3abaaf",
   "metadata": {},
   "source": [
    "### Broadband reflectance (conservative assumptions)"
   ]
  },
  {
   "cell_type": "code",
   "execution_count": null,
   "id": "d771bb65-1e7e-4648-a703-f87f1935480f",
   "metadata": {
    "tags": []
   },
   "outputs": [],
   "source": [
    "N = 10  # actual optimum is 17\n",
    "elt = 20\n",
    "theta_range = (0, 45)\n",
    "period_range = (elt, elt+310)\n",
    "normal_dataset = integrate_da(\n",
    "    restacked_pds.sel(num_periods=N, excitonic_layer_thickness=elt)\n",
    "    .sel(theta=0)\n",
    "    .squeeze(),\n",
    "    dim=\"wavelength\",\n",
    "    normalisation=1,\n",
    ")\n",
    "angle_dataset = integrate_da(\n",
    "    restacked_pds.sel(num_periods=N, excitonic_layer_thickness=elt)\n",
    "    .sel(theta=slice(*theta_range))\n",
    "    .squeeze(),\n",
    "    dim=[\"wavelength\", \"theta\"],\n",
    "    normalisation=1,\n",
    ")\n",
    "overlay = (\n",
    "    compare_RTA(\n",
    "        {\"dataset\": angle_dataset, \"label_append\": \" (integrated)\"},\n",
    "        {\"dataset\": normal_dataset, \"label_append\": \" (θ = 0)\"},\n",
    "        plot_func=plot_R,\n",
    "        label_field=None,\n",
    "        x=\"period\",\n",
    "    )\n",
    ").redim(period=period_dim)\n",
    "\n",
    "overlay.opts(\n",
    "    opts.Curve(ylabel=\"R_tot\", ylim=(0, None), xlim=period_range),\n",
    "    opts.Overlay(legend_position=\"top_left\"),\n",
    ")"
   ]
  },
  {
   "cell_type": "code",
   "execution_count": null,
   "id": "ec095b8a-4741-4979-9716-55b887f522f8",
   "metadata": {
    "tags": []
   },
   "outputs": [],
   "source": [
    "hv.save(overlay, filename=fig_path / \"Rtot_normal_vs_integrated_comparison_broadband_conservative\", fmt=\"png\", toolbar=False)"
   ]
  },
  {
   "cell_type": "code",
   "execution_count": null,
   "id": "a3996461-c357-4be1-ab45-1be262ef25cf",
   "metadata": {
    "tags": []
   },
   "outputs": [],
   "source": [
    "overlay = (\n",
    "    plot_df(variable=\"R\", dataset=(normal_dataset - angle_dataset), x=\"period\")\n",
    ").redim(period=period_dim, R=\"R_tot (difference)\")\n",
    "overlay.opts(opts.Curve(xlim=period_range, color=blue))"
   ]
  },
  {
   "cell_type": "code",
   "execution_count": null,
   "id": "596c0dea-9a10-490a-9ff9-dbd5877aae56",
   "metadata": {
    "tags": []
   },
   "outputs": [],
   "source": [
    "hv.save(overlay, filename=fig_path / \"Rtot_normal_vs_integrated_difference_broadband_conservative\", fmt=\"png\", toolbar=False)"
   ]
  },
  {
   "cell_type": "code",
   "execution_count": null,
   "id": "1859be6b-8297-41da-bb2d-8ad36cfbf3a0",
   "metadata": {
    "tags": []
   },
   "outputs": [],
   "source": [
    "overlay = (\n",
    "    plot_ef(variable=\"R\", dataset=(normal_dataset / angle_dataset), x=\"period\")\n",
    ").redim(period=period_dim, R=\"R_tot (ratio)\")\n",
    "overlay.opts(opts.Curve(xlim=period_range, color=blue))"
   ]
  },
  {
   "cell_type": "code",
   "execution_count": null,
   "id": "73106068-5e16-4d64-89e4-e6086fdc401f",
   "metadata": {
    "tags": []
   },
   "outputs": [],
   "source": [
    "hv.save(overlay, filename=fig_path / \"Rtot_normal_vs_integrated_ratio_broadband_conservative\", fmt=\"png\", toolbar=False)"
   ]
  },
  {
   "cell_type": "code",
   "execution_count": null,
   "id": "4396fa36-9c7a-4f95-b815-f403f4c2d974",
   "metadata": {
    "tags": []
   },
   "outputs": [],
   "source": [
    "inverse_normal_dataset = 1 - normal_dataset\n",
    "inverse_angle_dataset = 1 - angle_dataset\n",
    "overlay = (\n",
    "    compare_RTA(\n",
    "        {\"dataset\": inverse_angle_dataset, \"label\": \"1-R (integrated)\"},\n",
    "        {\"dataset\": inverse_normal_dataset, \"label\": \"1-R (θ = 0)\"},\n",
    "        plot_func=plot_R,\n",
    "        # label_field=None,\n",
    "        x=\"period\",\n",
    "    )\n",
    ").redim(period=period_dim)\n",
    "\n",
    "overlay.opts(\n",
    "    opts.Curve(ylabel=\"1-R_tot\", ylim=(None, 1), xlim=period_range),\n",
    "    opts.Overlay(legend_position=\"bottom_left\"),\n",
    ")"
   ]
  },
  {
   "cell_type": "code",
   "execution_count": null,
   "id": "4dd5a48c-cdc4-455c-8b7b-ffb32b1f9272",
   "metadata": {
    "tags": []
   },
   "outputs": [],
   "source": [
    "overlay = (\n",
    "    plot_ef(variable=\"R\", dataset=(inverse_normal_dataset / inverse_angle_dataset), x=\"period\")\n",
    ").redim(period=period_dim, R=\"1-R_tot (ratio)\")\n",
    "overlay.opts(opts.Curve(xlim=period_range, color=blue))"
   ]
  },
  {
   "cell_type": "code",
   "execution_count": null,
   "id": "6fcaebbb-f0cc-42e1-83bc-c567625d2d29",
   "metadata": {
    "tags": []
   },
   "outputs": [],
   "source": [
    "hv.save(overlay, filename=fig_path / \"inverse_Rtot_normal_vs_integrated_ratio_broadband_conservative\", fmt=\"png\", toolbar=False)"
   ]
  },
  {
   "cell_type": "code",
   "execution_count": null,
   "id": "91bb8db4-f4dd-4ea4-b6b6-3fab6708e9ff",
   "metadata": {
    "tags": []
   },
   "outputs": [],
   "source": [
    "# peak is at Lambda = 180\n",
    "P = 180\n",
    "fig = compare_RTA_normal_vs_integrated(period=P, excitonic_layer_thickness=elt, num_periods=N, plot_vars=[\"R\"])\n",
    "fig.opts(opts.Curve(ylabel=\"R\", ylim=(0, None)),opts.Overlay(legend_position=\"top_right\"))"
   ]
  },
  {
   "cell_type": "code",
   "execution_count": null,
   "id": "96daeb50-e0bd-4cc6-bb6c-403ca05f1091",
   "metadata": {
    "tags": []
   },
   "outputs": [],
   "source": [
    "hv.save(fig, filename=fig_path / \"R_LOPC_1D_wl_P180_elt40_N30_th_normal_vs_integrated_comparison_broadband_conservative\", fmt=\"png\", toolbar=False)"
   ]
  },
  {
   "cell_type": "code",
   "execution_count": null,
   "id": "9576c2b1-9090-415f-bcbc-309e95397dfa",
   "metadata": {
    "tags": []
   },
   "outputs": [],
   "source": [
    "fig = plot_R(\n",
    "    dataset=restacked_pds.sel(\n",
    "        period=P, excitonic_layer_thickness=elt, num_periods=N\n",
    "    ).sel(theta=slice(*theta_range)).squeeze(),\n",
    "    x=\"wavelength\",\n",
    "    y=\"theta\",\n",
    ")\n",
    "fig.opts(opts.Image(clim=(0,None), title=\"\"))"
   ]
  },
  {
   "cell_type": "code",
   "execution_count": null,
   "id": "6d6e8caa-9827-4d54-9ea8-d11eb31c221f",
   "metadata": {
    "tags": []
   },
   "outputs": [],
   "source": [
    "hv.save(fig, filename=fig_path / \"R_LOPC_2D_wl_th_P180_elt40_N30_broadband_conservative\", fmt=\"png\", toolbar=False)"
   ]
  },
  {
   "cell_type": "code",
   "execution_count": null,
   "id": "1f2540e8-8c91-480f-98c6-f4e80da1d2d5",
   "metadata": {
    "tags": []
   },
   "outputs": [],
   "source": [
    "# second peak is at Lambda = 260\n",
    "P = 260\n",
    "fig = compare_RTA_normal_vs_integrated(period=P, excitonic_layer_thickness=elt, num_periods=N, plot_vars=[\"R\"])\n",
    "fig.opts(opts.Curve(ylabel=\"R\", ylim=(0, None)),opts.Overlay(legend_position=\"top_left\"))"
   ]
  },
  {
   "cell_type": "code",
   "execution_count": null,
   "id": "3c5c3df7-1927-4184-8e06-be94c8ee1359",
   "metadata": {
    "tags": []
   },
   "outputs": [],
   "source": [
    "hv.save(fig, filename=fig_path / \"R_LOPC_1D_wl_P260_elt40_N30_th_normal_vs_integrated_comparison_broadband_conservative\", fmt=\"png\", toolbar=False)"
   ]
  },
  {
   "cell_type": "code",
   "execution_count": null,
   "id": "75aa492b-c73e-499f-8990-1e2897a212fe",
   "metadata": {
    "tags": []
   },
   "outputs": [],
   "source": [
    "fig = plot_R(\n",
    "    dataset=restacked_pds.sel(\n",
    "        period=P, excitonic_layer_thickness=elt, num_periods=N\n",
    "    ).sel(theta=slice(*theta_range)).squeeze(),\n",
    "    x=\"wavelength\",\n",
    "    y=\"theta\",\n",
    ")\n",
    "fig.opts(opts.Image(clim=(0,None), title=\"\"))"
   ]
  },
  {
   "cell_type": "code",
   "execution_count": null,
   "id": "1e509b76-6658-4a1c-824d-f1d8ebe8f9df",
   "metadata": {
    "tags": []
   },
   "outputs": [],
   "source": [
    "hv.save(fig, filename=fig_path / \"R_LOPC_2D_wl_th_P260_elt40_N30_broadband_conservative\", fmt=\"png\", toolbar=False)"
   ]
  },
  {
   "cell_type": "markdown",
   "id": "c6d46398-accf-48d0-8c64-30fb7d295ee3",
   "metadata": {},
   "source": [
    "### Narrowband reflectance (conservative assumptions)"
   ]
  },
  {
   "cell_type": "code",
   "execution_count": null,
   "id": "6c6623a1-ddac-4890-a3f1-58f711c016fa",
   "metadata": {
    "tags": []
   },
   "outputs": [],
   "source": [
    "lorentz_line = 2\n",
    "window_radius = 1\n",
    "N = 10  # actual optimum is 17\n",
    "elt = 30\n",
    "theta_range = (0, 70)\n",
    "period_range = (elt, elt+310)\n",
    "\n",
    "normal_dataset = integrate_da(\n",
    "    select_lorentz_line(restacked_pds, lorentz_line, window_radius)\n",
    "    .sel(num_periods=N, excitonic_layer_thickness=elt)\n",
    "    .sel(theta=0)\n",
    "    .squeeze(),\n",
    "    dim=\"wavelength\",\n",
    "    normalisation=1,\n",
    ")\n",
    "angle_dataset = integrate_da(\n",
    "    select_lorentz_line(restacked_pds, lorentz_line, window_radius)\n",
    "    .sel(num_periods=N, excitonic_layer_thickness=elt)\n",
    "    .sel(theta=slice(*theta_range))\n",
    "    .squeeze(),\n",
    "    dim=[\"wavelength\", \"theta\"],\n",
    "    normalisation=1,\n",
    ")\n",
    "lines = lorentz_vlines(\n",
    "    [lorentz_line - window_radius, lorentz_line + window_radius], scale=1e-9\n",
    ").opts(\n",
    "    opts.VLine(line_color=\"white\", line_dash=\"dotted\"),\n",
    ")\n",
    "shade = hv.VSpan(lines.VLine.I.x, lines.VLine.II.x).opts(alpha=0.1, color=\"gray\")\n",
    "\n",
    "overlay = (\n",
    "    compare_RTA(\n",
    "        {\"dataset\": angle_dataset, \"label_append\": \" (integrated)\"},\n",
    "        {\"dataset\": normal_dataset, \"label_append\": \" (θ = 0)\"},\n",
    "        plot_func=plot_R,\n",
    "        label_field=None,\n",
    "        x=\"period\",\n",
    "    )\n",
    ").redim(period=period_dim)\n",
    "\n",
    "overlay.opts(\n",
    "    opts.Curve(ylabel=\"R_tot\", ylim=(0, None), xlim=period_range),\n",
    "    opts.Overlay(legend_position=\"top_left\"),\n",
    ")"
   ]
  },
  {
   "cell_type": "code",
   "execution_count": null,
   "id": "a6cbcafd-a516-4a03-aa6b-153f004b5eca",
   "metadata": {
    "tags": []
   },
   "outputs": [],
   "source": [
    "hv.save(overlay, filename=fig_path / \"Rtot_normal_vs_integrated_comparison_narrowband_conservative\", fmt=\"png\", toolbar=False)"
   ]
  },
  {
   "cell_type": "code",
   "execution_count": null,
   "id": "602d0f6d-9d86-49fb-ad66-7f18ea786e9c",
   "metadata": {
    "tags": []
   },
   "outputs": [],
   "source": [
    "overlay = (\n",
    "    plot_df(variable=\"R\", dataset=(normal_dataset - angle_dataset), x=\"period\")\n",
    ").redim(period=period_dim, R=\"R_tot (difference)\")\n",
    "overlay.opts(opts.Curve(xlim=period_range, color=blue))"
   ]
  },
  {
   "cell_type": "code",
   "execution_count": null,
   "id": "e4f3a2ea-8d63-4e0f-8bd1-02cdb2dacf0c",
   "metadata": {
    "tags": []
   },
   "outputs": [],
   "source": [
    "hv.save(overlay, filename=fig_path / \"Rtot_normal_vs_integrated_difference_narrowband_conservative\", fmt=\"png\", toolbar=False)"
   ]
  },
  {
   "cell_type": "code",
   "execution_count": null,
   "id": "6d102358-2cfb-410c-b0ca-86fd423e1cf2",
   "metadata": {
    "tags": []
   },
   "outputs": [],
   "source": [
    "overlay = (\n",
    "    plot_ef(variable=\"R\", dataset=(normal_dataset / angle_dataset), x=\"period\")\n",
    ").redim(period=period_dim, R=\"R_tot (ratio)\")\n",
    "overlay.opts(opts.Curve(xlim=period_range, color=blue))"
   ]
  },
  {
   "cell_type": "code",
   "execution_count": null,
   "id": "4b19a818-ae62-409f-9789-c62774b07d65",
   "metadata": {
    "tags": []
   },
   "outputs": [],
   "source": [
    "hv.save(overlay, filename=fig_path / \"Rtot_normal_vs_integrated_ratio_narrowband_conservative\", fmt=\"png\", toolbar=False)"
   ]
  },
  {
   "cell_type": "code",
   "execution_count": null,
   "id": "66f1cccd-3be2-47e7-98a5-cfe4c1f24eeb",
   "metadata": {
    "tags": []
   },
   "outputs": [],
   "source": [
    "inverse_normal_dataset = 1 - normal_dataset\n",
    "inverse_angle_dataset = 1 - angle_dataset\n",
    "overlay = (\n",
    "    compare_RTA(\n",
    "        {\"dataset\": inverse_angle_dataset, \"label\": \"1-R (integrated)\"},\n",
    "        {\"dataset\": inverse_normal_dataset, \"label\": \"1-R (θ = 0)\"},\n",
    "        plot_func=plot_R,\n",
    "        # label_field=None,\n",
    "        x=\"period\",\n",
    "    )\n",
    ").redim(period=period_dim)\n",
    "\n",
    "overlay.opts(\n",
    "    opts.Curve(ylabel=\"1-R_tot\", ylim=(None, 1), xlim=period_range),\n",
    "    opts.Overlay(legend_position=\"bottom_left\"),\n",
    ")"
   ]
  },
  {
   "cell_type": "code",
   "execution_count": null,
   "id": "6d2c40ba-fd99-40ae-8666-21c5de04070e",
   "metadata": {
    "tags": []
   },
   "outputs": [],
   "source": [
    "overlay = (\n",
    "    plot_ef(variable=\"R\", dataset=(inverse_normal_dataset / inverse_angle_dataset), x=\"period\")\n",
    ").redim(period=period_dim, R=\"1-R_tot (ratio)\")\n",
    "overlay.opts(opts.Curve(xlim=period_range, color=blue))"
   ]
  },
  {
   "cell_type": "code",
   "execution_count": null,
   "id": "ed87beec-9e1c-413a-a1fb-144dcb4e70ee",
   "metadata": {
    "tags": []
   },
   "outputs": [],
   "source": [
    "hv.save(overlay, filename=fig_path / \"inverse_Rtot_normal_vs_integrated_ratio_narrowband_conservative\", fmt=\"png\", toolbar=False)"
   ]
  },
  {
   "cell_type": "code",
   "execution_count": null,
   "id": "98a1a4c7-315c-46f5-b930-f7e46e82ef9c",
   "metadata": {
    "tags": []
   },
   "outputs": [],
   "source": [
    "# peak is at Lambda = 260\n",
    "P = 260\n",
    "fig = (\n",
    "    compare_RTA_normal_vs_integrated(\n",
    "        period=P, excitonic_layer_thickness=elt, num_periods=N, plot_vars=[\"R\"]\n",
    "    )\n",
    "    * lines\n",
    "    * shade\n",
    ")\n",
    "fig.opts(\n",
    "    opts.Curve(ylabel=\"R\", ylim=(0, None)),\n",
    "    opts.Overlay(legend_position=\"top_left\"),\n",
    "    opts.VLine(line_color=green),\n",
    ")"
   ]
  },
  {
   "cell_type": "code",
   "execution_count": null,
   "id": "9463cd14-b72b-49e6-8fdf-c03df1c2bf0e",
   "metadata": {
    "tags": []
   },
   "outputs": [],
   "source": [
    "hv.save(fig, filename=fig_path / \"R_LOPC_1D_wl_P260_elt40_N30_th_normal_vs_integrated_comparison_narrowband_conservative\", fmt=\"png\", toolbar=False)"
   ]
  },
  {
   "cell_type": "code",
   "execution_count": null,
   "id": "fa7823a3-b7dc-47a3-b76b-1b722174d5e1",
   "metadata": {
    "tags": []
   },
   "outputs": [],
   "source": [
    "fig = (\n",
    "    plot_R(\n",
    "        dataset=restacked_pds.sel(\n",
    "            period=P, excitonic_layer_thickness=elt, num_periods=N\n",
    "        )\n",
    "        .sel(theta=slice(*theta_range))\n",
    "        .squeeze(),\n",
    "        x=\"wavelength\",\n",
    "        y=\"theta\",\n",
    "    )\n",
    "    * lines\n",
    ")\n",
    "fig.opts(opts.Image(clim=(0, None)), opts.VLine(line_color=\"white\"))"
   ]
  },
  {
   "cell_type": "code",
   "execution_count": null,
   "id": "336b80b4-49db-4fe1-a042-ee280357ff1d",
   "metadata": {
    "tags": []
   },
   "outputs": [],
   "source": [
    "hv.save(fig, filename=fig_path / \"R_LOPC_2D_wl_th_P260_elt40_N30_narrowband_conservative\", fmt=\"png\", toolbar=False)"
   ]
  },
  {
   "cell_type": "markdown",
   "id": "6fd4a864-b319-4287-b728-528555d7b6ad",
   "metadata": {},
   "source": [
    "### Placeholder"
   ]
  },
  {
   "cell_type": "code",
   "execution_count": null,
   "id": "8e81c03a-c991-48f3-b458-339c02de2ad5",
   "metadata": {
    "tags": []
   },
   "outputs": [],
   "source": [
    "lorentz_line = -11\n",
    "window_radius = 2\n",
    "N = 10\n",
    "elt = 30\n",
    "theta_range = (0, 45)\n",
    "normal_dataset = integrate_da(\n",
    "    select_lorentz_line(restacked_pds, lorentz_line, window_radius)\n",
    "    .sel(num_periods=N, excitonic_layer_thickness=elt)\n",
    "    .sel(theta=0)\n",
    "    .squeeze(),\n",
    "    dim=\"wavelength\",\n",
    "    normalisation=1,\n",
    ")\n",
    "angle_dataset = integrate_da(\n",
    "    select_lorentz_line(restacked_pds, lorentz_line, window_radius)\n",
    "    .sel(num_periods=N, excitonic_layer_thickness=elt)\n",
    "    .sel(theta=slice(*theta_range))\n",
    "    .squeeze(),\n",
    "    dim=[\"wavelength\", \"theta\"],\n",
    "    normalisation=1,\n",
    ")\n",
    "lines = lorentz_vlines(\n",
    "    [lorentz_line - window_radius, lorentz_line + window_radius], scale=1e-9\n",
    ").opts(\n",
    "    opts.VLine(line_color=green, line_dash=\"dotted\"),\n",
    ")\n",
    "\n",
    "(\n",
    "    compare_RTA(\n",
    "        {\"dataset\": angle_dataset, \"label_append\": \" (integrated)\"},\n",
    "        {\"dataset\": normal_dataset, \"label_append\": \" (θ = 0)\"},\n",
    "        plot_func=plot_R,\n",
    "        label_field=None,\n",
    "        x=\"period\",\n",
    "    )\n",
    ").redim(period=period_dim).opts(opts.Curve(ylim=(None, None), xlim=(100, 340), title=\"Integrated by wavelength\"))"
   ]
  },
  {
   "cell_type": "code",
   "execution_count": null,
   "id": "037740fa-7c1a-4157-8e58-2e267cade18b",
   "metadata": {
    "tags": []
   },
   "outputs": [],
   "source": [
    "(plot_ef(variable=\"R\", dataset=(normal_dataset / angle_dataset), x=\"period\")).redim(\n",
    "    period=period_dim, R=\"R (normal / integrated)\"\n",
    ").opts(opts.Curve(xlim=(100, 340)))"
   ]
  },
  {
   "cell_type": "code",
   "execution_count": null,
   "id": "afe413b3-e227-4cb7-979d-7fb2655f677c",
   "metadata": {
    "tags": []
   },
   "outputs": [],
   "source": [
    "# peak is at Lambda = 180 \n",
    "P = 180\n",
    "fig = compare_RTA_normal_vs_integrated(period=P, excitonic_layer_thickness=elt, num_periods=N, plot_vars=[\"R\"])*lines\n",
    "fig.opts(opts.Curve(ylim=(0, None)))"
   ]
  },
  {
   "cell_type": "code",
   "execution_count": null,
   "id": "83920036-e3ed-4c5e-a80a-4792f2afc8d9",
   "metadata": {
    "tags": []
   },
   "outputs": [],
   "source": [
    "fig = plot_R(\n",
    "    dataset=restacked_pds.sel(\n",
    "        period=P, excitonic_layer_thickness=elt, num_periods=N\n",
    "    ).sel(theta=slice(*theta_range)).squeeze(),\n",
    "    x=\"wavelength\",\n",
    "    y=\"theta\",\n",
    ")*lines\n",
    "fig.opts(opts.Image(clim=(0,None)))"
   ]
  },
  {
   "cell_type": "code",
   "execution_count": null,
   "id": "1fb77a1e-cb08-47f5-8b03-be6de5f72491",
   "metadata": {
    "tags": []
   },
   "outputs": [],
   "source": [
    "(\n",
    "    plot_R(dataset=(normal_dataset - angle_dataset), label_field=None, x=\"period\")\n",
    "    * hv.HLine(0)\n",
    ").redim(period=period_dim, R=\"R (normal - integrated)\",\n",
    ").opts(\n",
    "    opts.Curve(ylim=(None, None), title=\"\"),\n",
    "    opts.HLine(line_dash=\"dotted\"),\n",
    ")"
   ]
  },
  {
   "cell_type": "code",
   "execution_count": null,
   "id": "0d2b0267-880e-4a60-bfb9-75add022b28d",
   "metadata": {
    "tags": []
   },
   "outputs": [],
   "source": [
    "# peak is at Lambda = 190\n",
    "P = 190\n",
    "fig = compare_RTA_normal_vs_integrated(period=P, excitonic_layer_thickness=elt, num_periods=N, plot_vars=[\"R\"])*lines\n",
    "fig.opts(opts.Curve(ylim=(0, None)))"
   ]
  },
  {
   "cell_type": "code",
   "execution_count": null,
   "id": "dac11494-9042-4b5b-bbc7-4b311ebedb6c",
   "metadata": {
    "tags": []
   },
   "outputs": [],
   "source": [
    "fig = plot_R(\n",
    "    dataset=restacked_pds.sel(\n",
    "        period=P, excitonic_layer_thickness=elt, num_periods=N\n",
    "    ).sel(theta=slice(*theta_range)).squeeze(),\n",
    "    x=\"wavelength\",\n",
    "    y=\"theta\",\n",
    ")*lines\n",
    "fig.opts(opts.Image(clim=(0,None)))"
   ]
  },
  {
   "cell_type": "markdown",
   "id": "addc683e-9688-457e-9f39-93d33c170e9e",
   "metadata": {},
   "source": [
    "## placholder"
   ]
  }
 ],
 "metadata": {
  "kernelspec": {
   "display_name": "Python [conda env:multilayer_simulator] *",
   "language": "python",
   "name": "conda-env-multilayer_simulator-py"
  },
  "language_info": {
   "codemirror_mode": {
    "name": "ipython",
    "version": 3
   },
   "file_extension": ".py",
   "mimetype": "text/x-python",
   "name": "python",
   "nbconvert_exporter": "python",
   "pygments_lexer": "ipython3",
   "version": "3.10.0"
  }
 },
 "nbformat": 4,
 "nbformat_minor": 5
}
