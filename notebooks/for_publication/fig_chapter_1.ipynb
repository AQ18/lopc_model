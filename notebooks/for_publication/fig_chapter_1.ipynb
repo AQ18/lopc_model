{
 "cells": [
  {
   "cell_type": "markdown",
   "id": "86caf83c-436d-4ccd-99c4-033ceb1d557e",
   "metadata": {},
   "source": [
    "Generating plots that explore the basic, static LOPC model. This notebook is for generating publication-ready plots, which will be saved directly to the LaTeX directory. To follow the process of exploring the data, look at the other notebooks, e.g. [here](../basic_LOPC.ipynb]."
   ]
  },
  {
   "cell_type": "code",
   "execution_count": null,
   "id": "7930bbc6-8b38-43b8-a9b6-ad1d3a6e0668",
   "metadata": {
    "tags": []
   },
   "outputs": [],
   "source": [
    "# computation\n",
    "import sys\n",
    "import warnings\n",
    "from functools import partial\n",
    "from pathlib import Path\n",
    "import string\n",
    "\n",
    "import dask\n",
    "import holoviews as hv\n",
    "\n",
    "# plotting\n",
    "import hvplot.xarray\n",
    "import lumapi\n",
    "import numpy as np\n",
    "import xarray as xr\n",
    "import pandas as pd\n",
    "from collections import defaultdict, OrderedDict\n",
    "\n",
    "from bokeh.io import export_png, export_svg\n",
    "from holoviews import dim, opts\n",
    "import colorcet\n",
    "import panel as pn\n",
    "import panel.widgets as pnw\n",
    "from multilayer_simulator.helpers.mixins import convert_wavelength_and_frequency\n",
    "\n",
    "# import xyzpy as xyz\n",
    "# from xyzpy.gen.combo_runner import multi_concat\n",
    "from multilayer_simulator.lumerical_classes import (\n",
    "    LumericalOscillator,\n",
    "    format_stackfield,\n",
    "    format_stackrt,\n",
    ")\n",
    "from selenium.webdriver import Firefox\n",
    "from selenium.webdriver.firefox.options import Options"
   ]
  },
  {
   "cell_type": "code",
   "execution_count": null,
   "id": "2454f4c2",
   "metadata": {
    "tags": []
   },
   "outputs": [],
   "source": [
    "# use matplotlib because rendering bokeh to svg is broken\n",
    "# but use bokeh because matplotlib GridSpace opts are broken\n",
    "# I regret using holoviews\n",
    "hv.extension(\"bokeh\", \"matplotlib\", inline=False, case_sensitive_completion=True)\n",
    "\n",
    "universal_opts = dict(fontscale=2, title=\"\")\n",
    "matplotlib_opts = dict(fig_inches=5, aspect=2, fig_latex=True)\n",
    "bokeh_opts = dict(width=700, height=300)\n",
    "default_opts = (\n",
    "    universal_opts | bokeh_opts\n",
    ")  # toggle depending on which backend is in use\n",
    "# default_opts = universal_opts|matplotlib_opts  # toggle depending on which backend is in use\n",
    "opts.defaults(\n",
    "    opts.Curve(**default_opts),\n",
    "    opts.Image(**default_opts),\n",
    "    opts.QuadMesh(**default_opts),\n",
    "    opts.VLine(**default_opts, line_width=4),\n",
    "    opts.Overlay(**default_opts),\n",
    "    opts.Layout(**default_opts),\n",
    "    opts.GridSpace(\n",
    "        **default_opts, show_legend=False, shared_xaxis=True, shared_yaxis=True\n",
    "    ),\n",
    ")\n",
    "\n",
    "xarray_engine = \"h5netcdf\"\n",
    "\n",
    "# SAVE_FORMAT = \"svg\""
   ]
  },
  {
   "cell_type": "code",
   "execution_count": null,
   "id": "6452af0b-1d0d-4b74-9213-1da3abcfb286",
   "metadata": {
    "tags": []
   },
   "outputs": [],
   "source": [
    "hv.extension(\"bokeh\", inline=False, case_sensitive_completion=True)  # use matplotlib because rendering bokeh to svg is broken\n",
    "pn.config.throttled = True  # don't update interactive plots until mouse is unclicked\n",
    "\n",
    "# default_color_cycle = hv.Cycle(\"Colorblind\")  # Ruth doesn't like the inclusion of yellow, which is fair enough\n",
    "default_color_cycle = hv.Cycle(colorcet.glasbey_dark)\n",
    "default_dash_cycle = hv.Cycle([\"solid\", \"dashed\", \"dashdot\", \"dotted\", \"dotdash\"])\n",
    "universal_opts = dict(fontscale=2, title=\"\")\n",
    "matplotlib_opts = dict(fig_inches=5, aspect=2, fig_latex=True)\n",
    "bokeh_opts = dict(width=700, height=300)\n",
    "opts.defaults(opts.Curve(**universal_opts|bokeh_opts, color=default_color_cycle, line_width=1.5),\n",
    "              opts.Image(**universal_opts|bokeh_opts,),\n",
    "              opts.QuadMesh(**universal_opts|bokeh_opts,),\n",
    "              opts.VLine(**universal_opts|bokeh_opts, line_width=4),\n",
    "              opts.Scatter(**universal_opts|bokeh_opts, color=default_color_cycle),\n",
    "              opts.Slope(**universal_opts|bokeh_opts, color=default_color_cycle),\n",
    "              opts.Area(**universal_opts|bokeh_opts, color=default_color_cycle),\n",
    "              opts.Overlay(**universal_opts|bokeh_opts),\n",
    "              opts.Layout(**universal_opts|bokeh_opts),\n",
    "              opts.GridSpace(**universal_opts|bokeh_opts),\n",
    "              )\n",
    "\n",
    "xarray_engine='h5netcdf'"
   ]
  },
  {
   "cell_type": "code",
   "execution_count": null,
   "id": "6e065bfd",
   "metadata": {
    "tags": []
   },
   "outputs": [],
   "source": [
    "root = (\n",
    "    Path.cwd().parent.parent.parent\n",
    ")  # depth of parents depends on if this is running in JupyterLab or Notebook"
   ]
  },
  {
   "cell_type": "code",
   "execution_count": null,
   "id": "d83c3081",
   "metadata": {
    "tags": []
   },
   "outputs": [],
   "source": [
    "code_path = root / r\"research\""
   ]
  },
  {
   "cell_type": "code",
   "execution_count": null,
   "id": "36acbfae",
   "metadata": {
    "tags": []
   },
   "outputs": [],
   "source": [
    "data_path = code_path / r\"notebooks/data\""
   ]
  },
  {
   "cell_type": "code",
   "execution_count": null,
   "id": "5e0b35ac",
   "metadata": {
    "tags": []
   },
   "outputs": [],
   "source": [
    "archive_path = root / r\"thesis/LaTeX/chapters/chapter_1\""
   ]
  },
  {
   "cell_type": "code",
   "execution_count": null,
   "id": "ed16eee0-6b23-4a1a-a55f-2ed180c2b295",
   "metadata": {
    "tags": []
   },
   "outputs": [],
   "source": [
    "fig_path = archive_path / \"fig_chapter_1\""
   ]
  },
  {
   "cell_type": "code",
   "execution_count": null,
   "id": "afebf1de",
   "metadata": {
    "tags": []
   },
   "outputs": [],
   "source": [
    "if not code_path in sys.path:\n",
    "    sys.path.append(str(code_path))\n",
    "from LOPC import LOPC\n",
    "from LOPC.helpers import (  # combo_length,; estimate_combo_run_time,\n",
    "    assign_derived_attrs,\n",
    "    complex_elements,\n",
    "    coordinate_string,\n",
    "    enhancement_factor,\n",
    "    find_optimum_coords,\n",
    "    fix_bin_labels,\n",
    "    indexer_from_dataset,\n",
    "    integrate_da,\n",
    "    linewidth_calculator,\n",
    "    lopc_data,\n",
    "    max_min_pos,\n",
    "    mean_and_std,\n",
    "    normalise_over_dim,\n",
    "    plot_da,\n",
    "    plot_field,\n",
    "    plot_optimum_over_dim,\n",
    "    plot_secondary,\n",
    "    plot_var,\n",
    "    pre_process_for_plots,\n",
    "    restack,\n",
    "    sel_or_integrate,\n",
    "    spectrum,\n",
    "    visualise_multilayer,\n",
    "    vlines,\n",
    ")"
   ]
  },
  {
   "cell_type": "markdown",
   "id": "933beb39",
   "metadata": {},
   "source": [
    "Turn on auto-archiving of cells and Holoviews outputs. See the user guide [here](https://holoviews.org/user_guide/Exporting_and_Archiving.html).\n",
    "\n",
    "Might need to install `ipympl`.\n",
    "\n",
    "EDIT: This does not work but I'm leaving this here so a future researcher can avoid the rabbithole I fell down."
   ]
  },
  {
   "cell_type": "code",
   "execution_count": null,
   "id": "027d7248",
   "metadata": {
    "tags": []
   },
   "outputs": [],
   "source": [
    "# # This is the idiomatic way to record all generated figures with holoviews\n",
    "# # This does NOT work in JupyterLab: see https://github.com/holoviz/holoviews/issues/3570\n",
    "# # This also does not work in Jupyter Notebook\n",
    "# # It's just utterly broken\n",
    "\n",
    "# hv.archive.auto(root=str(archive_path), export_name=\"fig_chapter_2\")"
   ]
  },
  {
   "cell_type": "markdown",
   "id": "8dfd2cba-c642-48d0-aeee-ea8ba197d1a8",
   "metadata": {
    "tags": []
   },
   "source": [
    "Due to a bug that I still do not fully understand, `hv.save` raises\n",
    "```\n",
    "RuntimeError: Neither firefox and geckodriver nor a variant of chromium browser and chromedriver are available on system PATH. You can install the former with 'conda install -c conda-forge firefox geckodriver'.\n",
    "```\n",
    "The below code is part of a workaround. (The second part is to pass `web_driver` to `export_png(hv.render(fig), ..., webdriver=web_driver)` rather than `hv.save(fig)`, which is supposed to just work.)"
   ]
  },
  {
   "cell_type": "code",
   "execution_count": null,
   "id": "0dd59390-67e0-4da6-9f5f-57f16ac81847",
   "metadata": {
    "tags": []
   },
   "outputs": [],
   "source": [
    "options = Options()\n",
    "options.add_argument(\"-headless\")\n",
    "web_driver = Firefox(\n",
    "    options=options,\n",
    ")"
   ]
  },
  {
   "cell_type": "markdown",
   "id": "58f4da37-2185-44a4-bf9f-9b06fbfaa631",
   "metadata": {
    "tags": []
   },
   "source": [
    "# Load/define datasets"
   ]
  },
  {
   "cell_type": "markdown",
   "id": "64a12855-2290-4d80-8438-ad5ae1e09347",
   "metadata": {
    "tags": []
   },
   "source": [
    "## Load LOPC dataset"
   ]
  },
  {
   "cell_type": "code",
   "execution_count": null,
   "id": "1ba0305d-a750-45a1-9a09-5abde8e49554",
   "metadata": {
    "tags": []
   },
   "outputs": [],
   "source": [
    "# # chunks for per-angle plots\n",
    "# chunks = {\n",
    "#     \"frequency\": 256,\n",
    "#     \"excitonic_layer_thickness\": 16,\n",
    "#     \"passive_layer_thickness\": 32,\n",
    "#     \"theta\": 1,\n",
    "#     \"num_periods\": 16,\n",
    "# }"
   ]
  },
  {
   "cell_type": "code",
   "execution_count": null,
   "id": "4eb7aa9b-3576-47c8-a8fd-2cf6561f11d5",
   "metadata": {
    "tags": []
   },
   "outputs": [],
   "source": [
    "# chunks for plotting or integrating over angle\n",
    "chunks = {\n",
    "    \"frequency\": 256,\n",
    "    \"excitonic_layer_thickness\": 16,\n",
    "    \"passive_layer_thickness\": 32,\n",
    "    \"theta\": 16,\n",
    "    \"num_periods\": 1,\n",
    "}"
   ]
  },
  {
   "cell_type": "code",
   "execution_count": null,
   "id": "015eba96-e5df-4e80-bd74-580af86ceb4b",
   "metadata": {
    "tags": []
   },
   "outputs": [],
   "source": [
    "run_number = 2\n",
    "\n",
    "ds = xr.open_mfdataset(\n",
    "    data_path / f\"run_{run_number}/LOPC.nc\",\n",
    "    engine=xarray_engine,\n",
    "    lock=False,\n",
    "    chunks=chunks,\n",
    ")\n",
    "\n",
    "# add derived attrs\n",
    "ds = assign_derived_attrs(\n",
    "    ds, per_oscillator=[\"Rs\", \"Rp\", \"R\", \"Ts\", \"Tp\", \"T\", \"As\", \"Ap\", \"A\"]\n",
    ")"
   ]
  },
  {
   "cell_type": "code",
   "execution_count": null,
   "id": "d422f17b-0cbc-4c11-b758-9b9adad69b5b",
   "metadata": {
    "tags": []
   },
   "outputs": [],
   "source": [
    "np_run_number = 3\n",
    "\n",
    "np_ds = xr.open_mfdataset(\n",
    "    data_path / f\"run_{np_run_number}/LOPC.nc\",\n",
    "    engine=xarray_engine,\n",
    "    lock=False,\n",
    "    chunks=chunks,\n",
    ")\n",
    "\n",
    "# add derived attrs\n",
    "np_ds = assign_derived_attrs(\n",
    "    np_ds, per_oscillator=[\"Rs\", \"Rp\", \"R\", \"Ts\", \"Tp\", \"T\", \"As\", \"Ap\", \"A\"]\n",
    ")"
   ]
  },
  {
   "cell_type": "markdown",
   "id": "4a56ad48-0940-4cc6-951d-2a28e2d3a2b8",
   "metadata": {},
   "source": [
    "## Load reference slab dataset"
   ]
  },
  {
   "cell_type": "code",
   "execution_count": null,
   "id": "0f4ad339-7105-4796-b747-8ba6b5e7d393",
   "metadata": {
    "tags": []
   },
   "outputs": [],
   "source": [
    "# useful variables\n",
    "total_excitonic_thicknesses = np.unique(ds.total_excitonic_thickness)\n",
    "total_passive_thicknesses = np.unique(ds.total_passive_thickness)\n",
    "total_thicknesses = np.unique(ds.total_thickness)"
   ]
  },
  {
   "cell_type": "code",
   "execution_count": null,
   "id": "31286130-c473-45c3-9cfe-875c97ce42a2",
   "metadata": {
    "tags": []
   },
   "outputs": [],
   "source": [
    "ref = xr.open_mfdataset(\n",
    "    data_path / f\"run_{run_number}/ref.nc\",\n",
    "    engine=xarray_engine,\n",
    "    lock=False,\n",
    ")"
   ]
  },
  {
   "cell_type": "markdown",
   "id": "07f6a32a-77f1-401e-b9e9-47bab6e49b33",
   "metadata": {},
   "source": [
    "Note: `period=False` is an important option because otherwise it ends up a coordinate of `total_excitonic_thickness` and causes a conflict after binary operations with `ds`."
   ]
  },
  {
   "cell_type": "code",
   "execution_count": null,
   "id": "dac7aac7-1d48-4593-8c94-7627364b1f92",
   "metadata": {
    "tags": []
   },
   "outputs": [],
   "source": [
    "ref = assign_derived_attrs(\n",
    "    ref,\n",
    "    period=False,\n",
    "    total_excitonic_thickness=False,\n",
    "    total_passive_thickness=False,\n",
    "    total_thickness=False,\n",
    ")"
   ]
  },
  {
   "cell_type": "code",
   "execution_count": null,
   "id": "cc2a6c06-2231-4084-8703-3e5ce6671c2f",
   "metadata": {
    "tags": []
   },
   "outputs": [],
   "source": [
    "# compressed reference slab without passive layer\n",
    "crs_1 = (\n",
    "    ref.sel(\n",
    "        remove_last_layer=1,\n",
    "        passive_layer_thickness=0,\n",
    "        excitonic_layer_thickness=total_excitonic_thicknesses,\n",
    "        drop=True,\n",
    "    )\n",
    "    .squeeze(drop=True)\n",
    "    .rename(excitonic_layer_thickness=\"total_excitonic_thickness\")\n",
    ")"
   ]
  },
  {
   "cell_type": "code",
   "execution_count": null,
   "id": "685f12e2-b21f-4f71-9aaa-b4048599e7e1",
   "metadata": {
    "tags": []
   },
   "outputs": [],
   "source": [
    "# filled reference slab\n",
    "frs_1 = (\n",
    "    ref.sel(\n",
    "        remove_last_layer=1,\n",
    "        passive_layer_thickness=0,\n",
    "        excitonic_layer_thickness=total_thicknesses,\n",
    "        drop=True,\n",
    "    )\n",
    "    .squeeze(drop=True)\n",
    "    .rename(excitonic_layer_thickness=\"total_thickness\")\n",
    ")"
   ]
  },
  {
   "cell_type": "markdown",
   "id": "1dbcb70a-2208-4221-824f-772d1132963c",
   "metadata": {
    "tags": []
   },
   "source": [
    "### Load derived variables"
   ]
  },
  {
   "cell_type": "code",
   "execution_count": null,
   "id": "9d6485a7-8d5f-4858-b647-ae434ca1ca10",
   "metadata": {
    "tags": []
   },
   "outputs": [],
   "source": [
    "polarised_attrs = [\"Rs\", \"Rp\", \"Ts\", \"Tp\", \"As\", \"Ap\"]"
   ]
  },
  {
   "cell_type": "code",
   "execution_count": null,
   "id": "e2bc8f02-bec7-4a84-9e57-5fed46fd09e2",
   "metadata": {
    "tags": []
   },
   "outputs": [],
   "source": [
    "norm_1 = xr.open_mfdataset(\n",
    "    data_path / f\"run_{run_number}/norm_1.nc\",\n",
    "    chunks=chunks,\n",
    ")"
   ]
  },
  {
   "cell_type": "code",
   "execution_count": null,
   "id": "937df8a1-5a9b-4308-a6ba-e29d76fccb27",
   "metadata": {
    "tags": []
   },
   "outputs": [],
   "source": [
    "norm_2 = xr.open_mfdataset(\n",
    "    data_path / f\"run_{run_number}/norm_2.nc\",\n",
    "    chunks=chunks,\n",
    "    engine=xarray_engine,\n",
    "    lock=False,\n",
    ")"
   ]
  },
  {
   "cell_type": "code",
   "execution_count": null,
   "id": "c47a761f-3576-41de-ab20-b0c82984b6ac",
   "metadata": {
    "tags": []
   },
   "outputs": [],
   "source": [
    "norm_2 = assign_derived_attrs(\n",
    "    norm_2, absorption=False, unpolarised=False, per_oscillator=False\n",
    ")"
   ]
  },
  {
   "cell_type": "code",
   "execution_count": null,
   "id": "5d6c4543-11ae-4e1e-91fe-decd499144ff",
   "metadata": {
    "tags": []
   },
   "outputs": [],
   "source": [
    "gb_tet = ds[polarised_attrs].groupby(\"total_excitonic_thickness\")\n",
    "\n",
    "# 'biology' absorptance enhancement factor: normalise by reference slab type 1: compressed reference slab w/o passive layer\n",
    "diff_1 = gb_tet - crs_1\n",
    "\n",
    "diff_1 = assign_derived_attrs(\n",
    "    dataset=diff_1,\n",
    "    unpolarised=True,\n",
    "    absorption=False,\n",
    "    period=False,\n",
    "    total_excitonic_thickness=False,\n",
    "    total_passive_thickness=False,\n",
    "    total_thickness=False,\n",
    "    N_tot=False,\n",
    "    per_oscillator=[\"Rs\", \"Rp\", \"R\", \"Ts\", \"Tp\", \"T\", \"As\", \"Ap\", \"A\"],\n",
    ")"
   ]
  },
  {
   "cell_type": "code",
   "execution_count": null,
   "id": "98a9c6f2-6191-4e8e-b6f0-d41c691a4773",
   "metadata": {
    "tags": []
   },
   "outputs": [],
   "source": [
    "gb_tt = ds[polarised_attrs].groupby(\"total_thickness\")\n",
    "\n",
    "# 'stuffed' difference factor: difference with reference slab type 2: filled reference slab\n",
    "diff_2 = gb_tt - frs_1\n",
    "\n",
    "diff_2 = assign_derived_attrs(\n",
    "    dataset=diff_2,\n",
    "    unpolarised=True,\n",
    "    absorption=False,\n",
    "    period=True,  # reset period to only depend on two dims\n",
    "    total_excitonic_thickness=False,\n",
    "    total_passive_thickness=False,\n",
    "    total_thickness=False,\n",
    "    N_tot=False,\n",
    "    per_oscillator=[\"Rs\", \"Rp\", \"R\", \"Ts\", \"Tp\", \"T\", \"As\", \"Ap\", \"A\"],\n",
    ")"
   ]
  },
  {
   "cell_type": "code",
   "execution_count": null,
   "id": "230bbef2-ce7f-4c3b-9384-397c75dc473e",
   "metadata": {
    "tags": []
   },
   "outputs": [],
   "source": [
    "ds_flat_spectrum = xr.open_dataset(\n",
    "    data_path / f\"run_{run_number}/LOPC_flat_spectrum.nc\",\n",
    "    engine=xarray_engine,\n",
    "    lock=False,\n",
    ")\n",
    "ds_flat_spectrum = assign_derived_attrs(ds_flat_spectrum)"
   ]
  },
  {
   "cell_type": "code",
   "execution_count": null,
   "id": "a7e5a192-b514-4893-a7aa-987a45c5cf2d",
   "metadata": {
    "tags": []
   },
   "outputs": [],
   "source": [
    "ref_flat_spectrum = xr.open_dataset(\n",
    "    data_path / f\"run_{run_number}/ref_flat_spectrum.nc\",\n",
    "    engine=xarray_engine,\n",
    "    lock=False,\n",
    ")\n",
    "ref_flat_spectrum = assign_derived_attrs(\n",
    "    ref_flat_spectrum,\n",
    "    period=False,\n",
    "    total_excitonic_thickness=False,\n",
    "    total_passive_thickness=False,\n",
    "    total_thickness=False,\n",
    ")"
   ]
  },
  {
   "cell_type": "code",
   "execution_count": null,
   "id": "a3f00784-d58b-457c-9633-e88ed77c34f5",
   "metadata": {
    "tags": []
   },
   "outputs": [],
   "source": [
    "# Compressed reference slab without passive layer\n",
    "crs_1_flat_spectrum = (\n",
    "    ref_flat_spectrum.sel(\n",
    "        remove_last_layer=1,\n",
    "        passive_layer_thickness=0,\n",
    "        excitonic_layer_thickness=total_excitonic_thicknesses,\n",
    "        drop=True,\n",
    "    )\n",
    "    .squeeze(drop=True)\n",
    "    .rename(excitonic_layer_thickness=\"total_excitonic_thickness\")\n",
    ")"
   ]
  },
  {
   "cell_type": "code",
   "execution_count": null,
   "id": "ab3113d4-16ef-4087-87f1-95cde71772b6",
   "metadata": {
    "tags": []
   },
   "outputs": [],
   "source": [
    "norm_flat_spectrum = (\n",
    "    ds_flat_spectrum.groupby(\"total_excitonic_thickness\") / crs_1_flat_spectrum\n",
    ")  # .drop_sel(excitonic_layer_thickness=0)"
   ]
  },
  {
   "cell_type": "code",
   "execution_count": null,
   "id": "627471e7-e41b-4f00-9a4b-0d632f7d8602",
   "metadata": {
    "tags": []
   },
   "outputs": [],
   "source": [
    "norm_flat_spectrum = enhancement_factor(\n",
    "    ds=ds_flat_spectrum, ref=crs_1_flat_spectrum, common_dim=\"total_excitonic_thickness\"\n",
    ")"
   ]
  },
  {
   "cell_type": "markdown",
   "id": "65d372f8-1175-4121-8532-09bdb8ba2425",
   "metadata": {
    "tags": []
   },
   "source": [
    "## Restacking passive layer thickness to period"
   ]
  },
  {
   "cell_type": "code",
   "execution_count": null,
   "id": "1550047a-5815-4ee7-a888-1b7f9a2ed8d8",
   "metadata": {
    "tags": []
   },
   "outputs": [],
   "source": [
    "restack_plt_to_period = partial(\n",
    "    restack,\n",
    "    start_idxs=[\"passive_layer_thickness\", \"excitonic_layer_thickness\"],\n",
    "    end_idxs=[\"period\", \"excitonic_layer_thickness\"],\n",
    ")"
   ]
  },
  {
   "cell_type": "code",
   "execution_count": null,
   "id": "de873db9-ec7e-4412-9fc0-abda1a3228b9",
   "metadata": {
    "tags": []
   },
   "outputs": [],
   "source": [
    "restacked_ds = restack_plt_to_period(ds)"
   ]
  },
  {
   "cell_type": "code",
   "execution_count": null,
   "id": "326f9677-eaba-4543-9ab0-1c58d92662db",
   "metadata": {
    "tags": []
   },
   "outputs": [],
   "source": [
    "restacked_np_ds = restack_plt_to_period(np_ds)"
   ]
  },
  {
   "cell_type": "code",
   "execution_count": null,
   "id": "207da17b-4a80-476e-a694-c70af009e065",
   "metadata": {
    "tags": []
   },
   "outputs": [],
   "source": [
    "restacked_norm_1 = restack_plt_to_period(norm_1)"
   ]
  },
  {
   "cell_type": "code",
   "execution_count": null,
   "id": "239029cc-f032-44a9-b666-2fc065a74d1f",
   "metadata": {
    "tags": []
   },
   "outputs": [],
   "source": [
    "restacked_norm_2 = restack_plt_to_period(norm_2)"
   ]
  },
  {
   "cell_type": "code",
   "execution_count": null,
   "id": "95f5adc2-c142-45d0-bbba-1b3a92ccf521",
   "metadata": {
    "tags": []
   },
   "outputs": [],
   "source": [
    "restacked_diff_1 = restack_plt_to_period(diff_1)"
   ]
  },
  {
   "cell_type": "code",
   "execution_count": null,
   "id": "b6f0116c-a405-4383-be11-695002a4bd43",
   "metadata": {
    "tags": []
   },
   "outputs": [],
   "source": [
    "restacked_diff_2 = restack_plt_to_period(diff_2)"
   ]
  },
  {
   "cell_type": "code",
   "execution_count": null,
   "id": "85638812-58a3-42a8-ae0c-907df9b48170",
   "metadata": {
    "tags": []
   },
   "outputs": [],
   "source": [
    "restacked_ds_flat_spectrum = restack_plt_to_period(ds_flat_spectrum)"
   ]
  },
  {
   "cell_type": "code",
   "execution_count": null,
   "id": "e91001da-7c48-49eb-aab5-d073561d59e8",
   "metadata": {
    "tags": []
   },
   "outputs": [],
   "source": [
    "restacked_norm_flat_spectrum = restack_plt_to_period(norm_flat_spectrum)"
   ]
  },
  {
   "cell_type": "markdown",
   "id": "c70fc5d6-09b0-46a0-a4fb-239e81982b2b",
   "metadata": {
    "tags": []
   },
   "source": [
    "# Plots"
   ]
  },
  {
   "cell_type": "markdown",
   "id": "681d62eb-70b3-4622-9940-2556e2d4bdb8",
   "metadata": {
    "tags": []
   },
   "source": [
    "## Pre-processing"
   ]
  },
  {
   "cell_type": "code",
   "execution_count": null,
   "id": "1fc8d109-303b-4c75-a4ff-a5ea8964f273",
   "metadata": {
    "tags": []
   },
   "outputs": [],
   "source": [
    "blue = hv.Cycle.default_cycles[\"default_colors\"][0]\n",
    "red = hv.Cycle.default_cycles[\"default_colors\"][1]\n",
    "yellow = hv.Cycle.default_cycles[\"default_colors\"][2]\n",
    "green = hv.Cycle.default_cycles[\"default_colors\"][3]"
   ]
  },
  {
   "cell_type": "code",
   "execution_count": null,
   "id": "6e90573a-e777-46c3-8b41-b54169b3ed82",
   "metadata": {
    "tags": []
   },
   "outputs": [],
   "source": [
    "wavelengths_in_nanometres = np.linspace(480, 880, 256)\n",
    "wavelengths = wavelengths_in_nanometres * 1e-9\n",
    "frequencies = convert_wavelength_and_frequency(wavelengths)\n",
    "angles = np.linspace(0, 86, 64)"
   ]
  },
  {
   "cell_type": "code",
   "execution_count": null,
   "id": "776bfe21-9b44-4f28-a7c7-870f700b0e31",
   "metadata": {
    "tags": []
   },
   "outputs": [],
   "source": [
    "default_oscillator_params = {\n",
    "    \"N\": 1e26,\n",
    "    \"permittivity\": 2.2,\n",
    "    \"lorentz_resonance_wavelength\": 680,\n",
    "    \"lorentz_linewidth\": 7.5e13,\n",
    "}"
   ]
  },
  {
   "cell_type": "code",
   "execution_count": null,
   "id": "0180fb4d-fa53-408b-bd2a-0d90f261a74c",
   "metadata": {
    "tags": []
   },
   "outputs": [],
   "source": [
    "unpolarised_RTA = [\"R\", \"T\", \"A\"]\n",
    "s_polarised_RTA = [\"Rs\", \"Ts\", \"As\"]\n",
    "p_polarised_RTA = [\"Rp\", \"Tp\", \"Ap\"]\n",
    "reflectance = [\"Rs\", \"Rp\", \"R\"]\n",
    "transmittance = [\"Ts\", \"Tp\", \"T\"]\n",
    "absorptance = [\"As\", \"Ap\", \"A\"]\n",
    "per_oscillator_RTA = [\"R_per_oscillator\", \"T_per_oscillator\", \"A_per_oscillator\"]"
   ]
  },
  {
   "cell_type": "code",
   "execution_count": null,
   "id": "0bff1152-00da-4342-b226-0bb5e1eb48d8",
   "metadata": {
    "tags": []
   },
   "outputs": [],
   "source": [
    "# WARNING: all these datasets will be fundamentally changed after this cell, to the extent that it can't be run twice\n",
    "# For consistency, keep important calculations in the preceding section!\n",
    "ds = pre_process_for_plots(ds)\n",
    "restacked_ds = pre_process_for_plots(restacked_ds)\n",
    "restacked_np_ds = pre_process_for_plots(restacked_np_ds, strict=False)\n",
    "ref = pre_process_for_plots(ref)\n",
    "crs_1 = pre_process_for_plots(crs_1)\n",
    "frs_1 = pre_process_for_plots(frs_1)\n",
    "norm_1 = pre_process_for_plots(norm_1)\n",
    "restacked_norm_1 = pre_process_for_plots(restacked_norm_1)\n",
    "norm_2 = pre_process_for_plots(norm_2)\n",
    "restacked_norm_2 = pre_process_for_plots(restacked_norm_2)\n",
    "diff_1 = pre_process_for_plots(diff_1)\n",
    "restacked_diff_1 = pre_process_for_plots(restacked_diff_1)\n",
    "diff_2 = pre_process_for_plots(diff_2)\n",
    "restacked_diff_2 = pre_process_for_plots(restacked_diff_2)\n",
    "ds_flat_spectrum = pre_process_for_plots(ds_flat_spectrum)\n",
    "restacked_ds_flat_spectrum = pre_process_for_plots(restacked_ds_flat_spectrum)\n",
    "ref_flat_spectrum = pre_process_for_plots(ref_flat_spectrum)\n",
    "crs_1_flat_spectrum = pre_process_for_plots(crs_1_flat_spectrum)\n",
    "norm_flat_spectrum = pre_process_for_plots(norm_flat_spectrum)\n",
    "restacked_norm_flat_spectrum = pre_process_for_plots(restacked_norm_flat_spectrum)"
   ]
  },
  {
   "cell_type": "code",
   "execution_count": null,
   "id": "07020d84-9ec4-4557-b261-b2cb1527b637",
   "metadata": {
    "tags": []
   },
   "outputs": [],
   "source": [
    "period_dim = hv.Dimension(\"period\", label=\"Λ\", unit=\"nm\")\n",
    "wavelength_dim = hv.Dimension(\"wavelength\", label=\"λ\", unit=\"nm\")\n",
    "real_index_dim = hv.Dimension(\"n\")\n",
    "imag_index_dim = hv.Dimension(\"k\", label=\"ϰ\")\n",
    "angle_dim = hv.Dimension(\"theta\", label=\"θ\", unit=\"°\")\n",
    "num_periods_dim = hv.Dimension(\"num_periods\", label=\"N\")\n",
    "z_dim = hv.Dimension(\"z\", unit=\"μm\")\n",
    "E_dim = hv.Dimension(\"E_squared\", label=r\"\\(|E|^2\\)\", unit=\"a.u.\")"
   ]
  },
  {
   "cell_type": "markdown",
   "id": "125de4da-a3cf-489e-b7b7-90eef501566f",
   "metadata": {
    "tags": []
   },
   "source": [
    "## Useful functions"
   ]
  },
  {
   "cell_type": "code",
   "execution_count": null,
   "id": "f9e910cc-8769-4188-8390-e970c9b0db54",
   "metadata": {
    "tags": []
   },
   "outputs": [],
   "source": [
    "def outline_hook(plot, element):\n",
    "    \"Plot hook for bold outlines.\"\n",
    "    plot.handles[\"plot\"].outline_line_color = \"black\""
   ]
  },
  {
   "cell_type": "code",
   "execution_count": null,
   "id": "aee51f96-034b-42a9-8649-6fa520c316d7",
   "metadata": {
    "tags": []
   },
   "outputs": [],
   "source": [
    "# calculate PBG positions\n",
    "# n_eff is almost n_p=1.35, because d_e is very small\n",
    "# hence lambda = 2*1.35*Lambda"
   ]
  },
  {
   "cell_type": "code",
   "execution_count": null,
   "id": "dbff6bfe-711b-4a40-b0d7-a024cc08f43c",
   "metadata": {
    "tags": []
   },
   "outputs": [],
   "source": [
    "# better estimate is to use f = d_e/Lambda\n",
    "def pbg_position(d1, period, n1, n2):\n",
    "    f = d1/period\n",
    "    return 2*np.sqrt(f*n1**2 + (1-f)*n2**2)*period"
   ]
  },
  {
   "cell_type": "markdown",
   "id": "6e6317e6-d2ef-487c-91d1-b1e30f60fbbe",
   "metadata": {
    "tags": []
   },
   "source": [
    "### Lorentz lines"
   ]
  },
  {
   "cell_type": "markdown",
   "id": "2d1c3a6e-eb48-423a-8277-647f3f4e3d4c",
   "metadata": {},
   "source": [
    "I want some sort of metric for 'near the resonance' and 'far from the resonance'. The natural unit of distance in this instance is the linewidth. The linewidth is given in rad/s so there need to be some conversions to get the equivalent lines in the plots by wavelength, but they are roughly symmetrical around the peak wavelength.\n",
    "\n",
    "Based on the plots of the refractive index below, I think I will consider 'near' to be 'within two linewidths', and 'far' to be 'at least four linewidths away'."
   ]
  },
  {
   "cell_type": "code",
   "execution_count": null,
   "id": "b2ff99ac-d148-4ebd-8c8c-3e4dbf666415",
   "metadata": {
    "tags": []
   },
   "outputs": [],
   "source": [
    "# resonance_line = hv.VLine(680, label='LO resonance wavelength').opts(line_dash='dotted')\n",
    "\n",
    "# Convert from rad/s to Hz\n",
    "lorentz_linewidth_frequency = default_oscillator_params[\"lorentz_linewidth\"] / (\n",
    "    2 * np.pi\n",
    ")"
   ]
  },
  {
   "cell_type": "code",
   "execution_count": null,
   "id": "e56210c0-3131-4c1e-b471-d2a7e54d829a",
   "metadata": {
    "tags": []
   },
   "outputs": [],
   "source": [
    "def linewidth_calculator_factory(centre, linewidth):\n",
    "    return partial(linewidth_calculator, centre=centre, linewidth=linewidth)"
   ]
  },
  {
   "cell_type": "code",
   "execution_count": null,
   "id": "0cc25a40-ee2a-4bb0-99e4-5b8ea0b4a8f5",
   "metadata": {
    "tags": []
   },
   "outputs": [],
   "source": [
    "lorentz_line_frequency = linewidth_calculator_factory(\n",
    "    convert_wavelength_and_frequency(680e-9), lorentz_linewidth_frequency\n",
    ")\n",
    "\n",
    "\n",
    "def lorentz_line_wavelength(x=None):\n",
    "    x = -x if x is not None else x\n",
    "    return convert_wavelength_and_frequency(lorentz_line_frequency(x))"
   ]
  },
  {
   "cell_type": "code",
   "execution_count": null,
   "id": "a1c6d72e-da8c-4976-bba1-a1069fa410cb",
   "metadata": {
    "tags": []
   },
   "outputs": [],
   "source": [
    "def lorentz_vlines(x=0, scale=1, mode=\"wavelength\", **kwargs):\n",
    "    if mode == \"wavelength\":\n",
    "        line_func = lorentz_line_wavelength\n",
    "    elif mode == \"frequency\":\n",
    "        line_func = lorentz_line_frequency\n",
    "    else:\n",
    "        raise TypeError(f\"mode should be 'wavelength' or 'frequency', not {mode}\")\n",
    "\n",
    "    match x:\n",
    "        case [*xs]:\n",
    "            line_pos = [line_func(x) / scale for x in xs]\n",
    "        case x:\n",
    "            line_pos = line_func(x) / scale\n",
    "\n",
    "    return vlines(line_pos, **kwargs)"
   ]
  },
  {
   "cell_type": "markdown",
   "id": "0b1df350-45b3-49ba-8e3b-7aece7768dbf",
   "metadata": {
    "tags": []
   },
   "source": [
    "### Plotting functions"
   ]
  },
  {
   "cell_type": "markdown",
   "id": "a5f747f5-acc0-4b61-b6b8-461cc54fe741",
   "metadata": {
    "tags": []
   },
   "source": [
    "#### Select a wavelength or wavelength range based on the distance from the resonance in linewidths."
   ]
  },
  {
   "cell_type": "code",
   "execution_count": null,
   "id": "0d0641d7-7ebe-47ea-8c6d-fb007fa925e7",
   "metadata": {
    "tags": []
   },
   "outputs": [],
   "source": [
    "def select_lorentz_line(da, lorentz_line=0, window_radius=0):\n",
    "    if window_radius == 0:\n",
    "        wavelength = lorentz_line_wavelength(lorentz_line) * 1e9\n",
    "        wavelength_sel_method = \"nearest\"\n",
    "    else:\n",
    "        wavelength = slice(\n",
    "            lorentz_line_wavelength(lorentz_line - window_radius) * 1e9,\n",
    "            lorentz_line_wavelength(lorentz_line + window_radius) * 1e9,\n",
    "        )\n",
    "        wavelength_sel_method = None\n",
    "    da = da.sel(wavelength=wavelength, method=wavelength_sel_method)\n",
    "\n",
    "    return da"
   ]
  },
  {
   "cell_type": "markdown",
   "id": "64008b42-6460-4d37-b03d-e82a9a6e4ef7",
   "metadata": {
    "tags": []
   },
   "source": [
    "#### Plot a comparison of the reflectance and absorptance of the LOPC with that of the reference slab."
   ]
  },
  {
   "cell_type": "code",
   "execution_count": null,
   "id": "88fea1be-c08f-4136-b837-eaac8ba331b8",
   "metadata": {
    "tags": []
   },
   "outputs": [],
   "source": [
    "opts_R = [\n",
    "    opts.Curve(color=blue, ylim=(0, 1)),\n",
    "    opts.Image(cmap=\"viridis\", clim=(0, 1)),\n",
    "    opts.QuadMesh(cmap=\"viridis\", clim=(0, 1)),\n",
    "]\n",
    "\n",
    "\n",
    "def plot_R(\n",
    "    variable=\"R\",\n",
    "    dataset=None,\n",
    "    label_field=\"long_name\",\n",
    "    label_append=None,\n",
    "    **hvplot_kwargs\n",
    "):\n",
    "    plot = plot_var(variable, dataset, label_field, label_append, **hvplot_kwargs)\n",
    "    plot.opts(*opts_R)\n",
    "    return plot\n",
    "\n",
    "\n",
    "# # test\n",
    "# plot_R(dataset=restacked_ds.sel(period=200, excitonic_layer_thickness=20, num_periods=10).squeeze(), x=\"wavelength\", y=\"theta\").opts(cmap=\"cividis\", clim=(None, None))"
   ]
  },
  {
   "cell_type": "code",
   "execution_count": null,
   "id": "141862d4-c369-4629-96a2-905d3afc99e0",
   "metadata": {
    "tags": []
   },
   "outputs": [],
   "source": [
    "opts_T = [\n",
    "    opts.Curve(color=yellow, ylim=(0, 1)),\n",
    "    opts.Image(cmap=\"cividis\", clim=(0, 1)),\n",
    "    opts.QuadMesh(cmap=\"cividis\", clim=(0, 1)),\n",
    "]\n",
    "\n",
    "\n",
    "def plot_T(\n",
    "    variable=\"T\",\n",
    "    dataset=None,\n",
    "    label_field=\"long_name\",\n",
    "    label_append=None,\n",
    "    **hvplot_kwargs\n",
    "):\n",
    "    plot = plot_var(variable, dataset, label_field, label_append, **hvplot_kwargs)\n",
    "    plot.opts(*opts_T)\n",
    "    return plot"
   ]
  },
  {
   "cell_type": "code",
   "execution_count": null,
   "id": "200c8ce5-e013-45cf-acca-89c8d4cd79db",
   "metadata": {
    "tags": []
   },
   "outputs": [],
   "source": [
    "opts_A = [\n",
    "    opts.Curve(color=red, ylim=(0, 1)),\n",
    "    opts.Image(cmap=\"inferno\", clim=(0, 1)),\n",
    "    opts.QuadMesh(cmap=\"inferno\", clim=(0, 1)),\n",
    "]\n",
    "\n",
    "\n",
    "def plot_A(\n",
    "    variable=\"A\",\n",
    "    dataset=None,\n",
    "    label_field=\"long_name\",\n",
    "    label_append=None,\n",
    "    **hvplot_kwargs\n",
    "):\n",
    "    plot = plot_var(variable, dataset, label_field, label_append, **hvplot_kwargs)\n",
    "    plot.opts(*opts_A)\n",
    "    return plot"
   ]
  },
  {
   "cell_type": "code",
   "execution_count": null,
   "id": "9fe2bb36-0dc2-4e49-ada4-ee7df9d074d1",
   "metadata": {
    "tags": []
   },
   "outputs": [],
   "source": [
    "def plot_vars_to_funcs(plot_vars):\n",
    "    var_func_mapping = {\n",
    "        \"R\": plot_R,\n",
    "        \"T\": plot_T,\n",
    "        \"A\": plot_A,\n",
    "        \"Rs\": partial(plot_R, variable=\"Rs\"),\n",
    "        \"Ts\": partial(plot_T, variable=\"Ts\"),\n",
    "        \"As\": partial(plot_A, variable=\"As\"),\n",
    "        \"Rp\": partial(plot_R, variable=\"Rp\"),\n",
    "        \"Tp\": partial(plot_T, variable=\"Tp\"),\n",
    "        \"Ap\": partial(plot_A, variable=\"Ap\"),\n",
    "        \"R_per_oscillator\": partial(plot_R, variable=\"R_per_oscillator\"),\n",
    "        \"T_per_oscillator\": partial(plot_T, variable=\"T_per_oscillator\"),\n",
    "        \"A_per_oscillator\": partial(plot_A, variable=\"A_per_oscillator\"),\n",
    "        \"Rs_per_oscillator\": partial(plot_R, variable=\"Rs_per_oscillator\"),\n",
    "        \"Ts_per_oscillator\": partial(plot_T, variable=\"Ts_per_oscillator\"),\n",
    "        \"As_per_oscillator\": partial(plot_A, variable=\"As_per_oscillator\"),\n",
    "        \"Rp_per_oscillator\": partial(plot_R, variable=\"Rp_per_oscillator\"),\n",
    "        \"Tp_per_oscillator\": partial(plot_T, variable=\"Tp_per_oscillator\"),\n",
    "        \"Ap_per_oscillator\": partial(plot_A, variable=\"Ap_per_oscillator\"),\n",
    "    }\n",
    "\n",
    "    plot_funcs = []\n",
    "    for var in plot_vars:\n",
    "        try:\n",
    "            func = var_func_mapping[var]\n",
    "        except KeyError:\n",
    "            func = partial(plot_var, variable=var)\n",
    "        plot_funcs.append(func)\n",
    "\n",
    "    return plot_funcs"
   ]
  },
  {
   "cell_type": "code",
   "execution_count": null,
   "id": "3e1dad77-b4f5-44da-b7cf-15ecf1c7b8d6",
   "metadata": {
    "tags": []
   },
   "outputs": [],
   "source": [
    "# new version\n",
    "def plot_RTA(\n",
    "    period,\n",
    "    excitonic_layer_thickness,\n",
    "    num_periods,\n",
    "    theta,\n",
    "    title=\"\",\n",
    "    include=[\"LOPC\", \"CRS_1\"],\n",
    "    plot_vars=[\"R\", \"T\", \"A\"],\n",
    "    label_override=None,\n",
    "    label_append=None,\n",
    "):\n",
    "    label_field = None  # for debugging\n",
    "    label_append = \"\" if label_append is None else label_append\n",
    "\n",
    "    P = period\n",
    "    t = excitonic_layer_thickness\n",
    "    N = num_periods\n",
    "\n",
    "    plot_funcs = [\n",
    "        partial(func, x=\"wavelength\", label_field=label_field)\n",
    "        for func in plot_vars_to_funcs(plot_vars)\n",
    "    ]\n",
    "    curves = []\n",
    "    if \"LOPC\" in include:\n",
    "        lopc_label = \" (LOPC)\" if label_override is None else label_override\n",
    "        lopc_label += label_append\n",
    "        lopc_sel = restacked_ds.sel(\n",
    "            period=P, excitonic_layer_thickness=t, num_periods=N\n",
    "        ).squeeze()\n",
    "        lopc_sel = sel_or_integrate(lopc_sel, \"theta\", theta, normalisation=1)\n",
    "        lopc_curves = [\n",
    "            plot_func(dataset=lopc_sel, label_append=lopc_label).opts(line_dash=\"solid\")\n",
    "            for plot_func in plot_funcs\n",
    "        ]\n",
    "        curves += lopc_curves\n",
    "    if \"CRS_1\" in include:\n",
    "        crs_1_label = \" (CRS)\" if label_override is None else label_override\n",
    "        crs_1_label += label_append\n",
    "        crs_1_sel = crs_1.sel(total_excitonic_thickness=t * N).squeeze()\n",
    "        crs_1_sel = sel_or_integrate(crs_1_sel, \"theta\", theta, normalisation=1)\n",
    "        crs_1_curves = [\n",
    "            plot_func(dataset=crs_1_sel, label_append=crs_1_label).opts(\n",
    "                line_dash=\"dashed\"\n",
    "            )\n",
    "            for plot_func in plot_funcs\n",
    "        ]\n",
    "        curves += crs_1_curves\n",
    "    if \"FRS_1\" in include:\n",
    "        frs_1_label = \" (FRS)\" if label_override is None else label_override\n",
    "        frs_1_label += label_append\n",
    "        frs_1_sel = frs_1.sel(total_thickness=(P + t) * N).squeeze()\n",
    "        frs_1_sel = sel_or_integrate(frs_1_sel, \"theta\", theta, normalisation=1)\n",
    "        frs_1_curves = [\n",
    "            plot_func(dataset=frs_1_sel, label_append=frs_1_label).opts(\n",
    "                line_dash=\"dotted\"\n",
    "            )\n",
    "            for plot_func in plot_funcs\n",
    "        ]\n",
    "        curves += frs_1_curves\n",
    "\n",
    "    overlay = hv.Overlay(curves).opts(\n",
    "        opts.Curve(\n",
    "            ylim=(0, 1),\n",
    "            ylabel=\"Intensity\",\n",
    "            title=f\"{title}{coordinate_string(period=P, excitonic_layer_thickness=t, num_periods=N, theta=theta)}\",\n",
    "        ),\n",
    "    )\n",
    "\n",
    "    return overlay\n",
    "\n",
    "\n",
    "# # test\n",
    "# display(\n",
    "#     plot_RTA(200, 40, 20, 0, \"test\\n\", include=[\"LOPC\", \"CRS_1\", \"FRS_1\"]).opts(\n",
    "#         legend_position=\"right\"\n",
    "#     )\n",
    "# )\n",
    "\n",
    "# display(\n",
    "#     plot_RTA(\n",
    "#         200,\n",
    "#         40,\n",
    "#         20,\n",
    "#         (10, 50),\n",
    "#         \"test RA only\\n\",\n",
    "#         include=[\"LOPC\", \"CRS_1\", \"FRS_1\"],\n",
    "#         plot_vars=[\"R\", \"A\"],\n",
    "#     ).opts(opts.Overlay(legend_position=\"right\"))\n",
    "# )\n",
    "\n",
    "# display(\n",
    "#     plot_RTA(\n",
    "#         200,\n",
    "#         40,\n",
    "#         20,\n",
    "#         75,\n",
    "#         \"test\\n\",\n",
    "#         include=[\"LOPC\"],\n",
    "#         plot_vars=[\"R_per_oscillator\", \"A_per_oscillator\"],\n",
    "#         label_append=\" test\",\n",
    "#         label_override=\"OVERRIDDEN\",\n",
    "#     ).opts(opts.Curve(ylim=(None, None)), opts.Overlay(legend_position=\"right\"))\n",
    "# )"
   ]
  },
  {
   "cell_type": "markdown",
   "id": "20905ebf-bb50-4146-8f7d-eed23fe54e9a",
   "metadata": {
    "tags": []
   },
   "source": [
    "#### Plot a comparison of normal incidence to integrated"
   ]
  },
  {
   "cell_type": "code",
   "execution_count": null,
   "id": "903df102-0103-43d2-b3ac-5d76bd52b0b4",
   "metadata": {
    "tags": []
   },
   "outputs": [],
   "source": [
    "def plot_comparison(\n",
    "    *comparison_params: tuple[dict, list[\"opts\"]], plot_func=plot_RTA, **shared_params\n",
    "):\n",
    "    param_opts = [\n",
    "        (shared_params | comp_params, comp_opts)\n",
    "        for comp_params, comp_opts in comparison_params\n",
    "    ]\n",
    "    plots = [\n",
    "        plot_func(**comp_params).opts(*comp_opts)\n",
    "        for comp_params, comp_opts in param_opts\n",
    "    ]\n",
    "    return plots"
   ]
  },
  {
   "cell_type": "code",
   "execution_count": null,
   "id": "8e08b517",
   "metadata": {
    "tags": []
   },
   "outputs": [],
   "source": [
    "def compare_RTA(*args, opts_cycle=None, plot_func=plot_RTA, **shared_params):\n",
    "    default_opts = [\n",
    "        [opts.Curve(line_dash=style)]\n",
    "        for style in [\"solid\", \"dashed\", \"dotted\", \"dotdash\", \"dashdot\"]\n",
    "    ]\n",
    "    opts_cycle = default_opts if opts_cycle is None else opts_cycle\n",
    "\n",
    "    # comparison_params = list(zip(args, opts_cycle))\n",
    "\n",
    "    plots = plot_comparison(\n",
    "        *zip(args, opts_cycle), plot_func=plot_func, **shared_params\n",
    "    )\n",
    "    overlay = hv.Overlay(plots).opts(opts.Overlay(legend_position=\"right\"))\n",
    "\n",
    "    return overlay\n",
    "\n",
    "\n",
    "# # test\n",
    "# shared_params = {\n",
    "#     \"period\": 250,\n",
    "#     \"excitonic_layer_thickness\": 70,\n",
    "#     \"num_periods\": 30,\n",
    "#     \"include\": [\"LOPC\"],\n",
    "# }\n",
    "# compare_RTA({\"theta\": (0, 75), \"label_override\": \" (integrated)\"}, {\"theta\": 0, \"label_override\": \" (θ = 0)\"}, **shared_params)"
   ]
  },
  {
   "cell_type": "code",
   "execution_count": null,
   "id": "1c7b6652-092f-4dab-8c19-1549de1f101f",
   "metadata": {
    "tags": []
   },
   "outputs": [],
   "source": [
    "compare_RTA_normal_vs_integrated = partial(\n",
    "    compare_RTA,\n",
    "    {\"theta\": (0, 45), \"label_override\": \" (integrated)\"},\n",
    "    {\"theta\": 0, \"label_override\": \" (θ = 0)\"},\n",
    "    include=[\"LOPC\"],\n",
    ")\n",
    "\n",
    "# # test\n",
    "# shared_params = {\n",
    "#     \"period\": 250,\n",
    "#     \"excitonic_layer_thickness\": 70,\n",
    "#     \"num_periods\": 30,\n",
    "# }\n",
    "# compare_RTA_normal_vs_integrated(**shared_params)"
   ]
  },
  {
   "cell_type": "markdown",
   "id": "79d0bef6-a389-465f-94a1-174aea97f4aa",
   "metadata": {
    "tags": []
   },
   "source": [
    "#### Plot the RTA of the structures in 2D"
   ]
  },
  {
   "cell_type": "code",
   "execution_count": null,
   "id": "5135644c-8a8f-4991-828c-067c9c219159",
   "metadata": {
    "tags": []
   },
   "outputs": [],
   "source": [
    "def plot_RTA_2D(\n",
    "    period,\n",
    "    excitonic_layer_thickness,\n",
    "    num_periods,\n",
    "    theta=(0, 75),\n",
    "    title=\"\",\n",
    "    include=[\"LOPC\", \"CRS_1\"],\n",
    "):\n",
    "    P = period\n",
    "    t = excitonic_layer_thickness\n",
    "    N = num_periods\n",
    "\n",
    "    plots = []\n",
    "    if \"LOPC\" in include:\n",
    "        lopc_sel = restacked_ds.sel(\n",
    "            period=P, excitonic_layer_thickness=t, num_periods=N\n",
    "        ).squeeze()\n",
    "        lopc_sel = lopc_sel.sel(theta=slice(*theta))\n",
    "        plots.append(\n",
    "            lopc_sel[\"R\"]\n",
    "            .hvplot(kind=\"image\", x=\"wavelength\", y=\"theta\", title=\"Reflectance (LOPC)\")\n",
    "            .opts(opts.Image(cmap=\"viridis\"))\n",
    "        )\n",
    "        plots.append(\n",
    "            lopc_sel[\"T\"]\n",
    "            .hvplot(\n",
    "                kind=\"image\", x=\"wavelength\", y=\"theta\", title=\"Transmittance (LOPC)\"\n",
    "            )\n",
    "            .opts(opts.Image(cmap=\"cividis\"))\n",
    "        )\n",
    "        plots.append(\n",
    "            lopc_sel[\"A\"]\n",
    "            .hvplot(kind=\"image\", x=\"wavelength\", y=\"theta\", title=\"Absorptance (LOPC)\")\n",
    "            .opts(opts.Image(cmap=\"inferno\"))\n",
    "        )\n",
    "    if \"CRS_1\" in include:\n",
    "        crs_1_sel = crs_1.sel(total_excitonic_thickness=t * N).squeeze()\n",
    "        crs_1_sel = crs_1_sel.sel(theta=slice(*theta))\n",
    "        plots.append(\n",
    "            crs_1_sel[\"R\"]\n",
    "            .hvplot(kind=\"image\", x=\"wavelength\", y=\"theta\", title=\"Reflectance (CRS)\")\n",
    "            .opts(opts.Image(cmap=\"viridis\"))\n",
    "        )\n",
    "        plots.append(\n",
    "            crs_1_sel[\"T\"]\n",
    "            .hvplot(\n",
    "                kind=\"image\", x=\"wavelength\", y=\"theta\", title=\"Transmittance (CRS)\"\n",
    "            )\n",
    "            .opts(opts.Image(cmap=\"cividis\"))\n",
    "        )\n",
    "        plots.append(\n",
    "            crs_1_sel[\"A\"]\n",
    "            .hvplot(kind=\"image\", x=\"wavelength\", y=\"theta\", title=\"Absorptance (CRS)\")\n",
    "            .opts(opts.Image(cmap=\"inferno\"))\n",
    "        )\n",
    "    if \"FRS_1\" in include:\n",
    "        frs_1_sel = frs_1.sel(total_thickness=(P + t) * N).squeeze()\n",
    "        frs_1_sel = frs_1_sel.sel(theta=slice(*theta))\n",
    "        plots.append(\n",
    "            frs_1_sel[\"R\"]\n",
    "            .hvplot(kind=\"image\", x=\"wavelength\", y=\"theta\", title=\"Reflectance (FRS)\")\n",
    "            .opts(opts.Image(cmap=\"viridis\"))\n",
    "        )\n",
    "        plots.append(\n",
    "            frs_1_sel[\"T\"]\n",
    "            .hvplot(\n",
    "                kind=\"image\", x=\"wavelength\", y=\"theta\", title=\"Transmittance (FRS)\"\n",
    "            )\n",
    "            .opts(opts.Image(cmap=\"cividis\"))\n",
    "        )\n",
    "        plots.append(\n",
    "            frs_1_sel[\"A\"]\n",
    "            .hvplot(kind=\"image\", x=\"wavelength\", y=\"theta\", title=\"Absorptance (FRS)\")\n",
    "            .opts(opts.Image(cmap=\"inferno\"))\n",
    "        )\n",
    "\n",
    "    layout = hv.Layout(plots).opts(\n",
    "        opts.Image(\n",
    "            clim=(0, 1),\n",
    "            clabel=\"Intensity\",\n",
    "        ),\n",
    "        opts.Layout(\n",
    "            title=f\"{title}{coordinate_string(period=P, excitonic_layer_thickness=t, num_periods=N)}\",\n",
    "        ),\n",
    "    )\n",
    "\n",
    "    return layout\n",
    "\n",
    "\n",
    "# # test\n",
    "# display(plot_RTA_2D(200, 40, 20, (0, 90), \"test\\n\", include=[\"LOPC\", \"CRS_1\", \"FRS_1\"]).opts(opts.Image(frame_width=200)).cols(3))\n",
    "\n",
    "# display(plot_RTA_2D(200, 40, 20, (10, 50), \"test\\n\", include=[\"LOPC\", \"CRS_1\", \"FRS_1\"]).opts(opts.Image(frame_width=200)).cols(3))"
   ]
  },
  {
   "cell_type": "markdown",
   "id": "bc74d9d4-7b45-4f6f-9ae5-70904d80f2b0",
   "metadata": {
    "tags": []
   },
   "source": [
    "#### Plot an enhancement factor."
   ]
  },
  {
   "cell_type": "code",
   "execution_count": null,
   "id": "3a8ee053-47a4-4934-bdba-d431ce8462be",
   "metadata": {
    "tags": []
   },
   "outputs": [],
   "source": [
    "def plot_ef(\n",
    "    variable,\n",
    "    dataset,\n",
    "    sel=None,\n",
    "    sel_method=None,\n",
    "    title=\"\",\n",
    "    *,\n",
    "    x=\"wavelength\",\n",
    "    y=None,\n",
    "):\n",
    "    sel = {} if sel is None else sel\n",
    "    da = dataset[variable].sel(**sel, method=sel_method).squeeze()\n",
    "    if y is None:\n",
    "        plot = da.hvplot(x=x, label=f\"{variable} enhancement factor\")\n",
    "        plot *= hv.HLine(1).opts(line_dash=\"dotted\")\n",
    "    else:\n",
    "        plot = da.hvplot(\n",
    "            kind=\"image\",\n",
    "            x=x,\n",
    "            y=y,\n",
    "            label=f\"{variable} enhancement factor\",\n",
    "            cmap=\"RdBu_r\",\n",
    "            clim=(0.5, 1.5),\n",
    "        )\n",
    "    plot = plot.opts(\n",
    "        opts.Curve(\n",
    "            title=f\"{title}{coordinate_string(**sel)}\",\n",
    "        ),\n",
    "        opts.Overlay(\n",
    "            title=f\"{title}{coordinate_string(**sel)}\",\n",
    "        ),\n",
    "    )\n",
    "\n",
    "    return plot\n",
    "\n",
    "\n",
    "# # test\n",
    "# sel_1 = {\"period\": 200, \"excitonic_layer_thickness\": 40, \"num_periods\": 10, \"theta\": 30}\n",
    "# sel_2 = {\"period\": 200, \"excitonic_layer_thickness\": 40, \"num_periods\": 10, \"theta\": 0}\n",
    "# sel_3 = {\"period\": 200, \"excitonic_layer_thickness\": 40, \"num_periods\": 10}\n",
    "# display(\n",
    "#     (\n",
    "#         plot_ef(\"As\", restacked_norm_1, sel_1, \"nearest\", \"test\\n\")\n",
    "#         + plot_ef(\"As\", restacked_norm_2, sel_2, title=\"test2\\n\")\n",
    "#     ).cols(1)\n",
    "# )\n",
    "# display(\n",
    "#     plot_ef(\"As\", restacked_norm_1, sel_3, title=\"test3\\n\", x=\"theta\", y=\"wavelength\").opts(clim=(0, 2), cmap=\"RdBu_r\")\n",
    "# )"
   ]
  },
  {
   "cell_type": "markdown",
   "id": "f7bb226a-976c-48a6-ab6b-873510c60797",
   "metadata": {
    "tags": []
   },
   "source": [
    "#### Plot a difference factor."
   ]
  },
  {
   "cell_type": "code",
   "execution_count": null,
   "id": "940740df-fc57-4f4d-ace6-6f2233adce4d",
   "metadata": {
    "tags": []
   },
   "outputs": [],
   "source": [
    "def plot_df(\n",
    "    variable,\n",
    "    dataset,\n",
    "    sel=None,\n",
    "    sel_method=None,\n",
    "    title=\"\",\n",
    "    *,\n",
    "    x=\"wavelength\",\n",
    "    y=None,\n",
    "):\n",
    "    sel = {} if sel is None else sel\n",
    "    da = dataset[variable].sel(**sel, method=sel_method).squeeze()\n",
    "    if y is None:\n",
    "        plot = da.hvplot(x=x, label=f\"{variable} difference factor\")\n",
    "        plot *= hv.HLine(0).opts(line_dash=\"dotted\")\n",
    "    else:\n",
    "        plot = da.hvplot(\n",
    "            kind=\"image\",\n",
    "            x=x,\n",
    "            y=y,\n",
    "            label=f\"{variable} difference factor\",\n",
    "            cmap=\"RdBu_r\",\n",
    "            clim=(-0.5, 0.5),\n",
    "        )\n",
    "    plot = plot.opts(\n",
    "        opts.Curve(\n",
    "            title=f\"{title}{coordinate_string(**sel)}\",\n",
    "        ),\n",
    "        opts.Overlay(\n",
    "            title=f\"{title}{coordinate_string(**sel)}\",\n",
    "        ),\n",
    "    )\n",
    "\n",
    "    return plot"
   ]
  },
  {
   "cell_type": "markdown",
   "id": "7f32e392-9405-4c95-b45e-a9ef844115c4",
   "metadata": {
    "tags": []
   },
   "source": [
    "#### Test plot_optimum_over_dim"
   ]
  },
  {
   "cell_type": "code",
   "execution_count": null,
   "id": "c9abae83-767c-46eb-b9b9-790d57be032b",
   "metadata": {
    "tags": []
   },
   "outputs": [],
   "source": [
    "# foo, bar = plot_optimum_over_dim(restacked_ds.A.sel(theta=0, wavelength=660, method=\"nearest\"), \"period\", \"excitonic_layer_thickness\", \"num_periods\", \"max\")"
   ]
  },
  {
   "cell_type": "code",
   "execution_count": null,
   "id": "2c9d8cfc-67db-40a8-a378-096827508de6",
   "metadata": {
    "tags": []
   },
   "outputs": [],
   "source": [
    "# foo, bar = plot_optimum_over_dim(integrate_da(restacked_ds.A, \"theta\", normalisation=1).sel(wavelength=660, method=\"nearest\"), \"period\", \"excitonic_layer_thickness\", \"num_periods\", \"max\")"
   ]
  },
  {
   "cell_type": "markdown",
   "id": "3453ba8b-c757-4a7b-9665-61faf4484522",
   "metadata": {
    "tags": []
   },
   "source": [
    "#### Find and plot the min or max over any dimension."
   ]
  },
  {
   "cell_type": "code",
   "execution_count": null,
   "id": "525a5060-8088-4754-aef3-2db2e15ab0c2",
   "metadata": {
    "tags": []
   },
   "outputs": [],
   "source": [
    "def variable_to_string(variable, append=None):\n",
    "    if variable.endswith(\"_per_oscillator\"):\n",
    "        variable = variable[0] + \"po\"\n",
    "    if append:\n",
    "        variable = variable + append\n",
    "    return variable"
   ]
  },
  {
   "cell_type": "code",
   "execution_count": null,
   "id": "ae83ab93-468a-4c0d-808f-4869afeeae54",
   "metadata": {
    "tags": []
   },
   "outputs": [],
   "source": [
    "# print(variable_to_string(\"A\"))\n",
    "# print(variable_to_string(\"A_per_oscillator\"))\n",
    "# print(variable_to_string(\"A\", append=\"df\"))\n",
    "# print(variable_to_string(\"A_per_oscillator\", append=\"df\"))"
   ]
  },
  {
   "cell_type": "code",
   "execution_count": null,
   "id": "c36a0876-2980-4a7b-a4a2-5ea3730918ed",
   "metadata": {
    "tags": []
   },
   "outputs": [],
   "source": [
    "def wrapped_2D_plot(\n",
    "    variable,\n",
    "    dataset,\n",
    "    optimise=\"max\",\n",
    "    lorentz_line=0,\n",
    "    window_radius=0,\n",
    "    theta=0,\n",
    "    cmap=\"viridis\",\n",
    "    period_start=None,\n",
    "    period_stop=None,\n",
    "    integrate_angle=None,\n",
    "    extra_plots=[\"RTA_normal\", \"RTA_int\", \"norm_1_normal\", \"norm_1_int\"],\n",
    "    dim=None,  # automatically assign if dataset recognised\n",
    "    save_figs=True,\n",
    "    shade_window=True,\n",
    "):\n",
    "    plots = []\n",
    "    append = None\n",
    "\n",
    "    if str(dataset) == \"restacked_ds\":\n",
    "        # the drop_sel is important for avoiding the most common degenerate cases\n",
    "        dataset = restacked_ds.drop_sel({\"excitonic_layer_thickness\": 0})\n",
    "        dim = \"period\"\n",
    "        append = None\n",
    "        stored_ds = xr.open_mfdataset(\n",
    "            data_path / f\"run_{run_number}/opt_over_period_LOPC.nc\",\n",
    "            engine=xarray_engine,\n",
    "            lock=False,\n",
    "        )\n",
    "        stored_tab = pd.read_csv(\n",
    "            data_path / f\"run_{run_number}/optimal_LOPC.csv\",\n",
    "            index_col=[\n",
    "                \"variable\",\n",
    "                \"maxmin\",\n",
    "                \"lorentz_line\",\n",
    "                \"window_radius\",\n",
    "                \"theta_start\",\n",
    "                \"theta_stop\",\n",
    "            ],\n",
    "        )\n",
    "\n",
    "    if str(dataset) == \"restacked_norm_1\":\n",
    "        # the drop_sel is important for avoiding the most common degenerate cases\n",
    "        dataset = restacked_norm_1.drop_sel({\"excitonic_layer_thickness\": 0})\n",
    "        dim = \"period\"\n",
    "        append = \"ef\"\n",
    "        stored_ds = xr.open_mfdataset(\n",
    "            data_path / f\"run_{run_number}/opt_over_period_norm_1.nc\",\n",
    "            engine=xarray_engine,\n",
    "            lock=False,\n",
    "        )\n",
    "        stored_tab = pd.read_csv(\n",
    "            data_path / f\"run_{run_number}/optimal_norm_1.csv\",\n",
    "            index_col=[\n",
    "                \"variable\",\n",
    "                \"maxmin\",\n",
    "                \"lorentz_line\",\n",
    "                \"window_radius\",\n",
    "                \"theta_start\",\n",
    "                \"theta_stop\",\n",
    "            ],\n",
    "        )\n",
    "\n",
    "    if str(dataset) == \"restacked_diff_1\":\n",
    "        # the drop_sel is important for avoiding the most common degenerate cases\n",
    "        dataset = restacked_diff_1.drop_sel({\"excitonic_layer_thickness\": 0})\n",
    "        dim = \"period\"\n",
    "        append = \"df\"\n",
    "        stored_ds = xr.open_mfdataset(\n",
    "            data_path / f\"run_{run_number}/opt_over_period_diff_1.nc\",\n",
    "            engine=xarray_engine,\n",
    "            lock=False,\n",
    "        )\n",
    "        stored_tab = pd.read_csv(\n",
    "            data_path / f\"run_{run_number}/optimal_diff.csv\",\n",
    "            index_col=[\n",
    "                \"variable\",\n",
    "                \"maxmin\",\n",
    "                \"lorentz_line\",\n",
    "                \"window_radius\",\n",
    "                \"theta_start\",\n",
    "                \"theta_stop\",\n",
    "            ],\n",
    "        )\n",
    "\n",
    "    da = dataset[variable]\n",
    "\n",
    "    try:\n",
    "        optimum_coords = stored_tab.loc[\n",
    "            variable, optimise, lorentz_line, window_radius, theta, integrate_angle\n",
    "        ]\n",
    "        plot_1 = (\n",
    "            stored_ds[variable]\n",
    "            .sel(\n",
    "                optimise=optimise,\n",
    "                lorentz_line=lorentz_line,\n",
    "                window_radius=window_radius,\n",
    "                theta_start=theta,\n",
    "                theta_stop=integrate_angle,\n",
    "            )\n",
    "            .hvplot(kind=\"quadmesh\", x=\"excitonic_layer_thickness\", y=\"num_periods\")\n",
    "        )\n",
    "        plot_1 *= hv.Points(\n",
    "            (optimum_coords[\"excitonic_layer_thickness\"], optimum_coords[\"num_periods\"])\n",
    "        )\n",
    "    except (KeyError, NameError):\n",
    "        warnings.warn(\"stored data not found, computing from scratch\")\n",
    "        if not integrate_angle:\n",
    "            da = da.sel(theta=theta, method=\"nearest\")\n",
    "        else:  # integrate_angle must be a float, so that (theta, integrate_angle) is a slice syntax\n",
    "            da = da.sel(theta=slice(theta, integrate_angle))\n",
    "            da = integrate_da(da, \"theta\", weighting=1, normalisation=1)\n",
    "\n",
    "        if period_start < period_stop:\n",
    "            da = da.sel(period=slice(period_start, period_stop))\n",
    "        else:  # otherwise no data is selected and everything breaks\n",
    "            da = da.sel(period=slice(period_start, None))\n",
    "        da = select_lorentz_line(\n",
    "            da, lorentz_line=lorentz_line, window_radius=window_radius\n",
    "        )\n",
    "\n",
    "        if window_radius != 0:\n",
    "            da = integrate_da(da, \"wavelength\", weighting=1, normalisation=1)\n",
    "\n",
    "        plot_1, optimum_coords = plot_optimum_over_dim(\n",
    "            da,\n",
    "            dim=dim,\n",
    "            x=\"excitonic_layer_thickness\",\n",
    "            y=\"num_periods\",\n",
    "            optimise=optimise,\n",
    "        )\n",
    "    finally:\n",
    "        da = select_lorentz_line(\n",
    "            dataset, lorentz_line=lorentz_line, window_radius=window_radius\n",
    "        )\n",
    "\n",
    "        vline_locs = [0]\n",
    "\n",
    "        if window_radius == 0:\n",
    "            wavelength = float(da.wavelength)\n",
    "            title = f\"{optimise.capitalize()}imum {variable} at {wavelength:.0f} nm\"\n",
    "            if lorentz_line != 0:  # don't put two lines over the resonance\n",
    "                vline_locs.append(lorentz_line)\n",
    "        else:\n",
    "            wavelength_start = float(da.wavelength[0])\n",
    "            wavelength_stop = float(da.wavelength[-1])\n",
    "            title = f\"{optimise.capitalize()}imum integrated {variable} between {wavelength_start:.0f} and {wavelength_stop:.0f} nm\"\n",
    "            vline_locs.append(lorentz_line - window_radius)\n",
    "            vline_locs.append(lorentz_line + window_radius)\n",
    "\n",
    "    P = float(optimum_coords[\"period\"])\n",
    "    t = float(optimum_coords[\"excitonic_layer_thickness\"])\n",
    "    N = float(optimum_coords[\"num_periods\"])\n",
    "    th = (theta, integrate_angle) if integrate_angle else theta\n",
    "\n",
    "    lorentz_lines = lorentz_vlines(vline_locs, scale=1e-9, mode=\"wavelength\").opts(\n",
    "        opts.VLine(line_color=green, line_dash=\"dotted\"),\n",
    "    )\n",
    "\n",
    "    # give the resonance line a special colour\n",
    "    lorentz_lines.VLine.I.opts(opts.VLine(line_color=yellow))\n",
    "\n",
    "    # shade the integration window:\n",
    "    if window_radius != 0 and shade_window:\n",
    "        window_vspan = hv.VSpan(\n",
    "            lorentz_lines.VLine.II.x, lorentz_lines.VLine.III.x\n",
    "        ).opts(\n",
    "            opts.VSpan(color=\"gray\", alpha=0.1)\n",
    "        )  # shade the area between the second and third lines\n",
    "        lorentz_lines *= window_vspan\n",
    "\n",
    "    plot_1.opts(\n",
    "        opts.QuadMesh(cmap=cmap, xlabel=r\"\\(d_e\\ \\text{(nm)}\\)\"),\n",
    "        opts.Points(color=\"red\"),\n",
    "        opts.Overlay(\n",
    "            # title=f\"{title}\\nOptimal period: {P:.0f}\",\n",
    "            title=\"\"\n",
    "        ),\n",
    "    )\n",
    "\n",
    "    plots.append(plot_1)\n",
    "    if save_figs:\n",
    "        variable = variable_to_string(variable, append=append)\n",
    "\n",
    "        export_png(\n",
    "            hv.render(plot_1.options(toolbar=None)),\n",
    "            filename=fig_path\n",
    "            / f\"opt_{variable}_{optimise}_{lorentz_line}_{window_radius}_{theta}_{integrate_angle}_2D.png\",\n",
    "            webdriver=web_driver,\n",
    "        )\n",
    "        # hv.save(\n",
    "        #     plot_1,\n",
    "        #     filename=fig_path\n",
    "        #     / f\"opt_{variable}_{optimise}_{lorentz_line}_{window_radius}_{theta}_{integrate_angle}_2D\",\n",
    "        #     fmt=SAVE_FORMAT,\n",
    "        #     toolbar=False,\n",
    "        # )\n",
    "\n",
    "    if \"RTA_normal\" in extra_plots:  # plot RTA at theta=0\n",
    "        new_plot = plot_RTA(\n",
    "            period=P, excitonic_layer_thickness=t, num_periods=N, theta=0\n",
    "        )\n",
    "        new_plot *= lorentz_lines\n",
    "\n",
    "        plots.append(new_plot)\n",
    "        if save_figs:\n",
    "            export_png(\n",
    "                hv.render(new_plot.options(legend_position=\"right\", toolbar=None)),\n",
    "                filename=fig_path\n",
    "                / f\"opt_{variable}_{optimise}_{lorentz_line}_{window_radius}_{theta}_{integrate_angle}_RTA_0.png\",\n",
    "                webdriver=web_driver,\n",
    "            )\n",
    "\n",
    "    if \"RTA_int\" in extra_plots:  # plot RTA at theta OR integrating over theta\n",
    "        new_plot = plot_RTA(\n",
    "            period=P, excitonic_layer_thickness=t, num_periods=N, theta=th\n",
    "        )\n",
    "        new_plot *= lorentz_lines\n",
    "        plots.append(new_plot)\n",
    "        if save_figs:\n",
    "            export_png(\n",
    "                hv.render(new_plot.options(legend_position=\"right\", toolbar=None)),\n",
    "                filename=fig_path\n",
    "                / f\"opt_{variable}_{optimise}_{lorentz_line}_{window_radius}_{theta}_{integrate_angle}_RTA_i.png\",\n",
    "                webdriver=web_driver,\n",
    "            )\n",
    "            # hv.save(\n",
    "            #     new_plot.options(legend_position=\"right\", toolbar=None),\n",
    "            #     filename=fig_path\n",
    "            #     / f\"opt_{variable}_{optimise}_{lorentz_line}_{window_radius}_{theta}_{integrate_angle}_RTA_i\",\n",
    "            #     fmt=SAVE_FORMAT,\n",
    "            # )\n",
    "\n",
    "    if \"norm_1_normal\" in extra_plots:  # plot enhancement factor at theta=0\n",
    "        sel = {\n",
    "            \"period\": P,\n",
    "            \"excitonic_layer_thickness\": t,\n",
    "            \"num_periods\": N,\n",
    "            \"theta\": 0,\n",
    "        }\n",
    "        new_plot = plot_ef(variable=\"A\", dataset=restacked_norm_1, sel=sel)\n",
    "        new_plot *= lorentz_lines\n",
    "\n",
    "        plots.append(new_plot)\n",
    "        if save_figs:\n",
    "            export_png(\n",
    "                hv.render(new_plot.options(toolbar=None)),\n",
    "                filename=fig_path\n",
    "                / f\"opt_{variable}_{optimise}_{lorentz_line}_{window_radius}_{theta}_{integrate_angle}_AEF_0.png\",\n",
    "                webdriver=web_driver,\n",
    "            )\n",
    "\n",
    "    if (\n",
    "        \"norm_1_int\" in extra_plots\n",
    "    ):  # plot enhancement factor at theta OR integrating over theta\n",
    "        try:  # this should work if not integrating over theta\n",
    "            sel = {\n",
    "                \"period\": P,\n",
    "                \"excitonic_layer_thickness\": t,\n",
    "                \"num_periods\": N,\n",
    "                \"theta\": th,\n",
    "            }\n",
    "            new_plot = plot_ef(variable=\"A\", dataset=restacked_norm_1, sel=sel)\n",
    "            new_plot *= lorentz_lines\n",
    "        except:  # if integrating, we need to do the integral *before* normalising\n",
    "            ds_int = sel_or_integrate(ds, dim=\"theta\", val=th)\n",
    "            crs_1_int = sel_or_integrate(crs_1, dim=\"theta\", val=th)\n",
    "            norm = enhancement_factor(\n",
    "                ds_int,\n",
    "                ref=crs_1_int,\n",
    "                common_dim=\"total_excitonic_thickness\",\n",
    "                method=\"groupby\",\n",
    "            )\n",
    "            restacked_norm = restack_plt_to_period(norm)\n",
    "            # replaces the lines below\n",
    "            #             # this should all get separated out into its own function\n",
    "            #             crs_1_like_ds = crs_1.sel(\n",
    "            #                 total_excitonic_thickness=ds.total_excitonic_thickness\n",
    "            #             )\n",
    "\n",
    "            #             ds_int = sel_or_integrate(ds, dim=\"theta\", val=th)\n",
    "            #             crs_1_int = sel_or_integrate(crs_1_like_ds, dim=\"theta\", val=th)\n",
    "            #             norm = ds_int / crs_1_int\n",
    "            #             restacked_norm = norm.stack(multiperiod=['passive_layer_thickness', 'excitonic_layer_thickness']).set_index(multiperiod=['period', 'excitonic_layer_thickness']).unstack()\n",
    "\n",
    "            sel = {\"period\": P, \"excitonic_layer_thickness\": t, \"num_periods\": N}\n",
    "            new_plot = plot_ef(variable=\"A\", dataset=restacked_norm, sel=sel)\n",
    "            new_plot *= lorentz_lines\n",
    "            sel[\"theta\"] = th\n",
    "            new_plot = new_plot.opts(\n",
    "                opts.Overlay(\n",
    "                    # title=f\"{coordinate_string(**sel)}\",\n",
    "                    title=\"\",\n",
    "                )\n",
    "            )\n",
    "        plots.append(new_plot)\n",
    "        if save_figs:\n",
    "            export_png(\n",
    "                hv.render(new_plot.options(toolbar=None)),\n",
    "                filename=fig_path\n",
    "                / f\"opt_{variable}_{optimise}_{lorentz_line}_{window_radius}_{theta}_{integrate_angle}_AEF_i.png\",\n",
    "                webdriver=web_driver,\n",
    "            )\n",
    "            # hv.save(\n",
    "            #     new_plot,\n",
    "            #     filename=fig_path\n",
    "            #     / f\"opt_{variable}_{optimise}_{lorentz_line}_{window_radius}_{theta}_{integrate_angle}_AEF_i\",\n",
    "            #     fmt=SAVE_FORMAT,\n",
    "            #     toolbar=False,\n",
    "            # )\n",
    "\n",
    "    print(f\"optimum parameters: P={P}, t={t}, N={N}\")\n",
    "    return hv.Layout(plots).cols(1)"
   ]
  },
  {
   "cell_type": "markdown",
   "id": "1509027e-a985-4748-b9c9-84686ed42445",
   "metadata": {
    "tags": []
   },
   "source": [
    "#### Plot the E-field, overlayed with the refractive index profile and layer boundaries."
   ]
  },
  {
   "cell_type": "code",
   "execution_count": null,
   "id": "46b25163-e485-464c-ba56-673cee079104",
   "metadata": {
    "tags": []
   },
   "outputs": [],
   "source": [
    "# sometimes this errors on the first call for some reason\n",
    "fdtd = lumapi.FDTD()\n",
    "\n",
    "oscillator = LumericalOscillator(fdtd)"
   ]
  },
  {
   "cell_type": "code",
   "execution_count": null,
   "id": "e80526b1-6b5b-438d-8576-a274b0b07fed",
   "metadata": {
    "tags": []
   },
   "outputs": [],
   "source": [
    "# plot_field(\n",
    "#     680,\n",
    "#     lumerical_session=fdtd,\n",
    "#     oscillator=oscillator,\n",
    "#     ri_lower=1.35,\n",
    "#     ri_upper=1.6,\n",
    "#     excitonic_layer_thickness=30,\n",
    "#     passive_layer_thickness=210,\n",
    "#     num_periods=10,\n",
    "# ).opts(opts.VSpan(color=\"gray\"))\n",
    "\n",
    "\n",
    "def wrap_plot_field(\n",
    "    wavelength,\n",
    "    excitonic_layer_thickness,\n",
    "    passive_layer_thickness,\n",
    "    num_periods,\n",
    "    theta=0,\n",
    "    z_scale=1e-6,\n",
    "):\n",
    "    coords = {\n",
    "        \"λ\": wavelength,\n",
    "        \"Excitonic layer thickness\": excitonic_layer_thickness,\n",
    "        \"Passive layer thickness\": passive_layer_thickness,\n",
    "        \"Number of periods\": num_periods,\n",
    "    }\n",
    "\n",
    "    title = f\"{coordinate_string(**coords)}\"\n",
    "\n",
    "    return plot_field(\n",
    "        wavelength=wavelength,\n",
    "        lumerical_session=fdtd,\n",
    "        oscillator=oscillator,\n",
    "        ri_lower=1.35,\n",
    "        ri_upper=1.6,\n",
    "        excitonic_layer_thickness=excitonic_layer_thickness,\n",
    "        passive_layer_thickness=passive_layer_thickness,\n",
    "        num_periods=num_periods,\n",
    "        angles=theta,\n",
    "        z_scale=z_scale,\n",
    "        remove_last_layer=False\n",
    "    ).opts(\n",
    "        opts.Curve(ylim=(0, None)),\n",
    "        opts.VSpan(color=\"gray\"),\n",
    "        opts.Overlay(title=title, xlabel=\"z\", ylabel=\"E_squared\"),\n",
    "    )"
   ]
  },
  {
   "cell_type": "code",
   "execution_count": null,
   "id": "bb81c663-8b17-4807-862e-5ee8784d2c8a",
   "metadata": {
    "tags": []
   },
   "outputs": [],
   "source": [
    "# # an example of what this can do\n",
    "# pn.interact(\n",
    "#     wrap_plot_field,\n",
    "#     wavelength=(480, 880),\n",
    "#     excitonic_layer_thickness=(10, 200),\n",
    "#     passive_layer_thickness=(0, 300),\n",
    "#     num_periods=(1, 50),\n",
    "# )"
   ]
  },
  {
   "cell_type": "markdown",
   "id": "36fe33f2-2668-44f1-b39a-2a2824af17c0",
   "metadata": {
    "jp-MarkdownHeadingCollapsed": true,
    "tags": []
   },
   "source": [
    "## Angular shift in reflectance"
   ]
  },
  {
   "cell_type": "markdown",
   "id": "bf8a48dc-b10a-4eaa-8b53-157af4edd5f0",
   "metadata": {
    "jp-MarkdownHeadingCollapsed": true,
    "tags": []
   },
   "source": [
    "### P = 300 (for best display of the PBG)"
   ]
  },
  {
   "cell_type": "code",
   "execution_count": null,
   "id": "d6bfb568-0b93-4aaf-abbf-d0cd3d23fe4a",
   "metadata": {
    "tags": []
   },
   "outputs": [],
   "source": [
    "period = 300\n",
    "excitonic_layer_thickness = 50\n",
    "passive_layer_thickness = period - excitonic_layer_thickness\n",
    "num_periods = 20"
   ]
  },
  {
   "cell_type": "code",
   "execution_count": null,
   "id": "f10a004d-7c20-49d5-bfb9-be3185d23c1d",
   "metadata": {
    "tags": []
   },
   "outputs": [],
   "source": [
    "plots = {\n",
    "    theta: compare_RTA(\n",
    "        {\"plot_vars\": [\"R\"]},\n",
    "        {\"plot_vars\": [\"Rs\"]},\n",
    "        {\"plot_vars\": [\"Rp\"]},\n",
    "        period=period,\n",
    "        excitonic_layer_thickness=excitonic_layer_thickness,\n",
    "        num_periods=num_periods,\n",
    "        theta=theta,\n",
    "        include=[\"LOPC\"],\n",
    "        label_override=\"\",\n",
    "    )\n",
    "    for theta in [0, 15, 30, 45]\n",
    "}"
   ]
  },
  {
   "cell_type": "code",
   "execution_count": null,
   "id": "3506cba4-3eeb-4336-bb8c-e142059c7db1",
   "metadata": {
    "tags": []
   },
   "outputs": [],
   "source": [
    "grid = hv.GridSpace(plots, kdims=[angle_dim])*lorentz_vlines(0, scale=1e-9)"
   ]
  },
  {
   "cell_type": "code",
   "execution_count": null,
   "id": "5a0c775b-ee04-4695-8ed5-998dc6173e7a",
   "metadata": {
    "tags": []
   },
   "outputs": [],
   "source": [
    "grid.opts(opts.Overlay(show_legend=False, show_grid=True))\n",
    "grid[0].opts(opts.Overlay(show_legend=True, legend_position=\"left\"))\n",
    "\n",
    "grid.opts(\n",
    "    opts.Curve(xticks=2, yticks=3, frame_height=120, frame_width=160, toolbar=None, hooks=[outline_hook]),\n",
    "    opts.VLine(line_dash=\"dotted\", color=yellow, ),\n",
    "    opts.Overlay(fontscale=1.5),\n",
    "    # opts.GridSpace(fontsize={\"xlabel\": 8}, toolbar=None),\n",
    "    opts.GridSpace(fontscale=1.5, toolbar=None),\n",
    ")"
   ]
  },
  {
   "cell_type": "code",
   "execution_count": null,
   "id": "a7245fc3-8355-4610-a0bc-e563bfad4ae5",
   "metadata": {
    "tags": []
   },
   "outputs": [],
   "source": [
    "hv.save(grid, filename=fig_path/\"R_lambda_theta_1D\", fmt=\"png\", toolbar=None)"
   ]
  },
  {
   "cell_type": "code",
   "execution_count": null,
   "id": "5e5682fc-2bb9-49b0-aa14-4966e0fc07b3",
   "metadata": {
    "tags": []
   },
   "outputs": [],
   "source": [
    "# Brewster's angle\n",
    "np.arctan(1.45/1.35)*(180/np.pi)"
   ]
  },
  {
   "cell_type": "code",
   "execution_count": null,
   "id": "c07fc667-c1ea-45d1-ac9d-9c3fd81a8d45",
   "metadata": {
    "tags": []
   },
   "outputs": [],
   "source": [
    "plots = OrderedDict({\n",
    "    var: plot_R(\n",
    "        variable=var,\n",
    "        dataset=restacked_ds.sel(\n",
    "            period=period,\n",
    "            excitonic_layer_thickness=excitonic_layer_thickness,\n",
    "            num_periods=num_periods,\n",
    "        ).squeeze(),\n",
    "        x=\"wavelength\",\n",
    "        y=\"theta\",\n",
    "    )\n",
    "    for var in [\"R\", \"Rs\", \"Rp\"]\n",
    "})"
   ]
  },
  {
   "cell_type": "code",
   "execution_count": null,
   "id": "fa4cf997-82e7-4eb1-8820-f18b46deeede",
   "metadata": {
    "tags": []
   },
   "outputs": [],
   "source": [
    "grid = hv.GridSpace(plots, kdims=[\"Reflectance\"], sort=False)*lorentz_vlines(0, scale=1e-9)"
   ]
  },
  {
   "cell_type": "code",
   "execution_count": null,
   "id": "e5320f75-5661-46b1-85af-307ae4c3fdcf",
   "metadata": {
    "tags": []
   },
   "outputs": [],
   "source": [
    "grid.opts(opts.Image(colorbar=False))\n",
    "grid[\"R\"].opts(opts.Image(colorbar=True, colorbar_position=\"left\"))\n",
    "\n",
    "grid.opts(\n",
    "    opts.Image(xticks=3, frame_height=120, frame_width=160, toolbar=None, fontscale=1.5),\n",
    "    opts.VLine(line_dash=\"dotted\", color=\"white\"),\n",
    "    opts.Overlay(fontscale=1.5),\n",
    "    opts.GridSpace(fontscale=1.5, toolbar=None),\n",
    ")"
   ]
  },
  {
   "cell_type": "code",
   "execution_count": null,
   "id": "f5847a58-8d65-420e-8ce7-360eed61a11d",
   "metadata": {
    "tags": []
   },
   "outputs": [],
   "source": [
    "hv.save(grid, filename=fig_path/\"R_lambda_theta_2D\", fmt=\"png\", toolbar=None)"
   ]
  },
  {
   "cell_type": "markdown",
   "id": "10638158-a15c-46b0-a086-8475d1b03b07",
   "metadata": {
    "jp-MarkdownHeadingCollapsed": true,
    "tags": []
   },
   "source": [
    "### P=100 (to understand what happens to the high-angle reflectance in the absence of the PBG)"
   ]
  },
  {
   "cell_type": "markdown",
   "id": "62c2cf40-b70f-4008-855a-26d63c9a514f",
   "metadata": {},
   "source": [
    "#### elt=50 (some reflectance at high angles)"
   ]
  },
  {
   "cell_type": "code",
   "execution_count": null,
   "id": "a6d0f0db-90cc-46c6-aea2-8c972fe23d0f",
   "metadata": {
    "tags": []
   },
   "outputs": [],
   "source": [
    "period = 100\n",
    "excitonic_layer_thickness = 50\n",
    "passive_layer_thickness = period - excitonic_layer_thickness\n",
    "num_periods = 20"
   ]
  },
  {
   "cell_type": "code",
   "execution_count": null,
   "id": "95a17839-5983-4b8e-8b32-00a232e28627",
   "metadata": {
    "tags": []
   },
   "outputs": [],
   "source": [
    "plots = {\n",
    "    theta: compare_RTA(\n",
    "        {\"plot_vars\": [\"R\"]},\n",
    "        {\"plot_vars\": [\"Rs\"]},\n",
    "        {\"plot_vars\": [\"Rp\"]},\n",
    "        period=period,\n",
    "        excitonic_layer_thickness=excitonic_layer_thickness,\n",
    "        num_periods=num_periods,\n",
    "        theta=theta,\n",
    "        include=[\"LOPC\"],\n",
    "        label_override=\"\",\n",
    "    )\n",
    "    for theta in [0, 15, 30, 45]\n",
    "}"
   ]
  },
  {
   "cell_type": "code",
   "execution_count": null,
   "id": "bcc516dc-fd0e-4071-92f9-8056023829e1",
   "metadata": {
    "tags": []
   },
   "outputs": [],
   "source": [
    "grid = hv.GridSpace(plots, kdims=[\"θ\"])*lorentz_vlines(0, scale=1e-9)"
   ]
  },
  {
   "cell_type": "code",
   "execution_count": null,
   "id": "9fbdc012-c1ea-4947-83d1-6e4d5e23598a",
   "metadata": {
    "tags": []
   },
   "outputs": [],
   "source": [
    "grid.opts(opts.Overlay(show_legend=False, show_grid=True))\n",
    "grid[0].opts(opts.Overlay(show_legend=True, legend_position=\"left\"))\n",
    "\n",
    "grid.opts(opts.Curve(xticks=2, yticks=3, frame_height=120, frame_width=120), opts.VLine(line_dash=\"dotted\", color=yellow), opts.GridSpace(fontsize={\"xlabel\": 8}, toolbar=\"below\"))"
   ]
  },
  {
   "cell_type": "code",
   "execution_count": null,
   "id": "46af87ec-d464-4828-94fc-53e975b9949d",
   "metadata": {
    "tags": []
   },
   "outputs": [],
   "source": [
    "# hv.save(grid, filename=fig_path/\"R_lambda_theta_1D\", fmt=\"png\", toolbar=None)"
   ]
  },
  {
   "cell_type": "code",
   "execution_count": null,
   "id": "9f60ea50-fbc4-4b58-bdb6-546944c6f7a3",
   "metadata": {
    "tags": []
   },
   "outputs": [],
   "source": [
    "# Brewster's angle\n",
    "np.arctan(1.45/1.35)*(180/np.pi)"
   ]
  },
  {
   "cell_type": "code",
   "execution_count": null,
   "id": "9e79394e-1920-4963-a84e-ee79e5c5bbc9",
   "metadata": {
    "tags": []
   },
   "outputs": [],
   "source": [
    "plots = OrderedDict({\n",
    "    var: plot_R(\n",
    "        variable=var,\n",
    "        dataset=restacked_ds.sel(\n",
    "            period=period,\n",
    "            excitonic_layer_thickness=excitonic_layer_thickness,\n",
    "            num_periods=num_periods,\n",
    "        ).squeeze(),\n",
    "        x=\"wavelength\",\n",
    "        y=\"theta\",\n",
    "    )\n",
    "    for var in [\"R\", \"Rs\", \"Rp\"]\n",
    "})"
   ]
  },
  {
   "cell_type": "code",
   "execution_count": null,
   "id": "3d56d0b0-6aff-4115-b6c5-72a48f23f5d1",
   "metadata": {
    "tags": []
   },
   "outputs": [],
   "source": [
    "grid = hv.GridSpace(plots, kdims=[\"Reflectance\"], sort=False)*lorentz_vlines(0, scale=1e-9)"
   ]
  },
  {
   "cell_type": "code",
   "execution_count": null,
   "id": "5af3c801-cea8-42a8-b5eb-e17ce07b8faf",
   "metadata": {
    "tags": []
   },
   "outputs": [],
   "source": [
    "grid.opts(opts.Image(colorbar=False))\n",
    "grid[\"R\"].opts(opts.Image(colorbar=True, colorbar_position=\"left\"))\n",
    "\n",
    "grid.opts(opts.Image(xticks=3, frame_height=120, frame_width=160), opts.VLine(line_dash=\"dotted\", color=\"white\"), opts.GridSpace(fontsize={\"xlabel\": 8}, toolbar=\"below\"))"
   ]
  },
  {
   "cell_type": "code",
   "execution_count": null,
   "id": "171c27e5-c510-4bf7-ad16-d8f0327970b5",
   "metadata": {
    "tags": []
   },
   "outputs": [],
   "source": [
    "# hv.save(grid, filename=fig_path/\"R_lambda_theta_2D\", fmt=\"png\", toolbar=None)"
   ]
  },
  {
   "cell_type": "markdown",
   "id": "f7ad0668-2e72-4416-b4bc-5919d8827466",
   "metadata": {
    "jp-MarkdownHeadingCollapsed": true,
    "tags": []
   },
   "source": [
    "#### elt=10 (no reflectance at high angles)"
   ]
  },
  {
   "cell_type": "code",
   "execution_count": null,
   "id": "2320e280-fa43-4d5d-bdbe-c7ac647b9c6e",
   "metadata": {
    "tags": []
   },
   "outputs": [],
   "source": [
    "period = 100\n",
    "excitonic_layer_thickness = 10\n",
    "passive_layer_thickness = period - excitonic_layer_thickness\n",
    "num_periods = 20"
   ]
  },
  {
   "cell_type": "code",
   "execution_count": null,
   "id": "55ca69fd-ce46-49da-8a05-e72feb0de2a3",
   "metadata": {
    "tags": []
   },
   "outputs": [],
   "source": [
    "plots = {\n",
    "    theta: compare_RTA(\n",
    "        {\"plot_vars\": [\"R\"]},\n",
    "        {\"plot_vars\": [\"Rs\"]},\n",
    "        {\"plot_vars\": [\"Rp\"]},\n",
    "        period=period,\n",
    "        excitonic_layer_thickness=excitonic_layer_thickness,\n",
    "        num_periods=num_periods,\n",
    "        theta=theta,\n",
    "        include=[\"LOPC\"],\n",
    "        label_override=\"\",\n",
    "    )\n",
    "    for theta in [0, 15, 30, 45]\n",
    "}"
   ]
  },
  {
   "cell_type": "code",
   "execution_count": null,
   "id": "03acf4ef-f5b4-494e-86bb-e15a4c9a8ca9",
   "metadata": {
    "tags": []
   },
   "outputs": [],
   "source": [
    "grid = hv.GridSpace(plots, kdims=[\"θ\"])*lorentz_vlines(0, scale=1e-9)"
   ]
  },
  {
   "cell_type": "code",
   "execution_count": null,
   "id": "255461a7-09c4-4b1a-ad03-d94cb112da65",
   "metadata": {
    "tags": []
   },
   "outputs": [],
   "source": [
    "grid.opts(opts.Overlay(show_legend=False, show_grid=True))\n",
    "grid[0].opts(opts.Overlay(show_legend=True, legend_position=\"left\"))\n",
    "\n",
    "grid.opts(opts.Curve(xticks=2, yticks=3, frame_height=120, frame_width=120), opts.VLine(line_dash=\"dotted\", color=yellow), opts.GridSpace(fontsize={\"xlabel\": 8}, toolbar=\"below\"))"
   ]
  },
  {
   "cell_type": "code",
   "execution_count": null,
   "id": "0780331b-5971-487d-a6d6-1bf8da28c211",
   "metadata": {
    "tags": []
   },
   "outputs": [],
   "source": [
    "# hv.save(grid, filename=fig_path/\"R_lambda_theta_1D\", fmt=\"png\", toolbar=None)"
   ]
  },
  {
   "cell_type": "code",
   "execution_count": null,
   "id": "b2017373-f3ab-4167-a56c-ddb10b3191d4",
   "metadata": {
    "tags": []
   },
   "outputs": [],
   "source": [
    "# Brewster's angle\n",
    "np.arctan(1.45/1.35)*(180/np.pi)"
   ]
  },
  {
   "cell_type": "code",
   "execution_count": null,
   "id": "ff815be5-16b3-455d-8939-47c1caca3a55",
   "metadata": {
    "tags": []
   },
   "outputs": [],
   "source": [
    "plots = OrderedDict({\n",
    "    var: plot_R(\n",
    "        variable=var,\n",
    "        dataset=restacked_ds.sel(\n",
    "            period=period,\n",
    "            excitonic_layer_thickness=excitonic_layer_thickness,\n",
    "            num_periods=num_periods,\n",
    "        ).squeeze(),\n",
    "        x=\"wavelength\",\n",
    "        y=\"theta\",\n",
    "    )\n",
    "    for var in [\"R\", \"Rs\", \"Rp\"]\n",
    "})"
   ]
  },
  {
   "cell_type": "code",
   "execution_count": null,
   "id": "f5cde55f-75e2-4d28-a837-b53b7caeba39",
   "metadata": {
    "tags": []
   },
   "outputs": [],
   "source": [
    "grid = hv.GridSpace(plots, kdims=[\"Reflectance\"], sort=False)*lorentz_vlines(0, scale=1e-9)"
   ]
  },
  {
   "cell_type": "code",
   "execution_count": null,
   "id": "c7a7742f-6b05-4755-8693-be20afbccb98",
   "metadata": {
    "tags": []
   },
   "outputs": [],
   "source": [
    "grid.opts(opts.Image(colorbar=False))\n",
    "grid[\"R\"].opts(opts.Image(colorbar=True, colorbar_position=\"left\"))\n",
    "\n",
    "grid.opts(opts.Image(xticks=3, frame_height=120, frame_width=160), opts.VLine(line_dash=\"dotted\", color=\"white\"), opts.GridSpace(fontsize={\"xlabel\": 8}, toolbar=\"below\"))"
   ]
  },
  {
   "cell_type": "code",
   "execution_count": null,
   "id": "f0f2071e-fa0d-4bb4-8a75-bf82ce1297ab",
   "metadata": {
    "tags": []
   },
   "outputs": [],
   "source": [
    "# hv.save(grid, filename=fig_path/\"R_lambda_theta_2D\", fmt=\"png\", toolbar=None)"
   ]
  },
  {
   "cell_type": "markdown",
   "id": "2fd16604-c65e-4c5b-926b-c298d967416c",
   "metadata": {
    "jp-MarkdownHeadingCollapsed": true,
    "tags": []
   },
   "source": [
    "## Other high-angle stuff"
   ]
  },
  {
   "cell_type": "markdown",
   "id": "2757f6c6-d5f1-4abd-88d4-77dc2b51ae2a",
   "metadata": {},
   "source": [
    "AEF curving with theta"
   ]
  },
  {
   "cell_type": "code",
   "execution_count": null,
   "id": "6e61b327-3ec9-46b0-81dc-c8ef6fea405a",
   "metadata": {
    "tags": []
   },
   "outputs": [],
   "source": [
    "period = 300\n",
    "excitonic_layer_thickness = 50\n",
    "passive_layer_thickness = period - excitonic_layer_thickness\n",
    "num_periods = 20"
   ]
  },
  {
   "cell_type": "code",
   "execution_count": null,
   "id": "2e622f0b-27aa-4aa6-bd6e-0d0b50a22435",
   "metadata": {
    "tags": []
   },
   "outputs": [],
   "source": [
    "plots = OrderedDict({\n",
    "    var: plot_ef(\n",
    "        variable=var,\n",
    "        dataset=restacked_norm_1.sel(\n",
    "            period=period,\n",
    "            excitonic_layer_thickness=excitonic_layer_thickness,\n",
    "            num_periods=num_periods,\n",
    "        ).squeeze(),\n",
    "        x=\"wavelength\",\n",
    "        y=\"theta\",\n",
    "    )\n",
    "    for var in [\"A\", \"As\", \"Ap\"]\n",
    "})"
   ]
  },
  {
   "cell_type": "code",
   "execution_count": null,
   "id": "00cee6a6-906a-4d1c-9082-34ea6b8968fd",
   "metadata": {
    "tags": []
   },
   "outputs": [],
   "source": [
    "grid = hv.GridSpace(plots, kdims=[\"γA\"], sort=False)*lorentz_vlines(0, scale=1e-9)"
   ]
  },
  {
   "cell_type": "code",
   "execution_count": null,
   "id": "c84aeac1-b994-479c-8f03-7781cbdb8c8e",
   "metadata": {
    "tags": []
   },
   "outputs": [],
   "source": [
    "grid.opts(opts.Image(colorbar=False))\n",
    "grid[\"A\"].opts(opts.Image(colorbar=True, colorbar_position=\"left\"))\n",
    "\n",
    "grid.opts(opts.Image(clim=(0, 2), xticks=3, frame_height=120, frame_width=160), opts.VLine(line_dash=\"dotted\", color=\"black\"), opts.GridSpace(fontsize={\"xlabel\": 8}, toolbar=\"below\"))"
   ]
  },
  {
   "cell_type": "code",
   "execution_count": null,
   "id": "82c3d602-7eca-42a4-852b-49dbfa975fd9",
   "metadata": {
    "tags": []
   },
   "outputs": [],
   "source": [
    "hv.save(grid, filename=fig_path/\"Aef_lambda_theta_2D\", fmt=\"png\", toolbar=None)"
   ]
  },
  {
   "cell_type": "code",
   "execution_count": null,
   "id": "1b80ba11-92ba-4240-bf09-e83ba8a583da",
   "metadata": {
    "tags": []
   },
   "outputs": [],
   "source": [
    "layout = hv.NdLayout(plots, kdims=[\"γA\"], sort=False)*lorentz_vlines(0, scale=1e-9)"
   ]
  },
  {
   "cell_type": "code",
   "execution_count": null,
   "id": "0edf6e47-eb7c-45aa-b524-0326b900bc5c",
   "metadata": {
    "tags": []
   },
   "outputs": [],
   "source": [
    "layout[\"A\"].opts(opts.Image(colorbar=True, colorbar_position=\"left\"))\n",
    "layout[\"As\"].opts(opts.Image(colorbar=False, yaxis=\"bare\"))\n",
    "layout[\"Ap\"].opts(opts.Image(colorbar=False, yaxis=\"bare\"))\n",
    "\n",
    "layout.opts(opts.Image(clim=(0, 2), xticks=3, frame_height=120, frame_width=160), opts.VLine(line_dash=\"dotted\", color=\"black\"))"
   ]
  },
  {
   "cell_type": "code",
   "execution_count": null,
   "id": "c21a9a42-7fe0-4331-9360-47f33d99c7fc",
   "metadata": {
    "tags": []
   },
   "outputs": [],
   "source": [
    "hv.save(layout[\"A\"], filename=fig_path/\"Aef_lambda_theta_2D\", fmt=\"png\", toolbar=None)\n",
    "hv.save(layout[\"As\"], filename=fig_path/\"Asef_lambda_theta_2D\", fmt=\"png\", toolbar=None)\n",
    "hv.save(layout[\"Ap\"], filename=fig_path/\"Apef_lambda_theta_2D\", fmt=\"png\", toolbar=None)"
   ]
  },
  {
   "cell_type": "code",
   "execution_count": null,
   "id": "321552cd-0dd2-4792-bb60-d391836947d5",
   "metadata": {
    "tags": []
   },
   "outputs": [],
   "source": [
    "# maths to work out float sizes in LaTeX\n",
    "print(0.479768786*0.95)\n",
    "print(0.2601156069*0.95)"
   ]
  },
  {
   "cell_type": "code",
   "execution_count": null,
   "id": "37c69ed8-297f-4f69-98f9-8a7e83dc1c73",
   "metadata": {
    "tags": []
   },
   "outputs": [],
   "source": [
    "plots = OrderedDict({\n",
    "    var: plot_vars_to_funcs(var)[0](\n",
    "        variable=var,\n",
    "        dataset=crs_1.sel(\n",
    "            total_excitonic_thickness=excitonic_layer_thickness*num_periods,\n",
    "        ).squeeze(),\n",
    "        x=\"wavelength\",\n",
    "        y=\"theta\",\n",
    "    )\n",
    "    for var in [\"R\", \"T\", \"A\"]\n",
    "})"
   ]
  },
  {
   "cell_type": "code",
   "execution_count": null,
   "id": "d2d27c24-26e1-4a3b-9d62-4fff7f055ead",
   "metadata": {
    "tags": []
   },
   "outputs": [],
   "source": [
    "layout = hv.NdLayout(plots, kdims=[\"FOM\"], sort=False)*lorentz_vlines(0, scale=1e-9)"
   ]
  },
  {
   "cell_type": "code",
   "execution_count": null,
   "id": "2530e87f-e09e-41f5-8963-feecee2a5d9e",
   "metadata": {
    "tags": []
   },
   "outputs": [],
   "source": [
    "layout[\"R\"].opts(opts.VLine(color=\"white\"))\n",
    "layout[\"T\"].opts(opts.VLine(color=\"black\"), opts.Image(yaxis=\"bare\"))\n",
    "layout[\"A\"].opts(opts.VLine(color=\"black\"), opts.Image(yaxis=\"bare\"))\n",
    "\n",
    "layout.opts(opts.Image(xticks=3, frame_height=120, frame_width=140), opts.VLine(line_dash=\"dotted\"))"
   ]
  },
  {
   "cell_type": "code",
   "execution_count": null,
   "id": "a136b678-ccd5-455b-a675-c42c526601a4",
   "metadata": {
    "tags": []
   },
   "outputs": [],
   "source": [
    "hv.save(layout[\"R\"], filename=fig_path/\"R_CRS_lambda_theta_2D\", fmt=\"png\", toolbar=None)\n",
    "hv.save(layout[\"T\"], filename=fig_path/\"T_CRS_lambda_theta_2D\", fmt=\"png\", toolbar=None)\n",
    "hv.save(layout[\"A\"], filename=fig_path/\"A_CRS_lambda_theta_2D\", fmt=\"png\", toolbar=None)"
   ]
  },
  {
   "cell_type": "code",
   "execution_count": null,
   "id": "418e6efd-52fb-4d75-a964-ea02f2e39853",
   "metadata": {
    "tags": []
   },
   "outputs": [],
   "source": [
    "# maths to work out float sizes in LaTeX\n",
    "total_pixel_width = 302 + 237 + 237\n",
    "print(302/total_pixel_width*0.96)\n",
    "print(237/total_pixel_width*0.96)"
   ]
  },
  {
   "cell_type": "markdown",
   "id": "250c1e10-9c97-4db9-bf8f-c23cc9e34e79",
   "metadata": {
    "jp-MarkdownHeadingCollapsed": true,
    "tags": []
   },
   "source": [
    "## Field profiles around PBG"
   ]
  },
  {
   "cell_type": "code",
   "execution_count": null,
   "id": "791a7edf-fbfa-4f8b-8e30-8852151bea35",
   "metadata": {
    "tags": []
   },
   "outputs": [],
   "source": [
    "field_curves = {\n",
    "    (\"dummy\", wl): wrap_plot_field(\n",
    "        wavelength=wl,\n",
    "        excitonic_layer_thickness=excitonic_layer_thickness,\n",
    "        passive_layer_thickness=passive_layer_thickness,\n",
    "        num_periods=num_periods,\n",
    "        theta=0,\n",
    "        z_scale=1e-6,\n",
    "    ).Curve\n",
    "    for wl in [785, 825, 875]\n",
    "}"
   ]
  },
  {
   "cell_type": "code",
   "execution_count": null,
   "id": "5a4292e7-1143-4ac3-8c95-e353ceedf3df",
   "metadata": {
    "tags": []
   },
   "outputs": [],
   "source": [
    "structure_vspans = wrap_plot_field(\n",
    "    wavelength=785,\n",
    "    excitonic_layer_thickness=excitonic_layer_thickness,\n",
    "    passive_layer_thickness=passive_layer_thickness,\n",
    "    num_periods=num_periods,\n",
    "    z_scale=1e-6\n",
    ").VSpan"
   ]
  },
  {
   "cell_type": "code",
   "execution_count": null,
   "id": "0bd4cdc4-fa03-4ea9-8d86-1a7c8c19c2ef",
   "metadata": {
    "tags": []
   },
   "outputs": [],
   "source": [
    "# # a legend on a single Curve is impossible\n",
    "# hv.Curve(([0,1,2],[2,1,0]), label=\"foo\").opts(opts.Curve(show_legend=True))"
   ]
  },
  {
   "cell_type": "code",
   "execution_count": null,
   "id": "da37b46f-3035-45a8-9a47-806a2c48c656",
   "metadata": {
    "tags": []
   },
   "outputs": [],
   "source": [
    "grid = (hv.GridSpace(field_curves, kdims=[\"dummy\", wavelength_dim]) * structure_vspans).redim(z=z_dim, E_squared=E_dim).opts(\n",
    "    opts.Curve(xticks=6, yticks=4, frame_width=600, frame_height=100, padding=(0.1, 0), ylim=(-0.1, 1.8)),\n",
    "    opts.GridSpace(xaxis=None, toolbar=\"below\"),\n",
    ")\n",
    "grid"
   ]
  },
  {
   "cell_type": "code",
   "execution_count": null,
   "id": "01074bde-47aa-4685-bfab-b2b4e46edb05",
   "metadata": {
    "tags": []
   },
   "outputs": [],
   "source": [
    "hv.save(grid, filename=fig_path/\"LOPC_Efield_example\", fmt=\"png\", toolbar=None)"
   ]
  },
  {
   "cell_type": "markdown",
   "id": "114e96d3-5fed-4d33-88e6-cd1b64f24bd7",
   "metadata": {
    "jp-MarkdownHeadingCollapsed": true,
    "tags": []
   },
   "source": [
    "## N-Lambda grid plot"
   ]
  },
  {
   "cell_type": "markdown",
   "id": "188c7758-b293-4abb-8135-bb9ddb4d9713",
   "metadata": {},
   "source": [
    "This grid plot demonstrates the shift and growth in PBG with period and N."
   ]
  },
  {
   "cell_type": "code",
   "execution_count": null,
   "id": "abf8d7d8-1a87-4edb-a4df-bac4c5c9a234",
   "metadata": {
    "tags": []
   },
   "outputs": [],
   "source": [
    "excitonic_layer_thickness = 30\n",
    "theta = 0"
   ]
  },
  {
   "cell_type": "code",
   "execution_count": null,
   "id": "d72d9fc3-1807-4965-9871-fa8f1b5acd12",
   "metadata": {
    "tags": []
   },
   "outputs": [],
   "source": [
    "coords = {\"excitonic_layer_thickness\": excitonic_layer_thickness, \"theta\": theta}"
   ]
  },
  {
   "cell_type": "code",
   "execution_count": null,
   "id": "fba236f1-3d50-4990-9ffa-4e20d62a97af",
   "metadata": {
    "tags": []
   },
   "outputs": [],
   "source": [
    "def label_subplot():\n",
    "    try:\n",
    "        label_subplot.i += 1\n",
    "    except AttributeError:\n",
    "        label_subplot.i = 0\n",
    "    label = string.ascii_lowercase[label_subplot.i]\n",
    "    return f\"({label})\""
   ]
  },
  {
   "cell_type": "code",
   "execution_count": null,
   "id": "ea6a6a24-7e3b-464c-8b30-bcccf5ebb7bb",
   "metadata": {
    "tags": []
   },
   "outputs": [],
   "source": [
    "curves = {\n",
    "    (P, N): restacked_ds[unpolarised_RTA]\n",
    "    .sel(num_periods=N, period=P, **coords)\n",
    "    .squeeze()\n",
    "    .hvplot.line(x=\"wavelength\")\n",
    "    * lorentz_vlines(0, scale=1e-9).opts(line_color=yellow)\n",
    "    * hv.VLine(pbg_position(excitonic_layer_thickness, P, n1=1.5, n2=1.35)).opts(\n",
    "        line_color=blue\n",
    "    )\n",
    "    * hv.Labels((510, 0.7, label_subplot())).opts(text_color=\"black\")\n",
    "    for N in [50, 20, 10]\n",
    "    for P in [200, 250, 300]\n",
    "}"
   ]
  },
  {
   "cell_type": "code",
   "execution_count": null,
   "id": "f766dde5-4c9f-4716-9f5b-6d86257dcc87",
   "metadata": {
    "tags": []
   },
   "outputs": [],
   "source": [
    "grid = hv.GridSpace(curves, kdims=[period_dim, num_periods_dim])"
   ]
  },
  {
   "cell_type": "code",
   "execution_count": null,
   "id": "b8d8ed56-d5b1-4020-9fc8-1fcd4c9eb7d6",
   "metadata": {
    "tags": []
   },
   "outputs": [],
   "source": [
    "# hacky workaround to bugs in hvplot/holoviews\n",
    "for p in grid:\n",
    "    p.opts(\n",
    "        opts.Overlay(\n",
    "            # show_legend=False,\n",
    "            show_grid=True,\n",
    "        ),\n",
    "        opts.Curve(\n",
    "            color=hv.Cycle([blue, yellow, red]),  # set R/T/A->blue/yellow/red\n",
    "            frame_width=200,\n",
    "        ),\n",
    "    )  # remove the excess legends\n",
    "\n",
    "# for p in grid[250] or grid[300]:\n",
    "#     p.opts(\n",
    "#             opts.Overlay(\n",
    "#                 show_legend=False,\n",
    "#                 show_grid=True,\n",
    "#             ),\n",
    "#             opts.Curve(\n",
    "#                 color=hv.Cycle([blue, yellow, red]),  # set R/T/A->blue/yellow/red\n",
    "#                 frame_width=200,\n",
    "#             ),\n",
    "#         )  # remove the excess legends\n",
    "\n",
    "# grid[200, 50].opts(\n",
    "#     opts.Overlay(show_legend=True, legend_position=\"left\")\n",
    "# )  # add the legend back in on a free side but this breaks the left alignment somehow\n",
    "\n",
    "grid.opts(\n",
    "    opts.Curve(ylim=(0,1), toolbar=None, hooks=[outline_hook]),\n",
    "    opts.Overlay(fontscale=1.5),\n",
    "    opts.VLine(line_dash=\"dotted\", line_width=2),\n",
    "    opts.GridSpace(\n",
    "        show_legend=False, shared_xaxis=True, shared_yaxis=True, toolbar=None, fontscale=1.5\n",
    "    ),\n",
    ")"
   ]
  },
  {
   "cell_type": "markdown",
   "id": "180ae97a-dfce-4176-8efb-b7fb26f0b419",
   "metadata": {},
   "source": [
    "This is the code I would have liked to have used to save this image.\n",
    "\n",
    "Unfortunately the `toolbar=False` argument doesn't work so I have to actually *use* the toolbar above to save it!\n",
    "\n",
    "... Except this ALSO doesn't work, because the save button saves 9 individual images?! So I guess I have to use the below code and manually crop or something stupid."
   ]
  },
  {
   "cell_type": "code",
   "execution_count": null,
   "id": "338e4ab5-2618-4438-8d5d-418da6ef4b6b",
   "metadata": {
    "tags": []
   },
   "outputs": [],
   "source": [
    "hv.save(grid, filename=fig_path/f\"N_Lambda_grid_2\", fmt=\"png\", toolbar=None)"
   ]
  },
  {
   "cell_type": "markdown",
   "id": "8f20b0be-e143-4e6d-91a2-f55fb104a81f",
   "metadata": {
    "jp-MarkdownHeadingCollapsed": true,
    "tags": []
   },
   "source": [
    "## N-n grid plot"
   ]
  },
  {
   "cell_type": "markdown",
   "id": "bf454170-0613-4390-b775-e4cc7e3f3dda",
   "metadata": {},
   "source": [
    "This grid plot demonstrates the shift and growth in PBG with n_p and N."
   ]
  },
  {
   "cell_type": "code",
   "execution_count": null,
   "id": "77cebee2-3fb3-4eaa-b860-8e86d531c29c",
   "metadata": {
    "tags": []
   },
   "outputs": [],
   "source": [
    "excitonic_layer_thickness = 50\n",
    "period = 200\n",
    "theta = 0"
   ]
  },
  {
   "cell_type": "code",
   "execution_count": null,
   "id": "33e60b68-aa4c-4672-a6bb-ea8829ad16d7",
   "metadata": {
    "tags": []
   },
   "outputs": [],
   "source": [
    "coords = {\"excitonic_layer_thickness\": excitonic_layer_thickness, \"theta\": theta, \"period\": period}"
   ]
  },
  {
   "cell_type": "code",
   "execution_count": null,
   "id": "f65cbc04-48ff-41ff-9046-613c65097c9b",
   "metadata": {
    "tags": []
   },
   "outputs": [],
   "source": [
    "def label_subplot():\n",
    "    try:\n",
    "        label_subplot.i += 1\n",
    "    except AttributeError:\n",
    "        label_subplot.i = 0\n",
    "    label = string.ascii_lowercase[label_subplot.i]\n",
    "    return f\"({label})\""
   ]
  },
  {
   "cell_type": "code",
   "execution_count": null,
   "id": "1200b7e2-46cf-4061-a780-ced5f339d583",
   "metadata": {
    "tags": []
   },
   "outputs": [],
   "source": [
    "curves = {\n",
    "    (R, N): restacked_np_ds[unpolarised_RTA]\n",
    "    .sel(num_periods=N, real_RI=R, **coords)\n",
    "    .squeeze()\n",
    "    .hvplot.line(x=\"wavelength\")\n",
    "    * lorentz_vlines(0, scale=1e-9).opts(line_color=yellow)\n",
    "    * hv.VLine(pbg_position(excitonic_layer_thickness, period, n1=1.5, n2=R)).opts(\n",
    "        line_color=blue\n",
    "    )\n",
    "    * hv.Labels((850, 0.7, label_subplot())).opts(text_color=\"black\")\n",
    "    for N in [50, 20, 10]\n",
    "    for R in [1.3, 1.35, 1.4]\n",
    "}"
   ]
  },
  {
   "cell_type": "code",
   "execution_count": null,
   "id": "f7ff66f6-3594-4bb8-89c6-ae0193b0930b",
   "metadata": {
    "tags": []
   },
   "outputs": [],
   "source": [
    "grid = hv.GridSpace(curves, kdims=[real_index_dim, num_periods_dim]).redim(n=\"n_p\")"
   ]
  },
  {
   "cell_type": "code",
   "execution_count": null,
   "id": "f074f8e2-b1cf-4249-9527-8022b67c8f67",
   "metadata": {
    "tags": []
   },
   "outputs": [],
   "source": [
    "# hacky workaround to bugs in hvplot/holoviews\n",
    "for p in grid:\n",
    "    p.opts(\n",
    "        opts.Overlay(\n",
    "            # show_legend=False,\n",
    "            show_grid=True,\n",
    "        ),\n",
    "        opts.Curve(\n",
    "            color=hv.Cycle([blue, yellow, red]),  # set R/T/A->blue/yellow/red\n",
    "            frame_width=200,\n",
    "        ),\n",
    "    )  # remove the excess legends\n",
    "\n",
    "# grid[200, 50].opts(\n",
    "#     opts.Overlay(show_legend=True, legend_position=\"left\")\n",
    "# )  # add the legend back in on a free side but this breaks the left alignment somehow\n",
    "\n",
    "grid.opts(\n",
    "    opts.Curve(ylim=(0,1), toolbar=None, hooks=[outline_hook]),\n",
    "    opts.Overlay(fontscale=1.5),\n",
    "    opts.VLine(line_dash=\"dotted\", line_width=2),\n",
    "    opts.GridSpace(\n",
    "        show_legend=False, shared_xaxis=True, shared_yaxis=True, toolbar=None, fontscale=1.5\n",
    "    ),\n",
    ")"
   ]
  },
  {
   "cell_type": "markdown",
   "id": "3b68408d-3421-44e8-8312-d2852c7f62f7",
   "metadata": {},
   "source": [
    "This is the code I would have liked to have used to save this image.\n",
    "\n",
    "Unfortunately the `toolbar=False` argument doesn't work so I have to actually *use* the toolbar above to save it!\n",
    "\n",
    "... Except this ALSO doesn't work, because the save button saves 9 individual images?! So I guess I have to use the below code and manually crop or something stupid."
   ]
  },
  {
   "cell_type": "code",
   "execution_count": null,
   "id": "0340b4c4-c4ea-43dd-822b-c3513a871d7c",
   "metadata": {
    "tags": []
   },
   "outputs": [],
   "source": [
    "hv.save(grid.select(period=200), filename=fig_path/f\"N_n_grid_2\", fmt=\"png\", toolbar=False)"
   ]
  },
  {
   "cell_type": "markdown",
   "id": "cb7d1c69-dc65-4388-ac3c-bcb95cc67267",
   "metadata": {
    "jp-MarkdownHeadingCollapsed": true,
    "tags": []
   },
   "source": [
    "## 2D plots vs period"
   ]
  },
  {
   "cell_type": "code",
   "execution_count": null,
   "id": "f6de770d-93b6-403a-ab19-e165db8f1d1a",
   "metadata": {
    "tags": []
   },
   "outputs": [],
   "source": [
    "theta = 0\n",
    "num_periods = 10\n",
    "excitonic_layer_thickness = 30\n",
    "period = 200"
   ]
  },
  {
   "cell_type": "code",
   "execution_count": null,
   "id": "6c77bb5b-4634-49dd-96ad-ece20ca62cd8",
   "metadata": {
    "tags": []
   },
   "outputs": [],
   "source": [
    "period_slice = hv.HLine(period)"
   ]
  },
  {
   "cell_type": "code",
   "execution_count": null,
   "id": "8d3fdea8-2463-4dfd-8ee7-4f09a1f5888a",
   "metadata": {
    "tags": []
   },
   "outputs": [],
   "source": [
    "temp_params = {\n",
    "    \"theta\": theta,\n",
    "    \"num_periods\": num_periods,\n",
    "    \"excitonic_layer_thickness\": excitonic_layer_thickness,\n",
    "}"
   ]
  },
  {
   "cell_type": "code",
   "execution_count": null,
   "id": "e06310f0-4c95-48c8-b14c-0fa31d32ddc0",
   "metadata": {
    "tags": []
   },
   "outputs": [],
   "source": [
    "with warnings.catch_warnings():\n",
    "    warnings.filterwarnings(\"ignore\", \"divide by zero\")\n",
    "    warnings.filterwarnings(\"ignore\", \"invalid value encountered in divide\")\n",
    "    the_plot = plot_R(variable=\"R\", dataset=restacked_ds.sel(**temp_params).dropna(\"period\").squeeze(), x=\"wavelength\", y=\"period\")"
   ]
  },
  {
   "cell_type": "code",
   "execution_count": null,
   "id": "8f9d8cc3-86b3-4c56-91fc-69dba0276457",
   "metadata": {
    "tags": []
   },
   "outputs": [],
   "source": [
    "the_plot = (\n",
    "    (the_plot * lorentz_vlines(0, scale=1e-9)*period_slice)\n",
    "    .redim(period=period_dim)\n",
    "    .opts(\n",
    "        opts.VLine(line_dash=\"dotted\", color=\"white\"),\n",
    "        opts.HLine(line_dash=\"dotted\", color=\"white\"),\n",
    "        opts.Image(clim=(0, None), title=\"\"),\n",
    "    )\n",
    ")\n",
    "display(the_plot)"
   ]
  },
  {
   "cell_type": "code",
   "execution_count": null,
   "id": "e8333ab3-3692-4e6b-b9c9-415138733f15",
   "metadata": {
    "tags": []
   },
   "outputs": [],
   "source": [
    "hv.save(the_plot, filename=fig_path/f\"R_LOPC_2D_wl_P_elt{excitonic_layer_thickness}_N{num_periods}_th{theta}\", fmt=\"png\", toolbar=None)"
   ]
  },
  {
   "cell_type": "code",
   "execution_count": null,
   "id": "3f06879d-1a2b-4ccc-a067-3d74dee82ea3",
   "metadata": {
    "tags": []
   },
   "outputs": [],
   "source": [
    "# the_plot = (\n",
    "#     plot_RTA(\n",
    "#         period=period,\n",
    "#         excitonic_layer_thickness=excitonic_layer_thickness,\n",
    "#         num_periods=num_periods,\n",
    "#         theta=theta,\n",
    "#         plot_vars=[\"R\"],\n",
    "#         include=[\"LOPC\", \"CRS_1\", \"FRS_1\"],\n",
    "#     )\n",
    "#     * lorentz_vlines(0, scale=1e-9)\n",
    "# ).opts(\n",
    "#     opts.VLine(line_dash=\"dotted\", color=yellow),\n",
    "#     opts.Curve(ylim=(0, None)),\n",
    "# )\n",
    "# display(the_plot)"
   ]
  },
  {
   "cell_type": "code",
   "execution_count": null,
   "id": "963c2e8c-94e3-4698-b803-86a154d783ed",
   "metadata": {
    "tags": []
   },
   "outputs": [],
   "source": [
    "# hv.save(the_plot, filename=fig_path/f\"R_comparison_1D_wl_P{period}_elt{excitonic_layer_thickness}_N{num_periods}_th{theta}\", fmt=\"png\", toolbar=None)"
   ]
  },
  {
   "cell_type": "code",
   "execution_count": null,
   "id": "f4204970-efdd-414c-912a-271dfc8ba920",
   "metadata": {
    "tags": []
   },
   "outputs": [],
   "source": [
    "# the_plot = (\n",
    "#     plot_RTA(\n",
    "#         period=period,\n",
    "#         excitonic_layer_thickness=excitonic_layer_thickness,\n",
    "#         num_periods=num_periods,\n",
    "#         theta=theta,\n",
    "#         plot_vars=[\"A\"],\n",
    "#         include=[\"LOPC\", \"CRS_1\", \"FRS_1\"],\n",
    "#     )\n",
    "#     * lorentz_vlines(0, scale=1e-9)\n",
    "# ).opts(opts.VLine(line_dash=\"dotted\", color=yellow))\n",
    "# display(the_plot)"
   ]
  },
  {
   "cell_type": "code",
   "execution_count": null,
   "id": "64c924c6-b5d9-4f66-bb67-4abc8af08069",
   "metadata": {
    "tags": []
   },
   "outputs": [],
   "source": [
    "# hv.save(the_plot, filename=fig_path/f\"A_comparison_1D_wl_P{period}_elt{excitonic_layer_thickness}_N{num_periods}_th{theta}\", fmt=\"png\", toolbar=None)"
   ]
  },
  {
   "cell_type": "code",
   "execution_count": null,
   "id": "80a8380d-71e7-4a20-91ee-ba790dcef2cb",
   "metadata": {
    "tags": []
   },
   "outputs": [],
   "source": [
    "the_plot = (\n",
    "    plot_RTA(\n",
    "        period=period,\n",
    "        excitonic_layer_thickness=excitonic_layer_thickness,\n",
    "        num_periods=num_periods,\n",
    "        theta=theta,\n",
    "        plot_vars=[\"R\", \"A\"],\n",
    "        include=[\"LOPC\", \"CRS_1\", \"FRS_1\"],\n",
    "    )\n",
    "    * lorentz_vlines(0, scale=1e-9)\n",
    ").opts(\n",
    "    opts.VLine(line_dash=\"dotted\", color=yellow),\n",
    "    opts.Overlay(legend_position=\"right\"),\n",
    ")\n",
    "display(the_plot)"
   ]
  },
  {
   "cell_type": "code",
   "execution_count": null,
   "id": "c9b08537-64a6-4448-a080-6ebea3172d88",
   "metadata": {
    "tags": []
   },
   "outputs": [],
   "source": [
    "hv.save(the_plot, filename=fig_path/f\"RA_comparison_1D_wl_P{period}_elt{excitonic_layer_thickness}_N{num_periods}_th{theta}\", fmt=\"png\", toolbar=None)"
   ]
  },
  {
   "cell_type": "code",
   "execution_count": null,
   "id": "01d52f3a-8b73-4202-aa6f-a1b9a21f5b15",
   "metadata": {
    "tags": []
   },
   "outputs": [],
   "source": [
    "the_plot = plot_ef(variable=\"A\", dataset=restacked_norm_1.sel(**temp_params).dropna(\"period\").squeeze(), x=\"wavelength\", y=\"period\")"
   ]
  },
  {
   "cell_type": "code",
   "execution_count": null,
   "id": "ee5b9e23-3585-4e70-b06c-6c9ffaf0a783",
   "metadata": {
    "tags": []
   },
   "outputs": [],
   "source": [
    "the_plot = (\n",
    "    (the_plot * lorentz_vlines(0, scale=1e-9) * period_slice)\n",
    "    .redim(period=period_dim)\n",
    "    .opts(\n",
    "        opts.VLine(line_dash=\"dotted\", color=\"black\"),\n",
    "        opts.HLine(line_dash=\"dotted\", color=\"black\"),\n",
    "        opts.Image(title=\"\"),\n",
    "    )\n",
    ")\n",
    "display(the_plot)"
   ]
  },
  {
   "cell_type": "code",
   "execution_count": null,
   "id": "4e23486f-e356-4b70-bb83-3186886b03b0",
   "metadata": {
    "tags": []
   },
   "outputs": [],
   "source": [
    "hv.save(the_plot, filename=fig_path/f\"AEF_CRS_2D_wl_P_elt{excitonic_layer_thickness}_N{num_periods}_th{theta}\", fmt=\"png\", toolbar=None)"
   ]
  },
  {
   "cell_type": "code",
   "execution_count": null,
   "id": "f518ddc8-5a66-49f5-952b-d1a1d61c2fbb",
   "metadata": {
    "tags": []
   },
   "outputs": [],
   "source": [
    "the_plot = plot_ef(variable=\"A\", dataset=restacked_norm_2.sel(**temp_params).dropna(\"period\").squeeze(), x=\"wavelength\", y=\"period\")"
   ]
  },
  {
   "cell_type": "code",
   "execution_count": null,
   "id": "56b2c655-0d35-450b-8d46-6be8c13f58d3",
   "metadata": {
    "tags": []
   },
   "outputs": [],
   "source": [
    "the_plot = (\n",
    "    (the_plot * lorentz_vlines(0, scale=1e-9) * period_slice)\n",
    "    .redim(period=period_dim)\n",
    "    .opts(\n",
    "        opts.VLine(line_dash=\"dotted\", color=\"black\"),\n",
    "        opts.HLine(line_dash=\"dotted\", color=\"black\"),\n",
    "        opts.Image(cmap=\"Blues_r\", clim=(0,1), title=\"\"),\n",
    "    )\n",
    ")\n",
    "display(the_plot)"
   ]
  },
  {
   "cell_type": "code",
   "execution_count": null,
   "id": "881b58cb-8ae2-464c-9498-a3713b4fe900",
   "metadata": {
    "tags": []
   },
   "outputs": [],
   "source": [
    "hv.save(the_plot, filename=fig_path/f\"AEF_FRS_2D_wl_P_elt{excitonic_layer_thickness}_N{num_periods}_th{theta}\", fmt=\"png\", toolbar=None)"
   ]
  },
  {
   "cell_type": "code",
   "execution_count": null,
   "id": "4013178a-0884-4757-88a4-79a37eb38eb3",
   "metadata": {
    "tags": []
   },
   "outputs": [],
   "source": [
    "with warnings.catch_warnings():\n",
    "    warnings.filterwarnings(\"ignore\", \"divide by zero\")\n",
    "    warnings.filterwarnings(\"ignore\", \"invalid value encountered in divide\")\n",
    "    the_plot = plot_df(variable=\"A\", dataset=restacked_diff_1.sel(**temp_params).dropna(\"period\").squeeze(), x=\"wavelength\", y=\"period\")"
   ]
  },
  {
   "cell_type": "code",
   "execution_count": null,
   "id": "ea750fe1-9ce6-4876-b993-a6c3113bbacf",
   "metadata": {
    "tags": []
   },
   "outputs": [],
   "source": [
    "the_plot = (\n",
    "    (the_plot * lorentz_vlines(0, scale=1e-9) * period_slice)\n",
    "    .redim(period=period_dim)\n",
    "    .opts(\n",
    "        opts.VLine(line_dash=\"dotted\", color=\"black\"),\n",
    "        opts.HLine(line_dash=\"dotted\", color=\"black\"),\n",
    "        opts.Image(clim=(-0.25, 0.25), title=\"\"),\n",
    "    )\n",
    ")\n",
    "display(the_plot)"
   ]
  },
  {
   "cell_type": "code",
   "execution_count": null,
   "id": "7045ac84-3566-4b42-b062-7f64be35152f",
   "metadata": {
    "tags": []
   },
   "outputs": [],
   "source": [
    "hv.save(the_plot, filename=fig_path/f\"ADF_CRS_2D_wl_P_elt{excitonic_layer_thickness}_N{num_periods}_th{theta}\", fmt=\"png\", toolbar=None)"
   ]
  },
  {
   "cell_type": "code",
   "execution_count": null,
   "id": "bc1073d9-dad4-4fb9-a99d-28163ffe878b",
   "metadata": {
    "tags": []
   },
   "outputs": [],
   "source": [
    "with warnings.catch_warnings():\n",
    "    warnings.filterwarnings(\"ignore\", \"divide by zero\")\n",
    "    warnings.filterwarnings(\"ignore\", \"invalid value encountered in divide\")\n",
    "    the_plot = plot_df(variable=\"A\", dataset=restacked_diff_2.sel(**temp_params).squeeze(), x=\"wavelength\", y=\"period\")  #drop_na(\"period\") takes forever"
   ]
  },
  {
   "cell_type": "code",
   "execution_count": null,
   "id": "d28d4433-f785-4762-84f8-9e4b698a6ea2",
   "metadata": {
    "tags": []
   },
   "outputs": [],
   "source": [
    "the_plot = (\n",
    "    (the_plot * lorentz_vlines(0, scale=1e-9) * period_slice)\n",
    "    .redim(period=period_dim)\n",
    "    .opts(\n",
    "        opts.VLine(line_dash=\"dotted\", color=\"black\"),\n",
    "        opts.HLine(line_dash=\"dotted\", color=\"black\"),\n",
    "        opts.Image(ylim=(25, 345), cmap=\"Blues_r\", clim=(-0.8, 0), title=\"\"),\n",
    "    )\n",
    ")\n",
    "display(the_plot)"
   ]
  },
  {
   "cell_type": "code",
   "execution_count": null,
   "id": "a0933e8a-6070-4250-a564-a1c71090ca08",
   "metadata": {
    "tags": []
   },
   "outputs": [],
   "source": [
    "hv.save(the_plot, filename=fig_path/f\"ADF_FRS_2D_wl_P_elt{excitonic_layer_thickness}_N{num_periods}_th{theta}\", fmt=\"png\", toolbar=None)"
   ]
  },
  {
   "cell_type": "code",
   "execution_count": null,
   "id": "ae937fad-612b-4e27-899f-f0e82f6750f6",
   "metadata": {
    "tags": []
   },
   "outputs": [],
   "source": [
    "ef_plots = [plot_ef(variable=\"A\", dataset=dataset, sel={\n",
    "        \"period\": period,\n",
    "        \"num_periods\": num_periods,\n",
    "        \"excitonic_layer_thickness\": excitonic_layer_thickness,\n",
    "        \"theta\": theta,\n",
    "    }).relabel(label, depth=1) for dataset, label in zip([restacked_norm_1, restacked_norm_2], [\"CRS\", \"FRS\"])]"
   ]
  },
  {
   "cell_type": "code",
   "execution_count": null,
   "id": "7ec40e44-6ff8-4c5a-b9cf-6f422ca642f4",
   "metadata": {
    "tags": []
   },
   "outputs": [],
   "source": [
    "the_plot = (hv.Overlay(ef_plots) * lorentz_vlines(0, scale=1e-9)).opts(\n",
    "    opts.Curve(ylabel=\"γA\", line_dash=default_dash_cycle),\n",
    "    opts.VLine(line_dash=\"dotted\", color=yellow),\n",
    "    opts.HLine(line_dash=\"dotted\", color=blue),\n",
    "    opts.Overlay(legend_position=\"bottom_right\"),\n",
    ")\n",
    "display(the_plot)"
   ]
  },
  {
   "cell_type": "code",
   "execution_count": null,
   "id": "c0197101-4db9-4786-9a6c-49942acd2000",
   "metadata": {
    "tags": []
   },
   "outputs": [],
   "source": [
    "hv.save(the_plot, filename=fig_path/f\"AEF_comparison_2D_wl_P{period}_elt{excitonic_layer_thickness}_N{num_periods}_th{theta}\", fmt=\"png\", toolbar=None)"
   ]
  },
  {
   "cell_type": "code",
   "execution_count": null,
   "id": "56ac7527-aff7-4d99-87b1-3e9ff70a24b9",
   "metadata": {
    "tags": []
   },
   "outputs": [],
   "source": [
    "df_plots = [plot_df(variable=\"A\", dataset=dataset, sel={\n",
    "        \"period\": period,\n",
    "        \"num_periods\": num_periods,\n",
    "        \"excitonic_layer_thickness\": excitonic_layer_thickness,\n",
    "        \"theta\": theta,\n",
    "    }).relabel(label, depth=1) for dataset, label in zip([restacked_diff_1, restacked_diff_2], [\"CRS\", \"FRS\"])]"
   ]
  },
  {
   "cell_type": "code",
   "execution_count": null,
   "id": "5c7773bc-e4b4-4b1a-b680-3790237f7a77",
   "metadata": {
    "tags": []
   },
   "outputs": [],
   "source": [
    "the_plot = (hv.Overlay(df_plots) * lorentz_vlines(0, scale=1e-9)).opts(\n",
    "    opts.Curve(ylabel=\"ΔA\", line_dash=default_dash_cycle),\n",
    "    opts.VLine(line_dash=\"dotted\", color=yellow),\n",
    "    opts.HLine(line_dash=\"dotted\", color=blue),\n",
    "    opts.Overlay(legend_position=\"bottom_right\"),\n",
    ")\n",
    "display(the_plot)"
   ]
  },
  {
   "cell_type": "code",
   "execution_count": null,
   "id": "834d481c-3fe5-4196-ad59-e30d5511fb95",
   "metadata": {
    "tags": []
   },
   "outputs": [],
   "source": [
    "hv.save(the_plot, filename=fig_path/f\"ADF_comparison_1D_wl_P{period}_elt{excitonic_layer_thickness}_N{num_periods}_th{theta}\", fmt=\"png\", toolbar=None)"
   ]
  },
  {
   "cell_type": "markdown",
   "id": "330ee12d-d229-4762-bea7-b5cb65b5ea19",
   "metadata": {
    "jp-MarkdownHeadingCollapsed": true,
    "tags": []
   },
   "source": [
    "## Integrated absorptance enhancement"
   ]
  },
  {
   "cell_type": "code",
   "execution_count": null,
   "id": "1eb7ad3d-d70d-4657-aebf-d36bc598220b",
   "metadata": {
    "tags": []
   },
   "outputs": [],
   "source": [
    "def integrated_cross_section(\n",
    "    dataset,\n",
    "    variable=None,\n",
    "    wavelength=None,\n",
    "    integrate_wavelength=None,\n",
    "    theta=None,\n",
    "    integrate_theta=None,\n",
    "    normalisation=1,\n",
    "):\n",
    "    da = dataset[variable] if variable is not None else dataset\n",
    "    integration_dims = []\n",
    "\n",
    "    match (wavelength, integrate_wavelength):\n",
    "        case None, None:\n",
    "            pass\n",
    "        case None, _:\n",
    "            raise ValueError(\"'integrate_wavelength' supplied but not 'wavelength'\")\n",
    "        case _, None:\n",
    "            da = da.sel(wavelength=wavelength, method=\"nearest\")\n",
    "        case _, _:\n",
    "            da = da.sel(wavelength=slice(wavelength, integrate_wavelength))\n",
    "            integration_dims.append(\"wavelength\")\n",
    "\n",
    "    match (theta, integrate_theta):\n",
    "        case None, None:\n",
    "            pass\n",
    "        case None, _:\n",
    "            raise ValueError(\"'integrate_theta' supplied but not 'theta'\")\n",
    "        case _, None:\n",
    "            da = da.sel(theta=theta, method=\"nearest\")\n",
    "        case _, _:\n",
    "            da = da.sel(theta=slice(theta, integrate_theta))\n",
    "            integration_dims.append(\"theta\")\n",
    "\n",
    "    if integration_dims:  # if the list isn't empty\n",
    "        da = integrate_da(\n",
    "            da, integration_dims, weighting=1, normalisation=normalisation\n",
    "        )\n",
    "\n",
    "    return da"
   ]
  },
  {
   "cell_type": "code",
   "execution_count": null,
   "id": "353b67c2-0733-4a92-9699-66625f0c092d",
   "metadata": {
    "tags": []
   },
   "outputs": [],
   "source": [
    "def integrated_enhancement_factor(\n",
    "    ds,\n",
    "    ref,\n",
    "    common_dim,\n",
    "    variable=None,\n",
    "    wavelength=None,\n",
    "    integrate_wavelength=None,\n",
    "    theta=None,\n",
    "    integrate_theta=None,\n",
    "    method=\"groupby\",\n",
    "    plt_to_period=False,\n",
    "):\n",
    "    ds = integrated_cross_section(\n",
    "        ds,\n",
    "        variable=variable,\n",
    "        wavelength=wavelength,\n",
    "        integrate_wavelength=integrate_wavelength,\n",
    "        theta=theta,\n",
    "        integrate_theta=integrate_theta,\n",
    "        normalisation=None,\n",
    "    )\n",
    "    ref = integrated_cross_section(\n",
    "        ref,\n",
    "        variable=variable,\n",
    "        wavelength=wavelength,\n",
    "        integrate_wavelength=integrate_wavelength,\n",
    "        theta=theta,\n",
    "        integrate_theta=integrate_theta,\n",
    "        normalisation=None,\n",
    "    )\n",
    "    \n",
    "    ef = enhancement_factor(ds=ds, ref=ref, common_dim=common_dim, method=method)\n",
    "    \n",
    "    if plt_to_period:\n",
    "        ef = restack_plt_to_period(ef)\n",
    "    \n",
    "    return ef"
   ]
  },
  {
   "cell_type": "code",
   "execution_count": null,
   "id": "fa7c65b8-bde8-429a-b444-4065d78d387e",
   "metadata": {
    "tags": []
   },
   "outputs": [],
   "source": [
    "theta = 0\n",
    "num_periods = 10\n",
    "excitonic_layer_thickness = 30\n",
    "period = 200"
   ]
  },
  {
   "cell_type": "code",
   "execution_count": null,
   "id": "5b8eba6c-51ab-4ee3-ab70-5f9d48fe31fd",
   "metadata": {
    "tags": []
   },
   "outputs": [],
   "source": [
    "# with warnings.catch_warnings():\n",
    "#     warnings.filterwarnings(\"ignore\", \"divide by zero\")\n",
    "#     warnings.filterwarnings(\"ignore\", \"invalid value\")\n",
    "#     the_plot = plot_ef(\n",
    "#         \"A\",\n",
    "#         integrated_enhancement_factor(\n",
    "#             ds,\n",
    "#             crs_1,\n",
    "#             \"total_excitonic_thickness\",\n",
    "#             None,\n",
    "#             wavelength=680,\n",
    "#             integrate_wavelength=None,\n",
    "#             theta=theta,\n",
    "#             integrate_theta=None,\n",
    "#             plt_to_period=True,\n",
    "#         ).squeeze(),\n",
    "#         sel=dict(\n",
    "#             num_periods=num_periods, excitonic_layer_thickness=excitonic_layer_thickness\n",
    "#         ),\n",
    "#         x=\"period\",\n",
    "#     )\n",
    "# display(the_plot)"
   ]
  },
  {
   "cell_type": "code",
   "execution_count": null,
   "id": "2c1410a2-a141-4b9c-b3e3-42264090462f",
   "metadata": {
    "tags": []
   },
   "outputs": [],
   "source": [
    "# with warnings.catch_warnings():\n",
    "#     warnings.filterwarnings(\"ignore\", \"divide by zero\")\n",
    "#     warnings.filterwarnings(\"ignore\", \"invalid value\")\n",
    "#     the_plot = (\n",
    "#         integrated_enhancement_factor(\n",
    "#             ds,\n",
    "#             crs_1,\n",
    "#             \"total_excitonic_thickness\",\n",
    "#             \"A\",\n",
    "#             wavelength=680,\n",
    "#             integrate_wavelength=None,\n",
    "#             theta=theta,\n",
    "#             integrate_theta=None,\n",
    "#             plt_to_period=True,\n",
    "#         )\n",
    "#         .sel(period=slice(30, 340))\n",
    "#         .sel(excitonic_layer_thickness=30)\n",
    "#         .squeeze()\n",
    "#         .hvplot(kind=\"quadmesh\", x=\"period\", y=\"num_periods\")\n",
    "#     )\n",
    "#     display(the_plot)"
   ]
  },
  {
   "cell_type": "code",
   "execution_count": null,
   "id": "6b6ea564-1251-445e-bb93-cff719e6b3d6",
   "metadata": {
    "tags": []
   },
   "outputs": [],
   "source": [
    "with warnings.catch_warnings():\n",
    "    warnings.filterwarnings(\"ignore\", \"divide by zero\")\n",
    "    warnings.filterwarnings(\"ignore\", \"invalid value\")\n",
    "    ef_plots = [\n",
    "        plot_ef(\n",
    "            \"A\",\n",
    "            integrated_enhancement_factor(\n",
    "                ds,\n",
    "                crs_1,\n",
    "                \"total_excitonic_thickness\",\n",
    "                None,\n",
    "                wavelength=ds.wavelength.min(),\n",
    "                integrate_wavelength=ds.wavelength.max(),\n",
    "                theta=theta,\n",
    "                integrate_theta=integrate_theta,\n",
    "                plt_to_period=True,\n",
    "            ).squeeze(),\n",
    "            sel=dict(\n",
    "                num_periods=num_periods,\n",
    "                excitonic_layer_thickness=excitonic_layer_thickness,\n",
    "            ),\n",
    "            x=\"period\",\n",
    "        )\n",
    "        .relabel(label, depth=1)\n",
    "        .opts(opts.Curve(line_dash=line_dash))\n",
    "        for integrate_theta, label, line_dash in zip(\n",
    "            [None, 45], [\"normal incidence\", \"integrated\"], [\"solid\", \"dashed\"]\n",
    "        )\n",
    "    ]\n",
    "hv.Overlay(ef_plots)"
   ]
  },
  {
   "cell_type": "code",
   "execution_count": null,
   "id": "42999dbb-db18-42bf-adf1-40f16bf252ef",
   "metadata": {
    "tags": []
   },
   "outputs": [],
   "source": [
    "the_plot = (hv.Overlay(ef_plots)).redim(period=period_dim).opts(\n",
    "    opts.Curve(ylabel=\"γA_tot\", xlim=(None, 350)),\n",
    "    opts.HLine(line_dash=\"dotted\", color=blue),\n",
    "    opts.Overlay(legend_position=\"bottom_left\"),\n",
    ")\n",
    "display(the_plot)"
   ]
  },
  {
   "cell_type": "code",
   "execution_count": null,
   "id": "002b812d-64bf-4ed4-b4ce-4ff9c6db266b",
   "metadata": {
    "tags": []
   },
   "outputs": [],
   "source": [
    "hv.save(the_plot, filename=fig_path/f\"TAEF_comparison_1D_P_th_elt{excitonic_layer_thickness}_N{num_periods}_th{theta}-45\", fmt=\"png\", toolbar=None)"
   ]
  },
  {
   "cell_type": "code",
   "execution_count": null,
   "id": "92a91f85-ef69-412c-ac09-124328701c95",
   "metadata": {
    "tags": []
   },
   "outputs": [],
   "source": [
    "with warnings.catch_warnings():\n",
    "    warnings.filterwarnings(\"ignore\", \"divide by zero\")\n",
    "    warnings.filterwarnings(\"ignore\", \"invalid value\")\n",
    "    ef_plots = [\n",
    "        plot_ef(\n",
    "            \"A\",\n",
    "            integrated_enhancement_factor(\n",
    "                ds,\n",
    "                crs_1,\n",
    "                \"total_excitonic_thickness\",\n",
    "                None,\n",
    "                wavelength=ds.wavelength.min(),\n",
    "                integrate_wavelength=ds.wavelength.max(),\n",
    "                theta=theta,\n",
    "                integrate_theta=integrate_theta,\n",
    "                plt_to_period=True,\n",
    "            ).squeeze(),\n",
    "            sel=dict(\n",
    "                num_periods=num_periods,\n",
    "                excitonic_layer_thickness=excitonic_layer_thickness,\n",
    "            ),\n",
    "            x=\"period\",\n",
    "        )\n",
    "        .relabel(label, depth=1)\n",
    "        .opts(opts.Curve(line_dash=line_dash))\n",
    "        for theta, integrate_theta, label, line_dash in zip(\n",
    "            [0, 15, 30, 0], [None, None, None, 45], [\"normal incidence\", \"15\", \"30\", \"integrated\"], [\"solid\", \"dashed\", \"dotted\", \"dashdot\"]\n",
    "        )\n",
    "    ]\n",
    "hv.Overlay(ef_plots)"
   ]
  },
  {
   "cell_type": "markdown",
   "id": "7e0e8573-6c51-4864-8b67-6abdc39287ed",
   "metadata": {
    "jp-MarkdownHeadingCollapsed": true,
    "tags": []
   },
   "source": [
    "## Total absorptance enhancement factor"
   ]
  },
  {
   "cell_type": "markdown",
   "id": "b77ac744-f70f-489b-b26c-1392bc065312",
   "metadata": {},
   "source": [
    "Plot total absorption enhancement factor under an arbitrary spectrum."
   ]
  },
  {
   "cell_type": "markdown",
   "id": "2671266c-35f3-4606-992f-0cef2ad5bc71",
   "metadata": {
    "tags": []
   },
   "source": [
    "##### Plot total absorptance enhancement factor as a function of period."
   ]
  },
  {
   "cell_type": "code",
   "execution_count": null,
   "id": "15b7a265-3533-4b8d-887e-a69c46b4dfe3",
   "metadata": {},
   "outputs": [],
   "source": [
    "ymin1 = float(ds_flat_spectrum.A.drop_sel(excitonic_layer_thickness=0).sel(theta=0).min())\n",
    "ymax1 = float(ds_flat_spectrum.A.drop_sel(excitonic_layer_thickness=0).sel(theta=0).max())"
   ]
  },
  {
   "cell_type": "code",
   "execution_count": null,
   "id": "126a5177-f75d-494e-997a-e5dacbc17561",
   "metadata": {},
   "outputs": [],
   "source": [
    "ymin2 = float(norm_flat_spectrum.A.drop_sel(excitonic_layer_thickness=0).sel(theta=0).min())\n",
    "ymax2 = float(norm_flat_spectrum.A.drop_sel(excitonic_layer_thickness=0).sel(theta=0).max())"
   ]
  },
  {
   "cell_type": "code",
   "execution_count": null,
   "id": "fce223e6-7014-4ce5-a8ba-51a868c72a1f",
   "metadata": {
    "tags": []
   },
   "outputs": [],
   "source": [
    "norm_flat_spectrum.drop_sel(excitonic_layer_thickness=0).squeeze().A.hvplot(x=\"passive_layer_thickness\", y=\"excitonic_layer_thickness\", clim=(0.8, 1.2), cmap='RdBu_r')"
   ]
  },
  {
   "cell_type": "code",
   "execution_count": null,
   "id": "30d7b0c1-060b-4bea-840c-774e6a93ce39",
   "metadata": {
    "tags": []
   },
   "outputs": [],
   "source": [
    "(\n",
    "    restacked_norm_flat_spectrum.drop_sel(excitonic_layer_thickness=0)\n",
    "    .squeeze()\n",
    "    .A.hvplot(x=\"period\", y=\"excitonic_layer_thickness\", clim=(0.8, 1.2), cmap=\"RdBu_r\")\n",
    "    .opts(clabel=\"γ_tot (flat spectrum)\", shared_axes=False)\n",
    "    + restacked_ds_flat_spectrum.drop_sel(excitonic_layer_thickness=0)\n",
    "    .squeeze()\n",
    "    .A.hvplot(x=\"period\", y=\"excitonic_layer_thickness\", clim=(0, 1), cmap=\"inferno\")\n",
    "    .opts(clabel=\"A_tot\", shared_axes=False)\n",
    ").cols(1)"
   ]
  },
  {
   "cell_type": "markdown",
   "id": "79617085-6c41-46a5-89b6-6650b7a418ea",
   "metadata": {
    "tags": []
   },
   "source": [
    "##### Define some convenient datasets for plotting."
   ]
  },
  {
   "cell_type": "code",
   "execution_count": null,
   "id": "4b3fe80b-733b-48e6-a485-b0a38520586b",
   "metadata": {
    "tags": []
   },
   "outputs": [],
   "source": [
    "crs_1_fs_like_ds = crs_1_flat_spectrum.sel(\n",
    "    total_excitonic_thickness=ds.total_excitonic_thickness\n",
    ").assign(passive_layer_thickness = ds_flat_spectrum.passive_layer_thickness)"
   ]
  },
  {
   "cell_type": "code",
   "execution_count": null,
   "id": "07f34f7e-3fc5-4fd3-a103-18208f109d80",
   "metadata": {
    "tags": []
   },
   "outputs": [],
   "source": [
    "restacked_crs_1_fs_like_ds = (\n",
    "    assign_derived_attrs(\n",
    "        crs_1_fs_like_ds,\n",
    "        absorption=False,\n",
    "        unpolarised=False,\n",
    "        period=True,\n",
    "        total_excitonic_thickness=False,\n",
    "        total_passive_thickness=False,\n",
    "        total_thickness=False,\n",
    "        N_tot=False,\n",
    "        per_oscillator=False,\n",
    "    )\n",
    "    .stack(multiperiod=[\"passive_layer_thickness\", \"excitonic_layer_thickness\"])\n",
    "    .set_index(multiperiod=[\"period\", \"excitonic_layer_thickness\"])\n",
    "    .unstack()\n",
    ")"
   ]
  },
  {
   "cell_type": "code",
   "execution_count": null,
   "id": "0fb43a01-c9f7-49c1-93f7-561de469baf9",
   "metadata": {
    "tags": []
   },
   "outputs": [],
   "source": [
    "diff_1_flat_spectrum = ds_flat_spectrum - crs_1_fs_like_ds"
   ]
  },
  {
   "cell_type": "code",
   "execution_count": null,
   "id": "c52033d5-475a-4e66-85dd-acf3a3283ed3",
   "metadata": {
    "tags": []
   },
   "outputs": [],
   "source": [
    "restacked_diff_1_flat_spectrum = (\n",
    "    diff_1_flat_spectrum.stack(\n",
    "        multiperiod=[\"passive_layer_thickness\", \"excitonic_layer_thickness\"]\n",
    "    )\n",
    "    .set_index(multiperiod=[\"period\", \"excitonic_layer_thickness\"])\n",
    "    .unstack()\n",
    ")"
   ]
  },
  {
   "cell_type": "markdown",
   "id": "7f25a456-47b1-4d60-91c3-abd1886ecbf9",
   "metadata": {},
   "source": [
    "##### Plot the total absorptance and absolute difference in total absorptance"
   ]
  },
  {
   "cell_type": "code",
   "execution_count": null,
   "id": "11228620-5adc-4f3a-b352-35148431fbc4",
   "metadata": {
    "tags": []
   },
   "outputs": [],
   "source": [
    "restacked_ds_flat_spectrum[unpolarised_RTA].squeeze().hvplot(\n",
    "    x=\"period\", ylim=(0, 1)\n",
    ")"
   ]
  },
  {
   "cell_type": "code",
   "execution_count": null,
   "id": "4a70cd0c-b08d-4da6-8a9d-b704ff8e69dd",
   "metadata": {
    "tags": []
   },
   "outputs": [],
   "source": [
    "crs_1[unpolarised_RTA].squeeze().hvplot(x=\"wavelength\", ylim=(0,1))*lorentz_vlines(0, scale=1e-9).opts(line_dash='dotted', color=yellow)"
   ]
  },
  {
   "cell_type": "code",
   "execution_count": null,
   "id": "5642f70d-a737-4f7d-b25f-7b5efd53e9df",
   "metadata": {
    "tags": []
   },
   "outputs": [],
   "source": [
    "(\n",
    "    crs_1_flat_spectrum[unpolarised_RTA]\n",
    "    .squeeze()\n",
    "    .hvplot(\n",
    "        x=\"total_excitonic_thickness\",\n",
    "        xlim=(0, 3500),\n",
    "        ylim=(0, 1),\n",
    "    )\n",
    "    * hv.VLine(120, label=\"6 periods of 20 nm\").opts(line_dash=\"dotted\")\n",
    "    * hv.VLine(3000, label=\"50 periods of 60 nm\").opts(line_dash=\"dotted\")\n",
    ")"
   ]
  },
  {
   "cell_type": "code",
   "execution_count": null,
   "id": "c2163a1f-56ba-4f48-bfc1-29c8ba359506",
   "metadata": {
    "tags": []
   },
   "outputs": [],
   "source": [
    "num_periods = 6\n",
    "excitonic_layer_thickness = 20\n",
    "theta = 0\n",
    "periods = [40, 160, 210, 260]"
   ]
  },
  {
   "cell_type": "code",
   "execution_count": null,
   "id": "f6aac128-1b31-48a8-95fc-25ef73e752f0",
   "metadata": {
    "tags": []
   },
   "outputs": [],
   "source": [
    "dmap = (restacked_diff_1_flat_spectrum)[unpolarised_RTA].squeeze().hvplot(\n",
    "    x=\"period\",\n",
    ")*hv.HLine(0).opts(line_dash='dotted')\n",
    "dmap"
   ]
  },
  {
   "cell_type": "code",
   "execution_count": null,
   "id": "00e86568-61ab-4e74-ad0b-672037213877",
   "metadata": {
    "tags": []
   },
   "outputs": [],
   "source": [
    "the_plot = (\n",
    "    dmap[num_periods, theta, excitonic_layer_thickness] * vlines(periods)\n",
    ").opts(\n",
    "    opts.VLine(line_dash=\"dotted\"),\n",
    "    opts.Curve(xlabel=\"Λ (nm)\", xlim=(None, 330), color=hv.Cycle([blue, yellow, red])),\n",
    ")\n",
    "the_plot"
   ]
  },
  {
   "cell_type": "code",
   "execution_count": null,
   "id": "670ada30-9caa-4dc6-ab65-dae3ef9320f8",
   "metadata": {
    "tags": []
   },
   "outputs": [],
   "source": [
    "hv.save(the_plot, filename=fig_path/f\"opt_Aef_max_0_5_0_0_RTA_df_0\", fmt=\"png\", toolbar=None)"
   ]
  },
  {
   "cell_type": "code",
   "execution_count": null,
   "id": "fed73c4a-6406-4f9b-abab-9511658a4537",
   "metadata": {},
   "outputs": [],
   "source": [
    "# manually saved opt_Aef_max_0_5_0_0_RTA_df_0.png at N=6, d_e=20"
   ]
  },
  {
   "cell_type": "code",
   "execution_count": null,
   "id": "6f764358-928d-421e-a6e5-5aa590a5b4e4",
   "metadata": {},
   "outputs": [],
   "source": []
  },
  {
   "cell_type": "code",
   "execution_count": null,
   "id": "c63b606a-0e7d-4b9c-bcd6-318d111b5d6b",
   "metadata": {
    "tags": []
   },
   "outputs": [],
   "source": [
    "# (integrate_da(restacked_diff_1.sel(wavelength=slice(580, 780)), dim=\"wavelength\", normalisation=1))[unpolarised_RTA].squeeze().hvplot(\n",
    "#     x=\"period\",\n",
    "# )*hv.HLine(0).opts(line_dash='dotted')"
   ]
  },
  {
   "cell_type": "code",
   "execution_count": null,
   "id": "e26a7881-09a2-4b08-bbe8-2ad8d8060896",
   "metadata": {
    "tags": []
   },
   "outputs": [],
   "source": [
    "# (integrate_da(restacked_diff_1.sel(wavelength=slice(630, 730)), dim=\"wavelength\", normalisation=1))[unpolarised_RTA].squeeze().hvplot(\n",
    "#     x=\"period\",\n",
    "# )*hv.HLine(0).opts(line_dash='dotted')"
   ]
  },
  {
   "cell_type": "markdown",
   "id": "fae506a9-24ae-4cad-9cce-ad1223de1f86",
   "metadata": {},
   "source": [
    "##### Plot the AEF at periods to illustrate what's going on above"
   ]
  },
  {
   "cell_type": "code",
   "execution_count": null,
   "id": "d80a1276-9c95-4418-9c98-28a8c66d80b0",
   "metadata": {
    "tags": []
   },
   "outputs": [],
   "source": [
    "the_plot = (\n",
    "    restacked_norm_1[\"A\"]\n",
    "    .squeeze()\n",
    "    .sel(\n",
    "        excitonic_layer_thickness=excitonic_layer_thickness,\n",
    "        num_periods=num_periods,\n",
    "        theta=theta,\n",
    "    )\n",
    "    .sel(period=periods)\n",
    "    .hvplot(x=\"wavelength\", by=\"period\")\n",
    "    * hv.HLine(1)\n",
    "    * lorentz_vlines(0, scale=1e-9)\n",
    ").opts(\n",
    "    opts.HLine(line_dash=\"dotted\"),\n",
    "    opts.VLine(line_dash=\"dotted\", color=yellow),\n",
    "    opts.Curve(ylabel=\"γA\", line_dash=hv.Cycle([\"dashdot\", \"dotdash\", \"solid\", \"dashed\"])),\n",
    "    opts.Overlay(legend_opts = {\"title\": \"Λ\"}),\n",
    ")\n",
    "the_plot"
   ]
  },
  {
   "cell_type": "code",
   "execution_count": null,
   "id": "258c520a-fa1d-4732-91fb-745efc1e40cc",
   "metadata": {
    "tags": []
   },
   "outputs": [],
   "source": [
    "hv.save(the_plot, filename=fig_path/f\"AEF_comparison_1D_wl_P110-260_elt{excitonic_layer_thickness}_N{num_periods}_th{theta}\", fmt=\"png\", toolbar=None)"
   ]
  },
  {
   "cell_type": "markdown",
   "id": "f7385438-0743-45bc-b6ae-df5b979e3d41",
   "metadata": {
    "tags": []
   },
   "source": [
    "##### Plot total absorption enhancement factor as a function of excitonic layer thickness and number of layers."
   ]
  },
  {
   "cell_type": "code",
   "execution_count": null,
   "id": "40c9a5f1-4167-4e78-86ba-8af0eba2268b",
   "metadata": {
    "tags": []
   },
   "outputs": [],
   "source": [
    "norm_flat_spectrum.drop_sel(excitonic_layer_thickness=0).squeeze().A.hvplot(kind=\"quadmesh\", x=\"excitonic_layer_thickness\", y=\"num_periods\", clim=(0.8, 1.2), cmap='RdBu_r')"
   ]
  },
  {
   "cell_type": "code",
   "execution_count": null,
   "id": "89f801f0-4ffb-4e6c-96e6-38c4c2ac0930",
   "metadata": {
    "tags": []
   },
   "outputs": [],
   "source": [
    "restacked_norm_flat_spectrum.drop_sel(excitonic_layer_thickness=0).squeeze().A.hvplot(kind=\"quadmesh\", x=\"excitonic_layer_thickness\", y=\"num_periods\", clim=(0.8, 1.2), cmap='RdBu_r')"
   ]
  },
  {
   "cell_type": "markdown",
   "id": "15693eb9-5f68-4b43-98c7-0839b7a8186d",
   "metadata": {
    "tags": []
   },
   "source": [
    "##### Plot total absorption enhancement factor as a function of passive layer thickness/period and number of layers."
   ]
  },
  {
   "cell_type": "code",
   "execution_count": null,
   "id": "481330cc-04b8-4c23-b34f-2d87fb4eed43",
   "metadata": {
    "tags": []
   },
   "outputs": [],
   "source": [
    "norm_flat_spectrum.drop_sel(excitonic_layer_thickness=0).squeeze().A.hvplot(kind=\"quadmesh\", x=\"passive_layer_thickness\", y=\"num_periods\", clim=(0.8, 1.2), cmap='RdBu_r')"
   ]
  },
  {
   "cell_type": "code",
   "execution_count": null,
   "id": "ff689620-0886-4eb4-8bed-7b9f5cbd19a0",
   "metadata": {
    "tags": []
   },
   "outputs": [],
   "source": [
    "restacked_norm_flat_spectrum.drop_sel(excitonic_layer_thickness=0).squeeze().A.hvplot(kind=\"quadmesh\", x=\"period\", y=\"num_periods\", clim=(0.8, 1.2), cmap='RdBu_r')"
   ]
  },
  {
   "cell_type": "markdown",
   "id": "eed0ff0a-ef82-46e2-92c5-5115a3308449",
   "metadata": {
    "tags": []
   },
   "source": [
    "### Optimisation of total absorption FOMs"
   ]
  },
  {
   "cell_type": "markdown",
   "id": "11eb4ec7-766f-4212-a0a8-80adac3b22f3",
   "metadata": {
    "tags": []
   },
   "source": [
    "##### Find maximum gamma_tot"
   ]
  },
  {
   "cell_type": "code",
   "execution_count": null,
   "id": "325f02c3-71a4-47a8-bd83-a9dd194628fe",
   "metadata": {
    "tags": []
   },
   "outputs": [],
   "source": [
    "sel = {'excitonic_layer_thickness': slice(None,None), 'period': slice(None,None), 'num_periods': slice(None, None), 'theta': slice(0,0)}\n",
    "da = restacked_norm_flat_spectrum['A'].drop_sel(excitonic_layer_thickness=0).sel(sel)\n",
    "optimum = da.where(da==da.max(), drop=True)\n",
    "print(optimum.values)\n",
    "print(optimum.coords)\n",
    "P = optimum.period.values[0]\n",
    "t = optimum.excitonic_layer_thickness.values[0]\n",
    "N = optimum.num_periods.values[0]"
   ]
  },
  {
   "cell_type": "code",
   "execution_count": null,
   "id": "f975651d-e2e3-4193-90f3-7383bee61274",
   "metadata": {
    "tags": []
   },
   "outputs": [],
   "source": [
    "plot_RTA(\n",
    "    period=P,\n",
    "    excitonic_layer_thickness=t,\n",
    "    num_periods=N,\n",
    "    theta=0,\n",
    ")"
   ]
  },
  {
   "cell_type": "code",
   "execution_count": null,
   "id": "1e3f6145-0bb0-4fd1-965e-aaa4a06f2b0a",
   "metadata": {
    "tags": []
   },
   "outputs": [],
   "source": [
    "(\n",
    "    restacked_ds[\"R\"]\n",
    "    .sel(period=P, excitonic_layer_thickness=t, num_periods=N, theta=0)\n",
    "    .squeeze()\n",
    "    .hvplot(x=\"wavelength\", label=\"Reflectance (LOPC)\")\n",
    "    * restacked_ds[\"A\"]\n",
    "    .sel(period=P, excitonic_layer_thickness=t, num_periods=N, theta=0)\n",
    "    .squeeze()\n",
    "    .hvplot(x=\"wavelength\", label=\"Absorptance (LOPC)\")\n",
    "    * crs_1[\"R\"]\n",
    "    .sel(total_excitonic_thickness=t * N, theta=0)\n",
    "    .squeeze()\n",
    "    .hvplot(x=\"wavelength\", label=\"Reflectance (CRS)\")\n",
    "    .opts(opts.Curve(color=blue, line_dash=\"dashed\"))\n",
    "    * crs_1[\"A\"]\n",
    "    .sel(total_excitonic_thickness=t * N, theta=0)\n",
    "    .squeeze()\n",
    "    .hvplot(x=\"wavelength\", label=\"Absorptance (CRS)\")\n",
    "    .opts(opts.Curve(color=red, line_dash=\"dashed\"))\n",
    "    # * resonance_line\n",
    ").opts(\n",
    "    ylim=(0, 1),\n",
    "    ylabel=\"Intensity\",\n",
    "    title=f\"period: {P} nm\\nexcitonic_layer_thickness: {t} nm\\nnum_periods: {N}\",\n",
    ")"
   ]
  },
  {
   "cell_type": "markdown",
   "id": "2cce819d-9e91-4c72-8254-1a971bf792c1",
   "metadata": {},
   "source": [
    "##### Find maximum Delta_tot"
   ]
  },
  {
   "cell_type": "code",
   "execution_count": null,
   "id": "76336efa-9f70-4f04-881f-8a521703373b",
   "metadata": {
    "tags": []
   },
   "outputs": [],
   "source": [
    "sel = {'excitonic_layer_thickness': slice(None,None), 'period': slice(None,None), 'num_periods': slice(None,None), 'theta': slice(0,0)}\n",
    "da = restacked_diff_1_flat_spectrum['A'].sel(sel)\n",
    "optimum = da.where(da==da.max(), drop=True)\n",
    "print(optimum.values)\n",
    "print(optimum.coords)\n",
    "P = optimum.period.values[0]\n",
    "t = optimum.excitonic_layer_thickness.values[0]\n",
    "N = optimum.num_periods.values[0]"
   ]
  },
  {
   "cell_type": "code",
   "execution_count": null,
   "id": "82a4a981-2c0c-41f8-afd3-b38b31c9ae64",
   "metadata": {
    "tags": []
   },
   "outputs": [],
   "source": [
    "plot_RTA(\n",
    "    period=P,\n",
    "    excitonic_layer_thickness=t,\n",
    "    num_periods=N,\n",
    "    theta=0,\n",
    ")"
   ]
  },
  {
   "cell_type": "code",
   "execution_count": null,
   "id": "8b2999f2-896f-4ca2-b53b-0a56b876decc",
   "metadata": {},
   "outputs": [],
   "source": [
    "(\n",
    "    restacked_ds[\"R\"]\n",
    "    .sel(period=P, excitonic_layer_thickness=t, num_periods=N, theta=0)\n",
    "    .squeeze()\n",
    "    .hvplot(x=\"wavelength\", label=\"Reflectance (LOPC)\")\n",
    "    * restacked_ds[\"A\"]\n",
    "    .sel(period=P, excitonic_layer_thickness=t, num_periods=N, theta=0)\n",
    "    .squeeze()\n",
    "    .hvplot(x=\"wavelength\", label=\"Absorptance (LOPC)\")\n",
    "    * crs_1[\"R\"]\n",
    "    .sel(total_excitonic_thickness=t * N, theta=0)\n",
    "    .squeeze()\n",
    "    .hvplot(x=\"wavelength\", label=\"Reflectance (CRS)\")\n",
    "    .opts(opts.Curve(color=blue, line_dash='dashed'))\n",
    "    * crs_1[\"A\"]\n",
    "    .sel(total_excitonic_thickness=t * N, theta=0)\n",
    "    .squeeze()\n",
    "    .hvplot(x=\"wavelength\", label=\"Absorptance (CRS)\")\n",
    "    .opts(opts.Curve(color=red, line_dash='dashed'))\n",
    "    *resonance_line\n",
    ").opts(\n",
    "    ylim=(0, 1),\n",
    "    ylabel=\"Intensity\",\n",
    "    title=f\"period: {P} nm\\nexcitonic_layer_thickness: {t} nm\\nnum_periods: {N}\",\n",
    ")"
   ]
  },
  {
   "cell_type": "markdown",
   "id": "6f2f9612-2a42-451e-8da0-dda58b072ec6",
   "metadata": {},
   "source": [
    "##### Find maximum... Delta_absorption_per_oscillator_tot?"
   ]
  },
  {
   "cell_type": "code",
   "execution_count": null,
   "id": "b2b46c60-6319-49ba-b07c-b09477853193",
   "metadata": {},
   "outputs": [],
   "source": [
    "sel = {'excitonic_layer_thickness': slice(None,None), 'period': slice(None,None), 'num_periods': slice(None, None), 'theta': slice(0,0)}\n",
    "da = restacked_diff_1_flat_spectrum['A_per_oscillator'].drop_sel(excitonic_layer_thickness=0).sel(sel)\n",
    "optimum = da.where(da==da.max(), drop=True)\n",
    "print(optimum.values)\n",
    "print(optimum.coords)\n",
    "P = optimum.period.values[0]\n",
    "t = optimum.excitonic_layer_thickness.values[0]\n",
    "N = optimum.num_periods.values[0]"
   ]
  },
  {
   "cell_type": "code",
   "execution_count": null,
   "id": "42936d4e-b623-4a55-bd3e-c0f61cf8c3b1",
   "metadata": {},
   "outputs": [],
   "source": [
    "(\n",
    "    restacked_ds[\"R\"]\n",
    "    .sel(period=P, excitonic_layer_thickness=t, num_periods=N, theta=0)\n",
    "    .squeeze()\n",
    "    .hvplot(x=\"wavelength\", label=\"Reflectance (LOPC)\")\n",
    "    * restacked_ds[\"A\"]\n",
    "    .sel(period=P, excitonic_layer_thickness=t, num_periods=N, theta=0)\n",
    "    .squeeze()\n",
    "    .hvplot(x=\"wavelength\", label=\"Absorptance (LOPC)\")\n",
    "    * crs_1[\"R\"]\n",
    "    .sel(total_excitonic_thickness=t * N, theta=0)\n",
    "    .squeeze()\n",
    "    .hvplot(x=\"wavelength\", label=\"Reflectance (CRS)\")\n",
    "    .opts(opts.Curve(color=blue, line_dash='dashed'))\n",
    "    * crs_1[\"A\"]\n",
    "    .sel(total_excitonic_thickness=t * N, theta=0)\n",
    "    .squeeze()\n",
    "    .hvplot(x=\"wavelength\", label=\"Absorptance (CRS)\")\n",
    "    .opts(opts.Curve(color=red, line_dash='dashed'))\n",
    "    *resonance_line\n",
    ").opts(ylim=(0, 1), ylabel=\"Intensity\")"
   ]
  },
  {
   "cell_type": "markdown",
   "id": "8d257f7c-f973-4e97-b89a-ee3e45b381b6",
   "metadata": {
    "jp-MarkdownHeadingCollapsed": true,
    "tags": []
   },
   "source": [
    "## Tables of optimal parameters"
   ]
  },
  {
   "cell_type": "code",
   "execution_count": null,
   "id": "aa812cc6-75de-4b29-95ad-c3fe9d7e5c1f",
   "metadata": {
    "tags": []
   },
   "outputs": [],
   "source": [
    "variable = pd.CategoricalDtype(['R', 'T', 'A', 'R_per_oscillator', 'T_per_oscillator', 'A_per_oscillator'], \n",
    "                         ordered=True)"
   ]
  },
  {
   "cell_type": "code",
   "execution_count": null,
   "id": "f8588e94-8dfd-4216-95e7-b3b6a9cbd5cc",
   "metadata": {
    "tags": []
   },
   "outputs": [],
   "source": [
    "# # old caption recorded in case I want to use it after all\n",
    "# caption=(\n",
    "#         \"Table of optimal parameters for \\gls{lopc} \\glspl{fom}, indexed by: the \\gls{fom} in question;\"\n",
    "#         \" the type of optimisation (maximum or minimum); the wavelength of interest (denoted by the\"\n",
    "#         \" Lorentz line index) and wavelength window radius in Lorentz linewidths; the angle of incidence\"\n",
    "#         \" \\gls{theta}, and the angular integration limit. Where the integration limit is recorded as 0,\"\n",
    "#         \" it represents no angular integral, e.g.\\ \\(\\gls{theta}=30\\), \\gls{theta} integration limit = 0\"\n",
    "#         \" indicates the optimisation was at \\SI{30}{\\degree}.\",\n",
    "#         \"Table of optimal parameters for \\gls{lopc} \\glspl{fom}\",\n",
    "#     ),"
   ]
  },
  {
   "cell_type": "code",
   "execution_count": null,
   "id": "6c524dce-b857-409b-b2d3-5008ab3595f7",
   "metadata": {
    "tags": []
   },
   "outputs": [],
   "source": [
    "opt_LOPC = pd.read_csv(\n",
    "    data_path / f\"run_{run_number}/optimal_LOPC.csv\",\n",
    "    # index_col=[\n",
    "    #     \"variable\",\n",
    "    #     \"maxmin\",\n",
    "    #     \"lorentz_line\",\n",
    "    #     \"window_radius\",\n",
    "    #     \"theta_start\",\n",
    "    #     \"theta_stop\",\n",
    "    # ],\n",
    ")\n",
    "\n",
    "opt_LOPC[\"variable\"] = opt_LOPC[\"variable\"].astype(variable)\n",
    "\n",
    "opt_LOPC = opt_LOPC.sort_values(\n",
    "    by=[\"variable\", \"maxmin\", \"lorentz_line\", \"window_radius\"]\n",
    ")\n",
    "\n",
    "opt_LOPC = opt_LOPC.rename(\n",
    "    columns={\n",
    "        \"variable\": \"\\gls{fom}\",\n",
    "        \"maxmin\": \"Max/min\",\n",
    "        \"lorentz_line\": \"Lorentz line\",\n",
    "        \"window_radius\": \"Window radius\",\n",
    "        \"theta_start\": \"\\gls{theta}\",\n",
    "        \"theta_stop\": \"$\\gls{theta}_i$\",\n",
    "        \"excitonic_layer_thickness\": \"\\gls{d_e}\",\n",
    "        \"num_periods\": \"\\gls{N_lopc}\",\n",
    "        \"period\": \"\\gls{Lambda}\",\n",
    "        \"value\": \"Value\"\n",
    "    }\n",
    ")\n",
    "\n",
    "opt_LOPC = opt_LOPC.replace(\n",
    "    {\n",
    "        \"R\": \"\\gls{R}\",\n",
    "        \"T\": \"\\gls{T}\",\n",
    "        \"A\": \"\\gls{A}\",\n",
    "        \"R_per_oscillator\": \"$\\po{\\gls{R}}$\",\n",
    "        \"T_per_oscillator\": \"$\\po{\\gls{T}}$\",\n",
    "        \"A_per_oscillator\": \"$\\po{\\gls{A}}$\",\n",
    "        \"max\": \"Max\",\n",
    "        \"min\": \"Min\",\n",
    "    }\n",
    ")\n",
    "\n",
    "opt_LOPC = opt_LOPC.set_index(list(opt_LOPC.columns[0:6]))\n",
    "\n",
    "opt_LOPC.drop(columns=[\"period_start\", \"period_stop\"]).to_latex(\n",
    "    buf=root / r\"thesis\\LaTeX\\chapters\\appendices\\optimal_LOPC_parameters.tex\",\n",
    "    float_format=\"{:.3e}\".format,\n",
    "    sparsify=True,\n",
    "    longtable=True,\n",
    "    escape=False,\n",
    "    label=\"tab:optimal_LOPC_parameters\",\n",
    "    position=\"ht\",\n",
    "    caption=\"Table of optimal parameters for \\gls{lopc} \\glspl{fom}\",\n",
    ")"
   ]
  },
  {
   "cell_type": "code",
   "execution_count": null,
   "id": "2425beca-52cb-4aaf-bf5d-cb9d2fdf7239",
   "metadata": {
    "tags": []
   },
   "outputs": [],
   "source": [
    "opt_diff_1 = pd.read_csv(\n",
    "    data_path / f\"run_{run_number}/optimal_diff_1.csv\",\n",
    "    # index_col=[\n",
    "    #     \"variable\",\n",
    "    #     \"maxmin\",\n",
    "    #     \"lorentz_line\",\n",
    "    #     \"window_radius\",\n",
    "    #     \"theta_start\",\n",
    "    #     \"theta_stop\",\n",
    "    # ],\n",
    ")\n",
    "\n",
    "opt_diff_1[\"variable\"] = opt_diff_1[\"variable\"].astype(variable)\n",
    "\n",
    "opt_diff_1 = opt_diff_1.sort_values(\n",
    "    by=[\"variable\", \"maxmin\", \"lorentz_line\", \"window_radius\"]\n",
    ")\n",
    "\n",
    "opt_diff_1 = opt_diff_1.rename(\n",
    "    columns={\n",
    "        \"variable\": \"\\gls{fom}\",\n",
    "        \"maxmin\": \"Max/min\",\n",
    "        \"lorentz_line\": \"Lorentz line\",\n",
    "        \"window_radius\": \"Window radius\",\n",
    "        \"theta_start\": \"\\gls{theta}\",\n",
    "        \"theta_stop\": \"$\\gls{theta}_i$\",\n",
    "        \"excitonic_layer_thickness\": \"\\gls{d_e}\",\n",
    "        \"num_periods\": \"\\gls{N_lopc}\",\n",
    "        \"period\": \"\\gls{Lambda}\",\n",
    "        \"value\": \"Value\",\n",
    "    }\n",
    ")\n",
    "\n",
    "opt_diff_1 = opt_diff_1.replace(\n",
    "    {\n",
    "        \"R\": \"$\\df{\\gls{R}, \\mathrm{\\gls{crs}}}$\",\n",
    "        \"T\": \"$\\df{\\gls{T}, \\mathrm{\\gls{crs}}}$\",\n",
    "        \"A\": \"$\\df{\\gls{A}, \\mathrm{\\gls{crs}}}$\",\n",
    "        \"R_per_oscillator\": \"$\\df{\\po{\\gls{R}}, \\mathrm{\\gls{crs}}}$\",\n",
    "        \"T_per_oscillator\": \"$\\df{\\po{\\gls{T}}, \\mathrm{\\gls{crs}}}$\",\n",
    "        \"A_per_oscillator\": \"$\\df{\\po{\\gls{A}}, \\mathrm{\\gls{crs}}}$\",\n",
    "        \"max\": \"Max\",\n",
    "        \"min\": \"Min\",\n",
    "    }\n",
    ")\n",
    "\n",
    "opt_diff_1 = opt_diff_1.set_index(list(opt_diff_1.columns[0:6]))\n",
    "\n",
    "opt_diff_1.drop(columns=[\"period_start\", \"period_stop\"]).to_latex(\n",
    "    buf=root / r\"thesis\\LaTeX\\chapters\\appendices\\optimal_diff_1_parameters.tex\",\n",
    "    float_format=\"{:.3e}\".format,\n",
    "    sparsify=True,\n",
    "    longtable=True,\n",
    "    escape=False,\n",
    "    label=\"tab:optimal_diff_1_parameters\",\n",
    "    position=\"ht\",\n",
    "    caption=\"Table of optimal parameters for \\gls{lopc} \\gls{fom} difference factors relative to \\gls{crs}\",\n",
    ")"
   ]
  },
  {
   "cell_type": "code",
   "execution_count": null,
   "id": "4a232cd0-9978-4d70-b1e5-eb2858930812",
   "metadata": {
    "tags": []
   },
   "outputs": [],
   "source": [
    "opt_diff_2 = pd.read_csv(\n",
    "    data_path / f\"run_{run_number}/optimal_diff_2.csv\",\n",
    "    # index_col=[\n",
    "    #     \"variable\",\n",
    "    #     \"maxmin\",\n",
    "    #     \"lorentz_line\",\n",
    "    #     \"window_radius\",\n",
    "    #     \"theta_start\",\n",
    "    #     \"theta_stop\",\n",
    "    # ],\n",
    ")\n",
    "\n",
    "opt_diff_2[\"variable\"] = opt_diff_2[\"variable\"].astype(variable)\n",
    "\n",
    "opt_diff_2 = opt_diff_2.sort_values(\n",
    "    by=[\"variable\", \"maxmin\", \"lorentz_line\", \"window_radius\"]\n",
    ")\n",
    "\n",
    "opt_diff_2 = opt_diff_2.rename(\n",
    "    columns={\n",
    "        \"variable\": \"\\gls{fom}\",\n",
    "        \"maxmin\": \"Max/min\",\n",
    "        \"lorentz_line\": \"Lorentz line\",\n",
    "        \"window_radius\": \"Window radius\",\n",
    "        \"theta_start\": \"\\gls{theta}\",\n",
    "        \"theta_stop\": \"$\\gls{theta}_i$\",\n",
    "        \"excitonic_layer_thickness\": \"\\gls{d_e}\",\n",
    "        \"num_periods\": \"\\gls{N_lopc}\",\n",
    "        \"period\": \"\\gls{Lambda}\",\n",
    "        \"value\": \"Value\",\n",
    "    }\n",
    ")\n",
    "\n",
    "opt_diff_2 = opt_diff_2.replace(\n",
    "    {\n",
    "        \"R\": \"$\\df{\\gls{R}, \\mathrm{\\gls{frs}}}$\",\n",
    "        \"T\": \"$\\df{\\gls{T}, \\mathrm{\\gls{frs}}}$\",\n",
    "        \"A\": \"$\\df{\\gls{A}, \\mathrm{\\gls{frs}}}$\",\n",
    "        \"R_per_oscillator\": \"$\\df{\\po{\\gls{R}}, \\mathrm{\\gls{frs}}}$\",\n",
    "        \"T_per_oscillator\": \"$\\df{\\po{\\gls{T}}, \\mathrm{\\gls{frs}}}$\",\n",
    "        \"A_per_oscillator\": \"$\\df{\\po{\\gls{A}}, \\mathrm{\\gls{frs}}}$\",\n",
    "        \"max\": \"Max\",\n",
    "        \"min\": \"Min\",\n",
    "    }\n",
    ")\n",
    "\n",
    "opt_diff_2 = opt_diff_2.set_index(list(opt_diff_2.columns[0:6]))\n",
    "\n",
    "opt_diff_2.drop(columns=[\"period_start\", \"period_stop\"]).to_latex(\n",
    "    buf=root / r\"thesis\\LaTeX\\chapters\\appendices\\optimal_diff_2_parameters.tex\",\n",
    "    float_format=\"{:.3e}\".format,\n",
    "    sparsify=True,\n",
    "    longtable=True,\n",
    "    escape=False,\n",
    "    label=\"tab:optimal_diff_2_parameters\",\n",
    "    position=\"ht\",\n",
    "    caption=\"Table of optimal parameters for \\gls{lopc} \\gls{fom} difference factors relative to \\gls{frs}\",\n",
    ")"
   ]
  },
  {
   "cell_type": "code",
   "execution_count": null,
   "id": "6ade514a-2d83-43f6-ba82-3874e2b6118f",
   "metadata": {
    "tags": []
   },
   "outputs": [],
   "source": [
    "opt_norm_1 = pd.read_csv(\n",
    "    data_path / f\"run_{run_number}/optimal_norm_1.csv\",\n",
    "    # index_col=[\n",
    "    #     \"variable\",\n",
    "    #     \"maxmin\",\n",
    "    #     \"lorentz_line\",\n",
    "    #     \"window_radius\",\n",
    "    #     \"theta_start\",\n",
    "    #     \"theta_stop\",\n",
    "    # ],\n",
    ")\n",
    "\n",
    "opt_norm_1[\"variable\"] = opt_norm_1[\"variable\"].astype(variable)\n",
    "\n",
    "opt_norm_1 = opt_norm_1.sort_values(\n",
    "    by=[\"variable\", \"maxmin\", \"lorentz_line\", \"window_radius\"]\n",
    ")\n",
    "\n",
    "opt_norm_1 = opt_norm_1.rename(\n",
    "    columns={\n",
    "        \"variable\": \"\\gls{fom}\",\n",
    "        \"maxmin\": \"Max/min\",\n",
    "        \"lorentz_line\": \"Lorentz line\",\n",
    "        \"window_radius\": \"Window radius\",\n",
    "        \"theta_start\": \"\\gls{theta}\",\n",
    "        \"theta_stop\": \"$\\gls{theta}_i$\",\n",
    "        \"excitonic_layer_thickness\": \"\\gls{d_e}\",\n",
    "        \"num_periods\": \"\\gls{N_lopc}\",\n",
    "        \"period\": \"\\gls{Lambda}\",\n",
    "        \"value\": \"Value\",\n",
    "    }\n",
    ")\n",
    "\n",
    "opt_norm_1 = opt_norm_1.replace(\n",
    "    {\n",
    "        \"R\": \"$\\ef{\\gls{R}, \\mathrm{\\gls{crs}}}$\",\n",
    "        \"T\": \"$\\ef{\\gls{T}, \\mathrm{\\gls{crs}}}$\",\n",
    "        \"A\": \"$\\ef{\\gls{A}, \\mathrm{\\gls{crs}}}$\",\n",
    "        \"R_per_oscillator\": \"$\\ef{\\po{\\gls{R}}, \\mathrm{\\gls{crs}}}$\",\n",
    "        \"T_per_oscillator\": \"$\\ef{\\po{\\gls{T}}, \\mathrm{\\gls{crs}}}$\",\n",
    "        \"A_per_oscillator\": \"$\\ef{\\po{\\gls{A}}, \\mathrm{\\gls{crs}}}$\",\n",
    "        \"max\": \"Max\",\n",
    "        \"min\": \"Min\",\n",
    "    }\n",
    ")\n",
    "\n",
    "opt_norm_1 = opt_norm_1.set_index(list(opt_norm_1.columns[0:6]))\n",
    "\n",
    "opt_norm_1.drop(columns=[\"period_start\", \"period_stop\"]).to_latex(\n",
    "    buf=root / r\"thesis\\LaTeX\\chapters\\appendices\\optimal_norm_1_parameters.tex\",\n",
    "    float_format=\"{:.3e}\".format,\n",
    "    sparsify=True,\n",
    "    longtable=True,\n",
    "    escape=False,\n",
    "    label=\"tab:optimal_norm_1_parameters\",\n",
    "    position=\"ht\",\n",
    "    caption=\"Table of optimal parameters for \\gls{lopc} \\gls{fom} enhancement factors relative to \\gls{crs}\",\n",
    ")"
   ]
  },
  {
   "cell_type": "code",
   "execution_count": null,
   "id": "3403afb7-560d-4d95-9e10-9e69ea9aa57f",
   "metadata": {
    "tags": []
   },
   "outputs": [],
   "source": [
    "opt_norm_2 = pd.read_csv(\n",
    "    data_path / f\"run_{run_number}/optimal_norm_2.csv\",\n",
    "    # index_col=[\n",
    "    #     \"variable\",\n",
    "    #     \"maxmin\",\n",
    "    #     \"lorentz_line\",\n",
    "    #     \"window_radius\",\n",
    "    #     \"theta_start\",\n",
    "    #     \"theta_stop\",\n",
    "    # ],\n",
    ")\n",
    "\n",
    "opt_norm_2[\"variable\"] = opt_norm_2[\"variable\"].astype(variable)\n",
    "\n",
    "opt_norm_2 = opt_norm_2.sort_values(\n",
    "    by=[\"variable\", \"maxmin\", \"lorentz_line\", \"window_radius\"]\n",
    ")\n",
    "\n",
    "opt_norm_2 = opt_norm_2.rename(\n",
    "    columns={\n",
    "        \"variable\": \"\\gls{fom}\",\n",
    "        \"maxmin\": \"Max/min\",\n",
    "        \"lorentz_line\": \"Lorentz line\",\n",
    "        \"window_radius\": \"Window radius\",\n",
    "        \"theta_start\": \"\\gls{theta}\",\n",
    "        \"theta_stop\": \"$\\gls{theta}_i$\",\n",
    "        \"excitonic_layer_thickness\": \"\\gls{d_e}\",\n",
    "        \"num_periods\": \"\\gls{N_lopc}\",\n",
    "        \"period\": \"\\gls{Lambda}\",\n",
    "        \"value\": \"Value\",\n",
    "    }\n",
    ")\n",
    "\n",
    "opt_norm_2 = opt_norm_2.replace(\n",
    "    {\n",
    "        \"R\": \"$\\ef{\\gls{R}, \\mathrm{\\gls{frs}}}$\",\n",
    "        \"T\": \"$\\ef{\\gls{T}, \\mathrm{\\gls{frs}}}$\",\n",
    "        \"A\": \"$\\ef{\\gls{A}, \\mathrm{\\gls{frs}}}$\",\n",
    "        \"R_per_oscillator\": \"$\\ef{\\po{\\gls{R}}, \\mathrm{\\gls{frs}}}$\",\n",
    "        \"T_per_oscillator\": \"$\\ef{\\po{\\gls{T}}, \\mathrm{\\gls{frs}}}$\",\n",
    "        \"A_per_oscillator\": \"$\\ef{\\po{\\gls{A}}, \\mathrm{\\gls{frs}}}$\",\n",
    "        \"max\": \"Max\",\n",
    "        \"min\": \"Min\",\n",
    "    }\n",
    ")\n",
    "\n",
    "opt_norm_2 = opt_norm_2.set_index(list(opt_norm_2.columns[0:6]))\n",
    "\n",
    "opt_norm_2.drop(columns=[\"period_start\", \"period_stop\"]).to_latex(\n",
    "    buf=root / r\"thesis\\LaTeX\\chapters\\appendices\\optimal_norm_2_parameters.tex\",\n",
    "    float_format=\"{:.3e}\".format,\n",
    "    sparsify=True,\n",
    "    longtable=True,\n",
    "    escape=False,\n",
    "    label=\"tab:optimal_norm_2_parameters\",\n",
    "    position=\"ht\",\n",
    "    caption=\"Table of optimal parameters for \\gls{lopc} \\gls{fom} enhancement factors relative to \\gls{frs}\",\n",
    ")"
   ]
  },
  {
   "cell_type": "markdown",
   "id": "c53315eb-ad30-4ae4-8c28-f8e643b737a5",
   "metadata": {
    "tags": []
   },
   "source": [
    "## Optimal structures for various parameters"
   ]
  },
  {
   "cell_type": "markdown",
   "id": "d3d4e425-f2f8-41ec-b9c1-bbd4c8add295",
   "metadata": {
    "tags": []
   },
   "source": [
    "### Investigation and notes"
   ]
  },
  {
   "cell_type": "code",
   "execution_count": null,
   "id": "5bb20773-7199-4b06-8f5c-2ab813cf49a2",
   "metadata": {
    "tags": []
   },
   "outputs": [],
   "source": [
    "periods = restacked_ds.period.values[1:-1]\n",
    "# don't set the maximum period to be lower than the maximum excitonic layer thickness, or it will break the plot!\n",
    "safe_periods = restacked_ds.period.sel(\n",
    "    period=slice(restacked_ds.excitonic_layer_thickness.values[-1], None)\n",
    ").values\n",
    "\n",
    "kdims = [\n",
    "    hv.Dimension(\"variable\", values=restacked_ds.data_vars),\n",
    "    hv.Dimension(\"dataset\", values=[\"restacked_ds\", \"restacked_diff_1\"]),\n",
    "    hv.Dimension(\"optimise\", values=[\"max\", \"min\"]),\n",
    "    hv.Dimension(\"lorentz_line\", range=(-15, 8), default=0),\n",
    "    hv.Dimension(\"window_radius\", range=(0, 8), default=0),\n",
    "    hv.Dimension(\"theta\", range=(0, 86), default=0),\n",
    "    hv.Dimension(\n",
    "        \"cmap\", values=[\"viridis\", \"cividis\", \"inferno\", \"PRGn\", \"PuOr_r\", \"RdBu_r\"]\n",
    "    ),\n",
    "    hv.Dimension(\"period_start\", values=periods, default=periods[0]),\n",
    "    hv.Dimension(\"period_stop\", values=safe_periods, default=periods[-1]),\n",
    "    hv.Dimension(\"integrate_angle\", range=(0, 86), default=0),\n",
    "]\n",
    "\n",
    "angle_dmap = hv.DynamicMap(\n",
    "    partial(\n",
    "        wrapped_2D_plot,\n",
    "        extra_plots=[\"RTA_normal\", \"RTA_int\", \"norm_1_normal\", \"norm_1_int\"],\n",
    "    ),\n",
    "    kdims=kdims,\n",
    ").opts(\n",
    "    opts.Overlay(legend_position=\"right\", legend_opts={\"background_fill_alpha\": 0.5})\n",
    ")\n",
    "# if I'm just looking at normal incidence the extra plots are redundant\n",
    "dmap = hv.DynamicMap(\n",
    "    partial(wrapped_2D_plot, extra_plots=[\"RTA_int\", \"norm_1_int\"], integrate_angle=0),\n",
    "    kdims=kdims[:9],\n",
    ").opts(\n",
    "    opts.Overlay(legend_position=\"right\", legend_opts={\"background_fill_alpha\": 0.5})\n",
    ")"
   ]
  },
  {
   "cell_type": "code",
   "execution_count": null,
   "id": "6a87b415-e9e6-4f3b-9d3c-6300a0ee5859",
   "metadata": {},
   "outputs": [],
   "source": [
    "# %%capture --no-stdout --no-display\n",
    "# # ignore divide by zero warnings\n",
    "\n",
    "# # there is some sort of horrible bug that makes the title and axis on the second plot sometime disappear, along with one of the vlines\n",
    "# angle_dmap"
   ]
  },
  {
   "cell_type": "code",
   "execution_count": null,
   "id": "6540ea1f-3bc5-4add-9237-1fe80c6f09de",
   "metadata": {},
   "outputs": [],
   "source": [
    "# # Use this to record interesting key sets\n",
    "# angle_dmap.current_key"
   ]
  },
  {
   "cell_type": "markdown",
   "id": "bdfe224b-6f3c-486c-8190-7d3dc9210ff7",
   "metadata": {
    "tags": []
   },
   "source": [
    "### Example of how the optimality surfaces were created"
   ]
  },
  {
   "cell_type": "code",
   "execution_count": null,
   "id": "c60ff539-7042-4705-a260-8977e33773fa",
   "metadata": {
    "tags": []
   },
   "outputs": [],
   "source": [
    "# example plot:\n",
    "dmap[(\"R\", \"restacked_ds\", \"max\", -2, 0, 0, \"viridis\", 10, 450)]"
   ]
  },
  {
   "cell_type": "code",
   "execution_count": null,
   "id": "006aa20e-9647-49b0-8c32-712f6b32009b",
   "metadata": {
    "tags": []
   },
   "outputs": [],
   "source": [
    "# pixel from the example plot: d_e=60, N=40\n",
    "excitonic_layer_thickness = 60\n",
    "num_periods = 40\n",
    "theta = 0\n",
    "min_period = excitonic_layer_thickness\n",
    "max_period = excitonic_layer_thickness + int(ds.passive_layer_thickness.max())\n",
    "\n",
    "coords = {\n",
    "    \"excitonic_layer_thickness\": excitonic_layer_thickness,\n",
    "    \"num_periods\": num_periods,\n",
    "    \"theta\": theta,\n",
    "}\n",
    "\n",
    "temp_ds = restacked_ds.sel(**coords).squeeze()\n",
    "the_plot = (\n",
    "    plot_R(dataset=temp_ds, x=\"wavelength\", y=\"period\")\n",
    "    * lorentz_vlines([0], scale=1e-9).opts(opts.VLine(line_dash=\"dotted\"))\n",
    "    * lorentz_vlines([-2], scale=1e-9).opts(opts.VLine(line_dash=\"dashdot\"))\n",
    ")"
   ]
  },
  {
   "cell_type": "code",
   "execution_count": null,
   "id": "5102efc1-735f-4341-87bb-4ddedf57c678",
   "metadata": {
    "tags": []
   },
   "outputs": [],
   "source": [
    "the_plot = the_plot.redim(period=period_dim)"
   ]
  },
  {
   "cell_type": "code",
   "execution_count": null,
   "id": "bb23a6bf-fb7a-401e-ada1-4c15af03414c",
   "metadata": {
    "tags": []
   },
   "outputs": [],
   "source": [
    "the_plot.opts(\n",
    "    opts.Image(ylim=(min_period, max_period), title=\"\"),\n",
    "    opts.VLine(line_color=\"white\")\n",
    ")"
   ]
  },
  {
   "cell_type": "code",
   "execution_count": null,
   "id": "8145d288-20e1-4907-a8bc-83c607dfaa57",
   "metadata": {
    "tags": []
   },
   "outputs": [],
   "source": [
    "hv.save(the_plot, filename=fig_path/f\"R_LOPC_2D_wl_P_elt{excitonic_layer_thickness}_N{num_periods}_th{theta}\", fmt=\"png\", toolbar=None)"
   ]
  },
  {
   "cell_type": "code",
   "execution_count": null,
   "id": "f93a16f7-485b-4558-84f3-729edeb6573e",
   "metadata": {
    "tags": []
   },
   "outputs": [],
   "source": [
    "print(f\"R_LOPC_2D_wl_P_elt{excitonic_layer_thickness}_N{num_periods}_th{theta}\")"
   ]
  },
  {
   "cell_type": "code",
   "execution_count": null,
   "id": "e675966c-c71e-45c3-8306-f558031d34c4",
   "metadata": {
    "tags": []
   },
   "outputs": [],
   "source": [
    "# 1D slice along dashdot line\n",
    "temp_ds_2 = temp_ds.sel(wavelength=lorentz_line_wavelength(-2)/1e-9, method=\"nearest\")\n",
    "the_plot = plot_R(dataset=temp_ds_2, x=\"period\")"
   ]
  },
  {
   "cell_type": "code",
   "execution_count": null,
   "id": "7f870359-2d94-4304-8cb8-afade17667a2",
   "metadata": {
    "tags": []
   },
   "outputs": [],
   "source": [
    "lorentz_line_wavelength(-2)/1e-9"
   ]
  },
  {
   "cell_type": "code",
   "execution_count": null,
   "id": "fc4006c3-6248-42c5-bf14-96be3b4c2130",
   "metadata": {
    "tags": []
   },
   "outputs": [],
   "source": [
    "the_plot = the_plot.redim(period=period_dim, R=\"R\")"
   ]
  },
  {
   "cell_type": "code",
   "execution_count": null,
   "id": "799ab442-bcb9-4e3d-b2af-8bc8033a1433",
   "metadata": {
    "tags": []
   },
   "outputs": [],
   "source": [
    "max_pos = max_min_pos(temp_ds_2, \"R\", \"period\")\n",
    "max_cross = hv.Points((float(max_pos[\"R_max_period\"]), float(max_pos[\"R_max\"])), kdims=[period_dim, \"R\"])"
   ]
  },
  {
   "cell_type": "code",
   "execution_count": null,
   "id": "e3f98f9b-6fcf-4c5c-bd7c-a2d06c35f0db",
   "metadata": {
    "tags": []
   },
   "outputs": [],
   "source": [
    "the_plot = the_plot * max_cross"
   ]
  },
  {
   "cell_type": "code",
   "execution_count": null,
   "id": "85c6bb4c-78c2-4cd1-98b0-24a6bab4fe5e",
   "metadata": {
    "tags": []
   },
   "outputs": [],
   "source": [
    "the_plot.opts(\n",
    "    opts.Curve(title=\"\", ylim=(0, None)),\n",
    "    opts.Points(color=red, size=5),\n",
    "    opts.Overlay(show_legend=False)\n",
    ")"
   ]
  },
  {
   "cell_type": "code",
   "execution_count": null,
   "id": "3e9dc8f1-2fc3-4d12-b6b1-4b6d29488857",
   "metadata": {
    "tags": []
   },
   "outputs": [],
   "source": [
    "hv.save(the_plot, filename=fig_path/f\"R_LOPC_1D_P_wlL-2_elt{excitonic_layer_thickness}_N{num_periods}_th{theta}\", fmt=\"png\", toolbar=None)"
   ]
  },
  {
   "cell_type": "code",
   "execution_count": null,
   "id": "40ce70a1-355c-4339-8f9f-e58cbccf6d0e",
   "metadata": {
    "tags": []
   },
   "outputs": [],
   "source": [
    "print(f\"R_LOPC_1D_P_wlL-2_elt{excitonic_layer_thickness}_N{num_periods}_th{theta}\")"
   ]
  },
  {
   "cell_type": "markdown",
   "id": "43f1a611-390a-445e-a7c7-f6f8e3f60966",
   "metadata": {
    "tags": []
   },
   "source": [
    "### Optimal structures for reflectance"
   ]
  },
  {
   "cell_type": "markdown",
   "id": "2f936bfa-3927-4209-9c9f-643c0c7c33dc",
   "metadata": {
    "tags": []
   },
   "source": [
    "#### Maximising at a specific wavelength"
   ]
  },
  {
   "cell_type": "markdown",
   "id": "ebd78312-18a7-407e-bef3-18d3e725681c",
   "metadata": {},
   "source": [
    "Carniglia and Apfel (1979) showed that the theoretical limit of the reflectance of a multilayer comprising one absorbing and one non-absorbing layer is unity. However, this requires variable layer thicknesses, unlike in our case where the periodicity is strict. As a result, our situation is more like Koppelmann's (1960), with a saturating reflectance depending on the absorption properties at a particular wavelength, although Koppelmann showed this for quarter-wave stacks only and we do not attempt to extend the analytical proof to other periodic multilayers. The gist of the argument is that without careful selection of layer thicknesses to optimise the reflectance with each additional layer pair, a certain amount of light intensity is unavoidably lost to absorption.\n",
    "\n",
    "Generally, the reflectance near the oscillator resonance peaks at <50 layers (the maximum simulated), while the reflectance far from the resonance peaks at >=50 layers.\n",
    "\n",
    "High reflectance at a wavelength comes at a cost to transmittance and absorptance locally, but is usually associated with an increase in absorptance at longer wavelengths."
   ]
  },
  {
   "cell_type": "code",
   "execution_count": null,
   "id": "3d067dd8-f03f-4793-a5b9-2e95cd7848b8",
   "metadata": {
    "tags": []
   },
   "outputs": [],
   "source": [
    "dmap[((\"R\", \"restacked_ds\", \"max\", 0, 0, 0, \"viridis\", 10, 450))]"
   ]
  },
  {
   "cell_type": "code",
   "execution_count": null,
   "id": "16042906-414d-4814-9da9-70adbf85dd84",
   "metadata": {},
   "outputs": [],
   "source": [
    "# dmap[(\"R\", \"restacked_ds\", \"max\", -2, 0, 0, \"viridis\", 10, 450)]"
   ]
  },
  {
   "cell_type": "code",
   "execution_count": null,
   "id": "ac5418fd-4068-40ae-aa82-c59a49370e7a",
   "metadata": {},
   "outputs": [],
   "source": [
    "# dmap[(\"R\", \"restacked_ds\", \"max\", 2, 0, 0, \"viridis\", 10, 450)]"
   ]
  },
  {
   "cell_type": "code",
   "execution_count": null,
   "id": "2f613b33-138e-4233-93a6-935b5b027efc",
   "metadata": {},
   "outputs": [],
   "source": [
    "# dmap[(\"R\", \"restacked_ds\", \"max\", -5, 0, 0, \"viridis\", 10, 450)]"
   ]
  },
  {
   "cell_type": "code",
   "execution_count": null,
   "id": "6ff812a4-a075-4f57-b7ae-2ac09fdff0e9",
   "metadata": {
    "tags": []
   },
   "outputs": [],
   "source": [
    "dmap[(\"R\", \"restacked_ds\", \"max\", 5, 0, 0, \"viridis\", 10, 450)]"
   ]
  },
  {
   "cell_type": "code",
   "execution_count": null,
   "id": "163991c6-88a6-43f3-8b55-d15c63b9f6f8",
   "metadata": {},
   "outputs": [],
   "source": [
    "# # this calculation is just for the purposes of looking at how reflectance can decrease with period, see above sections\n",
    "# dmap[(\"R\", \"restacked_ds\", \"max\", -7, 0, 0, \"viridis\", 10, 450)]"
   ]
  },
  {
   "cell_type": "markdown",
   "id": "8d233a30-f214-42c5-a37b-15079491a0f0",
   "metadata": {
    "tags": []
   },
   "source": [
    "#### Maximising over a window of 4 linewidths"
   ]
  },
  {
   "cell_type": "markdown",
   "id": "7dfbdf7c-ac1f-4ac2-a299-328b438a96f8",
   "metadata": {},
   "source": [
    "When optimising for reflectance over a window of wavelengths (in this case a radius of 2 oscillator linewidths), the optimal number of periods is lower than when optimising for only the central wavelength of that window. This is because with more periods the PBG tends to increase in height but decrease in width. Unlike with purely non-absorbing layers, where the width of the PBG starts to increase again when the reflectance is saturated at 100%, the competing increase in absorption with additional layers means the reflectance peaks at a finite number of periods.\n",
    "\n",
    "It is particularly difficult to attain a high reflectance in the low-RI contrast region immediately on the blue side of the LO resonance, and the peak values attainable on the lower-contrast blue side of the resonance are generally lower than those attainable on the higher-contrast red side.\n",
    "\n",
    "It's worth noting that, as is always the case when referring to optical parameters over a range of wavelengths or angles, that this is an integration of the *intrinsic* optical properties, and the *extrinsic* value will depend on the spectral and angular distribution of illumination."
   ]
  },
  {
   "cell_type": "code",
   "execution_count": null,
   "id": "9e75b3ad-5be0-48b0-ac48-9ec14128a0b3",
   "metadata": {
    "tags": []
   },
   "outputs": [],
   "source": [
    "dmap[((\"R\", \"restacked_ds\", \"max\", 0, 2, 0, \"viridis\", 10, 450))]"
   ]
  },
  {
   "cell_type": "code",
   "execution_count": null,
   "id": "38b2c046-491c-493c-aeb2-8a4a5b386403",
   "metadata": {},
   "outputs": [],
   "source": [
    "# dmap[(\"R\", \"restacked_ds\", \"max\", -2, 2, 0, \"viridis\", 10, 450)]"
   ]
  },
  {
   "cell_type": "code",
   "execution_count": null,
   "id": "6690bd7d-011b-4ac3-a5f6-8423be38f7a0",
   "metadata": {
    "tags": []
   },
   "outputs": [],
   "source": [
    "# dmap[(\"R\", \"restacked_ds\", \"max\", 2, 2, 0, \"viridis\", 10, 450)]"
   ]
  },
  {
   "cell_type": "code",
   "execution_count": null,
   "id": "e1b923f0-ac5e-4fda-9483-fdc2bdb81b62",
   "metadata": {},
   "outputs": [],
   "source": [
    "# dmap[(\"R\", \"restacked_ds\", \"max\", -5, 2, 0, \"viridis\", 10, 450)]"
   ]
  },
  {
   "cell_type": "code",
   "execution_count": null,
   "id": "73979cc9-8a2b-4864-8eed-d8de7d5fd3b9",
   "metadata": {
    "tags": []
   },
   "outputs": [],
   "source": [
    "dmap[(\"R\", \"restacked_ds\", \"max\", 5, 2, 0, \"viridis\", 10, 450)]"
   ]
  },
  {
   "cell_type": "markdown",
   "id": "be852281-7717-449d-b736-43b62b68f6d0",
   "metadata": {
    "tags": []
   },
   "source": [
    "#### Minimising reflectance"
   ]
  },
  {
   "cell_type": "markdown",
   "id": "60ad31bd-2bcf-442c-81a6-6609af85ee7f",
   "metadata": {},
   "source": [
    "Interestingly, the reflectance at the LO resonance is lower with five layers at 10 nm than a single layer. In this regime, the absorptance is enhanced compared to the CRS at all wavelengths. It is also possible to minimise the reflectance at wavelengths far from the resonance with even higher numbers of thin (10 nm) layers. However, the absolute difference in reflectance with the CRS is generally negligible, and so this is not that relevant for iridoplast-type scenarios. Additionally, the optimal structure degenerates to a pair of thin layers everywhere when a window of radius >=2 linewidths is considered."
   ]
  },
  {
   "cell_type": "code",
   "execution_count": null,
   "id": "66885049-2130-4b10-9134-dc2b6a05a881",
   "metadata": {},
   "outputs": [],
   "source": [
    "# dmap[(\"R\", \"restacked_ds\", \"min\", 0, 0, 0, \"viridis\", 10, 450)]"
   ]
  },
  {
   "cell_type": "code",
   "execution_count": null,
   "id": "6894833a-f624-42a9-aa3a-88767e14d0ac",
   "metadata": {},
   "outputs": [],
   "source": [
    "# dmap[(\"R\", \"restacked_ds\", \"min\", -8, 0, 0, \"viridis\", 10, 450)]"
   ]
  },
  {
   "cell_type": "code",
   "execution_count": null,
   "id": "bb86f604-a35d-4548-b1e0-b2dee5edfdb2",
   "metadata": {},
   "outputs": [],
   "source": [
    "# dmap[(\"R\", \"restacked_ds\", \"min\", 0, 2, 0, \"viridis\", 10, 450)]"
   ]
  },
  {
   "cell_type": "code",
   "execution_count": null,
   "id": "c43de53e-3397-4944-abe2-15478cdd0670",
   "metadata": {},
   "outputs": [],
   "source": [
    "# dmap[(\"R\", \"restacked_ds\", \"min\", 0, 5, 0, \"viridis\", 10, 450)]"
   ]
  },
  {
   "cell_type": "code",
   "execution_count": null,
   "id": "fd295b69-6aa0-4c31-a27b-ec19ce8b1d3d",
   "metadata": {},
   "outputs": [],
   "source": [
    "# dmap[(\"R\", \"restacked_ds\", \"min\", -8, 1, 0, \"viridis\", 10, 450)]"
   ]
  },
  {
   "cell_type": "code",
   "execution_count": null,
   "id": "beaba8aa-ff9c-4ed5-a661-4619eafdba7d",
   "metadata": {},
   "outputs": [],
   "source": [
    "# dmap[(\"R\", \"restacked_ds\", \"min\", 4, 0, 0, \"viridis\", 10, 450)]"
   ]
  },
  {
   "cell_type": "code",
   "execution_count": null,
   "id": "a160714b-765f-48f0-ae9a-772ae47b5872",
   "metadata": {},
   "outputs": [],
   "source": [
    "# dmap[(\"R\", \"restacked_ds\", \"min\", -5, 0, 0, \"viridis\", 10, 450)]"
   ]
  },
  {
   "cell_type": "code",
   "execution_count": null,
   "id": "4a48bb74-ce6a-4e77-a51e-ceec4e0917f4",
   "metadata": {},
   "outputs": [],
   "source": [
    "# dmap[(\"R\", \"restacked_ds\", \"min\", -5, 2, 0, \"viridis\", 10, 450)]"
   ]
  },
  {
   "cell_type": "code",
   "execution_count": null,
   "id": "52787026-39ff-4da7-a4f1-b7c6df58b3a5",
   "metadata": {},
   "outputs": [],
   "source": [
    "# dmap[(\"R\", \"restacked_ds\", \"min\", -5, 5, 0, \"viridis\", 10, 450)]"
   ]
  },
  {
   "cell_type": "code",
   "execution_count": null,
   "id": "302bd8f3-eda2-42cd-9e97-c196b3bcf8c2",
   "metadata": {},
   "outputs": [],
   "source": [
    "# dmap[(\"R\", \"restacked_ds\", \"min\", 5, 0, 0, \"viridis\", 10, 450)]"
   ]
  },
  {
   "cell_type": "code",
   "execution_count": null,
   "id": "8e792328-de06-47dc-9315-17467335360b",
   "metadata": {},
   "outputs": [],
   "source": [
    "# dmap[(\"R\", \"restacked_ds\", \"min\", 5, 2, 0, \"viridis\", 10, 450)]"
   ]
  },
  {
   "cell_type": "code",
   "execution_count": null,
   "id": "557a7202-dab7-4d03-b60a-5a6d487dbe0c",
   "metadata": {},
   "outputs": [],
   "source": [
    "# dmap[(\"R\", \"restacked_ds\", \"min\", 5, 5, 0, \"viridis\", 10, 450)]"
   ]
  },
  {
   "cell_type": "markdown",
   "id": "330ccc63-1d88-4d58-84fc-d9ce9c059ba7",
   "metadata": {
    "tags": []
   },
   "source": [
    "#### Angle behaviour"
   ]
  },
  {
   "cell_type": "markdown",
   "id": "56c37d28-acec-406c-83e6-0e9fe3a8a56c",
   "metadata": {
    "tags": []
   },
   "source": [
    "The period which gives the highest overall reflectance at any given wavelength, when integrated over a angular range, is (not strictly) greater than the optimal period for normal incidence. This is because the PBG blueshifts with increasing $\\theta$. The overall reflectance values after integration and normalisation are lower than those at normal incidence. Also, there is less specificity in where the reflectance is - generally there is a 'tail' of reflectance on the blue side of the target region."
   ]
  },
  {
   "cell_type": "code",
   "execution_count": null,
   "id": "b62de43f-d2ca-4f26-b665-5b9be92460bb",
   "metadata": {
    "tags": []
   },
   "outputs": [],
   "source": [
    "# %%capture --no-stdout --no-display\n",
    "# # ignore divide by zero warnings\n",
    "\n",
    "# angle_dmap[(\"R\", \"restacked_ds\", \"max\", 0, 0, 0, \"viridis\", 10, 450, 45)]"
   ]
  },
  {
   "cell_type": "code",
   "execution_count": null,
   "id": "347f36e8-ab8c-47e5-a884-a111508ebc3a",
   "metadata": {},
   "outputs": [],
   "source": [
    "# # params that optimise reflectance integrated over theta\n",
    "# plot_RTA_2D(\n",
    "#     period=250,\n",
    "#     excitonic_layer_thickness=70,\n",
    "#     num_periods=50,\n",
    "#     theta=(0, 75),\n",
    "#     include=[\"LOPC\"],\n",
    "# ) * lorentz_vlines([0], scale=1e-9).opts(opts.VLine(line_dash=\"dotted\", color=\"white\"))"
   ]
  },
  {
   "cell_type": "code",
   "execution_count": null,
   "id": "39fe634a-7228-4bfb-863d-ed5a8cca77dc",
   "metadata": {},
   "outputs": [],
   "source": [
    "# # params that optimise reflectance at normal incidence\n",
    "# plot_RTA_2D(\n",
    "#     period=250,\n",
    "#     excitonic_layer_thickness=40,\n",
    "#     num_periods=40,\n",
    "#     theta=(0, 75),\n",
    "#     include=[\"LOPC\"],\n",
    "# ) * lorentz_vlines([0], scale=1e-9).opts(opts.VLine(line_dash=\"dotted\", color=\"white\"))"
   ]
  },
  {
   "cell_type": "markdown",
   "id": "b836fee0-484a-4867-827f-821d26541dba",
   "metadata": {},
   "source": [
    "Supporting evidence: the period which gives the optimal reflectance near the resonance at 30 degrees is higher than that for normal incidence. Also notable is that the number of layers is much higher."
   ]
  },
  {
   "cell_type": "code",
   "execution_count": null,
   "id": "cf904ca3-df60-4819-a5d8-035c41b2635e",
   "metadata": {
    "tags": []
   },
   "outputs": [],
   "source": [
    "angle_dmap[(\"R\", \"restacked_ds\", \"max\", 0, 2, 30, \"viridis\", 10, 450, 0)]"
   ]
  },
  {
   "cell_type": "code",
   "execution_count": null,
   "id": "1c2e7397-30a0-43dc-a31e-cea7101687a4",
   "metadata": {
    "tags": []
   },
   "outputs": [],
   "source": [
    "# comparison of the integrated and unintegrated RTA at normal incidence\n",
    "# params optimise R when integrated\n",
    "period = 290\n",
    "excitonic_layer_thickness = 60\n",
    "num_periods = 50\n",
    "\n",
    "params = dict(\n",
    "    period=period,\n",
    "    excitonic_layer_thickness=excitonic_layer_thickness,\n",
    "    num_periods=num_periods,\n",
    ")\n",
    "\n",
    "the_plot = (\n",
    "    compare_RTA(\n",
    "        {\"theta\": 30, \"label_override\": \" (θ = 30)\"},\n",
    "        {\"theta\": 0, \"label_override\": \" (θ = 0)\"},\n",
    "        include=[\"LOPC\"],\n",
    "        **params\n",
    "    )\n",
    "    * lorentz_vlines([-2, 2], scale=1e-9)\n",
    "    * lorentz_vlines([0], scale=1e-9, label=\"resonance\")\n",
    "    * hv.VSpan(lorentz_line_wavelength(-2) * 1e9, lorentz_line_wavelength(2) * 1e9)\n",
    ").opts(\n",
    "    opts.VLine(line_dash=\"dotted\", color=green),\n",
    "    opts.VLine(\"resonance\", line_dash=\"dotted\", color=yellow),\n",
    "    opts.VSpan(color=\"gray\", alpha=0.1),\n",
    "    opts.Overlay(legend_position=\"right\"),\n",
    ")\n",
    "the_plot"
   ]
  },
  {
   "cell_type": "code",
   "execution_count": null,
   "id": "2680b9b9-4878-4ec4-8dc7-470b69e13d87",
   "metadata": {
    "tags": []
   },
   "outputs": [],
   "source": [
    "hv.save(the_plot, filename=fig_path/\"opt_R_max_0_2_30_0_RTA_c\", fmt=\"png\", toolbar=False)"
   ]
  },
  {
   "cell_type": "code",
   "execution_count": null,
   "id": "10fd675d-2a81-4c77-8be4-09e2dec75f65",
   "metadata": {},
   "outputs": [],
   "source": [
    "# angle_dmap[(\"R\", \"restacked_ds\", \"max\", 0, 2, 60, \"viridis\", 10, 450, 0)]"
   ]
  },
  {
   "cell_type": "markdown",
   "id": "9323ae28-0d9f-4499-89dc-e610a32b4116",
   "metadata": {
    "tags": []
   },
   "source": [
    "##### Consider the case below, where the PBG at normal incidence is clearly redshifted compared to the wavelength range we are trying to optimise reflectance in (-2<2). As the 2D plot below shows, this is because the reflectance is higher in that region overall taking into account the blueshift with angle."
   ]
  },
  {
   "cell_type": "code",
   "execution_count": null,
   "id": "c3081701-72d8-452d-b23d-1caf7e73bd24",
   "metadata": {
    "tags": []
   },
   "outputs": [],
   "source": [
    "%%capture --no-stdout --no-display\n",
    "# ignore divide by zero warnings\n",
    "\n",
    "angle_dmap[(\"R\", \"restacked_ds\", \"max\", 0, 2, 0, \"viridis\", 10, 450, 45)]"
   ]
  },
  {
   "cell_type": "code",
   "execution_count": null,
   "id": "d2992185-9bf7-4fc0-8773-039e3d594635",
   "metadata": {},
   "outputs": [],
   "source": [
    "# # params that optimise reflectance integrated over theta\n",
    "# plot_RTA_2D(\n",
    "#     period=260,\n",
    "#     excitonic_layer_thickness=80,\n",
    "#     num_periods=25,\n",
    "#     theta=(0, 75),\n",
    "#     include=[\"LOPC\"],\n",
    "# ) * lorentz_vlines([-2, 2], scale=1e-9).opts(\n",
    "#     opts.VLine(line_dash=\"dotted\", color=\"white\")\n",
    "# )"
   ]
  },
  {
   "cell_type": "code",
   "execution_count": null,
   "id": "63b16636-8fc9-49c4-b46b-667040865681",
   "metadata": {},
   "outputs": [],
   "source": [
    "# # params that optimise reflectance at normal incidence\n",
    "# plot_RTA_2D(\n",
    "#     period=250,\n",
    "#     excitonic_layer_thickness=70,\n",
    "#     num_periods=30,\n",
    "#     theta=(0, 75),\n",
    "#     include=[\"LOPC\"],\n",
    "# ) * lorentz_vlines([-2, 2], scale=1e-9).opts(\n",
    "#     opts.VLine(line_dash=\"dotted\", color=\"white\")\n",
    "# )"
   ]
  },
  {
   "cell_type": "code",
   "execution_count": null,
   "id": "3bd98841-9507-41bc-a7ed-73e20340071e",
   "metadata": {},
   "outputs": [],
   "source": [
    "# # I'm curious - what happens if I try to make this PBG better with more layers? --Ah, it doesn't get better because of the absorption, I see.\n",
    "# plot_RTA_2D(\n",
    "#     period=250,\n",
    "#     excitonic_layer_thickness=70,\n",
    "#     num_periods=50,\n",
    "#     theta=(0, 75),\n",
    "#     include=[\"LOPC\"],\n",
    "# ) * lorentz_vlines([-2, 2], scale=1e-9).opts(\n",
    "#     opts.VLine(line_dash=\"dotted\", color=\"white\")\n",
    "# )"
   ]
  },
  {
   "cell_type": "code",
   "execution_count": null,
   "id": "83f2cb32-8430-4c54-bc15-3414e28c5f49",
   "metadata": {
    "tags": []
   },
   "outputs": [],
   "source": [
    "# comparison of the integrated and unintegrated RTA at normal incidence\n",
    "# params optimise R when integrated\n",
    "period = 260\n",
    "excitonic_layer_thickness = 70\n",
    "num_periods = 30\n",
    "\n",
    "params = dict(\n",
    "    period=period,\n",
    "    excitonic_layer_thickness=excitonic_layer_thickness,\n",
    "    num_periods=num_periods,\n",
    ")\n",
    "\n",
    "the_plot = (\n",
    "    compare_RTA_normal_vs_integrated(**params)\n",
    "    * lorentz_vlines([-2, 2], scale=1e-9)\n",
    "    * lorentz_vlines([0], scale=1e-9, label=\"resonance\")\n",
    "* hv.VSpan(lorentz_line_wavelength(-2) * 1e9, lorentz_line_wavelength(2) * 1e9)\n",
    ").opts(\n",
    "    opts.VLine(line_dash=\"dotted\", color=green),\n",
    "    opts.VLine(\"resonance\", line_dash=\"dotted\", color=yellow),\n",
    "    opts.VSpan(color=\"gray\", alpha=0.1),\n",
    "    opts.Overlay(legend_position=\"right\"),\n",
    ")\n",
    "the_plot"
   ]
  },
  {
   "cell_type": "code",
   "execution_count": null,
   "id": "cff1afc5-60ca-4c6f-afb1-f0081727f2db",
   "metadata": {
    "tags": []
   },
   "outputs": [],
   "source": [
    "hv.save(the_plot, filename=fig_path/\"opt_R_max_0_2_0_45_RTA_c\", fmt=\"png\", toolbar=False)"
   ]
  },
  {
   "cell_type": "markdown",
   "id": "5f374b83-3e7b-4588-a5c2-9f6f8d4a1fc6",
   "metadata": {
    "tags": []
   },
   "source": [
    "##### As above, but the range (-4<0). Note how hard it is to get any appreciable reflectance here!"
   ]
  },
  {
   "cell_type": "code",
   "execution_count": null,
   "id": "d305cdc1-1f4d-4be9-af13-606b58b6c7b0",
   "metadata": {},
   "outputs": [],
   "source": [
    "# %%capture --no-stdout --no-display\n",
    "# # ignore divide by zero warnings\n",
    "\n",
    "# angle_dmap[(\"R\", \"restacked_ds\", \"max\", -2, 2, 0, \"viridis\", 10, 450, 45)]"
   ]
  },
  {
   "cell_type": "code",
   "execution_count": null,
   "id": "e6f1fced-314e-42db-8a40-22956f465236",
   "metadata": {},
   "outputs": [],
   "source": [
    "# # params that optimise reflectance integrated over theta\n",
    "# plot_RTA_2D(\n",
    "#     period=250,\n",
    "#     excitonic_layer_thickness=80,\n",
    "#     num_periods=50,\n",
    "#     theta=(0, 75),\n",
    "#     include=[\"LOPC\"],\n",
    "# ) * lorentz_vlines([-4, 0], scale=1e-9).opts(\n",
    "#     opts.VLine(line_dash=\"dotted\", color=\"white\")\n",
    "# )"
   ]
  },
  {
   "cell_type": "code",
   "execution_count": null,
   "id": "90407a3f-ca40-4d44-b352-a93637fe06ae",
   "metadata": {},
   "outputs": [],
   "source": [
    "# # params that optimise reflectance at normal incidence\n",
    "# plot_RTA_2D(\n",
    "#     period=230,\n",
    "#     excitonic_layer_thickness=80,\n",
    "#     num_periods=40,\n",
    "#     theta=(0, 75),\n",
    "#     include=[\"LOPC\"],\n",
    "# ) * lorentz_vlines([-4, 0], scale=1e-9).opts(\n",
    "#     opts.VLine(line_dash=\"dotted\", color=\"white\")\n",
    "# )"
   ]
  },
  {
   "cell_type": "markdown",
   "id": "b9560471-b787-4097-97cf-c56f1c779261",
   "metadata": {
    "tags": []
   },
   "source": [
    "##### As above, but the range (0, 4)."
   ]
  },
  {
   "cell_type": "code",
   "execution_count": null,
   "id": "e9981eac-556d-47fc-9d23-60f174fa36d2",
   "metadata": {},
   "outputs": [],
   "source": [
    "# %%capture --no-stdout --no-display\n",
    "# # ignore divide by zero warnings\n",
    "\n",
    "# angle_dmap[(\"R\", \"restacked_ds\", \"max\", 2, 2, 0, \"viridis\", 10, 450, 45)]"
   ]
  },
  {
   "cell_type": "code",
   "execution_count": null,
   "id": "7856d3d2-7b1c-4d9d-8fa5-6dd12df09ac8",
   "metadata": {},
   "outputs": [],
   "source": [
    "# # params that optimise reflectance integrated over theta\n",
    "# plot_RTA_2D(\n",
    "#     period=270,\n",
    "#     excitonic_layer_thickness=100,\n",
    "#     num_periods=20,\n",
    "#     theta=(0, 75),\n",
    "#     include=[\"LOPC\"],\n",
    "# ) * lorentz_vlines([0, 4], scale=1e-9).opts(\n",
    "#     opts.VLine(line_dash=\"dotted\", color=\"white\")\n",
    "# )"
   ]
  },
  {
   "cell_type": "code",
   "execution_count": null,
   "id": "6f854a55-4802-4e73-8422-5e4b57f8e5b0",
   "metadata": {},
   "outputs": [],
   "source": [
    "# # params that optimise reflectance at normal incidence\n",
    "# plot_RTA_2D(\n",
    "#     period=260,\n",
    "#     excitonic_layer_thickness=80,\n",
    "#     num_periods=26,\n",
    "#     theta=(0, 75),\n",
    "#     include=[\"LOPC\"],\n",
    "# ) * lorentz_vlines([0, 4], scale=1e-9).opts(\n",
    "#     opts.VLine(line_dash=\"dotted\", color=\"white\")\n",
    "# )"
   ]
  },
  {
   "cell_type": "markdown",
   "id": "0ea4d9f0-d287-4132-8e07-9da32ae258fb",
   "metadata": {
    "tags": []
   },
   "source": [
    "##### As above, but the range (-7, -3)."
   ]
  },
  {
   "cell_type": "code",
   "execution_count": null,
   "id": "432713d9-82d1-42e6-8c2a-1f38c173d02b",
   "metadata": {},
   "outputs": [],
   "source": [
    "# %%capture --no-stdout --no-display\n",
    "# # ignore divide by zero warnings\n",
    "\n",
    "# angle_dmap[(\"R\", \"restacked_ds\", \"max\", -5, 2, 0, \"viridis\", 10, 450, 45)]"
   ]
  },
  {
   "cell_type": "code",
   "execution_count": null,
   "id": "d5efd00e-173b-409b-9028-57bc6f441e48",
   "metadata": {},
   "outputs": [],
   "source": [
    "# # params that optimise reflectance integrated over theta\n",
    "# plot_RTA_2D(\n",
    "#     period=220,\n",
    "#     excitonic_layer_thickness=100,\n",
    "#     num_periods=40,\n",
    "#     theta=(0, 75),\n",
    "#     include=[\"LOPC\"],\n",
    "# ) * lorentz_vlines([-7, -3], scale=1e-9).opts(\n",
    "#     opts.VLine(line_dash=\"dotted\", color=\"white\")\n",
    "# )"
   ]
  },
  {
   "cell_type": "code",
   "execution_count": null,
   "id": "48c90ddb-2ee9-431c-a40e-b7cdad060986",
   "metadata": {},
   "outputs": [],
   "source": [
    "# # params that optimise reflectance at normal incidence\n",
    "# plot_RTA_2D(\n",
    "#     period=210,\n",
    "#     excitonic_layer_thickness=100,\n",
    "#     num_periods=50,\n",
    "#     theta=(0, 75),\n",
    "#     include=[\"LOPC\"],\n",
    "# ) * lorentz_vlines([-7, -3], scale=1e-9).opts(\n",
    "#     opts.VLine(line_dash=\"dotted\", color=\"white\")\n",
    "# )"
   ]
  },
  {
   "cell_type": "markdown",
   "id": "c3948b51-45d5-4560-bb09-40af9ea4a55e",
   "metadata": {
    "tags": []
   },
   "source": [
    "##### As above, but the range (3, 7). Much higher potential reflectance here."
   ]
  },
  {
   "cell_type": "code",
   "execution_count": null,
   "id": "70c10b41-7865-40da-a804-2785bab8a327",
   "metadata": {
    "tags": []
   },
   "outputs": [],
   "source": [
    "%%capture --no-stdout --no-display\n",
    "# ignore divide by zero warnings\n",
    "\n",
    "angle_dmap[(\"R\", \"restacked_ds\", \"max\", 5, 2, 0, \"viridis\", 10, 450, 45)]"
   ]
  },
  {
   "cell_type": "code",
   "execution_count": null,
   "id": "cb6ce9a1-5896-4eb7-a4ae-ad5cfe8f1249",
   "metadata": {
    "tags": []
   },
   "outputs": [],
   "source": [
    "# comparison of the integrated and unintegrated RTA at normal incidence\n",
    "# params optimise R when integrated\n",
    "period = 290\n",
    "excitonic_layer_thickness = 120\n",
    "num_periods = 23\n",
    "\n",
    "params = dict(\n",
    "    period=period,\n",
    "    excitonic_layer_thickness=excitonic_layer_thickness,\n",
    "    num_periods=num_periods,\n",
    ")\n",
    "\n",
    "the_plot = (\n",
    "    compare_RTA_normal_vs_integrated(**params)\n",
    "    * lorentz_vlines([3, 7], scale=1e-9)\n",
    "    * lorentz_vlines([0], scale=1e-9, label=\"resonance\")\n",
    "    * hv.VSpan(lorentz_line_wavelength(3) * 1e9, lorentz_line_wavelength(7) * 1e9)\n",
    ").opts(\n",
    "    opts.VLine(line_dash=\"dotted\", color=green),\n",
    "    opts.VLine(\"resonance\", line_dash=\"dotted\", color=yellow),\n",
    "    opts.VSpan(color=\"gray\", alpha=0.1),\n",
    "    opts.Overlay(legend_position=\"right\"),\n",
    ")\n",
    "the_plot"
   ]
  },
  {
   "cell_type": "code",
   "execution_count": null,
   "id": "85c69718-c325-48d9-872c-0207da26c4d9",
   "metadata": {
    "tags": []
   },
   "outputs": [],
   "source": [
    "hv.save(the_plot, filename=fig_path/\"opt_R_max_5_2_0_45_RTA_c\", fmt=\"png\", toolbar=False)"
   ]
  },
  {
   "cell_type": "code",
   "execution_count": null,
   "id": "2a36a0db-88da-4013-b8be-f4c33bef39e2",
   "metadata": {},
   "outputs": [],
   "source": [
    "# # params that optimise reflectance integrated over theta\n",
    "# plot_RTA_2D(\n",
    "#     period=290,\n",
    "#     excitonic_layer_thickness=130,\n",
    "#     num_periods=21,\n",
    "#     theta=(0, 75),\n",
    "#     include=[\"LOPC\"],\n",
    "# ) * lorentz_vlines([3, 7], scale=1e-9).opts(\n",
    "#     opts.VLine(line_dash=\"dotted\", color=\"white\")\n",
    "# )"
   ]
  },
  {
   "cell_type": "code",
   "execution_count": null,
   "id": "dab788ca-2d8f-4bb7-8635-1b58ae92451d",
   "metadata": {},
   "outputs": [],
   "source": [
    "# # params that optimise reflectance at normal incidence\n",
    "# plot_RTA_2D(\n",
    "#     period=280,\n",
    "#     excitonic_layer_thickness=110,\n",
    "#     num_periods=22,\n",
    "#     theta=(0, 75),\n",
    "#     include=[\"LOPC\"],\n",
    "# ) * lorentz_vlines([3, 7], scale=1e-9).opts(\n",
    "#     opts.VLine(line_dash=\"dotted\", color=\"white\")\n",
    "# )"
   ]
  },
  {
   "cell_type": "markdown",
   "id": "7c209501-6cc7-4fd6-8891-527677a60efb",
   "metadata": {
    "tags": []
   },
   "source": [
    "### Optimal structures for transmittance"
   ]
  },
  {
   "cell_type": "markdown",
   "id": "04390aa1-624a-4101-8771-ce7558e71b17",
   "metadata": {
    "tags": []
   },
   "source": [
    "#### Maximum"
   ]
  },
  {
   "cell_type": "markdown",
   "id": "2ad4e54e-5de4-4f8c-9cdb-8e9a345eed96",
   "metadata": {},
   "source": [
    "The optimum structure for maximal transmittance at a wavelength is obvious (a single thin layer). What is more interesting is the way that the maximal transmittance drops off quickly with total excitonic layer thickness. The capacity of the LOPC to increase transmittance is minimal - see below plot with iridoplast-like parameters. It is at its best with a higher number of thin layers (examine this further when looking in to tunability)."
   ]
  },
  {
   "cell_type": "code",
   "execution_count": null,
   "id": "d144e772-6087-47c5-a51a-3b754eefed2b",
   "metadata": {},
   "outputs": [],
   "source": [
    "# dmap[(\"T\", \"restacked_ds\", \"max\", 0, 0, 0, \"cividis\", 10, 450)]"
   ]
  },
  {
   "cell_type": "code",
   "execution_count": null,
   "id": "fd4c3e4b-6ae9-465e-9e2b-9ffd505bf444",
   "metadata": {},
   "outputs": [],
   "source": [
    "# params = {\"theta\": 0, \"excitonic_layer_thickness\": 20, \"num_periods\": 8}\n",
    "# lorentz_line_number = 0\n",
    "# window_radius = 0\n",
    "# optimum = find_optimum_coords(\n",
    "#     da=select_lorentz_line(\n",
    "#         restacked_ds.T.sel(**params, method=\"nearest\"),\n",
    "#         lorentz_line_number,\n",
    "#         window_radius,\n",
    "#     ),\n",
    "#     dim=\"period\",\n",
    "# )\n",
    "# plot_RTA(period=float(optimum.period), **params)"
   ]
  },
  {
   "cell_type": "code",
   "execution_count": null,
   "id": "dfb11134-9ca8-4788-957d-4a92bc02af59",
   "metadata": {},
   "outputs": [],
   "source": [
    "# params = {\"theta\": 0, \"excitonic_layer_thickness\": 20, \"num_periods\": 8}\n",
    "# lorentz_line_number = -5\n",
    "# window_radius = 0\n",
    "# optimum = find_optimum_coords(\n",
    "#     da=select_lorentz_line(\n",
    "#         restacked_ds.T.sel(**params, method=\"nearest\"),\n",
    "#         lorentz_line_number,\n",
    "#         window_radius,\n",
    "#     ),\n",
    "#     dim=\"period\",\n",
    "# )\n",
    "# plot_RTA(period=float(optimum.period), **params)"
   ]
  },
  {
   "cell_type": "code",
   "execution_count": null,
   "id": "5fe6d790-dadf-4058-b9e0-46d7cf1cbed4",
   "metadata": {},
   "outputs": [],
   "source": [
    "# params = {\"theta\": 0, \"excitonic_layer_thickness\": 100, \"num_periods\": 8}\n",
    "# lorentz_line_number = 0\n",
    "# window_radius = 0\n",
    "# optimum = find_optimum_coords(\n",
    "#     da=select_lorentz_line(\n",
    "#         restacked_ds.T.sel(**params, method=\"nearest\"),\n",
    "#         lorentz_line_number,\n",
    "#         window_radius,\n",
    "#     ),\n",
    "#     dim=\"period\",\n",
    "# )\n",
    "# plot_RTA(period=float(optimum.period), **params)"
   ]
  },
  {
   "cell_type": "code",
   "execution_count": null,
   "id": "c29cfbde-86c7-4cdc-9eed-cacf36f60791",
   "metadata": {},
   "outputs": [],
   "source": [
    "# params = {\"theta\": 0, \"excitonic_layer_thickness\": 20, \"num_periods\": 30}\n",
    "# lorentz_line_number = 0\n",
    "# window_radius = 0\n",
    "# optimum = find_optimum_coords(\n",
    "#     da=select_lorentz_line(\n",
    "#         restacked_ds.T.sel(**params, method=\"nearest\"),\n",
    "#         lorentz_line_number,\n",
    "#         window_radius,\n",
    "#     ),\n",
    "#     dim=\"period\",\n",
    "# )\n",
    "# plot_RTA(period=float(optimum.period), **params)"
   ]
  },
  {
   "cell_type": "code",
   "execution_count": null,
   "id": "9b44a977-41cb-4969-bfff-c12304fbf7cb",
   "metadata": {},
   "outputs": [],
   "source": [
    "# params = {\"theta\": 0, \"excitonic_layer_thickness\": 20, \"num_periods\": 30}\n",
    "# lorentz_line_number = 5\n",
    "# window_radius = 0\n",
    "# optimum = find_optimum_coords(\n",
    "#     da=select_lorentz_line(\n",
    "#         restacked_ds.T.sel(**params, method=\"nearest\"),\n",
    "#         lorentz_line_number,\n",
    "#         window_radius,\n",
    "#     ),\n",
    "#     dim=\"period\",\n",
    "# )\n",
    "# plot_RTA(period=float(optimum.period), **params).opts(legend_position=\"right\")"
   ]
  },
  {
   "cell_type": "code",
   "execution_count": null,
   "id": "6b7d2547-f8c8-4015-8f43-47edc0037266",
   "metadata": {},
   "outputs": [],
   "source": [
    "# params = {\"theta\": 0, \"excitonic_layer_thickness\": 100, \"num_periods\": 30}\n",
    "# lorentz_line_number = 0\n",
    "# window_radius = 0\n",
    "# optimum = find_optimum_coords(\n",
    "#     da=select_lorentz_line(\n",
    "#         restacked_ds.T.sel(**params, method=\"nearest\"),\n",
    "#         lorentz_line_number,\n",
    "#         window_radius,\n",
    "#     ),\n",
    "#     dim=\"period\",\n",
    "# )\n",
    "# plot_RTA(period=float(optimum.period), **params)"
   ]
  },
  {
   "cell_type": "markdown",
   "id": "90274e43-21f6-440b-8637-7e407c888eaa",
   "metadata": {
    "tags": []
   },
   "source": [
    "#### Minimum"
   ]
  },
  {
   "cell_type": "markdown",
   "id": "1c3db4b6-df6a-4f8d-ac57-629d93d229a2",
   "metadata": {},
   "source": [
    "Where it is possible to, the dominant strategy is to layer up so much material that almost all the light is absorbed. Where it is not possible, the dominant strategy still involves the maximum number of layers, but the thickness of the layers may be reduced to form a higher-quality PBG. This can especially be the case when considering a wider window. Generally, the LOPC has the capacity to reduce transmittance relative to the CRS."
   ]
  },
  {
   "cell_type": "code",
   "execution_count": null,
   "id": "38a53c42-c896-47c1-9120-ffec48a4840b",
   "metadata": {},
   "outputs": [],
   "source": [
    "# dmap[(\"T\", \"restacked_ds\", \"min\", 0, 0, 0, \"cividis\", 10, 450)]"
   ]
  },
  {
   "cell_type": "code",
   "execution_count": null,
   "id": "dd5f3fb9-b94d-4eae-b32e-6d403a8e2055",
   "metadata": {
    "tags": []
   },
   "outputs": [],
   "source": [
    "dmap[(\"T\", \"restacked_ds\", \"min\", 0, 2, 0, \"cividis\", 10, 450)]"
   ]
  },
  {
   "cell_type": "code",
   "execution_count": null,
   "id": "5f779b7f-1d70-41cc-a34c-7f166d49a07b",
   "metadata": {},
   "outputs": [],
   "source": [
    "# dmap[(\"T\", \"restacked_ds\", \"min\", -5, 0, 0, \"cividis\", 10, 450)]"
   ]
  },
  {
   "cell_type": "code",
   "execution_count": null,
   "id": "50087493-89c4-42f8-835e-8b70298f817f",
   "metadata": {
    "tags": []
   },
   "outputs": [],
   "source": [
    "dmap[(\"T\", \"restacked_ds\", \"min\", -5, 2, 0, \"cividis\", 10, 450)]"
   ]
  },
  {
   "cell_type": "code",
   "execution_count": null,
   "id": "8547d09c-8716-4e88-a03c-608275ce83ef",
   "metadata": {},
   "outputs": [],
   "source": [
    "# dmap[(\"T\", \"restacked_ds\", \"min\", 5, 0, 0, \"cividis\", 10, 450)]"
   ]
  },
  {
   "cell_type": "code",
   "execution_count": null,
   "id": "23f0ab8c-ffdc-42cd-b571-41bc0c790594",
   "metadata": {
    "tags": []
   },
   "outputs": [],
   "source": [
    "dmap[(\"T\", \"restacked_ds\", \"min\", 5, 2, 0, \"cividis\", 10, 450)]"
   ]
  },
  {
   "cell_type": "code",
   "execution_count": null,
   "id": "e0b04186-f0e6-4568-afcd-697b07808011",
   "metadata": {
    "tags": []
   },
   "outputs": [],
   "source": [
    "# # limit the total excitonic thickness so that absorption doesn't saturate\n",
    "# temp_ds = restacked_ds.drop_sel(excitonic_layer_thickness=0).sel(\n",
    "#     excitonic_layer_thickness=slice(None, 20), num_periods=slice(None, 20)\n",
    "# )\n",
    "# plots = wrapped_2D_plot(\"T\", temp_ds, \"min\", 0, 0, 0, \"cividis\", 10, 450, dim=\"period\", save_figs=False)\n",
    "# display(plots)"
   ]
  },
  {
   "cell_type": "code",
   "execution_count": null,
   "id": "d6510039-34fc-494b-92db-32cc7fa70999",
   "metadata": {
    "tags": []
   },
   "outputs": [],
   "source": [
    "hv.save(plots[1].options(legend_position=\"right\"), filename=fig_path/\"opt_T_min_0_0_0_0_RTA_i_elt20_N20\", fmt=\"png\", toolbar=False)"
   ]
  },
  {
   "cell_type": "code",
   "execution_count": null,
   "id": "0b526919-a83f-4024-9499-7342a2c61e31",
   "metadata": {
    "tags": []
   },
   "outputs": [],
   "source": [
    "# limit the total excitonic thickness so that absorption doesn't saturate\n",
    "temp_ds = restacked_ds.drop_sel(excitonic_layer_thickness=0).sel(\n",
    "    excitonic_layer_thickness=slice(None, 20), num_periods=slice(None, 20)\n",
    ")\n",
    "plots = wrapped_2D_plot(\"T\", temp_ds, \"min\", 0, 1, 0, \"cividis\", 10, 450, dim=\"period\", save_figs=False)\n",
    "display(plots)"
   ]
  },
  {
   "cell_type": "code",
   "execution_count": null,
   "id": "3c7ff0a9-4d98-440b-b701-e5430ba95a0d",
   "metadata": {
    "tags": []
   },
   "outputs": [],
   "source": [
    "hv.save(plots[1].options(legend_position=\"right\"), filename=fig_path/\"opt_T_min_0_1_0_0_RTA_i_elt20_N20\", fmt=\"png\", toolbar=False)"
   ]
  },
  {
   "cell_type": "code",
   "execution_count": null,
   "id": "fa0f4834-f5be-401c-a45c-83fdb54f11ea",
   "metadata": {
    "tags": []
   },
   "outputs": [],
   "source": [
    "# limit the total excitonic thickness so that absorption doesn't saturate\n",
    "temp_ds = restacked_ds.drop_sel(excitonic_layer_thickness=0).sel(\n",
    "    excitonic_layer_thickness=slice(None, 20), num_periods=slice(None, 20)\n",
    ")\n",
    "plots = wrapped_2D_plot(\"T\", temp_ds, \"min\", 0, 2, 0, \"cividis\", 10, 450, dim=\"period\", save_figs=False)\n",
    "display(plots)"
   ]
  },
  {
   "cell_type": "code",
   "execution_count": null,
   "id": "4782cb16-6620-4b43-ac8e-c163d31c2851",
   "metadata": {
    "tags": []
   },
   "outputs": [],
   "source": [
    "hv.save(plots[1].options(legend_position=\"right\"), filename=fig_path/\"opt_T_min_0_2_0_0_RTA_i_elt20_N20\", fmt=\"png\", toolbar=False)"
   ]
  },
  {
   "cell_type": "code",
   "execution_count": null,
   "id": "daf4d20c-0b28-4d19-ac69-7f823bfb72f2",
   "metadata": {},
   "outputs": [],
   "source": [
    "# # limit the total excitonic thickness so that absorption doesn't saturate\n",
    "# temp_ds = restacked_ds.drop_sel(excitonic_layer_thickness=0).sel(\n",
    "#     excitonic_layer_thickness=slice(None, 20), num_periods=slice(None, 20)\n",
    "# )\n",
    "# plots = wrapped_2D_plot(\"T\", temp_ds, \"min\", 0, 5, 0, \"cividis\", 10, 450, dim=\"period\", save_figs=False)\n",
    "# display(plots)"
   ]
  },
  {
   "cell_type": "code",
   "execution_count": null,
   "id": "94f20b5a-eeda-42ca-aa3d-927f63da71b7",
   "metadata": {
    "tags": []
   },
   "outputs": [],
   "source": [
    "# hv.save(plots[1].options(legend_position=\"right\"), filename=fig_path/\"opt_T_min_0_5_0_0_RTA_i_elt20_N20\", fmt=\"png\", toolbar=False)"
   ]
  },
  {
   "cell_type": "markdown",
   "id": "0b83cbdb-4655-4af0-a2e4-65155fb4e3c1",
   "metadata": {
    "tags": []
   },
   "source": [
    "#### Angle behaviour"
   ]
  },
  {
   "cell_type": "markdown",
   "id": "a3dcc18e-8e9e-45f7-ba14-e519af073e61",
   "metadata": {},
   "source": [
    "##### As expected, the optimal structure for minimising transmittance near the resonance doesn't really change at higher angles, because absorption is isotropic."
   ]
  },
  {
   "cell_type": "code",
   "execution_count": null,
   "id": "b8a7ccad-e4df-44b1-b26f-17702f700b85",
   "metadata": {},
   "outputs": [],
   "source": [
    "# angle_dmap[(\"T\", \"restacked_ds\", \"min\", 0, 2, 30, \"cividis\", 10, 450, 0)]"
   ]
  },
  {
   "cell_type": "markdown",
   "id": "45c9bd08-d0e7-4145-9f50-88912aeac068",
   "metadata": {},
   "source": [
    "Far from the resonance, the reflectance plays a role. As expected, the optimal period is higher than at normal incidence."
   ]
  },
  {
   "cell_type": "code",
   "execution_count": null,
   "id": "33047749-c435-4955-bd21-a4fd7d3d7e8d",
   "metadata": {},
   "outputs": [],
   "source": [
    "# angle_dmap[(\"T\", \"restacked_ds\", \"min\", -5, 2, 30, \"cividis\", 10, 450, 0)]"
   ]
  },
  {
   "cell_type": "code",
   "execution_count": null,
   "id": "bde8699f-1ba4-4532-a8e0-288c6cdb5fc1",
   "metadata": {},
   "outputs": [],
   "source": [
    "# angle_dmap[(\"T\", \"restacked_ds\", \"min\", 5, 2, 30, \"cividis\", 10, 450, 0)]"
   ]
  },
  {
   "cell_type": "markdown",
   "id": "24527ae6-cd45-465a-a87b-b79105aa9602",
   "metadata": {},
   "source": [
    "##### When integrating..."
   ]
  },
  {
   "cell_type": "code",
   "execution_count": null,
   "id": "6a48c676-56e2-4e77-8932-0a82d809a75a",
   "metadata": {},
   "outputs": [],
   "source": [
    "# %%capture --no-stdout --no-display\n",
    "# # ignore divide by zero warnings\n",
    "\n",
    "# angle_dmap[(\"T\", \"restacked_ds\", \"min\", 0, 2, 0, \"cividis\", 10, 450, 45)]"
   ]
  },
  {
   "cell_type": "code",
   "execution_count": null,
   "id": "d9f97875-6e1f-4f55-ae31-bf71e77f0485",
   "metadata": {},
   "outputs": [],
   "source": [
    "# %%capture --no-stdout --no-display\n",
    "# # ignore divide by zero warnings\n",
    "\n",
    "# angle_dmap[(\"T\", \"restacked_ds\", \"min\", -5, 2, 0, \"cividis\", 10, 450, 45)]"
   ]
  },
  {
   "cell_type": "code",
   "execution_count": null,
   "id": "8a84b5e2-d217-43c4-8c92-0fa41245f5de",
   "metadata": {},
   "outputs": [],
   "source": [
    "# %%capture --no-stdout --no-display\n",
    "# # ignore divide by zero warnings\n",
    "\n",
    "# angle_dmap[(\"T\", \"restacked_ds\", \"min\", 5, 2, 0, \"cividis\", 10, 450, 45)]"
   ]
  },
  {
   "cell_type": "markdown",
   "id": "60c0e05f-bbc0-4b26-ac9b-edf57b0415e5",
   "metadata": {
    "tags": []
   },
   "source": [
    "### Optimal structures for absorptance"
   ]
  },
  {
   "cell_type": "markdown",
   "id": "567adf98-db32-4561-9f00-551ab6a8cb79",
   "metadata": {
    "tags": []
   },
   "source": [
    "#### Maximum"
   ]
  },
  {
   "cell_type": "markdown",
   "id": "8460d4ff-1df4-461a-9360-fc13d2a12315",
   "metadata": {},
   "source": [
    "If it is possible to just pile up layers to approach 100% absorptance, that is the dominant strategy. There is a secondary effect in minimising reflectance.\n",
    "\n",
    "If it is not possible, then slow light enhancement can play a role in increasing absorptance, both at the LO resonance and further away. Additionally, the advantage of the photonic effect can be competitive with just increasing layer thickness (see the plot at -8 Lorentz linewidths, where high absorptance is possible at an excitonic layer thickness of 100 nm as well as 150 nm). However, photonic effects play a smaller role when considering larger integration windows, because the range of the slow light absorption enhancement is limited.\n",
    "\n",
    "Interestingly, when maximising the absorptance near the resonance, the PBG may be located quite far away (~100 nm) from the target wavelength for enhancement."
   ]
  },
  {
   "cell_type": "code",
   "execution_count": null,
   "id": "909b460d-ae44-4975-a556-e78e06930ce6",
   "metadata": {
    "tags": []
   },
   "outputs": [],
   "source": [
    "dmap[(\"A\", \"restacked_ds\", \"max\", 0, 0, 0, \"inferno\", 10, 450)]"
   ]
  },
  {
   "cell_type": "code",
   "execution_count": null,
   "id": "e69a8fdf-a440-4e40-8187-e1ffc6a6ef4e",
   "metadata": {
    "tags": []
   },
   "outputs": [],
   "source": [
    "dmap[(\"A\", \"restacked_ds\", \"max\", 0, 5, 0, \"inferno\", 10, 450)]"
   ]
  },
  {
   "cell_type": "code",
   "execution_count": null,
   "id": "acfe5257-7c7b-4ad4-bcaa-069ba470a517",
   "metadata": {},
   "outputs": [],
   "source": [
    "# # limit the total excitonic thickness so that absorption doesn't saturate\n",
    "# temp_ds = restacked_ds.drop_sel(excitonic_layer_thickness=0).sel(\n",
    "#     excitonic_layer_thickness=slice(None, 20), num_periods=slice(None, 20)\n",
    "# )\n",
    "# wrapped_2D_plot(\n",
    "#     \"A\",\n",
    "#     temp_ds,\n",
    "#     \"max\",\n",
    "#     0,\n",
    "#     0,\n",
    "#     0,\n",
    "#     \"inferno\",\n",
    "#     10,\n",
    "#     450,\n",
    "#     dim=\"period\",\n",
    "#     extra_plots=[\"RTA_int\", \"norm_1_int\"],\n",
    "# )"
   ]
  },
  {
   "cell_type": "code",
   "execution_count": null,
   "id": "4a8f615f-7818-4c5e-a964-c5ec646bd47e",
   "metadata": {
    "tags": []
   },
   "outputs": [],
   "source": [
    "dmap[(\"A\", \"restacked_ds\", \"max\", -8, 0, 0, \"inferno\", 10, 450)]"
   ]
  },
  {
   "cell_type": "code",
   "execution_count": null,
   "id": "5d52abaa-86c8-4a8f-84f8-be168fa32ac7",
   "metadata": {},
   "outputs": [],
   "source": [
    "# # limit the total excitonic thickness so that absorption doesn't saturate\n",
    "# temp_ds = restacked_ds.drop_sel(excitonic_layer_thickness=0).sel(\n",
    "#     excitonic_layer_thickness=slice(None, 140), num_periods=slice(None, None)\n",
    "# )\n",
    "# wrapped_2D_plot(\n",
    "#     \"A\",\n",
    "#     temp_ds,\n",
    "#     \"max\",\n",
    "#     -8,\n",
    "#     0,\n",
    "#     0,\n",
    "#     \"inferno\",\n",
    "#     10,\n",
    "#     450,\n",
    "#     dim=\"period\",\n",
    "#     extra_plots=[\"RTA_int\", \"norm_1_int\"],\n",
    "# )"
   ]
  },
  {
   "cell_type": "markdown",
   "id": "738f21f1-23e7-4cc1-b7c5-59075c40a785",
   "metadata": {},
   "source": [
    "It's interesting that the second-order PBG at 400 nm is more effective at enhancing absorption than the first-order one at 190 nm."
   ]
  },
  {
   "cell_type": "code",
   "execution_count": null,
   "id": "71bf70e1-b6bd-4035-b432-bfa228504b4e",
   "metadata": {},
   "outputs": [],
   "source": [
    "# # limit the total excitonic thickness so that absorption doesn't saturate\n",
    "# temp_ds = restacked_ds.drop_sel(excitonic_layer_thickness=0).sel(\n",
    "#     excitonic_layer_thickness=slice(None, 140), num_periods=slice(None, None)\n",
    "# )\n",
    "# wrapped_2D_plot(\n",
    "#     \"A\",\n",
    "#     temp_ds,\n",
    "#     \"max\",\n",
    "#     -8,\n",
    "#     0,\n",
    "#     0,\n",
    "#     \"inferno\",\n",
    "#     10,\n",
    "#     300,\n",
    "#     dim=\"period\",\n",
    "#     extra_plots=[\"RTA_int\", \"norm_1_int\"],\n",
    "# )"
   ]
  },
  {
   "cell_type": "code",
   "execution_count": null,
   "id": "79c95612-a441-45ca-afdd-58e16b7c8e32",
   "metadata": {},
   "outputs": [],
   "source": [
    "# dmap[(\"A\", \"restacked_ds\", \"max\", 8, 0, 0, \"inferno\", 10, 450)]"
   ]
  },
  {
   "cell_type": "code",
   "execution_count": null,
   "id": "32c566e8-14f4-4cc3-8090-7d9cac0083fa",
   "metadata": {
    "tags": []
   },
   "outputs": [],
   "source": [
    "dmap[(\"A\", \"restacked_ds\", \"max\", -8, 2, 0, \"inferno\", 10, 450)]"
   ]
  },
  {
   "cell_type": "code",
   "execution_count": null,
   "id": "a6e4a65d-ae31-4bf3-b399-b40651a3cb04",
   "metadata": {},
   "outputs": [],
   "source": [
    "# dmap[(\"A\", \"restacked_ds\", \"max\", 5, 2, 0, \"inferno\", 10, 450)]"
   ]
  },
  {
   "cell_type": "markdown",
   "id": "d01fc656-7bf5-4d60-abac-2d48d96fa37f",
   "metadata": {
    "tags": []
   },
   "source": [
    "#### Minimum"
   ]
  },
  {
   "cell_type": "markdown",
   "id": "dee9cbc3-4e63-4c0e-b1dc-25a26a18df1a",
   "metadata": {},
   "source": [
    "Obviously, the minimal absorptance comes with the smallest structures. There isn't much interesting to say about this."
   ]
  },
  {
   "cell_type": "code",
   "execution_count": null,
   "id": "3856c46e-4655-4fcf-b549-977cd89be09a",
   "metadata": {},
   "outputs": [],
   "source": [
    "# dmap[(\"A\", \"restacked_ds\", \"min\", 0, 0, 0, \"inferno\", 10, 450)]"
   ]
  },
  {
   "cell_type": "markdown",
   "id": "651c387a-2d8f-4cbb-a49d-124fa8cf7ce4",
   "metadata": {
    "tags": []
   },
   "source": [
    "#### Angle behaviour"
   ]
  },
  {
   "cell_type": "markdown",
   "id": "3a8cb05c-533f-413a-9385-a070e8d77c20",
   "metadata": {
    "tags": []
   },
   "source": [
    "##### At higher angles, the optimal period is higher. The PBG can reduce absorptance at normal incidence while increasing it at 30 degrees."
   ]
  },
  {
   "cell_type": "code",
   "execution_count": null,
   "id": "839dc386-cc1e-4f93-b6f7-01a8cffac428",
   "metadata": {},
   "outputs": [],
   "source": [
    "# angle_dmap[(\"A\", \"restacked_ds\", \"max\", 0, 2, 30, \"inferno\", 10, 450, 0)]"
   ]
  },
  {
   "cell_type": "code",
   "execution_count": null,
   "id": "6b3e8951-09da-446d-b83b-5cf59419eee1",
   "metadata": {},
   "outputs": [],
   "source": [
    "# angle_dmap[(\"A\", \"restacked_ds\", \"max\", -5, 2, 30, \"inferno\", 10, 450, 0)]"
   ]
  },
  {
   "cell_type": "code",
   "execution_count": null,
   "id": "6e462e76-c9dc-4fba-844f-7488695da241",
   "metadata": {},
   "outputs": [],
   "source": [
    "# angle_dmap[(\"A\", \"restacked_ds\", \"max\", 5, 2, 30, \"inferno\", 10, 450, 0)]"
   ]
  },
  {
   "cell_type": "markdown",
   "id": "de1c878c-33a4-4188-bbf4-5e3450e6cf5c",
   "metadata": {
    "tags": []
   },
   "source": [
    "##### When integrating, the capacity for photonic effects to meaningfully enhance absorptance overall is very low, because of their localised nature."
   ]
  },
  {
   "cell_type": "code",
   "execution_count": null,
   "id": "26b76cba-14ce-46d6-a804-f14b9a2479cd",
   "metadata": {},
   "outputs": [],
   "source": [
    "# %%capture --no-stdout --no-display\n",
    "# # ignore divide by zero warnings\n",
    "\n",
    "# angle_dmap[(\"A\", \"restacked_ds\", \"max\", 0, 2, 0, \"inferno\", 10, 450, 45)]"
   ]
  },
  {
   "cell_type": "code",
   "execution_count": null,
   "id": "6965d149-62c9-44f6-852e-d9663d92df1a",
   "metadata": {},
   "outputs": [],
   "source": [
    "# %%capture --no-stdout --no-display\n",
    "# # ignore divide by zero warnings\n",
    "\n",
    "# angle_dmap[(\"A\", \"restacked_ds\", \"max\", -5, 2, 0, \"inferno\", 10, 450, 45)]"
   ]
  },
  {
   "cell_type": "code",
   "execution_count": null,
   "id": "942c4183-158c-4feb-8eee-0beb88ccb07e",
   "metadata": {},
   "outputs": [],
   "source": [
    "# %%capture --no-stdout --no-display\n",
    "# # ignore divide by zero warnings\n",
    "\n",
    "# angle_dmap[(\"A\", \"restacked_ds\", \"max\", 5, 2, 0, \"inferno\", 10, 450, 45)]"
   ]
  },
  {
   "cell_type": "markdown",
   "id": "09f5b683-3b0e-4f56-a472-5c709828e727",
   "metadata": {
    "tags": []
   },
   "source": [
    "### General note on per-oscillator metrics"
   ]
  },
  {
   "cell_type": "markdown",
   "id": "2496b10d-9c98-4f50-8d75-93b09b5b1cf7",
   "metadata": {},
   "source": [
    "When the metric increases in absolute terms with layer thickness (e.g. reflectance, absorptance), I expect at the high-thickness limit for there to be an inverse relationship between that metric on a per-oscillator basis and the total number of oscillators (equivalent up to normalisation with total excitonic layer thickness). The per-oscillator metric will also be low at low layer thicknesses, so the optimum is expected at intermediate values.\n",
    "\n",
    "What affects the position of the optimum in parameter space, and how, is an open question,"
   ]
  },
  {
   "cell_type": "markdown",
   "id": "20293a6a-a2b7-442c-a5de-9a5089d8a23a",
   "metadata": {
    "tags": []
   },
   "source": [
    "### Optimal structures for reflectance per oscillator"
   ]
  },
  {
   "cell_type": "markdown",
   "id": "d9b9946d-facc-4b58-8e82-ab9a4c8e986f",
   "metadata": {
    "tags": []
   },
   "source": [
    "#### Maximum"
   ]
  },
  {
   "cell_type": "markdown",
   "id": "151ef0e5-c719-47f9-899f-44eb2108625b",
   "metadata": {},
   "source": [
    "Reflectance per oscillator is kind of as expected. At low total excitonic layer thickness, there is little reflectance, and at high total excitonic layer thickness the reflectance saturates while the number of oscillators increases without bound, so the peak in reflectance per oscillator is at intermediate values of excitonic layer thickness and number of layers. The interesting thing is that for the LO resonance wavelength, the optimum in this parameter ($16 \\times 20\\ \\text{nm} = 320\\ \\text{nm}$) is in a similar range to the real iridoplast structure.\n",
    "\n",
    "The behaviour around the LO resonance is assymmetric; there is a shift to significantly higher total excitonic layer thickness at the -2 Lorentz line ($26 \\times 40\\ \\text{nm} = 1040\\ \\text{nm}$), but not at the +2 Lorentz line ($14 \\times 30\\ \\text{nm} = 420\\ \\text{nm}$). Generally, the maximum achievable reflectance per oscillator is lower on the blue (low contrast) side of the resonance than on the red (high contrast) side, which holds true up to at least 8 linewidths away. The total excitonic layer thickness that gives the maximal reflectance per oscillator tends to increase with distance from the LO resonance wavelength.\n",
    "\n",
    "**It would be cool to plot the maximum R_per_oscillator and corresponding total excitonic layer thickness for each Lorentz line.**"
   ]
  },
  {
   "cell_type": "code",
   "execution_count": null,
   "id": "82b5b1e3-b069-45f0-9a48-6e537c941542",
   "metadata": {
    "tags": []
   },
   "outputs": [],
   "source": [
    "%%capture --no-stdout --no-display\n",
    "# ignore divide by zero warnings\n",
    "\n",
    "dmap[(\"R_per_oscillator\", \"restacked_ds\", \"max\", 0, 0, 0, \"viridis\", 10, 450)]"
   ]
  },
  {
   "cell_type": "code",
   "execution_count": null,
   "id": "61660acb-f5ec-43c5-82cb-dd010bc34a16",
   "metadata": {},
   "outputs": [],
   "source": [
    "# %%capture --no-stdout --no-display\n",
    "# # ignore divide by zero warnings\n",
    "\n",
    "# dmap[(\"R_per_oscillator\", \"restacked_ds\", \"max\", -2, 0, 0, \"viridis\", 10, 450)]"
   ]
  },
  {
   "cell_type": "code",
   "execution_count": null,
   "id": "6d34b67b-85a1-4280-89e8-9aae51918966",
   "metadata": {},
   "outputs": [],
   "source": [
    "# %%capture --no-stdout --no-display\n",
    "# # ignore divide by zero warnings\n",
    "\n",
    "# dmap[(\"R_per_oscillator\", \"restacked_ds\", \"max\", 2, 0, 0, \"viridis\", 10, 450)]"
   ]
  },
  {
   "cell_type": "code",
   "execution_count": null,
   "id": "8518bd55-39cd-414e-9b7f-f9b8b9f65152",
   "metadata": {},
   "outputs": [],
   "source": [
    "# %%capture --no-stdout --no-display\n",
    "# # ignore divide by zero warnings\n",
    "\n",
    "# dmap[(\"R_per_oscillator\", \"restacked_ds\", \"max\", -5, 0, 0, \"viridis\", 10, 450)]"
   ]
  },
  {
   "cell_type": "code",
   "execution_count": null,
   "id": "5c45d6cf-36db-4790-8d4c-ae55c49fdb74",
   "metadata": {
    "tags": []
   },
   "outputs": [],
   "source": [
    "%%capture --no-stdout --no-display\n",
    "# ignore divide by zero warnings\n",
    "\n",
    "dmap[(\"R_per_oscillator\", \"restacked_ds\", \"max\", 5, 0, 0, \"viridis\", 10, 450)]"
   ]
  },
  {
   "cell_type": "code",
   "execution_count": null,
   "id": "7e0de511-f85f-46fb-ae0f-a321c73d2f12",
   "metadata": {},
   "outputs": [],
   "source": [
    "# %%capture --no-stdout --no-display\n",
    "# # ignore divide by zero warnings\n",
    "\n",
    "# dmap[(\"R_per_oscillator\", \"restacked_ds\", \"max\", -8, 0, 0, \"viridis\", 10, 450)]"
   ]
  },
  {
   "cell_type": "code",
   "execution_count": null,
   "id": "97780faf-fd96-4c62-b87c-837df1772483",
   "metadata": {},
   "outputs": [],
   "source": [
    "# %%capture --no-stdout --no-display\n",
    "# # ignore divide by zero warnings\n",
    "\n",
    "# dmap[(\"R_per_oscillator\", \"restacked_ds\", \"max\", 8, 0, 0, \"viridis\", 10, 450)]"
   ]
  },
  {
   "cell_type": "markdown",
   "id": "e4912bdd-e83a-4c2e-a499-422ad9406f9b",
   "metadata": {
    "tags": []
   },
   "source": [
    "#### Maximum over a window"
   ]
  },
  {
   "cell_type": "markdown",
   "id": "00cf6595-c45b-410d-ab46-db1e5decabe3",
   "metadata": {},
   "source": [
    "Taking a larger integration window pushes the optimum towards higher layer thicknesses but lower numbers of layers, leading to a wider and flatter PBG. The optimal PBG can't cover more than about 10 linewidths on the red (high contrast) side or 6 linewidths on the blue (low contrast) side."
   ]
  },
  {
   "cell_type": "code",
   "execution_count": null,
   "id": "444cf583-d3c6-471e-95f4-09edbce0bf5b",
   "metadata": {
    "tags": []
   },
   "outputs": [],
   "source": [
    "%%capture --no-stdout --no-display\n",
    "# ignore divide by zero warnings\n",
    "\n",
    "dmap[(\"R_per_oscillator\", \"restacked_ds\", \"max\", 0, 2, 0, \"viridis\", 10, 450)]"
   ]
  },
  {
   "cell_type": "code",
   "execution_count": null,
   "id": "0f46116c-b861-4ba4-8281-6adc01c53fa8",
   "metadata": {},
   "outputs": [],
   "source": [
    "# %%capture --no-stdout --no-display\n",
    "# # ignore divide by zero warnings\n",
    "\n",
    "# dmap[(\"R_per_oscillator\", \"restacked_ds\", \"max\", 0, 5, 0, \"viridis\", 10, 450)]"
   ]
  },
  {
   "cell_type": "code",
   "execution_count": null,
   "id": "b2f1efea-0744-4649-bf90-3567ea7108b9",
   "metadata": {},
   "outputs": [],
   "source": [
    "# %%capture --no-stdout --no-display\n",
    "# # ignore divide by zero warnings\n",
    "\n",
    "# dmap[(\"R_per_oscillator\", \"restacked_ds\", \"max\", 0, 8, 0, \"viridis\", 10, 450)]"
   ]
  },
  {
   "cell_type": "code",
   "execution_count": null,
   "id": "6b741897-8867-4fd6-b0a3-947a0928ccd8",
   "metadata": {},
   "outputs": [],
   "source": [
    "# %%capture --no-stdout --no-display\n",
    "# # ignore divide by zero warnings\n",
    "\n",
    "# dmap[('R_per_oscillator', 'restacked_ds', 'max', -7, 3, 0, 'viridis', 10, 450)]"
   ]
  },
  {
   "cell_type": "code",
   "execution_count": null,
   "id": "f0603c5c-2015-4e76-b0ff-a97902edd8d0",
   "metadata": {},
   "outputs": [],
   "source": [
    "# %%capture --no-stdout --no-display\n",
    "# # ignore divide by zero warnings\n",
    "\n",
    "# dmap[('R_per_oscillator', 'restacked_ds', 'max', 3, 5, 0, 'viridis', 10, 450)]"
   ]
  },
  {
   "cell_type": "code",
   "execution_count": null,
   "id": "d24c7e2e-f27a-4142-a0df-a51e3f45f4b9",
   "metadata": {},
   "outputs": [],
   "source": [
    "# %%capture --no-stdout --no-display\n",
    "# # ignore divide by zero warnings\n",
    "\n",
    "# dmap[(\"R_per_oscillator\", \"restacked_ds\", \"max\", -5, 2, 0, \"viridis\", 10, 450)]"
   ]
  },
  {
   "cell_type": "code",
   "execution_count": null,
   "id": "a01abd25-bf80-4777-9563-a22f24e021cf",
   "metadata": {
    "tags": []
   },
   "outputs": [],
   "source": [
    "%%capture --no-stdout --no-display\n",
    "# ignore divide by zero warnings\n",
    "\n",
    "dmap[(\"R_per_oscillator\", \"restacked_ds\", \"max\", 5, 2, 0, \"viridis\", 10, 450)]"
   ]
  },
  {
   "cell_type": "markdown",
   "id": "93250468-cdce-43d3-ba4c-c05d4220c9a7",
   "metadata": {
    "tags": []
   },
   "source": [
    "#### Minimum"
   ]
  },
  {
   "cell_type": "markdown",
   "id": "73deb507-6d5a-47a2-9285-3e425ae80626",
   "metadata": {},
   "source": [
    "Obviously, minimising the reflectance per oscillator produces uninteresting structures that typically have low layer thickness and high numbers of layers."
   ]
  },
  {
   "cell_type": "code",
   "execution_count": null,
   "id": "f0c2fe50-36f6-4252-92a3-8f2be12531a3",
   "metadata": {},
   "outputs": [],
   "source": [
    "# %%capture --no-stdout --no-display\n",
    "# # ignore divide by zero warnings\n",
    "\n",
    "# dmap[(\"R_per_oscillator\", \"restacked_ds\", \"min\", 0, 0, 0, \"viridis\", 10, 450)]"
   ]
  },
  {
   "cell_type": "code",
   "execution_count": null,
   "id": "503c3912-6b3b-4b64-893f-ccb1d9f64217",
   "metadata": {},
   "outputs": [],
   "source": [
    "# %%capture --no-stdout --no-display\n",
    "# # ignore divide by zero warnings\n",
    "\n",
    "# dmap[(\"R_per_oscillator\", \"restacked_ds\", \"min\", -5, 0, 0, \"viridis\", 10, 450)]"
   ]
  },
  {
   "cell_type": "code",
   "execution_count": null,
   "id": "7970b38e-5d7f-4176-be7d-7c7a35ffb51f",
   "metadata": {},
   "outputs": [],
   "source": [
    "# %%capture --no-stdout --no-display\n",
    "# # ignore divide by zero warnings\n",
    "\n",
    "# dmap[(\"R_per_oscillator\", \"restacked_ds\", \"min\", 5, 0, 0, \"viridis\", 10, 450)]"
   ]
  },
  {
   "cell_type": "code",
   "execution_count": null,
   "id": "f9d1c227-d7c0-4e82-b34a-1f6de142d09e",
   "metadata": {},
   "outputs": [],
   "source": [
    "# %%capture --no-stdout --no-display\n",
    "# # ignore divide by zero warnings\n",
    "\n",
    "# dmap[(\"R_per_oscillator\", \"restacked_ds\", \"min\", 0, 2, 0, \"viridis\", 10, 450)]"
   ]
  },
  {
   "cell_type": "code",
   "execution_count": null,
   "id": "1dab4267-0102-4b6b-a8c1-5ba218a4556b",
   "metadata": {},
   "outputs": [],
   "source": [
    "# %%capture --no-stdout --no-display\n",
    "# # ignore divide by zero warnings\n",
    "\n",
    "# dmap[(\"R_per_oscillator\", \"restacked_ds\", \"min\", -5, 2, 0, \"viridis\", 10, 450)]"
   ]
  },
  {
   "cell_type": "code",
   "execution_count": null,
   "id": "622ef71f-24b1-4cb0-b545-ae4cd6f6420c",
   "metadata": {},
   "outputs": [],
   "source": [
    "# %%capture --no-stdout --no-display\n",
    "# # ignore divide by zero warnings\n",
    "\n",
    "# dmap[(\"R_per_oscillator\", \"restacked_ds\", \"min\", 5, 2, 0, \"viridis\", 10, 450)]"
   ]
  },
  {
   "cell_type": "code",
   "execution_count": null,
   "id": "8d627e00-16d6-4c44-b1aa-0adb7860863a",
   "metadata": {},
   "outputs": [],
   "source": [
    "# %%capture --no-stdout --no-display\n",
    "# # ignore divide by zero warnings\n",
    "\n",
    "# angle_dmap[(\"R_per_oscillator\", \"restacked_ds\", \"min\", 0, 2, 0, \"viridis\", 10, 450, 45)]"
   ]
  },
  {
   "cell_type": "code",
   "execution_count": null,
   "id": "54cc8f85-d940-4cd6-a3b8-6540c89bba2e",
   "metadata": {},
   "outputs": [],
   "source": [
    "# %%capture --no-stdout --no-display\n",
    "# # ignore divide by zero warnings\n",
    "\n",
    "# angle_dmap[\n",
    "#     (\"R_per_oscillator\", \"restacked_ds\", \"min\", -5, 2, 0, \"viridis\", 10, 450, 45)\n",
    "# ]"
   ]
  },
  {
   "cell_type": "code",
   "execution_count": null,
   "id": "71ccc371-bd09-4652-891d-0b8e87458876",
   "metadata": {},
   "outputs": [],
   "source": [
    "# %%capture --no-stdout --no-display\n",
    "# # ignore divide by zero warnings\n",
    "\n",
    "# angle_dmap[(\"R_per_oscillator\", \"restacked_ds\", \"min\", 5, 2, 0, \"viridis\", 10, 450, 45)]"
   ]
  },
  {
   "cell_type": "markdown",
   "id": "5d59115f-2d6f-4986-b96b-796833cdd9a2",
   "metadata": {
    "tags": []
   },
   "source": [
    "#### Angle behaviour"
   ]
  },
  {
   "cell_type": "markdown",
   "id": "5ba3d06d-5063-4d4e-be40-402768c5d5f5",
   "metadata": {
    "tags": []
   },
   "source": [
    "##### At 30 degrees"
   ]
  },
  {
   "cell_type": "code",
   "execution_count": null,
   "id": "f2798da3-73e8-40b3-90c5-5a94c3667a62",
   "metadata": {},
   "outputs": [],
   "source": [
    "# %%capture --no-stdout --no-display\n",
    "# # ignore divide by zero warnings\n",
    "\n",
    "# angle_dmap[(\"R_per_oscillator\", \"restacked_ds\", \"max\", 0, 2, 30, \"viridis\", 10, 450, 0)]"
   ]
  },
  {
   "cell_type": "code",
   "execution_count": null,
   "id": "01395f65-3c22-4707-94e8-015ae01c9490",
   "metadata": {},
   "outputs": [],
   "source": [
    "# %%capture --no-stdout --no-display\n",
    "# # ignore divide by zero warnings\n",
    "\n",
    "# angle_dmap[\n",
    "#     (\"R_per_oscillator\", \"restacked_ds\", \"max\", -5, 2, 30, \"viridis\", 10, 450, 0)\n",
    "# ]"
   ]
  },
  {
   "cell_type": "code",
   "execution_count": null,
   "id": "21f281fd-93b0-4876-8bf4-ade310c846dc",
   "metadata": {},
   "outputs": [],
   "source": [
    "# %%capture --no-stdout --no-display\n",
    "# # ignore divide by zero warnings\n",
    "\n",
    "# angle_dmap[(\"R_per_oscillator\", \"restacked_ds\", \"max\", 5, 2, 30, \"viridis\", 10, 450, 0)]"
   ]
  },
  {
   "cell_type": "markdown",
   "id": "3e79f5f2-cd49-43b0-8a0c-35787278edda",
   "metadata": {
    "tags": []
   },
   "source": [
    "##### Integrating (angle only)"
   ]
  },
  {
   "cell_type": "code",
   "execution_count": null,
   "id": "932397f2-1adf-4451-8ada-beb1afa56ce7",
   "metadata": {},
   "outputs": [],
   "source": [
    "# %%capture --no-stdout --no-display\n",
    "# # ignore divide by zero warnings\n",
    "\n",
    "# angle_dmap[(\"R_per_oscillator\", \"restacked_ds\", \"max\", 0, 0, 0, \"viridis\", 10, 450, 45)]"
   ]
  },
  {
   "cell_type": "code",
   "execution_count": null,
   "id": "883b6bdd-f1f5-4a08-b6fd-35753d8e3c5f",
   "metadata": {},
   "outputs": [],
   "source": [
    "# %%capture --no-stdout --no-display\n",
    "# # ignore divide by zero warnings\n",
    "\n",
    "# angle_dmap[\n",
    "#     (\"R_per_oscillator\", \"restacked_ds\", \"max\", -5, 0, 0, \"viridis\", 10, 450, 45)\n",
    "# ]"
   ]
  },
  {
   "cell_type": "code",
   "execution_count": null,
   "id": "b045dd33-237e-4b63-ae3d-8d73c96ccd25",
   "metadata": {
    "tags": []
   },
   "outputs": [],
   "source": [
    "%%capture --no-stdout --no-display\n",
    "# ignore divide by zero warnings\n",
    "\n",
    "angle_dmap[(\"R_per_oscillator\", \"restacked_ds\", \"max\", 5, 0, 0, \"viridis\", 10, 450, 45)]"
   ]
  },
  {
   "cell_type": "code",
   "execution_count": null,
   "id": "c69cb1c9-c5b9-4f98-a915-55c85fc52d9e",
   "metadata": {
    "tags": []
   },
   "outputs": [],
   "source": [
    "# comparison of the integrated and unintegrated RTA at normal incidence\n",
    "# params optimise R when integrated\n",
    "period = 290\n",
    "excitonic_layer_thickness = 80\n",
    "num_periods = 8\n",
    "\n",
    "params = dict(\n",
    "    period=period,\n",
    "    excitonic_layer_thickness=excitonic_layer_thickness,\n",
    "    num_periods=num_periods,\n",
    ")\n",
    "\n",
    "the_plot = (\n",
    "    compare_RTA_normal_vs_integrated(**params)\n",
    "    * lorentz_vlines([5], scale=1e-9)\n",
    "    * lorentz_vlines([0], scale=1e-9, label=\"resonance\")\n",
    ").opts(\n",
    "    opts.VLine(line_dash=\"dotted\", color=green),\n",
    "    opts.VLine(\"resonance\", line_dash=\"dotted\", color=yellow),\n",
    "    opts.Overlay(legend_position=\"right\"),\n",
    ")\n",
    "the_plot"
   ]
  },
  {
   "cell_type": "code",
   "execution_count": null,
   "id": "21853e78-b300-4eea-b82e-512f85d9e51c",
   "metadata": {
    "tags": []
   },
   "outputs": [],
   "source": [
    "hv.save(the_plot, filename=fig_path/\"opt_Rpo_max_5_0_0_45_RTA_c\", fmt=\"png\", toolbar=False)"
   ]
  },
  {
   "cell_type": "markdown",
   "id": "9c3f3d35-15b2-4754-9483-7ec59fbc44c1",
   "metadata": {
    "tags": []
   },
   "source": [
    "##### Integrating (angle and wavelength)"
   ]
  },
  {
   "cell_type": "code",
   "execution_count": null,
   "id": "4a31df01-5969-4596-945c-a77737df8446",
   "metadata": {},
   "outputs": [],
   "source": [
    "# %%capture --no-stdout --no-display\n",
    "# # ignore divide by zero warnings\n",
    "\n",
    "# angle_dmap[(\"R_per_oscillator\", \"restacked_ds\", \"max\", 0, 2, 0, \"viridis\", 10, 450, 45)]"
   ]
  },
  {
   "cell_type": "code",
   "execution_count": null,
   "id": "f3abb019-71ac-422c-ba14-862b2896df51",
   "metadata": {},
   "outputs": [],
   "source": [
    "# %%capture --no-stdout --no-display\n",
    "# # ignore divide by zero warnings\n",
    "\n",
    "# angle_dmap[\n",
    "#     (\"R_per_oscillator\", \"restacked_ds\", \"max\", -5, 2, 0, \"viridis\", 10, 450, 45)\n",
    "# ]"
   ]
  },
  {
   "cell_type": "code",
   "execution_count": null,
   "id": "50929264-4d1f-4c16-84f7-9b12df76b576",
   "metadata": {
    "tags": []
   },
   "outputs": [],
   "source": [
    "%%capture --no-stdout --no-display\n",
    "# ignore divide by zero warnings\n",
    "\n",
    "angle_dmap[(\"R_per_oscillator\", \"restacked_ds\", \"max\", 5, 2, 0, \"viridis\", 10, 450, 45)]"
   ]
  },
  {
   "cell_type": "code",
   "execution_count": null,
   "id": "b7d58674-48d1-4811-8109-40105d8bd7fe",
   "metadata": {
    "tags": []
   },
   "outputs": [],
   "source": [
    "# comparison of the integrated and unintegrated RTA at normal incidence\n",
    "# params optimise R when integrated\n",
    "period = 290\n",
    "excitonic_layer_thickness = 90\n",
    "num_periods = 6\n",
    "\n",
    "params = dict(\n",
    "    period=period,\n",
    "    excitonic_layer_thickness=excitonic_layer_thickness,\n",
    "    num_periods=num_periods,\n",
    ")\n",
    "\n",
    "the_plot = (\n",
    "    compare_RTA_normal_vs_integrated(**params)\n",
    "    * lorentz_vlines([3, 7], scale=1e-9)\n",
    "    * lorentz_vlines([0], scale=1e-9, label=\"resonance\")\n",
    "    * hv.VSpan(lorentz_line_wavelength(3) * 1e9, lorentz_line_wavelength(7) * 1e9)\n",
    ").opts(\n",
    "    opts.VLine(line_dash=\"dotted\", color=green),\n",
    "    opts.VLine(\"resonance\", line_dash=\"dotted\", color=yellow),\n",
    "    opts.VSpan(color=\"gray\", alpha=0.1),\n",
    "    opts.Overlay(legend_position=\"right\"),\n",
    ")\n",
    "the_plot"
   ]
  },
  {
   "cell_type": "code",
   "execution_count": null,
   "id": "0f8623f5-2b07-4710-903a-859d3ed829c7",
   "metadata": {
    "tags": []
   },
   "outputs": [],
   "source": [
    "hv.save(the_plot, filename=fig_path/\"opt_Rpo_max_5_2_0_45_RTA_c\", fmt=\"png\", toolbar=False)"
   ]
  },
  {
   "cell_type": "markdown",
   "id": "6db30bae-7a3a-4e0d-a92e-d42360166b89",
   "metadata": {
    "tags": []
   },
   "source": [
    "##### Integrating (angle and *wide* wavelength)"
   ]
  },
  {
   "cell_type": "code",
   "execution_count": null,
   "id": "c615178f-57f0-4f79-9a62-4febb2d4c1db",
   "metadata": {},
   "outputs": [],
   "source": [
    "# %%capture --no-stdout --no-display\n",
    "# # ignore divide by zero warnings\n",
    "\n",
    "# angle_dmap[(\"R_per_oscillator\", \"restacked_ds\", \"max\", 0, 8, 0, \"viridis\", 10, 450, 45)]"
   ]
  },
  {
   "cell_type": "code",
   "execution_count": null,
   "id": "25decbfc-a18a-4962-a979-15f9bc58fda4",
   "metadata": {},
   "outputs": [],
   "source": [
    "# %%capture --no-stdout --no-display\n",
    "# # ignore divide by zero warnings\n",
    "\n",
    "# angle_dmap[\n",
    "#     (\"R_per_oscillator\", \"restacked_ds\", \"max\", -5, 8, 0, \"viridis\", 10, 450, 45)\n",
    "# ]"
   ]
  },
  {
   "cell_type": "markdown",
   "id": "e336daa3-3795-4aeb-b9d4-07e375d55e58",
   "metadata": {
    "jp-MarkdownHeadingCollapsed": true,
    "tags": []
   },
   "source": [
    "### Optimal structures for transmittance per oscillator"
   ]
  },
  {
   "cell_type": "markdown",
   "id": "3e1eb299-89e6-4329-b1d2-1cfb79e91fa2",
   "metadata": {
    "jp-MarkdownHeadingCollapsed": true,
    "tags": []
   },
   "source": [
    "#### Maximum"
   ]
  },
  {
   "cell_type": "markdown",
   "id": "34dd52bc-b102-4f52-b888-8c9de6e5934e",
   "metadata": {},
   "source": [
    "Obviously, the maximum transmittance per oscillator occurs when there is the minimum possible amount of absorbing material present."
   ]
  },
  {
   "cell_type": "markdown",
   "id": "a4758977-7438-4061-90d3-a7da657d78c2",
   "metadata": {
    "jp-MarkdownHeadingCollapsed": true,
    "tags": []
   },
   "source": [
    "#### Minimum"
   ]
  },
  {
   "cell_type": "markdown",
   "id": "e2f56391-5217-490d-8905-e9208a87ce2f",
   "metadata": {},
   "source": [
    "Obviously, the minimum transmittance per oscillator occurs when there is lots of absorbing material present. However, even near the resonance, photonic effects can play a role with a wider window. Far from the resonance, photonic effects dominate over intrinsic absorptance.\n",
    "\n",
    "What is not entirely obvious is that minimising transmittance per oscillator is *not* the same as maximising the sum of (reflectance per oscillator) and (absorptance per oscillator). The latter will tend to produce optima in the intermediate region. I might get onto doing calculations of this at some point, but it's not as useful as it may appear because in a real situation, you would need to know how to weight the relative importance of these two metrics."
   ]
  },
  {
   "cell_type": "code",
   "execution_count": null,
   "id": "65f93577-46ef-4078-909a-a385928168ba",
   "metadata": {},
   "outputs": [],
   "source": [
    "# %%capture --no-stdout --no-display\n",
    "# # ignore divide by zero warnings\n",
    "\n",
    "# dmap[(\"T_per_oscillator\", \"restacked_ds\", \"min\", 0, 5, 0, \"cividis\", 10, 450)]"
   ]
  },
  {
   "cell_type": "code",
   "execution_count": null,
   "id": "c427a03b-5b5b-4a24-9532-f8628ba772b5",
   "metadata": {},
   "outputs": [],
   "source": [
    "# %%capture --no-stdout --no-display\n",
    "# # ignore divide by zero warnings\n",
    "\n",
    "# dmap[(\"T_per_oscillator\", \"restacked_ds\", \"min\", -8, 0, 0, \"cividis\", 10, 450)]"
   ]
  },
  {
   "cell_type": "code",
   "execution_count": null,
   "id": "6b10027b-7e69-46d1-aa52-65cd71e6c302",
   "metadata": {},
   "outputs": [],
   "source": [
    "# %%capture --no-stdout --no-display\n",
    "# # ignore divide by zero warnings\n",
    "\n",
    "# dmap[(\"T_per_oscillator\", \"restacked_ds\", \"min\", -8, 6, 0, \"cividis\", 10, 450)]"
   ]
  },
  {
   "cell_type": "code",
   "execution_count": null,
   "id": "07eb7923-c018-44b5-b99d-b78e75ccf824",
   "metadata": {},
   "outputs": [],
   "source": [
    "# %%capture --no-stdout --no-display\n",
    "# # ignore divide by zero warnings\n",
    "\n",
    "# dmap[(\"T_per_oscillator\", \"restacked_ds\", \"min\", 4, 4, 0, \"cividis\", 10, 450)]"
   ]
  },
  {
   "cell_type": "markdown",
   "id": "bc5e2153-a101-469e-9ba8-b13db5cb10b5",
   "metadata": {
    "tags": []
   },
   "source": [
    "### Optimal structures for absorptance per oscillator"
   ]
  },
  {
   "cell_type": "markdown",
   "id": "3252ffc4-b732-45cd-9a76-7c3536d489ec",
   "metadata": {
    "tags": []
   },
   "source": [
    "#### Maximum"
   ]
  },
  {
   "cell_type": "markdown",
   "id": "fc89a9ba-a7f4-45db-ae35-878d18a40f60",
   "metadata": {},
   "source": [
    "Near the LO resonance, the maximum absorptance per oscillator comes with almost the minimum amount of absorbing material - photonic effects aren't helpful beyond the slight absorption increase that comes from having two layers rather than one. However, further from the resonance (at least -4 linewidths below or 2 above) there is the possibility of improving absorptance per oscillator using the photonic structure."
   ]
  },
  {
   "cell_type": "code",
   "execution_count": null,
   "id": "65092fa9-2de1-4f89-bbd1-60c0598394e3",
   "metadata": {},
   "outputs": [],
   "source": [
    "# %%capture --no-stdout --no-display\n",
    "# # ignore divide by zero warnings\n",
    "\n",
    "# dmap[(\"A_per_oscillator\", \"restacked_ds\", \"max\", 0, 0, 0, \"inferno\", 10, 450)]"
   ]
  },
  {
   "cell_type": "code",
   "execution_count": null,
   "id": "09e7a8ec-6e5f-40d8-94d3-be97272a445a",
   "metadata": {
    "tags": []
   },
   "outputs": [],
   "source": [
    "%%capture --no-stdout --no-display\n",
    "# ignore divide by zero warnings\n",
    "\n",
    "dmap[(\"A_per_oscillator\", \"restacked_ds\", \"max\", -5, 0, 0, \"inferno\", 10, 450)]"
   ]
  },
  {
   "cell_type": "code",
   "execution_count": null,
   "id": "6c86d9ca-c144-46e5-9543-ff7ed4f98b60",
   "metadata": {},
   "outputs": [],
   "source": [
    "# %%capture --no-stdout --no-display\n",
    "# # ignore divide by zero warnings\n",
    "\n",
    "# dmap[(\"A_per_oscillator\", \"restacked_ds\", \"max\", -8, 0, 0, \"inferno\", 10, 450)]"
   ]
  },
  {
   "cell_type": "code",
   "execution_count": null,
   "id": "c525aacd-f7d5-425d-b68e-53df9070a175",
   "metadata": {},
   "outputs": [],
   "source": [
    "# %%capture --no-stdout --no-display\n",
    "# # ignore divide by zero warnings\n",
    "\n",
    "# dmap[(\"A_per_oscillator\", \"restacked_ds\", \"max\", 2, 0, 0, \"inferno\", 10, 450)]"
   ]
  },
  {
   "cell_type": "code",
   "execution_count": null,
   "id": "532c2b93-d5f6-4428-9043-405251494922",
   "metadata": {
    "tags": []
   },
   "outputs": [],
   "source": [
    "%%capture --no-stdout --no-display\n",
    "# ignore divide by zero warnings\n",
    "\n",
    "dmap[(\"A_per_oscillator\", \"restacked_ds\", \"max\", 5, 0, 0, \"inferno\", 10, 450)]"
   ]
  },
  {
   "cell_type": "code",
   "execution_count": null,
   "id": "5affc847-f47a-4c3b-a5a1-59ec3427ba7c",
   "metadata": {},
   "outputs": [],
   "source": [
    "# %%capture --no-stdout --no-display\n",
    "# # ignore divide by zero warnings\n",
    "\n",
    "# dmap[(\"A_per_oscillator\", \"restacked_ds\", \"max\", 8, 0, 0, \"inferno\", 10, 450)]"
   ]
  },
  {
   "cell_type": "markdown",
   "id": "c23678fd-fd3a-4984-bcbb-8caf40daba8b",
   "metadata": {
    "tags": []
   },
   "source": [
    "#### Maximum over a window"
   ]
  },
  {
   "cell_type": "markdown",
   "id": "7aefcd60-e56e-4bf3-9800-534c1c8e5f85",
   "metadata": {},
   "source": [
    "The absorptance per oscillator is still not improved over window centred on the resonance, even when the window includes wavelengths where a photonic enhancement is possible. Further from the resonance, widening the window generally moves the optimum to higher layer thicknesses and lower numbers of periods, similarly to reflectance per oscillator. This is related to the idea of widening the range of photonic effects at the expense of their magnitude.\n",
    "\n",
    "The photonic enhancement 'washes out' faster on the blue side of the resonance, because the region of absorption enhancement due to the slow light effect doesn't extend very far with low RI contrast. On the red side, the photonic enhancement is evident over wider windows. However, when considering regions very far from the LO resonance, where the intrinsic absorption of the CRS is very low, it is possible for high reflectance to coexist with a (marginally) higher absorptance per oscillator and some degree of absorption enhancement - see plot at -10 linewidths over a window of radius 5."
   ]
  },
  {
   "cell_type": "code",
   "execution_count": null,
   "id": "14c78d70-1798-4ecf-a3ad-3fac68d6b88a",
   "metadata": {},
   "outputs": [],
   "source": [
    "%%capture --no-stdout --no-display\n",
    "# ignore divide by zero warnings\n",
    "\n",
    "# this would be better if the window size was 8\n",
    "# dmap[('A_per_oscillator', 'restacked_ds', 'max', 0, 4, 0, 'inferno', 10, 450)]"
   ]
  },
  {
   "cell_type": "code",
   "execution_count": null,
   "id": "02e823f3-d0db-42f9-9cb3-81401b1d5a38",
   "metadata": {},
   "outputs": [],
   "source": [
    "# %%capture --no-stdout --no-display\n",
    "# # ignore divide by zero warnings\n",
    "\n",
    "# dmap[(\"A_per_oscillator\", \"restacked_ds\", \"max\", -4, 1, 0, \"inferno\", 10, 450)]"
   ]
  },
  {
   "cell_type": "code",
   "execution_count": null,
   "id": "65ccfb5a-b9ff-45b4-be47-b715c52a53c1",
   "metadata": {},
   "outputs": [],
   "source": [
    "# %%capture --no-stdout --no-display\n",
    "# # ignore divide by zero warnings\n",
    "\n",
    "# dmap[(\"A_per_oscillator\", \"restacked_ds\", \"max\", -4, 2, 0, \"inferno\", 10, 450)]"
   ]
  },
  {
   "cell_type": "code",
   "execution_count": null,
   "id": "5cc9822d-3925-4b2f-b706-c7dcc3af78fd",
   "metadata": {
    "tags": []
   },
   "outputs": [],
   "source": [
    "%%capture --no-stdout --no-display\n",
    "# ignore divide by zero warnings\n",
    "\n",
    "dmap[(\"A_per_oscillator\", \"restacked_ds\", \"max\", -5, 2, 0, \"inferno\", 10, 450)]"
   ]
  },
  {
   "cell_type": "code",
   "execution_count": null,
   "id": "59a019bb-36d9-4d51-b583-8aa4880c8f50",
   "metadata": {},
   "outputs": [],
   "source": [
    "# %%capture --no-stdout --no-display\n",
    "# # ignore divide by zero warnings\n",
    "\n",
    "# dmap[(\"A_per_oscillator\", \"restacked_ds\", \"max\", -8, 1, 0, \"inferno\", 10, 450)]"
   ]
  },
  {
   "cell_type": "code",
   "execution_count": null,
   "id": "b0c3e473-9670-4dfc-bd33-bbf76986fc3f",
   "metadata": {},
   "outputs": [],
   "source": [
    "# %%capture --no-stdout --no-display\n",
    "# # ignore divide by zero warnings\n",
    "\n",
    "# dmap[(\"A_per_oscillator\", \"restacked_ds\", \"max\", -10, 5, 0, \"inferno\", 10, 450)]"
   ]
  },
  {
   "cell_type": "code",
   "execution_count": null,
   "id": "c6ceb945-8382-4851-9baa-ff44b6abd60f",
   "metadata": {},
   "outputs": [],
   "source": [
    "# %%capture --no-stdout --no-display\n",
    "# # ignore divide by zero warnings\n",
    "\n",
    "# dmap[(\"A_per_oscillator\", \"restacked_ds\", \"max\", 4, 3, 0, \"inferno\", 10, 450)]"
   ]
  },
  {
   "cell_type": "code",
   "execution_count": null,
   "id": "941e7a7e-96a9-41ff-87e4-89f063f59544",
   "metadata": {
    "tags": []
   },
   "outputs": [],
   "source": [
    "%%capture --no-stdout --no-display\n",
    "# ignore divide by zero warnings\n",
    "\n",
    "dmap[(\"A_per_oscillator\", \"restacked_ds\", \"max\", 5, 2, 0, \"inferno\", 10, 450)]"
   ]
  },
  {
   "cell_type": "code",
   "execution_count": null,
   "id": "109bd9ef-4589-4f04-8938-810ac69dec74",
   "metadata": {},
   "outputs": [],
   "source": [
    "# %%capture --no-stdout --no-display\n",
    "# # ignore divide by zero warnings\n",
    "\n",
    "# dmap[(\"A_per_oscillator\", \"restacked_ds\", \"max\", 6, 2, 0, \"inferno\", 10, 450)]"
   ]
  },
  {
   "cell_type": "code",
   "execution_count": null,
   "id": "93ab431a-594b-4628-b164-09a013ee2e3b",
   "metadata": {},
   "outputs": [],
   "source": [
    "# %%capture --no-stdout --no-display\n",
    "# # ignore divide by zero warnings\n",
    "\n",
    "# dmap[(\"A_per_oscillator\", \"restacked_ds\", \"max\", 7, 1, 0, \"inferno\", 10, 450)]"
   ]
  },
  {
   "cell_type": "markdown",
   "id": "acb6c83c-8b94-4884-a22b-2c1e68c9203a",
   "metadata": {
    "tags": []
   },
   "source": [
    "#### Minimum"
   ]
  },
  {
   "cell_type": "markdown",
   "id": "3260c625-e053-46f4-8495-07d11082a0f7",
   "metadata": {},
   "source": [
    "To minimise the absorptance per oscillator, the strategy is to maximise the amount of material and lay a PBG over the target wavelength range. The reduction in absorptance caused by the PBG can be more significant than the reduction in oscillator number from having thicker layers, but the number of layers is always high."
   ]
  },
  {
   "cell_type": "code",
   "execution_count": null,
   "id": "f6022f30-7a6d-4779-9679-139e828330f2",
   "metadata": {},
   "outputs": [],
   "source": [
    "# %%capture --no-stdout --no-display\n",
    "# # ignore divide by zero warnings\n",
    "\n",
    "# dmap[(\"A_per_oscillator\", \"restacked_ds\", \"min\", 0, 2, 0, \"inferno\", 10, 450)]"
   ]
  },
  {
   "cell_type": "code",
   "execution_count": null,
   "id": "220f0f5b-2575-4162-811e-37baae805888",
   "metadata": {},
   "outputs": [],
   "source": [
    "# %%capture --no-stdout --no-display\n",
    "# # ignore divide by zero warnings\n",
    "\n",
    "# dmap[(\"A_per_oscillator\", \"restacked_ds\", \"min\", -5, 0, 0, \"inferno\", 10, 450)]"
   ]
  },
  {
   "cell_type": "code",
   "execution_count": null,
   "id": "3a67a2f8-8f25-4f4a-8e6a-0363fcf060e6",
   "metadata": {},
   "outputs": [],
   "source": [
    "# %%capture --no-stdout --no-display\n",
    "# # ignore divide by zero warnings\n",
    "\n",
    "# dmap[(\"A_per_oscillator\", \"restacked_ds\", \"min\", 5, 0, 0, \"inferno\", 10, 450)]"
   ]
  },
  {
   "cell_type": "code",
   "execution_count": null,
   "id": "1ce2adc7-79c3-41d1-8452-fb8b96c126ff",
   "metadata": {},
   "outputs": [],
   "source": [
    "# %%capture --no-stdout --no-display\n",
    "# # ignore divide by zero warnings\n",
    "\n",
    "# dmap[(\"A_per_oscillator\", \"restacked_ds\", \"min\", -8, 0, 0, \"inferno\", 10, 450)]"
   ]
  },
  {
   "cell_type": "code",
   "execution_count": null,
   "id": "4efd0084-fea3-43a5-b4a9-6677e4da379d",
   "metadata": {},
   "outputs": [],
   "source": [
    "# %%capture --no-stdout --no-display\n",
    "# # ignore divide by zero warnings\n",
    "\n",
    "# dmap[(\"A_per_oscillator\", \"restacked_ds\", \"min\", 8, 0, 0, \"inferno\", 10, 450)]"
   ]
  },
  {
   "cell_type": "markdown",
   "id": "e68357a6-d375-480a-8530-90393018ca7c",
   "metadata": {
    "tags": []
   },
   "source": [
    "#### Angle behaviour"
   ]
  },
  {
   "cell_type": "markdown",
   "id": "5fb8a822-2dec-4b9e-83a0-06c932bff3fd",
   "metadata": {
    "tags": []
   },
   "source": [
    "##### At 30 degrees"
   ]
  },
  {
   "cell_type": "markdown",
   "id": "83083124-af3a-4017-b2b8-60f18c6688bc",
   "metadata": {},
   "source": [
    "The optimal period is higher than at normal incidence."
   ]
  },
  {
   "cell_type": "code",
   "execution_count": null,
   "id": "df5450c7-5c05-4191-a30b-f6c42b72bd1c",
   "metadata": {},
   "outputs": [],
   "source": [
    "# %%capture --no-stdout --no-display\n",
    "# # ignore divide by zero warnings\n",
    "\n",
    "# angle_dmap[(\"A_per_oscillator\", \"restacked_ds\", \"max\", 0, 2, 30, \"inferno\", 10, 450, 0)]"
   ]
  },
  {
   "cell_type": "code",
   "execution_count": null,
   "id": "c4a08395-5cde-4d68-8238-629aa1260213",
   "metadata": {},
   "outputs": [],
   "source": [
    "# %%capture --no-stdout --no-display\n",
    "# # ignore divide by zero warnings\n",
    "\n",
    "# angle_dmap[\n",
    "#     (\"A_per_oscillator\", \"restacked_ds\", \"max\", -5, 2, 30, \"inferno\", 10, 450, 0)\n",
    "# ]"
   ]
  },
  {
   "cell_type": "code",
   "execution_count": null,
   "id": "491ab3f6-69c4-40f8-9def-4a9ccca44ec9",
   "metadata": {
    "tags": []
   },
   "outputs": [],
   "source": [
    "%%capture --no-stdout --no-display\n",
    "# ignore divide by zero warnings\n",
    "\n",
    "angle_dmap[(\"A_per_oscillator\", \"restacked_ds\", \"max\", 5, 2, 30, \"inferno\", 10, 450, 0)]"
   ]
  },
  {
   "cell_type": "code",
   "execution_count": null,
   "id": "fd9c5ddc-c207-4920-932d-ab2df3a6bda9",
   "metadata": {
    "tags": []
   },
   "outputs": [],
   "source": [
    "# comparison of the integrated and unintegrated RTA at normal incidence\n",
    "# params optimise R when integrated\n",
    "period = 290\n",
    "excitonic_layer_thickness = 50\n",
    "num_periods = 11\n",
    "\n",
    "params = dict(\n",
    "    period=period,\n",
    "    excitonic_layer_thickness=excitonic_layer_thickness,\n",
    "    num_periods=num_periods,\n",
    ")\n",
    "\n",
    "the_plot = (\n",
    "    compare_RTA(\n",
    "        {\"theta\": 30, \"label_override\": \" (θ = 30)\"},\n",
    "        {\"theta\": 0, \"label_override\": \" (θ = 0)\"},\n",
    "        include=[\"LOPC\"],\n",
    "        **params\n",
    "    )\n",
    "    * lorentz_vlines([3, 7], scale=1e-9)\n",
    "    * lorentz_vlines([0], scale=1e-9, label=\"resonance\")\n",
    "    * hv.VSpan(lorentz_line_wavelength(3) * 1e9, lorentz_line_wavelength(7) * 1e9)\n",
    ").opts(\n",
    "    opts.VLine(line_dash=\"dotted\", color=green),\n",
    "    opts.VLine(\"resonance\", line_dash=\"dotted\", color=yellow),\n",
    "    opts.VSpan(color=\"gray\", alpha=0.1),\n",
    "    opts.Overlay(legend_position=\"right\"),\n",
    ")\n",
    "the_plot"
   ]
  },
  {
   "cell_type": "code",
   "execution_count": null,
   "id": "5a9545c8-19c1-40c8-948a-be3a6698b539",
   "metadata": {
    "tags": []
   },
   "outputs": [],
   "source": [
    "hv.save(the_plot, filename=fig_path/\"opt_Apo_max_5_2_30_0_RTA_c\", fmt=\"png\", toolbar=False)"
   ]
  },
  {
   "cell_type": "markdown",
   "id": "ebb94b34-893b-47e9-93d0-4e66eab4ff49",
   "metadata": {},
   "source": [
    "##### Integrating"
   ]
  },
  {
   "cell_type": "markdown",
   "id": "72874a7f-8917-4ae9-acc2-9c9a8248b12e",
   "metadata": {},
   "source": [
    "The photonic advantage disappears because it is localised to a particular angle/wavelength range."
   ]
  },
  {
   "cell_type": "code",
   "execution_count": null,
   "id": "0aed56d7-e5dd-4cd8-959e-2aaa31f9db5f",
   "metadata": {},
   "outputs": [],
   "source": [
    "# %%capture --no-stdout --no-display\n",
    "# # ignore divide by zero warnings\n",
    "\n",
    "# angle_dmap[(\"A_per_oscillator\", \"restacked_ds\", \"max\", 0, 2, 0, \"inferno\", 10, 450, 45)]"
   ]
  },
  {
   "cell_type": "code",
   "execution_count": null,
   "id": "c6980e27-c361-46dc-ab15-572ef56c59ce",
   "metadata": {},
   "outputs": [],
   "source": [
    "# %%capture --no-stdout --no-display\n",
    "# # ignore divide by zero warnings\n",
    "\n",
    "# angle_dmap[\n",
    "#     (\"A_per_oscillator\", \"restacked_ds\", \"max\", -5, 2, 0, \"inferno\", 10, 450, 45)\n",
    "# ]"
   ]
  },
  {
   "cell_type": "code",
   "execution_count": null,
   "id": "e8d9b083-0552-46a8-87ff-7ce1bef3613e",
   "metadata": {
    "tags": []
   },
   "outputs": [],
   "source": [
    "%%capture --no-stdout --no-display\n",
    "# ignore divide by zero warnings\n",
    "\n",
    "angle_dmap[(\"A_per_oscillator\", \"restacked_ds\", \"max\", 5, 0, 0, \"inferno\", 10, 450, 45)]"
   ]
  },
  {
   "cell_type": "code",
   "execution_count": null,
   "id": "02ae376e-6df0-4e23-a036-00733f3c54a7",
   "metadata": {
    "tags": []
   },
   "outputs": [],
   "source": [
    "# comparison of the integrated and unintegrated RTA at normal incidence\n",
    "# params optimise R when integrated\n",
    "period = 270\n",
    "excitonic_layer_thickness = 60\n",
    "num_periods = 17\n",
    "\n",
    "params = dict(\n",
    "    period=period,\n",
    "    excitonic_layer_thickness=excitonic_layer_thickness,\n",
    "    num_periods=num_periods,\n",
    ")\n",
    "\n",
    "the_plot = (\n",
    "    compare_RTA_normal_vs_integrated(**params)\n",
    "    * lorentz_vlines([5], scale=1e-9)\n",
    "    * lorentz_vlines([0], scale=1e-9, label=\"resonance\")\n",
    ").opts(\n",
    "    opts.VLine(line_dash=\"dotted\", color=green),\n",
    "    opts.VLine(\"resonance\", line_dash=\"dotted\", color=yellow),\n",
    "    opts.Overlay(legend_position=\"right\"),\n",
    ")\n",
    "the_plot"
   ]
  },
  {
   "cell_type": "code",
   "execution_count": null,
   "id": "09a29e2b-c949-47ff-a9d0-34be922cf5b8",
   "metadata": {
    "tags": []
   },
   "outputs": [],
   "source": [
    "hv.save(the_plot, filename=fig_path/\"opt_Apo_max_5_0_0_45_RTA_c\", fmt=\"png\", toolbar=False)"
   ]
  },
  {
   "cell_type": "code",
   "execution_count": null,
   "id": "235bb066-a3d5-4d30-88eb-c1e5c8e76722",
   "metadata": {
    "tags": []
   },
   "outputs": [],
   "source": [
    "%%capture --no-stdout --no-display\n",
    "# ignore divide by zero warnings\n",
    "\n",
    "angle_dmap[(\"A_per_oscillator\", \"restacked_ds\", \"max\", 5, 2, 0, \"inferno\", 10, 450, 45)]"
   ]
  },
  {
   "cell_type": "code",
   "execution_count": null,
   "id": "5cfdb20e-00ee-46a5-ba02-d593de827ae4",
   "metadata": {
    "tags": []
   },
   "outputs": [],
   "source": [
    "# comparison of the integrated and unintegrated RTA at normal incidence\n",
    "# params optimise R when integrated\n",
    "period = 260\n",
    "excitonic_layer_thickness = 40\n",
    "num_periods = 8\n",
    "\n",
    "params = dict(\n",
    "    period=period,\n",
    "    excitonic_layer_thickness=excitonic_layer_thickness,\n",
    "    num_periods=num_periods,\n",
    ")\n",
    "\n",
    "the_plot = (\n",
    "    compare_RTA_normal_vs_integrated(**params)\n",
    "    * lorentz_vlines([3, 7], scale=1e-9)\n",
    "    * lorentz_vlines([0], scale=1e-9, label=\"resonance\")\n",
    "    * hv.VSpan(lorentz_line_wavelength(3) * 1e9, lorentz_line_wavelength(7) * 1e9)\n",
    ").opts(\n",
    "    opts.VLine(line_dash=\"dotted\", color=green),\n",
    "    opts.VLine(\"resonance\", line_dash=\"dotted\", color=yellow),\n",
    "    opts.VSpan(color=\"gray\", alpha=0.1),\n",
    "    opts.Overlay(legend_position=\"right\"),\n",
    ")\n",
    "the_plot"
   ]
  },
  {
   "cell_type": "code",
   "execution_count": null,
   "id": "75d9b4b5-7a54-4f17-9fd2-0f6aff8a79e2",
   "metadata": {
    "tags": []
   },
   "outputs": [],
   "source": [
    "hv.save(the_plot, filename=fig_path/\"opt_Apo_max_5_2_0_45_RTA_c\", fmt=\"png\", toolbar=False)"
   ]
  },
  {
   "cell_type": "markdown",
   "id": "5807ce77-d765-442d-888b-f9f249e470aa",
   "metadata": {
    "jp-MarkdownHeadingCollapsed": true,
    "tags": []
   },
   "source": [
    "## Difference factors"
   ]
  },
  {
   "cell_type": "markdown",
   "id": "ed8b155e-f32d-44a0-a863-04da04ba3bb7",
   "metadata": {
    "tags": []
   },
   "source": [
    "### Optimisation"
   ]
  },
  {
   "cell_type": "markdown",
   "id": "ea73d632-afa2-491b-8e79-17a63e847ae6",
   "metadata": {},
   "source": [
    "Can just reuse the dmaps from the RTA section, because difference factors integrate perfectly well."
   ]
  },
  {
   "cell_type": "code",
   "execution_count": null,
   "id": "32f180dd-1767-4fb4-a4e4-d252aeea8d31",
   "metadata": {},
   "outputs": [],
   "source": [
    "# # Use this to record interesting key sets\n",
    "# angle_dmap.current_key"
   ]
  },
  {
   "cell_type": "markdown",
   "id": "9732d9b5-8cf4-47d1-822f-93377d2d47d7",
   "metadata": {
    "tags": []
   },
   "source": [
    "### Transmittance difference factor"
   ]
  },
  {
   "cell_type": "markdown",
   "id": "3045642c-9fd4-4c73-beda-8f18b919ed0c",
   "metadata": {
    "tags": []
   },
   "source": [
    "#### Max (near)"
   ]
  },
  {
   "cell_type": "markdown",
   "id": "23d50dcf-7160-4334-83d8-e1dac698e543",
   "metadata": {
    "tags": []
   },
   "source": [
    "##### Normal incidence"
   ]
  },
  {
   "cell_type": "markdown",
   "id": "02b1b3fb-fe66-404b-a0d2-bd0a79a80589",
   "metadata": {},
   "source": [
    "At normal incidence and on resonance, optimal structure for maximising absorptance difference factor is similar to for absorptance enhancement factor. As the window width increases, the optimal total excitonic layer thickness also increases. The relevance of the slow light enhancement decreases relative to that of path length enhancement (see 0-5-0-0)."
   ]
  },
  {
   "cell_type": "code",
   "execution_count": null,
   "id": "836bc0f3-3976-4c63-ad38-a792e045c033",
   "metadata": {},
   "outputs": [],
   "source": [
    "# dmap[(\"T\", \"restacked_diff_1\", \"max\", 0, 0, 0, \"cividis\", 10, 450)]"
   ]
  },
  {
   "cell_type": "code",
   "execution_count": null,
   "id": "2f16d71d-127f-40da-8879-dca50499bf59",
   "metadata": {},
   "outputs": [],
   "source": [
    "# dmap[(\"T\", \"restacked_diff_1\", \"max\", 0, 2, 0, \"cividis\", 10, 450)]"
   ]
  },
  {
   "cell_type": "code",
   "execution_count": null,
   "id": "6232ef76-1b14-4214-97e0-873aa1a599e7",
   "metadata": {},
   "outputs": [],
   "source": [
    "# dmap[(\"T\", \"restacked_diff_1\", \"max\", 0, 5, 0, \"cividis\", 10, 450)]"
   ]
  },
  {
   "cell_type": "markdown",
   "id": "53d94156-adf1-438b-81da-a3d7612b0b12",
   "metadata": {
    "tags": []
   },
   "source": [
    "##### 30 degrees"
   ]
  },
  {
   "cell_type": "markdown",
   "id": "a158204b-e2cf-45f0-a9a7-ee8f2b7be10a",
   "metadata": {},
   "source": [
    "Higher angle = higher period, otherwise structure is similar."
   ]
  },
  {
   "cell_type": "code",
   "execution_count": null,
   "id": "87c41cc9-fe74-45a5-a23d-c1de5d0b17e1",
   "metadata": {},
   "outputs": [],
   "source": [
    "# angle_dmap[(\"T\", \"restacked_diff_1\", \"max\", 0, 0, 30, \"cividis\", 10, 450, 0)]"
   ]
  },
  {
   "cell_type": "code",
   "execution_count": null,
   "id": "ba8a1926-8080-4e89-9837-abee15030220",
   "metadata": {},
   "outputs": [],
   "source": [
    "# angle_dmap[(\"T\", \"restacked_diff_1\", \"max\", 0, 2, 30, \"cividis\", 10, 450, 0)]"
   ]
  },
  {
   "cell_type": "code",
   "execution_count": null,
   "id": "76b20e22-cef7-4b75-8ab3-905567b2be6d",
   "metadata": {},
   "outputs": [],
   "source": [
    "# angle_dmap[(\"T\", \"restacked_diff_1\", \"max\", 0, 5, 30, \"cividis\", 10, 450, 0)]"
   ]
  },
  {
   "cell_type": "markdown",
   "id": "566827c7-9a73-4c99-bfda-e6f4d34bcf24",
   "metadata": {
    "tags": []
   },
   "source": [
    "##### Integrated 0-45 degrees"
   ]
  },
  {
   "cell_type": "code",
   "execution_count": null,
   "id": "72bc88ee-402f-4c4e-b4c0-6c580a804197",
   "metadata": {},
   "outputs": [],
   "source": [
    "# %%capture --no-stdout --no-display\n",
    "# # ignore divide by zero warnings\n",
    "\n",
    "# angle_dmap[(\"T\", \"restacked_diff_1\", \"max\", 0, 0, 0, \"cividis\", 10, 450, 45)]"
   ]
  },
  {
   "cell_type": "code",
   "execution_count": null,
   "id": "197875da-20e0-4e88-bc30-1db760e887c4",
   "metadata": {},
   "outputs": [],
   "source": [
    "# %%capture --no-stdout --no-display\n",
    "# # ignore divide by zero warnings\n",
    "\n",
    "# angle_dmap[(\"T\", \"restacked_diff_1\", \"max\", 0, 2, 0, \"cividis\", 10, 450, 45)]"
   ]
  },
  {
   "cell_type": "code",
   "execution_count": null,
   "id": "3650fecf-ac13-48e7-a4e3-dbb63af1b7e7",
   "metadata": {},
   "outputs": [],
   "source": [
    "# %%capture --no-stdout --no-display\n",
    "# # ignore divide by zero warnings\n",
    "\n",
    "# angle_dmap[(\"T\", \"restacked_diff_1\", \"max\", 0, 5, 0, \"cividis\", 10, 450, 45)]"
   ]
  },
  {
   "cell_type": "markdown",
   "id": "08143d69-764f-46c7-87b7-41605b0a5b32",
   "metadata": {
    "tags": []
   },
   "source": [
    "#### Max (far)"
   ]
  },
  {
   "cell_type": "markdown",
   "id": "32eb5669-9954-4223-aab7-4a6f153e24a9",
   "metadata": {
    "tags": []
   },
   "source": [
    "##### Normal incidence"
   ]
  },
  {
   "cell_type": "code",
   "execution_count": null,
   "id": "4f2225f7-7366-4a0d-a726-66e87aa8e18f",
   "metadata": {},
   "outputs": [],
   "source": [
    "# dmap[(\"T\", \"restacked_diff_1\", \"max\", -5, 0, 0, \"cividis\", 10, 450)]"
   ]
  },
  {
   "cell_type": "code",
   "execution_count": null,
   "id": "a2e7c3d6-8896-4f35-8f40-29593ce7b135",
   "metadata": {},
   "outputs": [],
   "source": [
    "# dmap[(\"T\", \"restacked_diff_1\", \"max\", -5, 2, 0, \"cividis\", 10, 450)]"
   ]
  },
  {
   "cell_type": "code",
   "execution_count": null,
   "id": "134b1182-5db9-4f25-833b-817945c9d087",
   "metadata": {},
   "outputs": [],
   "source": [
    "# dmap[(\"T\", \"restacked_diff_1\", \"max\", 5, 0, 0, \"cividis\", 10, 450)]"
   ]
  },
  {
   "cell_type": "code",
   "execution_count": null,
   "id": "f9cc07c3-3889-4bdc-9247-71f8ac1ccc37",
   "metadata": {},
   "outputs": [],
   "source": [
    "# dmap[(\"T\", \"restacked_diff_1\", \"max\", 5, 2, 0, \"cividis\", 10, 450)]"
   ]
  },
  {
   "cell_type": "markdown",
   "id": "7f915a75-c8f0-481f-9321-59dd24a197c2",
   "metadata": {
    "tags": []
   },
   "source": [
    "##### 30 degrees"
   ]
  },
  {
   "cell_type": "code",
   "execution_count": null,
   "id": "2fda5225-dae4-4364-b391-cee45ed8710a",
   "metadata": {},
   "outputs": [],
   "source": [
    "# angle_dmap[(\"T\", \"restacked_diff_1\", \"max\", -5, 0, 30, \"cividis\", 10, 450, 0)]"
   ]
  },
  {
   "cell_type": "code",
   "execution_count": null,
   "id": "07904b78-b069-4f05-94d4-0e253c5153f2",
   "metadata": {},
   "outputs": [],
   "source": [
    "# angle_dmap[(\"T\", \"restacked_diff_1\", \"max\", -5, 2, 30, \"cividis\", 10, 450, 0)]"
   ]
  },
  {
   "cell_type": "code",
   "execution_count": null,
   "id": "27379e1a-f90f-4c75-9991-5655a12c0c81",
   "metadata": {},
   "outputs": [],
   "source": [
    "# angle_dmap[(\"T\", \"restacked_diff_1\", \"max\", 5, 0, 30, \"cividis\", 10, 450, 0)]"
   ]
  },
  {
   "cell_type": "code",
   "execution_count": null,
   "id": "2c8facfc-ace6-43ed-996b-94eec03fdb2c",
   "metadata": {},
   "outputs": [],
   "source": [
    "# angle_dmap[(\"T\", \"restacked_diff_1\", \"max\", 5, 2, 30, \"cividis\", 10, 450, 0)]"
   ]
  },
  {
   "cell_type": "markdown",
   "id": "c246b241-170d-43fb-8ebe-b9edbc94a556",
   "metadata": {
    "tags": []
   },
   "source": [
    "##### Integrated 0-45 degrees"
   ]
  },
  {
   "cell_type": "code",
   "execution_count": null,
   "id": "5ed5fc6c-72f6-40c8-859d-9c03a150d6f4",
   "metadata": {},
   "outputs": [],
   "source": [
    "# %%capture --no-stdout --no-display\n",
    "# # ignore divide by zero warnings\n",
    "\n",
    "# angle_dmap[(\"T\", \"restacked_diff_1\", \"max\", -5, 0, 0, \"cividis\", 10, 450, 45)]"
   ]
  },
  {
   "cell_type": "code",
   "execution_count": null,
   "id": "ea5efa69-eff2-4276-814c-13295cb259af",
   "metadata": {},
   "outputs": [],
   "source": [
    "# %%capture --no-stdout --no-display\n",
    "# # ignore divide by zero warnings\n",
    "\n",
    "# angle_dmap[(\"T\", \"restacked_diff_1\", \"max\", -5, 2, 0, \"cividis\", 10, 450, 45)]"
   ]
  },
  {
   "cell_type": "code",
   "execution_count": null,
   "id": "be95f6a9-2840-4020-959f-8737b8e29542",
   "metadata": {},
   "outputs": [],
   "source": [
    "# %%capture --no-stdout --no-display\n",
    "# # ignore divide by zero warnings\n",
    "\n",
    "# angle_dmap[(\"T\", \"restacked_diff_1\", \"max\", 5, 0, 0, \"cividis\", 10, 450, 45)]"
   ]
  },
  {
   "cell_type": "code",
   "execution_count": null,
   "id": "bc80508b-bbb2-451d-ad9e-5214fbbe14ba",
   "metadata": {},
   "outputs": [],
   "source": [
    "# %%capture --no-stdout --no-display\n",
    "# # ignore divide by zero warnings\n",
    "\n",
    "# angle_dmap[(\"T\", \"restacked_diff_1\", \"max\", 5, 2, 0, \"cividis\", 10, 450, 45)]"
   ]
  },
  {
   "cell_type": "markdown",
   "id": "689b4058-7ab5-4516-88d8-d1b5a64e17d0",
   "metadata": {
    "tags": []
   },
   "source": [
    "#### Min (near)"
   ]
  },
  {
   "cell_type": "markdown",
   "id": "bddd53c3-de69-40d0-a57b-c946125d36f3",
   "metadata": {
    "tags": []
   },
   "source": [
    "##### Normal incidence"
   ]
  },
  {
   "cell_type": "code",
   "execution_count": null,
   "id": "e63db188-23cd-4c7f-979d-7a21c4b40ce2",
   "metadata": {},
   "outputs": [],
   "source": [
    "# dmap[(\"T\", \"restacked_diff_1\", \"min\", 0, 0, 0, \"cividis\", 10, 450)]"
   ]
  },
  {
   "cell_type": "code",
   "execution_count": null,
   "id": "7a7d6432-0d82-4a49-ab89-e103ef206e4a",
   "metadata": {},
   "outputs": [],
   "source": [
    "# dmap[(\"T\", \"restacked_diff_1\", \"min\", 0, 2, 0, \"cividis\", 10, 450)]"
   ]
  },
  {
   "cell_type": "code",
   "execution_count": null,
   "id": "539b8c1e-eb57-4a10-9b64-5e3676d80b94",
   "metadata": {},
   "outputs": [],
   "source": [
    "# dmap[(\"T\", \"restacked_diff_1\", \"min\", 0, 5, 0, \"cividis\", 10, 450)]"
   ]
  },
  {
   "cell_type": "markdown",
   "id": "5efbc205-bc59-4f6a-b914-a8f0dd53a4f7",
   "metadata": {
    "tags": []
   },
   "source": [
    "##### 30 degrees"
   ]
  },
  {
   "cell_type": "code",
   "execution_count": null,
   "id": "8d982d37-6155-4997-b628-74b9beab5da5",
   "metadata": {},
   "outputs": [],
   "source": [
    "# angle_dmap[(\"T\", \"restacked_diff_1\", \"min\", 0, 0, 30, \"cividis\", 10, 450, 0)]"
   ]
  },
  {
   "cell_type": "code",
   "execution_count": null,
   "id": "db53dd41-eda2-4740-b05d-73dd2d70cad4",
   "metadata": {},
   "outputs": [],
   "source": [
    "# angle_dmap[(\"T\", \"restacked_diff_1\", \"min\", 0, 2, 30, \"cividis\", 10, 450, 0)]"
   ]
  },
  {
   "cell_type": "code",
   "execution_count": null,
   "id": "719c3d29-d08a-42ed-bbb9-df7dc08cfe11",
   "metadata": {},
   "outputs": [],
   "source": [
    "# angle_dmap[(\"T\", \"restacked_diff_1\", \"min\", 0, 5, 30, \"cividis\", 10, 450, 0)]"
   ]
  },
  {
   "cell_type": "markdown",
   "id": "2eccd5e7-7739-4378-9b33-2c54a78e548f",
   "metadata": {
    "tags": []
   },
   "source": [
    "##### Integrated 0-45 degrees"
   ]
  },
  {
   "cell_type": "code",
   "execution_count": null,
   "id": "551fb5ae-c0fe-44e8-a93b-dc8123915303",
   "metadata": {},
   "outputs": [],
   "source": [
    "# %%capture --no-stdout --no-display\n",
    "# # ignore divide by zero warnings\n",
    "\n",
    "# angle_dmap[(\"T\", \"restacked_diff_1\", \"min\", 0, 0, 0, \"cividis\", 10, 450, 45)]"
   ]
  },
  {
   "cell_type": "code",
   "execution_count": null,
   "id": "31b6d12e-cc5d-417c-9e8a-1afb72d829ea",
   "metadata": {},
   "outputs": [],
   "source": [
    "# %%capture --no-stdout --no-display\n",
    "# # ignore divide by zero warnings\n",
    "\n",
    "# angle_dmap[(\"T\", \"restacked_diff_1\", \"min\", 0, 2, 0, \"cividis\", 10, 450, 45)]"
   ]
  },
  {
   "cell_type": "code",
   "execution_count": null,
   "id": "f48369d4-60d8-46b3-a5f7-1b97d40393d3",
   "metadata": {},
   "outputs": [],
   "source": [
    "# %%capture --no-stdout --no-display\n",
    "# # ignore divide by zero warnings\n",
    "\n",
    "# angle_dmap[(\"T\", \"restacked_diff_1\", \"min\", 0, 5, 0, \"cividis\", 10, 450, 45)]"
   ]
  },
  {
   "cell_type": "markdown",
   "id": "10bd0bc2-a3d7-4883-be11-5ae178aa1537",
   "metadata": {
    "tags": []
   },
   "source": [
    "#### Min (far)"
   ]
  },
  {
   "cell_type": "markdown",
   "id": "280759fc-46f7-4573-b7c2-eafce2a05180",
   "metadata": {
    "tags": []
   },
   "source": [
    "##### Normal incidence"
   ]
  },
  {
   "cell_type": "code",
   "execution_count": null,
   "id": "46efec7a-f1dd-4274-acf2-006dbb16ab4e",
   "metadata": {},
   "outputs": [],
   "source": [
    "# dmap[(\"T\", \"restacked_diff_1\", \"min\", -5, 0, 0, \"cividis\", 10, 450)]"
   ]
  },
  {
   "cell_type": "code",
   "execution_count": null,
   "id": "84ccc512-42cd-47cb-a854-155f52a76b27",
   "metadata": {},
   "outputs": [],
   "source": [
    "# dmap[(\"T\", \"restacked_diff_1\", \"min\", -5, 2, 0, \"cividis\", 10, 450)]"
   ]
  },
  {
   "cell_type": "code",
   "execution_count": null,
   "id": "925587bb-4fcc-4be9-8671-cd96a9710236",
   "metadata": {},
   "outputs": [],
   "source": [
    "# dmap[(\"T\", \"restacked_diff_1\", \"min\", 5, 0, 0, \"cividis\", 10, 450)]"
   ]
  },
  {
   "cell_type": "code",
   "execution_count": null,
   "id": "76951092-8657-413c-899f-593f120cce1c",
   "metadata": {},
   "outputs": [],
   "source": [
    "# dmap[(\"T\", \"restacked_diff_1\", \"min\", 5, 2, 0, \"cividis\", 10, 450)]"
   ]
  },
  {
   "cell_type": "markdown",
   "id": "0ec1dd9f-e009-409f-b648-ebf88989e69d",
   "metadata": {
    "tags": []
   },
   "source": [
    "##### 30 degrees"
   ]
  },
  {
   "cell_type": "code",
   "execution_count": null,
   "id": "cbeb2390-4a31-4a8f-ab4a-4cfe8d15c6cd",
   "metadata": {},
   "outputs": [],
   "source": [
    "# angle_dmap[(\"T\", \"restacked_diff_1\", \"min\", -5, 0, 30, \"cividis\", 10, 450, 0)]"
   ]
  },
  {
   "cell_type": "code",
   "execution_count": null,
   "id": "3b4cf1b5-b12c-4a70-80a3-3e500c9f7dad",
   "metadata": {},
   "outputs": [],
   "source": [
    "# angle_dmap[(\"T\", \"restacked_diff_1\", \"min\", -5, 2, 30, \"cividis\", 10, 450, 0)]"
   ]
  },
  {
   "cell_type": "code",
   "execution_count": null,
   "id": "49cf4367-96ca-4baf-b11a-abe9e38df535",
   "metadata": {},
   "outputs": [],
   "source": [
    "# angle_dmap[(\"T\", \"restacked_diff_1\", \"min\", 5, 0, 30, \"cividis\", 10, 450, 0)]"
   ]
  },
  {
   "cell_type": "code",
   "execution_count": null,
   "id": "6bee16d1-1347-4ab8-8664-0a5ecc4ef235",
   "metadata": {},
   "outputs": [],
   "source": [
    "# angle_dmap[(\"T\", \"restacked_diff_1\", \"min\", 5, 2, 30, \"cividis\", 10, 450, 0)]"
   ]
  },
  {
   "cell_type": "markdown",
   "id": "c0841878-b881-4d7a-9e05-ddca923bb144",
   "metadata": {
    "tags": []
   },
   "source": [
    "##### Integrated 0-45 degrees"
   ]
  },
  {
   "cell_type": "code",
   "execution_count": null,
   "id": "a4dcbf9f-40c1-4df8-898d-892364c1838d",
   "metadata": {},
   "outputs": [],
   "source": [
    "# %%capture --no-stdout --no-display\n",
    "# # ignore divide by zero warnings\n",
    "\n",
    "# angle_dmap[(\"T\", \"restacked_diff_1\", \"min\", -5, 0, 0, \"cividis\", 10, 450, 45)]"
   ]
  },
  {
   "cell_type": "code",
   "execution_count": null,
   "id": "a43c2363-c431-421d-8bb4-442ffeb95d92",
   "metadata": {},
   "outputs": [],
   "source": [
    "# %%capture --no-stdout --no-display\n",
    "# # ignore divide by zero warnings\n",
    "\n",
    "# angle_dmap[(\"T\", \"restacked_diff_1\", \"min\", -5, 2, 0, \"cividis\", 10, 450, 45)]"
   ]
  },
  {
   "cell_type": "code",
   "execution_count": null,
   "id": "606a55fd-610a-47ba-9daa-17f247416289",
   "metadata": {},
   "outputs": [],
   "source": [
    "# %%capture --no-stdout --no-display\n",
    "# # ignore divide by zero warnings\n",
    "\n",
    "# angle_dmap[(\"T\", \"restacked_diff_1\", \"min\", 5, 0, 0, \"cividis\", 10, 450, 45)]"
   ]
  },
  {
   "cell_type": "code",
   "execution_count": null,
   "id": "3a35dbd6-5869-48c9-bde4-42ebf91d0454",
   "metadata": {},
   "outputs": [],
   "source": [
    "# %%capture --no-stdout --no-display\n",
    "# # ignore divide by zero warnings\n",
    "\n",
    "# angle_dmap[(\"T\", \"restacked_diff_1\", \"min\", 5, 2, 0, \"cividis\", 10, 450, 45)]"
   ]
  },
  {
   "cell_type": "markdown",
   "id": "1ee83f7b-2547-4bc3-b912-10c7ec134464",
   "metadata": {
    "tags": []
   },
   "source": [
    "### Absorptance difference factor"
   ]
  },
  {
   "cell_type": "markdown",
   "id": "aab1479e-faab-4266-a88c-5dd40b807f3d",
   "metadata": {
    "tags": []
   },
   "source": [
    "#### Max (near)"
   ]
  },
  {
   "cell_type": "markdown",
   "id": "4e0fe759-bee7-482c-9899-4fa6f1ffc5d8",
   "metadata": {
    "tags": []
   },
   "source": [
    "##### Normal incidence"
   ]
  },
  {
   "cell_type": "markdown",
   "id": "0e238c4a-471d-43f5-90d2-b2c8630c753f",
   "metadata": {},
   "source": [
    "At normal incidence and on resonance, optimal structure for maximising absorptance difference factor is similar to for absorptance enhancement factor. As the window width increases, the optimal total excitonic layer thickness also increases. The relevance of the slow light enhancement decreases relative to that of path length enhancement (see 0-5-0-0)."
   ]
  },
  {
   "cell_type": "code",
   "execution_count": null,
   "id": "f73bafaf-ad0b-4322-85b3-b8e2ab0a8eda",
   "metadata": {},
   "outputs": [],
   "source": [
    "# dmap[(\"A\", \"restacked_diff_1\", \"max\", 0, 0, 0, \"inferno\", 10, 450)]"
   ]
  },
  {
   "cell_type": "code",
   "execution_count": null,
   "id": "a6fa2433-161e-409e-aa9f-8ba627fe9fb0",
   "metadata": {},
   "outputs": [],
   "source": [
    "# dmap[(\"A\", \"restacked_diff_1\", \"max\", 0, 2, 0, \"inferno\", 10, 450)]"
   ]
  },
  {
   "cell_type": "code",
   "execution_count": null,
   "id": "431de8d6-e785-4071-afb9-629f08369f1b",
   "metadata": {},
   "outputs": [],
   "source": [
    "# dmap[(\"A\", \"restacked_diff_1\", \"max\", 0, 5, 0, \"inferno\", 10, 450)]"
   ]
  },
  {
   "cell_type": "markdown",
   "id": "17d2a4b2-8fc1-439f-a66b-a5a1f172d709",
   "metadata": {
    "tags": []
   },
   "source": [
    "##### 30 degrees"
   ]
  },
  {
   "cell_type": "markdown",
   "id": "59b7839e-a823-4745-9094-710e3c8fd211",
   "metadata": {},
   "source": [
    "Higher angle = higher period, otherwise structure is similar."
   ]
  },
  {
   "cell_type": "code",
   "execution_count": null,
   "id": "b4ea5067-ec60-4f72-bf37-b78065e1f084",
   "metadata": {},
   "outputs": [],
   "source": [
    "# angle_dmap[(\"A\", \"restacked_diff_1\", \"max\", 0, 0, 30, \"inferno\", 10, 450, 0)]"
   ]
  },
  {
   "cell_type": "code",
   "execution_count": null,
   "id": "e0cab150-b5ba-42ad-a25d-61f2b3ef637d",
   "metadata": {
    "tags": []
   },
   "outputs": [],
   "source": [
    "# angle_dmap[(\"A\", \"restacked_diff_1\", \"max\", 0, 2, 30, \"inferno\", 10, 450, 0)]"
   ]
  },
  {
   "cell_type": "code",
   "execution_count": null,
   "id": "dbecf3e6-00c8-43e2-a235-03a96a0c9b4f",
   "metadata": {},
   "outputs": [],
   "source": [
    "# angle_dmap[(\"A\", \"restacked_diff_1\", \"max\", 0, 5, 30, \"inferno\", 10, 450, 0)]"
   ]
  },
  {
   "cell_type": "markdown",
   "id": "39a87f6b-9805-4841-9544-0ebd3a44f7c4",
   "metadata": {
    "tags": []
   },
   "source": [
    "##### Integrated 0-45 degrees"
   ]
  },
  {
   "cell_type": "code",
   "execution_count": null,
   "id": "ae62c19e-b006-463f-8892-705f002bf21a",
   "metadata": {},
   "outputs": [],
   "source": [
    "# %%capture --no-stdout --no-display\n",
    "# # ignore divide by zero warnings\n",
    "\n",
    "# angle_dmap[(\"A\", \"restacked_diff_1\", \"max\", 0, 0, 0, \"inferno\", 10, 450, 45)]"
   ]
  },
  {
   "cell_type": "code",
   "execution_count": null,
   "id": "737b62c3-9f1d-49c5-9594-24bdcc7718d8",
   "metadata": {},
   "outputs": [],
   "source": [
    "# %%capture --no-stdout --no-display\n",
    "# # ignore divide by zero warnings\n",
    "\n",
    "# angle_dmap[(\"A\", \"restacked_diff_1\", \"max\", 0, 2, 0, \"inferno\", 10, 450, 45)]"
   ]
  },
  {
   "cell_type": "code",
   "execution_count": null,
   "id": "876955a7-1807-4727-9a34-b4e87077a9ee",
   "metadata": {},
   "outputs": [],
   "source": [
    "# %%capture --no-stdout --no-display\n",
    "# # ignore divide by zero warnings\n",
    "\n",
    "# angle_dmap[(\"A\", \"restacked_diff_1\", \"max\", 0, 5, 0, \"inferno\", 10, 450, 45)]"
   ]
  },
  {
   "cell_type": "markdown",
   "id": "100897b4-cbe6-4afc-8fd2-55fd6619c5d8",
   "metadata": {
    "tags": []
   },
   "source": [
    "#### Max (far)"
   ]
  },
  {
   "cell_type": "markdown",
   "id": "7b3e4958-3427-477b-9406-9f066a106328",
   "metadata": {
    "tags": []
   },
   "source": [
    "##### Normal incidence"
   ]
  },
  {
   "cell_type": "code",
   "execution_count": null,
   "id": "59541d6e-9f40-4496-9741-9af1c5bf7b53",
   "metadata": {},
   "outputs": [],
   "source": [
    "# dmap[(\"A\", \"restacked_diff_1\", \"max\", -5, 0, 0, \"inferno\", 10, 450)]"
   ]
  },
  {
   "cell_type": "code",
   "execution_count": null,
   "id": "cb846067-db75-4850-bc07-dc42d8bec240",
   "metadata": {},
   "outputs": [],
   "source": [
    "# dmap[(\"A\", \"restacked_diff_1\", \"max\", -5, 2, 0, \"inferno\", 10, 450)]"
   ]
  },
  {
   "cell_type": "code",
   "execution_count": null,
   "id": "e5430af5-6f2c-416b-ba81-22f2d541b051",
   "metadata": {},
   "outputs": [],
   "source": [
    "# dmap[(\"A\", \"restacked_diff_1\", \"max\", 5, 0, 0, \"inferno\", 10, 450)]"
   ]
  },
  {
   "cell_type": "code",
   "execution_count": null,
   "id": "e7b6f805-00da-454f-8fb1-669167517334",
   "metadata": {},
   "outputs": [],
   "source": [
    "# dmap[(\"A\", \"restacked_diff_1\", \"max\", 5, 2, 0, \"inferno\", 10, 450)]"
   ]
  },
  {
   "cell_type": "markdown",
   "id": "48b45986-d484-4a14-a951-e56335d27260",
   "metadata": {
    "tags": []
   },
   "source": [
    "##### 30 degrees"
   ]
  },
  {
   "cell_type": "code",
   "execution_count": null,
   "id": "49f44855-c440-4f81-a95a-5c37a864be7a",
   "metadata": {},
   "outputs": [],
   "source": [
    "# angle_dmap[(\"A\", \"restacked_diff_1\", \"max\", -5, 0, 30, \"inferno\", 10, 450, 0)]"
   ]
  },
  {
   "cell_type": "code",
   "execution_count": null,
   "id": "72c6d9b0-25ff-4a31-8042-6c713875585d",
   "metadata": {},
   "outputs": [],
   "source": [
    "# angle_dmap[(\"A\", \"restacked_diff_1\", \"max\", -5, 2, 30, \"inferno\", 10, 450, 0)]"
   ]
  },
  {
   "cell_type": "code",
   "execution_count": null,
   "id": "03132ae3-b5b7-4445-8071-6adc665ef1de",
   "metadata": {},
   "outputs": [],
   "source": [
    "# angle_dmap[(\"A\", \"restacked_diff_1\", \"max\", 5, 0, 30, \"inferno\", 10, 450, 0)]"
   ]
  },
  {
   "cell_type": "code",
   "execution_count": null,
   "id": "eceb10a1-432a-4d6f-b1a9-b6a99e977e67",
   "metadata": {},
   "outputs": [],
   "source": [
    "# angle_dmap[(\"A\", \"restacked_diff_1\", \"max\", 5, 2, 30, \"inferno\", 10, 450, 0)]"
   ]
  },
  {
   "cell_type": "markdown",
   "id": "977a8cc9-888e-4668-a6b2-eae60f4fd7c5",
   "metadata": {
    "tags": []
   },
   "source": [
    "##### Integrated 0-45 degrees"
   ]
  },
  {
   "cell_type": "code",
   "execution_count": null,
   "id": "be39c938-5f94-4010-a806-237c04da8898",
   "metadata": {},
   "outputs": [],
   "source": [
    "# %%capture --no-stdout --no-display\n",
    "# # ignore divide by zero warnings\n",
    "\n",
    "# angle_dmap[(\"A\", \"restacked_diff_1\", \"max\", -5, 0, 0, \"inferno\", 10, 450, 45)]"
   ]
  },
  {
   "cell_type": "code",
   "execution_count": null,
   "id": "19d01610-810c-4e4c-b8db-a04c3c9edf2b",
   "metadata": {
    "tags": []
   },
   "outputs": [],
   "source": [
    "# %%capture --no-stdout --no-display\n",
    "# # ignore divide by zero warnings\n",
    "\n",
    "# angle_dmap[(\"A\", \"restacked_diff_1\", \"max\", -5, 2, 0, \"inferno\", 10, 450, 45)]"
   ]
  },
  {
   "cell_type": "code",
   "execution_count": null,
   "id": "783d841e-0649-4b67-ac73-ce02ae763743",
   "metadata": {},
   "outputs": [],
   "source": [
    "# %%capture --no-stdout --no-display\n",
    "# # ignore divide by zero warnings\n",
    "\n",
    "# angle_dmap[(\"A\", \"restacked_diff_1\", \"max\", 5, 0, 0, \"inferno\", 10, 450, 45)]"
   ]
  },
  {
   "cell_type": "code",
   "execution_count": null,
   "id": "237cfd84-afed-4ca9-8442-c873eabeb57b",
   "metadata": {},
   "outputs": [],
   "source": [
    "# %%capture --no-stdout --no-display\n",
    "# # ignore divide by zero warnings\n",
    "\n",
    "# angle_dmap[(\"A\", \"restacked_diff_1\", \"max\", 5, 2, 0, \"inferno\", 10, 450, 45)]"
   ]
  },
  {
   "cell_type": "markdown",
   "id": "55c55a06-58ed-4081-b94d-a31e88392177",
   "metadata": {
    "tags": []
   },
   "source": [
    "#### Min (near)"
   ]
  },
  {
   "cell_type": "markdown",
   "id": "563d19a8-e393-4b72-8002-47a3cd402ab2",
   "metadata": {
    "tags": []
   },
   "source": [
    "##### Normal incidence"
   ]
  },
  {
   "cell_type": "code",
   "execution_count": null,
   "id": "2ec25d3d-c05e-40e6-af34-9fab7bd36e6c",
   "metadata": {},
   "outputs": [],
   "source": [
    "# dmap[(\"A\", \"restacked_diff_1\", \"min\", 0, 0, 0, \"inferno\", 10, 450)]"
   ]
  },
  {
   "cell_type": "code",
   "execution_count": null,
   "id": "192cf0f1-e7ef-44e8-a417-103427a660e7",
   "metadata": {},
   "outputs": [],
   "source": [
    "# dmap[(\"A\", \"restacked_diff_1\", \"min\", 0, 2, 0, \"inferno\", 10, 450)]"
   ]
  },
  {
   "cell_type": "code",
   "execution_count": null,
   "id": "9ffe182f-c6d5-40c2-8bf3-f7f407aa03fe",
   "metadata": {},
   "outputs": [],
   "source": [
    "# dmap[(\"A\", \"restacked_diff_1\", \"min\", 0, 5, 0, \"inferno\", 10, 450)]"
   ]
  },
  {
   "cell_type": "markdown",
   "id": "e1ece6c8-21da-4606-bfbf-cc3d38d4a53a",
   "metadata": {
    "tags": []
   },
   "source": [
    "##### 30 degrees"
   ]
  },
  {
   "cell_type": "code",
   "execution_count": null,
   "id": "b7140acc-64d3-45ce-adf6-0297170ac83a",
   "metadata": {},
   "outputs": [],
   "source": [
    "# angle_dmap[(\"A\", \"restacked_diff_1\", \"min\", 0, 0, 30, \"inferno\", 10, 450, 0)]"
   ]
  },
  {
   "cell_type": "code",
   "execution_count": null,
   "id": "23866ef8-3310-424f-a2be-040a2ec2d521",
   "metadata": {},
   "outputs": [],
   "source": [
    "# angle_dmap[(\"A\", \"restacked_diff_1\", \"min\", 0, 2, 30, \"inferno\", 10, 450, 0)]"
   ]
  },
  {
   "cell_type": "code",
   "execution_count": null,
   "id": "cf225e8c-ed45-4d92-8ca8-5af73120fac6",
   "metadata": {},
   "outputs": [],
   "source": [
    "# angle_dmap[(\"A\", \"restacked_diff_1\", \"min\", 0, 5, 30, \"inferno\", 10, 450, 0)]"
   ]
  },
  {
   "cell_type": "markdown",
   "id": "afcbe58d-4bb2-4c83-80ae-63921585af66",
   "metadata": {
    "tags": []
   },
   "source": [
    "##### Integrated 0-45 degrees"
   ]
  },
  {
   "cell_type": "code",
   "execution_count": null,
   "id": "df420ca8-aa9f-4f1b-a90e-a16c25b15dd6",
   "metadata": {},
   "outputs": [],
   "source": [
    "# %%capture --no-stdout --no-display\n",
    "# # ignore divide by zero warnings\n",
    "\n",
    "# angle_dmap[(\"A\", \"restacked_diff_1\", \"min\", 0, 0, 0, \"inferno\", 10, 450, 45)]"
   ]
  },
  {
   "cell_type": "code",
   "execution_count": null,
   "id": "3a52739d-31c1-466a-b8d3-1ca4b8e4ba0d",
   "metadata": {},
   "outputs": [],
   "source": [
    "# %%capture --no-stdout --no-display\n",
    "# # ignore divide by zero warnings\n",
    "\n",
    "# angle_dmap[(\"A\", \"restacked_diff_1\", \"min\", 0, 2, 0, \"inferno\", 10, 450, 45)]"
   ]
  },
  {
   "cell_type": "code",
   "execution_count": null,
   "id": "5a92679f-87d0-4ef8-a937-626e03cabc41",
   "metadata": {},
   "outputs": [],
   "source": [
    "# %%capture --no-stdout --no-display\n",
    "# # ignore divide by zero warnings\n",
    "\n",
    "# angle_dmap[(\"A\", \"restacked_diff_1\", \"min\", 0, 5, 0, \"inferno\", 10, 450, 45)]"
   ]
  },
  {
   "cell_type": "markdown",
   "id": "e5f69ce6-b805-43ad-a918-c0e2b7edf9ff",
   "metadata": {
    "tags": []
   },
   "source": [
    "#### Min (far)"
   ]
  },
  {
   "cell_type": "markdown",
   "id": "a8f645e2-d122-43a3-a6d6-b27d975851cf",
   "metadata": {
    "tags": []
   },
   "source": [
    "##### Normal incidence"
   ]
  },
  {
   "cell_type": "code",
   "execution_count": null,
   "id": "4ce884a0-b596-4a96-a0f5-c61ee785ed00",
   "metadata": {},
   "outputs": [],
   "source": [
    "# dmap[(\"A\", \"restacked_diff_1\", \"min\", -5, 0, 0, \"inferno\", 10, 450)]"
   ]
  },
  {
   "cell_type": "code",
   "execution_count": null,
   "id": "adb087e0-1276-4c3f-86e7-1a85f52fccdd",
   "metadata": {},
   "outputs": [],
   "source": [
    "# dmap[(\"A\", \"restacked_diff_1\", \"min\", -5, 2, 0, \"inferno\", 10, 450)]"
   ]
  },
  {
   "cell_type": "code",
   "execution_count": null,
   "id": "94083c8a-9096-423f-82ef-3e7eeca8d322",
   "metadata": {},
   "outputs": [],
   "source": [
    "# dmap[(\"A\", \"restacked_diff_1\", \"min\", 5, 0, 0, \"inferno\", 10, 450)]"
   ]
  },
  {
   "cell_type": "code",
   "execution_count": null,
   "id": "610c6552-43d3-4d86-8f3a-9988c9be7cf9",
   "metadata": {},
   "outputs": [],
   "source": [
    "# dmap[(\"A\", \"restacked_diff_1\", \"min\", 5, 2, 0, \"inferno\", 10, 450)]"
   ]
  },
  {
   "cell_type": "markdown",
   "id": "668e027c-d3c4-4687-8b07-1f0189856eed",
   "metadata": {
    "tags": []
   },
   "source": [
    "##### 30 degrees"
   ]
  },
  {
   "cell_type": "code",
   "execution_count": null,
   "id": "18cd17ed-ed33-40de-ac12-1abb319d8e93",
   "metadata": {},
   "outputs": [],
   "source": [
    "# angle_dmap[(\"A\", \"restacked_diff_1\", \"min\", -5, 0, 30, \"inferno\", 10, 450, 0)]"
   ]
  },
  {
   "cell_type": "code",
   "execution_count": null,
   "id": "2572d7d5-f5f4-465c-8478-b975cec4c9ef",
   "metadata": {},
   "outputs": [],
   "source": [
    "# angle_dmap[(\"A\", \"restacked_diff_1\", \"min\", -5, 2, 30, \"inferno\", 10, 450, 0)]"
   ]
  },
  {
   "cell_type": "code",
   "execution_count": null,
   "id": "b53315f1-bbee-45ce-a2a0-044a23528d48",
   "metadata": {},
   "outputs": [],
   "source": [
    "# angle_dmap[(\"A\", \"restacked_diff_1\", \"min\", 5, 0, 30, \"inferno\", 10, 450, 0)]"
   ]
  },
  {
   "cell_type": "code",
   "execution_count": null,
   "id": "60acbff5-69f9-4073-9f0f-d2d7a8571139",
   "metadata": {
    "tags": []
   },
   "outputs": [],
   "source": [
    "# angle_dmap[(\"A\", \"restacked_diff_1\", \"min\", 5, 2, 30, \"inferno\", 10, 450, 0)]"
   ]
  },
  {
   "cell_type": "markdown",
   "id": "e6abb8d5-6087-497a-8582-4b994e48b11a",
   "metadata": {
    "tags": []
   },
   "source": [
    "##### Integrated 0-45 degrees"
   ]
  },
  {
   "cell_type": "code",
   "execution_count": null,
   "id": "5507bbcc-c119-4f2a-9dc5-d6b7085ccfd9",
   "metadata": {},
   "outputs": [],
   "source": [
    "# %%capture --no-stdout --no-display\n",
    "# # ignore divide by zero warnings\n",
    "\n",
    "# angle_dmap[(\"A\", \"restacked_diff_1\", \"min\", -5, 0, 0, \"inferno\", 10, 450, 45)]"
   ]
  },
  {
   "cell_type": "code",
   "execution_count": null,
   "id": "f433069a-9125-4919-b718-41b8d0b79f67",
   "metadata": {},
   "outputs": [],
   "source": [
    "# %%capture --no-stdout --no-display\n",
    "# # ignore divide by zero warnings\n",
    "\n",
    "# angle_dmap[(\"A\", \"restacked_diff_1\", \"min\", -5, 2, 0, \"inferno\", 10, 450, 45)]"
   ]
  },
  {
   "cell_type": "code",
   "execution_count": null,
   "id": "905b2662-df7f-4db8-8f34-aea766d82c59",
   "metadata": {},
   "outputs": [],
   "source": [
    "# %%capture --no-stdout --no-display\n",
    "# # ignore divide by zero warnings\n",
    "\n",
    "# angle_dmap[(\"A\", \"restacked_diff_1\", \"min\", 5, 0, 0, \"inferno\", 10, 450, 45)]"
   ]
  },
  {
   "cell_type": "code",
   "execution_count": null,
   "id": "bd8708b0-5bad-4b12-b2a4-2d0d4404368c",
   "metadata": {},
   "outputs": [],
   "source": [
    "# %%capture --no-stdout --no-display\n",
    "# # ignore divide by zero warnings\n",
    "\n",
    "# angle_dmap[(\"A\", \"restacked_diff_1\", \"min\", 5, 2, 0, \"inferno\", 10, 450, 45)]"
   ]
  },
  {
   "cell_type": "markdown",
   "id": "ce326f89-e9e3-46e0-bf73-9c99faff4d8d",
   "metadata": {
    "jp-MarkdownHeadingCollapsed": true,
    "tags": []
   },
   "source": [
    "## Enhancement factors"
   ]
  },
  {
   "cell_type": "markdown",
   "id": "95fdfc8d-5b37-402b-b2f9-ed619825c290",
   "metadata": {
    "tags": []
   },
   "source": [
    "### Optimisation"
   ]
  },
  {
   "cell_type": "code",
   "execution_count": null,
   "id": "0e2085fe-fa89-4935-b9fa-7ffaaa36deb1",
   "metadata": {
    "tags": []
   },
   "outputs": [],
   "source": [
    "# def wrapped_2D_ef_plot(\n",
    "#     variable,\n",
    "#     dataset,\n",
    "#     ref,\n",
    "#     optimise=\"max\",\n",
    "#     lorentz_line=0,\n",
    "#     window_radius=0,\n",
    "#     theta=0,\n",
    "#     cmap=\"viridis\",\n",
    "#     period_start=None,\n",
    "#     period_stop=None,\n",
    "#     integrate_angle: float = None,\n",
    "#     extra_plots=[\"RTA_normal\", \"RTA_int\", \"norm_1_normal\", \"norm_1_int\"],\n",
    "#     dim=None,  # automatically assign if dataset recognised\n",
    "#     save_figs=True,\n",
    "#     restack_ef=None,\n",
    "#     common_dim=None,\n",
    "# ):\n",
    "#     plots = []\n",
    "\n",
    "#     # detect string labels\n",
    "#     if str(dataset) == \"ds\":\n",
    "#         # the drop_sel is important for avoiding the most common degenerate cases\n",
    "#         dataset = ds.drop_sel({\"excitonic_layer_thickness\": 0})\n",
    "\n",
    "#     if str(ref) == \"crs_1\":\n",
    "#         ref = crs_1\n",
    "#         common_dim = \"total_excitonic_thickness\"\n",
    "\n",
    "#     if str(dataset) == \"frs_1\":\n",
    "#         ref = frs_1\n",
    "#         common_dim = \"total_thickness\"\n",
    "\n",
    "#     match dim:  # if restack is the default value, automatically set it\n",
    "#         case \"period\":\n",
    "#             restack_ef = True if restack_ef is None else restack_ef\n",
    "#         case \"passive_layer_thickness\":\n",
    "#             restack_ef = False if restack_ef is None else restack_ef\n",
    "#     integration_dims = []\n",
    "#     vline_locs = [0]\n",
    "\n",
    "#     da = dataset[variable]\n",
    "#     ra = ref[variable]\n",
    "\n",
    "#     da = select_lorentz_line(da, lorentz_line=lorentz_line, window_radius=window_radius)\n",
    "#     ra = select_lorentz_line(ra, lorentz_line=lorentz_line, window_radius=window_radius)\n",
    "\n",
    "#     if window_radius == 0:\n",
    "#         wavelength = float(da.wavelength)\n",
    "#         title = f\"{optimise.capitalize()}imum {variable} enhancement factor at {wavelength:.0f} nm\"\n",
    "#         if lorentz_line != 0:  # don't put two lines over the resonance\n",
    "#             vline_locs.append(lorentz_line)\n",
    "#     else:\n",
    "#         wavelength_start = float(da.wavelength[0])\n",
    "#         wavelength_stop = float(da.wavelength[-1])\n",
    "#         title = f\"{optimise.capitalize()}imum integrated {variable} enhancement factor between {wavelength_start:.0f} and {wavelength_stop:.0f} nm\"\n",
    "#         vline_locs.append(lorentz_line - window_radius)\n",
    "#         vline_locs.append(lorentz_line + window_radius)\n",
    "#         integration_dims.append(\"wavelength\")\n",
    "\n",
    "#     if integrate_angle:  # integrate angle should be a float\n",
    "#         th = (theta, integrate_angle)\n",
    "#         da = da.sel(theta=slice(*th))\n",
    "#         ra = ra.sel(theta=slice(*th))\n",
    "#         integration_dims.append(\"theta\")\n",
    "#     else:  # this includes if integrate_angle==0, which is hacky but fine\n",
    "#         da = da.sel(theta=theta, method=\"nearest\")\n",
    "#         ra = ra.sel(theta=theta, method=\"nearest\")\n",
    "#         th = theta\n",
    "\n",
    "#     if integration_dims:  # if the list isn't empty\n",
    "#         da = integrate_da(da, integration_dims, weighting=1, normalisation=None)\n",
    "#         ra = integrate_da(ra, integration_dims, weighting=1, normalisation=None)\n",
    "\n",
    "#     norm = enhancement_factor(ds=da, ref=ra, common_dim=common_dim, method=\"groupby\")\n",
    "\n",
    "#     if (\n",
    "#         window_radius == 0 and not integrate_angle\n",
    "#     ):  # if the precalculated norm_1 dataset will suffice\n",
    "#         norm = norm_1[variable].drop_sel(\n",
    "#             {\"excitonic_layer_thickness\": 0}\n",
    "#         )  # then use it instead\n",
    "#         norm = select_lorentz_line(\n",
    "#             norm, lorentz_line=lorentz_line, window_radius=window_radius\n",
    "#         )\n",
    "#         norm = norm.sel(theta=theta, method=\"nearest\")\n",
    "\n",
    "#     match restack_ef:\n",
    "#         case True:\n",
    "#             norm = restack_plt_to_period(norm)\n",
    "\n",
    "#     if period_start < period_stop:\n",
    "#         norm = norm.sel(period=slice(period_start, period_stop))\n",
    "#     else:  # otherwise no data is selected and everything breaks\n",
    "#         norm = norm.sel(period=slice(period_start, None))\n",
    "\n",
    "#     plot_1, optimum_coords = plot_optimum_over_dim(\n",
    "#         norm,\n",
    "#         dim=dim,\n",
    "#         x=\"excitonic_layer_thickness\",\n",
    "#         y=\"num_periods\",\n",
    "#         optimise=optimise,\n",
    "#     )\n",
    "#     ############################################# code above is fresh, below is stale\n",
    "#     P = float(optimum_coords[\"period\"])\n",
    "#     t = float(optimum_coords[\"excitonic_layer_thickness\"])\n",
    "#     N = float(optimum_coords[\"num_periods\"])\n",
    "#     # try:  # this should work if not integrating over theta\n",
    "#     #     th = float(optimum_coords[\"theta\"])\n",
    "#     # except:  # probably the problem is that theta doesn't exist because I integrated over it already\n",
    "#     #     th = (theta, integrate_angle)\n",
    "#     lorentz_lines = lorentz_vlines(vline_locs, scale=1e-9, mode=\"wavelength\").opts(\n",
    "#         opts.VLine(line_color=green, line_dash=\"dotted\"),\n",
    "#     )\n",
    "\n",
    "#     # give the resonance line a special colour\n",
    "#     lorentz_lines.VLine.I.opts(opts.VLine(line_color=yellow))\n",
    "\n",
    "#     plot_1.opts(\n",
    "#         opts.QuadMesh(cmap=cmap, xlabel=r\"\\(d_e\\ \\text{(nm)}\\)\"),\n",
    "#         opts.Points(color=\"red\"),\n",
    "#         opts.Overlay(\n",
    "#             # title=f\"{title}\\nOptimal period: {P:.0f}\",\n",
    "#             title=\"\"\n",
    "#         ),\n",
    "#     )\n",
    "\n",
    "#     plots.append(plot_1)\n",
    "#     if save_figs:\n",
    "#         export_png(\n",
    "#             hv.render(plot_1.options(toolbar=None)),\n",
    "#             filename=fig_path\n",
    "#             / f\"opt_{variable}ef_{optimise}_{lorentz_line}_{window_radius}_{theta}_{integrate_angle}_2D.png\",\n",
    "#             webdriver=web_driver,\n",
    "#         )\n",
    "\n",
    "#     if \"RTA_normal\" in extra_plots:  # plot RTA at theta=0\n",
    "#         new_plot = plot_RTA(\n",
    "#             period=P, excitonic_layer_thickness=t, num_periods=N, theta=0\n",
    "#         )\n",
    "#         new_plot *= lorentz_lines\n",
    "\n",
    "#         plots.append(new_plot)\n",
    "#         if save_figs:\n",
    "#             export_png(\n",
    "#                 hv.render(new_plot.options(legend_position=\"right\", toolbar=None)),\n",
    "#                 filename=fig_path\n",
    "#                 / f\"opt_{variable}ef_{optimise}_{lorentz_line}_{window_radius}_{theta}_{integrate_angle}_RTA_0.png\",\n",
    "#                 webdriver=web_driver,\n",
    "#             )\n",
    "\n",
    "#     if \"RTA_int\" in extra_plots:  # plot RTA at theta OR integrating over theta\n",
    "#         new_plot = plot_RTA(\n",
    "#             period=P, excitonic_layer_thickness=t, num_periods=N, theta=th\n",
    "#         )\n",
    "#         new_plot *= lorentz_lines\n",
    "#         plots.append(new_plot)\n",
    "#         if save_figs:\n",
    "#             export_png(\n",
    "#                 hv.render(new_plot.options(legend_position=\"right\", toolbar=None)),\n",
    "#                 filename=fig_path\n",
    "#                 / f\"opt_{variable}ef_{optimise}_{lorentz_line}_{window_radius}_{theta}_{integrate_angle}_RTA_i.png\",\n",
    "#                 webdriver=web_driver,\n",
    "#             )\n",
    "\n",
    "#     if \"norm_1_normal\" in extra_plots:  # plot enhancement factor at theta=0\n",
    "#         sel = {\n",
    "#             \"period\": P,\n",
    "#             \"excitonic_layer_thickness\": t,\n",
    "#             \"num_periods\": N,\n",
    "#             \"theta\": 0,\n",
    "#         }\n",
    "#         new_plot = (\n",
    "#             plot_ef(variable=\"A\", dataset=restacked_norm_1, sel=sel) * lorentz_lines\n",
    "#         ).opts(opts.Overlay(legend_position=\"bottom_right\"))\n",
    "#         plots.append(new_plot)\n",
    "#         if save_figs:\n",
    "#             export_png(\n",
    "#                 hv.render(new_plot.options(toolbar=None)),\n",
    "#                 filename=fig_path\n",
    "#                 / f\"opt_{variable}ef_{optimise}_{lorentz_line}_{window_radius}_{theta}_{integrate_angle}_AEF_0.png\",\n",
    "#                 webdriver=web_driver,\n",
    "#             )\n",
    "\n",
    "#     if (\n",
    "#         \"norm_1_int\" in extra_plots\n",
    "#     ):  # plot enhancement factor at theta OR integrating over theta\n",
    "#         try:  # this should work if not integrating over theta\n",
    "#             sel = {\n",
    "#                 \"period\": P,\n",
    "#                 \"excitonic_layer_thickness\": t,\n",
    "#                 \"num_periods\": N,\n",
    "#                 \"theta\": th,\n",
    "#             }\n",
    "#             new_plot = (\n",
    "#                 plot_ef(variable=\"A\", dataset=restacked_norm_1, sel=sel) * lorentz_lines\n",
    "#             ).opts(opts.Overlay(legend_position=\"bottom_right\"))\n",
    "#         except:  # if integrating, we need to do the integral *before* normalising\n",
    "#             ds_int = sel_or_integrate(ds, dim=\"theta\", val=th)\n",
    "#             crs_1_int = sel_or_integrate(crs_1, dim=\"theta\", val=th)\n",
    "#             norm = enhancement_factor(\n",
    "#                 ds_int,\n",
    "#                 ref=crs_1_int,\n",
    "#                 common_dim=\"total_excitonic_thickness\",\n",
    "#                 method=\"groupby\",\n",
    "#             )\n",
    "#             restacked_norm = restack_plt_to_period(norm)\n",
    "\n",
    "#             sel = {\"period\": P, \"excitonic_layer_thickness\": t, \"num_periods\": N}\n",
    "#             new_plot = (\n",
    "#                 plot_ef(variable=\"A\", dataset=restacked_norm, sel=sel) * lorentz_lines\n",
    "#             ).opts(opts.Overlay(legend_position=\"bottom_right\"))\n",
    "#         plots.append(new_plot)\n",
    "#         if save_figs:\n",
    "#             export_png(\n",
    "#                 hv.render(new_plot.options(toolbar=None)),\n",
    "#                 filename=fig_path\n",
    "#                 / f\"opt_{variable}ef_{optimise}_{lorentz_line}_{window_radius}_{theta}_{integrate_angle}_AEF_i.png\",\n",
    "#                 webdriver=web_driver,\n",
    "#             )\n",
    "\n",
    "#     return hv.Layout(plots).cols(1)"
   ]
  },
  {
   "cell_type": "code",
   "execution_count": null,
   "id": "eaacad10-a83e-4cd7-971d-18145f5e3889",
   "metadata": {
    "tags": []
   },
   "outputs": [],
   "source": [
    "def wrapped_2D_ef_plot(\n",
    "    variable,\n",
    "    dataset,\n",
    "    ref,\n",
    "    optimise=\"max\",\n",
    "    lorentz_line=0,\n",
    "    window_radius=0,\n",
    "    theta=0,\n",
    "    cmap=\"viridis\",\n",
    "    period_start=None,\n",
    "    period_stop=None,\n",
    "    integrate_angle: float = None,\n",
    "    extra_plots=[\"RTA_normal\", \"RTA_int\", \"norm_1_normal\", \"norm_1_int\"],\n",
    "    dim=None,  # automatically assign if dataset recognised\n",
    "    save_figs=True,\n",
    "    restack_ef=None,\n",
    "    common_dim=None,\n",
    "    shade_window=True,\n",
    "):\n",
    "    \"\"\"I freely admit this is spaghetti code.\"\"\"\n",
    "    plots = []\n",
    "\n",
    "    # detect string labels\n",
    "    if str(dataset) == \"ds\":\n",
    "        # the drop_sel is important for avoiding the most common degenerate cases\n",
    "        dataset = ds.drop_sel({\"excitonic_layer_thickness\": 0})\n",
    "\n",
    "    if str(ref) == \"crs_1\":\n",
    "        ref = crs_1\n",
    "        common_dim = \"total_excitonic_thickness\"\n",
    "        stored_ds = xr.open_mfdataset(\n",
    "            data_path / f\"run_{run_number}/opt_over_period_norm_1.nc\",\n",
    "            engine=xarray_engine,\n",
    "            lock=False,\n",
    "        )\n",
    "        stored_tab = pd.read_csv(\n",
    "            data_path / f\"run_{run_number}/optimal_norm_1.csv\",\n",
    "            index_col=[\n",
    "                \"variable\",\n",
    "                \"maxmin\",\n",
    "                \"lorentz_line\",\n",
    "                \"window_radius\",\n",
    "                \"theta_start\",\n",
    "                \"theta_stop\",\n",
    "            ],\n",
    "        )\n",
    "\n",
    "    if str(dataset) == \"frs_1\":\n",
    "        ref = frs_1\n",
    "        common_dim = \"total_thickness\"\n",
    "        stored_ds = xr.open_mfdataset(\n",
    "            data_path\n",
    "            / f\"run_{run_number}/opt_over_period_norm_2.nc\",  # this doesn't actually exist yet\n",
    "            engine=xarray_engine,\n",
    "            lock=False,\n",
    "        )\n",
    "        stored_tab = pd.read_csv(\n",
    "            data_path / f\"run_{run_number}/optimal_norm_2.csv\",\n",
    "            index_col=[\n",
    "                \"variable\",\n",
    "                \"maxmin\",\n",
    "                \"lorentz_line\",\n",
    "                \"window_radius\",\n",
    "                \"theta_start\",\n",
    "                \"theta_stop\",\n",
    "            ],\n",
    "        )\n",
    "\n",
    "    match dim:  # if restack is the default value, automatically set it\n",
    "        case \"period\":\n",
    "            restack_ef = True if restack_ef is None else restack_ef\n",
    "        case \"passive_layer_thickness\":  # this is not really supported\n",
    "            restack_ef = False if restack_ef is None else restack_ef\n",
    "    integration_dims = []\n",
    "    vline_locs = [0]\n",
    "\n",
    "    da = dataset[variable]\n",
    "    ra = ref[variable]\n",
    "\n",
    "    da = select_lorentz_line(da, lorentz_line=lorentz_line, window_radius=window_radius)\n",
    "    ra = select_lorentz_line(ra, lorentz_line=lorentz_line, window_radius=window_radius)\n",
    "\n",
    "    try:\n",
    "        optimum_coords = stored_tab.loc[\n",
    "            variable, optimise, lorentz_line, window_radius, theta, integrate_angle\n",
    "        ]\n",
    "        plot_1 = (\n",
    "            stored_ds[variable]\n",
    "            .sel(\n",
    "                optimise=optimise,\n",
    "                lorentz_line=lorentz_line,\n",
    "                window_radius=window_radius,\n",
    "                theta_start=theta,\n",
    "                theta_stop=integrate_angle,\n",
    "            )\n",
    "            .hvplot(kind=\"quadmesh\", x=\"excitonic_layer_thickness\", y=\"num_periods\")\n",
    "        )\n",
    "        plot_1 *= hv.Points(\n",
    "            (optimum_coords[\"excitonic_layer_thickness\"], optimum_coords[\"num_periods\"])\n",
    "        )\n",
    "    except (KeyError, NameError):\n",
    "        warnings.warn(\"stored data not found, computing from scratch\")\n",
    "        if window_radius != 0:\n",
    "            integration_dims.append(\"wavelength\")\n",
    "\n",
    "        if integrate_angle:  # integrate angle should be a float\n",
    "            th = (theta, integrate_angle)\n",
    "            da = da.sel(theta=slice(*th))\n",
    "            ra = ra.sel(theta=slice(*th))\n",
    "            integration_dims.append(\"theta\")\n",
    "        else:  # this includes if integrate_angle==0, which is hacky but fine\n",
    "            da = da.sel(theta=theta, method=\"nearest\")\n",
    "            ra = ra.sel(theta=theta, method=\"nearest\")\n",
    "            th = theta\n",
    "\n",
    "        if integration_dims:  # if the list isn't empty\n",
    "            da = integrate_da(da, integration_dims, weighting=1, normalisation=None)\n",
    "            ra = integrate_da(ra, integration_dims, weighting=1, normalisation=None)\n",
    "\n",
    "        norm = enhancement_factor(\n",
    "            ds=da, ref=ra, common_dim=common_dim, method=\"groupby\"\n",
    "        )\n",
    "\n",
    "        if (\n",
    "            window_radius == 0 and not integrate_angle\n",
    "        ):  # if the precalculated norm_1 dataset will suffice\n",
    "            norm = norm_1[variable].drop_sel(\n",
    "                {\"excitonic_layer_thickness\": 0}\n",
    "            )  # then use it instead\n",
    "            norm = select_lorentz_line(\n",
    "                norm, lorentz_line=lorentz_line, window_radius=window_radius\n",
    "            )\n",
    "            norm = norm.sel(theta=theta, method=\"nearest\")\n",
    "\n",
    "        match restack_ef:\n",
    "            case True:\n",
    "                norm = restack_plt_to_period(norm)\n",
    "\n",
    "        if period_start < period_stop:\n",
    "            norm = norm.sel(period=slice(period_start, period_stop))\n",
    "        else:  # otherwise no data is selected and everything breaks\n",
    "            norm = norm.sel(period=slice(period_start, None))\n",
    "\n",
    "        plot_1, optimum_coords = plot_optimum_over_dim(\n",
    "            norm,\n",
    "            dim=dim,\n",
    "            x=\"excitonic_layer_thickness\",\n",
    "            y=\"num_periods\",\n",
    "            optimise=optimise,\n",
    "        )\n",
    "    finally:\n",
    "        vline_locs = [0]\n",
    "        da = select_lorentz_line(\n",
    "            dataset, lorentz_line=lorentz_line, window_radius=window_radius\n",
    "        )\n",
    "\n",
    "        if window_radius == 0:\n",
    "            wavelength = float(da.wavelength)\n",
    "            title = f\"{optimise.capitalize()}imum {variable} enhancement factor at {wavelength:.0f} nm\"\n",
    "            if lorentz_line != 0:  # don't put two lines over the resonance\n",
    "                vline_locs.append(lorentz_line)\n",
    "        else:\n",
    "            wavelength_start = float(da.wavelength[0])\n",
    "            wavelength_stop = float(da.wavelength[-1])\n",
    "            title = f\"{optimise.capitalize()}imum integrated {variable} enhancement factor between {wavelength_start:.0f} and {wavelength_stop:.0f} nm\"\n",
    "            vline_locs.append(lorentz_line - window_radius)\n",
    "            vline_locs.append(lorentz_line + window_radius)\n",
    "\n",
    "    P = float(optimum_coords[\"period\"])\n",
    "    t = float(optimum_coords[\"excitonic_layer_thickness\"])\n",
    "    N = float(optimum_coords[\"num_periods\"])\n",
    "    th = (theta, integrate_angle) if integrate_angle else theta\n",
    "\n",
    "    lorentz_lines = lorentz_vlines(vline_locs, scale=1e-9, mode=\"wavelength\").opts(\n",
    "        opts.VLine(line_color=green, line_dash=\"dotted\"),\n",
    "    )\n",
    "\n",
    "    # give the resonance line a special colour\n",
    "    lorentz_lines.VLine.I.opts(opts.VLine(line_color=yellow))\n",
    "\n",
    "    # shade the integration window:\n",
    "    if window_radius != 0 and shade_window:\n",
    "        window_vspan = hv.VSpan(\n",
    "            lorentz_lines.VLine.II.x, lorentz_lines.VLine.III.x\n",
    "        ).opts(\n",
    "            opts.VSpan(color=\"gray\", alpha=0.1)\n",
    "        )  # shade the area between the second and third lines\n",
    "        lorentz_lines *= window_vspan\n",
    "\n",
    "    plot_1.opts(\n",
    "        opts.QuadMesh(cmap=cmap, xlabel=r\"\\(d_e\\ \\text{(nm)}\\)\"),\n",
    "        opts.Points(color=\"red\"),\n",
    "        opts.Overlay(\n",
    "            # title=f\"{title}\\nOptimal period: {P:.0f}\",\n",
    "            title=\"\"\n",
    "        ),\n",
    "    )\n",
    "\n",
    "    plots.append(plot_1)\n",
    "    if save_figs:\n",
    "        export_png(\n",
    "            hv.render(plot_1.options(toolbar=None)),\n",
    "            filename=fig_path\n",
    "            / f\"opt_{variable}ef_{optimise}_{lorentz_line}_{window_radius}_{theta}_{integrate_angle}_2D.png\",\n",
    "            webdriver=web_driver,\n",
    "        )\n",
    "\n",
    "    if \"RTA_normal\" in extra_plots:  # plot RTA at theta=0\n",
    "        new_plot = plot_RTA(\n",
    "            period=P, excitonic_layer_thickness=t, num_periods=N, theta=0\n",
    "        )\n",
    "        new_plot *= lorentz_lines\n",
    "\n",
    "        plots.append(new_plot)\n",
    "        if save_figs:\n",
    "            export_png(\n",
    "                hv.render(new_plot.options(legend_position=\"right\", toolbar=None)),\n",
    "                filename=fig_path\n",
    "                / f\"opt_{variable}ef_{optimise}_{lorentz_line}_{window_radius}_{theta}_{integrate_angle}_RTA_0.png\",\n",
    "                webdriver=web_driver,\n",
    "            )\n",
    "\n",
    "    if \"RTA_int\" in extra_plots:  # plot RTA at theta OR integrating over theta\n",
    "        new_plot = plot_RTA(\n",
    "            period=P, excitonic_layer_thickness=t, num_periods=N, theta=th\n",
    "        )\n",
    "        new_plot *= lorentz_lines\n",
    "        plots.append(new_plot)\n",
    "        if save_figs:\n",
    "            export_png(\n",
    "                hv.render(new_plot.options(legend_position=\"right\", toolbar=None)),\n",
    "                filename=fig_path\n",
    "                / f\"opt_{variable}ef_{optimise}_{lorentz_line}_{window_radius}_{theta}_{integrate_angle}_RTA_i.png\",\n",
    "                webdriver=web_driver,\n",
    "            )\n",
    "\n",
    "    if \"norm_1_normal\" in extra_plots:  # plot enhancement factor at theta=0\n",
    "        sel = {\n",
    "            \"period\": P,\n",
    "            \"excitonic_layer_thickness\": t,\n",
    "            \"num_periods\": N,\n",
    "            \"theta\": 0,\n",
    "        }\n",
    "        new_plot = (\n",
    "            plot_ef(variable=\"A\", dataset=restacked_norm_1, sel=sel) * lorentz_lines\n",
    "        ).opts(opts.Overlay(legend_position=\"bottom_right\"))\n",
    "        plots.append(new_plot)\n",
    "        if save_figs:\n",
    "            export_png(\n",
    "                hv.render(new_plot.options(toolbar=None)),\n",
    "                filename=fig_path\n",
    "                / f\"opt_{variable}ef_{optimise}_{lorentz_line}_{window_radius}_{theta}_{integrate_angle}_AEF_0.png\",\n",
    "                webdriver=web_driver,\n",
    "            )\n",
    "\n",
    "    if (\n",
    "        \"norm_1_int\" in extra_plots\n",
    "    ):  # plot enhancement factor at theta OR integrating over theta\n",
    "        try:  # this should work if not integrating over theta\n",
    "            sel = {\n",
    "                \"period\": P,\n",
    "                \"excitonic_layer_thickness\": t,\n",
    "                \"num_periods\": N,\n",
    "                \"theta\": th,\n",
    "            }\n",
    "            new_plot = (\n",
    "                plot_ef(variable=\"A\", dataset=restacked_norm_1, sel=sel) * lorentz_lines\n",
    "            ).opts(opts.Overlay(legend_position=\"bottom_right\"))\n",
    "        except:  # if integrating, we need to do the integral *before* normalising\n",
    "            ds_int = sel_or_integrate(ds, dim=\"theta\", val=th)\n",
    "            crs_1_int = sel_or_integrate(crs_1, dim=\"theta\", val=th)\n",
    "            norm = enhancement_factor(\n",
    "                ds_int,\n",
    "                ref=crs_1_int,\n",
    "                common_dim=\"total_excitonic_thickness\",\n",
    "                method=\"groupby\",\n",
    "            )\n",
    "            restacked_norm = restack_plt_to_period(norm)\n",
    "\n",
    "            sel = {\"period\": P, \"excitonic_layer_thickness\": t, \"num_periods\": N}\n",
    "            new_plot = (\n",
    "                plot_ef(variable=\"A\", dataset=restacked_norm, sel=sel) * lorentz_lines\n",
    "            ).opts(opts.Overlay(legend_position=\"bottom_right\"))\n",
    "        plots.append(new_plot)\n",
    "        if save_figs:\n",
    "            export_png(\n",
    "                hv.render(new_plot.options(toolbar=None)),\n",
    "                filename=fig_path\n",
    "                / f\"opt_{variable}ef_{optimise}_{lorentz_line}_{window_radius}_{theta}_{integrate_angle}_AEF_i.png\",\n",
    "                webdriver=web_driver,\n",
    "            )\n",
    "\n",
    "    print(f\"optimum parameters: P={P}, t={t}, N={N}\")\n",
    "    return hv.Layout(plots).cols(1)"
   ]
  },
  {
   "cell_type": "markdown",
   "id": "4edd570f-49aa-4e78-9520-0b4e5a59a82b",
   "metadata": {
    "tags": []
   },
   "source": [
    "#### Serious business"
   ]
  },
  {
   "cell_type": "code",
   "execution_count": null,
   "id": "fd4bc898-5721-4e8f-bef0-f009508ccb0d",
   "metadata": {
    "tags": []
   },
   "outputs": [],
   "source": [
    "periods = restacked_ds.period.values[1:-1]\n",
    "# don't set the maximum period to be lower than the maximum excitonic layer thickness, or it will break the plot!\n",
    "safe_periods = restacked_ds.period.sel(\n",
    "    period=slice(restacked_ds.excitonic_layer_thickness.values[-1], None)\n",
    ").values\n",
    "\n",
    "kdims = [\n",
    "    hv.Dimension(\"variable\", values=restacked_norm_1.data_vars),\n",
    "    hv.Dimension(\"dataset\", values=[\"ds\"]),\n",
    "    hv.Dimension(\"ref\", values=[\"crs_1\", \"frs_1\"]),\n",
    "    hv.Dimension(\"optimise\", values=[\"max\", \"min\"]),\n",
    "    hv.Dimension(\"lorentz_line\", range=(-15, 8), default=0),\n",
    "    hv.Dimension(\"window_radius\", range=(0, 8), default=0),\n",
    "    hv.Dimension(\"theta\", range=(0, 86), default=0),\n",
    "    hv.Dimension(\n",
    "        \"cmap\", values=[\"viridis\", \"cividis\", \"inferno\", \"PRGn\", \"PuOr_r\", \"RdBu_r\"]\n",
    "    ),\n",
    "    hv.Dimension(\"period_start\", values=periods, default=periods[0]),\n",
    "    hv.Dimension(\"period_stop\", values=safe_periods, default=periods[-1]),\n",
    "    hv.Dimension(\"integrate_angle\", range=(0, 86), default=0),\n",
    "]\n",
    "\n",
    "\n",
    "angle_ef_dmap = hv.DynamicMap(\n",
    "    partial(\n",
    "        wrapped_2D_ef_plot,\n",
    "        extra_plots=[\"RTA_normal\", \"RTA_int\", \"norm_1_normal\", \"norm_1_int\"],\n",
    "        dim=\"period\",\n",
    "    ),\n",
    "    kdims=kdims,\n",
    ").opts(\n",
    "    opts.Overlay(legend_position=\"right\", legend_opts={\"background_fill_alpha\": 0.5})\n",
    ")\n",
    "# if I'm just looking at normal incidence the extra plots are redundant\n",
    "ef_dmap = hv.DynamicMap(\n",
    "    partial(\n",
    "        wrapped_2D_ef_plot,\n",
    "        integrate_angle=0,\n",
    "        extra_plots=[\"RTA_int\", \"norm_1_int\"],\n",
    "        dim=\"period\",\n",
    "    ),\n",
    "    kdims=kdims[:10],\n",
    ").opts(\n",
    "    opts.Overlay(legend_position=\"right\", legend_opts={\"background_fill_alpha\": 0.5})\n",
    ")"
   ]
  },
  {
   "cell_type": "code",
   "execution_count": null,
   "id": "557133c3-4e46-4cda-9906-3bcc8736ff49",
   "metadata": {},
   "outputs": [],
   "source": [
    "# %%capture --no-stdout --no-display\n",
    "# # ignore divide by zero warnings\n",
    "\n",
    "# # there is some sort of horrible bug that makes the title and axis on the second plot sometime disappear, along with one of the vlines\n",
    "# angle_ef_dmap"
   ]
  },
  {
   "cell_type": "code",
   "execution_count": null,
   "id": "dab70522-a982-48a0-a34b-e7b72db11301",
   "metadata": {},
   "outputs": [],
   "source": [
    "# # Use this to record interesting key sets\n",
    "# angle_ef_dmap.current_key"
   ]
  },
  {
   "cell_type": "markdown",
   "id": "928df95a-f5c4-46c7-97da-26c49611f2ce",
   "metadata": {
    "tags": []
   },
   "source": [
    "### Reflectance enhancement factor"
   ]
  },
  {
   "cell_type": "markdown",
   "id": "bdb62c4c-d375-46e8-a80c-852f87770c91",
   "metadata": {},
   "source": [
    "The plots of max and min reflectance enhancement factor look quite odd, but ultimately are not that interesting from a design perspective."
   ]
  },
  {
   "cell_type": "code",
   "execution_count": null,
   "id": "8128ab8f-ed9c-4d16-a605-1e926997895b",
   "metadata": {
    "tags": []
   },
   "outputs": [],
   "source": [
    "# # This is just the maximum reflectance structure again\n",
    "# ef_dmap[(\"R\", \"ds\", \"crs_1\", \"max\", 0, 0, 0, \"PRGn\", 10, 460)]"
   ]
  },
  {
   "cell_type": "markdown",
   "id": "25877c37-a94a-4d6b-85e2-54349dc6ee29",
   "metadata": {},
   "source": [
    "The band at 110-120 nm is probably due to two things:\n",
    "1. The reflectance of the CRS getting very low as the total excitonic thickness becomes larger than the wavelength of light, leading to incoherent reflection;\n",
    "2. That particular excitonic layer thickness makes creating a reflectance-suppressing photonic effect difficult."
   ]
  },
  {
   "cell_type": "code",
   "execution_count": null,
   "id": "886db79f-6848-4649-98c3-a497aef73188",
   "metadata": {},
   "outputs": [],
   "source": [
    "# ef_dmap[(\"R\", \"ds\", \"crs_1\", \"min\", 0, 0, 0, \"PRGn\", 10, 460)]"
   ]
  },
  {
   "cell_type": "code",
   "execution_count": null,
   "id": "1dd43056-51bc-4ef4-a5b6-bcf06a59acb2",
   "metadata": {},
   "outputs": [],
   "source": [
    "# # why is minimum R enhancement factor so high when excitonic layer thickness is 110 nm?\n",
    "# wrapped_2D_plot(\n",
    "#     \"R\",\n",
    "#     restacked_norm_1.sel(\n",
    "#         excitonic_layer_thickness=slice(110, 120), num_periods=slice(8, None)\n",
    "#     ),\n",
    "#     \"min\",\n",
    "#     0,\n",
    "#     0,\n",
    "#     0,\n",
    "#     \"viridis\",\n",
    "#     10,\n",
    "#     450,\n",
    "#     dim=\"period\",\n",
    "# )"
   ]
  },
  {
   "cell_type": "markdown",
   "id": "2a1fbb8c-4ae6-48cb-99a3-635270bebf34",
   "metadata": {
    "tags": []
   },
   "source": [
    "### Transmittance enhancement factor"
   ]
  },
  {
   "cell_type": "markdown",
   "id": "11806e83-a0db-4faa-85f4-781a59f61e92",
   "metadata": {
    "tags": []
   },
   "source": [
    "#### Maximum"
   ]
  },
  {
   "cell_type": "markdown",
   "id": "ad7e24a3-7061-4969-ab74-0ac04e6f65fe",
   "metadata": {},
   "source": [
    "The result at the resonance is basically meaningless. The maximal values far from the resonance are very small."
   ]
  },
  {
   "cell_type": "code",
   "execution_count": null,
   "id": "bba72d34-7383-4dcf-a98e-c88a0ced1f38",
   "metadata": {},
   "outputs": [],
   "source": [
    "# ef_dmap[(\"T\", \"ds\", \"crs_1\", \"max\", 0, 0, 0, \"PuOr_r\", 10, 460)]"
   ]
  },
  {
   "cell_type": "code",
   "execution_count": null,
   "id": "de126215-7461-424e-9c34-41a68294ee91",
   "metadata": {},
   "outputs": [],
   "source": [
    "# ef_dmap[(\"T\", \"ds\", \"crs_1\", \"max\", -2, 0, 0, \"PuOr_r\", 10, 460)]"
   ]
  },
  {
   "cell_type": "code",
   "execution_count": null,
   "id": "ad1542c3-af27-49d1-b9e8-326fe3787958",
   "metadata": {},
   "outputs": [],
   "source": [
    "# ef_dmap[(\"T\", \"ds\", \"crs_1\", \"max\", 2, 0, 0, \"PuOr_r\", 10, 460)]"
   ]
  },
  {
   "cell_type": "code",
   "execution_count": null,
   "id": "d39193d1-a383-464c-85f9-90b86384d457",
   "metadata": {},
   "outputs": [],
   "source": [
    "# ef_dmap[(\"T\", \"ds\", \"crs_1\", \"max\", -5, 0, 0, \"PuOr_r\", 10, 460)]"
   ]
  },
  {
   "cell_type": "code",
   "execution_count": null,
   "id": "2ed1b0cf-171c-42dd-841b-6b8a61d46211",
   "metadata": {},
   "outputs": [],
   "source": [
    "# ef_dmap[(\"T\", \"ds\", \"crs_1\", \"max\", 5, 0, 0, \"PuOr_r\", 10, 460)]"
   ]
  },
  {
   "cell_type": "markdown",
   "id": "844dcdee-6ecf-4e25-9d08-176782206984",
   "metadata": {
    "tags": []
   },
   "source": [
    "#### Minimum"
   ]
  },
  {
   "cell_type": "markdown",
   "id": "aed500a9-8c3f-49dd-a689-077dc6bd658d",
   "metadata": {},
   "source": [
    "The minimum transmittance enhancement factor at the resonance is surprisingly high. This tells us that the light intensity that is diverted to reflectance comes almost entirely at the cost of absorptance, no matter the parameters. (Really a diff would be better than a norm here.)"
   ]
  },
  {
   "cell_type": "code",
   "execution_count": null,
   "id": "5959fd8f-6e87-49c8-8b96-96f9e68b422c",
   "metadata": {},
   "outputs": [],
   "source": [
    "# ef_dmap[(\"T\", \"ds\", \"crs_1\", \"min\", 0, 0, 0, \"PuOr_r\", 10, 460)]"
   ]
  },
  {
   "cell_type": "code",
   "execution_count": null,
   "id": "6e479ca3-5464-4031-b030-d4bcf27e913e",
   "metadata": {},
   "outputs": [],
   "source": [
    "# ef_dmap[(\"T\", \"ds\", \"crs_1\", \"min\", -2, 0, 0, \"PuOr_r\", 10, 460)]"
   ]
  },
  {
   "cell_type": "code",
   "execution_count": null,
   "id": "9e6d9b03-2c45-40fc-b3cf-aa7994541316",
   "metadata": {},
   "outputs": [],
   "source": [
    "# ef_dmap[(\"T\", \"ds\", \"crs_1\", \"min\", 2, 0, 0, \"PuOr_r\", 10, 460)]"
   ]
  },
  {
   "cell_type": "code",
   "execution_count": null,
   "id": "30265b8d-da1c-4735-817c-fdac64d16201",
   "metadata": {},
   "outputs": [],
   "source": [
    "# ef_dmap[(\"T\", \"ds\", \"crs_1\", \"min\", -5, 0, 0, \"PuOr_r\", 10, 460)]"
   ]
  },
  {
   "cell_type": "code",
   "execution_count": null,
   "id": "f5dfb7b9-067b-4770-9a34-6b0b715de327",
   "metadata": {},
   "outputs": [],
   "source": [
    "# ef_dmap[(\"T\", \"ds\", \"crs_1\", \"min\", 5, 0, 0, \"PuOr_r\", 10, 460)]"
   ]
  },
  {
   "cell_type": "markdown",
   "id": "41a132d0-d035-4b54-9751-3e8fbe7130ca",
   "metadata": {
    "tags": []
   },
   "source": [
    "### Absorptance enhancement factor"
   ]
  },
  {
   "cell_type": "markdown",
   "id": "b9ac2e05-0f64-4948-83da-394b0e738109",
   "metadata": {
    "tags": []
   },
   "source": [
    "#### Optimal structure for maximising absorptance enhancement near the resonance"
   ]
  },
  {
   "cell_type": "markdown",
   "id": "e8c30342-10a5-44a8-8043-cfa9583d534c",
   "metadata": {},
   "source": [
    "The maximal absorptance enhancement near the LO resonance (between the resonance and -1 linewidth from it) is confined to a narrow band around a total excitonic thickness of roughly 100 nm. The maximum possible enhancement is modest and also not precisely targeted (there is a greater enhancement at longer wavelengths). Furthermore, it is not accompanied by a strong reflectance band, because of the low number of layers."
   ]
  },
  {
   "cell_type": "code",
   "execution_count": null,
   "id": "15ab5187-6a8f-401d-8f75-dc896b0f53f6",
   "metadata": {
    "tags": []
   },
   "outputs": [],
   "source": [
    "ef_dmap[(\"A\", \"ds\", \"crs_1\", \"max\", 0, 0, 0, \"inferno\", 10, 450)].opts(\n",
    "    opts.QuadMesh(clim=(1, None)), clone=True\n",
    ")"
   ]
  },
  {
   "cell_type": "code",
   "execution_count": null,
   "id": "6447eee5-8742-4774-93a5-8b3e8706c89a",
   "metadata": {},
   "outputs": [],
   "source": [
    "# ef_dmap[(\"A\", \"ds\", \"crs_1\", \"max\", 0, 2, 0, \"inferno\", 10, 450)].opts(\n",
    "#     opts.QuadMesh(clim=(1, None)), clone=True\n",
    "# )"
   ]
  },
  {
   "cell_type": "code",
   "execution_count": null,
   "id": "bc655ba4-9b08-48f9-b8ae-082bb24625c0",
   "metadata": {
    "tags": []
   },
   "outputs": [],
   "source": [
    "ef_dmap[(\"A\", \"ds\", \"crs_1\", \"max\", 0, 5, 0, \"inferno\", 10, 450)].opts(\n",
    "    opts.QuadMesh(clim=(1, None)), clone=True\n",
    ")"
   ]
  },
  {
   "cell_type": "markdown",
   "id": "e9cccc27-a26f-4637-bead-8b31109119f8",
   "metadata": {
    "tags": []
   },
   "source": [
    "#### Optimal structure for maximising absorption enhancement far from the resonance"
   ]
  },
  {
   "cell_type": "markdown",
   "id": "d1b92c17-89f0-47fa-b0bb-19882f2a24eb",
   "metadata": {},
   "source": [
    "Beyond a target wavelength of -2 linewidths below or 1 above the resonance, the optimum starts to move, first towards higher numbers of periods, then thicker layers. Bands of local optima in the 2D plot start to appear, as certain sets of parameters have higher potential. (**Why?**)\n",
    "\n",
    "As we move further from the resonance and towards regions of lower intrinsic absorptance, the maximum attainable wavelength specific absorptance enhancement increases and the optimal structures that produce these become larger. These structures also have higher reflectance - although local optima with lower reflectance also come into play.\n",
    "\n",
    "These effects are more pronounced on the red (high-contrast) side of the resonance than the blue side."
   ]
  },
  {
   "cell_type": "code",
   "execution_count": null,
   "id": "545f0792-65b8-49f0-88bb-0128241e03c9",
   "metadata": {},
   "outputs": [],
   "source": [
    "# ef_dmap[(\"A\", \"ds\", \"crs_1\", \"max\", -2, 0, 0, \"inferno\", 10, 450)].opts(\n",
    "#     opts.QuadMesh(clim=(1, None)), clone=True\n",
    "# )"
   ]
  },
  {
   "cell_type": "code",
   "execution_count": null,
   "id": "ad675682-88a1-42d0-b028-d68c3be0b589",
   "metadata": {},
   "outputs": [],
   "source": [
    "# ef_dmap[(\"A\", \"ds\", \"crs_1\", \"max\", -5, 0, 0, \"inferno\", 10, 450)].opts(\n",
    "#     opts.QuadMesh(clim=(1, None)), clone=True\n",
    "# )"
   ]
  },
  {
   "cell_type": "code",
   "execution_count": null,
   "id": "0038104a-8362-4209-8f52-dbb94f67ab20",
   "metadata": {},
   "outputs": [],
   "source": [
    "# ef_dmap[(\"A\", \"ds\", \"crs_1\", \"max\", -5, 2, 0, \"inferno\", 10, 450)].opts(\n",
    "#     opts.QuadMesh(clim=(1, None)), clone=True\n",
    "# )"
   ]
  },
  {
   "cell_type": "code",
   "execution_count": null,
   "id": "aa9982ba-4656-480c-8172-02cacb69daaa",
   "metadata": {},
   "outputs": [],
   "source": [
    "# ef_dmap[(\"A\", \"ds\", \"crs_1\", \"max\", -8, 0, 0, \"inferno\", 10, 450)].opts(\n",
    "#     opts.QuadMesh(clim=(1, None)), clone=True\n",
    "# )"
   ]
  },
  {
   "cell_type": "code",
   "execution_count": null,
   "id": "c35b4a95-6b2c-420d-9e0c-359088695a7f",
   "metadata": {},
   "outputs": [],
   "source": [
    "# ef_dmap[(\"A\", \"ds\", \"crs_1\", \"max\", 2, 0, 0, \"inferno\", 10, 450)].opts(\n",
    "#     opts.QuadMesh(clim=(1, None)), clone=True\n",
    "# )\n",
    "# # should do a windowed version of this"
   ]
  },
  {
   "cell_type": "code",
   "execution_count": null,
   "id": "b091cf15-b7cf-4963-af89-c5cccd7e9a9c",
   "metadata": {},
   "outputs": [],
   "source": [
    "# # example of a local optimum with lower reflectance\n",
    "# wrapped_2D_plot(\n",
    "#     \"A\",\n",
    "#     restacked_norm_1.sel(excitonic_layer_thickness=slice(20, None)),\n",
    "#     \"max\",\n",
    "#     2,\n",
    "#     0,\n",
    "#     0,\n",
    "#     \"inferno\",\n",
    "#     10,\n",
    "#     450,\n",
    "#     dim=\"period\",\n",
    "# )"
   ]
  },
  {
   "cell_type": "code",
   "execution_count": null,
   "id": "a77cfb1a-e23d-41a5-9a42-0021ba840295",
   "metadata": {
    "tags": []
   },
   "outputs": [],
   "source": [
    "ef_dmap[(\"A\", \"ds\", \"crs_1\", \"max\", 5, 0, 0, \"inferno\", 10, 450)].opts(\n",
    "    opts.QuadMesh(clim=(1, None)), clone=True\n",
    ")"
   ]
  },
  {
   "cell_type": "code",
   "execution_count": null,
   "id": "f1edd014-ca81-4e17-982a-7a74231cb657",
   "metadata": {},
   "outputs": [],
   "source": [
    "# ef_dmap[(\"A\", \"ds\", \"crs_1\", \"max\", 5, 2, 0, \"inferno\", 10, 450)].opts(\n",
    "#     opts.QuadMesh(clim=(1, None)), clone=True\n",
    "# )"
   ]
  },
  {
   "cell_type": "code",
   "execution_count": null,
   "id": "0f4b08c0-4202-4d8f-8b1f-ae9afc7c986d",
   "metadata": {},
   "outputs": [],
   "source": [
    "# ef_dmap[(\"A\", \"ds\", \"crs_1\", \"max\", 8, 0, 0, \"inferno\", 10, 450)].opts(\n",
    "#     opts.QuadMesh(clim=(1, None)), clone=True\n",
    "# )"
   ]
  },
  {
   "cell_type": "code",
   "execution_count": null,
   "id": "81c5bf03-78b0-440c-9b00-2c0fd6a6fe47",
   "metadata": {
    "tags": []
   },
   "outputs": [],
   "source": [
    "ef_dmap[(\"A\", \"ds\", \"crs_1\", \"max\", -8, 5, 0, \"inferno\", 10, 450)].opts(\n",
    "    opts.QuadMesh(clim=(1, None)), clone=True\n",
    ")"
   ]
  },
  {
   "cell_type": "markdown",
   "id": "fc0cd1b8-0723-4fbe-be0f-47e4657862e5",
   "metadata": {
    "tags": []
   },
   "source": [
    "#### Optimal structure for minimising absorptance enhancement"
   ]
  },
  {
   "cell_type": "markdown",
   "id": "23facd1e-8036-460f-aaff-ff950c664dc9",
   "metadata": {},
   "source": [
    "Near the resonance, the structures that minimise absorptance enhancement are almost identical to those maximising reflectance, which tells us that reducing absorptance by enhancing transmittance is not really a thing.\n",
    "\n",
    "The strategy to get the minimal absorptance enhancement far from the resonance is to saturate the absorptance of the CRS, then add a large reflectance band on top. It looks similar to the optimal structure for reflectance. However, we also see the emergence on local minima at lower total excitonic layer thicknesses.\n",
    "\n",
    "Again, sometimes the second-order PBG is more effective than the first-order one."
   ]
  },
  {
   "cell_type": "code",
   "execution_count": null,
   "id": "0cf2c4a0-be57-4072-bb00-728159f35a6d",
   "metadata": {
    "tags": []
   },
   "outputs": [],
   "source": [
    "ef_dmap[(\"A\", \"ds\", \"crs_1\", \"min\", 0, 0, 0, \"inferno\", 10, 450)].opts(\n",
    "    opts.QuadMesh(clim=(None, 1)), clone=True\n",
    ")"
   ]
  },
  {
   "cell_type": "code",
   "execution_count": null,
   "id": "4997317f-b47e-4bab-a942-c9d389ffeb9e",
   "metadata": {},
   "outputs": [],
   "source": [
    "# ef_dmap[(\"A\", \"ds\", \"crs_1\", \"min\", 0, 2, 0, \"inferno\", 10, 450)].opts(\n",
    "#     opts.QuadMesh(clim=(None, 1)), clone=True\n",
    "# )"
   ]
  },
  {
   "cell_type": "code",
   "execution_count": null,
   "id": "42148d45-5005-4d5e-9630-98397fd2f5ea",
   "metadata": {
    "tags": []
   },
   "outputs": [],
   "source": [
    "ef_dmap[(\"A\", \"ds\", \"crs_1\", \"min\", 0, 5, 0, \"inferno\", 10, 450)].opts(\n",
    "    opts.QuadMesh(clim=(None, 1)), clone=True\n",
    ")"
   ]
  },
  {
   "cell_type": "code",
   "execution_count": null,
   "id": "6d0c6dc6-472f-4239-8108-ac46a2c4ec35",
   "metadata": {},
   "outputs": [],
   "source": [
    "# # Compare this to structure for maximal reflectance at this wavelength\n",
    "# ef_dmap[(\"A\", \"ds\", \"crs_1\", \"min\", -2, 0, 0, \"inferno\", 10, 450)].opts(\n",
    "#     opts.QuadMesh(clim=(None, 1)), clone=True\n",
    "# )"
   ]
  },
  {
   "cell_type": "code",
   "execution_count": null,
   "id": "e8895222-11f8-43cd-a5dc-46bb44531fd8",
   "metadata": {},
   "outputs": [],
   "source": [
    "# # This is exactly the structure for maximal reflectance at this wavelength\n",
    "# ef_dmap[(\"A\", \"ds\", \"crs_1\", \"min\", 1, 0, 0, \"inferno\", 10, 450)].opts(\n",
    "#     opts.QuadMesh(clim=(None, 1)), clone=True\n",
    "# )"
   ]
  },
  {
   "cell_type": "code",
   "execution_count": null,
   "id": "0308064b-b642-4c8c-9dfb-a56f321b3020",
   "metadata": {},
   "outputs": [],
   "source": [
    "# # This is exactly the structure for maximal reflectance at this wavelength - but note the local minimum at lower thicknesses!\n",
    "# ef_dmap[(\"A\", \"ds\", \"crs_1\", \"min\", -5, 0, 0, \"inferno\", 10, 450)].opts(\n",
    "#     opts.QuadMesh(clim=(None, 1)), clone=True\n",
    "# )"
   ]
  },
  {
   "cell_type": "code",
   "execution_count": null,
   "id": "918886d8-1003-42c4-a1c2-256bc6a852e0",
   "metadata": {},
   "outputs": [],
   "source": [
    "# ef_dmap[(\"A\", \"ds\", \"crs_1\", \"min\", -8, 0, 0, \"inferno\", 10, 450)].opts(\n",
    "#     opts.QuadMesh(clim=(None, 1)), clone=True\n",
    "# )"
   ]
  },
  {
   "cell_type": "code",
   "execution_count": null,
   "id": "0a28f752-4af3-49c3-8e00-cedce5ca7534",
   "metadata": {},
   "outputs": [],
   "source": [
    "# # Note the difference when we exclude the second-order PBG\n",
    "# ef_dmap[(\"A\", \"ds\", \"crs_1\", \"min\", -8, 0, 0, \"inferno\", 10, 400)].opts(\n",
    "#     opts.QuadMesh(clim=(None, 1)), clone=True\n",
    "# )"
   ]
  },
  {
   "cell_type": "code",
   "execution_count": null,
   "id": "c09d8079-d4b4-4fb1-9a28-1eb0fe6b1eaa",
   "metadata": {},
   "outputs": [],
   "source": [
    "# # This is similar to the structure for maximal reflectance at this wavelength\n",
    "# ef_dmap[(\"A\", \"ds\", \"crs_1\", \"min\", 8, 0, 0, \"inferno\", 10, 450)].opts(\n",
    "#     opts.QuadMesh(clim=(None, 1)), clone=True\n",
    "# )"
   ]
  },
  {
   "cell_type": "code",
   "execution_count": null,
   "id": "d6964af1-4f24-473e-b0e9-611ce511a7db",
   "metadata": {},
   "outputs": [],
   "source": [
    "# ef_dmap[(\"A\", \"ds\", \"crs_1\", \"min\", -5, 0, 0, \"inferno\", 10, 450)].opts(\n",
    "#     opts.QuadMesh(clim=(None, 1)), clone=True\n",
    "# )"
   ]
  },
  {
   "cell_type": "code",
   "execution_count": null,
   "id": "3093cc3c-91cb-4dbf-9333-51c5edcb10e3",
   "metadata": {},
   "outputs": [],
   "source": [
    "# ef_dmap[(\"A\", \"ds\", \"crs_1\", \"min\", -5, 2, 0, \"inferno\", 10, 450)].opts(\n",
    "#     opts.QuadMesh(clim=(None, 1)), clone=True\n",
    "# )"
   ]
  },
  {
   "cell_type": "code",
   "execution_count": null,
   "id": "f27e45bd-3e73-4b8b-9ea1-e17971cd6381",
   "metadata": {},
   "outputs": [],
   "source": [
    "# ef_dmap[(\"A\", \"ds\", \"crs_1\", \"min\", -5, 5, 0, \"inferno\", 10, 450)].opts(\n",
    "#     opts.QuadMesh(clim=(None, 1)), clone=True\n",
    "# )"
   ]
  },
  {
   "cell_type": "code",
   "execution_count": null,
   "id": "a38d31ba-eed6-42ac-a6f6-50f665f49e50",
   "metadata": {},
   "outputs": [],
   "source": [
    "# ef_dmap[(\"A\", \"ds\", \"crs_1\", \"min\", 5, 0, 0, \"inferno\", 10, 450)].opts(\n",
    "#     opts.QuadMesh(clim=(None, 1)), clone=True\n",
    "# )"
   ]
  },
  {
   "cell_type": "code",
   "execution_count": null,
   "id": "bfd235fa-78d0-4e13-a6a8-24d184d5cc15",
   "metadata": {},
   "outputs": [],
   "source": [
    "# ef_dmap[(\"A\", \"ds\", \"crs_1\", \"min\", 5, 2, 0, \"inferno\", 10, 450)].opts(\n",
    "#     opts.QuadMesh(clim=(None, 1)), clone=True\n",
    "# )"
   ]
  },
  {
   "cell_type": "code",
   "execution_count": null,
   "id": "2d8a6f63-0d0a-46a0-a3e5-c3cf672c412e",
   "metadata": {},
   "outputs": [],
   "source": [
    "# # don't trust this - integral extends off the edge of the plot\n",
    "# ef_dmap[(\"A\", \"ds\", \"crs_1\", \"min\", 5, 5, 0, \"inferno\", 10, 450)].opts(\n",
    "#     opts.QuadMesh(clim=(None, 1)), clone=True\n",
    "# )"
   ]
  },
  {
   "cell_type": "markdown",
   "id": "0155ae00-e6cb-4008-9bfa-4f352ded3a29",
   "metadata": {
    "tags": []
   },
   "source": [
    "#### Angle behaviour"
   ]
  },
  {
   "cell_type": "markdown",
   "id": "d48ce729-48bb-42dc-982e-951ee2760462",
   "metadata": {
    "tags": []
   },
   "source": [
    "##### At 30 degrees - higher period, otherwise pretty similar to normal incidence"
   ]
  },
  {
   "cell_type": "code",
   "execution_count": null,
   "id": "312f09c4-e8b2-4913-a614-545d2aef4f87",
   "metadata": {},
   "outputs": [],
   "source": [
    "# %%capture --no-stdout --no-display\n",
    "# # ignore divide by zero warnings\n",
    "\n",
    "# angle_ef_dmap[(\"A\", \"ds\", \"crs_1\", \"max\", 0, 2, 30, \"inferno\", 10, 450, 0)].opts(\n",
    "#     opts.QuadMesh(clim=(1, None)), clone=True\n",
    "# )"
   ]
  },
  {
   "cell_type": "code",
   "execution_count": null,
   "id": "01df4646-9231-42e4-abfa-a57d9ae2277f",
   "metadata": {},
   "outputs": [],
   "source": [
    "# %%capture --no-stdout --no-display\n",
    "# # ignore divide by zero warnings\n",
    "\n",
    "# angle_ef_dmap[(\"A\", \"ds\", \"crs_1\", \"max\", -5, 2, 30, \"inferno\", 10, 450, 0)].opts(\n",
    "#     opts.QuadMesh(clim=(1, None)), clone=True\n",
    "# )"
   ]
  },
  {
   "cell_type": "code",
   "execution_count": null,
   "id": "3fb73730-9272-4c08-a742-c10f75a1174d",
   "metadata": {},
   "outputs": [],
   "source": [
    "# %%capture --no-stdout --no-display\n",
    "# # ignore divide by zero warnings\n",
    "\n",
    "# angle_ef_dmap[(\"A\", \"ds\", \"crs_1\", \"max\", 5, 2, 30, \"inferno\", 10, 450, 0)].opts(\n",
    "#     opts.QuadMesh(clim=(1, None)), clone=True\n",
    "# )"
   ]
  },
  {
   "cell_type": "code",
   "execution_count": null,
   "id": "6121a8b0-23a2-4f70-a1aa-73b569ca1a51",
   "metadata": {},
   "outputs": [],
   "source": [
    "# %%capture --no-stdout --no-display\n",
    "# # ignore divide by zero warnings\n",
    "\n",
    "# angle_ef_dmap[(\"A\", \"ds\", \"crs_1\", \"min\", 0, 2, 30, \"inferno\", 10, 450, 0)].opts(\n",
    "#     opts.QuadMesh(clim=(None, 1)), clone=True\n",
    "# )"
   ]
  },
  {
   "cell_type": "code",
   "execution_count": null,
   "id": "7e3ffb62-644e-4bb3-b74d-e8a935eeb08a",
   "metadata": {},
   "outputs": [],
   "source": [
    "# %%capture --no-stdout --no-display\n",
    "# # ignore divide by zero warnings\n",
    "\n",
    "# angle_ef_dmap[(\"A\", \"ds\", \"crs_1\", \"min\", -5, 2, 30, \"inferno\", 10, 450, 0)].opts(\n",
    "#     opts.QuadMesh(clim=(None, 1)), clone=True\n",
    "# )"
   ]
  },
  {
   "cell_type": "code",
   "execution_count": null,
   "id": "2223976d-2963-42ed-ac02-f63c7f4aa21a",
   "metadata": {},
   "outputs": [],
   "source": [
    "# %%capture --no-stdout --no-display\n",
    "# # ignore divide by zero warnings\n",
    "\n",
    "# angle_ef_dmap[(\"A\", \"ds\", \"crs_1\", \"min\", 5, 2, 30, \"inferno\", 10, 450, 0)].opts(\n",
    "#     opts.QuadMesh(clim=(None, 1)), clone=True\n",
    "# )"
   ]
  },
  {
   "cell_type": "markdown",
   "id": "8e3f8e20-86e3-4e8f-b44c-dc05d80b7844",
   "metadata": {
    "tags": []
   },
   "source": [
    "##### Integrating (max)"
   ]
  },
  {
   "cell_type": "markdown",
   "id": "16d74c2c-f06a-425b-8623-6c9435c140f1",
   "metadata": {},
   "source": [
    "At the resonance, the structure is actually very similar to the case at normal incidence - because the absorption enhancement isn't really coming from a photonic effect, but from the incoherent scattering. The period is slightly higher. The number of layers is higher but the total excitonic thickness is nearly the same. When increasing the wavelength window, the only difference is to increase the number of layers further (thus strengthening the optical path length enhancement at further wavelengths)."
   ]
  },
  {
   "cell_type": "markdown",
   "id": "971ced55-bc3c-4e04-a8d4-54809c2495b8",
   "metadata": {},
   "source": [
    "Far from resonance, the optimal number of layers and thickness are both much lower after an angle integral, indicating that the slow light enhancement becomes less important and the incoherent scattering more important."
   ]
  },
  {
   "cell_type": "code",
   "execution_count": null,
   "id": "eab88e48-fcc0-4df9-b2cf-983ec8703438",
   "metadata": {
    "tags": []
   },
   "outputs": [],
   "source": [
    "# %%capture --no-stdout --no-display\n",
    "# # ignore divide by zero warnings\n",
    "\n",
    "# angle_ef_dmap[(\"A\", \"ds\", \"crs_1\", \"max\", 0, 2, 0, \"inferno\", 10, 450, 45)].opts(\n",
    "#     opts.QuadMesh(clim=(1, None)), clone=True\n",
    "# )"
   ]
  },
  {
   "cell_type": "code",
   "execution_count": null,
   "id": "87a043a1-c4e1-4088-ab8f-2fad91addbc1",
   "metadata": {},
   "outputs": [],
   "source": [
    "# %%capture --no-stdout --no-display\n",
    "# # ignore divide by zero warnings\n",
    "\n",
    "# angle_ef_dmap[(\"A\", \"ds\", \"crs_1\", \"max\", 0, 5, 0, \"inferno\", 10, 450, 45)].opts(\n",
    "#     opts.QuadMesh(clim=(1, None)), clone=True\n",
    "# )"
   ]
  },
  {
   "cell_type": "code",
   "execution_count": null,
   "id": "da3ad6fc-fbc3-4a5c-bf68-b5a3b973b8bd",
   "metadata": {},
   "outputs": [],
   "source": [
    "# %%capture --no-stdout --no-display\n",
    "# # ignore divide by zero warnings\n",
    "\n",
    "# angle_ef_dmap[(\"A\", \"ds\", \"crs_1\", \"max\", 0, 8, 0, \"inferno\", 10, 450, 45)].opts(\n",
    "#     opts.QuadMesh(clim=(1, None)), clone=True\n",
    "# )"
   ]
  },
  {
   "cell_type": "code",
   "execution_count": null,
   "id": "6d7529ff-49d4-4dcf-9f68-e0676a58fae9",
   "metadata": {},
   "outputs": [],
   "source": [
    "# %%capture --no-stdout --no-display\n",
    "# # ignore divide by zero warnings\n",
    "\n",
    "# angle_ef_dmap[(\"A\", \"ds\", \"crs_1\", \"max\", -5, 2, 0, \"inferno\", 10, 450, 45)].opts(\n",
    "#     opts.QuadMesh(clim=(1, None)), clone=True\n",
    "# )"
   ]
  },
  {
   "cell_type": "code",
   "execution_count": null,
   "id": "e293ebf0-5b40-4edc-8140-7d5e5835ea66",
   "metadata": {
    "tags": []
   },
   "outputs": [],
   "source": [
    "%%capture --no-stdout --no-display\n",
    "# ignore divide by zero warnings\n",
    "\n",
    "plots = angle_ef_dmap[(\"A\", \"ds\", \"crs_1\", \"max\", 5, 0, 0, \"inferno\", 10, 450, 45)].opts(\n",
    "    opts.QuadMesh(clim=(1, None)), clone=True\n",
    ")\n",
    "plots"
   ]
  },
  {
   "cell_type": "code",
   "execution_count": null,
   "id": "5f3b1c67-f8fa-41a2-b8ef-535f912be390",
   "metadata": {
    "tags": []
   },
   "outputs": [],
   "source": [
    "new_plots = [(plots[4].relabel(label=\"integrated\", depth=1)), (plots[3].relabel(label=\"(θ=0)\", depth=1))]\n",
    "the_plot = hv.Overlay(new_plots).opts(opts.Curve(line_dash=hv.Cycle([\"solid\", \"dashed\"]), ylabel=\"γA\"), opts.HLine(color=blue), opts.Overlay(legend_position=\"right\"))\n",
    "the_plot"
   ]
  },
  {
   "cell_type": "code",
   "execution_count": null,
   "id": "264ee1ac-787e-45d4-930a-3ea1e883ad22",
   "metadata": {
    "tags": []
   },
   "outputs": [],
   "source": [
    "hv.save(the_plot, filename=fig_path/\"opt_Aef_max_5_0_0_45_AEF_c\", fmt=\"png\", toolbar=False)"
   ]
  },
  {
   "cell_type": "code",
   "execution_count": null,
   "id": "e9faad4b-ff30-41b9-aa57-11e4244cc27e",
   "metadata": {
    "tags": []
   },
   "outputs": [],
   "source": [
    "# comparison of the integrated and unintegrated RTA at normal incidence\n",
    "# params optimise R when integrated\n",
    "period = 270\n",
    "excitonic_layer_thickness = 60\n",
    "num_periods = 24\n",
    "\n",
    "params = dict(\n",
    "    period=period,\n",
    "    excitonic_layer_thickness=excitonic_layer_thickness,\n",
    "    num_periods=num_periods,\n",
    ")\n",
    "\n",
    "the_plot = (\n",
    "    compare_RTA_normal_vs_integrated(**params)\n",
    "    * lorentz_vlines([5], scale=1e-9)\n",
    "    * lorentz_vlines([0], scale=1e-9, label=\"resonance\")\n",
    ").opts(\n",
    "    opts.VLine(line_dash=\"dotted\", color=green),\n",
    "    opts.VLine(\"resonance\", line_dash=\"dotted\", color=yellow),\n",
    "    opts.Overlay(legend_position=\"right\"),\n",
    ")\n",
    "the_plot"
   ]
  },
  {
   "cell_type": "code",
   "execution_count": null,
   "id": "53b95630-fb1e-419f-b216-922c657d55a6",
   "metadata": {
    "tags": []
   },
   "outputs": [],
   "source": [
    "hv.save(the_plot, filename=fig_path/\"opt_Aef_max_5_0_0_45_RTA_c\", fmt=\"png\", toolbar=False)"
   ]
  },
  {
   "cell_type": "code",
   "execution_count": null,
   "id": "0c531ab6-2cc5-4fd8-bf75-a2220a844d73",
   "metadata": {},
   "outputs": [],
   "source": [
    "# %%capture --no-stdout --no-display\n",
    "# # ignore divide by zero warnings\n",
    "\n",
    "# angle_ef_dmap[(\"A\", \"ds\", \"crs_1\", \"max\", -5, 0, 0, \"inferno\", 10, 450, 75)].opts(\n",
    "#     opts.QuadMesh(clim=(1, None)), clone=True\n",
    "# )"
   ]
  },
  {
   "cell_type": "code",
   "execution_count": null,
   "id": "420c1c9c-4402-456c-ae0e-bcee73d16bec",
   "metadata": {},
   "outputs": [],
   "source": [
    "# %%capture --no-stdout --no-display\n",
    "# # ignore divide by zero warnings\n",
    "\n",
    "# angle_ef_dmap[(\"A\", \"ds\", \"crs_1\", \"max\", 5, 2, 0, \"inferno\", 10, 450, 45)].opts(\n",
    "#     opts.QuadMesh(clim=(1, None)), clone=True\n",
    "# )"
   ]
  },
  {
   "cell_type": "code",
   "execution_count": null,
   "id": "ea0a0db4-1b02-4a4e-9f1c-02197cc7a271",
   "metadata": {},
   "outputs": [],
   "source": [
    "# %%capture --no-stdout --no-display\n",
    "# # ignore divide by zero warnings\n",
    "\n",
    "# angle_ef_dmap[(\"A\", \"ds\", \"crs_1\", \"max\", 0, 2, 0, \"inferno\", 10, 450, 85)].opts(\n",
    "#     opts.QuadMesh(clim=(1, None)), clone=True\n",
    "# )"
   ]
  },
  {
   "cell_type": "markdown",
   "id": "8e9c9ca9-c757-4ba1-8439-0aad3a300c1c",
   "metadata": {
    "tags": []
   },
   "source": [
    "##### Integrating (min)"
   ]
  },
  {
   "cell_type": "markdown",
   "id": "373a58d1-0787-448b-b512-6bae57436325",
   "metadata": {},
   "source": [
    "At resonance, the optimal parameters to minimise the angle-integrated absorptance enhancement factor are basically the same as when not integrating over angle. The period and layer thickness are slightly higher. Far from resonance, again the periods are slightly higher and the excitonic layer thicknesses somewhat higher."
   ]
  },
  {
   "cell_type": "markdown",
   "id": "7521885e-3da1-4e5a-bc6a-a9d007e1c9a4",
   "metadata": {},
   "source": [
    "What is quite notable is that when integrating over angle, it becomes very difficult to actually obtain an absorptance enhancement factor <1 for low total excitonic thickness. In other words, a small iridoplast-like structure can’t be built such that it has less absorption than its CRS."
   ]
  },
  {
   "cell_type": "code",
   "execution_count": null,
   "id": "38724578-40ea-4f0a-9042-5748f6110154",
   "metadata": {
    "tags": []
   },
   "outputs": [],
   "source": [
    "%%capture --no-stdout --no-display\n",
    "# ignore divide by zero warnings\n",
    "\n",
    "plots = angle_ef_dmap[(\"A\", \"ds\", \"crs_1\", \"min\", 0, 0, 0, \"inferno\", 10, 450, 45)].opts(\n",
    "    opts.QuadMesh(clim=(None, 1)), clone=True\n",
    ")\n",
    "plots"
   ]
  },
  {
   "cell_type": "code",
   "execution_count": null,
   "id": "4a99f792-30a5-4cc2-a384-11fd314ef410",
   "metadata": {
    "tags": []
   },
   "outputs": [],
   "source": [
    "new_plots = [(plots[4].relabel(label=\"integrated\", depth=1)), (plots[3].relabel(label=\"(θ=0)\", depth=1))]\n",
    "the_plot = hv.Overlay(new_plots).opts(opts.Curve(line_dash=hv.Cycle([\"solid\", \"dashed\"]), ylabel=\"γA\"), opts.HLine(color=blue), opts.Overlay(legend_position=\"right\"))\n",
    "the_plot"
   ]
  },
  {
   "cell_type": "code",
   "execution_count": null,
   "id": "9deafc06-96b4-4190-8e82-60eaa7df6d45",
   "metadata": {
    "tags": []
   },
   "outputs": [],
   "source": [
    "hv.save(the_plot, filename=fig_path/\"opt_Aef_min_0_0_0_45_AEF_c\", fmt=\"png\", toolbar=False)"
   ]
  },
  {
   "cell_type": "code",
   "execution_count": null,
   "id": "c47567c0-ac45-43cb-81cb-3fe7dc7e9972",
   "metadata": {
    "tags": []
   },
   "outputs": [],
   "source": [
    "# comparison of the integrated and unintegrated RTA at normal incidence\n",
    "# params optimise R when integrated\n",
    "period = 260\n",
    "excitonic_layer_thickness = 60\n",
    "num_periods = 8\n",
    "\n",
    "params = dict(\n",
    "    period=period,\n",
    "    excitonic_layer_thickness=excitonic_layer_thickness,\n",
    "    num_periods=num_periods,\n",
    ")\n",
    "\n",
    "the_plot = (\n",
    "    compare_RTA_normal_vs_integrated(**params)\n",
    "    * lorentz_vlines([0], scale=1e-9, label=\"resonance\")\n",
    ").opts(\n",
    "    opts.VLine(line_dash=\"dotted\", color=green),\n",
    "    opts.VLine(\"resonance\", line_dash=\"dotted\", color=yellow),\n",
    "    opts.Overlay(legend_position=\"right\"),\n",
    ")\n",
    "the_plot"
   ]
  },
  {
   "cell_type": "code",
   "execution_count": null,
   "id": "72fc7293-7a9d-41a5-92e0-f8b368a50090",
   "metadata": {
    "tags": []
   },
   "outputs": [],
   "source": [
    "hv.save(the_plot, filename=fig_path/\"opt_Aef_min_0_0_0_45_RTA_c\", fmt=\"png\", toolbar=False)"
   ]
  },
  {
   "cell_type": "code",
   "execution_count": null,
   "id": "61731570-ac8d-413b-9367-bc54bfeafba2",
   "metadata": {},
   "outputs": [],
   "source": [
    "# %%capture --no-stdout --no-display\n",
    "# # ignore divide by zero warnings\n",
    "\n",
    "# angle_ef_dmap[(\"A\", \"ds\", \"crs_1\", \"min\", 0, 2, 0, \"inferno\", 10, 450, 45)].opts(\n",
    "#     opts.QuadMesh(clim=(None, 1)), clone=True\n",
    "# )"
   ]
  },
  {
   "cell_type": "code",
   "execution_count": null,
   "id": "20c771f4-6cdd-40b3-a1df-93cf96dfa154",
   "metadata": {},
   "outputs": [],
   "source": [
    "# %%capture --no-stdout --no-display\n",
    "# # ignore divide by zero warnings\n",
    "\n",
    "# angle_ef_dmap[(\"A\", \"ds\", \"crs_1\", \"min\", 0, 5, 0, \"inferno\", 10, 450, 45)].opts(\n",
    "#     opts.QuadMesh(clim=(None, 1)), clone=True\n",
    "# )"
   ]
  },
  {
   "cell_type": "code",
   "execution_count": null,
   "id": "124b4b07-9fc3-4a67-afdd-04191eb4f905",
   "metadata": {},
   "outputs": [],
   "source": [
    "# %%capture --no-stdout --no-display\n",
    "# # ignore divide by zero warnings\n",
    "\n",
    "# angle_ef_dmap[(\"A\", \"ds\", \"crs_1\", \"min\", -5, 2, 0, \"inferno\", 10, 450, 45)].opts(\n",
    "#     opts.QuadMesh(clim=(None, 1)), clone=True\n",
    "# )"
   ]
  },
  {
   "cell_type": "code",
   "execution_count": null,
   "id": "3152841f-d2fd-4669-8616-0660d6e57a59",
   "metadata": {},
   "outputs": [],
   "source": [
    "# %%capture --no-stdout --no-display\n",
    "# # ignore divide by zero warnings\n",
    "\n",
    "# angle_ef_dmap[(\"A\", \"ds\", \"crs_1\", \"min\", 5, 2, 0, \"inferno\", 10, 450, 45)].opts(\n",
    "#     opts.QuadMesh(clim=(None, 1)), clone=True\n",
    "# )"
   ]
  },
  {
   "cell_type": "markdown",
   "id": "ad49d787-83b8-4666-95d8-0e37254d06d3",
   "metadata": {
    "tags": []
   },
   "source": [
    "# Cleanup"
   ]
  },
  {
   "cell_type": "code",
   "execution_count": null,
   "id": "8dbc4784-d764-47cf-abe9-aba6e493254e",
   "metadata": {
    "tags": []
   },
   "outputs": [],
   "source": [
    "# hv.archive.export()"
   ]
  }
 ],
 "metadata": {
  "kernelspec": {
   "display_name": "Python [conda env:multilayer_simulator] *",
   "language": "python",
   "name": "conda-env-multilayer_simulator-py"
  },
  "language_info": {
   "codemirror_mode": {
    "name": "ipython",
    "version": 3
   },
   "file_extension": ".py",
   "mimetype": "text/x-python",
   "name": "python",
   "nbconvert_exporter": "python",
   "pygments_lexer": "ipython3",
   "version": "3.10.0"
  }
 },
 "nbformat": 4,
 "nbformat_minor": 5
}
