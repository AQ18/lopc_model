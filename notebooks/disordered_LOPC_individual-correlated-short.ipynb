{
 "cells": [
  {
   "cell_type": "markdown",
   "id": "16933af0-af89-4324-bb97-4d3752f27e6c",
   "metadata": {},
   "source": [
    "Generating plots that explore the disordered LOPC model. This notebook is for testing the disorder method and looking at the optical properties of individual examples of disordered LOPCs without aggregation."
   ]
  },
  {
   "cell_type": "code",
   "execution_count": null,
   "id": "49be6f31-c2b8-4078-b9ca-f7bfab0f0a48",
   "metadata": {
    "tags": []
   },
   "outputs": [],
   "source": [
    "# computation\n",
    "import lumapi\n",
    "import numpy as np\n",
    "import warnings\n",
    "import xarray as xr\n",
    "import xyzpy as xyz\n",
    "from xyzpy.gen.combo_runner import multi_concat\n",
    "from multilayer_simulator.lumerical_classes import LumericalOscillator, format_stackrt, format_stackfield\n",
    "from multilayer_simulator.helpers.mixins import convert_wavelength_and_frequency\n",
    "import dask\n",
    "from functools import partial\n",
    "# plotting\n",
    "import hvplot.xarray\n",
    "import holoviews as hv\n",
    "from holoviews import dim, opts\n",
    "import panel as pn\n",
    "import panel.widgets as pnw"
   ]
  },
  {
   "cell_type": "code",
   "execution_count": null,
   "id": "ac87f1e5-e9e1-4697-9208-c01741339ad3",
   "metadata": {
    "tags": []
   },
   "outputs": [],
   "source": [
    "hv.extension(\"bokeh\", \"matplotlib\", case_sensitive_completion=True)\n",
    "pn.config.throttled = True\n",
    "opts.defaults(fontscale=2)\n",
    "\n",
    "xarray_engine='h5netcdf'"
   ]
  },
  {
   "cell_type": "code",
   "execution_count": null,
   "id": "4d826d37-718a-4a7e-9c46-2e4ee069fe3c",
   "metadata": {
    "tags": []
   },
   "outputs": [],
   "source": [
    "# A hacky way to import a script\n",
    "\n",
    "import os\n",
    "import sys\n",
    "\n",
    "dir2 = os.path.abspath(\"\")\n",
    "dir1 = os.path.dirname(dir2)\n",
    "if not dir1 in sys.path:\n",
    "    sys.path.append(dir1)\n",
    "from LOPC import LOPC\n",
    "from LOPC.helpers import (\n",
    "    assign_derived_attrs,\n",
    "    restack,\n",
    "    enhancement_factor,\n",
    "    combo_length,\n",
    "    estimate_combo_run_time,\n",
    "    linewidth_calculator,\n",
    "    lopc_data,\n",
    "    spectrum,\n",
    "    normalise_over_dim,\n",
    "    integrate_da,\n",
    "    sel_or_integrate,\n",
    "    find_optimum_coords,\n",
    "    plot_secondary,\n",
    "    pre_process_for_plots,\n",
    "    vlines,\n",
    "    coordinate_string,\n",
    "    plot_da,\n",
    "    plot_var,\n",
    "    plot_optimum_over_dim,\n",
    "    plot_field,\n",
    "    visualise_multilayer,\n",
    "    complex_elements,\n",
    "    indexer_from_dataset,\n",
    "    fix_bin_labels,\n",
    "    mean_and_std,\n",
    "    max_min_pos,\n",
    ")"
   ]
  },
  {
   "cell_type": "markdown",
   "id": "32d1f679-dc47-4e62-935f-46757192a710",
   "metadata": {},
   "source": [
    "Turn on auto-archiving of cells and Holoviews outputs. See the user guide [here](https://holoviews.org/user_guide/Exporting_and_Archiving.html).\n",
    "\n",
    "Might need to install `ipympl`."
   ]
  },
  {
   "cell_type": "code",
   "execution_count": null,
   "id": "2450ba99-e892-4be2-931b-0f0a07589273",
   "metadata": {
    "tags": []
   },
   "outputs": [],
   "source": [
    "# hv.archive.auto() # This breaks the DynamicMap call below due to something to do with pickling\n",
    "\n",
    "undisordered_run_number = 2\n",
    "run_number = 203"
   ]
  },
  {
   "cell_type": "markdown",
   "id": "41a2bd5a-4626-45b6-a6e4-ee02d9166f3e",
   "metadata": {},
   "source": [
    "Useful variables for plotting later:"
   ]
  },
  {
   "cell_type": "code",
   "execution_count": null,
   "id": "bcf08d4d-3efd-40c2-bd09-0838f4fd98d0",
   "metadata": {
    "tags": []
   },
   "outputs": [],
   "source": [
    "blue = hv.Cycle.default_cycles['default_colors'][0]\n",
    "red = hv.Cycle.default_cycles['default_colors'][1]\n",
    "yellow = hv.Cycle.default_cycles['default_colors'][2]\n",
    "green = hv.Cycle.default_cycles['default_colors'][3]"
   ]
  },
  {
   "cell_type": "code",
   "execution_count": null,
   "id": "5201529a-3bdc-4203-90e1-f9d4c564c41e",
   "metadata": {
    "tags": []
   },
   "outputs": [],
   "source": [
    "wavelengths_in_nanometres = np.linspace(480, 880, 256)\n",
    "wavelengths = wavelengths_in_nanometres * 1e-9\n",
    "frequencies = convert_wavelength_and_frequency(wavelengths)\n",
    "angles = np.linspace(0, 86, 64)"
   ]
  },
  {
   "cell_type": "code",
   "execution_count": null,
   "id": "9555b8d0-ee3d-4e0b-ae93-e8df6b7f6664",
   "metadata": {
    "tags": []
   },
   "outputs": [],
   "source": [
    "default_oscillator_params = {\n",
    "    \"N\": 1e26,\n",
    "    \"permittivity\": 2.2,\n",
    "    \"lorentz_resonance_wavelength\": 680,\n",
    "    \"lorentz_linewidth\": 7.5e13,\n",
    "}"
   ]
  },
  {
   "cell_type": "markdown",
   "id": "727b8fa1-5594-438e-84a6-51954cee6252",
   "metadata": {
    "tags": []
   },
   "source": [
    "# Setup"
   ]
  },
  {
   "cell_type": "code",
   "execution_count": null,
   "id": "42a9aef1-9583-4de2-990f-cd2e4ee90b11",
   "metadata": {
    "tags": []
   },
   "outputs": [],
   "source": [
    "fdtd = lumapi.FDTD()"
   ]
  },
  {
   "cell_type": "code",
   "execution_count": null,
   "id": "c2936bbb-c519-4c8e-abe8-0946398cc2bc",
   "metadata": {
    "tags": []
   },
   "outputs": [],
   "source": [
    "oscillator = LumericalOscillator(session=fdtd)"
   ]
  },
  {
   "cell_type": "code",
   "execution_count": null,
   "id": "8a5da476-19fc-48d5-979b-eaa469ccd889",
   "metadata": {
    "tags": []
   },
   "outputs": [],
   "source": [
    "rng = np.random.default_rng(seed=70823)"
   ]
  },
  {
   "cell_type": "code",
   "execution_count": null,
   "id": "273493fd-1915-4745-9c12-c0ef6156afa0",
   "metadata": {
    "tags": []
   },
   "outputs": [],
   "source": [
    "formatter = format_stackrt(\n",
    "    output_format=\"xarray_dataset\",\n",
    "    **{\n",
    "        \"variables\": [\"Rs\", \"Rp\", \"Ts\", \"Tp\"],\n",
    "        \"add_absorption\": False,\n",
    "    }\n",
    ")"
   ]
  },
  {
   "cell_type": "code",
   "execution_count": null,
   "id": "c6955a16-e03d-448c-aa81-6bb2ef2243a4",
   "metadata": {
    "tags": []
   },
   "outputs": [],
   "source": [
    "resources = {\n",
    "    \"lumerical_session\": fdtd,\n",
    "    \"oscillator\": oscillator,\n",
    "    \"rng\": rng,  # assign seeded rng for reproducibility\n",
    "    \"simulation_mode\": \"stackrt\",\n",
    "    \"formatter\": formatter,\n",
    "    \"frequencies\": frequencies,\n",
    "    \"angles\": angles,\n",
    "}"
   ]
  },
  {
   "cell_type": "code",
   "execution_count": null,
   "id": "1f776d8c-8f29-411f-99c7-229f01521a6f",
   "metadata": {
    "tags": []
   },
   "outputs": [],
   "source": [
    "constants = {\n",
    "    \"apply_disorder\": 100,  # True-> only one run; int-> int runs\n",
    "    \"delta_mode\": \"pplt\",  # abs-> interpret delta as distance in nm; pplt-> interpret delta as proportion of passive layer thickness\n",
    "    \"disorder_type\": \"uniform\",  # not considering gaussian or other distributions\n",
    "    \"correlated\": True,  # False-> uncorrelated disorder\n",
    "    \"retain_runs\": True,  # True-> return concat'd array; False-> return mean array\n",
    "    \"add_first_layer\": True,  # add dummy passive layer to allow disorder on first excitonic layer\n",
    "    \"copy_layers\": True,\n",
    "    \"length_scale\": 1e-9,\n",
    "}"
   ]
  },
  {
   "cell_type": "code",
   "execution_count": null,
   "id": "e9db6925-1c3c-4f34-aebb-d0b17953247b",
   "metadata": {
    "tags": []
   },
   "outputs": [],
   "source": [
    "r = xyz.Runner(lopc_data, var_names=None, constants=constants, resources=resources)"
   ]
  },
  {
   "cell_type": "markdown",
   "id": "9abb55eb-48c0-4cd4-954f-181f60a46599",
   "metadata": {},
   "source": [
    "The reference slabs are just those from the equivalent undisordered run."
   ]
  },
  {
   "cell_type": "markdown",
   "id": "64db5939-bb0b-4ca8-994f-ccb174e3235f",
   "metadata": {
    "tags": []
   },
   "source": [
    "# Data generation"
   ]
  },
  {
   "cell_type": "code",
   "execution_count": null,
   "id": "49d92955-435e-4337-b117-265538762f7e",
   "metadata": {
    "tags": []
   },
   "outputs": [],
   "source": [
    "deltas = [0.1, 0.2, 0.3, 0.4]"
   ]
  },
  {
   "cell_type": "code",
   "execution_count": null,
   "id": "8b69f517-0146-4857-aebb-ed09541c93a0",
   "metadata": {
    "tags": []
   },
   "outputs": [],
   "source": [
    "combos = {\n",
    "    \"passive_RI\": [1.35],\n",
    "    \"incident_medium_RI\": [1.35],\n",
    "    \"exit_medium_RI\": [1.35],\n",
    "    \"N\": [1e26],\n",
    "    \"permittivity\": [2.2],\n",
    "    \"lorentz_resonance_wavelength\": [680],\n",
    "    \"lorentz_linewidth\": [7.5e13],\n",
    "    \"num_periods\": np.union1d(np.arange(5, 30, 5), np.arange(30, 51, 10)),\n",
    "    \"passive_layer_thickness\": [50, 100], # <-short\n",
    "    \"excitonic_layer_thickness\": [50],\n",
    "    \"remove_last_layer\": [0], # True/False are not compatible with netCDF format\n",
    "}"
   ]
  },
  {
   "cell_type": "markdown",
   "id": "3a2f9362-645d-4bb4-87ae-f582ba637d6c",
   "metadata": {
    "tags": []
   },
   "source": [
    "## Layer thicknesses"
   ]
  },
  {
   "cell_type": "markdown",
   "id": "b615f0a6-2598-4946-8a3c-9f831ee9cf7c",
   "metadata": {
    "tags": []
   },
   "source": [
    "### LOPC simulation"
   ]
  },
  {
   "cell_type": "code",
   "execution_count": null,
   "id": "a20414ed-6126-44b6-bdba-22b42461f250",
   "metadata": {
    "tags": []
   },
   "outputs": [],
   "source": [
    "# for k, v in combos.items():\n",
    "#     print(f\"{k}: length {len(v)}\")"
   ]
  },
  {
   "cell_type": "code",
   "execution_count": null,
   "id": "3d5d2ceb-7d66-4366-b9b2-495a952c9092",
   "metadata": {
    "tags": []
   },
   "outputs": [],
   "source": [
    "# estimate_combo_run_time(90, combos)/3600"
   ]
  },
  {
   "cell_type": "code",
   "execution_count": null,
   "id": "13c53afb-b718-40ff-8752-ff58f5f00ae1",
   "metadata": {
    "tags": []
   },
   "outputs": [],
   "source": [
    "with warnings.catch_warnings():\n",
    "    warnings.filterwarnings(\"ignore\", \"Can't deepcopy\")\n",
    "    for d in deltas:\n",
    "        h_lopc = xyz.Harvester(runner=r, data_name=f\"data/run_{run_number}/LOPC_{str(d).replace('.', '')}.nc\")\n",
    "        h_lopc.harvest_combos(combos|{\"delta\": [d]})"
   ]
  },
  {
   "cell_type": "code",
   "execution_count": null,
   "id": "8affc7aa-a9af-42b4-91da-15c236fbbb33",
   "metadata": {
    "tags": []
   },
   "outputs": [],
   "source": [
    "resources |= {\"rng\": np.random.default_rng(708231)}"
   ]
  },
  {
   "cell_type": "code",
   "execution_count": null,
   "id": "1016b8c3-842b-417a-af58-cdfcd97a3144",
   "metadata": {
    "tags": []
   },
   "outputs": [],
   "source": [
    "r_05 = xyz.Runner(lopc_data, var_names=None, constants=constants, resources=resources)"
   ]
  },
  {
   "cell_type": "code",
   "execution_count": null,
   "id": "cc84d49e-045b-4ced-9d4b-7354060835d6",
   "metadata": {
    "tags": []
   },
   "outputs": [],
   "source": [
    "with warnings.catch_warnings():\n",
    "    warnings.filterwarnings(\"ignore\", \"Can't deepcopy\")\n",
    "    for i in range(10):\n",
    "        h_lopc_05 = xyz.Harvester(runner=r_05, data_name=f\"data/run_{run_number}/LOPC_05_{i}.nc\")\n",
    "        h_lopc_05.harvest_combos(combos|{\"delta\": [0.5]})"
   ]
  },
  {
   "cell_type": "code",
   "execution_count": null,
   "id": "ee902831-130e-43c3-906d-54755d13628e",
   "metadata": {},
   "outputs": [],
   "source": [
    "# resources |= {\"rng\": np.random.default_rng(170724)}\n",
    "# r_05 = xyz.Runner(lopc_data, var_names=None, constants=constants, resources=resources)"
   ]
  },
  {
   "cell_type": "code",
   "execution_count": null,
   "id": "2dda69fb-c0dc-4ace-9e6a-dd7f2733dbde",
   "metadata": {
    "tags": []
   },
   "outputs": [],
   "source": [
    "# with warnings.catch_warnings():\n",
    "#     warnings.filterwarnings(\"ignore\", \"Can't deepcopy\")\n",
    "#     for i in range(4, 10):\n",
    "#         h_lopc_05 = xyz.Harvester(runner=r_05, data_name=f\"data/run_{run_number}/LOPC_05_{i}.nc\")\n",
    "#         h_lopc_05.harvest_combos(combos|{\"delta\": [0.5]})"
   ]
  },
  {
   "cell_type": "code",
   "execution_count": null,
   "id": "335254d0-2d78-4abe-8cc4-e2a40f1b335e",
   "metadata": {
    "tags": []
   },
   "outputs": [],
   "source": [
    "resources |= {\"rng\": np.random.default_rng(708232)}"
   ]
  },
  {
   "cell_type": "code",
   "execution_count": null,
   "id": "0d0818eb-088a-47f5-8a77-0d29ba0210e5",
   "metadata": {
    "tags": []
   },
   "outputs": [],
   "source": [
    "r_10 = xyz.Runner(lopc_data, var_names=None, constants=constants, resources=resources)"
   ]
  },
  {
   "cell_type": "code",
   "execution_count": null,
   "id": "3c1df461-38ed-4cde-89cc-6cedc81b49b5",
   "metadata": {
    "tags": []
   },
   "outputs": [],
   "source": [
    "with warnings.catch_warnings():\n",
    "    warnings.filterwarnings(\"ignore\", \"Can't deepcopy\")\n",
    "    for i in range(10):\n",
    "        h_lopc_10 = xyz.Harvester(runner=r_10, data_name=f\"data/run_{run_number}/LOPC_10_{i}.nc\")\n",
    "        h_lopc_10.harvest_combos(combos|{\"delta\": [1.0]})"
   ]
  },
  {
   "cell_type": "code",
   "execution_count": null,
   "id": "35a970c5-13c0-4c76-af5f-bf29116987d2",
   "metadata": {},
   "outputs": [],
   "source": [
    "# h_lopc.save_full_ds()"
   ]
  },
  {
   "cell_type": "markdown",
   "id": "37f19e7b-78e4-4cd6-860a-568233a0bf02",
   "metadata": {
    "tags": []
   },
   "source": [
    "### Load LOPC dataset"
   ]
  },
  {
   "cell_type": "code",
   "execution_count": null,
   "id": "151fe1d1-1543-472b-8e06-4a1bc1ccca02",
   "metadata": {},
   "outputs": [],
   "source": [
    "# # chunks for per-angle plots\n",
    "# chunks = {\n",
    "#     \"frequency\": 256,\n",
    "#     \"excitonic_layer_thickness\": 16,\n",
    "#     \"passive_layer_thickness\": 32,\n",
    "#     \"theta\": 1,\n",
    "#     \"num_periods\": 16,\n",
    "# }"
   ]
  },
  {
   "cell_type": "code",
   "execution_count": null,
   "id": "75b06b1d-235d-49b0-aa65-6cc0a2090fd1",
   "metadata": {},
   "outputs": [],
   "source": [
    "# chunks for plotting or integrating over angle\n",
    "chunks = {\n",
    "    \"frequency\": 256,\n",
    "    \"excitonic_layer_thickness\": 16,\n",
    "    \"passive_layer_thickness\": 32,\n",
    "    \"theta\": 16,\n",
    "    \"num_periods\": 1,\n",
    "}"
   ]
  },
  {
   "cell_type": "markdown",
   "id": "44c0db60-4565-45c8-b284-5c4936f380ef",
   "metadata": {
    "jp-MarkdownHeadingCollapsed": true,
    "tags": []
   },
   "source": [
    "#### Maths to work out good chunk sizes"
   ]
  },
  {
   "cell_type": "code",
   "execution_count": null,
   "id": "628bdc77-06fa-438a-bc2d-92e44a67e5f6",
   "metadata": {},
   "outputs": [],
   "source": [
    "def chunk_size(chunks):\n",
    "    return np.prod(list(chunks.values()))"
   ]
  },
  {
   "cell_type": "code",
   "execution_count": null,
   "id": "a1262744-e7d2-486a-81bb-903b506909e4",
   "metadata": {},
   "outputs": [],
   "source": [
    "# Number of chunks\n",
    "(combo_length(combos)*256*64) / chunk_size(chunks)"
   ]
  },
  {
   "cell_type": "code",
   "execution_count": null,
   "id": "55a546e7-00da-440d-94a0-881b43b62752",
   "metadata": {},
   "outputs": [],
   "source": [
    "# Do chunks contain at least a million data points?\n",
    "chunk_size(chunks)/1e6"
   ]
  },
  {
   "cell_type": "markdown",
   "id": "42850aba-5c6d-4b7f-8e5d-bfa2cd912dd9",
   "metadata": {},
   "source": [
    "####"
   ]
  },
  {
   "cell_type": "code",
   "execution_count": null,
   "id": "314d4df3-2a24-4c5d-bc95-c8d794c229b8",
   "metadata": {},
   "outputs": [],
   "source": [
    "ds = xr.open_mfdataset(\n",
    "    [\n",
    "        f\"data/run_{run_number}/LOPC_01.nc\",\n",
    "        f\"data/run_{run_number}/LOPC_02.nc\",\n",
    "        f\"data/run_{run_number}/LOPC_03.nc\",\n",
    "        f\"data/run_{run_number}/LOPC_04.nc\",\n",
    "    ],\n",
    "    engine=xarray_engine,\n",
    "    lock=False,\n",
    ")\n",
    "\n",
    "# ds.equals(h_lopc.full_ds)"
   ]
  },
  {
   "cell_type": "code",
   "execution_count": null,
   "id": "490fc2a6-b83c-4e75-a84c-c186adcacdf6",
   "metadata": {},
   "outputs": [],
   "source": [
    "ds_05 = xr.open_mfdataset(\n",
    "    f\"data/run_{run_number}/LOPC_05_*.nc\",\n",
    "    chunks={\"run\": 100},\n",
    "    concat_dim=\"run\",\n",
    "    combine=\"nested\",\n",
    "    engine=xarray_engine,\n",
    "    lock=False,\n",
    ")"
   ]
  },
  {
   "cell_type": "code",
   "execution_count": null,
   "id": "ebdfa2c3-27f8-48ea-a57a-461d89ac4e9c",
   "metadata": {},
   "outputs": [],
   "source": [
    "# assign each run a unique coordinate\n",
    "ds_05 = ds_05.assign_coords(run=range(len(ds_05.run)))"
   ]
  },
  {
   "cell_type": "markdown",
   "id": "95a9bfdf-32dc-40a0-b20c-53d689a648af",
   "metadata": {},
   "source": [
    "It might seem reasonable to do something like the line below to combine the datasets. This is horribly inefficient because `ds` and `ds_05` have different shapes; `ds` has length 100 in `run` and 4 in `delta`, while `ds_05` has length 1000 in `run` and 1 in `delta`. If we combine them, then as soon as we attempt to access any of the values in `run >= 100, delta < 0.5`, an enormous array of NaNs has to be created. It's not worth it.\n",
    "\n",
    "Instead, we can perform summary statistics on the datasets and *then* combine them when they're the same shape, or if we really have to we can create holoviews Elements separately and package them together."
   ]
  },
  {
   "cell_type": "code",
   "execution_count": null,
   "id": "39a80d32-c751-4327-8e24-e7274235755f",
   "metadata": {},
   "outputs": [],
   "source": [
    "# ds = xr.concat([ds, ds_05], dim=\"delta\", coords=\"minimal\")"
   ]
  },
  {
   "cell_type": "code",
   "execution_count": null,
   "id": "02dc33d9-d212-4734-8a62-d21e28534e3c",
   "metadata": {},
   "outputs": [],
   "source": [
    "indexer_from_disorder_ds = partial(indexer_from_dataset, drop=[\"run\", \"layer_number\", \"delta\"])"
   ]
  },
  {
   "cell_type": "code",
   "execution_count": null,
   "id": "1587e0bc-8569-41b9-b4ee-3654db143be3",
   "metadata": {},
   "outputs": [],
   "source": [
    "periodic_ds = xr.open_mfdataset(\n",
    "    f\"data/run_{undisordered_run_number}/LOPC.nc\",\n",
    "    engine=xarray_engine,\n",
    "    lock=False,\n",
    "    chunks=chunks,\n",
    ")"
   ]
  },
  {
   "cell_type": "code",
   "execution_count": null,
   "id": "45b3e605-89af-499a-a53a-b150a80c577c",
   "metadata": {},
   "outputs": [],
   "source": [
    "# loading the data into memory saves times later\n",
    "pds = periodic_ds.sel(indexer_from_disorder_ds(ds)).load()"
   ]
  },
  {
   "cell_type": "code",
   "execution_count": null,
   "id": "14069927-e224-4a91-94d7-99c6c445104e",
   "metadata": {},
   "outputs": [],
   "source": [
    "# add derived attrs\n",
    "ds = assign_derived_attrs(ds, per_oscillator=[\"Rs\", \"Rp\", \"R\", \"Ts\", \"Tp\", \"T\", \"As\", \"Ap\", \"A\"])\n",
    "# ds"
   ]
  },
  {
   "cell_type": "code",
   "execution_count": null,
   "id": "2d3e58a1-d281-4b9e-a592-a58e77d9adee",
   "metadata": {},
   "outputs": [],
   "source": [
    "restack_plt_to_period = partial(\n",
    "    restack,\n",
    "    start_idxs=[\"passive_layer_thickness\", \"excitonic_layer_thickness\"],\n",
    "    end_idxs=[\"period\", \"excitonic_layer_thickness\"],\n",
    ")"
   ]
  },
  {
   "cell_type": "code",
   "execution_count": null,
   "id": "10479a88-8105-473e-87fb-5ee49b2cf02f",
   "metadata": {},
   "outputs": [],
   "source": [
    "with dask.config.set(**{'array.slicing.split_large_chunks': False}):\n",
    "    restacked_ds = restack_plt_to_period(ds.drop_dims(\"layer_number\"))"
   ]
  },
  {
   "cell_type": "code",
   "execution_count": null,
   "id": "fd5d9927-f10f-4191-a2e6-9431e43dcc45",
   "metadata": {},
   "outputs": [],
   "source": [
    "# add derived attrs\n",
    "ds_05 = assign_derived_attrs(ds_05, per_oscillator=[\"Rs\", \"Rp\", \"R\", \"Ts\", \"Tp\", \"T\", \"As\", \"Ap\", \"A\"])\n",
    "# ds"
   ]
  },
  {
   "cell_type": "code",
   "execution_count": null,
   "id": "6af35986-037c-42c7-9793-01658db61bce",
   "metadata": {},
   "outputs": [],
   "source": [
    "with dask.config.set(**{'array.slicing.split_large_chunks': False}):\n",
    "    restacked_ds_05 = restack_plt_to_period(ds_05)"
   ]
  },
  {
   "cell_type": "code",
   "execution_count": null,
   "id": "acb1ac1d-ca63-4c7f-90a3-de4e45aeb754",
   "metadata": {},
   "outputs": [],
   "source": [
    "# add derived attrs\n",
    "pds = assign_derived_attrs(pds, per_oscillator=[\"Rs\", \"Rp\", \"R\", \"Ts\", \"Tp\", \"T\", \"As\", \"Ap\", \"A\"])"
   ]
  },
  {
   "cell_type": "code",
   "execution_count": null,
   "id": "7ddedd8e-68c6-4a42-989e-5abfcc5b92bb",
   "metadata": {},
   "outputs": [],
   "source": [
    "restacked_pds = restack_plt_to_period(pds)"
   ]
  },
  {
   "cell_type": "markdown",
   "id": "d15a91c7-42ea-4f15-8670-84e948a3edd5",
   "metadata": {},
   "source": [
    "### Load reference slab dataset"
   ]
  },
  {
   "cell_type": "code",
   "execution_count": null,
   "id": "64e01795-ef79-4ce4-858f-77247d7b44ed",
   "metadata": {},
   "outputs": [],
   "source": [
    "# useful variables\n",
    "total_excitonic_thicknesses = np.unique(ds.total_excitonic_thickness)\n",
    "total_passive_thicknesses = np.unique(ds.total_passive_thickness)\n",
    "total_thicknesses = np.unique(ds.total_thickness)"
   ]
  },
  {
   "cell_type": "code",
   "execution_count": null,
   "id": "0aee67aa-e335-4c80-a910-fcc5b4385020",
   "metadata": {
    "tags": []
   },
   "outputs": [],
   "source": [
    "ref = xr.open_mfdataset(\n",
    "    f\"data/run_{undisordered_run_number}/ref.nc\",\n",
    "    engine=xarray_engine,\n",
    "    lock=False,\n",
    "    # chunks={'theta': 16},\n",
    ")"
   ]
  },
  {
   "cell_type": "markdown",
   "id": "404c4881-138a-40c2-818f-963749107a88",
   "metadata": {},
   "source": [
    "Note: `period=False` is an important option because otherwise it ends up a coordinate of `total_excitonic_thickness` and causes a conflict after binary operations with `ds`."
   ]
  },
  {
   "cell_type": "code",
   "execution_count": null,
   "id": "ba64a3ed-03f4-4559-aa7a-b48e2dcf1ef8",
   "metadata": {},
   "outputs": [],
   "source": [
    "ref = assign_derived_attrs(ref, period=False, total_excitonic_thickness=False, total_passive_thickness=False, total_thickness=False)\n",
    "# ref"
   ]
  },
  {
   "cell_type": "code",
   "execution_count": null,
   "id": "3d5bd968-e4c6-45af-ba1d-ff26023f2bb1",
   "metadata": {
    "tags": []
   },
   "outputs": [],
   "source": [
    "# compressed reference slab without passive layer\n",
    "crs_1 = (\n",
    "    ref.sel(\n",
    "        remove_last_layer=1,\n",
    "        passive_layer_thickness=0,\n",
    "        excitonic_layer_thickness=total_excitonic_thicknesses,\n",
    "        drop=True,\n",
    "    )\n",
    "    .squeeze(drop=True)\n",
    "    .rename(excitonic_layer_thickness=\"total_excitonic_thickness\")\n",
    "    .load()\n",
    ")\n",
    "\n",
    "# # compressed reference slab with the passive layer at the end\n",
    "# crs_0 = (\n",
    "#     ref.sel(\n",
    "#         remove_last_layer=0,\n",
    "#         passive_layer_thickness=total_passive_thicknesses,\n",
    "#         excitonic_layer_thickness=total_excitonic_thicknesses,\n",
    "#         drop=True,\n",
    "#     )\n",
    "#     .squeeze(drop=True)\n",
    "#     .rename(\n",
    "#         excitonic_layer_thickness=\"total_excitonic_thickness\",\n",
    "#         passive_layer_thickness=\"total_passive_thickness\",\n",
    "#     )\n",
    "# )"
   ]
  },
  {
   "cell_type": "markdown",
   "id": "a2d17bd2-ee77-4e7f-a12f-cb81d2519d3a",
   "metadata": {
    "tags": []
   },
   "source": [
    "### Calculate derived variables"
   ]
  },
  {
   "cell_type": "markdown",
   "id": "6c36d7af-9b11-4904-b135-c69c522e6ee5",
   "metadata": {
    "tags": []
   },
   "source": [
    "#### Normalise by CRS"
   ]
  },
  {
   "cell_type": "code",
   "execution_count": null,
   "id": "d45798a5-eeb1-47ab-8eda-97073d9f2b43",
   "metadata": {},
   "outputs": [],
   "source": [
    "with dask.config.set(**{'array.slicing.split_large_chunks': False}):\n",
    "    norm_1 = enhancement_factor(ds, ref=crs_1, common_dim=\"total_excitonic_thickness\", method=\"groupby\")"
   ]
  },
  {
   "cell_type": "code",
   "execution_count": null,
   "id": "d1f23ca5-9f0b-495e-af57-0f1feccd9700",
   "metadata": {},
   "outputs": [],
   "source": [
    "with dask.config.set(**{'array.slicing.split_large_chunks': False}):\n",
    "    restacked_norm_1 = restack_plt_to_period(norm_1)"
   ]
  },
  {
   "cell_type": "code",
   "execution_count": null,
   "id": "ae4b7ece-a9de-4299-a626-d963c87c4d8a",
   "metadata": {},
   "outputs": [],
   "source": [
    "with dask.config.set(**{'array.slicing.split_large_chunks': False}):\n",
    "    norm_1_05 = enhancement_factor(ds_05, ref=crs_1, common_dim=\"total_excitonic_thickness\", method=\"groupby\")"
   ]
  },
  {
   "cell_type": "code",
   "execution_count": null,
   "id": "a8b26c6b-7fb2-4fc6-8839-27140a628711",
   "metadata": {},
   "outputs": [],
   "source": [
    "with dask.config.set(**{'array.slicing.split_large_chunks': False}):\n",
    "    restacked_norm_1_05 = restack_plt_to_period(norm_1_05)"
   ]
  },
  {
   "cell_type": "markdown",
   "id": "89b64d77-8549-4bb6-b417-a3e138cccf29",
   "metadata": {
    "tags": []
   },
   "source": [
    "#### Difference with CRS"
   ]
  },
  {
   "cell_type": "code",
   "execution_count": null,
   "id": "aacc4dda-006f-4a70-95ae-b49347e794fa",
   "metadata": {},
   "outputs": [],
   "source": [
    "with dask.config.set(**{'array.slicing.split_large_chunks': False}):\n",
    "    gb_tet = ds.groupby('total_excitonic_thickness')"
   ]
  },
  {
   "cell_type": "code",
   "execution_count": null,
   "id": "1992cf5b-6b9c-4eb5-969a-909295f956ba",
   "metadata": {
    "tags": []
   },
   "outputs": [],
   "source": [
    "# 'biology' absorptance enhancement factor: normalise by reference slab type 1: compressed reference slab w/o passive layer\n",
    "diff_1 = gb_tet - crs_1"
   ]
  },
  {
   "cell_type": "code",
   "execution_count": null,
   "id": "ad8f7f3c-c809-479c-b620-8a475d8e6e3b",
   "metadata": {},
   "outputs": [],
   "source": [
    "# diff_1 = assign_derived_attrs(\n",
    "#     dataset=diff_1,\n",
    "#     unpolarised=True,\n",
    "#     absorption=False,\n",
    "#     period=False,\n",
    "#     total_excitonic_thickness=False,\n",
    "#     total_passive_thickness=False,\n",
    "#     total_thickness=False,\n",
    "#     N_tot=False,\n",
    "#     per_oscillator=[\"Rs\", \"Rp\", \"R\", \"Ts\", \"Tp\", \"T\", \"As\", \"Ap\", \"A\"],\n",
    "# )"
   ]
  },
  {
   "cell_type": "code",
   "execution_count": null,
   "id": "3654cbb1-65dd-47c7-b325-b89cd4ddc238",
   "metadata": {},
   "outputs": [],
   "source": [
    "with dask.config.set(**{'array.slicing.split_large_chunks': False}):\n",
    "    restacked_diff_1 = restack_plt_to_period(diff_1)"
   ]
  },
  {
   "cell_type": "code",
   "execution_count": null,
   "id": "fb29ec91-07c5-4185-a391-b8ae3d123b97",
   "metadata": {},
   "outputs": [],
   "source": [
    "with dask.config.set(**{'array.slicing.split_large_chunks': False}):\n",
    "    gb_tet_05 = ds_05.groupby('total_excitonic_thickness')"
   ]
  },
  {
   "cell_type": "code",
   "execution_count": null,
   "id": "f239bcc2-6ea2-4742-bf59-24ebc085b911",
   "metadata": {
    "tags": []
   },
   "outputs": [],
   "source": [
    "# 'biology' absorptance enhancement factor: normalise by reference slab type 1: compressed reference slab w/o passive layer\n",
    "diff_1_05 = gb_tet_05 - crs_1"
   ]
  },
  {
   "cell_type": "code",
   "execution_count": null,
   "id": "56a43a1e-b866-4397-a14a-2f79fe54af7f",
   "metadata": {},
   "outputs": [],
   "source": [
    "with dask.config.set(**{'array.slicing.split_large_chunks': False}):\n",
    "    restacked_diff_1_05 = restack_plt_to_period(diff_1_05)"
   ]
  },
  {
   "cell_type": "markdown",
   "id": "7da19969-7f41-4964-8d2c-14fa18080b2b",
   "metadata": {
    "tags": []
   },
   "source": [
    "# Plots"
   ]
  },
  {
   "cell_type": "code",
   "execution_count": null,
   "id": "32781165-5c0f-4026-81a7-0782c710f85b",
   "metadata": {},
   "outputs": [],
   "source": [
    "unpolarised_RTA = [\"R\", \"T\", \"A\"]\n",
    "s_polarised_RTA = [\"Rs\", \"Ts\", \"As\"]\n",
    "reflectance = [\"Rs\", \"Rp\", \"R\"]\n",
    "transmittance = [\"Ts\", \"Tp\", \"T\"]\n",
    "absorptance = [\"As\", \"Ap\", \"A\"]\n",
    "per_oscillator_RTA = [\"R_per_oscillator\", \"T_per_oscillator\", \"A_per_oscillator\"]"
   ]
  },
  {
   "cell_type": "code",
   "execution_count": null,
   "id": "66feace0-b9f7-427a-b8d3-e7bf1883b4b6",
   "metadata": {},
   "outputs": [],
   "source": [
    "# WARNING: all these datasets will be fundamentally changed after this cell, to the extent that it can't be run twice\n",
    "# For consistency, keep important calculations in the preceding section!\n",
    "ds = pre_process_for_plots(ds)\n",
    "restacked_ds = pre_process_for_plots(restacked_ds)\n",
    "ds_05 = pre_process_for_plots(ds_05)\n",
    "restacked_ds_05 = pre_process_for_plots(restacked_ds_05)\n",
    "pds = pre_process_for_plots(pds)\n",
    "restacked_pds = pre_process_for_plots(restacked_pds)\n",
    "ref = pre_process_for_plots(ref)\n",
    "crs_1 = pre_process_for_plots(crs_1)\n",
    "norm_1 = pre_process_for_plots(norm_1)\n",
    "restacked_norm_1 = pre_process_for_plots(restacked_norm_1)\n",
    "norm_1_05 = pre_process_for_plots(norm_1_05)\n",
    "restacked_norm_1_05 = pre_process_for_plots(restacked_norm_1_05)\n",
    "diff_1 = pre_process_for_plots(diff_1)\n",
    "restacked_diff_1 = pre_process_for_plots(restacked_diff_1)\n",
    "diff_1_05 = pre_process_for_plots(diff_1_05)\n",
    "restacked_diff_1_05 = pre_process_for_plots(restacked_diff_1_05)"
   ]
  },
  {
   "cell_type": "code",
   "execution_count": null,
   "id": "7590f46a-5257-4c2c-848d-5e32295cacd1",
   "metadata": {},
   "outputs": [],
   "source": [
    "for c in ds.coords.values():\n",
    "    print(c.attrs)"
   ]
  },
  {
   "cell_type": "code",
   "execution_count": null,
   "id": "44b0d870-c39b-466c-8861-a0fd029f989c",
   "metadata": {},
   "outputs": [],
   "source": [
    "period_dim = hv.Dimension(\"period\", label=\"Λ\", unit=\"nm\")\n",
    "wavelength_dim = hv.Dimension(\"wavelength\", label=\"λ\", unit=\"nm\")\n",
    "real_index_dim = hv.Dimension(\"n\")\n",
    "imag_index_dim = hv.Dimension(\"k\", label=\"ϰ\")"
   ]
  },
  {
   "cell_type": "markdown",
   "id": "c390bf43-34a9-48a5-9e09-dd2c92c030ca",
   "metadata": {
    "jp-MarkdownHeadingCollapsed": true,
    "tags": []
   },
   "source": [
    "### Useful lines"
   ]
  },
  {
   "cell_type": "markdown",
   "id": "9a3f4327-5f2a-4dfd-94bd-3df2e298872e",
   "metadata": {
    "tags": []
   },
   "source": [
    "#### Function to do linewidth maths"
   ]
  },
  {
   "cell_type": "code",
   "execution_count": null,
   "id": "1ac69d5a-91d5-4270-9a1d-26d4d4c23f27",
   "metadata": {},
   "outputs": [],
   "source": [
    "def linewidth_calculator_factory(centre, linewidth):\n",
    "    return partial(linewidth_calculator, centre=centre, linewidth=linewidth)"
   ]
  },
  {
   "cell_type": "markdown",
   "id": "41983a1f-3153-4b5d-9425-d3999cc20c97",
   "metadata": {
    "tags": []
   },
   "source": [
    "#### Lorentz lines"
   ]
  },
  {
   "cell_type": "markdown",
   "id": "c611080a-f4a1-4c88-85ed-b139a2809afe",
   "metadata": {},
   "source": [
    "I want some sort of metric for 'near the resonance' and 'far from the resonance'. The natural unit of distance in this instance is the linewidth. The linewidth is given in rad/s so there need to be some conversions to get the equivalent lines in the plots by wavelength, but they are roughly symmetrical around the peak wavelength.\n",
    "\n",
    "Based on the plots of the refractive index below, I think I will consider 'near' to be 'within two linewidths', and 'far' to be 'at least four linewidths away'."
   ]
  },
  {
   "cell_type": "code",
   "execution_count": null,
   "id": "c0e09946-1106-40ea-a4d9-d3c93cf547ad",
   "metadata": {},
   "outputs": [],
   "source": [
    "# resonance_line = hv.VLine(680, label='LO resonance wavelength').opts(line_dash='dotted')\n",
    "\n",
    "# Convert from rad/s to Hz\n",
    "lorentz_linewidth_frequency = default_oscillator_params[\"lorentz_linewidth\"] / (2*np.pi)"
   ]
  },
  {
   "cell_type": "code",
   "execution_count": null,
   "id": "f2f096fa-c791-46ec-b171-bab98f3c72c4",
   "metadata": {},
   "outputs": [],
   "source": [
    "lorentz_line_frequency = linewidth_calculator_factory(convert_wavelength_and_frequency(680e-9), lorentz_linewidth_frequency)\n",
    "\n",
    "def lorentz_line_wavelength(x=None):\n",
    "    x = -x if x is not None else x\n",
    "    return convert_wavelength_and_frequency(lorentz_line_frequency(x))"
   ]
  },
  {
   "cell_type": "code",
   "execution_count": null,
   "id": "0ee00ed9-4f1e-40cb-9cf4-d52eb60746ea",
   "metadata": {},
   "outputs": [],
   "source": [
    "def lorentz_vlines(x=0, scale=1, mode='wavelength', **kwargs):\n",
    "    if mode == 'wavelength':\n",
    "        line_func = lorentz_line_wavelength\n",
    "    elif mode == 'frequency':\n",
    "        line_func = lorentz_line_frequency\n",
    "    else:\n",
    "        raise TypeError(f\"mode should be 'wavelength' or 'frequency', not {mode}\")\n",
    "        \n",
    "    match x:\n",
    "        case [*xs]:\n",
    "            line_pos = [line_func(x)/scale for x in xs]\n",
    "        case x:\n",
    "            line_pos = line_func(x)/scale\n",
    "            \n",
    "    return vlines(line_pos, **kwargs)"
   ]
  },
  {
   "cell_type": "markdown",
   "id": "3d28e3b6-868e-41db-8789-e6eaffc37193",
   "metadata": {
    "tags": []
   },
   "source": [
    "### Useful functions"
   ]
  },
  {
   "cell_type": "markdown",
   "id": "a8bc52d9-1e1a-4465-9398-e1be7b844b6d",
   "metadata": {
    "tags": []
   },
   "source": [
    "#### Select a wavelength or wavelength range based on the distance from the resonance in linewidths."
   ]
  },
  {
   "cell_type": "code",
   "execution_count": null,
   "id": "ed89d4a1-671d-482d-b3bf-5fa6c396d3f6",
   "metadata": {},
   "outputs": [],
   "source": [
    "def select_lorentz_line(da, lorentz_line=0, window_radius=0):\n",
    "    if window_radius == 0:\n",
    "        wavelength = lorentz_line_wavelength(lorentz_line) * 1e9\n",
    "        wavelength_sel_method = \"nearest\"\n",
    "    else:\n",
    "        wavelength = slice(\n",
    "            lorentz_line_wavelength(lorentz_line - window_radius) * 1e9,\n",
    "            lorentz_line_wavelength(lorentz_line + window_radius) * 1e9,\n",
    "        )\n",
    "        wavelength_sel_method = None\n",
    "    da = da.sel(wavelength=wavelength, method=wavelength_sel_method)\n",
    "    \n",
    "    return da"
   ]
  },
  {
   "cell_type": "markdown",
   "id": "92775524-39af-444f-b8ed-0f67ca7b0ce7",
   "metadata": {
    "tags": []
   },
   "source": [
    "#### Plot a comparison of the reflectance and absorptance of the LOPC with that of the reference slab."
   ]
  },
  {
   "cell_type": "code",
   "execution_count": null,
   "id": "46eb5cb4-9c09-47dc-ab4d-b8b777371286",
   "metadata": {},
   "outputs": [],
   "source": [
    "opts_R = [opts.Curve(color=blue, ylim=(0,1)), opts.Image(cmap='viridis', clim=(0,1)), opts.QuadMesh(cmap='viridis', clim=(0,1))]\n",
    "\n",
    "def plot_R(variable=\"R\", dataset=None, label_field=\"long_name\", label_append=None, **hvplot_kwargs):\n",
    "    plot = plot_var(variable, dataset, label_field, label_append, **hvplot_kwargs)\n",
    "    plot.opts(*opts_R)\n",
    "    return plot\n",
    "\n",
    "# # test\n",
    "# plot_R(dataset=restacked_ds.mean(\"run\", keep_attrs=True).sel(period=200, excitonic_layer_thickness=50, num_periods=10).squeeze(), x=\"wavelength\", y=\"theta\").opts(cmap=\"cividis\", clim=(None, None))"
   ]
  },
  {
   "cell_type": "code",
   "execution_count": null,
   "id": "14bb83d6-f289-4771-a405-95a0afd31eed",
   "metadata": {},
   "outputs": [],
   "source": [
    "opts_T = [opts.Curve(color=yellow, ylim=(0,1)), opts.Image(cmap='cividis', clim=(0,1)), opts.QuadMesh(cmap='cividis', clim=(0,1))]\n",
    "\n",
    "def plot_T(variable=\"T\", dataset=None, label_field=\"long_name\", label_append=None, **hvplot_kwargs):\n",
    "    plot = plot_var(variable, dataset, label_field, label_append, **hvplot_kwargs)\n",
    "    plot.opts(*opts_T)\n",
    "    return plot"
   ]
  },
  {
   "cell_type": "code",
   "execution_count": null,
   "id": "e4ada36f-3e13-4c72-8201-edfeadca171f",
   "metadata": {},
   "outputs": [],
   "source": [
    "opts_A = [opts.Curve(color=red, ylim=(0,1)), opts.Image(cmap='inferno', clim=(0,1)), opts.QuadMesh(cmap='inferno', clim=(0,1))]\n",
    "\n",
    "def plot_A(variable=\"A\", dataset=None, label_field=\"long_name\", label_append=None, **hvplot_kwargs):\n",
    "    plot = plot_var(variable, dataset, label_field, label_append, **hvplot_kwargs)\n",
    "    plot.opts(*opts_A)\n",
    "    return plot"
   ]
  },
  {
   "cell_type": "code",
   "execution_count": null,
   "id": "bd86a5d3-55a4-4ce2-82e0-554b68fcec15",
   "metadata": {},
   "outputs": [],
   "source": [
    "def plot_vars_to_funcs(plot_vars):\n",
    "    var_func_mapping = {\n",
    "        \"R\": plot_R,\n",
    "        \"T\": plot_T,\n",
    "        \"A\": plot_A,\n",
    "        \"Rs\": partial(plot_R, variable=\"Rs\"),\n",
    "        \"Ts\": partial(plot_T, variable=\"Ts\"),\n",
    "        \"As\": partial(plot_A, variable=\"As\"),\n",
    "        \"Rp\": partial(plot_R, variable=\"Rp\"),\n",
    "        \"Tp\": partial(plot_T, variable=\"Tp\"),\n",
    "        \"Ap\": partial(plot_A, variable=\"Ap\"),\n",
    "        \"R_per_oscillator\": partial(plot_R, variable=\"R_per_oscillator\"),\n",
    "        \"T_per_oscillator\": partial(plot_T, variable=\"T_per_oscillator\"),\n",
    "        \"A_per_oscillator\": partial(plot_A, variable=\"A_per_oscillator\"),\n",
    "        \"Rs_per_oscillator\": partial(plot_R, variable=\"Rs_per_oscillator\"),\n",
    "        \"Ts_per_oscillator\": partial(plot_T, variable=\"Ts_per_oscillator\"),\n",
    "        \"As_per_oscillator\": partial(plot_A, variable=\"As_per_oscillator\"),\n",
    "        \"Rp_per_oscillator\": partial(plot_R, variable=\"Rp_per_oscillator\"),\n",
    "        \"Tp_per_oscillator\": partial(plot_T, variable=\"Tp_per_oscillator\"),\n",
    "        \"Ap_per_oscillator\": partial(plot_A, variable=\"Ap_per_oscillator\"),\n",
    "    }\n",
    "\n",
    "    plot_funcs = []\n",
    "    for var in plot_vars:\n",
    "        try:\n",
    "            func = var_func_mapping[var]\n",
    "        except KeyError:\n",
    "            func = partial(plot_var, variable=var)\n",
    "        plot_funcs.append(func)\n",
    "\n",
    "    return plot_funcs"
   ]
  },
  {
   "cell_type": "code",
   "execution_count": null,
   "id": "7a42d071-e1ac-4adb-a0aa-0da64d0b73d0",
   "metadata": {
    "tags": []
   },
   "outputs": [],
   "source": [
    "# new version\n",
    "def plot_RTA(\n",
    "    period,\n",
    "    excitonic_layer_thickness,\n",
    "    num_periods,\n",
    "    theta,\n",
    "    title=\"\",\n",
    "    include=[\"LOPC\", \"CRS_1\"],\n",
    "    plot_vars=[\"R\", \"T\", \"A\"],\n",
    "    label_override=None,\n",
    "    label_append=None,\n",
    "):\n",
    "    label_field = None  # for debugging\n",
    "    label_append = \"\" if label_append is None else label_append\n",
    "\n",
    "    P = period\n",
    "    t = excitonic_layer_thickness\n",
    "    N = num_periods\n",
    "\n",
    "    plot_funcs = [\n",
    "        partial(func, x=\"wavelength\", label_field=label_field)\n",
    "        for func in plot_vars_to_funcs(plot_vars)\n",
    "    ]\n",
    "    curves = []\n",
    "    if \"LOPC\" in include:\n",
    "        lopc_label = \" (LOPC)\" if label_override is None else label_override\n",
    "        lopc_label += label_append\n",
    "        lopc_sel = restacked_ds.sel(\n",
    "            period=P, excitonic_layer_thickness=t, num_periods=N\n",
    "        ).squeeze()\n",
    "        lopc_sel = sel_or_integrate(lopc_sel, \"theta\", theta, normalisation=1)\n",
    "        lopc_curves = [\n",
    "            plot_func(dataset=lopc_sel, label_append=lopc_label).opts(line_dash=\"solid\")\n",
    "            for plot_func in plot_funcs\n",
    "        ]\n",
    "        curves += lopc_curves\n",
    "    if \"CRS_1\" in include:\n",
    "        crs_1_label = \" (CRS)\" if label_override is None else label_override\n",
    "        crs_1_label += label_append\n",
    "        crs_1_sel = crs_1.sel(total_excitonic_thickness=t * N).squeeze()\n",
    "        crs_1_sel = sel_or_integrate(crs_1_sel, \"theta\", theta, normalisation=1)\n",
    "        crs_1_curves = [\n",
    "            plot_func(dataset=crs_1_sel, label_append=crs_1_label).opts(\n",
    "                line_dash=\"dashed\"\n",
    "            )\n",
    "            for plot_func in plot_funcs\n",
    "        ]\n",
    "        curves += crs_1_curves\n",
    "    if \"FRS_1\" in include:\n",
    "        frs_1_label = \" (FRS)\" if label_override is None else label_override\n",
    "        frs_1_label += label_append\n",
    "        frs_1_sel = frs_1.sel(total_thickness=(P + t) * N).squeeze()\n",
    "        frs_1_sel = sel_or_integrate(frs_1_sel, \"theta\", theta, normalisation=1)\n",
    "        frs_1_curves = [\n",
    "            plot_func(dataset=frs_1_sel, label_append=frs_1_label).opts(\n",
    "                line_dash=\"dotted\"\n",
    "            )\n",
    "            for plot_func in plot_funcs\n",
    "        ]\n",
    "        curves += frs_1_curves\n",
    "\n",
    "    overlay = hv.Overlay(curves).opts(\n",
    "        opts.Curve(\n",
    "            ylim=(0, 1),\n",
    "            ylabel=\"Intensity\",\n",
    "            title=f\"{title}{coordinate_string(period=P, excitonic_layer_thickness=t, num_periods=N, theta=theta)}\",\n",
    "        ),\n",
    "    )\n",
    "\n",
    "    return overlay\n",
    "\n",
    "\n",
    "# # test\n",
    "# display(\n",
    "#     plot_RTA(200, 50, 20, 0, \"test\\n\", include=[\"LOPC\", \"CRS_1\"]).opts(\n",
    "#         legend_position=\"right\"\n",
    "#     )\n",
    "# )\n",
    "\n",
    "# display(\n",
    "#     plot_RTA(\n",
    "#         200,\n",
    "#         50,\n",
    "#         20,\n",
    "#         (10, 50),\n",
    "#         \"test RA only\\n\",\n",
    "#         include=[\"LOPC\", \"CRS_1\"],\n",
    "#         plot_vars=[\"R\", \"A\"],\n",
    "#     ).opts(opts.Overlay(legend_position=\"right\"))\n",
    "# )\n",
    "\n",
    "# display(\n",
    "#     plot_RTA(\n",
    "#         200,\n",
    "#         50,\n",
    "#         20,\n",
    "#         75,\n",
    "#         \"test\\n\",\n",
    "#         include=[\"LOPC\"],\n",
    "#         plot_vars=[\"R_per_oscillator\", \"A_per_oscillator\"],\n",
    "#         label_append=\" test\",\n",
    "#         label_override=\"OVERRIDDEN\",\n",
    "#     ).opts(opts.Curve(ylim=(None, None)), opts.Overlay(legend_position=\"right\"))\n",
    "# )"
   ]
  },
  {
   "cell_type": "markdown",
   "id": "b9d9dd16-21ce-48fc-b0c7-657b27ac2782",
   "metadata": {
    "tags": []
   },
   "source": [
    "#### Plot a comparison of normal incidence to integrated"
   ]
  },
  {
   "cell_type": "code",
   "execution_count": null,
   "id": "a0fdb364-45f4-4e8e-ac3c-49514bf7991f",
   "metadata": {},
   "outputs": [],
   "source": [
    "def plot_comparison(*comparison_params: tuple[dict, list[\"opts\"]], plot_func=plot_RTA, **shared_params):\n",
    "    param_opts = [(shared_params|comp_params, comp_opts) for comp_params, comp_opts in comparison_params]\n",
    "    plots = [plot_func(**comp_params).opts(*comp_opts) for comp_params, comp_opts in param_opts]\n",
    "    return plots"
   ]
  },
  {
   "cell_type": "code",
   "execution_count": null,
   "id": "0133c19b-280e-45e6-853c-ed378e4eaf79",
   "metadata": {},
   "outputs": [],
   "source": [
    "def compare_RTA(*args, opts_cycle=None, **shared_params):\n",
    "    default_opts = [[opts.Curve(line_dash=style)] for style in [\"solid\", \"dashed\", \"dotted\", \"dotdash\", \"dashdot\"]]\n",
    "    opts_cycle = default_opts if opts_cycle is None else opts_cycle\n",
    "    \n",
    "    # comparison_params = list(zip(args, opts_cycle))\n",
    "    \n",
    "    plots = plot_comparison(*zip(args, opts_cycle), plot_func=plot_RTA, **shared_params)\n",
    "    overlay = hv.Overlay(plots).opts(opts.Overlay(legend_position=\"right\"))\n",
    "                                     \n",
    "    return overlay\n",
    "\n",
    "# # test\n",
    "# shared_params = {\n",
    "#     \"period\": 250,\n",
    "#     \"excitonic_layer_thickness\": 70,\n",
    "#     \"num_periods\": 30,\n",
    "#     \"include\": [\"LOPC\"],\n",
    "# }\n",
    "# compare_RTA({\"theta\": (0, 75), \"label_override\": \" (integrated)\"}, {\"theta\": 0, \"label_override\": \" (θ = 0)\"}, **shared_params)"
   ]
  },
  {
   "cell_type": "code",
   "execution_count": null,
   "id": "de3497ad-d081-49c8-86fa-9275cd25b13d",
   "metadata": {},
   "outputs": [],
   "source": [
    "compare_RTA_normal_vs_integrated = partial(compare_RTA, {\"theta\": (0, 75), \"label_override\": \" (integrated)\"}, {\"theta\": 0, \"label_override\": \" (θ = 0)\"}, include= [\"LOPC\"],)\n",
    "\n",
    "# # test\n",
    "# shared_params = {\n",
    "#     \"period\": 250,\n",
    "#     \"excitonic_layer_thickness\": 70,\n",
    "#     \"num_periods\": 30,\n",
    "# }\n",
    "# compare_RTA_normal_vs_integrated(**shared_params)"
   ]
  },
  {
   "cell_type": "markdown",
   "id": "f4a2ea7b-6ecf-4179-a06a-3c03ef43bbf1",
   "metadata": {
    "tags": []
   },
   "source": [
    "#### Plot the RTA of the structures in 2D"
   ]
  },
  {
   "cell_type": "code",
   "execution_count": null,
   "id": "a90b459a-5569-4c55-8a30-45c063c1369f",
   "metadata": {
    "tags": []
   },
   "outputs": [],
   "source": [
    "def plot_RTA_2D(\n",
    "    period,\n",
    "    excitonic_layer_thickness,\n",
    "    num_periods,\n",
    "    theta=(0, 75),\n",
    "    title=\"\",\n",
    "    include=[\"LOPC\", \"CRS_1\"],\n",
    "):\n",
    "    P = period\n",
    "    t = excitonic_layer_thickness\n",
    "    N = num_periods\n",
    "\n",
    "    plots = []\n",
    "    if \"LOPC\" in include:\n",
    "        lopc_sel = restacked_ds.sel(\n",
    "            period=P, excitonic_layer_thickness=t, num_periods=N\n",
    "        ).squeeze()\n",
    "        lopc_sel = lopc_sel.sel(theta=slice(*theta))\n",
    "        plots.append(\n",
    "            lopc_sel[\"R\"]\n",
    "            .hvplot(kind=\"image\", x=\"wavelength\", y=\"theta\", title=\"Reflectance (LOPC)\")\n",
    "            .opts(opts.Image(cmap=\"viridis\"))\n",
    "        )\n",
    "        plots.append(\n",
    "            lopc_sel[\"T\"]\n",
    "            .hvplot(kind=\"image\", x=\"wavelength\", y=\"theta\", title=\"Transmittance (LOPC)\")\n",
    "            .opts(opts.Image(cmap=\"cividis\"))\n",
    "        )\n",
    "        plots.append(\n",
    "            lopc_sel[\"A\"]\n",
    "            .hvplot(kind=\"image\", x=\"wavelength\", y=\"theta\", title=\"Absorptance (LOPC)\")\n",
    "            .opts(opts.Image(cmap=\"inferno\"))\n",
    "        )\n",
    "    if \"CRS_1\" in include:\n",
    "        crs_1_sel = crs_1.sel(total_excitonic_thickness=t * N).squeeze()\n",
    "        crs_1_sel = crs_1_sel.sel(theta=slice(*theta))\n",
    "        plots.append(\n",
    "            crs_1_sel[\"R\"]\n",
    "            .hvplot(kind=\"image\", x=\"wavelength\", y=\"theta\", title=\"Reflectance (CRS)\")\n",
    "            .opts(opts.Image(cmap=\"viridis\"))\n",
    "        )\n",
    "        plots.append(\n",
    "            crs_1_sel[\"T\"]\n",
    "            .hvplot(kind=\"image\", x=\"wavelength\", y=\"theta\", title=\"Transmittance (CRS)\")\n",
    "            .opts(opts.Image(cmap=\"cividis\"))\n",
    "        )\n",
    "        plots.append(\n",
    "            crs_1_sel[\"A\"]\n",
    "            .hvplot(kind=\"image\", x=\"wavelength\", y=\"theta\", title=\"Absorptance (CRS)\")\n",
    "            .opts(opts.Image(cmap=\"inferno\"))\n",
    "        )\n",
    "    if \"FRS_1\" in include:\n",
    "        frs_1_sel = frs_1.sel(total_thickness=(P + t) * N).squeeze()\n",
    "        frs_1_sel = frs_1_sel.sel(theta=slice(*theta))\n",
    "        plots.append(\n",
    "            frs_1_sel[\"R\"]\n",
    "            .hvplot(kind=\"image\", x=\"wavelength\", y=\"theta\", title=\"Reflectance (FRS)\")\n",
    "            .opts(opts.Image(cmap=\"viridis\"))\n",
    "        )\n",
    "        plots.append(\n",
    "            frs_1_sel[\"T\"]\n",
    "            .hvplot(kind=\"image\", x=\"wavelength\", y=\"theta\", title=\"Transmittance (FRS)\")\n",
    "            .opts(opts.Image(cmap=\"cividis\"))\n",
    "        )\n",
    "        plots.append(\n",
    "            frs_1_sel[\"A\"]\n",
    "            .hvplot(kind=\"image\", x=\"wavelength\", y=\"theta\", title=\"Absorptance (FRS)\")\n",
    "            .opts(opts.Image(cmap=\"inferno\"))\n",
    "        )\n",
    "\n",
    "    layout = hv.Layout(plots).opts(\n",
    "        opts.Image(\n",
    "            clim=(0, 1),\n",
    "            clabel=\"Intensity\",\n",
    "        ),\n",
    "        opts.Layout(\n",
    "            title=f\"{title}{coordinate_string(period=P, excitonic_layer_thickness=t, num_periods=N)}\",\n",
    "        ),\n",
    "    )\n",
    "\n",
    "    return layout\n",
    "\n",
    "# # test\n",
    "# display(plot_RTA_2D(200, 50, 20, (0, 90), \"test\\n\", include=[\"LOPC\", \"CRS_1\"]).opts(opts.Image(frame_width=200)).cols(3))\n",
    "\n",
    "# display(plot_RTA_2D(200, 40, 20, (10, 50), \"test\\n\", include=[\"LOPC\", \"CRS_1\", \"FRS_1\"]).opts(opts.Image(frame_width=200)).cols(3))"
   ]
  },
  {
   "cell_type": "markdown",
   "id": "50389be2-9138-4d8a-8236-eb7fc75f06ba",
   "metadata": {
    "tags": []
   },
   "source": [
    "#### Plot an enhancement factor."
   ]
  },
  {
   "cell_type": "code",
   "execution_count": null,
   "id": "9c62ddbb-0387-480b-aac7-fe67bfa6ccf8",
   "metadata": {},
   "outputs": [],
   "source": [
    "def plot_ef(\n",
    "    variable,\n",
    "    dataset,\n",
    "    sel=None,\n",
    "    sel_method=None,\n",
    "    title=\"\",\n",
    "    *,\n",
    "    x=\"wavelength\",\n",
    "    y=None,\n",
    "):\n",
    "    sel = {} if sel is None else sel\n",
    "    da = dataset[variable].sel(**sel, method=sel_method).squeeze()\n",
    "    if y is None:\n",
    "        plot = da.hvplot(x=x, label=f\"{variable} enhancement factor\")\n",
    "        plot *= hv.HLine(1).opts(line_dash=\"dotted\")\n",
    "    else:\n",
    "        plot = da.hvplot(\n",
    "            kind=\"image\",\n",
    "            x=x,\n",
    "            y=y,\n",
    "            label=f\"{variable} enhancement factor\",\n",
    "            clim=(0.5, 1.5),\n",
    "        )\n",
    "    plot = plot.opts(\n",
    "        opts.Curve(\n",
    "            title=f\"{title}{coordinate_string(**sel)}\",\n",
    "        ),\n",
    "        opts.Overlay(\n",
    "            title=f\"{title}{coordinate_string(**sel)}\",\n",
    "        ),\n",
    "    )\n",
    "\n",
    "    return plot\n",
    "\n",
    "\n",
    "# # test\n",
    "# sel_1 = {\"period\": 200, \"excitonic_layer_thickness\": 40, \"num_periods\": 10, \"theta\": 30}\n",
    "# sel_2 = {\"period\": 200, \"excitonic_layer_thickness\": 40, \"num_periods\": 10, \"theta\": 0}\n",
    "# sel_3 = {\"period\": 200, \"excitonic_layer_thickness\": 40, \"num_periods\": 10}\n",
    "# display(\n",
    "#     (\n",
    "#         plot_ef(\"As\", restacked_norm_1, sel_1, \"nearest\", \"test\\n\")\n",
    "#         + plot_ef(\"As\", restacked_norm_2, sel_2, title=\"test2\\n\")\n",
    "#     ).cols(1)\n",
    "# )\n",
    "# display(\n",
    "#     plot_ef(\"As\", restacked_norm_1, sel_3, title=\"test3\\n\", x=\"theta\", y=\"wavelength\").opts(clim=(0, 2), cmap=\"RdBu_r\")\n",
    "# )"
   ]
  },
  {
   "cell_type": "markdown",
   "id": "2a6a7805-b3a7-49f2-8efc-f3d3ef859e10",
   "metadata": {
    "tags": []
   },
   "source": [
    "#### Test plot_optimum_over_dim"
   ]
  },
  {
   "cell_type": "code",
   "execution_count": null,
   "id": "623e92c9-95e9-4a24-8647-1246104e909d",
   "metadata": {},
   "outputs": [],
   "source": [
    "# foo, bar = plot_optimum_over_dim(restacked_ds.A.sel(theta=0, wavelength=660, method=\"nearest\"), \"period\", \"excitonic_layer_thickness\", \"num_periods\", \"max\")"
   ]
  },
  {
   "cell_type": "code",
   "execution_count": null,
   "id": "5e040d3c-992f-4ad7-9e9b-0c2a2561f813",
   "metadata": {},
   "outputs": [],
   "source": [
    "# foo, bar = plot_optimum_over_dim(integrate_da(restacked_ds.A, \"theta\", normalisation=1).sel(wavelength=660, method=\"nearest\"), \"period\", \"excitonic_layer_thickness\", \"num_periods\", \"max\")"
   ]
  },
  {
   "cell_type": "markdown",
   "id": "ce81a283-3527-4151-aa1a-8633dac55688",
   "metadata": {
    "jp-MarkdownHeadingCollapsed": true,
    "tags": []
   },
   "source": [
    "#### Find and plot the min or max over any dimension."
   ]
  },
  {
   "cell_type": "code",
   "execution_count": null,
   "id": "265544e8-88b5-40c5-81bc-cd3fc0dc6733",
   "metadata": {},
   "outputs": [],
   "source": [
    "def wrapped_2D_plot(\n",
    "    variable,\n",
    "    dataset,\n",
    "    optimise=\"max\",\n",
    "    lorentz_line=0,\n",
    "    window_radius=0,\n",
    "    theta=0,\n",
    "    cmap=\"viridis\",\n",
    "    period_start=None,\n",
    "    period_stop=None,\n",
    "    integrate_angle=None,\n",
    "    extra_plots=[\"RTA_normal\", \"RTA_int\", \"norm_1_normal\", \"norm_1_int\"],\n",
    "    dim=None,  # automatically assign if dataset recognised\n",
    "):\n",
    "    plots = []\n",
    "\n",
    "    if str(dataset) == \"restacked_ds\":\n",
    "        # the drop_sel is important for avoiding the most common degenerate cases\n",
    "        dataset = restacked_ds.drop_sel({\"excitonic_layer_thickness\": 0})\n",
    "        dim = \"period\"\n",
    "\n",
    "    if str(dataset) == \"restacked_norm_1\":\n",
    "        # the drop_sel is important for avoiding the most common degenerate cases\n",
    "        dataset = restacked_norm_1.drop_sel({\"excitonic_layer_thickness\": 0})\n",
    "        dim = \"period\"\n",
    "\n",
    "    if str(dataset) == \"restacked_diff_1\":\n",
    "        # the drop_sel is important for avoiding the most common degenerate cases\n",
    "        dataset = restacked_diff_1.drop_sel({\"excitonic_layer_thickness\": 0})\n",
    "        dim = \"period\"\n",
    "\n",
    "    da = dataset[variable]\n",
    "\n",
    "    if not integrate_angle:\n",
    "        da = da.sel(theta=theta, method=\"nearest\")\n",
    "    else:  # integrate_angle must be a float, so that (theta, integrate_angle) is a slice syntax\n",
    "        da = da.sel(theta=slice(theta, integrate_angle))\n",
    "        da = integrate_da(da, \"theta\", weighting=1, normalisation=1)\n",
    "\n",
    "    if period_start < period_stop:\n",
    "        da = da.sel(period=slice(period_start, period_stop))\n",
    "    else:  # otherwise no data is selected and everything breaks\n",
    "        da = da.sel(period=slice(period_start, None))\n",
    "    da = select_lorentz_line(da, lorentz_line=lorentz_line, window_radius=window_radius)\n",
    "\n",
    "    vline_locs = [0]\n",
    "\n",
    "    if window_radius == 0:\n",
    "        wavelength = float(da.wavelength)\n",
    "        title = f\"{optimise.capitalize()}imum {variable} at {wavelength:.0f} nm\"\n",
    "        if lorentz_line != 0:  # don't put two lines over the resonance\n",
    "            vline_locs.append(lorentz_line)\n",
    "    else:\n",
    "        wavelength_start = float(da.wavelength[0])\n",
    "        wavelength_stop = float(da.wavelength[-1])\n",
    "        # make it easier to compare values\n",
    "        da = integrate_da(\n",
    "            da, \"wavelength\", weighting=1, normalisation=1\n",
    "        )  # replaces the below two lines\n",
    "        # da = normalise_over_dim(da, \"wavelength\", 1)\n",
    "        # da = da.integrate(\"wavelength\")\n",
    "        title = f\"{optimise.capitalize()}imum integrated {variable} between {wavelength_start:.0f} and {wavelength_stop:.0f} nm\"\n",
    "        vline_locs.append(lorentz_line - window_radius)\n",
    "        vline_locs.append(lorentz_line + window_radius)\n",
    "\n",
    "    plot_1, optimum_coords = plot_optimum_over_dim(\n",
    "        da,\n",
    "        dim=dim,\n",
    "        x=\"excitonic_layer_thickness\",\n",
    "        y=\"num_periods\",\n",
    "        optimise=optimise,\n",
    "    )\n",
    "\n",
    "    P = float(optimum_coords[\"period\"])\n",
    "    t = float(optimum_coords[\"excitonic_layer_thickness\"])\n",
    "    N = float(optimum_coords[\"num_periods\"])\n",
    "    try:  # this should work if not integrating over theta\n",
    "        th = float(optimum_coords[\"theta\"])\n",
    "    except:  # probably the problem is that theta doesn't exist because I integrated over it already\n",
    "        th = (theta, integrate_angle)\n",
    "    lorentz_lines = lorentz_vlines(vline_locs, scale=1e-9, mode=\"wavelength\").opts(\n",
    "        opts.VLine(line_color=green, line_dash=\"dotted\"),\n",
    "    )\n",
    "\n",
    "    # give the resonance line a special colour\n",
    "    lorentz_lines.VLine.I.opts(opts.VLine(line_color=yellow))\n",
    "\n",
    "    plot_1.opts(\n",
    "        opts.QuadMesh(cmap=cmap),\n",
    "        opts.Points(color=\"red\"),\n",
    "        opts.Overlay(title=f\"{title}\\nOptimal period: {P:.0f}\"),\n",
    "    )\n",
    "\n",
    "    plots.append(plot_1)\n",
    "\n",
    "    if \"RTA_normal\" in extra_plots:  # plot RTA at theta=0\n",
    "        new_plot = plot_RTA(\n",
    "            period=P, excitonic_layer_thickness=t, num_periods=N, theta=0\n",
    "        )\n",
    "        new_plot *= lorentz_lines\n",
    "\n",
    "        plots.append(new_plot)\n",
    "\n",
    "    if \"RTA_int\" in extra_plots:  # plot RTA at theta OR integrating over theta\n",
    "        new_plot = plot_RTA(\n",
    "            period=P, excitonic_layer_thickness=t, num_periods=N, theta=th\n",
    "        )\n",
    "        new_plot *= lorentz_lines\n",
    "        plots.append(new_plot)\n",
    "\n",
    "    if \"norm_1_normal\" in extra_plots:  # plot enhancement factor at theta=0\n",
    "        sel = {\n",
    "            \"period\": P,\n",
    "            \"excitonic_layer_thickness\": t,\n",
    "            \"num_periods\": N,\n",
    "            \"theta\": 0,\n",
    "        }\n",
    "        new_plot = plot_ef(variable=\"A\", dataset=restacked_norm_1, sel=sel)\n",
    "        new_plot *= lorentz_lines\n",
    "\n",
    "        plots.append(new_plot)\n",
    "\n",
    "    if (\n",
    "        \"norm_1_int\" in extra_plots\n",
    "    ):  # plot enhancement factor at theta OR integrating over theta\n",
    "        try:  # this should work if not integrating over theta\n",
    "            sel = {\n",
    "                \"period\": P,\n",
    "                \"excitonic_layer_thickness\": t,\n",
    "                \"num_periods\": N,\n",
    "                \"theta\": th,\n",
    "            }\n",
    "            new_plot = plot_ef(variable=\"A\", dataset=restacked_norm_1, sel=sel)\n",
    "            new_plot *= lorentz_lines\n",
    "        except:  # if integrating, we need to do the integral *before* normalising\n",
    "            ds_int = sel_or_integrate(ds, dim=\"theta\", val=th)\n",
    "            crs_1_int = sel_or_integrate(crs_1, dim=\"theta\", val=th)\n",
    "            norm = enhancement_factor(\n",
    "                ds_int,\n",
    "                ref=crs_1_int,\n",
    "                common_dim=\"total_excitonic_thickness\",\n",
    "                method=\"groupby\",\n",
    "            )\n",
    "            restacked_norm = restack_plt_to_period(norm)\n",
    "            # replaces the lines below\n",
    "            #             # this should all get separated out into its own function\n",
    "            #             crs_1_like_ds = crs_1.sel(\n",
    "            #                 total_excitonic_thickness=ds.total_excitonic_thickness\n",
    "            #             )\n",
    "\n",
    "            #             ds_int = sel_or_integrate(ds, dim=\"theta\", val=th)\n",
    "            #             crs_1_int = sel_or_integrate(crs_1_like_ds, dim=\"theta\", val=th)\n",
    "            #             norm = ds_int / crs_1_int\n",
    "            #             restacked_norm = norm.stack(multiperiod=['passive_layer_thickness', 'excitonic_layer_thickness']).set_index(multiperiod=['period', 'excitonic_layer_thickness']).unstack()\n",
    "\n",
    "            sel = {\"period\": P, \"excitonic_layer_thickness\": t, \"num_periods\": N}\n",
    "            new_plot = plot_ef(variable=\"A\", dataset=restacked_norm, sel=sel)\n",
    "            new_plot *= lorentz_lines\n",
    "            sel[\"theta\"] = th\n",
    "            new_plot = new_plot.opts(opts.Overlay(title=f\"{coordinate_string(**sel)}\"))\n",
    "        plots.append(new_plot)\n",
    "\n",
    "    return hv.Layout(plots).cols(1)"
   ]
  },
  {
   "cell_type": "markdown",
   "id": "557d7698-080c-4f98-80e2-8bff1e70f742",
   "metadata": {
    "tags": []
   },
   "source": [
    "#### Plot the E-field, overlayed with the refractive index profile and layer boundaries."
   ]
  },
  {
   "cell_type": "code",
   "execution_count": null,
   "id": "b30c60d2-0f82-4717-a837-fbadbc84b142",
   "metadata": {},
   "outputs": [],
   "source": [
    "# sometimes this errors on the first call for some reason\n",
    "fdtd = lumapi.FDTD()"
   ]
  },
  {
   "cell_type": "code",
   "execution_count": null,
   "id": "a5febba9-cab8-481f-8968-1eabfdf93ec3",
   "metadata": {},
   "outputs": [],
   "source": [
    "oscillator = LumericalOscillator(fdtd)"
   ]
  },
  {
   "cell_type": "code",
   "execution_count": null,
   "id": "ef1f3f34-e913-457e-83ef-a6b6a259c32b",
   "metadata": {},
   "outputs": [],
   "source": [
    "plot_field(\n",
    "    680,\n",
    "    lumerical_session=fdtd,\n",
    "    oscillator=oscillator,\n",
    "    ri_lower=1.35,\n",
    "    ri_upper=1.6,\n",
    "    excitonic_layer_thickness=30,\n",
    "    passive_layer_thickness=210,\n",
    "    num_periods=10,\n",
    "    copy_layers=True,\n",
    "    apply_disorder=True,\n",
    "    delta=0.5,\n",
    "    delta_mode=\"pplt\",  # abs-> interpret delta as distance in nm; pplt-> interpret delta as proportion of passive layer thickness\n",
    "    disorder_type=\"uniform\",  # not considering gaussian or other distributions\n",
    "    correlated=True,  # False-> uncorrelated disorder\n",
    "    retain_runs=True,  # True-> return concat'd array; False-> return mean array\n",
    "    add_first_layer=True,  # add dummy passive layer to allow disorder on first excitonic layer\n",
    ").opts(opts.VSpan(color=\"gray\"))"
   ]
  },
  {
   "cell_type": "code",
   "execution_count": null,
   "id": "4c8b9cbb-d1fb-4204-a506-112be97e0e58",
   "metadata": {},
   "outputs": [],
   "source": [
    "def wrap_plot_field(\n",
    "    wavelength, excitonic_layer_thickness, passive_layer_thickness, num_periods\n",
    "):\n",
    "    coords = {\n",
    "        \"λ\": wavelength,\n",
    "        \"Excitonic layer thickness\": excitonic_layer_thickness,\n",
    "        \"Passive layer thickness\": passive_layer_thickness,\n",
    "        \"Number of periods\": num_periods,\n",
    "    }\n",
    "\n",
    "    title = f\"{coordinate_string(**coords)}\"\n",
    "\n",
    "    return plot_field(\n",
    "        wavelength=wavelength,\n",
    "        lumerical_session=fdtd,\n",
    "        oscillator=oscillator,\n",
    "        ri_lower=1.35,\n",
    "        ri_upper=1.6,\n",
    "        excitonic_layer_thickness=excitonic_layer_thickness,\n",
    "        passive_layer_thickness=passive_layer_thickness,\n",
    "        num_periods=num_periods,\n",
    "    ).opts(opts.Curve(title=title, ylim=(0,None)), opts.VSpan(color=\"gray\"))"
   ]
  },
  {
   "cell_type": "code",
   "execution_count": null,
   "id": "989d2a98-6c02-4009-b746-2d312bed773b",
   "metadata": {},
   "outputs": [],
   "source": [
    "# an example of what this can do\n",
    "pn.interact(\n",
    "    wrap_plot_field,\n",
    "    wavelength=(480, 880),\n",
    "    excitonic_layer_thickness=(10, 200),\n",
    "    passive_layer_thickness=(0, 300),\n",
    "    num_periods=(1, 50),\n",
    ")"
   ]
  },
  {
   "cell_type": "code",
   "execution_count": null,
   "id": "bea0e0d8-cb98-409d-811a-3d0f6b0a7d1a",
   "metadata": {},
   "outputs": [],
   "source": []
  },
  {
   "cell_type": "code",
   "execution_count": null,
   "id": "0d8dfdbb-dd16-4d54-a4ac-e34404380cb4",
   "metadata": {},
   "outputs": [],
   "source": []
  },
  {
   "cell_type": "code",
   "execution_count": null,
   "id": "c668f02f-4277-4adb-89f5-d237500fd196",
   "metadata": {},
   "outputs": [],
   "source": []
  },
  {
   "cell_type": "code",
   "execution_count": null,
   "id": "69a66e6d-d950-4cd1-a944-8a73b532924d",
   "metadata": {},
   "outputs": [],
   "source": []
  },
  {
   "cell_type": "code",
   "execution_count": null,
   "id": "5f2ce245-ca6a-49fe-a9ad-3df20412f76f",
   "metadata": {},
   "outputs": [],
   "source": []
  },
  {
   "cell_type": "markdown",
   "id": "760c7f51-33a4-4263-a0d5-a63cdc7c4fa1",
   "metadata": {
    "tags": []
   },
   "source": [
    "# Miscellanous stuff"
   ]
  },
  {
   "cell_type": "code",
   "execution_count": null,
   "id": "d7851448-4a40-4633-a46d-d5113fdb43d2",
   "metadata": {},
   "outputs": [],
   "source": [
    "# ds_05[unpolarised_RTA].sel(run=slice(0,10)).squeeze().hvplot(x=\"wavelength\")"
   ]
  },
  {
   "cell_type": "code",
   "execution_count": null,
   "id": "7c95f0a3-436f-4ad3-9fd4-2321424abe83",
   "metadata": {},
   "outputs": [],
   "source": [
    "var_key = \"R\"\n",
    "overlay = (\n",
    "    restacked_ds.squeeze()[var_key]\n",
    "    .isel(run=slice(0, 10))\n",
    "    .hvplot(\n",
    "        x=\"wavelength\", by=\"run\", groupby=[\"num_periods\", \"period\", \"theta\", \"delta\"], legend=False, alpha=0.5\n",
    "    )\n",
    "    * restacked_pds[var_key].hvplot(\n",
    "        x=\"wavelength\", groupby=[\"num_periods\", \"period\", \"theta\"], line_dash=\"dashed\", line_width=4\n",
    "    )\n",
    ")\n",
    "\n",
    "overlay"
   ]
  },
  {
   "cell_type": "code",
   "execution_count": null,
   "id": "010ab62a-c41f-4a08-a093-04918b1fd0d3",
   "metadata": {},
   "outputs": [],
   "source": [
    "Delta = 0.1\n",
    "N = 5\n",
    "P = 200\n",
    "theta = 0\n",
    "\n",
    "fig = overlay.select(delta=Delta, num_periods=N, period=P, theta=theta).opts(\n",
    "    opts.Curve(fontscale=2),\n",
    "    # opts.Overlay(show_title=False),\n",
    "    clone=True\n",
    ")\n",
    "display(fig)"
   ]
  },
  {
   "cell_type": "code",
   "execution_count": null,
   "id": "98137e0b-3107-4e12-a30d-9d67a6cb43fa",
   "metadata": {},
   "outputs": [],
   "source": [
    "from pathlib import Path"
   ]
  },
  {
   "cell_type": "code",
   "execution_count": null,
   "id": "1271be3f-6368-4101-aecd-01bd1fc8093d",
   "metadata": {},
   "outputs": [],
   "source": [
    "p = Path('C:\\\\Users\\\\xv18766\\\\Anaconda3\\\\envs\\\\multilayer_simulator')"
   ]
  },
  {
   "cell_type": "code",
   "execution_count": null,
   "id": "0af894da-7f21-4f51-b63a-5d7b6a6e13bf",
   "metadata": {},
   "outputs": [],
   "source": [
    "sys.path.append(str(p/\"scripts\"))"
   ]
  },
  {
   "cell_type": "code",
   "execution_count": null,
   "id": "b949d29c-e649-447e-866f-dccc690966f6",
   "metadata": {},
   "outputs": [],
   "source": [
    "sys.path.append(r\"C:\\Users\\xv18766\\Anaconda3\\envs\\multilayer_simulator\\Lib\\site-packages\\selenium\\webdriver\")"
   ]
  },
  {
   "cell_type": "code",
   "execution_count": null,
   "id": "ba909286-faf8-4af4-a5ce-433ed2e08d30",
   "metadata": {},
   "outputs": [],
   "source": [
    "sys.path.append(r\"C:\\Users\\xv18766\\Anaconda3\\envs\\multilayer_simulator\\library\\bin\")"
   ]
  },
  {
   "cell_type": "code",
   "execution_count": null,
   "id": "2d3156f1-b603-402c-b65e-2ecfacbb6e11",
   "metadata": {},
   "outputs": [],
   "source": [
    "sys.path.append(r\"C:\\Program Files\\Mozilla Firefox\")"
   ]
  },
  {
   "cell_type": "code",
   "execution_count": null,
   "id": "e0eb570a-b5ff-4bba-ac1b-961de884bea0",
   "metadata": {},
   "outputs": [],
   "source": [
    "sys.path"
   ]
  },
  {
   "cell_type": "code",
   "execution_count": null,
   "id": "3387f84e-1584-418c-9ed0-84154734705c",
   "metadata": {},
   "outputs": [],
   "source": [
    "import bokeh"
   ]
  },
  {
   "cell_type": "code",
   "execution_count": null,
   "id": "69c3c0ce-153b-494f-bc54-7d5d88343399",
   "metadata": {},
   "outputs": [],
   "source": [
    "hv.render(fig, backend=\"bokeh\")"
   ]
  },
  {
   "cell_type": "code",
   "execution_count": null,
   "id": "adcdc381-0d7e-4170-9530-b896ddb61e9d",
   "metadata": {},
   "outputs": [],
   "source": [
    "bokeh.io.export_png(hv.render(fig, backend=\"bokeh\"),\n",
    "    filename=f\"data/run_{run_number}/figures/DLOPC_{var_key}_samplecurve_wl_P{P}_elt{elt}_N{N}_th{theta}_D{D}\",)"
   ]
  },
  {
   "cell_type": "code",
   "execution_count": null,
   "id": "e60d5f04-269c-4ec9-873f-9c8b5ebbcb31",
   "metadata": {},
   "outputs": [],
   "source": [
    "elt = 50\n",
    "D = str(Delta).replace(\".\", \"\")\n",
    "\n",
    "hv.save(\n",
    "    fig,\n",
    "    filename=f\"data/run_{run_number}/figures/DLOPC_{var_key}_samplecurve_wl_P{P}_elt{elt}_N{N}_th{theta}_D{D}\",\n",
    "    fmt=\"png\",\n",
    "    toolbar=None,\n",
    ")"
   ]
  },
  {
   "cell_type": "code",
   "execution_count": null,
   "id": "023f9dfc-7467-493e-9223-aa89726ddb18",
   "metadata": {},
   "outputs": [],
   "source": [
    "overlay = (\n",
    "    restacked_ds_05.squeeze()\n",
    "    .R.isel(run=slice(0, 10))\n",
    "    .hvplot(\n",
    "        x=\"wavelength\", by=\"run\", groupby=[\"num_periods\", \"period\", \"theta\"], legend=False, alpha=0.5\n",
    "    )\n",
    "    * restacked_pds.R.hvplot(\n",
    "        x=\"wavelength\", groupby=[\"num_periods\", \"period\", \"theta\"], line_dash=\"dashed\", line_width=4\n",
    "    )\n",
    ")\n",
    "overlay"
   ]
  },
  {
   "cell_type": "code",
   "execution_count": null,
   "id": "72b28f7f-ec17-4cfb-976f-174cf903088f",
   "metadata": {},
   "outputs": [],
   "source": [
    "Delta = 0.5  # filename purposes only\n",
    "N = 5\n",
    "P = 200\n",
    "theta = 0\n",
    "\n",
    "fig = overlay.select(num_periods=N, period=P, theta=theta).opts(\n",
    "    opts.Curve(fontscale=2),\n",
    "    # opts.Overlay(show_title=False),\n",
    "    clone=True\n",
    ")\n",
    "display(fig)"
   ]
  },
  {
   "cell_type": "code",
   "execution_count": null,
   "id": "ceb59db5-750d-40d2-a5f1-d06c0f1592e0",
   "metadata": {},
   "outputs": [],
   "source": [
    "elt = 50\n",
    "D = str(Delta).replace(\".\", \"\")\n",
    "\n",
    "hv.save(\n",
    "    fig,\n",
    "    filename=f\"data/run_{run_number}/figures/DLOPC_{var_key}_samplecurve_wl_P{P}_elt{elt}_N{N}_th{theta}_D{D}\",\n",
    "    fmt=\"png\",\n",
    "    toolbar=None,\n",
    ")"
   ]
  },
  {
   "cell_type": "markdown",
   "id": "2fcc0e7f-a00f-496d-99b6-1648954259ae",
   "metadata": {},
   "source": [
    "Notes:\n",
    "- N=5, Period=200, theta=0, Delta=0.4, run=3: this one deserves looking at!"
   ]
  },
  {
   "cell_type": "code",
   "execution_count": null,
   "id": "303736e2-b779-4cf3-8341-a9c9f682aec3",
   "metadata": {},
   "outputs": [],
   "source": [
    "temp_dxs = np.array([restacked_ds.sel(num_periods=5, period=200, theta=0, delta=0.4, run=3).dxs.squeeze().compute()[:5].data])"
   ]
  },
  {
   "cell_type": "code",
   "execution_count": null,
   "id": "d3e94d82-1792-4104-98ce-09bb54f606b2",
   "metadata": {},
   "outputs": [],
   "source": [
    "plot_field(\n",
    "    680,\n",
    "    lumerical_session=fdtd,\n",
    "    oscillator=oscillator,\n",
    "    ri_lower=1.35,\n",
    "    ri_upper=1.6,\n",
    "    excitonic_layer_thickness=50,\n",
    "    passive_layer_thickness=150,\n",
    "    num_periods=5,\n",
    "    copy_layers=True,\n",
    "    apply_disorder=True,\n",
    "    delta=1,\n",
    "    delta_mode=\"exact\",  # abs-> interpret delta as distance in nm; pplt-> interpret delta as proportion of passive layer thickness\n",
    "    disorder_type=\"dxs\",  # not considering gaussian or other distributions\n",
    "    dxs=temp_dxs,\n",
    "    correlated=True,  # False-> uncorrelated disorder\n",
    "    retain_runs=False,  # True-> return concat'd array; False-> return mean array\n",
    "    add_first_layer=True,  # add dummy passive layer to allow disorder on first excitonic layer\n",
    ").opts(opts.VSpan(color=\"gray\"))"
   ]
  },
  {
   "cell_type": "code",
   "execution_count": null,
   "id": "5bb7ae75-eefb-404f-8154-79a75c2f40d1",
   "metadata": {},
   "outputs": [],
   "source": [
    "temp_dxs = np.array([restacked_ds_05.sel(num_periods=50, period=200, theta=0, run=3).dxs.squeeze().compute()[:5].data])"
   ]
  },
  {
   "cell_type": "code",
   "execution_count": null,
   "id": "ba625c5b-03f0-4bac-ab50-5bfd6fe47d10",
   "metadata": {},
   "outputs": [],
   "source": [
    "field = plot_field(\n",
    "    680,\n",
    "    lumerical_session=fdtd,\n",
    "    oscillator=oscillator,\n",
    "    ri_lower=1.35,\n",
    "    ri_upper=1.6,\n",
    "    excitonic_layer_thickness=50,\n",
    "    passive_layer_thickness=150,\n",
    "    num_periods=5,\n",
    "    # copy_layers=True,\n",
    "    # apply_disorder=True,\n",
    "    # delta=1,\n",
    "    # delta_mode=\"exact\",  # abs-> interpret delta as distance in nm; pplt-> interpret delta as proportion of passive layer thickness\n",
    "    # disorder_type=\"dxs\",  # not considering gaussian or other distributions\n",
    "    # dxs=temp_dxs,\n",
    "    # correlated=True,  # False-> uncorrelated disorder; always use True if applying dxs directly\n",
    "    # retain_runs=False,  # True-> return concat'd array; False-> return mean array\n",
    "    add_first_layer=True,  # add dummy passive layer to allow disorder on first excitonic layer\n",
    ").opts(opts.VSpan(color=\"gray\"))\n",
    "\n",
    "field"
   ]
  },
  {
   "cell_type": "code",
   "execution_count": null,
   "id": "a4d6256d-baad-4594-934c-e91e2a51bc88",
   "metadata": {},
   "outputs": [],
   "source": [
    "fig = (field * vlines(list(np.array([175, 375, 575, 775, 975]) * 1e-9))).opts(\n",
    "    opts.Curve(width=700, height=300, title=\"\", fontscale=2, xlabel=r\"\\(z (m)\\)\", ylabel=r\"\\(|E|^2\\)\"),\n",
    "    opts.VLine(line_dash=\"dotted\", color=\"black\"),\n",
    "    clone=True\n",
    ")\n",
    "fig"
   ]
  },
  {
   "cell_type": "code",
   "execution_count": null,
   "id": "eae51938-3bc1-4708-8647-c3efc2420834",
   "metadata": {},
   "outputs": [],
   "source": [
    "Delta = 0"
   ]
  },
  {
   "cell_type": "code",
   "execution_count": null,
   "id": "bd13faa0-7ab1-42ea-8575-7898d79047fe",
   "metadata": {},
   "outputs": [],
   "source": [
    "P = 200\n",
    "elt = 50\n",
    "N = 5\n",
    "wl = 680\n",
    "th = 0\n",
    "D = str(Delta).replace(\".\", \"\")\n",
    "\n",
    "hv.save(\n",
    "    fig,\n",
    "    filename=f\"data/run_{run_number}/figures/DLOPC_Efield_P{P}_elt{elt}_N{N}_wl{680}_th{0}_D{D}\",\n",
    "    fmt=\"png\",\n",
    "    toolbar=None,\n",
    ")"
   ]
  },
  {
   "cell_type": "code",
   "execution_count": null,
   "id": "fc3beb5c-0464-46c7-8af1-534edd4c7c0c",
   "metadata": {},
   "outputs": [],
   "source": [
    "gb = restacked_ds.groupby_bins(\"run\", 2, labels=range(2))"
   ]
  },
  {
   "cell_type": "code",
   "execution_count": null,
   "id": "19b4b3d7-a191-4195-a5e9-3484be510576",
   "metadata": {},
   "outputs": [],
   "source": [
    "rds_mean = (gb.mean(\"run\"))"
   ]
  },
  {
   "cell_type": "code",
   "execution_count": null,
   "id": "0dbc237f-0ed8-438f-9a40-3c1db147dce6",
   "metadata": {},
   "outputs": [],
   "source": [
    "xs_1D = {\n",
    "    \"delta\": pnw.DiscreteSlider,\n",
    "    \"theta\": pnw.DiscreteSlider,\n",
    "    \"num_periods\": pnw.DiscreteSlider,\n",
    "    \"period\": pnw.DiscreteSlider,\n",
    "}\n",
    "\n",
    "rds_sel = rds_mean.interactive(loc=\"left\").sel(**xs_1D).squeeze(drop=True)"
   ]
  },
  {
   "cell_type": "code",
   "execution_count": null,
   "id": "2a01e8e8-03c8-4c81-8582-7b6fd198b16e",
   "metadata": {},
   "outputs": [],
   "source": [
    "rds_sel.R.hvplot(x=\"wavelength\", by=\"run_bins\")"
   ]
  },
  {
   "cell_type": "code",
   "execution_count": null,
   "id": "ed7a4ece-60cc-46ee-a479-2a23fd7df63d",
   "metadata": {},
   "outputs": [],
   "source": [
    "gb_05 = restacked_ds_05.groupby_bins(\"run\", 20, labels=range(20))"
   ]
  },
  {
   "cell_type": "code",
   "execution_count": null,
   "id": "b0872d81-630a-445b-ad6e-a0365661048f",
   "metadata": {},
   "outputs": [],
   "source": [
    "rds_05_mean = (gb_05.mean(\"run\"))"
   ]
  },
  {
   "cell_type": "code",
   "execution_count": null,
   "id": "54e2fb04-fc4c-469e-be90-ba0e3dd001b4",
   "metadata": {},
   "outputs": [],
   "source": [
    "xs_1D = {\n",
    "    \"theta\": pnw.DiscreteSlider,\n",
    "    \"num_periods\": pnw.DiscreteSlider,\n",
    "    \"period\": pnw.DiscreteSlider,\n",
    "}\n",
    "\n",
    "rds_05_sel = rds_05_mean.interactive(loc=\"left\").sel(**xs_1D).squeeze(drop=True)"
   ]
  },
  {
   "cell_type": "code",
   "execution_count": null,
   "id": "5374544e-b56c-4539-86fb-cc279de7a92d",
   "metadata": {},
   "outputs": [],
   "source": [
    "rds_05_sel.R.hvplot(x=\"wavelength\", by=\"run_bins\")"
   ]
  },
  {
   "cell_type": "markdown",
   "id": "fe29848e-9772-4e21-913f-96297e527a95",
   "metadata": {},
   "source": [
    "<!-- Generally, the fewer layers, the less noise from disorder. -->\n",
    "\n",
    "The noise is comparatively more important when the PBG is near the LO resonance."
   ]
  },
  {
   "cell_type": "code",
   "execution_count": null,
   "id": "deecb6c8-c279-4d41-8616-82201fb982f9",
   "metadata": {},
   "outputs": [],
   "source": [
    "rds_sel_2D = rds_mean.interactive(loc=\"left\").sel(delta=xs_1D[\"delta\"], theta=xs_1D[\"theta\"]).squeeze(drop=True)"
   ]
  },
  {
   "cell_type": "code",
   "execution_count": null,
   "id": "f5e3f20c-184f-434e-a7ad-2bcf73d7e94d",
   "metadata": {},
   "outputs": [],
   "source": [
    "rds_sel_2D.R.hvplot(x=\"wavelength\", by=\"run_bins\", row=\"period\", col=\"num_periods\")"
   ]
  },
  {
   "cell_type": "code",
   "execution_count": null,
   "id": "7fff20b3-b6c4-48b4-b23b-d754d173f4eb",
   "metadata": {},
   "outputs": [],
   "source": [
    "# recipe for 1D comparison of disordered and periodic structure\n",
    "var_key = \"R\"\n",
    "\n",
    "overlay = (\n",
    "    mean_and_std(restacked_ds, var_key=var_key)\n",
    "    .squeeze()\n",
    "    .hvplot(\n",
    "        x=\"wavelength\",\n",
    "        y=f\"{var_key}_mean\",\n",
    "        groupby=[\"delta\", \"num_periods\", \"period\", \"theta\"],\n",
    "        color=blue,\n",
    "    )\n",
    "    * mean_and_std(restacked_ds, var_key=var_key)\n",
    "    .squeeze()\n",
    "    .hvplot.area(\n",
    "        x=\"wavelength\",\n",
    "        y=f\"{var_key}_low\",\n",
    "        y2=f\"{var_key}_high\",\n",
    "        groupby=[\"delta\", \"num_periods\", \"period\", \"theta\"],\n",
    "        alpha=0.2,\n",
    "        color=blue,\n",
    "    )\n",
    "    * restacked_pds[var_key]\n",
    "    .squeeze()\n",
    "    .hvplot(\n",
    "        x=\"wavelength\",\n",
    "        groupby=[\"num_periods\", \"period\", \"theta\"],\n",
    "        line_dash=\"dashed\",\n",
    "        color=\"black\",\n",
    "    )\n",
    "    * max_min_pos(restacked_ds, var_key=var_key, dim=\"wavelength\").hvplot(\n",
    "        kind=\"scatter\",\n",
    "        x=f\"{var_key}_max_wavelength\",\n",
    "        y=f\"{var_key}_max\",\n",
    "        groupby=[\"delta\", \"num_periods\", \"period\", \"theta\"],\n",
    "        alpha=0.5,\n",
    "        marker=\"x\",\n",
    "        color=blue,\n",
    "    )\n",
    ")\n",
    "\n",
    "overlay"
   ]
  },
  {
   "cell_type": "code",
   "execution_count": null,
   "id": "4e7af19d-6f84-469c-b7ee-6764231d1ae9",
   "metadata": {},
   "outputs": [],
   "source": [
    "Delta = 0.3 # Deltas: 0.1, 0.2, 0.3\n",
    "N = 5\n",
    "P = 200\n",
    "theta = 0\n",
    "\n",
    "fig = overlay.select(delta=Delta, num_periods=N, period=P, theta=theta).opts(\n",
    "    opts.Curve(fontscale=2),\n",
    "    # opts.Overlay(show_title=False),\n",
    "    clone=True\n",
    ")\n",
    "display(fig)"
   ]
  },
  {
   "cell_type": "code",
   "execution_count": null,
   "id": "ed442062-270f-49c5-92a5-21f81d658336",
   "metadata": {},
   "outputs": [],
   "source": [
    "elt = 50\n",
    "D = str(Delta).replace(\".\", \"\")\n",
    "\n",
    "hv.save(\n",
    "    fig,\n",
    "    filename=f\"data/run_{run_number}/figures/DLOPC_{var_key}_meancurve_wl_P{P}_elt{elt}_N{N}_th{theta}_D{D}\",\n",
    "    fmt=\"png\",\n",
    "    toolbar=None,\n",
    ")"
   ]
  },
  {
   "cell_type": "code",
   "execution_count": null,
   "id": "e9ce0f3c-b4ab-4e5c-8a4e-585e59b8efe5",
   "metadata": {},
   "outputs": [],
   "source": [
    "# recipe for 1D comparison of disordered and periodic structure\n",
    "var_key = \"R\"\n",
    "\n",
    "overlay = (\n",
    "    mean_and_std(restacked_ds_05, var_key=var_key)\n",
    "    .squeeze()\n",
    "    .hvplot(\n",
    "        x=\"wavelength\",\n",
    "        y=f\"{var_key}_mean\",\n",
    "        groupby=[\"num_periods\", \"period\", \"theta\"],\n",
    "        color=blue,\n",
    "    )\n",
    "    * mean_and_std(restacked_ds_05, var_key=var_key)\n",
    "    .squeeze()\n",
    "    .hvplot.area(\n",
    "        x=\"wavelength\",\n",
    "        y=f\"{var_key}_low\",\n",
    "        y2=f\"{var_key}_high\",\n",
    "        groupby=[\"num_periods\", \"period\", \"theta\"],\n",
    "        alpha=0.2,\n",
    "        color=blue,\n",
    "    )\n",
    "    * restacked_pds[var_key]\n",
    "    .squeeze()\n",
    "    .hvplot(\n",
    "        x=\"wavelength\",\n",
    "        groupby=[\"num_periods\", \"period\", \"theta\"],\n",
    "        line_dash=\"dashed\",\n",
    "        color=\"black\"\n",
    "    )\n",
    "    * max_min_pos(restacked_ds_05, var_key=var_key, dim=\"wavelength\").hvplot(\n",
    "        kind=\"scatter\",\n",
    "        x=f\"{var_key}_max_wavelength\",\n",
    "        y=f\"{var_key}_max\",\n",
    "        groupby=[\"num_periods\", \"period\", \"theta\"],\n",
    "        alpha=0.5,\n",
    "        marker=\"x\",\n",
    "        color=blue,\n",
    "    )\n",
    ")\n",
    "\n",
    "overlay"
   ]
  },
  {
   "cell_type": "code",
   "execution_count": null,
   "id": "ad390f3a-c2e2-4359-8a59-af252c36db19",
   "metadata": {},
   "outputs": [],
   "source": [
    "Delta = 0.5 # Deltas: 0.1, 0.2, 0.3\n",
    "N = 50\n",
    "P = 300 # Ps: 200, 250, 300\n",
    "theta = 0\n",
    "\n",
    "fig = overlay.select(num_periods=N, period=P, theta=theta).opts(\n",
    "    opts.Curve(fontscale=2),\n",
    "    # opts.Overlay(show_title=False),\n",
    "    clone=True\n",
    ")\n",
    "display(fig)"
   ]
  },
  {
   "cell_type": "code",
   "execution_count": null,
   "id": "056ae82b-44de-4e60-bad3-dcc4d06a42d2",
   "metadata": {},
   "outputs": [],
   "source": [
    "elt = 50\n",
    "D = str(Delta).replace(\".\", \"\")\n",
    "\n",
    "hv.save(\n",
    "    fig,\n",
    "    filename=f\"data/run_{run_number}/figures/DLOPC_{var_key}_meancurve_wl_P{P}_elt{elt}_N{N}_th{theta}_D{D}\",\n",
    "    fmt=\"png\",\n",
    "    toolbar=None,\n",
    ")"
   ]
  },
  {
   "cell_type": "markdown",
   "id": "592d2e21-5e4e-4afc-ab05-8e05b774495b",
   "metadata": {},
   "source": [
    "The clustering of scatter points around \\~700 nm is very strange - seems attractive at low N but repulsive at high N."
   ]
  },
  {
   "cell_type": "code",
   "execution_count": null,
   "id": "a800f98d-fc78-42f3-bda3-8893516f9d57",
   "metadata": {},
   "outputs": [],
   "source": [
    "# recipe for 1D comparison of disordered and periodic structure\n",
    "var_key = \"T\"\n",
    "\n",
    "(\n",
    "    mean_and_std(restacked_ds, var_key=var_key)\n",
    "    .squeeze()\n",
    "    .hvplot(\n",
    "        x=\"wavelength\",\n",
    "        y=f\"{var_key}_mean\",\n",
    "        groupby=[\"delta\", \"num_periods\", \"period\", \"theta\"],\n",
    "        color=yellow,\n",
    "    )\n",
    "    * mean_and_std(restacked_ds, var_key=var_key)\n",
    "    .squeeze()\n",
    "    .hvplot.area(\n",
    "        x=\"wavelength\",\n",
    "        y=f\"{var_key}_low\",\n",
    "        y2=f\"{var_key}_high\",\n",
    "        groupby=[\"delta\", \"num_periods\", \"period\", \"theta\"],\n",
    "        alpha=0.2,\n",
    "        color=yellow,\n",
    "    )\n",
    "    * restacked_pds[var_key]\n",
    "    .squeeze()\n",
    "    .hvplot(\n",
    "        x=\"wavelength\",\n",
    "        groupby=[\"num_periods\", \"period\", \"theta\"],\n",
    "        line_dash=\"dashed\",\n",
    "        color=\"black\",\n",
    "    )\n",
    "    * max_min_pos(restacked_ds, var_key=var_key, dim=\"wavelength\").hvplot(\n",
    "        kind=\"scatter\",\n",
    "        x=f\"{var_key}_max_wavelength\",\n",
    "        y=f\"{var_key}_max\",\n",
    "        groupby=[\"delta\", \"num_periods\", \"period\", \"theta\"],\n",
    "        alpha=0.5,\n",
    "        marker=\"x\",\n",
    "        color=yellow,\n",
    "    )\n",
    ")"
   ]
  },
  {
   "cell_type": "code",
   "execution_count": null,
   "id": "f01ffc6c-0d44-45c6-9397-3448c48f9125",
   "metadata": {},
   "outputs": [],
   "source": [
    "# recipe for 1D comparison of disordered and periodic structure\n",
    "var_key = \"A\"\n",
    "\n",
    "(\n",
    "    mean_and_std(restacked_ds, var_key=var_key)\n",
    "    .squeeze()\n",
    "    .hvplot(\n",
    "        x=\"wavelength\",\n",
    "        y=f\"{var_key}_mean\",\n",
    "        groupby=[\"delta\", \"num_periods\", \"period\", \"theta\"],\n",
    "        color=red,\n",
    "    )\n",
    "    * mean_and_std(restacked_ds, var_key=var_key)\n",
    "    .squeeze()\n",
    "    .hvplot.area(\n",
    "        x=\"wavelength\",\n",
    "        y=f\"{var_key}_low\",\n",
    "        y2=f\"{var_key}_high\",\n",
    "        groupby=[\"delta\", \"num_periods\", \"period\", \"theta\"],\n",
    "        alpha=0.2,\n",
    "        color=red,\n",
    "    )\n",
    "    * restacked_pds[var_key]\n",
    "    .squeeze()\n",
    "    .hvplot(\n",
    "        x=\"wavelength\",\n",
    "        groupby=[\"num_periods\", \"period\", \"theta\"],\n",
    "        line_dash=\"dashed\",\n",
    "        color=\"black\",\n",
    "    )\n",
    "    * max_min_pos(restacked_ds, var_key=var_key, dim=\"wavelength\").hvplot(\n",
    "        kind=\"scatter\",\n",
    "        x=f\"{var_key}_max_wavelength\",\n",
    "        y=f\"{var_key}_max\",\n",
    "        groupby=[\"delta\", \"num_periods\", \"period\", \"theta\"],\n",
    "        alpha=0.5,\n",
    "        marker=\"x\",\n",
    "        color=red,\n",
    "    )\n",
    ")"
   ]
  },
  {
   "cell_type": "code",
   "execution_count": null,
   "id": "820fd701-8fa6-4b66-8ce7-70c594c3844b",
   "metadata": {},
   "outputs": [],
   "source": [
    "# recipe for 1D comparison of disordered and periodic structure\n",
    "var_key = \"A\"\n",
    "\n",
    "(\n",
    "    mean_and_std(restacked_ds_05, var_key=var_key)\n",
    "    .squeeze()\n",
    "    .hvplot(\n",
    "        x=\"wavelength\",\n",
    "        y=f\"{var_key}_mean\",\n",
    "        groupby=[\"num_periods\", \"period\", \"theta\"],\n",
    "        color=red,\n",
    "    )\n",
    "    * mean_and_std(restacked_ds_05, var_key=var_key)\n",
    "    .squeeze()\n",
    "    .hvplot.area(\n",
    "        x=\"wavelength\",\n",
    "        y=f\"{var_key}_low\",\n",
    "        y2=f\"{var_key}_high\",\n",
    "        groupby=[\"num_periods\", \"period\", \"theta\"],\n",
    "        alpha=0.2,\n",
    "        color=red,\n",
    "    )\n",
    "    * restacked_pds[var_key]\n",
    "    .squeeze()\n",
    "    .hvplot(\n",
    "        x=\"wavelength\",\n",
    "        groupby=[\"num_periods\", \"period\", \"theta\"],\n",
    "        line_dash=\"dashed\",\n",
    "        color=\"black\",\n",
    "    )\n",
    "    * max_min_pos(restacked_ds_05, var_key=var_key, dim=\"wavelength\").hvplot(\n",
    "        kind=\"scatter\",\n",
    "        x=f\"{var_key}_max_wavelength\",\n",
    "        y=f\"{var_key}_max\",\n",
    "        groupby=[\"num_periods\", \"period\", \"theta\"],\n",
    "        alpha=0.5,\n",
    "        marker=\"x\",\n",
    "        color=red,\n",
    "    )\n",
    ")"
   ]
  },
  {
   "cell_type": "code",
   "execution_count": null,
   "id": "e6823093-6421-4862-a3e9-17e705fc2a46",
   "metadata": {},
   "outputs": [],
   "source": [
    "# recipe for 1D comparison of disordered and periodic structure\n",
    "var_key = \"A\"\n",
    "\n",
    "(\n",
    "    mean_and_std(restacked_norm_1, var_key=var_key)\n",
    "    .squeeze()\n",
    "    .hvplot(\n",
    "        x=\"wavelength\",\n",
    "        y=f\"{var_key}_mean\",\n",
    "        groupby=[\"delta\", \"num_periods\", \"period\", \"theta\"],\n",
    "        color=red,\n",
    "    )\n",
    "    * mean_and_std(restacked_norm_1, var_key=var_key)\n",
    "    .squeeze()\n",
    "    .hvplot.area(\n",
    "        x=\"wavelength\",\n",
    "        y=f\"{var_key}_low\",\n",
    "        y2=f\"{var_key}_high\",\n",
    "        groupby=[\"delta\", \"num_periods\", \"period\", \"theta\"],\n",
    "        alpha=0.2,\n",
    "        color=red,\n",
    "    )\n",
    "    * (\n",
    "        enhancement_factor(\n",
    "            ds=restacked_pds,\n",
    "            ref=crs_1,\n",
    "            common_dim=\"total_excitonic_thickness\",\n",
    "            method=\"groupby\",\n",
    "        )[var_key]\n",
    "    )\n",
    "    .squeeze()\n",
    "    .hvplot(\n",
    "        x=\"wavelength\",\n",
    "        groupby=[\"num_periods\", \"period\", \"theta\"],\n",
    "        line_dash=\"dashed\",\n",
    "        color=\"black\",\n",
    "    )\n",
    "    * max_min_pos(restacked_norm_1, var_key=var_key, dim=\"wavelength\").hvplot(\n",
    "        kind=\"scatter\",\n",
    "        x=f\"{var_key}_max_wavelength\",\n",
    "        y=f\"{var_key}_max\",\n",
    "        groupby=[\"delta\", \"num_periods\", \"period\", \"theta\"],\n",
    "        alpha=0.5,\n",
    "        marker=\"x\",\n",
    "        color=red,\n",
    "    )\n",
    "    * hv.HLine(1).opts(opts.HLine(line_dash=\"dotted\", color=\"black\"))\n",
    ")"
   ]
  },
  {
   "cell_type": "code",
   "execution_count": null,
   "id": "f4c0ed37-1560-4a3a-b5d8-4c7cc5f5a525",
   "metadata": {},
   "outputs": [],
   "source": [
    "# recipe for 1D comparison of disordered and periodic structure\n",
    "var_key = \"A\"\n",
    "\n",
    "(\n",
    "    mean_and_std(restacked_norm_1_05, var_key=var_key)\n",
    "    .squeeze()\n",
    "    .hvplot(\n",
    "        x=\"wavelength\",\n",
    "        y=f\"{var_key}_mean\",\n",
    "        groupby=[\"num_periods\", \"period\", \"theta\"],\n",
    "        color=red,\n",
    "    )\n",
    "    * mean_and_std(restacked_norm_1_05, var_key=var_key)\n",
    "    .squeeze()\n",
    "    .hvplot.area(\n",
    "        x=\"wavelength\",\n",
    "        y=f\"{var_key}_low\",\n",
    "        y2=f\"{var_key}_high\",\n",
    "        groupby=[\"num_periods\", \"period\", \"theta\"],\n",
    "        alpha=0.2,\n",
    "        color=red,\n",
    "    )\n",
    "    * (\n",
    "        enhancement_factor(\n",
    "            ds=restacked_pds,\n",
    "            ref=crs_1,\n",
    "            common_dim=\"total_excitonic_thickness\",\n",
    "            method=\"groupby\",\n",
    "        )[var_key]\n",
    "    )\n",
    "    .squeeze()\n",
    "    .hvplot(\n",
    "        x=\"wavelength\",\n",
    "        groupby=[\"num_periods\", \"period\", \"theta\"],\n",
    "        line_dash=\"dashed\",\n",
    "        color=\"black\",\n",
    "    )\n",
    "    * max_min_pos(restacked_norm_1_05, var_key=var_key, dim=\"wavelength\").hvplot(\n",
    "        kind=\"scatter\",\n",
    "        x=f\"{var_key}_max_wavelength\",\n",
    "        y=f\"{var_key}_max\",\n",
    "        groupby=[\"num_periods\", \"period\", \"theta\"],\n",
    "        alpha=0.5,\n",
    "        marker=\"x\",\n",
    "        color=red,\n",
    "    )\n",
    "    * hv.HLine(1).opts(opts.HLine(line_dash=\"dotted\", color=\"black\"))\n",
    ")"
   ]
  },
  {
   "cell_type": "markdown",
   "id": "b8c5dcd6-08cc-4dfe-8e5a-1147f8a6a153",
   "metadata": {},
   "source": [
    "Disorder tends to flatten EF and reduce the max - so wavelength-specific enhancement should probably involve low disorder.\n",
    "\n",
    "Overall absorptance EF seems lower in general with disorder, although I need to do an integrated EF to check."
   ]
  },
  {
   "cell_type": "code",
   "execution_count": null,
   "id": "48b32b31-da11-437d-8b94-468e5265e3d4",
   "metadata": {},
   "outputs": [],
   "source": [
    "# recipe for 1D comparison of disordered and periodic structure\n",
    "var_key = \"R\"\n",
    "\n",
    "(\n",
    "    (mean_and_std(restacked_ds, var_key=var_key) - restacked_pds[var_key])\n",
    "    .squeeze()\n",
    "    .hvplot(\n",
    "        x=\"wavelength\",\n",
    "        y=f\"{var_key}_mean\",\n",
    "        groupby=[\"delta\", \"num_periods\", \"period\", \"theta\"],\n",
    "    )\n",
    "    * (mean_and_std(restacked_ds, var_key=var_key) - restacked_pds[var_key])\n",
    "    .squeeze()\n",
    "    .hvplot.area(\n",
    "        x=\"wavelength\",\n",
    "        y=f\"{var_key}_low\",\n",
    "        y2=f\"{var_key}_high\",\n",
    "        groupby=[\"delta\", \"num_periods\", \"period\", \"theta\"],\n",
    "        alpha=0.2,\n",
    "        color=blue\n",
    "    )\n",
    "    # * (-mean_and_std(restacked_ds, var_key=var_key))\n",
    "    # .squeeze()\n",
    "    # .hvplot.area(\n",
    "    #     x=\"wavelength\",\n",
    "    #     y=f\"{var_key}_std\",\n",
    "    #     groupby=[\"delta\", \"num_periods\", \"period\", \"theta\"],\n",
    "    #     alpha=0.2,\n",
    "    #     color=blue\n",
    "    # )\n",
    ")"
   ]
  },
  {
   "cell_type": "code",
   "execution_count": null,
   "id": "a373493e-c6b4-4033-9c7c-c2c876e238dd",
   "metadata": {},
   "outputs": [],
   "source": [
    "# recipe for a nice statistical comparison\n",
    "# var = [\"Rs\", \"Rp\", \"R\"]\n",
    "# var = [\"As\", \"Ap\", \"A\"]\n",
    "var = reflectance\n",
    "\n",
    "(\n",
    "    integrate_da(restacked_ds[var], dim=\"wavelength\", normalisation=1).hvplot(\n",
    "        kind=\"violin\", groupby=[\"delta\", \"num_periods\", \"period\", \"theta\"],\n",
    "    )\n",
    "    * integrate_da(restacked_pds[var], dim=\"wavelength\", normalisation=1).hvplot(\n",
    "        kind=\"box\", groupby=[\"num_periods\", \"period\", \"theta\"], legend=False\n",
    "    )\n",
    ")"
   ]
  },
  {
   "cell_type": "code",
   "execution_count": null,
   "id": "21b19c10-6dd9-42e2-96c5-13a7e7800f08",
   "metadata": {},
   "outputs": [],
   "source": [
    "# recipe for a nice statistical comparison\n",
    "# var = [\"Rs\", \"Rp\", \"R\"]\n",
    "# var = [\"As\", \"Ap\", \"A\"]\n",
    "# var = reflectance\n",
    "\n",
    "layout = (\n",
    "    integrate_da(restacked_ds_05[reflectance], dim=\"wavelength\", normalisation=1).hvplot(\n",
    "        kind=\"violin\", groupby=[\"num_periods\", \"period\", \"theta\"], color=blue,\n",
    "    )\n",
    "    * integrate_da(restacked_pds[reflectance], dim=\"wavelength\", normalisation=1).hvplot(\n",
    "        kind=\"box\", groupby=[\"num_periods\", \"period\", \"theta\"], color=blue, legend=False\n",
    "    )\n",
    "    + integrate_da(restacked_ds_05[transmittance], dim=\"wavelength\", normalisation=1).hvplot(\n",
    "        kind=\"violin\", groupby=[\"num_periods\", \"period\", \"theta\"], color=yellow,\n",
    "    )\n",
    "    * integrate_da(restacked_pds[transmittance], dim=\"wavelength\", normalisation=1).hvplot(\n",
    "        kind=\"box\", groupby=[\"num_periods\", \"period\", \"theta\"], color=yellow, legend=False\n",
    "    )\n",
    "    + integrate_da(restacked_ds_05[absorptance], dim=\"wavelength\", normalisation=1).hvplot(\n",
    "        kind=\"violin\", groupby=[\"num_periods\", \"period\", \"theta\"], color=red,\n",
    "    )\n",
    "    * integrate_da(restacked_pds[absorptance], dim=\"wavelength\", normalisation=1).hvplot(\n",
    "        kind=\"box\", groupby=[\"num_periods\", \"period\", \"theta\"], color=red, legend=False\n",
    "    )\n",
    ").opts(opts.Layout(shared_axes=False)).cols(1)\n",
    "\n",
    "layout"
   ]
  },
  {
   "cell_type": "markdown",
   "id": "c86d50ae-4f11-4f10-80b1-0b3d43b46995",
   "metadata": {},
   "source": [
    "Notes (violin plots, integrated over wavelength but NOT theta):\n",
    "\n"
   ]
  },
  {
   "cell_type": "markdown",
   "id": "cadc8a43-8f6c-489e-9e06-0e787d5b3ff3",
   "metadata": {
    "tags": []
   },
   "source": [
    "### Violin plots integrated over wavelength and theta"
   ]
  },
  {
   "cell_type": "code",
   "execution_count": null,
   "id": "c78e9f83-49fb-4de5-bf64-869f0eb48e8d",
   "metadata": {},
   "outputs": [],
   "source": [
    "# recipe for a nice statistical comparison\n",
    "# var = [\"Rs\", \"Rp\", \"R\"]\n",
    "# var = [\"As\", \"Ap\", \"A\"]\n",
    "var = reflectance\n",
    "theta_range = (0, 45)\n",
    "\n",
    "(\n",
    "    integrate_da(restacked_ds[var].sel(theta=slice(*theta_range)), dim=[\"wavelength\", \"theta\"], normalisation=1).hvplot(\n",
    "        kind=\"violin\", groupby=[\"delta\", \"num_periods\", \"period\"],\n",
    "    )\n",
    "    * integrate_da(restacked_pds[var].sel(theta=slice(*theta_range)), dim=[\"wavelength\", \"theta\"], normalisation=1).hvplot(\n",
    "        kind=\"box\", groupby=[\"num_periods\", \"period\"], legend=False\n",
    "    )\n",
    ")"
   ]
  },
  {
   "cell_type": "code",
   "execution_count": null,
   "id": "866be70e-ad32-40da-8aba-d196d5fb9fa9",
   "metadata": {},
   "outputs": [],
   "source": [
    "# integrated over theta\n",
    "theta_range = (0, 45)\n",
    "\n",
    "layout = (\n",
    "    integrate_da(restacked_ds_05[reflectance].sel(theta=slice(*theta_range)), dim=[\"wavelength\", \"theta\"], normalisation=1).hvplot(\n",
    "        kind=\"violin\", groupby=[\"num_periods\", \"period\"], color=blue,\n",
    "    )\n",
    "    * integrate_da(restacked_pds[reflectance].sel(theta=slice(*theta_range)), dim=[\"wavelength\", \"theta\"], normalisation=1).hvplot(\n",
    "        kind=\"box\", groupby=[\"num_periods\", \"period\"], color=blue, legend=False\n",
    "    )\n",
    "    + integrate_da(restacked_ds_05[transmittance].sel(theta=slice(*theta_range)), dim=[\"wavelength\", \"theta\"], normalisation=1).hvplot(\n",
    "        kind=\"violin\", groupby=[\"num_periods\", \"period\"], color=yellow,\n",
    "    )\n",
    "    * integrate_da(restacked_pds[transmittance].sel(theta=slice(*theta_range)), dim=[\"wavelength\", \"theta\"], normalisation=1).hvplot(\n",
    "        kind=\"box\", groupby=[\"num_periods\", \"period\"], color=yellow, legend=False\n",
    "    )\n",
    "    + integrate_da(restacked_ds_05[absorptance].sel(theta=slice(*theta_range)), dim=[\"wavelength\", \"theta\"], normalisation=1).hvplot(\n",
    "        kind=\"violin\", groupby=[\"num_periods\", \"period\"], color=red,\n",
    "    )\n",
    "    * integrate_da(restacked_pds[absorptance].sel(theta=slice(*theta_range)), dim=[\"wavelength\", \"theta\"], normalisation=1).hvplot(\n",
    "        kind=\"box\", groupby=[\"num_periods\", \"period\"], color=red, legend=False\n",
    "    )\n",
    ").opts(opts.Layout(shared_axes=False)).cols(1)\n",
    "\n",
    "layout"
   ]
  },
  {
   "cell_type": "code",
   "execution_count": null,
   "id": "1df0a9bb-df88-4009-b520-133f10eae6da",
   "metadata": {},
   "outputs": [],
   "source": [
    "N = 5\n",
    "P = 250\n",
    "elt = 50\n",
    "fig = layout.select(num_periods=N, period=P).opts(\n",
    "    opts.Violin(xlabel=\"\", fontscale=2),\n",
    "    opts.Layout(show_title=False),\n",
    "    clone=True\n",
    ")\n",
    "display(fig)"
   ]
  },
  {
   "cell_type": "code",
   "execution_count": null,
   "id": "53523018-dc06-4d95-b54b-2e2fa2dbe4dc",
   "metadata": {},
   "outputs": [],
   "source": [
    "for f, label in zip(fig, [\"R\", \"T\", \"A\"]):\n",
    "    hv.save(f, filename=f\"data/run_{run_number}/figures/DLOPC_{label}_violin_wl_th_P{P}_elt{elt}_N{N}_wltot_th{theta_range[0]}-{theta_range[1]}\", fmt=\"png\", toolbar=None)"
   ]
  },
  {
   "cell_type": "code",
   "execution_count": null,
   "id": "74346d61-01f5-4f3e-a909-6895f609733c",
   "metadata": {},
   "outputs": [],
   "source": [
    "N = 20\n",
    "P = 250\n",
    "elt = 50\n",
    "fig = layout.select(num_periods=N, period=P).opts(\n",
    "    opts.Violin(xlabel=\"\", fontscale=2),\n",
    "    opts.Layout(show_title=False),\n",
    "    clone=True\n",
    ")\n",
    "display(fig)"
   ]
  },
  {
   "cell_type": "code",
   "execution_count": null,
   "id": "6dd67de8-7d69-41dd-a6c3-a1b0c5573824",
   "metadata": {},
   "outputs": [],
   "source": [
    "for f, label in zip(fig, [\"R\", \"T\", \"A\"]):\n",
    "    hv.save(f, filename=f\"data/run_{run_number}/figures/DLOPC_{label}_violin_wl_th_P{P}_elt{elt}_N{N}_wltot_th{theta_range[0]}-{theta_range[1]}\", fmt=\"png\", toolbar=None)"
   ]
  },
  {
   "cell_type": "code",
   "execution_count": null,
   "id": "f3b86ca6-3724-45bc-a2dd-df461b2a5062",
   "metadata": {},
   "outputs": [],
   "source": [
    "N = 50\n",
    "P = 250\n",
    "elt = 50\n",
    "fig = layout.select(num_periods=N, period=P).opts(\n",
    "    opts.Violin(xlabel=\"\", fontscale=2),\n",
    "    opts.Layout(show_title=False),\n",
    "    clone=True\n",
    ")\n",
    "display(fig)"
   ]
  },
  {
   "cell_type": "code",
   "execution_count": null,
   "id": "e6e95d44-adcf-455a-8bdc-8a4581f1d41b",
   "metadata": {},
   "outputs": [],
   "source": [
    "for f, label in zip(fig, [\"R\", \"T\", \"A\"]):\n",
    "    hv.save(f, filename=f\"data/run_{run_number}/figures/DLOPC_{label}_violin_wl_th_P{P}_elt{elt}_N{N}_wltot_th{theta_range[0]}-{theta_range[1]}\", fmt=\"png\", toolbar=None)"
   ]
  },
  {
   "cell_type": "markdown",
   "id": "f3c2fe55-7b08-4c24-9a14-d89ae2f812a5",
   "metadata": {},
   "source": [
    "Just RTA plots"
   ]
  },
  {
   "cell_type": "code",
   "execution_count": null,
   "id": "f7f26fc6-e7ee-4a27-b873-56ca13ce82dc",
   "metadata": {},
   "outputs": [],
   "source": [
    "\n",
    "layout = (\n",
    "    integrate_da(restacked_ds_05[\"R\"], dim=[\"wavelength\"], normalisation=1).hvplot(\n",
    "        kind=\"violin\", groupby=[\"num_periods\", \"period\", \"theta\"], color=blue,\n",
    "    )\n",
    "    * integrate_da(restacked_pds[\"R\"], dim=[\"wavelength\"], normalisation=1).hvplot(\n",
    "        kind=\"box\", groupby=[\"num_periods\", \"period\", \"theta\"], color=blue, legend=False\n",
    "    )\n",
    "    + integrate_da(restacked_ds_05[\"T\"], dim=[\"wavelength\"], normalisation=1).hvplot(\n",
    "        kind=\"violin\", groupby=[\"num_periods\", \"period\", \"theta\"], color=yellow,\n",
    "    )\n",
    "    * integrate_da(restacked_pds[\"T\"], dim=[\"wavelength\"], normalisation=1).hvplot(\n",
    "        kind=\"box\", groupby=[\"num_periods\", \"period\", \"theta\"], color=yellow, legend=False\n",
    "    )\n",
    "    + integrate_da(restacked_ds_05[\"A\"], dim=[\"wavelength\"], normalisation=1).hvplot(\n",
    "        kind=\"violin\", groupby=[\"num_periods\", \"period\", \"theta\"], color=red,\n",
    "    )\n",
    "    * integrate_da(restacked_pds[\"A\"], dim=[\"wavelength\"], normalisation=1).hvplot(\n",
    "        kind=\"box\", groupby=[\"num_periods\", \"period\", \"theta\"], color=red, legend=False\n",
    "    )\n",
    ").opts(opts.Violin(width=200), opts.Layout(shared_axes=False)).cols(3)\n",
    "\n",
    "layout"
   ]
  },
  {
   "cell_type": "code",
   "execution_count": null,
   "id": "312dddc7-2caf-40ac-9d06-dd259748628c",
   "metadata": {},
   "outputs": [],
   "source": [
    "N = 50\n",
    "P = 250\n",
    "theta = 0\n",
    "elt = 50\n",
    "fig = layout.select(num_periods=N, period=P, theta=theta).opts(\n",
    "    opts.Violin(xlabel=\"\", fontscale=2, width=200, height=300),\n",
    "    opts.Layout(show_title=False),\n",
    "    clone=True\n",
    ")\n",
    "display(fig)"
   ]
  },
  {
   "cell_type": "code",
   "execution_count": null,
   "id": "bd3d0668-3e48-4950-8421-0a6ed22dece1",
   "metadata": {},
   "outputs": [],
   "source": [
    "hv.save(\n",
    "    fig,\n",
    "    filename=f\"data/run_{run_number}/figures/DLOPC_RTA_violin_wl_P{P}_elt{elt}_N{N}_wltot_th{theta}\",\n",
    "    fmt=\"png\",\n",
    "    toolbar=None,\n",
    ")"
   ]
  },
  {
   "cell_type": "code",
   "execution_count": null,
   "id": "56683e02-488d-40cc-8ff1-b7239a7ad817",
   "metadata": {},
   "outputs": [],
   "source": [
    "# integrated over theta\n",
    "theta_range = (0, 45)\n",
    "\n",
    "layout = (\n",
    "    integrate_da(restacked_ds_05[\"R\"].sel(theta=slice(*theta_range)), dim=[\"wavelength\", \"theta\"], normalisation=1).hvplot(\n",
    "        kind=\"violin\", groupby=[\"num_periods\", \"period\"], color=blue,\n",
    "    )\n",
    "    * integrate_da(restacked_pds[\"R\"].sel(theta=slice(*theta_range)), dim=[\"wavelength\", \"theta\"], normalisation=1).hvplot(\n",
    "        kind=\"box\", groupby=[\"num_periods\", \"period\"], color=blue, legend=False\n",
    "    )\n",
    "    + integrate_da(restacked_ds_05[\"T\"].sel(theta=slice(*theta_range)), dim=[\"wavelength\", \"theta\"], normalisation=1).hvplot(\n",
    "        kind=\"violin\", groupby=[\"num_periods\", \"period\"], color=yellow,\n",
    "    )\n",
    "    * integrate_da(restacked_pds[\"T\"].sel(theta=slice(*theta_range)), dim=[\"wavelength\", \"theta\"], normalisation=1).hvplot(\n",
    "        kind=\"box\", groupby=[\"num_periods\", \"period\"], color=yellow, legend=False\n",
    "    )\n",
    "    + integrate_da(restacked_ds_05[\"A\"].sel(theta=slice(*theta_range)), dim=[\"wavelength\", \"theta\"], normalisation=1).hvplot(\n",
    "        kind=\"violin\", groupby=[\"num_periods\", \"period\"], color=red,\n",
    "    )\n",
    "    * integrate_da(restacked_pds[\"A\"].sel(theta=slice(*theta_range)), dim=[\"wavelength\", \"theta\"], normalisation=1).hvplot(\n",
    "        kind=\"box\", groupby=[\"num_periods\", \"period\"], color=red, legend=False\n",
    "    )\n",
    ").opts(opts.Violin(width=200), opts.Layout(shared_axes=False)).cols(3)\n",
    "\n",
    "layout"
   ]
  },
  {
   "cell_type": "code",
   "execution_count": null,
   "id": "fc9d8d33-c3b6-4c24-8faf-84fe8ed61b8c",
   "metadata": {},
   "outputs": [],
   "source": [
    "N = 50\n",
    "P = 250\n",
    "elt = 50\n",
    "fig = layout.select(num_periods=N, period=P).opts(\n",
    "    opts.Violin(xlabel=\"\", fontscale=2, width=200, height=300),\n",
    "    opts.Layout(show_title=False),\n",
    "    clone=True\n",
    ")\n",
    "display(fig)"
   ]
  },
  {
   "cell_type": "markdown",
   "id": "04ecfb9c-1dfd-478a-916e-38bce0894277",
   "metadata": {},
   "source": [
    "Not convinced these are good plots"
   ]
  },
  {
   "cell_type": "code",
   "execution_count": null,
   "id": "7de6cd94-99a2-4237-9815-b884fcf87c5d",
   "metadata": {},
   "outputs": [],
   "source": [
    "hv.save(\n",
    "    fig,\n",
    "    filename=f\"data/run_{run_number}/figures/DLOPC_RTA_violin_wl_th_P{P}_elt{elt}_N{N}_wltot_th{theta_range[0]}-{theta_range[1]}\",\n",
    "    fmt=\"png\",\n",
    "    toolbar=None,\n",
    ")"
   ]
  },
  {
   "cell_type": "code",
   "execution_count": null,
   "id": "9e2cf7ec-0be5-4247-9b23-8c6bcc6534ca",
   "metadata": {},
   "outputs": [],
   "source": [
    "# integrated over theta\n",
    "var = \"R\"\n",
    "theta_range = (0, 45)\n",
    "Delta = 0.4\n",
    "N = [5, 20, 50]\n",
    "P = 300  # Ps: 200, 250, 300\n",
    "\n",
    "layout = (\n",
    "    integrate_da(restacked_ds[var].sel(delta=Delta).sel(period=P).sel(num_periods=N).sel(theta=slice(*theta_range)), dim=[\"wavelength\", \"theta\"], normalisation=1).hvplot(\n",
    "        kind=\"violin\", row=\"num_periods\", color=blue,\n",
    "    )\n",
    "    * integrate_da(restacked_pds[var].sel(period=P).sel(num_periods=N).sel(theta=slice(*theta_range)), dim=[\"wavelength\", \"theta\"], normalisation=1).hvplot(\n",
    "        kind=\"box\", row=\"num_periods\", color=blue, legend=False\n",
    "    )\n",
    ").opts(\n",
    "    # opts.Violin(width=500),\n",
    "    # opts.BoxWhisker(width=500),\n",
    "    # opts.GridSpace(frame_width=500),  # frame_width is broken, need new Holoviews version (see https://github.com/holoviz/holoviews/issues/4051)\n",
    "    opts.GridSpace(plot_size=(200, 300))\n",
    ")\n",
    "\n",
    "layout"
   ]
  },
  {
   "cell_type": "code",
   "execution_count": null,
   "id": "1a9ecc54-0a81-4abe-88c8-42e583cdc311",
   "metadata": {
    "tags": []
   },
   "outputs": [],
   "source": [
    "# # sanity check - is the minimum integrated R < 0, as implied by the leftmost plot?\n",
    "# # no, it's an artifact of the violin plotting the probability distribution\n",
    "# integrate_da(\n",
    "#     restacked_ds_05[\"R\"]\n",
    "#     .sel(period=P)\n",
    "#     .sel(num_periods=5)\n",
    "#     .sel(theta=slice(*theta_range)),\n",
    "#     dim=[\"wavelength\", \"theta\"],\n",
    "#     normalisation=1,\n",
    "# ).min(\"run\").compute()"
   ]
  },
  {
   "cell_type": "code",
   "execution_count": null,
   "id": "386eb91b-cc26-442e-84b4-ac61d508f5b1",
   "metadata": {
    "tags": []
   },
   "outputs": [],
   "source": [
    "elt = 50\n",
    "fig = layout.opts(\n",
    "    opts.Violin(\n",
    "        xlabel=\"\",\n",
    "        xaxis=None,\n",
    "        fontscale=2,\n",
    "    ),\n",
    "    opts.GridSpace(\n",
    "        fontscale=2,\n",
    "        toolbar=None,\n",
    "        # xaxis=None\n",
    "    ),\n",
    "    clone=True,\n",
    ")\n",
    "display(fig)"
   ]
  },
  {
   "cell_type": "code",
   "execution_count": null,
   "id": "bf6f8a92-dd59-4ead-94cb-19a52ad2a8e6",
   "metadata": {},
   "outputs": [],
   "source": [
    "Ns = \"-\".join([str(i) for i in N])\n",
    "ths = \"-\".join([str(i) for i in theta_range])\n",
    "D = str(Delta).replace(\".\", \"\")\n",
    "hv.save(\n",
    "    fig,\n",
    "    filename=f\"data/run_{run_number}/figures/DLOPC_{var}_violin_wl_th_P{P}_elt{elt}_N{Ns}_wltot_th{ths}_D{D}\",\n",
    "    fmt=\"png\",\n",
    "    toolbar=None,\n",
    ")"
   ]
  },
  {
   "cell_type": "code",
   "execution_count": null,
   "id": "b6d18671-af03-4525-996d-0c8664dc8eda",
   "metadata": {},
   "outputs": [],
   "source": [
    "from bokeh.sampledata.sprint import sprint as df\n",
    "\n",
    "df.head()"
   ]
  },
  {
   "cell_type": "code",
   "execution_count": null,
   "id": "8a301d99-7e73-4915-8cc6-2ce109196fce",
   "metadata": {},
   "outputs": [],
   "source": [
    "import hvplot.pandas"
   ]
  },
  {
   "cell_type": "code",
   "execution_count": null,
   "id": "48429081-f836-44ce-9cad-0fc150991ac5",
   "metadata": {},
   "outputs": [],
   "source": [
    "df.to_xarray()"
   ]
  },
  {
   "cell_type": "code",
   "execution_count": null,
   "id": "7304c229-aee3-4f4e-a9b6-f6378936eace",
   "metadata": {},
   "outputs": [],
   "source": [
    "df.to_xarray().hvplot.violin(y='Time', c='Medal', ylabel='Sprint Time',\n",
    "                 cmap=['gold', 'silver', 'brown'], legend=False, \n",
    "                 width=500, height=500, padding=0.4)"
   ]
  },
  {
   "cell_type": "code",
   "execution_count": null,
   "id": "c7cd2905-dd65-4ba4-b3b8-7d460191aacf",
   "metadata": {},
   "outputs": [],
   "source": [
    "integrate_da(\n",
    "    restacked_ds_05[var]\n",
    "    # .sel(period=P)\n",
    "    .sel(num_periods=N)\n",
    "    .sel(theta=slice(*theta_range)),\n",
    "    dim=[\"wavelength\", \"theta\"],\n",
    "    normalisation=1,\n",
    ").squeeze(drop=True\n",
    ").reset_coords(\n",
    "drop=True\n",
    ").to_dataframe(\n",
    ").hvplot(\n",
    "    kind=\"box\",\n",
    "    by=[\"period\", \"num_periods\"],#, \"run\"],\n",
    "    # row=\"num_periods\",\n",
    "    color=blue,\n",
    ").opts(opts.Violin(split=hv.dim(\"run\")<50))"
   ]
  },
  {
   "cell_type": "code",
   "execution_count": null,
   "id": "08a0047c-8ff5-4c0f-b1b7-28ca16e47e38",
   "metadata": {},
   "outputs": [],
   "source": [
    "# integrated over theta\n",
    "var = \"R\"\n",
    "theta_range = (0, 45)\n",
    "N = [5, 20, 50]\n",
    "P = 250  # Ps: 200, 250, 300\n",
    "\n",
    "layout = (\n",
    "    integrate_da(restacked_ds_05[var].sel(period=P).sel(num_periods=N).sel(theta=slice(*theta_range)), dim=[\"wavelength\", \"theta\"], normalisation=1).hvplot(\n",
    "        kind=\"violin\", row=\"num_periods\", color=blue,\n",
    "    )\n",
    "    * integrate_da(restacked_pds[var].sel(period=P).sel(num_periods=N).sel(theta=slice(*theta_range)), dim=[\"wavelength\", \"theta\"], normalisation=1).hvplot(\n",
    "        kind=\"box\", row=\"num_periods\", color=blue, legend=False\n",
    "    )\n",
    ").opts(\n",
    "    # opts.Violin(width=500),\n",
    "    # opts.BoxWhisker(width=500),\n",
    "    # opts.GridSpace(frame_width=500),  # frame_width is broken, need new Holoviews version (see https://github.com/holoviz/holoviews/issues/4051)\n",
    "    opts.GridSpace(plot_size=(200, 300))\n",
    ")\n",
    "\n",
    "layout"
   ]
  },
  {
   "cell_type": "code",
   "execution_count": null,
   "id": "713981b0-7652-4703-bc57-3d74e80b9fc9",
   "metadata": {
    "tags": []
   },
   "outputs": [],
   "source": [
    "# # sanity check - is the minimum integrated R < 0, as implied by the leftmost plot?\n",
    "# # no, it's an artifact of the violin plotting the probability distribution\n",
    "# integrate_da(\n",
    "#     restacked_ds_05[\"R\"]\n",
    "#     .sel(period=P)\n",
    "#     .sel(num_periods=5)\n",
    "#     .sel(theta=slice(*theta_range)),\n",
    "#     dim=[\"wavelength\", \"theta\"],\n",
    "#     normalisation=1,\n",
    "# ).min(\"run\").compute()"
   ]
  },
  {
   "cell_type": "code",
   "execution_count": null,
   "id": "eeecb7b3-c445-493d-b33d-e9938a8db58a",
   "metadata": {},
   "outputs": [],
   "source": [
    "elt = 50\n",
    "fig = layout.opts(\n",
    "    opts.Violin(\n",
    "        xlabel=\"\",\n",
    "        xaxis=None,\n",
    "        fontscale=2,\n",
    "    ),\n",
    "    opts.GridSpace(fontscale=2, toolbar=None, xaxis=None),\n",
    "    clone=True,\n",
    ")\n",
    "display(fig)"
   ]
  },
  {
   "cell_type": "code",
   "execution_count": null,
   "id": "b1b3882c-bc7e-4489-8c0b-3cf6cf307559",
   "metadata": {},
   "outputs": [],
   "source": [
    "Ns = \"-\".join([str(i) for i in N])\n",
    "ths = \"-\".join([str(i) for i in theta_range])\n",
    "hv.save(\n",
    "    fig,\n",
    "    filename=f\"data/run_{run_number}/figures/DLOPC_{var}_violin_wl_th_P{P}_elt{elt}_N{Ns}_wltot_th{ths}\",\n",
    "    fmt=\"png\",\n",
    "    toolbar=None,\n",
    ")"
   ]
  },
  {
   "cell_type": "code",
   "execution_count": null,
   "id": "cac232aa-b13c-46c0-a554-23664f6cd8e4",
   "metadata": {},
   "outputs": [],
   "source": [
    "# integrated over theta\n",
    "var = \"T\"\n",
    "theta_range = (0, 45)\n",
    "N = [5, 20, 50]\n",
    "P = 250\n",
    "\n",
    "layout = (\n",
    "    integrate_da(restacked_ds_05[var].sel(period=P).sel(num_periods=N).sel(theta=slice(*theta_range)), dim=[\"wavelength\", \"theta\"], normalisation=1).hvplot(\n",
    "        kind=\"violin\", row=\"num_periods\", color=yellow,\n",
    "    )\n",
    "    * integrate_da(restacked_pds[var].sel(period=P).sel(num_periods=N).sel(theta=slice(*theta_range)), dim=[\"wavelength\", \"theta\"], normalisation=1).hvplot(\n",
    "        kind=\"box\", row=\"num_periods\", color=yellow, legend=False\n",
    "    )\n",
    ").opts(\n",
    "    # opts.Violin(width=500),\n",
    "    # opts.BoxWhisker(width=500),\n",
    "    # opts.GridSpace(frame_width=500),  # frame_width is broken, need new Holoviews version (see https://github.com/holoviz/holoviews/issues/4051)\n",
    "    opts.GridSpace(plot_size=(200, 300))\n",
    ")\n",
    "\n",
    "layout"
   ]
  },
  {
   "cell_type": "code",
   "execution_count": null,
   "id": "fc60c380-bad7-4215-b191-88bde79996c6",
   "metadata": {},
   "outputs": [],
   "source": [
    "elt = 50\n",
    "fig = layout.opts(\n",
    "    opts.Violin(\n",
    "        xlabel=\"\",\n",
    "        xaxis=None,\n",
    "        ylim=(0.36, None),\n",
    "        fontscale=2,\n",
    "    ),\n",
    "    opts.GridSpace(fontscale=2, toolbar=None, ),\n",
    "    clone=True,\n",
    ")\n",
    "display(fig)"
   ]
  },
  {
   "cell_type": "code",
   "execution_count": null,
   "id": "c692980f-5b25-4a10-9cdf-555464df2cf0",
   "metadata": {},
   "outputs": [],
   "source": [
    "Ns = \"-\".join([str(i) for i in N])\n",
    "ths = \"-\".join([str(i) for i in theta_range])\n",
    "hv.save(\n",
    "    fig,\n",
    "    filename=f\"data/run_{run_number}/figures/DLOPC_{var}_violin_wl_th_P{P}_elt{elt}_N{Ns}_wltot_th{ths}\",\n",
    "    fmt=\"png\",\n",
    "    toolbar=None,\n",
    ")"
   ]
  },
  {
   "cell_type": "code",
   "execution_count": null,
   "id": "b2e25d16-1204-4fe9-bdc9-f8bb2ec4cc38",
   "metadata": {},
   "outputs": [],
   "source": [
    "# integrated over theta\n",
    "var = \"A\"\n",
    "theta_range = (0, 45)\n",
    "N = [5, 20, 50]\n",
    "P = 250\n",
    "\n",
    "layout = (\n",
    "    integrate_da(restacked_ds_05[var].sel(period=P).sel(num_periods=N).sel(theta=slice(*theta_range)), dim=[\"wavelength\", \"theta\"], normalisation=1).hvplot(\n",
    "        kind=\"violin\", row=\"num_periods\", color=red,\n",
    "    )\n",
    "    * integrate_da(restacked_pds[var].sel(period=P).sel(num_periods=N).sel(theta=slice(*theta_range)), dim=[\"wavelength\", \"theta\"], normalisation=1).hvplot(\n",
    "        kind=\"box\", row=\"num_periods\", color=red, legend=False\n",
    "    )\n",
    ").opts(\n",
    "    # opts.Violin(width=500),\n",
    "    # opts.BoxWhisker(width=500),\n",
    "    # opts.GridSpace(frame_width=500),  # frame_width is broken, need new Holoviews version (see https://github.com/holoviz/holoviews/issues/4051)\n",
    "    opts.GridSpace(plot_size=(200, 300))\n",
    ")\n",
    "\n",
    "layout"
   ]
  },
  {
   "cell_type": "code",
   "execution_count": null,
   "id": "a95a8100-f152-43f6-8cd5-6ebd3fbd54d6",
   "metadata": {},
   "outputs": [],
   "source": [
    "elt = 50\n",
    "fig = layout.opts(\n",
    "    opts.Violin(\n",
    "        xlabel=\"\",\n",
    "        xaxis=None,\n",
    "        ylim=(0.08, 0.52),\n",
    "        fontscale=2,\n",
    "    ),\n",
    "    opts.GridSpace(fontscale=2, toolbar=None, xaxis=None),\n",
    "    clone=True,\n",
    ")\n",
    "display(fig)"
   ]
  },
  {
   "cell_type": "code",
   "execution_count": null,
   "id": "b5db36b6-9f77-421b-98e5-6b98469f8b5f",
   "metadata": {},
   "outputs": [],
   "source": [
    "Delta = 0.5"
   ]
  },
  {
   "cell_type": "code",
   "execution_count": null,
   "id": "2476f38f-965e-42f8-ad42-cab2bf671099",
   "metadata": {},
   "outputs": [],
   "source": [
    "D = str(Delta).replace(\".\", \"\")"
   ]
  },
  {
   "cell_type": "code",
   "execution_count": null,
   "id": "b0312510-0a4c-4eba-a8e8-7882eeec2f4e",
   "metadata": {},
   "outputs": [],
   "source": [
    "Ns = \"-\".join([str(i) for i in N])\n",
    "ths = \"-\".join([str(i) for i in theta_range])\n",
    "hv.save(\n",
    "    fig,\n",
    "    filename=f\"data/run_{run_number}/figures/DLOPC_{var}_violin_wl_th_P{P}_elt{elt}_N{Ns}_wltot_th{ths}_D{D}\",\n",
    "    fmt=\"png\",\n",
    "    toolbar=None,\n",
    ")"
   ]
  },
  {
   "cell_type": "code",
   "execution_count": null,
   "id": "74810a64-1188-4055-9d2a-83d4070857f7",
   "metadata": {},
   "outputs": [],
   "source": []
  }
 ],
 "metadata": {
  "kernelspec": {
   "display_name": "Python [conda env:multilayer_simulator] *",
   "language": "python",
   "name": "conda-env-multilayer_simulator-py"
  },
  "language_info": {
   "codemirror_mode": {
    "name": "ipython",
    "version": 3
   },
   "file_extension": ".py",
   "mimetype": "text/x-python",
   "name": "python",
   "nbconvert_exporter": "python",
   "pygments_lexer": "ipython3",
   "version": "3.10.0"
  }
 },
 "nbformat": 4,
 "nbformat_minor": 5
}
