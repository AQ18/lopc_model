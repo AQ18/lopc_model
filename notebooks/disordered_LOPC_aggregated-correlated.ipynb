{
 "cells": [
  {
   "cell_type": "markdown",
   "id": "16933af0-af89-4324-bb97-4d3752f27e6c",
   "metadata": {},
   "source": [
    "Generating plots that explore the disordered LOPC model. This notebook is for testing the disorder method and looking at the optical properties of individual examples of disordered LOPCs without aggregation."
   ]
  },
  {
   "cell_type": "code",
   "execution_count": null,
   "id": "49be6f31-c2b8-4078-b9ca-f7bfab0f0a48",
   "metadata": {
    "tags": []
   },
   "outputs": [],
   "source": [
    "# computation\n",
    "import lumapi\n",
    "import numpy as np\n",
    "import warnings\n",
    "import xarray as xr\n",
    "import xyzpy as xyz\n",
    "from xyzpy.gen.combo_runner import multi_concat\n",
    "from multilayer_simulator.lumerical_classes import LumericalOscillator, format_stackrt, format_stackfield\n",
    "from multilayer_simulator.helpers.mixins import convert_wavelength_and_frequency\n",
    "import dask\n",
    "from functools import partial\n",
    "# plotting\n",
    "import hvplot.xarray\n",
    "import holoviews as hv\n",
    "from holoviews import dim, opts\n",
    "import panel as pn\n",
    "import panel.widgets as pnw"
   ]
  },
  {
   "cell_type": "code",
   "execution_count": null,
   "id": "576fa236-63d1-477e-a201-e25dc4db696a",
   "metadata": {
    "tags": []
   },
   "outputs": [],
   "source": [
    "hv.extension(\"bokeh\", \"matplotlib\", case_sensitive_completion=True)\n",
    "pn.config.throttled = True\n",
    "\n",
    "xarray_engine='h5netcdf'"
   ]
  },
  {
   "cell_type": "code",
   "execution_count": null,
   "id": "4d826d37-718a-4a7e-9c46-2e4ee069fe3c",
   "metadata": {
    "tags": []
   },
   "outputs": [],
   "source": [
    "# A hacky way to import a script\n",
    "\n",
    "import os\n",
    "import sys\n",
    "\n",
    "dir2 = os.path.abspath(\"\")\n",
    "dir1 = os.path.dirname(dir2)\n",
    "if not dir1 in sys.path:\n",
    "    sys.path.append(dir1)\n",
    "from LOPC import LOPC\n",
    "from LOPC.helpers import (\n",
    "    assign_derived_attrs,\n",
    "    restack,\n",
    "    enhancement_factor,\n",
    "    combo_length,\n",
    "    estimate_combo_run_time,\n",
    "    linewidth_calculator,\n",
    "    lopc_data,\n",
    "    spectrum,\n",
    "    normalise_over_dim,\n",
    "    integrate_da,\n",
    "    sel_or_integrate,\n",
    "    find_optimum_coords,\n",
    "    plot_secondary,\n",
    "    pre_process_for_plots,\n",
    "    vlines,\n",
    "    coordinate_string,\n",
    "    plot_da,\n",
    "    plot_var,\n",
    "    plot_optimum_over_dim,\n",
    "    plot_field,\n",
    "    complex_elements,\n",
    "    fix_bin_labels,\n",
    "    mean_and_std\n",
    ")"
   ]
  },
  {
   "cell_type": "markdown",
   "id": "32d1f679-dc47-4e62-935f-46757192a710",
   "metadata": {},
   "source": [
    "Turn on auto-archiving of cells and Holoviews outputs. See the user guide [here](https://holoviews.org/user_guide/Exporting_and_Archiving.html).\n",
    "\n",
    "Might need to install `ipympl`."
   ]
  },
  {
   "cell_type": "code",
   "execution_count": null,
   "id": "2450ba99-e892-4be2-931b-0f0a07589273",
   "metadata": {
    "tags": []
   },
   "outputs": [],
   "source": [
    "# hv.archive.auto() # This breaks the DynamicMap call below due to something to do with pickling\n",
    "\n",
    "undisordered_run_number = 2\n",
    "run_number = 211"
   ]
  },
  {
   "cell_type": "markdown",
   "id": "41a2bd5a-4626-45b6-a6e4-ee02d9166f3e",
   "metadata": {},
   "source": [
    "Useful variables for plotting later:"
   ]
  },
  {
   "cell_type": "code",
   "execution_count": null,
   "id": "bcf08d4d-3efd-40c2-bd09-0838f4fd98d0",
   "metadata": {
    "tags": []
   },
   "outputs": [],
   "source": [
    "blue = hv.Cycle.default_cycles['default_colors'][0]\n",
    "red = hv.Cycle.default_cycles['default_colors'][1]\n",
    "yellow = hv.Cycle.default_cycles['default_colors'][2]\n",
    "green = hv.Cycle.default_cycles['default_colors'][3]"
   ]
  },
  {
   "cell_type": "code",
   "execution_count": null,
   "id": "5201529a-3bdc-4203-90e1-f9d4c564c41e",
   "metadata": {
    "tags": []
   },
   "outputs": [],
   "source": [
    "wavelengths_in_nanometres = np.linspace(480, 880, 256)\n",
    "wavelengths = wavelengths_in_nanometres * 1e-9\n",
    "frequencies = convert_wavelength_and_frequency(wavelengths)\n",
    "angles = np.linspace(0, 86, 64)"
   ]
  },
  {
   "cell_type": "code",
   "execution_count": null,
   "id": "9555b8d0-ee3d-4e0b-ae93-e8df6b7f6664",
   "metadata": {
    "tags": []
   },
   "outputs": [],
   "source": [
    "default_oscillator_params = {\n",
    "    \"N\": 1e26,\n",
    "    \"permittivity\": 2.2,\n",
    "    \"lorentz_resonance_wavelength\": 680,\n",
    "    \"lorentz_linewidth\": 7.5e13,\n",
    "}"
   ]
  },
  {
   "cell_type": "markdown",
   "id": "727b8fa1-5594-438e-84a6-51954cee6252",
   "metadata": {
    "jp-MarkdownHeadingCollapsed": true,
    "tags": []
   },
   "source": [
    "# Setup"
   ]
  },
  {
   "cell_type": "code",
   "execution_count": null,
   "id": "42a9aef1-9583-4de2-990f-cd2e4ee90b11",
   "metadata": {
    "tags": []
   },
   "outputs": [],
   "source": [
    "# fdtd = lumapi.FDTD()"
   ]
  },
  {
   "cell_type": "code",
   "execution_count": null,
   "id": "c2936bbb-c519-4c8e-abe8-0946398cc2bc",
   "metadata": {
    "tags": []
   },
   "outputs": [],
   "source": [
    "# oscillator = LumericalOscillator(session=fdtd)"
   ]
  },
  {
   "cell_type": "code",
   "execution_count": null,
   "id": "8a5da476-19fc-48d5-979b-eaa469ccd889",
   "metadata": {
    "tags": []
   },
   "outputs": [],
   "source": [
    "# rng = np.random.default_rng(seed=20182023)"
   ]
  },
  {
   "cell_type": "code",
   "execution_count": null,
   "id": "273493fd-1915-4745-9c12-c0ef6156afa0",
   "metadata": {
    "tags": []
   },
   "outputs": [],
   "source": [
    "# formatter = format_stackrt(\n",
    "#     output_format=\"xarray_dataset\",\n",
    "#     **{\n",
    "#         \"variables\": [\"Rs\", \"Rp\", \"Ts\", \"Tp\"],\n",
    "#         \"add_absorption\": False,\n",
    "#     }\n",
    "# )"
   ]
  },
  {
   "cell_type": "code",
   "execution_count": null,
   "id": "c6955a16-e03d-448c-aa81-6bb2ef2243a4",
   "metadata": {
    "tags": []
   },
   "outputs": [],
   "source": [
    "# resources = {\n",
    "#     \"lumerical_session\": fdtd,\n",
    "#     \"oscillator\": oscillator,\n",
    "#     \"rng\": rng,  # assign seeded rng for reproducibility\n",
    "#     \"simulation_mode\": \"stackrt\",\n",
    "#     \"formatter\": formatter,\n",
    "#     \"frequencies\": frequencies,\n",
    "#     \"angles\": angles,\n",
    "# }"
   ]
  },
  {
   "cell_type": "code",
   "execution_count": null,
   "id": "1f776d8c-8f29-411f-99c7-229f01521a6f",
   "metadata": {
    "tags": []
   },
   "outputs": [],
   "source": [
    "# constants = {\n",
    "#     \"apply_disorder\": 10,  # True-> only one run; int-> int runs\n",
    "#     \"delta_mode\": \"pplt\",  # abs-> interpret delta as distance in nm; pplt-> interpret delta as proportion of passive layer thickness\n",
    "#     \"disorder_type\": \"uniform\",  # not considering gaussian or other distributions\n",
    "#     \"correlated\": True,  # False-> uncorrelated disorder\n",
    "#     \"retain_runs\": False,  # True-> return concat'd array; False-> return mean array\n",
    "#     \"add_first_layer\": True,  # add dummy passive layer to allow disorder on first excitonic layer\n",
    "#     \"copy_layers\": True,\n",
    "#     \"length_scale\": 1e-9,\n",
    "# }"
   ]
  },
  {
   "cell_type": "code",
   "execution_count": null,
   "id": "e9db6925-1c3c-4f34-aebb-d0b17953247b",
   "metadata": {
    "tags": []
   },
   "outputs": [],
   "source": [
    "# r = xyz.Runner(lopc_data, var_names=None, constants=constants, resources=resources)"
   ]
  },
  {
   "cell_type": "markdown",
   "id": "0e7ff7d9-d9c2-48bf-a5a7-7fd1aec0b19f",
   "metadata": {
    "tags": []
   },
   "source": [
    "## LOPC"
   ]
  },
  {
   "cell_type": "code",
   "execution_count": null,
   "id": "acbc258a-7cac-4d80-be26-b94e2435f8fe",
   "metadata": {},
   "outputs": [],
   "source": [
    "# h_lopc = xyz.Harvester(runner=r, data_name=f\"data/run_{run_number}/LOPC.nc\")"
   ]
  },
  {
   "cell_type": "code",
   "execution_count": null,
   "id": "63cc94e0-e7b5-4af0-921b-04c01d2559f7",
   "metadata": {
    "tags": []
   },
   "outputs": [],
   "source": [
    "# %%time\n",
    "# # check how long one run takes\n",
    "# lopc_data(**resources, **constants)\n",
    "# # 9s"
   ]
  },
  {
   "cell_type": "markdown",
   "id": "b381b5cd-eae7-43bd-a412-25a3c493ac1b",
   "metadata": {
    "jp-MarkdownHeadingCollapsed": true,
    "tags": []
   },
   "source": [
    "## Reference slabs"
   ]
  },
  {
   "cell_type": "markdown",
   "id": "9abb55eb-48c0-4cd4-954f-181f60a46599",
   "metadata": {},
   "source": [
    "The reference slabs are just those from the equivalent undisordered run."
   ]
  },
  {
   "cell_type": "markdown",
   "id": "2a2159e8-bf6b-4cdd-bf95-eda2aa7441df",
   "metadata": {
    "jp-MarkdownHeadingCollapsed": true,
    "tags": []
   },
   "source": [
    "# Testing"
   ]
  },
  {
   "cell_type": "markdown",
   "id": "799b6745-f2ed-4be2-99e3-3444ab2d60ca",
   "metadata": {
    "jp-MarkdownHeadingCollapsed": true,
    "tags": []
   },
   "source": [
    "## Perturbing"
   ]
  },
  {
   "cell_type": "code",
   "execution_count": null,
   "id": "56790c87-98ae-4f07-8977-cc91d6ab8f4f",
   "metadata": {},
   "outputs": [],
   "source": [
    "from LOPC.helpers import visualise_multilayer, thicknesses_to_vspans"
   ]
  },
  {
   "cell_type": "code",
   "execution_count": null,
   "id": "bf2f0644-bd4e-44f4-8a1e-3713b199370f",
   "metadata": {},
   "outputs": [],
   "source": [
    "from LOPC.LOPC import adjust_layer_thickness, shift_layer_position"
   ]
  },
  {
   "cell_type": "code",
   "execution_count": null,
   "id": "ba66b6ed-fb5e-4f41-bbd9-068baeb02446",
   "metadata": {},
   "outputs": [],
   "source": [
    "# expect a warning\n",
    "lopc = LOPC.LOPC(**resources, **constants, passive_layer_thickness=200, excitonic_layer_thickness=50, remove_last_layer=False)"
   ]
  },
  {
   "cell_type": "code",
   "execution_count": null,
   "id": "3c61665b-8754-44a1-857f-39d658723634",
   "metadata": {},
   "outputs": [],
   "source": [
    "lopc.structure.layers"
   ]
  },
  {
   "cell_type": "code",
   "execution_count": null,
   "id": "efb3f724-dde5-4207-beb0-9254bc06e743",
   "metadata": {},
   "outputs": [],
   "source": [
    "p_layer = lopc.structure.layers[2]"
   ]
  },
  {
   "cell_type": "code",
   "execution_count": null,
   "id": "b14f8e32-36d8-41ad-be32-9a515440bbe3",
   "metadata": {},
   "outputs": [],
   "source": [
    "adjust_layer_thickness(p_layer, 1e-7)"
   ]
  },
  {
   "cell_type": "code",
   "execution_count": null,
   "id": "e6a9720a-eb30-45d1-9527-d75fd980a8b6",
   "metadata": {},
   "outputs": [],
   "source": [
    "p_layer"
   ]
  },
  {
   "cell_type": "code",
   "execution_count": null,
   "id": "64c2745a-14e3-49d6-bfdd-92eed3f78d41",
   "metadata": {},
   "outputs": [],
   "source": [
    "e_layer = lopc.structure.layers[1]"
   ]
  },
  {
   "cell_type": "code",
   "execution_count": null,
   "id": "17a16a5b-40ca-4f0b-b7dc-c91484301353",
   "metadata": {},
   "outputs": [],
   "source": [
    "adjust_layer_thickness(e_layer, 5e-8)"
   ]
  },
  {
   "cell_type": "code",
   "execution_count": null,
   "id": "cd254dd9-f296-453e-ac3e-bb1df8678652",
   "metadata": {},
   "outputs": [],
   "source": [
    "e_layer"
   ]
  },
  {
   "cell_type": "code",
   "execution_count": null,
   "id": "b9175237-c02d-429b-b42f-f0a605ac4d00",
   "metadata": {},
   "outputs": [],
   "source": [
    "visualise_multilayer(lopc.structure).opts(opts.VSpan(apply_ranges=True, color=blue, width=400))"
   ]
  },
  {
   "cell_type": "code",
   "execution_count": null,
   "id": "22f9c7a1-32d0-40f2-b86f-14b0313f2cac",
   "metadata": {},
   "outputs": [],
   "source": [
    "shift_layer_position(lopc.structure, layer_index=7, delta=1e-7, compensate=True)"
   ]
  },
  {
   "cell_type": "code",
   "execution_count": null,
   "id": "3dc7c67c-6ac6-4da5-981b-0abd434ba115",
   "metadata": {},
   "outputs": [],
   "source": [
    "visualise_multilayer(lopc.structure).opts(opts.VSpan(apply_ranges=True, color=blue, width=400))"
   ]
  },
  {
   "cell_type": "code",
   "execution_count": null,
   "id": "4f18a9e7-2d01-4da4-bfb4-ca1b64debc8c",
   "metadata": {},
   "outputs": [],
   "source": [
    "shift_layer_position(lopc.structure, layer_index=11, delta=1e-7, compensate=False)"
   ]
  },
  {
   "cell_type": "code",
   "execution_count": null,
   "id": "f65573f2-ffc5-4637-9582-ea5848dc3f98",
   "metadata": {},
   "outputs": [],
   "source": [
    "visualise_multilayer(lopc.structure).opts(opts.VSpan(apply_ranges=True, color=blue, width=400))"
   ]
  },
  {
   "cell_type": "code",
   "execution_count": null,
   "id": "da22e0cc-2054-43d8-9f3d-8c2a3825cfcd",
   "metadata": {},
   "outputs": [],
   "source": [
    "shift_layer_position(lopc.structure, layer_index=13, delta=-4e-7, compensate=True)"
   ]
  },
  {
   "cell_type": "code",
   "execution_count": null,
   "id": "77244dfe-e3d2-42c5-b4d1-327e60a41f8f",
   "metadata": {},
   "outputs": [],
   "source": [
    "visualise_multilayer(lopc.structure).opts(opts.VSpan(apply_ranges=True, color=blue, width=400))"
   ]
  },
  {
   "cell_type": "code",
   "execution_count": null,
   "id": "5e42ba6c-ade8-4f10-87a6-1b346f5316a0",
   "metadata": {},
   "outputs": [],
   "source": [
    "lopc.structure.layers"
   ]
  },
  {
   "cell_type": "code",
   "execution_count": null,
   "id": "3e0f35d6-dcb8-4e34-a452-e658a617f305",
   "metadata": {},
   "outputs": [],
   "source": [
    "excitonic_layers = lopc.structure.layers[1:-1:2]\n",
    "excitonic_layers"
   ]
  },
  {
   "cell_type": "code",
   "execution_count": null,
   "id": "243aa09e-2350-4f68-bb09-71787bd26a2b",
   "metadata": {},
   "outputs": [],
   "source": [
    "list(range(1, len(lopc.structure.layers)-1, 2))"
   ]
  },
  {
   "cell_type": "code",
   "execution_count": null,
   "id": "42baf773-6e01-4058-9397-bdb92fcfcca4",
   "metadata": {},
   "outputs": [],
   "source": [
    "lopc.structure.layers[20]"
   ]
  },
  {
   "cell_type": "code",
   "execution_count": null,
   "id": "05ac13dd-3d3b-479d-bec8-51949aba40f3",
   "metadata": {},
   "outputs": [],
   "source": [
    "a = not 0"
   ]
  },
  {
   "cell_type": "code",
   "execution_count": null,
   "id": "88092423-ce9f-4e04-a93e-ae4eddb07c23",
   "metadata": {},
   "outputs": [],
   "source": [
    "a"
   ]
  },
  {
   "cell_type": "markdown",
   "id": "49599bd7-2ede-436f-9c5c-0748c57eb5c9",
   "metadata": {
    "jp-MarkdownHeadingCollapsed": true,
    "tags": []
   },
   "source": [
    "## Random"
   ]
  },
  {
   "cell_type": "code",
   "execution_count": null,
   "id": "a302de85-5cfd-4204-8ec3-9f3377655168",
   "metadata": {},
   "outputs": [],
   "source": [
    "np.random.seed(123)\n",
    "np.random.rand()  # deprecated"
   ]
  },
  {
   "cell_type": "code",
   "execution_count": null,
   "id": "fc8d734c-f8db-4061-a75e-9ffaea0dcdda",
   "metadata": {},
   "outputs": [],
   "source": [
    "rng = np.random.default_rng(123)\n",
    "rng.random()"
   ]
  },
  {
   "cell_type": "code",
   "execution_count": null,
   "id": "ed441c31-7bd2-431e-aab9-84f936e36129",
   "metadata": {},
   "outputs": [],
   "source": [
    "rng = np.random.default_rng(123)\n",
    "np.random.default_rng(rng).random()  # test: passing a generator to .default_rng should return the same generator"
   ]
  },
  {
   "cell_type": "code",
   "execution_count": null,
   "id": "6b177457-a255-4d92-a401-28671bb71248",
   "metadata": {},
   "outputs": [],
   "source": [
    "rng == np.random.default_rng(rng)"
   ]
  },
  {
   "cell_type": "code",
   "execution_count": null,
   "id": "b2b4b223-0c52-4e91-a7bf-fedde5571440",
   "metadata": {},
   "outputs": [],
   "source": [
    "rng == np.random.default_rng(123)"
   ]
  },
  {
   "cell_type": "code",
   "execution_count": null,
   "id": "ee61fa24-9153-4e54-a1ae-fcd8969dad19",
   "metadata": {},
   "outputs": [],
   "source": [
    "rng2 = np.random.default_rng(123)"
   ]
  },
  {
   "cell_type": "code",
   "execution_count": null,
   "id": "a3bf4286-9e0f-41a1-af88-a6e69cc76767",
   "metadata": {},
   "outputs": [],
   "source": [
    "rng.random(10)[:-1] == rng2.random(10)[1:]  # the next 9 outputs of the first generator are the 2nd-10th output of the fresh one"
   ]
  },
  {
   "cell_type": "code",
   "execution_count": null,
   "id": "c3232083-5df3-4437-a837-7624b37b4773",
   "metadata": {},
   "outputs": [],
   "source": [
    "%%timeit\n",
    "\n",
    "[rng.uniform(-1, 1) for _ in range(0, 10)]"
   ]
  },
  {
   "cell_type": "code",
   "execution_count": null,
   "id": "b8263878-188a-415e-879f-898d1de528c4",
   "metadata": {},
   "outputs": [],
   "source": [
    "%%timeit\n",
    "\n",
    "rng.uniform(-1, 1, 10)"
   ]
  },
  {
   "cell_type": "code",
   "execution_count": null,
   "id": "00eca818-fdf2-44f6-b6ba-46af6e63ecab",
   "metadata": {},
   "outputs": [],
   "source": [
    "[rng.uniform(-1, 1) for _ in range(0, 10)]"
   ]
  },
  {
   "cell_type": "code",
   "execution_count": null,
   "id": "1e150288-0a40-4086-9b5b-9f4cd7e3238e",
   "metadata": {},
   "outputs": [],
   "source": [
    "rng.uniform(-1, 1, 10)"
   ]
  },
  {
   "cell_type": "markdown",
   "id": "64db5939-bb0b-4ca8-994f-ccb174e3235f",
   "metadata": {
    "tags": []
   },
   "source": [
    "# Data generation"
   ]
  },
  {
   "cell_type": "code",
   "execution_count": null,
   "id": "15dfcf4e-3e5b-40a4-9e78-fd5dea4bbb11",
   "metadata": {
    "tags": []
   },
   "outputs": [],
   "source": [
    "deltas = [0.01, 0.02, 0.03, 0.04, 0.05, 0.06, 0.07, 0.08, 0.09, 0.1, 0.11, 0.12, 0.13, 0.14, 0.15]#, 0.2, 0.25, 0.3, 0.4, 0.5]"
   ]
  },
  {
   "cell_type": "code",
   "execution_count": null,
   "id": "8b69f517-0146-4857-aebb-ed09541c93a0",
   "metadata": {
    "tags": []
   },
   "outputs": [],
   "source": [
    "combos = {\n",
    "    \"passive_RI\": [1.35],\n",
    "    \"incident_medium_RI\": [1.35],\n",
    "    \"exit_medium_RI\": [1.35],\n",
    "    \"N\": [1e26],\n",
    "    \"permittivity\": [2.2],\n",
    "    \"lorentz_resonance_wavelength\": [680],\n",
    "    \"lorentz_linewidth\": [7.5e13],\n",
    "    \"num_periods\": np.arange(5, 30, 5),\n",
    "    \"passive_layer_thickness\": np.arange(150, 301, 10),\n",
    "    \"excitonic_layer_thickness\": np.arange(10, 81, 10),\n",
    "    \"remove_last_layer\": [0], # True/False are not compatible with netCDF format\n",
    "}"
   ]
  },
  {
   "cell_type": "code",
   "execution_count": null,
   "id": "8f66614f-151b-492b-a8ff-5540fff870af",
   "metadata": {},
   "outputs": [],
   "source": [
    "combos_with_delta = {d: combos|{\"delta\": [d]} for d in deltas}"
   ]
  },
  {
   "cell_type": "code",
   "execution_count": null,
   "id": "903112e0-cb79-4ebc-bfaf-f857b24368c9",
   "metadata": {},
   "outputs": [],
   "source": [
    "# combos_with_delta[0.1]"
   ]
  },
  {
   "cell_type": "markdown",
   "id": "3a2f9362-645d-4bb4-87ae-f582ba637d6c",
   "metadata": {
    "tags": []
   },
   "source": [
    "## Layer thicknesses"
   ]
  },
  {
   "cell_type": "markdown",
   "id": "b615f0a6-2598-4946-8a3c-9f831ee9cf7c",
   "metadata": {
    "tags": []
   },
   "source": [
    "### LOPC simulation"
   ]
  },
  {
   "cell_type": "code",
   "execution_count": null,
   "id": "a20414ed-6126-44b6-bdba-22b42461f250",
   "metadata": {},
   "outputs": [],
   "source": [
    "for k, v in combos_with_delta[0.1].items():\n",
    "    print(f\"{k}: length {len(v)}\")"
   ]
  },
  {
   "cell_type": "code",
   "execution_count": null,
   "id": "3d5d2ceb-7d66-4366-b9b2-495a952c9092",
   "metadata": {},
   "outputs": [],
   "source": [
    "estimate_combo_run_time(9, combos)/3600"
   ]
  },
  {
   "cell_type": "code",
   "execution_count": null,
   "id": "3fe425c2-dc00-4b81-b394-6d554abbccac",
   "metadata": {},
   "outputs": [],
   "source": [
    "# rngs = [np.random.default_rng(seed=30182023102+i) for i in range(15)]"
   ]
  },
  {
   "cell_type": "code",
   "execution_count": null,
   "id": "498391ac-f043-4dc8-a8a1-5be0f5904e63",
   "metadata": {},
   "outputs": [],
   "source": [
    "# runners = [\n",
    "#     xyz.Runner(\n",
    "#         lopc_data,\n",
    "#         var_names=None,\n",
    "#         constants=constants,\n",
    "#         resources=resources | {\"rng\": rngs[i]},\n",
    "#     )\n",
    "#     for i in range(15)\n",
    "# ]"
   ]
  },
  {
   "cell_type": "code",
   "execution_count": null,
   "id": "efa466e7-2f97-496f-a1a4-67d43c19d1b1",
   "metadata": {},
   "outputs": [],
   "source": [
    "# harvesters = [xyz.Harvester(runner=runners[i], data_name=f\"data/run_{run_number}/LOPC_00{i+1}.nc\") for i in range(15)]"
   ]
  },
  {
   "cell_type": "code",
   "execution_count": null,
   "id": "dd78ea0a-2287-4043-b92d-0f2e8dc98007",
   "metadata": {},
   "outputs": [],
   "source": [
    "# combos_with_delta[deltas[1+4]]"
   ]
  },
  {
   "cell_type": "code",
   "execution_count": null,
   "id": "ab21dba0-710a-41a6-9cce-2b4e8f1ae666",
   "metadata": {
    "tags": []
   },
   "outputs": [],
   "source": [
    "# # only completed the first loop\n",
    "# with warnings.catch_warnings():\n",
    "#     warnings.filterwarnings(\"ignore\", \"Can't deepcopy\")\n",
    "#     for i in range(5):\n",
    "#         harvesters[i].harvest_combos(combos_with_delta[deltas[i+4]])"
   ]
  },
  {
   "cell_type": "code",
   "execution_count": null,
   "id": "e6608dab-74db-43bd-a141-caacb577945a",
   "metadata": {
    "tags": []
   },
   "outputs": [],
   "source": [
    "# with warnings.catch_warnings():\n",
    "#     warnings.filterwarnings(\"ignore\", \"Can't deepcopy\")\n",
    "#     for i in range(1, 15):\n",
    "#         harvesters[i].harvest_combos(combos_with_delta[deltas[i]])"
   ]
  },
  {
   "cell_type": "markdown",
   "id": "b319f31e-3628-45a4-83d9-723fcebd9fef",
   "metadata": {},
   "source": [
    "How embarrasing, I forgot that `np.arange(5, 30, 5)` doesn't include 30 itself, so I need to do those runs separately:"
   ]
  },
  {
   "cell_type": "code",
   "execution_count": null,
   "id": "bf138a0d-fb9c-4886-a818-4e661afb9687",
   "metadata": {
    "tags": []
   },
   "outputs": [],
   "source": [
    "# rngs = [np.random.default_rng(seed=301820231211+i) for i in range(len(deltas))]"
   ]
  },
  {
   "cell_type": "code",
   "execution_count": null,
   "id": "ee3e74d0-cd15-41c3-9c54-1774ee321b82",
   "metadata": {
    "tags": []
   },
   "outputs": [],
   "source": [
    "# runners = [\n",
    "#     xyz.Runner(\n",
    "#         lopc_data,\n",
    "#         var_names=None,\n",
    "#         constants=constants,\n",
    "#         resources=resources | {\"rng\": the_rng},\n",
    "#     )\n",
    "#     for the_rng in rngs\n",
    "# ]"
   ]
  },
  {
   "cell_type": "code",
   "execution_count": null,
   "id": "a6dd6450-9a6d-4403-b69a-64b331dfdbbc",
   "metadata": {
    "tags": []
   },
   "outputs": [],
   "source": [
    "# with warnings.catch_warnings():\n",
    "#     warnings.filterwarnings(\"ignore\", \"Can't deepcopy\")\n",
    "#     for r, d in zip(runners, deltas):\n",
    "#         h_lopc = xyz.Harvester(runner=r, data_name=f\"data/run_{run_number}/LOPC_N30_{str(d).replace('.', '')}.nc\")\n",
    "#         h_lopc.harvest_combos(combos|{\"num_periods\": [30], \"delta\": [d]})"
   ]
  },
  {
   "cell_type": "code",
   "execution_count": null,
   "id": "41bbd9cb-b970-4f7a-aad7-b592b4839342",
   "metadata": {},
   "outputs": [],
   "source": [
    "# ds = h_lopc.full_ds.copy()"
   ]
  },
  {
   "cell_type": "markdown",
   "id": "37f19e7b-78e4-4cd6-860a-568233a0bf02",
   "metadata": {
    "tags": []
   },
   "source": [
    "### Load LOPC dataset"
   ]
  },
  {
   "cell_type": "code",
   "execution_count": null,
   "id": "151fe1d1-1543-472b-8e06-4a1bc1ccca02",
   "metadata": {},
   "outputs": [],
   "source": [
    "# # chunks for per-angle plots\n",
    "# chunks = {\n",
    "#     \"frequency\": 256,\n",
    "#     \"excitonic_layer_thickness\": 16,\n",
    "#     \"passive_layer_thickness\": 32,\n",
    "#     \"theta\": 1,\n",
    "#     \"num_periods\": 16,\n",
    "# }"
   ]
  },
  {
   "cell_type": "code",
   "execution_count": null,
   "id": "75b06b1d-235d-49b0-aa65-6cc0a2090fd1",
   "metadata": {
    "tags": []
   },
   "outputs": [],
   "source": [
    "# chunks for plotting or integrating over angle\n",
    "chunks = {\n",
    "    \"frequency\": 256,\n",
    "    \"excitonic_layer_thickness\": 16,\n",
    "    \"passive_layer_thickness\": 32,\n",
    "    \"theta\": 16,\n",
    "    \"num_periods\": 1,\n",
    "}"
   ]
  },
  {
   "cell_type": "markdown",
   "id": "44c0db60-4565-45c8-b284-5c4936f380ef",
   "metadata": {
    "jp-MarkdownHeadingCollapsed": true,
    "tags": []
   },
   "source": [
    "#### Maths to work out good chunk sizes"
   ]
  },
  {
   "cell_type": "code",
   "execution_count": null,
   "id": "628bdc77-06fa-438a-bc2d-92e44a67e5f6",
   "metadata": {},
   "outputs": [],
   "source": [
    "def chunk_size(chunks):\n",
    "    return np.prod(list(chunks.values()))"
   ]
  },
  {
   "cell_type": "code",
   "execution_count": null,
   "id": "a1262744-e7d2-486a-81bb-903b506909e4",
   "metadata": {},
   "outputs": [],
   "source": [
    "# Number of chunks\n",
    "(combo_length(combos)*256*64) / chunk_size(chunks)"
   ]
  },
  {
   "cell_type": "code",
   "execution_count": null,
   "id": "55a546e7-00da-440d-94a0-881b43b62752",
   "metadata": {},
   "outputs": [],
   "source": [
    "# Do chunks contain at least a million data points?\n",
    "chunk_size(chunks)/1e6"
   ]
  },
  {
   "cell_type": "markdown",
   "id": "42850aba-5c6d-4b7f-8e5d-bfa2cd912dd9",
   "metadata": {},
   "source": [
    "####"
   ]
  },
  {
   "cell_type": "code",
   "execution_count": null,
   "id": "314d4df3-2a24-4c5d-bc95-c8d794c229b8",
   "metadata": {},
   "outputs": [],
   "source": [
    "ds = xr.open_mfdataset(\n",
    "    f\"data/run_{run_number}/LOPC.nc\",\n",
    "    engine=xarray_engine,\n",
    "    lock=False,\n",
    "    # chunks=chunks,\n",
    ")\n",
    "\n",
    "# ds.equals(h_lopc.full_ds)"
   ]
  },
  {
   "cell_type": "code",
   "execution_count": null,
   "id": "14069927-e224-4a91-94d7-99c6c445104e",
   "metadata": {},
   "outputs": [],
   "source": [
    "# add derived attrs\n",
    "ds = assign_derived_attrs(ds, per_oscillator=[\"Rs\", \"Rp\", \"R\", \"Ts\", \"Tp\", \"T\", \"As\", \"Ap\", \"A\"])\n",
    "# ds"
   ]
  },
  {
   "cell_type": "code",
   "execution_count": null,
   "id": "2d3e58a1-d281-4b9e-a592-a58e77d9adee",
   "metadata": {},
   "outputs": [],
   "source": [
    "restack_plt_to_period = partial(\n",
    "    restack,\n",
    "    start_idxs=[\"passive_layer_thickness\", \"excitonic_layer_thickness\"],\n",
    "    end_idxs=[\"period\", \"excitonic_layer_thickness\"],\n",
    ")"
   ]
  },
  {
   "cell_type": "code",
   "execution_count": null,
   "id": "10479a88-8105-473e-87fb-5ee49b2cf02f",
   "metadata": {},
   "outputs": [],
   "source": [
    "restacked_ds = restack_plt_to_period(ds)"
   ]
  },
  {
   "cell_type": "code",
   "execution_count": null,
   "id": "dbfbedaa-42fc-4df7-a869-74627f87635d",
   "metadata": {},
   "outputs": [],
   "source": [
    "restacked_ds = pre_process_for_plots(restacked_ds, strict=False)"
   ]
  },
  {
   "cell_type": "code",
   "execution_count": null,
   "id": "d7851448-4a40-4633-a46d-d5113fdb43d2",
   "metadata": {},
   "outputs": [],
   "source": [
    "ds[[\"R\", \"T\", \"A\"]].squeeze().hvplot(x=\"wavelength\")"
   ]
  },
  {
   "cell_type": "code",
   "execution_count": null,
   "id": "f113bef2-e13c-4000-bc4d-ca76019495bd",
   "metadata": {},
   "outputs": [],
   "source": []
  }
 ],
 "metadata": {
  "kernelspec": {
   "display_name": "Python [conda env:multilayer_simulator] *",
   "language": "python",
   "name": "conda-env-multilayer_simulator-py"
  },
  "language_info": {
   "codemirror_mode": {
    "name": "ipython",
    "version": 3
   },
   "file_extension": ".py",
   "mimetype": "text/x-python",
   "name": "python",
   "nbconvert_exporter": "python",
   "pygments_lexer": "ipython3",
   "version": "3.10.0"
  }
 },
 "nbformat": 4,
 "nbformat_minor": 5
}
