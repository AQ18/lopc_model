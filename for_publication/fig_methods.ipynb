{
 "cells": [
  {
   "cell_type": "markdown",
   "id": "86caf83c-436d-4ccd-99c4-033ceb1d557e",
   "metadata": {},
   "source": [
    "Generating plots that explore the basic, static LOPC model. This notebook is for generating publication-ready plots, which will be saved directly to the LaTeX directory. To follow the process of exploring the data, look at the other notebooks, e.g. [here](../basic_LOPC.ipynb]."
   ]
  },
  {
   "cell_type": "code",
   "execution_count": null,
   "id": "54118f8c-6482-4545-a5f6-63b6351ed94c",
   "metadata": {
    "tags": []
   },
   "outputs": [],
   "source": [
    "# computation\n",
    "import lumapi\n",
    "import numpy as np\n",
    "import warnings\n",
    "import xarray as xr\n",
    "import pandas as pd\n",
    "# import xyzpy as xyz\n",
    "# from xyzpy.gen.combo_runner import multi_concat\n",
    "from multilayer_simulator.lumerical_classes import LumericalOscillator, format_stackrt, format_stackfield\n",
    "from multilayer_simulator.helpers.mixins import convert_wavelength_and_frequency\n",
    "import dask\n",
    "from functools import partial\n",
    "from pathlib import Path\n",
    "import sys\n",
    "from tqdm import tqdm\n",
    "# plotting\n",
    "import hvplot.xarray\n",
    "import hvplot.pandas\n",
    "import holoviews as hv\n",
    "from holoviews import dim, opts\n",
    "import colorcet\n",
    "import panel as pn\n",
    "import panel.widgets as pnw\n",
    "from bokeh.io import export_png, export_svg\n",
    "from selenium.webdriver import Firefox\n",
    "from selenium.webdriver.firefox.options import Options\n",
    "from scipy.signal import find_peaks\n",
    "from bokeh.models import PrintfTickFormatter"
   ]
  },
  {
   "cell_type": "code",
   "execution_count": null,
   "id": "b869b4a9-eed4-4632-b7bf-d598745e9d60",
   "metadata": {
    "tags": []
   },
   "outputs": [],
   "source": [
    "hv.extension(\"bokeh\", inline=False, case_sensitive_completion=True)  # use matplotlib because rendering bokeh to svg is broken\n",
    "pn.config.throttled = True  # don't update interactive plots until mouse is unclicked\n",
    "\n",
    "# default_color_cycle = hv.Cycle(\"Colorblind\")  # Ruth doesn't like the inclusion of yellow, which is fair enough\n",
    "default_color_cycle = hv.Cycle(colorcet.glasbey_dark)\n",
    "default_dash_cycle = hv.Cycle([\"solid\", \"dashed\", \"dashdot\", \"dotted\", \"dotdash\"])\n",
    "universal_opts = dict(fontscale=2, title=\"\")\n",
    "matplotlib_opts = dict(fig_inches=5, aspect=2, fig_latex=True)\n",
    "bokeh_opts = dict(width=700, height=300)\n",
    "opts.defaults(opts.Curve(**universal_opts|bokeh_opts, color=default_color_cycle, line_width=1.5),\n",
    "              opts.Scatter(**universal_opts|bokeh_opts, color=default_color_cycle),\n",
    "              opts.Image(**universal_opts|bokeh_opts),\n",
    "              opts.Slope(**universal_opts|bokeh_opts, color=default_color_cycle),\n",
    "              opts.Area(**universal_opts|bokeh_opts, color=default_color_cycle),\n",
    "              opts.Overlay(**universal_opts|bokeh_opts),\n",
    "              opts.Layout(**universal_opts|bokeh_opts),\n",
    "              opts.GridSpace(**universal_opts|bokeh_opts),\n",
    "              )\n",
    "\n",
    "xarray_engine='h5netcdf'"
   ]
  },
  {
   "cell_type": "code",
   "execution_count": null,
   "id": "6e065bfd",
   "metadata": {},
   "outputs": [],
   "source": [
    "root = Path.cwd().parent.parent.parent  # depth of parents depends on if this is running in JupyterLab or Notebook"
   ]
  },
  {
   "cell_type": "code",
   "execution_count": null,
   "id": "d83c3081",
   "metadata": {},
   "outputs": [],
   "source": [
    "code_path = root / r\"research\""
   ]
  },
  {
   "cell_type": "code",
   "execution_count": null,
   "id": "36acbfae",
   "metadata": {},
   "outputs": [],
   "source": [
    "data_path = code_path / r\"notebooks/data\""
   ]
  },
  {
   "cell_type": "code",
   "execution_count": null,
   "id": "5e0b35ac",
   "metadata": {},
   "outputs": [],
   "source": [
    "archive_path = root / r\"thesis/LaTeX/chapters/methods\""
   ]
  },
  {
   "cell_type": "code",
   "execution_count": null,
   "id": "ed16eee0-6b23-4a1a-a55f-2ed180c2b295",
   "metadata": {},
   "outputs": [],
   "source": [
    "fig_path = archive_path / \"fig_methods\""
   ]
  },
  {
   "cell_type": "code",
   "execution_count": null,
   "id": "afebf1de",
   "metadata": {},
   "outputs": [],
   "source": [
    "if not code_path in sys.path:\n",
    "    sys.path.append(str(code_path))\n",
    "from LOPC import LOPC\n",
    "from LOPC.helpers import (\n",
    "    assign_derived_attrs,\n",
    "    restack,\n",
    "    enhancement_factor,\n",
    "    # combo_length,\n",
    "    # estimate_combo_run_time,\n",
    "    linewidth_calculator,\n",
    "    lopc_data,\n",
    "    spectrum,\n",
    "    normalise_over_dim,\n",
    "    integrate_da,\n",
    "    sel_or_integrate,\n",
    "    find_optimum_coords,\n",
    "    plot_secondary,\n",
    "    pre_process_for_plots,\n",
    "    vlines,\n",
    "    coordinate_string,\n",
    "    plot_da,\n",
    "    plot_var,\n",
    "    plot_optimum_over_dim,\n",
    "    plot_field,\n",
    "    visualise_multilayer,\n",
    "    complex_elements,\n",
    "    indexer_from_dataset,\n",
    "    fix_bin_labels,\n",
    "    mean_and_std,\n",
    "    max_min_pos,\n",
    ")"
   ]
  },
  {
   "cell_type": "markdown",
   "id": "933beb39",
   "metadata": {},
   "source": [
    "Turn on auto-archiving of cells and Holoviews outputs. See the user guide [here](https://holoviews.org/user_guide/Exporting_and_Archiving.html).\n",
    "\n",
    "Might need to install `ipympl`.\n",
    "\n",
    "EDIT: This does not work but I'm leaving this here so a future researcher can avoid the rabbithole I fell down."
   ]
  },
  {
   "cell_type": "code",
   "execution_count": null,
   "id": "027d7248",
   "metadata": {},
   "outputs": [],
   "source": [
    "# # This is the idiomatic way to record all generated figures with holoviews\n",
    "# # This does NOT work in JupyterLab: see https://github.com/holoviz/holoviews/issues/3570\n",
    "# # This also does not work in Jupyter Notebook\n",
    "# # It's just utterly broken\n",
    "\n",
    "# hv.archive.auto(root=str(archive_path), export_name=\"fig_chapter_2\") "
   ]
  },
  {
   "cell_type": "code",
   "execution_count": null,
   "id": "74a7d9fa-8151-441e-afd6-0ddf8dc09a21",
   "metadata": {
    "tags": []
   },
   "outputs": [],
   "source": [
    "# options = Options()\n",
    "# options.add_argument('-headless')\n",
    "# web_driver = Firefox(\n",
    "#     options=options,\n",
    "#     # firefox_binary=str(Path(r'C:\\Users\\xv18766\\Anaconda3\\envs\\multilayer_simulator\\Library\\bin\\firefox')),\n",
    "#     # executable_path=str(Path(r\"C:\\Users\\xv18766\\Anaconda3\\envs\\multilayer_simulator\\Scripts\\geckodriver\"))\n",
    "# )"
   ]
  },
  {
   "cell_type": "markdown",
   "id": "58f4da37-2185-44a4-bf9f-9b06fbfaa631",
   "metadata": {
    "tags": []
   },
   "source": [
    "# Load/define datasets"
   ]
  },
  {
   "cell_type": "markdown",
   "id": "64a12855-2290-4d80-8438-ad5ae1e09347",
   "metadata": {
    "tags": []
   },
   "source": [
    "## Load LOPC dataset"
   ]
  },
  {
   "cell_type": "code",
   "execution_count": null,
   "id": "1ba0305d-a750-45a1-9a09-5abde8e49554",
   "metadata": {},
   "outputs": [],
   "source": [
    "# # chunks for per-angle plots\n",
    "# chunks = {\n",
    "#     \"frequency\": 256,\n",
    "#     \"excitonic_layer_thickness\": 16,\n",
    "#     \"passive_layer_thickness\": 32,\n",
    "#     \"theta\": 1,\n",
    "#     \"num_periods\": 16,\n",
    "# }"
   ]
  },
  {
   "cell_type": "code",
   "execution_count": null,
   "id": "4eb7aa9b-3576-47c8-a8fd-2cf6561f11d5",
   "metadata": {},
   "outputs": [],
   "source": [
    "# chunks for plotting or integrating over angle\n",
    "chunks = {\n",
    "    \"frequency\": 256,\n",
    "    \"excitonic_layer_thickness\": 16,\n",
    "    \"passive_layer_thickness\": 32,\n",
    "    \"theta\": 16,\n",
    "    \"num_periods\": 1,\n",
    "}"
   ]
  },
  {
   "cell_type": "code",
   "execution_count": null,
   "id": "015eba96-e5df-4e80-bd74-580af86ceb4b",
   "metadata": {},
   "outputs": [],
   "source": [
    "run_number = 2\n",
    "\n",
    "ds = xr.open_mfdataset(\n",
    "    data_path / f\"run_{run_number}/LOPC.nc\",\n",
    "    engine=xarray_engine,\n",
    "    lock=False,\n",
    "    chunks=chunks,\n",
    ")\n",
    "\n",
    "# add derived attrs\n",
    "ds = assign_derived_attrs(ds, per_oscillator=[\"Rs\", \"Rp\", \"R\", \"Ts\", \"Tp\", \"T\", \"As\", \"Ap\", \"A\"])"
   ]
  },
  {
   "cell_type": "markdown",
   "id": "4a56ad48-0940-4cc6-951d-2a28e2d3a2b8",
   "metadata": {},
   "source": [
    "## Load reference slab dataset"
   ]
  },
  {
   "cell_type": "code",
   "execution_count": null,
   "id": "0f4ad339-7105-4796-b747-8ba6b5e7d393",
   "metadata": {},
   "outputs": [],
   "source": [
    "# useful variables\n",
    "total_excitonic_thicknesses = np.unique(ds.total_excitonic_thickness)\n",
    "total_passive_thicknesses = np.unique(ds.total_passive_thickness)\n",
    "total_thicknesses = np.unique(ds.total_thickness)"
   ]
  },
  {
   "cell_type": "code",
   "execution_count": null,
   "id": "31286130-c473-45c3-9cfe-875c97ce42a2",
   "metadata": {},
   "outputs": [],
   "source": [
    "ref = xr.open_mfdataset(\n",
    "    data_path / f\"run_{run_number}/ref.nc\",\n",
    "    engine=xarray_engine,\n",
    "    lock=False,\n",
    ")"
   ]
  },
  {
   "cell_type": "markdown",
   "id": "07f6a32a-77f1-401e-b9e9-47bab6e49b33",
   "metadata": {},
   "source": [
    "Note: `period=False` is an important option because otherwise it ends up a coordinate of `total_excitonic_thickness` and causes a conflict after binary operations with `ds`."
   ]
  },
  {
   "cell_type": "code",
   "execution_count": null,
   "id": "dac7aac7-1d48-4593-8c94-7627364b1f92",
   "metadata": {},
   "outputs": [],
   "source": [
    "ref = assign_derived_attrs(ref, period=False, total_excitonic_thickness=False, total_passive_thickness=False, total_thickness=False)"
   ]
  },
  {
   "cell_type": "code",
   "execution_count": null,
   "id": "cc2a6c06-2231-4084-8703-3e5ce6671c2f",
   "metadata": {
    "tags": []
   },
   "outputs": [],
   "source": [
    "# compressed reference slab without passive layer\n",
    "crs_1 = (\n",
    "    ref.sel(\n",
    "        remove_last_layer=1,\n",
    "        passive_layer_thickness=0,\n",
    "        excitonic_layer_thickness=total_excitonic_thicknesses,\n",
    "        drop=True,\n",
    "    )\n",
    "    .squeeze(drop=True)\n",
    "    .rename(excitonic_layer_thickness=\"total_excitonic_thickness\")\n",
    ")"
   ]
  },
  {
   "cell_type": "code",
   "execution_count": null,
   "id": "685f12e2-b21f-4f71-9aaa-b4048599e7e1",
   "metadata": {},
   "outputs": [],
   "source": [
    "# filled reference slab\n",
    "frs_1 = (\n",
    "    ref.sel(\n",
    "        remove_last_layer=1,\n",
    "        passive_layer_thickness=0,\n",
    "        excitonic_layer_thickness=total_thicknesses,\n",
    "        drop=True,\n",
    "    )\n",
    "    .squeeze(drop=True)\n",
    "    .rename(excitonic_layer_thickness=\"total_thickness\")\n",
    ")"
   ]
  },
  {
   "cell_type": "markdown",
   "id": "1dbcb70a-2208-4221-824f-772d1132963c",
   "metadata": {
    "tags": []
   },
   "source": [
    "### Load derived variables"
   ]
  },
  {
   "cell_type": "code",
   "execution_count": null,
   "id": "9d6485a7-8d5f-4858-b647-ae434ca1ca10",
   "metadata": {},
   "outputs": [],
   "source": [
    "polarised_attrs = ['Rs', 'Rp', 'Ts', 'Tp', 'As', 'Ap']"
   ]
  },
  {
   "cell_type": "code",
   "execution_count": null,
   "id": "e2bc8f02-bec7-4a84-9e57-5fed46fd09e2",
   "metadata": {},
   "outputs": [],
   "source": [
    "norm_1 = xr.open_mfdataset(\n",
    "    data_path / f\"run_{run_number}/norm_1.nc\",\n",
    "    chunks=chunks,\n",
    ")"
   ]
  },
  {
   "cell_type": "code",
   "execution_count": null,
   "id": "937df8a1-5a9b-4308-a6ba-e29d76fccb27",
   "metadata": {},
   "outputs": [],
   "source": [
    "norm_2 = xr.open_mfdataset(\n",
    "    data_path / f\"run_{run_number}/norm_2.nc\",\n",
    "    chunks=chunks,\n",
    "    engine=xarray_engine,\n",
    "    lock=False,\n",
    ")"
   ]
  },
  {
   "cell_type": "code",
   "execution_count": null,
   "id": "c47a761f-3576-41de-ab20-b0c82984b6ac",
   "metadata": {},
   "outputs": [],
   "source": [
    "norm_2 = assign_derived_attrs(norm_2, absorption=False, unpolarised=False, per_oscillator=False)"
   ]
  },
  {
   "cell_type": "code",
   "execution_count": null,
   "id": "5d6c4543-11ae-4e1e-91fe-decd499144ff",
   "metadata": {},
   "outputs": [],
   "source": [
    "gb_tet = ds[polarised_attrs].groupby('total_excitonic_thickness')\n",
    "\n",
    "# 'biology' absorptance enhancement factor: normalise by reference slab type 1: compressed reference slab w/o passive layer\n",
    "diff_1 = gb_tet - crs_1\n",
    "\n",
    "diff_1 = assign_derived_attrs(\n",
    "    dataset=diff_1,\n",
    "    unpolarised=True,\n",
    "    absorption=False,\n",
    "    period=False,\n",
    "    total_excitonic_thickness=False,\n",
    "    total_passive_thickness=False,\n",
    "    total_thickness=False,\n",
    "    N_tot=False,\n",
    "    per_oscillator=[\"Rs\", \"Rp\", \"R\", \"Ts\", \"Tp\", \"T\", \"As\", \"Ap\", \"A\"],\n",
    ")"
   ]
  },
  {
   "cell_type": "code",
   "execution_count": null,
   "id": "98a9c6f2-6191-4e8e-b6f0-d41c691a4773",
   "metadata": {},
   "outputs": [],
   "source": [
    "gb_tt = ds[polarised_attrs].groupby(\"total_thickness\")\n",
    "\n",
    "# 'stuffed' difference factor: difference with reference slab type 2: filled reference slab\n",
    "diff_2 = gb_tt - frs_1\n",
    "\n",
    "diff_2 = assign_derived_attrs(\n",
    "    dataset=diff_2,\n",
    "    unpolarised=True,\n",
    "    absorption=False,\n",
    "    period=True,  # reset period to only depend on two dims\n",
    "    total_excitonic_thickness=False,\n",
    "    total_passive_thickness=False,\n",
    "    total_thickness=False,\n",
    "    N_tot=False,\n",
    "    per_oscillator=[\"Rs\", \"Rp\", \"R\", \"Ts\", \"Tp\", \"T\", \"As\", \"Ap\", \"A\"],\n",
    ")"
   ]
  },
  {
   "cell_type": "code",
   "execution_count": null,
   "id": "230bbef2-ce7f-4c3b-9384-397c75dc473e",
   "metadata": {},
   "outputs": [],
   "source": [
    "ds_flat_spectrum = xr.open_dataset(\n",
    "    data_path / f\"run_{run_number}/LOPC_flat_spectrum.nc\",\n",
    "    engine=xarray_engine,\n",
    "    lock=False,\n",
    ")\n",
    "ds_flat_spectrum = assign_derived_attrs(ds_flat_spectrum)"
   ]
  },
  {
   "cell_type": "code",
   "execution_count": null,
   "id": "a7e5a192-b514-4893-a7aa-987a45c5cf2d",
   "metadata": {},
   "outputs": [],
   "source": [
    "ref_flat_spectrum = xr.open_dataset(\n",
    "    data_path / f\"run_{run_number}/ref_flat_spectrum.nc\",\n",
    "    engine=xarray_engine,\n",
    "    lock=False,\n",
    ")\n",
    "ref_flat_spectrum = assign_derived_attrs(\n",
    "    ref_flat_spectrum,\n",
    "    period=False,\n",
    "    total_excitonic_thickness=False,\n",
    "    total_passive_thickness=False,\n",
    "    total_thickness=False,\n",
    ")"
   ]
  },
  {
   "cell_type": "code",
   "execution_count": null,
   "id": "a3f00784-d58b-457c-9633-e88ed77c34f5",
   "metadata": {},
   "outputs": [],
   "source": [
    "# Compressed reference slab without passive layer\n",
    "crs_1_flat_spectrum = (\n",
    "    ref_flat_spectrum.sel(\n",
    "        remove_last_layer=1,\n",
    "        passive_layer_thickness=0,\n",
    "        excitonic_layer_thickness=total_excitonic_thicknesses,\n",
    "        drop=True,\n",
    "    )\n",
    "    .squeeze(drop=True)\n",
    "    .rename(excitonic_layer_thickness=\"total_excitonic_thickness\")\n",
    ")"
   ]
  },
  {
   "cell_type": "code",
   "execution_count": null,
   "id": "ab3113d4-16ef-4087-87f1-95cde71772b6",
   "metadata": {},
   "outputs": [],
   "source": [
    "norm_flat_spectrum = (ds_flat_spectrum.groupby('total_excitonic_thickness')/crs_1_flat_spectrum)#.drop_sel(excitonic_layer_thickness=0)"
   ]
  },
  {
   "cell_type": "code",
   "execution_count": null,
   "id": "1890977f-30d3-42c3-b311-6338831f83ab",
   "metadata": {},
   "outputs": [],
   "source": [
    "enhancement_factor?"
   ]
  },
  {
   "cell_type": "code",
   "execution_count": null,
   "id": "627471e7-e41b-4f00-9a4b-0d632f7d8602",
   "metadata": {},
   "outputs": [],
   "source": [
    "norm_flat_spectrum = enhancement_factor(ds=ds_flat_spectrum, ref=crs_1_flat_spectrum, common_dim=\"total_excitonic_thickness\")"
   ]
  },
  {
   "cell_type": "markdown",
   "id": "65d372f8-1175-4121-8532-09bdb8ba2425",
   "metadata": {
    "tags": []
   },
   "source": [
    "## Restacking passive layer thickness to period"
   ]
  },
  {
   "cell_type": "code",
   "execution_count": null,
   "id": "1550047a-5815-4ee7-a888-1b7f9a2ed8d8",
   "metadata": {},
   "outputs": [],
   "source": [
    "restack_plt_to_period = partial(\n",
    "    restack,\n",
    "    start_idxs=[\"passive_layer_thickness\", \"excitonic_layer_thickness\"],\n",
    "    end_idxs=[\"period\", \"excitonic_layer_thickness\"],\n",
    ")"
   ]
  },
  {
   "cell_type": "code",
   "execution_count": null,
   "id": "de873db9-ec7e-4412-9fc0-abda1a3228b9",
   "metadata": {},
   "outputs": [],
   "source": [
    "restacked_ds = restack_plt_to_period(ds)"
   ]
  },
  {
   "cell_type": "code",
   "execution_count": null,
   "id": "207da17b-4a80-476e-a694-c70af009e065",
   "metadata": {},
   "outputs": [],
   "source": [
    "restacked_norm_1 = restack_plt_to_period(norm_1)"
   ]
  },
  {
   "cell_type": "code",
   "execution_count": null,
   "id": "239029cc-f032-44a9-b666-2fc065a74d1f",
   "metadata": {},
   "outputs": [],
   "source": [
    "restacked_norm_2 = restack_plt_to_period(norm_2)"
   ]
  },
  {
   "cell_type": "code",
   "execution_count": null,
   "id": "95f5adc2-c142-45d0-bbba-1b3a92ccf521",
   "metadata": {},
   "outputs": [],
   "source": [
    "restacked_diff_1 = restack_plt_to_period(diff_1)"
   ]
  },
  {
   "cell_type": "code",
   "execution_count": null,
   "id": "b6f0116c-a405-4383-be11-695002a4bd43",
   "metadata": {},
   "outputs": [],
   "source": [
    "restacked_diff_2 = restack_plt_to_period(diff_2)"
   ]
  },
  {
   "cell_type": "code",
   "execution_count": null,
   "id": "85638812-58a3-42a8-ae0c-907df9b48170",
   "metadata": {},
   "outputs": [],
   "source": [
    "restacked_ds_flat_spectrum = restack_plt_to_period(ds_flat_spectrum)"
   ]
  },
  {
   "cell_type": "code",
   "execution_count": null,
   "id": "e91001da-7c48-49eb-aab5-d073561d59e8",
   "metadata": {},
   "outputs": [],
   "source": [
    "restacked_norm_flat_spectrum = restack_plt_to_period(norm_flat_spectrum)"
   ]
  },
  {
   "cell_type": "markdown",
   "id": "c70fc5d6-09b0-46a0-a4fb-239e81982b2b",
   "metadata": {
    "tags": []
   },
   "source": [
    "# Plots"
   ]
  },
  {
   "cell_type": "markdown",
   "id": "681d62eb-70b3-4622-9940-2556e2d4bdb8",
   "metadata": {
    "tags": []
   },
   "source": [
    "## Pre-processing"
   ]
  },
  {
   "cell_type": "code",
   "execution_count": null,
   "id": "1fc8d109-303b-4c75-a4ff-a5ea8964f273",
   "metadata": {},
   "outputs": [],
   "source": [
    "blue = hv.Cycle.default_cycles['default_colors'][0]\n",
    "red = hv.Cycle.default_cycles['default_colors'][1]\n",
    "yellow = hv.Cycle.default_cycles['default_colors'][2]\n",
    "green = hv.Cycle.default_cycles['default_colors'][3]"
   ]
  },
  {
   "cell_type": "code",
   "execution_count": null,
   "id": "6e90573a-e777-46c3-8b41-b54169b3ed82",
   "metadata": {},
   "outputs": [],
   "source": [
    "wavelengths_in_nanometres = np.linspace(480, 880, 256)\n",
    "wavelengths = wavelengths_in_nanometres * 1e-9\n",
    "frequencies = convert_wavelength_and_frequency(wavelengths)\n",
    "angles = np.linspace(0, 86, 64)"
   ]
  },
  {
   "cell_type": "code",
   "execution_count": null,
   "id": "776bfe21-9b44-4f28-a7c7-870f700b0e31",
   "metadata": {},
   "outputs": [],
   "source": [
    "default_oscillator_params = {\n",
    "    \"N\": 1e26,\n",
    "    \"permittivity\": 2.2,\n",
    "    \"lorentz_resonance_wavelength\": 680,\n",
    "    \"lorentz_linewidth\": 7.5e13,\n",
    "}"
   ]
  },
  {
   "cell_type": "code",
   "execution_count": null,
   "id": "0180fb4d-fa53-408b-bd2a-0d90f261a74c",
   "metadata": {},
   "outputs": [],
   "source": [
    "unpolarised_RTA = [\"R\", \"T\", \"A\"]\n",
    "s_polarised_RTA = [\"Rs\", \"Ts\", \"As\"]\n",
    "p_polarised_RTA = [\"Rp\", \"Tp\", \"Ap\"]\n",
    "reflectance = [\"Rs\", \"Rp\", \"R\"]\n",
    "transmittance = [\"Ts\", \"Tp\", \"T\"]\n",
    "absorptance = [\"As\", \"Ap\", \"A\"]\n",
    "per_oscillator_RTA = [\"R_per_oscillator\", \"T_per_oscillator\", \"A_per_oscillator\"]"
   ]
  },
  {
   "cell_type": "code",
   "execution_count": null,
   "id": "0bff1152-00da-4342-b226-0bb5e1eb48d8",
   "metadata": {},
   "outputs": [],
   "source": [
    "# WARNING: all these datasets will be fundamentally changed after this cell, to the extent that it can't be run twice\n",
    "# For consistency, keep important calculations in the preceding section!\n",
    "ds = pre_process_for_plots(ds)\n",
    "restacked_ds = pre_process_for_plots(restacked_ds)\n",
    "ref = pre_process_for_plots(ref)\n",
    "crs_1 = pre_process_for_plots(crs_1)\n",
    "frs_1 = pre_process_for_plots(frs_1)\n",
    "norm_1 = pre_process_for_plots(norm_1)\n",
    "restacked_norm_1 = pre_process_for_plots(restacked_norm_1)\n",
    "norm_2 = pre_process_for_plots(norm_2)\n",
    "restacked_norm_2 = pre_process_for_plots(restacked_norm_2)\n",
    "diff_1 = pre_process_for_plots(diff_1)\n",
    "restacked_diff_1 = pre_process_for_plots(restacked_diff_1)\n",
    "ds_flat_spectrum = pre_process_for_plots(ds_flat_spectrum)\n",
    "restacked_ds_flat_spectrum = pre_process_for_plots(restacked_ds_flat_spectrum)\n",
    "ref_flat_spectrum = pre_process_for_plots(ref_flat_spectrum)\n",
    "crs_1_flat_spectrum = pre_process_for_plots(crs_1_flat_spectrum)\n",
    "norm_flat_spectrum = pre_process_for_plots(norm_flat_spectrum)\n",
    "restacked_norm_flat_spectrum = pre_process_for_plots(restacked_norm_flat_spectrum)"
   ]
  },
  {
   "cell_type": "code",
   "execution_count": null,
   "id": "07020d84-9ec4-4557-b261-b2cb1527b637",
   "metadata": {},
   "outputs": [],
   "source": [
    "period_dim = hv.Dimension(\"period\", label=\"Λ\", unit=\"nm\")\n",
    "wavelength_dim = hv.Dimension(\"wavelength\", label=\"λ\", unit=\"nm\")\n",
    "real_index_dim = hv.Dimension(\"n\")\n",
    "imag_index_dim = hv.Dimension(\"k\", label=\"ϰ\")"
   ]
  },
  {
   "cell_type": "markdown",
   "id": "125de4da-a3cf-489e-b7b7-90eef501566f",
   "metadata": {
    "tags": []
   },
   "source": [
    "## Useful functions"
   ]
  },
  {
   "cell_type": "markdown",
   "id": "6e6317e6-d2ef-487c-91d1-b1e30f60fbbe",
   "metadata": {
    "tags": []
   },
   "source": [
    "### Lorentz lines"
   ]
  },
  {
   "cell_type": "markdown",
   "id": "2d1c3a6e-eb48-423a-8277-647f3f4e3d4c",
   "metadata": {},
   "source": [
    "I want some sort of metric for 'near the resonance' and 'far from the resonance'. The natural unit of distance in this instance is the linewidth. The linewidth is given in rad/s so there need to be some conversions to get the equivalent lines in the plots by wavelength, but they are roughly symmetrical around the peak wavelength.\n",
    "\n",
    "Based on the plots of the refractive index below, I think I will consider 'near' to be 'within two linewidths', and 'far' to be 'at least four linewidths away'."
   ]
  },
  {
   "cell_type": "code",
   "execution_count": null,
   "id": "b2ff99ac-d148-4ebd-8c8c-3e4dbf666415",
   "metadata": {},
   "outputs": [],
   "source": [
    "# resonance_line = hv.VLine(680, label='LO resonance wavelength').opts(line_dash='dotted')\n",
    "\n",
    "# Convert from rad/s to Hz\n",
    "lorentz_linewidth_frequency = default_oscillator_params[\"lorentz_linewidth\"] / (2*np.pi)"
   ]
  },
  {
   "cell_type": "code",
   "execution_count": null,
   "id": "e56210c0-3131-4c1e-b471-d2a7e54d829a",
   "metadata": {},
   "outputs": [],
   "source": [
    "def linewidth_calculator_factory(centre, linewidth):\n",
    "    return partial(linewidth_calculator, centre=centre, linewidth=linewidth)"
   ]
  },
  {
   "cell_type": "code",
   "execution_count": null,
   "id": "0cc25a40-ee2a-4bb0-99e4-5b8ea0b4a8f5",
   "metadata": {},
   "outputs": [],
   "source": [
    "lorentz_line_frequency = linewidth_calculator_factory(convert_wavelength_and_frequency(680e-9), lorentz_linewidth_frequency)\n",
    "\n",
    "def lorentz_line_wavelength(x=None):\n",
    "    x = -x if x is not None else x\n",
    "    return convert_wavelength_and_frequency(lorentz_line_frequency(x))"
   ]
  },
  {
   "cell_type": "code",
   "execution_count": null,
   "id": "a1c6d72e-da8c-4976-bba1-a1069fa410cb",
   "metadata": {},
   "outputs": [],
   "source": [
    "def lorentz_vlines(x=0, scale=1, mode='wavelength', **kwargs):\n",
    "    if mode == 'wavelength':\n",
    "        line_func = lorentz_line_wavelength\n",
    "    elif mode == 'frequency':\n",
    "        line_func = lorentz_line_frequency\n",
    "    else:\n",
    "        raise TypeError(f\"mode should be 'wavelength' or 'frequency', not {mode}\")\n",
    "        \n",
    "    match x:\n",
    "        case [*xs]:\n",
    "            line_pos = [line_func(x)/scale for x in xs]\n",
    "        case x:\n",
    "            line_pos = line_func(x)/scale\n",
    "            \n",
    "    return vlines(line_pos, **kwargs)"
   ]
  },
  {
   "cell_type": "markdown",
   "id": "0b1df350-45b3-49ba-8e3b-7aece7768dbf",
   "metadata": {
    "tags": []
   },
   "source": [
    "### Plotting functions"
   ]
  },
  {
   "cell_type": "markdown",
   "id": "a5f747f5-acc0-4b61-b6b8-461cc54fe741",
   "metadata": {},
   "source": [
    "#### Select a wavelength or wavelength range based on the distance from the resonance in linewidths."
   ]
  },
  {
   "cell_type": "code",
   "execution_count": null,
   "id": "0d0641d7-7ebe-47ea-8c6d-fb007fa925e7",
   "metadata": {},
   "outputs": [],
   "source": [
    "def select_lorentz_line(da, lorentz_line=0, window_radius=0):\n",
    "    if window_radius == 0:\n",
    "        wavelength = lorentz_line_wavelength(lorentz_line) * 1e9\n",
    "        wavelength_sel_method = \"nearest\"\n",
    "    else:\n",
    "        wavelength = slice(\n",
    "            lorentz_line_wavelength(lorentz_line - window_radius) * 1e9,\n",
    "            lorentz_line_wavelength(lorentz_line + window_radius) * 1e9,\n",
    "        )\n",
    "        wavelength_sel_method = None\n",
    "    da = da.sel(wavelength=wavelength, method=wavelength_sel_method)\n",
    "    \n",
    "    return da"
   ]
  },
  {
   "cell_type": "markdown",
   "id": "64008b42-6460-4d37-b03d-e82a9a6e4ef7",
   "metadata": {},
   "source": [
    "#### Plot a comparison of the reflectance and absorptance of the LOPC with that of the reference slab."
   ]
  },
  {
   "cell_type": "code",
   "execution_count": null,
   "id": "88fea1be-c08f-4136-b837-eaac8ba331b8",
   "metadata": {},
   "outputs": [],
   "source": [
    "opts_R = [opts.Curve(color=blue, ylim=(0,1)), opts.Image(cmap='viridis', clim=(0,1)), opts.QuadMesh(cmap='viridis', clim=(0,1))]\n",
    "\n",
    "def plot_R(variable=\"R\", dataset=None, label_field=\"long_name\", label_append=None, **hvplot_kwargs):\n",
    "    plot = plot_var(variable, dataset, label_field, label_append, **hvplot_kwargs)\n",
    "    plot.opts(*opts_R)\n",
    "    return plot\n",
    "\n",
    "# # test\n",
    "# plot_R(dataset=restacked_ds.sel(period=200, excitonic_layer_thickness=20, num_periods=10).squeeze(), x=\"wavelength\", y=\"theta\").opts(cmap=\"cividis\", clim=(None, None))"
   ]
  },
  {
   "cell_type": "code",
   "execution_count": null,
   "id": "141862d4-c369-4629-96a2-905d3afc99e0",
   "metadata": {},
   "outputs": [],
   "source": [
    "opts_T = [opts.Curve(color=yellow, ylim=(0,1)), opts.Image(cmap='cividis', clim=(0,1)), opts.QuadMesh(cmap='cividis', clim=(0,1))]\n",
    "\n",
    "def plot_T(variable=\"T\", dataset=None, label_field=\"long_name\", label_append=None, **hvplot_kwargs):\n",
    "    plot = plot_var(variable, dataset, label_field, label_append, **hvplot_kwargs)\n",
    "    plot.opts(*opts_T)\n",
    "    return plot"
   ]
  },
  {
   "cell_type": "code",
   "execution_count": null,
   "id": "200c8ce5-e013-45cf-acca-89c8d4cd79db",
   "metadata": {},
   "outputs": [],
   "source": [
    "opts_A = [opts.Curve(color=red, ylim=(0,1)), opts.Image(cmap='inferno', clim=(0,1)), opts.QuadMesh(cmap='inferno', clim=(0,1))]\n",
    "\n",
    "def plot_A(variable=\"A\", dataset=None, label_field=\"long_name\", label_append=None, **hvplot_kwargs):\n",
    "    plot = plot_var(variable, dataset, label_field, label_append, **hvplot_kwargs)\n",
    "    plot.opts(*opts_A)\n",
    "    return plot"
   ]
  },
  {
   "cell_type": "code",
   "execution_count": null,
   "id": "9fe2bb36-0dc2-4e49-ada4-ee7df9d074d1",
   "metadata": {},
   "outputs": [],
   "source": [
    "def plot_vars_to_funcs(plot_vars):\n",
    "    var_func_mapping = {\n",
    "        \"R\": plot_R,\n",
    "        \"T\": plot_T,\n",
    "        \"A\": plot_A,\n",
    "        \"Rs\": partial(plot_R, variable=\"Rs\"),\n",
    "        \"Ts\": partial(plot_T, variable=\"Ts\"),\n",
    "        \"As\": partial(plot_A, variable=\"As\"),\n",
    "        \"Rp\": partial(plot_R, variable=\"Rp\"),\n",
    "        \"Tp\": partial(plot_T, variable=\"Tp\"),\n",
    "        \"Ap\": partial(plot_A, variable=\"Ap\"),\n",
    "        \"R_per_oscillator\": partial(plot_R, variable=\"R_per_oscillator\"),\n",
    "        \"T_per_oscillator\": partial(plot_T, variable=\"T_per_oscillator\"),\n",
    "        \"A_per_oscillator\": partial(plot_A, variable=\"A_per_oscillator\"),\n",
    "        \"Rs_per_oscillator\": partial(plot_R, variable=\"Rs_per_oscillator\"),\n",
    "        \"Ts_per_oscillator\": partial(plot_T, variable=\"Ts_per_oscillator\"),\n",
    "        \"As_per_oscillator\": partial(plot_A, variable=\"As_per_oscillator\"),\n",
    "        \"Rp_per_oscillator\": partial(plot_R, variable=\"Rp_per_oscillator\"),\n",
    "        \"Tp_per_oscillator\": partial(plot_T, variable=\"Tp_per_oscillator\"),\n",
    "        \"Ap_per_oscillator\": partial(plot_A, variable=\"Ap_per_oscillator\"),\n",
    "    }\n",
    "\n",
    "    plot_funcs = []\n",
    "    for var in plot_vars:\n",
    "        try:\n",
    "            func = var_func_mapping[var]\n",
    "        except KeyError:\n",
    "            func = partial(plot_var, variable=var)\n",
    "        plot_funcs.append(func)\n",
    "\n",
    "    return plot_funcs"
   ]
  },
  {
   "cell_type": "code",
   "execution_count": null,
   "id": "3e1dad77-b4f5-44da-b7cf-15ecf1c7b8d6",
   "metadata": {
    "tags": []
   },
   "outputs": [],
   "source": [
    "# new version\n",
    "def plot_RTA(\n",
    "    period,\n",
    "    excitonic_layer_thickness,\n",
    "    num_periods,\n",
    "    theta,\n",
    "    title=\"\",\n",
    "    include=[\"LOPC\", \"CRS_1\"],\n",
    "    plot_vars=[\"R\", \"T\", \"A\"],\n",
    "    label_override=None,\n",
    "    label_append=None,\n",
    "):\n",
    "    label_field = None  # for debugging\n",
    "    label_append = \"\" if label_append is None else label_append\n",
    "\n",
    "    P = period\n",
    "    t = excitonic_layer_thickness\n",
    "    N = num_periods\n",
    "\n",
    "    plot_funcs = [\n",
    "        partial(func, x=\"wavelength\", label_field=label_field)\n",
    "        for func in plot_vars_to_funcs(plot_vars)\n",
    "    ]\n",
    "    curves = []\n",
    "    if \"LOPC\" in include:\n",
    "        lopc_label = \" (LOPC)\" if label_override is None else label_override\n",
    "        lopc_label += label_append\n",
    "        lopc_sel = restacked_ds.sel(\n",
    "            period=P, excitonic_layer_thickness=t, num_periods=N\n",
    "        ).squeeze()\n",
    "        lopc_sel = sel_or_integrate(lopc_sel, \"theta\", theta, normalisation=1)\n",
    "        lopc_curves = [\n",
    "            plot_func(dataset=lopc_sel, label_append=lopc_label).opts(line_dash=\"solid\")\n",
    "            for plot_func in plot_funcs\n",
    "        ]\n",
    "        curves += lopc_curves\n",
    "    if \"CRS_1\" in include:\n",
    "        crs_1_label = \" (CRS)\" if label_override is None else label_override\n",
    "        crs_1_label += label_append\n",
    "        crs_1_sel = crs_1.sel(total_excitonic_thickness=t * N).squeeze()\n",
    "        crs_1_sel = sel_or_integrate(crs_1_sel, \"theta\", theta, normalisation=1)\n",
    "        crs_1_curves = [\n",
    "            plot_func(dataset=crs_1_sel, label_append=crs_1_label).opts(\n",
    "                line_dash=\"dashed\"\n",
    "            )\n",
    "            for plot_func in plot_funcs\n",
    "        ]\n",
    "        curves += crs_1_curves\n",
    "    if \"FRS_1\" in include:\n",
    "        frs_1_label = \" (FRS)\" if label_override is None else label_override\n",
    "        frs_1_label += label_append\n",
    "        frs_1_sel = frs_1.sel(total_thickness=(P + t) * N).squeeze()\n",
    "        frs_1_sel = sel_or_integrate(frs_1_sel, \"theta\", theta, normalisation=1)\n",
    "        frs_1_curves = [\n",
    "            plot_func(dataset=frs_1_sel, label_append=frs_1_label).opts(\n",
    "                line_dash=\"dotted\"\n",
    "            )\n",
    "            for plot_func in plot_funcs\n",
    "        ]\n",
    "        curves += frs_1_curves\n",
    "\n",
    "    overlay = hv.Overlay(curves).opts(\n",
    "        opts.Curve(\n",
    "            ylim=(0, 1),\n",
    "            ylabel=\"Intensity\",\n",
    "            title=f\"{title}{coordinate_string(period=P, excitonic_layer_thickness=t, num_periods=N, theta=theta)}\",\n",
    "        ),\n",
    "    )\n",
    "\n",
    "    return overlay\n",
    "\n",
    "\n",
    "# # test\n",
    "# display(\n",
    "#     plot_RTA(200, 40, 20, 0, \"test\\n\", include=[\"LOPC\", \"CRS_1\", \"FRS_1\"]).opts(\n",
    "#         legend_position=\"right\"\n",
    "#     )\n",
    "# )\n",
    "\n",
    "# display(\n",
    "#     plot_RTA(\n",
    "#         200,\n",
    "#         40,\n",
    "#         20,\n",
    "#         (10, 50),\n",
    "#         \"test RA only\\n\",\n",
    "#         include=[\"LOPC\", \"CRS_1\", \"FRS_1\"],\n",
    "#         plot_vars=[\"R\", \"A\"],\n",
    "#     ).opts(opts.Overlay(legend_position=\"right\"))\n",
    "# )\n",
    "\n",
    "# display(\n",
    "#     plot_RTA(\n",
    "#         200,\n",
    "#         40,\n",
    "#         20,\n",
    "#         75,\n",
    "#         \"test\\n\",\n",
    "#         include=[\"LOPC\"],\n",
    "#         plot_vars=[\"R_per_oscillator\", \"A_per_oscillator\"],\n",
    "#         label_append=\" test\",\n",
    "#         label_override=\"OVERRIDDEN\",\n",
    "#     ).opts(opts.Curve(ylim=(None, None)), opts.Overlay(legend_position=\"right\"))\n",
    "# )"
   ]
  },
  {
   "cell_type": "markdown",
   "id": "20905ebf-bb50-4146-8f7d-eed23fe54e9a",
   "metadata": {},
   "source": [
    "#### Plot a comparison of normal incidence to integrated"
   ]
  },
  {
   "cell_type": "code",
   "execution_count": null,
   "id": "903df102-0103-43d2-b3ac-5d76bd52b0b4",
   "metadata": {},
   "outputs": [],
   "source": [
    "def plot_comparison(*comparison_params: tuple[dict, list[\"opts\"]], plot_func=plot_RTA, **shared_params):\n",
    "    param_opts = [(shared_params|comp_params, comp_opts) for comp_params, comp_opts in comparison_params]\n",
    "    plots = [plot_func(**comp_params).opts(*comp_opts) for comp_params, comp_opts in param_opts]\n",
    "    return plots"
   ]
  },
  {
   "cell_type": "code",
   "execution_count": null,
   "id": "8e08b517",
   "metadata": {},
   "outputs": [],
   "source": [
    "def compare_RTA(*args, opts_cycle=None, plot_func=plot_RTA, **shared_params):\n",
    "    default_opts = [[opts.Curve(line_dash=style)] for style in [\"solid\", \"dashed\", \"dotted\", \"dotdash\", \"dashdot\"]]\n",
    "    opts_cycle = default_opts if opts_cycle is None else opts_cycle\n",
    "    \n",
    "    # comparison_params = list(zip(args, opts_cycle))\n",
    "    \n",
    "    plots = plot_comparison(*zip(args, opts_cycle), plot_func=plot_func, **shared_params)\n",
    "    overlay = hv.Overlay(plots).opts(opts.Overlay(legend_position=\"right\"))\n",
    "                                     \n",
    "    return overlay\n",
    "\n",
    "# # test\n",
    "# shared_params = {\n",
    "#     \"period\": 250,\n",
    "#     \"excitonic_layer_thickness\": 70,\n",
    "#     \"num_periods\": 30,\n",
    "#     \"include\": [\"LOPC\"],\n",
    "# }\n",
    "# compare_RTA({\"theta\": (0, 75), \"label_override\": \" (integrated)\"}, {\"theta\": 0, \"label_override\": \" (θ = 0)\"}, **shared_params)"
   ]
  },
  {
   "cell_type": "code",
   "execution_count": null,
   "id": "1c7b6652-092f-4dab-8c19-1549de1f101f",
   "metadata": {},
   "outputs": [],
   "source": [
    "compare_RTA_normal_vs_integrated = partial(compare_RTA, {\"theta\": (0, 45), \"label_override\": \" (integrated)\"}, {\"theta\": 0, \"label_override\": \" (θ = 0)\"}, include= [\"LOPC\"],)\n",
    "\n",
    "# # test\n",
    "# shared_params = {\n",
    "#     \"period\": 250,\n",
    "#     \"excitonic_layer_thickness\": 70,\n",
    "#     \"num_periods\": 30,\n",
    "# }\n",
    "# compare_RTA_normal_vs_integrated(**shared_params)"
   ]
  },
  {
   "cell_type": "markdown",
   "id": "79d0bef6-a389-465f-94a1-174aea97f4aa",
   "metadata": {
    "tags": []
   },
   "source": [
    "#### Plot the RTA of the structures in 2D"
   ]
  },
  {
   "cell_type": "code",
   "execution_count": null,
   "id": "5135644c-8a8f-4991-828c-067c9c219159",
   "metadata": {
    "tags": []
   },
   "outputs": [],
   "source": [
    "def plot_RTA_2D(\n",
    "    period,\n",
    "    excitonic_layer_thickness,\n",
    "    num_periods,\n",
    "    theta=(0, 75),\n",
    "    title=\"\",\n",
    "    include=[\"LOPC\", \"CRS_1\"],\n",
    "):\n",
    "    P = period\n",
    "    t = excitonic_layer_thickness\n",
    "    N = num_periods\n",
    "\n",
    "    plots = []\n",
    "    if \"LOPC\" in include:\n",
    "        lopc_sel = restacked_ds.sel(\n",
    "            period=P, excitonic_layer_thickness=t, num_periods=N\n",
    "        ).squeeze()\n",
    "        lopc_sel = lopc_sel.sel(theta=slice(*theta))\n",
    "        plots.append(\n",
    "            lopc_sel[\"R\"]\n",
    "            .hvplot(kind=\"image\", x=\"wavelength\", y=\"theta\", title=\"Reflectance (LOPC)\")\n",
    "            .opts(opts.Image(cmap=\"viridis\"))\n",
    "        )\n",
    "        plots.append(\n",
    "            lopc_sel[\"T\"]\n",
    "            .hvplot(kind=\"image\", x=\"wavelength\", y=\"theta\", title=\"Transmittance (LOPC)\")\n",
    "            .opts(opts.Image(cmap=\"cividis\"))\n",
    "        )\n",
    "        plots.append(\n",
    "            lopc_sel[\"A\"]\n",
    "            .hvplot(kind=\"image\", x=\"wavelength\", y=\"theta\", title=\"Absorptance (LOPC)\")\n",
    "            .opts(opts.Image(cmap=\"inferno\"))\n",
    "        )\n",
    "    if \"CRS_1\" in include:\n",
    "        crs_1_sel = crs_1.sel(total_excitonic_thickness=t * N).squeeze()\n",
    "        crs_1_sel = crs_1_sel.sel(theta=slice(*theta))\n",
    "        plots.append(\n",
    "            crs_1_sel[\"R\"]\n",
    "            .hvplot(kind=\"image\", x=\"wavelength\", y=\"theta\", title=\"Reflectance (CRS)\")\n",
    "            .opts(opts.Image(cmap=\"viridis\"))\n",
    "        )\n",
    "        plots.append(\n",
    "            crs_1_sel[\"T\"]\n",
    "            .hvplot(kind=\"image\", x=\"wavelength\", y=\"theta\", title=\"Transmittance (CRS)\")\n",
    "            .opts(opts.Image(cmap=\"cividis\"))\n",
    "        )\n",
    "        plots.append(\n",
    "            crs_1_sel[\"A\"]\n",
    "            .hvplot(kind=\"image\", x=\"wavelength\", y=\"theta\", title=\"Absorptance (CRS)\")\n",
    "            .opts(opts.Image(cmap=\"inferno\"))\n",
    "        )\n",
    "    if \"FRS_1\" in include:\n",
    "        frs_1_sel = frs_1.sel(total_thickness=(P + t) * N).squeeze()\n",
    "        frs_1_sel = frs_1_sel.sel(theta=slice(*theta))\n",
    "        plots.append(\n",
    "            frs_1_sel[\"R\"]\n",
    "            .hvplot(kind=\"image\", x=\"wavelength\", y=\"theta\", title=\"Reflectance (FRS)\")\n",
    "            .opts(opts.Image(cmap=\"viridis\"))\n",
    "        )\n",
    "        plots.append(\n",
    "            frs_1_sel[\"T\"]\n",
    "            .hvplot(kind=\"image\", x=\"wavelength\", y=\"theta\", title=\"Transmittance (FRS)\")\n",
    "            .opts(opts.Image(cmap=\"cividis\"))\n",
    "        )\n",
    "        plots.append(\n",
    "            frs_1_sel[\"A\"]\n",
    "            .hvplot(kind=\"image\", x=\"wavelength\", y=\"theta\", title=\"Absorptance (FRS)\")\n",
    "            .opts(opts.Image(cmap=\"inferno\"))\n",
    "        )\n",
    "\n",
    "    layout = hv.Layout(plots).opts(\n",
    "        opts.Image(\n",
    "            clim=(0, 1),\n",
    "            clabel=\"Intensity\",\n",
    "        ),\n",
    "        opts.Layout(\n",
    "            title=f\"{title}{coordinate_string(period=P, excitonic_layer_thickness=t, num_periods=N)}\",\n",
    "        ),\n",
    "    )\n",
    "\n",
    "    return layout\n",
    "\n",
    "# # test\n",
    "# display(plot_RTA_2D(200, 40, 20, (0, 90), \"test\\n\", include=[\"LOPC\", \"CRS_1\", \"FRS_1\"]).opts(opts.Image(frame_width=200)).cols(3))\n",
    "\n",
    "# display(plot_RTA_2D(200, 40, 20, (10, 50), \"test\\n\", include=[\"LOPC\", \"CRS_1\", \"FRS_1\"]).opts(opts.Image(frame_width=200)).cols(3))"
   ]
  },
  {
   "cell_type": "markdown",
   "id": "bc74d9d4-7b45-4f6f-9ae5-70904d80f2b0",
   "metadata": {},
   "source": [
    "#### Plot an enhancement factor."
   ]
  },
  {
   "cell_type": "code",
   "execution_count": null,
   "id": "3a8ee053-47a4-4934-bdba-d431ce8462be",
   "metadata": {},
   "outputs": [],
   "source": [
    "def plot_ef(\n",
    "    variable,\n",
    "    dataset,\n",
    "    sel=None,\n",
    "    sel_method=None,\n",
    "    title=\"\",\n",
    "    *,\n",
    "    x=\"wavelength\",\n",
    "    y=None,\n",
    "):\n",
    "    sel = {} if sel is None else sel\n",
    "    da = dataset[variable].sel(**sel, method=sel_method).squeeze()\n",
    "    if y is None:\n",
    "        plot = da.hvplot(x=x, label=f\"{variable} enhancement factor\")\n",
    "        plot *= hv.HLine(1).opts(line_dash=\"dotted\")\n",
    "    else:\n",
    "        plot = da.hvplot(\n",
    "            kind=\"image\",\n",
    "            x=x,\n",
    "            y=y,\n",
    "            label=f\"{variable} enhancement factor\",\n",
    "            clim=(0.5, 1.5),\n",
    "        )\n",
    "    plot = plot.opts(\n",
    "        opts.Curve(\n",
    "            title=f\"{title}{coordinate_string(**sel)}\",\n",
    "        ),\n",
    "        opts.Overlay(\n",
    "            title=f\"{title}{coordinate_string(**sel)}\",\n",
    "        ),\n",
    "    )\n",
    "\n",
    "    return plot\n",
    "\n",
    "\n",
    "# # test\n",
    "# sel_1 = {\"period\": 200, \"excitonic_layer_thickness\": 40, \"num_periods\": 10, \"theta\": 30}\n",
    "# sel_2 = {\"period\": 200, \"excitonic_layer_thickness\": 40, \"num_periods\": 10, \"theta\": 0}\n",
    "# sel_3 = {\"period\": 200, \"excitonic_layer_thickness\": 40, \"num_periods\": 10}\n",
    "# display(\n",
    "#     (\n",
    "#         plot_ef(\"As\", restacked_norm_1, sel_1, \"nearest\", \"test\\n\")\n",
    "#         + plot_ef(\"As\", restacked_norm_2, sel_2, title=\"test2\\n\")\n",
    "#     ).cols(1)\n",
    "# )\n",
    "# display(\n",
    "#     plot_ef(\"As\", restacked_norm_1, sel_3, title=\"test3\\n\", x=\"theta\", y=\"wavelength\").opts(clim=(0, 2), cmap=\"RdBu_r\")\n",
    "# )"
   ]
  },
  {
   "cell_type": "markdown",
   "id": "7f32e392-9405-4c95-b45e-a9ef844115c4",
   "metadata": {
    "tags": []
   },
   "source": [
    "#### Test plot_optimum_over_dim"
   ]
  },
  {
   "cell_type": "code",
   "execution_count": null,
   "id": "c9abae83-767c-46eb-b9b9-790d57be032b",
   "metadata": {},
   "outputs": [],
   "source": [
    "# foo, bar = plot_optimum_over_dim(restacked_ds.A.sel(theta=0, wavelength=660, method=\"nearest\"), \"period\", \"excitonic_layer_thickness\", \"num_periods\", \"max\")"
   ]
  },
  {
   "cell_type": "code",
   "execution_count": null,
   "id": "2c9d8cfc-67db-40a8-a378-096827508de6",
   "metadata": {},
   "outputs": [],
   "source": [
    "# foo, bar = plot_optimum_over_dim(integrate_da(restacked_ds.A, \"theta\", normalisation=1).sel(wavelength=660, method=\"nearest\"), \"period\", \"excitonic_layer_thickness\", \"num_periods\", \"max\")"
   ]
  },
  {
   "cell_type": "markdown",
   "id": "3453ba8b-c757-4a7b-9665-61faf4484522",
   "metadata": {},
   "source": [
    "#### Find and plot the min or max over any dimension."
   ]
  },
  {
   "cell_type": "code",
   "execution_count": null,
   "id": "c36a0876-2980-4a7b-a4a2-5ea3730918ed",
   "metadata": {},
   "outputs": [],
   "source": [
    "def wrapped_2D_plot(\n",
    "    variable,\n",
    "    dataset,\n",
    "    optimise=\"max\",\n",
    "    lorentz_line=0,\n",
    "    window_radius=0,\n",
    "    theta=0,\n",
    "    cmap=\"viridis\",\n",
    "    period_start=None,\n",
    "    period_stop=None,\n",
    "    integrate_angle=None,\n",
    "    extra_plots=[\"RTA_normal\", \"RTA_int\", \"norm_1_normal\", \"norm_1_int\"],\n",
    "    dim=None,  # automatically assign if dataset recognised\n",
    "):\n",
    "    plots = []\n",
    "\n",
    "    if str(dataset) == \"restacked_ds\":\n",
    "        # the drop_sel is important for avoiding the most common degenerate cases\n",
    "        dataset = restacked_ds.drop_sel({\"excitonic_layer_thickness\": 0})\n",
    "        dim = \"period\"\n",
    "\n",
    "    if str(dataset) == \"restacked_norm_1\":\n",
    "        # the drop_sel is important for avoiding the most common degenerate cases\n",
    "        dataset = restacked_norm_1.drop_sel({\"excitonic_layer_thickness\": 0})\n",
    "        dim = \"period\"\n",
    "\n",
    "    if str(dataset) == \"restacked_diff_1\":\n",
    "        # the drop_sel is important for avoiding the most common degenerate cases\n",
    "        dataset = restacked_diff_1.drop_sel({\"excitonic_layer_thickness\": 0})\n",
    "        dim = \"period\"\n",
    "\n",
    "    da = dataset[variable]\n",
    "\n",
    "    if not integrate_angle:\n",
    "        da = da.sel(theta=theta, method=\"nearest\")\n",
    "    else:  # integrate_angle must be a float, so that (theta, integrate_angle) is a slice syntax\n",
    "        da = da.sel(theta=slice(theta, integrate_angle))\n",
    "        da = integrate_da(da, \"theta\", weighting=1, normalisation=1)\n",
    "\n",
    "    if period_start < period_stop:\n",
    "        da = da.sel(period=slice(period_start, period_stop))\n",
    "    else:  # otherwise no data is selected and everything breaks\n",
    "        da = da.sel(period=slice(period_start, None))\n",
    "    da = select_lorentz_line(da, lorentz_line=lorentz_line, window_radius=window_radius)\n",
    "\n",
    "    vline_locs = [0]\n",
    "\n",
    "    if window_radius == 0:\n",
    "        wavelength = float(da.wavelength)\n",
    "        title = f\"{optimise.capitalize()}imum {variable} at {wavelength:.0f} nm\"\n",
    "        if lorentz_line != 0:  # don't put two lines over the resonance\n",
    "            vline_locs.append(lorentz_line)\n",
    "    else:\n",
    "        wavelength_start = float(da.wavelength[0])\n",
    "        wavelength_stop = float(da.wavelength[-1])\n",
    "        # make it easier to compare values\n",
    "        da = integrate_da(\n",
    "            da, \"wavelength\", weighting=1, normalisation=1\n",
    "        )  # replaces the below two lines\n",
    "        # da = normalise_over_dim(da, \"wavelength\", 1)\n",
    "        # da = da.integrate(\"wavelength\")\n",
    "        title = f\"{optimise.capitalize()}imum integrated {variable} between {wavelength_start:.0f} and {wavelength_stop:.0f} nm\"\n",
    "        vline_locs.append(lorentz_line - window_radius)\n",
    "        vline_locs.append(lorentz_line + window_radius)\n",
    "\n",
    "    plot_1, optimum_coords = plot_optimum_over_dim(\n",
    "        da,\n",
    "        dim=dim,\n",
    "        x=\"excitonic_layer_thickness\",\n",
    "        y=\"num_periods\",\n",
    "        optimise=optimise,\n",
    "    )\n",
    "\n",
    "    P = float(optimum_coords[\"period\"])\n",
    "    t = float(optimum_coords[\"excitonic_layer_thickness\"])\n",
    "    N = float(optimum_coords[\"num_periods\"])\n",
    "    try:  # this should work if not integrating over theta\n",
    "        th = float(optimum_coords[\"theta\"])\n",
    "    except:  # probably the problem is that theta doesn't exist because I integrated over it already\n",
    "        th = (theta, integrate_angle)\n",
    "    lorentz_lines = lorentz_vlines(vline_locs, scale=1e-9, mode=\"wavelength\").opts(\n",
    "        opts.VLine(line_color=green, line_dash=\"dotted\"),\n",
    "    )\n",
    "\n",
    "    # give the resonance line a special colour\n",
    "    lorentz_lines.VLine.I.opts(opts.VLine(line_color=yellow))\n",
    "\n",
    "    plot_1.opts(\n",
    "        opts.QuadMesh(cmap=cmap),\n",
    "        opts.Points(color=\"red\"),\n",
    "        opts.Overlay(title=f\"{title}\\nOptimal period: {P:.0f}\"),\n",
    "    )\n",
    "\n",
    "    plots.append(plot_1)\n",
    "\n",
    "    if \"RTA_normal\" in extra_plots:  # plot RTA at theta=0\n",
    "        new_plot = plot_RTA(\n",
    "            period=P, excitonic_layer_thickness=t, num_periods=N, theta=0\n",
    "        )\n",
    "        new_plot *= lorentz_lines\n",
    "\n",
    "        plots.append(new_plot)\n",
    "\n",
    "    if \"RTA_int\" in extra_plots:  # plot RTA at theta OR integrating over theta\n",
    "        new_plot = plot_RTA(\n",
    "            period=P, excitonic_layer_thickness=t, num_periods=N, theta=th\n",
    "        )\n",
    "        new_plot *= lorentz_lines\n",
    "        plots.append(new_plot)\n",
    "\n",
    "    if \"norm_1_normal\" in extra_plots:  # plot enhancement factor at theta=0\n",
    "        sel = {\n",
    "            \"period\": P,\n",
    "            \"excitonic_layer_thickness\": t,\n",
    "            \"num_periods\": N,\n",
    "            \"theta\": 0,\n",
    "        }\n",
    "        new_plot = plot_ef(variable=\"A\", dataset=restacked_norm_1, sel=sel)\n",
    "        new_plot *= lorentz_lines\n",
    "\n",
    "        plots.append(new_plot)\n",
    "\n",
    "    if (\n",
    "        \"norm_1_int\" in extra_plots\n",
    "    ):  # plot enhancement factor at theta OR integrating over theta\n",
    "        try:  # this should work if not integrating over theta\n",
    "            sel = {\n",
    "                \"period\": P,\n",
    "                \"excitonic_layer_thickness\": t,\n",
    "                \"num_periods\": N,\n",
    "                \"theta\": th,\n",
    "            }\n",
    "            new_plot = plot_ef(variable=\"A\", dataset=restacked_norm_1, sel=sel)\n",
    "            new_plot *= lorentz_lines\n",
    "        except:  # if integrating, we need to do the integral *before* normalising\n",
    "            ds_int = sel_or_integrate(ds, dim=\"theta\", val=th)\n",
    "            crs_1_int = sel_or_integrate(crs_1, dim=\"theta\", val=th)\n",
    "            norm = enhancement_factor(\n",
    "                ds_int,\n",
    "                ref=crs_1_int,\n",
    "                common_dim=\"total_excitonic_thickness\",\n",
    "                method=\"groupby\",\n",
    "            )\n",
    "            restacked_norm = restack_plt_to_period(norm)\n",
    "            # replaces the lines below\n",
    "            #             # this should all get separated out into its own function\n",
    "            #             crs_1_like_ds = crs_1.sel(\n",
    "            #                 total_excitonic_thickness=ds.total_excitonic_thickness\n",
    "            #             )\n",
    "\n",
    "            #             ds_int = sel_or_integrate(ds, dim=\"theta\", val=th)\n",
    "            #             crs_1_int = sel_or_integrate(crs_1_like_ds, dim=\"theta\", val=th)\n",
    "            #             norm = ds_int / crs_1_int\n",
    "            #             restacked_norm = norm.stack(multiperiod=['passive_layer_thickness', 'excitonic_layer_thickness']).set_index(multiperiod=['period', 'excitonic_layer_thickness']).unstack()\n",
    "\n",
    "            sel = {\"period\": P, \"excitonic_layer_thickness\": t, \"num_periods\": N}\n",
    "            new_plot = plot_ef(variable=\"A\", dataset=restacked_norm, sel=sel)\n",
    "            new_plot *= lorentz_lines\n",
    "            sel[\"theta\"] = th\n",
    "            new_plot = new_plot.opts(opts.Overlay(title=f\"{coordinate_string(**sel)}\"))\n",
    "        plots.append(new_plot)\n",
    "\n",
    "    return hv.Layout(plots).cols(1)"
   ]
  },
  {
   "cell_type": "markdown",
   "id": "1509027e-a985-4748-b9c9-84686ed42445",
   "metadata": {
    "tags": []
   },
   "source": [
    "#### Plot the E-field, overlayed with the refractive index profile and layer boundaries."
   ]
  },
  {
   "cell_type": "code",
   "execution_count": null,
   "id": "d2e205d6-1a8a-4212-aeee-7b0a696edf84",
   "metadata": {},
   "outputs": [],
   "source": [
    "# # sometimes this errors on the first call for some reason\n",
    "# fdtd = lumapi.FDTD()\n",
    "\n",
    "# oscillator = LumericalOscillator(fdtd)\n",
    "\n",
    "# plot_field(\n",
    "#     680,\n",
    "#     lumerical_session=fdtd,\n",
    "#     oscillator=oscillator,\n",
    "#     ri_lower=1.35,\n",
    "#     ri_upper=1.6,\n",
    "#     excitonic_layer_thickness=30,\n",
    "#     passive_layer_thickness=210,\n",
    "#     num_periods=10,\n",
    "# ).opts(opts.VSpan(color='gray'))\n",
    "\n",
    "# def wrap_plot_field(\n",
    "#     wavelength, excitonic_layer_thickness, passive_layer_thickness, num_periods\n",
    "# ):\n",
    "#     coords = {\n",
    "#         \"λ\": wavelength,\n",
    "#         \"Excitonic layer thickness\": excitonic_layer_thickness,\n",
    "#         \"Passive layer thickness\": passive_layer_thickness,\n",
    "#         \"Number of periods\": num_periods,\n",
    "#     }\n",
    "\n",
    "#     title = f\"{coordinate_string(**coords)}\"\n",
    "\n",
    "#     return plot_field(\n",
    "#         wavelength=wavelength,\n",
    "#         lumerical_session=fdtd,\n",
    "#         oscillator=oscillator,\n",
    "#         ri_lower=1.35,\n",
    "#         ri_upper=1.6,\n",
    "#         excitonic_layer_thickness=excitonic_layer_thickness,\n",
    "#         passive_layer_thickness=passive_layer_thickness,\n",
    "#         num_periods=num_periods,\n",
    "#     ).opts(opts.Curve(title=title, ylim=(0,None)), opts.VSpan(color=\"gray\"))"
   ]
  },
  {
   "cell_type": "code",
   "execution_count": null,
   "id": "bb81c663-8b17-4807-862e-5ee8784d2c8a",
   "metadata": {},
   "outputs": [],
   "source": [
    "# # an example of what this can do\n",
    "# pn.interact(\n",
    "#     wrap_plot_field,\n",
    "#     wavelength=(480, 880),\n",
    "#     excitonic_layer_thickness=(10, 200),\n",
    "#     passive_layer_thickness=(0, 300),\n",
    "#     num_periods=(1, 50),\n",
    "# )"
   ]
  },
  {
   "cell_type": "markdown",
   "id": "ee207561-33c9-480a-9a11-690d27468e28",
   "metadata": {
    "tags": []
   },
   "source": [
    "## Refractive index"
   ]
  },
  {
   "cell_type": "code",
   "execution_count": null,
   "id": "08e33130-f625-4cdd-a550-112c947d8e5d",
   "metadata": {},
   "outputs": [],
   "source": [
    "with lumapi.FDTD() as fdtd:\n",
    "    oscillator = LumericalOscillator(session=fdtd)\n",
    "    oscillator_index = LOPC.LOPC(lumerical_session=fdtd, oscillator=oscillator, **default_oscillator_params).oscillator.index(frequencies)"
   ]
  },
  {
   "cell_type": "markdown",
   "id": "2b77d848-1788-4b90-9e20-c4b91f127310",
   "metadata": {
    "tags": []
   },
   "source": [
    "### Basic plots"
   ]
  },
  {
   "cell_type": "markdown",
   "id": "c2086c60-2203-4950-bea5-2f4f522371c2",
   "metadata": {},
   "source": [
    "High and low wavelength values of the refractive index"
   ]
  },
  {
   "cell_type": "code",
   "execution_count": null,
   "id": "32646edf-e238-46e3-b562-44c6bce9a995",
   "metadata": {
    "tags": []
   },
   "outputs": [],
   "source": [
    "print(oscillator_index[0], oscillator_index[-1])"
   ]
  },
  {
   "cell_type": "markdown",
   "id": "319eda8d-12ac-4cd4-b12b-1b542d21f9fe",
   "metadata": {},
   "source": [
    "Plot the refractive index of the Lorentz oscillator against wavelength."
   ]
  },
  {
   "cell_type": "code",
   "execution_count": null,
   "id": "5a6f1262-a452-457f-bea3-7fc84d855d58",
   "metadata": {
    "tags": []
   },
   "outputs": [],
   "source": [
    "(\n",
    "    (\n",
    "        hv.Layout(\n",
    "            complex_elements(\n",
    "                (wavelengths_in_nanometres, oscillator_index),\n",
    "                wavelength_dim,\n",
    "                element=hv.Curve,\n",
    "                auto_label=\"group\",\n",
    "                label=\"Lorentz Oscillator\",\n",
    "            ).values()\n",
    "        )\n",
    "        * lorentz_vlines([-4, -2, -1, 0, 1, 2, 4], scale=1e-9)\n",
    "    )\n",
    "    .redim(\"Curve.Real\", y=real_index_dim)\n",
    "    .redim(\"Curve.Imaginary\", y=imag_index_dim)\n",
    "    .opts(opts.Curve(width=600), opts.VLine(line_dash=\"dotted\"))\n",
    "    .cols(1)\n",
    ")"
   ]
  },
  {
   "cell_type": "markdown",
   "id": "4ac987ba-8355-40e4-a6e0-ac97af300054",
   "metadata": {},
   "source": [
    "Plot the refractive index of the Lorentz oscillator against frequency."
   ]
  },
  {
   "cell_type": "code",
   "execution_count": null,
   "id": "581788cb-98eb-4e6b-a2d2-7ecbce0abb85",
   "metadata": {
    "tags": []
   },
   "outputs": [],
   "source": [
    "(\n",
    "    (\n",
    "        hv.Layout(\n",
    "            complex_elements(\n",
    "                (frequencies, oscillator_index),\n",
    "                \"f (Hz)\",\n",
    "                element=hv.Curve,\n",
    "                auto_label=\"group\",\n",
    "                label=\"Lorentz Oscillator\",\n",
    "            ).values()\n",
    "        )\n",
    "        * lorentz_vlines([-4, -2, -1, 0, 1, 2, 4], mode='frequency')\n",
    "    )\n",
    "    .redim(\"Curve.Real\", y=real_index_dim)\n",
    "    .redim(\"Curve.Imaginary\", y=imag_index_dim)\n",
    "    .opts(opts.Curve(width=600), opts.VLine(line_dash=\"dotted\"))\n",
    "    .cols(1)\n",
    ")"
   ]
  },
  {
   "cell_type": "markdown",
   "id": "4f9f7ae4-5580-483b-a8a8-d2fd151cb5ed",
   "metadata": {},
   "source": [
    "Plot the refractive index of the Lorentz oscillator against wavelength on one axis."
   ]
  },
  {
   "cell_type": "code",
   "execution_count": null,
   "id": "a84fa0fb-6034-4cbe-8360-8648d233dbab",
   "metadata": {
    "tags": []
   },
   "outputs": [],
   "source": [
    "(\n",
    "    hv.Overlay(\n",
    "        complex_elements(\n",
    "            (wavelengths_in_nanometres, oscillator_index),\n",
    "            wavelength_dim,\n",
    "            element=hv.Curve,\n",
    "            auto_label=\"label\",\n",
    "            group=\"Lorentz Oscillator\",\n",
    "        ).values()\n",
    "    )\n",
    "    .redim('Curve.Lorentz_Oscillator.Real', y=real_index_dim)\n",
    "    .redim('Curve.Lorentz_Oscillator.Imag', y=imag_index_dim)\n",
    "    .opts(opts.Curve(width=600))\n",
    ")"
   ]
  },
  {
   "cell_type": "markdown",
   "id": "b31847b8-b680-4778-8f02-d4754a76cc1f",
   "metadata": {},
   "source": [
    "Plot the refractive index of the Lorentz oscillator against wavelength on two axes."
   ]
  },
  {
   "cell_type": "code",
   "execution_count": null,
   "id": "f9376d82-de24-48e5-a5c2-cdfffadd72b1",
   "metadata": {
    "tags": []
   },
   "outputs": [],
   "source": [
    "(\n",
    "    hv.Overlay(\n",
    "        complex_elements(\n",
    "            (wavelengths_in_nanometres, oscillator_index),\n",
    "            wavelength_dim,\n",
    "            element=hv.Curve,\n",
    "            auto_label=\"label\",\n",
    "            group=\"Lorentz Oscillator\",\n",
    "        ).values()\n",
    "    )\n",
    "    .redim('Curve.Lorentz_Oscillator.Real', y=real_index_dim)\n",
    "    .redim('Curve.Lorentz_Oscillator.Imag', y=imag_index_dim)\n",
    "    .opts(opts.Curve(width=600), opts.Curve('Imaginary', hooks=[plot_secondary]))\n",
    ")"
   ]
  },
  {
   "cell_type": "markdown",
   "id": "a680b952-9843-4299-b7e3-b59e44b2ba45",
   "metadata": {
    "tags": []
   },
   "source": [
    "#### Measured thylakoid membrane data"
   ]
  },
  {
   "cell_type": "code",
   "execution_count": null,
   "id": "d592e2c7-7495-49f8-9883-375e62726f33",
   "metadata": {},
   "outputs": [],
   "source": [
    "# Get real and imaginary refractive index data of thylakoid membrance\n",
    "thyl_real_data = np.loadtxt(data_path / \"Chl_real.dat\", delimiter=\"\\t\", dtype=\"f\")\n",
    "thyl_imag_data = np.loadtxt(data_path / \"Chl_img.dat\", delimiter=\"\\t\", dtype=\"f\")"
   ]
  },
  {
   "cell_type": "code",
   "execution_count": null,
   "id": "b807bc22-4e28-44bc-af8c-ed89cbb803b8",
   "metadata": {},
   "outputs": [],
   "source": [
    "osc_n_curve = hv.Curve(\n",
    "    (wavelengths_in_nanometres, oscillator_index.real),\n",
    "    kdims=[wavelength_dim],\n",
    "    vdims=[real_index_dim],\n",
    "    # group=\"Lorentz Oscillator\",\n",
    "    # label=\"Lorentz Oscillator, Real\",\n",
    "    label=\"Lorentz Oscillator, n\",\n",
    ")\n",
    "osc_k_curve = hv.Curve(\n",
    "    (wavelengths_in_nanometres, oscillator_index.imag),\n",
    "    kdims=[wavelength_dim],\n",
    "    vdims=[imag_index_dim],\n",
    "    # group=\"Lorentz Oscillator\",\n",
    "    label=\"Lorentz Oscillator, ϰ\",\n",
    ")#.opts(hooks=[plot_secondary])"
   ]
  },
  {
   "cell_type": "code",
   "execution_count": null,
   "id": "dc76f8e6-af67-4e06-9178-1872effdd3c3",
   "metadata": {},
   "outputs": [],
   "source": [
    "thyl_n_curve = hv.Curve(\n",
    "    (thyl_real_data[:, 0], thyl_real_data[:, 1]),\n",
    "    kdims=[wavelength_dim],\n",
    "    vdims=[real_index_dim],\n",
    "    # group=\"Thylakoid Membrane\",\n",
    "    label=\"Thylakoid Membrane, n\",\n",
    ")\n",
    "thyl_k_curve = hv.Curve(\n",
    "    (thyl_imag_data[:, 0], thyl_imag_data[:, 1]),\n",
    "    kdims=[wavelength_dim],\n",
    "    vdims=[imag_index_dim],\n",
    "    # group=\"Thylakoid Membrane\",\n",
    "    label=\"Thylakoid Membrane, ϰ\",\n",
    ").opts(hooks=[plot_secondary])"
   ]
  },
  {
   "cell_type": "code",
   "execution_count": null,
   "id": "40f8eecf-e8ca-47dc-997a-33ee07579c59",
   "metadata": {},
   "outputs": [],
   "source": [
    "n_curves = (osc_n_curve * thyl_n_curve)\n",
    "k_curves = (osc_k_curve * thyl_k_curve).opts(opts.Curve(line_dash='dashed', hooks=[plot_secondary]))"
   ]
  },
  {
   "cell_type": "code",
   "execution_count": null,
   "id": "74c1d19a-38fe-4edd-b80d-55fbd44a49c3",
   "metadata": {},
   "outputs": [],
   "source": [
    "# Even though these symbols aren't used, the options are applied to the underlying curves!\n",
    "lo_curves = (osc_n_curve * osc_k_curve).opts(opts.Curve(color=blue))"
   ]
  },
  {
   "cell_type": "code",
   "execution_count": null,
   "id": "b4d49bd2-b54c-474c-9d27-97b357984c4a",
   "metadata": {},
   "outputs": [],
   "source": [
    "tm_curves = (thyl_n_curve * thyl_k_curve).opts(opts.Curve(color=red))"
   ]
  },
  {
   "cell_type": "code",
   "execution_count": null,
   "id": "49f3e998-10c5-4f5c-a12b-cb18c7c4b3f3",
   "metadata": {},
   "outputs": [],
   "source": [
    "tm_curves.opts(\n",
    "    opts.Curve(width=800),\n",
    "    opts.Overlay(\n",
    "        legend_position=\"top_right\", legend_opts={\"background_fill_alpha\": 0.5}\n",
    "    ),\n",
    "    clone=True,\n",
    ")"
   ]
  },
  {
   "cell_type": "code",
   "execution_count": null,
   "id": "5119252e-9b8e-4c8d-8ada-32d705c3780c",
   "metadata": {},
   "outputs": [],
   "source": [
    "fig = (n_curves * k_curves*lorentz_vlines([-1, 1], scale=1e-9)).opts(\n",
    "    opts.Curve(width=1000),\n",
    "    opts.VLine(line_color=green, line_dash=\"dotted\", line_width=2),\n",
    "    opts.Overlay(\n",
    "        width=800,\n",
    "        legend_position=\"right\",\n",
    "        legend_opts={\"background_fill_alpha\": 0.9},\n",
    "        fontscale=1,  # <-- this is because secondary axes in holoviews are bad. Try changing it and see!\n",
    "        legend_labels={\"Thylakoid Membrane, Real\": r\"\\(n_{TM}\\)\"},\n",
    "    ),\n",
    "    clone=True,\n",
    ")\n",
    "fig"
   ]
  },
  {
   "cell_type": "code",
   "execution_count": null,
   "id": "db51b98e-9fad-4b27-9787-b06d5d2e2a89",
   "metadata": {},
   "outputs": [],
   "source": [
    "hv.save(fig, filename=fig_path/\"LO_TM_compare\", fmt=\"png\", toolbar=None)"
   ]
  },
  {
   "cell_type": "markdown",
   "id": "bab886fe-35e4-4d80-8190-2d4fc6caf5ab",
   "metadata": {
    "tags": []
   },
   "source": [
    "#### Interpolated thylakoid membrane data"
   ]
  },
  {
   "cell_type": "code",
   "execution_count": null,
   "id": "d00406ab-d428-4b16-89ea-5189f12a1af0",
   "metadata": {},
   "outputs": [],
   "source": [
    "# Interpolate the refractive index data\n",
    "thyl_real = np.interp(wavelengths_in_nanometres, thyl_real_data[:,0], thyl_real_data[:,1])\n",
    "thyl_imag = np.interp(wavelengths_in_nanometres, thyl_imag_data[:,0], thyl_imag_data[:,1])\n",
    "\n",
    "# Combine into complex refractive index of the membrane\n",
    "n_M = thyl_real + 1j*thyl_imag"
   ]
  },
  {
   "cell_type": "code",
   "execution_count": null,
   "id": "540851df-f80c-48ee-9bc4-418a5dc24e91",
   "metadata": {},
   "outputs": [],
   "source": [
    "interp_curves = complex_elements(\n",
    "    (wavelengths_in_nanometres, n_M),\n",
    "    auto_label=\"group\",\n",
    "    label=\"Thylakoid membrane (interpolated)\",\n",
    ")\n",
    "\n",
    "(\n",
    "    interp_curves[\"Real\"]\n",
    "    * hv.Scatter(thyl_n_curve)\n",
    "    * (\n",
    "        interp_curves[\"Imaginary\"].opts(hooks=[plot_secondary])\n",
    "        * hv.Scatter(thyl_k_curve).opts(hooks=[plot_secondary])\n",
    "    )\n",
    ").opts(\n",
    "    opts.Curve(width=800, color=blue),\n",
    "    opts.Scatter(color=red),\n",
    "    opts.Overlay(legend_position=\"right\"),\n",
    ")"
   ]
  },
  {
   "cell_type": "code",
   "execution_count": null,
   "id": "90a6a14f-0bff-483d-9732-c16ba9d01f25",
   "metadata": {},
   "outputs": [],
   "source": [
    "# Interpolate using InterpolatedIndex class\n",
    "from multilayer_simulator.material import InterpolatedIndex"
   ]
  },
  {
   "cell_type": "code",
   "execution_count": null,
   "id": "9809dcca-e14f-494b-9988-b367a08910e6",
   "metadata": {},
   "outputs": [],
   "source": [
    "from scipy import interpolate"
   ]
  },
  {
   "cell_type": "code",
   "execution_count": null,
   "id": "1776e11d-387b-4c07-a7ae-046c1a449903",
   "metadata": {},
   "outputs": [],
   "source": [
    "real_data_frequencies = convert_wavelength_and_frequency(thyl_real_data[::-1][:,0]*1e-9)\n",
    "real_data_indexes = thyl_real_data[::-1][:,1]\n",
    "\n",
    "thyl_real_index = InterpolatedIndex(real_data_frequencies, real_data_indexes, interpolate.interp1d, interp_kwargs={'bounds_error': False, 'fill_value': (real_data_indexes[0], real_data_indexes[-1])})"
   ]
  },
  {
   "cell_type": "code",
   "execution_count": null,
   "id": "2a1199f5-0675-41a3-a41a-fa7a63b373a7",
   "metadata": {},
   "outputs": [],
   "source": [
    "hv.Curve((thyl_real_data[:,0], thyl_real_index._index_function_real(real_data_frequencies[::-1])))#.opts(ylim=(0, 1.65))"
   ]
  },
  {
   "cell_type": "code",
   "execution_count": null,
   "id": "f9a16eb7-c2c4-4a96-b744-f8d046d5484f",
   "metadata": {},
   "outputs": [],
   "source": [
    "imag_data_frequencies = convert_wavelength_and_frequency(thyl_imag_data[::-1][:,0]*1e-9)\n",
    "imag_data_indexes = thyl_imag_data[::-1][:,1]\n",
    "\n",
    "thyl_imag_index = InterpolatedIndex.from_scipy_method(imag_data_frequencies, imag_data_indexes, 'interp1d', interp_kwargs={'bounds_error': False, 'fill_value': (imag_data_indexes[0], imag_data_indexes[-1])})"
   ]
  },
  {
   "cell_type": "code",
   "execution_count": null,
   "id": "4a5044d6-a373-4850-bcc1-a149d3bf35b2",
   "metadata": {},
   "outputs": [],
   "source": [
    "hv.Curve((thyl_imag_data[:,0], thyl_imag_index._index_function_real(imag_data_frequencies[::-1])))#.opts(ylim=(0, 1.65))"
   ]
  },
  {
   "cell_type": "code",
   "execution_count": null,
   "id": "66f73cf3-0e92-470f-a2a7-346273444238",
   "metadata": {},
   "outputs": [],
   "source": [
    "def thyl_complex_index(frequencies, component, **kwargs):\n",
    "    return thyl_real_index._index_function_real(frequencies) + 1j*thyl_imag_index._index_function_real(frequencies)"
   ]
  },
  {
   "cell_type": "code",
   "execution_count": null,
   "id": "0f26cbbd-86a5-4d78-bbc0-6080beaaeac7",
   "metadata": {},
   "outputs": [],
   "source": [
    "from multilayer_simulator.material import CallableIndex\n",
    "\n",
    "thyl_index = CallableIndex(thyl_complex_index)"
   ]
  },
  {
   "cell_type": "code",
   "execution_count": null,
   "id": "fcb1aac7-3d71-4a2e-8946-175a504c5941",
   "metadata": {},
   "outputs": [],
   "source": [
    "(\n",
    "    hv.Overlay(\n",
    "        complex_elements(\n",
    "            (wavelengths_in_nanometres, thyl_index.index(frequencies)),\n",
    "            auto_label=\"label\"\n",
    "        ).values()\n",
    "    ).opts(opts.Curve(width=600))\n",
    ")"
   ]
  },
  {
   "cell_type": "code",
   "execution_count": null,
   "id": "d8be0af5-f19c-4f31-8735-21b7178413ae",
   "metadata": {},
   "outputs": [],
   "source": [
    "index_plot = hv.NdLayout(\n",
    "    complex_elements(\n",
    "        (wavelengths_in_nanometres, thyl_index.index(frequencies)), label=\"Interpolated\"\n",
    "    )\n",
    ") * hv.NdLayout(\n",
    "    {\n",
    "        \"Real\": hv.Scatter(\n",
    "            (thyl_real_data[:, 0], thyl_real_data[:, 1]), label=\"Measured\"\n",
    "        ),\n",
    "        \"Imaginary\": hv.Scatter(\n",
    "            (thyl_imag_data[:, 0], thyl_imag_data[:, 1]), label=\"Measured\"\n",
    "        ),\n",
    "    }\n",
    ")"
   ]
  },
  {
   "cell_type": "code",
   "execution_count": null,
   "id": "bfb60ebd-1dff-4c34-9d7c-96b367165e5a",
   "metadata": {},
   "outputs": [],
   "source": [
    "index_plot.opts(opts.Curve(width=600), opts.Scatter(color=red), opts.Overlay(legend_position='right')).cols(1)"
   ]
  },
  {
   "cell_type": "markdown",
   "id": "f796531d-8177-4b61-ac8e-cedf9f88a715",
   "metadata": {},
   "source": [
    "## Calculate omega_0"
   ]
  },
  {
   "cell_type": "code",
   "execution_count": null,
   "id": "3bdc83fe-e1e7-46b2-a66f-f3edddcdc3a3",
   "metadata": {
    "tags": []
   },
   "outputs": [],
   "source": [
    "print(f\"{2*np.pi * convert_wavelength_and_frequency(680e-9):e}\")"
   ]
  },
  {
   "cell_type": "markdown",
   "id": "ad49d787-83b8-4666-95d8-0e37254d06d3",
   "metadata": {
    "tags": []
   },
   "source": [
    "# Cleanup"
   ]
  },
  {
   "cell_type": "code",
   "execution_count": null,
   "id": "8dbc4784-d764-47cf-abe9-aba6e493254e",
   "metadata": {},
   "outputs": [],
   "source": [
    "# hv.archive.export()"
   ]
  }
 ],
 "metadata": {
  "kernelspec": {
   "display_name": "Python [conda env:multilayer_simulator] *",
   "language": "python",
   "name": "conda-env-multilayer_simulator-py"
  },
  "language_info": {
   "codemirror_mode": {
    "name": "ipython",
    "version": 3
   },
   "file_extension": ".py",
   "mimetype": "text/x-python",
   "name": "python",
   "nbconvert_exporter": "python",
   "pygments_lexer": "ipython3",
   "version": "3.10.0"
  }
 },
 "nbformat": 4,
 "nbformat_minor": 5
}
