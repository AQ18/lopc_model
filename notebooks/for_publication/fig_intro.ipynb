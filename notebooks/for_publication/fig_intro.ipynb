{
 "cells": [
  {
   "cell_type": "markdown",
   "id": "366088e3-cae3-49b2-958d-e6a5f510081a",
   "metadata": {},
   "source": [
    "Generating plots that introduce the thesis. This notebook is for generating publication-ready plots, which will be automatically exported to the LaTeX directory. To follow the process of exploring the data, look at the other notebooks."
   ]
  },
  {
   "cell_type": "code",
   "execution_count": null,
   "id": "c9b27915-88f0-4411-925d-dc8a49a29088",
   "metadata": {
    "tags": []
   },
   "outputs": [],
   "source": [
    "# computation\n",
    "import lumapi\n",
    "import numpy as np\n",
    "import warnings\n",
    "import xarray as xr\n",
    "import pandas as pd\n",
    "# import xyzpy as xyz\n",
    "# from xyzpy.gen.combo_runner import multi_concat\n",
    "import multilayer_simulator as ml\n",
    "from multilayer_simulator.lumerical_classes import LumericalOscillator, format_stackrt, format_stackfield\n",
    "from multilayer_simulator.helpers.mixins import convert_wavelength_and_frequency\n",
    "import dask\n",
    "from functools import partial\n",
    "from pathlib import Path\n",
    "import sys\n",
    "from tqdm import tqdm\n",
    "# plotting\n",
    "import hvplot.xarray\n",
    "import hvplot.pandas\n",
    "import holoviews as hv\n",
    "from holoviews import dim, opts\n",
    "import colorcet\n",
    "import panel as pn\n",
    "import panel.widgets as pnw\n",
    "from bokeh.io import export_png, export_svg\n",
    "from selenium.webdriver import Firefox\n",
    "from selenium.webdriver.firefox.options import Options\n",
    "from scipy.signal import find_peaks\n",
    "from bokeh.models import PrintfTickFormatter"
   ]
  },
  {
   "cell_type": "code",
   "execution_count": null,
   "id": "64fabf26-f945-40ba-be43-cfd7375db63b",
   "metadata": {
    "tags": []
   },
   "outputs": [],
   "source": [
    "hv.extension(\"bokeh\", inline=False, case_sensitive_completion=True)  # use matplotlib because rendering bokeh to svg is broken\n",
    "pn.config.throttled = True  # don't update interactive plots until mouse is unclicked\n",
    "\n",
    "# default_color_cycle = hv.Cycle(\"Colorblind\")  # Ruth doesn't like the inclusion of yellow, which is fair enough\n",
    "default_color_cycle = hv.Cycle(colorcet.glasbey_dark)\n",
    "default_dash_cycle = hv.Cycle([\"solid\", \"dashed\", \"dashdot\", \"dotted\", \"dotdash\"])\n",
    "universal_opts = dict(fontscale=2, title=\"\")\n",
    "matplotlib_opts = dict(fig_inches=5, aspect=2, fig_latex=True)\n",
    "bokeh_opts = dict(width=700, height=300)\n",
    "opts.defaults(opts.Curve(**universal_opts|bokeh_opts, color=default_color_cycle, line_width=1.5),\n",
    "              opts.Scatter(**universal_opts|bokeh_opts, color=default_color_cycle),\n",
    "              opts.Image(**universal_opts|bokeh_opts),\n",
    "              opts.Slope(**universal_opts|bokeh_opts, color=default_color_cycle),\n",
    "              opts.Area(**universal_opts|bokeh_opts, color=default_color_cycle),\n",
    "              opts.Overlay(**universal_opts|bokeh_opts),\n",
    "              opts.Layout(**universal_opts|bokeh_opts),\n",
    "              opts.GridSpace(**universal_opts|bokeh_opts),\n",
    "              )\n",
    "\n",
    "xarray_engine='h5netcdf'"
   ]
  },
  {
   "cell_type": "code",
   "execution_count": null,
   "id": "b460880c-491a-4a89-9621-a17cadcd8a85",
   "metadata": {
    "tags": []
   },
   "outputs": [],
   "source": [
    "root = Path.cwd().parent.parent.parent  # depth of parents depends on if this is running in JupyterLab or Notebook"
   ]
  },
  {
   "cell_type": "code",
   "execution_count": null,
   "id": "0238f02f-3322-401e-8079-c8826df85652",
   "metadata": {
    "tags": []
   },
   "outputs": [],
   "source": [
    "code_path = root / r\"research\""
   ]
  },
  {
   "cell_type": "code",
   "execution_count": null,
   "id": "b368cad5-ede6-4ba9-a83e-9c96a17a2183",
   "metadata": {
    "tags": []
   },
   "outputs": [],
   "source": [
    "data_path = code_path / r\"notebooks/data\""
   ]
  },
  {
   "cell_type": "code",
   "execution_count": null,
   "id": "b69f36fd-e3c9-4b6f-b78f-bfc6b1a9b24f",
   "metadata": {
    "tags": []
   },
   "outputs": [],
   "source": [
    "archive_path = root / r\"thesis/LaTeX/chapters/intro\""
   ]
  },
  {
   "cell_type": "code",
   "execution_count": null,
   "id": "95567598-b198-468c-b0d2-af48dcb803a9",
   "metadata": {
    "tags": []
   },
   "outputs": [],
   "source": [
    "fig_path = archive_path / \"fig_intro\""
   ]
  },
  {
   "cell_type": "code",
   "execution_count": null,
   "id": "eaa72b88-f94a-4944-b806-5566874ce752",
   "metadata": {
    "tags": []
   },
   "outputs": [],
   "source": [
    "if not code_path in sys.path:\n",
    "    sys.path.append(str(code_path))\n",
    "from LOPC import LOPC\n",
    "from LOPC.helpers import (\n",
    "    assign_derived_attrs,\n",
    "    restack,\n",
    "    enhancement_factor,\n",
    "    # combo_length,\n",
    "    # estimate_combo_run_time,\n",
    "    linewidth_calculator,\n",
    "    lopc_data,\n",
    "    spectrum,\n",
    "    normalise_over_dim,\n",
    "    integrate_da,\n",
    "    sel_or_integrate,\n",
    "    find_optimum_coords,\n",
    "    plot_secondary,\n",
    "    pre_process_for_plots,\n",
    "    vlines,\n",
    "    coordinate_string,\n",
    "    plot_da,\n",
    "    plot_var,\n",
    "    plot_optimum_over_dim,\n",
    "    plot_field,\n",
    "    visualise_multilayer,\n",
    "    complex_elements,\n",
    "    indexer_from_dataset,\n",
    "    fix_bin_labels,\n",
    "    mean_and_std,\n",
    "    assign_high_from_mean_and_std,\n",
    "    assign_low_from_mean_and_std,\n",
    "    assign_high_and_low,\n",
    "    max_min_pos,\n",
    ")"
   ]
  },
  {
   "cell_type": "markdown",
   "id": "c886853c-0ef4-4e17-adbf-8ba6e3bdd1b6",
   "metadata": {},
   "source": [
    "Turn on auto-archiving of cells and Holoviews outputs. See the user guide [here](https://holoviews.org/user_guide/Exporting_and_Archiving.html).\n",
    "\n",
    "Might need to install `ipympl`.\n",
    "\n",
    "EDIT: This does not work but I'm leaving this here so a future researcher can avoid the rabbithole I fell down."
   ]
  },
  {
   "cell_type": "code",
   "execution_count": null,
   "id": "b2f84ae6-8a46-488b-8859-a658d619ef2b",
   "metadata": {
    "tags": []
   },
   "outputs": [],
   "source": [
    "# # This is the idiomatic way to record all generated figures with holoviews\n",
    "# # This does NOT work in JupyterLab: see https://github.com/holoviz/holoviews/issues/3570\n",
    "# # This also does not work in Jupyter Notebook\n",
    "# # It's just utterly broken\n",
    "\n",
    "# hv.archive.auto(root=str(archive_path), export_name=\"fig_chapter_2\") "
   ]
  },
  {
   "cell_type": "markdown",
   "id": "2acefd81-949c-4163-aeeb-6bd440b6572a",
   "metadata": {},
   "source": [
    "# Plots"
   ]
  },
  {
   "cell_type": "markdown",
   "id": "085115df-6bb4-415c-acca-18c5715b6d34",
   "metadata": {},
   "source": [
    "## Pre-processing"
   ]
  },
  {
   "cell_type": "code",
   "execution_count": null,
   "id": "7b3e5635-dfc6-454f-9ac9-56851439967a",
   "metadata": {
    "tags": []
   },
   "outputs": [],
   "source": [
    "blue = hv.Cycle.default_cycles['default_colors'][0]\n",
    "red = hv.Cycle.default_cycles['default_colors'][1]\n",
    "yellow = hv.Cycle.default_cycles['default_colors'][2]\n",
    "green = hv.Cycle.default_cycles['default_colors'][3]"
   ]
  },
  {
   "cell_type": "code",
   "execution_count": null,
   "id": "c7a3468f-9969-4802-a574-11e134b62779",
   "metadata": {
    "tags": []
   },
   "outputs": [],
   "source": [
    "period_dim = hv.Dimension(\"period\", label=\"Λ\", unit=\"nm\")\n",
    "wavelength_dim = hv.Dimension(\"wavelength\", label=\"λ\", unit=\"nm\")\n",
    "real_index_dim = hv.Dimension(\"n\")\n",
    "imag_index_dim = hv.Dimension(\"k\", label=\"ϰ\")\n",
    "delta_dim = hv.Dimension(\"delta\", label=\"Δ\")\n",
    "elt_dim = hv.Dimension(\"excitonic_layer_thickness\", label=\"d_e\", unit=\"nm\")"
   ]
  },
  {
   "cell_type": "code",
   "execution_count": null,
   "id": "83f8f07f-843d-4231-b1a7-9643999f6fbd",
   "metadata": {
    "tags": []
   },
   "outputs": [],
   "source": [
    "opts_R = [\n",
    "    opts.Curve(color=blue, ylim=(0, 1)),\n",
    "    opts.Image(cmap=\"viridis\", clim=(0, 1)),\n",
    "    opts.QuadMesh(cmap=\"viridis\", clim=(0, 1)),\n",
    "]\n",
    "\n",
    "\n",
    "def plot_R(\n",
    "    variable=\"R\",\n",
    "    dataset=None,\n",
    "    label_field=\"long_name\",\n",
    "    label_append=None,\n",
    "    **hvplot_kwargs\n",
    "):\n",
    "    plot = plot_var(variable, dataset, label_field, label_append, **hvplot_kwargs)\n",
    "    plot.opts(*opts_R)\n",
    "    return plot"
   ]
  },
  {
   "cell_type": "markdown",
   "id": "8684dc67-d0c4-4258-9d63-0998405bce2b",
   "metadata": {},
   "source": [
    "## Bragg reflector"
   ]
  },
  {
   "cell_type": "code",
   "execution_count": null,
   "id": "03efcd28-6499-4c68-b331-d348b930b700",
   "metadata": {
    "tags": []
   },
   "outputs": [],
   "source": [
    "fdtd = lumapi.FDTD()"
   ]
  },
  {
   "cell_type": "code",
   "execution_count": null,
   "id": "2669de92-be57-4aa4-9d16-c35c12214f5a",
   "metadata": {
    "tags": []
   },
   "outputs": [],
   "source": [
    "n1 = 1\n",
    "n2 = 1.46\n",
    "lambda_0 = 550e-9\n",
    "d1 = lambda_0/(4*n1)\n",
    "d2 = lambda_0/(4*n2)\n",
    "num_periods = 10"
   ]
  },
  {
   "cell_type": "code",
   "execution_count": null,
   "id": "180505fe-68ad-4fe5-b9a4-16316f66e72d",
   "metadata": {
    "tags": []
   },
   "outputs": [],
   "source": [
    "print(d1*1e9, d2*1e9)"
   ]
  },
  {
   "cell_type": "code",
   "execution_count": null,
   "id": "0bc33787-5cc6-4a29-96cd-57602b186140",
   "metadata": {
    "tags": []
   },
   "outputs": [],
   "source": [
    "f = d1/(d1+d2)"
   ]
  },
  {
   "cell_type": "code",
   "execution_count": null,
   "id": "4e6bf392-c522-4cd2-877f-4c2ce9381926",
   "metadata": {
    "tags": []
   },
   "outputs": [],
   "source": [
    "n_eff = np.sqrt(f*(n1**2) + (1-f)*(n2**2))"
   ]
  },
  {
   "cell_type": "code",
   "execution_count": null,
   "id": "6f79017c-1811-40b2-84dd-bee663185dc9",
   "metadata": {
    "tags": []
   },
   "outputs": [],
   "source": [
    "n_eff"
   ]
  },
  {
   "cell_type": "code",
   "execution_count": null,
   "id": "7fc0cc22-2947-4b8d-a466-a1316ef4f335",
   "metadata": {
    "tags": []
   },
   "outputs": [],
   "source": [
    "2 * n_eff * (d1 + d2)"
   ]
  },
  {
   "cell_type": "code",
   "execution_count": null,
   "id": "7a2cc3c9-d690-468e-a126-5ed475a4b0bc",
   "metadata": {
    "tags": []
   },
   "outputs": [],
   "source": [
    "lambda_0/(2*(d1+d2))"
   ]
  },
  {
   "cell_type": "code",
   "execution_count": null,
   "id": "b2730fdb-8381-43bf-aaee-c5bfc59e608f",
   "metadata": {
    "tags": []
   },
   "outputs": [],
   "source": [
    "wavelengths = np.linspace(400e-9, 700e-9, 1000)\n",
    "frequencies = convert_wavelength_and_frequency(wavelengths)"
   ]
  },
  {
   "cell_type": "code",
   "execution_count": null,
   "id": "d4df4db1-2896-4ef6-a99b-79b8ccaba45c",
   "metadata": {
    "tags": []
   },
   "outputs": [],
   "source": [
    "material_1 = ml.material.ConstantIndex(n1)"
   ]
  },
  {
   "cell_type": "code",
   "execution_count": null,
   "id": "5481b8f5-a5ba-4d7d-a54e-04f0a5ea5908",
   "metadata": {
    "tags": []
   },
   "outputs": [],
   "source": [
    "material_2 = ml.material.ConstantIndex(n2)"
   ]
  },
  {
   "cell_type": "code",
   "execution_count": null,
   "id": "ed9092d7-94a1-41e8-9c8f-1324ab661e79",
   "metadata": {
    "tags": []
   },
   "outputs": [],
   "source": [
    "incident_layer = exit_layer = ml.structure.Layer.from_material(material=material_1)"
   ]
  },
  {
   "cell_type": "code",
   "execution_count": null,
   "id": "e2db06a9-867f-4b23-a44d-2142f1274874",
   "metadata": {
    "tags": []
   },
   "outputs": [],
   "source": [
    "layer_1 = ml.structure.Layer.from_material(material=material_1, thickness=d1)"
   ]
  },
  {
   "cell_type": "code",
   "execution_count": null,
   "id": "9db6d2dd-cee2-4e3e-afb3-23ffdb8b293e",
   "metadata": {
    "tags": []
   },
   "outputs": [],
   "source": [
    "layer_2 = ml.structure.Layer.from_material(material=material_2, thickness=d2)"
   ]
  },
  {
   "cell_type": "code",
   "execution_count": null,
   "id": "74b89dd9-5724-442c-823b-b93eb823624d",
   "metadata": {
    "tags": []
   },
   "outputs": [],
   "source": [
    "unit_cell = [layer_2, layer_1]"
   ]
  },
  {
   "cell_type": "code",
   "execution_count": null,
   "id": "f2489499-ecde-4e5f-bdb5-c2c987f51594",
   "metadata": {
    "tags": []
   },
   "outputs": [],
   "source": [
    "bragg_reflector = multilayer_simulator.structure.Multilayer.from_given_unit_cell(unit_cell=unit_cell, incident_layer=incident_layer, exit_layer=exit_layer, num_periods=num_periods)"
   ]
  },
  {
   "cell_type": "code",
   "execution_count": null,
   "id": "c09b1a18-3f31-4f77-a82f-bd21bb3f2064",
   "metadata": {
    "tags": []
   },
   "outputs": [],
   "source": [
    "engine = ml.lumerical_classes.STACKRT(session=fdtd)"
   ]
  },
  {
   "cell_type": "code",
   "execution_count": null,
   "id": "82a45794-2a39-41ba-91c4-882f5e0ea30b",
   "metadata": {
    "tags": []
   },
   "outputs": [],
   "source": [
    "formatter = format_stackrt(\n",
    "    output_format=\"xarray_dataset\",\n",
    "    **{\n",
    "        \"variables\": [\"Rs\", \"Rp\", \"Ts\", \"Tp\"],\n",
    "        \"add_absorption\": False,\n",
    "    }\n",
    ")"
   ]
  },
  {
   "cell_type": "code",
   "execution_count": null,
   "id": "c47c31c7-4a67-49ae-b3eb-4f48f6db4e1f",
   "metadata": {
    "tags": []
   },
   "outputs": [],
   "source": [
    "simulation = ml.Simulation(structure=bragg_reflector, engine=engine, frequencies=frequencies, angles=[0, 30], formatter=formatter)"
   ]
  },
  {
   "cell_type": "code",
   "execution_count": null,
   "id": "561d1474-c513-48d8-a2f1-b306a8463f20",
   "metadata": {
    "tags": []
   },
   "outputs": [],
   "source": [
    "data = simulation.simulate()"
   ]
  },
  {
   "cell_type": "code",
   "execution_count": null,
   "id": "406931f4-f5d9-41d0-a376-d6a1619969ae",
   "metadata": {
    "tags": []
   },
   "outputs": [],
   "source": [
    "data = assign_derived_attrs(\n",
    "    data,\n",
    "    absorption=True,\n",
    "    unpolarised=True,\n",
    "    period=False,\n",
    "    total_excitonic_thickness=False,\n",
    "    total_passive_thickness=False,\n",
    "    total_thickness=False,\n",
    "    N_tot=False,\n",
    "    per_oscillator=None,\n",
    ")"
   ]
  },
  {
   "cell_type": "code",
   "execution_count": null,
   "id": "8ed3cff9-03fd-40c5-9ac4-9584dc878a6f",
   "metadata": {
    "tags": []
   },
   "outputs": [],
   "source": [
    "data = pre_process_for_plots(data)"
   ]
  },
  {
   "cell_type": "code",
   "execution_count": null,
   "id": "398d2319-5c68-44ce-87e7-0a5fb052d67c",
   "metadata": {
    "tags": []
   },
   "outputs": [],
   "source": [
    "the_plot = plot_R(dataset=data, x=\"wavelength\").overlay(\"theta\") * hv.VLine(550)\n",
    "the_plot.opts(opts.Curve(ylabel=\"R\", line_dash=hv.Cycle([\"solid\", \"dashed\"])), opts.VLine(line_dash=\"dotted\", line_color=yellow))"
   ]
  },
  {
   "cell_type": "code",
   "execution_count": null,
   "id": "325a9435-d7da-4d3b-a622-39a36ef72d05",
   "metadata": {
    "tags": []
   },
   "outputs": [],
   "source": [
    "hv.save(the_plot, filename=fig_path / \"bragg_reflector_spectrum\", fmt=\"png\", toolbar=False)"
   ]
  }
 ],
 "metadata": {
  "kernelspec": {
   "display_name": "Python [conda env:multilayer_simulator] *",
   "language": "python",
   "name": "conda-env-multilayer_simulator-py"
  },
  "language_info": {
   "codemirror_mode": {
    "name": "ipython",
    "version": 3
   },
   "file_extension": ".py",
   "mimetype": "text/x-python",
   "name": "python",
   "nbconvert_exporter": "python",
   "pygments_lexer": "ipython3",
   "version": "3.10.0"
  }
 },
 "nbformat": 4,
 "nbformat_minor": 5
}
