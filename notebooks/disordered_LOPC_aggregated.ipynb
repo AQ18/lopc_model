{
 "cells": [
  {
   "cell_type": "markdown",
   "id": "16933af0-af89-4324-bb97-4d3752f27e6c",
   "metadata": {},
   "source": [
    "Generating plots that explore the disordered LOPC model. This notebook is for testing the disorder method and looking at the optical properties of individual examples of disordered LOPCs without aggregation."
   ]
  },
  {
   "cell_type": "code",
   "execution_count": null,
   "id": "49be6f31-c2b8-4078-b9ca-f7bfab0f0a48",
   "metadata": {
    "tags": []
   },
   "outputs": [],
   "source": [
    "# computation\n",
    "import lumapi\n",
    "import numpy as np\n",
    "import warnings\n",
    "import xarray as xr\n",
    "import xyzpy as xyz\n",
    "from xyzpy.gen.combo_runner import multi_concat\n",
    "from multilayer_simulator.lumerical_classes import LumericalOscillator, format_stackrt, format_stackfield\n",
    "from multilayer_simulator.helpers.mixins import convert_wavelength_and_frequency\n",
    "import dask\n",
    "from functools import partial\n",
    "# plotting\n",
    "import hvplot.xarray\n",
    "import holoviews as hv\n",
    "from holoviews import dim, opts\n",
    "import panel as pn\n",
    "import panel.widgets as pnw"
   ]
  },
  {
   "cell_type": "code",
   "execution_count": null,
   "id": "9e6a1636-62cc-4fca-9d05-c4cb0d883402",
   "metadata": {
    "tags": []
   },
   "outputs": [],
   "source": [
    "hv.extension(\"bokeh\", \"matplotlib\", case_sensitive_completion=True)\n",
    "pn.config.throttled = True\n",
    "opts.defaults(fontscale=2)\n",
    "\n",
    "xarray_engine='h5netcdf'"
   ]
  },
  {
   "cell_type": "code",
   "execution_count": null,
   "id": "4d826d37-718a-4a7e-9c46-2e4ee069fe3c",
   "metadata": {
    "tags": []
   },
   "outputs": [],
   "source": [
    "# A hacky way to import a script\n",
    "\n",
    "import os\n",
    "import sys\n",
    "\n",
    "dir2 = os.path.abspath(\"\")\n",
    "dir1 = os.path.dirname(dir2)\n",
    "if not dir1 in sys.path:\n",
    "    sys.path.append(dir1)\n",
    "from LOPC import LOPC\n",
    "from LOPC.helpers import (\n",
    "    assign_derived_attrs,\n",
    "    restack,\n",
    "    enhancement_factor,\n",
    "    combo_length,\n",
    "    estimate_combo_run_time,\n",
    "    linewidth_calculator,\n",
    "    lopc_data,\n",
    "    spectrum,\n",
    "    normalise_over_dim,\n",
    "    integrate_da,\n",
    "    sel_or_integrate,\n",
    "    find_optimum_coords,\n",
    "    plot_secondary,\n",
    "    pre_process_for_plots,\n",
    "    vlines,\n",
    "    coordinate_string,\n",
    "    plot_da,\n",
    "    plot_var,\n",
    "    plot_optimum_over_dim,\n",
    "    plot_field,\n",
    "    visualise_multilayer,\n",
    "    complex_elements,\n",
    "    indexer_from_dataset,\n",
    "    fix_bin_labels,\n",
    "    mean_and_std,\n",
    "    max_min_pos,\n",
    ")"
   ]
  },
  {
   "cell_type": "markdown",
   "id": "32d1f679-dc47-4e62-935f-46757192a710",
   "metadata": {},
   "source": [
    "Turn on auto-archiving of cells and Holoviews outputs. See the user guide [here](https://holoviews.org/user_guide/Exporting_and_Archiving.html).\n",
    "\n",
    "Might need to install `ipympl`."
   ]
  },
  {
   "cell_type": "code",
   "execution_count": null,
   "id": "2450ba99-e892-4be2-931b-0f0a07589273",
   "metadata": {
    "tags": []
   },
   "outputs": [],
   "source": [
    "# hv.archive.auto() # This breaks the DynamicMap call below due to something to do with pickling\n",
    "\n",
    "undisordered_run_number = 2\n",
    "run_number = 111"
   ]
  },
  {
   "cell_type": "markdown",
   "id": "41a2bd5a-4626-45b6-a6e4-ee02d9166f3e",
   "metadata": {},
   "source": [
    "Useful variables for plotting later:"
   ]
  },
  {
   "cell_type": "code",
   "execution_count": null,
   "id": "bcf08d4d-3efd-40c2-bd09-0838f4fd98d0",
   "metadata": {
    "tags": []
   },
   "outputs": [],
   "source": [
    "blue = hv.Cycle.default_cycles['default_colors'][0]\n",
    "red = hv.Cycle.default_cycles['default_colors'][1]\n",
    "yellow = hv.Cycle.default_cycles['default_colors'][2]\n",
    "green = hv.Cycle.default_cycles['default_colors'][3]"
   ]
  },
  {
   "cell_type": "code",
   "execution_count": null,
   "id": "5201529a-3bdc-4203-90e1-f9d4c564c41e",
   "metadata": {
    "tags": []
   },
   "outputs": [],
   "source": [
    "wavelengths_in_nanometres = np.linspace(480, 880, 256)\n",
    "wavelengths = wavelengths_in_nanometres * 1e-9\n",
    "frequencies = convert_wavelength_and_frequency(wavelengths)\n",
    "angles = np.linspace(0, 86, 64)"
   ]
  },
  {
   "cell_type": "code",
   "execution_count": null,
   "id": "9555b8d0-ee3d-4e0b-ae93-e8df6b7f6664",
   "metadata": {
    "tags": []
   },
   "outputs": [],
   "source": [
    "default_oscillator_params = {\n",
    "    \"N\": 1e26,\n",
    "    \"permittivity\": 2.2,\n",
    "    \"lorentz_resonance_wavelength\": 680,\n",
    "    \"lorentz_linewidth\": 7.5e13,\n",
    "}"
   ]
  },
  {
   "cell_type": "markdown",
   "id": "727b8fa1-5594-438e-84a6-51954cee6252",
   "metadata": {
    "jp-MarkdownHeadingCollapsed": true,
    "tags": []
   },
   "source": [
    "# Setup"
   ]
  },
  {
   "cell_type": "code",
   "execution_count": null,
   "id": "42a9aef1-9583-4de2-990f-cd2e4ee90b11",
   "metadata": {
    "tags": []
   },
   "outputs": [],
   "source": [
    "# fdtd = lumapi.FDTD()"
   ]
  },
  {
   "cell_type": "code",
   "execution_count": null,
   "id": "c2936bbb-c519-4c8e-abe8-0946398cc2bc",
   "metadata": {
    "tags": []
   },
   "outputs": [],
   "source": [
    "# oscillator = LumericalOscillator(session=fdtd)"
   ]
  },
  {
   "cell_type": "code",
   "execution_count": null,
   "id": "8a5da476-19fc-48d5-979b-eaa469ccd889",
   "metadata": {
    "tags": []
   },
   "outputs": [],
   "source": [
    "# rng = np.random.default_rng(seed=20182023)"
   ]
  },
  {
   "cell_type": "code",
   "execution_count": null,
   "id": "273493fd-1915-4745-9c12-c0ef6156afa0",
   "metadata": {
    "tags": []
   },
   "outputs": [],
   "source": [
    "# formatter = format_stackrt(\n",
    "#     output_format=\"xarray_dataset\",\n",
    "#     **{\n",
    "#         \"variables\": [\"Rs\", \"Rp\", \"Ts\", \"Tp\"],\n",
    "#         \"add_absorption\": False,\n",
    "#     }\n",
    "# )"
   ]
  },
  {
   "cell_type": "code",
   "execution_count": null,
   "id": "c6955a16-e03d-448c-aa81-6bb2ef2243a4",
   "metadata": {
    "tags": []
   },
   "outputs": [],
   "source": [
    "# resources = {\n",
    "#     \"lumerical_session\": fdtd,\n",
    "#     \"oscillator\": oscillator,\n",
    "#     \"rng\": rng,  # assign seeded rng for reproducibility\n",
    "#     \"simulation_mode\": \"stackrt\",\n",
    "#     \"formatter\": formatter,\n",
    "#     \"frequencies\": frequencies,\n",
    "#     \"angles\": angles,\n",
    "# }"
   ]
  },
  {
   "cell_type": "code",
   "execution_count": null,
   "id": "1f776d8c-8f29-411f-99c7-229f01521a6f",
   "metadata": {
    "tags": []
   },
   "outputs": [],
   "source": [
    "# constants = {\n",
    "#     \"apply_disorder\": 10,  # True-> only one run; int-> int runs\n",
    "#     \"delta_mode\": \"pplt\",  # abs-> interpret delta as distance in nm; pplt-> interpret delta as proportion of passive layer thickness\n",
    "#     \"disorder_type\": \"uniform\",  # not considering gaussian or other distributions\n",
    "#     \"correlated\": False,  # False-> uncorrelated disorder\n",
    "#     \"retain_runs\": False,  # True-> return concat'd array; False-> return mean array\n",
    "#     \"add_first_layer\": True,  # add dummy passive layer to allow disorder on first excitonic layer\n",
    "#     \"copy_layers\": True,\n",
    "#     \"length_scale\": 1e-9,\n",
    "# }"
   ]
  },
  {
   "cell_type": "code",
   "execution_count": null,
   "id": "e9db6925-1c3c-4f34-aebb-d0b17953247b",
   "metadata": {
    "tags": []
   },
   "outputs": [],
   "source": [
    "# r = xyz.Runner(lopc_data, var_names=None, constants=constants, resources=resources)"
   ]
  },
  {
   "cell_type": "markdown",
   "id": "0e7ff7d9-d9c2-48bf-a5a7-7fd1aec0b19f",
   "metadata": {
    "jp-MarkdownHeadingCollapsed": true,
    "tags": []
   },
   "source": [
    "## LOPC"
   ]
  },
  {
   "cell_type": "code",
   "execution_count": null,
   "id": "acbc258a-7cac-4d80-be26-b94e2435f8fe",
   "metadata": {},
   "outputs": [],
   "source": [
    "# h_lopc = xyz.Harvester(runner=r, data_name=f\"data/run_{run_number}/LOPC.nc\")"
   ]
  },
  {
   "cell_type": "code",
   "execution_count": null,
   "id": "63cc94e0-e7b5-4af0-921b-04c01d2559f7",
   "metadata": {
    "tags": []
   },
   "outputs": [],
   "source": [
    "# %%time\n",
    "# # check how long one run takes\n",
    "# lopc_data(**resources, **constants)\n",
    "# # 9s"
   ]
  },
  {
   "cell_type": "markdown",
   "id": "b381b5cd-eae7-43bd-a412-25a3c493ac1b",
   "metadata": {
    "jp-MarkdownHeadingCollapsed": true,
    "tags": []
   },
   "source": [
    "## Reference slabs"
   ]
  },
  {
   "cell_type": "markdown",
   "id": "9abb55eb-48c0-4cd4-954f-181f60a46599",
   "metadata": {},
   "source": [
    "The reference slabs are just those from the equivalent undisordered run."
   ]
  },
  {
   "cell_type": "markdown",
   "id": "2a2159e8-bf6b-4cdd-bf95-eda2aa7441df",
   "metadata": {
    "jp-MarkdownHeadingCollapsed": true,
    "tags": []
   },
   "source": [
    "# Testing"
   ]
  },
  {
   "cell_type": "markdown",
   "id": "799b6745-f2ed-4be2-99e3-3444ab2d60ca",
   "metadata": {
    "jp-MarkdownHeadingCollapsed": true,
    "tags": []
   },
   "source": [
    "## Perturbing"
   ]
  },
  {
   "cell_type": "code",
   "execution_count": null,
   "id": "56790c87-98ae-4f07-8977-cc91d6ab8f4f",
   "metadata": {},
   "outputs": [],
   "source": [
    "from LOPC.helpers import visualise_multilayer, thicknesses_to_vspans"
   ]
  },
  {
   "cell_type": "code",
   "execution_count": null,
   "id": "bf2f0644-bd4e-44f4-8a1e-3713b199370f",
   "metadata": {},
   "outputs": [],
   "source": [
    "from LOPC.LOPC import adjust_layer_thickness, shift_layer_position"
   ]
  },
  {
   "cell_type": "code",
   "execution_count": null,
   "id": "ba66b6ed-fb5e-4f41-bbd9-068baeb02446",
   "metadata": {},
   "outputs": [],
   "source": [
    "# expect a warning\n",
    "lopc = LOPC.LOPC(**resources, **constants, passive_layer_thickness=200, excitonic_layer_thickness=50, remove_last_layer=False)"
   ]
  },
  {
   "cell_type": "code",
   "execution_count": null,
   "id": "3c61665b-8754-44a1-857f-39d658723634",
   "metadata": {},
   "outputs": [],
   "source": [
    "lopc.structure.layers"
   ]
  },
  {
   "cell_type": "code",
   "execution_count": null,
   "id": "efb3f724-dde5-4207-beb0-9254bc06e743",
   "metadata": {},
   "outputs": [],
   "source": [
    "p_layer = lopc.structure.layers[2]"
   ]
  },
  {
   "cell_type": "code",
   "execution_count": null,
   "id": "b14f8e32-36d8-41ad-be32-9a515440bbe3",
   "metadata": {},
   "outputs": [],
   "source": [
    "adjust_layer_thickness(p_layer, 1e-7)"
   ]
  },
  {
   "cell_type": "code",
   "execution_count": null,
   "id": "e6a9720a-eb30-45d1-9527-d75fd980a8b6",
   "metadata": {},
   "outputs": [],
   "source": [
    "p_layer"
   ]
  },
  {
   "cell_type": "code",
   "execution_count": null,
   "id": "64c2745a-14e3-49d6-bfdd-92eed3f78d41",
   "metadata": {},
   "outputs": [],
   "source": [
    "e_layer = lopc.structure.layers[1]"
   ]
  },
  {
   "cell_type": "code",
   "execution_count": null,
   "id": "17a16a5b-40ca-4f0b-b7dc-c91484301353",
   "metadata": {},
   "outputs": [],
   "source": [
    "adjust_layer_thickness(e_layer, 5e-8)"
   ]
  },
  {
   "cell_type": "code",
   "execution_count": null,
   "id": "cd254dd9-f296-453e-ac3e-bb1df8678652",
   "metadata": {},
   "outputs": [],
   "source": [
    "e_layer"
   ]
  },
  {
   "cell_type": "code",
   "execution_count": null,
   "id": "b9175237-c02d-429b-b42f-f0a605ac4d00",
   "metadata": {},
   "outputs": [],
   "source": [
    "visualise_multilayer(lopc.structure).opts(opts.VSpan(apply_ranges=True, color=blue, width=400))"
   ]
  },
  {
   "cell_type": "code",
   "execution_count": null,
   "id": "22f9c7a1-32d0-40f2-b86f-14b0313f2cac",
   "metadata": {},
   "outputs": [],
   "source": [
    "shift_layer_position(lopc.structure, layer_index=7, delta=1e-7, compensate=True)"
   ]
  },
  {
   "cell_type": "code",
   "execution_count": null,
   "id": "3dc7c67c-6ac6-4da5-981b-0abd434ba115",
   "metadata": {},
   "outputs": [],
   "source": [
    "visualise_multilayer(lopc.structure).opts(opts.VSpan(apply_ranges=True, color=blue, width=400))"
   ]
  },
  {
   "cell_type": "code",
   "execution_count": null,
   "id": "4f18a9e7-2d01-4da4-bfb4-ca1b64debc8c",
   "metadata": {},
   "outputs": [],
   "source": [
    "shift_layer_position(lopc.structure, layer_index=11, delta=1e-7, compensate=False)"
   ]
  },
  {
   "cell_type": "code",
   "execution_count": null,
   "id": "f65573f2-ffc5-4637-9582-ea5848dc3f98",
   "metadata": {},
   "outputs": [],
   "source": [
    "visualise_multilayer(lopc.structure).opts(opts.VSpan(apply_ranges=True, color=blue, width=400))"
   ]
  },
  {
   "cell_type": "code",
   "execution_count": null,
   "id": "da22e0cc-2054-43d8-9f3d-8c2a3825cfcd",
   "metadata": {},
   "outputs": [],
   "source": [
    "shift_layer_position(lopc.structure, layer_index=13, delta=-4e-7, compensate=True)"
   ]
  },
  {
   "cell_type": "code",
   "execution_count": null,
   "id": "77244dfe-e3d2-42c5-b4d1-327e60a41f8f",
   "metadata": {},
   "outputs": [],
   "source": [
    "visualise_multilayer(lopc.structure).opts(opts.VSpan(apply_ranges=True, color=blue, width=400))"
   ]
  },
  {
   "cell_type": "code",
   "execution_count": null,
   "id": "5e42ba6c-ade8-4f10-87a6-1b346f5316a0",
   "metadata": {},
   "outputs": [],
   "source": [
    "lopc.structure.layers"
   ]
  },
  {
   "cell_type": "code",
   "execution_count": null,
   "id": "3e0f35d6-dcb8-4e34-a452-e658a617f305",
   "metadata": {},
   "outputs": [],
   "source": [
    "excitonic_layers = lopc.structure.layers[1:-1:2]\n",
    "excitonic_layers"
   ]
  },
  {
   "cell_type": "code",
   "execution_count": null,
   "id": "243aa09e-2350-4f68-bb09-71787bd26a2b",
   "metadata": {},
   "outputs": [],
   "source": [
    "list(range(1, len(lopc.structure.layers)-1, 2))"
   ]
  },
  {
   "cell_type": "code",
   "execution_count": null,
   "id": "42baf773-6e01-4058-9397-bdb92fcfcca4",
   "metadata": {},
   "outputs": [],
   "source": [
    "lopc.structure.layers[20]"
   ]
  },
  {
   "cell_type": "code",
   "execution_count": null,
   "id": "05ac13dd-3d3b-479d-bec8-51949aba40f3",
   "metadata": {},
   "outputs": [],
   "source": [
    "a = not 0"
   ]
  },
  {
   "cell_type": "code",
   "execution_count": null,
   "id": "88092423-ce9f-4e04-a93e-ae4eddb07c23",
   "metadata": {},
   "outputs": [],
   "source": [
    "a"
   ]
  },
  {
   "cell_type": "markdown",
   "id": "49599bd7-2ede-436f-9c5c-0748c57eb5c9",
   "metadata": {
    "jp-MarkdownHeadingCollapsed": true,
    "tags": []
   },
   "source": [
    "## Random"
   ]
  },
  {
   "cell_type": "code",
   "execution_count": null,
   "id": "a302de85-5cfd-4204-8ec3-9f3377655168",
   "metadata": {},
   "outputs": [],
   "source": [
    "np.random.seed(123)\n",
    "np.random.rand()  # deprecated"
   ]
  },
  {
   "cell_type": "code",
   "execution_count": null,
   "id": "fc8d734c-f8db-4061-a75e-9ffaea0dcdda",
   "metadata": {},
   "outputs": [],
   "source": [
    "rng = np.random.default_rng(123)\n",
    "rng.random()"
   ]
  },
  {
   "cell_type": "code",
   "execution_count": null,
   "id": "ed441c31-7bd2-431e-aab9-84f936e36129",
   "metadata": {},
   "outputs": [],
   "source": [
    "rng = np.random.default_rng(123)\n",
    "np.random.default_rng(rng).random()  # test: passing a generator to .default_rng should return the same generator"
   ]
  },
  {
   "cell_type": "code",
   "execution_count": null,
   "id": "6b177457-a255-4d92-a401-28671bb71248",
   "metadata": {},
   "outputs": [],
   "source": [
    "rng == np.random.default_rng(rng)"
   ]
  },
  {
   "cell_type": "code",
   "execution_count": null,
   "id": "b2b4b223-0c52-4e91-a7bf-fedde5571440",
   "metadata": {},
   "outputs": [],
   "source": [
    "rng == np.random.default_rng(123)"
   ]
  },
  {
   "cell_type": "code",
   "execution_count": null,
   "id": "ee61fa24-9153-4e54-a1ae-fcd8969dad19",
   "metadata": {},
   "outputs": [],
   "source": [
    "rng2 = np.random.default_rng(123)"
   ]
  },
  {
   "cell_type": "code",
   "execution_count": null,
   "id": "a3bf4286-9e0f-41a1-af88-a6e69cc76767",
   "metadata": {},
   "outputs": [],
   "source": [
    "rng.random(10)[:-1] == rng2.random(10)[1:]  # the next 9 outputs of the first generator are the 2nd-10th output of the fresh one"
   ]
  },
  {
   "cell_type": "code",
   "execution_count": null,
   "id": "c3232083-5df3-4437-a837-7624b37b4773",
   "metadata": {},
   "outputs": [],
   "source": [
    "%%timeit\n",
    "\n",
    "[rng.uniform(-1, 1) for _ in range(0, 10)]"
   ]
  },
  {
   "cell_type": "code",
   "execution_count": null,
   "id": "b8263878-188a-415e-879f-898d1de528c4",
   "metadata": {},
   "outputs": [],
   "source": [
    "%%timeit\n",
    "\n",
    "rng.uniform(-1, 1, 10)"
   ]
  },
  {
   "cell_type": "code",
   "execution_count": null,
   "id": "00eca818-fdf2-44f6-b6ba-46af6e63ecab",
   "metadata": {},
   "outputs": [],
   "source": [
    "[rng.uniform(-1, 1) for _ in range(0, 10)]"
   ]
  },
  {
   "cell_type": "code",
   "execution_count": null,
   "id": "1e150288-0a40-4086-9b5b-9f4cd7e3238e",
   "metadata": {},
   "outputs": [],
   "source": [
    "rng.uniform(-1, 1, 10)"
   ]
  },
  {
   "cell_type": "markdown",
   "id": "64db5939-bb0b-4ca8-994f-ccb174e3235f",
   "metadata": {
    "tags": []
   },
   "source": [
    "# Data generation"
   ]
  },
  {
   "cell_type": "code",
   "execution_count": null,
   "id": "15dfcf4e-3e5b-40a4-9e78-fd5dea4bbb11",
   "metadata": {
    "tags": []
   },
   "outputs": [],
   "source": [
    "deltas = [0.01, 0.02, 0.03, 0.04, 0.05, 0.06, 0.07, 0.08, 0.09, 0.1, 0.11, 0.12, 0.13, 0.14, 0.15]#, 0.2, 0.25, 0.3, 0.4, 0.5]"
   ]
  },
  {
   "cell_type": "code",
   "execution_count": null,
   "id": "8b69f517-0146-4857-aebb-ed09541c93a0",
   "metadata": {
    "tags": []
   },
   "outputs": [],
   "source": [
    "combos = {\n",
    "    \"passive_RI\": [1.35],\n",
    "    \"incident_medium_RI\": [1.35],\n",
    "    \"exit_medium_RI\": [1.35],\n",
    "    \"N\": [1e26],\n",
    "    \"permittivity\": [2.2],\n",
    "    \"lorentz_resonance_wavelength\": [680],\n",
    "    \"lorentz_linewidth\": [7.5e13],\n",
    "    \"num_periods\": np.arange(5, 30, 5),\n",
    "    \"passive_layer_thickness\": np.arange(150, 301, 10),\n",
    "    \"excitonic_layer_thickness\": np.arange(10, 81, 10),\n",
    "    \"remove_last_layer\": [0], # True/False are not compatible with netCDF format\n",
    "}"
   ]
  },
  {
   "cell_type": "code",
   "execution_count": null,
   "id": "8f66614f-151b-492b-a8ff-5540fff870af",
   "metadata": {
    "tags": []
   },
   "outputs": [],
   "source": [
    "combos_with_delta = {d: combos|{\"delta\": [d]} for d in deltas}"
   ]
  },
  {
   "cell_type": "code",
   "execution_count": null,
   "id": "903112e0-cb79-4ebc-bfaf-f857b24368c9",
   "metadata": {},
   "outputs": [],
   "source": [
    "# combos_with_delta[0.1]"
   ]
  },
  {
   "cell_type": "markdown",
   "id": "3a2f9362-645d-4bb4-87ae-f582ba637d6c",
   "metadata": {
    "tags": []
   },
   "source": [
    "## Layer thicknesses"
   ]
  },
  {
   "cell_type": "markdown",
   "id": "b615f0a6-2598-4946-8a3c-9f831ee9cf7c",
   "metadata": {
    "jp-MarkdownHeadingCollapsed": true,
    "tags": []
   },
   "source": [
    "### LOPC simulation"
   ]
  },
  {
   "cell_type": "code",
   "execution_count": null,
   "id": "a20414ed-6126-44b6-bdba-22b42461f250",
   "metadata": {},
   "outputs": [],
   "source": [
    "# for k, v in combos_with_delta[0.1].items():\n",
    "#     print(f\"{k}: length {len(v)}\")"
   ]
  },
  {
   "cell_type": "code",
   "execution_count": null,
   "id": "3d5d2ceb-7d66-4366-b9b2-495a952c9092",
   "metadata": {},
   "outputs": [],
   "source": [
    "# estimate_combo_run_time(9, combos)/3600"
   ]
  },
  {
   "cell_type": "code",
   "execution_count": null,
   "id": "d3c1c4a5-a790-4efb-8706-6a0d06686553",
   "metadata": {},
   "outputs": [],
   "source": [
    "# deltas used (in order, by value): [0.1, 0.01, 0.02, 0.03, 0.04]\n",
    "# seed: 20182023"
   ]
  },
  {
   "cell_type": "code",
   "execution_count": null,
   "id": "13c53afb-b718-40ff-8752-ff58f5f00ae1",
   "metadata": {
    "tags": []
   },
   "outputs": [],
   "source": [
    "# with warnings.catch_warnings():\n",
    "#     warnings.filterwarnings(\"ignore\", \"Can't deepcopy\")\n",
    "#     h_lopc.harvest_combos(combos_with_delta[0.1])"
   ]
  },
  {
   "cell_type": "code",
   "execution_count": null,
   "id": "8de18056-0eda-438e-87a1-156737f12ed1",
   "metadata": {
    "tags": []
   },
   "outputs": [],
   "source": [
    "# with warnings.catch_warnings():\n",
    "#     warnings.filterwarnings(\"ignore\", \"Can't deepcopy\")\n",
    "#     h_lopc.harvest_combos(combos_with_delta[0.01])"
   ]
  },
  {
   "cell_type": "code",
   "execution_count": null,
   "id": "b741daba-81d0-44a8-aee2-aea8a4a880ba",
   "metadata": {
    "tags": []
   },
   "outputs": [],
   "source": [
    "# with warnings.catch_warnings():\n",
    "#     warnings.filterwarnings(\"ignore\", \"Can't deepcopy\")\n",
    "#     h_lopc.harvest_combos(combos_with_delta[0.02])"
   ]
  },
  {
   "cell_type": "code",
   "execution_count": null,
   "id": "f5270224-d0dd-40c6-a9e4-4fa021b37ebf",
   "metadata": {
    "tags": []
   },
   "outputs": [],
   "source": [
    "# with warnings.catch_warnings():\n",
    "#     warnings.filterwarnings(\"ignore\", \"Can't deepcopy\")\n",
    "#     h_lopc.harvest_combos(combos_with_delta[0.03])"
   ]
  },
  {
   "cell_type": "code",
   "execution_count": null,
   "id": "057be6d2-0453-4bc5-9a65-0e34de6f1213",
   "metadata": {
    "tags": []
   },
   "outputs": [],
   "source": [
    "# with warnings.catch_warnings():\n",
    "#     warnings.filterwarnings(\"ignore\", \"Can't deepcopy\")\n",
    "#     h_lopc.harvest_combos(combos_with_delta[0.04])"
   ]
  },
  {
   "cell_type": "code",
   "execution_count": null,
   "id": "641038f2-efb3-425d-8132-2daad23333a8",
   "metadata": {},
   "outputs": [],
   "source": [
    "# h_lopc.last_ds.to_netcdf(path=f\"data/run_{run_number}/LOPC_004.nc\", engine=xarray_engine, invalid_netcdf=True)"
   ]
  },
  {
   "cell_type": "code",
   "execution_count": null,
   "id": "cb67bba2-6ae0-4f30-91fe-c05933c47841",
   "metadata": {},
   "outputs": [],
   "source": [
    "# deltas used (in order, by value): [0.05, 0.06, 0.07, 0.08, 0.09]\n",
    "# seed: 20182023106-20182023110"
   ]
  },
  {
   "cell_type": "code",
   "execution_count": null,
   "id": "3fe425c2-dc00-4b81-b394-6d554abbccac",
   "metadata": {},
   "outputs": [],
   "source": [
    "# rngs = [np.random.default_rng(seed=20182023102+i) for i in range(4, 9)]"
   ]
  },
  {
   "cell_type": "code",
   "execution_count": null,
   "id": "52680527-665a-4e4e-8c1f-2f33eac92d83",
   "metadata": {},
   "outputs": [],
   "source": [
    "[deltas[i] for i in range(4,9)]"
   ]
  },
  {
   "cell_type": "code",
   "execution_count": null,
   "id": "498391ac-f043-4dc8-a8a1-5be0f5904e63",
   "metadata": {},
   "outputs": [],
   "source": [
    "# runners = [\n",
    "#     xyz.Runner(\n",
    "#         lopc_data,\n",
    "#         var_names=None,\n",
    "#         constants=constants,\n",
    "#         resources=resources | {\"rng\": rngs[i]},\n",
    "#     )\n",
    "#     for i in range(5)\n",
    "# ]"
   ]
  },
  {
   "cell_type": "code",
   "execution_count": null,
   "id": "efa466e7-2f97-496f-a1a4-67d43c19d1b1",
   "metadata": {},
   "outputs": [],
   "source": [
    "# harvesters = [xyz.Harvester(runner=runners[i], data_name=f\"data/run_{run_number}/LOPC_00{i+5}.nc\") for i in range(5)]"
   ]
  },
  {
   "cell_type": "code",
   "execution_count": null,
   "id": "dd78ea0a-2287-4043-b92d-0f2e8dc98007",
   "metadata": {},
   "outputs": [],
   "source": [
    "combos_with_delta[deltas[1+4]]"
   ]
  },
  {
   "cell_type": "code",
   "execution_count": null,
   "id": "ab21dba0-710a-41a6-9cce-2b4e8f1ae666",
   "metadata": {
    "tags": []
   },
   "outputs": [],
   "source": [
    "# # only completed the first loop\n",
    "# with warnings.catch_warnings():\n",
    "#     warnings.filterwarnings(\"ignore\", \"Can't deepcopy\")\n",
    "#     for i in range(5):\n",
    "#         harvesters[i].harvest_combos(combos_with_delta[deltas[i+4]])"
   ]
  },
  {
   "cell_type": "code",
   "execution_count": null,
   "id": "e6608dab-74db-43bd-a141-caacb577945a",
   "metadata": {
    "tags": []
   },
   "outputs": [],
   "source": [
    "# # loops 2-5\n",
    "# with warnings.catch_warnings():\n",
    "#     warnings.filterwarnings(\"ignore\", \"Can't deepcopy\")\n",
    "#     for i in range(1, 5):\n",
    "#         harvesters[i].harvest_combos(combos_with_delta[deltas[i+4]])"
   ]
  },
  {
   "cell_type": "code",
   "execution_count": null,
   "id": "8e0d7c14-545d-4121-be8c-74794c3b8fa5",
   "metadata": {},
   "outputs": [],
   "source": [
    "# deltas used (in order, by value): [0.11, 0.12, 0.13, 0.14, 0.15]\n",
    "# seed: 20182023112-20182023116"
   ]
  },
  {
   "cell_type": "code",
   "execution_count": null,
   "id": "7cc780ba-dbae-4ed9-b90d-1e578196c4c8",
   "metadata": {},
   "outputs": [],
   "source": [
    "# rngs = [np.random.default_rng(seed=20182023102+i) for i in range(10, 15)]"
   ]
  },
  {
   "cell_type": "code",
   "execution_count": null,
   "id": "f5f5a5dd-83d4-42f2-85f4-fd0b50552c11",
   "metadata": {},
   "outputs": [],
   "source": [
    "# runners = [\n",
    "#     xyz.Runner(\n",
    "#         lopc_data,\n",
    "#         var_names=None,\n",
    "#         constants=constants,\n",
    "#         resources=resources | {\"rng\": rngs[i]},\n",
    "#     )\n",
    "#     for i in range(5)\n",
    "# ]"
   ]
  },
  {
   "cell_type": "code",
   "execution_count": null,
   "id": "9ba03697-ec4d-4862-adff-044ea31c1e4d",
   "metadata": {},
   "outputs": [],
   "source": [
    "# harvesters = [xyz.Harvester(runner=runners[i], data_name=f\"data/run_{run_number}/LOPC_01{i+1}.nc\") for i in range(5)]"
   ]
  },
  {
   "cell_type": "code",
   "execution_count": null,
   "id": "b183e5a6-1076-48f7-9a5e-a3b528411103",
   "metadata": {
    "tags": []
   },
   "outputs": [],
   "source": [
    "# with warnings.catch_warnings():\n",
    "#     warnings.filterwarnings(\"ignore\", \"Can't deepcopy\")\n",
    "#     for i in range(5):\n",
    "#         harvesters[i].harvest_combos(combos_with_delta[deltas[i+10]])"
   ]
  },
  {
   "cell_type": "markdown",
   "id": "7fa8c648-c7a4-495c-bee7-5f2b1369033a",
   "metadata": {},
   "source": [
    "How embarrasing, I forgot that `np.arange(5, 30, 5)` doesn't include 30 itself, so I need to do those runs separately:"
   ]
  },
  {
   "cell_type": "code",
   "execution_count": null,
   "id": "82265e53-882a-4450-b495-d2a032b88fa9",
   "metadata": {
    "tags": []
   },
   "outputs": [],
   "source": [
    "# rngs = [np.random.default_rng(seed=201820231111+i) for i in range(len(deltas))]"
   ]
  },
  {
   "cell_type": "code",
   "execution_count": null,
   "id": "79fd6ec8-8f0d-444c-ade3-d11bd142a9d1",
   "metadata": {
    "tags": []
   },
   "outputs": [],
   "source": [
    "# runners = [\n",
    "#     xyz.Runner(\n",
    "#         lopc_data,\n",
    "#         var_names=None,\n",
    "#         constants=constants,\n",
    "#         resources=resources | {\"rng\": the_rng},\n",
    "#     )\n",
    "#     for the_rng in rngs\n",
    "# ]"
   ]
  },
  {
   "cell_type": "code",
   "execution_count": null,
   "id": "5d2019bd-a4b3-4e4e-823e-ec34ac187f34",
   "metadata": {
    "tags": []
   },
   "outputs": [],
   "source": [
    "# with warnings.catch_warnings():\n",
    "#     warnings.filterwarnings(\"ignore\", \"Can't deepcopy\")\n",
    "#     for r, d in zip(runners, deltas):\n",
    "#         h_lopc = xyz.Harvester(runner=r, data_name=f\"data/run_{run_number}/LOPC_N30_{str(d).replace('.', '')}.nc\")\n",
    "#         h_lopc.harvest_combos(combos|{\"num_periods\": [30], \"delta\": [d]})"
   ]
  },
  {
   "cell_type": "code",
   "execution_count": null,
   "id": "41bbd9cb-b970-4f7a-aad7-b592b4839342",
   "metadata": {},
   "outputs": [],
   "source": [
    "# ds = h_lopc.full_ds.copy()"
   ]
  },
  {
   "cell_type": "markdown",
   "id": "37f19e7b-78e4-4cd6-860a-568233a0bf02",
   "metadata": {
    "tags": []
   },
   "source": [
    "### Load LOPC dataset"
   ]
  },
  {
   "cell_type": "code",
   "execution_count": null,
   "id": "151fe1d1-1543-472b-8e06-4a1bc1ccca02",
   "metadata": {},
   "outputs": [],
   "source": [
    "# # chunks for per-angle plots\n",
    "# chunks = {\n",
    "#     \"frequency\": 256,\n",
    "#     \"excitonic_layer_thickness\": 16,\n",
    "#     \"passive_layer_thickness\": 32,\n",
    "#     \"theta\": 1,\n",
    "#     \"num_periods\": 16,\n",
    "# }"
   ]
  },
  {
   "cell_type": "code",
   "execution_count": null,
   "id": "75b06b1d-235d-49b0-aa65-6cc0a2090fd1",
   "metadata": {
    "tags": []
   },
   "outputs": [],
   "source": [
    "# chunks for plotting or integrating over angle\n",
    "chunks = {\n",
    "    \"frequency\": 256,\n",
    "    \"excitonic_layer_thickness\": 8,\n",
    "    \"passive_layer_thickness\": 16,\n",
    "    \"theta\": 16,\n",
    "    \"num_periods\": 5,\n",
    "    \"delta\": 1,\n",
    "}"
   ]
  },
  {
   "cell_type": "markdown",
   "id": "44c0db60-4565-45c8-b284-5c4936f380ef",
   "metadata": {
    "jp-MarkdownHeadingCollapsed": true,
    "tags": []
   },
   "source": [
    "#### Maths to work out good chunk sizes"
   ]
  },
  {
   "cell_type": "code",
   "execution_count": null,
   "id": "628bdc77-06fa-438a-bc2d-92e44a67e5f6",
   "metadata": {},
   "outputs": [],
   "source": [
    "def chunk_size(chunks):\n",
    "    return np.prod(list(chunks.values()))"
   ]
  },
  {
   "cell_type": "code",
   "execution_count": null,
   "id": "a1262744-e7d2-486a-81bb-903b506909e4",
   "metadata": {},
   "outputs": [],
   "source": [
    "# Number of chunks\n",
    "(combo_length(combos)*256*64) / chunk_size(chunks)"
   ]
  },
  {
   "cell_type": "code",
   "execution_count": null,
   "id": "55a546e7-00da-440d-94a0-881b43b62752",
   "metadata": {},
   "outputs": [],
   "source": [
    "# Do chunks contain at least a million data points?\n",
    "chunk_size(chunks)/1e6"
   ]
  },
  {
   "cell_type": "markdown",
   "id": "42850aba-5c6d-4b7f-8e5d-bfa2cd912dd9",
   "metadata": {},
   "source": [
    "####"
   ]
  },
  {
   "cell_type": "code",
   "execution_count": null,
   "id": "314d4df3-2a24-4c5d-bc95-c8d794c229b8",
   "metadata": {
    "tags": []
   },
   "outputs": [],
   "source": [
    "# ds_short = xr.open_mfdataset(\n",
    "#     [\n",
    "#         f\"data/run_{run_number}/LOPC.nc\",\n",
    "#         f\"data/run_{run_number}/LOPC_004.nc\",\n",
    "#         f\"data/run_{run_number}/LOPC_005.nc\",\n",
    "#         f\"data/run_{run_number}/LOPC_006.nc\",\n",
    "#         f\"data/run_{run_number}/LOPC_007.nc\",\n",
    "#         f\"data/run_{run_number}/LOPC_008.nc\",\n",
    "#         f\"data/run_{run_number}/LOPC_009.nc\",\n",
    "#         f\"data/run_{run_number}/LOPC_011.nc\",\n",
    "#         f\"data/run_{run_number}/LOPC_012.nc\",\n",
    "#         f\"data/run_{run_number}/LOPC_013.nc\",\n",
    "#         f\"data/run_{run_number}/LOPC_014.nc\",\n",
    "#         f\"data/run_{run_number}/LOPC_015.nc\",\n",
    "#     ],\n",
    "#     concat_dim=\"delta\",\n",
    "#     combine=\"nested\",\n",
    "#     engine=xarray_engine,\n",
    "#     lock=False,\n",
    "#     chunks=chunks,\n",
    "# )"
   ]
  },
  {
   "cell_type": "code",
   "execution_count": null,
   "id": "fcaa3c52-3632-4b8e-bf51-c3d4cf047d12",
   "metadata": {
    "tags": []
   },
   "outputs": [],
   "source": [
    "# ds_long = xr.open_mfdataset(\n",
    "#     f\"data/run_{run_number}/LOPC_N30_*.nc\",\n",
    "#     concat_dim=\"delta\",\n",
    "#     combine=\"nested\",\n",
    "#     engine=xarray_engine,\n",
    "#     lock=False,\n",
    "#     chunks=chunks,\n",
    "# )"
   ]
  },
  {
   "cell_type": "code",
   "execution_count": null,
   "id": "bbe02ae2-3253-4d11-8bbc-ec427a5bdb95",
   "metadata": {
    "tags": []
   },
   "outputs": [],
   "source": [
    "# # sort delta values and save as one aggregated file\n",
    "# ds = xr.concat([ds_short.sortby(\"delta\"), ds_long], dim=\"num_periods\")\n",
    "# ds.to_netcdf(f\"data/run_199/LOPC_aggregated.nc\", engine=xarray_engine)"
   ]
  },
  {
   "cell_type": "markdown",
   "id": "f1169074-bcf5-4b09-a905-1bffd28534f3",
   "metadata": {},
   "source": [
    "Note: to save disk space, all generated data in `run_111` has been deleted. It's all in `run_199` now anyway."
   ]
  },
  {
   "cell_type": "code",
   "execution_count": null,
   "id": "beac4002-6336-40bf-9333-babef48a3ad0",
   "metadata": {
    "tags": []
   },
   "outputs": [],
   "source": [
    "ds = xr.open_mfdataset(\n",
    "    f\"data/run_199/LOPC_aggregated.nc\",    \n",
    "    engine=xarray_engine,\n",
    "    lock=False,\n",
    "    chunks=chunks,\n",
    ")"
   ]
  },
  {
   "cell_type": "code",
   "execution_count": null,
   "id": "c9665736-8358-4445-9d4d-c4b467b24a0c",
   "metadata": {},
   "outputs": [],
   "source": [
    "indexer_from_disorder_ds = partial(indexer_from_dataset, drop=[\"delta\"])"
   ]
  },
  {
   "cell_type": "code",
   "execution_count": null,
   "id": "6fd82a59-7274-44f9-aaf3-4292f6f0fbd3",
   "metadata": {},
   "outputs": [],
   "source": [
    "periodic_ds = xr.open_mfdataset(\n",
    "    f\"data/run_{undisordered_run_number}/LOPC.nc\",\n",
    "    engine=xarray_engine,\n",
    "    lock=False,\n",
    "    chunks=chunks,\n",
    ")"
   ]
  },
  {
   "cell_type": "code",
   "execution_count": null,
   "id": "431cd045-17b1-4426-8af3-3e108b121a7b",
   "metadata": {},
   "outputs": [],
   "source": [
    "# loading the data into memory saves times later\n",
    "pds = periodic_ds.sel(indexer_from_disorder_ds(ds)).load()"
   ]
  },
  {
   "cell_type": "code",
   "execution_count": null,
   "id": "9c5e1d7e-544f-407a-8706-1476b79980a3",
   "metadata": {},
   "outputs": [],
   "source": [
    "ds = xr.concat([pds.expand_dims(delta = [0.0], axis=-3), ds], dim=\"delta\")"
   ]
  },
  {
   "cell_type": "code",
   "execution_count": null,
   "id": "9483d9fe-09d1-40db-9581-d9595bf81e52",
   "metadata": {},
   "outputs": [],
   "source": [
    "# add derived attrs\n",
    "ds = assign_derived_attrs(ds, per_oscillator=[\"Rs\", \"Rp\", \"R\", \"Ts\", \"Tp\", \"T\", \"As\", \"Ap\", \"A\"])\n",
    "# ds"
   ]
  },
  {
   "cell_type": "code",
   "execution_count": null,
   "id": "03297b5f-feba-433b-baa4-210d0c5e8e9c",
   "metadata": {},
   "outputs": [],
   "source": [
    "restack_plt_to_period = partial(\n",
    "    restack,\n",
    "    start_idxs=[\"passive_layer_thickness\", \"excitonic_layer_thickness\"],\n",
    "    end_idxs=[\"period\", \"excitonic_layer_thickness\"],\n",
    ")"
   ]
  },
  {
   "cell_type": "code",
   "execution_count": null,
   "id": "06657c0b-928e-47f7-a2ef-1b154646ddf1",
   "metadata": {},
   "outputs": [],
   "source": [
    "# with dask.config.set(**{'array.slicing.split_large_chunks': False}):\n",
    "restacked_ds = restack_plt_to_period(ds)"
   ]
  },
  {
   "cell_type": "code",
   "execution_count": null,
   "id": "b244eb75-3884-401f-89f6-d7fdc3ab77af",
   "metadata": {},
   "outputs": [],
   "source": [
    "# add derived attrs\n",
    "pds = assign_derived_attrs(pds, per_oscillator=[\"Rs\", \"Rp\", \"R\", \"Ts\", \"Tp\", \"T\", \"As\", \"Ap\", \"A\"])"
   ]
  },
  {
   "cell_type": "code",
   "execution_count": null,
   "id": "c93176aa-d7b4-4bb5-8ae3-19b16416572b",
   "metadata": {},
   "outputs": [],
   "source": [
    "restacked_pds = restack_plt_to_period(pds)"
   ]
  },
  {
   "cell_type": "markdown",
   "id": "6a440b41-98a0-47fc-93bf-04366512164b",
   "metadata": {
    "jp-MarkdownHeadingCollapsed": true,
    "tags": []
   },
   "source": [
    "### Load reference slab dataset"
   ]
  },
  {
   "cell_type": "code",
   "execution_count": null,
   "id": "f32ffb72-edbd-4556-a57e-340f25249931",
   "metadata": {},
   "outputs": [],
   "source": [
    "# useful variables\n",
    "total_excitonic_thicknesses = np.unique(ds.total_excitonic_thickness)\n",
    "total_passive_thicknesses = np.unique(ds.total_passive_thickness)\n",
    "total_thicknesses = np.unique(ds.total_thickness)"
   ]
  },
  {
   "cell_type": "code",
   "execution_count": null,
   "id": "bcc125ce-457b-4f0f-bdf0-666e7eea6ace",
   "metadata": {
    "tags": []
   },
   "outputs": [],
   "source": [
    "ref = xr.open_mfdataset(\n",
    "    f\"data/run_{undisordered_run_number}/ref.nc\",\n",
    "    engine=xarray_engine,\n",
    "    lock=False,\n",
    "    # chunks={'theta': 16},\n",
    ")"
   ]
  },
  {
   "cell_type": "markdown",
   "id": "1da80b77-a813-43ba-b4a7-3756b844eb60",
   "metadata": {},
   "source": [
    "Note: `period=False` is an important option because otherwise it ends up a coordinate of `total_excitonic_thickness` and causes a conflict after binary operations with `ds`."
   ]
  },
  {
   "cell_type": "code",
   "execution_count": null,
   "id": "c15ff37e-b180-440c-b2d1-6f921ea3e7d7",
   "metadata": {},
   "outputs": [],
   "source": [
    "ref = assign_derived_attrs(ref, period=False, total_excitonic_thickness=False, total_passive_thickness=False, total_thickness=False)\n",
    "# ref"
   ]
  },
  {
   "cell_type": "code",
   "execution_count": null,
   "id": "a6e70e08-e87b-4223-9db0-c5b5fa827d6d",
   "metadata": {
    "tags": []
   },
   "outputs": [],
   "source": [
    "# compressed reference slab without passive layer\n",
    "crs_1 = (\n",
    "    ref.sel(\n",
    "        remove_last_layer=1,\n",
    "        passive_layer_thickness=0,\n",
    "        excitonic_layer_thickness=total_excitonic_thicknesses,\n",
    "        drop=True,\n",
    "    )\n",
    "    .squeeze(drop=True)\n",
    "    .rename(excitonic_layer_thickness=\"total_excitonic_thickness\")\n",
    "    .load()\n",
    ")\n",
    "\n",
    "# # compressed reference slab with the passive layer at the end\n",
    "# crs_0 = (\n",
    "#     ref.sel(\n",
    "#         remove_last_layer=0,\n",
    "#         passive_layer_thickness=total_passive_thicknesses,\n",
    "#         excitonic_layer_thickness=total_excitonic_thicknesses,\n",
    "#         drop=True,\n",
    "#     )\n",
    "#     .squeeze(drop=True)\n",
    "#     .rename(\n",
    "#         excitonic_layer_thickness=\"total_excitonic_thickness\",\n",
    "#         passive_layer_thickness=\"total_passive_thickness\",\n",
    "#     )\n",
    "# )"
   ]
  },
  {
   "cell_type": "markdown",
   "id": "8851201e-0bdb-416d-97da-53284969dcab",
   "metadata": {
    "tags": []
   },
   "source": [
    "### Calculate derived variables"
   ]
  },
  {
   "cell_type": "markdown",
   "id": "89196a08-24c8-429a-999f-056535aeb21d",
   "metadata": {
    "tags": []
   },
   "source": [
    "#### Normalise by CRS"
   ]
  },
  {
   "cell_type": "code",
   "execution_count": null,
   "id": "7686baf4-4dde-4d56-b04e-31d992d18129",
   "metadata": {},
   "outputs": [],
   "source": [
    "with dask.config.set(**{'array.slicing.split_large_chunks': False}):\n",
    "    norm_1 = enhancement_factor(ds, ref=crs_1, common_dim=\"total_excitonic_thickness\", method=\"groupby\")"
   ]
  },
  {
   "cell_type": "code",
   "execution_count": null,
   "id": "3587e4ff-c78b-4b86-bbdf-3523553c30a4",
   "metadata": {},
   "outputs": [],
   "source": [
    "with dask.config.set(**{'array.slicing.split_large_chunks': False}):\n",
    "    restacked_norm_1 = restack_plt_to_period(norm_1)"
   ]
  },
  {
   "cell_type": "markdown",
   "id": "d03c76c6-88b6-4202-b9c6-5f72182c4087",
   "metadata": {
    "tags": []
   },
   "source": [
    "#### Difference with CRS"
   ]
  },
  {
   "cell_type": "code",
   "execution_count": null,
   "id": "17fb4934-7c20-4bfd-ac6e-972c6186039e",
   "metadata": {},
   "outputs": [],
   "source": [
    "with dask.config.set(**{'array.slicing.split_large_chunks': False}):\n",
    "    gb_tet = ds.groupby('total_excitonic_thickness')"
   ]
  },
  {
   "cell_type": "code",
   "execution_count": null,
   "id": "451510de-34b8-4dc7-889e-129fac3241e2",
   "metadata": {
    "tags": []
   },
   "outputs": [],
   "source": [
    "# 'biology' absorptance enhancement factor: normalise by reference slab type 1: compressed reference slab w/o passive layer\n",
    "diff_1 = gb_tet - crs_1"
   ]
  },
  {
   "cell_type": "code",
   "execution_count": null,
   "id": "fcae433c-8faa-4952-a0d7-25290d8c1041",
   "metadata": {},
   "outputs": [],
   "source": [
    "# diff_1 = assign_derived_attrs(\n",
    "#     dataset=diff_1,\n",
    "#     unpolarised=True,\n",
    "#     absorption=False,\n",
    "#     period=False,\n",
    "#     total_excitonic_thickness=False,\n",
    "#     total_passive_thickness=False,\n",
    "#     total_thickness=False,\n",
    "#     N_tot=False,\n",
    "#     per_oscillator=[\"Rs\", \"Rp\", \"R\", \"Ts\", \"Tp\", \"T\", \"As\", \"Ap\", \"A\"],\n",
    "# )"
   ]
  },
  {
   "cell_type": "code",
   "execution_count": null,
   "id": "87771e9f-f20d-4cbd-9800-79bd1dcd0452",
   "metadata": {},
   "outputs": [],
   "source": [
    "with dask.config.set(**{'array.slicing.split_large_chunks': False}):\n",
    "    restacked_diff_1 = restack_plt_to_period(diff_1)"
   ]
  },
  {
   "cell_type": "markdown",
   "id": "132d07a3-a963-4ead-9c48-c4ae90515dff",
   "metadata": {
    "tags": []
   },
   "source": [
    "# Plots"
   ]
  },
  {
   "cell_type": "code",
   "execution_count": null,
   "id": "e44814e4-d9dc-4e31-8b35-b368eb19c5a9",
   "metadata": {},
   "outputs": [],
   "source": [
    "unpolarised_RTA = [\"R\", \"T\", \"A\"]\n",
    "s_polarised_RTA = [\"Rs\", \"Ts\", \"As\"]\n",
    "reflectance = [\"Rs\", \"Rp\", \"R\"]\n",
    "transmittance = [\"Ts\", \"Tp\", \"T\"]\n",
    "absorptance = [\"As\", \"Ap\", \"A\"]\n",
    "per_oscillator_RTA = [\"R_per_oscillator\", \"T_per_oscillator\", \"A_per_oscillator\"]"
   ]
  },
  {
   "cell_type": "code",
   "execution_count": null,
   "id": "c0f34056-2902-4b1a-8458-4e84dd8b8d0d",
   "metadata": {},
   "outputs": [],
   "source": [
    "# WARNING: all these datasets will be fundamentally changed after this cell, to the extent that it can't be run twice\n",
    "# For consistency, keep important calculations in the preceding section!\n",
    "ds = pre_process_for_plots(ds)\n",
    "restacked_ds = pre_process_for_plots(restacked_ds)\n",
    "pds = pre_process_for_plots(pds)\n",
    "restacked_pds = pre_process_for_plots(restacked_pds)\n",
    "ref = pre_process_for_plots(ref)\n",
    "crs_1 = pre_process_for_plots(crs_1)\n",
    "norm_1 = pre_process_for_plots(norm_1)\n",
    "restacked_norm_1 = pre_process_for_plots(restacked_norm_1)\n",
    "diff_1 = pre_process_for_plots(diff_1)\n",
    "restacked_diff_1 = pre_process_for_plots(restacked_diff_1)"
   ]
  },
  {
   "cell_type": "code",
   "execution_count": null,
   "id": "b6b1a6dd-4610-4dac-ac40-1fed782164c9",
   "metadata": {},
   "outputs": [],
   "source": [
    "for c in ds.coords.values():\n",
    "    print(c.attrs)"
   ]
  },
  {
   "cell_type": "code",
   "execution_count": null,
   "id": "bc8c8681-e10f-4bfe-97c9-8bf9de493e59",
   "metadata": {},
   "outputs": [],
   "source": [
    "period_dim = hv.Dimension(\"period\", label=\"Λ\", unit=\"nm\")\n",
    "wavelength_dim = hv.Dimension(\"wavelength\", label=\"λ\", unit=\"nm\")\n",
    "real_index_dim = hv.Dimension(\"n\")\n",
    "imag_index_dim = hv.Dimension(\"k\", label=\"ϰ\")"
   ]
  },
  {
   "cell_type": "markdown",
   "id": "338aee4b-9f7f-48b3-b0cd-23480039c097",
   "metadata": {
    "tags": []
   },
   "source": [
    "### Useful lines"
   ]
  },
  {
   "cell_type": "markdown",
   "id": "dd201642-45db-4f52-b191-6d7720056e72",
   "metadata": {
    "tags": []
   },
   "source": [
    "#### Function to do linewidth maths"
   ]
  },
  {
   "cell_type": "code",
   "execution_count": null,
   "id": "62b54c6d-b69f-4134-b059-4765eb987ed5",
   "metadata": {},
   "outputs": [],
   "source": [
    "def linewidth_calculator_factory(centre, linewidth):\n",
    "    return partial(linewidth_calculator, centre=centre, linewidth=linewidth)"
   ]
  },
  {
   "cell_type": "markdown",
   "id": "c837773f-55ac-4153-b1c0-9cfc9064e164",
   "metadata": {
    "tags": []
   },
   "source": [
    "#### Lorentz lines"
   ]
  },
  {
   "cell_type": "markdown",
   "id": "a92879e7-f521-4651-8979-d441819c7e04",
   "metadata": {},
   "source": [
    "I want some sort of metric for 'near the resonance' and 'far from the resonance'. The natural unit of distance in this instance is the linewidth. The linewidth is given in rad/s so there need to be some conversions to get the equivalent lines in the plots by wavelength, but they are roughly symmetrical around the peak wavelength.\n",
    "\n",
    "Based on the plots of the refractive index below, I think I will consider 'near' to be 'within two linewidths', and 'far' to be 'at least four linewidths away'."
   ]
  },
  {
   "cell_type": "code",
   "execution_count": null,
   "id": "2b3ed617-1ddd-4f46-b2f8-79aa5a8e574e",
   "metadata": {},
   "outputs": [],
   "source": [
    "# resonance_line = hv.VLine(680, label='LO resonance wavelength').opts(line_dash='dotted')\n",
    "\n",
    "# Convert from rad/s to Hz\n",
    "lorentz_linewidth_frequency = default_oscillator_params[\"lorentz_linewidth\"] / (2*np.pi)"
   ]
  },
  {
   "cell_type": "code",
   "execution_count": null,
   "id": "1ee6e467-3c45-4799-b36b-29144bf9a5c4",
   "metadata": {},
   "outputs": [],
   "source": [
    "lorentz_line_frequency = linewidth_calculator_factory(convert_wavelength_and_frequency(680e-9), lorentz_linewidth_frequency)\n",
    "\n",
    "def lorentz_line_wavelength(x=None):\n",
    "    x = -x if x is not None else x\n",
    "    return convert_wavelength_and_frequency(lorentz_line_frequency(x))"
   ]
  },
  {
   "cell_type": "code",
   "execution_count": null,
   "id": "760efdc6-e763-4ad1-9ffb-ab860e50c24b",
   "metadata": {},
   "outputs": [],
   "source": [
    "def lorentz_vlines(x=0, scale=1, mode='wavelength', **kwargs):\n",
    "    if mode == 'wavelength':\n",
    "        line_func = lorentz_line_wavelength\n",
    "    elif mode == 'frequency':\n",
    "        line_func = lorentz_line_frequency\n",
    "    else:\n",
    "        raise TypeError(f\"mode should be 'wavelength' or 'frequency', not {mode}\")\n",
    "        \n",
    "    match x:\n",
    "        case [*xs]:\n",
    "            line_pos = [line_func(x)/scale for x in xs]\n",
    "        case x:\n",
    "            line_pos = line_func(x)/scale\n",
    "            \n",
    "    return vlines(line_pos, **kwargs)"
   ]
  },
  {
   "cell_type": "markdown",
   "id": "74a469ba-86ee-41f3-8911-00331d3ec44d",
   "metadata": {
    "tags": []
   },
   "source": [
    "### Useful functions"
   ]
  },
  {
   "cell_type": "markdown",
   "id": "a0539869-9775-4f54-ac44-f1696cef6722",
   "metadata": {
    "tags": []
   },
   "source": [
    "#### Select a wavelength or wavelength range based on the distance from the resonance in linewidths."
   ]
  },
  {
   "cell_type": "code",
   "execution_count": null,
   "id": "107350a3-54a8-4308-9eff-e523cc33733b",
   "metadata": {},
   "outputs": [],
   "source": [
    "def select_lorentz_line(da, lorentz_line=0, window_radius=0):\n",
    "    if window_radius == 0:\n",
    "        wavelength = lorentz_line_wavelength(lorentz_line) * 1e9\n",
    "        wavelength_sel_method = \"nearest\"\n",
    "    else:\n",
    "        wavelength = slice(\n",
    "            lorentz_line_wavelength(lorentz_line - window_radius) * 1e9,\n",
    "            lorentz_line_wavelength(lorentz_line + window_radius) * 1e9,\n",
    "        )\n",
    "        wavelength_sel_method = None\n",
    "    da = da.sel(wavelength=wavelength, method=wavelength_sel_method)\n",
    "    \n",
    "    return da"
   ]
  },
  {
   "cell_type": "markdown",
   "id": "da96d960-9248-4984-9b52-f298a92af4cb",
   "metadata": {
    "tags": []
   },
   "source": [
    "#### Plot a comparison of the reflectance and absorptance of the LOPC with that of the reference slab."
   ]
  },
  {
   "cell_type": "code",
   "execution_count": null,
   "id": "f0f3cc25-253f-4f69-b5dc-a42af29fbf89",
   "metadata": {},
   "outputs": [],
   "source": [
    "opts_R = [opts.Curve(color=blue, ylim=(0,1)), opts.Image(cmap='viridis', clim=(0,1)), opts.QuadMesh(cmap='viridis', clim=(0,1))]\n",
    "\n",
    "def plot_R(variable=\"R\", dataset=None, label_field=\"long_name\", label_append=None, **hvplot_kwargs):\n",
    "    plot = plot_var(variable, dataset, label_field, label_append, **hvplot_kwargs)\n",
    "    plot.opts(*opts_R)\n",
    "    return plot\n",
    "\n",
    "# # test\n",
    "# plot_R(dataset=restacked_ds.sel(period=200, excitonic_layer_thickness=50, num_periods=10).squeeze(), x=\"wavelength\", y=\"theta\")"
   ]
  },
  {
   "cell_type": "code",
   "execution_count": null,
   "id": "76a09060-00e6-4fb4-ab03-d91ad0665e33",
   "metadata": {},
   "outputs": [],
   "source": [
    "opts_T = [opts.Curve(color=yellow, ylim=(0,1)), opts.Image(cmap='cividis', clim=(0,1)), opts.QuadMesh(cmap='cividis', clim=(0,1))]\n",
    "\n",
    "def plot_T(variable=\"T\", dataset=None, label_field=\"long_name\", label_append=None, **hvplot_kwargs):\n",
    "    plot = plot_var(variable, dataset, label_field, label_append, **hvplot_kwargs)\n",
    "    plot.opts(*opts_T)\n",
    "    return plot"
   ]
  },
  {
   "cell_type": "code",
   "execution_count": null,
   "id": "59d0480e-79f3-46cd-a2db-7f264cba68ba",
   "metadata": {},
   "outputs": [],
   "source": [
    "opts_A = [opts.Curve(color=red, ylim=(0,1)), opts.Image(cmap='inferno', clim=(0,1)), opts.QuadMesh(cmap='inferno', clim=(0,1))]\n",
    "\n",
    "def plot_A(variable=\"A\", dataset=None, label_field=\"long_name\", label_append=None, **hvplot_kwargs):\n",
    "    plot = plot_var(variable, dataset, label_field, label_append, **hvplot_kwargs)\n",
    "    plot.opts(*opts_A)\n",
    "    return plot"
   ]
  },
  {
   "cell_type": "code",
   "execution_count": null,
   "id": "7171ac3b-47cb-4f29-b700-73629eed0612",
   "metadata": {},
   "outputs": [],
   "source": [
    "def plot_vars_to_funcs(plot_vars):\n",
    "    var_func_mapping = {\n",
    "        \"R\": plot_R,\n",
    "        \"T\": plot_T,\n",
    "        \"A\": plot_A,\n",
    "        \"Rs\": partial(plot_R, variable=\"Rs\"),\n",
    "        \"Ts\": partial(plot_T, variable=\"Ts\"),\n",
    "        \"As\": partial(plot_A, variable=\"As\"),\n",
    "        \"Rp\": partial(plot_R, variable=\"Rp\"),\n",
    "        \"Tp\": partial(plot_T, variable=\"Tp\"),\n",
    "        \"Ap\": partial(plot_A, variable=\"Ap\"),\n",
    "        \"R_per_oscillator\": partial(plot_R, variable=\"R_per_oscillator\"),\n",
    "        \"T_per_oscillator\": partial(plot_T, variable=\"T_per_oscillator\"),\n",
    "        \"A_per_oscillator\": partial(plot_A, variable=\"A_per_oscillator\"),\n",
    "        \"Rs_per_oscillator\": partial(plot_R, variable=\"Rs_per_oscillator\"),\n",
    "        \"Ts_per_oscillator\": partial(plot_T, variable=\"Ts_per_oscillator\"),\n",
    "        \"As_per_oscillator\": partial(plot_A, variable=\"As_per_oscillator\"),\n",
    "        \"Rp_per_oscillator\": partial(plot_R, variable=\"Rp_per_oscillator\"),\n",
    "        \"Tp_per_oscillator\": partial(plot_T, variable=\"Tp_per_oscillator\"),\n",
    "        \"Ap_per_oscillator\": partial(plot_A, variable=\"Ap_per_oscillator\"),\n",
    "    }\n",
    "\n",
    "    plot_funcs = []\n",
    "    for var in plot_vars:\n",
    "        try:\n",
    "            func = var_func_mapping[var]\n",
    "        except KeyError:\n",
    "            func = partial(plot_var, variable=var)\n",
    "        plot_funcs.append(func)\n",
    "\n",
    "    return plot_funcs"
   ]
  },
  {
   "cell_type": "code",
   "execution_count": null,
   "id": "e98d95d9-e545-42b7-833d-f298dc8e79a8",
   "metadata": {
    "tags": []
   },
   "outputs": [],
   "source": [
    "# new version\n",
    "def plot_RTA(\n",
    "    period,\n",
    "    excitonic_layer_thickness,\n",
    "    num_periods,\n",
    "    theta,\n",
    "    delta,\n",
    "    title=\"\",\n",
    "    include=[\"LOPC\", \"CRS_1\"],\n",
    "    plot_vars=[\"R\", \"T\", \"A\"],\n",
    "    label_override=None,\n",
    "    label_append=None,\n",
    "):\n",
    "    label_field = None  # for debugging\n",
    "    label_append = \"\" if label_append is None else label_append\n",
    "\n",
    "    P = period\n",
    "    t = excitonic_layer_thickness\n",
    "    N = num_periods\n",
    "    D = delta\n",
    "\n",
    "    plot_funcs = [\n",
    "        partial(func, x=\"wavelength\", label_field=label_field)\n",
    "        for func in plot_vars_to_funcs(plot_vars)\n",
    "    ]\n",
    "    curves = []\n",
    "    if \"LOPC\" in include:\n",
    "        lopc_label = \" (LOPC)\" if label_override is None else label_override\n",
    "        lopc_label += label_append\n",
    "        lopc_sel = restacked_ds.sel(\n",
    "            period=P, excitonic_layer_thickness=t, num_periods=N, delta=D\n",
    "        ).squeeze()\n",
    "        lopc_sel = sel_or_integrate(lopc_sel, \"theta\", theta, normalisation=1)\n",
    "        lopc_curves = [\n",
    "            plot_func(dataset=lopc_sel, label_append=lopc_label).opts(line_dash=\"solid\")\n",
    "            for plot_func in plot_funcs\n",
    "        ]\n",
    "        curves += lopc_curves\n",
    "    if \"CRS_1\" in include:\n",
    "        crs_1_label = \" (CRS)\" if label_override is None else label_override\n",
    "        crs_1_label += label_append\n",
    "        crs_1_sel = crs_1.sel(total_excitonic_thickness=t * N).squeeze()\n",
    "        crs_1_sel = sel_or_integrate(crs_1_sel, \"theta\", theta, normalisation=1)\n",
    "        crs_1_curves = [\n",
    "            plot_func(dataset=crs_1_sel, label_append=crs_1_label).opts(\n",
    "                line_dash=\"dashed\"\n",
    "            )\n",
    "            for plot_func in plot_funcs\n",
    "        ]\n",
    "        curves += crs_1_curves\n",
    "    if \"FRS_1\" in include:\n",
    "        frs_1_label = \" (FRS)\" if label_override is None else label_override\n",
    "        frs_1_label += label_append\n",
    "        frs_1_sel = frs_1.sel(total_thickness=(P + t) * N).squeeze()\n",
    "        frs_1_sel = sel_or_integrate(frs_1_sel, \"theta\", theta, normalisation=1)\n",
    "        frs_1_curves = [\n",
    "            plot_func(dataset=frs_1_sel, label_append=frs_1_label).opts(\n",
    "                line_dash=\"dotted\"\n",
    "            )\n",
    "            for plot_func in plot_funcs\n",
    "        ]\n",
    "        curves += frs_1_curves\n",
    "\n",
    "    overlay = hv.Overlay(curves).opts(\n",
    "        opts.Curve(\n",
    "            ylim=(0, 1),\n",
    "            ylabel=\"Intensity\",\n",
    "            title=f\"{title}{coordinate_string(period=P, excitonic_layer_thickness=t, num_periods=N, theta=theta, delta=D)}\",\n",
    "        ),\n",
    "    )\n",
    "\n",
    "    return overlay\n",
    "\n",
    "\n",
    "# # test\n",
    "display(\n",
    "    plot_RTA(200, 50, 20, 0, 0.15, \"test\\n\", include=[\"LOPC\", \"CRS_1\"]).opts(\n",
    "        legend_position=\"right\"\n",
    "    )\n",
    ")\n",
    "\n",
    "# display(\n",
    "#     plot_RTA(\n",
    "#         200,\n",
    "#         50,\n",
    "#         20,\n",
    "#         (10, 50),\n",
    "#         \"test RA only\\n\",\n",
    "#         include=[\"LOPC\", \"CRS_1\"],\n",
    "#         plot_vars=[\"R\", \"A\"],\n",
    "#     ).opts(opts.Overlay(legend_position=\"right\"))\n",
    "# )\n",
    "\n",
    "# display(\n",
    "#     plot_RTA(\n",
    "#         200,\n",
    "#         50,\n",
    "#         20,\n",
    "#         75,\n",
    "#         \"test\\n\",\n",
    "#         include=[\"LOPC\"],\n",
    "#         plot_vars=[\"R_per_oscillator\", \"A_per_oscillator\"],\n",
    "#         label_append=\" test\",\n",
    "#         label_override=\"OVERRIDDEN\",\n",
    "#     ).opts(opts.Curve(ylim=(None, None)), opts.Overlay(legend_position=\"right\"))\n",
    "# )"
   ]
  },
  {
   "cell_type": "markdown",
   "id": "23d30872-dada-45f4-8fa3-9e7151f17d6a",
   "metadata": {
    "tags": []
   },
   "source": [
    "#### Plot a comparison of normal incidence to integrated"
   ]
  },
  {
   "cell_type": "code",
   "execution_count": null,
   "id": "50955650-7005-4664-8168-5150f2c28dba",
   "metadata": {},
   "outputs": [],
   "source": [
    "def plot_comparison(*comparison_params: tuple[dict, list[\"opts\"]], plot_func=plot_RTA, **shared_params):\n",
    "    param_opts = [(shared_params|comp_params, comp_opts) for comp_params, comp_opts in comparison_params]\n",
    "    plots = [plot_func(**comp_params).opts(*comp_opts) for comp_params, comp_opts in param_opts]\n",
    "    return plots"
   ]
  },
  {
   "cell_type": "code",
   "execution_count": null,
   "id": "4e32caaa-417c-4e3f-80cf-ed2dfc809254",
   "metadata": {},
   "outputs": [],
   "source": [
    "def compare_RTA(*args, opts_cycle=None, **shared_params):\n",
    "    default_opts = [[opts.Curve(line_dash=style)] for style in [\"solid\", \"dashed\", \"dotted\", \"dotdash\", \"dashdot\"]]\n",
    "    opts_cycle = default_opts if opts_cycle is None else opts_cycle\n",
    "    \n",
    "    # comparison_params = list(zip(args, opts_cycle))\n",
    "    \n",
    "    plots = plot_comparison(*zip(args, opts_cycle), plot_func=plot_RTA, **shared_params)\n",
    "    overlay = hv.Overlay(plots).opts(opts.Overlay(legend_position=\"right\"))\n",
    "                                     \n",
    "    return overlay\n",
    "\n",
    "# # test\n",
    "# shared_params = {\n",
    "#     \"period\": 250,\n",
    "#     \"excitonic_layer_thickness\": 70,\n",
    "#     \"num_periods\": 30,\n",
    "#     \"include\": [\"LOPC\"],\n",
    "# }\n",
    "# compare_RTA({\"theta\": (0, 75), \"label_override\": \" (integrated)\"}, {\"theta\": 0, \"label_override\": \" (θ = 0)\"}, **shared_params)"
   ]
  },
  {
   "cell_type": "code",
   "execution_count": null,
   "id": "dc2241aa-ae75-4d1b-8e72-03a93b1063f8",
   "metadata": {},
   "outputs": [],
   "source": [
    "compare_RTA_normal_vs_integrated = partial(compare_RTA, {\"theta\": (0, 45), \"label_override\": \" (integrated)\"}, {\"theta\": 0, \"label_override\": \" (θ = 0)\"}, include= [\"LOPC\"],)\n",
    "\n",
    "# # test\n",
    "# shared_params = {\n",
    "#     \"period\": 250,\n",
    "#     \"excitonic_layer_thickness\": 70,\n",
    "#     \"num_periods\": 30,\n",
    "# }\n",
    "# compare_RTA_normal_vs_integrated(**shared_params)"
   ]
  },
  {
   "cell_type": "markdown",
   "id": "1bd43ba0-1de8-493e-ab50-9c6719d3c83a",
   "metadata": {
    "tags": []
   },
   "source": [
    "#### Plot the RTA of the structures in 2D"
   ]
  },
  {
   "cell_type": "code",
   "execution_count": null,
   "id": "06d1bb22-1b3b-468b-875b-34c534c53248",
   "metadata": {
    "tags": []
   },
   "outputs": [],
   "source": [
    "def plot_RTA_2D(\n",
    "    period,\n",
    "    excitonic_layer_thickness,\n",
    "    num_periods,\n",
    "    theta=(0, 75),\n",
    "    delta=0,\n",
    "    title=\"\",\n",
    "    include=[\"LOPC\", \"CRS_1\"],\n",
    "):\n",
    "    P = period\n",
    "    t = excitonic_layer_thickness\n",
    "    N = num_periods\n",
    "    D = delta\n",
    "\n",
    "    plots = []\n",
    "    if \"LOPC\" in include:\n",
    "        lopc_sel = restacked_ds.sel(\n",
    "            period=P, excitonic_layer_thickness=t, num_periods=N, delta=D\n",
    "        ).squeeze()\n",
    "        lopc_sel = lopc_sel.sel(theta=slice(*theta))\n",
    "        plots.append(\n",
    "            lopc_sel[\"R\"]\n",
    "            .hvplot(kind=\"image\", x=\"wavelength\", y=\"theta\", title=\"Reflectance (LOPC)\")\n",
    "            .opts(opts.Image(cmap=\"viridis\"))\n",
    "        )\n",
    "        plots.append(\n",
    "            lopc_sel[\"T\"]\n",
    "            .hvplot(kind=\"image\", x=\"wavelength\", y=\"theta\", title=\"Transmittance (LOPC)\")\n",
    "            .opts(opts.Image(cmap=\"cividis\"))\n",
    "        )\n",
    "        plots.append(\n",
    "            lopc_sel[\"A\"]\n",
    "            .hvplot(kind=\"image\", x=\"wavelength\", y=\"theta\", title=\"Absorptance (LOPC)\")\n",
    "            .opts(opts.Image(cmap=\"inferno\"))\n",
    "        )\n",
    "    if \"CRS_1\" in include:\n",
    "        crs_1_sel = crs_1.sel(total_excitonic_thickness=t * N).squeeze()\n",
    "        crs_1_sel = crs_1_sel.sel(theta=slice(*theta))\n",
    "        plots.append(\n",
    "            crs_1_sel[\"R\"]\n",
    "            .hvplot(kind=\"image\", x=\"wavelength\", y=\"theta\", title=\"Reflectance (CRS)\")\n",
    "            .opts(opts.Image(cmap=\"viridis\"))\n",
    "        )\n",
    "        plots.append(\n",
    "            crs_1_sel[\"T\"]\n",
    "            .hvplot(kind=\"image\", x=\"wavelength\", y=\"theta\", title=\"Transmittance (CRS)\")\n",
    "            .opts(opts.Image(cmap=\"cividis\"))\n",
    "        )\n",
    "        plots.append(\n",
    "            crs_1_sel[\"A\"]\n",
    "            .hvplot(kind=\"image\", x=\"wavelength\", y=\"theta\", title=\"Absorptance (CRS)\")\n",
    "            .opts(opts.Image(cmap=\"inferno\"))\n",
    "        )\n",
    "    if \"FRS_1\" in include:\n",
    "        frs_1_sel = frs_1.sel(total_thickness=(P + t) * N).squeeze()\n",
    "        frs_1_sel = frs_1_sel.sel(theta=slice(*theta))\n",
    "        plots.append(\n",
    "            frs_1_sel[\"R\"]\n",
    "            .hvplot(kind=\"image\", x=\"wavelength\", y=\"theta\", title=\"Reflectance (FRS)\")\n",
    "            .opts(opts.Image(cmap=\"viridis\"))\n",
    "        )\n",
    "        plots.append(\n",
    "            frs_1_sel[\"T\"]\n",
    "            .hvplot(kind=\"image\", x=\"wavelength\", y=\"theta\", title=\"Transmittance (FRS)\")\n",
    "            .opts(opts.Image(cmap=\"cividis\"))\n",
    "        )\n",
    "        plots.append(\n",
    "            frs_1_sel[\"A\"]\n",
    "            .hvplot(kind=\"image\", x=\"wavelength\", y=\"theta\", title=\"Absorptance (FRS)\")\n",
    "            .opts(opts.Image(cmap=\"inferno\"))\n",
    "        )\n",
    "\n",
    "    layout = hv.Layout(plots).opts(\n",
    "        opts.Image(\n",
    "            clim=(0, 1),\n",
    "            clabel=\"Intensity\",\n",
    "        ),\n",
    "        opts.Layout(\n",
    "            title=f\"{title}{coordinate_string(period=P, excitonic_layer_thickness=t, num_periods=N, delta=D)}\",\n",
    "        ),\n",
    "    )\n",
    "\n",
    "    return layout\n",
    "\n",
    "# # test\n",
    "display(plot_RTA_2D(200, 50, 20, (0, 90), 0.15, \"test\\n\", include=[\"LOPC\", \"CRS_1\"]).opts(opts.Image(frame_width=200)).cols(3))\n",
    "\n",
    "# display(plot_RTA_2D(200, 40, 20, (10, 50), \"test\\n\", include=[\"LOPC\", \"CRS_1\", \"FRS_1\"]).opts(opts.Image(frame_width=200)).cols(3))"
   ]
  },
  {
   "cell_type": "markdown",
   "id": "da287e11-5515-4e55-b04e-a9f425d34a33",
   "metadata": {
    "tags": []
   },
   "source": [
    "#### Plot an enhancement factor."
   ]
  },
  {
   "cell_type": "code",
   "execution_count": null,
   "id": "5e0a1b2b-8b51-4e81-a320-14a497b4e39c",
   "metadata": {},
   "outputs": [],
   "source": [
    "def plot_ef(\n",
    "    variable,\n",
    "    dataset,\n",
    "    sel=None,\n",
    "    sel_method=None,\n",
    "    title=\"\",\n",
    "    *,\n",
    "    x=\"wavelength\",\n",
    "    y=None,\n",
    "):\n",
    "    sel = {} if sel is None else sel\n",
    "    da = dataset[variable].sel(**sel, method=sel_method).squeeze()\n",
    "    if y is None:\n",
    "        plot = da.hvplot(x=x, label=f\"{variable} enhancement factor\")\n",
    "        plot *= hv.HLine(1).opts(line_dash=\"dotted\")\n",
    "    else:\n",
    "        plot = da.hvplot(\n",
    "            kind=\"image\",\n",
    "            x=x,\n",
    "            y=y,\n",
    "            label=f\"{variable} enhancement factor\",\n",
    "            clim=(0.5, 1.5),\n",
    "        )\n",
    "    plot = plot.opts(\n",
    "        opts.Curve(\n",
    "            title=f\"{title}{coordinate_string(**sel)}\",\n",
    "        ),\n",
    "        opts.Overlay(\n",
    "            title=f\"{title}{coordinate_string(**sel)}\",\n",
    "        ),\n",
    "    )\n",
    "\n",
    "    return plot\n",
    "\n",
    "\n",
    "# # test\n",
    "sel_1 = {\"period\": 200, \"excitonic_layer_thickness\": 40, \"num_periods\": 10, \"theta\": 30}\n",
    "sel_2 = {\"period\": 200, \"excitonic_layer_thickness\": 40, \"num_periods\": 10, \"theta\": 0}\n",
    "sel_3 = {\"period\": 200, \"excitonic_layer_thickness\": 40, \"num_periods\": 10}\n",
    "display(\n",
    "    (\n",
    "        plot_ef(\"As\", restacked_norm_1, sel_1, \"nearest\", \"test\\n\")\n",
    "        # + plot_ef(\"As\", restacked_norm_2, sel_2, title=\"test2\\n\")\n",
    "    )#.cols(1)\n",
    ")\n",
    "display(\n",
    "    plot_ef(\"As\", restacked_norm_1, sel_3, title=\"test3\\n\", x=\"theta\", y=\"wavelength\").opts(clim=(0, 2), cmap=\"RdBu_r\")\n",
    ")"
   ]
  },
  {
   "cell_type": "markdown",
   "id": "0a3d9bd5-5f7f-4007-a817-f9e25ca9907d",
   "metadata": {
    "tags": []
   },
   "source": [
    "#### Test plot_optimum_over_dim"
   ]
  },
  {
   "cell_type": "code",
   "execution_count": null,
   "id": "1c5655cc-0904-47fc-b1f8-198572bb217f",
   "metadata": {},
   "outputs": [],
   "source": [
    "foo, bar = plot_optimum_over_dim(restacked_ds.A.sel(theta=0, wavelength=660, method=\"nearest\"), \"period\", \"excitonic_layer_thickness\", \"num_periods\", \"max\")"
   ]
  },
  {
   "cell_type": "code",
   "execution_count": null,
   "id": "3391eea0-d419-42be-ad86-30517c3cb86c",
   "metadata": {},
   "outputs": [],
   "source": [
    "foo, bar = plot_optimum_over_dim(integrate_da(restacked_ds.A, \"theta\", normalisation=1).sel(wavelength=660, method=\"nearest\"), [\"period\", \"delta\"], \"excitonic_layer_thickness\", \"num_periods\", \"max\")"
   ]
  },
  {
   "cell_type": "code",
   "execution_count": null,
   "id": "082acaf1-e963-4584-a1c1-0a3b8a347b69",
   "metadata": {},
   "outputs": [],
   "source": [
    "foo, bar = plot_optimum_over_dim(integrate_da(restacked_ds.R, \"wavelength\", normalisation=1).sel(theta=0, method=\"nearest\"), [\"period\", \"excitonic_layer_thickness\"], \"num_periods\", \"delta\", \"max\")"
   ]
  },
  {
   "cell_type": "code",
   "execution_count": null,
   "id": "48a96fbd-a737-49e0-86ba-9cfc4187d575",
   "metadata": {},
   "outputs": [],
   "source": [
    "foo"
   ]
  },
  {
   "cell_type": "code",
   "execution_count": null,
   "id": "ccca3d83-ebce-4c51-aba6-d042981124e2",
   "metadata": {},
   "outputs": [],
   "source": [
    "print(foo.Quadmesh[25])"
   ]
  },
  {
   "cell_type": "code",
   "execution_count": null,
   "id": "b7fe54b0-30e1-44e1-a1d7-4a6a30bb15c0",
   "metadata": {},
   "outputs": [],
   "source": [
    "hv.Overlay([hv.Curve((foo.QuadMesh[N].dimension_values(1), foo.QuadMesh[N].dimension_values(2))) for N in foo.QuadMesh.dimension_values(0)])"
   ]
  },
  {
   "cell_type": "code",
   "execution_count": null,
   "id": "65704d33-9525-4a95-bba3-38e549d0fceb",
   "metadata": {},
   "outputs": [],
   "source": [
    "bar"
   ]
  },
  {
   "cell_type": "markdown",
   "id": "25b2b542-b9c6-4117-83bd-fbe0825e863b",
   "metadata": {
    "tags": []
   },
   "source": [
    "#### Find and plot the min or max over any dimension."
   ]
  },
  {
   "cell_type": "code",
   "execution_count": null,
   "id": "6e20d647-5464-49b9-9dad-86f92713fa44",
   "metadata": {
    "tags": []
   },
   "outputs": [],
   "source": [
    "def wrapped_2D_plot(\n",
    "    variable,\n",
    "    dataset,\n",
    "    optimise=\"max\",\n",
    "    lorentz_line=0,\n",
    "    window_radius=0,\n",
    "    theta=0,\n",
    "    cmap=\"viridis\",\n",
    "    period_start=None,\n",
    "    period_stop=None,\n",
    "    integrate_angle=None,\n",
    "    extra_plots=[\"RTA_normal\", \"RTA_int\", \"norm_1_normal\", \"norm_1_int\"],\n",
    "    dim=None,  # automatically assign if dataset recognised\n",
    "):\n",
    "    plots = []\n",
    "\n",
    "    if str(dataset) == \"restacked_ds\":\n",
    "        # the drop_sel is important for avoiding the most common degenerate cases\n",
    "        dataset = restacked_ds.drop_sel({\"excitonic_layer_thickness\": 0})\n",
    "        dim = \"period\"\n",
    "\n",
    "    if str(dataset) == \"restacked_norm_1\":\n",
    "        # the drop_sel is important for avoiding the most common degenerate cases\n",
    "        dataset = restacked_norm_1.drop_sel({\"excitonic_layer_thickness\": 0})\n",
    "        dim = \"period\"\n",
    "\n",
    "    if str(dataset) == \"restacked_diff_1\":\n",
    "        # the drop_sel is important for avoiding the most common degenerate cases\n",
    "        dataset = restacked_diff_1.drop_sel({\"excitonic_layer_thickness\": 0})\n",
    "        dim = \"period\"\n",
    "\n",
    "    da = dataset[variable]\n",
    "\n",
    "    if not integrate_angle:\n",
    "        da = da.sel(theta=theta, method=\"nearest\")\n",
    "    else:  # integrate_angle must be a float, so that (theta, integrate_angle) is a slice syntax\n",
    "        da = da.sel(theta=slice(theta, integrate_angle))\n",
    "        da = integrate_da(da, \"theta\", weighting=1, normalisation=1)\n",
    "\n",
    "    if period_start < period_stop:\n",
    "        da = da.sel(period=slice(period_start, period_stop))\n",
    "    else:  # otherwise no data is selected and everything breaks\n",
    "        da = da.sel(period=slice(period_start, None))\n",
    "    da = select_lorentz_line(da, lorentz_line=lorentz_line, window_radius=window_radius)\n",
    "\n",
    "    vline_locs = [0]\n",
    "\n",
    "    if window_radius == 0:\n",
    "        wavelength = float(da.wavelength)\n",
    "        title = f\"{optimise.capitalize()}imum {variable} at {wavelength:.0f} nm\"\n",
    "        if lorentz_line != 0:  # don't put two lines over the resonance\n",
    "            vline_locs.append(lorentz_line)\n",
    "    else:\n",
    "        wavelength_start = float(da.wavelength[0])\n",
    "        wavelength_stop = float(da.wavelength[-1])\n",
    "        # make it easier to compare values\n",
    "        da = integrate_da(\n",
    "            da, \"wavelength\", weighting=1, normalisation=1\n",
    "        )  # replaces the below two lines\n",
    "        # da = normalise_over_dim(da, \"wavelength\", 1)\n",
    "        # da = da.integrate(\"wavelength\")\n",
    "        title = f\"{optimise.capitalize()}imum integrated {variable} between {wavelength_start:.0f} and {wavelength_stop:.0f} nm\"\n",
    "        vline_locs.append(lorentz_line - window_radius)\n",
    "        vline_locs.append(lorentz_line + window_radius)\n",
    "\n",
    "    plot_1, optimum_coords = plot_optimum_over_dim(\n",
    "        da,\n",
    "        dim=dim,\n",
    "        x=\"excitonic_layer_thickness\",\n",
    "        y=\"num_periods\",\n",
    "        optimise=optimise,\n",
    "    )\n",
    "\n",
    "    P = float(optimum_coords[\"period\"])\n",
    "    t = float(optimum_coords[\"excitonic_layer_thickness\"])\n",
    "    N = float(optimum_coords[\"num_periods\"])\n",
    "    D = float(optimum_coords[\"delta\"])\n",
    "    try:  # this should work if not integrating over theta\n",
    "        th = float(optimum_coords[\"theta\"])\n",
    "    except:  # probably the problem is that theta doesn't exist because I integrated over it already\n",
    "        th = (theta, integrate_angle)\n",
    "    lorentz_lines = lorentz_vlines(vline_locs, scale=1e-9, mode=\"wavelength\").opts(\n",
    "        opts.VLine(line_color=green, line_dash=\"dotted\"),\n",
    "    )\n",
    "\n",
    "    # give the resonance line a special colour\n",
    "    lorentz_lines.VLine.I.opts(opts.VLine(line_color=yellow))\n",
    "\n",
    "    plot_1.opts(\n",
    "        opts.QuadMesh(cmap=cmap),\n",
    "        opts.Points(color=\"red\"),\n",
    "        opts.Overlay(\n",
    "            title=f\"{title}\\nOptimal period: {P:.0f}\\nOptimal Delta: {D:.2f}\"\n",
    "        ),\n",
    "    )\n",
    "\n",
    "    plots.append(plot_1)\n",
    "\n",
    "    if \"RTA_normal\" in extra_plots:  # plot RTA at theta=0\n",
    "        new_plot = plot_RTA(\n",
    "            period=P,\n",
    "            excitonic_layer_thickness=t,\n",
    "            num_periods=N,\n",
    "            theta=0,\n",
    "            delta=D,\n",
    "        )\n",
    "        new_plot *= lorentz_lines\n",
    "\n",
    "        plots.append(new_plot)\n",
    "\n",
    "    if \"RTA_int\" in extra_plots:  # plot RTA at theta OR integrating over theta\n",
    "        new_plot = plot_RTA(\n",
    "            period=P,\n",
    "            excitonic_layer_thickness=t,\n",
    "            num_periods=N,\n",
    "            theta=th,\n",
    "            delta=D,\n",
    "        )\n",
    "        new_plot *= lorentz_lines\n",
    "        plots.append(new_plot)\n",
    "\n",
    "    if \"norm_1_normal\" in extra_plots:  # plot enhancement factor at theta=0\n",
    "        sel = {\n",
    "            \"period\": P,\n",
    "            \"excitonic_layer_thickness\": t,\n",
    "            \"num_periods\": N,\n",
    "            \"theta\": 0,\n",
    "            \"delta\": D,\n",
    "        }\n",
    "        new_plot = plot_ef(variable=\"A\", dataset=restacked_norm_1, sel=sel)\n",
    "        new_plot *= lorentz_lines\n",
    "\n",
    "        plots.append(new_plot)\n",
    "\n",
    "    if (\n",
    "        \"norm_1_int\" in extra_plots\n",
    "    ):  # plot enhancement factor at theta OR integrating over theta\n",
    "        try:  # this should work if not integrating over theta\n",
    "            sel = {\n",
    "                \"period\": P,\n",
    "                \"excitonic_layer_thickness\": t,\n",
    "                \"num_periods\": N,\n",
    "                \"theta\": th,\n",
    "                \"delta\": D,\n",
    "            }\n",
    "            new_plot = plot_ef(variable=\"A\", dataset=restacked_norm_1, sel=sel)\n",
    "            new_plot *= lorentz_lines\n",
    "        except:  # if integrating, we need to do the integral *before* normalising\n",
    "            ds_int = sel_or_integrate(ds, dim=\"theta\", val=th)\n",
    "            crs_1_int = sel_or_integrate(crs_1, dim=\"theta\", val=th)\n",
    "            norm = enhancement_factor(\n",
    "                ds_int,\n",
    "                ref=crs_1_int,\n",
    "                common_dim=\"total_excitonic_thickness\",\n",
    "                method=\"groupby\",\n",
    "            )\n",
    "            restacked_norm = restack_plt_to_period(norm)\n",
    "            # replaces the lines below\n",
    "            #             # this should all get separated out into its own function\n",
    "            #             crs_1_like_ds = crs_1.sel(\n",
    "            #                 total_excitonic_thickness=ds.total_excitonic_thickness\n",
    "            #             )\n",
    "\n",
    "            #             ds_int = sel_or_integrate(ds, dim=\"theta\", val=th)\n",
    "            #             crs_1_int = sel_or_integrate(crs_1_like_ds, dim=\"theta\", val=th)\n",
    "            #             norm = ds_int / crs_1_int\n",
    "            #             restacked_norm = norm.stack(multiperiod=['passive_layer_thickness', 'excitonic_layer_thickness']).set_index(multiperiod=['period', 'excitonic_layer_thickness']).unstack()\n",
    "\n",
    "            sel = {\n",
    "                \"period\": P,\n",
    "                \"excitonic_layer_thickness\": t,\n",
    "                \"num_periods\": N,\n",
    "                \"delta\": D,\n",
    "            }\n",
    "            new_plot = plot_ef(variable=\"A\", dataset=restacked_norm, sel=sel)\n",
    "            new_plot *= lorentz_lines\n",
    "            sel[\"theta\"] = th\n",
    "            new_plot = new_plot.opts(opts.Overlay(title=f\"{coordinate_string(**sel)}\"))\n",
    "        plots.append(new_plot)\n",
    "\n",
    "    return hv.Layout(plots).cols(1)"
   ]
  },
  {
   "cell_type": "code",
   "execution_count": null,
   "id": "02c1e380-24e1-4d63-80d0-ba9fdd05b917",
   "metadata": {},
   "outputs": [],
   "source": [
    "wrapped_2D_plot(\n",
    "    \"A_per_oscillator\",\n",
    "    restacked_ds,\n",
    "    optimise=\"max\",\n",
    "    lorentz_line=5,\n",
    "    window_radius=2,\n",
    "    theta=0,\n",
    "    cmap=\"inferno\",\n",
    "    period_start=0,\n",
    "    period_stop=1000,\n",
    "    integrate_angle=None,\n",
    "    extra_plots=[\"RTA_int\", \"norm_1_int\"],\n",
    "    dim=\"period\",  # automatically assign if dataset recognised\n",
    ")"
   ]
  },
  {
   "cell_type": "markdown",
   "id": "07395898-f4e0-4cfd-a385-57b998da749b",
   "metadata": {
    "tags": []
   },
   "source": [
    "#### Plot the E-field, overlayed with the refractive index profile and layer boundaries."
   ]
  },
  {
   "cell_type": "code",
   "execution_count": null,
   "id": "e54991b7-6ab0-4ed3-975b-cbb361c55108",
   "metadata": {},
   "outputs": [],
   "source": [
    "# sometimes this errors on the first call for some reason\n",
    "fdtd = lumapi.FDTD()"
   ]
  },
  {
   "cell_type": "code",
   "execution_count": null,
   "id": "14feb8f4-83f3-4a0a-8d25-5793915a44ae",
   "metadata": {},
   "outputs": [],
   "source": [
    "oscillator = LumericalOscillator(fdtd)"
   ]
  },
  {
   "cell_type": "code",
   "execution_count": null,
   "id": "475e6761-8da9-4025-9b2e-68c99f190e6b",
   "metadata": {},
   "outputs": [],
   "source": [
    "plot_field(\n",
    "    680,\n",
    "    lumerical_session=fdtd,\n",
    "    oscillator=oscillator,\n",
    "    ri_lower=1.35,\n",
    "    ri_upper=1.6,\n",
    "    excitonic_layer_thickness=30,\n",
    "    passive_layer_thickness=210,\n",
    "    num_periods=10,\n",
    "    copy_layers=True,\n",
    "    apply_disorder=True,\n",
    "    delta=0.5,\n",
    "    delta_mode=\"pplt\",  # abs-> interpret delta as distance in nm; pplt-> interpret delta as proportion of passive layer thickness\n",
    "    disorder_type=\"uniform\",  # not considering gaussian or other distributions\n",
    "    correlated=True,  # False-> uncorrelated disorder\n",
    "    retain_runs=True,  # True-> return concat'd array; False-> return mean array\n",
    "    add_first_layer=True,  # add dummy passive layer to allow disorder on first excitonic layer\n",
    ").opts(opts.VSpan(color=\"gray\"))"
   ]
  },
  {
   "cell_type": "code",
   "execution_count": null,
   "id": "fe11cf70-e962-422b-9302-f40646d8ce7c",
   "metadata": {},
   "outputs": [],
   "source": [
    "def wrap_plot_field(\n",
    "    wavelength, excitonic_layer_thickness, passive_layer_thickness, num_periods\n",
    "):\n",
    "    coords = {\n",
    "        \"λ\": wavelength,\n",
    "        \"Excitonic layer thickness\": excitonic_layer_thickness,\n",
    "        \"Passive layer thickness\": passive_layer_thickness,\n",
    "        \"Number of periods\": num_periods,\n",
    "    }\n",
    "\n",
    "    title = f\"{coordinate_string(**coords)}\"\n",
    "\n",
    "    return plot_field(\n",
    "        wavelength=wavelength,\n",
    "        lumerical_session=fdtd,\n",
    "        oscillator=oscillator,\n",
    "        ri_lower=1.35,\n",
    "        ri_upper=1.6,\n",
    "        excitonic_layer_thickness=excitonic_layer_thickness,\n",
    "        passive_layer_thickness=passive_layer_thickness,\n",
    "        num_periods=num_periods,\n",
    "    ).opts(opts.Curve(title=title, ylim=(0,None)), opts.VSpan(color=\"gray\"))"
   ]
  },
  {
   "cell_type": "code",
   "execution_count": null,
   "id": "c2f5e286-aaef-4a27-959e-ead469926922",
   "metadata": {},
   "outputs": [],
   "source": [
    "# an example of what this can do\n",
    "pn.interact(\n",
    "    wrap_plot_field,\n",
    "    wavelength=(480, 880),\n",
    "    excitonic_layer_thickness=(10, 200),\n",
    "    passive_layer_thickness=(0, 300),\n",
    "    num_periods=(1, 50),\n",
    ")"
   ]
  },
  {
   "cell_type": "code",
   "execution_count": null,
   "id": "79740066-0b4b-4707-a4f5-5df1feedf37e",
   "metadata": {},
   "outputs": [],
   "source": []
  },
  {
   "cell_type": "code",
   "execution_count": null,
   "id": "3f772d30-f4ba-47ef-b5d5-6681d4c3170c",
   "metadata": {},
   "outputs": [],
   "source": []
  },
  {
   "cell_type": "code",
   "execution_count": null,
   "id": "df2892df-492a-4cc6-b2ce-d31ec9793fed",
   "metadata": {},
   "outputs": [],
   "source": []
  },
  {
   "cell_type": "code",
   "execution_count": null,
   "id": "e6bdc504-1fe4-432c-837e-c5592152d306",
   "metadata": {},
   "outputs": [],
   "source": []
  },
  {
   "cell_type": "code",
   "execution_count": null,
   "id": "359cc719-cfce-4085-8887-05fd4447674e",
   "metadata": {},
   "outputs": [],
   "source": []
  },
  {
   "cell_type": "markdown",
   "id": "1c27fd9b-8c76-4865-9c34-385001d93c12",
   "metadata": {
    "jp-MarkdownHeadingCollapsed": true,
    "tags": []
   },
   "source": [
    "# Miscellanous stuff"
   ]
  },
  {
   "cell_type": "code",
   "execution_count": null,
   "id": "a44072fa-0294-4cb9-b140-f7f8682fb824",
   "metadata": {},
   "outputs": [],
   "source": [
    "gb = restacked_ds.groupby_bins(\"run\", 2, labels=range(2))"
   ]
  },
  {
   "cell_type": "code",
   "execution_count": null,
   "id": "5da5375d-433a-4581-9c2f-7b5c16013bb5",
   "metadata": {},
   "outputs": [],
   "source": [
    "rds_mean = (gb.mean(\"run\"))"
   ]
  },
  {
   "cell_type": "code",
   "execution_count": null,
   "id": "45a4608a-c9d7-4c4d-b5e9-68ad1b01c3a7",
   "metadata": {},
   "outputs": [],
   "source": [
    "xs_1D = {\n",
    "    # \"delta\": pnw.DiscreteSlider,\n",
    "    \"theta\": pnw.DiscreteSlider,\n",
    "    \"num_periods\": pnw.DiscreteSlider,\n",
    "    \"period\": pnw.DiscreteSlider,\n",
    "    \"excitonic_layer_thickness\": pnw.DiscreteSlider,\n",
    "}\n",
    "\n",
    "rds_sel = restacked_ds.interactive(loc=\"left\").sel(**xs_1D).squeeze(drop=True)"
   ]
  },
  {
   "cell_type": "code",
   "execution_count": null,
   "id": "f470f44f-4217-44b5-9514-6157acf3cd16",
   "metadata": {},
   "outputs": [],
   "source": [
    "rds_sel[\"R\"].sel(delta=slice(0.01, 0.15)).hvplot(x=\"wavelength\", by=\"delta\")*rds_sel[\"R\"].sel(delta=0).hvplot(x=\"wavelength\", line_dash=\"dashed\", color=\"black\", line_width=2)"
   ]
  },
  {
   "cell_type": "code",
   "execution_count": null,
   "id": "3f034520-d37d-48aa-9ea7-4f7f88665a6c",
   "metadata": {},
   "outputs": [],
   "source": [
    "rds_sel[\"R\"].hvplot(x=\"wavelength\", y=\"delta\")"
   ]
  },
  {
   "cell_type": "markdown",
   "id": "fbf70185-ce46-42da-a8d0-6a1ab1446d9f",
   "metadata": {},
   "source": [
    "<!-- Generally, the fewer layers, the less noise from disorder. -->\n",
    "\n",
    "The noise is comparatively more important when the PBG is near the LO resonance."
   ]
  },
  {
   "cell_type": "code",
   "execution_count": null,
   "id": "7ccd7b82-37a4-47e3-b03c-b58be59e82c5",
   "metadata": {},
   "outputs": [],
   "source": [
    "rds_sel_2D = rds_mean.interactive(loc=\"left\").sel(delta=xs_1D[\"delta\"], theta=xs_1D[\"theta\"]).squeeze(drop=True)"
   ]
  },
  {
   "cell_type": "code",
   "execution_count": null,
   "id": "9022b062-1501-4bb8-a586-533bceac5881",
   "metadata": {},
   "outputs": [],
   "source": [
    "rds_sel_2D.R.hvplot(x=\"wavelength\", by=\"run_bins\", row=\"period\", col=\"num_periods\")"
   ]
  },
  {
   "cell_type": "code",
   "execution_count": null,
   "id": "bf4f4a60-e5f0-4093-8d27-e95e17e3394f",
   "metadata": {},
   "outputs": [],
   "source": [
    "# recipe for 1D comparison of disordered and periodic structure\n",
    "var_key = \"R\"\n",
    "\n",
    "overlay = (\n",
    "    mean_and_std(restacked_ds, var_key=var_key)\n",
    "    .squeeze()\n",
    "    .hvplot(\n",
    "        x=\"wavelength\",\n",
    "        y=f\"{var_key}_mean\",\n",
    "        groupby=[\"delta\", \"num_periods\", \"period\", \"theta\"],\n",
    "        color=blue,\n",
    "    )\n",
    "    * mean_and_std(restacked_ds, var_key=var_key)\n",
    "    .squeeze()\n",
    "    .hvplot.area(\n",
    "        x=\"wavelength\",\n",
    "        y=f\"{var_key}_low\",\n",
    "        y2=f\"{var_key}_high\",\n",
    "        groupby=[\"delta\", \"num_periods\", \"period\", \"theta\"],\n",
    "        alpha=0.2,\n",
    "        color=blue,\n",
    "    )\n",
    "    * restacked_pds[var_key]\n",
    "    .squeeze()\n",
    "    .hvplot(\n",
    "        x=\"wavelength\",\n",
    "        groupby=[\"num_periods\", \"period\", \"theta\"],\n",
    "        line_dash=\"dashed\",\n",
    "        color=\"black\",\n",
    "    )\n",
    "    * max_min_pos(restacked_ds, var_key=var_key, dim=\"wavelength\").hvplot(\n",
    "        kind=\"scatter\",\n",
    "        x=f\"{var_key}_max_wavelength\",\n",
    "        y=f\"{var_key}_max\",\n",
    "        groupby=[\"delta\", \"num_periods\", \"period\", \"theta\"],\n",
    "        alpha=0.5,\n",
    "        marker=\"x\",\n",
    "        color=blue,\n",
    "    )\n",
    ")\n",
    "\n",
    "overlay"
   ]
  },
  {
   "cell_type": "code",
   "execution_count": null,
   "id": "9037c78f-6466-4709-933e-dfe82c6a217e",
   "metadata": {},
   "outputs": [],
   "source": [
    "Delta = 0.3 # Deltas: 0.1, 0.2, 0.3\n",
    "N = 5\n",
    "P = 200\n",
    "theta = 0\n",
    "\n",
    "fig = overlay.select(delta=Delta, num_periods=N, period=P, theta=theta).opts(\n",
    "    opts.Curve(fontscale=2),\n",
    "    # opts.Overlay(show_title=False),\n",
    "    clone=True\n",
    ")\n",
    "display(fig)"
   ]
  },
  {
   "cell_type": "code",
   "execution_count": null,
   "id": "40eb9ae0-f956-4fea-a5f3-218d17292364",
   "metadata": {},
   "outputs": [],
   "source": [
    "elt = 50\n",
    "D = str(Delta).replace(\".\", \"\")\n",
    "\n",
    "hv.save(\n",
    "    fig,\n",
    "    filename=f\"data/run_{run_number}/figures/DLOPC_{var_key}_meancurve_wl_P{P}_elt{elt}_N{N}_th{theta}_D{D}\",\n",
    "    fmt=\"png\",\n",
    "    toolbar=None,\n",
    ")"
   ]
  },
  {
   "cell_type": "code",
   "execution_count": null,
   "id": "0840d153-4a09-4b3a-9b09-0aa59b27da28",
   "metadata": {},
   "outputs": [],
   "source": [
    "# recipe for 1D comparison of disordered and periodic structure\n",
    "var_key = \"R\"\n",
    "\n",
    "overlay = (\n",
    "    mean_and_std(restacked_ds_05, var_key=var_key)\n",
    "    .squeeze()\n",
    "    .hvplot(\n",
    "        x=\"wavelength\",\n",
    "        y=f\"{var_key}_mean\",\n",
    "        groupby=[\"num_periods\", \"period\", \"theta\"],\n",
    "        color=blue,\n",
    "    )\n",
    "    * mean_and_std(restacked_ds_05, var_key=var_key)\n",
    "    .squeeze()\n",
    "    .hvplot.area(\n",
    "        x=\"wavelength\",\n",
    "        y=f\"{var_key}_low\",\n",
    "        y2=f\"{var_key}_high\",\n",
    "        groupby=[\"num_periods\", \"period\", \"theta\"],\n",
    "        alpha=0.2,\n",
    "        color=blue,\n",
    "    )\n",
    "    * restacked_pds[var_key]\n",
    "    .squeeze()\n",
    "    .hvplot(\n",
    "        x=\"wavelength\",\n",
    "        groupby=[\"num_periods\", \"period\", \"theta\"],\n",
    "        line_dash=\"dashed\",\n",
    "        color=\"black\"\n",
    "    )\n",
    "    * max_min_pos(restacked_ds_05, var_key=var_key, dim=\"wavelength\").hvplot(\n",
    "        kind=\"scatter\",\n",
    "        x=f\"{var_key}_max_wavelength\",\n",
    "        y=f\"{var_key}_max\",\n",
    "        groupby=[\"num_periods\", \"period\", \"theta\"],\n",
    "        alpha=0.5,\n",
    "        marker=\"x\",\n",
    "        color=blue,\n",
    "    )\n",
    ")\n",
    "\n",
    "overlay"
   ]
  },
  {
   "cell_type": "code",
   "execution_count": null,
   "id": "1ec5242d-0c3e-4fff-b2c2-6a2a53c588ca",
   "metadata": {},
   "outputs": [],
   "source": [
    "Delta = 0.5 # Deltas: 0.1, 0.2, 0.3\n",
    "N = 50\n",
    "P = 300 # Ps: 200, 250, 300\n",
    "theta = 0\n",
    "\n",
    "fig = overlay.select(num_periods=N, period=P, theta=theta).opts(\n",
    "    opts.Curve(fontscale=2),\n",
    "    # opts.Overlay(show_title=False),\n",
    "    clone=True\n",
    ")\n",
    "display(fig)"
   ]
  },
  {
   "cell_type": "code",
   "execution_count": null,
   "id": "0bd68a0a-d9a9-4199-89d1-6625b25b0df8",
   "metadata": {},
   "outputs": [],
   "source": [
    "elt = 50\n",
    "D = str(Delta).replace(\".\", \"\")\n",
    "\n",
    "hv.save(\n",
    "    fig,\n",
    "    filename=f\"data/run_{run_number}/figures/DLOPC_{var_key}_meancurve_wl_P{P}_elt{elt}_N{N}_th{theta}_D{D}\",\n",
    "    fmt=\"png\",\n",
    "    toolbar=None,\n",
    ")"
   ]
  },
  {
   "cell_type": "markdown",
   "id": "cf368ee0-bc70-46de-bd57-1215f44fdde1",
   "metadata": {},
   "source": [
    "The clustering of scatter points around \\~700 nm is very strange - seems attractive at low N but repulsive at high N."
   ]
  },
  {
   "cell_type": "code",
   "execution_count": null,
   "id": "642d21e5-860b-4e5b-9b43-fc79bd437084",
   "metadata": {},
   "outputs": [],
   "source": [
    "# recipe for 1D comparison of disordered and periodic structure\n",
    "var_key = \"T\"\n",
    "\n",
    "(\n",
    "    mean_and_std(restacked_ds, var_key=var_key)\n",
    "    .squeeze()\n",
    "    .hvplot(\n",
    "        x=\"wavelength\",\n",
    "        y=f\"{var_key}_mean\",\n",
    "        groupby=[\"delta\", \"num_periods\", \"period\", \"theta\"],\n",
    "        color=yellow,\n",
    "    )\n",
    "    * mean_and_std(restacked_ds, var_key=var_key)\n",
    "    .squeeze()\n",
    "    .hvplot.area(\n",
    "        x=\"wavelength\",\n",
    "        y=f\"{var_key}_low\",\n",
    "        y2=f\"{var_key}_high\",\n",
    "        groupby=[\"delta\", \"num_periods\", \"period\", \"theta\"],\n",
    "        alpha=0.2,\n",
    "        color=yellow,\n",
    "    )\n",
    "    * restacked_pds[var_key]\n",
    "    .squeeze()\n",
    "    .hvplot(\n",
    "        x=\"wavelength\",\n",
    "        groupby=[\"num_periods\", \"period\", \"theta\"],\n",
    "        line_dash=\"dashed\",\n",
    "        color=\"black\",\n",
    "    )\n",
    "    * max_min_pos(restacked_ds, var_key=var_key, dim=\"wavelength\").hvplot(\n",
    "        kind=\"scatter\",\n",
    "        x=f\"{var_key}_max_wavelength\",\n",
    "        y=f\"{var_key}_max\",\n",
    "        groupby=[\"delta\", \"num_periods\", \"period\", \"theta\"],\n",
    "        alpha=0.5,\n",
    "        marker=\"x\",\n",
    "        color=yellow,\n",
    "    )\n",
    ")"
   ]
  },
  {
   "cell_type": "code",
   "execution_count": null,
   "id": "91454f26-ccd1-4ff3-92db-11d1d3ac0634",
   "metadata": {},
   "outputs": [],
   "source": [
    "# recipe for 1D comparison of disordered and periodic structure\n",
    "var_key = \"A\"\n",
    "\n",
    "(\n",
    "    mean_and_std(restacked_ds, var_key=var_key)\n",
    "    .squeeze()\n",
    "    .hvplot(\n",
    "        x=\"wavelength\",\n",
    "        y=f\"{var_key}_mean\",\n",
    "        groupby=[\"delta\", \"num_periods\", \"period\", \"theta\"],\n",
    "        color=red,\n",
    "    )\n",
    "    * mean_and_std(restacked_ds, var_key=var_key)\n",
    "    .squeeze()\n",
    "    .hvplot.area(\n",
    "        x=\"wavelength\",\n",
    "        y=f\"{var_key}_low\",\n",
    "        y2=f\"{var_key}_high\",\n",
    "        groupby=[\"delta\", \"num_periods\", \"period\", \"theta\"],\n",
    "        alpha=0.2,\n",
    "        color=red,\n",
    "    )\n",
    "    * restacked_pds[var_key]\n",
    "    .squeeze()\n",
    "    .hvplot(\n",
    "        x=\"wavelength\",\n",
    "        groupby=[\"num_periods\", \"period\", \"theta\"],\n",
    "        line_dash=\"dashed\",\n",
    "        color=\"black\",\n",
    "    )\n",
    "    * max_min_pos(restacked_ds, var_key=var_key, dim=\"wavelength\").hvplot(\n",
    "        kind=\"scatter\",\n",
    "        x=f\"{var_key}_max_wavelength\",\n",
    "        y=f\"{var_key}_max\",\n",
    "        groupby=[\"delta\", \"num_periods\", \"period\", \"theta\"],\n",
    "        alpha=0.5,\n",
    "        marker=\"x\",\n",
    "        color=red,\n",
    "    )\n",
    ")"
   ]
  },
  {
   "cell_type": "code",
   "execution_count": null,
   "id": "d21ac5cb-35db-4ea5-a1da-5973ce0053fd",
   "metadata": {},
   "outputs": [],
   "source": [
    "# recipe for 1D comparison of disordered and periodic structure\n",
    "var_key = \"A\"\n",
    "\n",
    "(\n",
    "    mean_and_std(restacked_ds_05, var_key=var_key)\n",
    "    .squeeze()\n",
    "    .hvplot(\n",
    "        x=\"wavelength\",\n",
    "        y=f\"{var_key}_mean\",\n",
    "        groupby=[\"num_periods\", \"period\", \"theta\"],\n",
    "        color=red,\n",
    "    )\n",
    "    * mean_and_std(restacked_ds_05, var_key=var_key)\n",
    "    .squeeze()\n",
    "    .hvplot.area(\n",
    "        x=\"wavelength\",\n",
    "        y=f\"{var_key}_low\",\n",
    "        y2=f\"{var_key}_high\",\n",
    "        groupby=[\"num_periods\", \"period\", \"theta\"],\n",
    "        alpha=0.2,\n",
    "        color=red,\n",
    "    )\n",
    "    * restacked_pds[var_key]\n",
    "    .squeeze()\n",
    "    .hvplot(\n",
    "        x=\"wavelength\",\n",
    "        groupby=[\"num_periods\", \"period\", \"theta\"],\n",
    "        line_dash=\"dashed\",\n",
    "        color=\"black\",\n",
    "    )\n",
    "    * max_min_pos(restacked_ds_05, var_key=var_key, dim=\"wavelength\").hvplot(\n",
    "        kind=\"scatter\",\n",
    "        x=f\"{var_key}_max_wavelength\",\n",
    "        y=f\"{var_key}_max\",\n",
    "        groupby=[\"num_periods\", \"period\", \"theta\"],\n",
    "        alpha=0.5,\n",
    "        marker=\"x\",\n",
    "        color=red,\n",
    "    )\n",
    ")"
   ]
  },
  {
   "cell_type": "code",
   "execution_count": null,
   "id": "3eb4bc8d-ce50-4390-8b3d-e73dec169086",
   "metadata": {},
   "outputs": [],
   "source": [
    "# recipe for 1D comparison of disordered and periodic structure\n",
    "var_key = \"A\"\n",
    "\n",
    "(\n",
    "    mean_and_std(restacked_norm_1, var_key=var_key)\n",
    "    .squeeze()\n",
    "    .hvplot(\n",
    "        x=\"wavelength\",\n",
    "        y=f\"{var_key}_mean\",\n",
    "        groupby=[\"delta\", \"num_periods\", \"period\", \"theta\"],\n",
    "        color=red,\n",
    "    )\n",
    "    * mean_and_std(restacked_norm_1, var_key=var_key)\n",
    "    .squeeze()\n",
    "    .hvplot.area(\n",
    "        x=\"wavelength\",\n",
    "        y=f\"{var_key}_low\",\n",
    "        y2=f\"{var_key}_high\",\n",
    "        groupby=[\"delta\", \"num_periods\", \"period\", \"theta\"],\n",
    "        alpha=0.2,\n",
    "        color=red,\n",
    "    )\n",
    "    * (\n",
    "        enhancement_factor(\n",
    "            ds=restacked_pds,\n",
    "            ref=crs_1,\n",
    "            common_dim=\"total_excitonic_thickness\",\n",
    "            method=\"groupby\",\n",
    "        )[var_key]\n",
    "    )\n",
    "    .squeeze()\n",
    "    .hvplot(\n",
    "        x=\"wavelength\",\n",
    "        groupby=[\"num_periods\", \"period\", \"theta\"],\n",
    "        line_dash=\"dashed\",\n",
    "        color=\"black\",\n",
    "    )\n",
    "    * max_min_pos(restacked_norm_1, var_key=var_key, dim=\"wavelength\").hvplot(\n",
    "        kind=\"scatter\",\n",
    "        x=f\"{var_key}_max_wavelength\",\n",
    "        y=f\"{var_key}_max\",\n",
    "        groupby=[\"delta\", \"num_periods\", \"period\", \"theta\"],\n",
    "        alpha=0.5,\n",
    "        marker=\"x\",\n",
    "        color=red,\n",
    "    )\n",
    "    * hv.HLine(1).opts(opts.HLine(line_dash=\"dotted\", color=\"black\"))\n",
    ")"
   ]
  },
  {
   "cell_type": "code",
   "execution_count": null,
   "id": "fda3c58b-491d-4918-9ba0-8bf5a9809ac7",
   "metadata": {},
   "outputs": [],
   "source": [
    "# recipe for 1D comparison of disordered and periodic structure\n",
    "var_key = \"A\"\n",
    "\n",
    "(\n",
    "    mean_and_std(restacked_norm_1_05, var_key=var_key)\n",
    "    .squeeze()\n",
    "    .hvplot(\n",
    "        x=\"wavelength\",\n",
    "        y=f\"{var_key}_mean\",\n",
    "        groupby=[\"num_periods\", \"period\", \"theta\"],\n",
    "        color=red,\n",
    "    )\n",
    "    * mean_and_std(restacked_norm_1_05, var_key=var_key)\n",
    "    .squeeze()\n",
    "    .hvplot.area(\n",
    "        x=\"wavelength\",\n",
    "        y=f\"{var_key}_low\",\n",
    "        y2=f\"{var_key}_high\",\n",
    "        groupby=[\"num_periods\", \"period\", \"theta\"],\n",
    "        alpha=0.2,\n",
    "        color=red,\n",
    "    )\n",
    "    * (\n",
    "        enhancement_factor(\n",
    "            ds=restacked_pds,\n",
    "            ref=crs_1,\n",
    "            common_dim=\"total_excitonic_thickness\",\n",
    "            method=\"groupby\",\n",
    "        )[var_key]\n",
    "    )\n",
    "    .squeeze()\n",
    "    .hvplot(\n",
    "        x=\"wavelength\",\n",
    "        groupby=[\"num_periods\", \"period\", \"theta\"],\n",
    "        line_dash=\"dashed\",\n",
    "        color=\"black\",\n",
    "    )\n",
    "    * max_min_pos(restacked_norm_1_05, var_key=var_key, dim=\"wavelength\").hvplot(\n",
    "        kind=\"scatter\",\n",
    "        x=f\"{var_key}_max_wavelength\",\n",
    "        y=f\"{var_key}_max\",\n",
    "        groupby=[\"num_periods\", \"period\", \"theta\"],\n",
    "        alpha=0.5,\n",
    "        marker=\"x\",\n",
    "        color=red,\n",
    "    )\n",
    "    * hv.HLine(1).opts(opts.HLine(line_dash=\"dotted\", color=\"black\"))\n",
    ")"
   ]
  },
  {
   "cell_type": "markdown",
   "id": "2cf72ee8-9a84-4773-8093-2574c59dca6b",
   "metadata": {},
   "source": [
    "Disorder tends to flatten EF and reduce the max - so wavelength-specific enhancement should probably involve low disorder.\n",
    "\n",
    "Overall absorptance EF seems lower in general with disorder, although I need to do an integrated EF to check."
   ]
  },
  {
   "cell_type": "code",
   "execution_count": null,
   "id": "de0b17f4-4cfc-44f9-8ece-01c008aa2554",
   "metadata": {},
   "outputs": [],
   "source": [
    "# recipe for 1D comparison of disordered and periodic structure\n",
    "var_key = \"R\"\n",
    "\n",
    "(\n",
    "    (mean_and_std(restacked_ds, var_key=var_key) - restacked_pds[var_key])\n",
    "    .squeeze()\n",
    "    .hvplot(\n",
    "        x=\"wavelength\",\n",
    "        y=f\"{var_key}_mean\",\n",
    "        groupby=[\"delta\", \"num_periods\", \"period\", \"theta\"],\n",
    "    )\n",
    "    * (mean_and_std(restacked_ds, var_key=var_key) - restacked_pds[var_key])\n",
    "    .squeeze()\n",
    "    .hvplot.area(\n",
    "        x=\"wavelength\",\n",
    "        y=f\"{var_key}_low\",\n",
    "        y2=f\"{var_key}_high\",\n",
    "        groupby=[\"delta\", \"num_periods\", \"period\", \"theta\"],\n",
    "        alpha=0.2,\n",
    "        color=blue\n",
    "    )\n",
    "    # * (-mean_and_std(restacked_ds, var_key=var_key))\n",
    "    # .squeeze()\n",
    "    # .hvplot.area(\n",
    "    #     x=\"wavelength\",\n",
    "    #     y=f\"{var_key}_std\",\n",
    "    #     groupby=[\"delta\", \"num_periods\", \"period\", \"theta\"],\n",
    "    #     alpha=0.2,\n",
    "    #     color=blue\n",
    "    # )\n",
    ")"
   ]
  },
  {
   "cell_type": "code",
   "execution_count": null,
   "id": "10114fed-2940-49d8-af87-c97704b18ed7",
   "metadata": {},
   "outputs": [],
   "source": [
    "# recipe for a nice statistical comparison\n",
    "# var = [\"Rs\", \"Rp\", \"R\"]\n",
    "# var = [\"As\", \"Ap\", \"A\"]\n",
    "var = reflectance\n",
    "\n",
    "(\n",
    "    integrate_da(restacked_ds[var], dim=\"wavelength\", normalisation=1).hvplot(\n",
    "        kind=\"violin\", groupby=[\"delta\", \"num_periods\", \"period\", \"theta\"],\n",
    "    )\n",
    "    * integrate_da(restacked_pds[var], dim=\"wavelength\", normalisation=1).hvplot(\n",
    "        kind=\"box\", groupby=[\"num_periods\", \"period\", \"theta\"], legend=False\n",
    "    )\n",
    ")"
   ]
  },
  {
   "cell_type": "code",
   "execution_count": null,
   "id": "1fc17701-b1e1-4672-936e-de99a3edfa9d",
   "metadata": {},
   "outputs": [],
   "source": [
    "# recipe for a nice statistical comparison\n",
    "# var = [\"Rs\", \"Rp\", \"R\"]\n",
    "# var = [\"As\", \"Ap\", \"A\"]\n",
    "# var = reflectance\n",
    "\n",
    "layout = (\n",
    "    integrate_da(restacked_ds_05[reflectance], dim=\"wavelength\", normalisation=1).hvplot(\n",
    "        kind=\"violin\", groupby=[\"num_periods\", \"period\", \"theta\"], color=blue,\n",
    "    )\n",
    "    * integrate_da(restacked_pds[reflectance], dim=\"wavelength\", normalisation=1).hvplot(\n",
    "        kind=\"box\", groupby=[\"num_periods\", \"period\", \"theta\"], color=blue, legend=False\n",
    "    )\n",
    "    + integrate_da(restacked_ds_05[transmittance], dim=\"wavelength\", normalisation=1).hvplot(\n",
    "        kind=\"violin\", groupby=[\"num_periods\", \"period\", \"theta\"], color=yellow,\n",
    "    )\n",
    "    * integrate_da(restacked_pds[transmittance], dim=\"wavelength\", normalisation=1).hvplot(\n",
    "        kind=\"box\", groupby=[\"num_periods\", \"period\", \"theta\"], color=yellow, legend=False\n",
    "    )\n",
    "    + integrate_da(restacked_ds_05[absorptance], dim=\"wavelength\", normalisation=1).hvplot(\n",
    "        kind=\"violin\", groupby=[\"num_periods\", \"period\", \"theta\"], color=red,\n",
    "    )\n",
    "    * integrate_da(restacked_pds[absorptance], dim=\"wavelength\", normalisation=1).hvplot(\n",
    "        kind=\"box\", groupby=[\"num_periods\", \"period\", \"theta\"], color=red, legend=False\n",
    "    )\n",
    ").opts(opts.Layout(shared_axes=False)).cols(1)\n",
    "\n",
    "layout"
   ]
  },
  {
   "cell_type": "markdown",
   "id": "18e34c19-2612-4f42-8002-685ae4f656df",
   "metadata": {},
   "source": [
    "Notes (violin plots, integrated over wavelength but NOT theta):\n",
    "- Integrated reflectance at normal incidence is *slightly lower* for disordered structures when N is low (\\~<20) but *slightly higher* when N is high (\\~>25)\n",
    "    - It's quite surprising how little difference even high levels of disorder make to the integrated RTA as a whole\n",
    "- When $\\Delta$ is higher the threshold N seems to increase slightly, but the increased reflectance is also much stronger\n",
    "    - At Delta=0.5 the threshold is around N=20 for P=200, 250 but N=40 for P=300\n",
    "- The integrated reflectance is also higher at higher angles (for N=5, $\\Delta$=0.4, look at $\\theta$=35)\n",
    "- The integrated absorptance is *generally* higher for the disordered structures, but not always\n"
   ]
  },
  {
   "cell_type": "markdown",
   "id": "5c0b2e1b-a9aa-48ca-b5f4-d4560f0c7954",
   "metadata": {
    "tags": []
   },
   "source": [
    "### Violin plots integrated over wavelength and theta"
   ]
  },
  {
   "cell_type": "code",
   "execution_count": null,
   "id": "60810ef2-64cf-4f20-ab76-75100acf217c",
   "metadata": {},
   "outputs": [],
   "source": [
    "# recipe for a nice statistical comparison\n",
    "# var = [\"Rs\", \"Rp\", \"R\"]\n",
    "# var = [\"As\", \"Ap\", \"A\"]\n",
    "var = reflectance\n",
    "theta_range = (0, 45)\n",
    "\n",
    "(\n",
    "    integrate_da(restacked_ds[var].sel(theta=slice(*theta_range)), dim=[\"wavelength\", \"theta\"], normalisation=1).hvplot(\n",
    "        kind=\"violin\", groupby=[\"delta\", \"num_periods\", \"period\"],\n",
    "    )\n",
    "    * integrate_da(restacked_pds[var].sel(theta=slice(*theta_range)), dim=[\"wavelength\", \"theta\"], normalisation=1).hvplot(\n",
    "        kind=\"box\", groupby=[\"num_periods\", \"period\"], legend=False\n",
    "    )\n",
    ")"
   ]
  },
  {
   "cell_type": "code",
   "execution_count": null,
   "id": "9a64800e-61f5-4d02-80a1-e5a2029fbe5e",
   "metadata": {},
   "outputs": [],
   "source": [
    "# integrated over theta\n",
    "theta_range = (0, 45)\n",
    "\n",
    "layout = (\n",
    "    integrate_da(restacked_ds_05[reflectance].sel(theta=slice(*theta_range)), dim=[\"wavelength\", \"theta\"], normalisation=1).hvplot(\n",
    "        kind=\"violin\", groupby=[\"num_periods\", \"period\"], color=blue,\n",
    "    )\n",
    "    * integrate_da(restacked_pds[reflectance].sel(theta=slice(*theta_range)), dim=[\"wavelength\", \"theta\"], normalisation=1).hvplot(\n",
    "        kind=\"box\", groupby=[\"num_periods\", \"period\"], color=blue, legend=False\n",
    "    )\n",
    "    + integrate_da(restacked_ds_05[transmittance].sel(theta=slice(*theta_range)), dim=[\"wavelength\", \"theta\"], normalisation=1).hvplot(\n",
    "        kind=\"violin\", groupby=[\"num_periods\", \"period\"], color=yellow,\n",
    "    )\n",
    "    * integrate_da(restacked_pds[transmittance].sel(theta=slice(*theta_range)), dim=[\"wavelength\", \"theta\"], normalisation=1).hvplot(\n",
    "        kind=\"box\", groupby=[\"num_periods\", \"period\"], color=yellow, legend=False\n",
    "    )\n",
    "    + integrate_da(restacked_ds_05[absorptance].sel(theta=slice(*theta_range)), dim=[\"wavelength\", \"theta\"], normalisation=1).hvplot(\n",
    "        kind=\"violin\", groupby=[\"num_periods\", \"period\"], color=red,\n",
    "    )\n",
    "    * integrate_da(restacked_pds[absorptance].sel(theta=slice(*theta_range)), dim=[\"wavelength\", \"theta\"], normalisation=1).hvplot(\n",
    "        kind=\"box\", groupby=[\"num_periods\", \"period\"], color=red, legend=False\n",
    "    )\n",
    ").opts(opts.Layout(shared_axes=False)).cols(1)\n",
    "\n",
    "layout"
   ]
  },
  {
   "cell_type": "code",
   "execution_count": null,
   "id": "96feb5ba-b42f-46e5-91dc-aa08381b452c",
   "metadata": {},
   "outputs": [],
   "source": [
    "N = 5\n",
    "P = 250\n",
    "elt = 50\n",
    "fig = layout.select(num_periods=N, period=P).opts(\n",
    "    opts.Violin(xlabel=\"\", fontscale=2),\n",
    "    opts.Layout(show_title=False),\n",
    "    clone=True\n",
    ")\n",
    "display(fig)"
   ]
  },
  {
   "cell_type": "code",
   "execution_count": null,
   "id": "830c8abd-bab0-438d-a8c0-c4ffe4a99463",
   "metadata": {},
   "outputs": [],
   "source": [
    "for f, label in zip(fig, [\"R\", \"T\", \"A\"]):\n",
    "    hv.save(f, filename=f\"data/run_{run_number}/figures/DLOPC_{label}_violin_wl_th_P{P}_elt{elt}_N{N}_wltot_th{theta_range[0]}-{theta_range[1]}\", fmt=\"png\", toolbar=None)"
   ]
  },
  {
   "cell_type": "code",
   "execution_count": null,
   "id": "1092215b-e70e-4f2e-b7d2-8d2ec104d5c1",
   "metadata": {},
   "outputs": [],
   "source": [
    "N = 20\n",
    "P = 250\n",
    "elt = 50\n",
    "fig = layout.select(num_periods=N, period=P).opts(\n",
    "    opts.Violin(xlabel=\"\", fontscale=2),\n",
    "    opts.Layout(show_title=False),\n",
    "    clone=True\n",
    ")\n",
    "display(fig)"
   ]
  },
  {
   "cell_type": "code",
   "execution_count": null,
   "id": "3a5a5e5a-2feb-4a7b-b6a6-efed11d30198",
   "metadata": {},
   "outputs": [],
   "source": [
    "for f, label in zip(fig, [\"R\", \"T\", \"A\"]):\n",
    "    hv.save(f, filename=f\"data/run_{run_number}/figures/DLOPC_{label}_violin_wl_th_P{P}_elt{elt}_N{N}_wltot_th{theta_range[0]}-{theta_range[1]}\", fmt=\"png\", toolbar=None)"
   ]
  },
  {
   "cell_type": "code",
   "execution_count": null,
   "id": "2a4f312a-cc31-450b-8b45-ef07b996ec2c",
   "metadata": {},
   "outputs": [],
   "source": [
    "N = 50\n",
    "P = 250\n",
    "elt = 50\n",
    "fig = layout.select(num_periods=N, period=P).opts(\n",
    "    opts.Violin(xlabel=\"\", fontscale=2),\n",
    "    opts.Layout(show_title=False),\n",
    "    clone=True\n",
    ")\n",
    "display(fig)"
   ]
  },
  {
   "cell_type": "code",
   "execution_count": null,
   "id": "ca70685d-5de0-4848-b796-df829eb1fa02",
   "metadata": {},
   "outputs": [],
   "source": [
    "for f, label in zip(fig, [\"R\", \"T\", \"A\"]):\n",
    "    hv.save(f, filename=f\"data/run_{run_number}/figures/DLOPC_{label}_violin_wl_th_P{P}_elt{elt}_N{N}_wltot_th{theta_range[0]}-{theta_range[1]}\", fmt=\"png\", toolbar=None)"
   ]
  },
  {
   "cell_type": "markdown",
   "id": "fb00ec55-9417-4dbc-bf61-a453bcb02fb7",
   "metadata": {},
   "source": [
    "Just RTA plots"
   ]
  },
  {
   "cell_type": "code",
   "execution_count": null,
   "id": "6cc3dc67-4f66-4219-a6ec-240cad8ac670",
   "metadata": {},
   "outputs": [],
   "source": [
    "\n",
    "layout = (\n",
    "    integrate_da(restacked_ds_05[\"R\"], dim=[\"wavelength\"], normalisation=1).hvplot(\n",
    "        kind=\"violin\", groupby=[\"num_periods\", \"period\", \"theta\"], color=blue,\n",
    "    )\n",
    "    * integrate_da(restacked_pds[\"R\"], dim=[\"wavelength\"], normalisation=1).hvplot(\n",
    "        kind=\"box\", groupby=[\"num_periods\", \"period\", \"theta\"], color=blue, legend=False\n",
    "    )\n",
    "    + integrate_da(restacked_ds_05[\"T\"], dim=[\"wavelength\"], normalisation=1).hvplot(\n",
    "        kind=\"violin\", groupby=[\"num_periods\", \"period\", \"theta\"], color=yellow,\n",
    "    )\n",
    "    * integrate_da(restacked_pds[\"T\"], dim=[\"wavelength\"], normalisation=1).hvplot(\n",
    "        kind=\"box\", groupby=[\"num_periods\", \"period\", \"theta\"], color=yellow, legend=False\n",
    "    )\n",
    "    + integrate_da(restacked_ds_05[\"A\"], dim=[\"wavelength\"], normalisation=1).hvplot(\n",
    "        kind=\"violin\", groupby=[\"num_periods\", \"period\", \"theta\"], color=red,\n",
    "    )\n",
    "    * integrate_da(restacked_pds[\"A\"], dim=[\"wavelength\"], normalisation=1).hvplot(\n",
    "        kind=\"box\", groupby=[\"num_periods\", \"period\", \"theta\"], color=red, legend=False\n",
    "    )\n",
    ").opts(opts.Violin(width=200), opts.Layout(shared_axes=False)).cols(3)\n",
    "\n",
    "layout"
   ]
  },
  {
   "cell_type": "code",
   "execution_count": null,
   "id": "f7d4444f-ff9a-4dd9-a300-f5049499693f",
   "metadata": {},
   "outputs": [],
   "source": [
    "N = 50\n",
    "P = 250\n",
    "theta = 0\n",
    "elt = 50\n",
    "fig = layout.select(num_periods=N, period=P, theta=theta).opts(\n",
    "    opts.Violin(xlabel=\"\", fontscale=2, width=200, height=300),\n",
    "    opts.Layout(show_title=False),\n",
    "    clone=True\n",
    ")\n",
    "display(fig)"
   ]
  },
  {
   "cell_type": "code",
   "execution_count": null,
   "id": "c4abeada-3d74-47f3-aca7-17da8884ba34",
   "metadata": {},
   "outputs": [],
   "source": [
    "hv.save(\n",
    "    fig,\n",
    "    filename=f\"data/run_{run_number}/figures/DLOPC_RTA_violin_wl_P{P}_elt{elt}_N{N}_wltot_th{theta}\",\n",
    "    fmt=\"png\",\n",
    "    toolbar=None,\n",
    ")"
   ]
  },
  {
   "cell_type": "code",
   "execution_count": null,
   "id": "668179a2-c385-47b9-9ef2-77fcb06ca4a8",
   "metadata": {},
   "outputs": [],
   "source": [
    "# integrated over theta\n",
    "theta_range = (0, 45)\n",
    "\n",
    "layout = (\n",
    "    integrate_da(restacked_ds_05[\"R\"].sel(theta=slice(*theta_range)), dim=[\"wavelength\", \"theta\"], normalisation=1).hvplot(\n",
    "        kind=\"violin\", groupby=[\"num_periods\", \"period\"], color=blue,\n",
    "    )\n",
    "    * integrate_da(restacked_pds[\"R\"].sel(theta=slice(*theta_range)), dim=[\"wavelength\", \"theta\"], normalisation=1).hvplot(\n",
    "        kind=\"box\", groupby=[\"num_periods\", \"period\"], color=blue, legend=False\n",
    "    )\n",
    "    + integrate_da(restacked_ds_05[\"T\"].sel(theta=slice(*theta_range)), dim=[\"wavelength\", \"theta\"], normalisation=1).hvplot(\n",
    "        kind=\"violin\", groupby=[\"num_periods\", \"period\"], color=yellow,\n",
    "    )\n",
    "    * integrate_da(restacked_pds[\"T\"].sel(theta=slice(*theta_range)), dim=[\"wavelength\", \"theta\"], normalisation=1).hvplot(\n",
    "        kind=\"box\", groupby=[\"num_periods\", \"period\"], color=yellow, legend=False\n",
    "    )\n",
    "    + integrate_da(restacked_ds_05[\"A\"].sel(theta=slice(*theta_range)), dim=[\"wavelength\", \"theta\"], normalisation=1).hvplot(\n",
    "        kind=\"violin\", groupby=[\"num_periods\", \"period\"], color=red,\n",
    "    )\n",
    "    * integrate_da(restacked_pds[\"A\"].sel(theta=slice(*theta_range)), dim=[\"wavelength\", \"theta\"], normalisation=1).hvplot(\n",
    "        kind=\"box\", groupby=[\"num_periods\", \"period\"], color=red, legend=False\n",
    "    )\n",
    ").opts(opts.Violin(width=200), opts.Layout(shared_axes=False)).cols(3)\n",
    "\n",
    "layout"
   ]
  },
  {
   "cell_type": "code",
   "execution_count": null,
   "id": "c8e42005-8854-48ea-bdd6-4d47048c78af",
   "metadata": {},
   "outputs": [],
   "source": [
    "N = 50\n",
    "P = 250\n",
    "elt = 50\n",
    "fig = layout.select(num_periods=N, period=P).opts(\n",
    "    opts.Violin(xlabel=\"\", fontscale=2, width=200, height=300),\n",
    "    opts.Layout(show_title=False),\n",
    "    clone=True\n",
    ")\n",
    "display(fig)"
   ]
  },
  {
   "cell_type": "markdown",
   "id": "6143abf0-fb54-43b6-b31b-40e7abf706d4",
   "metadata": {},
   "source": [
    "Not convinced these are good plots"
   ]
  },
  {
   "cell_type": "code",
   "execution_count": null,
   "id": "92682373-9c04-4b24-8151-0e6e9f7cce4c",
   "metadata": {},
   "outputs": [],
   "source": [
    "hv.save(\n",
    "    fig,\n",
    "    filename=f\"data/run_{run_number}/figures/DLOPC_RTA_violin_wl_th_P{P}_elt{elt}_N{N}_wltot_th{theta_range[0]}-{theta_range[1]}\",\n",
    "    fmt=\"png\",\n",
    "    toolbar=None,\n",
    ")"
   ]
  },
  {
   "cell_type": "code",
   "execution_count": null,
   "id": "774d65f3-cd80-4903-9d43-7494d9e50152",
   "metadata": {},
   "outputs": [],
   "source": [
    "# integrated over theta\n",
    "var = \"R\"\n",
    "theta_range = (0, 45)\n",
    "Delta = 0.1\n",
    "N = [5, 20, 50]\n",
    "P = 300  # Ps: 200, 250, 300\n",
    "\n",
    "layout = (\n",
    "    integrate_da(restacked_ds[var].sel(delta=Delta).sel(period=P).sel(num_periods=N).sel(theta=slice(*theta_range)), dim=[\"wavelength\", \"theta\"], normalisation=1).hvplot(\n",
    "        kind=\"violin\", row=\"num_periods\", color=blue,\n",
    "    )\n",
    "    * integrate_da(restacked_pds[var].sel(period=P).sel(num_periods=N).sel(theta=slice(*theta_range)), dim=[\"wavelength\", \"theta\"], normalisation=1).hvplot(\n",
    "        kind=\"box\", row=\"num_periods\", color=blue, legend=False\n",
    "    )\n",
    ").opts(\n",
    "    # opts.Violin(width=500),\n",
    "    # opts.BoxWhisker(width=500),\n",
    "    # opts.GridSpace(frame_width=500),  # frame_width is broken, need new Holoviews version (see https://github.com/holoviz/holoviews/issues/4051)\n",
    "    opts.GridSpace(plot_size=(200, 300))\n",
    ")\n",
    "\n",
    "layout"
   ]
  },
  {
   "cell_type": "code",
   "execution_count": null,
   "id": "0a2c96db-b77e-4f83-8bd2-3675320442ba",
   "metadata": {
    "tags": []
   },
   "outputs": [],
   "source": [
    "# # sanity check - is the minimum integrated R < 0, as implied by the leftmost plot?\n",
    "# # no, it's an artifact of the violin plotting the probability distribution\n",
    "# integrate_da(\n",
    "#     restacked_ds_05[\"R\"]\n",
    "#     .sel(period=P)\n",
    "#     .sel(num_periods=5)\n",
    "#     .sel(theta=slice(*theta_range)),\n",
    "#     dim=[\"wavelength\", \"theta\"],\n",
    "#     normalisation=1,\n",
    "# ).min(\"run\").compute()"
   ]
  },
  {
   "cell_type": "code",
   "execution_count": null,
   "id": "98c5f434-a28f-4f99-8913-d3f863ee9bce",
   "metadata": {
    "tags": []
   },
   "outputs": [],
   "source": [
    "elt = 50\n",
    "fig = layout.opts(\n",
    "    opts.Violin(\n",
    "        xlabel=\"\",\n",
    "        xaxis=None,\n",
    "        fontscale=2,\n",
    "    ),\n",
    "    opts.GridSpace(\n",
    "        fontscale=2,\n",
    "        toolbar=None,\n",
    "        # xaxis=None\n",
    "    ),\n",
    "    clone=True,\n",
    ")\n",
    "display(fig)"
   ]
  },
  {
   "cell_type": "code",
   "execution_count": null,
   "id": "3cdc6231-3068-4f37-9ec9-4130137cca6d",
   "metadata": {},
   "outputs": [],
   "source": [
    "Ns = \"-\".join([str(i) for i in N])\n",
    "ths = \"-\".join([str(i) for i in theta_range])\n",
    "D = str(Delta).replace(\".\", \"\")\n",
    "hv.save(\n",
    "    fig,\n",
    "    filename=f\"data/run_{run_number}/figures/DLOPC_{var}_violin_wl_th_P{P}_elt{elt}_N{Ns}_wltot_th{ths}_D{D}\",\n",
    "    fmt=\"png\",\n",
    "    toolbar=None,\n",
    ")"
   ]
  },
  {
   "cell_type": "code",
   "execution_count": null,
   "id": "9cb80d02-de0b-4a65-b0f0-33250f788f37",
   "metadata": {},
   "outputs": [],
   "source": [
    "# integrated over theta\n",
    "var = \"R\"\n",
    "theta_range = (0, 45)\n",
    "N = [5, 20, 50]\n",
    "P = 300  # Ps: 200, 250, 300\n",
    "\n",
    "layout = (\n",
    "    integrate_da(restacked_ds_05[var].sel(period=P).sel(num_periods=N).sel(theta=slice(*theta_range)), dim=[\"wavelength\", \"theta\"], normalisation=1).hvplot(\n",
    "        kind=\"violin\", row=\"num_periods\", color=blue,\n",
    "    )\n",
    "    * integrate_da(restacked_pds[var].sel(period=P).sel(num_periods=N).sel(theta=slice(*theta_range)), dim=[\"wavelength\", \"theta\"], normalisation=1).hvplot(\n",
    "        kind=\"box\", row=\"num_periods\", color=blue, legend=False\n",
    "    )\n",
    ").opts(\n",
    "    # opts.Violin(width=500),\n",
    "    # opts.BoxWhisker(width=500),\n",
    "    # opts.GridSpace(frame_width=500),  # frame_width is broken, need new Holoviews version (see https://github.com/holoviz/holoviews/issues/4051)\n",
    "    opts.GridSpace(plot_size=(200, 300))\n",
    ")\n",
    "\n",
    "layout"
   ]
  },
  {
   "cell_type": "code",
   "execution_count": null,
   "id": "09a21d71-b463-4de3-98da-494ec91e541f",
   "metadata": {
    "tags": []
   },
   "outputs": [],
   "source": [
    "# # sanity check - is the minimum integrated R < 0, as implied by the leftmost plot?\n",
    "# # no, it's an artifact of the violin plotting the probability distribution\n",
    "# integrate_da(\n",
    "#     restacked_ds_05[\"R\"]\n",
    "#     .sel(period=P)\n",
    "#     .sel(num_periods=5)\n",
    "#     .sel(theta=slice(*theta_range)),\n",
    "#     dim=[\"wavelength\", \"theta\"],\n",
    "#     normalisation=1,\n",
    "# ).min(\"run\").compute()"
   ]
  },
  {
   "cell_type": "code",
   "execution_count": null,
   "id": "949e5de8-1354-45ec-8639-d1cfe8b83ad6",
   "metadata": {},
   "outputs": [],
   "source": [
    "elt = 50\n",
    "fig = layout.opts(\n",
    "    opts.Violin(\n",
    "        xlabel=\"\",\n",
    "        xaxis=None,\n",
    "        fontscale=2,\n",
    "    ),\n",
    "    opts.GridSpace(fontscale=2, toolbar=None, xaxis=None),\n",
    "    clone=True,\n",
    ")\n",
    "display(fig)"
   ]
  },
  {
   "cell_type": "code",
   "execution_count": null,
   "id": "4e5a0eef-8ee4-4901-b3ea-c6ec317f3a3b",
   "metadata": {},
   "outputs": [],
   "source": [
    "Ns = \"-\".join([str(i) for i in N])\n",
    "ths = \"-\".join([str(i) for i in theta_range])\n",
    "hv.save(\n",
    "    fig,\n",
    "    filename=f\"data/run_{run_number}/figures/DLOPC_{var}_violin_wl_th_P{P}_elt{elt}_N{Ns}_wltot_th{ths}\",\n",
    "    fmt=\"png\",\n",
    "    toolbar=None,\n",
    ")"
   ]
  },
  {
   "cell_type": "code",
   "execution_count": null,
   "id": "8be8118f-5d76-419c-8653-a40c6f791ce5",
   "metadata": {},
   "outputs": [],
   "source": [
    "# integrated over theta\n",
    "var = \"T\"\n",
    "theta_range = (0, 45)\n",
    "N = [5, 20, 50]\n",
    "P = 250\n",
    "\n",
    "layout = (\n",
    "    integrate_da(restacked_ds_05[var].sel(period=P).sel(num_periods=N).sel(theta=slice(*theta_range)), dim=[\"wavelength\", \"theta\"], normalisation=1).hvplot(\n",
    "        kind=\"violin\", row=\"num_periods\", color=yellow,\n",
    "    )\n",
    "    * integrate_da(restacked_pds[var].sel(period=P).sel(num_periods=N).sel(theta=slice(*theta_range)), dim=[\"wavelength\", \"theta\"], normalisation=1).hvplot(\n",
    "        kind=\"box\", row=\"num_periods\", color=yellow, legend=False\n",
    "    )\n",
    ").opts(\n",
    "    # opts.Violin(width=500),\n",
    "    # opts.BoxWhisker(width=500),\n",
    "    # opts.GridSpace(frame_width=500),  # frame_width is broken, need new Holoviews version (see https://github.com/holoviz/holoviews/issues/4051)\n",
    "    opts.GridSpace(plot_size=(200, 300))\n",
    ")\n",
    "\n",
    "layout"
   ]
  },
  {
   "cell_type": "code",
   "execution_count": null,
   "id": "29baeeb7-34a3-4409-a52e-0bbbb20c3200",
   "metadata": {},
   "outputs": [],
   "source": [
    "elt = 50\n",
    "fig = layout.opts(\n",
    "    opts.Violin(\n",
    "        xlabel=\"\",\n",
    "        xaxis=None,\n",
    "        ylim=(0.36, None),\n",
    "        fontscale=2,\n",
    "    ),\n",
    "    opts.GridSpace(fontscale=2, toolbar=None, ),\n",
    "    clone=True,\n",
    ")\n",
    "display(fig)"
   ]
  },
  {
   "cell_type": "code",
   "execution_count": null,
   "id": "29c888b2-0629-4c72-beed-6b750faaa8fd",
   "metadata": {},
   "outputs": [],
   "source": [
    "Ns = \"-\".join([str(i) for i in N])\n",
    "ths = \"-\".join([str(i) for i in theta_range])\n",
    "hv.save(\n",
    "    fig,\n",
    "    filename=f\"data/run_{run_number}/figures/DLOPC_{var}_violin_wl_th_P{P}_elt{elt}_N{Ns}_wltot_th{ths}\",\n",
    "    fmt=\"png\",\n",
    "    toolbar=None,\n",
    ")"
   ]
  },
  {
   "cell_type": "code",
   "execution_count": null,
   "id": "3c9757dd-8fdc-4a8a-877b-528cf337fa7b",
   "metadata": {},
   "outputs": [],
   "source": [
    "# integrated over theta\n",
    "var = \"A\"\n",
    "theta_range = (0, 45)\n",
    "N = [5, 20, 50]\n",
    "P = 250\n",
    "\n",
    "layout = (\n",
    "    integrate_da(restacked_ds_05[var].sel(period=P).sel(num_periods=N).sel(theta=slice(*theta_range)), dim=[\"wavelength\", \"theta\"], normalisation=1).hvplot(\n",
    "        kind=\"violin\", row=\"num_periods\", color=red,\n",
    "    )\n",
    "    * integrate_da(restacked_pds[var].sel(period=P).sel(num_periods=N).sel(theta=slice(*theta_range)), dim=[\"wavelength\", \"theta\"], normalisation=1).hvplot(\n",
    "        kind=\"box\", row=\"num_periods\", color=red, legend=False\n",
    "    )\n",
    ").opts(\n",
    "    # opts.Violin(width=500),\n",
    "    # opts.BoxWhisker(width=500),\n",
    "    # opts.GridSpace(frame_width=500),  # frame_width is broken, need new Holoviews version (see https://github.com/holoviz/holoviews/issues/4051)\n",
    "    opts.GridSpace(plot_size=(200, 300))\n",
    ")\n",
    "\n",
    "layout"
   ]
  },
  {
   "cell_type": "code",
   "execution_count": null,
   "id": "91b52685-9eab-4dcd-bcb2-cc6ab06d7712",
   "metadata": {},
   "outputs": [],
   "source": [
    "elt = 50\n",
    "fig = layout.opts(\n",
    "    opts.Violin(\n",
    "        xlabel=\"\",\n",
    "        xaxis=None,\n",
    "        ylim=(0.08, 0.52),\n",
    "        fontscale=2,\n",
    "    ),\n",
    "    opts.GridSpace(fontscale=2, toolbar=None, xaxis=None),\n",
    "    clone=True,\n",
    ")\n",
    "display(fig)"
   ]
  },
  {
   "cell_type": "code",
   "execution_count": null,
   "id": "2f32dd18-394a-421c-967b-d88fba700577",
   "metadata": {},
   "outputs": [],
   "source": [
    "Delta = 0.5"
   ]
  },
  {
   "cell_type": "code",
   "execution_count": null,
   "id": "2d9bedb5-3f05-481f-ace3-5ec68684ab6e",
   "metadata": {},
   "outputs": [],
   "source": [
    "D = str(Delta).replace(\".\", \"\")"
   ]
  },
  {
   "cell_type": "code",
   "execution_count": null,
   "id": "3539ef14-4dc3-4b98-ae19-6047ea1c41f5",
   "metadata": {},
   "outputs": [],
   "source": [
    "Ns = \"-\".join([str(i) for i in N])\n",
    "ths = \"-\".join([str(i) for i in theta_range])\n",
    "hv.save(\n",
    "    fig,\n",
    "    filename=f\"data/run_{run_number}/figures/DLOPC_{var}_violin_wl_th_P{P}_elt{elt}_N{Ns}_wltot_th{ths}_D{D}\",\n",
    "    fmt=\"png\",\n",
    "    toolbar=None,\n",
    ")"
   ]
  },
  {
   "cell_type": "code",
   "execution_count": null,
   "id": "f113bef2-e13c-4000-bc4d-ca76019495bd",
   "metadata": {},
   "outputs": [],
   "source": []
  }
 ],
 "metadata": {
  "kernelspec": {
   "display_name": "Python [conda env:multilayer_simulator] *",
   "language": "python",
   "name": "conda-env-multilayer_simulator-py"
  },
  "language_info": {
   "codemirror_mode": {
    "name": "ipython",
    "version": 3
   },
   "file_extension": ".py",
   "mimetype": "text/x-python",
   "name": "python",
   "nbconvert_exporter": "python",
   "pygments_lexer": "ipython3",
   "version": "3.10.0"
  }
 },
 "nbformat": 4,
 "nbformat_minor": 5
}
