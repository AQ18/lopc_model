{
 "cells": [
  {
   "cell_type": "markdown",
   "id": "19958674-ffff-4759-9a02-da9cb2d3185e",
   "metadata": {},
   "source": [
    "Generating plots that explore the basic, static LOPC model."
   ]
  },
  {
   "cell_type": "code",
   "execution_count": null,
   "id": "724c8587-3b61-42f3-b2a0-1b4e13a82733",
   "metadata": {
    "tags": []
   },
   "outputs": [],
   "source": [
    "# computation\n",
    "import lumapi\n",
    "import numpy as np\n",
    "import warnings\n",
    "import xarray as xr\n",
    "import xyzpy as xyz\n",
    "from xyzpy.gen.combo_runner import multi_concat\n",
    "from multilayer_simulator.lumerical_classes import LumericalOscillator, format_stackrt, format_stackfield\n",
    "from multilayer_simulator.helpers.mixins import convert_wavelength_and_frequency\n",
    "import dask\n",
    "from functools import partial\n",
    "import pandas as pd\n",
    "from tqdm import tqdm\n",
    "# plotting\n",
    "import hvplot.xarray\n",
    "import holoviews as hv\n",
    "from holoviews import dim, opts\n",
    "import panel as pn\n",
    "import panel.widgets as pnw"
   ]
  },
  {
   "cell_type": "code",
   "execution_count": null,
   "id": "ac92132b-119c-4b7f-aa19-1d1f40021798",
   "metadata": {
    "tags": []
   },
   "outputs": [],
   "source": [
    "hv.extension(\"bokeh\", \"matplotlib\", case_sensitive_completion=True)\n",
    "pn.config.throttled = True\n",
    "\n",
    "xarray_engine='h5netcdf'"
   ]
  },
  {
   "cell_type": "code",
   "execution_count": null,
   "id": "fbf38b56-5bee-44ea-af1a-26f8536b4d72",
   "metadata": {
    "tags": []
   },
   "outputs": [],
   "source": [
    "# A hacky way to import a script\n",
    "\n",
    "import os\n",
    "import sys\n",
    "\n",
    "dir2 = os.path.abspath(\"\")\n",
    "dir1 = os.path.dirname(dir2)\n",
    "if not dir1 in sys.path:\n",
    "    sys.path.append(dir1)\n",
    "from LOPC import LOPC\n",
    "from LOPC.helpers import (\n",
    "    assign_derived_attrs,\n",
    "    restack,\n",
    "    enhancement_factor,\n",
    "    combo_length,\n",
    "    estimate_combo_run_time,\n",
    "    linewidth_calculator,\n",
    "    lopc_data,\n",
    "    spectrum,\n",
    "    normalise_over_dim,\n",
    "    integrate_da,\n",
    "    sel_or_integrate,\n",
    "    find_optimum_coords,\n",
    "    plot_secondary,\n",
    "    pre_process_for_plots,\n",
    "    vlines,\n",
    "    coordinate_string,\n",
    "    plot_da,\n",
    "    plot_var,\n",
    "    plot_optimum_over_dim,\n",
    "    plot_field,\n",
    "    complex_elements,\n",
    ")"
   ]
  },
  {
   "cell_type": "markdown",
   "id": "a9934a53-07da-4ac8-84d1-16975bb670bd",
   "metadata": {},
   "source": [
    "Turn on auto-archiving of cells and Holoviews outputs. See the user guide [here](https://holoviews.org/user_guide/Exporting_and_Archiving.html).\n",
    "\n",
    "Might need to install `ipympl`."
   ]
  },
  {
   "cell_type": "code",
   "execution_count": null,
   "id": "44537862-db7d-4b4e-b091-c70bbd987aa1",
   "metadata": {
    "tags": []
   },
   "outputs": [],
   "source": [
    "# hv.archive.auto() # This breaks the DynamicMap call below due to something to do with pickling\n",
    "\n",
    "run_number = 2"
   ]
  },
  {
   "cell_type": "markdown",
   "id": "35ba364d-7f3d-498f-9ba4-625789c80321",
   "metadata": {},
   "source": [
    "Useful variables for plotting later:"
   ]
  },
  {
   "cell_type": "code",
   "execution_count": null,
   "id": "c3a41416-e924-4d25-b786-9e6eab91d541",
   "metadata": {
    "tags": []
   },
   "outputs": [],
   "source": [
    "blue = hv.Cycle.default_cycles['default_colors'][0]\n",
    "red = hv.Cycle.default_cycles['default_colors'][1]\n",
    "yellow = hv.Cycle.default_cycles['default_colors'][2]\n",
    "green = hv.Cycle.default_cycles['default_colors'][3]"
   ]
  },
  {
   "cell_type": "code",
   "execution_count": null,
   "id": "f343ce2d-2b47-4287-8364-b4bc9cff7775",
   "metadata": {
    "tags": []
   },
   "outputs": [],
   "source": [
    "wavelengths_in_nanometres = np.linspace(480, 880, 256)\n",
    "wavelengths = wavelengths_in_nanometres * 1e-9\n",
    "frequencies = convert_wavelength_and_frequency(wavelengths)\n",
    "angles = np.linspace(0, 86, 64)"
   ]
  },
  {
   "cell_type": "code",
   "execution_count": null,
   "id": "94d039bd-d307-4c0f-a24d-b8c751a7f2fc",
   "metadata": {
    "tags": []
   },
   "outputs": [],
   "source": [
    "default_oscillator_params = {\n",
    "    \"N\": 1e26,\n",
    "    \"permittivity\": 2.2,\n",
    "    \"lorentz_resonance_wavelength\": 680,\n",
    "    \"lorentz_linewidth\": 7.5e13,\n",
    "}"
   ]
  },
  {
   "cell_type": "markdown",
   "id": "a0787091-bc3d-4c23-89ed-85e4e24eec2d",
   "metadata": {
    "tags": []
   },
   "source": [
    "# Setup"
   ]
  },
  {
   "cell_type": "code",
   "execution_count": null,
   "id": "6ccd0bea-efdb-4f9e-a1ed-14aab6793699",
   "metadata": {
    "tags": []
   },
   "outputs": [],
   "source": [
    "fdtd = lumapi.FDTD()"
   ]
  },
  {
   "cell_type": "code",
   "execution_count": null,
   "id": "62629c77-4167-43df-95b5-dde015789cb7",
   "metadata": {},
   "outputs": [],
   "source": [
    "oscillator = LumericalOscillator(session=fdtd)"
   ]
  },
  {
   "cell_type": "code",
   "execution_count": null,
   "id": "3d0e0f0c-7c00-46c6-99c6-bbd254930660",
   "metadata": {},
   "outputs": [],
   "source": [
    "formatter = format_stackrt(\n",
    "    output_format=\"xarray_dataset\",\n",
    "    **{\n",
    "        \"variables\": [\"Rs\", \"Rp\", \"Ts\", \"Tp\"],\n",
    "        \"add_absorption\": False,\n",
    "    }\n",
    ")"
   ]
  },
  {
   "cell_type": "code",
   "execution_count": null,
   "id": "ffa76a54-48a3-4ad9-8364-45a14b2043b8",
   "metadata": {},
   "outputs": [],
   "source": [
    "resources = {\n",
    "    \"lumerical_session\": fdtd,\n",
    "    \"oscillator\": oscillator,\n",
    "    \"simulation_mode\": \"stackrt\",\n",
    "    \"formatter\": formatter,\n",
    "    \"frequencies\": frequencies,\n",
    "    \"angles\": angles,\n",
    "}"
   ]
  },
  {
   "cell_type": "code",
   "execution_count": null,
   "id": "ea29b7a5-7605-4172-b789-bce4ee6a62bb",
   "metadata": {},
   "outputs": [],
   "source": [
    "constants = {\n",
    "    \"length_scale\": 1e-9\n",
    "}"
   ]
  },
  {
   "cell_type": "code",
   "execution_count": null,
   "id": "915c3fda-a609-4fad-bb8f-ff4704672214",
   "metadata": {},
   "outputs": [],
   "source": [
    "r = xyz.Runner(lopc_data, var_names=None, constants=constants, resources=resources)"
   ]
  },
  {
   "cell_type": "markdown",
   "id": "7b3a877e-d7d1-408a-862a-015f49a0db8f",
   "metadata": {
    "tags": []
   },
   "source": [
    "## LOPC"
   ]
  },
  {
   "cell_type": "code",
   "execution_count": null,
   "id": "4f8087b9-f824-4d45-b8f8-6b5d3f74c4a3",
   "metadata": {},
   "outputs": [],
   "source": [
    "h_lopc = xyz.Harvester(runner=r, data_name=f\"data/run_{run_number}/LOPC.nc\")"
   ]
  },
  {
   "cell_type": "code",
   "execution_count": null,
   "id": "e0f29b21-b175-46b1-8b7b-eb1f2a9aa4a8",
   "metadata": {},
   "outputs": [],
   "source": [
    "%%timeit\n",
    "# check how long one run takes\n",
    "lopc_data(**resources)"
   ]
  },
  {
   "cell_type": "markdown",
   "id": "8dc5aa54-cf8e-4987-81cb-dc1c513cb8aa",
   "metadata": {
    "tags": []
   },
   "source": [
    "## Reference slabs"
   ]
  },
  {
   "cell_type": "code",
   "execution_count": null,
   "id": "56adc1fb-c0ac-496c-8fdf-3a387e4e41bc",
   "metadata": {},
   "outputs": [],
   "source": [
    "h_ref = xyz.Harvester(runner=r, data_name=f\"data/run_{run_number}/ref.nc\")"
   ]
  },
  {
   "cell_type": "markdown",
   "id": "f2c860db-29f6-4a1e-a75b-59434b93ca7a",
   "metadata": {
    "tags": []
   },
   "source": [
    "# Data generation"
   ]
  },
  {
   "cell_type": "code",
   "execution_count": null,
   "id": "03e66404-541c-4265-bf0a-3b98c54b555c",
   "metadata": {
    "tags": []
   },
   "outputs": [],
   "source": [
    "# combos = {\n",
    "#     \"passive_RI\": [1.35],\n",
    "#     \"incident_medium_RI\": [1.35],\n",
    "#     \"exit_medium_RI\": [1.35],\n",
    "#     \"N\": [1e26],\n",
    "#     \"permittivity\": [2.2],\n",
    "#     \"lorentz_resonance_wavelength\": [680],\n",
    "#     \"lorentz_linewidth\": [7.5e13],\n",
    "#     \"num_periods\": np.union1d(np.arange(1, 30, 1), np.arange(30, 51, 10)),\n",
    "#     \"passive_layer_thickness\": np.arange(0, 311, 10),\n",
    "#     \"excitonic_layer_thickness\": np.arange(0, 151, 10),\n",
    "#     \"remove_last_layer\": [0], # True/False are not compatible with netCDF format\n",
    "# }"
   ]
  },
  {
   "cell_type": "markdown",
   "id": "cc1e4924-36db-4f5e-a48a-7a36a38fa84e",
   "metadata": {
    "tags": []
   },
   "source": [
    "## Layer thicknesses"
   ]
  },
  {
   "cell_type": "markdown",
   "id": "3d233a7f-3329-4628-bf7d-d215f9906ca5",
   "metadata": {
    "jp-MarkdownHeadingCollapsed": true,
    "tags": []
   },
   "source": [
    "### LOPC simulation"
   ]
  },
  {
   "cell_type": "code",
   "execution_count": null,
   "id": "e5aa45eb-950a-42f0-bcfb-e6ad99907684",
   "metadata": {},
   "outputs": [],
   "source": [
    "for k, v in combos.items():\n",
    "    print(f\"{k}: length {len(v)}\")"
   ]
  },
  {
   "cell_type": "code",
   "execution_count": null,
   "id": "a321a5e2-2ccb-4fae-8f41-3f1222bb6c31",
   "metadata": {},
   "outputs": [],
   "source": [
    "estimate_combo_run_time(1.2, combos)/3600"
   ]
  },
  {
   "cell_type": "code",
   "execution_count": null,
   "id": "48c53327-1221-4243-80f2-297ff9909668",
   "metadata": {},
   "outputs": [],
   "source": [
    "h_lopc.harvest_combos(combos)"
   ]
  },
  {
   "cell_type": "code",
   "execution_count": null,
   "id": "58e77f0b-9153-46d7-8b17-b5fc31d730b7",
   "metadata": {},
   "outputs": [],
   "source": [
    "h_lopc.save_full_ds()"
   ]
  },
  {
   "cell_type": "code",
   "execution_count": null,
   "id": "b08529f1-dc75-4b0e-8475-ddc9fc5eff35",
   "metadata": {},
   "outputs": [],
   "source": [
    "# ds = h_lopc.full_ds.copy()"
   ]
  },
  {
   "cell_type": "markdown",
   "id": "64a12855-2290-4d80-8438-ad5ae1e09347",
   "metadata": {
    "tags": []
   },
   "source": [
    "### Load LOPC dataset"
   ]
  },
  {
   "cell_type": "code",
   "execution_count": null,
   "id": "1ba0305d-a750-45a1-9a09-5abde8e49554",
   "metadata": {},
   "outputs": [],
   "source": [
    "# # chunks for per-angle plots\n",
    "# chunks = {\n",
    "#     \"frequency\": 256,\n",
    "#     \"excitonic_layer_thickness\": 16,\n",
    "#     \"passive_layer_thickness\": 32,\n",
    "#     \"theta\": 1,\n",
    "#     \"num_periods\": 16,\n",
    "# }"
   ]
  },
  {
   "cell_type": "code",
   "execution_count": null,
   "id": "4eb7aa9b-3576-47c8-a8fd-2cf6561f11d5",
   "metadata": {
    "tags": []
   },
   "outputs": [],
   "source": [
    "# chunks for plotting or integrating over angle\n",
    "chunks = {\n",
    "    \"frequency\": 256,\n",
    "    \"excitonic_layer_thickness\": 16,\n",
    "    \"passive_layer_thickness\": 32,\n",
    "    \"theta\": 16,\n",
    "    \"num_periods\": 1,\n",
    "}"
   ]
  },
  {
   "cell_type": "markdown",
   "id": "d59d37b2-4a8e-412d-a7bc-7d931151bb2f",
   "metadata": {
    "jp-MarkdownHeadingCollapsed": true,
    "tags": []
   },
   "source": [
    "#### Maths to work out good chunk sizes"
   ]
  },
  {
   "cell_type": "code",
   "execution_count": null,
   "id": "7b13cce5-6de7-42aa-8d8c-1294f88ee628",
   "metadata": {},
   "outputs": [],
   "source": [
    "def chunk_size(chunks):\n",
    "    return np.prod(list(chunks.values()))"
   ]
  },
  {
   "cell_type": "code",
   "execution_count": null,
   "id": "51c8633a-00d4-4da4-9929-60ea91388ef1",
   "metadata": {},
   "outputs": [],
   "source": [
    "# Number of chunks\n",
    "(combo_length(combos)*256*64) / chunk_size(chunks)"
   ]
  },
  {
   "cell_type": "code",
   "execution_count": null,
   "id": "27c7845b-9b17-429f-88b6-2007abda51f1",
   "metadata": {},
   "outputs": [],
   "source": [
    "# Do chunks contain at least a million data points?\n",
    "chunk_size(chunks)/1e6"
   ]
  },
  {
   "cell_type": "markdown",
   "id": "0724f75c-41ae-4cea-9e74-dfa106f03466",
   "metadata": {},
   "source": [
    "####"
   ]
  },
  {
   "cell_type": "code",
   "execution_count": null,
   "id": "99104feb-1250-4a01-b4ca-cf1a6917484f",
   "metadata": {
    "tags": []
   },
   "outputs": [],
   "source": [
    "ds = xr.open_mfdataset(\n",
    "    f\"data/run_{run_number}/LOPC.nc\",\n",
    "    engine=xarray_engine,\n",
    "    lock=False,\n",
    "    chunks=chunks,\n",
    ")\n",
    "\n",
    "# ds.equals(h_lopc.full_ds)"
   ]
  },
  {
   "cell_type": "code",
   "execution_count": null,
   "id": "502755be-5e9f-44b5-9293-c9bf6f10a666",
   "metadata": {
    "tags": []
   },
   "outputs": [],
   "source": [
    "# add derived attrs\n",
    "ds = assign_derived_attrs(ds, per_oscillator=[\"Rs\", \"Rp\", \"R\", \"Ts\", \"Tp\", \"T\", \"As\", \"Ap\", \"A\"])\n",
    "# ds"
   ]
  },
  {
   "cell_type": "code",
   "execution_count": null,
   "id": "1550047a-5815-4ee7-a888-1b7f9a2ed8d8",
   "metadata": {
    "tags": []
   },
   "outputs": [],
   "source": [
    "restack_plt_to_period = partial(\n",
    "    restack,\n",
    "    start_idxs=[\"passive_layer_thickness\", \"excitonic_layer_thickness\"],\n",
    "    end_idxs=[\"period\", \"excitonic_layer_thickness\"],\n",
    ")"
   ]
  },
  {
   "cell_type": "code",
   "execution_count": null,
   "id": "de873db9-ec7e-4412-9fc0-abda1a3228b9",
   "metadata": {
    "tags": []
   },
   "outputs": [],
   "source": [
    "restacked_ds = restack_plt_to_period(ds)"
   ]
  },
  {
   "cell_type": "markdown",
   "id": "c099d8d7-d50a-48f3-b406-77be2e70c19d",
   "metadata": {
    "jp-MarkdownHeadingCollapsed": true,
    "tags": []
   },
   "source": [
    "### Reference slab simulation"
   ]
  },
  {
   "cell_type": "code",
   "execution_count": null,
   "id": "a54ad4af-4642-4baa-85e4-a8eb70f9849d",
   "metadata": {
    "tags": []
   },
   "outputs": [],
   "source": [
    "# useful variables\n",
    "total_excitonic_thicknesses = np.unique(ds.total_excitonic_thickness)\n",
    "total_passive_thicknesses = np.unique(ds.total_passive_thickness)\n",
    "total_thicknesses = np.unique(ds.total_thickness)"
   ]
  },
  {
   "cell_type": "code",
   "execution_count": null,
   "id": "70ea175f-270c-4892-8698-461508a15c06",
   "metadata": {
    "tags": []
   },
   "outputs": [],
   "source": [
    "# compressed reference slab with the passive layer at the end\n",
    "reference_slab_combos_1 = combos|{\n",
    "    \"num_periods\": [1],\n",
    "    \"passive_layer_thickness\": total_passive_thicknesses,\n",
    "    \"excitonic_layer_thickness\": total_excitonic_thicknesses,\n",
    "    \"remove_last_layer\": [0]\n",
    "}"
   ]
  },
  {
   "cell_type": "code",
   "execution_count": null,
   "id": "20806538-47cf-42d1-9c01-c2ab1540804c",
   "metadata": {
    "tags": []
   },
   "outputs": [],
   "source": [
    "# compressed reference slab without passive layer, AND filled reference slabs\n",
    "reference_slab_combos_2 = combos|{\n",
    "    \"num_periods\": [1],\n",
    "    \"passive_layer_thickness\": [0],\n",
    "    \"excitonic_layer_thickness\": np.union1d(total_excitonic_thicknesses, total_thicknesses),\n",
    "    \"remove_last_layer\": [1]\n",
    "}"
   ]
  },
  {
   "cell_type": "code",
   "execution_count": null,
   "id": "9f2f9cd8-ef5f-4f2e-b146-094e916861a5",
   "metadata": {
    "tags": []
   },
   "outputs": [],
   "source": [
    "print(f\"reference_slab_combos_1: {estimate_combo_run_time(1.2, reference_slab_combos_1)/3600} hours\")\n",
    "print(f\"reference_slab_combos_2: {estimate_combo_run_time(1.2, reference_slab_combos_2)/3600} hours\")"
   ]
  },
  {
   "cell_type": "markdown",
   "id": "fb1a1215-36f2-452b-a04e-6de374a090b8",
   "metadata": {},
   "source": [
    "Compressed reference slab 0 takes too long because of the huge number of combinations. Also when the passive RI is equal to the incident/exit it makes no difference at all, therefore don't bother with it."
   ]
  },
  {
   "cell_type": "code",
   "execution_count": null,
   "id": "6f1e3e62-297d-4349-be67-c565b7690107",
   "metadata": {},
   "outputs": [],
   "source": [
    "# h_ref.harvest_combos(reference_slab_combos_1)\n",
    "h_ref.harvest_combos(reference_slab_combos_2)"
   ]
  },
  {
   "cell_type": "markdown",
   "id": "4a56ad48-0940-4cc6-951d-2a28e2d3a2b8",
   "metadata": {},
   "source": [
    "### Load reference slab dataset"
   ]
  },
  {
   "cell_type": "code",
   "execution_count": null,
   "id": "0f4ad339-7105-4796-b747-8ba6b5e7d393",
   "metadata": {
    "tags": []
   },
   "outputs": [],
   "source": [
    "# useful variables\n",
    "total_excitonic_thicknesses = np.unique(ds.total_excitonic_thickness)\n",
    "total_passive_thicknesses = np.unique(ds.total_passive_thickness)\n",
    "total_thicknesses = np.unique(ds.total_thickness)"
   ]
  },
  {
   "cell_type": "code",
   "execution_count": null,
   "id": "31286130-c473-45c3-9cfe-875c97ce42a2",
   "metadata": {
    "tags": []
   },
   "outputs": [],
   "source": [
    "ref = xr.open_mfdataset(\n",
    "    f\"data/run_{run_number}/ref.nc\",\n",
    "    engine=xarray_engine,\n",
    "    lock=False,\n",
    "    # chunks={'theta': 16},\n",
    ")"
   ]
  },
  {
   "cell_type": "markdown",
   "id": "07f6a32a-77f1-401e-b9e9-47bab6e49b33",
   "metadata": {},
   "source": [
    "Note: `period=False` is an important option because otherwise it ends up a coordinate of `total_excitonic_thickness` and causes a conflict after binary operations with `ds`."
   ]
  },
  {
   "cell_type": "code",
   "execution_count": null,
   "id": "dac7aac7-1d48-4593-8c94-7627364b1f92",
   "metadata": {
    "tags": []
   },
   "outputs": [],
   "source": [
    "ref = assign_derived_attrs(ref, period=False, total_excitonic_thickness=False, total_passive_thickness=False, total_thickness=False)\n",
    "# ref"
   ]
  },
  {
   "cell_type": "code",
   "execution_count": null,
   "id": "cc2a6c06-2231-4084-8703-3e5ce6671c2f",
   "metadata": {
    "tags": []
   },
   "outputs": [],
   "source": [
    "# compressed reference slab without passive layer\n",
    "crs_1 = (\n",
    "    ref.sel(\n",
    "        remove_last_layer=1,\n",
    "        passive_layer_thickness=0,\n",
    "        excitonic_layer_thickness=total_excitonic_thicknesses,\n",
    "        drop=True,\n",
    "    )\n",
    "    .squeeze(drop=True)\n",
    "    .rename(excitonic_layer_thickness=\"total_excitonic_thickness\")\n",
    ")\n",
    "\n",
    "# # compressed reference slab with the passive layer at the end\n",
    "# crs_0 = (\n",
    "#     ref.sel(\n",
    "#         remove_last_layer=0,\n",
    "#         passive_layer_thickness=total_passive_thicknesses,\n",
    "#         excitonic_layer_thickness=total_excitonic_thicknesses,\n",
    "#         drop=True,\n",
    "#     )\n",
    "#     .squeeze(drop=True)\n",
    "#     .rename(\n",
    "#         excitonic_layer_thickness=\"total_excitonic_thickness\",\n",
    "#         passive_layer_thickness=\"total_passive_thickness\",\n",
    "#     )\n",
    "# )"
   ]
  },
  {
   "cell_type": "code",
   "execution_count": null,
   "id": "685f12e2-b21f-4f71-9aaa-b4048599e7e1",
   "metadata": {
    "tags": []
   },
   "outputs": [],
   "source": [
    "# filled reference slab\n",
    "frs_1 = (\n",
    "    ref.sel(\n",
    "        remove_last_layer=1,\n",
    "        passive_layer_thickness=0,\n",
    "        excitonic_layer_thickness=total_thicknesses,\n",
    "        drop=True,\n",
    "    )\n",
    "    .squeeze(drop=True)\n",
    "    .rename(excitonic_layer_thickness=\"total_thickness\")\n",
    ")"
   ]
  },
  {
   "cell_type": "markdown",
   "id": "6936afc8-3c1b-431d-ac25-6560e4f2a434",
   "metadata": {
    "jp-MarkdownHeadingCollapsed": true,
    "tags": []
   },
   "source": [
    "### Calculate derived variables"
   ]
  },
  {
   "cell_type": "code",
   "execution_count": null,
   "id": "5d849d49-1f22-4b00-9205-b0fe68cb9d4a",
   "metadata": {},
   "outputs": [],
   "source": [
    "polarised_attrs = ['Rs', 'Rp', 'Ts', 'Tp', 'As', 'Ap']"
   ]
  },
  {
   "cell_type": "code",
   "execution_count": null,
   "id": "a0fe04c8-1acc-43a2-a686-8e74eea58969",
   "metadata": {},
   "outputs": [],
   "source": [
    "absorptances = ['As', 'Ap', 'A', 'A_per_oscillator']"
   ]
  },
  {
   "cell_type": "markdown",
   "id": "ac77a2f9-888b-4ba9-ac00-41f00190a7c4",
   "metadata": {
    "tags": []
   },
   "source": [
    "#### Normalise by CRS"
   ]
  },
  {
   "cell_type": "markdown",
   "id": "04a247a1-4675-45c7-91fc-beeb566b3c71",
   "metadata": {},
   "source": [
    "Two ways to do this, either groupby:"
   ]
  },
  {
   "cell_type": "code",
   "execution_count": null,
   "id": "22d9189e-7b4b-48c4-9796-bdc06fa47564",
   "metadata": {},
   "outputs": [],
   "source": [
    "gb_tet = ds[absorptances[:3]].groupby('total_excitonic_thickness')"
   ]
  },
  {
   "cell_type": "code",
   "execution_count": null,
   "id": "c6b1e5b2-6b0b-4e79-8833-dd9b8a42f8e0",
   "metadata": {
    "tags": []
   },
   "outputs": [],
   "source": [
    "# 'biology' absorptance enhancement factor: normalise by reference slab type 1: compressed reference slab w/o passive layer\n",
    "norm_1 = gb_tet/crs_1"
   ]
  },
  {
   "cell_type": "markdown",
   "id": "b6349a5a-79b3-465e-a415-9c23ab816291",
   "metadata": {},
   "source": [
    "or reindex the reference slab to share coordinates with the LOPC:"
   ]
  },
  {
   "cell_type": "code",
   "execution_count": null,
   "id": "d2291bca-5717-4887-abb2-56a804552f76",
   "metadata": {},
   "outputs": [],
   "source": [
    "crs_1_like_ds = crs_1.sel(total_excitonic_thickness = ds.total_excitonic_thickness)"
   ]
  },
  {
   "cell_type": "code",
   "execution_count": null,
   "id": "6fcd557b-e239-4c8f-adfa-718be18f0452",
   "metadata": {},
   "outputs": [],
   "source": [
    "norm_1.equals(ds/crs_1_like_ds)"
   ]
  },
  {
   "cell_type": "markdown",
   "id": "47da8cf4-c1d3-49d9-878e-ff1dc933ce0b",
   "metadata": {},
   "source": [
    "Both methods can be accessed by the `enhancement_factor` helper function:"
   ]
  },
  {
   "cell_type": "code",
   "execution_count": null,
   "id": "ef2329e8-c2c8-4cde-a4bd-5f3d598e2e50",
   "metadata": {},
   "outputs": [],
   "source": [
    "norm_1 = enhancement_factor(ds, ref=crs_1, common_dim=\"total_excitonic_thickness\", method=\"groupby\")"
   ]
  },
  {
   "cell_type": "markdown",
   "id": "6e81e45d-9808-4c07-a23c-372d1c855e06",
   "metadata": {},
   "source": [
    "Either way:"
   ]
  },
  {
   "cell_type": "code",
   "execution_count": null,
   "id": "61b4b99f-6c12-4360-b542-690adb308e99",
   "metadata": {},
   "outputs": [],
   "source": [
    "# save/load to use disk memory\n",
    "# norm_1.to_netcdf(f'data/run_{run_number}/norm_1.nc')"
   ]
  },
  {
   "cell_type": "code",
   "execution_count": null,
   "id": "49395ea3-533b-4f04-98cf-37cdd748cbd5",
   "metadata": {},
   "outputs": [],
   "source": [
    "# load from new kernel here\n",
    "norm_1 = xr.open_mfdataset(\n",
    "    f\"data/run_{run_number}/norm_1.nc\",\n",
    "    chunks=chunks,\n",
    ")"
   ]
  },
  {
   "cell_type": "code",
   "execution_count": null,
   "id": "9fa4bbd8-0613-4f25-96f1-3fe276966746",
   "metadata": {},
   "outputs": [],
   "source": [
    "restacked_norm_1 = restack_plt_to_period(norm_1)"
   ]
  },
  {
   "cell_type": "markdown",
   "id": "d6415706-614a-482e-ab72-34a38fe5cc51",
   "metadata": {
    "jp-MarkdownHeadingCollapsed": true,
    "tags": []
   },
   "source": [
    "#### Normalise by FRS"
   ]
  },
  {
   "cell_type": "code",
   "execution_count": null,
   "id": "568e52c2-72a9-4295-b4ae-69ed368a3683",
   "metadata": {},
   "outputs": [],
   "source": [
    "gb_tt = ds[absorptances].groupby('total_thickness')"
   ]
  },
  {
   "cell_type": "code",
   "execution_count": null,
   "id": "a9fc593c-692c-487d-8e77-1a6f66b511b2",
   "metadata": {},
   "outputs": [],
   "source": [
    "# 'stuffed' absorptance enhancement factor: normalise by reference slab type 2: filled reference slab\n",
    "with dask.config.set(**{'array.slicing.split_large_chunks': False}):\n",
    "    norm_2 = gb_tt/frs_1"
   ]
  },
  {
   "cell_type": "code",
   "execution_count": null,
   "id": "2924190d-df9c-47d8-8ee5-c9e2c220f713",
   "metadata": {
    "tags": []
   },
   "outputs": [],
   "source": [
    "# # save/load to use disk memory\n",
    "# norm_2.to_netcdf(f\"data/run_{run_number}/norm_2.nc\", engine=xarray_engine)"
   ]
  },
  {
   "cell_type": "code",
   "execution_count": null,
   "id": "f86ac38f-e654-429b-8e65-1cf2f117ecc5",
   "metadata": {},
   "outputs": [],
   "source": [
    "# load from new kernel here\n",
    "norm_2 = xr.open_mfdataset(\n",
    "    f\"data/run_{run_number}/norm_2.nc\",\n",
    "    chunks=chunks,\n",
    "    engine=xarray_engine,\n",
    "    lock=False,\n",
    ")"
   ]
  },
  {
   "cell_type": "code",
   "execution_count": null,
   "id": "e78e0c6e-c3aa-4caf-bc4e-47727aeeffdd",
   "metadata": {},
   "outputs": [],
   "source": [
    "norm_2 = assign_derived_attrs(norm_2, absorption=False, unpolarised=False, per_oscillator=False)"
   ]
  },
  {
   "cell_type": "code",
   "execution_count": null,
   "id": "af5cfc9a-51ea-450e-870b-f741c3a9f1f4",
   "metadata": {},
   "outputs": [],
   "source": [
    "restacked_norm_2 = norm_2.stack(multiperiod=['passive_layer_thickness', 'excitonic_layer_thickness']).set_index(multiperiod=['period', 'excitonic_layer_thickness']).unstack()"
   ]
  },
  {
   "cell_type": "code",
   "execution_count": null,
   "id": "17ee3ca2-726b-48c9-a02f-0660a214b163",
   "metadata": {},
   "outputs": [],
   "source": [
    "xs = {\n",
    "    \"theta\": pnw.DiscreteSlider,\n",
    "    \"passive_layer_thickness\": pnw.DiscreteSlider,\n",
    "    \"num_periods\": pnw.DiscreteSlider,\n",
    "}"
   ]
  },
  {
   "cell_type": "code",
   "execution_count": null,
   "id": "dd06f09b-d37e-4802-b27d-a70a55d0866b",
   "metadata": {},
   "outputs": [],
   "source": [
    "norm_2_int = norm_2.squeeze(drop=True).interactive"
   ]
  },
  {
   "cell_type": "code",
   "execution_count": null,
   "id": "d6357200-d046-40b0-8fa4-d079e77fa264",
   "metadata": {},
   "outputs": [],
   "source": [
    "norm_2_int.sel(**xs).A.hvplot(\n",
    "    x=\"wavelength\",\n",
    "    by=\"excitonic_layer_thickness\",\n",
    ") * hv.HLine(1).opts(opts.HLine(line_dash='dotted'))"
   ]
  },
  {
   "cell_type": "code",
   "execution_count": null,
   "id": "b51239d1-b60a-41d2-8a3a-671268f575a6",
   "metadata": {},
   "outputs": [],
   "source": [
    "norm_2_int.sel(**xs).A_per_oscillator.hvplot(\n",
    "    x=\"wavelength\",\n",
    "    by=\"excitonic_layer_thickness\",\n",
    "    ylim=(0, 3),\n",
    ") * hv.HLine(1).opts(opts.HLine(line_dash=\"dotted\"))"
   ]
  },
  {
   "cell_type": "code",
   "execution_count": null,
   "id": "763aaa18-0899-4a47-abd2-5a141b01ddb7",
   "metadata": {},
   "outputs": [],
   "source": [
    "restacked_xs = xs\n",
    "restacked_xs[\"period\"] = restacked_xs.pop(\"passive_layer_thickness\")"
   ]
  },
  {
   "cell_type": "code",
   "execution_count": null,
   "id": "0b7fdf53-c80f-421a-95ce-9804646d6816",
   "metadata": {},
   "outputs": [],
   "source": [
    "thicknesses = [10, 20, 50, 100, 150]\n",
    "\n",
    "restacked_norm_2.interactive.squeeze().sel(excitonic_layer_thickness=thicknesses, **restacked_xs).A_per_oscillator.hvplot(\n",
    "    x=\"wavelength\",\n",
    "    by=\"excitonic_layer_thickness\",\n",
    "    ylim=(0, 5),\n",
    ") * hv.HLine(1).opts(opts.HLine(line_dash='dotted'))"
   ]
  },
  {
   "cell_type": "markdown",
   "id": "3ddb3593-3d53-4ed0-88e9-77e4484c5e6a",
   "metadata": {
    "jp-MarkdownHeadingCollapsed": true,
    "tags": []
   },
   "source": [
    "#### Difference with CRS"
   ]
  },
  {
   "cell_type": "code",
   "execution_count": null,
   "id": "1f9f78fb-eed3-472d-b131-e9096a7618c7",
   "metadata": {},
   "outputs": [],
   "source": [
    "gb_tet = ds[polarised_attrs].groupby('total_excitonic_thickness')"
   ]
  },
  {
   "cell_type": "code",
   "execution_count": null,
   "id": "ac306c97-03d5-4c13-9969-1463d53d043c",
   "metadata": {
    "tags": []
   },
   "outputs": [],
   "source": [
    "# 'biology' absorptance enhancement factor: normalise by reference slab type 1: compressed reference slab w/o passive layer\n",
    "diff_1 = gb_tet - crs_1"
   ]
  },
  {
   "cell_type": "code",
   "execution_count": null,
   "id": "4be47ef6-8f0e-42f4-b13a-fd593f8daaeb",
   "metadata": {},
   "outputs": [],
   "source": [
    "# # save/load to use disk memory\n",
    "# # actually this doesn't seem to be necessary because the visualisation are fast enough without\n",
    "# diff_1.to_netcdf(f'data/run_{run_number}/diff_1.nc')"
   ]
  },
  {
   "cell_type": "code",
   "execution_count": null,
   "id": "b5d96cae-a736-4106-9bb1-cbf5fcc22303",
   "metadata": {},
   "outputs": [],
   "source": [
    "# # load from new kernel here\n",
    "# diff_1 = xr.open_mfdataset(\n",
    "#     f\"data/run_{run_number}/diff_1.nc\",\n",
    "#     chunks=chunks,\n",
    "# )"
   ]
  },
  {
   "cell_type": "code",
   "execution_count": null,
   "id": "ccc66c05-f94b-4c5e-a0d0-fca29eafb351",
   "metadata": {},
   "outputs": [],
   "source": [
    "diff_1 = assign_derived_attrs(\n",
    "    dataset=diff_1,\n",
    "    unpolarised=True,\n",
    "    absorption=False,\n",
    "    period=False,\n",
    "    total_excitonic_thickness=False,\n",
    "    total_passive_thickness=False,\n",
    "    total_thickness=False,\n",
    "    N_tot=False,\n",
    "    per_oscillator=[\"Rs\", \"Rp\", \"R\", \"Ts\", \"Tp\", \"T\", \"As\", \"Ap\", \"A\"],\n",
    ")"
   ]
  },
  {
   "cell_type": "code",
   "execution_count": null,
   "id": "51aaa3e0-ed5d-4e18-a58f-34c0447714c3",
   "metadata": {},
   "outputs": [],
   "source": [
    "restacked_diff_1 = diff_1.stack(multiperiod=['passive_layer_thickness', 'excitonic_layer_thickness']).set_index(multiperiod=['period', 'excitonic_layer_thickness']).unstack()"
   ]
  },
  {
   "cell_type": "markdown",
   "id": "75f4e5da-95cb-4b6f-b085-350704d76c63",
   "metadata": {
    "tags": []
   },
   "source": [
    "#### Difference with FRS"
   ]
  },
  {
   "cell_type": "markdown",
   "id": "9be873a9-3523-4ec2-b3a3-ee680a0bf323",
   "metadata": {
    "jp-MarkdownHeadingCollapsed": true,
    "tags": []
   },
   "source": [
    "#### Integration over flat spectrum"
   ]
  },
  {
   "cell_type": "code",
   "execution_count": null,
   "id": "42adea64-a693-4924-a611-0e7ca6b14ccf",
   "metadata": {},
   "outputs": [],
   "source": [
    "# Flat intensity profile\n",
    "\n",
    "def constant(value=1):\n",
    "    return np.vectorize(lambda x: value)\n",
    "\n",
    "flat_spectrum = spectrum(constant(), ds.frequency, normalisation=1, array_name='Intensity')\n",
    "\n",
    "flat_spectrum.hvplot('frequency')"
   ]
  },
  {
   "cell_type": "code",
   "execution_count": null,
   "id": "bad17ee8-b2d6-47ee-8c7c-96f564256567",
   "metadata": {},
   "outputs": [],
   "source": [
    "domain = (ds.stack(**{'dummy_idx': ['frequency', 'theta']})['dummy_idx'].unstack('dummy_idx'))\n",
    "\n",
    "domain"
   ]
  },
  {
   "cell_type": "code",
   "execution_count": null,
   "id": "abc90a33-bc8d-431e-b29c-d3030fd42e8c",
   "metadata": {},
   "outputs": [],
   "source": [
    "flat_spectrum_2D = spectrum(constant(), domain, normalisation=1, array_name='Intensity')\n",
    "\n",
    "flat_spectrum_2D.hvplot(kind='quadmesh', x='frequency', y='theta')"
   ]
  },
  {
   "cell_type": "code",
   "execution_count": null,
   "id": "00148368-0a20-4888-ba27-c238b5a4a4df",
   "metadata": {},
   "outputs": [],
   "source": [
    "flat_spectrum_2D.integrate('frequency').integrate('theta')"
   ]
  },
  {
   "cell_type": "markdown",
   "id": "53b2fa34-c0d5-46d7-b021-e1f7fd2b2ce9",
   "metadata": {
    "jp-MarkdownHeadingCollapsed": true,
    "tags": []
   },
   "source": [
    "##### Generate the data"
   ]
  },
  {
   "cell_type": "code",
   "execution_count": null,
   "id": "461c57c9-f645-4e7f-b3ef-269f8c8e015e",
   "metadata": {},
   "outputs": [],
   "source": [
    "ds_flat_spectrum = (ds * flat_spectrum).integrate(\"frequency\")\n",
    "ds_flat_spectrum.to_netcdf(\n",
    "    f\"data/run_{run_number}/LOPC_flat_spectrum.nc\", engine=xarray_engine\n",
    ")"
   ]
  },
  {
   "cell_type": "code",
   "execution_count": null,
   "id": "ed2065fe-0482-4624-86c8-d1071525e392",
   "metadata": {},
   "outputs": [],
   "source": [
    "ref_flat_spectrum = (ref * flat_spectrum).integrate(\"frequency\")\n",
    "ref_flat_spectrum.to_netcdf(\n",
    "    f\"data/run_{run_number}/ref_flat_spectrum.nc\", engine=xarray_engine\n",
    ")"
   ]
  },
  {
   "cell_type": "markdown",
   "id": "656de47c-59ab-4cef-95c9-ccb1010a8d50",
   "metadata": {
    "jp-MarkdownHeadingCollapsed": true,
    "tags": []
   },
   "source": [
    "###### Note: it is VERY IMPORTANT to integrate by frequency, not wavelength, because the normalisation is by frequency!"
   ]
  },
  {
   "cell_type": "code",
   "execution_count": null,
   "id": "c829d958-070b-44b1-ad44-6aeea924a69c",
   "metadata": {},
   "outputs": [],
   "source": [
    "temp = (ds*flat_spectrum).integrate('frequency').interactive.sel(theta=0, excitonic_layer_thickness=150, passive_layer_thickness=0).squeeze()"
   ]
  },
  {
   "cell_type": "code",
   "execution_count": null,
   "id": "03274946-7109-40ff-b585-6e5c82aa43ef",
   "metadata": {},
   "outputs": [],
   "source": [
    "temp.A.plot()"
   ]
  },
  {
   "cell_type": "code",
   "execution_count": null,
   "id": "4766b4ba-6248-4387-9cbf-d109b0ce4385",
   "metadata": {},
   "outputs": [],
   "source": [
    "temp_2 = (ds*flat_spectrum).integrate('wavelength').interactive.sel(theta=0, excitonic_layer_thickness=150, passive_layer_thickness=0).squeeze()"
   ]
  },
  {
   "cell_type": "code",
   "execution_count": null,
   "id": "3857d0f0-69f3-41a1-98e1-daf6059eb1b3",
   "metadata": {},
   "outputs": [],
   "source": [
    "temp_2.A.plot()"
   ]
  },
  {
   "cell_type": "markdown",
   "id": "7eceb25a-6eb8-45c1-beec-3fbad31f24d7",
   "metadata": {
    "jp-MarkdownHeadingCollapsed": true,
    "tags": []
   },
   "source": [
    "##### Load the data and define subsets"
   ]
  },
  {
   "cell_type": "code",
   "execution_count": null,
   "id": "fb496a80-2a07-4218-8b2c-922b0ae4b8cd",
   "metadata": {},
   "outputs": [],
   "source": [
    "ds_flat_spectrum = xr.open_dataset(\n",
    "    f\"data/run_{run_number}/LOPC_flat_spectrum.nc\",\n",
    "    engine=xarray_engine,\n",
    "    lock=False,\n",
    ")\n",
    "ds_flat_spectrum = assign_derived_attrs(ds_flat_spectrum)"
   ]
  },
  {
   "cell_type": "code",
   "execution_count": null,
   "id": "4bc4ce47-43bf-4384-8bea-7b643fc305f2",
   "metadata": {},
   "outputs": [],
   "source": [
    "restacked_ds_flat_spectrum = (\n",
    "    ds_flat_spectrum.stack(\n",
    "        multiperiod=[\"passive_layer_thickness\", \"excitonic_layer_thickness\"]\n",
    "    )\n",
    "    .set_index(multiperiod=[\"period\", \"excitonic_layer_thickness\"])\n",
    "    .unstack()\n",
    ")"
   ]
  },
  {
   "cell_type": "code",
   "execution_count": null,
   "id": "86151909-4c04-4412-a2c1-c52001f1b212",
   "metadata": {},
   "outputs": [],
   "source": [
    "ref_flat_spectrum = xr.open_dataset(\n",
    "    f\"data/run_{run_number}/ref_flat_spectrum.nc\",\n",
    "    engine=xarray_engine,\n",
    "    lock=False,\n",
    ")\n",
    "ref_flat_spectrum = assign_derived_attrs(ref_flat_spectrum, period=False, total_excitonic_thickness=False, total_passive_thickness=False, total_thickness=False)"
   ]
  },
  {
   "cell_type": "code",
   "execution_count": null,
   "id": "ea2230ac-2c65-4f83-b461-c766af9c6767",
   "metadata": {},
   "outputs": [],
   "source": [
    "# Compressed reference slab without passive layer\n",
    "crs_1_flat_spectrum = (\n",
    "    ref_flat_spectrum.sel(\n",
    "        remove_last_layer=1,\n",
    "        passive_layer_thickness=0,\n",
    "        excitonic_layer_thickness=total_excitonic_thicknesses,\n",
    "        drop=True\n",
    "    )\n",
    "    .squeeze(drop=True)\n",
    "    .rename(excitonic_layer_thickness=\"total_excitonic_thickness\")\n",
    ")"
   ]
  },
  {
   "cell_type": "code",
   "execution_count": null,
   "id": "7aae6007-a0a9-4440-9412-f180f347fba5",
   "metadata": {},
   "outputs": [],
   "source": [
    "norm_flat_spectrum = (ds_flat_spectrum.groupby('total_excitonic_thickness')/crs_1_flat_spectrum)#.drop_sel(excitonic_layer_thickness=0)"
   ]
  },
  {
   "cell_type": "code",
   "execution_count": null,
   "id": "5ab9cbc1-374d-431b-875b-923f0ee0ca48",
   "metadata": {},
   "outputs": [],
   "source": [
    "restacked_norm_flat_spectrum = (\n",
    "    norm_flat_spectrum.stack(\n",
    "        multiperiod=[\"passive_layer_thickness\", \"excitonic_layer_thickness\"]\n",
    "    )\n",
    "    .set_index(multiperiod=[\"period\", \"excitonic_layer_thickness\"])\n",
    "    .unstack()\n",
    ")"
   ]
  },
  {
   "cell_type": "code",
   "execution_count": null,
   "id": "520d3e69-0390-48ed-af81-ce1f96317552",
   "metadata": {},
   "outputs": [],
   "source": [
    "crs_1_fs_like_ds = crs_1_flat_spectrum.sel(\n",
    "    total_excitonic_thickness=ds.total_excitonic_thickness\n",
    ")"
   ]
  },
  {
   "cell_type": "code",
   "execution_count": null,
   "id": "1972103b-d172-4549-901a-49fe072bbfd2",
   "metadata": {},
   "outputs": [],
   "source": [
    "norm_flat_spectrum2 = (ds_flat_spectrum.drop_sel(excitonic_layer_thickness=0)/crs_1_fs_like_ds.drop_sel(excitonic_layer_thickness=0))"
   ]
  },
  {
   "cell_type": "code",
   "execution_count": null,
   "id": "f3104fc4-6510-42a6-871c-377f113656b8",
   "metadata": {},
   "outputs": [],
   "source": [
    "norm_flat_spectrum2 = (ds_flat_spectrum/crs_1_fs_like_ds).drop_sel(excitonic_layer_thickness=0)"
   ]
  },
  {
   "cell_type": "markdown",
   "id": "7e414a06-9b89-421f-8b46-b70d17bce83e",
   "metadata": {
    "jp-MarkdownHeadingCollapsed": true,
    "tags": []
   },
   "source": [
    "#### Gaussian spectrum"
   ]
  },
  {
   "cell_type": "code",
   "execution_count": null,
   "id": "aec46303-5ddb-428c-baa4-f0282bc020fb",
   "metadata": {},
   "outputs": [],
   "source": [
    "# Gaussian intensity profile\n",
    "\n",
    "from scipy.stats import norm\n",
    "\n",
    "spectrum(norm(loc=680, scale=100).pdf, ds.wavelength, normalisation=1, array_name='Intensity').hvplot()"
   ]
  },
  {
   "cell_type": "markdown",
   "id": "8fff32f0-e899-4fb9-a6b5-e9a99f4756cf",
   "metadata": {
    "jp-MarkdownHeadingCollapsed": true,
    "tags": []
   },
   "source": [
    "#### Demo of a spectrum over wavelength AND angle"
   ]
  },
  {
   "cell_type": "code",
   "execution_count": null,
   "id": "a8b56aa7-360f-464b-a29b-1b529fa4a3f0",
   "metadata": {},
   "outputs": [],
   "source": [
    "def test_spectral_func(domain):\n",
    "    return np.sin(domain.frequency*1e-14) * np.cos(domain.theta*np.pi/90)"
   ]
  },
  {
   "cell_type": "code",
   "execution_count": null,
   "id": "8b431084-dda5-43e8-8853-bad7fceae016",
   "metadata": {},
   "outputs": [],
   "source": [
    "test_spectral_func(ds.stack(midx=[\"frequency\", \"theta\"]).midx).unstack('midx').plot(x='frequency', y='theta')"
   ]
  },
  {
   "cell_type": "code",
   "execution_count": null,
   "id": "dc145e71-02b3-49a6-9a9e-941bbc73b732",
   "metadata": {},
   "outputs": [],
   "source": [
    "test_spectral_func(ds[[\"frequency\", \"theta\"]]).plot(x='frequency', y='theta')"
   ]
  },
  {
   "cell_type": "code",
   "execution_count": null,
   "id": "5d4bbd36-dbbd-4ff9-91b4-fc84fb098578",
   "metadata": {},
   "outputs": [],
   "source": [
    "spectrum(test_spectral_func, domain, normalisation=1).plot(x='frequency', y='theta')"
   ]
  },
  {
   "cell_type": "code",
   "execution_count": null,
   "id": "ebe92a15-5ca6-4ab2-8d90-d609ec4e37d1",
   "metadata": {},
   "outputs": [],
   "source": [
    "integrate_da(spectrum(test_spectral_func, domain, normalisation=1), ['frequency', 'theta'])"
   ]
  },
  {
   "cell_type": "markdown",
   "id": "c1e8b378-4403-460a-bd43-d46d3103dff2",
   "metadata": {
    "jp-MarkdownHeadingCollapsed": true,
    "tags": []
   },
   "source": [
    "#### Checking the normalisation method is at least self-consistent"
   ]
  },
  {
   "cell_type": "code",
   "execution_count": null,
   "id": "43280d69-057e-4df6-b568-921c0171c9e7",
   "metadata": {},
   "outputs": [],
   "source": [
    "xs = {\"passive_layer_thickness\": 100, \"excitonic_layer_thickness\": 10, \"num_periods\": 50}"
   ]
  },
  {
   "cell_type": "code",
   "execution_count": null,
   "id": "d4203f3e-edde-4e64-b13b-f6ea761151ed",
   "metadata": {},
   "outputs": [],
   "source": [
    "normalise_over_dim(ds.R, ['frequency', 'theta'], method=1).sel(xs).integrate(['frequency', 'theta']).compute()"
   ]
  },
  {
   "cell_type": "code",
   "execution_count": null,
   "id": "6c945808-3875-408e-a748-5762fce9c961",
   "metadata": {},
   "outputs": [],
   "source": [
    "normalise_over_dim(ds.R, ['frequency', 'theta'], method=2).sel(xs).integrate(['frequency', 'theta']).compute()"
   ]
  },
  {
   "cell_type": "markdown",
   "id": "1dbcb70a-2208-4221-824f-772d1132963c",
   "metadata": {
    "tags": []
   },
   "source": [
    "### Load derived variables"
   ]
  },
  {
   "cell_type": "code",
   "execution_count": null,
   "id": "9d6485a7-8d5f-4858-b647-ae434ca1ca10",
   "metadata": {
    "tags": []
   },
   "outputs": [],
   "source": [
    "polarised_attrs = ['Rs', 'Rp', 'Ts', 'Tp', 'As', 'Ap']"
   ]
  },
  {
   "cell_type": "code",
   "execution_count": null,
   "id": "26bb5d5d-e903-47c0-8baa-355d19295f3b",
   "metadata": {
    "tags": []
   },
   "outputs": [],
   "source": [
    "absorptances = ['As', 'Ap', 'A', 'A_per_oscillator']"
   ]
  },
  {
   "cell_type": "code",
   "execution_count": null,
   "id": "e2bc8f02-bec7-4a84-9e57-5fed46fd09e2",
   "metadata": {
    "tags": []
   },
   "outputs": [],
   "source": [
    "norm_1 = xr.open_mfdataset(\n",
    "    f\"data/run_{run_number}/norm_1.nc\",\n",
    "    chunks=chunks,\n",
    ")"
   ]
  },
  {
   "cell_type": "code",
   "execution_count": null,
   "id": "207da17b-4a80-476e-a694-c70af009e065",
   "metadata": {
    "tags": []
   },
   "outputs": [],
   "source": [
    "restacked_norm_1 = restack_plt_to_period(norm_1)"
   ]
  },
  {
   "cell_type": "code",
   "execution_count": null,
   "id": "937df8a1-5a9b-4308-a6ba-e29d76fccb27",
   "metadata": {
    "tags": []
   },
   "outputs": [],
   "source": [
    "norm_2 = xr.open_mfdataset(\n",
    "    f\"data/run_{run_number}/norm_2.nc\",\n",
    "    chunks=chunks,\n",
    "    engine=xarray_engine,\n",
    "    lock=False,\n",
    ")"
   ]
  },
  {
   "cell_type": "code",
   "execution_count": null,
   "id": "c47a761f-3576-41de-ab20-b0c82984b6ac",
   "metadata": {
    "tags": []
   },
   "outputs": [],
   "source": [
    "norm_2 = assign_derived_attrs(norm_2, absorption=False, unpolarised=False, per_oscillator=False)"
   ]
  },
  {
   "cell_type": "code",
   "execution_count": null,
   "id": "239029cc-f032-44a9-b666-2fc065a74d1f",
   "metadata": {
    "tags": []
   },
   "outputs": [],
   "source": [
    "restacked_norm_2 = restack_plt_to_period(norm_2)"
   ]
  },
  {
   "cell_type": "code",
   "execution_count": null,
   "id": "5d6c4543-11ae-4e1e-91fe-decd499144ff",
   "metadata": {
    "tags": []
   },
   "outputs": [],
   "source": [
    "gb_tet = ds[polarised_attrs].groupby('total_excitonic_thickness')\n",
    "\n",
    "# 'biology' absorptance enhancement factor: normalise by reference slab type 1: compressed reference slab w/o passive layer\n",
    "diff_1 = gb_tet - crs_1\n",
    "\n",
    "diff_1 = assign_derived_attrs(\n",
    "    dataset=diff_1,\n",
    "    unpolarised=True,\n",
    "    absorption=False,\n",
    "    period=False,\n",
    "    total_excitonic_thickness=False,\n",
    "    total_passive_thickness=False,\n",
    "    total_thickness=False,\n",
    "    N_tot=False,\n",
    "    per_oscillator=[\"Rs\", \"Rp\", \"R\", \"Ts\", \"Tp\", \"T\", \"As\", \"Ap\", \"A\"],\n",
    ")\n",
    "\n",
    "restacked_diff_1 = restack_plt_to_period(diff_1)"
   ]
  },
  {
   "cell_type": "code",
   "execution_count": null,
   "id": "98a9c6f2-6191-4e8e-b6f0-d41c691a4773",
   "metadata": {
    "tags": []
   },
   "outputs": [],
   "source": [
    "gb_tt = ds[polarised_attrs].groupby(\"total_thickness\")\n",
    "\n",
    "# 'stuffed' difference factor: difference with reference slab type 2: filled reference slab\n",
    "diff_2 = gb_tt - frs_1\n",
    "\n",
    "diff_2 = assign_derived_attrs(\n",
    "    dataset=diff_2,\n",
    "    unpolarised=True,\n",
    "    absorption=False,\n",
    "    period=True,  # reset period to only depend on two dims\n",
    "    total_excitonic_thickness=False,\n",
    "    total_passive_thickness=False,\n",
    "    total_thickness=False,\n",
    "    N_tot=False,\n",
    "    per_oscillator=[\"Rs\", \"Rp\", \"R\", \"Ts\", \"Tp\", \"T\", \"As\", \"Ap\", \"A\"],\n",
    ")\n",
    "\n",
    "# restacked_diff_2 = restack(\n",
    "#     ds=diff_2,\n",
    "#     start_idxs=[\n",
    "#         \"passive_layer_thickness\",\n",
    "#         \"excitonic_layer_thickness\",\n",
    "#         \"num_periods\",\n",
    "#         \"remove_last_layer\",\n",
    "#     ],\n",
    "#     end_idxs=[\n",
    "#         \"period\",\n",
    "#         \"excitonic_layer_thickness\",\n",
    "#         \"num_periods\",\n",
    "#         \"remove_last_layer\",\n",
    "#     ],\n",
    "# )\n",
    "\n",
    "restacked_diff_2 = restack_plt_to_period(diff_2)"
   ]
  },
  {
   "cell_type": "code",
   "execution_count": null,
   "id": "230bbef2-ce7f-4c3b-9384-397c75dc473e",
   "metadata": {
    "tags": []
   },
   "outputs": [],
   "source": [
    "ds_flat_spectrum = xr.open_dataset(\n",
    "    f\"data/run_{run_number}/LOPC_flat_spectrum.nc\",\n",
    "    engine=xarray_engine,\n",
    "    lock=False,\n",
    ")\n",
    "ds_flat_spectrum = assign_derived_attrs(ds_flat_spectrum)"
   ]
  },
  {
   "cell_type": "code",
   "execution_count": null,
   "id": "85638812-58a3-42a8-ae0c-907df9b48170",
   "metadata": {
    "tags": []
   },
   "outputs": [],
   "source": [
    "restacked_ds_flat_spectrum = restack_plt_to_period(ds_flat_spectrum)"
   ]
  },
  {
   "cell_type": "code",
   "execution_count": null,
   "id": "a7e5a192-b514-4893-a7aa-987a45c5cf2d",
   "metadata": {
    "tags": []
   },
   "outputs": [],
   "source": [
    "ref_flat_spectrum = xr.open_dataset(\n",
    "    f\"data/run_{run_number}/ref_flat_spectrum.nc\",\n",
    "    engine=xarray_engine,\n",
    "    lock=False,\n",
    ")\n",
    "ref_flat_spectrum = assign_derived_attrs(ref_flat_spectrum, period=False, total_excitonic_thickness=False, total_passive_thickness=False, total_thickness=False)"
   ]
  },
  {
   "cell_type": "code",
   "execution_count": null,
   "id": "a3f00784-d58b-457c-9633-e88ed77c34f5",
   "metadata": {
    "tags": []
   },
   "outputs": [],
   "source": [
    "# Compressed reference slab without passive layer\n",
    "crs_1_flat_spectrum = (\n",
    "    ref_flat_spectrum.sel(\n",
    "        remove_last_layer=1,\n",
    "        passive_layer_thickness=0,\n",
    "        excitonic_layer_thickness=total_excitonic_thicknesses,\n",
    "        drop=True\n",
    "    )\n",
    "    .squeeze(drop=True)\n",
    "    .rename(excitonic_layer_thickness=\"total_excitonic_thickness\")\n",
    ")"
   ]
  },
  {
   "cell_type": "code",
   "execution_count": null,
   "id": "ab3113d4-16ef-4087-87f1-95cde71772b6",
   "metadata": {
    "tags": []
   },
   "outputs": [],
   "source": [
    "norm_flat_spectrum = (ds_flat_spectrum.groupby('total_excitonic_thickness')/crs_1_flat_spectrum)#.drop_sel(excitonic_layer_thickness=0)"
   ]
  },
  {
   "cell_type": "code",
   "execution_count": null,
   "id": "e91001da-7c48-49eb-aab5-d073561d59e8",
   "metadata": {
    "tags": []
   },
   "outputs": [],
   "source": [
    "restacked_norm_flat_spectrum = restack_plt_to_period(norm_flat_spectrum)"
   ]
  },
  {
   "cell_type": "markdown",
   "id": "89393bab-8653-49cd-805c-aeec4d5e1cfe",
   "metadata": {
    "jp-MarkdownHeadingCollapsed": true,
    "tags": []
   },
   "source": [
    "#### Angle chunking for faster plots (unnecessary with new chunk scheme)"
   ]
  },
  {
   "cell_type": "code",
   "execution_count": null,
   "id": "1ed779c1-1846-4bcb-8532-5fe604b339b6",
   "metadata": {},
   "outputs": [],
   "source": [
    "angle_chunks = {\n",
    "    \"frequency\": 256,\n",
    "    \"excitonic_layer_thickness\": 4,\n",
    "    \"passive_layer_thickness\": 4,\n",
    "    \"theta\": 64, # loading the whole theta dimension at once means theta/wavelength plots are much faster\n",
    "    \"num_periods\": 8,\n",
    "}"
   ]
  },
  {
   "cell_type": "code",
   "execution_count": null,
   "id": "40bff252-eab5-44a5-b4a0-6ba2ebc52a61",
   "metadata": {},
   "outputs": [],
   "source": [
    "angle_ds = xr.open_mfdataset(\n",
    "    f\"data/run_{run_number}/LOPC.nc\",\n",
    "    engine=xarray_engine,\n",
    "    lock=False,\n",
    "    chunks=angle_chunks,\n",
    ")"
   ]
  },
  {
   "cell_type": "code",
   "execution_count": null,
   "id": "90c6bdbe-0133-47e3-be8b-0c6f30455d7f",
   "metadata": {},
   "outputs": [],
   "source": [
    "# add derived attrs\n",
    "angle_ds = assign_derived_attrs(angle_ds, per_oscillator=[\"Rs\", \"Rp\", \"R\", \"Ts\", \"Tp\", \"T\", \"As\", \"Ap\", \"A\"])\n",
    "# ds"
   ]
  },
  {
   "cell_type": "code",
   "execution_count": null,
   "id": "a994d28c-f675-4c42-baf4-7bc9e0f16c29",
   "metadata": {},
   "outputs": [],
   "source": [
    "angle_gb_tet = angle_ds.groupby('total_excitonic_thickness')"
   ]
  },
  {
   "cell_type": "code",
   "execution_count": null,
   "id": "e57d581d-faae-491f-90df-069823f036fc",
   "metadata": {
    "tags": []
   },
   "outputs": [],
   "source": [
    "# 'biology' absorptance enhancement factor: normalise by reference slab type 1: compressed reference slab w/o passive layer\n",
    "angle_norm_1 = angle_gb_tet/crs_1"
   ]
  },
  {
   "cell_type": "markdown",
   "id": "c70fc5d6-09b0-46a0-a4fb-239e81982b2b",
   "metadata": {
    "tags": []
   },
   "source": [
    "# Plots"
   ]
  },
  {
   "cell_type": "code",
   "execution_count": null,
   "id": "b20a3e0c-993a-45e9-ac86-ed4996a672ad",
   "metadata": {
    "tags": []
   },
   "outputs": [],
   "source": [
    "unpolarised_RTA = ['R', 'T', 'A']\n",
    "s_polarised_RTA = ['Rs', 'Ts', 'As']\n",
    "unpolarised_po = [\"R_per_oscillator\", \"T_per_oscillator\", \"A_per_oscillator\"]\n",
    "unpolarised_vars = unpolarised_RTA + unpolarised_po"
   ]
  },
  {
   "cell_type": "code",
   "execution_count": null,
   "id": "0bff1152-00da-4342-b226-0bb5e1eb48d8",
   "metadata": {
    "tags": []
   },
   "outputs": [],
   "source": [
    "# WARNING: all these datasets will be fundamentally changed after this cell, to the extent that it can't be run twice\n",
    "# For consistency, keep important calculations in the preceding section!\n",
    "ds = pre_process_for_plots(ds)\n",
    "restacked_ds = pre_process_for_plots(restacked_ds)\n",
    "ref = pre_process_for_plots(ref)\n",
    "crs_1 = pre_process_for_plots(crs_1)\n",
    "frs_1 = pre_process_for_plots(frs_1)\n",
    "norm_1 = pre_process_for_plots(norm_1)\n",
    "restacked_norm_1 = pre_process_for_plots(restacked_norm_1)\n",
    "norm_2 = pre_process_for_plots(norm_2)\n",
    "restacked_norm_2 = pre_process_for_plots(restacked_norm_2)\n",
    "diff_1 = pre_process_for_plots(diff_1)\n",
    "restacked_diff_1 = pre_process_for_plots(restacked_diff_1)\n",
    "diff_2 = pre_process_for_plots(diff_2)\n",
    "restacked_diff_2 = pre_process_for_plots(restacked_diff_2)\n",
    "ds_flat_spectrum = pre_process_for_plots(ds_flat_spectrum)\n",
    "restacked_ds_flat_spectrum = pre_process_for_plots(restacked_ds_flat_spectrum)\n",
    "ref_flat_spectrum = pre_process_for_plots(ref_flat_spectrum)\n",
    "crs_1_flat_spectrum = pre_process_for_plots(crs_1_flat_spectrum)\n",
    "norm_flat_spectrum = pre_process_for_plots(norm_flat_spectrum)\n",
    "restacked_norm_flat_spectrum = pre_process_for_plots(restacked_norm_flat_spectrum)\n",
    "# angle_ds = pre_process_for_plots(angle_ds)\n",
    "# angle_norm_1 = pre_process_for_plots(angle_norm_1)"
   ]
  },
  {
   "cell_type": "code",
   "execution_count": null,
   "id": "07020d84-9ec4-4557-b261-b2cb1527b637",
   "metadata": {
    "tags": []
   },
   "outputs": [],
   "source": [
    "period_dim = hv.Dimension(\"period\", label=\"Λ\", unit=\"nm\")\n",
    "wavelength_dim = hv.Dimension(\"wavelength\", label=\"λ\", unit=\"nm\")\n",
    "real_index_dim = hv.Dimension(\"n\")\n",
    "imag_index_dim = hv.Dimension(\"k\", label=\"ϰ\")"
   ]
  },
  {
   "cell_type": "markdown",
   "id": "91aeae44-6896-44cb-8cd9-115db2f1acd3",
   "metadata": {
    "tags": []
   },
   "source": [
    "### Useful lines"
   ]
  },
  {
   "cell_type": "markdown",
   "id": "4dabb959-cb9f-4c25-b2cd-9fe854f5ce42",
   "metadata": {
    "tags": []
   },
   "source": [
    "#### Function to do linewidth maths"
   ]
  },
  {
   "cell_type": "code",
   "execution_count": null,
   "id": "e56210c0-3131-4c1e-b471-d2a7e54d829a",
   "metadata": {
    "tags": []
   },
   "outputs": [],
   "source": [
    "def linewidth_calculator_factory(centre, linewidth):\n",
    "    return partial(linewidth_calculator, centre=centre, linewidth=linewidth)"
   ]
  },
  {
   "cell_type": "markdown",
   "id": "6e6317e6-d2ef-487c-91d1-b1e30f60fbbe",
   "metadata": {
    "tags": []
   },
   "source": [
    "#### Lorentz lines"
   ]
  },
  {
   "cell_type": "markdown",
   "id": "2d1c3a6e-eb48-423a-8277-647f3f4e3d4c",
   "metadata": {},
   "source": [
    "I want some sort of metric for 'near the resonance' and 'far from the resonance'. The natural unit of distance in this instance is the linewidth. The linewidth is given in rad/s so there need to be some conversions to get the equivalent lines in the plots by wavelength, but they are roughly symmetrical around the peak wavelength.\n",
    "\n",
    "Based on the plots of the refractive index below, I think I will consider 'near' to be 'within two linewidths', and 'far' to be 'at least four linewidths away'."
   ]
  },
  {
   "cell_type": "code",
   "execution_count": null,
   "id": "b2ff99ac-d148-4ebd-8c8c-3e4dbf666415",
   "metadata": {
    "tags": []
   },
   "outputs": [],
   "source": [
    "# resonance_line = hv.VLine(680, label='LO resonance wavelength').opts(line_dash='dotted')\n",
    "\n",
    "# Convert from rad/s to Hz\n",
    "lorentz_linewidth_frequency = default_oscillator_params[\"lorentz_linewidth\"] / (2*np.pi)"
   ]
  },
  {
   "cell_type": "code",
   "execution_count": null,
   "id": "0cc25a40-ee2a-4bb0-99e4-5b8ea0b4a8f5",
   "metadata": {
    "tags": []
   },
   "outputs": [],
   "source": [
    "lorentz_line_frequency = linewidth_calculator_factory(convert_wavelength_and_frequency(680e-9), lorentz_linewidth_frequency)\n",
    "\n",
    "def lorentz_line_wavelength(x=None):\n",
    "    x = -x if x is not None else x\n",
    "    return convert_wavelength_and_frequency(lorentz_line_frequency(x))"
   ]
  },
  {
   "cell_type": "code",
   "execution_count": null,
   "id": "a1c6d72e-da8c-4976-bba1-a1069fa410cb",
   "metadata": {
    "tags": []
   },
   "outputs": [],
   "source": [
    "def lorentz_vlines(x=0, scale=1, mode='wavelength', **kwargs):\n",
    "    if mode == 'wavelength':\n",
    "        line_func = lorentz_line_wavelength\n",
    "    elif mode == 'frequency':\n",
    "        line_func = lorentz_line_frequency\n",
    "    else:\n",
    "        raise TypeError(f\"mode should be 'wavelength' or 'frequency', not {mode}\")\n",
    "        \n",
    "    match x:\n",
    "        case [*xs]:\n",
    "            line_pos = [line_func(x)/scale for x in xs]\n",
    "        case x:\n",
    "            line_pos = line_func(x)/scale\n",
    "            \n",
    "    return vlines(line_pos, **kwargs)"
   ]
  },
  {
   "cell_type": "markdown",
   "id": "0b1df350-45b3-49ba-8e3b-7aece7768dbf",
   "metadata": {
    "tags": []
   },
   "source": [
    "### Useful functions"
   ]
  },
  {
   "cell_type": "markdown",
   "id": "a5f747f5-acc0-4b61-b6b8-461cc54fe741",
   "metadata": {},
   "source": [
    "#### Select a wavelength or wavelength range based on the distance from the resonance in linewidths."
   ]
  },
  {
   "cell_type": "code",
   "execution_count": null,
   "id": "0d0641d7-7ebe-47ea-8c6d-fb007fa925e7",
   "metadata": {
    "tags": []
   },
   "outputs": [],
   "source": [
    "def select_lorentz_line(da, lorentz_line=0, window_radius=0):\n",
    "    if window_radius == 0:\n",
    "        wavelength = lorentz_line_wavelength(lorentz_line) * 1e9\n",
    "        wavelength_sel_method = \"nearest\"\n",
    "    else:\n",
    "        wavelength = slice(\n",
    "            lorentz_line_wavelength(lorentz_line - window_radius) * 1e9,\n",
    "            lorentz_line_wavelength(lorentz_line + window_radius) * 1e9,\n",
    "        )\n",
    "        wavelength_sel_method = None\n",
    "    da = da.sel(wavelength=wavelength, method=wavelength_sel_method)\n",
    "    \n",
    "    return da"
   ]
  },
  {
   "cell_type": "markdown",
   "id": "64008b42-6460-4d37-b03d-e82a9a6e4ef7",
   "metadata": {},
   "source": [
    "#### Plot a comparison of the reflectance and absorptance of the LOPC with that of the reference slab."
   ]
  },
  {
   "cell_type": "code",
   "execution_count": null,
   "id": "88fea1be-c08f-4136-b837-eaac8ba331b8",
   "metadata": {
    "tags": []
   },
   "outputs": [],
   "source": [
    "opts_R = [opts.Curve(color=blue, ylim=(0,1)), opts.Image(cmap='viridis', clim=(0,1)), opts.QuadMesh(cmap='viridis', clim=(0,1))]\n",
    "\n",
    "def plot_R(variable=\"R\", dataset=None, label_field=\"long_name\", label_append=None, **hvplot_kwargs):\n",
    "    plot = plot_var(variable, dataset, label_field, label_append, **hvplot_kwargs)\n",
    "    plot.opts(*opts_R)\n",
    "    return plot\n",
    "\n",
    "# # test\n",
    "# plot_R(dataset=restacked_ds.sel(period=200, excitonic_layer_thickness=20, num_periods=10).squeeze(), x=\"wavelength\", y=\"theta\").opts(cmap=\"cividis\", clim=(None, None))"
   ]
  },
  {
   "cell_type": "code",
   "execution_count": null,
   "id": "141862d4-c369-4629-96a2-905d3afc99e0",
   "metadata": {
    "tags": []
   },
   "outputs": [],
   "source": [
    "opts_T = [opts.Curve(color=yellow, ylim=(0,1)), opts.Image(cmap='cividis', clim=(0,1)), opts.QuadMesh(cmap='cividis', clim=(0,1))]\n",
    "\n",
    "def plot_T(variable=\"T\", dataset=None, label_field=\"long_name\", label_append=None, **hvplot_kwargs):\n",
    "    plot = plot_var(variable, dataset, label_field, label_append, **hvplot_kwargs)\n",
    "    plot.opts(*opts_T)\n",
    "    return plot"
   ]
  },
  {
   "cell_type": "code",
   "execution_count": null,
   "id": "200c8ce5-e013-45cf-acca-89c8d4cd79db",
   "metadata": {
    "tags": []
   },
   "outputs": [],
   "source": [
    "opts_A = [opts.Curve(color=red, ylim=(0,1)), opts.Image(cmap='inferno', clim=(0,1)), opts.QuadMesh(cmap='inferno', clim=(0,1))]\n",
    "\n",
    "def plot_A(variable=\"A\", dataset=None, label_field=\"long_name\", label_append=None, **hvplot_kwargs):\n",
    "    plot = plot_var(variable, dataset, label_field, label_append, **hvplot_kwargs)\n",
    "    plot.opts(*opts_A)\n",
    "    return plot"
   ]
  },
  {
   "cell_type": "code",
   "execution_count": null,
   "id": "9fe2bb36-0dc2-4e49-ada4-ee7df9d074d1",
   "metadata": {
    "tags": []
   },
   "outputs": [],
   "source": [
    "def plot_vars_to_funcs(plot_vars):\n",
    "    var_func_mapping = {\n",
    "        \"R\": plot_R,\n",
    "        \"T\": plot_T,\n",
    "        \"A\": plot_A,\n",
    "        \"Rs\": partial(plot_R, variable=\"Rs\"),\n",
    "        \"Ts\": partial(plot_T, variable=\"Ts\"),\n",
    "        \"As\": partial(plot_A, variable=\"As\"),\n",
    "        \"Rp\": partial(plot_R, variable=\"Rp\"),\n",
    "        \"Tp\": partial(plot_T, variable=\"Tp\"),\n",
    "        \"Ap\": partial(plot_A, variable=\"Ap\"),\n",
    "        \"R_per_oscillator\": partial(plot_R, variable=\"R_per_oscillator\"),\n",
    "        \"T_per_oscillator\": partial(plot_T, variable=\"T_per_oscillator\"),\n",
    "        \"A_per_oscillator\": partial(plot_A, variable=\"A_per_oscillator\"),\n",
    "        \"Rs_per_oscillator\": partial(plot_R, variable=\"Rs_per_oscillator\"),\n",
    "        \"Ts_per_oscillator\": partial(plot_T, variable=\"Ts_per_oscillator\"),\n",
    "        \"As_per_oscillator\": partial(plot_A, variable=\"As_per_oscillator\"),\n",
    "        \"Rp_per_oscillator\": partial(plot_R, variable=\"Rp_per_oscillator\"),\n",
    "        \"Tp_per_oscillator\": partial(plot_T, variable=\"Tp_per_oscillator\"),\n",
    "        \"Ap_per_oscillator\": partial(plot_A, variable=\"Ap_per_oscillator\"),\n",
    "    }\n",
    "\n",
    "    plot_funcs = []\n",
    "    for var in plot_vars:\n",
    "        try:\n",
    "            func = var_func_mapping[var]\n",
    "        except KeyError:\n",
    "            func = partial(plot_var, variable=var)\n",
    "        plot_funcs.append(func)\n",
    "\n",
    "    return plot_funcs"
   ]
  },
  {
   "cell_type": "code",
   "execution_count": null,
   "id": "3e1dad77-b4f5-44da-b7cf-15ecf1c7b8d6",
   "metadata": {
    "tags": []
   },
   "outputs": [],
   "source": [
    "# new version\n",
    "def plot_RTA(\n",
    "    period,\n",
    "    excitonic_layer_thickness,\n",
    "    num_periods,\n",
    "    theta,\n",
    "    title=\"\",\n",
    "    include=[\"LOPC\", \"CRS_1\"],\n",
    "    plot_vars=[\"R\", \"T\", \"A\"],\n",
    "    label_override=None,\n",
    "    label_append=None,\n",
    "):\n",
    "    label_field = None  # for debugging\n",
    "    label_append = \"\" if label_append is None else label_append\n",
    "\n",
    "    P = period\n",
    "    t = excitonic_layer_thickness\n",
    "    N = num_periods\n",
    "\n",
    "    plot_funcs = [\n",
    "        partial(func, x=\"wavelength\", label_field=label_field)\n",
    "        for func in plot_vars_to_funcs(plot_vars)\n",
    "    ]\n",
    "    curves = []\n",
    "    if \"LOPC\" in include:\n",
    "        lopc_label = \" (LOPC)\" if label_override is None else label_override\n",
    "        lopc_label += label_append\n",
    "        lopc_sel = restacked_ds.sel(\n",
    "            period=P, excitonic_layer_thickness=t, num_periods=N\n",
    "        ).squeeze()\n",
    "        lopc_sel = sel_or_integrate(lopc_sel, \"theta\", theta, normalisation=1)\n",
    "        lopc_curves = [\n",
    "            plot_func(dataset=lopc_sel, label_append=lopc_label).opts(line_dash=\"solid\")\n",
    "            for plot_func in plot_funcs\n",
    "        ]\n",
    "        curves += lopc_curves\n",
    "    if \"CRS_1\" in include:\n",
    "        crs_1_label = \" (CRS)\" if label_override is None else label_override\n",
    "        crs_1_label += label_append\n",
    "        crs_1_sel = crs_1.sel(total_excitonic_thickness=t * N).squeeze()\n",
    "        crs_1_sel = sel_or_integrate(crs_1_sel, \"theta\", theta, normalisation=1)\n",
    "        crs_1_curves = [\n",
    "            plot_func(dataset=crs_1_sel, label_append=crs_1_label).opts(\n",
    "                line_dash=\"dashed\"\n",
    "            )\n",
    "            for plot_func in plot_funcs\n",
    "        ]\n",
    "        curves += crs_1_curves\n",
    "    if \"FRS_1\" in include:\n",
    "        frs_1_label = \" (FRS)\" if label_override is None else label_override\n",
    "        frs_1_label += label_append\n",
    "        frs_1_sel = frs_1.sel(total_thickness=(P + t) * N).squeeze()\n",
    "        frs_1_sel = sel_or_integrate(frs_1_sel, \"theta\", theta, normalisation=1)\n",
    "        frs_1_curves = [\n",
    "            plot_func(dataset=frs_1_sel, label_append=frs_1_label).opts(\n",
    "                line_dash=\"dotted\"\n",
    "            )\n",
    "            for plot_func in plot_funcs\n",
    "        ]\n",
    "        curves += frs_1_curves\n",
    "\n",
    "    overlay = hv.Overlay(curves).opts(\n",
    "        opts.Curve(\n",
    "            ylim=(0, 1),\n",
    "            ylabel=\"Intensity\",\n",
    "            title=f\"{title}{coordinate_string(period=P, excitonic_layer_thickness=t, num_periods=N, theta=theta)}\",\n",
    "        ),\n",
    "    )\n",
    "\n",
    "    return overlay\n",
    "\n",
    "\n",
    "# # test\n",
    "# display(\n",
    "#     plot_RTA(200, 40, 20, 0, \"test\\n\", include=[\"LOPC\", \"CRS_1\", \"FRS_1\"]).opts(\n",
    "#         legend_position=\"right\"\n",
    "#     )\n",
    "# )\n",
    "\n",
    "# display(\n",
    "#     plot_RTA(\n",
    "#         200,\n",
    "#         40,\n",
    "#         20,\n",
    "#         (10, 50),\n",
    "#         \"test RA only\\n\",\n",
    "#         include=[\"LOPC\", \"CRS_1\", \"FRS_1\"],\n",
    "#         plot_vars=[\"R\", \"A\"],\n",
    "#     ).opts(opts.Overlay(legend_position=\"right\"))\n",
    "# )\n",
    "\n",
    "# display(\n",
    "#     plot_RTA(\n",
    "#         200,\n",
    "#         40,\n",
    "#         20,\n",
    "#         75,\n",
    "#         \"test\\n\",\n",
    "#         include=[\"LOPC\"],\n",
    "#         plot_vars=[\"R_per_oscillator\", \"A_per_oscillator\"],\n",
    "#         label_append=\" test\",\n",
    "#         label_override=\"OVERRIDDEN\",\n",
    "#     ).opts(opts.Curve(ylim=(None, None)), opts.Overlay(legend_position=\"right\"))\n",
    "# )"
   ]
  },
  {
   "cell_type": "markdown",
   "id": "20905ebf-bb50-4146-8f7d-eed23fe54e9a",
   "metadata": {},
   "source": [
    "#### Plot a comparison of normal incidence to integrated"
   ]
  },
  {
   "cell_type": "code",
   "execution_count": null,
   "id": "903df102-0103-43d2-b3ac-5d76bd52b0b4",
   "metadata": {
    "tags": []
   },
   "outputs": [],
   "source": [
    "def plot_comparison(*comparison_params: tuple[dict, list[\"opts\"]], plot_func=plot_RTA, **shared_params):\n",
    "    param_opts = [(shared_params|comp_params, comp_opts) for comp_params, comp_opts in comparison_params]\n",
    "    plots = [plot_func(**comp_params).opts(*comp_opts) for comp_params, comp_opts in param_opts]\n",
    "    return plots"
   ]
  },
  {
   "cell_type": "code",
   "execution_count": null,
   "id": "8e08b517",
   "metadata": {
    "tags": []
   },
   "outputs": [],
   "source": [
    "def compare_RTA(*args, opts_cycle=None, plot_func=plot_RTA, **shared_params):\n",
    "    default_opts = [[opts.Curve(line_dash=style)] for style in [\"solid\", \"dashed\", \"dotted\", \"dotdash\", \"dashdot\"]]\n",
    "    opts_cycle = default_opts if opts_cycle is None else opts_cycle\n",
    "    \n",
    "    # comparison_params = list(zip(args, opts_cycle))\n",
    "    \n",
    "    plots = plot_comparison(*zip(args, opts_cycle), plot_func=plot_func, **shared_params)\n",
    "    overlay = hv.Overlay(plots).opts(opts.Overlay(legend_position=\"right\"))\n",
    "                                     \n",
    "    return overlay\n",
    "\n",
    "# # test\n",
    "# shared_params = {\n",
    "#     \"period\": 250,\n",
    "#     \"excitonic_layer_thickness\": 70,\n",
    "#     \"num_periods\": 30,\n",
    "#     \"include\": [\"LOPC\"],\n",
    "# }\n",
    "# compare_RTA({\"theta\": (0, 75), \"label_override\": \" (integrated)\"}, {\"theta\": 0, \"label_override\": \" (θ = 0)\"}, **shared_params)"
   ]
  },
  {
   "cell_type": "code",
   "execution_count": null,
   "id": "1c7b6652-092f-4dab-8c19-1549de1f101f",
   "metadata": {
    "tags": []
   },
   "outputs": [],
   "source": [
    "compare_RTA_normal_vs_integrated = partial(compare_RTA, {\"theta\": (0, 45), \"label_override\": \" (integrated)\"}, {\"theta\": 0, \"label_override\": \" (θ = 0)\"}, include= [\"LOPC\"],)\n",
    "\n",
    "# # test\n",
    "# shared_params = {\n",
    "#     \"period\": 250,\n",
    "#     \"excitonic_layer_thickness\": 70,\n",
    "#     \"num_periods\": 30,\n",
    "# }\n",
    "# compare_RTA_normal_vs_integrated(**shared_params)"
   ]
  },
  {
   "cell_type": "markdown",
   "id": "79d0bef6-a389-465f-94a1-174aea97f4aa",
   "metadata": {
    "tags": []
   },
   "source": [
    "#### Plot the RTA of the structures in 2D"
   ]
  },
  {
   "cell_type": "code",
   "execution_count": null,
   "id": "5135644c-8a8f-4991-828c-067c9c219159",
   "metadata": {
    "tags": []
   },
   "outputs": [],
   "source": [
    "def plot_RTA_2D(\n",
    "    period,\n",
    "    excitonic_layer_thickness,\n",
    "    num_periods,\n",
    "    theta=(0, 75),\n",
    "    title=\"\",\n",
    "    include=[\"LOPC\", \"CRS_1\"],\n",
    "):\n",
    "    P = period\n",
    "    t = excitonic_layer_thickness\n",
    "    N = num_periods\n",
    "\n",
    "    plots = []\n",
    "    if \"LOPC\" in include:\n",
    "        lopc_sel = restacked_ds.sel(\n",
    "            period=P, excitonic_layer_thickness=t, num_periods=N\n",
    "        ).squeeze()\n",
    "        lopc_sel = lopc_sel.sel(theta=slice(*theta))\n",
    "        plots.append(\n",
    "            lopc_sel[\"R\"]\n",
    "            .hvplot(kind=\"image\", x=\"wavelength\", y=\"theta\", title=\"Reflectance (LOPC)\")\n",
    "            .opts(opts.Image(cmap=\"viridis\"))\n",
    "        )\n",
    "        plots.append(\n",
    "            lopc_sel[\"T\"]\n",
    "            .hvplot(kind=\"image\", x=\"wavelength\", y=\"theta\", title=\"Transmittance (LOPC)\")\n",
    "            .opts(opts.Image(cmap=\"cividis\"))\n",
    "        )\n",
    "        plots.append(\n",
    "            lopc_sel[\"A\"]\n",
    "            .hvplot(kind=\"image\", x=\"wavelength\", y=\"theta\", title=\"Absorptance (LOPC)\")\n",
    "            .opts(opts.Image(cmap=\"inferno\"))\n",
    "        )\n",
    "    if \"CRS_1\" in include:\n",
    "        crs_1_sel = crs_1.sel(total_excitonic_thickness=t * N).squeeze()\n",
    "        crs_1_sel = crs_1_sel.sel(theta=slice(*theta))\n",
    "        plots.append(\n",
    "            crs_1_sel[\"R\"]\n",
    "            .hvplot(kind=\"image\", x=\"wavelength\", y=\"theta\", title=\"Reflectance (CRS)\")\n",
    "            .opts(opts.Image(cmap=\"viridis\"))\n",
    "        )\n",
    "        plots.append(\n",
    "            crs_1_sel[\"T\"]\n",
    "            .hvplot(kind=\"image\", x=\"wavelength\", y=\"theta\", title=\"Transmittance (CRS)\")\n",
    "            .opts(opts.Image(cmap=\"cividis\"))\n",
    "        )\n",
    "        plots.append(\n",
    "            crs_1_sel[\"A\"]\n",
    "            .hvplot(kind=\"image\", x=\"wavelength\", y=\"theta\", title=\"Absorptance (CRS)\")\n",
    "            .opts(opts.Image(cmap=\"inferno\"))\n",
    "        )\n",
    "    if \"FRS_1\" in include:\n",
    "        frs_1_sel = frs_1.sel(total_thickness=(P + t) * N).squeeze()\n",
    "        frs_1_sel = frs_1_sel.sel(theta=slice(*theta))\n",
    "        plots.append(\n",
    "            frs_1_sel[\"R\"]\n",
    "            .hvplot(kind=\"image\", x=\"wavelength\", y=\"theta\", title=\"Reflectance (FRS)\")\n",
    "            .opts(opts.Image(cmap=\"viridis\"))\n",
    "        )\n",
    "        plots.append(\n",
    "            frs_1_sel[\"T\"]\n",
    "            .hvplot(kind=\"image\", x=\"wavelength\", y=\"theta\", title=\"Transmittance (FRS)\")\n",
    "            .opts(opts.Image(cmap=\"cividis\"))\n",
    "        )\n",
    "        plots.append(\n",
    "            frs_1_sel[\"A\"]\n",
    "            .hvplot(kind=\"image\", x=\"wavelength\", y=\"theta\", title=\"Absorptance (FRS)\")\n",
    "            .opts(opts.Image(cmap=\"inferno\"))\n",
    "        )\n",
    "\n",
    "    layout = hv.Layout(plots).opts(\n",
    "        opts.Image(\n",
    "            clim=(0, 1),\n",
    "            clabel=\"Intensity\",\n",
    "        ),\n",
    "        opts.Layout(\n",
    "            title=f\"{title}{coordinate_string(period=P, excitonic_layer_thickness=t, num_periods=N)}\",\n",
    "        ),\n",
    "    )\n",
    "\n",
    "    return layout\n",
    "\n",
    "# # test\n",
    "# display(plot_RTA_2D(200, 40, 20, (0, 90), \"test\\n\", include=[\"LOPC\", \"CRS_1\", \"FRS_1\"]).opts(opts.Image(frame_width=200)).cols(3))\n",
    "\n",
    "# display(plot_RTA_2D(200, 40, 20, (10, 50), \"test\\n\", include=[\"LOPC\", \"CRS_1\", \"FRS_1\"]).opts(opts.Image(frame_width=200)).cols(3))"
   ]
  },
  {
   "cell_type": "markdown",
   "id": "bc74d9d4-7b45-4f6f-9ae5-70904d80f2b0",
   "metadata": {},
   "source": [
    "#### Plot an enhancement factor."
   ]
  },
  {
   "cell_type": "code",
   "execution_count": null,
   "id": "3a8ee053-47a4-4934-bdba-d431ce8462be",
   "metadata": {
    "tags": []
   },
   "outputs": [],
   "source": [
    "def plot_ef(\n",
    "    variable,\n",
    "    dataset,\n",
    "    sel=None,\n",
    "    sel_method=None,\n",
    "    title=\"\",\n",
    "    *,\n",
    "    x=\"wavelength\",\n",
    "    y=None,\n",
    "):\n",
    "    sel = {} if sel is None else sel\n",
    "    da = dataset[variable].sel(**sel, method=sel_method).squeeze()\n",
    "    if y is None:\n",
    "        plot = da.hvplot(x=x, label=f\"{variable} enhancement factor\")\n",
    "        plot *= hv.HLine(1).opts(line_dash=\"dotted\")\n",
    "    else:\n",
    "        plot = da.hvplot(\n",
    "            kind=\"image\",\n",
    "            x=x,\n",
    "            y=y,\n",
    "            label=f\"{variable} enhancement factor\",\n",
    "            clim=(0.5, 1.5),\n",
    "        )\n",
    "    plot = plot.opts(\n",
    "        opts.Curve(\n",
    "            title=f\"{title}{coordinate_string(**sel)}\",\n",
    "        ),\n",
    "        opts.Overlay(\n",
    "            title=f\"{title}{coordinate_string(**sel)}\",\n",
    "        ),\n",
    "    )\n",
    "\n",
    "    return plot\n",
    "\n",
    "\n",
    "# # test\n",
    "# sel_1 = {\"period\": 200, \"excitonic_layer_thickness\": 40, \"num_periods\": 10, \"theta\": 30}\n",
    "# sel_2 = {\"period\": 200, \"excitonic_layer_thickness\": 40, \"num_periods\": 10, \"theta\": 0}\n",
    "# sel_3 = {\"period\": 200, \"excitonic_layer_thickness\": 40, \"num_periods\": 10}\n",
    "# display(\n",
    "#     (\n",
    "#         plot_ef(\"As\", restacked_norm_1, sel_1, \"nearest\", \"test\\n\")\n",
    "#         + plot_ef(\"As\", restacked_norm_2, sel_2, title=\"test2\\n\")\n",
    "#     ).cols(1)\n",
    "# )\n",
    "# display(\n",
    "#     plot_ef(\"As\", restacked_norm_1, sel_3, title=\"test3\\n\", x=\"theta\", y=\"wavelength\").opts(clim=(0, 2), cmap=\"RdBu_r\")\n",
    "# )"
   ]
  },
  {
   "cell_type": "markdown",
   "id": "7f32e392-9405-4c95-b45e-a9ef844115c4",
   "metadata": {
    "jp-MarkdownHeadingCollapsed": true,
    "tags": []
   },
   "source": [
    "#### Test plot_optimum_over_dim"
   ]
  },
  {
   "cell_type": "code",
   "execution_count": null,
   "id": "c9abae83-767c-46eb-b9b9-790d57be032b",
   "metadata": {},
   "outputs": [],
   "source": [
    "foo, bar = plot_optimum_over_dim(restacked_ds.A.sel(theta=0, wavelength=660, method=\"nearest\"), \"period\", \"excitonic_layer_thickness\", \"num_periods\", \"max\")"
   ]
  },
  {
   "cell_type": "code",
   "execution_count": null,
   "id": "2c9d8cfc-67db-40a8-a378-096827508de6",
   "metadata": {},
   "outputs": [],
   "source": [
    "foo, bar = plot_optimum_over_dim(integrate_da(restacked_ds.A, \"theta\", normalisation=1).sel(wavelength=660, method=\"nearest\"), \"period\", \"excitonic_layer_thickness\", \"num_periods\", \"max\")"
   ]
  },
  {
   "cell_type": "code",
   "execution_count": null,
   "id": "a5a7bae8-4915-4d27-8cfd-a486313448c0",
   "metadata": {},
   "outputs": [],
   "source": [
    "foo"
   ]
  },
  {
   "cell_type": "code",
   "execution_count": null,
   "id": "cffc946d-32a1-4b2c-8a67-aa4319580656",
   "metadata": {},
   "outputs": [],
   "source": [
    "bar"
   ]
  },
  {
   "cell_type": "markdown",
   "id": "3453ba8b-c757-4a7b-9665-61faf4484522",
   "metadata": {},
   "source": [
    "#### Find and plot the min or max over any dimension."
   ]
  },
  {
   "cell_type": "code",
   "execution_count": null,
   "id": "c36a0876-2980-4a7b-a4a2-5ea3730918ed",
   "metadata": {
    "tags": []
   },
   "outputs": [],
   "source": [
    "def wrapped_2D_plot(\n",
    "    variable,\n",
    "    dataset,\n",
    "    optimise=\"max\",\n",
    "    lorentz_line=0,\n",
    "    window_radius=0,\n",
    "    theta=0,\n",
    "    cmap=\"viridis\",\n",
    "    period_start=None,\n",
    "    period_stop=None,\n",
    "    integrate_angle=None,\n",
    "    extra_plots=[\"RTA_normal\", \"RTA_int\", \"norm_1_normal\", \"norm_1_int\"],\n",
    "    dim=None,  # automatically assign if dataset recognised\n",
    "):\n",
    "    plots = []\n",
    "\n",
    "    if str(dataset) == \"restacked_ds\":\n",
    "        # the drop_sel is important for avoiding the most common degenerate cases\n",
    "        dataset = restacked_ds.drop_sel({\"excitonic_layer_thickness\": 0})\n",
    "        dim = \"period\"\n",
    "\n",
    "    if str(dataset) == \"restacked_norm_1\":\n",
    "        # the drop_sel is important for avoiding the most common degenerate cases\n",
    "        dataset = restacked_norm_1.drop_sel({\"excitonic_layer_thickness\": 0})\n",
    "        dim = \"period\"\n",
    "\n",
    "    if str(dataset) == \"restacked_diff_1\":\n",
    "        # the drop_sel is important for avoiding the most common degenerate cases\n",
    "        dataset = restacked_diff_1.drop_sel({\"excitonic_layer_thickness\": 0})\n",
    "        dim = \"period\"\n",
    "\n",
    "    da = dataset[variable]\n",
    "\n",
    "    if not integrate_angle:\n",
    "        da = da.sel(theta=theta, method=\"nearest\")\n",
    "    else:  # integrate_angle must be a float, so that (theta, integrate_angle) is a slice syntax\n",
    "        da = da.sel(theta=slice(theta, integrate_angle))\n",
    "        da = integrate_da(da, \"theta\", weighting=1, normalisation=1)\n",
    "\n",
    "    if period_start < period_stop:\n",
    "        da = da.sel(period=slice(period_start, period_stop))\n",
    "    else:  # otherwise no data is selected and everything breaks\n",
    "        da = da.sel(period=slice(period_start, None))\n",
    "    da = select_lorentz_line(da, lorentz_line=lorentz_line, window_radius=window_radius)\n",
    "\n",
    "    vline_locs = [0]\n",
    "\n",
    "    if window_radius == 0:\n",
    "        wavelength = float(da.wavelength)\n",
    "        title = f\"{optimise.capitalize()}imum {variable} at {wavelength:.0f} nm\"\n",
    "        if lorentz_line != 0:  # don't put two lines over the resonance\n",
    "            vline_locs.append(lorentz_line)\n",
    "    else:\n",
    "        wavelength_start = float(da.wavelength[0])\n",
    "        wavelength_stop = float(da.wavelength[-1])\n",
    "        # make it easier to compare values\n",
    "        da = integrate_da(\n",
    "            da, \"wavelength\", weighting=1, normalisation=1\n",
    "        )  # replaces the below two lines\n",
    "        # da = normalise_over_dim(da, \"wavelength\", 1)\n",
    "        # da = da.integrate(\"wavelength\")\n",
    "        title = f\"{optimise.capitalize()}imum integrated {variable} between {wavelength_start:.0f} and {wavelength_stop:.0f} nm\"\n",
    "        vline_locs.append(lorentz_line - window_radius)\n",
    "        vline_locs.append(lorentz_line + window_radius)\n",
    "\n",
    "    plot_1, optimum_coords = plot_optimum_over_dim(\n",
    "        da,\n",
    "        dim=dim,\n",
    "        x=\"excitonic_layer_thickness\",\n",
    "        y=\"num_periods\",\n",
    "        optimise=optimise,\n",
    "    )\n",
    "\n",
    "    P = float(optimum_coords[\"period\"])\n",
    "    t = float(optimum_coords[\"excitonic_layer_thickness\"])\n",
    "    N = float(optimum_coords[\"num_periods\"])\n",
    "    try:  # this should work if not integrating over theta\n",
    "        th = float(optimum_coords[\"theta\"])\n",
    "    except:  # probably the problem is that theta doesn't exist because I integrated over it already\n",
    "        th = (theta, integrate_angle)\n",
    "    lorentz_lines = lorentz_vlines(vline_locs, scale=1e-9, mode=\"wavelength\").opts(\n",
    "        opts.VLine(line_color=green, line_dash=\"dotted\"),\n",
    "    )\n",
    "\n",
    "    # give the resonance line a special colour\n",
    "    lorentz_lines.VLine.I.opts(opts.VLine(line_color=yellow))\n",
    "\n",
    "    plot_1.opts(\n",
    "        opts.QuadMesh(cmap=cmap),\n",
    "        opts.Points(color=\"red\"),\n",
    "        opts.Overlay(title=f\"{title}\\nOptimal period: {P:.0f}\"),\n",
    "    )\n",
    "\n",
    "    plots.append(plot_1)\n",
    "\n",
    "    if \"RTA_normal\" in extra_plots:  # plot RTA at theta=0\n",
    "        new_plot = plot_RTA(\n",
    "            period=P, excitonic_layer_thickness=t, num_periods=N, theta=0\n",
    "        )\n",
    "        new_plot *= lorentz_lines\n",
    "\n",
    "        plots.append(new_plot)\n",
    "\n",
    "    if \"RTA_int\" in extra_plots:  # plot RTA at theta OR integrating over theta\n",
    "        new_plot = plot_RTA(\n",
    "            period=P, excitonic_layer_thickness=t, num_periods=N, theta=th\n",
    "        )\n",
    "        new_plot *= lorentz_lines\n",
    "        plots.append(new_plot)\n",
    "\n",
    "    if \"norm_1_normal\" in extra_plots:  # plot enhancement factor at theta=0\n",
    "        sel = {\n",
    "            \"period\": P,\n",
    "            \"excitonic_layer_thickness\": t,\n",
    "            \"num_periods\": N,\n",
    "            \"theta\": 0,\n",
    "        }\n",
    "        new_plot = plot_ef(variable=\"A\", dataset=restacked_norm_1, sel=sel)\n",
    "        new_plot *= lorentz_lines\n",
    "\n",
    "        plots.append(new_plot)\n",
    "\n",
    "    if (\n",
    "        \"norm_1_int\" in extra_plots\n",
    "    ):  # plot enhancement factor at theta OR integrating over theta\n",
    "        try:  # this should work if not integrating over theta\n",
    "            sel = {\n",
    "                \"period\": P,\n",
    "                \"excitonic_layer_thickness\": t,\n",
    "                \"num_periods\": N,\n",
    "                \"theta\": th,\n",
    "            }\n",
    "            new_plot = plot_ef(variable=\"A\", dataset=restacked_norm_1, sel=sel)\n",
    "            new_plot *= lorentz_lines\n",
    "        except:  # if integrating, we need to do the integral *before* normalising\n",
    "            ds_int = sel_or_integrate(ds, dim=\"theta\", val=th)\n",
    "            crs_1_int = sel_or_integrate(crs_1, dim=\"theta\", val=th)\n",
    "            norm = enhancement_factor(\n",
    "                ds_int,\n",
    "                ref=crs_1_int,\n",
    "                common_dim=\"total_excitonic_thickness\",\n",
    "                method=\"groupby\",\n",
    "            )\n",
    "            restacked_norm = restack_plt_to_period(norm)\n",
    "            # replaces the lines below\n",
    "            #             # this should all get separated out into its own function\n",
    "            #             crs_1_like_ds = crs_1.sel(\n",
    "            #                 total_excitonic_thickness=ds.total_excitonic_thickness\n",
    "            #             )\n",
    "\n",
    "            #             ds_int = sel_or_integrate(ds, dim=\"theta\", val=th)\n",
    "            #             crs_1_int = sel_or_integrate(crs_1_like_ds, dim=\"theta\", val=th)\n",
    "            #             norm = ds_int / crs_1_int\n",
    "            #             restacked_norm = norm.stack(multiperiod=['passive_layer_thickness', 'excitonic_layer_thickness']).set_index(multiperiod=['period', 'excitonic_layer_thickness']).unstack()\n",
    "\n",
    "            sel = {\"period\": P, \"excitonic_layer_thickness\": t, \"num_periods\": N}\n",
    "            new_plot = plot_ef(variable=\"A\", dataset=restacked_norm, sel=sel)\n",
    "            new_plot *= lorentz_lines\n",
    "            sel[\"theta\"] = th\n",
    "            new_plot = new_plot.opts(opts.Overlay(title=f\"{coordinate_string(**sel)}\"))\n",
    "        plots.append(new_plot)\n",
    "\n",
    "    return hv.Layout(plots).cols(1)"
   ]
  },
  {
   "cell_type": "markdown",
   "id": "1509027e-a985-4748-b9c9-84686ed42445",
   "metadata": {
    "jp-MarkdownHeadingCollapsed": true,
    "tags": []
   },
   "source": [
    "#### Plot the E-field, overlayed with the refractive index profile and layer boundaries."
   ]
  },
  {
   "cell_type": "code",
   "execution_count": null,
   "id": "c594e661-46e4-4975-975e-6bb1174b0bbb",
   "metadata": {},
   "outputs": [],
   "source": [
    "# sometimes this errors on the first call for some reason\n",
    "fdtd = lumapi.FDTD()"
   ]
  },
  {
   "cell_type": "code",
   "execution_count": null,
   "id": "e7e65839-a056-4197-9191-3cfac17c6472",
   "metadata": {},
   "outputs": [],
   "source": [
    "oscillator = LumericalOscillator(fdtd)"
   ]
  },
  {
   "cell_type": "code",
   "execution_count": null,
   "id": "3b299c49-ce32-4dce-9080-4c762d2fc3f6",
   "metadata": {},
   "outputs": [],
   "source": [
    "plot_field(\n",
    "    680,\n",
    "    lumerical_session=fdtd,\n",
    "    oscillator=oscillator,\n",
    "    ri_lower=1.35,\n",
    "    ri_upper=1.6,\n",
    "    excitonic_layer_thickness=30,\n",
    "    passive_layer_thickness=210,\n",
    "    num_periods=10,\n",
    ").opts(opts.VSpan(color='gray'))"
   ]
  },
  {
   "cell_type": "code",
   "execution_count": null,
   "id": "266d2844-1828-4902-913b-fde32a683633",
   "metadata": {},
   "outputs": [],
   "source": [
    "def wrap_plot_field(\n",
    "    wavelength, excitonic_layer_thickness, passive_layer_thickness, num_periods\n",
    "):\n",
    "    coords = {\n",
    "        \"λ\": wavelength,\n",
    "        \"Excitonic layer thickness\": excitonic_layer_thickness,\n",
    "        \"Passive layer thickness\": passive_layer_thickness,\n",
    "        \"Number of periods\": num_periods,\n",
    "    }\n",
    "\n",
    "    title = f\"{coordinate_string(**coords)}\"\n",
    "\n",
    "    return plot_field(\n",
    "        wavelength=wavelength,\n",
    "        lumerical_session=fdtd,\n",
    "        oscillator=oscillator,\n",
    "        ri_lower=1.35,\n",
    "        ri_upper=1.6,\n",
    "        excitonic_layer_thickness=excitonic_layer_thickness,\n",
    "        passive_layer_thickness=passive_layer_thickness,\n",
    "        num_periods=num_periods,\n",
    "    ).opts(opts.Curve(title=title, ylim=(0,None)), opts.VSpan(color=\"gray\"))"
   ]
  },
  {
   "cell_type": "code",
   "execution_count": null,
   "id": "bb81c663-8b17-4807-862e-5ee8784d2c8a",
   "metadata": {},
   "outputs": [],
   "source": [
    "# an example of what this can do\n",
    "pn.interact(\n",
    "    wrap_plot_field,\n",
    "    wavelength=(480, 880),\n",
    "    excitonic_layer_thickness=(10, 200),\n",
    "    passive_layer_thickness=(0, 300),\n",
    "    num_periods=(1, 50),\n",
    ")"
   ]
  },
  {
   "cell_type": "markdown",
   "id": "ee207561-33c9-480a-9a11-690d27468e28",
   "metadata": {
    "jp-MarkdownHeadingCollapsed": true,
    "tags": []
   },
   "source": [
    "## Refractive index"
   ]
  },
  {
   "cell_type": "code",
   "execution_count": null,
   "id": "08e33130-f625-4cdd-a550-112c947d8e5d",
   "metadata": {
    "tags": []
   },
   "outputs": [],
   "source": [
    "# first run cells defining fdtd, oscillator, default_oscillator_params\n",
    "with lumapi.FDTD() as fdtd:\n",
    "    oscillator = LumericalOscillator(session=fdtd)\n",
    "    oscillator_index = LOPC.LOPC(lumerical_session=fdtd, oscillator=oscillator, **default_oscillator_params).oscillator.index(frequencies)"
   ]
  },
  {
   "cell_type": "markdown",
   "id": "f04234bf-9b1f-49ba-bbc5-879cd0d62fca",
   "metadata": {},
   "source": [
    "#### Facts about the RI"
   ]
  },
  {
   "cell_type": "code",
   "execution_count": null,
   "id": "5ba79c17-b1fa-4c5d-8468-2969be05cdc4",
   "metadata": {},
   "outputs": [],
   "source": [
    "oscillator_index.min()"
   ]
  },
  {
   "cell_type": "code",
   "execution_count": null,
   "id": "f6e53649-ab04-4ea3-b6ad-10b88511b14e",
   "metadata": {},
   "outputs": [],
   "source": [
    "oscillator_index.max()"
   ]
  },
  {
   "cell_type": "code",
   "execution_count": null,
   "id": "6488ce2c-dabe-4f7a-97c7-34ecbcf82dae",
   "metadata": {
    "tags": []
   },
   "outputs": [],
   "source": [
    "oscillator_index.min() - 1.35"
   ]
  },
  {
   "cell_type": "code",
   "execution_count": null,
   "id": "42b7cb4c-867e-45ca-a889-dc11fc01e846",
   "metadata": {
    "tags": []
   },
   "outputs": [],
   "source": [
    "oscillator_index.max() - 1.35"
   ]
  },
  {
   "cell_type": "code",
   "execution_count": null,
   "id": "52f26328-06fc-478c-b161-f308bb912979",
   "metadata": {
    "tags": []
   },
   "outputs": [],
   "source": [
    "np.argmax(np.abs(oscillator_index))"
   ]
  },
  {
   "cell_type": "code",
   "execution_count": null,
   "id": "f7cb71c3-9551-4835-adb7-be7c6093b3b6",
   "metadata": {
    "tags": []
   },
   "outputs": [],
   "source": [
    "np.argmin(np.abs(oscillator_index))"
   ]
  },
  {
   "cell_type": "code",
   "execution_count": null,
   "id": "fa22d2c0-e66e-4561-854f-ba61ac3b85d1",
   "metadata": {},
   "outputs": [],
   "source": [
    "# wavelength range between max and min\n",
    "wavelengths_in_nanometres[np.argmin(oscillator_index):np.argmax(oscillator_index)]"
   ]
  },
  {
   "cell_type": "markdown",
   "id": "2b77d848-1788-4b90-9e20-c4b91f127310",
   "metadata": {
    "jp-MarkdownHeadingCollapsed": true,
    "tags": []
   },
   "source": [
    "#### Basic plots"
   ]
  },
  {
   "cell_type": "markdown",
   "id": "319eda8d-12ac-4cd4-b12b-1b542d21f9fe",
   "metadata": {},
   "source": [
    "Plot the refractive index of the Lorentz oscillator against wavelength."
   ]
  },
  {
   "cell_type": "code",
   "execution_count": null,
   "id": "5a6f1262-a452-457f-bea3-7fc84d855d58",
   "metadata": {
    "tags": []
   },
   "outputs": [],
   "source": [
    "(\n",
    "    (\n",
    "        hv.Layout(\n",
    "            complex_elements(\n",
    "                (wavelengths_in_nanometres, oscillator_index),\n",
    "                wavelength_dim,\n",
    "                element=hv.Curve,\n",
    "                auto_label=\"group\",\n",
    "                label=\"Lorentz Oscillator\",\n",
    "            ).values()\n",
    "        )\n",
    "        * lorentz_vlines([-4, -2, -1, 0, 1, 2, 4], scale=1e-9)\n",
    "    )\n",
    "    .redim(\"Curve.Real\", y=real_index_dim)\n",
    "    .redim(\"Curve.Imaginary\", y=imag_index_dim)\n",
    "    .opts(opts.Curve(width=600), opts.VLine(line_dash=\"dotted\"))\n",
    "    .cols(1)\n",
    ")"
   ]
  },
  {
   "cell_type": "markdown",
   "id": "4ac987ba-8355-40e4-a6e0-ac97af300054",
   "metadata": {},
   "source": [
    "Plot the refractive index of the Lorentz oscillator against frequency."
   ]
  },
  {
   "cell_type": "code",
   "execution_count": null,
   "id": "581788cb-98eb-4e6b-a2d2-7ecbce0abb85",
   "metadata": {
    "tags": []
   },
   "outputs": [],
   "source": [
    "(\n",
    "    (\n",
    "        hv.Layout(\n",
    "            complex_elements(\n",
    "                (frequencies, oscillator_index),\n",
    "                \"f (Hz)\",\n",
    "                element=hv.Curve,\n",
    "                auto_label=\"group\",\n",
    "                label=\"Lorentz Oscillator\",\n",
    "            ).values()\n",
    "        )\n",
    "        * lorentz_vlines([-4, -2, -1, 0, 1, 2, 4], mode='frequency')\n",
    "    )\n",
    "    .redim(\"Curve.Real\", y=real_index_dim)\n",
    "    .redim(\"Curve.Imaginary\", y=imag_index_dim)\n",
    "    .opts(opts.Curve(width=600), opts.VLine(line_dash=\"dotted\"))\n",
    "    .cols(1)\n",
    ")"
   ]
  },
  {
   "cell_type": "markdown",
   "id": "4f9f7ae4-5580-483b-a8a8-d2fd151cb5ed",
   "metadata": {},
   "source": [
    "Plot the refractive index of the Lorentz oscillator against wavelength on one axis."
   ]
  },
  {
   "cell_type": "code",
   "execution_count": null,
   "id": "a84fa0fb-6034-4cbe-8360-8648d233dbab",
   "metadata": {
    "tags": []
   },
   "outputs": [],
   "source": [
    "(\n",
    "    hv.Overlay(\n",
    "        complex_elements(\n",
    "            (wavelengths_in_nanometres, oscillator_index),\n",
    "            wavelength_dim,\n",
    "            element=hv.Curve,\n",
    "            auto_label=\"label\",\n",
    "            group=\"Lorentz Oscillator\",\n",
    "        ).values()\n",
    "    )\n",
    "    .redim('Curve.Lorentz_Oscillator.Real', y=real_index_dim)\n",
    "    .redim('Curve.Lorentz_Oscillator.Imag', y=imag_index_dim)\n",
    "    .opts(opts.Curve(width=600))\n",
    ")"
   ]
  },
  {
   "cell_type": "markdown",
   "id": "b31847b8-b680-4778-8f02-d4754a76cc1f",
   "metadata": {},
   "source": [
    "Plot the refractive index of the Lorentz oscillator against wavelength on two axes."
   ]
  },
  {
   "cell_type": "code",
   "execution_count": null,
   "id": "f9376d82-de24-48e5-a5c2-cdfffadd72b1",
   "metadata": {
    "tags": []
   },
   "outputs": [],
   "source": [
    "(\n",
    "    hv.Overlay(\n",
    "        complex_elements(\n",
    "            (wavelengths_in_nanometres, oscillator_index),\n",
    "            wavelength_dim,\n",
    "            element=hv.Curve,\n",
    "            auto_label=\"label\",\n",
    "            group=\"Lorentz Oscillator\",\n",
    "        ).values()\n",
    "    )\n",
    "    .redim('Curve.Lorentz_Oscillator.Real', y=real_index_dim)\n",
    "    .redim('Curve.Lorentz_Oscillator.Imag', y=imag_index_dim)\n",
    "    .opts(opts.Curve(width=600), opts.Curve('Imaginary', hooks=[plot_secondary]))\n",
    ")"
   ]
  },
  {
   "cell_type": "markdown",
   "id": "a680b952-9843-4299-b7e3-b59e44b2ba45",
   "metadata": {
    "tags": []
   },
   "source": [
    "#### Measured thylakoid membrane data"
   ]
  },
  {
   "cell_type": "code",
   "execution_count": null,
   "id": "d592e2c7-7495-49f8-9883-375e62726f33",
   "metadata": {},
   "outputs": [],
   "source": [
    "# Get real and imaginary refractive index data of thylakoid membrance\n",
    "thyl_real_data = np.loadtxt(\"data/Chl_real.dat\", delimiter=\"\\t\", dtype=\"f\")\n",
    "thyl_imag_data = np.loadtxt(\"data/Chl_img.dat\", delimiter=\"\\t\", dtype=\"f\")"
   ]
  },
  {
   "cell_type": "code",
   "execution_count": null,
   "id": "b807bc22-4e28-44bc-af8c-ed89cbb803b8",
   "metadata": {},
   "outputs": [],
   "source": [
    "osc_n_curve = hv.Curve(\n",
    "    (wavelengths_in_nanometres, oscillator_index.real),\n",
    "    kdims=[wavelength_dim],\n",
    "    vdims=[real_index_dim],\n",
    "    # group=\"Lorentz Oscillator\",\n",
    "    label=\"Lorentz Oscillator, Real\",\n",
    ")\n",
    "osc_k_curve = hv.Curve(\n",
    "    (wavelengths_in_nanometres, oscillator_index.imag),\n",
    "    kdims=[wavelength_dim],\n",
    "    vdims=[imag_index_dim],\n",
    "    # group=\"Lorentz Oscillator\",\n",
    "    label=\"Lorentz Oscillator, Imaginary\",\n",
    ")#.opts(hooks=[plot_secondary])"
   ]
  },
  {
   "cell_type": "code",
   "execution_count": null,
   "id": "dc76f8e6-af67-4e06-9178-1872effdd3c3",
   "metadata": {},
   "outputs": [],
   "source": [
    "thyl_n_curve = hv.Curve(\n",
    "    (thyl_real_data[:, 0], thyl_real_data[:, 1]),\n",
    "    kdims=[wavelength_dim],\n",
    "    vdims=[real_index_dim],\n",
    "    # group=\"Thylakoid Membrane\",\n",
    "    label=\"Thylakoid Membrane, Real\",\n",
    ")\n",
    "thyl_k_curve = hv.Curve(\n",
    "    (thyl_imag_data[:, 0], thyl_imag_data[:, 1]),\n",
    "    kdims=[wavelength_dim],\n",
    "    vdims=[imag_index_dim],\n",
    "    # group=\"Thylakoid Membrane\",\n",
    "    label=\"Thylakoid Membrane, Imaginary\",\n",
    ").opts(hooks=[plot_secondary])"
   ]
  },
  {
   "cell_type": "code",
   "execution_count": null,
   "id": "40f8eecf-e8ca-47dc-997a-33ee07579c59",
   "metadata": {},
   "outputs": [],
   "source": [
    "n_curves = (osc_n_curve * thyl_n_curve)\n",
    "k_curves = (osc_k_curve * thyl_k_curve).opts(opts.Curve(line_dash='dashed', hooks=[plot_secondary]))"
   ]
  },
  {
   "cell_type": "code",
   "execution_count": null,
   "id": "74c1d19a-38fe-4edd-b80d-55fbd44a49c3",
   "metadata": {},
   "outputs": [],
   "source": [
    "# Even though these symbols aren't used, the options are applied to the underlying curves!\n",
    "lo_curves = (osc_n_curve * osc_k_curve).opts(opts.Curve(color=blue))"
   ]
  },
  {
   "cell_type": "code",
   "execution_count": null,
   "id": "b4d49bd2-b54c-474c-9d27-97b357984c4a",
   "metadata": {},
   "outputs": [],
   "source": [
    "tm_curves = (thyl_n_curve * thyl_k_curve).opts(opts.Curve(color=red))"
   ]
  },
  {
   "cell_type": "code",
   "execution_count": null,
   "id": "49f3e998-10c5-4f5c-a12b-cb18c7c4b3f3",
   "metadata": {},
   "outputs": [],
   "source": [
    "tm_curves.opts(\n",
    "    opts.Curve(width=800),\n",
    "    opts.Overlay(\n",
    "        legend_position=\"top_right\", legend_opts={\"background_fill_alpha\": 0.5}\n",
    "    ),\n",
    "    clone=True,\n",
    ")"
   ]
  },
  {
   "cell_type": "code",
   "execution_count": null,
   "id": "5119252e-9b8e-4c8d-8ada-32d705c3780c",
   "metadata": {},
   "outputs": [],
   "source": [
    "(n_curves * k_curves).opts(\n",
    "    opts.Curve(width=800),\n",
    "    opts.Overlay(\n",
    "        legend_position=\"right\", legend_opts={\"background_fill_alpha\": 0.5}\n",
    "    ),\n",
    "    clone=True,\n",
    ")"
   ]
  },
  {
   "cell_type": "markdown",
   "id": "bab886fe-35e4-4d80-8190-2d4fc6caf5ab",
   "metadata": {
    "tags": []
   },
   "source": [
    "#### Interpolated thylakoid membrane data"
   ]
  },
  {
   "cell_type": "code",
   "execution_count": null,
   "id": "d00406ab-d428-4b16-89ea-5189f12a1af0",
   "metadata": {},
   "outputs": [],
   "source": [
    "# Interpolate the refractive index data\n",
    "thyl_real = np.interp(wavelengths_in_nanometres, thyl_real_data[:,0], thyl_real_data[:,1])\n",
    "thyl_imag = np.interp(wavelengths_in_nanometres, thyl_imag_data[:,0], thyl_imag_data[:,1])\n",
    "\n",
    "# Combine into complex refractive index of the membrane\n",
    "n_M = thyl_real + 1j*thyl_imag"
   ]
  },
  {
   "cell_type": "code",
   "execution_count": null,
   "id": "540851df-f80c-48ee-9bc4-418a5dc24e91",
   "metadata": {},
   "outputs": [],
   "source": [
    "interp_curves = complex_elements(\n",
    "    (wavelengths_in_nanometres, n_M),\n",
    "    auto_label=\"group\",\n",
    "    label=\"Thylakoid membrane (interpolated)\",\n",
    ")\n",
    "\n",
    "(\n",
    "    interp_curves[\"Real\"]\n",
    "    * hv.Scatter(thyl_n_curve)\n",
    "    * (\n",
    "        interp_curves[\"Imaginary\"].opts(hooks=[plot_secondary])\n",
    "        * hv.Scatter(thyl_k_curve).opts(hooks=[plot_secondary])\n",
    "    )\n",
    ").opts(\n",
    "    opts.Curve(width=800, color=blue),\n",
    "    opts.Scatter(color=red),\n",
    "    opts.Overlay(legend_position=\"right\"),\n",
    ")"
   ]
  },
  {
   "cell_type": "code",
   "execution_count": null,
   "id": "90a6a14f-0bff-483d-9732-c16ba9d01f25",
   "metadata": {},
   "outputs": [],
   "source": [
    "# Interpolate using InterpolatedIndex class\n",
    "from multilayer_simulator.material import InterpolatedIndex"
   ]
  },
  {
   "cell_type": "code",
   "execution_count": null,
   "id": "9809dcca-e14f-494b-9988-b367a08910e6",
   "metadata": {},
   "outputs": [],
   "source": [
    "from scipy import interpolate"
   ]
  },
  {
   "cell_type": "code",
   "execution_count": null,
   "id": "1776e11d-387b-4c07-a7ae-046c1a449903",
   "metadata": {},
   "outputs": [],
   "source": [
    "real_data_frequencies = convert_wavelength_and_frequency(thyl_real_data[::-1][:,0]*1e-9)\n",
    "real_data_indexes = thyl_real_data[::-1][:,1]\n",
    "\n",
    "thyl_real_index = InterpolatedIndex(real_data_frequencies, real_data_indexes, interpolate.interp1d, interp_kwargs={'bounds_error': False, 'fill_value': (real_data_indexes[0], real_data_indexes[-1])})"
   ]
  },
  {
   "cell_type": "code",
   "execution_count": null,
   "id": "2a1199f5-0675-41a3-a41a-fa7a63b373a7",
   "metadata": {},
   "outputs": [],
   "source": [
    "hv.Curve((thyl_real_data[:,0], thyl_real_index._index_function_real(real_data_frequencies[::-1])))#.opts(ylim=(0, 1.65))"
   ]
  },
  {
   "cell_type": "code",
   "execution_count": null,
   "id": "f9a16eb7-c2c4-4a96-b744-f8d046d5484f",
   "metadata": {},
   "outputs": [],
   "source": [
    "imag_data_frequencies = convert_wavelength_and_frequency(thyl_imag_data[::-1][:,0]*1e-9)\n",
    "imag_data_indexes = thyl_imag_data[::-1][:,1]\n",
    "\n",
    "thyl_imag_index = InterpolatedIndex.from_scipy_method(imag_data_frequencies, imag_data_indexes, 'interp1d', interp_kwargs={'bounds_error': False, 'fill_value': (imag_data_indexes[0], imag_data_indexes[-1])})"
   ]
  },
  {
   "cell_type": "code",
   "execution_count": null,
   "id": "4a5044d6-a373-4850-bcc1-a149d3bf35b2",
   "metadata": {},
   "outputs": [],
   "source": [
    "hv.Curve((thyl_imag_data[:,0], thyl_imag_index._index_function_real(imag_data_frequencies[::-1])))#.opts(ylim=(0, 1.65))"
   ]
  },
  {
   "cell_type": "code",
   "execution_count": null,
   "id": "66f73cf3-0e92-470f-a2a7-346273444238",
   "metadata": {},
   "outputs": [],
   "source": [
    "def thyl_complex_index(frequencies, component, **kwargs):\n",
    "    return thyl_real_index._index_function_real(frequencies) + 1j*thyl_imag_index._index_function_real(frequencies)"
   ]
  },
  {
   "cell_type": "code",
   "execution_count": null,
   "id": "0f26cbbd-86a5-4d78-bbc0-6080beaaeac7",
   "metadata": {},
   "outputs": [],
   "source": [
    "from multilayer_simulator.material import CallableIndex\n",
    "\n",
    "thyl_index = CallableIndex(thyl_complex_index)"
   ]
  },
  {
   "cell_type": "code",
   "execution_count": null,
   "id": "fcb1aac7-3d71-4a2e-8946-175a504c5941",
   "metadata": {},
   "outputs": [],
   "source": [
    "(\n",
    "    hv.Overlay(\n",
    "        complex_elements(\n",
    "            (wavelengths_in_nanometres, thyl_index.index(frequencies)),\n",
    "            auto_label=\"label\"\n",
    "        ).values()\n",
    "    ).opts(opts.Curve(width=600))\n",
    ")"
   ]
  },
  {
   "cell_type": "code",
   "execution_count": null,
   "id": "d8be0af5-f19c-4f31-8735-21b7178413ae",
   "metadata": {},
   "outputs": [],
   "source": [
    "index_plot = hv.NdLayout(\n",
    "    complex_elements(\n",
    "        (wavelengths_in_nanometres, thyl_index.index(frequencies)), label=\"Interpolated\"\n",
    "    )\n",
    ") * hv.NdLayout(\n",
    "    {\n",
    "        \"Real\": hv.Scatter(\n",
    "            (thyl_real_data[:, 0], thyl_real_data[:, 1]), label=\"Measured\"\n",
    "        ),\n",
    "        \"Imaginary\": hv.Scatter(\n",
    "            (thyl_imag_data[:, 0], thyl_imag_data[:, 1]), label=\"Measured\"\n",
    "        ),\n",
    "    }\n",
    ")"
   ]
  },
  {
   "cell_type": "code",
   "execution_count": null,
   "id": "bfb60ebd-1dff-4c34-9d7c-96b367165e5a",
   "metadata": {},
   "outputs": [],
   "source": [
    "index_plot.opts(opts.Curve(width=600), opts.Scatter(color=red), opts.Overlay(legend_position='right')).cols(1)"
   ]
  },
  {
   "cell_type": "markdown",
   "id": "b6c52f44-3371-47d5-a5c8-69138b9a4125",
   "metadata": {
    "tags": []
   },
   "source": [
    "## Emergence of PBG (1D plots of RTA)"
   ]
  },
  {
   "cell_type": "markdown",
   "id": "4b2f7445-9886-48c1-9e82-bd268ffca70d",
   "metadata": {
    "tags": []
   },
   "source": [
    "### Interactive plot of RTA"
   ]
  },
  {
   "cell_type": "code",
   "execution_count": null,
   "id": "b5009938-6b03-4115-ae79-2478a7f51306",
   "metadata": {},
   "outputs": [],
   "source": [
    "xs_1D = {\n",
    "    \"excitonic_layer_thickness\": pnw.DiscreteSlider,\n",
    "    \"theta\": pnw.DiscreteSlider,\n",
    "    \"num_periods\": pnw.DiscreteSlider,\n",
    "    \"passive_layer_thickness\": pnw.DiscreteSlider,\n",
    "}\n",
    "\n",
    "ds_sel = ds[s_polarised_RTA].interactive(loc=\"left\").sel(**xs_1D).squeeze(drop=True)"
   ]
  },
  {
   "cell_type": "code",
   "execution_count": null,
   "id": "0ba3ffe0-84f1-4a69-8dfd-b85386f8d3d8",
   "metadata": {},
   "outputs": [],
   "source": [
    "# Get a handle on the widgets\n",
    "widgets = {k: w for k, w in zip(xs_1D, ds_sel.widgets())}"
   ]
  },
  {
   "cell_type": "code",
   "execution_count": null,
   "id": "db25de9b-9ee1-449e-889f-16824b7792a2",
   "metadata": {},
   "outputs": [],
   "source": [
    "(\n",
    "    ds_sel.hvplot(x=\"wavelength\") * lorentz_vlines([-4, -2, -1, 0, 1, 2, 4], scale=1e-9)\n",
    ").opts(opts.VLine(line_dash=\"dotted\"))"
   ]
  },
  {
   "cell_type": "code",
   "execution_count": null,
   "id": "c27f2ea3-c91c-420e-913d-ca0a358b6ab7",
   "metadata": {},
   "outputs": [],
   "source": [
    "print({k: v.value for k, v in widgets.items()})"
   ]
  },
  {
   "cell_type": "markdown",
   "id": "0557ff6f-04ba-45fb-a834-5339fb9ba90b",
   "metadata": {},
   "source": [
    "Interesting parameter sets:\n",
    "* {'excitonic_layer_thickness': 30, 'theta': 0.0, 'num_periods': 10, 'passive_layer_thickness': 210}\n",
    "    * See what happens on increasing excitonic_layer_thickness to 40 or 50 - 'paradoxical' reduction in absorption!"
   ]
  },
  {
   "cell_type": "markdown",
   "id": "b3defc85-a2d7-404e-8155-411f2b9be325",
   "metadata": {
    "jp-MarkdownHeadingCollapsed": true,
    "tags": []
   },
   "source": [
    "### Interactive plot of RTA (by period rather than passive layer thickness)"
   ]
  },
  {
   "cell_type": "code",
   "execution_count": null,
   "id": "90ac04cd-9f21-45e8-a71f-48425f352979",
   "metadata": {},
   "outputs": [],
   "source": [
    "restacked_xs_1D = {\n",
    "    \"excitonic_layer_thickness\": pnw.DiscreteSlider,\n",
    "    \"theta\": pnw.DiscreteSlider,\n",
    "    \"num_periods\": pnw.DiscreteSlider,\n",
    "    \"period\": pnw.DiscreteSlider,\n",
    "}\n",
    "\n",
    "restacked_ds_sel = restacked_ds[s_polarised_RTA].interactive(loc=\"left\").sel(**restacked_xs_1D).squeeze(drop=True)"
   ]
  },
  {
   "cell_type": "code",
   "execution_count": null,
   "id": "88a382d4-4c38-4879-ba5a-e432be7f6576",
   "metadata": {},
   "outputs": [],
   "source": [
    "# Get a handle on the widgets\n",
    "restacked_widgets = {k: w for k, w in zip(restacked_xs_1D, restacked_ds_sel.widgets())}"
   ]
  },
  {
   "cell_type": "code",
   "execution_count": null,
   "id": "ac947800-25d3-4898-9140-1b998fd647df",
   "metadata": {},
   "outputs": [],
   "source": [
    "(\n",
    "    restacked_ds_sel.hvplot(x=\"wavelength\") * lorentz_vlines([-4, -2, -1, 0, 1, 2, 4], scale=1e-9)\n",
    ").opts(\n",
    "    opts.VLine(line_dash=\"dotted\"))"
   ]
  },
  {
   "cell_type": "code",
   "execution_count": null,
   "id": "8ea88f38-54fd-492e-ac85-0816b15b4e99",
   "metadata": {},
   "outputs": [],
   "source": [
    "print({k: v.value for k, v in restacked_widgets.items()})"
   ]
  },
  {
   "cell_type": "markdown",
   "id": "dc4370a2-d922-46a1-b576-2303ac814ec0",
   "metadata": {},
   "source": [
    "Interesting parameter sets:\n",
    "* {'excitonic_layer_thickness': 30, 'theta': 0.0, 'num_periods': 10, 'period': 240}\n",
    "    * The reduction in absorption above disappears when the period is fixed."
   ]
  },
  {
   "cell_type": "code",
   "execution_count": null,
   "id": "bdf191f7-7003-47b4-8e52-15611cebc4e1",
   "metadata": {},
   "outputs": [],
   "source": [
    "def wrapped_plot(*args, **kwargs):\n",
    "    return plot_RTA(*args, **kwargs).opts(legend_position='right')\n",
    "bound_plot = pn.interact(wrapped_plot, period=(10,460,10), excitonic_layer_thickness=(10, 150,10), num_periods=(1, 50), theta=0)"
   ]
  },
  {
   "cell_type": "code",
   "execution_count": null,
   "id": "47e31996-ed9f-477f-8937-5d6be0e2cf00",
   "metadata": {},
   "outputs": [],
   "source": [
    "bound_plot"
   ]
  },
  {
   "cell_type": "code",
   "execution_count": null,
   "id": "9f9a17da-d452-4cb3-9f9c-12868bf02ff1",
   "metadata": {},
   "outputs": [],
   "source": []
  },
  {
   "cell_type": "markdown",
   "id": "6b0f63cd-d8b4-4cf6-aad7-4895d227f1ee",
   "metadata": {
    "jp-MarkdownHeadingCollapsed": true,
    "tags": []
   },
   "source": [
    "### Interactive plot of RTA (faceted by num_periods)"
   ]
  },
  {
   "cell_type": "code",
   "execution_count": null,
   "id": "a9308a44-478a-476d-82d2-ffda8bb5a329",
   "metadata": {
    "tags": []
   },
   "outputs": [],
   "source": [
    "xs_1D_np = {\n",
    "    \"num_periods\": [1, 5, 10, 20, 50],\n",
    "    \"excitonic_layer_thickness\": pnw.DiscreteSlider,\n",
    "    \"theta\": pnw.DiscreteSlider,\n",
    "    \"passive_layer_thickness\": pnw.DiscreteSlider,\n",
    "}\n",
    "\n",
    "ds_sel_np = ds[s_polarised_RTA].interactive(loc=\"left\").sel(**xs_1D_np).squeeze(drop=True)"
   ]
  },
  {
   "cell_type": "code",
   "execution_count": null,
   "id": "2d51928e-cc48-47d3-8df0-a478eb23988f",
   "metadata": {
    "tags": []
   },
   "outputs": [],
   "source": [
    "# Get a handle on the widgets\n",
    "widgets_np = {k: w for k, w in zip([\"excitonic_layer_thickness\", \"theta\", \"passive_layer_thickness\"], ds_sel_np.widgets())}"
   ]
  },
  {
   "cell_type": "code",
   "execution_count": null,
   "id": "d43e32be-6793-4bec-9417-9e4c6c0f2f69",
   "metadata": {
    "tags": []
   },
   "outputs": [],
   "source": [
    "(\n",
    "    (\n",
    "        ds_sel_np.Rs.hvplot(x=\"wavelength\", by=\"num_periods\")\n",
    "        + ds_sel_np.Ts.hvplot(x=\"wavelength\", by=\"num_periods\")\n",
    "        + ds_sel_np.As.hvplot(x=\"wavelength\", by=\"num_periods\")\n",
    "    )\n",
    "    * lorentz_vlines([-4, -2, -1, 0, 1, 2, 4], scale=1e-9)\n",
    ").cols(1).opts(opts.VLine(line_dash=\"dotted\"), opts.Overlay(title=\"\"))"
   ]
  },
  {
   "cell_type": "code",
   "execution_count": null,
   "id": "4b2fc920-bfcf-44a2-80fa-91db77116c03",
   "metadata": {},
   "outputs": [],
   "source": [
    "print({k: v.value for k, v in widgets_np.items()})"
   ]
  },
  {
   "cell_type": "markdown",
   "id": "36afac50-6ab2-4cc8-9805-f934a6d033ce",
   "metadata": {},
   "source": [
    "Interesting parameter sets:\n",
    "* {'excitonic_layer_thickness': 30, 'theta': 0.0, 'passive_layer_thickness': 210}\n",
    "    * Reflectance around the oscillator resonance wavelength is significantly stronger for an intermediate (~10) number of periods!\n",
    "* {'excitonic_layer_thickness': 40, 'theta': 0.0, 'passive_layer_thickness': 210}\n",
    "    * Absorptance near the oscillator wavelength is slightly higher for an intermediate (~10) number of periods!"
   ]
  },
  {
   "cell_type": "markdown",
   "id": "a5d97f2b-97f0-4c3d-a627-f8314d7a47e7",
   "metadata": {
    "jp-MarkdownHeadingCollapsed": true,
    "tags": []
   },
   "source": [
    "### Absorption can decrease with increasing excitonic layer thickness"
   ]
  },
  {
   "cell_type": "markdown",
   "id": "4c0a660f-cc6e-4af2-8b80-622732868aac",
   "metadata": {},
   "source": [
    "The complicated interaction between the dispersive refractive index of the Lorentz oscillator and the photonic band gap can lead to seemingly paradoxical behaviour, such as the reduction of absorption around the oscillator resonance wavelength as the thickness of the excitonic layer increases by 33% from 30 nm to 40 nm. This is due to the increase in excitonic layer thickness causing both the central wavelength and strength of the PBG to increase."
   ]
  },
  {
   "cell_type": "code",
   "execution_count": null,
   "id": "766a00b0-5c5c-4a87-8ce4-ecc35120b261",
   "metadata": {},
   "outputs": [],
   "source": [
    "sel = {\"theta\": 0.0, \"num_periods\": 10, \"passive_layer_thickness\": 210}\n",
    "sel_elt = {\"excitonic_layer_thickness\": slice(20, 50)}"
   ]
  },
  {
   "cell_type": "code",
   "execution_count": null,
   "id": "c36b683c-9a88-4c94-aa64-34a4267ed6d0",
   "metadata": {},
   "outputs": [],
   "source": [
    "(\n",
    "    ds.A.sel(**sel)\n",
    "    .sel(**sel_elt)\n",
    "    .squeeze()\n",
    "    .hvplot(x=\"wavelength\", by=\"excitonic_layer_thickness\")\n",
    "    * lorentz_vlines([-2, 0, 2], scale=1e-9)\n",
    ").opts(\n",
    "    opts.Curve(ylim=(0,1)),\n",
    "    opts.VLine(line_color=green, line_dash='dotted', line_alpha=0.5),\n",
    "    opts.Overlay(title=coordinate_string(**sel), legend_position=\"top_right\"),\n",
    ")"
   ]
  },
  {
   "cell_type": "code",
   "execution_count": null,
   "id": "b90ac586-ae55-4e78-9eb4-11c53cd9ac25",
   "metadata": {},
   "outputs": [],
   "source": [
    "(\n",
    "    ds.R.sel(**sel)\n",
    "    .sel(**sel_elt)\n",
    "    .squeeze()\n",
    "    .hvplot(x=\"wavelength\", by=\"excitonic_layer_thickness\")\n",
    "    * lorentz_vlines([-2, 0, 2], scale=1e-9)\n",
    ").opts(\n",
    "    opts.Curve(ylim=(0,1)),\n",
    "    opts.VLine(line_color=green, line_dash='dotted', line_alpha=0.5),\n",
    "    opts.Overlay(title=coordinate_string(**sel), legend_position=\"top_right\"),\n",
    ")"
   ]
  },
  {
   "cell_type": "markdown",
   "id": "6127d049-b5f7-4e89-9257-c87a5b72a52e",
   "metadata": {},
   "source": [
    "This case also provides an example of the wavelength-specificity of photonic effects on absorption. If considering only a window of two linewidths around the resonance wavelength, the integrated absorptivity of the structure is highest when the excitonic layer thickness is 30 nm. If considering a window of four linewidths, the same metric increases monotonically over the same range."
   ]
  },
  {
   "cell_type": "code",
   "execution_count": null,
   "id": "00216cb6-f219-400f-8245-42452aba14a2",
   "metadata": {},
   "outputs": [],
   "source": [
    "ds_flat_spectrum.A.sel(**sel).sel(**sel_elt).squeeze()"
   ]
  },
  {
   "cell_type": "code",
   "execution_count": null,
   "id": "e223a656-50bc-4c0f-bb6f-340654dcfc3c",
   "metadata": {},
   "outputs": [],
   "source": [
    "select_lorentz_line(ds.A, 0, 2).sel(**sel).sel(**sel_elt).integrate('wavelength').compute()"
   ]
  },
  {
   "cell_type": "code",
   "execution_count": null,
   "id": "84d7a1b5-b089-4ad1-9be5-743fc6d2226c",
   "metadata": {},
   "outputs": [],
   "source": [
    "select_lorentz_line(ds.A, 0, 4).sel(**sel).sel(**sel_elt).integrate('wavelength').compute()"
   ]
  },
  {
   "cell_type": "code",
   "execution_count": null,
   "id": "75c2f05c-fa5f-4f6a-a22f-3afc238f5241",
   "metadata": {},
   "outputs": [],
   "source": [
    "curve_2 = (\n",
    "    select_lorentz_line(ds.A, 0, 2)\n",
    "    .sel(**sel)\n",
    "    .sel(**sel_elt)\n",
    "    .integrate(\"wavelength\")\n",
    "    .squeeze()\n",
    "    .hvplot(x=\"excitonic_layer_thickness\", label='Window of 2 Γ')\n",
    ")\n",
    "curve_4 = (\n",
    "    select_lorentz_line(ds.A, 0, 4)\n",
    "    .sel(**sel)\n",
    "    .sel(**sel_elt)\n",
    "    .integrate(\"wavelength\")\n",
    "    .squeeze()\n",
    "    .hvplot(x=\"excitonic_layer_thickness\", label='Window of 4 Γ')\n",
    ")"
   ]
  },
  {
   "cell_type": "code",
   "execution_count": null,
   "id": "eb848d1b-eb2f-44a4-82ba-31b3917753c5",
   "metadata": {},
   "outputs": [],
   "source": [
    "(curve_2*curve_4).opts(title=coordinate_string(**sel), legend_position=\"top_left\", ylabel=\"Integrated absorptivity (arbitrary units)\")"
   ]
  },
  {
   "cell_type": "code",
   "execution_count": null,
   "id": "ec39c167-8f82-40d0-86b4-8df7644d5a85",
   "metadata": {},
   "outputs": [],
   "source": [
    "da = ds.A.sel(**sel)\n",
    "\n",
    "curves = {0: select_lorentz_line(da, 0, 0).squeeze().hvplot(x='excitonic_layer_thickness', label=f'Resonance wavelength')}\n",
    "\n",
    "for x in range (1, 6):\n",
    "    da_sel = select_lorentz_line(da, 0, x)\n",
    "    normalisation = spectrum(np.ones_like, da_sel.wavelength, normalisation=1)\n",
    "    curves.update({x: (da_sel*normalisation).integrate('wavelength').rename('A').squeeze().hvplot(x='excitonic_layer_thickness', label=f'Window of {x} Γ')})"
   ]
  },
  {
   "cell_type": "code",
   "execution_count": null,
   "id": "c4e7ce80-49e6-47a5-9c01-61cfc9200e83",
   "metadata": {},
   "outputs": [],
   "source": [
    "da = ds.A.sel(**sel)\n",
    "\n",
    "curves = {0: select_lorentz_line(da, 0, 0).squeeze().hvplot(x='excitonic_layer_thickness', label=f'Resonance wavelength')}\n",
    "\n",
    "for x in range (1, 6):\n",
    "    da_sel = select_lorentz_line(da, 0, x)\n",
    "    da_sel = normalise_over_dim(da_sel, \"wavelength\")\n",
    "    curves.update({x: (da_sel).integrate('wavelength').rename('A').squeeze().hvplot(x='excitonic_layer_thickness', label=f'Window of {x} Γ')})"
   ]
  },
  {
   "cell_type": "code",
   "execution_count": null,
   "id": "16c4f81e-5827-4351-aeb4-ac3321c66b42",
   "metadata": {},
   "outputs": [],
   "source": [
    "hv.NdOverlay(curves, kdims=[\"Window size (Γ)\"]).opts(\n",
    "    title=\"Average absorptance over a window around the resonance wavelength\\n\"\n",
    "    + coordinate_string(**sel),\n",
    "    legend_position=\"right\",\n",
    ")"
   ]
  },
  {
   "cell_type": "markdown",
   "id": "3c683c63-648c-47c2-b583-521a3bec63e7",
   "metadata": {},
   "source": [
    "When fixing the period, which approximately fixes the position of the PBG, the 'paradoxical' effect disappears and absorptance across the spectrum increases monotonically with excitonic layer thickness."
   ]
  },
  {
   "cell_type": "code",
   "execution_count": null,
   "id": "72f674dc-3eb9-4d04-bd42-8324ab282757",
   "metadata": {},
   "outputs": [],
   "source": [
    "sel = {\"theta\": 0.0, \"num_periods\": 10}\n",
    "sel_elt = {\"excitonic_layer_thickness\": slice(20, 50), \"period\": slice(200, 270)}\n",
    "(\n",
    "    restacked_ds.A.sel(**sel)\n",
    "    .sel(**sel_elt)\n",
    "    .squeeze()\n",
    "    .hvplot(x=\"wavelength\", by=\"excitonic_layer_thickness\", groupby=['period'])\n",
    "    * lorentz_vlines([-2, 0, 2], scale=1e-9)\n",
    ").opts(\n",
    "    opts.Curve(ylim=(0,1)),\n",
    "    opts.VLine(line_color=green, line_dash='dotted', line_alpha=0.5),\n",
    "    opts.Overlay(title=coordinate_string(**sel), legend_position=\"top_right\"),\n",
    ")"
   ]
  },
  {
   "cell_type": "code",
   "execution_count": null,
   "id": "1edb2ba0-50ce-47ef-aec8-b1382d7a774c",
   "metadata": {},
   "outputs": [],
   "source": [
    "da = restacked_ds.A.sel(**sel)\n",
    "periods = range(200,271, 10)\n",
    "\n",
    "curves = {(0,P): select_lorentz_line(da, 0, 0).sel(period=P).squeeze().hvplot(x='excitonic_layer_thickness', label=f'Resonance wavelength') for P in periods}\n",
    "\n",
    "for x in range (1, 6):\n",
    "    for P in periods:\n",
    "        da_sel = select_lorentz_line(da, 0, x).sel(period=P)\n",
    "        normalisation = spectrum(np.ones_like, da_sel.wavelength, normalisation=1)\n",
    "        curves.update({(x,P): (da_sel*normalisation).integrate('wavelength').rename('A').squeeze().hvplot(x='excitonic_layer_thickness', label=f'Window of {x} Γ')})"
   ]
  },
  {
   "cell_type": "code",
   "execution_count": null,
   "id": "cb7a9fc3-5443-4c4f-88ff-406b5329848b",
   "metadata": {},
   "outputs": [],
   "source": [
    "hmap = hv.HoloMap(curves, kdims=[\"Window size (Γ)\", \"Λ\"])"
   ]
  },
  {
   "cell_type": "code",
   "execution_count": null,
   "id": "7fdbd45a-079b-4782-9560-3ceda8b3bec2",
   "metadata": {},
   "outputs": [],
   "source": [
    "hmap.overlay(\"Window size (Γ)\").opts(\n",
    "    opts.Curve(\n",
    "    title=\"Average absorptance over a window around the resonance wavelength\\n\"\n",
    "    + coordinate_string(**sel),)\n",
    ")"
   ]
  },
  {
   "cell_type": "markdown",
   "id": "2b098a02-6591-49c2-a548-9ac1504b3e47",
   "metadata": {
    "jp-MarkdownHeadingCollapsed": true,
    "tags": []
   },
   "source": [
    "### Reflectance can decrease with increasing number of periods"
   ]
  },
  {
   "cell_type": "markdown",
   "id": "e59811a0-9bd4-4e21-a09b-39bdd3faa899",
   "metadata": {},
   "source": [
    "In general, the PBG narrows with increasing number of periods, and this can cause the reflectance near the PBG wavelength to decrease. This effect is particularly stark near the resonance wavelength though, and especially when it is on the red side of the PBG. This could be a double-PBG effect - need to solve the dispersion relation to know for sure."
   ]
  },
  {
   "cell_type": "code",
   "execution_count": null,
   "id": "33d1bc98-5cdc-426d-9057-1cb1a4ca0a95",
   "metadata": {},
   "outputs": [],
   "source": [
    "sel = {\"excitonic_layer_thickness\": 30, \"theta\": 0.0, \"period\": 240}\n",
    "sel_np = {\"num_periods\": [1, 5, 10, 15, 20, 30, 50]}\n",
    "(\n",
    "    restacked_ds.R.sel(**sel)\n",
    "    .sel(**sel_np)\n",
    "    .squeeze()\n",
    "    .hvplot(x=\"wavelength\", by=\"num_periods\")\n",
    "    * lorentz_vlines([0], scale=1e-9, label='L0')\n",
    "    * lorentz_vlines([-1], scale=1e-9, label='L1')\n",
    "    * lorentz_vlines([-2], scale=1e-9, label='L2')\n",
    ").opts(\n",
    "    # opts.Curve(ylim=(0,1)),\n",
    "    opts.VLine('VLine.L2', line_color=blue, line_dash=\"dotted\", line_alpha=0.5),\n",
    "    opts.VLine('VLine.L1', line_color=red, line_dash=\"dotted\", line_alpha=0.5),\n",
    "    opts.VLine('VLine.L0', line_color=yellow, line_dash=\"dotted\", line_alpha=0.5),\n",
    "    opts.Overlay(title=coordinate_string(**sel), legend_position=\"top_right\"),\n",
    ")"
   ]
  },
  {
   "cell_type": "code",
   "execution_count": null,
   "id": "350d5bc6-c443-4a3d-9d65-969f5b804514",
   "metadata": {},
   "outputs": [],
   "source": [
    "sel = {\"excitonic_layer_thickness\": 30, \"theta\": 0.0, \"period\": 250}\n",
    "sel_np = {\"num_periods\": [1, 5, 10, 15, 20, 30, 50]}\n",
    "(\n",
    "    restacked_ds.R.sel(**sel)\n",
    "    .sel(**sel_np)\n",
    "    .squeeze()\n",
    "    .hvplot(x=\"wavelength\", by=\"num_periods\")\n",
    "    * lorentz_vlines([0], scale=1e-9)\n",
    ").opts(\n",
    "    # opts.Curve(ylim=(0,1)),\n",
    "    opts.VLine(line_color=green, line_dash=\"dotted\", line_alpha=0.5),\n",
    "    opts.Overlay(title=coordinate_string(**sel), legend_position=\"top_right\"),\n",
    ")"
   ]
  },
  {
   "cell_type": "code",
   "execution_count": null,
   "id": "2cb16975-bf6a-43a5-ae7d-ced51c2e3263",
   "metadata": {},
   "outputs": [],
   "source": [
    "sel = {\"excitonic_layer_thickness\": 70, \"theta\": 0.0, \"period\": 210}\n",
    "sel_np = {\"num_periods\": [1, 5, 10, 15, 20, 30, 50]}\n",
    "(\n",
    "    restacked_ds.R.sel(**sel)\n",
    "    .sel(**sel_np)\n",
    "    .squeeze()\n",
    "    .hvplot(x=\"wavelength\", by=\"num_periods\")\n",
    "    * lorentz_vlines([0], scale=1e-9, label='L0')\n",
    "    * lorentz_vlines([-7], scale=1e-9, label='L7')\n",
    ").opts(\n",
    "    # opts.Curve(ylim=(0,1)),\n",
    "    opts.VLine('VLine.L7', line_color=green, line_dash=\"dotted\", line_alpha=0.5),\n",
    "    opts.VLine('VLine.L0', line_color=yellow, line_dash=\"dotted\", line_alpha=0.5),\n",
    "    opts.Overlay(title=coordinate_string(**sel), legend_position=\"top_right\"),\n",
    ")"
   ]
  },
  {
   "cell_type": "code",
   "execution_count": null,
   "id": "46128b39-95d2-4cca-aa93-73da62451360",
   "metadata": {},
   "outputs": [],
   "source": [
    "sel = {\"excitonic_layer_thickness\": 30, \"theta\": 0.0, \"period\": 240}\n",
    "da = restacked_ds.R.sel(**sel)\n",
    "\n",
    "curves = {0: select_lorentz_line(da, 0, 0).squeeze().hvplot(x='num_periods', label=f'Resonance wavelength')}\n",
    "\n",
    "for x in range (1, 6):\n",
    "    da_sel = select_lorentz_line(da, 0, x)\n",
    "    normalisation = spectrum(np.ones_like, da_sel.wavelength, normalisation=1)\n",
    "    curves.update({x: (da_sel*normalisation).integrate('wavelength').rename('R').squeeze().hvplot(x='num_periods', label=f'Window of {x} Γ')})\n",
    "\n",
    "hv.NdOverlay(curves, kdims=[\"Window size (Γ)\"]).opts(\n",
    "    title=\"Average reflectance over a window around the resonance wavelength\\n\"\n",
    "    + coordinate_string(**sel),\n",
    "    legend_position=\"right\",\n",
    ")"
   ]
  },
  {
   "cell_type": "code",
   "execution_count": null,
   "id": "0ffd1f51-a5fa-4030-a188-b2ea9b10cfdc",
   "metadata": {},
   "outputs": [],
   "source": [
    "sel = {\"excitonic_layer_thickness\": 30, \"theta\": 0.0, \"period\": 240}\n",
    "da = restacked_ds.R.sel(**sel)\n",
    "\n",
    "curves = {0: select_lorentz_line(da, -1, 0).squeeze().hvplot(x='num_periods', label='-1 Lorentz line')}\n",
    "\n",
    "for x in range (1, 6):\n",
    "    da_sel = select_lorentz_line(da, 0, x)\n",
    "    normalisation = spectrum(np.ones_like, da_sel.wavelength, normalisation=1)\n",
    "    curves.update({x: (da_sel*normalisation).integrate('wavelength').rename('R').squeeze().hvplot(x='num_periods', label=f'Window of {x} Γ')})\n",
    "\n",
    "hv.NdOverlay(curves, kdims=[\"Window size (Γ)\"]).opts(\n",
    "    title=\"Average reflectance over a window around the -1 Lorentz line\\n\"\n",
    "    + coordinate_string(**sel),\n",
    "    legend_position=\"right\",\n",
    ")"
   ]
  },
  {
   "cell_type": "code",
   "execution_count": null,
   "id": "7def5e38-fd52-402f-a8a9-e1fcf805d9d3",
   "metadata": {},
   "outputs": [],
   "source": [
    "sel = {\"excitonic_layer_thickness\": 30, \"theta\": 0.0, \"period\": 240}\n",
    "da = restacked_ds.R.sel(**sel)\n",
    "\n",
    "curves = {0: select_lorentz_line(da, -2, 0).squeeze().hvplot(x='num_periods', label='-2 Lorentz line')}\n",
    "\n",
    "for x in range (1, 6):\n",
    "    da_sel = select_lorentz_line(da, 0, x)\n",
    "    normalisation = spectrum(np.ones_like, da_sel.wavelength, normalisation=1)\n",
    "    curves.update({x: (da_sel*normalisation).integrate('wavelength').rename('R').squeeze().hvplot(x='num_periods', label=f'Window of {x} Γ')})\n",
    "\n",
    "hv.NdOverlay(curves, kdims=[\"Window size (Γ)\"]).opts(\n",
    "    title=\"Average reflectance over a window around the -2 Lorentz line\\n\"\n",
    "    + coordinate_string(**sel),\n",
    "    legend_position=\"right\",\n",
    ")"
   ]
  },
  {
   "cell_type": "code",
   "execution_count": null,
   "id": "07607089-529a-4349-b9ff-a725fe222039",
   "metadata": {},
   "outputs": [],
   "source": [
    "sel = {\"excitonic_layer_thickness\": 60, \"theta\": 0.0, \"period\": 210}\n",
    "da = restacked_ds.R.sel(**sel)\n",
    "\n",
    "curves = {0: select_lorentz_line(da, -7, 0).squeeze().hvplot(x='num_periods', label='-7 Lorentz line')}\n",
    "\n",
    "for x in np.arange(1, 6)/2:\n",
    "    da_sel = select_lorentz_line(da, 0, x)\n",
    "    curve = integrate_da(da_sel, dim=\"wavelength\", normalisation=1).squeeze().hvplot(x='num_periods', label=f'Window of {x} Γ')\n",
    "    curves.update({x: curve})\n",
    "\n",
    "overlay = hv.NdOverlay(curves, kdims=[\"Window size (Γ)\"]).opts(\n",
    "    title=\"Average reflectance over a window around the -7 Lorentz line\\n\"\n",
    "    + coordinate_string(**sel),\n",
    "    legend_position=\"right\",\n",
    ")\n",
    "overlay"
   ]
  },
  {
   "cell_type": "code",
   "execution_count": null,
   "id": "714da05c-842e-4338-a2f5-9326f802a3be",
   "metadata": {},
   "outputs": [],
   "source": [
    "overlay[0.5:]"
   ]
  },
  {
   "cell_type": "code",
   "execution_count": null,
   "id": "d89e4d13-acdc-4128-8e8e-39df80dd1c3d",
   "metadata": {},
   "outputs": [],
   "source": [
    "overlay.select(num_periods=slice(0, 10))"
   ]
  },
  {
   "cell_type": "markdown",
   "id": "26a9cc58-667a-4e7c-9cd3-11bb2333f220",
   "metadata": {
    "jp-MarkdownHeadingCollapsed": true,
    "tags": []
   },
   "source": [
    "### Absorptance can decrease with increasing number of periods"
   ]
  },
  {
   "cell_type": "markdown",
   "id": "ef877d03-cf93-4a34-96b9-478d5511aba1",
   "metadata": {},
   "source": [
    "It seems that in some cases, adding more layers can increase the reflectance at the expense of the absorption, causing the latter to increase with increasing number of periods."
   ]
  },
  {
   "cell_type": "code",
   "execution_count": null,
   "id": "12f2573c-690e-428a-be19-40a3fe63dd67",
   "metadata": {},
   "outputs": [],
   "source": [
    "sel = {\n",
    "    \"excitonic_layer_thickness\": 40,\n",
    "    \"theta\": 0.0,\n",
    "    # 'period': 250,\n",
    "}\n",
    "sel_np = {\"num_periods\": [1, 5, 10, 15, 20, 30, 50]}\n",
    "(\n",
    "    restacked_ds.A.sel(**sel)\n",
    "    .sel(**sel_np)\n",
    "    .squeeze()\n",
    "    .hvplot(x=\"wavelength\", by=\"num_periods\", groupby=[\"period\"])\n",
    "    * lorentz_vlines([-1, 0, 1], scale=1e-9)\n",
    ").opts(\n",
    "    # opts.Curve(ylim=(0,1)),\n",
    "    opts.VLine(line_color=green, line_dash=\"dotted\", line_alpha=0.5),\n",
    "    opts.Overlay(title=coordinate_string(**sel), legend_position=\"top_right\"),\n",
    ")"
   ]
  },
  {
   "cell_type": "code",
   "execution_count": null,
   "id": "f7292201-d890-4c2e-b5a1-02a83b8dd72b",
   "metadata": {},
   "outputs": [],
   "source": [
    "sel = {\n",
    "    \"excitonic_layer_thickness\": 40,\n",
    "    \"theta\": 0.0,\n",
    "    'period': 250,\n",
    "}\n",
    "sel_wl = {\"wavelength\": slice(674, 681)}\n",
    "(\n",
    "    restacked_ds.A.sel(**sel)\n",
    "    .sel(**sel_wl)\n",
    "    .squeeze()\n",
    "    .hvplot(x=\"num_periods\", by=\"wavelength\", groupby=[\"period\"])\n",
    "    * lorentz_vlines([-1, 0, 1], scale=1e-9)\n",
    ").opts(\n",
    "    # opts.Curve(ylim=(0,1)),\n",
    "    opts.VLine(line_color=green, line_dash=\"dotted\", line_alpha=0.5),\n",
    "    opts.Overlay(title=coordinate_string(**sel), legend_position=\"right\"),\n",
    ")"
   ]
  },
  {
   "cell_type": "markdown",
   "id": "b5e543f8-d468-4b96-ae4b-0b194b546bf5",
   "metadata": {},
   "source": [
    "Does the transmittance ever go up with number of periods?"
   ]
  },
  {
   "cell_type": "code",
   "execution_count": null,
   "id": "55c11d1a-db49-4b72-a2a8-019e2743e52f",
   "metadata": {},
   "outputs": [],
   "source": [
    "sel = {\n",
    "    \"excitonic_layer_thickness\": 40,\n",
    "    \"theta\": 0.0,\n",
    "    # 'period': 250,\n",
    "}\n",
    "sel_np = {\"num_periods\": [1, 5, 10, 15, 20, 30, 50]}\n",
    "(\n",
    "    restacked_ds.T.sel(**sel)\n",
    "    .sel(**sel_np)\n",
    "    .squeeze()\n",
    "    .hvplot(x=\"wavelength\", by=\"num_periods\", groupby=[\"period\"])\n",
    "    * lorentz_vlines([-1, 0, 1], scale=1e-9)\n",
    ").opts(\n",
    "    # opts.Curve(ylim=(0,1)),\n",
    "    opts.VLine(line_color=green, line_dash=\"dotted\", line_alpha=0.5),\n",
    "    opts.Overlay(title=coordinate_string(**sel), legend_position=\"top_right\"),\n",
    ")"
   ]
  },
  {
   "cell_type": "code",
   "execution_count": null,
   "id": "cd5f34b6-0e04-49ab-84fe-bf66e2f861d6",
   "metadata": {},
   "outputs": [],
   "source": [
    "sel = {\n",
    "    \"excitonic_layer_thickness\": 40,\n",
    "    \"theta\": 0.0,\n",
    "    'period': 250,\n",
    "}\n",
    "sel_wl = {\"wavelength\": slice(674, 681)}\n",
    "(\n",
    "    restacked_ds.T.sel(**sel)\n",
    "    .sel(**sel_wl)\n",
    "    .squeeze()\n",
    "    .hvplot(x=\"num_periods\", by=\"wavelength\", groupby=[\"period\"])\n",
    "    * lorentz_vlines([-1, 0, 1], scale=1e-9)\n",
    ").opts(\n",
    "    # opts.Curve(ylim=(0,1)),\n",
    "    opts.VLine(line_color=green, line_dash=\"dotted\", line_alpha=0.5),\n",
    "    opts.Overlay(title=coordinate_string(**sel), legend_position=\"right\"),\n",
    ")"
   ]
  },
  {
   "cell_type": "markdown",
   "id": "546d8a51-fc7c-424b-969a-2a04e102ff19",
   "metadata": {},
   "source": [
    "Huh... what about reflectance and transmittance in this regime?"
   ]
  },
  {
   "cell_type": "code",
   "execution_count": null,
   "id": "a9e3cd15-c1e1-4ec6-9f89-4d0cf595d35b",
   "metadata": {},
   "outputs": [],
   "source": [
    "sel = {\n",
    "    \"excitonic_layer_thickness\": 40,\n",
    "    \"theta\": 0.0,\n",
    "    # 'period': 250,\n",
    "}\n",
    "sel_np = {\"num_periods\": [1, 5, 10, 15, 20, 30, 50]}\n",
    "(\n",
    "    restacked_ds.R.sel(**sel)\n",
    "    .sel(**sel_np)\n",
    "    .squeeze()\n",
    "    .hvplot(x=\"wavelength\", by=\"num_periods\", groupby=[\"period\"])\n",
    "    * lorentz_vlines([-1, 0, 1], scale=1e-9)\n",
    ").opts(\n",
    "    # opts.Curve(ylim=(0,1)),\n",
    "    opts.VLine(line_color=green, line_dash=\"dotted\", line_alpha=0.5),\n",
    "    opts.Overlay(title=coordinate_string(**sel), legend_position=\"top_right\"),\n",
    ")"
   ]
  },
  {
   "cell_type": "code",
   "execution_count": null,
   "id": "98031b6c-870d-4e82-afc1-0d3f02ea68bf",
   "metadata": {},
   "outputs": [],
   "source": [
    "sel = {\n",
    "    \"excitonic_layer_thickness\": 40,\n",
    "    \"theta\": 0.0,\n",
    "    # 'period': 250,\n",
    "}\n",
    "sel_np = {\"num_periods\": [1, 5, 10, 15, 20, 30, 50]}\n",
    "(\n",
    "    restacked_ds.T.sel(**sel)\n",
    "    .sel(**sel_np)\n",
    "    .squeeze()\n",
    "    .hvplot(x=\"wavelength\", by=\"num_periods\", groupby=[\"period\"])\n",
    "    * lorentz_vlines([-1, 0, 1], scale=1e-9)\n",
    ").opts(\n",
    "    # opts.Curve(ylim=(0,1)),\n",
    "    opts.VLine(line_color=green, line_dash=\"dotted\", line_alpha=0.5),\n",
    "    opts.Overlay(title=coordinate_string(**sel), legend_position=\"top_right\"),\n",
    ")"
   ]
  },
  {
   "cell_type": "code",
   "execution_count": null,
   "id": "b7b6c3e0-570a-42f1-89b5-f90298f0e3fd",
   "metadata": {},
   "outputs": [],
   "source": [
    "sel = {\n",
    "    \"excitonic_layer_thickness\": 40,\n",
    "    \"theta\": 0.0,\n",
    "    'period': 250,\n",
    "}\n",
    "sel_wl = {\"wavelength\": slice(674, 681)}\n",
    "(\n",
    "    restacked_ds.R.sel(**sel)\n",
    "    .sel(**sel_wl)\n",
    "    .squeeze()\n",
    "    .hvplot(x=\"num_periods\", by=\"wavelength\", groupby=[\"period\"])\n",
    "    * lorentz_vlines([-1, 0, 1], scale=1e-9)\n",
    ").opts(\n",
    "    # opts.Curve(ylim=(0,1)),\n",
    "    opts.VLine(line_color=green, line_dash=\"dotted\", line_alpha=0.5),\n",
    "    opts.Overlay(title=coordinate_string(**sel), legend_position=\"right\"),\n",
    ")"
   ]
  },
  {
   "cell_type": "code",
   "execution_count": null,
   "id": "0c4fe3b2-43a9-495c-adac-c5db8797ae4d",
   "metadata": {},
   "outputs": [],
   "source": [
    "da = restacked_ds.A.sel(**sel)\n",
    "\n",
    "curves = {0: select_lorentz_line(da, 0, 0).squeeze().hvplot(x='num_periods', label=f'Resonance wavelength')}\n",
    "\n",
    "for x in range (1, 6):\n",
    "    da_sel = select_lorentz_line(da, 0, x)\n",
    "    normalisation = spectrum(np.ones_like, da_sel.wavelength, normalisation=1)\n",
    "    curves.update({x: (da_sel*normalisation).integrate('wavelength').rename('R').squeeze().hvplot(x='num_periods', label=f'Window of {x} Γ')})"
   ]
  },
  {
   "cell_type": "code",
   "execution_count": null,
   "id": "4be56a39-0700-4528-a7ad-400041201ed2",
   "metadata": {},
   "outputs": [],
   "source": [
    "hv.NdOverlay(curves, kdims=[\"Window size (Γ)\"]).opts(\n",
    "    title=\"Average absorptance over a window around the resonance wavelength\\n\"\n",
    "    + coordinate_string(**sel),\n",
    "    legend_position=\"right\",\n",
    ")"
   ]
  },
  {
   "cell_type": "markdown",
   "id": "a9e573e1-ec97-43fe-a43d-545c16ea3288",
   "metadata": {},
   "source": [
    "Probably need to do some E field plots to make sense of this... That could be a bit of work."
   ]
  },
  {
   "cell_type": "code",
   "execution_count": null,
   "id": "71cd6187-c579-4589-b048-9baf4a95f4fa",
   "metadata": {},
   "outputs": [],
   "source": [
    "pn.interact(\n",
    "    wrap_plot_field,\n",
    "    wavelength=(480, 880),\n",
    "    excitonic_layer_thickness=(10, 200, 10),\n",
    "    passive_layer_thickness=(0, 300, 10),\n",
    "    num_periods=(1, 50),\n",
    ")"
   ]
  },
  {
   "cell_type": "markdown",
   "id": "0ca02cea-ce49-4c22-97da-d397a871d831",
   "metadata": {
    "jp-MarkdownHeadingCollapsed": true,
    "tags": []
   },
   "source": [
    "### Grid plot"
   ]
  },
  {
   "cell_type": "markdown",
   "id": "2665b75a-a751-4fe1-acbe-871eec684908",
   "metadata": {},
   "source": [
    "This grid plot demonstrates the shift and growth in PBG with period and N."
   ]
  },
  {
   "cell_type": "code",
   "execution_count": null,
   "id": "8440f380-65a6-4f46-85cb-ccda742c0aa8",
   "metadata": {},
   "outputs": [],
   "source": [
    "coords = {\"excitonic_layer_thickness\": 30, \"theta\": 0}"
   ]
  },
  {
   "cell_type": "code",
   "execution_count": null,
   "id": "04cd1d8a-6e10-460b-9ac2-81d9fd381f0f",
   "metadata": {},
   "outputs": [],
   "source": [
    "curves = {(P,N): restacked_ds[unpolarised_RTA].sel(num_periods=N, period=P, **coords).squeeze().hvplot.line(x=\"wavelength\")*lorentz_vlines(0, scale=1e-9).opts(line_dash='dotted') for N in [50, 20, 10] for P in [200, 250, 300]}"
   ]
  },
  {
   "cell_type": "code",
   "execution_count": null,
   "id": "ddeef66f-0ee5-47a6-a5e2-ce72141ff3ef",
   "metadata": {},
   "outputs": [],
   "source": [
    "grid = hv.GridSpace(curves, kdims=[period_dim, \"Number of periods\"])"
   ]
  },
  {
   "cell_type": "code",
   "execution_count": null,
   "id": "8261c0d3-2518-4547-af86-e84004f4d115",
   "metadata": {},
   "outputs": [],
   "source": [
    "grid"
   ]
  },
  {
   "cell_type": "code",
   "execution_count": null,
   "id": "6c3fb724-5049-43fd-b290-9494260bbab7",
   "metadata": {},
   "outputs": [],
   "source": [
    "# hacky workaround to bugs in hvplot/holoviews\n",
    "for p in grid:\n",
    "    p.opts(\n",
    "        opts.Curve(\n",
    "            color=hv.Cycle([blue, yellow, red]),  # set R/T/A->blue/yellow/red\n",
    "            frame_width=200,\n",
    "        ),\n",
    "        opts.Overlay(show_legend=False,show_grid=True,),\n",
    "    )  # remove the excess legends\n",
    "\n",
    "grid[200, 50].opts(\n",
    "    opts.Overlay(show_legend=True, legend_position=\"left\")\n",
    ")  # add the legend back in on a free side\n",
    "\n",
    "grid.opts(opts.GridSpace(show_legend=False, shared_xaxis=True, shared_yaxis=True))"
   ]
  },
  {
   "cell_type": "markdown",
   "id": "003fa541-7456-482a-9084-8c060dad8f89",
   "metadata": {},
   "source": [
    "This is the code I would have liked to have used to save this image.\n",
    "\n",
    "Unfortunately the `toolbar=False` argument doesn't work so I have to actually *use* the toolbar above to save it!\n",
    "\n",
    "... Except this ALSO doesn't work, because the save button saves 9 individual images?! So I guess I have to use the below code and manually crop or something stupid."
   ]
  },
  {
   "cell_type": "code",
   "execution_count": null,
   "id": "3c7ab210-2ae6-488e-b61a-dcf5a4a06930",
   "metadata": {},
   "outputs": [],
   "source": [
    "hv.save(grid, f\"data/run_{run_number}/figures/N_Lambda_grid\", fmt=\"png\", toolbar=False)"
   ]
  },
  {
   "cell_type": "markdown",
   "id": "9e908a8a-7b08-4d0f-beb5-101534d05b6f",
   "metadata": {
    "jp-MarkdownHeadingCollapsed": true,
    "tags": []
   },
   "source": [
    "## 2D plots of RTA"
   ]
  },
  {
   "cell_type": "code",
   "execution_count": null,
   "id": "0598ec77-3d7b-4e9b-91be-ffe91c4e4ecb",
   "metadata": {},
   "outputs": [],
   "source": [
    "# example params\n",
    "default_LOPC_params = {\n",
    "    \"period\": 300,\n",
    "    \"num_periods\": 10,\n",
    "    \"excitonic_layer_thickness\": 30,\n",
    "}\n",
    "\n",
    "default_LOPC_params_ds = {\n",
    "    \"passive_layer_thickness\": default_LOPC_params[\"period\"] - default_LOPC_params[\"excitonic_layer_thickness\"],\n",
    "    \"num_periods\": default_LOPC_params[\"num_periods\"],\n",
    "    \"excitonic_layer_thickness\": default_LOPC_params[\"excitonic_layer_thickness\"],\n",
    "}\n",
    "\n",
    "default_crs_1_params = {\n",
    "    \"total_excitonic_thickness\": default_LOPC_params[\"excitonic_layer_thickness\"]*default_LOPC_params[\"num_periods\"],\n",
    "}"
   ]
  },
  {
   "cell_type": "markdown",
   "id": "39d6a01c-8cbf-4cea-98e3-50636b1c9cb9",
   "metadata": {
    "jp-MarkdownHeadingCollapsed": true,
    "tags": []
   },
   "source": [
    "### Angle-dependency of PBG"
   ]
  },
  {
   "cell_type": "code",
   "execution_count": null,
   "id": "880b986f-eb16-4244-b346-839970f840a3",
   "metadata": {},
   "outputs": [],
   "source": [
    "# # This is super slow and I'm not sure why - chunks over theta I guess?\n",
    "# (\n",
    "#     ds.R.sel(\n",
    "#         excitonic_layer_thickness=20,\n",
    "#         passive_layer_thickness=[200, 300],\n",
    "#         num_periods=20,\n",
    "#         theta=slice(0, 60),\n",
    "#     )\n",
    "#     .squeeze(drop=True)\n",
    "#     .hvplot(x=\"wavelength\", y=\"theta\", by=\"passive_layer_thickness\", subplots=True)\n",
    "# ).opts(opts.Image(cmap=\"viridis\")).cols(1)"
   ]
  },
  {
   "cell_type": "code",
   "execution_count": null,
   "id": "536d9d5b-7d95-4b01-926e-7c883984db3d",
   "metadata": {},
   "outputs": [],
   "source": [
    "ds.R.drop_sel(num_periods=0).sel(\n",
    "    excitonic_layer_thickness=20,\n",
    "    passive_layer_thickness=slice(0, 501, 4),\n",
    "    num_periods=20,\n",
    "    theta=slice(0, 60),\n",
    ").squeeze(drop=True).plot(\n",
    "    x=\"wavelength\",\n",
    "    y=\"theta\",\n",
    "    col=\"passive_layer_thickness\",\n",
    ")"
   ]
  },
  {
   "cell_type": "markdown",
   "id": "d59278bc-1ebe-4b86-84c5-613bbbcf01f8",
   "metadata": {
    "jp-MarkdownHeadingCollapsed": true,
    "tags": []
   },
   "source": [
    "### Plots using 'angle_ds' flow"
   ]
  },
  {
   "cell_type": "code",
   "execution_count": null,
   "id": "6f1c9e2c-e4ec-4a5a-a341-6f81f4798d40",
   "metadata": {},
   "outputs": [],
   "source": [
    "coords = {\"excitonic_layer_thickness\": 30,\n",
    "          \"passive_layer_thickness\": 280,\n",
    "          \"num_periods\": 50,\n",
    "}\n",
    "\n",
    "angle_plots = [angle_ds[var].sel(**coords).squeeze().hvplot(x=\"wavelength\", y=\"theta\") for var in [\"Rs\", \"Rp\", \"R\"]]\n",
    "\n",
    "layout = hv.Layout(angle_plots).opts(opts.Image(title=coordinate_string(**coords), cmap=\"viridis\", clim=(0, 1)))\n",
    "\n",
    "(layout*lorentz_vlines(0, scale=1e-9).opts(line_dash='dotted', color=\"white\")).cols(1)"
   ]
  },
  {
   "cell_type": "code",
   "execution_count": null,
   "id": "4e84a3d9-ab1c-46ea-8f7c-3c9ba835eb0a",
   "metadata": {},
   "outputs": [],
   "source": [
    "angle_plots = [angle_ds[var].sel(**coords).squeeze().hvplot(x=\"wavelength\", y=\"theta\") for var in [\"Ts\", \"Tp\", \"T\"]]\n",
    "\n",
    "layout = hv.Layout(angle_plots).opts(opts.Image(title=coordinate_string(**coords), cmap=\"cividis\", clim=(0, 1)))\n",
    "\n",
    "(layout*lorentz_vlines(0, scale=1e-9).opts(line_dash='dotted', color=\"white\")).cols(1)"
   ]
  },
  {
   "cell_type": "code",
   "execution_count": null,
   "id": "fac10f1c-c514-4afb-8047-c28e7df50554",
   "metadata": {},
   "outputs": [],
   "source": [
    "angle_plots = [angle_ds[var].sel(**coords).squeeze().hvplot(x=\"wavelength\", y=\"theta\") for var in [\"As\", \"Ap\", \"A\"]]\n",
    "\n",
    "layout = hv.Layout(angle_plots).opts(opts.Image(title=coordinate_string(**coords), cmap=\"inferno\", clim=(0, 1)))\n",
    "\n",
    "(layout*lorentz_vlines(0, scale=1e-9).opts(line_dash='dotted', color=\"black\")).cols(1)"
   ]
  },
  {
   "cell_type": "code",
   "execution_count": null,
   "id": "daa3c627-5615-4b74-b9c6-b1dcafa588d9",
   "metadata": {},
   "outputs": [],
   "source": [
    "%%capture --no-stdout --no-display\n",
    "# ignore divide by zero warnings\n",
    "\n",
    "angle_plots = [angle_norm_1[var].sel(**coords).squeeze().hvplot(x=\"wavelength\", y=\"theta\") for var in [\"As\", \"Ap\", \"A\"]]\n",
    "\n",
    "layout = hv.Layout(angle_plots).opts(opts.Image(title=coordinate_string(**coords), cmap=\"RdBu_r\", clim=(0.5, 1.5)))\n",
    "\n",
    "(layout*lorentz_vlines(0, scale=1e-9).opts(line_dash='dotted', color=\"white\")).cols(1)"
   ]
  },
  {
   "cell_type": "markdown",
   "id": "e615a34c-386b-4033-b600-5964f1e5f827",
   "metadata": {
    "jp-MarkdownHeadingCollapsed": true,
    "tags": []
   },
   "source": [
    "### Plots using differently chunked ds"
   ]
  },
  {
   "cell_type": "code",
   "execution_count": null,
   "id": "0ecd464a-1b23-4fcb-83ff-99ed045e50bc",
   "metadata": {},
   "outputs": [],
   "source": [
    "angle_plots = [restacked_ds[var].sel(**default_LOPC_params).squeeze().hvplot(x=\"wavelength\", y=\"theta\") for var in [\"Rs\", \"Rp\", \"R\"]]\n",
    "\n",
    "layout = hv.Layout(angle_plots).opts(opts.Image(title=coordinate_string(**default_LOPC_params), cmap=\"viridis\", clim=(0, 1)))\n",
    "\n",
    "(layout*lorentz_vlines(0, scale=1e-9).opts(line_dash='dotted', color=\"white\")).cols(1)"
   ]
  },
  {
   "cell_type": "code",
   "execution_count": null,
   "id": "c7122d32-ef4d-4a59-a328-43b8ff3715a8",
   "metadata": {},
   "outputs": [],
   "source": [
    "angle_plots = [restacked_ds[var].sel(**default_LOPC_params).squeeze().hvplot(x=\"wavelength\", y=\"theta\") for var in [\"Ts\", \"Tp\", \"T\"]]\n",
    "\n",
    "layout = hv.Layout(angle_plots).opts(opts.Image(title=coordinate_string(**default_LOPC_params), cmap=\"cividis\", clim=(0, 1)))\n",
    "\n",
    "(layout*lorentz_vlines(0, scale=1e-9).opts(line_dash='dotted', color=\"white\")).cols(1)"
   ]
  },
  {
   "cell_type": "code",
   "execution_count": null,
   "id": "e82d4b01-e04f-45f7-a488-1c47a9135ebd",
   "metadata": {},
   "outputs": [],
   "source": [
    "angle_plots = [restacked_ds[var].sel(**default_LOPC_params).squeeze().hvplot(x=\"wavelength\", y=\"theta\") for var in [\"As\", \"Ap\", \"A\"]]\n",
    "\n",
    "layout = hv.Layout(angle_plots).opts(opts.Image(title=coordinate_string(**default_LOPC_params), cmap=\"inferno\", clim=(0, 1)))\n",
    "\n",
    "(layout*lorentz_vlines(0, scale=1e-9).opts(line_dash='dotted', color=\"black\")).cols(1)"
   ]
  },
  {
   "cell_type": "code",
   "execution_count": null,
   "id": "1504d418-372c-4f42-aea6-db5e131fe9bc",
   "metadata": {},
   "outputs": [],
   "source": [
    "%%capture --no-stdout --no-display\n",
    "# ignore divide by zero warnings\n",
    "\n",
    "angle_plots = [restacked_norm_1[var].sel(**default_LOPC_params).squeeze().hvplot(x=\"wavelength\", y=\"theta\") for var in [\"As\", \"Ap\", \"A\"]]\n",
    "\n",
    "layout = hv.Layout(angle_plots).opts(opts.Image(title=coordinate_string(**default_LOPC_params), cmap=\"RdBu_r\", clim=(0.5, 1.5)))\n",
    "\n",
    "(layout*lorentz_vlines(0, scale=1e-9).opts(line_dash='dotted', color=\"white\")).cols(1)"
   ]
  },
  {
   "cell_type": "code",
   "execution_count": null,
   "id": "2b1cb657-25fe-499e-a07e-47b106cb3362",
   "metadata": {},
   "outputs": [],
   "source": [
    "angle_plots = [crs_1[var].sel(**default_crs_1_params).squeeze().hvplot(x=\"wavelength\", y=\"theta\") for var in [\"Rs\", \"Rp\", \"R\"]]\n",
    "\n",
    "layout = hv.Layout(angle_plots).opts(opts.Image(title=coordinate_string(**default_crs_1_params), cmap=\"viridis\", clim=(0, 1)))\n",
    "\n",
    "(layout*lorentz_vlines(0, scale=1e-9).opts(line_dash='dotted', color=\"white\")).cols(1)"
   ]
  },
  {
   "cell_type": "code",
   "execution_count": null,
   "id": "6669f64d-ae40-4198-a5ef-b16071d1f393",
   "metadata": {},
   "outputs": [],
   "source": [
    "angle_plots = [crs_1[var].sel(**default_crs_1_params).squeeze().hvplot(x=\"wavelength\", y=\"theta\") for var in [\"As\", \"Ap\", \"A\"]]\n",
    "\n",
    "layout = hv.Layout(angle_plots).opts(opts.Image(title=coordinate_string(**default_crs_1_params), cmap=\"inferno\", clim=(0, 1)))\n",
    "\n",
    "(layout*lorentz_vlines(0, scale=1e-9).opts(line_dash='dotted', color=\"black\")).cols(1)"
   ]
  },
  {
   "cell_type": "markdown",
   "id": "2c854e75-d035-4756-9374-9867fc46c8d9",
   "metadata": {
    "tags": []
   },
   "source": [
    "### Period-dependency of PBG"
   ]
  },
  {
   "cell_type": "code",
   "execution_count": null,
   "id": "daf6b258-975f-4be3-8517-0a9425dfdd01",
   "metadata": {
    "tags": []
   },
   "outputs": [],
   "source": [
    "xs = {\n",
    "    \"excitonic_layer_thickness\": pnw.DiscreteSlider,\n",
    "    \"theta\": pnw.DiscreteSlider,\n",
    "    \"num_periods\": pnw.DiscreteSlider,\n",
    "}\n",
    "\n",
    "temp_sel = restacked_ds[unpolarised_RTA].squeeze(drop=True).interactive(loc=\"left\").sel(**xs)\n",
    "\n",
    "(\n",
    "    (\n",
    "        temp_sel.sel(period=200).hvplot(x=\"wavelength\")\n",
    "        + temp_sel.sel(period=250).hvplot(x=\"wavelength\")\n",
    "        + temp_sel.sel(period=300).hvplot(x=\"wavelength\")\n",
    "    )\n",
    "    * lorentz_vlines([-4, -2, -1, 0, 1, 2, 4], scale=1e-9).opts(opts.VLine(line_dash=\"dotted\"))\n",
    ").cols(1)"
   ]
  },
  {
   "cell_type": "code",
   "execution_count": null,
   "id": "a64d98a7-ea9e-4340-b326-1d0a189d6805",
   "metadata": {},
   "outputs": [],
   "source": [
    "# I don't know why temp_sel.R fails unless you try dictionary access first, but it does!\n",
    "try:\n",
    "    temp_sel['R']\n",
    "except:\n",
    "    pass"
   ]
  },
  {
   "cell_type": "code",
   "execution_count": null,
   "id": "792b2d56-c08e-4820-a15d-ff7c4bb82255",
   "metadata": {
    "tags": []
   },
   "outputs": [],
   "source": [
    "# xs = {\n",
    "#     \"excitonic_layer_thickness\": pnw.DiscreteSlider,\n",
    "#     \"theta\": pnw.DiscreteSlider,\n",
    "#     \"num_periods\": pnw.DiscreteSlider,\n",
    "# }\n",
    "\n",
    "# temp_sel = restacked_ds[unpolarised_RTA].squeeze(drop=True).interactive.sel(**xs)\n",
    "\n",
    "(\n",
    "    (\n",
    "        temp_sel.R.dropna(\"period\").hvplot(x=\"wavelength\", y=\"period\").opts(cmap='viridis')\n",
    "        + temp_sel.T.dropna(\"period\").hvplot(x=\"wavelength\", y=\"period\").opts(cmap='cividis')\n",
    "        + temp_sel.A.dropna(\"period\").hvplot(x=\"wavelength\", y=\"period\").opts(cmap='inferno')\n",
    "    )\n",
    "    * lorentz_vlines([-4, -2, -1, 0, 1, 2, 4], scale=1e-9).opts(opts.VLine(line_dash=\"dotted\"))\n",
    ").cols(1)"
   ]
  },
  {
   "cell_type": "markdown",
   "id": "4302133f-b278-4c05-8a1a-fb2d021ab5f6",
   "metadata": {
    "tags": []
   },
   "source": [
    "### Period plots for thesis"
   ]
  },
  {
   "cell_type": "code",
   "execution_count": null,
   "id": "a940812f-28e7-4bd4-9909-ef70783bde2e",
   "metadata": {},
   "outputs": [],
   "source": [
    "temp_params = {\n",
    "    \"theta\": 0,\n",
    "    \"num_periods\": 10,\n",
    "    \"excitonic_layer_thickness\": 30,\n",
    "}"
   ]
  },
  {
   "cell_type": "code",
   "execution_count": null,
   "id": "cbf46a2d-986a-4c38-80d9-50a8107f085e",
   "metadata": {},
   "outputs": [],
   "source": [
    "period_plots = [\n",
    "    restacked_ds[var]\n",
    "    .sel(**temp_params)\n",
    "    .squeeze()\n",
    "    .dropna(\"period\")\n",
    "    .hvplot(x=\"wavelength\", y=\"period\")\n",
    "    for var in [\"R\"]\n",
    "]\n",
    "\n",
    "layout = hv.Layout(period_plots).opts(\n",
    "    opts.Image(title=coordinate_string(**temp_params), cmap=\"viridis\", clim=(0, 0.31))\n",
    ")\n",
    "\n",
    "(layout * lorentz_vlines(0, scale=1e-9)).opts(\n",
    "    opts.Image(xlabel=layout[0].kdims[0].label, ylabel=layout[0].kdims[1].label),\n",
    "    opts.VLine(line_dash=\"dotted\", color=\"white\"),\n",
    ").cols(1)"
   ]
  },
  {
   "cell_type": "code",
   "execution_count": null,
   "id": "4835c350-0483-4809-885a-fc5d72c39d41",
   "metadata": {},
   "outputs": [],
   "source": [
    "period_plots = [\n",
    "    restacked_norm_1[var]\n",
    "    .sel(**temp_params)\n",
    "    .squeeze()\n",
    "    .dropna(\"period\")\n",
    "    .hvplot(x=\"wavelength\", y=\"period\")\n",
    "    for var in [\"A\"]\n",
    "]\n",
    "\n",
    "layout = hv.Layout(period_plots).opts(\n",
    "    opts.Image(title=coordinate_string(**temp_params), cmap=\"RdBu_r\", clim=(0.6, 1.4))\n",
    ")\n",
    "\n",
    "(layout * lorentz_vlines(0, scale=1e-9)).opts(\n",
    "    opts.Image(xlabel=layout[0].kdims[0].label, ylabel=layout[0].kdims[1].label),\n",
    "    opts.VLine(line_dash=\"dotted\", color=\"white\"),\n",
    ").cols(1)"
   ]
  },
  {
   "cell_type": "code",
   "execution_count": null,
   "id": "1399c979-663a-467f-8b46-437d049ae199",
   "metadata": {},
   "outputs": [],
   "source": [
    "line_plots = [\n",
    "    restacked_norm_1[var]\n",
    "    .sel(**temp_params|{\"period\": 170})\n",
    "    .squeeze()\n",
    "    .hvplot(x=\"wavelength\")\n",
    "    for var in [\"A\"]\n",
    "]\n",
    "\n",
    "layout = hv.Layout(line_plots).opts(\n",
    "    opts.Curve(title=coordinate_string(**temp_params|{\"period\": 170}), ylim=(0.9, 1.4))\n",
    ")\n",
    "\n",
    "(layout * lorentz_vlines(0, scale=1e-9) * hv.HLine(1)).opts(\n",
    "    opts.Curve(xlabel=layout[0].kdims[0].label),\n",
    "    opts.VLine(line_dash=\"dotted\", color=yellow),\n",
    "    opts.HLine(line_dash=\"dotted\", color=blue),\n",
    ").cols(1)"
   ]
  },
  {
   "cell_type": "markdown",
   "id": "776466c6-9920-41df-814d-39b1053ca6fb",
   "metadata": {
    "jp-MarkdownHeadingCollapsed": true,
    "tags": []
   },
   "source": [
    "### Number of periods plots for thesis"
   ]
  },
  {
   "cell_type": "code",
   "execution_count": null,
   "id": "2950ac1a-3779-4baf-9285-44b26168ead7",
   "metadata": {},
   "outputs": [],
   "source": [
    "temp_params = {\n",
    "    \"theta\": 0,\n",
    "    \"period\": 200,\n",
    "    \"excitonic_layer_thickness\": 30,\n",
    "}"
   ]
  },
  {
   "cell_type": "code",
   "execution_count": null,
   "id": "9ebd70ca-0939-4afd-9850-a80671858c13",
   "metadata": {},
   "outputs": [],
   "source": [
    "N_plots = [\n",
    "    restacked_ds[var]\n",
    "    .sel(**temp_params)\n",
    "    .squeeze()\n",
    "    .hvplot.quadmesh(x=\"wavelength\", y=\"num_periods\")\n",
    "    for var in [\"R\"]\n",
    "]\n",
    "\n",
    "layout = hv.Layout(N_plots).opts(\n",
    "    opts.QuadMesh(title=coordinate_string(**temp_params), cmap=\"viridis\", clim=(0, 1))\n",
    ")\n",
    "\n",
    "(layout * lorentz_vlines(0, scale=1e-9)).opts(\n",
    "    opts.QuadMesh(xlabel=layout[0].kdims[0].label, ylabel=layout[0].kdims[1].label),\n",
    "    opts.VLine(line_dash=\"dotted\", color=\"white\"),\n",
    ").cols(1)"
   ]
  },
  {
   "cell_type": "code",
   "execution_count": null,
   "id": "e7d6deab-f971-424b-9b75-4ce76557030e",
   "metadata": {},
   "outputs": [],
   "source": [
    "N_plots = [\n",
    "    restacked_norm_1[var]\n",
    "    .sel(**temp_params)\n",
    "    .squeeze()\n",
    "    .hvplot.quadmesh(x=\"wavelength\", y=\"num_periods\")\n",
    "    for var in [\"A\"]\n",
    "]\n",
    "\n",
    "layout = hv.Layout(N_plots).opts(\n",
    "    opts.QuadMesh(title=coordinate_string(**temp_params), cmap=\"RdBu_r\", clim=(0.5, 1.5))\n",
    ")\n",
    "\n",
    "(layout * lorentz_vlines(0, scale=1e-9)).opts(\n",
    "    opts.QuadMesh(xlabel=layout[0].kdims[0].label, ylabel=layout[0].kdims[1].label),\n",
    "    opts.VLine(line_dash=\"dotted\", color=\"white\"),\n",
    ").cols(1)"
   ]
  },
  {
   "cell_type": "code",
   "execution_count": null,
   "id": "b30c0a3c-97c2-4eb4-875c-824beccf6393",
   "metadata": {},
   "outputs": [],
   "source": []
  },
  {
   "cell_type": "markdown",
   "id": "c53315eb-ad30-4ae4-8c28-f8e643b737a5",
   "metadata": {
    "jp-MarkdownHeadingCollapsed": true,
    "tags": []
   },
   "source": [
    "## Optimal structures for various parameters"
   ]
  },
  {
   "cell_type": "markdown",
   "id": "d3d4e425-f2f8-41ec-b9c1-bbd4c8add295",
   "metadata": {
    "jp-MarkdownHeadingCollapsed": true,
    "tags": []
   },
   "source": [
    "### Investigation and notes"
   ]
  },
  {
   "cell_type": "code",
   "execution_count": null,
   "id": "5bb20773-7199-4b06-8f5c-2ab813cf49a2",
   "metadata": {
    "tags": []
   },
   "outputs": [],
   "source": [
    "periods = restacked_ds.period.values[1:-1]\n",
    "# don't set the maximum period to be lower than the maximum excitonic layer thickness, or it will break the plot!\n",
    "safe_periods = restacked_ds.period.sel(\n",
    "    period=slice(restacked_ds.excitonic_layer_thickness.values[-1], None)\n",
    ").values\n",
    "\n",
    "kdims = [\n",
    "    hv.Dimension(\"variable\", values=restacked_ds.data_vars),\n",
    "    hv.Dimension(\"dataset\", values=[\"restacked_ds\", \"restacked_diff_1\"]),\n",
    "    hv.Dimension(\"optimise\", values=[\"max\", \"min\"]),\n",
    "    hv.Dimension(\"lorentz_line\", range=(-15, 8), default=0),\n",
    "    hv.Dimension(\"window_radius\", range=(0, 8), default=0),\n",
    "    hv.Dimension(\"theta\", range=(0, 86), default=0),\n",
    "    hv.Dimension(\"cmap\", values=[\"viridis\", \"cividis\", \"inferno\", \"PRGn\", \"PuOr_r\", \"RdBu_r\"]),\n",
    "    hv.Dimension(\"period_start\", values=periods, default=periods[0]),\n",
    "    hv.Dimension(\"period_stop\", values=safe_periods, default=periods[-1]),\n",
    "    hv.Dimension(\"integrate_angle\", range=(0, 86), default=0),\n",
    "]\n",
    "\n",
    "angle_dmap = hv.DynamicMap(\n",
    "    partial(\n",
    "        wrapped_2D_plot,\n",
    "        extra_plots=[\"RTA_normal\", \"RTA_int\", \"norm_1_normal\", \"norm_1_int\"],\n",
    "    ),\n",
    "    kdims=kdims,\n",
    ").opts(\n",
    "    opts.Overlay(legend_position=\"right\", legend_opts={\"background_fill_alpha\": 0.5})\n",
    ")\n",
    "# if I'm just looking at normal incidence the extra plots are redundant\n",
    "dmap = hv.DynamicMap(\n",
    "    partial(wrapped_2D_plot, extra_plots=[\"RTA_int\", \"norm_1_int\"], integrate_angle=0),\n",
    "    kdims=kdims[:9],\n",
    ").opts(\n",
    "    opts.Overlay(legend_position=\"right\", legend_opts={\"background_fill_alpha\": 0.5})\n",
    ")"
   ]
  },
  {
   "cell_type": "code",
   "execution_count": null,
   "id": "6a87b415-e9e6-4f3b-9d3c-6300a0ee5859",
   "metadata": {},
   "outputs": [],
   "source": [
    "%%capture --no-stdout --no-display\n",
    "# ignore divide by zero warnings\n",
    "\n",
    "# there is some sort of horrible bug that makes the title and axis on the second plot sometime disappear, along with one of the vlines\n",
    "angle_dmap"
   ]
  },
  {
   "cell_type": "code",
   "execution_count": null,
   "id": "6540ea1f-3bc5-4add-9237-1fe80c6f09de",
   "metadata": {},
   "outputs": [],
   "source": [
    "# Use this to record interesting key sets\n",
    "angle_dmap.current_key"
   ]
  },
  {
   "cell_type": "markdown",
   "id": "43f1a611-390a-445e-a7c7-f6f8e3f60966",
   "metadata": {
    "jp-MarkdownHeadingCollapsed": true,
    "tags": []
   },
   "source": [
    "### Optimal structures for reflectance"
   ]
  },
  {
   "cell_type": "markdown",
   "id": "2f936bfa-3927-4209-9c9f-643c0c7c33dc",
   "metadata": {
    "jp-MarkdownHeadingCollapsed": true,
    "tags": []
   },
   "source": [
    "#### Maximising at a specific wavelength"
   ]
  },
  {
   "cell_type": "markdown",
   "id": "ebd78312-18a7-407e-bef3-18d3e725681c",
   "metadata": {},
   "source": [
    "Carniglia and Apfel (1979) showed that the theoretical limit of the reflectance of a multilayer comprising one absorbing and one non-absorbing layer is unity. However, this requires variable layer thicknesses, unlike in our case where the periodicity is strict. As a result, our situation is more like Koppelmann's (1960), with a saturating reflectance depending on the absorption properties at a particular wavelength, although Koppelmann showed this for quarter-wave stacks only and we do not attempt to extend the analytical proof to other periodic multilayers. The gist of the argument is that without careful selection of layer thicknesses to optimise the reflectance with each additional layer pair, a certain amount of light intensity is unavoidably lost to absorption.\n",
    "\n",
    "Generally, the reflectance near the oscillator resonance peaks at <50 layers (the maximum simulated), while the reflectance far from the resonance peaks at >=50 layers.\n",
    "\n",
    "High reflectance at a wavelength comes at a cost to transmittance and absorptance locally, but is usually associated with an increase in absorptance at longer wavelengths."
   ]
  },
  {
   "cell_type": "code",
   "execution_count": null,
   "id": "3d067dd8-f03f-4793-a5b9-2e95cd7848b8",
   "metadata": {
    "tags": []
   },
   "outputs": [],
   "source": [
    "dmap[(('R', 'restacked_ds', 'max', 0, 0, 0, 'viridis', 10, 450))]"
   ]
  },
  {
   "cell_type": "code",
   "execution_count": null,
   "id": "16042906-414d-4814-9da9-70adbf85dd84",
   "metadata": {},
   "outputs": [],
   "source": [
    "dmap[('R', 'restacked_ds', 'max', -2, 0, 0, 'viridis', 10, 450)]"
   ]
  },
  {
   "cell_type": "code",
   "execution_count": null,
   "id": "ac5418fd-4068-40ae-aa82-c59a49370e7a",
   "metadata": {},
   "outputs": [],
   "source": [
    "dmap[('R', 'restacked_ds', 'max', 2, 0, 0, 'viridis', 10, 450)]"
   ]
  },
  {
   "cell_type": "code",
   "execution_count": null,
   "id": "2f613b33-138e-4233-93a6-935b5b027efc",
   "metadata": {},
   "outputs": [],
   "source": [
    "dmap[('R', 'restacked_ds', 'max', -5, 0, 0, 'viridis', 10, 450)]"
   ]
  },
  {
   "cell_type": "code",
   "execution_count": null,
   "id": "6ff812a4-a075-4f57-b7ae-2ac09fdff0e9",
   "metadata": {},
   "outputs": [],
   "source": [
    "dmap[('R', 'restacked_ds', 'max', 5, 0, 0, 'viridis', 10, 450)]"
   ]
  },
  {
   "cell_type": "code",
   "execution_count": null,
   "id": "163991c6-88a6-43f3-8b55-d15c63b9f6f8",
   "metadata": {},
   "outputs": [],
   "source": [
    "# this calculation is just for the purposes of looking at how reflectance can decrease with period, see above sections\n",
    "dmap[('R', 'restacked_ds', 'max', -7, 0, 0, 'viridis', 10, 450)]"
   ]
  },
  {
   "cell_type": "markdown",
   "id": "8d233a30-f214-42c5-a37b-15079491a0f0",
   "metadata": {
    "jp-MarkdownHeadingCollapsed": true,
    "tags": []
   },
   "source": [
    "#### Maximising over a window of 4 linewidths"
   ]
  },
  {
   "cell_type": "markdown",
   "id": "7dfbdf7c-ac1f-4ac2-a299-328b438a96f8",
   "metadata": {},
   "source": [
    "When optimising for reflectance over a window of wavelengths (in this case a radius of 2 oscillator linewidths), the optimal number of periods is lower than when optimising for only the central wavelength of that window. This is because with more periods the PBG tends to increase in height but decrease in width. Unlike with purely non-absorbing layers, where the width of the PBG starts to increase again when the reflectance is saturated at 100%, the competing increase in absorption with additional layers means the reflectance peaks at a finite number of periods.\n",
    "\n",
    "It is particularly difficult to attain a high reflectance in the low-RI contrast region immediately on the blue side of the LO resonance, and the peak values attainable on the lower-contrast blue side of the resonance are generally lower than those attainable on the higher-contrast red side.\n",
    "\n",
    "It's worth noting that, as is always the case when referring to optical parameters over a range of wavelengths or angles, that this is an integration of the *intrinsic* optical properties, and the *extrinsic* value will depend on the spectral and angular distribution of illumination."
   ]
  },
  {
   "cell_type": "code",
   "execution_count": null,
   "id": "9e75b3ad-5be0-48b0-ac48-9ec14128a0b3",
   "metadata": {
    "tags": []
   },
   "outputs": [],
   "source": [
    "dmap[(('R', 'restacked_ds', 'max', 0, 2, 0, 'viridis', 10, 450))]"
   ]
  },
  {
   "cell_type": "code",
   "execution_count": null,
   "id": "38b2c046-491c-493c-aeb2-8a4a5b386403",
   "metadata": {},
   "outputs": [],
   "source": [
    "dmap[('R', 'restacked_ds', 'max', -2, 2, 0, 'viridis', 10, 450)]"
   ]
  },
  {
   "cell_type": "code",
   "execution_count": null,
   "id": "6690bd7d-011b-4ac3-a5f6-8423be38f7a0",
   "metadata": {},
   "outputs": [],
   "source": [
    "dmap[('R', 'restacked_ds', 'max', 2, 2, 0, 'viridis', 10, 450)]"
   ]
  },
  {
   "cell_type": "code",
   "execution_count": null,
   "id": "e1b923f0-ac5e-4fda-9483-fdc2bdb81b62",
   "metadata": {},
   "outputs": [],
   "source": [
    "dmap[('R', 'restacked_ds', 'max', -5, 2, 0, 'viridis', 10, 450)]"
   ]
  },
  {
   "cell_type": "code",
   "execution_count": null,
   "id": "73979cc9-8a2b-4864-8eed-d8de7d5fd3b9",
   "metadata": {},
   "outputs": [],
   "source": [
    "dmap[('R', 'restacked_ds', 'max', 5, 2, 0, 'viridis', 10, 450)]"
   ]
  },
  {
   "cell_type": "code",
   "execution_count": null,
   "id": "f9e3f3bb-6205-4b71-97a1-30f7eb19f8e7",
   "metadata": {},
   "outputs": [],
   "source": [
    "wrapped_2D_plot(\n",
    "    \"R\",\n",
    "    \"restacked_ds\",\n",
    "    \"max\",\n",
    "    lorentz_line=0,\n",
    "    window_radius=2,\n",
    "    theta=0,\n",
    "    cmap=\"viridis\",\n",
    "    period_start=10,\n",
    "    period_stop=450,\n",
    "    integrate_angle=0,\n",
    "    extra_plots=[\"RTA_int\", \"norm_1_int\"],\n",
    ").opts(\n",
    "    opts.Overlay(legend_position=\"right\", legend_opts={\"background_fill_alpha\": 0.5})\n",
    ")"
   ]
  },
  {
   "cell_type": "code",
   "execution_count": null,
   "id": "b4631f69-310c-4359-99ea-9c4f6a54ddcc",
   "metadata": {},
   "outputs": [],
   "source": [
    "wrapped_2D_plot(\n",
    "    \"R\",\n",
    "    \"restacked_ds\",\n",
    "    \"max\",\n",
    "    lorentz_line=-2,\n",
    "    window_radius=2,\n",
    "    theta=0,\n",
    "    cmap=\"viridis\",\n",
    "    period_start=10,\n",
    "    period_stop=450,\n",
    "    integrate_angle=0,\n",
    "    extra_plots=[\"RTA_int\", \"norm_1_int\"],\n",
    ").opts(\n",
    "    opts.Overlay(legend_position=\"right\", legend_opts={\"background_fill_alpha\": 0.5})\n",
    ")"
   ]
  },
  {
   "cell_type": "code",
   "execution_count": null,
   "id": "ded1915a-e0f5-4a86-8c17-360f97722fb8",
   "metadata": {},
   "outputs": [],
   "source": [
    "wrapped_2D_plot(\n",
    "    \"R\",\n",
    "    \"restacked_ds\",\n",
    "    \"max\",\n",
    "    lorentz_line=2,\n",
    "    window_radius=2,\n",
    "    theta=0,\n",
    "    cmap=\"viridis\",\n",
    "    period_start=10,\n",
    "    period_stop=450,\n",
    "    integrate_angle=0,\n",
    "    extra_plots=[\"RTA_int\", \"norm_1_int\"],\n",
    ").opts(\n",
    "    opts.Overlay(legend_position=\"right\", legend_opts={\"background_fill_alpha\": 0.5})\n",
    ")"
   ]
  },
  {
   "cell_type": "code",
   "execution_count": null,
   "id": "8357e90c-d59c-4223-935a-c09008887c14",
   "metadata": {},
   "outputs": [],
   "source": [
    "wrapped_2D_plot(\n",
    "    \"R\",\n",
    "    \"restacked_ds\",\n",
    "    \"max\",\n",
    "    lorentz_line=-5,\n",
    "    window_radius=2,\n",
    "    theta=0,\n",
    "    cmap=\"viridis\",\n",
    "    period_start=10,\n",
    "    period_stop=450,\n",
    "    integrate_angle=0,\n",
    "    extra_plots=[\"RTA_int\", \"norm_1_int\"],\n",
    ").opts(\n",
    "    opts.Overlay(legend_position=\"right\", legend_opts={\"background_fill_alpha\": 0.5})\n",
    ")"
   ]
  },
  {
   "cell_type": "code",
   "execution_count": null,
   "id": "827d5a3d-fcea-4c79-a8ea-ac844220e000",
   "metadata": {},
   "outputs": [],
   "source": [
    "wrapped_2D_plot(\n",
    "    \"R\",\n",
    "    \"restacked_ds\",\n",
    "    \"max\",\n",
    "    lorentz_line=5,\n",
    "    window_radius=2,\n",
    "    theta=0,\n",
    "    cmap=\"viridis\",\n",
    "    period_start=10,\n",
    "    period_stop=450,\n",
    "    integrate_angle=0,\n",
    "    extra_plots=[\"RTA_int\", \"norm_1_int\"],\n",
    ").opts(\n",
    "    opts.Overlay(legend_position=\"right\", legend_opts={\"background_fill_alpha\": 0.5})\n",
    ")"
   ]
  },
  {
   "cell_type": "markdown",
   "id": "be852281-7717-449d-b736-43b62b68f6d0",
   "metadata": {
    "jp-MarkdownHeadingCollapsed": true,
    "tags": []
   },
   "source": [
    "#### Minimising reflectance"
   ]
  },
  {
   "cell_type": "markdown",
   "id": "60ad31bd-2bcf-442c-81a6-6609af85ee7f",
   "metadata": {},
   "source": [
    "Interestingly, the reflectance at the LO resonance is lower with five layers at 10 nm than a single layer. In this regime, the absorptance is enhanced compared to the CRS at all wavelengths. It is also possible to minimise the reflectance at wavelengths far from the resonance with even higher numbers of thin (10 nm) layers. However, the absolute difference in reflectance with the CRS is generally negligible, and so this is not that relevant for iridoplast-type scenarios. Additionally, the optimal structure degenerates to a pair of thin layers everywhere when a window of radius >=2 linewidths is considered."
   ]
  },
  {
   "cell_type": "code",
   "execution_count": null,
   "id": "66885049-2130-4b10-9134-dc2b6a05a881",
   "metadata": {},
   "outputs": [],
   "source": [
    "dmap[('R', 'restacked_ds', 'min', 0, 0, 0, 'viridis', 10, 450)]"
   ]
  },
  {
   "cell_type": "code",
   "execution_count": null,
   "id": "6894833a-f624-42a9-aa3a-88767e14d0ac",
   "metadata": {},
   "outputs": [],
   "source": [
    "dmap[('R', 'restacked_ds', 'min', -8, 0, 0, 'viridis', 10, 450)]"
   ]
  },
  {
   "cell_type": "code",
   "execution_count": null,
   "id": "bb86f604-a35d-4548-b1e0-b2dee5edfdb2",
   "metadata": {},
   "outputs": [],
   "source": [
    "dmap[('R', 'restacked_ds', 'min', 0, 2, 0, 'viridis', 10, 450)]"
   ]
  },
  {
   "cell_type": "code",
   "execution_count": null,
   "id": "fd295b69-6aa0-4c31-a27b-ec19ce8b1d3d",
   "metadata": {},
   "outputs": [],
   "source": [
    "dmap[('R', 'restacked_ds', 'min', -8, 1, 0, 'viridis', 10, 450)]"
   ]
  },
  {
   "cell_type": "code",
   "execution_count": null,
   "id": "beaba8aa-ff9c-4ed5-a661-4619eafdba7d",
   "metadata": {},
   "outputs": [],
   "source": [
    "dmap[('R', 'restacked_ds', 'min', 4, 0, 0, 'viridis', 10, 450)]"
   ]
  },
  {
   "cell_type": "markdown",
   "id": "330ccc63-1d88-4d58-84fc-d9ce9c059ba7",
   "metadata": {
    "tags": []
   },
   "source": [
    "#### Angle behaviour"
   ]
  },
  {
   "cell_type": "markdown",
   "id": "56c37d28-acec-406c-83e6-0e9fe3a8a56c",
   "metadata": {
    "tags": []
   },
   "source": [
    "The period which gives the highest overall reflectance at any given wavelength, when integrated over a angular range, is (not strictly) greater than the optimal period for normal incidence. This is because the PBG blueshifts with increasing $\\theta$. The overall reflectance values after integration and normalisation are lower than those at normal incidence. Also, there is less specificity in where the reflectance is - generally there is a 'tail' of reflectance on the blue side of the target region."
   ]
  },
  {
   "cell_type": "code",
   "execution_count": null,
   "id": "b62de43f-d2ca-4f26-b665-5b9be92460bb",
   "metadata": {},
   "outputs": [],
   "source": [
    "%%capture --no-stdout --no-display\n",
    "# ignore divide by zero warnings\n",
    "\n",
    "angle_dmap[('R', 'restacked_ds', 'max', 0, 0, 0, 'viridis', 10, 450, 75)]"
   ]
  },
  {
   "cell_type": "code",
   "execution_count": null,
   "id": "347f36e8-ab8c-47e5-a884-a111508ebc3a",
   "metadata": {},
   "outputs": [],
   "source": [
    "# params that optimise reflectance integrated over theta\n",
    "plot_RTA_2D(period=250, excitonic_layer_thickness=70, num_periods=50, theta=(0, 75), include=['LOPC'])*lorentz_vlines([0], scale=1e-9).opts(opts.VLine(line_dash='dotted', color=\"white\"))"
   ]
  },
  {
   "cell_type": "code",
   "execution_count": null,
   "id": "39fe634a-7228-4bfb-863d-ed5a8cca77dc",
   "metadata": {},
   "outputs": [],
   "source": [
    "# params that optimise reflectance at normal incidence\n",
    "plot_RTA_2D(period=250, excitonic_layer_thickness=40, num_periods=40, theta=(0, 75), include=['LOPC'])*lorentz_vlines([0], scale=1e-9).opts(opts.VLine(line_dash='dotted', color=\"white\"))"
   ]
  },
  {
   "cell_type": "markdown",
   "id": "b836fee0-484a-4867-827f-821d26541dba",
   "metadata": {},
   "source": [
    "Supporting evidence: the period which gives the optimal reflectance near the resonance at 30 degrees is higher than that for normal incidence. Also notable is that the number of layers is much higher."
   ]
  },
  {
   "cell_type": "code",
   "execution_count": null,
   "id": "cf904ca3-df60-4819-a5d8-035c41b2635e",
   "metadata": {},
   "outputs": [],
   "source": [
    "angle_dmap[('R', 'restacked_ds', 'max', 0, 2, 30, 'viridis', 10, 450, 0)]"
   ]
  },
  {
   "cell_type": "code",
   "execution_count": null,
   "id": "10fd675d-2a81-4c77-8be4-09e2dec75f65",
   "metadata": {},
   "outputs": [],
   "source": [
    "angle_dmap[('R', 'restacked_ds', 'max', 0, 2, 60, 'viridis', 10, 450, 0)]"
   ]
  },
  {
   "cell_type": "markdown",
   "id": "9323ae28-0d9f-4499-89dc-e610a32b4116",
   "metadata": {
    "tags": []
   },
   "source": [
    "##### Consider the case below, where the PBG at normal incidence is clearly redshifted compared to the wavelength range we are trying to optimise reflectance in (-2<2). As the 2D plot below shows, this is because the reflectance is higher in that region overall taking into account the blueshift with angle."
   ]
  },
  {
   "cell_type": "code",
   "execution_count": null,
   "id": "c3081701-72d8-452d-b23d-1caf7e73bd24",
   "metadata": {},
   "outputs": [],
   "source": [
    "%%capture --no-stdout --no-display\n",
    "# ignore divide by zero warnings\n",
    "\n",
    "angle_dmap[('R', 'restacked_ds', 'max', 0, 2, 0, 'viridis', 10, 450, 75)]"
   ]
  },
  {
   "cell_type": "code",
   "execution_count": null,
   "id": "d2992185-9bf7-4fc0-8773-039e3d594635",
   "metadata": {},
   "outputs": [],
   "source": [
    "# params that optimise reflectance integrated over theta\n",
    "plot_RTA_2D(period=260, excitonic_layer_thickness=80, num_periods=25, theta=(0, 75), include=['LOPC'])*lorentz_vlines([-2, 2], scale=1e-9).opts(opts.VLine(line_dash='dotted', color=\"white\"))"
   ]
  },
  {
   "cell_type": "code",
   "execution_count": null,
   "id": "63b16636-8fc9-49c4-b46b-667040865681",
   "metadata": {},
   "outputs": [],
   "source": [
    "# params that optimise reflectance at normal incidence\n",
    "plot_RTA_2D(period=250, excitonic_layer_thickness=70, num_periods=30, theta=(0, 75), include=['LOPC'])*lorentz_vlines([-2, 2], scale=1e-9).opts(opts.VLine(line_dash='dotted', color=\"white\"))"
   ]
  },
  {
   "cell_type": "code",
   "execution_count": null,
   "id": "3bd98841-9507-41bc-a7ed-73e20340071e",
   "metadata": {},
   "outputs": [],
   "source": [
    "# I'm curious - what happens if I try to make this PBG better with more layers? --Ah, it doesn't get better because of the absorption, I see.\n",
    "plot_RTA_2D(period=250, excitonic_layer_thickness=70, num_periods=50, theta=(0, 75), include=['LOPC'])*lorentz_vlines([-2, 2], scale=1e-9).opts(opts.VLine(line_dash='dotted', color=\"white\"))"
   ]
  },
  {
   "cell_type": "code",
   "execution_count": null,
   "id": "83f2cb32-8430-4c54-bc15-3414e28c5f49",
   "metadata": {},
   "outputs": [],
   "source": [
    "# comparison of the integrated and unintegrated RTA at normal incidence\n",
    "# params optimise R when integrated\n",
    "params = dict(\n",
    "    period=260,\n",
    "    excitonic_layer_thickness=80,\n",
    "    num_periods=25,\n",
    ")\n",
    "\n",
    "(compare_RTA_normal_vs_integrated(**params) * lorentz_vlines([-2, 2], scale=1e-9)).opts(\n",
    "    opts.VLine(line_dash=\"dotted\", color=green), opts.Overlay(legend_position=\"right\")\n",
    ")"
   ]
  },
  {
   "cell_type": "code",
   "execution_count": null,
   "id": "9aa54138-7d8a-431f-a05a-d140dc522646",
   "metadata": {},
   "outputs": [],
   "source": [
    "# comparison of the integrated and unintegrated RTA at normal incidence\n",
    "# params optimise R at normal incidence\n",
    "params = dict(\n",
    "    period=250,\n",
    "    excitonic_layer_thickness=70,\n",
    "    num_periods=30,\n",
    ")\n",
    "\n",
    "(compare_RTA_normal_vs_integrated(**params) * lorentz_vlines([-2, 2], scale=1e-9)).opts(\n",
    "    opts.VLine(line_dash=\"dotted\", color=green), opts.Overlay(legend_position=\"right\")\n",
    ")"
   ]
  },
  {
   "cell_type": "markdown",
   "id": "5f374b83-3e7b-4588-a5c2-9f6f8d4a1fc6",
   "metadata": {
    "tags": []
   },
   "source": [
    "##### As above, but the range (-4<0). Note how hard it is to get any appreciable reflectance here!"
   ]
  },
  {
   "cell_type": "code",
   "execution_count": null,
   "id": "d305cdc1-1f4d-4be9-af13-606b58b6c7b0",
   "metadata": {},
   "outputs": [],
   "source": [
    "%%capture --no-stdout --no-display\n",
    "# ignore divide by zero warnings\n",
    "\n",
    "angle_dmap[('R', 'restacked_ds', 'max', -2, 2, 0, 'viridis', 10, 450, 75)]"
   ]
  },
  {
   "cell_type": "code",
   "execution_count": null,
   "id": "e6f1fced-314e-42db-8a40-22956f465236",
   "metadata": {},
   "outputs": [],
   "source": [
    "# params that optimise reflectance integrated over theta\n",
    "plot_RTA_2D(period=250, excitonic_layer_thickness=80, num_periods=50, theta=(0, 75), include=['LOPC'])*lorentz_vlines([-4, 0], scale=1e-9).opts(opts.VLine(line_dash='dotted', color=\"white\"))"
   ]
  },
  {
   "cell_type": "code",
   "execution_count": null,
   "id": "90407a3f-ca40-4d44-b352-a93637fe06ae",
   "metadata": {},
   "outputs": [],
   "source": [
    "# params that optimise reflectance at normal incidence\n",
    "plot_RTA_2D(period=230, excitonic_layer_thickness=80, num_periods=40, theta=(0, 75), include=['LOPC'])*lorentz_vlines([-4, 0], scale=1e-9).opts(opts.VLine(line_dash='dotted', color=\"white\"))"
   ]
  },
  {
   "cell_type": "markdown",
   "id": "b9560471-b787-4097-97cf-c56f1c779261",
   "metadata": {
    "jp-MarkdownHeadingCollapsed": true,
    "tags": []
   },
   "source": [
    "##### As above, but the range (0, 4)."
   ]
  },
  {
   "cell_type": "code",
   "execution_count": null,
   "id": "e9981eac-556d-47fc-9d23-60f174fa36d2",
   "metadata": {},
   "outputs": [],
   "source": [
    "%%capture --no-stdout --no-display\n",
    "# ignore divide by zero warnings\n",
    "\n",
    "dmap[('R', 'restacked_ds', 'max', 2, 2, 0, 'viridis', 10, 450, 75)]"
   ]
  },
  {
   "cell_type": "code",
   "execution_count": null,
   "id": "7856d3d2-7b1c-4d9d-8fa5-6dd12df09ac8",
   "metadata": {},
   "outputs": [],
   "source": [
    "# params that optimise reflectance integrated over theta\n",
    "plot_RTA_2D(period=270, excitonic_layer_thickness=100, num_periods=20, theta=(0, 75), include=['LOPC'])*lorentz_vlines([0, 4], scale=1e-9).opts(opts.VLine(line_dash='dotted', color=\"white\"))"
   ]
  },
  {
   "cell_type": "code",
   "execution_count": null,
   "id": "6f854a55-4802-4e73-8422-5e4b57f8e5b0",
   "metadata": {},
   "outputs": [],
   "source": [
    "# params that optimise reflectance at normal incidence\n",
    "plot_RTA_2D(period=260, excitonic_layer_thickness=80, num_periods=26, theta=(0, 75), include=['LOPC'])*lorentz_vlines([0, 4], scale=1e-9).opts(opts.VLine(line_dash='dotted', color=\"white\"))"
   ]
  },
  {
   "cell_type": "markdown",
   "id": "0ea4d9f0-d287-4132-8e07-9da32ae258fb",
   "metadata": {
    "tags": []
   },
   "source": [
    "##### As above, but the range (-7, -3)."
   ]
  },
  {
   "cell_type": "code",
   "execution_count": null,
   "id": "432713d9-82d1-42e6-8c2a-1f38c173d02b",
   "metadata": {},
   "outputs": [],
   "source": [
    "%%capture --no-stdout --no-display\n",
    "# ignore divide by zero warnings\n",
    "\n",
    "angle_dmap[('R', 'restacked_ds', 'max', -5, 2, 0, 'viridis', 10, 450, 75)]"
   ]
  },
  {
   "cell_type": "code",
   "execution_count": null,
   "id": "d5efd00e-173b-409b-9028-57bc6f441e48",
   "metadata": {},
   "outputs": [],
   "source": [
    "# params that optimise reflectance integrated over theta\n",
    "plot_RTA_2D(period=220, excitonic_layer_thickness=100, num_periods=40, theta=(0, 75), include=['LOPC'])*lorentz_vlines([-7, -3], scale=1e-9).opts(opts.VLine(line_dash='dotted', color=\"white\"))"
   ]
  },
  {
   "cell_type": "code",
   "execution_count": null,
   "id": "48c90ddb-2ee9-431c-a40e-b7cdad060986",
   "metadata": {},
   "outputs": [],
   "source": [
    "# params that optimise reflectance at normal incidence\n",
    "plot_RTA_2D(period=210, excitonic_layer_thickness=100, num_periods=50, theta=(0, 75), include=['LOPC'])*lorentz_vlines([-7, -3], scale=1e-9).opts(opts.VLine(line_dash='dotted', color=\"white\"))"
   ]
  },
  {
   "cell_type": "markdown",
   "id": "c3948b51-45d5-4560-bb09-40af9ea4a55e",
   "metadata": {
    "tags": []
   },
   "source": [
    "##### As above, but the range (3, 7). Much higher potential reflectance here."
   ]
  },
  {
   "cell_type": "code",
   "execution_count": null,
   "id": "70c10b41-7865-40da-a804-2785bab8a327",
   "metadata": {
    "tags": []
   },
   "outputs": [],
   "source": [
    "%%capture --no-stdout --no-display\n",
    "# ignore divide by zero warnings\n",
    "\n",
    "angle_dmap[('R', 'restacked_ds', 'max', 5, 2, 0, 'viridis', 10, 450, 75)]"
   ]
  },
  {
   "cell_type": "code",
   "execution_count": null,
   "id": "2a36a0db-88da-4013-b8be-f4c33bef39e2",
   "metadata": {},
   "outputs": [],
   "source": [
    "# params that optimise reflectance integrated over theta\n",
    "plot_RTA_2D(period=290, excitonic_layer_thickness=130, num_periods=21, theta=(0, 75), include=['LOPC'])*lorentz_vlines([3, 7], scale=1e-9).opts(opts.VLine(line_dash='dotted', color=\"white\"))"
   ]
  },
  {
   "cell_type": "code",
   "execution_count": null,
   "id": "dab788ca-2d8f-4bb7-8635-1b58ae92451d",
   "metadata": {},
   "outputs": [],
   "source": [
    "# params that optimise reflectance at normal incidence\n",
    "plot_RTA_2D(period=280, excitonic_layer_thickness=110, num_periods=22, theta=(0, 75), include=['LOPC'])*lorentz_vlines([3, 7], scale=1e-9).opts(opts.VLine(line_dash='dotted', color=\"white\"))"
   ]
  },
  {
   "cell_type": "markdown",
   "id": "7c209501-6cc7-4fd6-8891-527677a60efb",
   "metadata": {
    "jp-MarkdownHeadingCollapsed": true,
    "tags": []
   },
   "source": [
    "### Optimal structures for transmittance"
   ]
  },
  {
   "cell_type": "markdown",
   "id": "04390aa1-624a-4101-8771-ce7558e71b17",
   "metadata": {
    "jp-MarkdownHeadingCollapsed": true,
    "tags": []
   },
   "source": [
    "#### Maximum"
   ]
  },
  {
   "cell_type": "markdown",
   "id": "2ad4e54e-5de4-4f8c-9cdb-8e9a345eed96",
   "metadata": {},
   "source": [
    "The optimum structure for maximal transmittance at a wavelength is obvious (a single thin layer). What is more interesting is the way that the maximal transmittance drops off quickly with total excitonic layer thickness. The capacity of the LOPC to increase transmittance is minimal - see below plot with iridoplast-like parameters. It is at its best with a higher number of thin layers (examine this further when looking in to tunability)."
   ]
  },
  {
   "cell_type": "code",
   "execution_count": null,
   "id": "d144e772-6087-47c5-a51a-3b754eefed2b",
   "metadata": {},
   "outputs": [],
   "source": [
    "dmap[('T', 'restacked_ds', 'max', 0, 0, 0, 'cividis', 10, 450)]"
   ]
  },
  {
   "cell_type": "code",
   "execution_count": null,
   "id": "fd4c3e4b-6ae9-465e-9e2b-9ffd505bf444",
   "metadata": {},
   "outputs": [],
   "source": [
    "params = {\"theta\": 0, \"excitonic_layer_thickness\": 20, \"num_periods\": 8}\n",
    "lorentz_line_number = 0\n",
    "window_radius = 0\n",
    "optimum = find_optimum_coords(\n",
    "    da=select_lorentz_line(\n",
    "        restacked_ds.T.sel(**params, method=\"nearest\"),\n",
    "        lorentz_line_number,\n",
    "        window_radius,\n",
    "    ),\n",
    "    dim=\"period\",\n",
    ")\n",
    "plot_RTA(period=float(optimum.period), **params)"
   ]
  },
  {
   "cell_type": "code",
   "execution_count": null,
   "id": "dfb11134-9ca8-4788-957d-4a92bc02af59",
   "metadata": {},
   "outputs": [],
   "source": [
    "params = {\"theta\": 0, \"excitonic_layer_thickness\": 20, \"num_periods\": 8}\n",
    "lorentz_line_number = -5\n",
    "window_radius = 0\n",
    "optimum = find_optimum_coords(\n",
    "    da=select_lorentz_line(\n",
    "        restacked_ds.T.sel(**params, method=\"nearest\"),\n",
    "        lorentz_line_number,\n",
    "        window_radius,\n",
    "    ),\n",
    "    dim=\"period\",\n",
    ")\n",
    "plot_RTA(period=float(optimum.period), **params)"
   ]
  },
  {
   "cell_type": "code",
   "execution_count": null,
   "id": "5fe6d790-dadf-4058-b9e0-46d7cf1cbed4",
   "metadata": {},
   "outputs": [],
   "source": [
    "params = {\"theta\": 0, \"excitonic_layer_thickness\": 100, \"num_periods\": 8}\n",
    "lorentz_line_number = 0\n",
    "window_radius = 0\n",
    "optimum = find_optimum_coords(\n",
    "    da=select_lorentz_line(\n",
    "        restacked_ds.T.sel(**params, method=\"nearest\"),\n",
    "        lorentz_line_number,\n",
    "        window_radius,\n",
    "    ),\n",
    "    dim=\"period\",\n",
    ")\n",
    "plot_RTA(period=float(optimum.period), **params)"
   ]
  },
  {
   "cell_type": "code",
   "execution_count": null,
   "id": "c29cfbde-86c7-4cdc-9eed-cacf36f60791",
   "metadata": {},
   "outputs": [],
   "source": [
    "params = {\"theta\": 0, \"excitonic_layer_thickness\": 20, \"num_periods\": 30}\n",
    "lorentz_line_number = 0\n",
    "window_radius = 0\n",
    "optimum = find_optimum_coords(\n",
    "    da=select_lorentz_line(\n",
    "        restacked_ds.T.sel(**params, method=\"nearest\"),\n",
    "        lorentz_line_number,\n",
    "        window_radius,\n",
    "    ),\n",
    "    dim=\"period\",\n",
    ")\n",
    "plot_RTA(period=float(optimum.period), **params)"
   ]
  },
  {
   "cell_type": "code",
   "execution_count": null,
   "id": "9b44a977-41cb-4969-bfff-c12304fbf7cb",
   "metadata": {},
   "outputs": [],
   "source": [
    "params = {\"theta\": 0, \"excitonic_layer_thickness\": 20, \"num_periods\": 30}\n",
    "lorentz_line_number = 5\n",
    "window_radius = 0\n",
    "optimum = find_optimum_coords(\n",
    "    da=select_lorentz_line(\n",
    "        restacked_ds.T.sel(**params, method=\"nearest\"),\n",
    "        lorentz_line_number,\n",
    "        window_radius,\n",
    "    ),\n",
    "    dim=\"period\",\n",
    ")\n",
    "plot_RTA(period=float(optimum.period), **params).opts(legend_position=\"right\")"
   ]
  },
  {
   "cell_type": "code",
   "execution_count": null,
   "id": "6b7d2547-f8c8-4015-8f43-47edc0037266",
   "metadata": {},
   "outputs": [],
   "source": [
    "params = {\"theta\": 0, \"excitonic_layer_thickness\": 100, \"num_periods\": 30}\n",
    "lorentz_line_number = 0\n",
    "window_radius = 0\n",
    "optimum = find_optimum_coords(\n",
    "    da=select_lorentz_line(\n",
    "        restacked_ds.T.sel(**params, method=\"nearest\"),\n",
    "        lorentz_line_number,\n",
    "        window_radius,\n",
    "    ),\n",
    "    dim=\"period\",\n",
    ")\n",
    "plot_RTA(period=float(optimum.period), **params)"
   ]
  },
  {
   "cell_type": "markdown",
   "id": "90274e43-21f6-440b-8637-7e407c888eaa",
   "metadata": {
    "jp-MarkdownHeadingCollapsed": true,
    "tags": []
   },
   "source": [
    "#### Minimum"
   ]
  },
  {
   "cell_type": "markdown",
   "id": "1c3db4b6-df6a-4f8d-ac57-629d93d229a2",
   "metadata": {},
   "source": [
    "Where it is possible to, the dominant strategy is to layer up so much material that almost all the light is absorbed. Where it is not possible, the dominant strategy still involves the maximum number of layers, but the thickness of the layers may be reduced to form a higher-quality PBG. This can especially be the case when considering a wider window. Generally, the LOPC has the capacity to reduce transmittance relative to the CRS."
   ]
  },
  {
   "cell_type": "code",
   "execution_count": null,
   "id": "38a53c42-c896-47c1-9120-ffec48a4840b",
   "metadata": {},
   "outputs": [],
   "source": [
    "dmap[('T', 'restacked_ds', 'min', 0, 0, 0, 'cividis', 10, 450)]"
   ]
  },
  {
   "cell_type": "code",
   "execution_count": null,
   "id": "dd5f3fb9-b94d-4eae-b32e-6d403a8e2055",
   "metadata": {},
   "outputs": [],
   "source": [
    "dmap[('T', 'restacked_ds', 'min', 0, 2, 0, 'cividis', 10, 450)]"
   ]
  },
  {
   "cell_type": "code",
   "execution_count": null,
   "id": "5f779b7f-1d70-41cc-a34c-7f166d49a07b",
   "metadata": {},
   "outputs": [],
   "source": [
    "dmap[('T', 'restacked_ds', 'min', -5, 0, 0, 'cividis', 10, 450)]"
   ]
  },
  {
   "cell_type": "code",
   "execution_count": null,
   "id": "50087493-89c4-42f8-835e-8b70298f817f",
   "metadata": {},
   "outputs": [],
   "source": [
    "dmap[('T', 'restacked_ds', 'min', -5, 2, 0, 'cividis', 10, 450)]"
   ]
  },
  {
   "cell_type": "code",
   "execution_count": null,
   "id": "8547d09c-8716-4e88-a03c-608275ce83ef",
   "metadata": {},
   "outputs": [],
   "source": [
    "dmap[('T', 'restacked_ds', 'min', 5, 0, 0, 'cividis', 10, 450)]"
   ]
  },
  {
   "cell_type": "code",
   "execution_count": null,
   "id": "23f0ab8c-ffdc-42cd-b571-41bc0c790594",
   "metadata": {},
   "outputs": [],
   "source": [
    "dmap[('T', 'restacked_ds', 'min', 5, 2, 0, 'cividis', 10, 450)]"
   ]
  },
  {
   "cell_type": "code",
   "execution_count": null,
   "id": "e0b04186-f0e6-4568-afcd-697b07808011",
   "metadata": {},
   "outputs": [],
   "source": [
    "# limit the total excitonic thickness so that absorption doesn't saturate\n",
    "temp_ds = restacked_ds.drop_sel(excitonic_layer_thickness=0).sel(excitonic_layer_thickness=slice(None, 20), num_periods=slice(None, 20))\n",
    "wrapped_2D_plot('T', temp_ds, 'min', 0, 0, 0, 'cividis', 10, 450, dim=\"period\")"
   ]
  },
  {
   "cell_type": "markdown",
   "id": "0b83cbdb-4655-4af0-a2e4-65155fb4e3c1",
   "metadata": {
    "jp-MarkdownHeadingCollapsed": true,
    "tags": []
   },
   "source": [
    "#### Angle behaviour"
   ]
  },
  {
   "cell_type": "markdown",
   "id": "a3dcc18e-8e9e-45f7-ba14-e519af073e61",
   "metadata": {},
   "source": [
    "##### As expected, the optimal structure for minimising transmittance near the resonance doesn't really change at higher angles, because absorption is isotropic."
   ]
  },
  {
   "cell_type": "code",
   "execution_count": null,
   "id": "b8a7ccad-e4df-44b1-b26f-17702f700b85",
   "metadata": {},
   "outputs": [],
   "source": [
    "angle_dmap[('T', 'restacked_ds', 'min', 0, 2, 30, 'cividis', 10, 450, 0)]"
   ]
  },
  {
   "cell_type": "markdown",
   "id": "45c9bd08-d0e7-4145-9f50-88912aeac068",
   "metadata": {},
   "source": [
    "Far from the resonance, the reflectance plays a role. As expected, the optimal period is higher than at normal incidence."
   ]
  },
  {
   "cell_type": "code",
   "execution_count": null,
   "id": "33047749-c435-4955-bd21-a4fd7d3d7e8d",
   "metadata": {},
   "outputs": [],
   "source": [
    "angle_dmap[('T', 'restacked_ds', 'min', -5, 2, 30, 'cividis', 10, 450, 0)]"
   ]
  },
  {
   "cell_type": "code",
   "execution_count": null,
   "id": "bde8699f-1ba4-4532-a8e0-288c6cdb5fc1",
   "metadata": {},
   "outputs": [],
   "source": [
    "angle_dmap[('T', 'restacked_ds', 'min', 5, 2, 30, 'cividis', 10, 450, 0)]"
   ]
  },
  {
   "cell_type": "markdown",
   "id": "24527ae6-cd45-465a-a87b-b79105aa9602",
   "metadata": {},
   "source": [
    "##### When integrating..."
   ]
  },
  {
   "cell_type": "code",
   "execution_count": null,
   "id": "6a48c676-56e2-4e77-8932-0a82d809a75a",
   "metadata": {},
   "outputs": [],
   "source": [
    "%%capture --no-stdout --no-display\n",
    "# ignore divide by zero warnings\n",
    "\n",
    "angle_dmap[('T', 'restacked_ds', 'min', 0, 2, 0, 'cividis', 10, 450, 75)]"
   ]
  },
  {
   "cell_type": "code",
   "execution_count": null,
   "id": "d9f97875-6e1f-4f55-ae31-bf71e77f0485",
   "metadata": {},
   "outputs": [],
   "source": [
    "%%capture --no-stdout --no-display\n",
    "# ignore divide by zero warnings\n",
    "\n",
    "angle_dmap[('T', 'restacked_ds', 'min', -5, 2, 0, 'cividis', 10, 450, 75)]"
   ]
  },
  {
   "cell_type": "code",
   "execution_count": null,
   "id": "8a84b5e2-d217-43c4-8c92-0fa41245f5de",
   "metadata": {},
   "outputs": [],
   "source": [
    "%%capture --no-stdout --no-display\n",
    "# ignore divide by zero warnings\n",
    "\n",
    "angle_dmap[('T', 'restacked_ds', 'min', 5, 2, 0, 'cividis', 10, 450, 75)]"
   ]
  },
  {
   "cell_type": "markdown",
   "id": "60c0e05f-bbc0-4b26-ac9b-edf57b0415e5",
   "metadata": {
    "jp-MarkdownHeadingCollapsed": true,
    "tags": []
   },
   "source": [
    "### Optimal structures for absorptance"
   ]
  },
  {
   "cell_type": "markdown",
   "id": "567adf98-db32-4561-9f00-551ab6a8cb79",
   "metadata": {
    "jp-MarkdownHeadingCollapsed": true,
    "tags": []
   },
   "source": [
    "#### Maximum"
   ]
  },
  {
   "cell_type": "markdown",
   "id": "8460d4ff-1df4-461a-9360-fc13d2a12315",
   "metadata": {},
   "source": [
    "If it is possible to just pile up layers to approach 100% absorptance, that is the dominant strategy. There is a secondary effect in minimising reflectance.\n",
    "\n",
    "If it is not possible, then slow light enhancement can play a role in increasing absorptance, both at the LO resonance and further away. Additionally, the advantage of the photonic effect can be competitive with just increasing layer thickness (see the plot at -8 Lorentz linewidths, where high absorptance is possible at an excitonic layer thickness of 100 nm as well as 150 nm). However, photonic effects play a smaller role when considering larger integration windows, because the range of the slow light absorption enhancement is limited.\n",
    "\n",
    "Interestingly, when maximising the absorptance near the resonance, the PBG may be located quite far away (~100 nm) from the target wavelength for enhancement."
   ]
  },
  {
   "cell_type": "code",
   "execution_count": null,
   "id": "909b460d-ae44-4975-a556-e78e06930ce6",
   "metadata": {},
   "outputs": [],
   "source": [
    "dmap[('A', 'restacked_ds', 'max', 0, 0, 0, 'inferno', 10, 450)]"
   ]
  },
  {
   "cell_type": "code",
   "execution_count": null,
   "id": "e69a8fdf-a440-4e40-8187-e1ffc6a6ef4e",
   "metadata": {
    "tags": []
   },
   "outputs": [],
   "source": [
    "dmap[('A', 'restacked_ds', 'max', 0, 4, 0, 'inferno', 10, 450)]"
   ]
  },
  {
   "cell_type": "code",
   "execution_count": null,
   "id": "acfe5257-7c7b-4ad4-bcaa-069ba470a517",
   "metadata": {},
   "outputs": [],
   "source": [
    "# limit the total excitonic thickness so that absorption doesn't saturate\n",
    "temp_ds = restacked_ds.drop_sel(excitonic_layer_thickness=0).sel(excitonic_layer_thickness=slice(None, 20), num_periods=slice(None, 20))\n",
    "wrapped_2D_plot('A', temp_ds, 'max', 0, 0, 0, 'inferno', 10, 450, dim=\"period\", extra_plots=[\"RTA_int\", \"norm_1_int\"])"
   ]
  },
  {
   "cell_type": "code",
   "execution_count": null,
   "id": "4a8f615f-7818-4c5e-a964-c5ec646bd47e",
   "metadata": {},
   "outputs": [],
   "source": [
    "dmap[('A', 'restacked_ds', 'max', -8, 0, 0, 'inferno', 10, 450)]"
   ]
  },
  {
   "cell_type": "code",
   "execution_count": null,
   "id": "5d52abaa-86c8-4a8f-84f8-be168fa32ac7",
   "metadata": {},
   "outputs": [],
   "source": [
    "# limit the total excitonic thickness so that absorption doesn't saturate\n",
    "temp_ds = restacked_ds.drop_sel(excitonic_layer_thickness=0).sel(excitonic_layer_thickness=slice(None, 140), num_periods=slice(None, None))\n",
    "wrapped_2D_plot('A', temp_ds, 'max', -8, 0, 0, 'inferno', 10, 450, dim=\"period\", extra_plots=[\"RTA_int\", \"norm_1_int\"])"
   ]
  },
  {
   "cell_type": "markdown",
   "id": "738f21f1-23e7-4cc1-b7c5-59075c40a785",
   "metadata": {},
   "source": [
    "It's interesting that the second-order PBG at 400 nm is more effective at enhancing absorption than the first-order one at 190 nm."
   ]
  },
  {
   "cell_type": "code",
   "execution_count": null,
   "id": "71bf70e1-b6bd-4035-b432-bfa228504b4e",
   "metadata": {},
   "outputs": [],
   "source": [
    "# limit the total excitonic thickness so that absorption doesn't saturate\n",
    "temp_ds = restacked_ds.drop_sel(excitonic_layer_thickness=0).sel(excitonic_layer_thickness=slice(None, 140), num_periods=slice(None, None))\n",
    "wrapped_2D_plot('A', temp_ds, 'max', -8, 0, 0, 'inferno', 10, 300, dim=\"period\", extra_plots=[\"RTA_int\", \"norm_1_int\"])"
   ]
  },
  {
   "cell_type": "code",
   "execution_count": null,
   "id": "79c95612-a441-45ca-afdd-58e16b7c8e32",
   "metadata": {},
   "outputs": [],
   "source": [
    "dmap[('A', 'restacked_ds', 'max', 8, 0, 0, 'inferno', 10, 450)]"
   ]
  },
  {
   "cell_type": "code",
   "execution_count": null,
   "id": "32c566e8-14f4-4cc3-8090-7d9cac0083fa",
   "metadata": {},
   "outputs": [],
   "source": [
    "dmap[('A', 'restacked_ds', 'max', -8, 2, 0, 'inferno', 10, 450)]"
   ]
  },
  {
   "cell_type": "code",
   "execution_count": null,
   "id": "a6e4a65d-ae31-4bf3-b399-b40651a3cb04",
   "metadata": {},
   "outputs": [],
   "source": [
    "dmap[('A', 'restacked_ds', 'max', 6, 2, 0, 'inferno', 10, 450)]"
   ]
  },
  {
   "cell_type": "markdown",
   "id": "d01fc656-7bf5-4d60-abac-2d48d96fa37f",
   "metadata": {
    "jp-MarkdownHeadingCollapsed": true,
    "tags": []
   },
   "source": [
    "#### Minimum"
   ]
  },
  {
   "cell_type": "markdown",
   "id": "dee9cbc3-4e63-4c0e-b1dc-25a26a18df1a",
   "metadata": {},
   "source": [
    "Obviously, the minimal absorptance comes with the smallest structures. There isn't much interesting to say about this."
   ]
  },
  {
   "cell_type": "code",
   "execution_count": null,
   "id": "3856c46e-4655-4fcf-b549-977cd89be09a",
   "metadata": {},
   "outputs": [],
   "source": [
    "dmap[('A', 'restacked_ds', 'min', 0, 0, 0, 'inferno', 10, 450)]"
   ]
  },
  {
   "cell_type": "markdown",
   "id": "651c387a-2d8f-4cbb-a49d-124fa8cf7ce4",
   "metadata": {
    "jp-MarkdownHeadingCollapsed": true,
    "tags": []
   },
   "source": [
    "#### Angle behaviour"
   ]
  },
  {
   "cell_type": "markdown",
   "id": "3a8cb05c-533f-413a-9385-a070e8d77c20",
   "metadata": {
    "tags": []
   },
   "source": [
    "##### At higher angles, the optimal period is higher. The PBG can reduce absorptance at normal incidence while increasing it at 30 degrees."
   ]
  },
  {
   "cell_type": "code",
   "execution_count": null,
   "id": "839dc386-cc1e-4f93-b6f7-01a8cffac428",
   "metadata": {},
   "outputs": [],
   "source": [
    "angle_dmap[('A', 'restacked_ds', 'max', 0, 2, 30, 'inferno', 10, 450, 0)]"
   ]
  },
  {
   "cell_type": "code",
   "execution_count": null,
   "id": "6b3e8951-09da-446d-b83b-5cf59419eee1",
   "metadata": {},
   "outputs": [],
   "source": [
    "angle_dmap[('A', 'restacked_ds', 'max', -5, 2, 30, 'inferno', 10, 450, 0)]"
   ]
  },
  {
   "cell_type": "code",
   "execution_count": null,
   "id": "6e462e76-c9dc-4fba-844f-7488695da241",
   "metadata": {},
   "outputs": [],
   "source": [
    "angle_dmap[('A', 'restacked_ds', 'max', 6, 2, 30, 'inferno', 10, 450, 0)]"
   ]
  },
  {
   "cell_type": "markdown",
   "id": "de1c878c-33a4-4188-bbf4-5e3450e6cf5c",
   "metadata": {
    "tags": []
   },
   "source": [
    "##### When integrating, the capacity for photonic effects to meaningfully enhance absorptance overall is very low, because of their localised nature."
   ]
  },
  {
   "cell_type": "code",
   "execution_count": null,
   "id": "26b76cba-14ce-46d6-a804-f14b9a2479cd",
   "metadata": {},
   "outputs": [],
   "source": [
    "%%capture --no-stdout --no-display\n",
    "# ignore divide by zero warnings\n",
    "\n",
    "angle_dmap[('A', 'restacked_ds', 'max', 0, 2, 0, 'inferno', 10, 450, 75)]"
   ]
  },
  {
   "cell_type": "code",
   "execution_count": null,
   "id": "6965d149-62c9-44f6-852e-d9663d92df1a",
   "metadata": {},
   "outputs": [],
   "source": [
    "%%capture --no-stdout --no-display\n",
    "# ignore divide by zero warnings\n",
    "\n",
    "angle_dmap[('A', 'restacked_ds', 'max', -5, 2, 0, 'inferno', 10, 450, 75)]"
   ]
  },
  {
   "cell_type": "code",
   "execution_count": null,
   "id": "942c4183-158c-4feb-8eee-0beb88ccb07e",
   "metadata": {},
   "outputs": [],
   "source": [
    "%%capture --no-stdout --no-display\n",
    "# ignore divide by zero warnings\n",
    "\n",
    "angle_dmap[('A', 'restacked_ds', 'max', 6, 2, 0, 'inferno', 10, 450, 75)]"
   ]
  },
  {
   "cell_type": "markdown",
   "id": "09f5b683-3b0e-4f56-a472-5c709828e727",
   "metadata": {
    "jp-MarkdownHeadingCollapsed": true,
    "tags": []
   },
   "source": [
    "### General note on per-oscillator metrics"
   ]
  },
  {
   "cell_type": "markdown",
   "id": "2496b10d-9c98-4f50-8d75-93b09b5b1cf7",
   "metadata": {},
   "source": [
    "When the metric increases in absolute terms with layer thickness (e.g. reflectance, absorptance), I expect at the high-thickness limit for there to be an inverse relationship between that metric on a per-oscillator basis and the total number of oscillators (equivalent up to normalisation with total excitonic layer thickness). The per-oscillator metric will also be low at low layer thicknesses, so the optimum is expected at intermediate values.\n",
    "\n",
    "What affects the position of the optimum in parameter space, and how, is an open question,"
   ]
  },
  {
   "cell_type": "markdown",
   "id": "20293a6a-a2b7-442c-a5de-9a5089d8a23a",
   "metadata": {
    "jp-MarkdownHeadingCollapsed": true,
    "tags": []
   },
   "source": [
    "### Optimal structures for reflectance per oscillator"
   ]
  },
  {
   "cell_type": "markdown",
   "id": "d9b9946d-facc-4b58-8e82-ab9a4c8e986f",
   "metadata": {
    "jp-MarkdownHeadingCollapsed": true,
    "tags": []
   },
   "source": [
    "#### Maximum"
   ]
  },
  {
   "cell_type": "markdown",
   "id": "151ef0e5-c719-47f9-899f-44eb2108625b",
   "metadata": {},
   "source": [
    "Reflectance per oscillator is kind of as expected. At low total excitonic layer thickness, there is little reflectance, and at high total excitonic layer thickness the reflectance saturates while the number of oscillators increases without bound, so the peak in reflectance per oscillator is at intermediate values of excitonic layer thickness and number of layers. The interesting thing is that for the LO resonance wavelength, the optimum in this parameter ($16 \\times 20\\ \\text{nm} = 320\\ \\text{nm}$) is in a similar range to the real iridoplast structure.\n",
    "\n",
    "The behaviour around the LO resonance is assymmetric; there is a shift to significantly higher total excitonic layer thickness at the -2 Lorentz line ($26 \\times 40\\ \\text{nm} = 1040\\ \\text{nm}$), but not at the +2 Lorentz line ($14 \\times 30\\ \\text{nm} = 420\\ \\text{nm}$). Generally, the maximum achievable reflectance per oscillator is lower on the blue (low contrast) side of the resonance than on the red (high contrast) side, which holds true up to at least 8 linewidths away. The total excitonic layer thickness that gives the maximal reflectance per oscillator tends to increase with distance from the LO resonance wavelength.\n",
    "\n",
    "**It would be cool to plot the maximum R_per_oscillator and corresponding total excitonic layer thickness for each Lorentz line.**"
   ]
  },
  {
   "cell_type": "code",
   "execution_count": null,
   "id": "82b5b1e3-b069-45f0-9a48-6e537c941542",
   "metadata": {},
   "outputs": [],
   "source": [
    "%%capture --no-stdout --no-display\n",
    "# ignore divide by zero warnings\n",
    "\n",
    "dmap[('R_per_oscillator', 'restacked_ds', 'max', 0, 0, 0, 'viridis', 10, 450)]"
   ]
  },
  {
   "cell_type": "code",
   "execution_count": null,
   "id": "61660acb-f5ec-43c5-82cb-dd010bc34a16",
   "metadata": {},
   "outputs": [],
   "source": [
    "%%capture --no-stdout --no-display\n",
    "# ignore divide by zero warnings\n",
    "\n",
    "dmap[('R_per_oscillator', 'restacked_ds', 'max', -2, 0, 0, 'viridis', 10, 450)]"
   ]
  },
  {
   "cell_type": "code",
   "execution_count": null,
   "id": "6d34b67b-85a1-4280-89e8-9aae51918966",
   "metadata": {},
   "outputs": [],
   "source": [
    "%%capture --no-stdout --no-display\n",
    "# ignore divide by zero warnings\n",
    "\n",
    "dmap[('R_per_oscillator', 'restacked_ds', 'max', 2, 0, 0, 'viridis', 10, 450)]"
   ]
  },
  {
   "cell_type": "code",
   "execution_count": null,
   "id": "8518bd55-39cd-414e-9b7f-f9b8b9f65152",
   "metadata": {},
   "outputs": [],
   "source": [
    "%%capture --no-stdout --no-display\n",
    "# ignore divide by zero warnings\n",
    "\n",
    "dmap[('R_per_oscillator', 'restacked_ds', 'max', -5, 0, 0, 'viridis', 10, 450)]"
   ]
  },
  {
   "cell_type": "code",
   "execution_count": null,
   "id": "5c45d6cf-36db-4790-8d4c-ae55c49fdb74",
   "metadata": {},
   "outputs": [],
   "source": [
    "%%capture --no-stdout --no-display\n",
    "# ignore divide by zero warnings\n",
    "\n",
    "dmap[('R_per_oscillator', 'restacked_ds', 'max', 5, 0, 0, 'viridis', 10, 450)]"
   ]
  },
  {
   "cell_type": "code",
   "execution_count": null,
   "id": "7e0de511-f85f-46fb-ae0f-a321c73d2f12",
   "metadata": {},
   "outputs": [],
   "source": [
    "%%capture --no-stdout --no-display\n",
    "# ignore divide by zero warnings\n",
    "\n",
    "dmap[('R_per_oscillator', 'restacked_ds', 'max', -8, 0, 0, 'viridis', 10, 450)]"
   ]
  },
  {
   "cell_type": "code",
   "execution_count": null,
   "id": "97780faf-fd96-4c62-b87c-837df1772483",
   "metadata": {},
   "outputs": [],
   "source": [
    "%%capture --no-stdout --no-display\n",
    "# ignore divide by zero warnings\n",
    "\n",
    "dmap[('R_per_oscillator', 'restacked_ds', 'max', 8, 0, 0, 'viridis', 10, 450)]"
   ]
  },
  {
   "cell_type": "markdown",
   "id": "e4912bdd-e83a-4c2e-a499-422ad9406f9b",
   "metadata": {
    "jp-MarkdownHeadingCollapsed": true,
    "tags": []
   },
   "source": [
    "#### Maximum over a window"
   ]
  },
  {
   "cell_type": "markdown",
   "id": "00cf6595-c45b-410d-ab46-db1e5decabe3",
   "metadata": {},
   "source": [
    "Taking a larger integration window pushes the optimum towards higher layer thicknesses but lower numbers of layers, leading to a wider and flatter PBG. The optimal PBG can't cover more than about 10 linewidths on the red (high contrast) side or 6 linewidths on the blue (low contrast) side."
   ]
  },
  {
   "cell_type": "code",
   "execution_count": null,
   "id": "444cf583-d3c6-471e-95f4-09edbce0bf5b",
   "metadata": {},
   "outputs": [],
   "source": [
    "%%capture --no-stdout --no-display\n",
    "# ignore divide by zero warnings\n",
    "\n",
    "dmap[('R_per_oscillator', 'restacked_ds', 'max', 0, 2, 0, 'viridis', 10, 450)]"
   ]
  },
  {
   "cell_type": "code",
   "execution_count": null,
   "id": "0f46116c-b861-4ba4-8281-6adc01c53fa8",
   "metadata": {},
   "outputs": [],
   "source": [
    "%%capture --no-stdout --no-display\n",
    "# ignore divide by zero warnings\n",
    "\n",
    "dmap[('R_per_oscillator', 'restacked_ds', 'max', 0, 5, 0, 'viridis', 10, 450)]"
   ]
  },
  {
   "cell_type": "code",
   "execution_count": null,
   "id": "b2f1efea-0744-4649-bf90-3567ea7108b9",
   "metadata": {},
   "outputs": [],
   "source": [
    "%%capture --no-stdout --no-display\n",
    "# ignore divide by zero warnings\n",
    "\n",
    "dmap[('R_per_oscillator', 'restacked_ds', 'max', 0, 8, 0, 'viridis', 10, 450)]"
   ]
  },
  {
   "cell_type": "code",
   "execution_count": null,
   "id": "6b741897-8867-4fd6-b0a3-947a0928ccd8",
   "metadata": {},
   "outputs": [],
   "source": [
    "# %%capture --no-stdout --no-display\n",
    "# # ignore divide by zero warnings\n",
    "\n",
    "# dmap[('R_per_oscillator', 'restacked_ds', 'max', -7, 3, 0, 'viridis', 10, 450)]"
   ]
  },
  {
   "cell_type": "code",
   "execution_count": null,
   "id": "f0603c5c-2015-4e76-b0ff-a97902edd8d0",
   "metadata": {},
   "outputs": [],
   "source": [
    "# %%capture --no-stdout --no-display\n",
    "# # ignore divide by zero warnings\n",
    "\n",
    "# dmap[('R_per_oscillator', 'restacked_ds', 'max', 3, 5, 0, 'viridis', 10, 450)]"
   ]
  },
  {
   "cell_type": "code",
   "execution_count": null,
   "id": "d24c7e2e-f27a-4142-a0df-a51e3f45f4b9",
   "metadata": {},
   "outputs": [],
   "source": [
    "%%capture --no-stdout --no-display\n",
    "# ignore divide by zero warnings\n",
    "\n",
    "dmap[('R_per_oscillator', 'restacked_ds', 'max', -5, 2, 0, 'viridis', 10, 450)]"
   ]
  },
  {
   "cell_type": "code",
   "execution_count": null,
   "id": "a01abd25-bf80-4777-9563-a22f24e021cf",
   "metadata": {},
   "outputs": [],
   "source": [
    "%%capture --no-stdout --no-display\n",
    "# ignore divide by zero warnings\n",
    "\n",
    "dmap[('R_per_oscillator', 'restacked_ds', 'max', 5, 2, 0, 'viridis', 10, 450)]"
   ]
  },
  {
   "cell_type": "markdown",
   "id": "93250468-cdce-43d3-ba4c-c05d4220c9a7",
   "metadata": {
    "tags": []
   },
   "source": [
    "#### Minimum"
   ]
  },
  {
   "cell_type": "markdown",
   "id": "73deb507-6d5a-47a2-9285-3e425ae80626",
   "metadata": {},
   "source": [
    "Obviously, minimising the reflectance per oscillator produces uninteresting structures that typically have low layer thickness and high numbers of layers."
   ]
  },
  {
   "cell_type": "code",
   "execution_count": null,
   "id": "f0c2fe50-36f6-4252-92a3-8f2be12531a3",
   "metadata": {},
   "outputs": [],
   "source": [
    "%%capture --no-stdout --no-display\n",
    "# ignore divide by zero warnings\n",
    "\n",
    "dmap[('R_per_oscillator', 'restacked_ds', 'min', 0, 0, 0, 'viridis', 10, 450)]"
   ]
  },
  {
   "cell_type": "code",
   "execution_count": null,
   "id": "503c3912-6b3b-4b64-893f-ccb1d9f64217",
   "metadata": {},
   "outputs": [],
   "source": [
    "%%capture --no-stdout --no-display\n",
    "# ignore divide by zero warnings\n",
    "\n",
    "dmap[('R_per_oscillator', 'restacked_ds', 'min', -5, 0, 0, 'viridis', 10, 450)]"
   ]
  },
  {
   "cell_type": "code",
   "execution_count": null,
   "id": "7970b38e-5d7f-4176-be7d-7c7a35ffb51f",
   "metadata": {},
   "outputs": [],
   "source": [
    "%%capture --no-stdout --no-display\n",
    "# ignore divide by zero warnings\n",
    "\n",
    "dmap[('R_per_oscillator', 'restacked_ds', 'min', 5, 0, 0, 'viridis', 10, 450)]"
   ]
  },
  {
   "cell_type": "code",
   "execution_count": null,
   "id": "f9d1c227-d7c0-4e82-b34a-1f6de142d09e",
   "metadata": {},
   "outputs": [],
   "source": [
    "%%capture --no-stdout --no-display\n",
    "# ignore divide by zero warnings\n",
    "\n",
    "dmap[('R_per_oscillator', 'restacked_ds', 'min', 0, 2, 0, 'viridis', 10, 450)]"
   ]
  },
  {
   "cell_type": "code",
   "execution_count": null,
   "id": "1dab4267-0102-4b6b-a8c1-5ba218a4556b",
   "metadata": {},
   "outputs": [],
   "source": [
    "%%capture --no-stdout --no-display\n",
    "# ignore divide by zero warnings\n",
    "\n",
    "dmap[('R_per_oscillator', 'restacked_ds', 'min', -5, 2, 0, 'viridis', 10, 450)]"
   ]
  },
  {
   "cell_type": "code",
   "execution_count": null,
   "id": "622ef71f-24b1-4cb0-b545-ae4cd6f6420c",
   "metadata": {},
   "outputs": [],
   "source": [
    "%%capture --no-stdout --no-display\n",
    "# ignore divide by zero warnings\n",
    "\n",
    "dmap[('R_per_oscillator', 'restacked_ds', 'min', 5, 2, 0, 'viridis', 10, 450)]"
   ]
  },
  {
   "cell_type": "code",
   "execution_count": null,
   "id": "8d627e00-16d6-4c44-b1aa-0adb7860863a",
   "metadata": {},
   "outputs": [],
   "source": [
    "%%capture --no-stdout --no-display\n",
    "# ignore divide by zero warnings\n",
    "\n",
    "angle_dmap[('R_per_oscillator', 'restacked_ds', 'min', 0, 2, 0, 'viridis', 10, 450, 75)]"
   ]
  },
  {
   "cell_type": "code",
   "execution_count": null,
   "id": "54cc8f85-d940-4cd6-a3b8-6540c89bba2e",
   "metadata": {},
   "outputs": [],
   "source": [
    "%%capture --no-stdout --no-display\n",
    "# ignore divide by zero warnings\n",
    "\n",
    "angle_dmap[('R_per_oscillator', 'restacked_ds', 'min', -5, 2, 0, 'viridis', 10, 450, 75)]"
   ]
  },
  {
   "cell_type": "code",
   "execution_count": null,
   "id": "71ccc371-bd09-4652-891d-0b8e87458876",
   "metadata": {},
   "outputs": [],
   "source": [
    "%%capture --no-stdout --no-display\n",
    "# ignore divide by zero warnings\n",
    "\n",
    "angle_dmap[('R_per_oscillator', 'restacked_ds', 'min', 5, 2, 0, 'viridis', 10, 450, 75)]"
   ]
  },
  {
   "cell_type": "markdown",
   "id": "5d59115f-2d6f-4986-b96b-796833cdd9a2",
   "metadata": {},
   "source": [
    "#### Angle behaviour"
   ]
  },
  {
   "cell_type": "markdown",
   "id": "5ba3d06d-5063-4d4e-be40-402768c5d5f5",
   "metadata": {
    "tags": []
   },
   "source": [
    "##### At 30 degrees"
   ]
  },
  {
   "cell_type": "code",
   "execution_count": null,
   "id": "f2798da3-73e8-40b3-90c5-5a94c3667a62",
   "metadata": {},
   "outputs": [],
   "source": [
    "%%capture --no-stdout --no-display\n",
    "# ignore divide by zero warnings\n",
    "\n",
    "angle_dmap[('R_per_oscillator', 'restacked_ds', 'max', 0, 2, 30, 'viridis', 10, 450, 0)]"
   ]
  },
  {
   "cell_type": "code",
   "execution_count": null,
   "id": "01395f65-3c22-4707-94e8-015ae01c9490",
   "metadata": {},
   "outputs": [],
   "source": [
    "%%capture --no-stdout --no-display\n",
    "# ignore divide by zero warnings\n",
    "\n",
    "angle_dmap[('R_per_oscillator', 'restacked_ds', 'max', -5, 2, 30, 'viridis', 10, 450, 0)]"
   ]
  },
  {
   "cell_type": "code",
   "execution_count": null,
   "id": "21f281fd-93b0-4876-8bf4-ade310c846dc",
   "metadata": {},
   "outputs": [],
   "source": [
    "%%capture --no-stdout --no-display\n",
    "# ignore divide by zero warnings\n",
    "\n",
    "angle_dmap[('R_per_oscillator', 'restacked_ds', 'max', 5, 2, 30, 'viridis', 10, 450, 0)]"
   ]
  },
  {
   "cell_type": "markdown",
   "id": "3e79f5f2-cd49-43b0-8a0c-35787278edda",
   "metadata": {
    "tags": []
   },
   "source": [
    "##### Integrating (angle only)"
   ]
  },
  {
   "cell_type": "code",
   "execution_count": null,
   "id": "932397f2-1adf-4451-8ada-beb1afa56ce7",
   "metadata": {},
   "outputs": [],
   "source": [
    "%%capture --no-stdout --no-display\n",
    "# ignore divide by zero warnings\n",
    "\n",
    "angle_dmap[('R_per_oscillator', 'restacked_ds', 'max', 0, 0, 0, 'viridis', 10, 450, 75)]"
   ]
  },
  {
   "cell_type": "code",
   "execution_count": null,
   "id": "883b6bdd-f1f5-4a08-b6fd-35753d8e3c5f",
   "metadata": {},
   "outputs": [],
   "source": [
    "%%capture --no-stdout --no-display\n",
    "# ignore divide by zero warnings\n",
    "\n",
    "angle_dmap[('R_per_oscillator', 'restacked_ds', 'max', -5, 0, 0, 'viridis', 10, 450, 75)]"
   ]
  },
  {
   "cell_type": "code",
   "execution_count": null,
   "id": "b045dd33-237e-4b63-ae3d-8d73c96ccd25",
   "metadata": {},
   "outputs": [],
   "source": [
    "%%capture --no-stdout --no-display\n",
    "# ignore divide by zero warnings\n",
    "\n",
    "angle_dmap[('R_per_oscillator', 'restacked_ds', 'max', 5, 0, 0, 'viridis', 10, 450, 75)]"
   ]
  },
  {
   "cell_type": "markdown",
   "id": "9c3f3d35-15b2-4754-9483-7ec59fbc44c1",
   "metadata": {
    "tags": []
   },
   "source": [
    "##### Integrating (angle and wavelength)"
   ]
  },
  {
   "cell_type": "code",
   "execution_count": null,
   "id": "4a31df01-5969-4596-945c-a77737df8446",
   "metadata": {},
   "outputs": [],
   "source": [
    "%%capture --no-stdout --no-display\n",
    "# ignore divide by zero warnings\n",
    "\n",
    "angle_dmap[('R_per_oscillator', 'restacked_ds', 'max', 0, 2, 0, 'viridis', 10, 450, 75)]"
   ]
  },
  {
   "cell_type": "code",
   "execution_count": null,
   "id": "f3abb019-71ac-422c-ba14-862b2896df51",
   "metadata": {},
   "outputs": [],
   "source": [
    "%%capture --no-stdout --no-display\n",
    "# ignore divide by zero warnings\n",
    "\n",
    "angle_dmap[('R_per_oscillator', 'restacked_ds', 'max', -5, 2, 0, 'viridis', 10, 450, 75)]"
   ]
  },
  {
   "cell_type": "code",
   "execution_count": null,
   "id": "50929264-4d1f-4c16-84f7-9b12df76b576",
   "metadata": {},
   "outputs": [],
   "source": [
    "%%capture --no-stdout --no-display\n",
    "# ignore divide by zero warnings\n",
    "\n",
    "angle_dmap[('R_per_oscillator', 'restacked_ds', 'max', 5, 2, 0, 'viridis', 10, 450, 75)]"
   ]
  },
  {
   "cell_type": "markdown",
   "id": "6db30bae-7a3a-4e0d-a92e-d42360166b89",
   "metadata": {
    "tags": []
   },
   "source": [
    "##### Integrating (angle and *wide* wavelength)"
   ]
  },
  {
   "cell_type": "code",
   "execution_count": null,
   "id": "c615178f-57f0-4f79-9a62-4febb2d4c1db",
   "metadata": {},
   "outputs": [],
   "source": [
    "%%capture --no-stdout --no-display\n",
    "# ignore divide by zero warnings\n",
    "\n",
    "angle_dmap[('R_per_oscillator', 'restacked_ds', 'max', 0, 8, 0, 'viridis', 10, 450, 75)]"
   ]
  },
  {
   "cell_type": "code",
   "execution_count": null,
   "id": "25decbfc-a18a-4962-a979-15f9bc58fda4",
   "metadata": {},
   "outputs": [],
   "source": [
    "%%capture --no-stdout --no-display\n",
    "# ignore divide by zero warnings\n",
    "\n",
    "angle_dmap[('R_per_oscillator', 'restacked_ds', 'max', -5, 8, 0, 'viridis', 10, 450, 75)]"
   ]
  },
  {
   "cell_type": "markdown",
   "id": "e336daa3-3795-4aeb-b9d4-07e375d55e58",
   "metadata": {
    "jp-MarkdownHeadingCollapsed": true,
    "tags": []
   },
   "source": [
    "### Optimal structures for transmittance per oscillator"
   ]
  },
  {
   "cell_type": "markdown",
   "id": "3e1eb299-89e6-4329-b1d2-1cfb79e91fa2",
   "metadata": {
    "tags": []
   },
   "source": [
    "#### Maximum"
   ]
  },
  {
   "cell_type": "markdown",
   "id": "34dd52bc-b102-4f52-b888-8c9de6e5934e",
   "metadata": {},
   "source": [
    "Obviously, the maximum transmittance per oscillator occurs when there is the minimum possible amount of absorbing material present."
   ]
  },
  {
   "cell_type": "markdown",
   "id": "a4758977-7438-4061-90d3-a7da657d78c2",
   "metadata": {
    "tags": []
   },
   "source": [
    "#### Minimum"
   ]
  },
  {
   "cell_type": "markdown",
   "id": "e2f56391-5217-490d-8905-e9208a87ce2f",
   "metadata": {},
   "source": [
    "Obviously, the minimum transmittance per oscillator occurs when there is lots of absorbing material present. However, even near the resonance, photonic effects can play a role with a wider window. Far from the resonance, photonic effects dominate over intrinsic absorptance.\n",
    "\n",
    "What is not entirely obvious is that minimising transmittance per oscillator is *not* the same as maximising the sum of (reflectance per oscillator) and (absorptance per oscillator). The latter will tend to produce optima in the intermediate region. I might get onto doing calculations of this at some point, but it's not as useful as it may appear because in a real situation, you would need to know how to weight the relative importance of these two metrics."
   ]
  },
  {
   "cell_type": "code",
   "execution_count": null,
   "id": "65f93577-46ef-4078-909a-a385928168ba",
   "metadata": {},
   "outputs": [],
   "source": [
    "%%capture --no-stdout --no-display\n",
    "# ignore divide by zero warnings\n",
    "\n",
    "dmap[('T_per_oscillator', 'restacked_ds', 'min', 0, 6, 0, 'cividis', 10, 450)]"
   ]
  },
  {
   "cell_type": "code",
   "execution_count": null,
   "id": "c427a03b-5b5b-4a24-9532-f8628ba772b5",
   "metadata": {},
   "outputs": [],
   "source": [
    "%%capture --no-stdout --no-display\n",
    "# ignore divide by zero warnings\n",
    "\n",
    "dmap[('T_per_oscillator', 'restacked_ds', 'min', -8, 0, 0, 'cividis', 10, 450)]"
   ]
  },
  {
   "cell_type": "code",
   "execution_count": null,
   "id": "6b10027b-7e69-46d1-aa52-65cd71e6c302",
   "metadata": {},
   "outputs": [],
   "source": [
    "%%capture --no-stdout --no-display\n",
    "# ignore divide by zero warnings\n",
    "\n",
    "dmap[('T_per_oscillator', 'restacked_ds', 'min', -8, 6, 0, 'cividis', 10, 450)]"
   ]
  },
  {
   "cell_type": "code",
   "execution_count": null,
   "id": "07eb7923-c018-44b5-b99d-b78e75ccf824",
   "metadata": {},
   "outputs": [],
   "source": [
    "%%capture --no-stdout --no-display\n",
    "# ignore divide by zero warnings\n",
    "\n",
    "dmap[('T_per_oscillator', 'restacked_ds', 'min', 4, 4, 0, 'cividis', 10, 450)]"
   ]
  },
  {
   "cell_type": "markdown",
   "id": "bc5e2153-a101-469e-9ba8-b13db5cb10b5",
   "metadata": {
    "jp-MarkdownHeadingCollapsed": true,
    "tags": []
   },
   "source": [
    "### Optimal structures for absorptance per oscillator"
   ]
  },
  {
   "cell_type": "markdown",
   "id": "3252ffc4-b732-45cd-9a76-7c3536d489ec",
   "metadata": {
    "jp-MarkdownHeadingCollapsed": true,
    "tags": []
   },
   "source": [
    "#### Maximum"
   ]
  },
  {
   "cell_type": "markdown",
   "id": "fc89a9ba-a7f4-45db-ae35-878d18a40f60",
   "metadata": {},
   "source": [
    "Near the LO resonance, the maximum absorptance per oscillator comes with almost the minimum amount of absorbing material - photonic effects aren't helpful beyond the slight absorption increase that comes from having two layers rather than one. However, further from the resonance (at least -4 linewidths below or 2 above) there is the possibility of improving absorptance per oscillator using the photonic structure."
   ]
  },
  {
   "cell_type": "code",
   "execution_count": null,
   "id": "65092fa9-2de1-4f89-bbd1-60c0598394e3",
   "metadata": {},
   "outputs": [],
   "source": [
    "%%capture --no-stdout --no-display\n",
    "# ignore divide by zero warnings\n",
    "\n",
    "dmap[('A_per_oscillator', 'restacked_ds', 'max', 0, 0, 0, 'inferno', 10, 450)]"
   ]
  },
  {
   "cell_type": "code",
   "execution_count": null,
   "id": "09e7a8ec-6e5f-40d8-94d3-be97272a445a",
   "metadata": {},
   "outputs": [],
   "source": [
    "%%capture --no-stdout --no-display\n",
    "# ignore divide by zero warnings\n",
    "\n",
    "dmap[('A_per_oscillator', 'restacked_ds', 'max', -4, 0, 0, 'inferno', 10, 450)]"
   ]
  },
  {
   "cell_type": "code",
   "execution_count": null,
   "id": "6c86d9ca-c144-46e5-9543-ff7ed4f98b60",
   "metadata": {},
   "outputs": [],
   "source": [
    "%%capture --no-stdout --no-display\n",
    "# ignore divide by zero warnings\n",
    "\n",
    "dmap[('A_per_oscillator', 'restacked_ds', 'max', -8, 0, 0, 'inferno', 10, 450)]"
   ]
  },
  {
   "cell_type": "code",
   "execution_count": null,
   "id": "c525aacd-f7d5-425d-b68e-53df9070a175",
   "metadata": {},
   "outputs": [],
   "source": [
    "%%capture --no-stdout --no-display\n",
    "# ignore divide by zero warnings\n",
    "\n",
    "dmap[('A_per_oscillator', 'restacked_ds', 'max', 2, 0, 0, 'inferno', 10, 450)]"
   ]
  },
  {
   "cell_type": "code",
   "execution_count": null,
   "id": "532c2b93-d5f6-4428-9043-405251494922",
   "metadata": {},
   "outputs": [],
   "source": [
    "%%capture --no-stdout --no-display\n",
    "# ignore divide by zero warnings\n",
    "\n",
    "dmap[('A_per_oscillator', 'restacked_ds', 'max', 4, 0, 0, 'inferno', 10, 450)]"
   ]
  },
  {
   "cell_type": "code",
   "execution_count": null,
   "id": "5affc847-f47a-4c3b-a5a1-59ec3427ba7c",
   "metadata": {},
   "outputs": [],
   "source": [
    "%%capture --no-stdout --no-display\n",
    "# ignore divide by zero warnings\n",
    "\n",
    "dmap[('A_per_oscillator', 'restacked_ds', 'max', 8, 0, 0, 'inferno', 10, 450)]"
   ]
  },
  {
   "cell_type": "markdown",
   "id": "c23678fd-fd3a-4984-bcbb-8caf40daba8b",
   "metadata": {
    "jp-MarkdownHeadingCollapsed": true,
    "tags": []
   },
   "source": [
    "#### Maximum over a window"
   ]
  },
  {
   "cell_type": "markdown",
   "id": "7aefcd60-e56e-4bf3-9800-534c1c8e5f85",
   "metadata": {},
   "source": [
    "The absorptance per oscillator is still not improved over window centred on the resonance, even when the window includes wavelengths where a photonic enhancement is possible. Further from the resonance, widening the window generally moves the optimum to higher layer thicknesses and lower numbers of periods, similarly to reflectance per oscillator. This is related to the idea of widening the range of photonic effects at the expense of their magnitude.\n",
    "\n",
    "The photonic enhancement 'washes out' faster on the blue side of the resonance, because the region of absorption enhancement due to the slow light effect doesn't extend very far with low RI contrast. On the red side, the photonic enhancement is evident over wider windows. However, when considering regions very far from the LO resonance, where the intrinsic absorption of the CRS is very low, it is possible for high reflectance to coexist with a (marginally) higher absorptance per oscillator and some degree of absorption enhancement - see plot at -10 linewidths over a window of radius 5."
   ]
  },
  {
   "cell_type": "code",
   "execution_count": null,
   "id": "14c78d70-1798-4ecf-a3ad-3fac68d6b88a",
   "metadata": {},
   "outputs": [],
   "source": [
    "%%capture --no-stdout --no-display\n",
    "# ignore divide by zero warnings\n",
    "\n",
    "# this would be better if the window size was 8\n",
    "# dmap[('A_per_oscillator', 'restacked_ds', 'max', 0, 4, 0, 'inferno', 10, 450)]"
   ]
  },
  {
   "cell_type": "code",
   "execution_count": null,
   "id": "02e823f3-d0db-42f9-9cb3-81401b1d5a38",
   "metadata": {},
   "outputs": [],
   "source": [
    "%%capture --no-stdout --no-display\n",
    "# ignore divide by zero warnings\n",
    "\n",
    "dmap[('A_per_oscillator', 'restacked_ds', 'max', -4, 1, 0, 'inferno', 10, 450)]"
   ]
  },
  {
   "cell_type": "code",
   "execution_count": null,
   "id": "65ccfb5a-b9ff-45b4-be47-b715c52a53c1",
   "metadata": {},
   "outputs": [],
   "source": [
    "%%capture --no-stdout --no-display\n",
    "# ignore divide by zero warnings\n",
    "\n",
    "dmap[('A_per_oscillator', 'restacked_ds', 'max', -4, 2, 0, 'inferno', 10, 450)]"
   ]
  },
  {
   "cell_type": "code",
   "execution_count": null,
   "id": "5cc9822d-3925-4b2f-b706-c7dcc3af78fd",
   "metadata": {},
   "outputs": [],
   "source": [
    "%%capture --no-stdout --no-display\n",
    "# ignore divide by zero warnings\n",
    "\n",
    "dmap[('A_per_oscillator', 'restacked_ds', 'max', -5, 2, 0, 'inferno', 10, 450)]"
   ]
  },
  {
   "cell_type": "code",
   "execution_count": null,
   "id": "59a019bb-36d9-4d51-b583-8aa4880c8f50",
   "metadata": {},
   "outputs": [],
   "source": [
    "%%capture --no-stdout --no-display\n",
    "# ignore divide by zero warnings\n",
    "\n",
    "dmap[('A_per_oscillator', 'restacked_ds', 'max', -8, 1, 0, 'inferno', 10, 450)]"
   ]
  },
  {
   "cell_type": "code",
   "execution_count": null,
   "id": "b0c3e473-9670-4dfc-bd33-bbf76986fc3f",
   "metadata": {},
   "outputs": [],
   "source": [
    "%%capture --no-stdout --no-display\n",
    "# ignore divide by zero warnings\n",
    "\n",
    "dmap[('A_per_oscillator', 'restacked_ds', 'max', -10, 5, 0, 'inferno', 10, 450)]"
   ]
  },
  {
   "cell_type": "code",
   "execution_count": null,
   "id": "c6ceb945-8382-4851-9baa-ff44b6abd60f",
   "metadata": {},
   "outputs": [],
   "source": [
    "%%capture --no-stdout --no-display\n",
    "# ignore divide by zero warnings\n",
    "\n",
    "dmap[('A_per_oscillator', 'restacked_ds', 'max', 4, 3, 0, 'inferno', 10, 450)]"
   ]
  },
  {
   "cell_type": "code",
   "execution_count": null,
   "id": "941e7a7e-96a9-41ff-87e4-89f063f59544",
   "metadata": {},
   "outputs": [],
   "source": [
    "%%capture --no-stdout --no-display\n",
    "# ignore divide by zero warnings\n",
    "\n",
    "dmap[('A_per_oscillator', 'restacked_ds', 'max', 5, 2, 0, 'inferno', 10, 450)]"
   ]
  },
  {
   "cell_type": "code",
   "execution_count": null,
   "id": "109bd9ef-4589-4f04-8938-810ac69dec74",
   "metadata": {},
   "outputs": [],
   "source": [
    "%%capture --no-stdout --no-display\n",
    "# ignore divide by zero warnings\n",
    "\n",
    "dmap[('A_per_oscillator', 'restacked_ds', 'max', 6, 2, 0, 'inferno', 10, 450)]"
   ]
  },
  {
   "cell_type": "code",
   "execution_count": null,
   "id": "93ab431a-594b-4628-b164-09a013ee2e3b",
   "metadata": {},
   "outputs": [],
   "source": [
    "%%capture --no-stdout --no-display\n",
    "# ignore divide by zero warnings\n",
    "\n",
    "dmap[('A_per_oscillator', 'restacked_ds', 'max', 7, 1, 0, 'inferno', 10, 450)]"
   ]
  },
  {
   "cell_type": "markdown",
   "id": "acb6c83c-8b94-4884-a22b-2c1e68c9203a",
   "metadata": {
    "tags": []
   },
   "source": [
    "#### Minimum"
   ]
  },
  {
   "cell_type": "markdown",
   "id": "3260c625-e053-46f4-8495-07d11082a0f7",
   "metadata": {},
   "source": [
    "To minimise the absorptance per oscillator, the strategy is to maximise the amount of material and lay a PBG over the target wavelength range. The reduction in absorptance caused by the PBG can be more significant than the reduction in oscillator number from having thicker layers, but the number of layers is always high."
   ]
  },
  {
   "cell_type": "code",
   "execution_count": null,
   "id": "f6022f30-7a6d-4779-9679-139e828330f2",
   "metadata": {},
   "outputs": [],
   "source": [
    "%%capture --no-stdout --no-display\n",
    "# ignore divide by zero warnings\n",
    "\n",
    "dmap[('A_per_oscillator', 'restacked_ds', 'min', 0, 2, 0, 'inferno', 10, 450)]"
   ]
  },
  {
   "cell_type": "code",
   "execution_count": null,
   "id": "220f0f5b-2575-4162-811e-37baae805888",
   "metadata": {},
   "outputs": [],
   "source": [
    "%%capture --no-stdout --no-display\n",
    "# ignore divide by zero warnings\n",
    "\n",
    "dmap[('A_per_oscillator', 'restacked_ds', 'min', 4, 0, 0, 'inferno', 10, 450)]"
   ]
  },
  {
   "cell_type": "markdown",
   "id": "e68357a6-d375-480a-8530-90393018ca7c",
   "metadata": {},
   "source": [
    "#### Angle behaviour"
   ]
  },
  {
   "cell_type": "markdown",
   "id": "5fb8a822-2dec-4b9e-83a0-06c932bff3fd",
   "metadata": {
    "jp-MarkdownHeadingCollapsed": true,
    "tags": []
   },
   "source": [
    "##### At 30 degrees"
   ]
  },
  {
   "cell_type": "markdown",
   "id": "83083124-af3a-4017-b2b8-60f18c6688bc",
   "metadata": {},
   "source": [
    "The optimal period is higher than at normal incidence."
   ]
  },
  {
   "cell_type": "code",
   "execution_count": null,
   "id": "df5450c7-5c05-4191-a30b-f6c42b72bd1c",
   "metadata": {},
   "outputs": [],
   "source": [
    "%%capture --no-stdout --no-display\n",
    "# ignore divide by zero warnings\n",
    "\n",
    "angle_dmap[('A_per_oscillator', 'restacked_ds', 'max', 0, 2, 30, 'inferno', 10, 450, 0)]"
   ]
  },
  {
   "cell_type": "code",
   "execution_count": null,
   "id": "c4a08395-5cde-4d68-8238-629aa1260213",
   "metadata": {},
   "outputs": [],
   "source": [
    "%%capture --no-stdout --no-display\n",
    "# ignore divide by zero warnings\n",
    "\n",
    "angle_dmap[('A_per_oscillator', 'restacked_ds', 'max', -5, 2, 30, 'inferno', 10, 450, 0)]"
   ]
  },
  {
   "cell_type": "code",
   "execution_count": null,
   "id": "491ab3f6-69c4-40f8-9def-4a9ccca44ec9",
   "metadata": {},
   "outputs": [],
   "source": [
    "%%capture --no-stdout --no-display\n",
    "# ignore divide by zero warnings\n",
    "\n",
    "angle_dmap[('A_per_oscillator', 'restacked_ds', 'max', 5, 2, 30, 'inferno', 10, 450, 0)]"
   ]
  },
  {
   "cell_type": "markdown",
   "id": "ebb94b34-893b-47e9-93d0-4e66eab4ff49",
   "metadata": {},
   "source": [
    "##### Integrating"
   ]
  },
  {
   "cell_type": "markdown",
   "id": "72874a7f-8917-4ae9-acc2-9c9a8248b12e",
   "metadata": {},
   "source": [
    "The photonic advantage disappears because it is localised to a particular angle/wavelength range."
   ]
  },
  {
   "cell_type": "code",
   "execution_count": null,
   "id": "0aed56d7-e5dd-4cd8-959e-2aaa31f9db5f",
   "metadata": {},
   "outputs": [],
   "source": [
    "%%capture --no-stdout --no-display\n",
    "# ignore divide by zero warnings\n",
    "\n",
    "angle_dmap[('A_per_oscillator', 'restacked_ds', 'max', 0, 2, 0, 'inferno', 10, 450, 75)]"
   ]
  },
  {
   "cell_type": "code",
   "execution_count": null,
   "id": "c6980e27-c361-46dc-ab15-572ef56c59ce",
   "metadata": {},
   "outputs": [],
   "source": [
    "%%capture --no-stdout --no-display\n",
    "# ignore divide by zero warnings\n",
    "\n",
    "angle_dmap[('A_per_oscillator', 'restacked_ds', 'max', -5, 2, 0, 'inferno', 10, 450, 75)]"
   ]
  },
  {
   "cell_type": "code",
   "execution_count": null,
   "id": "235bb066-a3d5-4d30-88eb-c1e5c8e76722",
   "metadata": {
    "tags": []
   },
   "outputs": [],
   "source": [
    "%%capture --no-stdout --no-display\n",
    "# ignore divide by zero warnings\n",
    "\n",
    "angle_dmap[('A_per_oscillator', 'restacked_ds', 'max', 5, 2, 0, 'inferno', 10, 450, 75)]"
   ]
  },
  {
   "cell_type": "markdown",
   "id": "ce326f89-e9e3-46e0-bf73-9c99faff4d8d",
   "metadata": {
    "jp-MarkdownHeadingCollapsed": true,
    "tags": []
   },
   "source": [
    "## Enhancement factors"
   ]
  },
  {
   "cell_type": "markdown",
   "id": "d48df85f-e8a6-49c4-a75e-f3b99be4b4ed",
   "metadata": {
    "jp-MarkdownHeadingCollapsed": true,
    "tags": []
   },
   "source": [
    "### Investigation"
   ]
  },
  {
   "cell_type": "code",
   "execution_count": null,
   "id": "ad288a3c-af26-4ad1-9cf2-f74d33707fdf",
   "metadata": {},
   "outputs": [],
   "source": [
    "# Plot absorptance enhancement factor as a function of wavelength and passive layer thickness for a choice of excitonic layer thickness, theta, and number of periods\n",
    "\n",
    "sel = norm_1.drop_sel(excitonic_layer_thickness=0).interactive(loc=\"left\")\n",
    "\n",
    "xs_1D = {\n",
    "    \"excitonic_layer_thickness\": pnw.DiscreteSlider,\n",
    "    \"theta\": pnw.DiscreteSlider,\n",
    "    \"num_periods\": pnw.DiscreteSlider,\n",
    "    \"passive_layer_thickness\": pnw.DiscreteSlider,\n",
    "}\n",
    "\n",
    "sel_1 = sel.sel(**xs_1D).squeeze()\n",
    "\n",
    "# Get a handle on the widgets\n",
    "widgets = {k: w for k, w in zip(xs_1D, sel_1.widgets())}\n",
    "\n",
    "xs_2D = {k: w for k, w in widgets.items() if k not in {\"passive_layer_thickness\"}}\n",
    "sel_2 = sel.sel(**xs_2D).squeeze()\n",
    "\n",
    "(\n",
    "    sel_1.A.hvplot(x=\"wavelength\", ylim=(0.5, 1.5))\n",
    "    * hv.HLine(1).opts(opts.HLine(line_dash=\"dotted\"))\n",
    "    + sel_2.A.hvplot(x=\"wavelength\", y=\"passive_layer_thickness\", clim=(0.7, 1.3), cmap=\"RdBu_r\")\n",
    "    # * hv.DynamicMap(lambda y: hv.HLine(y), streams={\"y\": widgets[\"passive_layer_thickness\"].param.value})\n",
    ").cols(1)"
   ]
  },
  {
   "cell_type": "code",
   "execution_count": null,
   "id": "5280db80-d4e0-4c83-9c46-ca93690258c3",
   "metadata": {
    "tags": []
   },
   "outputs": [],
   "source": [
    "# Plot absorptance enhancement factor as a function of wavelength and *period* for a choice of excitonic layer thickness, theta, and number of periods\n",
    "\n",
    "sel = restacked_norm_1.drop_sel(excitonic_layer_thickness=0).interactive(loc=\"left\")\n",
    "\n",
    "xs_1D = {\n",
    "    \"excitonic_layer_thickness\": pnw.DiscreteSlider,\n",
    "    \"theta\": pnw.DiscreteSlider,\n",
    "    \"num_periods\": pnw.DiscreteSlider,\n",
    "    \"period\": pnw.DiscreteSlider,\n",
    "}\n",
    "\n",
    "sel_1 = sel.sel(**xs_1D).squeeze()\n",
    "\n",
    "# Get a handle on the widgets\n",
    "widgets = {k: w for k, w in zip(xs_1D, sel_1.widgets())}\n",
    "\n",
    "xs_2D = {k: w for k, w in widgets.items() if k not in {\"period\"}}\n",
    "sel_2 = sel.sel(**xs_2D).squeeze()\n",
    "\n",
    "(\n",
    "    sel_1.A.hvplot(x=\"wavelength\", ylim=(0.5, 1.5))\n",
    "    * hv.HLine(1).opts(opts.HLine(line_dash=\"dotted\"))\n",
    "    + sel_2.A.dropna(\"period\").hvplot(x=\"wavelength\", y=\"period\", clim=(0.7, 1.3), cmap=\"RdBu_r\")\n",
    ").cols(1)"
   ]
  },
  {
   "cell_type": "code",
   "execution_count": null,
   "id": "a509601f-2025-4890-8afa-9d0f0aac42d2",
   "metadata": {},
   "outputs": [],
   "source": [
    "# Plot absorptance enhancement factor as a function of wavelength and *number of periods* for a choice of excitonic layer thickness, theta, and period\n",
    "\n",
    "sel = restacked_norm_1.drop_sel(excitonic_layer_thickness=0).interactive(loc=\"left\")\n",
    "\n",
    "xs_1D = {\n",
    "    \"excitonic_layer_thickness\": pnw.DiscreteSlider,\n",
    "    \"theta\": pnw.DiscreteSlider,\n",
    "    \"num_periods\": pnw.DiscreteSlider,\n",
    "    \"period\": pnw.DiscreteSlider,\n",
    "}\n",
    "\n",
    "sel_1 = sel.sel(**xs_1D).squeeze()\n",
    "\n",
    "# Get a handle on the widgets\n",
    "widgets = {k: w for k, w in zip(xs_1D, sel_1.widgets())}\n",
    "\n",
    "xs_2D = {k: w for k, w in widgets.items() if k not in {\"num_periods\"}}\n",
    "sel_2 = sel.sel(**xs_2D).squeeze()\n",
    "\n",
    "(\n",
    "    sel_1.A.hvplot(x=\"wavelength\", ylim=(0.5, 1.5))\n",
    "    * hv.HLine(1).opts(opts.HLine(line_dash=\"dotted\"))\n",
    "    + sel_2.A.hvplot.quadmesh(x=\"wavelength\", y=\"num_periods\", clim=(0.3, 1.7), cmap=\"RdBu_r\")\n",
    ").cols(1)"
   ]
  },
  {
   "cell_type": "code",
   "execution_count": null,
   "id": "001bdb06-dcf1-460a-80f1-f5a37a363df5",
   "metadata": {},
   "outputs": [],
   "source": [
    "with dask.config.set(**{'array.slicing.split_large_chunks': False}):\n",
    "    crs_1_like_ds = (\n",
    "        crs_1#.drop(\"passive_layer_thickness\")\n",
    "        .expand_dims(passive_layer_thickness=ds.passive_layer_thickness)\n",
    "        .sel(total_excitonic_thickness=ds.total_excitonic_thickness)\n",
    "    )"
   ]
  },
  {
   "cell_type": "code",
   "execution_count": null,
   "id": "2e9540ca-eb84-431a-98ab-af6a9eaa79d5",
   "metadata": {},
   "outputs": [],
   "source": [
    "crs_1_like_ds = assign_derived_attrs(\n",
    "    crs_1_like_ds,\n",
    "    absorption=False,\n",
    "    unpolarised=False,\n",
    "    period=True,\n",
    "    total_excitonic_thickness=False,\n",
    "    total_passive_thickness=False,\n",
    "    total_thickness=False,\n",
    "    N_tot=False,\n",
    ")"
   ]
  },
  {
   "cell_type": "code",
   "execution_count": null,
   "id": "457f77b5-54fc-4eb7-81c4-9e8d5c6c18bb",
   "metadata": {},
   "outputs": [],
   "source": [
    "with dask.config.set(**{\"array.slicing.split_large_chunks\": False}):\n",
    "    restacked_crs_1 = (\n",
    "        crs_1_like_ds.stack(\n",
    "            multiperiod=[\"passive_layer_thickness\", \"excitonic_layer_thickness\"]\n",
    "        )\n",
    "        .set_index(multiperiod=[\"period\", \"excitonic_layer_thickness\"])\n",
    "        .unstack()\n",
    "    )"
   ]
  },
  {
   "cell_type": "code",
   "execution_count": null,
   "id": "4ffa05f9-67ef-45f4-8e33-eba243165abf",
   "metadata": {},
   "outputs": [],
   "source": [
    "# Workaround to the bug below: pull the widget values directly\n",
    "widget_vals = {k: v.value for k, v in widgets.items()}\n",
    "\n",
    "curve_1 = (\n",
    "    restacked_ds.sel(**widget_vals).squeeze().A.hvplot(x=\"wavelength\", ylim=(0, 1), label=\"A\", group_label=\"LOPC\")\n",
    ")\n",
    "\n",
    "curve_11 = (\n",
    "    restacked_ds.sel(**widget_vals).squeeze().R.hvplot(x=\"wavelength\", ylim=(0, 1), label=\"R\", group_label=\"LOPC\")\n",
    ")\n",
    "\n",
    "curve_2 = (\n",
    "    restacked_crs_1.sel(**widget_vals).squeeze().A.hvplot(x=\"wavelength\", ylim=(0, 1), label=\"A\", group_label=\"CRS\")\n",
    ").opts(line_dash=\"dashed\")\n",
    "\n",
    "curve_21 = (\n",
    "    restacked_crs_1.sel(**widget_vals).squeeze().R.hvplot(x=\"wavelength\", ylim=(0, 1), label=\"R\", group_label=\"CRS\")\n",
    ").opts(line_dash=\"dashed\")\n",
    "\n",
    "curve_3 = (\n",
    "    (restacked_ds.sel(**widget_vals) / restacked_crs_1.sel(**widget_vals))\n",
    "    .squeeze()\n",
    "    .A.hvplot(x=\"wavelength\", ylim=(0.5, 1.5))\n",
    ")\n",
    "\n",
    "((curve_1 * curve_11 *curve_2 * curve_21) + curve_3 * hv.HLine(1).opts(line_dash=\"dashed\")).cols(1).opts(\n",
    "    shared_axes=False\n",
    ")"
   ]
  },
  {
   "cell_type": "markdown",
   "id": "95fdfc8d-5b37-402b-b2f9-ed619825c290",
   "metadata": {
    "tags": []
   },
   "source": [
    "### Optimisation"
   ]
  },
  {
   "cell_type": "code",
   "execution_count": null,
   "id": "0e2085fe-fa89-4935-b9fa-7ffaaa36deb1",
   "metadata": {
    "tags": []
   },
   "outputs": [],
   "source": [
    "def wrapped_2D_ef_plot(\n",
    "    variable,\n",
    "    dataset,\n",
    "    ref,\n",
    "    optimise=\"max\",\n",
    "    lorentz_line=0,\n",
    "    window_radius=0,\n",
    "    theta=0,\n",
    "    cmap=\"viridis\",\n",
    "    period_start=None,\n",
    "    period_stop=None,\n",
    "    integrate_angle: float = None,\n",
    "    extra_plots=[\"RTA_normal\", \"RTA_int\", \"norm_1_normal\", \"norm_1_int\"],\n",
    "    dim=None,  # automatically assign if dataset recognised\n",
    "    restack_ef=None,\n",
    "    common_dim=None,\n",
    "):\n",
    "    plots = []\n",
    "\n",
    "    # detect string labels\n",
    "    if str(dataset) == \"ds\":\n",
    "        # the drop_sel is important for avoiding the most common degenerate cases\n",
    "        dataset = ds.drop_sel({\"excitonic_layer_thickness\": 0})\n",
    "\n",
    "    if str(ref) == \"crs_1\":\n",
    "        ref = crs_1\n",
    "        common_dim = \"total_excitonic_thickness\"\n",
    "\n",
    "    if str(dataset) == \"frs_1\":\n",
    "        ref = frs_1\n",
    "        common_dim = \"total_thickness\"\n",
    "    \n",
    "    match dim:  # if restack is the default value, automatically set it\n",
    "        case \"period\":\n",
    "            restack_ef = True if restack_ef is None else restack_ef\n",
    "        case \"passive_layer_thickness\":\n",
    "            restack_ef = False if restack_ef is None else restack_ef\n",
    "    integration_dims = []\n",
    "    vline_locs = [0]\n",
    "\n",
    "    da = dataset[variable]\n",
    "    ra = ref[variable]\n",
    "\n",
    "    da = select_lorentz_line(da, lorentz_line=lorentz_line, window_radius=window_radius)\n",
    "    ra = select_lorentz_line(ra, lorentz_line=lorentz_line, window_radius=window_radius)\n",
    "\n",
    "    if window_radius == 0:\n",
    "        wavelength = float(da.wavelength)\n",
    "        title = f\"{optimise.capitalize()}imum {variable} enhancement factor at {wavelength:.0f} nm\"\n",
    "        if lorentz_line != 0:  # don't put two lines over the resonance\n",
    "            vline_locs.append(lorentz_line)\n",
    "    else:\n",
    "        wavelength_start = float(da.wavelength[0])\n",
    "        wavelength_stop = float(da.wavelength[-1])\n",
    "        title = f\"{optimise.capitalize()}imum integrated {variable} enhancement factor between {wavelength_start:.0f} and {wavelength_stop:.0f} nm\"\n",
    "        vline_locs.append(lorentz_line - window_radius)\n",
    "        vline_locs.append(lorentz_line + window_radius)\n",
    "        integration_dims.append(\"wavelength\")\n",
    "\n",
    "    if integrate_angle:  # integrate angle should be a float\n",
    "        th = (theta, integrate_angle)\n",
    "        da = da.sel(theta=slice(*th))\n",
    "        ra = ra.sel(theta=slice(*th))\n",
    "        integration_dims.append(\"theta\")\n",
    "    else:  # this includes if integrate_angle==0, which is hacky but fine\n",
    "        da = da.sel(theta=theta, method=\"nearest\")\n",
    "        ra = ra.sel(theta=theta, method=\"nearest\")\n",
    "        th = theta\n",
    "\n",
    "    if integration_dims:  # if the list isn't empty\n",
    "        da = integrate_da(da, integration_dims, weighting=1, normalisation=None)\n",
    "        ra = integrate_da(ra, integration_dims, weighting=1, normalisation=None)\n",
    "\n",
    "    norm = enhancement_factor(ds=da, ref=ra, common_dim=common_dim, method=\"groupby\")\n",
    "\n",
    "    if (\n",
    "        window_radius == 0 and not integrate_angle\n",
    "    ):  # if the precalculated norm_1 dataset will suffice\n",
    "        norm = norm_1[variable].drop_sel({\"excitonic_layer_thickness\": 0})  # then use it instead\n",
    "        norm = select_lorentz_line(norm, lorentz_line=lorentz_line, window_radius=window_radius)\n",
    "        norm = norm.sel(theta=theta, method=\"nearest\")\n",
    "\n",
    "    match restack_ef:\n",
    "        case True:\n",
    "            norm = restack_plt_to_period(norm)\n",
    "\n",
    "    if period_start < period_stop:\n",
    "        norm = norm.sel(period=slice(period_start, period_stop))\n",
    "    else:  # otherwise no data is selected and everything breaks\n",
    "        norm = norm.sel(period=slice(period_start, None))\n",
    "\n",
    "    plot_1, optimum_coords = plot_optimum_over_dim(\n",
    "        norm,\n",
    "        dim=dim,\n",
    "        x=\"excitonic_layer_thickness\",\n",
    "        y=\"num_periods\",\n",
    "        optimise=optimise,\n",
    "    )\n",
    "    ############################################# code above is fresh, below is stale\n",
    "    P = float(optimum_coords[\"period\"])\n",
    "    t = float(optimum_coords[\"excitonic_layer_thickness\"])\n",
    "    N = float(optimum_coords[\"num_periods\"])\n",
    "    # try:  # this should work if not integrating over theta\n",
    "    #     th = float(optimum_coords[\"theta\"])\n",
    "    # except:  # probably the problem is that theta doesn't exist because I integrated over it already\n",
    "    #     th = (theta, integrate_angle)\n",
    "    lorentz_lines = lorentz_vlines(vline_locs, scale=1e-9, mode=\"wavelength\").opts(\n",
    "        opts.VLine(line_color=green, line_dash=\"dotted\"),\n",
    "    )\n",
    "\n",
    "    # give the resonance line a special colour\n",
    "    lorentz_lines.VLine.I.opts(opts.VLine(line_color=yellow))\n",
    "\n",
    "    plot_1.opts(\n",
    "        opts.QuadMesh(cmap=cmap),\n",
    "        opts.Points(color=\"red\"),\n",
    "        opts.Overlay(title=f\"{title}\\nOptimal period: {P:.0f}\"),\n",
    "    )\n",
    "\n",
    "    plots.append(plot_1)\n",
    "\n",
    "    if \"RTA_normal\" in extra_plots:  # plot RTA at theta=0\n",
    "        new_plot = plot_RTA(\n",
    "            period=P, excitonic_layer_thickness=t, num_periods=N, theta=0\n",
    "        )\n",
    "        new_plot *= lorentz_lines\n",
    "\n",
    "        plots.append(new_plot)\n",
    "\n",
    "    if \"RTA_int\" in extra_plots:  # plot RTA at theta OR integrating over theta\n",
    "        new_plot = plot_RTA(\n",
    "            period=P, excitonic_layer_thickness=t, num_periods=N, theta=th\n",
    "        )\n",
    "        new_plot *= lorentz_lines\n",
    "        plots.append(new_plot)\n",
    "\n",
    "    if \"norm_1_normal\" in extra_plots:  # plot enhancement factor at theta=0\n",
    "        sel = {\n",
    "            \"period\": P,\n",
    "            \"excitonic_layer_thickness\": t,\n",
    "            \"num_periods\": N,\n",
    "            \"theta\": 0,\n",
    "        }\n",
    "        new_plot = (\n",
    "            plot_ef(variable=\"A\", dataset=restacked_norm_1, sel=sel) * lorentz_lines\n",
    "        ).opts(opts.Overlay(legend_position=\"bottom_right\"))\n",
    "        plots.append(new_plot)\n",
    "\n",
    "    if (\n",
    "        \"norm_1_int\" in extra_plots\n",
    "    ):  # plot enhancement factor at theta OR integrating over theta\n",
    "        try:  # this should work if not integrating over theta\n",
    "            sel = {\n",
    "                \"period\": P,\n",
    "                \"excitonic_layer_thickness\": t,\n",
    "                \"num_periods\": N,\n",
    "                \"theta\": th,\n",
    "            }\n",
    "            new_plot = (\n",
    "                plot_ef(variable=\"A\", dataset=restacked_norm_1, sel=sel) * lorentz_lines\n",
    "            ).opts(opts.Overlay(legend_position=\"bottom_right\"))\n",
    "        except:  # if integrating, we need to do the integral *before* normalising\n",
    "            ds_int = sel_or_integrate(ds, dim=\"theta\", val=th)\n",
    "            crs_1_int = sel_or_integrate(crs_1, dim=\"theta\", val=th)\n",
    "            norm = enhancement_factor(\n",
    "                ds_int,\n",
    "                ref=crs_1_int,\n",
    "                common_dim=\"total_excitonic_thickness\",\n",
    "                method=\"groupby\",\n",
    "            )\n",
    "            restacked_norm = restack_plt_to_period(norm)\n",
    "\n",
    "            sel = {\"period\": P, \"excitonic_layer_thickness\": t, \"num_periods\": N}\n",
    "            new_plot = (\n",
    "                plot_ef(variable=\"A\", dataset=restacked_norm, sel=sel) * lorentz_lines\n",
    "            ).opts(opts.Overlay(legend_position=\"bottom_right\"))\n",
    "        plots.append(new_plot)\n",
    "\n",
    "    return hv.Layout(plots).cols(1)"
   ]
  },
  {
   "cell_type": "markdown",
   "id": "2f3e7daf-6aff-4ff0-91ec-fcd96f335b29",
   "metadata": {
    "jp-MarkdownHeadingCollapsed": true,
    "tags": []
   },
   "source": [
    "#### Tests"
   ]
  },
  {
   "cell_type": "markdown",
   "id": "954f7d63-41a5-4414-8c4d-9d2ed68677f5",
   "metadata": {},
   "source": [
    "This should give exactly the same output as an equivalent call I could make using `wrapped_2D_plot` and `restacked_norm_1`."
   ]
  },
  {
   "cell_type": "code",
   "execution_count": null,
   "id": "b968d55f-ed60-4dc2-b520-10cb0056b52e",
   "metadata": {},
   "outputs": [],
   "source": [
    "%%capture --no-stdout --no-display\n",
    "# ignore divide by zero warnings\n",
    "\n",
    "layout = wrapped_2D_ef_plot(\n",
    "    \"As\",\n",
    "    ds.drop_sel(excitonic_layer_thickness=0),\n",
    "    crs_1,\n",
    "    optimise=\"max\",\n",
    "    lorentz_line=-3,\n",
    "    window_radius=0,\n",
    "    theta=0,\n",
    "    cmap=\"RdBu_r\",\n",
    "    period_start=0,\n",
    "    period_stop=1000,\n",
    "    integrate_angle=0,\n",
    "    extra_plots=[\"RTA_normal\", \"RTA_int\", \"norm_1_normal\", \"norm_1_int\"\n",
    "                ],\n",
    "    dim=\"period\",  # automatically assign if dataset recognised\n",
    "    restack_ef=None,\n",
    "    common_dim=\"total_excitonic_thickness\",\n",
    ")\n",
    "\n",
    "layout"
   ]
  },
  {
   "cell_type": "markdown",
   "id": "cfdca540-69bb-49f9-8cb6-abfb30c3cc48",
   "metadata": {},
   "source": [
    "Now doing an angle integral, the results diverge.excitonic_layer_thickness"
   ]
  },
  {
   "cell_type": "code",
   "execution_count": null,
   "id": "aaffdc72-d87c-439e-80b6-ebef626b3a0d",
   "metadata": {},
   "outputs": [],
   "source": [
    "%%capture --no-stdout --no-display\n",
    "# ignore divide by zero warnings\n",
    "\n",
    "layout = wrapped_2D_ef_plot(\n",
    "    \"As\",\n",
    "    ds.drop_sel(excitonic_layer_thickness=0),\n",
    "    crs_1,\n",
    "    optimise=\"max\",\n",
    "    lorentz_line=-3,\n",
    "    window_radius=0,\n",
    "    theta=0,\n",
    "    cmap=\"RdBu_r\",\n",
    "    period_start=0,\n",
    "    period_stop=1000,\n",
    "    integrate_angle=50,\n",
    "    extra_plots=[\"RTA_normal\", \"RTA_int\", \"norm_1_normal\", \"norm_1_int\"\n",
    "                ],\n",
    "    dim=\"period\",  # automatically assign if dataset recognised\n",
    "    restack_ef=None,\n",
    "    common_dim=\"total_excitonic_thickness\",\n",
    ")\n",
    "\n",
    "layout"
   ]
  },
  {
   "cell_type": "code",
   "execution_count": null,
   "id": "98586b76-f252-4928-8e9f-db1a3ba0fa39",
   "metadata": {},
   "outputs": [],
   "source": [
    "%%capture --no-stdout --no-display\n",
    "# ignore divide by zero warnings\n",
    "\n",
    "layout = wrapped_2D_plot(\n",
    "    \"As\",\n",
    "    restacked_norm_1.drop_sel(excitonic_layer_thickness=0),\n",
    "    optimise=\"max\",\n",
    "    lorentz_line=-3,\n",
    "    window_radius=0,\n",
    "    theta=0,\n",
    "    cmap=\"RdBu_r\",\n",
    "    period_start=0,\n",
    "    period_stop=1000,\n",
    "    integrate_angle=50,\n",
    "    extra_plots=[\"RTA_normal\", \"RTA_int\", \"norm_1_normal\", \"norm_1_int\"\n",
    "                ],\n",
    "    dim=\"period\",  # automatically assign if dataset recognised\n",
    "    # restack_ef=None,\n",
    "    # common_dim=\"total_excitonic_thickness\",\n",
    ")\n",
    "\n",
    "layout"
   ]
  },
  {
   "cell_type": "markdown",
   "id": "b839da09-9a91-4589-8905-32593d47a60b",
   "metadata": {},
   "source": [
    "Integrating over wavelength too, the divergence is greater."
   ]
  },
  {
   "cell_type": "code",
   "execution_count": null,
   "id": "ab67327e-c01c-4e8b-ac56-30ddfd0a99a9",
   "metadata": {},
   "outputs": [],
   "source": [
    "%%capture --no-stdout --no-display\n",
    "# ignore divide by zero warnings\n",
    "\n",
    "layout = wrapped_2D_ef_plot(\n",
    "    \"As\",\n",
    "    ds.drop_sel(excitonic_layer_thickness=0),\n",
    "    crs_1,\n",
    "    optimise=\"max\",\n",
    "    lorentz_line=-3,\n",
    "    window_radius=2,\n",
    "    theta=0,\n",
    "    cmap=\"RdBu_r\",\n",
    "    period_start=0,\n",
    "    period_stop=1000,\n",
    "    integrate_angle=50,\n",
    "    extra_plots=[\"RTA_normal\", \"RTA_int\", \"norm_1_normal\", \"norm_1_int\"\n",
    "                ],\n",
    "    dim=\"period\",  # automatically assign if dataset recognised\n",
    "    restack_ef=None,\n",
    "    common_dim=\"total_excitonic_thickness\",\n",
    ")\n",
    "\n",
    "layout"
   ]
  },
  {
   "cell_type": "code",
   "execution_count": null,
   "id": "9dc3a747-3693-41f4-b190-6447ff67668a",
   "metadata": {},
   "outputs": [],
   "source": [
    "%%capture --no-stdout --no-display\n",
    "# ignore divide by zero warnings\n",
    "\n",
    "layout = wrapped_2D_plot(\n",
    "    \"As\",\n",
    "    restacked_norm_1.drop_sel(excitonic_layer_thickness=0),\n",
    "    optimise=\"max\",\n",
    "    lorentz_line=-3,\n",
    "    window_radius=2,\n",
    "    theta=0,\n",
    "    cmap=\"RdBu_r\",\n",
    "    period_start=0,\n",
    "    period_stop=1000,\n",
    "    integrate_angle=50,\n",
    "    extra_plots=[\"RTA_normal\", \"RTA_int\", \"norm_1_normal\", \"norm_1_int\"\n",
    "                ],\n",
    "    dim=\"period\",  # automatically assign if dataset recognised\n",
    "    # restack_ef=None,\n",
    "    # common_dim=\"total_excitonic_thickness\",\n",
    ")\n",
    "\n",
    "layout"
   ]
  },
  {
   "cell_type": "markdown",
   "id": "4edd570f-49aa-4e78-9520-0b4e5a59a82b",
   "metadata": {
    "tags": []
   },
   "source": [
    "#### Serious business"
   ]
  },
  {
   "cell_type": "code",
   "execution_count": null,
   "id": "fd4bc898-5721-4e8f-bef0-f009508ccb0d",
   "metadata": {
    "tags": []
   },
   "outputs": [],
   "source": [
    "periods = restacked_ds.period.values[1:-1]\n",
    "# don't set the maximum period to be lower than the maximum excitonic layer thickness, or it will break the plot!\n",
    "safe_periods = restacked_ds.period.sel(\n",
    "    period=slice(restacked_ds.excitonic_layer_thickness.values[-1], None)\n",
    ").values\n",
    "\n",
    "kdims = [\n",
    "    hv.Dimension(\"variable\", values=restacked_norm_1.data_vars),\n",
    "    hv.Dimension(\"dataset\", values=[\"ds\"]),\n",
    "    hv.Dimension(\"ref\", values=[\"crs_1\", \"frs_1\"]),\n",
    "    hv.Dimension(\"optimise\", values=[\"max\", \"min\"]),\n",
    "    hv.Dimension(\"lorentz_line\", range=(-15, 8), default=0),\n",
    "    hv.Dimension(\"window_radius\", range=(0, 8), default=0),\n",
    "    hv.Dimension(\"theta\", range=(0, 86), default=0),\n",
    "    hv.Dimension(\"cmap\", values=[\"viridis\", \"cividis\", \"inferno\", \"PRGn\", \"PuOr_r\", \"RdBu_r\"]),\n",
    "    hv.Dimension(\"period_start\", values=periods, default=periods[0]),\n",
    "    hv.Dimension(\"period_stop\", values=safe_periods, default=periods[-1]),\n",
    "    hv.Dimension(\"integrate_angle\", range=(0, 86), default=0),\n",
    "]\n",
    "\n",
    "\n",
    "angle_ef_dmap = hv.DynamicMap(\n",
    "    partial(\n",
    "        wrapped_2D_ef_plot,\n",
    "        extra_plots=[\"RTA_normal\", \"RTA_int\", \"norm_1_normal\", \"norm_1_int\"],\n",
    "        dim=\"period\",\n",
    "    ),\n",
    "    kdims=kdims,\n",
    ").opts(\n",
    "    opts.Overlay(legend_position=\"right\", legend_opts={\"background_fill_alpha\": 0.5})\n",
    ")\n",
    "# if I'm just looking at normal incidence the extra plots are redundant\n",
    "ef_dmap = hv.DynamicMap(\n",
    "    partial(\n",
    "        wrapped_2D_ef_plot,\n",
    "        integrate_angle=0,\n",
    "        extra_plots=[\"RTA_int\", \"norm_1_int\"],\n",
    "        dim=\"period\",\n",
    "    ),\n",
    "    kdims=kdims[:10],\n",
    ").opts(\n",
    "    opts.Overlay(legend_position=\"right\", legend_opts={\"background_fill_alpha\": 0.5})\n",
    ")"
   ]
  },
  {
   "cell_type": "code",
   "execution_count": null,
   "id": "557133c3-4e46-4cda-9906-3bcc8736ff49",
   "metadata": {},
   "outputs": [],
   "source": [
    "%%capture --no-stdout --no-display\n",
    "# ignore divide by zero warnings\n",
    "\n",
    "# there is some sort of horrible bug that makes the title and axis on the second plot sometime disappear, along with one of the vlines\n",
    "angle_ef_dmap"
   ]
  },
  {
   "cell_type": "code",
   "execution_count": null,
   "id": "dab70522-a982-48a0-a34b-e7b72db11301",
   "metadata": {},
   "outputs": [],
   "source": [
    "# Use this to record interesting key sets\n",
    "angle_ef_dmap.current_key"
   ]
  },
  {
   "cell_type": "markdown",
   "id": "928df95a-f5c4-46c7-97da-26c49611f2ce",
   "metadata": {
    "jp-MarkdownHeadingCollapsed": true,
    "tags": []
   },
   "source": [
    "### Reflectance enhancement factor"
   ]
  },
  {
   "cell_type": "markdown",
   "id": "bdb62c4c-d375-46e8-a80c-852f87770c91",
   "metadata": {},
   "source": [
    "The plots of max and min reflectance enhancement factor look quite odd, but ultimately are not that interesting from a design perspective."
   ]
  },
  {
   "cell_type": "code",
   "execution_count": null,
   "id": "8128ab8f-ed9c-4d16-a605-1e926997895b",
   "metadata": {},
   "outputs": [],
   "source": [
    "# This is just the maximum reflectance structure again\n",
    "ef_dmap[('R', 'ds', 'crs_1', 'max', 0, 0, 0, 'PRGn', 10, 460)]"
   ]
  },
  {
   "cell_type": "markdown",
   "id": "25877c37-a94a-4d6b-85e2-54349dc6ee29",
   "metadata": {},
   "source": [
    "The band at 110-120 nm is probably due to two things:\n",
    "1. The reflectance of the CRS getting very low as the total excitonic thickness becomes larger than the wavelength of light, leading to incoherent reflection;\n",
    "2. That particular excitonic layer thickness makes creating a reflectance-suppressing photonic effect difficult."
   ]
  },
  {
   "cell_type": "code",
   "execution_count": null,
   "id": "886db79f-6848-4649-98c3-a497aef73188",
   "metadata": {},
   "outputs": [],
   "source": [
    "ef_dmap[('R', 'ds', 'crs_1', 'min', 0, 0, 0, 'PRGn', 10, 460)]"
   ]
  },
  {
   "cell_type": "code",
   "execution_count": null,
   "id": "1dd43056-51bc-4ef4-a5b6-bcf06a59acb2",
   "metadata": {},
   "outputs": [],
   "source": [
    "# why is minimum R enhancement factor so high when excitonic layer thickness is 110 nm?\n",
    "wrapped_2D_plot('R', restacked_norm_1.sel(excitonic_layer_thickness=slice(110, 120), num_periods=slice(8, None)), 'min', 0, 0, 0, 'viridis', 10, 450, dim=\"period\")"
   ]
  },
  {
   "cell_type": "markdown",
   "id": "2a1fbb8c-4ae6-48cb-99a3-635270bebf34",
   "metadata": {
    "jp-MarkdownHeadingCollapsed": true,
    "tags": []
   },
   "source": [
    "### Transmittance enhancement factor"
   ]
  },
  {
   "cell_type": "markdown",
   "id": "11806e83-a0db-4faa-85f4-781a59f61e92",
   "metadata": {
    "tags": []
   },
   "source": [
    "#### Maximum"
   ]
  },
  {
   "cell_type": "markdown",
   "id": "ad7e24a3-7061-4969-ab74-0ac04e6f65fe",
   "metadata": {},
   "source": [
    "The result at the resonance is basically meaningless. The maximal values far from the resonance are very small."
   ]
  },
  {
   "cell_type": "code",
   "execution_count": null,
   "id": "bba72d34-7383-4dcf-a98e-c88a0ced1f38",
   "metadata": {},
   "outputs": [],
   "source": [
    "ef_dmap[('T', 'ds', 'crs_1', 'max', 0, 0, 0, 'PuOr_r', 10, 460)]"
   ]
  },
  {
   "cell_type": "code",
   "execution_count": null,
   "id": "de126215-7461-424e-9c34-41a68294ee91",
   "metadata": {},
   "outputs": [],
   "source": [
    "ef_dmap[('T', 'ds', 'crs_1', 'max', -2, 0, 0, 'PuOr_r', 10, 460)]"
   ]
  },
  {
   "cell_type": "code",
   "execution_count": null,
   "id": "ad1542c3-af27-49d1-b9e8-326fe3787958",
   "metadata": {},
   "outputs": [],
   "source": [
    "ef_dmap[('T', 'ds', 'crs_1', 'max', 2, 0, 0, 'PuOr_r', 10, 460)]"
   ]
  },
  {
   "cell_type": "code",
   "execution_count": null,
   "id": "d39193d1-a383-464c-85f9-90b86384d457",
   "metadata": {},
   "outputs": [],
   "source": [
    "ef_dmap[('T', 'ds', 'crs_1', 'max', -5, 0, 0, 'PuOr_r', 10, 460)]"
   ]
  },
  {
   "cell_type": "code",
   "execution_count": null,
   "id": "2ed1b0cf-171c-42dd-841b-6b8a61d46211",
   "metadata": {},
   "outputs": [],
   "source": [
    "ef_dmap[('T', 'ds', 'crs_1', 'max', 5, 0, 0, 'PuOr_r', 10, 460)]"
   ]
  },
  {
   "cell_type": "markdown",
   "id": "844dcdee-6ecf-4e25-9d08-176782206984",
   "metadata": {
    "jp-MarkdownHeadingCollapsed": true,
    "tags": []
   },
   "source": [
    "#### Minimum"
   ]
  },
  {
   "cell_type": "markdown",
   "id": "aed500a9-8c3f-49dd-a689-077dc6bd658d",
   "metadata": {},
   "source": [
    "The minimum transmittance enhancement factor at the resonance is surprisingly high. This tells us that the light intensity that is diverted to reflectance comes almost entirely at the cost of absorptance, no matter the parameters. (Really a diff would be better than a norm here.)"
   ]
  },
  {
   "cell_type": "code",
   "execution_count": null,
   "id": "5959fd8f-6e87-49c8-8b96-96f9e68b422c",
   "metadata": {},
   "outputs": [],
   "source": [
    "ef_dmap[('T', 'ds', 'crs_1', 'min', 0, 0, 0, 'PuOr_r', 10, 460)]"
   ]
  },
  {
   "cell_type": "code",
   "execution_count": null,
   "id": "6e479ca3-5464-4031-b030-d4bcf27e913e",
   "metadata": {},
   "outputs": [],
   "source": [
    "ef_dmap[('T', 'ds', 'crs_1', 'min', -2, 0, 0, 'PuOr_r', 10, 460)]"
   ]
  },
  {
   "cell_type": "code",
   "execution_count": null,
   "id": "9e6d9b03-2c45-40fc-b3cf-aa7994541316",
   "metadata": {},
   "outputs": [],
   "source": [
    "ef_dmap[('T', 'ds', 'crs_1', 'min', 2, 0, 0, 'PuOr_r', 10, 460)]"
   ]
  },
  {
   "cell_type": "code",
   "execution_count": null,
   "id": "30265b8d-da1c-4735-817c-fdac64d16201",
   "metadata": {},
   "outputs": [],
   "source": [
    "ef_dmap[('T', 'ds', 'crs_1', 'min', -5, 0, 0, 'PuOr_r', 10, 460)]"
   ]
  },
  {
   "cell_type": "code",
   "execution_count": null,
   "id": "f5dfb7b9-067b-4770-9a34-6b0b715de327",
   "metadata": {},
   "outputs": [],
   "source": [
    "ef_dmap[('T', 'ds', 'crs_1', 'min', 5, 0, 0, 'PuOr_r', 10, 460)]"
   ]
  },
  {
   "cell_type": "markdown",
   "id": "41a132d0-d035-4b54-9751-3e8fbe7130ca",
   "metadata": {
    "tags": []
   },
   "source": [
    "### Absorptance enhancement factor"
   ]
  },
  {
   "cell_type": "markdown",
   "id": "b9ac2e05-0f64-4948-83da-394b0e738109",
   "metadata": {
    "tags": []
   },
   "source": [
    "#### Optimal structure for maximising absorptance enhancement near the resonance"
   ]
  },
  {
   "cell_type": "markdown",
   "id": "e8c30342-10a5-44a8-8043-cfa9583d534c",
   "metadata": {},
   "source": [
    "The maximal absorptance enhancement near the LO resonance (between the resonance and -1 linewidth from it) is confined to a narrow band around a total excitonic thickness of roughly 100 nm. The maximum possible enhancement is modest and also not precisely targeted (there is a greater enhancement at longer wavelengths). Furthermore, it is not accompanied by a strong reflectance band, because of the low number of layers."
   ]
  },
  {
   "cell_type": "code",
   "execution_count": null,
   "id": "15ab5187-6a8f-401d-8f75-dc896b0f53f6",
   "metadata": {
    "tags": []
   },
   "outputs": [],
   "source": [
    "ef_dmap[('A', 'ds', 'crs_1', 'max', 0, 0, 0, 'inferno', 10, 450)].opts(opts.QuadMesh(clim=(1, None)), clone=True)"
   ]
  },
  {
   "cell_type": "code",
   "execution_count": null,
   "id": "6447eee5-8742-4774-93a5-8b3e8706c89a",
   "metadata": {},
   "outputs": [],
   "source": [
    "ef_dmap[('A', 'ds', 'crs_1', 'max', 0, 2, 0, 'inferno', 10, 450)].opts(opts.QuadMesh(clim=(1, None)), clone=True)"
   ]
  },
  {
   "cell_type": "code",
   "execution_count": null,
   "id": "bc655ba4-9b08-48f9-b8ae-082bb24625c0",
   "metadata": {
    "tags": []
   },
   "outputs": [],
   "source": [
    "ef_dmap[('A', 'ds', 'crs_1', 'max', 0, 5, 0, 'inferno', 10, 450)].opts(opts.QuadMesh(clim=(1, None)), clone=True)"
   ]
  },
  {
   "cell_type": "markdown",
   "id": "e9cccc27-a26f-4637-bead-8b31109119f8",
   "metadata": {
    "jp-MarkdownHeadingCollapsed": true,
    "tags": []
   },
   "source": [
    "#### Optimal structure for maximising absorption enhancement far from the resonance"
   ]
  },
  {
   "cell_type": "markdown",
   "id": "d1b92c17-89f0-47fa-b0bb-19882f2a24eb",
   "metadata": {},
   "source": [
    "Beyond a target wavelength of -2 linewidths below or 1 above the resonance, the optimum starts to move, first towards higher numbers of periods, then thicker layers. Bands of local optima in the 2D plot start to appear, as certain sets of parameters have higher potential. (**Why?**)\n",
    "\n",
    "As we move further from the resonance and towards regions of lower intrinsic absorptance, the maximum attainable wavelength specific absorptance enhancement increases and the optimal structures that produce these become larger. These structures also have higher reflectance - although local optima with lower reflectance also come into play.\n",
    "\n",
    "These effects are more pronounced on the red (high-contrast) side of the resonance than the blue side."
   ]
  },
  {
   "cell_type": "code",
   "execution_count": null,
   "id": "545f0792-65b8-49f0-88bb-0128241e03c9",
   "metadata": {},
   "outputs": [],
   "source": [
    "ef_dmap[('A', 'ds', 'crs_1', 'max', -2, 0, 0, 'inferno', 10, 450)].opts(opts.QuadMesh(clim=(1, None)), clone=True)"
   ]
  },
  {
   "cell_type": "code",
   "execution_count": null,
   "id": "ad675682-88a1-42d0-b028-d68c3be0b589",
   "metadata": {},
   "outputs": [],
   "source": [
    "ef_dmap[('A', 'ds', 'crs_1', 'max', -5, 0, 0, 'inferno', 10, 450)].opts(opts.QuadMesh(clim=(1, None)), clone=True)"
   ]
  },
  {
   "cell_type": "code",
   "execution_count": null,
   "id": "0038104a-8362-4209-8f52-dbb94f67ab20",
   "metadata": {},
   "outputs": [],
   "source": [
    "ef_dmap[('A', 'ds', 'crs_1', 'max', -5, 2, 0, 'inferno', 10, 450)].opts(opts.QuadMesh(clim=(1, None)), clone=True)"
   ]
  },
  {
   "cell_type": "code",
   "execution_count": null,
   "id": "aa9982ba-4656-480c-8172-02cacb69daaa",
   "metadata": {},
   "outputs": [],
   "source": [
    "ef_dmap[('A', 'ds', 'crs_1', 'max', -8, 0, 0, 'inferno', 10, 450)].opts(opts.QuadMesh(clim=(1, None)), clone=True)"
   ]
  },
  {
   "cell_type": "code",
   "execution_count": null,
   "id": "c35b4a95-6b2c-420d-9e0c-359088695a7f",
   "metadata": {},
   "outputs": [],
   "source": [
    "ef_dmap[('A', 'ds', 'crs_1', 'max', 2, 0, 0, 'inferno', 10, 450)].opts(opts.QuadMesh(clim=(1, None)), clone=True)\n",
    "# should do a windowed version of this"
   ]
  },
  {
   "cell_type": "code",
   "execution_count": null,
   "id": "b091cf15-b7cf-4963-af89-c5cccd7e9a9c",
   "metadata": {},
   "outputs": [],
   "source": [
    "# example of a local optimum with lower reflectance\n",
    "wrapped_2D_plot('A', restacked_norm_1.sel(excitonic_layer_thickness=slice(20, None)), 'max', 2, 0, 0, 'inferno', 10, 450, dim=\"period\")"
   ]
  },
  {
   "cell_type": "code",
   "execution_count": null,
   "id": "a77cfb1a-e23d-41a5-9a42-0021ba840295",
   "metadata": {},
   "outputs": [],
   "source": [
    "ef_dmap[('A', 'ds', 'crs_1', 'max', 5, 0, 0, 'inferno', 10, 450)].opts(opts.QuadMesh(clim=(1, None)), clone=True)"
   ]
  },
  {
   "cell_type": "code",
   "execution_count": null,
   "id": "f1edd014-ca81-4e17-982a-7a74231cb657",
   "metadata": {},
   "outputs": [],
   "source": [
    "ef_dmap[('A', 'ds', 'crs_1', 'max', 5, 2, 0, 'inferno', 10, 450)].opts(opts.QuadMesh(clim=(1, None)), clone=True)"
   ]
  },
  {
   "cell_type": "code",
   "execution_count": null,
   "id": "0f4b08c0-4202-4d8f-8b1f-ae9afc7c986d",
   "metadata": {},
   "outputs": [],
   "source": [
    "ef_dmap[('A', 'ds', 'crs_1', 'max', 8, 0, 0, 'inferno', 10, 450)].opts(opts.QuadMesh(clim=(1, None)), clone=True)"
   ]
  },
  {
   "cell_type": "markdown",
   "id": "fc0cd1b8-0723-4fbe-be0f-47e4657862e5",
   "metadata": {
    "jp-MarkdownHeadingCollapsed": true,
    "tags": []
   },
   "source": [
    "#### Optimal structure for minimising absorptance enhancement"
   ]
  },
  {
   "cell_type": "markdown",
   "id": "23facd1e-8036-460f-aaff-ff950c664dc9",
   "metadata": {},
   "source": [
    "Near the resonance, the structures that minimise absorptance enhancement are almost identical to those maximising reflectance, which tells us that reducing absorptance by enhancing transmittance is not really a thing.\n",
    "\n",
    "The strategy to get the minimal absorptance enhancement far from the resonance is to saturate the absorptance of the CRS, then add a large reflectance band on top. It looks similar to the optimal structure for reflectance. However, we also see the emergence on local minima at lower total excitonic layer thicknesses.\n",
    "\n",
    "Again, sometimes the second-order PBG is more effective than the first-order one."
   ]
  },
  {
   "cell_type": "code",
   "execution_count": null,
   "id": "0cf2c4a0-be57-4072-bb00-728159f35a6d",
   "metadata": {},
   "outputs": [],
   "source": [
    "ef_dmap[('A', 'ds', 'crs_1', 'min', 0, 0, 0, 'inferno', 10, 450)].opts(opts.QuadMesh(clim=(None, 1)), clone=True)"
   ]
  },
  {
   "cell_type": "code",
   "execution_count": null,
   "id": "4997317f-b47e-4bab-a942-c9d389ffeb9e",
   "metadata": {},
   "outputs": [],
   "source": [
    "ef_dmap[('A', 'ds', 'crs_1', 'min', 0, 2, 0, 'inferno', 10, 450)].opts(opts.QuadMesh(clim=(None, 1)), clone=True)"
   ]
  },
  {
   "cell_type": "code",
   "execution_count": null,
   "id": "42148d45-5005-4d5e-9630-98397fd2f5ea",
   "metadata": {},
   "outputs": [],
   "source": [
    "ef_dmap[('A', 'ds', 'crs_1', 'min', 0, 5, 0, 'inferno', 10, 450)].opts(opts.QuadMesh(clim=(None, 1)), clone=True)"
   ]
  },
  {
   "cell_type": "code",
   "execution_count": null,
   "id": "6d0c6dc6-472f-4239-8108-ac46a2c4ec35",
   "metadata": {},
   "outputs": [],
   "source": [
    "# Compare this to structure for maximal reflectance at this wavelength\n",
    "ef_dmap[('A', 'ds', 'crs_1', 'min', -2, 0, 0, 'inferno', 10, 450)].opts(opts.QuadMesh(clim=(None, 1)), clone=True)"
   ]
  },
  {
   "cell_type": "code",
   "execution_count": null,
   "id": "e8895222-11f8-43cd-a5dc-46bb44531fd8",
   "metadata": {},
   "outputs": [],
   "source": [
    "# This is exactly the structure for maximal reflectance at this wavelength\n",
    "ef_dmap[('A', 'ds', 'crs_1', 'min', 1, 0, 0, 'inferno', 10, 450)].opts(opts.QuadMesh(clim=(None, 1)), clone=True)"
   ]
  },
  {
   "cell_type": "code",
   "execution_count": null,
   "id": "0308064b-b642-4c8c-9dfb-a56f321b3020",
   "metadata": {},
   "outputs": [],
   "source": [
    "# This is exactly the structure for maximal reflectance at this wavelength - but note the local minimum at lower thicknesses!\n",
    "ef_dmap[('A', 'ds', 'crs_1', 'min', -4, 0, 0, 'inferno', 10, 450)].opts(opts.QuadMesh(clim=(None, 1)), clone=True)"
   ]
  },
  {
   "cell_type": "code",
   "execution_count": null,
   "id": "918886d8-1003-42c4-a1c2-256bc6a852e0",
   "metadata": {},
   "outputs": [],
   "source": [
    "ef_dmap[('A', 'ds', 'crs_1', 'min', -8, 0, 0, 'inferno', 10, 450)].opts(opts.QuadMesh(clim=(None, 1)), clone=True)"
   ]
  },
  {
   "cell_type": "code",
   "execution_count": null,
   "id": "0a28f752-4af3-49c3-8e00-cedce5ca7534",
   "metadata": {},
   "outputs": [],
   "source": [
    "# Note the difference when we exclude the second-order PBG\n",
    "ef_dmap[('A', 'ds', 'crs_1', 'min', -8, 0, 0, 'inferno', 10, 400)].opts(opts.QuadMesh(clim=(None, 1)), clone=True)"
   ]
  },
  {
   "cell_type": "code",
   "execution_count": null,
   "id": "c09d8079-d4b4-4fb1-9a28-1eb0fe6b1eaa",
   "metadata": {},
   "outputs": [],
   "source": [
    "# This is similar to the structure for maximal reflectance at this wavelength\n",
    "ef_dmap[('A', 'ds', 'crs_1', 'min', 8, 0, 0, 'inferno', 10, 450)].opts(opts.QuadMesh(clim=(None, 1)), clone=True)"
   ]
  },
  {
   "cell_type": "code",
   "execution_count": null,
   "id": "d6964af1-4f24-473e-b0e9-611ce511a7db",
   "metadata": {},
   "outputs": [],
   "source": [
    "ef_dmap[('A', 'ds', 'crs_1', 'min', -5, 0, 0, 'inferno', 10, 450)].opts(opts.QuadMesh(clim=(None, 1)), clone=True)"
   ]
  },
  {
   "cell_type": "code",
   "execution_count": null,
   "id": "3093cc3c-91cb-4dbf-9333-51c5edcb10e3",
   "metadata": {},
   "outputs": [],
   "source": [
    "ef_dmap[('A', 'ds', 'crs_1', 'min', -5, 2, 0, 'inferno', 10, 450)].opts(opts.QuadMesh(clim=(None, 1)), clone=True)"
   ]
  },
  {
   "cell_type": "code",
   "execution_count": null,
   "id": "f27e45bd-3e73-4b8b-9ea1-e17971cd6381",
   "metadata": {},
   "outputs": [],
   "source": [
    "ef_dmap[('A', 'ds', 'crs_1', 'min', -5, 5, 0, 'inferno', 10, 450)].opts(opts.QuadMesh(clim=(None, 1)), clone=True)"
   ]
  },
  {
   "cell_type": "code",
   "execution_count": null,
   "id": "a38d31ba-eed6-42ac-a6f6-50f665f49e50",
   "metadata": {},
   "outputs": [],
   "source": [
    "ef_dmap[('A', 'ds', 'crs_1', 'min', 5, 0, 0, 'inferno', 10, 450)].opts(opts.QuadMesh(clim=(None, 1)), clone=True)"
   ]
  },
  {
   "cell_type": "code",
   "execution_count": null,
   "id": "bfd235fa-78d0-4e13-a6a8-24d184d5cc15",
   "metadata": {},
   "outputs": [],
   "source": [
    "ef_dmap[('A', 'ds', 'crs_1', 'min', 5, 2, 0, 'inferno', 10, 450)].opts(opts.QuadMesh(clim=(None, 1)), clone=True)"
   ]
  },
  {
   "cell_type": "code",
   "execution_count": null,
   "id": "2d8a6f63-0d0a-46a0-a3e5-c3cf672c412e",
   "metadata": {},
   "outputs": [],
   "source": [
    "# don't trust this - integral extends off the edge of the plot\n",
    "ef_dmap[('A', 'ds', 'crs_1', 'min', 5, 5, 0, 'inferno', 10, 450)].opts(opts.QuadMesh(clim=(None, 1)), clone=True)"
   ]
  },
  {
   "cell_type": "markdown",
   "id": "0155ae00-e6cb-4008-9bfa-4f352ded3a29",
   "metadata": {
    "tags": []
   },
   "source": [
    "#### Angle behaviour"
   ]
  },
  {
   "cell_type": "markdown",
   "id": "d48ce729-48bb-42dc-982e-951ee2760462",
   "metadata": {
    "jp-MarkdownHeadingCollapsed": true,
    "tags": []
   },
   "source": [
    "##### At 30 degrees - higher period, otherwise pretty similar to normal incidence"
   ]
  },
  {
   "cell_type": "code",
   "execution_count": null,
   "id": "312f09c4-e8b2-4913-a614-545d2aef4f87",
   "metadata": {},
   "outputs": [],
   "source": [
    "%%capture --no-stdout --no-display\n",
    "# ignore divide by zero warnings\n",
    "\n",
    "angle_ef_dmap[('A', 'ds', 'crs_1', 'max', 0, 2, 30, 'inferno', 10, 450, 0)].opts(opts.QuadMesh(clim=(1, None)), clone=True)"
   ]
  },
  {
   "cell_type": "code",
   "execution_count": null,
   "id": "01df4646-9231-42e4-abfa-a57d9ae2277f",
   "metadata": {},
   "outputs": [],
   "source": [
    "%%capture --no-stdout --no-display\n",
    "# ignore divide by zero warnings\n",
    "\n",
    "angle_ef_dmap[('A', 'ds', 'crs_1', 'max', -5, 2, 30, 'inferno', 10, 450, 0)].opts(opts.QuadMesh(clim=(1, None)), clone=True)"
   ]
  },
  {
   "cell_type": "code",
   "execution_count": null,
   "id": "3fb73730-9272-4c08-a742-c10f75a1174d",
   "metadata": {},
   "outputs": [],
   "source": [
    "%%capture --no-stdout --no-display\n",
    "# ignore divide by zero warnings\n",
    "\n",
    "angle_ef_dmap[('A', 'ds', 'crs_1', 'max', 5, 2, 30, 'inferno', 10, 450, 0)].opts(opts.QuadMesh(clim=(1, None)), clone=True)"
   ]
  },
  {
   "cell_type": "code",
   "execution_count": null,
   "id": "6121a8b0-23a2-4f70-a1aa-73b569ca1a51",
   "metadata": {},
   "outputs": [],
   "source": [
    "%%capture --no-stdout --no-display\n",
    "# ignore divide by zero warnings\n",
    "\n",
    "angle_ef_dmap[('A', 'ds', 'crs_1', 'min', 0, 2, 30, 'inferno', 10, 450, 0)].opts(opts.QuadMesh(clim=(None, 1)), clone=True)"
   ]
  },
  {
   "cell_type": "code",
   "execution_count": null,
   "id": "7e3ffb62-644e-4bb3-b74d-e8a935eeb08a",
   "metadata": {},
   "outputs": [],
   "source": [
    "%%capture --no-stdout --no-display\n",
    "# ignore divide by zero warnings\n",
    "\n",
    "angle_ef_dmap[('A', 'ds', 'crs_1', 'min', -5, 2, 30, 'inferno', 10, 450, 0)].opts(opts.QuadMesh(clim=(None, 1)), clone=True)"
   ]
  },
  {
   "cell_type": "code",
   "execution_count": null,
   "id": "2223976d-2963-42ed-ac02-f63c7f4aa21a",
   "metadata": {},
   "outputs": [],
   "source": [
    "%%capture --no-stdout --no-display\n",
    "# ignore divide by zero warnings\n",
    "\n",
    "angle_ef_dmap[('A', 'ds', 'crs_1', 'min', 5, 2, 30, 'inferno', 10, 450, 0)].opts(opts.QuadMesh(clim=(None, 1)), clone=True)"
   ]
  },
  {
   "cell_type": "markdown",
   "id": "8e3f8e20-86e3-4e8f-b44c-dc05d80b7844",
   "metadata": {
    "tags": []
   },
   "source": [
    "##### Integrating (max)"
   ]
  },
  {
   "cell_type": "markdown",
   "id": "16d74c2c-f06a-425b-8623-6c9435c140f1",
   "metadata": {},
   "source": [
    "At the resonance, the structure is actually very similar to the case at normal incidence - because the absorption enhancement isn't really coming from a photonic effect, but from the incoherent scattering. The period is slightly higher. The number of layers is higher but the total excitonic thickness is nearly the same. When increasing the wavelength window, the only difference is to increase the number of layers further (thus strengthening the optical path length enhancement at further wavelengths)."
   ]
  },
  {
   "cell_type": "markdown",
   "id": "971ced55-bc3c-4e04-a8d4-54809c2495b8",
   "metadata": {},
   "source": [
    "Far from resonance, the optimal number of layers and thickness are both much lower after an angle integral, indicating that the slow light enhancement becomes less important and the incoherent scattering more important."
   ]
  },
  {
   "cell_type": "code",
   "execution_count": null,
   "id": "eab88e48-fcc0-4df9-b2cf-983ec8703438",
   "metadata": {},
   "outputs": [],
   "source": [
    "%%capture --no-stdout --no-display\n",
    "# ignore divide by zero warnings\n",
    "\n",
    "angle_ef_dmap[('A', 'ds', 'crs_1', 'max', 0, 2, 0, 'inferno', 10, 450, 75)].opts(opts.QuadMesh(clim=(1, None)), clone=True)"
   ]
  },
  {
   "cell_type": "code",
   "execution_count": null,
   "id": "87a043a1-c4e1-4088-ab8f-2fad91addbc1",
   "metadata": {
    "tags": []
   },
   "outputs": [],
   "source": [
    "%%capture --no-stdout --no-display\n",
    "# ignore divide by zero warnings\n",
    "\n",
    "angle_ef_dmap[('A', 'ds', 'crs_1', 'max', 0, 5, 0, 'inferno', 10, 450, 75)].opts(opts.QuadMesh(clim=(1, None)), clone=True)"
   ]
  },
  {
   "cell_type": "code",
   "execution_count": null,
   "id": "6d7529ff-49d4-4dcf-9f68-e0676a58fae9",
   "metadata": {},
   "outputs": [],
   "source": [
    "%%capture --no-stdout --no-display\n",
    "# ignore divide by zero warnings\n",
    "\n",
    "angle_ef_dmap[('A', 'ds', 'crs_1', 'max', -5, 2, 0, 'inferno', 10, 450, 75)].opts(opts.QuadMesh(clim=(1, None)), clone=True)"
   ]
  },
  {
   "cell_type": "code",
   "execution_count": null,
   "id": "420c1c9c-4402-456c-ae0e-bcee73d16bec",
   "metadata": {
    "tags": []
   },
   "outputs": [],
   "source": [
    "%%capture --no-stdout --no-display\n",
    "# ignore divide by zero warnings\n",
    "\n",
    "angle_ef_dmap[('A', 'ds', 'crs_1', 'max', 5, 2, 0, 'inferno', 10, 450, 75)].opts(opts.QuadMesh(clim=(1, None)), clone=True)"
   ]
  },
  {
   "cell_type": "markdown",
   "id": "8e9c9ca9-c757-4ba1-8439-0aad3a300c1c",
   "metadata": {
    "jp-MarkdownHeadingCollapsed": true,
    "tags": []
   },
   "source": [
    "##### Integrating (min)"
   ]
  },
  {
   "cell_type": "markdown",
   "id": "373a58d1-0787-448b-b512-6bae57436325",
   "metadata": {},
   "source": [
    "At resonance, the optimal parameters to minimise the angle-integrated absorptance enhancement factor are basically the same as when not integrating over angle. The period and layer thickness are slightly higher. Far from resonance, again the periods are slightly higher and the excitonic layer thicknesses somewhat higher."
   ]
  },
  {
   "cell_type": "markdown",
   "id": "7521885e-3da1-4e5a-bc6a-a9d007e1c9a4",
   "metadata": {},
   "source": [
    "What is quite notable is that when integrating over angle, it becomes very difficult to actually obtain an absorptance enhancement factor <1 for low total excitonic thickness. In other words, a small iridoplast-like structure can’t be built such that it has less absorption than its CRS."
   ]
  },
  {
   "cell_type": "code",
   "execution_count": null,
   "id": "61731570-ac8d-413b-9367-bc54bfeafba2",
   "metadata": {},
   "outputs": [],
   "source": [
    "%%capture --no-stdout --no-display\n",
    "# ignore divide by zero warnings\n",
    "\n",
    "angle_ef_dmap[('A', 'ds', 'crs_1', 'min', 0, 2, 0, 'inferno', 10, 450, 75)].opts(opts.QuadMesh(clim=(None, 1)), clone=True)"
   ]
  },
  {
   "cell_type": "code",
   "execution_count": null,
   "id": "20c771f4-6cdd-40b3-a1df-93cf96dfa154",
   "metadata": {},
   "outputs": [],
   "source": [
    "%%capture --no-stdout --no-display\n",
    "# ignore divide by zero warnings\n",
    "\n",
    "angle_ef_dmap[('A', 'ds', 'crs_1', 'min', 0, 5, 0, 'inferno', 10, 450, 75)].opts(opts.QuadMesh(clim=(None, 1)), clone=True)"
   ]
  },
  {
   "cell_type": "code",
   "execution_count": null,
   "id": "124b4b07-9fc3-4a67-afdd-04191eb4f905",
   "metadata": {},
   "outputs": [],
   "source": [
    "%%capture --no-stdout --no-display\n",
    "# ignore divide by zero warnings\n",
    "\n",
    "angle_ef_dmap[('A', 'ds', 'crs_1', 'min', -5, 2, 0, 'inferno', 10, 450, 75)].opts(opts.QuadMesh(clim=(None, 1)), clone=True)"
   ]
  },
  {
   "cell_type": "code",
   "execution_count": null,
   "id": "3152841f-d2fd-4669-8616-0660d6e57a59",
   "metadata": {},
   "outputs": [],
   "source": [
    "%%capture --no-stdout --no-display\n",
    "# ignore divide by zero warnings\n",
    "\n",
    "angle_ef_dmap[('A', 'ds', 'crs_1', 'min', 5, 2, 0, 'inferno', 10, 450, 75)].opts(opts.QuadMesh(clim=(None, 1)), clone=True)"
   ]
  },
  {
   "cell_type": "markdown",
   "id": "5807ce77-d765-442d-888b-f9f249e470aa",
   "metadata": {
    "jp-MarkdownHeadingCollapsed": true,
    "tags": []
   },
   "source": [
    "## Difference factors"
   ]
  },
  {
   "cell_type": "markdown",
   "id": "7b9c8666-6f8c-4ad8-a5ca-be02e3f01ec8",
   "metadata": {
    "jp-MarkdownHeadingCollapsed": true,
    "tags": []
   },
   "source": [
    "### Investigation"
   ]
  },
  {
   "cell_type": "code",
   "execution_count": null,
   "id": "98c4038f-265b-41de-b0a1-c8e6b246491f",
   "metadata": {},
   "outputs": [],
   "source": [
    "# Plot difference factors as a function of wavelength and passive layer thickness for a choice of excitonic layer thickness, theta, and number of periods\n",
    "\n",
    "sel = diff_1.interactive(loc=\"left\")\n",
    "\n",
    "variable = pnw.Select(options=list(diff_1.data_vars))\n",
    "\n",
    "xs_1D = {\n",
    "    \"excitonic_layer_thickness\": pnw.DiscreteSlider,\n",
    "    \"theta\": pnw.DiscreteSlider,\n",
    "    \"num_periods\": pnw.DiscreteSlider,\n",
    "    \"passive_layer_thickness\": pnw.DiscreteSlider,\n",
    "}\n",
    "\n",
    "sel_1 = sel.sel(**xs_1D).squeeze()\n",
    "\n",
    "# Get a handle on the widgets\n",
    "widgets = {k: w for k, w in zip(xs_1D, sel_1.widgets())}\n",
    "\n",
    "xs_2D = {k: w for k, w in widgets.items() if k not in {\"passive_layer_thickness\"}}\n",
    "sel_2 = sel.sel(**xs_2D).squeeze()\n",
    "\n",
    "(\n",
    "    sel_1[variable].hvplot(x=\"wavelength\", ylim=(-1, 1))\n",
    "    * hv.HLine(0).opts(opts.HLine(line_dash=\"dotted\"))\n",
    "    + sel_2[variable].hvplot(x=\"wavelength\", y=\"passive_layer_thickness\", clim=(-1, 1), cmap=\"RdBu_r\")\n",
    "    # * hv.DynamicMap(lambda y: hv.HLine(y), streams={\"y\": widgets[\"passive_layer_thickness\"].param.value})\n",
    ").cols(1)"
   ]
  },
  {
   "cell_type": "code",
   "execution_count": null,
   "id": "82eef065-88bb-4492-8cb5-3d30b4d6b79d",
   "metadata": {},
   "outputs": [],
   "source": [
    "# Plot difference factors as a function of wavelength and *period* for a choice of excitonic layer thickness, theta, and number of periods\n",
    "\n",
    "sel = restacked_diff_1.interactive(loc=\"left\")\n",
    "\n",
    "variable = pnw.Select(options=list(restacked_diff_1.data_vars))\n",
    "\n",
    "xs_1D = {\n",
    "    \"excitonic_layer_thickness\": pnw.DiscreteSlider,\n",
    "    \"theta\": pnw.DiscreteSlider,\n",
    "    \"num_periods\": pnw.DiscreteSlider,\n",
    "    \"period\": pnw.DiscreteSlider,\n",
    "}\n",
    "\n",
    "sel_1 = sel.sel(**xs_1D).squeeze()\n",
    "\n",
    "# Get a handle on the widgets\n",
    "widgets = {k: w for k, w in zip(xs_1D, sel_1.widgets())}\n",
    "\n",
    "xs_2D = {k: w for k, w in widgets.items() if k not in {\"period\"}}\n",
    "sel_2 = sel.sel(**xs_2D).squeeze()\n",
    "\n",
    "(\n",
    "    sel_1[variable].hvplot(x=\"wavelength\", ylim=(-1, 1))\n",
    "    * hv.HLine(0).opts(opts.HLine(line_dash=\"dotted\"))\n",
    "    + sel_2[variable].hvplot(x=\"wavelength\", y=\"period\", clim=(-1, 1), cmap=\"RdBu_r\")\n",
    "    # * hv.DynamicMap(lambda y: hv.HLine(y), streams={\"y\": widgets[\"passive_layer_thickness\"].param.value})\n",
    ").cols(1)"
   ]
  },
  {
   "cell_type": "code",
   "execution_count": null,
   "id": "4086c41f-590b-407a-8378-c5404443714c",
   "metadata": {
    "tags": []
   },
   "outputs": [],
   "source": [
    "# Plot difference factors as a function of wavelength and *number of periods* for a choice of excitonic layer thickness, theta, and period\n",
    "\n",
    "sel = restacked_diff_1.interactive(loc=\"left\")\n",
    "\n",
    "variable = pnw.Select(options=list(restacked_diff_1.data_vars))\n",
    "\n",
    "xs_1D = {\n",
    "    \"excitonic_layer_thickness\": pnw.DiscreteSlider,\n",
    "    \"theta\": pnw.DiscreteSlider,\n",
    "    \"num_periods\": pnw.DiscreteSlider,\n",
    "    \"period\": pnw.DiscreteSlider,\n",
    "}\n",
    "\n",
    "sel_1 = sel.sel(**xs_1D).squeeze()\n",
    "\n",
    "# Get a handle on the widgets\n",
    "widgets = {k: w for k, w in zip(xs_1D, sel_1.widgets())}\n",
    "\n",
    "xs_2D = {k: w for k, w in widgets.items() if k not in {\"num_periods\"}}\n",
    "sel_2 = sel.sel(**xs_2D).squeeze()\n",
    "\n",
    "(\n",
    "    sel_1[variable].hvplot(x=\"wavelength\", ylim=(-1, 1))\n",
    "    * hv.HLine(0).opts(opts.HLine(line_dash=\"dotted\"))\n",
    "    + sel_2[variable].hvplot(kind=\"quadmesh\", x=\"wavelength\", y=\"num_periods\", clim=(-1, 1), cmap=\"RdBu_r\")\n",
    "    # * hv.DynamicMap(lambda y: hv.HLine(y), streams={\"y\": widgets[\"passive_layer_thickness\"].param.value})\n",
    ").cols(1)"
   ]
  },
  {
   "cell_type": "code",
   "execution_count": null,
   "id": "8a79ec14-3340-4555-829e-b75185abfd98",
   "metadata": {},
   "outputs": [],
   "source": [
    "with dask.config.set(**{'array.slicing.split_large_chunks': False}):\n",
    "    crs_1_like_ds = (\n",
    "        crs_1#.drop(\"passive_layer_thickness\")\n",
    "        .expand_dims(passive_layer_thickness=ds.passive_layer_thickness)\n",
    "        .sel(total_excitonic_thickness=ds.total_excitonic_thickness)\n",
    "    )"
   ]
  },
  {
   "cell_type": "code",
   "execution_count": null,
   "id": "8c1421b1-7ff6-42de-9a62-05e707999d05",
   "metadata": {},
   "outputs": [],
   "source": [
    "crs_1_like_ds = assign_derived_attrs(\n",
    "    crs_1_like_ds,\n",
    "    absorption=False,\n",
    "    unpolarised=False,\n",
    "    period=True,\n",
    "    total_excitonic_thickness=False,\n",
    "    total_passive_thickness=False,\n",
    "    total_thickness=False,\n",
    "    N_tot=False,\n",
    ")"
   ]
  },
  {
   "cell_type": "code",
   "execution_count": null,
   "id": "c0e30fe5-2e5c-40b4-b64c-0bebb9454a77",
   "metadata": {},
   "outputs": [],
   "source": [
    "with dask.config.set(**{\"array.slicing.split_large_chunks\": False}):\n",
    "    restacked_crs_1 = (\n",
    "        crs_1_like_ds.stack(\n",
    "            multiperiod=[\"passive_layer_thickness\", \"excitonic_layer_thickness\"]\n",
    "        )\n",
    "        .set_index(multiperiod=[\"period\", \"excitonic_layer_thickness\"])\n",
    "        .unstack()\n",
    "    )"
   ]
  },
  {
   "cell_type": "code",
   "execution_count": null,
   "id": "d51ee99f-9597-4a2c-bd92-f6e3a134d4bd",
   "metadata": {},
   "outputs": [],
   "source": [
    "# Workaround to the bug below: pull the widget values directly\n",
    "widget_vals = {k: v.value for k, v in widgets.items()}\n",
    "\n",
    "curve_1 = (\n",
    "    restacked_ds.sel(**widget_vals).squeeze().A.hvplot(x=\"wavelength\", ylim=(0, 1), label=\"A\", group_label=\"LOPC\")\n",
    ")\n",
    "\n",
    "curve_11 = (\n",
    "    restacked_ds.sel(**widget_vals).squeeze().R.hvplot(x=\"wavelength\", ylim=(0, 1), label=\"R\", group_label=\"LOPC\")\n",
    ")\n",
    "\n",
    "curve_2 = (\n",
    "    restacked_crs_1.sel(**widget_vals).squeeze().A.hvplot(x=\"wavelength\", ylim=(0, 1), label=\"A\", group_label=\"CRS\")\n",
    ").opts(line_dash=\"dashed\")\n",
    "\n",
    "curve_21 = (\n",
    "    restacked_crs_1.sel(**widget_vals).squeeze().R.hvplot(x=\"wavelength\", ylim=(0, 1), label=\"R\", group_label=\"CRS\")\n",
    ").opts(line_dash=\"dashed\")\n",
    "\n",
    "curve_3 = (\n",
    "    (restacked_ds.sel(**widget_vals) / restacked_crs_1.sel(**widget_vals))\n",
    "    .squeeze()\n",
    "    .A.hvplot(x=\"wavelength\", ylim=(0.5, 1.5))\n",
    ")\n",
    "\n",
    "((curve_1 * curve_11 *curve_2 * curve_21) + curve_3 * hv.HLine(1).opts(line_dash=\"dashed\")).cols(1).opts(\n",
    "    shared_axes=False\n",
    ")"
   ]
  },
  {
   "cell_type": "markdown",
   "id": "ed8b155e-f32d-44a0-a863-04da04ba3bb7",
   "metadata": {
    "jp-MarkdownHeadingCollapsed": true,
    "tags": []
   },
   "source": [
    "### Optimisation"
   ]
  },
  {
   "cell_type": "markdown",
   "id": "ea73d632-afa2-491b-8e79-17a63e847ae6",
   "metadata": {},
   "source": [
    "Can just reuse the dmaps from the RTA section, because difference factors integrate perfectly well."
   ]
  },
  {
   "cell_type": "code",
   "execution_count": null,
   "id": "32f180dd-1767-4fb4-a4e4-d252aeea8d31",
   "metadata": {},
   "outputs": [],
   "source": [
    "# Use this to record interesting key sets\n",
    "angle_dmap.current_key"
   ]
  },
  {
   "cell_type": "markdown",
   "id": "9732d9b5-8cf4-47d1-822f-93377d2d47d7",
   "metadata": {
    "jp-MarkdownHeadingCollapsed": true,
    "tags": []
   },
   "source": [
    "### Transmittance difference factor"
   ]
  },
  {
   "cell_type": "markdown",
   "id": "3045642c-9fd4-4c73-beda-8f18b919ed0c",
   "metadata": {
    "tags": []
   },
   "source": [
    "#### Max (near)"
   ]
  },
  {
   "cell_type": "markdown",
   "id": "23d50dcf-7160-4334-83d8-e1dac698e543",
   "metadata": {
    "tags": []
   },
   "source": [
    "##### Normal incidence"
   ]
  },
  {
   "cell_type": "markdown",
   "id": "02b1b3fb-fe66-404b-a0d2-bd0a79a80589",
   "metadata": {},
   "source": [
    "At normal incidence and on resonance, optimal structure for maximising absorptance difference factor is similar to for absorptance enhancement factor. As the window width increases, the optimal total excitonic layer thickness also increases. The relevance of the slow light enhancement decreases relative to that of path length enhancement (see 0-5-0-0)."
   ]
  },
  {
   "cell_type": "code",
   "execution_count": null,
   "id": "836bc0f3-3976-4c63-ad38-a792e045c033",
   "metadata": {},
   "outputs": [],
   "source": [
    "dmap[('T', 'restacked_diff_1', 'max', 0, 0, 0, 'cividis', 10, 450)]"
   ]
  },
  {
   "cell_type": "code",
   "execution_count": null,
   "id": "2f16d71d-127f-40da-8879-dca50499bf59",
   "metadata": {},
   "outputs": [],
   "source": [
    "dmap[('T', 'restacked_diff_1', 'max', 0, 2, 0, 'cividis', 10, 450)]"
   ]
  },
  {
   "cell_type": "code",
   "execution_count": null,
   "id": "6232ef76-1b14-4214-97e0-873aa1a599e7",
   "metadata": {},
   "outputs": [],
   "source": [
    "dmap[('T', 'restacked_diff_1', 'max', 0, 5, 0, 'cividis', 10, 450)]"
   ]
  },
  {
   "cell_type": "markdown",
   "id": "53d94156-adf1-438b-81da-a3d7612b0b12",
   "metadata": {
    "tags": []
   },
   "source": [
    "##### 30 degrees"
   ]
  },
  {
   "cell_type": "markdown",
   "id": "a158204b-e2cf-45f0-a9a7-ee8f2b7be10a",
   "metadata": {},
   "source": [
    "Higher angle = higher period, otherwise structure is similar."
   ]
  },
  {
   "cell_type": "code",
   "execution_count": null,
   "id": "87c41cc9-fe74-45a5-a23d-c1de5d0b17e1",
   "metadata": {},
   "outputs": [],
   "source": [
    "angle_dmap[('T', 'restacked_diff_1', 'max', 0, 0, 30, 'cividis', 10, 450, 0)]"
   ]
  },
  {
   "cell_type": "code",
   "execution_count": null,
   "id": "ba8a1926-8080-4e89-9837-abee15030220",
   "metadata": {},
   "outputs": [],
   "source": [
    "angle_dmap[('T', 'restacked_diff_1', 'max', 0, 2, 30, 'cividis', 10, 450, 0)]"
   ]
  },
  {
   "cell_type": "code",
   "execution_count": null,
   "id": "76b20e22-cef7-4b75-8ab3-905567b2be6d",
   "metadata": {},
   "outputs": [],
   "source": [
    "angle_dmap[('T', 'restacked_diff_1', 'max', 0, 5, 30, 'cividis', 10, 450, 0)]"
   ]
  },
  {
   "cell_type": "markdown",
   "id": "566827c7-9a73-4c99-bfda-e6f4d34bcf24",
   "metadata": {
    "tags": []
   },
   "source": [
    "##### Integrated 0-75 degrees"
   ]
  },
  {
   "cell_type": "code",
   "execution_count": null,
   "id": "72bc88ee-402f-4c4e-b4c0-6c580a804197",
   "metadata": {},
   "outputs": [],
   "source": [
    "%%capture --no-stdout --no-display\n",
    "# ignore divide by zero warnings\n",
    "\n",
    "angle_dmap[('T', 'restacked_diff_1', 'max', 0, 0, 0, 'cividis', 10, 450, 75)]"
   ]
  },
  {
   "cell_type": "code",
   "execution_count": null,
   "id": "197875da-20e0-4e88-bc30-1db760e887c4",
   "metadata": {},
   "outputs": [],
   "source": [
    "%%capture --no-stdout --no-display\n",
    "# ignore divide by zero warnings\n",
    "\n",
    "angle_dmap[('T', 'restacked_diff_1', 'max', 0, 2, 0, 'cividis', 10, 450, 75)]"
   ]
  },
  {
   "cell_type": "code",
   "execution_count": null,
   "id": "3650fecf-ac13-48e7-a4e3-dbb63af1b7e7",
   "metadata": {},
   "outputs": [],
   "source": [
    "%%capture --no-stdout --no-display\n",
    "# ignore divide by zero warnings\n",
    "\n",
    "angle_dmap[('T', 'restacked_diff_1', 'max', 0, 5, 0, 'cividis', 10, 450, 75)]"
   ]
  },
  {
   "cell_type": "markdown",
   "id": "08143d69-764f-46c7-87b7-41605b0a5b32",
   "metadata": {
    "tags": []
   },
   "source": [
    "#### Max (far)"
   ]
  },
  {
   "cell_type": "markdown",
   "id": "32eb5669-9954-4223-aab7-4a6f153e24a9",
   "metadata": {
    "tags": []
   },
   "source": [
    "##### Normal incidence"
   ]
  },
  {
   "cell_type": "code",
   "execution_count": null,
   "id": "4f2225f7-7366-4a0d-a726-66e87aa8e18f",
   "metadata": {},
   "outputs": [],
   "source": [
    "dmap[('T', 'restacked_diff_1', 'max', -5, 0, 0, 'cividis', 10, 450)]"
   ]
  },
  {
   "cell_type": "code",
   "execution_count": null,
   "id": "a2e7c3d6-8896-4f35-8f40-29593ce7b135",
   "metadata": {},
   "outputs": [],
   "source": [
    "dmap[('T', 'restacked_diff_1', 'max', -5, 2, 0, 'cividis', 10, 450)]"
   ]
  },
  {
   "cell_type": "code",
   "execution_count": null,
   "id": "134b1182-5db9-4f25-833b-817945c9d087",
   "metadata": {},
   "outputs": [],
   "source": [
    "dmap[('T', 'restacked_diff_1', 'max', 5, 0, 0, 'cividis', 10, 450)]"
   ]
  },
  {
   "cell_type": "code",
   "execution_count": null,
   "id": "f9cc07c3-3889-4bdc-9247-71f8ac1ccc37",
   "metadata": {},
   "outputs": [],
   "source": [
    "dmap[('T', 'restacked_diff_1', 'max', 5, 2, 0, 'cividis', 10, 450)]"
   ]
  },
  {
   "cell_type": "markdown",
   "id": "7f915a75-c8f0-481f-9321-59dd24a197c2",
   "metadata": {
    "tags": []
   },
   "source": [
    "##### 30 degrees"
   ]
  },
  {
   "cell_type": "code",
   "execution_count": null,
   "id": "2fda5225-dae4-4364-b391-cee45ed8710a",
   "metadata": {},
   "outputs": [],
   "source": [
    "angle_dmap[('T', 'restacked_diff_1', 'max', -5, 0, 30, 'cividis', 10, 450, 0)]"
   ]
  },
  {
   "cell_type": "code",
   "execution_count": null,
   "id": "07904b78-b069-4f05-94d4-0e253c5153f2",
   "metadata": {},
   "outputs": [],
   "source": [
    "angle_dmap[('T', 'restacked_diff_1', 'max', -5, 2, 30, 'cividis', 10, 450, 0)]"
   ]
  },
  {
   "cell_type": "code",
   "execution_count": null,
   "id": "27379e1a-f90f-4c75-9991-5655a12c0c81",
   "metadata": {},
   "outputs": [],
   "source": [
    "angle_dmap[('T', 'restacked_diff_1', 'max', 5, 0, 30, 'cividis', 10, 450, 0)]"
   ]
  },
  {
   "cell_type": "code",
   "execution_count": null,
   "id": "2c8facfc-ace6-43ed-996b-94eec03fdb2c",
   "metadata": {},
   "outputs": [],
   "source": [
    "angle_dmap[('T', 'restacked_diff_1', 'max', 5, 2, 30, 'cividis', 10, 450, 0)]"
   ]
  },
  {
   "cell_type": "markdown",
   "id": "c246b241-170d-43fb-8ebe-b9edbc94a556",
   "metadata": {
    "tags": []
   },
   "source": [
    "##### Integrated 0-75 degrees"
   ]
  },
  {
   "cell_type": "code",
   "execution_count": null,
   "id": "5ed5fc6c-72f6-40c8-859d-9c03a150d6f4",
   "metadata": {},
   "outputs": [],
   "source": [
    "%%capture --no-stdout --no-display\n",
    "# ignore divide by zero warnings\n",
    "\n",
    "angle_dmap[('T', 'restacked_diff_1', 'max', -5, 0, 0, 'cividis', 10, 450, 75)]"
   ]
  },
  {
   "cell_type": "code",
   "execution_count": null,
   "id": "ea5efa69-eff2-4276-814c-13295cb259af",
   "metadata": {},
   "outputs": [],
   "source": [
    "%%capture --no-stdout --no-display\n",
    "# ignore divide by zero warnings\n",
    "\n",
    "angle_dmap[('T', 'restacked_diff_1', 'max', -5, 2, 0, 'cividis', 10, 450, 75)]"
   ]
  },
  {
   "cell_type": "code",
   "execution_count": null,
   "id": "be95f6a9-2840-4020-959f-8737b8e29542",
   "metadata": {},
   "outputs": [],
   "source": [
    "%%capture --no-stdout --no-display\n",
    "# ignore divide by zero warnings\n",
    "\n",
    "angle_dmap[('T', 'restacked_diff_1', 'max', 5, 0, 0, 'cividis', 10, 450, 75)]"
   ]
  },
  {
   "cell_type": "code",
   "execution_count": null,
   "id": "bc80508b-bbb2-451d-ad9e-5214fbbe14ba",
   "metadata": {},
   "outputs": [],
   "source": [
    "%%capture --no-stdout --no-display\n",
    "# ignore divide by zero warnings\n",
    "\n",
    "angle_dmap[('T', 'restacked_diff_1', 'max', 5, 2, 0, 'cividis', 10, 450, 75)]"
   ]
  },
  {
   "cell_type": "markdown",
   "id": "689b4058-7ab5-4516-88d8-d1b5a64e17d0",
   "metadata": {
    "tags": []
   },
   "source": [
    "#### Min (near)"
   ]
  },
  {
   "cell_type": "markdown",
   "id": "bddd53c3-de69-40d0-a57b-c946125d36f3",
   "metadata": {
    "tags": []
   },
   "source": [
    "##### Normal incidence"
   ]
  },
  {
   "cell_type": "code",
   "execution_count": null,
   "id": "e63db188-23cd-4c7f-979d-7a21c4b40ce2",
   "metadata": {},
   "outputs": [],
   "source": [
    "dmap[('T', 'restacked_diff_1', 'min', 0, 0, 0, 'cividis', 10, 450)]"
   ]
  },
  {
   "cell_type": "code",
   "execution_count": null,
   "id": "7a7d6432-0d82-4a49-ab89-e103ef206e4a",
   "metadata": {},
   "outputs": [],
   "source": [
    "dmap[('T', 'restacked_diff_1', 'min', 0, 2, 0, 'cividis', 10, 450)]"
   ]
  },
  {
   "cell_type": "code",
   "execution_count": null,
   "id": "539b8c1e-eb57-4a10-9b64-5e3676d80b94",
   "metadata": {},
   "outputs": [],
   "source": [
    "dmap[('T', 'restacked_diff_1', 'min', 0, 5, 0, 'cividis', 10, 450)]"
   ]
  },
  {
   "cell_type": "markdown",
   "id": "5efbc205-bc59-4f6a-b914-a8f0dd53a4f7",
   "metadata": {
    "tags": []
   },
   "source": [
    "##### 30 degrees"
   ]
  },
  {
   "cell_type": "code",
   "execution_count": null,
   "id": "8d982d37-6155-4997-b628-74b9beab5da5",
   "metadata": {},
   "outputs": [],
   "source": [
    "angle_dmap[('T', 'restacked_diff_1', 'min', 0, 0, 30, 'cividis', 10, 450, 0)]"
   ]
  },
  {
   "cell_type": "code",
   "execution_count": null,
   "id": "db53dd41-eda2-4740-b05d-73dd2d70cad4",
   "metadata": {},
   "outputs": [],
   "source": [
    "angle_dmap[('T', 'restacked_diff_1', 'min', 0, 2, 30, 'cividis', 10, 450, 0)]"
   ]
  },
  {
   "cell_type": "code",
   "execution_count": null,
   "id": "719c3d29-d08a-42ed-bbb9-df7dc08cfe11",
   "metadata": {},
   "outputs": [],
   "source": [
    "angle_dmap[('T', 'restacked_diff_1', 'min', 0, 5, 30, 'cividis', 10, 450, 0)]"
   ]
  },
  {
   "cell_type": "markdown",
   "id": "2eccd5e7-7739-4378-9b33-2c54a78e548f",
   "metadata": {
    "tags": []
   },
   "source": [
    "##### Integrated 0-75 degrees"
   ]
  },
  {
   "cell_type": "code",
   "execution_count": null,
   "id": "551fb5ae-c0fe-44e8-a93b-dc8123915303",
   "metadata": {},
   "outputs": [],
   "source": [
    "%%capture --no-stdout --no-display\n",
    "# ignore divide by zero warnings\n",
    "\n",
    "angle_dmap[('T', 'restacked_diff_1', 'min', 0, 0, 0, 'cividis', 10, 450, 75)]"
   ]
  },
  {
   "cell_type": "code",
   "execution_count": null,
   "id": "31b6d12e-cc5d-417c-9e8a-1afb72d829ea",
   "metadata": {},
   "outputs": [],
   "source": [
    "%%capture --no-stdout --no-display\n",
    "# ignore divide by zero warnings\n",
    "\n",
    "angle_dmap[('T', 'restacked_diff_1', 'min', 0, 2, 0, 'cividis', 10, 450, 75)]"
   ]
  },
  {
   "cell_type": "code",
   "execution_count": null,
   "id": "f48369d4-60d8-46b3-a5f7-1b97d40393d3",
   "metadata": {},
   "outputs": [],
   "source": [
    "%%capture --no-stdout --no-display\n",
    "# ignore divide by zero warnings\n",
    "\n",
    "angle_dmap[('T', 'restacked_diff_1', 'min', 0, 5, 0, 'cividis', 10, 450, 75)]"
   ]
  },
  {
   "cell_type": "markdown",
   "id": "10bd0bc2-a3d7-4883-be11-5ae178aa1537",
   "metadata": {
    "tags": []
   },
   "source": [
    "#### Min (far)"
   ]
  },
  {
   "cell_type": "markdown",
   "id": "280759fc-46f7-4573-b7c2-eafce2a05180",
   "metadata": {
    "tags": []
   },
   "source": [
    "##### Normal incidence"
   ]
  },
  {
   "cell_type": "code",
   "execution_count": null,
   "id": "46efec7a-f1dd-4274-acf2-006dbb16ab4e",
   "metadata": {},
   "outputs": [],
   "source": [
    "dmap[('T', 'restacked_diff_1', 'min', -5, 0, 0, 'cividis', 10, 450)]"
   ]
  },
  {
   "cell_type": "code",
   "execution_count": null,
   "id": "84ccc512-42cd-47cb-a854-155f52a76b27",
   "metadata": {},
   "outputs": [],
   "source": [
    "dmap[('T', 'restacked_diff_1', 'min', -5, 2, 0, 'cividis', 10, 450)]"
   ]
  },
  {
   "cell_type": "code",
   "execution_count": null,
   "id": "925587bb-4fcc-4be9-8671-cd96a9710236",
   "metadata": {},
   "outputs": [],
   "source": [
    "dmap[('T', 'restacked_diff_1', 'min', 5, 0, 0, 'cividis', 10, 450)]"
   ]
  },
  {
   "cell_type": "code",
   "execution_count": null,
   "id": "76951092-8657-413c-899f-593f120cce1c",
   "metadata": {},
   "outputs": [],
   "source": [
    "dmap[('T', 'restacked_diff_1', 'min', 5, 2, 0, 'cividis', 10, 450)]"
   ]
  },
  {
   "cell_type": "markdown",
   "id": "0ec1dd9f-e009-409f-b648-ebf88989e69d",
   "metadata": {
    "tags": []
   },
   "source": [
    "##### 30 degrees"
   ]
  },
  {
   "cell_type": "code",
   "execution_count": null,
   "id": "cbeb2390-4a31-4a8f-ab4a-4cfe8d15c6cd",
   "metadata": {},
   "outputs": [],
   "source": [
    "angle_dmap[('T', 'restacked_diff_1', 'min', -5, 0, 30, 'cividis', 10, 450, 0)]"
   ]
  },
  {
   "cell_type": "code",
   "execution_count": null,
   "id": "3b4cf1b5-b12c-4a70-80a3-3e500c9f7dad",
   "metadata": {},
   "outputs": [],
   "source": [
    "angle_dmap[('T', 'restacked_diff_1', 'min', -5, 2, 30, 'cividis', 10, 450, 0)]"
   ]
  },
  {
   "cell_type": "code",
   "execution_count": null,
   "id": "49cf4367-96ca-4baf-b11a-abe9e38df535",
   "metadata": {},
   "outputs": [],
   "source": [
    "angle_dmap[('T', 'restacked_diff_1', 'min', 5, 0, 30, 'cividis', 10, 450, 0)]"
   ]
  },
  {
   "cell_type": "code",
   "execution_count": null,
   "id": "6bee16d1-1347-4ab8-8664-0a5ecc4ef235",
   "metadata": {},
   "outputs": [],
   "source": [
    "angle_dmap[('T', 'restacked_diff_1', 'min', 5, 2, 30, 'cividis', 10, 450, 0)]"
   ]
  },
  {
   "cell_type": "markdown",
   "id": "c0841878-b881-4d7a-9e05-ddca923bb144",
   "metadata": {
    "tags": []
   },
   "source": [
    "##### Integrated 0-75 degrees"
   ]
  },
  {
   "cell_type": "code",
   "execution_count": null,
   "id": "a4dcbf9f-40c1-4df8-898d-892364c1838d",
   "metadata": {},
   "outputs": [],
   "source": [
    "%%capture --no-stdout --no-display\n",
    "# ignore divide by zero warnings\n",
    "\n",
    "angle_dmap[('T', 'restacked_diff_1', 'min', -5, 0, 0, 'cividis', 10, 450, 75)]"
   ]
  },
  {
   "cell_type": "code",
   "execution_count": null,
   "id": "a43c2363-c431-421d-8bb4-442ffeb95d92",
   "metadata": {},
   "outputs": [],
   "source": [
    "%%capture --no-stdout --no-display\n",
    "# ignore divide by zero warnings\n",
    "\n",
    "angle_dmap[('T', 'restacked_diff_1', 'min', -5, 2, 0, 'cividis', 10, 450, 75)]"
   ]
  },
  {
   "cell_type": "code",
   "execution_count": null,
   "id": "606a55fd-610a-47ba-9daa-17f247416289",
   "metadata": {},
   "outputs": [],
   "source": [
    "%%capture --no-stdout --no-display\n",
    "# ignore divide by zero warnings\n",
    "\n",
    "angle_dmap[('T', 'restacked_diff_1', 'min', 5, 0, 0, 'cividis', 10, 450, 75)]"
   ]
  },
  {
   "cell_type": "code",
   "execution_count": null,
   "id": "3a35dbd6-5869-48c9-bde4-42ebf91d0454",
   "metadata": {},
   "outputs": [],
   "source": [
    "%%capture --no-stdout --no-display\n",
    "# ignore divide by zero warnings\n",
    "\n",
    "angle_dmap[('T', 'restacked_diff_1', 'min', 5, 2, 0, 'cividis', 10, 450, 75)]"
   ]
  },
  {
   "cell_type": "markdown",
   "id": "1ee83f7b-2547-4bc3-b912-10c7ec134464",
   "metadata": {
    "jp-MarkdownHeadingCollapsed": true,
    "tags": []
   },
   "source": [
    "### Absorptance difference factor"
   ]
  },
  {
   "cell_type": "markdown",
   "id": "aab1479e-faab-4266-a88c-5dd40b807f3d",
   "metadata": {
    "tags": []
   },
   "source": [
    "#### Max (near)"
   ]
  },
  {
   "cell_type": "markdown",
   "id": "4e0fe759-bee7-482c-9899-4fa6f1ffc5d8",
   "metadata": {
    "tags": []
   },
   "source": [
    "##### Normal incidence"
   ]
  },
  {
   "cell_type": "markdown",
   "id": "0e238c4a-471d-43f5-90d2-b2c8630c753f",
   "metadata": {},
   "source": [
    "At normal incidence and on resonance, optimal structure for maximising absorptance difference factor is similar to for absorptance enhancement factor. As the window width increases, the optimal total excitonic layer thickness also increases. The relevance of the slow light enhancement decreases relative to that of path length enhancement (see 0-5-0-0)."
   ]
  },
  {
   "cell_type": "code",
   "execution_count": null,
   "id": "f73bafaf-ad0b-4322-85b3-b8e2ab0a8eda",
   "metadata": {},
   "outputs": [],
   "source": [
    "dmap[('A', 'restacked_diff_1', 'max', 0, 0, 0, 'inferno', 10, 450)]"
   ]
  },
  {
   "cell_type": "code",
   "execution_count": null,
   "id": "a6fa2433-161e-409e-aa9f-8ba627fe9fb0",
   "metadata": {},
   "outputs": [],
   "source": [
    "dmap[('A', 'restacked_diff_1', 'max', 0, 2, 0, 'inferno', 10, 450)]"
   ]
  },
  {
   "cell_type": "code",
   "execution_count": null,
   "id": "431de8d6-e785-4071-afb9-629f08369f1b",
   "metadata": {},
   "outputs": [],
   "source": [
    "dmap[('A', 'restacked_diff_1', 'max', 0, 5, 0, 'inferno', 10, 450)]"
   ]
  },
  {
   "cell_type": "markdown",
   "id": "17d2a4b2-8fc1-439f-a66b-a5a1f172d709",
   "metadata": {
    "tags": []
   },
   "source": [
    "##### 30 degrees"
   ]
  },
  {
   "cell_type": "markdown",
   "id": "59b7839e-a823-4745-9094-710e3c8fd211",
   "metadata": {},
   "source": [
    "Higher angle = higher period, otherwise structure is similar."
   ]
  },
  {
   "cell_type": "code",
   "execution_count": null,
   "id": "b4ea5067-ec60-4f72-bf37-b78065e1f084",
   "metadata": {},
   "outputs": [],
   "source": [
    "angle_dmap[('A', 'restacked_diff_1', 'max', 0, 0, 30, 'inferno', 10, 450, 0)]"
   ]
  },
  {
   "cell_type": "code",
   "execution_count": null,
   "id": "e0cab150-b5ba-42ad-a25d-61f2b3ef637d",
   "metadata": {
    "tags": []
   },
   "outputs": [],
   "source": [
    "angle_dmap[('A', 'restacked_diff_1', 'max', 0, 2, 30, 'inferno', 10, 450, 0)]"
   ]
  },
  {
   "cell_type": "code",
   "execution_count": null,
   "id": "dbecf3e6-00c8-43e2-a235-03a96a0c9b4f",
   "metadata": {},
   "outputs": [],
   "source": [
    "angle_dmap[('A', 'restacked_diff_1', 'max', 0, 5, 30, 'inferno', 10, 450, 0)]"
   ]
  },
  {
   "cell_type": "markdown",
   "id": "39a87f6b-9805-4841-9544-0ebd3a44f7c4",
   "metadata": {
    "tags": []
   },
   "source": [
    "##### Integrated 0-75 degrees"
   ]
  },
  {
   "cell_type": "code",
   "execution_count": null,
   "id": "ae62c19e-b006-463f-8892-705f002bf21a",
   "metadata": {},
   "outputs": [],
   "source": [
    "%%capture --no-stdout --no-display\n",
    "# ignore divide by zero warnings\n",
    "\n",
    "angle_dmap[('A', 'restacked_diff_1', 'max', 0, 0, 0, 'inferno', 10, 450, 75)]"
   ]
  },
  {
   "cell_type": "code",
   "execution_count": null,
   "id": "737b62c3-9f1d-49c5-9594-24bdcc7718d8",
   "metadata": {},
   "outputs": [],
   "source": [
    "%%capture --no-stdout --no-display\n",
    "# ignore divide by zero warnings\n",
    "\n",
    "angle_dmap[('A', 'restacked_diff_1', 'max', 0, 2, 0, 'inferno', 10, 450, 75)]"
   ]
  },
  {
   "cell_type": "code",
   "execution_count": null,
   "id": "876955a7-1807-4727-9a34-b4e87077a9ee",
   "metadata": {},
   "outputs": [],
   "source": [
    "%%capture --no-stdout --no-display\n",
    "# ignore divide by zero warnings\n",
    "\n",
    "angle_dmap[('A', 'restacked_diff_1', 'max', 0, 5, 0, 'inferno', 10, 450, 75)]"
   ]
  },
  {
   "cell_type": "markdown",
   "id": "100897b4-cbe6-4afc-8fd2-55fd6619c5d8",
   "metadata": {
    "tags": []
   },
   "source": [
    "#### Max (far)"
   ]
  },
  {
   "cell_type": "markdown",
   "id": "7b3e4958-3427-477b-9406-9f066a106328",
   "metadata": {
    "tags": []
   },
   "source": [
    "##### Normal incidence"
   ]
  },
  {
   "cell_type": "code",
   "execution_count": null,
   "id": "59541d6e-9f40-4496-9741-9af1c5bf7b53",
   "metadata": {},
   "outputs": [],
   "source": [
    "dmap[('A', 'restacked_diff_1', 'max', -5, 0, 0, 'inferno', 10, 450)]"
   ]
  },
  {
   "cell_type": "code",
   "execution_count": null,
   "id": "cb846067-db75-4850-bc07-dc42d8bec240",
   "metadata": {},
   "outputs": [],
   "source": [
    "dmap[('A', 'restacked_diff_1', 'max', -5, 2, 0, 'inferno', 10, 450)]"
   ]
  },
  {
   "cell_type": "code",
   "execution_count": null,
   "id": "e5430af5-6f2c-416b-ba81-22f2d541b051",
   "metadata": {},
   "outputs": [],
   "source": [
    "dmap[('A', 'restacked_diff_1', 'max', 5, 0, 0, 'inferno', 10, 450)]"
   ]
  },
  {
   "cell_type": "code",
   "execution_count": null,
   "id": "e7b6f805-00da-454f-8fb1-669167517334",
   "metadata": {},
   "outputs": [],
   "source": [
    "dmap[('A', 'restacked_diff_1', 'max', 5, 2, 0, 'inferno', 10, 450)]"
   ]
  },
  {
   "cell_type": "markdown",
   "id": "48b45986-d484-4a14-a951-e56335d27260",
   "metadata": {
    "tags": []
   },
   "source": [
    "##### 30 degrees"
   ]
  },
  {
   "cell_type": "code",
   "execution_count": null,
   "id": "49f44855-c440-4f81-a95a-5c37a864be7a",
   "metadata": {},
   "outputs": [],
   "source": [
    "angle_dmap[('A', 'restacked_diff_1', 'max', -5, 0, 30, 'inferno', 10, 450, 0)]"
   ]
  },
  {
   "cell_type": "code",
   "execution_count": null,
   "id": "72c6d9b0-25ff-4a31-8042-6c713875585d",
   "metadata": {},
   "outputs": [],
   "source": [
    "angle_dmap[('A', 'restacked_diff_1', 'max', -5, 2, 30, 'inferno', 10, 450, 0)]"
   ]
  },
  {
   "cell_type": "code",
   "execution_count": null,
   "id": "03132ae3-b5b7-4445-8071-6adc665ef1de",
   "metadata": {},
   "outputs": [],
   "source": [
    "angle_dmap[('A', 'restacked_diff_1', 'max', 5, 0, 30, 'inferno', 10, 450, 0)]"
   ]
  },
  {
   "cell_type": "code",
   "execution_count": null,
   "id": "eceb10a1-432a-4d6f-b1a9-b6a99e977e67",
   "metadata": {},
   "outputs": [],
   "source": [
    "angle_dmap[('A', 'restacked_diff_1', 'max', 5, 2, 30, 'inferno', 10, 450, 0)]"
   ]
  },
  {
   "cell_type": "markdown",
   "id": "977a8cc9-888e-4668-a6b2-eae60f4fd7c5",
   "metadata": {
    "tags": []
   },
   "source": [
    "##### Integrated 0-75 degrees"
   ]
  },
  {
   "cell_type": "code",
   "execution_count": null,
   "id": "be39c938-5f94-4010-a806-237c04da8898",
   "metadata": {},
   "outputs": [],
   "source": [
    "%%capture --no-stdout --no-display\n",
    "# ignore divide by zero warnings\n",
    "\n",
    "angle_dmap[('A', 'restacked_diff_1', 'max', -5, 0, 0, 'inferno', 10, 450, 75)]"
   ]
  },
  {
   "cell_type": "code",
   "execution_count": null,
   "id": "19d01610-810c-4e4c-b8db-a04c3c9edf2b",
   "metadata": {},
   "outputs": [],
   "source": [
    "%%capture --no-stdout --no-display\n",
    "# ignore divide by zero warnings\n",
    "\n",
    "angle_dmap[('A', 'restacked_diff_1', 'max', -5, 2, 0, 'inferno', 10, 450, 75)]"
   ]
  },
  {
   "cell_type": "code",
   "execution_count": null,
   "id": "783d841e-0649-4b67-ac73-ce02ae763743",
   "metadata": {},
   "outputs": [],
   "source": [
    "%%capture --no-stdout --no-display\n",
    "# ignore divide by zero warnings\n",
    "\n",
    "angle_dmap[('A', 'restacked_diff_1', 'max', 5, 0, 0, 'inferno', 10, 450, 75)]"
   ]
  },
  {
   "cell_type": "code",
   "execution_count": null,
   "id": "237cfd84-afed-4ca9-8442-c873eabeb57b",
   "metadata": {},
   "outputs": [],
   "source": [
    "%%capture --no-stdout --no-display\n",
    "# ignore divide by zero warnings\n",
    "\n",
    "angle_dmap[('A', 'restacked_diff_1', 'max', 5, 2, 0, 'inferno', 10, 450, 75)]"
   ]
  },
  {
   "cell_type": "markdown",
   "id": "55c55a06-58ed-4081-b94d-a31e88392177",
   "metadata": {
    "tags": []
   },
   "source": [
    "#### Min (near)"
   ]
  },
  {
   "cell_type": "markdown",
   "id": "563d19a8-e393-4b72-8002-47a3cd402ab2",
   "metadata": {
    "tags": []
   },
   "source": [
    "##### Normal incidence"
   ]
  },
  {
   "cell_type": "code",
   "execution_count": null,
   "id": "2ec25d3d-c05e-40e6-af34-9fab7bd36e6c",
   "metadata": {},
   "outputs": [],
   "source": [
    "dmap[('A', 'restacked_diff_1', 'min', 0, 0, 0, 'inferno', 10, 450)]"
   ]
  },
  {
   "cell_type": "code",
   "execution_count": null,
   "id": "192cf0f1-e7ef-44e8-a417-103427a660e7",
   "metadata": {},
   "outputs": [],
   "source": [
    "dmap[('A', 'restacked_diff_1', 'min', 0, 2, 0, 'inferno', 10, 450)]"
   ]
  },
  {
   "cell_type": "code",
   "execution_count": null,
   "id": "9ffe182f-c6d5-40c2-8bf3-f7f407aa03fe",
   "metadata": {},
   "outputs": [],
   "source": [
    "dmap[('A', 'restacked_diff_1', 'min', 0, 5, 0, 'inferno', 10, 450)]"
   ]
  },
  {
   "cell_type": "markdown",
   "id": "e1ece6c8-21da-4606-bfbf-cc3d38d4a53a",
   "metadata": {
    "tags": []
   },
   "source": [
    "##### 30 degrees"
   ]
  },
  {
   "cell_type": "code",
   "execution_count": null,
   "id": "b7140acc-64d3-45ce-adf6-0297170ac83a",
   "metadata": {},
   "outputs": [],
   "source": [
    "angle_dmap[('A', 'restacked_diff_1', 'min', 0, 0, 30, 'inferno', 10, 450, 0)]"
   ]
  },
  {
   "cell_type": "code",
   "execution_count": null,
   "id": "23866ef8-3310-424f-a2be-040a2ec2d521",
   "metadata": {},
   "outputs": [],
   "source": [
    "angle_dmap[('A', 'restacked_diff_1', 'min', 0, 2, 30, 'inferno', 10, 450, 0)]"
   ]
  },
  {
   "cell_type": "code",
   "execution_count": null,
   "id": "cf225e8c-ed45-4d92-8ca8-5af73120fac6",
   "metadata": {},
   "outputs": [],
   "source": [
    "angle_dmap[('A', 'restacked_diff_1', 'min', 0, 5, 30, 'inferno', 10, 450, 0)]"
   ]
  },
  {
   "cell_type": "markdown",
   "id": "afcbe58d-4bb2-4c83-80ae-63921585af66",
   "metadata": {
    "tags": []
   },
   "source": [
    "##### Integrated 0-75 degrees"
   ]
  },
  {
   "cell_type": "code",
   "execution_count": null,
   "id": "df420ca8-aa9f-4f1b-a90e-a16c25b15dd6",
   "metadata": {},
   "outputs": [],
   "source": [
    "%%capture --no-stdout --no-display\n",
    "# ignore divide by zero warnings\n",
    "\n",
    "angle_dmap[('A', 'restacked_diff_1', 'min', 0, 0, 0, 'inferno', 10, 450, 75)]"
   ]
  },
  {
   "cell_type": "code",
   "execution_count": null,
   "id": "3a52739d-31c1-466a-b8d3-1ca4b8e4ba0d",
   "metadata": {},
   "outputs": [],
   "source": [
    "%%capture --no-stdout --no-display\n",
    "# ignore divide by zero warnings\n",
    "\n",
    "angle_dmap[('A', 'restacked_diff_1', 'min', 0, 2, 0, 'inferno', 10, 450, 75)]"
   ]
  },
  {
   "cell_type": "code",
   "execution_count": null,
   "id": "5a92679f-87d0-4ef8-a937-626e03cabc41",
   "metadata": {},
   "outputs": [],
   "source": [
    "%%capture --no-stdout --no-display\n",
    "# ignore divide by zero warnings\n",
    "\n",
    "angle_dmap[('A', 'restacked_diff_1', 'min', 0, 5, 0, 'inferno', 10, 450, 75)]"
   ]
  },
  {
   "cell_type": "markdown",
   "id": "e5f69ce6-b805-43ad-a918-c0e2b7edf9ff",
   "metadata": {
    "tags": []
   },
   "source": [
    "#### Min (far)"
   ]
  },
  {
   "cell_type": "markdown",
   "id": "a8f645e2-d122-43a3-a6d6-b27d975851cf",
   "metadata": {
    "tags": []
   },
   "source": [
    "##### Normal incidence"
   ]
  },
  {
   "cell_type": "code",
   "execution_count": null,
   "id": "4ce884a0-b596-4a96-a0f5-c61ee785ed00",
   "metadata": {},
   "outputs": [],
   "source": [
    "dmap[('A', 'restacked_diff_1', 'min', -5, 0, 0, 'inferno', 10, 450)]"
   ]
  },
  {
   "cell_type": "code",
   "execution_count": null,
   "id": "adb087e0-1276-4c3f-86e7-1a85f52fccdd",
   "metadata": {},
   "outputs": [],
   "source": [
    "dmap[('A', 'restacked_diff_1', 'min', -5, 2, 0, 'inferno', 10, 450)]"
   ]
  },
  {
   "cell_type": "code",
   "execution_count": null,
   "id": "94083c8a-9096-423f-82ef-3e7eeca8d322",
   "metadata": {},
   "outputs": [],
   "source": [
    "dmap[('A', 'restacked_diff_1', 'min', 5, 0, 0, 'inferno', 10, 450)]"
   ]
  },
  {
   "cell_type": "code",
   "execution_count": null,
   "id": "610c6552-43d3-4d86-8f3a-9988c9be7cf9",
   "metadata": {},
   "outputs": [],
   "source": [
    "dmap[('A', 'restacked_diff_1', 'min', 5, 2, 0, 'inferno', 10, 450)]"
   ]
  },
  {
   "cell_type": "markdown",
   "id": "668e027c-d3c4-4687-8b07-1f0189856eed",
   "metadata": {
    "tags": []
   },
   "source": [
    "##### 30 degrees"
   ]
  },
  {
   "cell_type": "code",
   "execution_count": null,
   "id": "18cd17ed-ed33-40de-ac12-1abb319d8e93",
   "metadata": {},
   "outputs": [],
   "source": [
    "angle_dmap[('A', 'restacked_diff_1', 'min', -5, 0, 30, 'inferno', 10, 450, 0)]"
   ]
  },
  {
   "cell_type": "code",
   "execution_count": null,
   "id": "2572d7d5-f5f4-465c-8478-b975cec4c9ef",
   "metadata": {},
   "outputs": [],
   "source": [
    "angle_dmap[('A', 'restacked_diff_1', 'min', -5, 2, 30, 'inferno', 10, 450, 0)]"
   ]
  },
  {
   "cell_type": "code",
   "execution_count": null,
   "id": "b53315f1-bbee-45ce-a2a0-044a23528d48",
   "metadata": {},
   "outputs": [],
   "source": [
    "angle_dmap[('A', 'restacked_diff_1', 'min', 5, 0, 30, 'inferno', 10, 450, 0)]"
   ]
  },
  {
   "cell_type": "code",
   "execution_count": null,
   "id": "60acbff5-69f9-4073-9f0f-d2d7a8571139",
   "metadata": {},
   "outputs": [],
   "source": [
    "angle_dmap[('A', 'restacked_diff_1', 'min', 5, 2, 30, 'inferno', 10, 450, 0)]"
   ]
  },
  {
   "cell_type": "markdown",
   "id": "e6abb8d5-6087-497a-8582-4b994e48b11a",
   "metadata": {
    "tags": []
   },
   "source": [
    "##### Integrated 0-75 degrees"
   ]
  },
  {
   "cell_type": "code",
   "execution_count": null,
   "id": "5507bbcc-c119-4f2a-9dc5-d6b7085ccfd9",
   "metadata": {},
   "outputs": [],
   "source": [
    "%%capture --no-stdout --no-display\n",
    "# ignore divide by zero warnings\n",
    "\n",
    "angle_dmap[('A', 'restacked_diff_1', 'min', -5, 0, 0, 'inferno', 10, 450, 75)]"
   ]
  },
  {
   "cell_type": "code",
   "execution_count": null,
   "id": "f433069a-9125-4919-b718-41b8d0b79f67",
   "metadata": {},
   "outputs": [],
   "source": [
    "%%capture --no-stdout --no-display\n",
    "# ignore divide by zero warnings\n",
    "\n",
    "angle_dmap[('A', 'restacked_diff_1', 'min', -5, 2, 0, 'inferno', 10, 450, 75)]"
   ]
  },
  {
   "cell_type": "code",
   "execution_count": null,
   "id": "905b2662-df7f-4db8-8f34-aea766d82c59",
   "metadata": {},
   "outputs": [],
   "source": [
    "%%capture --no-stdout --no-display\n",
    "# ignore divide by zero warnings\n",
    "\n",
    "angle_dmap[('A', 'restacked_diff_1', 'min', 5, 0, 0, 'inferno', 10, 450, 75)]"
   ]
  },
  {
   "cell_type": "code",
   "execution_count": null,
   "id": "bd8708b0-5bad-4b12-b2a4-2d0d4404368c",
   "metadata": {},
   "outputs": [],
   "source": [
    "%%capture --no-stdout --no-display\n",
    "# ignore divide by zero warnings\n",
    "\n",
    "angle_dmap[('A', 'restacked_diff_1', 'min', 5, 2, 0, 'inferno', 10, 450, 75)]"
   ]
  },
  {
   "cell_type": "markdown",
   "id": "8e52c683-5188-4b43-9156-bbbc8d218e62",
   "metadata": {
    "jp-MarkdownHeadingCollapsed": true,
    "tags": []
   },
   "source": [
    "## Total absorptance"
   ]
  },
  {
   "cell_type": "markdown",
   "id": "cf0b433b-2d17-4e0e-876e-23ff4abc764d",
   "metadata": {},
   "source": [
    "Gonna try to define a dataset where the integration is done automatically."
   ]
  },
  {
   "cell_type": "markdown",
   "id": "4077e53a-f881-4f36-866c-21fc11062201",
   "metadata": {},
   "source": [
    "Nope, can't be done. Instead what's needed is to redefine the integral."
   ]
  },
  {
   "cell_type": "code",
   "execution_count": null,
   "id": "c06cfa39-4abc-4c2e-a264-19e1a98139e7",
   "metadata": {},
   "outputs": [],
   "source": [
    "#\n",
    "\n",
    "sel = ds.interactive(loc=\"left\")\n",
    "\n",
    "variable = pnw.Select(options=list(ds.data_vars))\n",
    "\n",
    "xs_1D = {\n",
    "    \"excitonic_layer_thickness\": pnw.DiscreteSlider,\n",
    "    \"theta\": pnw.DiscreteSlider,\n",
    "    \"num_periods\": pnw.DiscreteSlider,\n",
    "    \"passive_layer_thickness\": pnw.DiscreteSlider,\n",
    "}\n",
    "\n",
    "sel_1 = sel.sel(**xs_1D).squeeze()[variable]\n",
    "\n",
    "# Get a handle on the widgets\n",
    "widgets = {k: w for k, w in zip(xs_1D, sel_1.widgets())}\n",
    "\n",
    "# xs_2D = {k: w for k, w in widgets.items() if k not in {\"passive_layer_thickness\"}}\n",
    "# sel_2 = sel.sel(**xs_2D).squeeze()\n",
    "\n",
    "(\n",
    "    sel_1.hvplot(x=\"wavelength\")\n",
    "    # * hv.HLine(0).opts(opts.HLine(line_dash=\"dotted\"))\n",
    "    # + sel_2[variable].hvplot(x=\"wavelength\", y=\"passive_layer_thickness\", clim=(-1, 1), cmap=\"RdBu_r\")\n",
    "    # * hv.DynamicMap(lambda y: hv.HLine(y), streams={\"y\": widgets[\"passive_layer_thickness\"].param.value})\n",
    ")#.cols(1)"
   ]
  },
  {
   "cell_type": "code",
   "execution_count": null,
   "id": "5e627ca4-c26f-46de-bccc-dfc28a92a104",
   "metadata": {},
   "outputs": [],
   "source": [
    "ds.rolling(wavelength=2).construct(\"window\").sel(window=1).sel(theta=0, passive_layer_thickness=180, num_periods=6, excitonic_layer_thickness=20, method=\"nearest\").Rs.load()"
   ]
  },
  {
   "cell_type": "code",
   "execution_count": null,
   "id": "cdc0bba6-bf79-463c-8d38-ebbcf6d694a1",
   "metadata": {},
   "outputs": [],
   "source": [
    "ds.sel(theta=0).integrate('theta')"
   ]
  },
  {
   "cell_type": "code",
   "execution_count": null,
   "id": "44445312-2e41-4db7-8a80-4a490c745d33",
   "metadata": {},
   "outputs": [],
   "source": [
    "xs_1D = {\n",
    "    \"excitonic_layer_thickness\": pnw.DiscreteSlider,\n",
    "    \"theta\": pnw.DiscreteSlider,\n",
    "    \"num_periods\": pnw.DiscreteSlider,\n",
    "    \"passive_layer_thickness\": pnw.DiscreteSlider,\n",
    "}\n",
    "\n",
    "variable = pnw.Select(options=list(ds.data_vars))\n",
    "# window_size = pnw.DiscreteSlider(options=list(range(1, 257)))\n",
    "\n",
    "ds.interactive(loc=\"left\")[variable].sel(**xs_1D).squeeze().rolling({'wavelength': 10}, center=True).construct(\"window\").integrate('window').hvplot.line()"
   ]
  },
  {
   "cell_type": "markdown",
   "id": "ac53190a-5005-41c5-8973-a959db0bd809",
   "metadata": {
    "tags": []
   },
   "source": [
    "### Investigation"
   ]
  },
  {
   "cell_type": "markdown",
   "id": "ab6100d6-50c5-4c9f-9ad5-458e40a50b39",
   "metadata": {},
   "source": [
    "Plot total absorption enhancement factor under an arbitrary spectrum."
   ]
  },
  {
   "cell_type": "markdown",
   "id": "0ac745d2-f02a-44f9-8f08-d5826f0e5f68",
   "metadata": {
    "tags": []
   },
   "source": [
    "##### Plot total absorptance enhancement factor as a function of period."
   ]
  },
  {
   "cell_type": "code",
   "execution_count": null,
   "id": "76a53918-9865-40fa-91b3-132c644dc5f3",
   "metadata": {},
   "outputs": [],
   "source": [
    "ymin1 = float(ds_flat_spectrum.A.drop_sel(excitonic_layer_thickness=0).sel(theta=0).min())\n",
    "ymax1 = float(ds_flat_spectrum.A.drop_sel(excitonic_layer_thickness=0).sel(theta=0).max())"
   ]
  },
  {
   "cell_type": "code",
   "execution_count": null,
   "id": "dbdb8a46-0c2f-4cd6-95db-93bfb84454a6",
   "metadata": {},
   "outputs": [],
   "source": [
    "ymin2 = float(norm_flat_spectrum.A.drop_sel(excitonic_layer_thickness=0).sel(theta=0).min())\n",
    "ymax2 = float(norm_flat_spectrum.A.drop_sel(excitonic_layer_thickness=0).sel(theta=0).max())"
   ]
  },
  {
   "cell_type": "code",
   "execution_count": null,
   "id": "98a3ae90-835e-4a40-b1ba-82f767690d0a",
   "metadata": {},
   "outputs": [],
   "source": [
    "norm_flat_spectrum.drop_sel(excitonic_layer_thickness=0).squeeze().A.hvplot(x=\"passive_layer_thickness\", y=\"excitonic_layer_thickness\", clim=(0.8, 1.2), cmap='RdBu_r')"
   ]
  },
  {
   "cell_type": "code",
   "execution_count": null,
   "id": "d1901e59-cd38-4389-af6a-c07b70f57ea8",
   "metadata": {},
   "outputs": [],
   "source": [
    "(\n",
    "    restacked_norm_flat_spectrum.drop_sel(excitonic_layer_thickness=0)\n",
    "    .squeeze()\n",
    "    .A.hvplot(x=\"period\", y=\"excitonic_layer_thickness\", clim=(0.8, 1.2), cmap=\"RdBu_r\")\n",
    "    .opts(clabel=\"γ_tot (flat spectrum)\", shared_axes=False)\n",
    "    + restacked_ds_flat_spectrum.drop_sel(excitonic_layer_thickness=0)\n",
    "    .squeeze()\n",
    "    .A.hvplot(x=\"period\", y=\"excitonic_layer_thickness\", clim=(0, 1), cmap=\"inferno\")\n",
    "    .opts(clabel=\"A_tot\", shared_axes=False)\n",
    ").cols(1)"
   ]
  },
  {
   "cell_type": "markdown",
   "id": "9144ab87-85da-4f01-9f6e-d730c7f93eba",
   "metadata": {
    "tags": []
   },
   "source": [
    "##### Define some convenient datasets for plotting."
   ]
  },
  {
   "cell_type": "code",
   "execution_count": null,
   "id": "4cd4fad5-2b4b-4a40-ade8-c8f3a94d3b74",
   "metadata": {},
   "outputs": [],
   "source": [
    "crs_1_fs_like_ds = crs_1_flat_spectrum.sel(\n",
    "    total_excitonic_thickness=ds.total_excitonic_thickness\n",
    ").assign(passive_layer_thickness = ds_flat_spectrum.passive_layer_thickness)"
   ]
  },
  {
   "cell_type": "code",
   "execution_count": null,
   "id": "385756e5-cfff-4ffc-8aa0-f8d6a93fb5e4",
   "metadata": {},
   "outputs": [],
   "source": [
    "restacked_crs_1_fs_like_ds = (\n",
    "    assign_derived_attrs(\n",
    "        crs_1_fs_like_ds,\n",
    "        absorption=False,\n",
    "        unpolarised=False,\n",
    "        period=True,\n",
    "        total_excitonic_thickness=False,\n",
    "        total_passive_thickness=False,\n",
    "        total_thickness=False,\n",
    "        N_tot=False,\n",
    "        per_oscillator=False,\n",
    "    )\n",
    "    .stack(multiperiod=[\"passive_layer_thickness\", \"excitonic_layer_thickness\"])\n",
    "    .set_index(multiperiod=[\"period\", \"excitonic_layer_thickness\"])\n",
    "    .unstack()\n",
    ")"
   ]
  },
  {
   "cell_type": "code",
   "execution_count": null,
   "id": "f0d052d1-1186-4d9d-b6f5-1a12ea78b782",
   "metadata": {},
   "outputs": [],
   "source": [
    "diff_1_flat_spectrum = ds_flat_spectrum - crs_1_fs_like_ds"
   ]
  },
  {
   "cell_type": "code",
   "execution_count": null,
   "id": "f385449f-6618-4c60-8dd1-3d7c51cdf207",
   "metadata": {},
   "outputs": [],
   "source": [
    "restacked_diff_1_flat_spectrum = (\n",
    "    diff_1_flat_spectrum.stack(\n",
    "        multiperiod=[\"passive_layer_thickness\", \"excitonic_layer_thickness\"]\n",
    "    )\n",
    "    .set_index(multiperiod=[\"period\", \"excitonic_layer_thickness\"])\n",
    "    .unstack()\n",
    ")"
   ]
  },
  {
   "cell_type": "markdown",
   "id": "d028ebf0-3e20-48b2-92ab-622bf1a3e156",
   "metadata": {},
   "source": [
    "##### Plot the total absorptance and absolute difference in total absorptance"
   ]
  },
  {
   "cell_type": "code",
   "execution_count": null,
   "id": "6c7d3955-9d29-42b7-a03b-ebc2b673338b",
   "metadata": {},
   "outputs": [],
   "source": [
    "restacked_ds_flat_spectrum[unpolarised_RTA].squeeze().hvplot(\n",
    "    x=\"period\", ylim=(0, 1)\n",
    ")"
   ]
  },
  {
   "cell_type": "code",
   "execution_count": null,
   "id": "9159172e-c1c0-48a8-8c8b-2d03d1d408f4",
   "metadata": {},
   "outputs": [],
   "source": [
    "crs_1[unpolarised_RTA].squeeze().hvplot(x=\"wavelength\", ylim=(0,1))*lorentz_vlines(0, scale=1e-9).opts(line_dash='dotted', color=yellow)"
   ]
  },
  {
   "cell_type": "code",
   "execution_count": null,
   "id": "10d9a590-dd35-4140-8433-44132b5d61cb",
   "metadata": {},
   "outputs": [],
   "source": [
    "(\n",
    "    crs_1_flat_spectrum[unpolarised_RTA]\n",
    "    .squeeze()\n",
    "    .hvplot(\n",
    "        x=\"total_excitonic_thickness\",\n",
    "        xlim=(0, 3500),\n",
    "        ylim=(0, 1),\n",
    "    )\n",
    "    * hv.VLine(120, label=\"6 periods of 20 nm\").opts(line_dash=\"dotted\")\n",
    "    * hv.VLine(3000, label=\"50 periods of 60 nm\").opts(line_dash=\"dotted\")\n",
    ")"
   ]
  },
  {
   "cell_type": "code",
   "execution_count": null,
   "id": "2cd4f0a8-d0f9-47cd-bc4e-908618c14db2",
   "metadata": {},
   "outputs": [],
   "source": [
    "(restacked_diff_1_flat_spectrum)[unpolarised_RTA].squeeze().hvplot(\n",
    "    x=\"period\",\n",
    ")*hv.HLine(0).opts(line_dash='dotted')"
   ]
  },
  {
   "cell_type": "markdown",
   "id": "b2859758-8f53-4747-a075-5a8ff2b48b84",
   "metadata": {
    "tags": []
   },
   "source": [
    "##### Plot total absorption enhancement factor as a function of excitonic layer thickness and number of layers."
   ]
  },
  {
   "cell_type": "code",
   "execution_count": null,
   "id": "95b9708a-752b-4071-891a-fe68b10b35ec",
   "metadata": {},
   "outputs": [],
   "source": [
    "norm_flat_spectrum.drop_sel(excitonic_layer_thickness=0).squeeze().A.hvplot(kind=\"quadmesh\", x=\"excitonic_layer_thickness\", y=\"num_periods\", clim=(0.8, 1.2), cmap='RdBu_r')"
   ]
  },
  {
   "cell_type": "code",
   "execution_count": null,
   "id": "0d120c63-e6b0-408e-891a-3c7b4e9877b9",
   "metadata": {},
   "outputs": [],
   "source": [
    "restacked_norm_flat_spectrum.drop_sel(excitonic_layer_thickness=0).squeeze().A.hvplot(kind=\"quadmesh\", x=\"excitonic_layer_thickness\", y=\"num_periods\", clim=(0.8, 1.2), cmap='RdBu_r')"
   ]
  },
  {
   "cell_type": "markdown",
   "id": "82f294ea-da0d-41ce-b9ea-82b37aa8277d",
   "metadata": {
    "tags": []
   },
   "source": [
    "##### Plot total absorption enhancement factor as a function of passive layer thickness/period and number of layers."
   ]
  },
  {
   "cell_type": "code",
   "execution_count": null,
   "id": "544774f9-97c4-42ad-8f84-7b3beb01cecc",
   "metadata": {},
   "outputs": [],
   "source": [
    "norm_flat_spectrum.drop_sel(excitonic_layer_thickness=0).squeeze().A.hvplot(kind=\"quadmesh\", x=\"passive_layer_thickness\", y=\"num_periods\", clim=(0.8, 1.2), cmap='RdBu_r')"
   ]
  },
  {
   "cell_type": "code",
   "execution_count": null,
   "id": "5cefea6e-ac0f-4d1e-b794-9b23047f307d",
   "metadata": {},
   "outputs": [],
   "source": [
    "restacked_norm_flat_spectrum.drop_sel(excitonic_layer_thickness=0).squeeze().A.hvplot(kind=\"quadmesh\", x=\"period\", y=\"num_periods\", clim=(0.8, 1.2), cmap='RdBu_r')"
   ]
  },
  {
   "cell_type": "code",
   "execution_count": null,
   "id": "43340aaf-df2b-4af2-86da-890122b9fd10",
   "metadata": {},
   "outputs": [],
   "source": []
  },
  {
   "cell_type": "markdown",
   "id": "591a4552-3a85-4304-9f9e-c3c3f149f7a3",
   "metadata": {
    "tags": []
   },
   "source": [
    "##### A prototype of a dashboard"
   ]
  },
  {
   "cell_type": "code",
   "execution_count": null,
   "id": "1cd0d828-e88a-4632-8cf0-6def88658c70",
   "metadata": {},
   "outputs": [],
   "source": [
    "all_widgets = {\n",
    "    \"excitonic_layer_thickness\": pnw.DiscreteSlider,\n",
    "    \"theta\": pnw.DiscreteSlider,\n",
    "    \"num_periods\": pnw.DiscreteSlider,\n",
    "    \"passive_layer_thickness\": pnw.DiscreteSlider,\n",
    "}\n",
    "\n",
    "x = \"num_periods\"\n",
    "\n",
    "xs = {k: v for k, v in all_widgets.items() if k is not x}\n",
    "\n",
    "RTA_selector = pnw.Select(options=unpolarised_RTA, name='RTA')\n",
    "\n",
    "sel_1 = ds_flat_spectrum.interactive[RTA_selector].sel(**xs).squeeze()\n",
    "\n",
    "sel_2 = ref_flat_spectrum"
   ]
  },
  {
   "cell_type": "code",
   "execution_count": null,
   "id": "e4a48e8f-2af1-4d80-9538-d31446fd8eb9",
   "metadata": {},
   "outputs": [],
   "source": [
    "sel_1.hvplot(x=\"num_periods\", ylim=(0,1))"
   ]
  },
  {
   "cell_type": "markdown",
   "id": "59920d26-c64c-4286-8484-f48da25e45ec",
   "metadata": {
    "tags": []
   },
   "source": [
    "### Optimisation"
   ]
  },
  {
   "cell_type": "markdown",
   "id": "b4c02ddd-c7a3-4bd9-b03b-e2937a01d62d",
   "metadata": {
    "tags": []
   },
   "source": [
    "##### Find maximum gamma_tot"
   ]
  },
  {
   "cell_type": "code",
   "execution_count": null,
   "id": "20edde37-984f-4b51-919c-eb6468da80e4",
   "metadata": {},
   "outputs": [],
   "source": [
    "sel = {'excitonic_layer_thickness': slice(None,None), 'period': slice(None,None), 'num_periods': slice(None, None), 'theta': slice(0,0)}\n",
    "da = restacked_norm_flat_spectrum['A'].drop_sel(excitonic_layer_thickness=0).sel(sel)\n",
    "optimum = da.where(da==da.max(), drop=True)\n",
    "print(optimum.values)\n",
    "print(optimum.coords)\n",
    "P = optimum.period.values[0]\n",
    "t = optimum.excitonic_layer_thickness.values[0]\n",
    "N = optimum.num_periods.values[0]"
   ]
  },
  {
   "cell_type": "code",
   "execution_count": null,
   "id": "7c007127-1c33-4143-a29c-af58254c9fdd",
   "metadata": {},
   "outputs": [],
   "source": [
    "(\n",
    "    restacked_ds[\"R\"]\n",
    "    .sel(period=P, excitonic_layer_thickness=t, num_periods=N, theta=0)\n",
    "    .squeeze()\n",
    "    .hvplot(x=\"wavelength\", label=\"Reflectance (LOPC)\")\n",
    "    * restacked_ds[\"A\"]\n",
    "    .sel(period=P, excitonic_layer_thickness=t, num_periods=N, theta=0)\n",
    "    .squeeze()\n",
    "    .hvplot(x=\"wavelength\", label=\"Absorptance (LOPC)\")\n",
    "    * crs_1[\"R\"]\n",
    "    .sel(total_excitonic_thickness=t * N, theta=0)\n",
    "    .squeeze()\n",
    "    .hvplot(x=\"wavelength\", label=\"Reflectance (CRS)\")\n",
    "    .opts(opts.Curve(color=blue, line_dash=\"dashed\"))\n",
    "    * crs_1[\"A\"]\n",
    "    .sel(total_excitonic_thickness=t * N, theta=0)\n",
    "    .squeeze()\n",
    "    .hvplot(x=\"wavelength\", label=\"Absorptance (CRS)\")\n",
    "    .opts(opts.Curve(color=red, line_dash=\"dashed\"))\n",
    "    * resonance_line\n",
    ").opts(\n",
    "    ylim=(0, 1),\n",
    "    ylabel=\"Intensity\",\n",
    "    title=f\"period: {P} nm\\nexcitonic_layer_thickness: {t} nm\\nnum_periods: {N}\",\n",
    ")"
   ]
  },
  {
   "cell_type": "markdown",
   "id": "2574f595-af59-4013-9f91-18022d438d16",
   "metadata": {},
   "source": [
    "##### Find maximum Delta_tot"
   ]
  },
  {
   "cell_type": "code",
   "execution_count": null,
   "id": "b3bd7d4f-8ca4-4fe6-a98f-16ad22771f17",
   "metadata": {},
   "outputs": [],
   "source": [
    "sel = {'excitonic_layer_thickness': slice(None,None), 'period': slice(None,None), 'num_periods': slice(10,10), 'theta': slice(0,0)}\n",
    "da = restacked_diff_1_flat_spectrum['A'].sel(sel)\n",
    "optimum = da.where(da==da.max(), drop=True)\n",
    "print(optimum.values)\n",
    "print(optimum.coords)\n",
    "P = optimum.period.values[0]\n",
    "t = optimum.excitonic_layer_thickness.values[0]\n",
    "N = optimum.num_periods.values[0]"
   ]
  },
  {
   "cell_type": "code",
   "execution_count": null,
   "id": "61527da0-5dac-4c5a-ba86-7915d498b440",
   "metadata": {},
   "outputs": [],
   "source": [
    "(\n",
    "    restacked_ds[\"R\"]\n",
    "    .sel(period=P, excitonic_layer_thickness=t, num_periods=N, theta=0)\n",
    "    .squeeze()\n",
    "    .hvplot(x=\"wavelength\", label=\"Reflectance (LOPC)\")\n",
    "    * restacked_ds[\"A\"]\n",
    "    .sel(period=P, excitonic_layer_thickness=t, num_periods=N, theta=0)\n",
    "    .squeeze()\n",
    "    .hvplot(x=\"wavelength\", label=\"Absorptance (LOPC)\")\n",
    "    * crs_1[\"R\"]\n",
    "    .sel(total_excitonic_thickness=t * N, theta=0)\n",
    "    .squeeze()\n",
    "    .hvplot(x=\"wavelength\", label=\"Reflectance (CRS)\")\n",
    "    .opts(opts.Curve(color=blue, line_dash='dashed'))\n",
    "    * crs_1[\"A\"]\n",
    "    .sel(total_excitonic_thickness=t * N, theta=0)\n",
    "    .squeeze()\n",
    "    .hvplot(x=\"wavelength\", label=\"Absorptance (CRS)\")\n",
    "    .opts(opts.Curve(color=red, line_dash='dashed'))\n",
    "    *resonance_line\n",
    ").opts(\n",
    "    ylim=(0, 1),\n",
    "    ylabel=\"Intensity\",\n",
    "    title=f\"period: {P} nm\\nexcitonic_layer_thickness: {t} nm\\nnum_periods: {N}\",\n",
    ")"
   ]
  },
  {
   "cell_type": "markdown",
   "id": "62479eaf-4769-43d9-a772-5f49f868b7de",
   "metadata": {},
   "source": [
    "##### Find maximum... Delta_absorption_per_oscillator_tot?"
   ]
  },
  {
   "cell_type": "code",
   "execution_count": null,
   "id": "bcdbedf8-acf6-4f74-9400-10ec8151c157",
   "metadata": {},
   "outputs": [],
   "source": [
    "sel = {'excitonic_layer_thickness': slice(None,None), 'period': slice(None,None), 'num_periods': slice(None, None), 'theta': slice(0,0)}\n",
    "da = restacked_diff_1_flat_spectrum['A_per_oscillator'].drop_sel(excitonic_layer_thickness=0).sel(sel)\n",
    "optimum = da.where(da==da.max(), drop=True)\n",
    "print(optimum.values)\n",
    "print(optimum.coords)\n",
    "P = optimum.period.values[0]\n",
    "t = optimum.excitonic_layer_thickness.values[0]\n",
    "N = optimum.num_periods.values[0]"
   ]
  },
  {
   "cell_type": "code",
   "execution_count": null,
   "id": "736675b1-1d51-40f0-b005-4313cdeaf053",
   "metadata": {},
   "outputs": [],
   "source": [
    "(\n",
    "    restacked_ds[\"R\"]\n",
    "    .sel(period=P, excitonic_layer_thickness=t, num_periods=N, theta=0)\n",
    "    .squeeze()\n",
    "    .hvplot(x=\"wavelength\", label=\"Reflectance (LOPC)\")\n",
    "    * restacked_ds[\"A\"]\n",
    "    .sel(period=P, excitonic_layer_thickness=t, num_periods=N, theta=0)\n",
    "    .squeeze()\n",
    "    .hvplot(x=\"wavelength\", label=\"Absorptance (LOPC)\")\n",
    "    * crs_1[\"R\"]\n",
    "    .sel(total_excitonic_thickness=t * N, theta=0)\n",
    "    .squeeze()\n",
    "    .hvplot(x=\"wavelength\", label=\"Reflectance (CRS)\")\n",
    "    .opts(opts.Curve(color=blue, line_dash='dashed'))\n",
    "    * crs_1[\"A\"]\n",
    "    .sel(total_excitonic_thickness=t * N, theta=0)\n",
    "    .squeeze()\n",
    "    .hvplot(x=\"wavelength\", label=\"Absorptance (CRS)\")\n",
    "    .opts(opts.Curve(color=red, line_dash='dashed'))\n",
    "    *resonance_line\n",
    ").opts(ylim=(0, 1), ylabel=\"Intensity\")"
   ]
  },
  {
   "cell_type": "markdown",
   "id": "7cd75bfc-04f3-49fb-be7a-7dd542df4dcb",
   "metadata": {
    "tags": []
   },
   "source": [
    "## High angles"
   ]
  },
  {
   "cell_type": "markdown",
   "id": "479f9625-ea23-46da-9aac-5891f54cf259",
   "metadata": {},
   "source": [
    "At high angles the reflectance of the slab gets high (as is well-known) while that of the LOPC stays low (for certain thicknesses).\n",
    "As a result, absorptance can be much higher."
   ]
  },
  {
   "cell_type": "code",
   "execution_count": null,
   "id": "d5ec3baf-5bf6-47fc-b637-eca166cf9a8d",
   "metadata": {
    "tags": []
   },
   "outputs": [],
   "source": [
    "(crs_1['R'].squeeze().hvplot(x=\"wavelength\", y=\"theta\", clim=(0,1), cmap=\"viridis\")#*resonance_line\n",
    " + crs_1['T'].squeeze().hvplot(x=\"wavelength\", y=\"theta\", clim=(0,1), cmap=\"cividis\")#*resonance_line\n",
    " + crs_1['A'].squeeze().hvplot(x=\"wavelength\", y=\"theta\", clim=(0,1), cmap=\"inferno\")#*resonance_line\n",
    ").cols(1)"
   ]
  },
  {
   "cell_type": "code",
   "execution_count": null,
   "id": "712c0cbd-f098-4ea4-873d-7f2c6a51732b",
   "metadata": {
    "tags": []
   },
   "outputs": [],
   "source": [
    "plot_R?"
   ]
  },
  {
   "cell_type": "code",
   "execution_count": null,
   "id": "4e1d4a58-3995-46ca-976c-6aa4ffe1e046",
   "metadata": {
    "tags": []
   },
   "outputs": [],
   "source": [
    "plot_R(variable=\"R\", dataset=restacked_ds.sel(period=300, excitonic_layer_thickness=30, num_periods=50).squeeze(), x=\"wavelength\", y=\"theta\")"
   ]
  },
  {
   "cell_type": "code",
   "execution_count": null,
   "id": "a2834d21-1f14-4f16-98ee-440870b2c75b",
   "metadata": {
    "tags": []
   },
   "outputs": [],
   "source": [
    "plot_R(variable=\"Rs\", dataset=restacked_ds.sel(period=300, excitonic_layer_thickness=30, num_periods=50).squeeze(), x=\"wavelength\", y=\"theta\")"
   ]
  },
  {
   "cell_type": "code",
   "execution_count": null,
   "id": "206f4510-11ee-404e-99ac-e23af3409b12",
   "metadata": {
    "tags": []
   },
   "outputs": [],
   "source": [
    "plot_R(variable=\"Rp\", dataset=restacked_ds.sel(period=200, excitonic_layer_thickness=30, num_periods=50).squeeze(), x=\"wavelength\", y=\"theta\")"
   ]
  },
  {
   "cell_type": "code",
   "execution_count": null,
   "id": "701b1111-07d9-4ebd-8a03-0f56efa43393",
   "metadata": {},
   "outputs": [],
   "source": []
  },
  {
   "cell_type": "markdown",
   "id": "c088f4f9-7415-4d2e-a0fe-1f6bccf27344",
   "metadata": {
    "tags": []
   },
   "source": [
    "## Optimal structure dataset/table"
   ]
  },
  {
   "cell_type": "code",
   "execution_count": null,
   "id": "53334d20-107b-4608-9793-b030300a6a24",
   "metadata": {
    "tags": []
   },
   "outputs": [],
   "source": [
    "def cross_section(\n",
    "    dataset,\n",
    "    variable=None,\n",
    "    lorentz_line=0,\n",
    "    window_radius=0,\n",
    "    theta=0,\n",
    "    integrate_angle=None,\n",
    "    normalisation=1\n",
    "):\n",
    "    da = dataset[variable] if variable is not None else dataset\n",
    "    integration_dims = []\n",
    "\n",
    "    if not integrate_angle:\n",
    "        da = da.sel(theta=theta, method=\"nearest\")\n",
    "    else:  # integrate_angle must be a float, so that (theta, integrate_angle) is a slice syntax\n",
    "        da = da.sel(theta=slice(theta, integrate_angle))\n",
    "        # da = integrate_da(da, \"theta\", weighting=1, normalisation=1)\n",
    "        integration_dims.append(\"theta\")\n",
    "\n",
    "    da = select_lorentz_line(da, lorentz_line=lorentz_line, window_radius=window_radius)\n",
    "\n",
    "    if window_radius != 0:\n",
    "        # da = integrate_da(da, \"wavelength\", weighting=1, normalisation=1)\n",
    "        integration_dims.append(\"wavelength\")\n",
    "    \n",
    "    if integration_dims:  # if the list isn't empty\n",
    "        da = integrate_da(da, integration_dims, weighting=1, normalisation=normalisation)\n",
    "    \n",
    "    return da"
   ]
  },
  {
   "cell_type": "code",
   "execution_count": null,
   "id": "76702625-9231-4f2e-a2f8-ec9edd497ace",
   "metadata": {
    "tags": []
   },
   "outputs": [],
   "source": [
    "def select_period(da, period_start=None, period_stop=None):\n",
    "    period_start = float(da.period.min().values) if period_start is None else period_start\n",
    "    period_stop = float(da.period.max().values) if period_stop is None else period_stop\n",
    "    \n",
    "    if period_start < period_stop:\n",
    "        da = da.sel(period=slice(period_start, period_stop))\n",
    "    else:  # otherwise no data is selected and everything breaks\n",
    "        da = da.sel(period=slice(period_start, None))\n",
    "        \n",
    "    return da"
   ]
  },
  {
   "cell_type": "code",
   "execution_count": null,
   "id": "ebc70435-cd06-4f36-9232-1d22b5d7faeb",
   "metadata": {
    "tags": []
   },
   "outputs": [],
   "source": [
    "def opt_over_dim(\n",
    "    dataset,\n",
    "    ref=None,\n",
    "    common_dim=None,\n",
    "    variable=None,\n",
    "    optimise=\"max\",\n",
    "    lorentz_line=0,\n",
    "    window_radius=0,\n",
    "    theta=0,\n",
    "    period_start=None,\n",
    "    period_stop=None,\n",
    "    integrate_angle=None,\n",
    "    dim=...,\n",
    "    load=False,\n",
    "):\n",
    "    if ref is not None:\n",
    "        normalisation = None\n",
    "    else:\n",
    "        normalisation = 1\n",
    "        \n",
    "    da = cross_section(\n",
    "        dataset,\n",
    "        variable=variable,\n",
    "        lorentz_line=lorentz_line,\n",
    "        window_radius=window_radius,\n",
    "        theta=theta,\n",
    "        integrate_angle=integrate_angle,\n",
    "        normalisation=normalisation\n",
    "    )\n",
    "    \n",
    "    if ref is not None:\n",
    "        match ref:\n",
    "            case \"crs_1\":\n",
    "                ref = crs_1\n",
    "                common_dim = \"total_excitonic_thickness\"\n",
    "                norm_method = \"groupby\"\n",
    "            case \"frs_1\":\n",
    "                ref = frs_1\n",
    "                common_dim = \"total_thickness\"\n",
    "                norm_method = \"vectorized_indexing\"\n",
    "            case _:\n",
    "                if common_dim is None:\n",
    "                    raise ValueError(\"ref was given but not common_dim\")\n",
    "                norm_method = \"vectorized_indexing\"\n",
    "        ra = cross_section(\n",
    "            ref,\n",
    "            variable=variable,\n",
    "            lorentz_line=lorentz_line,\n",
    "            window_radius=window_radius,\n",
    "            theta=theta,\n",
    "            integrate_angle=integrate_angle,\n",
    "            normalisation=None\n",
    "        )\n",
    "        da = enhancement_factor(ds=da, ref=ra, common_dim=common_dim, method=norm_method)\n",
    "        da = restack_plt_to_period(da)\n",
    "\n",
    "    da = select_period(da, period_start=period_start, period_stop=period_stop)\n",
    "    \n",
    "    if load:\n",
    "        da = da.load()\n",
    "        \n",
    "    if optimise == \"max\":\n",
    "        optimised_da = da.max(dim=dim)\n",
    "    elif optimise == \"min\":\n",
    "        optimised_da = da.min(dim=dim)\n",
    "    else:\n",
    "        raise ValueError(f\"optimise must be 'max' or 'min, not {optimise}\")\n",
    "    \n",
    "    return optimised_da"
   ]
  },
  {
   "cell_type": "code",
   "execution_count": null,
   "id": "b405ba35-2751-4f91-ab00-1bc42b8d0b8d",
   "metadata": {
    "tags": []
   },
   "outputs": [],
   "source": [
    "(opt_over_dim(\n",
    "    restacked_ds,\n",
    "    dim=\"period\",\n",
    "    window_radius=1,\n",
    "    load=True\n",
    ").squeeze(drop=True)\n",
    "# .drop_vars(\n",
    "#     [\"frequency\",\n",
    "#      \"theta\",\n",
    "# #      \"passive_RI\",\n",
    "# #      \"incident_medium_RI\",\n",
    "# #      \"exit_medium_RI\",\n",
    "# #      \"N\",\n",
    "# #      \"permittivity\",\n",
    "# #      \"lorentz_resonance_wavelength\",\n",
    "# #      \"lorentz_linewidth\",\n",
    "# #      \"remove_last_layer\",\n",
    "#      \"wavelength\"\n",
    "#     ]\n",
    "# )\n",
    ")"
   ]
  },
  {
   "cell_type": "code",
   "execution_count": null,
   "id": "d7cd4b07-93d8-4747-bc80-7fa4afe98f7f",
   "metadata": {
    "tags": []
   },
   "outputs": [],
   "source": [
    "def optimal_indices(\n",
    "    dataset,\n",
    "    variable=None,\n",
    "    optimise=\"max\",\n",
    "    lorentz_line=0,\n",
    "    window_radius=0,\n",
    "    theta=0,\n",
    "    period_start=None,\n",
    "    period_stop=None,\n",
    "    integrate_angle=None,\n",
    "    dim=...,\n",
    "    load=True,\n",
    "):\n",
    "    da = cross_section(\n",
    "        dataset,\n",
    "        variable=variable,\n",
    "        lorentz_line=lorentz_line,\n",
    "        window_radius=window_radius,\n",
    "        theta=theta,\n",
    "        integrate_angle=integrate_angle\n",
    "    )\n",
    "\n",
    "    da = select_period(da, period_start=period_start, period_stop=period_stop)\n",
    "    \n",
    "    if load:\n",
    "        da = da.load()\n",
    "    \n",
    "    if optimise == \"max\":\n",
    "        optimised_da = da.argmax(dim=dim)\n",
    "    elif optimise == \"min\":\n",
    "        optimised_da = da.argmin(dim=dim)\n",
    "    else:\n",
    "        raise ValueError(f\"optimise must be 'max' or 'min, not {optimise}\")\n",
    "    \n",
    "    return optimised_da"
   ]
  },
  {
   "cell_type": "code",
   "execution_count": null,
   "id": "481ff38d-57bc-4948-950b-702f01ea16a9",
   "metadata": {
    "tags": []
   },
   "outputs": [],
   "source": [
    "def optimal_parameters(\n",
    "    dataset,\n",
    "    ref=None,\n",
    "    common_dim=None,\n",
    "    variable=None,\n",
    "    optimise=\"max\",\n",
    "    lorentz_line=0,\n",
    "    window_radius=0,\n",
    "    theta=0,\n",
    "    period_start=None,\n",
    "    period_stop=None,\n",
    "    integrate_angle=None,\n",
    "    dim=...,\n",
    "    load=True,\n",
    "):\n",
    "    if ref is not None:\n",
    "        normalisation = None\n",
    "    else:\n",
    "        normalisation = 1\n",
    "        \n",
    "    da = cross_section(\n",
    "        dataset,\n",
    "        variable=variable,\n",
    "        lorentz_line=lorentz_line,\n",
    "        window_radius=window_radius,\n",
    "        theta=theta,\n",
    "        integrate_angle=integrate_angle,\n",
    "        normalisation=normalisation\n",
    "    )\n",
    "    \n",
    "    if ref is not None:\n",
    "        match ref:\n",
    "            case \"crs_1\":\n",
    "                ref = crs_1\n",
    "                common_dim = \"total_excitonic_thickness\"\n",
    "                norm_method = \"groupby\"\n",
    "            case \"frs_1\":\n",
    "                ref = frs_1\n",
    "                common_dim = \"total_thickness\"\n",
    "                norm_method = \"vectorized_indexing\"\n",
    "            case _:\n",
    "                if common_dim is None:\n",
    "                    raise ValueError(\"ref was given but not common_dim\")\n",
    "                norm_method = \"vectorized_indexing\"\n",
    "        ra = cross_section(\n",
    "            ref,\n",
    "            variable=variable,\n",
    "            lorentz_line=lorentz_line,\n",
    "            window_radius=window_radius,\n",
    "            theta=theta,\n",
    "            integrate_angle=integrate_angle,\n",
    "            normalisation=None\n",
    "        )\n",
    "        da = enhancement_factor(ds=da, ref=ra, common_dim=common_dim, method=norm_method)\n",
    "        da = restack_plt_to_period(da)\n",
    "\n",
    "    da = select_period(da, period_start=period_start, period_stop=period_stop)\n",
    "    \n",
    "    if load:\n",
    "        da = da.load()\n",
    "    \n",
    "    optimised_da = find_optimum_coords(da, dim=dim, optimise=optimise, load=False)\n",
    "    \n",
    "    return optimised_da"
   ]
  },
  {
   "cell_type": "code",
   "execution_count": null,
   "id": "bd33a123-8577-4568-a254-b43a5eb42106",
   "metadata": {
    "tags": []
   },
   "outputs": [],
   "source": [
    "def optimal_parameters_to_dataframe(\n",
    "    optimal_params,\n",
    "    params,\n",
    "    cast=None,\n",
    "    store_value=True,\n",
    "    cast_value=None,\n",
    "    index=None,\n",
    "    columns=None,\n",
    "    dtype=None,\n",
    "    **additonal_params\n",
    "):\n",
    "    cast = (lambda x: x) if cast is None else cast\n",
    "    to_df = additonal_params|{p: cast(optimal_params[p]) for p in params}\n",
    "    if store_value:\n",
    "        cast_value = (lambda x: x) if cast_value is None else cast_value\n",
    "        to_df|= {\"value\": cast_value(optimal_params.values)}\n",
    "    \n",
    "    df = pd.DataFrame([to_df], index=index, columns=columns, dtype=dtype)\n",
    "    \n",
    "    return df"
   ]
  },
  {
   "cell_type": "code",
   "execution_count": null,
   "id": "34467fba-7630-47da-8a05-553197cd823a",
   "metadata": {
    "tags": []
   },
   "outputs": [],
   "source": [
    "%%time\n",
    "foo = optimal_parameters(\n",
    "    ds.drop_sel(excitonic_layer_thickness=0),\n",
    "    \"crs_1\",\n",
    "    variable=\"A\",\n",
    "    lorentz_line=5,\n",
    "    window_radius=2,\n",
    "    integrate_angle=75\n",
    ")"
   ]
  },
  {
   "cell_type": "code",
   "execution_count": null,
   "id": "bb021eda-7535-42db-9e81-6420dd644a43",
   "metadata": {
    "tags": []
   },
   "outputs": [],
   "source": [
    "%%time\n",
    "foo = optimal_parameters(\n",
    "    restacked_ds.drop_sel(excitonic_layer_thickness=0),\n",
    "    variable=\"R\",\n",
    "    lorentz_line=5,\n",
    "    window_radius=2,\n",
    "    integrate_angle=75\n",
    ")"
   ]
  },
  {
   "cell_type": "code",
   "execution_count": null,
   "id": "8dc32420-0b4a-491b-9d74-1dc0088a7998",
   "metadata": {
    "tags": []
   },
   "outputs": [],
   "source": [
    "foo.values"
   ]
  },
  {
   "cell_type": "code",
   "execution_count": null,
   "id": "4dd42922-8441-4662-9a7b-d1d41b9dd9a7",
   "metadata": {
    "tags": []
   },
   "outputs": [],
   "source": [
    "%%time\n",
    "df = optimal_parameters_to_dataframe(\n",
    "    optimal_parameters(restacked_ds, variable=\"R\"),\n",
    "    params=[\"excitonic_layer_thickness\", \"num_periods\", \"period\"],\n",
    "    cast=int,\n",
    "    store_value=True,\n",
    "    cast_value=float,\n",
    "    lline=0,\n",
    ")"
   ]
  },
  {
   "cell_type": "code",
   "execution_count": null,
   "id": "731d022c-21ea-41d6-b433-73eea5b58bee",
   "metadata": {
    "tags": []
   },
   "outputs": [],
   "source": [
    "df"
   ]
  },
  {
   "cell_type": "code",
   "execution_count": null,
   "id": "d68646c6-b9ae-4792-b1cb-3070a666c642",
   "metadata": {
    "tags": []
   },
   "outputs": [],
   "source": [
    "opt_params = []\n",
    "dataset = restacked_ds.drop_sel(excitonic_layer_thickness=0)\n",
    "period_start = int(dataset.period.min().values)\n",
    "period_stop = int(dataset.period.max().values)\n",
    "\n",
    "with warnings.catch_warnings():\n",
    "    warnings.filterwarnings(\"ignore\")\n",
    "    for variable in tqdm(unpolarised_vars):\n",
    "        for maxmin in [\"max\", \"min\"]:\n",
    "            for lorentz_line in [-8, -5, -2, 0, 2, 5, 8]:\n",
    "                for window_radius in [0, 2, 5]:\n",
    "                    for theta_range in [(0, 0), (30, 0), (0, 45)]:\n",
    "                        optimal_params = optimal_parameters(\n",
    "                            dataset=dataset,\n",
    "                            variable=variable,\n",
    "                            optimise=maxmin,\n",
    "                            lorentz_line=lorentz_line,\n",
    "                            window_radius=window_radius,\n",
    "                            theta=theta_range[0],\n",
    "                            integrate_angle=theta_range[1],\n",
    "                            period_start=period_start,\n",
    "                            period_stop=period_stop,\n",
    "                            dim=...,\n",
    "                            load=True\n",
    "                        )\n",
    "                        opt_params.append(\n",
    "                            optimal_parameters_to_dataframe(\n",
    "                                optimal_params,\n",
    "                                params=[\"excitonic_layer_thickness\", \"num_periods\", \"period\"],\n",
    "                                cast=int,\n",
    "                                store_value=True,\n",
    "                                cast_value=float,\n",
    "                                variable=variable,\n",
    "                                maxmin=maxmin,\n",
    "                                lorentz_line=lorentz_line,\n",
    "                                window_radius=window_radius,\n",
    "                                theta_start=theta_range[0],\n",
    "                                theta_stop=theta_range[1],\n",
    "                                period_start=period_start,\n",
    "                                period_stop=period_stop,\n",
    "                            )\n",
    "                        )"
   ]
  },
  {
   "cell_type": "code",
   "execution_count": null,
   "id": "23594db3-8458-421d-a8b6-be5d1ec4869d",
   "metadata": {
    "tags": []
   },
   "outputs": [],
   "source": [
    "df = pd.concat(opt_params, ignore_index=True)\n",
    "\n",
    "df.to_csv(f\"data/run_{run_number}/optimal_LOPC.csv\", index=False, mode=\"w\")\n",
    "# df.to_csv(f\"data/run_{run_number}/optimal_LOPC.csv\", index=False, mode=\"a\", header=False)\n",
    "\n",
    "# pd.read_csv(f\"data/run_{run_number}/optimal_LOPC.csv\").equals(df)"
   ]
  },
  {
   "cell_type": "code",
   "execution_count": null,
   "id": "f7df6e9b-c925-4452-86af-ac2e44db0420",
   "metadata": {
    "tags": []
   },
   "outputs": [],
   "source": [
    "opt_params = []\n",
    "dataset = restacked_diff_1.drop_sel(excitonic_layer_thickness=0)\n",
    "period_start = int(dataset.period.min().values)\n",
    "period_stop = int(dataset.period.max().values)\n",
    "\n",
    "with warnings.catch_warnings():\n",
    "    warnings.filterwarnings(\"ignore\")\n",
    "    for variable in tqdm(unpolarised_RTA):\n",
    "        for maxmin in [\"max\", \"min\"]:\n",
    "            for lorentz_line in [-8, -5, -2, 0, 2, 5, 8]:\n",
    "                for window_radius in [0, 2, 5]:\n",
    "                    for theta_range in [(0, 0), (30, 0), (0, 45)]:\n",
    "                        optimal_params = optimal_parameters(\n",
    "                            dataset=dataset,\n",
    "                            variable=variable,\n",
    "                            optimise=maxmin,\n",
    "                            lorentz_line=lorentz_line,\n",
    "                            window_radius=window_radius,\n",
    "                            theta=theta_range[0],\n",
    "                            integrate_angle=theta_range[1],\n",
    "                            period_start=period_start,\n",
    "                            period_stop=period_stop,\n",
    "                            dim=...,\n",
    "                            load=True\n",
    "                        )\n",
    "                        opt_params.append(\n",
    "                            optimal_parameters_to_dataframe(\n",
    "                                optimal_params,\n",
    "                                params=[\"excitonic_layer_thickness\", \"num_periods\", \"period\"],\n",
    "                                cast=int,\n",
    "                                store_value=True,\n",
    "                                cast_value=float,\n",
    "                                variable=variable,\n",
    "                                maxmin=maxmin,\n",
    "                                lorentz_line=lorentz_line,\n",
    "                                window_radius=window_radius,\n",
    "                                theta_start=theta_range[0],\n",
    "                                theta_stop=theta_range[1],\n",
    "                                period_start=period_start,\n",
    "                                period_stop=period_stop,\n",
    "                            )\n",
    "                        )"
   ]
  },
  {
   "cell_type": "code",
   "execution_count": null,
   "id": "dded3341-7f87-492d-9d77-02b60e243b51",
   "metadata": {
    "tags": []
   },
   "outputs": [],
   "source": [
    "df = pd.concat(opt_params, ignore_index=True)\n",
    "\n",
    "df.to_csv(f\"data/run_{run_number}/optimal_diff_1.csv\", index=False, mode=\"w\")\n",
    "# df.to_csv(f\"data/run_{run_number}/optimal_diff_1.csv\", index=False, mode=\"a\", header=False)\n",
    "\n",
    "# pd.read_csv(f\"data/run_{run_number}/optimal_diff_1.csv\").equals(df)"
   ]
  },
  {
   "cell_type": "code",
   "execution_count": null,
   "id": "1f79f7e1-223f-4a09-8683-f6b444e249d4",
   "metadata": {
    "tags": []
   },
   "outputs": [],
   "source": [
    "opt_params = []\n",
    "dataset = restacked_diff_2.drop_sel(excitonic_layer_thickness=0)\n",
    "period_start = int(dataset.period.min().values)\n",
    "period_stop = int(dataset.period.max().values)\n",
    "\n",
    "with warnings.catch_warnings():\n",
    "    warnings.filterwarnings(\"ignore\")\n",
    "    for variable in tqdm(unpolarised_RTA):\n",
    "        for maxmin in [\"max\", \"min\"]:\n",
    "            for lorentz_line in [-8, -5, -2, 0, 2, 5, 8]:\n",
    "                for window_radius in [0, 2, 5]:\n",
    "                    for theta_range in [(0, 0), (30, 0), (0, 45)]:\n",
    "                        optimal_params = optimal_parameters(\n",
    "                            dataset=dataset,\n",
    "                            variable=variable,\n",
    "                            optimise=maxmin,\n",
    "                            lorentz_line=lorentz_line,\n",
    "                            window_radius=window_radius,\n",
    "                            theta=theta_range[0],\n",
    "                            integrate_angle=theta_range[1],\n",
    "                            period_start=period_start,\n",
    "                            period_stop=period_stop,\n",
    "                            dim=...,\n",
    "                            load=True\n",
    "                        )\n",
    "                        opt_params.append(\n",
    "                            optimal_parameters_to_dataframe(\n",
    "                                optimal_params,\n",
    "                                params=[\"excitonic_layer_thickness\", \"num_periods\", \"period\"],\n",
    "                                cast=int,\n",
    "                                store_value=True,\n",
    "                                cast_value=float,\n",
    "                                variable=variable,\n",
    "                                maxmin=maxmin,\n",
    "                                lorentz_line=lorentz_line,\n",
    "                                window_radius=window_radius,\n",
    "                                theta_start=theta_range[0],\n",
    "                                theta_stop=theta_range[1],\n",
    "                                period_start=period_start,\n",
    "                                period_stop=period_stop,\n",
    "                            )\n",
    "                        )"
   ]
  },
  {
   "cell_type": "code",
   "execution_count": null,
   "id": "c45a60a4-fcfb-4407-a9bb-8c54c4498c12",
   "metadata": {
    "tags": []
   },
   "outputs": [],
   "source": [
    "df = pd.concat(opt_params, ignore_index=True)\n",
    "\n",
    "df.to_csv(f\"data/run_{run_number}/optimal_diff_2.csv\", index=False, mode=\"w\")\n",
    "# df.to_csv(f\"data/run_{run_number}/optimal_diff_2.csv\", index=False, mode=\"a\", header=False)\n",
    "\n",
    "# pd.read_csv(f\"data/run_{run_number}/optimal_diff_2.csv\").equals(df)"
   ]
  },
  {
   "cell_type": "code",
   "execution_count": null,
   "id": "d517bdeb-0cdd-43d7-9ad7-a65758d51950",
   "metadata": {
    "tags": []
   },
   "outputs": [],
   "source": [
    "opt_params = []\n",
    "dataset = ds.drop_sel(excitonic_layer_thickness=0)\n",
    "period_start = int(dataset.period.min().values)\n",
    "period_stop = int(dataset.period.max().values)\n",
    "ref = \"crs_1\"\n",
    "\n",
    "with warnings.catch_warnings():\n",
    "    warnings.filterwarnings(\"ignore\")\n",
    "    for variable in tqdm(unpolarised_RTA):\n",
    "        for maxmin in [\"max\", \"min\"]:\n",
    "            for lorentz_line in [-8, -5, -2, 0, 2, 5, 8]:\n",
    "                for window_radius in [0, 2, 5]:\n",
    "                    for theta_range in [(0, 0), (30, 0), (0, 45)]:\n",
    "                        optimal_params = optimal_parameters(\n",
    "                            dataset=dataset,\n",
    "                            ref=ref,\n",
    "                            variable=variable,\n",
    "                            optimise=maxmin,\n",
    "                            lorentz_line=lorentz_line,\n",
    "                            window_radius=window_radius,\n",
    "                            theta=theta_range[0],\n",
    "                            integrate_angle=theta_range[1],\n",
    "                            period_start=period_start,\n",
    "                            period_stop=period_stop,\n",
    "                            dim=...,\n",
    "                            load=True\n",
    "                        )\n",
    "                        opt_params.append(\n",
    "                            optimal_parameters_to_dataframe(\n",
    "                                optimal_params,\n",
    "                                params=[\"excitonic_layer_thickness\", \"num_periods\", \"period\"],\n",
    "                                cast=int,\n",
    "                                store_value=True,\n",
    "                                cast_value=float,\n",
    "                                variable=variable,\n",
    "                                maxmin=maxmin,\n",
    "                                lorentz_line=lorentz_line,\n",
    "                                window_radius=window_radius,\n",
    "                                theta_start=theta_range[0],\n",
    "                                theta_stop=theta_range[1],\n",
    "                                period_start=period_start,\n",
    "                                period_stop=period_stop,\n",
    "                            )\n",
    "                        )"
   ]
  },
  {
   "cell_type": "code",
   "execution_count": null,
   "id": "499fa9fe-6d72-4c7e-9c00-2423de8ac9fb",
   "metadata": {
    "tags": []
   },
   "outputs": [],
   "source": [
    "df = pd.concat(opt_params, ignore_index=True)\n",
    "\n",
    "df.to_csv(f\"data/run_{run_number}/optimal_norm_1.csv\", index=False, mode=\"w\")\n",
    "# df.to_csv(f\"data/run_{run_number}/optimal_norm_1.csv\", index=False, mode=\"a\", header=False)"
   ]
  },
  {
   "cell_type": "code",
   "execution_count": null,
   "id": "975ef093-39f8-402b-9202-a431e47acef6",
   "metadata": {
    "tags": []
   },
   "outputs": [],
   "source": [
    "opt_params = []\n",
    "dataset = ds.drop_sel(excitonic_layer_thickness=0)\n",
    "period_start = int(dataset.period.min().values)\n",
    "period_stop = int(dataset.period.max().values)\n",
    "ref = \"frs_1\"\n",
    "\n",
    "with warnings.catch_warnings():\n",
    "    warnings.filterwarnings(\"ignore\")\n",
    "    for variable in tqdm(unpolarised_RTA):\n",
    "        for maxmin in [\"max\", \"min\"]:\n",
    "            for lorentz_line in [-8, -5, -2, 0, 2, 5, 8]:\n",
    "                for window_radius in [0, 2, 5]:\n",
    "                    for theta_range in [(0, 0), (30, 0), (0, 45)]:\n",
    "                        optimal_params = optimal_parameters(\n",
    "                            dataset=dataset,\n",
    "                            ref=ref,\n",
    "                            variable=variable,\n",
    "                            optimise=maxmin,\n",
    "                            lorentz_line=lorentz_line,\n",
    "                            window_radius=window_radius,\n",
    "                            theta=theta_range[0],\n",
    "                            integrate_angle=theta_range[1],\n",
    "                            period_start=period_start,\n",
    "                            period_stop=period_stop,\n",
    "                            dim=...,\n",
    "                            load=True\n",
    "                        )\n",
    "                        opt_params.append(\n",
    "                            optimal_parameters_to_dataframe(\n",
    "                                optimal_params,\n",
    "                                params=[\"excitonic_layer_thickness\", \"num_periods\", \"period\"],\n",
    "                                cast=int,\n",
    "                                store_value=True,\n",
    "                                cast_value=float,\n",
    "                                variable=variable,\n",
    "                                maxmin=maxmin,\n",
    "                                lorentz_line=lorentz_line,\n",
    "                                window_radius=window_radius,\n",
    "                                theta_start=theta_range[0],\n",
    "                                theta_stop=theta_range[1],\n",
    "                                period_start=period_start,\n",
    "                                period_stop=period_stop,\n",
    "                            )\n",
    "                        )"
   ]
  },
  {
   "cell_type": "code",
   "execution_count": null,
   "id": "014efad7-3bc3-429c-b8b5-e1b58b56f8d8",
   "metadata": {
    "tags": []
   },
   "outputs": [],
   "source": [
    "df = pd.concat(opt_params, ignore_index=True)\n",
    "\n",
    "df.to_csv(f\"data/run_{run_number}/optimal_norm_2.csv\", index=False, mode=\"w\")\n",
    "# df.to_csv(f\"data/run_{run_number}/optimal_norm_2.csv\", index=False, mode=\"a\", header=False)"
   ]
  },
  {
   "cell_type": "markdown",
   "id": "b0f28d08-e358-4804-ada0-41d6d8efeee8",
   "metadata": {
    "jp-MarkdownHeadingCollapsed": true,
    "tags": []
   },
   "source": [
    "### Recording datasets optimised over period"
   ]
  },
  {
   "cell_type": "code",
   "execution_count": null,
   "id": "65769a91-dfa2-4eaf-8f4a-e0612856bfe0",
   "metadata": {
    "tags": []
   },
   "outputs": [],
   "source": [
    "def opt_over_period(\n",
    "    dataset,\n",
    "    ref=None,\n",
    "    common_dim=None,\n",
    "    variable=None,\n",
    "    optimise='max',\n",
    "    lorentz_line=0,\n",
    "    window_radius=0,\n",
    "    theta_start=0,\n",
    "    theta_stop=None,\n",
    "    period_start=None,\n",
    "    period_stop=None,\n",
    "    load=False,\n",
    "):\n",
    "    opt_ds = opt_over_dim(\n",
    "        dataset,\n",
    "        ref=ref,\n",
    "        common_dim=common_dim,\n",
    "        variable=variable,\n",
    "        optimise=optimise,\n",
    "        lorentz_line=lorentz_line,\n",
    "        window_radius=window_radius,\n",
    "        theta=theta_start,\n",
    "        period_start=period_start,\n",
    "        period_stop=period_stop,\n",
    "        integrate_angle=theta_stop,\n",
    "        dim=\"period\",\n",
    "        load=load,\n",
    "    )\n",
    "\n",
    "    opt_ds = opt_ds.squeeze(drop=True).drop_vars([\n",
    "        \"frequency\",\n",
    "         \"theta\",\n",
    "         \"wavelength\"\n",
    "        ], errors=\"ignore\"\n",
    "    )\n",
    "\n",
    "    return opt_ds"
   ]
  },
  {
   "cell_type": "markdown",
   "id": "dd2db233-5d3b-4e2d-a142-30ed5a7fb162",
   "metadata": {
    "jp-MarkdownHeadingCollapsed": true,
    "tags": []
   },
   "source": [
    "#### norm_1"
   ]
  },
  {
   "cell_type": "code",
   "execution_count": null,
   "id": "0d336501-73a3-47de-a420-20bd964d46bc",
   "metadata": {
    "tags": []
   },
   "outputs": [],
   "source": [
    "dataset = ds.drop_sel(excitonic_layer_thickness=0)"
   ]
  },
  {
   "cell_type": "code",
   "execution_count": null,
   "id": "dc4b8bd8-4bf1-4a01-9962-a372c116c447",
   "metadata": {
    "tags": []
   },
   "outputs": [],
   "source": [
    "resources = {\n",
    "    \"dataset\": dataset,\n",
    "    \"variable\": unpolarised_RTA,\n",
    "}"
   ]
  },
  {
   "cell_type": "code",
   "execution_count": null,
   "id": "0e3dd244-8991-4914-990c-5d49039b3835",
   "metadata": {
    "tags": []
   },
   "outputs": [],
   "source": [
    "constants = {\n",
    "    \"ref\": \"crs_1\",\n",
    "    \"period_start\": int(dataset.period.min().values),\n",
    "    \"period_stop\": int(dataset.period.max().values),\n",
    "}"
   ]
  },
  {
   "cell_type": "code",
   "execution_count": null,
   "id": "55b85bbf-2c9b-4efd-a8a9-780c2ec930ee",
   "metadata": {
    "tags": []
   },
   "outputs": [],
   "source": [
    "combos = {\n",
    "    \"optimise\": [\"max\", \"min\"],\n",
    "    # \"lorentz_line\": [-5, 0, 5],\n",
    "    \"lorentz_line\": [-8, -2, 2, 8],\n",
    "    \"window_radius\": [0, 2, 5],\n",
    "}"
   ]
  },
  {
   "cell_type": "code",
   "execution_count": null,
   "id": "b3557b47-91fa-4ded-8174-bdd80555d301",
   "metadata": {
    "tags": []
   },
   "outputs": [],
   "source": [
    "cases = [\n",
    "    {\"theta_start\": 0, \"theta_stop\": 0},\n",
    "    {\"theta_start\": 30, \"theta_stop\": 0},\n",
    "    {\"theta_start\": 0, \"theta_stop\": 45},\n",
    "]"
   ]
  },
  {
   "cell_type": "code",
   "execution_count": null,
   "id": "410a8443-d831-44c4-9375-791078e338a9",
   "metadata": {
    "tags": []
   },
   "outputs": [],
   "source": [
    "r = xyz.Runner(opt_over_period, var_names=None, constants=constants, resources=resources)"
   ]
  },
  {
   "cell_type": "code",
   "execution_count": null,
   "id": "f3ca092b-1476-4938-bf83-63dc9c6c00fc",
   "metadata": {
    "tags": []
   },
   "outputs": [],
   "source": [
    "# r.run_cases([{\"optimise\": \"max\", \"lorentz_line\": -5, \"window_radius\": 5, \"theta_start\": 0, \"theta_stop\": 45}])"
   ]
  },
  {
   "cell_type": "code",
   "execution_count": null,
   "id": "251ed995-05de-4968-a6f0-85eb98f8a60e",
   "metadata": {
    "tags": []
   },
   "outputs": [],
   "source": [
    "h = xyz.Harvester(runner=r, data_name=f\"data/run_{run_number}/opt_over_period_norm_1.nc\")"
   ]
  },
  {
   "cell_type": "code",
   "execution_count": null,
   "id": "e407c3cb-061d-44d7-8c0d-1b1d77027995",
   "metadata": {
    "tags": []
   },
   "outputs": [],
   "source": [
    "h.harvest_combos(combos=combos, cases=cases)"
   ]
  },
  {
   "cell_type": "markdown",
   "id": "3725d7c7-f956-421b-be83-856262f544c6",
   "metadata": {
    "jp-MarkdownHeadingCollapsed": true,
    "tags": []
   },
   "source": [
    "#### LOPC"
   ]
  },
  {
   "cell_type": "code",
   "execution_count": null,
   "id": "3ed31adc-0988-4040-a531-86ae98c53ce4",
   "metadata": {
    "tags": []
   },
   "outputs": [],
   "source": [
    "dataset = restacked_ds.drop_sel(excitonic_layer_thickness=0)"
   ]
  },
  {
   "cell_type": "code",
   "execution_count": null,
   "id": "e76b85dc-418f-4fed-a679-4eacf5601651",
   "metadata": {
    "tags": []
   },
   "outputs": [],
   "source": [
    "resources = {\n",
    "    \"dataset\": dataset,\n",
    "    \"variable\": unpolarised_vars,\n",
    "    \"load\": True,\n",
    "}"
   ]
  },
  {
   "cell_type": "code",
   "execution_count": null,
   "id": "8099bb0c-6463-464a-971f-21b8360220bc",
   "metadata": {
    "tags": []
   },
   "outputs": [],
   "source": [
    "constants = {\n",
    "    \"period_start\": int(dataset.period.min().values),\n",
    "    \"period_stop\": int(dataset.period.max().values),\n",
    "}"
   ]
  },
  {
   "cell_type": "code",
   "execution_count": null,
   "id": "d78c629f-90f2-4b1e-9a99-2aa2d4eda9e8",
   "metadata": {
    "tags": []
   },
   "outputs": [],
   "source": [
    "combos = {\n",
    "    \"optimise\": [\"max\", \"min\"],\n",
    "    \"lorentz_line\": [-8, -5, -2, 0, 2, 5, 8],\n",
    "    \"window_radius\": [0, 2, 5],\n",
    "    \"theta_start\": [0, 15, 30],\n",
    "    \"theta_stop\": [0, 45],\n",
    "}"
   ]
  },
  {
   "cell_type": "code",
   "execution_count": null,
   "id": "2c5b740f-d83f-4b97-8ea8-cb08fb0993b4",
   "metadata": {
    "tags": []
   },
   "outputs": [],
   "source": [
    "r = xyz.Runner(opt_over_period, var_names=None, constants=constants, resources=resources)"
   ]
  },
  {
   "cell_type": "code",
   "execution_count": null,
   "id": "16a697d0-8971-44fc-9896-3feb222a1b9d",
   "metadata": {
    "tags": []
   },
   "outputs": [],
   "source": [
    "%%time\n",
    "r.run_cases([{\"optimise\": \"max\", \"lorentz_line\": -5, \"window_radius\": 5, \"theta_start\": 0, \"theta_stop\": 45}]).compute()"
   ]
  },
  {
   "cell_type": "code",
   "execution_count": null,
   "id": "30d6d876-08e3-40fa-8584-039a087f3493",
   "metadata": {
    "tags": []
   },
   "outputs": [],
   "source": [
    "h = xyz.Harvester(runner=r, data_name=f\"data/run_{run_number}/opt_over_period_LOPC.nc\")"
   ]
  },
  {
   "cell_type": "code",
   "execution_count": null,
   "id": "a659434d-b61f-4f1b-a6ff-7883edde0d4d",
   "metadata": {
    "tags": []
   },
   "outputs": [],
   "source": [
    "h.harvest_combos(combos=combos)"
   ]
  },
  {
   "cell_type": "markdown",
   "id": "e86e829f-2b75-436e-b33b-a9950e882788",
   "metadata": {
    "jp-MarkdownHeadingCollapsed": true,
    "tags": []
   },
   "source": [
    "#### diff_1"
   ]
  },
  {
   "cell_type": "code",
   "execution_count": null,
   "id": "6252341e-a071-475f-b5d3-1465737d48b1",
   "metadata": {
    "tags": []
   },
   "outputs": [],
   "source": [
    "dataset = restacked_diff_1.drop_sel(excitonic_layer_thickness=0)"
   ]
  },
  {
   "cell_type": "code",
   "execution_count": null,
   "id": "cb948cc7-166c-41e8-97af-1a274f9340cd",
   "metadata": {
    "tags": []
   },
   "outputs": [],
   "source": [
    "resources = {\n",
    "    \"dataset\": dataset,\n",
    "    \"variable\": unpolarised_RTA,\n",
    "    \"load\": False,\n",
    "}"
   ]
  },
  {
   "cell_type": "code",
   "execution_count": null,
   "id": "73f2363e-ceed-4f73-b4a0-4a79b46dea7b",
   "metadata": {
    "tags": []
   },
   "outputs": [],
   "source": [
    "constants = {\n",
    "    \"period_start\": int(dataset.period.min().values),\n",
    "    \"period_stop\": int(dataset.period.max().values),\n",
    "}"
   ]
  },
  {
   "cell_type": "code",
   "execution_count": null,
   "id": "b685d048-d891-406b-a3eb-3871eb1ab8d4",
   "metadata": {
    "tags": []
   },
   "outputs": [],
   "source": [
    "combos = {\n",
    "    \"optimise\": [\"max\", \"min\"],\n",
    "    # \"lorentz_line\": [-5, 0, 5],\n",
    "    \"lorentz_line\": [-8, -2, 2, 8],\n",
    "    \"window_radius\": [0, 2, 5],\n",
    "    \"theta_start\": [0, 15, 30],\n",
    "    \"theta_stop\": [0, 45],\n",
    "}"
   ]
  },
  {
   "cell_type": "code",
   "execution_count": null,
   "id": "86fa0193-7fc0-4cef-bf4a-1f88f77e2461",
   "metadata": {
    "tags": []
   },
   "outputs": [],
   "source": [
    "r = xyz.Runner(opt_over_period, var_names=None, constants=constants, resources=resources)"
   ]
  },
  {
   "cell_type": "code",
   "execution_count": null,
   "id": "589029e6-cb49-419d-b3ca-9427ebab162b",
   "metadata": {
    "tags": []
   },
   "outputs": [],
   "source": [
    "# %%time\n",
    "# r.run_cases([{\"optimise\": \"max\", \"lorentz_line\": -5, \"window_radius\": 5, \"theta_start\": 0, \"theta_stop\": 45}]).compute()"
   ]
  },
  {
   "cell_type": "code",
   "execution_count": null,
   "id": "4a83b8f1-a642-4f82-a0ce-95bc1e1115de",
   "metadata": {
    "tags": []
   },
   "outputs": [],
   "source": [
    "h = xyz.Harvester(runner=r, data_name=f\"data/run_{run_number}/opt_over_period_diff_1.nc\")"
   ]
  },
  {
   "cell_type": "code",
   "execution_count": null,
   "id": "6d06a05a-4b7d-43d6-9f0b-af920e0d836e",
   "metadata": {
    "tags": []
   },
   "outputs": [],
   "source": [
    "h.harvest_combos(combos=combos)"
   ]
  },
  {
   "cell_type": "markdown",
   "id": "19b2b62f-8715-4f22-a45d-339cce7fd35e",
   "metadata": {
    "jp-MarkdownHeadingCollapsed": true,
    "tags": []
   },
   "source": [
    "# Tunability"
   ]
  },
  {
   "cell_type": "markdown",
   "id": "d3533096-21c2-44d7-ac7c-47e5ff62e5d1",
   "metadata": {
    "tags": []
   },
   "source": [
    "## Investigation"
   ]
  },
  {
   "cell_type": "code",
   "execution_count": null,
   "id": "edb4a495-6ed3-4f84-87d3-8a7ee72b41cd",
   "metadata": {},
   "outputs": [],
   "source": [
    "xs_1D = {\n",
    "    \"excitonic_layer_thickness\": pnw.DiscreteSlider,\n",
    "    \"theta\": pnw.DiscreteSlider,\n",
    "    \"num_periods\": pnw.DiscreteSlider,\n",
    "    \"passive_layer_thickness\": pnw.DiscreteSlider,\n",
    "}\n",
    "\n",
    "ds_sel = ds[s_polarised_RTA].interactive(loc=\"left\").sel(**xs_1D).squeeze(drop=True)"
   ]
  },
  {
   "cell_type": "code",
   "execution_count": null,
   "id": "6deede31-9bff-4980-ae25-9dfd769b110a",
   "metadata": {},
   "outputs": [],
   "source": [
    "# Get a handle on the widgets\n",
    "widgets = {k: w for k, w in zip(xs_1D, ds_sel.widgets())}"
   ]
  },
  {
   "cell_type": "code",
   "execution_count": null,
   "id": "56b2ada3-a3f4-4ffc-b1f1-c7fcba0e0849",
   "metadata": {},
   "outputs": [],
   "source": [
    "rolling = ds[s_polarised_RTA].interactive(loc=\"left\").rolling(passive_layer_thickness=3, center=True)\n",
    "# rolling = ds.rolling(passive_layer_thickness=3, center=True)"
   ]
  },
  {
   "cell_type": "code",
   "execution_count": null,
   "id": "c2248840-8f22-43a5-9512-3a9e9caebc60",
   "metadata": {},
   "outputs": [],
   "source": [
    "ptp = rolling.reduce(np.ptp)"
   ]
  },
  {
   "cell_type": "code",
   "execution_count": null,
   "id": "84da22c5-94ea-427c-b29c-7e581e92483b",
   "metadata": {},
   "outputs": [],
   "source": [
    "ptp_sel = ptp.sel(**widgets).squeeze(drop=True)"
   ]
  },
  {
   "cell_type": "code",
   "execution_count": null,
   "id": "05b4b347-f21a-4c3c-994f-023e638301f6",
   "metadata": {},
   "outputs": [],
   "source": [
    "{k: v.value for k, v in widgets.items()}"
   ]
  },
  {
   "cell_type": "code",
   "execution_count": null,
   "id": "e5be0e74-b0e5-488e-86aa-5226e8316241",
   "metadata": {},
   "outputs": [],
   "source": [
    "%%capture --no-stdout --no-display\n",
    "# ignore divide by zero warnings\n",
    "\n",
    "(ptp_sel.hvplot(x=\"frequency\") + ds_sel.hvplot(x=\"frequency\")).cols(1)"
   ]
  },
  {
   "cell_type": "code",
   "execution_count": null,
   "id": "7e638cda-254e-4c01-9186-4d97b6a4cf14",
   "metadata": {},
   "outputs": [],
   "source": [
    "widgets_plt = {k: v for k, v in widgets.items() if k != \"passive_layer_thickness\"}"
   ]
  },
  {
   "cell_type": "code",
   "execution_count": null,
   "id": "7a44e439-3a5b-445b-85c8-38ae403ea364",
   "metadata": {},
   "outputs": [],
   "source": [
    "ptp_sel_plt = ptp.sel(**widgets_plt).squeeze(drop=True)"
   ]
  },
  {
   "cell_type": "code",
   "execution_count": null,
   "id": "aab6ecaa-1008-41e4-9213-c5f2fc3bd1b8",
   "metadata": {},
   "outputs": [],
   "source": [
    "ds_sel_plt = ds[s_polarised_RTA].interactive(loc=\"left\").sel(**widgets_plt).squeeze(drop=True)"
   ]
  },
  {
   "cell_type": "code",
   "execution_count": null,
   "id": "9483af1e-ed23-4d77-aca4-a8e972532f61",
   "metadata": {},
   "outputs": [],
   "source": [
    "temp_plots = []\n",
    "for var in s_polarised_RTA:\n",
    "    temp_plots.append(plot_var(variable=var, dataset=ptp_sel_plt, kind=\"quadmesh\", x=\"frequency\", y=\"passive_layer_thickness\", label=None))\n",
    "    temp_plots.append(plot_var(variable=var, dataset=ds_sel_plt, kind=\"quadmesh\", x=\"frequency\", y=\"passive_layer_thickness\", label=None))"
   ]
  },
  {
   "cell_type": "code",
   "execution_count": null,
   "id": "631a2871-cded-4f4d-baa7-fe695e436d88",
   "metadata": {},
   "outputs": [],
   "source": [
    "for p in temp_plots:\n",
    "    display(p)"
   ]
  },
  {
   "cell_type": "code",
   "execution_count": null,
   "id": "6abc445a-9e6a-4e2e-891a-50984a9d4153",
   "metadata": {},
   "outputs": [],
   "source": [
    "%%capture --no-stdout --no-display\n",
    "# ignore divide by zero warnings\n",
    "\n",
    "# I'm not sure why this raises KeyError - must be a bug with .interactive API\n",
    "# (hv.Layout(temp_plots))#.cols(2) "
   ]
  },
  {
   "cell_type": "code",
   "execution_count": null,
   "id": "f76154a8-0718-4c58-9efd-0eadc6db7d1d",
   "metadata": {},
   "outputs": [],
   "source": [
    "ptp = pre_process_for_plots(ptp)"
   ]
  },
  {
   "cell_type": "code",
   "execution_count": null,
   "id": "aa068ec4-ee32-454a-9664-2198d2d6f0af",
   "metadata": {},
   "outputs": [],
   "source": [
    "widgets_th = {k: v for k, v in widgets.items() if k != \"theta\"}"
   ]
  },
  {
   "cell_type": "code",
   "execution_count": null,
   "id": "a0cffdab-d1d8-473f-8fdf-cd89c5bc847c",
   "metadata": {},
   "outputs": [],
   "source": [
    "ptp_sel_th = ptp.sel(**widgets_th).squeeze(drop=True)"
   ]
  },
  {
   "cell_type": "code",
   "execution_count": null,
   "id": "318c8ee6-7cf0-4699-ba89-283c340ca19e",
   "metadata": {},
   "outputs": [],
   "source": [
    "ds_sel_th = ds[s_polarised_RTA].interactive(loc=\"left\").sel(**widgets_th).squeeze(drop=True)"
   ]
  },
  {
   "cell_type": "code",
   "execution_count": null,
   "id": "0c2be8b9-f1f2-4208-a9d9-fa5ce442dd33",
   "metadata": {},
   "outputs": [],
   "source": [
    "temp_plots = []\n",
    "for var in s_polarised_RTA:\n",
    "    temp_plots.append(plot_var(variable=var, dataset=ptp_sel_th, kind=\"quadmesh\", x=\"wavelength\", y=\"theta\", label=None))\n",
    "    temp_plots.append(plot_var(variable=var, dataset=ds_sel_th, kind=\"quadmesh\", x=\"wavelength\", y=\"theta\", label=None))"
   ]
  },
  {
   "cell_type": "code",
   "execution_count": null,
   "id": "54cebd48-e8f7-4edd-9442-1e15d8e4ac2c",
   "metadata": {
    "tags": []
   },
   "outputs": [],
   "source": [
    "%%capture --no-stdout --no-display\n",
    "# ignore divide by zero warnings\n",
    "\n",
    "# I'm not sure why this raises KeyError - must be a bug with .interactive API\n",
    "(hv.Layout(temp_plots))#.cols(2) "
   ]
  },
  {
   "cell_type": "code",
   "execution_count": null,
   "id": "fe4bd423-e7be-4511-a8d3-038b1f81f844",
   "metadata": {},
   "outputs": [],
   "source": [
    "for p in temp_plots:\n",
    "    display(p)"
   ]
  },
  {
   "cell_type": "code",
   "execution_count": null,
   "id": "1646fb2d-2e59-465f-99be-cd26b69858ba",
   "metadata": {},
   "outputs": [],
   "source": []
  },
  {
   "cell_type": "code",
   "execution_count": null,
   "id": "88eeefe4-d933-4a15-8a8a-286fa1112f46",
   "metadata": {},
   "outputs": [],
   "source": []
  },
  {
   "cell_type": "markdown",
   "id": "3e7fb31c-4ce1-4402-9e0a-8cfaa1716bb1",
   "metadata": {},
   "source": [
    "## Plots"
   ]
  },
  {
   "cell_type": "markdown",
   "id": "2ee5653b-cf4e-4aca-a64d-8d05c5c38d87",
   "metadata": {},
   "source": [
    "Plots I want:\n",
    "- 1D plots of tunability in any given dimension as a function of any given dimension, grouped by all the others\n",
    "- 2D plots of tunability in any given dimension as a function of any two given dimension, grouped by all the others\n",
    "- Plots of the optimal degree of tunability, etc."
   ]
  },
  {
   "cell_type": "markdown",
   "id": "8f05a311-4ff6-4812-a7be-b9241455f86c",
   "metadata": {},
   "source": [
    "Notes:\n",
    "- The most important dimension to be tunable in is period/passive layer thickness\n",
    "- The most important dimension to plot by is frequency/wavelength\n",
    "- The second most important dimension for both is probably angle theta\n",
    "- Multi-dimensional tunability is possible (via multi-dimensional rolling) but I'm not sure it's desirable - maybe plt and theta together?\n",
    "- Tunability of an integrated FOM has to be calculated *after* the integration - integrating tunability doesn't really make sense\n",
    "- Tunability = peak-to-peak over a window of fixed size, for me. There's cleverer stuff you can do with exponentially weighted rolling windows or whatever but no compelling reason to\n",
    "- `.hvplot(..., groupby=[...])` will not work because the array is too big - have to use `.interactive` API or function to select array before DynamicMap call"
   ]
  },
  {
   "cell_type": "markdown",
   "id": "0058d84a-f295-4a71-b7f9-96aa9babb4ea",
   "metadata": {},
   "source": [
    "Interesting things to investigate:\n",
    "* Tunability (period) in all the FOMs...\n",
    "    * Including integrated in wavelength and angle!\n",
    "* ... as a function of all the other parameters.\n",
    "* Does tunability of integrated FOM correlate with tunability of raw FOM?\n",
    "* Double-band in tunability of R\n",
    "* Hot spots in tunability of A\n",
    "* Optimal tunability, and if optimal params for tunability relate to optimal params for FOMs in a consistent way\n",
    "* Size of tuning window is itself a new parameter to consider"
   ]
  },
  {
   "cell_type": "markdown",
   "id": "d46c0d74-ab2c-4e52-a0b0-2a6dbeefa763",
   "metadata": {
    "tags": []
   },
   "source": [
    "### Helper functions"
   ]
  },
  {
   "cell_type": "code",
   "execution_count": null,
   "id": "070663cb-1514-4880-8df1-5a9ccbc19d1c",
   "metadata": {},
   "outputs": [],
   "source": [
    "def nanptp(a, axis=None):\n",
    "    \"\"\"\n",
    "    Essentially equivalent to numpy.ptp, but ignores nan values in array.\n",
    "    Credit to yliapis's rejected PR: https://github.com/numpy/numpy/pull/13220/commits/f83ec2fbacaa78717518fe2af4a51d824f421eed\n",
    "    \"\"\"\n",
    "    amin = np.nanmin(a, axis)\n",
    "    amax = np.nanmax(a, axis)\n",
    "    res = amax - amin\n",
    "    return res"
   ]
  },
  {
   "cell_type": "code",
   "execution_count": null,
   "id": "5f2746ee-3e69-4041-bd5a-016d15717f2b",
   "metadata": {},
   "outputs": [],
   "source": [
    "def nanquotient(a, axis=None):\n",
    "    \"\"\"\n",
    "    Similar to nanptp, but taking the ratio rather than difference between the max and min.\n",
    "    \"\"\"\n",
    "    amin = np.nanmin(a, axis)\n",
    "    amax = np.nanmax(a, axis)\n",
    "    res = amax / amin\n",
    "    return res"
   ]
  },
  {
   "cell_type": "code",
   "execution_count": null,
   "id": "430f0a62-bc7b-4996-ad25-a47dff3f88ca",
   "metadata": {},
   "outputs": [],
   "source": [
    "def ptp(ds, dim=None, min_periods=1, center=True, mode=\"difference\", **window_kwargs):\n",
    "    match mode:\n",
    "        case \"difference\":\n",
    "            ptp_func = nanptp\n",
    "        case \"quotient\":\n",
    "            ptp_func = nanquotient\n",
    "        case _:\n",
    "            raise NotImplementedError(\n",
    "                f'argument \"mode\" must be \"difference\" or \"quotient\", not {mode}'\n",
    "            )\n",
    "    \n",
    "    rolling = ds.rolling(dim=dim, min_periods=min_periods, center=center, **window_kwargs)\n",
    "    ptp = rolling.reduce(ptp_func)\n",
    "    return ptp"
   ]
  },
  {
   "cell_type": "markdown",
   "id": "bb8107f2-3ab3-47a7-ad67-41c7e9474a17",
   "metadata": {
    "jp-MarkdownHeadingCollapsed": true,
    "tags": []
   },
   "source": [
    "##### Tests"
   ]
  },
  {
   "cell_type": "code",
   "execution_count": null,
   "id": "7c599c3d-4ebf-4e18-80d8-73b4ba758332",
   "metadata": {},
   "outputs": [],
   "source": [
    "dummy_da = xr.DataArray(np.arange(0, 20).reshape(10, 2), coords={'dummy': np.arange(10, 20), 'dummy2': ['a', 'b']})\n",
    "\n",
    "dummy_ds = xr.Dataset(data_vars={'var1': dummy_da})"
   ]
  },
  {
   "cell_type": "code",
   "execution_count": null,
   "id": "01fc5a19-f094-47bd-afd3-543db11e7972",
   "metadata": {},
   "outputs": [],
   "source": [
    "dummy_ds"
   ]
  },
  {
   "cell_type": "code",
   "execution_count": null,
   "id": "c38082cf-3dff-4858-ad98-40dd70f78210",
   "metadata": {},
   "outputs": [],
   "source": [
    "dummy_ds.rolling(dummy=4, center=True).reduce(np.max)#.shift(dummy=-3)"
   ]
  },
  {
   "cell_type": "code",
   "execution_count": null,
   "id": "5ad5544b-1d5c-4612-a1e9-4eb5a6dcb82e",
   "metadata": {},
   "outputs": [],
   "source": [
    "dummy_ds.rolling(dummy=2, min_periods=None\n",
    "                ).construct('window').reduce(nanptp, 'window')"
   ]
  },
  {
   "cell_type": "code",
   "execution_count": null,
   "id": "d68dfe58-2728-4202-a9f5-48094d80fabf",
   "metadata": {},
   "outputs": [],
   "source": [
    "dummy_ds.rolling(dummy=3, min_periods=1).reduce(nanptp)"
   ]
  },
  {
   "cell_type": "code",
   "execution_count": null,
   "id": "896d83ee-cbec-4a4f-b0af-1852cd56e804",
   "metadata": {},
   "outputs": [],
   "source": [
    "dummy_ds.rolling(dummy=3, dummy2=2).construct({'dummy': 'window', 'dummy2': 'window2'}).reduce(np.max, dim=['window', 'window2'])"
   ]
  },
  {
   "cell_type": "code",
   "execution_count": null,
   "id": "2a242fa1-1c87-4485-8bde-2e01f04c239a",
   "metadata": {},
   "outputs": [],
   "source": [
    "ptp(dummy_ds.pad(dummy=1), min_periods=1, dummy=3)"
   ]
  },
  {
   "cell_type": "code",
   "execution_count": null,
   "id": "c11d5458-e18f-4071-b695-ee24a1a2109d",
   "metadata": {},
   "outputs": [],
   "source": [
    "ds.pad(passive_layer_thickness=1)"
   ]
  },
  {
   "cell_type": "code",
   "execution_count": null,
   "id": "7da79a20-0414-44e4-888a-1719bae77259",
   "metadata": {},
   "outputs": [],
   "source": [
    "ptp(dummy_ds, center=True, dummy=4)"
   ]
  },
  {
   "cell_type": "code",
   "execution_count": null,
   "id": "c530d218-c7bd-4db8-a456-c432179aed8d",
   "metadata": {},
   "outputs": [],
   "source": [
    "ptp(ds.R, center=True, theta=5)"
   ]
  },
  {
   "cell_type": "markdown",
   "id": "92196fb6-7f33-4ecd-b55a-601ee84354be",
   "metadata": {},
   "source": [
    "### plot_tunability_RTA?"
   ]
  },
  {
   "cell_type": "code",
   "execution_count": null,
   "id": "36fa1475-97a3-4458-8223-1af40f70ad79",
   "metadata": {},
   "outputs": [],
   "source": [
    "def plot_tunability(\n",
    "    dataset,\n",
    "    coords: dict,\n",
    "    title=\"\",\n",
    "    plot_vars=[\"R\", \"T\", \"A\"],\n",
    "    ptp_dim=None,  # parameter which designates which dim(s?) we're looking at tunability over\n",
    "    ptp_window=None,  # parameter for how wide the tunability window is\n",
    "    ptp_mode=\"difference\",  # difference or quotient tunability\n",
    "    ptp_kwargs=None,\n",
    "    label_override=None,\n",
    "    label_append=None,\n",
    "    **plot_func_args,\n",
    "):\n",
    "    label_field = None  # for debugging (LaTeX labels don't seem to render properly)\n",
    "    label_append = \"\" if label_append is None else label_append\n",
    "\n",
    "    if not {**plot_func_args}:  # if no plot_func_args were passed\n",
    "        plot_func_args |= {\"x\": \"wavelength\"}  # default behaviour of plot_RTA\n",
    "\n",
    "    plot_funcs = {\n",
    "        plot_var: partial(plot_func, label_field=label_field, **plot_func_args)\n",
    "        for plot_var, plot_func in zip(plot_vars, plot_vars_to_funcs(plot_vars))\n",
    "    }\n",
    "\n",
    "    label = f\" (Tunability)\" if label_override is None else label_override\n",
    "    label += label_append\n",
    "    # lopc_sel = sel_or_integrate(lopc_sel, \"theta\", theta, normalisation=1)  # this happens to ds before coming in\n",
    "\n",
    "    # calculate peak-to-peak tunability\n",
    "    if ptp_kwargs is None:\n",
    "        ptp_kwargs = {}\n",
    "    if (\n",
    "        dim not in ptp_kwargs\n",
    "    ):  # if for some reason you explicitly passed dim, can't pass window_kwargs\n",
    "        ptp_kwargs |= {ptp_dim: ptp_window}\n",
    "    ptp_kwargs |= {\"mode\": ptp_mode}\n",
    "    ds_ptp = ptp(dataset, **ptp_kwargs)\n",
    "\n",
    "    ds_sel = ds_ptp.sel(**coords).squeeze()\n",
    "\n",
    "    plots = {\n",
    "        plot_var: plot_func(dataset=ds_sel, label_append=label)\n",
    "        for plot_var, plot_func in plot_funcs.items()\n",
    "    }\n",
    "\n",
    "    return plots"
   ]
  },
  {
   "cell_type": "code",
   "execution_count": null,
   "id": "44e47502-17c8-4cc7-8dcd-e2d7c32b7862",
   "metadata": {},
   "outputs": [],
   "source": [
    "# def RTA_curve_opts(title=None):\n",
    "#     if title is None:\n",
    "#         title = \"\"\n",
    "#     return [\n",
    "#         opts.Curve(\n",
    "#             ylim=(0, 1),\n",
    "#             ylabel=\"Intensity\",\n",
    "#             title=f\"{title}\",\n",
    "#         ),\n",
    "#     ]"
   ]
  },
  {
   "cell_type": "code",
   "execution_count": null,
   "id": "115ab149-67b1-4a56-9610-27acd5dbf137",
   "metadata": {},
   "outputs": [],
   "source": [
    "# a more flexible implementation of the above\n",
    "RTA_curve_opts = partial(opts.Curve, ylim=(0,1), ylabel=\"Intensity\")"
   ]
  },
  {
   "cell_type": "code",
   "execution_count": null,
   "id": "05e7b1f9-02ff-467d-b834-38a1b92e808e",
   "metadata": {},
   "outputs": [],
   "source": [
    "def RTA_2D_opts(title=None):\n",
    "    if title is None:\n",
    "        title = \"\"\n",
    "    return [\n",
    "        opts.Image(\n",
    "            clim=(0, 1),\n",
    "            clabel=\"Intensity\",\n",
    "            title=f\"{title}\",\n",
    "        ),\n",
    "        opts.QuadMesh(\n",
    "            clim=(0, 1),\n",
    "            clabel=\"Intensity\",\n",
    "            title=f\"{title}\",\n",
    "        ),\n",
    "        opts.Layout(\n",
    "            title=f\"{title}\",\n",
    "        ),\n",
    "    ]"
   ]
  },
  {
   "cell_type": "code",
   "execution_count": null,
   "id": "fa527dec-18a7-4fe0-9298-f740f1925b55",
   "metadata": {},
   "outputs": [],
   "source": [
    "%%capture --no-stdout --no-display\n",
    "# ignore divide by zero and all-Nan slice warnings\n",
    "\n",
    "theta = (0, 75)\n",
    "\n",
    "coords = {\"period\": 210,\n",
    "         \"excitonic_layer_thickness\": 30,\n",
    "         \"num_periods\": 10,}\n",
    "\n",
    "test_dataset = sel_or_integrate(restacked_ds, \"theta\", theta, normalisation=1)\n",
    "\n",
    "plots = plot_tunability(test_dataset, coords, ptp_dim=\"period\", ptp_window=3, label_override=\"\")\n",
    "test_overlay = hv.Overlay(plots.values()).opts(RTA_curve_opts(title=coordinate_string(**coords) + f\"\\ntheta: {theta}\"))"
   ]
  },
  {
   "cell_type": "code",
   "execution_count": null,
   "id": "cd97bb12-af20-46c6-89f9-33bb3e0f7607",
   "metadata": {},
   "outputs": [],
   "source": [
    "plots"
   ]
  },
  {
   "cell_type": "code",
   "execution_count": null,
   "id": "f4f930d4-c435-4e13-96c9-e7dc603250af",
   "metadata": {},
   "outputs": [],
   "source": [
    "test_overlay"
   ]
  },
  {
   "cell_type": "code",
   "execution_count": null,
   "id": "52c8c566-294c-4fa8-ae5e-1e257ca195b5",
   "metadata": {},
   "outputs": [],
   "source": [
    "%%capture --no-stdout --no-display\n",
    "# ignore divide by zero and all-Nan slice warnings\n",
    "\n",
    "theta = (0, 45)\n",
    "\n",
    "coords = {\"period\": 210,\n",
    "         \"excitonic_layer_thickness\": 30,\n",
    "         \"num_periods\": 10,}\n",
    "\n",
    "test_dataset = sel_or_integrate(restacked_ds, \"theta\", theta, normalisation=1)\n",
    "\n",
    "plots = plot_tunability(test_dataset, coords, ptp_dim=\"period\", ptp_window=3, ptp_mode=\"quotient\", label_override=\"\")\n",
    "test_overlay = hv.Overlay(plots.values()).opts(RTA_curve_opts(title=(coordinate_string(**coords) + f\"\\ntheta: {theta}\"), ylim=(1, None)))"
   ]
  },
  {
   "cell_type": "code",
   "execution_count": null,
   "id": "781abe0d-a1f1-4861-9a8e-e74ca4a7aca2",
   "metadata": {},
   "outputs": [],
   "source": [
    "plots"
   ]
  },
  {
   "cell_type": "code",
   "execution_count": null,
   "id": "a8687ac5-18ec-4bc5-9a95-2607271ad7ba",
   "metadata": {},
   "outputs": [],
   "source": [
    "test_overlay"
   ]
  },
  {
   "cell_type": "code",
   "execution_count": null,
   "id": "86c5d273-12a3-4d8d-98fe-71379b83052a",
   "metadata": {},
   "outputs": [],
   "source": [
    "%%capture --no-stdout --no-display\n",
    "# ignore divide by zero and all-Nan slice warnings\n",
    "\n",
    "(\n",
    "    plot_RTA(**coords, theta=theta, plot_vars=[\"R\"], include=[\"LOPC\"]).opts(\n",
    "        opts.Curve(line_dash=\"dashed\", ylim=(0,1)#hooks=[plot_secondary]\n",
    "                  )\n",
    "    )\n",
    ") * (\n",
    "    plot_tunability(test_dataset, coords, plot_vars=[\"A\"], ptp_dim=\"period\", ptp_window=3, ptp_mode=\"quotient\", label_override=\" Tunability\")[\"A\"].opts(\n",
    "        opts.Curve(#ylim=(1,None),\n",
    "            hooks=[plot_secondary],\n",
    "                   apply_ranges=False\n",
    "        )\n",
    "    )\n",
    ")"
   ]
  },
  {
   "cell_type": "code",
   "execution_count": null,
   "id": "69b4b0b4-d1f5-42cc-9b5e-c0aa33a93eb4",
   "metadata": {},
   "outputs": [],
   "source": [
    "%%capture --no-stdout --no-display\n",
    "# ignore divide by zero and all-Nan slice warnings\n",
    "\n",
    "(\n",
    "    plot_RTA(**coords, theta=theta, plot_vars=[\"R\"], include=[\"LOPC\"]).opts(\n",
    "        opts.Curve(line_dash=\"dashed\", ylim=(None,None))  # hooks=[plot_secondary]\n",
    "    )\n",
    ") * (\n",
    "    hv.Overlay(\n",
    "        plot_tunability(\n",
    "            test_dataset,\n",
    "            coords,\n",
    "            plot_vars=[\"R\", \"T\", \"A\"],\n",
    "            ptp_dim=\"period\",\n",
    "            ptp_window=3,\n",
    "            ptp_mode=\"difference\",\n",
    "            label_override=\" Tunability\",\n",
    "        ).values()\n",
    "    ).opts(opts.Curve(ylim=(None,None)))\n",
    ").opts(opts.Curve(ylim=(None,None)))"
   ]
  },
  {
   "cell_type": "code",
   "execution_count": null,
   "id": "0230af86-6c6a-4b5f-93f0-63964e97f982",
   "metadata": {},
   "outputs": [],
   "source": [
    "%%capture --no-stdout --no-display\n",
    "# ignore divide by zero and all-Nan slice warnings\n",
    "\n",
    "coords = {\"period\": 210,\n",
    "          \"theta\": 0,\n",
    "          \"wavelength\": float(ds.wavelength[128])\n",
    "         #\"excitonic_layer_thickness\": 30,\n",
    "         #\"num_periods\": 10,\n",
    "         }\n",
    "\n",
    "test_dataset = restacked_ds\n",
    "\n",
    "plots = plot_tunability(test_dataset, coords, ptp_dim=\"period\", ptp_window=3, label_override=\"\", x=\"excitonic_layer_thickness\", y=\"num_periods\", kind=\"quadmesh\")\n",
    "test_layout = hv.Layout(plots.values()).opts(RTA_2D_opts(coordinate_string(**coords)))"
   ]
  },
  {
   "cell_type": "code",
   "execution_count": null,
   "id": "1e2db2a5-824b-4856-91cb-be1b0f4fb9b9",
   "metadata": {},
   "outputs": [],
   "source": [
    "plots"
   ]
  },
  {
   "cell_type": "code",
   "execution_count": null,
   "id": "3826d20f-6127-4afc-9940-3d8d6abbaa86",
   "metadata": {},
   "outputs": [],
   "source": [
    "%%capture --no-stdout --no-display\n",
    "# ignore divide by zero and all-Nan slice warnings\n",
    "\n",
    "test_layout.cols(1)"
   ]
  },
  {
   "cell_type": "code",
   "execution_count": null,
   "id": "76e7acb4-0e87-40c5-aee2-6b9bb6d8cdab",
   "metadata": {},
   "outputs": [],
   "source": [
    "%%capture --no-stdout --no-display\n",
    "# ignore divide by zero and all-Nan slice warnings\n",
    "\n",
    "coords = {\"period\": 250,\n",
    "         \"excitonic_layer_thickness\": 20,\n",
    "         \"num_periods\": 6,\n",
    "         \"theta\": 0\n",
    "         }\n",
    "\n",
    "test_dataset = restacked_ds\n",
    "\n",
    "plots = plot_tunability(test_dataset, coords, ptp_dim=\"period\", ptp_window=9, x=\"wavelength\")\n",
    "test_overlay = hv.Overlay(plots.values()).opts(RTA_curve_opts(title=coordinate_string(**coords)))"
   ]
  },
  {
   "cell_type": "code",
   "execution_count": null,
   "id": "b58a028e-fac8-4214-be3d-4223ccca0f13",
   "metadata": {},
   "outputs": [],
   "source": [
    "(\n",
    "    test_overlay.opts(opts.Curve(line_dash=\"dashed\"))\n",
    "    * plot_RTA(**coords, include=[\"LOPC\"])\n",
    "    * lorentz_vlines(0, scale=1e-9)\n",
    ").opts(opts.VLine(color=yellow, line_dash=\"dotted\"), opts.Overlay(legend_position=\"right\"))"
   ]
  },
  {
   "cell_type": "code",
   "execution_count": null,
   "id": "76c79c04-3406-40fa-8689-f1b8befd0cb6",
   "metadata": {},
   "outputs": [],
   "source": [
    "%%capture --no-stdout --no-display\n",
    "# ignore divide by zero and all-Nan slice warnings\n",
    "\n",
    "coords = {\"period\": 250,\n",
    "         \"excitonic_layer_thickness\": 20,\n",
    "         \"num_periods\": 30,\n",
    "         \"theta\": 0\n",
    "         }\n",
    "\n",
    "plots = plot_tunability(restacked_ds, coords, ptp_dim=\"period\", ptp_window=9, ptp_mode=\"quotient\", x=\"wavelength\")\n",
    "more_plots = plot_tunability(restacked_norm_1, coords, ptp_dim=\"period\", ptp_window=9, ptp_mode=\"quotient\", x=\"wavelength\")\n",
    "\n",
    "test_overlay = hv.Overlay(list(plots.values())) * (\n",
    "    hv.Overlay(list(more_plots.values())).opts(opts.Curve(line_dash=\"dashed\"))\n",
    ").opts(RTA_curve_opts(ylim=(None, None), title=coordinate_string(**coords)))\n",
    "test_overlay"
   ]
  },
  {
   "cell_type": "markdown",
   "id": "3c89f305-7276-4bfc-887c-4392b8a08db5",
   "metadata": {},
   "source": [
    "### Wrapper and dmap"
   ]
  },
  {
   "cell_type": "code",
   "execution_count": null,
   "id": "756374a3-dc99-4191-951a-fc3f0ca65268",
   "metadata": {},
   "outputs": [],
   "source": [
    "def wrapped_2D_tunability_plot(\n",
    "    variable,\n",
    "    dataset,\n",
    "    optimise=\"max\",\n",
    "    lorentz_line=0,\n",
    "    window_radius=0,\n",
    "    theta=0,\n",
    "    cmap=\"viridis\",\n",
    "    period_start=None,\n",
    "    period_stop=None,\n",
    "    integrate_angle=None,\n",
    "    extra_plots=[\"RTA_normal\", \"RTA_int\", \"norm_1_normal\", \"norm_1_int\"],\n",
    "    dim=None,  # automatically assign if dataset recognised\n",
    "    ptp_dim=None,  # parameter which designates which dim(s?) we're looking at tunability over\n",
    "    ptp_window=None,  # parameter for how wide the tunability window is\n",
    "    ptp_kwargs=None,\n",
    "):\n",
    "    plots = []\n",
    "\n",
    "    if str(dataset) == \"restacked_ds\":\n",
    "        # the drop_sel is important for avoiding the most common degenerate cases\n",
    "        dataset = restacked_ds.drop_sel({\"excitonic_layer_thickness\": 0})\n",
    "        dataset = dataset.drop_sel({\"period\": 0})\n",
    "        dim = \"period\"\n",
    "\n",
    "    if str(dataset) == \"restacked_norm_1\":\n",
    "        # the drop_sel is important for avoiding the most common degenerate cases\n",
    "        dataset = restacked_norm_1.drop_sel({\"excitonic_layer_thickness\": 0})\n",
    "        dataset = dataset.drop_sel({\"period\": 0})\n",
    "        dim = \"period\"\n",
    "\n",
    "    if str(dataset) == \"restacked_diff_1\":\n",
    "        # the drop_sel is important for avoiding the most common degenerate cases\n",
    "        dataset = restacked_diff_1.drop_sel({\"excitonic_layer_thickness\": 0})\n",
    "        dataset = dataset.drop_sel({\"period\": 0})\n",
    "        dim = \"period\"\n",
    "\n",
    "    if str(dataset) == \"restacked_ds_flat_spectrum\":\n",
    "        # the drop_sel is important for avoiding the most common degenerate cases\n",
    "        dataset = restacked_ds_flat_spectrum.drop_sel({\"excitonic_layer_thickness\": 0})\n",
    "        dataset = dataset.drop_sel({\"period\": 0})\n",
    "        dim = \"period\"\n",
    "        window_radius = None  # circumvent wavelength selection later\n",
    "\n",
    "    if str(dataset) == \"restacked_norm_flat_spectrum\":\n",
    "        # the drop_sel is important for avoiding the most common degenerate cases\n",
    "        dataset = restacked_norm_flat_spectrum.drop_sel(\n",
    "            {\"excitonic_layer_thickness\": 0}\n",
    "        )\n",
    "        dataset = dataset.drop_sel({\"period\": 0})\n",
    "        dim = \"period\"\n",
    "        window_radius = None  # circumvent wavelength selection later\n",
    "\n",
    "    da = dataset[variable]\n",
    "\n",
    "    # integration needs to happen BEFORE tunability is calculated to be meaningful\n",
    "    # but selection of angle (if not integrating) needs to happen AFTER ptp because\n",
    "    # theta is a valid tunabilty dimension\n",
    "\n",
    "    if (\n",
    "        integrate_angle\n",
    "    ):  # integrate_angle must be a float, so that (theta, integrate_angle) is a slice syntax\n",
    "        if ptp_dim == \"theta\":\n",
    "            raise ValueError(\n",
    "                \"Can't calculate ptp over theta and integrate over theta simultaneously\"\n",
    "            )\n",
    "        da = da.sel(theta=slice(theta, integrate_angle))\n",
    "        da = integrate_da(da, \"theta\", weighting=1, normalisation=1)\n",
    "\n",
    "    if period_start < period_stop:\n",
    "        da = da.sel(period=slice(period_start, period_stop))\n",
    "    else:  # otherwise no data is selected and everything breaks\n",
    "        da = da.sel(period=slice(period_start, None))\n",
    "\n",
    "    vline_locs = [0]  # where the vlines go\n",
    "\n",
    "    if (\n",
    "        window_radius is not None\n",
    "    ):  # a hack to make this function work with pre-integrated datasets\n",
    "        da = select_lorentz_line(\n",
    "            da, lorentz_line=lorentz_line, window_radius=window_radius\n",
    "        )\n",
    "        if window_radius == 0:\n",
    "            wavelength = float(da.wavelength)\n",
    "            title = (\n",
    "                f\"{optimise.capitalize()}imum tunability in {ptp_dim} with window radius {ptp_window}\\n\"\n",
    "                f\"of {variable} at {wavelength:.0f} nm\"\n",
    "            )\n",
    "            if lorentz_line != 0:  # don't put two lines over the resonance\n",
    "                vline_locs.append(lorentz_line)\n",
    "        else:\n",
    "            wavelength_start = float(da.wavelength[0])\n",
    "            wavelength_stop = float(da.wavelength[-1])\n",
    "            # make it easier to compare values\n",
    "            da = integrate_da(\n",
    "                da, \"wavelength\", weighting=1, normalisation=1\n",
    "            )  # replaces the below two lines\n",
    "            # da = normalise_over_dim(da, \"wavelength\", 1)\n",
    "            # da = da.integrate(\"wavelength\")\n",
    "            title = (\n",
    "                f\"{optimise.capitalize()}imum tunability in {ptp_dim} with window radius {ptp_window}\\n\"\n",
    "                f\"of integrated {variable} between {wavelength_start:.0f} and {wavelength_stop:.0f} nm\"\n",
    "            )\n",
    "            vline_locs.append(lorentz_line - window_radius)\n",
    "            vline_locs.append(lorentz_line + window_radius)\n",
    "    elif window_radius is None:\n",
    "        title = (\n",
    "            f\"{optimise.capitalize()}imum tunability in {ptp_dim} with window radius {ptp_window}\\n\"\n",
    "            f\"of {variable} integrated over the whole spectrum\"\n",
    "        )\n",
    "        if lorentz_line != 0:  # don't put two lines over the resonance\n",
    "            vline_locs.append(\n",
    "                lorentz_line\n",
    "            )  # this line is just a guide for the eye, it doesn't signify anything\n",
    "\n",
    "    # calculate peak-to-peak tunability\n",
    "    if ptp_kwargs is None:\n",
    "        ptp_kwargs = {}\n",
    "    if (\n",
    "        dim not in ptp_kwargs\n",
    "    ):  # if for some reason you explicitly passed dim, can't pass window_kwargs\n",
    "        ptp_kwargs |= {ptp_dim: ptp_window}\n",
    "    da = ptp(da, **ptp_kwargs)\n",
    "\n",
    "    # it's safe to slice in theta now\n",
    "    if not integrate_angle:\n",
    "        da = da.sel(theta=theta, method=\"nearest\")\n",
    "\n",
    "    plot_1, optimum_coords = plot_optimum_over_dim(\n",
    "        da,\n",
    "        dim=dim,\n",
    "        x=\"excitonic_layer_thickness\",\n",
    "        y=\"num_periods\",\n",
    "        optimise=optimise,\n",
    "    )\n",
    "\n",
    "    P = float(optimum_coords[\"period\"])\n",
    "    t = float(optimum_coords[\"excitonic_layer_thickness\"])\n",
    "    N = float(optimum_coords[\"num_periods\"])\n",
    "    try:  # this should work if not integrating over theta\n",
    "        th = float(optimum_coords[\"theta\"])\n",
    "    except:  # probably the problem is that theta doesn't exist because I integrated over it already\n",
    "        th = (theta, integrate_angle)\n",
    "    lorentz_lines = lorentz_vlines(vline_locs, scale=1e-9, mode=\"wavelength\").opts(\n",
    "        opts.VLine(line_color=green, line_dash=\"dotted\"),\n",
    "    )\n",
    "\n",
    "    # give the resonance line a special colour\n",
    "    lorentz_lines.VLine.I.opts(opts.VLine(line_color=yellow))\n",
    "\n",
    "    plot_1.opts(\n",
    "        opts.QuadMesh(cmap=cmap),\n",
    "        opts.Points(color=\"red\"),\n",
    "        opts.Overlay(title=f\"{title}\\nOptimal period: {P:.0f}\"),\n",
    "    )\n",
    "\n",
    "    plots.append(plot_1)\n",
    "\n",
    "    if \"RTA_normal\" in extra_plots:  # plot RTA at theta=0\n",
    "        new_plot = plot_RTA(\n",
    "            period=P, excitonic_layer_thickness=t, num_periods=N, theta=0\n",
    "        )\n",
    "        new_plot *= lorentz_lines\n",
    "\n",
    "        plots.append(new_plot)\n",
    "\n",
    "    if \"RTA_int\" in extra_plots:  # plot RTA at theta OR integrating over theta\n",
    "        new_plot = plot_RTA(\n",
    "            period=P, excitonic_layer_thickness=t, num_periods=N, theta=th\n",
    "        )\n",
    "        new_plot *= lorentz_lines\n",
    "        plots.append(new_plot)\n",
    "\n",
    "    if \"norm_1_normal\" in extra_plots:  # plot enhancement factor at theta=0\n",
    "        sel = {\n",
    "            \"period\": P,\n",
    "            \"excitonic_layer_thickness\": t,\n",
    "            \"num_periods\": N,\n",
    "            \"theta\": 0,\n",
    "        }\n",
    "        new_plot = plot_ef(variable=\"A\", dataset=restacked_norm_1, sel=sel)\n",
    "        new_plot *= lorentz_lines\n",
    "\n",
    "        plots.append(new_plot)\n",
    "\n",
    "    if (\n",
    "        \"norm_1_int\" in extra_plots\n",
    "    ):  # plot enhancement factor at theta OR integrating over theta\n",
    "        try:  # this should work if not integrating over theta\n",
    "            sel = {\n",
    "                \"period\": P,\n",
    "                \"excitonic_layer_thickness\": t,\n",
    "                \"num_periods\": N,\n",
    "                \"theta\": th,\n",
    "            }\n",
    "            new_plot = plot_ef(variable=\"A\", dataset=restacked_norm_1, sel=sel)\n",
    "            new_plot *= lorentz_lines\n",
    "        except:  # if integrating, we need to do the integral *before* normalising\n",
    "            ds_int = sel_or_integrate(ds, dim=\"theta\", val=th)\n",
    "            crs_1_int = sel_or_integrate(crs_1, dim=\"theta\", val=th)\n",
    "            norm = enhancement_factor(\n",
    "                ds_int,\n",
    "                ref=crs_1_int,\n",
    "                common_dim=\"total_excitonic_thickness\",\n",
    "                method=\"groupby\",\n",
    "            )\n",
    "            restacked_norm = restack_plt_to_period(norm)\n",
    "            # replaces the lines below\n",
    "            #             # this should all get separated out into its own function\n",
    "            #             crs_1_like_ds = crs_1.sel(\n",
    "            #                 total_excitonic_thickness=ds.total_excitonic_thickness\n",
    "            #             )\n",
    "\n",
    "            #             ds_int = sel_or_integrate(ds, dim=\"theta\", val=th)\n",
    "            #             crs_1_int = sel_or_integrate(crs_1_like_ds, dim=\"theta\", val=th)\n",
    "            #             norm = ds_int / crs_1_int\n",
    "            #             restacked_norm = norm.stack(multiperiod=['passive_layer_thickness', 'excitonic_layer_thickness']).set_index(multiperiod=['period', 'excitonic_layer_thickness']).unstack()\n",
    "\n",
    "            sel = {\"period\": P, \"excitonic_layer_thickness\": t, \"num_periods\": N}\n",
    "            new_plot = plot_ef(variable=\"A\", dataset=restacked_norm, sel=sel)\n",
    "            new_plot *= lorentz_lines\n",
    "            sel[\"theta\"] = th\n",
    "            new_plot = new_plot.opts(opts.Overlay(title=f\"{coordinate_string(**sel)}\"))\n",
    "        plots.append(new_plot)\n",
    "\n",
    "    if \"RTA_ptp\" in extra_plots:\n",
    "        coords = {\n",
    "            \"period\": P,\n",
    "            \"excitonic_layer_thickness\": t,\n",
    "            \"num_periods\": N,\n",
    "        }\n",
    "        dataset = sel_or_integrate(restacked_ds, dim=\"theta\", val=th, normalisation=1)\n",
    "\n",
    "        dict_of_plots = plot_tunability(\n",
    "            dataset,\n",
    "            coords=coords,\n",
    "            ptp_dim=ptp_dim,\n",
    "            ptp_window=ptp_window,\n",
    "            ptp_kwargs=ptp_kwargs,\n",
    "            x=\"wavelength\",\n",
    "        )\n",
    "        new_plot = hv.Overlay(dict_of_plots.values()).opts(\n",
    "            RTA_curve_opts(title=coordinate_string(**coords | {\"theta\": th}))\n",
    "        )\n",
    "        plots.append(new_plot)\n",
    "\n",
    "    return hv.Layout(plots).cols(1)"
   ]
  },
  {
   "cell_type": "code",
   "execution_count": null,
   "id": "b8b991dc-56e2-4453-8f0e-cd2ed96d7cd7",
   "metadata": {
    "tags": []
   },
   "outputs": [],
   "source": [
    "%%capture --no-stdout --no-display\n",
    "# ignore divide by zero and all-Nan slice warnings\n",
    "\n",
    "wrapped_2D_tunability_plot(\n",
    "    variable=\"A_per_oscillator\",\n",
    "    dataset=\"restacked_ds\",\n",
    "    optimise=\"max\",\n",
    "    lorentz_line=-5,\n",
    "    window_radius=0,\n",
    "    theta=0,\n",
    "    cmap=\"inferno\",\n",
    "    period_start=0,\n",
    "    period_stop=0,\n",
    "    integrate_angle=30,\n",
    "    extra_plots=[\"RTA_normal\", \"RTA_int\", \"RTA_ptp\"],\n",
    "    # dim=None,  # automatically assign if dataset recognised\n",
    "    ptp_dim=\"period\",  # parameter which designates which dim(s?) we're looking at tunability over\n",
    "    ptp_window=3,  # parameter for how wide the tunability window is\n",
    "    ptp_kwargs={\"center\": False}\n",
    ")"
   ]
  },
  {
   "cell_type": "code",
   "execution_count": null,
   "id": "3e3d8947-ae91-4855-97ac-662c6c83d158",
   "metadata": {},
   "outputs": [],
   "source": [
    "%%capture --no-stdout --no-display\n",
    "# ignore divide by zero and all-Nan slice warnings\n",
    "\n",
    "coords = {\"period\": 250,\n",
    "         \"excitonic_layer_thickness\": 30,\n",
    "         \"num_periods\": 30,\n",
    "         \"theta\": 0\n",
    "         }"
   ]
  },
  {
   "cell_type": "code",
   "execution_count": null,
   "id": "05a8b5f3-839b-4e25-81c5-bf0ed0de8208",
   "metadata": {},
   "outputs": [],
   "source": [
    "test_dataset = restacked_ds\n",
    "\n",
    "plots = plot_tunability(test_dataset, coords, ptp_dim=\"period\", ptp_window=3, x=\"wavelength\")\n",
    "test_overlay = hv.Overlay(plots.values()).opts(RTA_curve_opts(title=coordinate_string(**coords)))"
   ]
  },
  {
   "cell_type": "code",
   "execution_count": null,
   "id": "6db7716d-41d8-4b0c-9e05-0d31cd164084",
   "metadata": {},
   "outputs": [],
   "source": [
    "test_overlay.opts(opts.Curve(line_dash=\"dashed\"))*plot_RTA(**coords, include=[\"LOPC\"])*lorentz_vlines(0, scale=1e-9).opts(opts.VLine(color=yellow, line_dash=\"dotted\"))"
   ]
  },
  {
   "cell_type": "code",
   "execution_count": null,
   "id": "8d361ffe-0c90-4cae-8525-b855109e83a6",
   "metadata": {},
   "outputs": [],
   "source": [
    "plot_RTA(**coords|{\"period\":240}, include=[\"LOPC\"])*lorentz_vlines(0, scale=1e-9).opts(opts.VLine(color=yellow, line_dash=\"dotted\"))"
   ]
  },
  {
   "cell_type": "code",
   "execution_count": null,
   "id": "e82930fe-3c7f-4091-99ef-28eede4bab86",
   "metadata": {},
   "outputs": [],
   "source": [
    "plot_RTA(**coords|{\"period\":260}, include=[\"LOPC\"])*lorentz_vlines(0, scale=1e-9).opts(opts.VLine(color=yellow, line_dash=\"dotted\"))"
   ]
  },
  {
   "cell_type": "code",
   "execution_count": null,
   "id": "4d801402-2053-4451-8a31-d7152376a2c7",
   "metadata": {},
   "outputs": [],
   "source": [
    "%%capture --no-stdout --no-display\n",
    "# ignore divide by zero and all-Nan slice warnings\n",
    "\n",
    "coords = {\"period\": 250,\n",
    "          \"wavelength\": float(ds.wavelength[127]),\n",
    "         \"theta\": 0\n",
    "         }\n",
    "\n",
    "test_dataset = restacked_ds\n",
    "\n",
    "plots = plot_tunability(test_dataset, coords, ptp_dim=\"period\", ptp_window=3, x=\"excitonic_layer_thickness\", y=\"num_periods\", kind=\"quadmesh\")\n",
    "test_layout = hv.Layout(plots.values()).opts(RTA_2D_opts(coordinate_string(**coords)))"
   ]
  },
  {
   "cell_type": "code",
   "execution_count": null,
   "id": "4d1d4b46-9d20-4805-9e96-c6fa125af699",
   "metadata": {},
   "outputs": [],
   "source": [
    "%%capture --no-stdout --no-display\n",
    "# ignore divide by zero and all-Nan slice warnings\n",
    "\n",
    "test_layout"
   ]
  },
  {
   "cell_type": "code",
   "execution_count": null,
   "id": "aac14337-0d43-4737-b81b-1262bb7956a1",
   "metadata": {},
   "outputs": [],
   "source": [
    "%%capture --no-stdout --no-display\n",
    "# ignore divide by zero and all-Nan slice warnings\n",
    "\n",
    "wrapped_2D_tunability_plot(\n",
    "    variable=\"A\",\n",
    "    dataset=\"restacked_ds\",\n",
    "    optimise=\"max\",\n",
    "    lorentz_line=0,\n",
    "    window_radius=2,\n",
    "    theta=0,\n",
    "    cmap=\"viridis\",\n",
    "    period_start=0,\n",
    "    period_stop=0,\n",
    "    integrate_angle=None,\n",
    "    extra_plots=[\"RTA_int\"],\n",
    "    # dim=None,  # automatically assign if dataset recognised\n",
    "    ptp_dim=\"period\",  # parameter which designates which dim(s?) we're looking at tunability over\n",
    "    ptp_window=3,  # parameter for how wide the tunability window is\n",
    "    ptp_kwargs={\"center\": False}\n",
    ")"
   ]
  },
  {
   "cell_type": "code",
   "execution_count": null,
   "id": "b2820f8d-dfb0-44d6-83c7-472be1afceea",
   "metadata": {},
   "outputs": [],
   "source": [
    "%%capture --no-stdout --no-display\n",
    "# ignore divide by zero and all-Nan slice warnings\n",
    "\n",
    "wrapped_2D_tunability_plot(\n",
    "    variable=\"A\",\n",
    "    dataset=\"restacked_ds\",\n",
    "    optimise=\"max\",\n",
    "    lorentz_line=0,\n",
    "    window_radius=2,\n",
    "    theta=0,\n",
    "    cmap=\"viridis\",\n",
    "    period_start=0,\n",
    "    period_stop=0,\n",
    "    integrate_angle=30,\n",
    "    extra_plots=[\"RTA_normal\", \"RTA_int\"],\n",
    "    # dim=None,  # automatically assign if dataset recognised\n",
    "    ptp_dim=\"period\",  # parameter which designates which dim(s?) we're looking at tunability over\n",
    "    ptp_window=3,  # parameter for how wide the tunability window is\n",
    "    ptp_kwargs={\"center\": False}\n",
    ")"
   ]
  },
  {
   "cell_type": "code",
   "execution_count": null,
   "id": "869300e7-49ee-4afb-bcee-f5e94992ed82",
   "metadata": {},
   "outputs": [],
   "source": [
    "%%capture --no-stdout --no-display\n",
    "# ignore divide by zero and all-Nan slice warnings\n",
    "\n",
    "foo = wrapped_2D_tunability_plot(\n",
    "    variable=\"A\",\n",
    "    dataset=\"restacked_norm_1\",\n",
    "    optimise=\"max\",\n",
    "    lorentz_line=0,\n",
    "    window_radius=0,\n",
    "    theta=0,\n",
    "    cmap=\"inferno\",\n",
    "    period_start=0,\n",
    "    period_stop=0,\n",
    "    integrate_angle=None,\n",
    "    extra_plots=[\"RTA_int\", \"norm_1_int\"],\n",
    "    # dim=None,  # automatically assign if dataset recognised\n",
    "    ptp_dim=\"period\",  # parameter which designates which dim(s?) we're looking at tunability over\n",
    "    ptp_window=3,  # parameter for how wide the tunability window is\n",
    "    ptp_kwargs={\"center\": False}\n",
    ")\n",
    "foo"
   ]
  },
  {
   "cell_type": "code",
   "execution_count": null,
   "id": "e4c88096-06dc-4db9-96ef-5d9beb2d2237",
   "metadata": {},
   "outputs": [],
   "source": [
    "%%capture --no-stdout --no-display\n",
    "# ignore divide by zero and all-Nan slice warnings\n",
    "\n",
    "coords = {\"period\": 250,\n",
    "         \"excitonic_layer_thickness\": 30,\n",
    "         \"num_periods\": 27,\n",
    "         \"theta\": 0\n",
    "         }\n",
    "\n",
    "test_dataset = restacked_ds\n",
    "\n",
    "plots = plot_tunability(test_dataset, coords, ptp_dim=\"period\", ptp_window=3, x=\"wavelength\")\n",
    "test_overlay = hv.Overlay(plots.values()).opts(RTA_curve_opts(title=coordinate_string(**coords)))"
   ]
  },
  {
   "cell_type": "code",
   "execution_count": null,
   "id": "15481a96-4283-44f3-b127-90244a6efafa",
   "metadata": {},
   "outputs": [],
   "source": [
    "test_overlay.opts(opts.Curve(line_dash=\"dashed\"))*plot_RTA(**coords, include=[\"LOPC\"])*lorentz_vlines(0, scale=1e-9).opts(opts.VLine(color=yellow, line_dash=\"dotted\"))"
   ]
  },
  {
   "cell_type": "code",
   "execution_count": null,
   "id": "5da9c71c-cba1-4ec5-a9a9-0a5be0c81954",
   "metadata": {},
   "outputs": [],
   "source": [
    "%%capture --no-stdout --no-display\n",
    "# ignore divide by zero and all-Nan slice warnings\n",
    "\n",
    "coords = {\"period\": 250,\n",
    "         \"excitonic_layer_thickness\": 30,\n",
    "         \"num_periods\": 27,\n",
    "         \"theta\": 0\n",
    "         }\n",
    "\n",
    "test_dataset = restacked_norm_1\n",
    "\n",
    "plots = plot_tunability(test_dataset, coords, ptp_dim=\"period\", ptp_window=3, x=\"wavelength\", plot_vars=[\"A\"])\n",
    "test_overlay = hv.Overlay(plots.values())"
   ]
  },
  {
   "cell_type": "code",
   "execution_count": null,
   "id": "96c20cff-ea93-4a8a-aa50-6537091048a1",
   "metadata": {},
   "outputs": [],
   "source": [
    "(\n",
    "    plot_ef(variable=\"A\", dataset=restacked_norm_1, sel=coords)\n",
    "    * plot_ef(variable=\"A\", dataset=restacked_norm_1, sel=coords|{\"period\": 240}).opts(opts.Curve(line_dash=\"dotdash\"))\n",
    "    * plot_ef(variable=\"A\", dataset=restacked_norm_1, sel=coords|{\"period\": 260}).opts(opts.Curve(line_dash=\"dashdot\"))\n",
    ").opts(show_legend=False, ylabel=r\"\\(\\gamma_A\\)\")"
   ]
  },
  {
   "cell_type": "code",
   "execution_count": null,
   "id": "afde8fdf-e39a-42b8-9e46-242012156792",
   "metadata": {},
   "outputs": [],
   "source": [
    "test_overlay.opts(opts.Curve(line_dash=\"dashed\"))*plot_ef(**coords, include=[\"LOPC\"])*lorentz_vlines(0, scale=1e-9).opts(opts.VLine(color=yellow, line_dash=\"dotted\"))"
   ]
  },
  {
   "cell_type": "code",
   "execution_count": null,
   "id": "32850f53-1b7b-4a11-8023-3a02ea24b371",
   "metadata": {},
   "outputs": [],
   "source": [
    "%%capture --no-stdout --no-display\n",
    "# ignore divide by zero and all-Nan slice warnings\n",
    "\n",
    "coords = {\"excitonic_layer_thickness\": 30, \"num_periods\": 27, \"theta\": 0}\n",
    "\n",
    "test_dataset = restacked_norm_1.sel(period=slice(30, 340))\n",
    "\n",
    "plots = plot_tunability(\n",
    "    test_dataset,\n",
    "    coords,\n",
    "    ptp_dim=\"period\",\n",
    "    ptp_window=3,\n",
    "    x=\"wavelength\",\n",
    "    y=\"period\",\n",
    "    plot_vars=[\"A\"],\n",
    ")\n",
    "test_layout = hv.Layout(plots.values())"
   ]
  },
  {
   "cell_type": "code",
   "execution_count": null,
   "id": "96093b8d-db7d-4ed5-bb83-ab1fdf2f8236",
   "metadata": {},
   "outputs": [],
   "source": [
    "%%capture --no-stdout --no-display\n",
    "# ignore divide by zero and all-Nan slice warnings\n",
    "\n",
    "test_layout.opts(opts.Image(clim=(None,None)))"
   ]
  },
  {
   "cell_type": "code",
   "execution_count": null,
   "id": "911040b0-2acb-4356-90fd-054d6e3edfac",
   "metadata": {},
   "outputs": [],
   "source": [
    "test_overlay.opts(opts.Curve(line_dash=\"dashed\"))*plot_ef(**coords, include=[\"LOPC\"])*lorentz_vlines(0, scale=1e-9).opts(opts.VLine(color=yellow, line_dash=\"dotted\"))"
   ]
  },
  {
   "cell_type": "code",
   "execution_count": null,
   "id": "7cd45920-dc4b-4261-a48e-44323a9f8666",
   "metadata": {},
   "outputs": [],
   "source": [
    "%%capture --no-stdout --no-display\n",
    "# ignore divide by zero and all-Nan slice warnings\n",
    "\n",
    "wrapped_2D_tunability_plot(\n",
    "    variable=\"R_per_oscillator\",\n",
    "    dataset=\"restacked_ds\",\n",
    "    optimise=\"max\",\n",
    "    lorentz_line=2,\n",
    "    window_radius=0,\n",
    "    theta=0,\n",
    "    cmap=\"viridis\",\n",
    "    period_start=0,\n",
    "    period_stop=0,\n",
    "    integrate_angle=None,\n",
    "    extra_plots=[\"RTA_int\"],\n",
    "    # dim=None,  # automatically assign if dataset recognised\n",
    "    ptp_dim=\"period\",  # parameter which designates which dim(s?) we're looking at tunability over\n",
    "    ptp_window=9,  # parameter for how wide the tunability window is\n",
    "    ptp_kwargs={\"center\": True}\n",
    ")"
   ]
  },
  {
   "cell_type": "code",
   "execution_count": null,
   "id": "4896285b-8c6b-4609-b335-89f9dd874032",
   "metadata": {},
   "outputs": [],
   "source": [
    "%%capture --no-stdout --no-display\n",
    "# ignore divide by zero and all-Nan slice warnings\n",
    "\n",
    "coords = {\"period\": 290,\n",
    "         \"excitonic_layer_thickness\": 40,\n",
    "         \"num_periods\": 11,\n",
    "         \"theta\": 0\n",
    "         }\n",
    "\n",
    "test_dataset = restacked_ds\n",
    "\n",
    "plots = plot_tunability(test_dataset, coords, ptp_dim=\"period\", ptp_window=9, x=\"wavelength\")\n",
    "test_overlay = hv.Overlay(plots.values()).opts(RTA_curve_opts(title=coordinate_string(**coords)))"
   ]
  },
  {
   "cell_type": "code",
   "execution_count": null,
   "id": "51e6e986-07a9-42f2-a911-c44b53392f69",
   "metadata": {},
   "outputs": [],
   "source": [
    "test_overlay.opts(opts.Curve(line_dash=\"dashed\"))*plot_RTA(**coords, include=[\"LOPC\"])*lorentz_vlines([0, 2], scale=1e-9).opts(opts.VLine(color=yellow, line_dash=\"dotted\"))"
   ]
  },
  {
   "cell_type": "code",
   "execution_count": null,
   "id": "feb0b89d-0efd-4642-b0ff-14d22bef52f8",
   "metadata": {},
   "outputs": [],
   "source": [
    "%%capture --no-stdout --no-display\n",
    "# ignore divide by zero and all-Nan slice warnings\n",
    "\n",
    "plot_vars = [\"R_per_oscillator\", \"T_per_oscillator\", \"A_per_oscillator\"]\n",
    "plots = plot_tunability(test_dataset, coords, ptp_dim=\"period\", ptp_window=9, x=\"wavelength\", plot_vars=plot_vars)\n",
    "test_overlay = hv.Overlay(plots.values()).opts(RTA_curve_opts(title=coordinate_string(**coords)))"
   ]
  },
  {
   "cell_type": "code",
   "execution_count": null,
   "id": "67df098a-23be-45ad-91cd-66e8bcac2249",
   "metadata": {},
   "outputs": [],
   "source": [
    "%%capture --no-stdout --no-display\n",
    "# ignore divide by zero and all-Nan slice warnings\n",
    "\n",
    "(\n",
    "    test_overlay.opts(opts.Curve(line_dash=\"dashed\"))\n",
    "    * plot_RTA(**coords, plot_vars=plot_vars, include=[\"LOPC\"])\n",
    "    * lorentz_vlines([0, 2], scale=1e-9)\n",
    ").opts(opts.VLine(color=yellow, line_dash=\"dotted\"), opts.Curve(ylim=(None, None)))"
   ]
  },
  {
   "cell_type": "code",
   "execution_count": null,
   "id": "ed57c489-ee76-4ff8-a136-c4b45fc27bdc",
   "metadata": {},
   "outputs": [],
   "source": [
    "%%capture --no-stdout --no-display\n",
    "# ignore divide by zero and all-Nan slice warnings\n",
    "\n",
    "wrapped_2D_tunability_plot(\n",
    "    variable=\"T\",\n",
    "    dataset=\"restacked_ds\",\n",
    "    optimise=\"max\",\n",
    "    lorentz_line=2,\n",
    "    window_radius=2,\n",
    "    theta=0,\n",
    "    cmap=\"cividis\",\n",
    "    period_start=0,\n",
    "    period_stop=0,\n",
    "    integrate_angle=None,\n",
    "    extra_plots=[\"RTA_int\"],\n",
    "    # dim=None,  # automatically assign if dataset recognised\n",
    "    ptp_dim=\"period\",  # parameter which designates which dim(s?) we're looking at tunability over\n",
    "    ptp_window=5,  # parameter for how wide the tunability window is\n",
    "    ptp_kwargs={\"center\": True}\n",
    ")"
   ]
  },
  {
   "cell_type": "code",
   "execution_count": null,
   "id": "69f9698f-71a6-4201-92a2-42c6485770a5",
   "metadata": {},
   "outputs": [],
   "source": [
    "%%capture --no-stdout --no-display\n",
    "# ignore divide by zero and all-Nan slice warnings\n",
    "\n",
    "dataset = restacked_norm_flat_spectrum.drop_sel(excitonic_layer_thickness=0, period=0)\n",
    "\n",
    "wrapped_2D_tunability_plot(\n",
    "    variable=\"A\",\n",
    "    dataset=dataset,\n",
    "    optimise=\"max\",\n",
    "    lorentz_line=0,\n",
    "    window_radius=None,\n",
    "    theta=0,\n",
    "    cmap=\"inferno\",\n",
    "    period_start=0,\n",
    "    period_stop=0,\n",
    "    integrate_angle=None,\n",
    "    extra_plots=[\"RTA_int\", \"norm_1_int\"],\n",
    "    dim=\"period\",  # automatically assign if dataset recognised\n",
    "    ptp_dim=\"period\",  # parameter which designates which dim(s?) we're looking at tunability over\n",
    "    ptp_window=5,  # parameter for how wide the tunability window is\n",
    "    ptp_kwargs={\"center\": True}\n",
    ")"
   ]
  },
  {
   "cell_type": "code",
   "execution_count": null,
   "id": "a9ddd1cf-0679-42be-858a-fbc6502cd640",
   "metadata": {},
   "outputs": [],
   "source": [
    "coords = {\n",
    "    \"excitonic_layer_thickness\": 60,\n",
    "    \"num_periods\": 7,\n",
    "    \"theta\": 0,\n",
    "}\n",
    "\n",
    "dataset.sel(**coords).squeeze().A.hvplot(x=\"period\")*(hv.HLine(1).opts(line_dash=\"dotted\"))"
   ]
  },
  {
   "cell_type": "code",
   "execution_count": null,
   "id": "e06f58ad-e1fc-4453-9f04-645009859280",
   "metadata": {},
   "outputs": [],
   "source": [
    "%%capture --no-stdout --no-display\n",
    "# ignore divide by zero and all-Nan slice warnings\n",
    "\n",
    "dataset = restacked_ds_flat_spectrum.drop_sel(excitonic_layer_thickness=0, period=0)\n",
    "\n",
    "wrapped_2D_tunability_plot(\n",
    "    variable=\"T\",\n",
    "    dataset=dataset,\n",
    "    optimise=\"max\",\n",
    "    lorentz_line=2,\n",
    "    window_radius=None,\n",
    "    theta=0,\n",
    "    cmap=\"cividis\",\n",
    "    period_start=0,\n",
    "    period_stop=0,\n",
    "    integrate_angle=None,\n",
    "    extra_plots=[\"RTA_int\", \"norm_1_int\"],\n",
    "    dim=\"period\",  # automatically assign if dataset recognised\n",
    "    ptp_dim=\"period\",  # parameter which designates which dim(s?) we're looking at tunability over\n",
    "    ptp_window=5,  # parameter for how wide the tunability window is\n",
    "    ptp_kwargs={\"center\": True}\n",
    ")"
   ]
  },
  {
   "cell_type": "code",
   "execution_count": null,
   "id": "9007eaa9-7bb2-4071-894d-6f3ffacf4397",
   "metadata": {},
   "outputs": [],
   "source": [
    "coords = {\n",
    "    \"excitonic_layer_thickness\": 80,\n",
    "    \"num_periods\": 40,\n",
    "    \"theta\": 0,\n",
    "}\n",
    "\n",
    "dataset.sel(**coords).squeeze().T.hvplot(x=\"period\")"
   ]
  },
  {
   "cell_type": "code",
   "execution_count": null,
   "id": "495ba981-f6d5-4a86-8d10-39f90ca7d391",
   "metadata": {},
   "outputs": [],
   "source": [
    "def wrapped_2D_plot(\n",
    "    variable,\n",
    "    dataset,\n",
    "    optimise=\"max\",\n",
    "    lorentz_line=0,\n",
    "    window_radius=0,\n",
    "    theta=0,\n",
    "    cmap=\"viridis\",\n",
    "    period_start=None,\n",
    "    period_stop=None,\n",
    "    integrate_angle=None,\n",
    "    extra_plots=[\"RTA_normal\", \"RTA_int\", \"norm_1_normal\", \"norm_1_int\"],\n",
    "    dim=None,  # automatically assign if dataset recognised\n",
    "):\n",
    "    plots = []\n",
    "\n",
    "    if str(dataset) == \"restacked_ds\":\n",
    "        # the drop_sel is important for avoiding the most common degenerate cases\n",
    "        dataset = restacked_ds.drop_sel({\"excitonic_layer_thickness\": 0})\n",
    "        dim = \"period\"\n",
    "\n",
    "    if str(dataset) == \"restacked_norm_1\":\n",
    "        # the drop_sel is important for avoiding the most common degenerate cases\n",
    "        dataset = restacked_norm_1.drop_sel({\"excitonic_layer_thickness\": 0})\n",
    "        dim = \"period\"\n",
    "\n",
    "    if str(dataset) == \"restacked_diff_1\":\n",
    "        # the drop_sel is important for avoiding the most common degenerate cases\n",
    "        dataset = restacked_diff_1.drop_sel({\"excitonic_layer_thickness\": 0})\n",
    "        dim = \"period\"\n",
    "\n",
    "    da = dataset[variable]\n",
    "\n",
    "    if not integrate_angle:\n",
    "        da = da.sel(theta=theta, method=\"nearest\")\n",
    "    else:  # integrate_angle must be a float, so that (theta, integrate_angle) is a slice syntax\n",
    "        da = da.sel(theta=slice(theta, integrate_angle))\n",
    "        da = integrate_da(da, \"theta\", weighting=1, normalisation=1)\n",
    "\n",
    "    if period_start < period_stop:\n",
    "        da = da.sel(period=slice(period_start, period_stop))\n",
    "    else:  # otherwise no data is selected and everything breaks\n",
    "        da = da.sel(period=slice(period_start, None))\n",
    "    da = select_lorentz_line(da, lorentz_line=lorentz_line, window_radius=window_radius)\n",
    "\n",
    "    vline_locs = [0]\n",
    "\n",
    "    if window_radius == 0:\n",
    "        wavelength = float(da.wavelength)\n",
    "        title = f\"{optimise.capitalize()}imum {variable} at {wavelength:.0f} nm\"\n",
    "        if lorentz_line != 0:  # don't put two lines over the resonance\n",
    "            vline_locs.append(lorentz_line)\n",
    "    else:\n",
    "        wavelength_start = float(da.wavelength[0])\n",
    "        wavelength_stop = float(da.wavelength[-1])\n",
    "        # make it easier to compare values\n",
    "        da = integrate_da(\n",
    "            da, \"wavelength\", weighting=1, normalisation=1\n",
    "        )  # replaces the below two lines\n",
    "        # da = normalise_over_dim(da, \"wavelength\", 1)\n",
    "        # da = da.integrate(\"wavelength\")\n",
    "        title = f\"{optimise.capitalize()}imum integrated {variable} between {wavelength_start:.0f} and {wavelength_stop:.0f} nm\"\n",
    "        vline_locs.append(lorentz_line - window_radius)\n",
    "        vline_locs.append(lorentz_line + window_radius)\n",
    "\n",
    "    plot_1, optimum_coords = plot_optimum_over_dim(\n",
    "        da,\n",
    "        dim=dim,\n",
    "        x=\"excitonic_layer_thickness\",\n",
    "        y=\"num_periods\",\n",
    "        optimise=optimise,\n",
    "    )\n",
    "\n",
    "    P = float(optimum_coords[\"period\"])\n",
    "    t = float(optimum_coords[\"excitonic_layer_thickness\"])\n",
    "    N = float(optimum_coords[\"num_periods\"])\n",
    "    try:  # this should work if not integrating over theta\n",
    "        th = float(optimum_coords[\"theta\"])\n",
    "    except:  # probably the problem is that theta doesn't exist because I integrated over it already\n",
    "        th = (theta, integrate_angle)\n",
    "    lorentz_lines = lorentz_vlines(vline_locs, scale=1e-9, mode=\"wavelength\").opts(\n",
    "        opts.VLine(line_color=green, line_dash=\"dotted\"),\n",
    "    )\n",
    "\n",
    "    # give the resonance line a special colour\n",
    "    lorentz_lines.VLine.I.opts(opts.VLine(line_color=yellow))\n",
    "\n",
    "    plot_1.opts(\n",
    "        opts.QuadMesh(cmap=cmap),\n",
    "        opts.Points(color=\"red\"),\n",
    "        opts.Overlay(title=f\"{title}\\nOptimal period: {P:.0f}\"),\n",
    "    )\n",
    "\n",
    "    plots.append(plot_1)\n",
    "\n",
    "    if \"RTA_normal\" in extra_plots:  # plot RTA at theta=0\n",
    "        new_plot = plot_RTA(\n",
    "            period=P, excitonic_layer_thickness=t, num_periods=N, theta=0\n",
    "        )\n",
    "        new_plot *= lorentz_lines\n",
    "\n",
    "        plots.append(new_plot)\n",
    "\n",
    "    if \"RTA_int\" in extra_plots:  # plot RTA at theta OR integrating over theta\n",
    "        new_plot = plot_RTA(\n",
    "            period=P, excitonic_layer_thickness=t, num_periods=N, theta=th\n",
    "        )\n",
    "        new_plot *= lorentz_lines\n",
    "        plots.append(new_plot)\n",
    "\n",
    "    if \"norm_1_normal\" in extra_plots:  # plot enhancement factor at theta=0\n",
    "        sel = {\n",
    "            \"period\": P,\n",
    "            \"excitonic_layer_thickness\": t,\n",
    "            \"num_periods\": N,\n",
    "            \"theta\": 0,\n",
    "        }\n",
    "        new_plot = plot_ef(variable=\"A\", dataset=restacked_norm_1, sel=sel)\n",
    "        new_plot *= lorentz_lines\n",
    "\n",
    "        plots.append(new_plot)\n",
    "\n",
    "    if (\n",
    "        \"norm_1_int\" in extra_plots\n",
    "    ):  # plot enhancement factor at theta OR integrating over theta\n",
    "        try:  # this should work if not integrating over theta\n",
    "            sel = {\n",
    "                \"period\": P,\n",
    "                \"excitonic_layer_thickness\": t,\n",
    "                \"num_periods\": N,\n",
    "                \"theta\": th,\n",
    "            }\n",
    "            new_plot = plot_ef(variable=\"A\", dataset=restacked_norm_1, sel=sel)\n",
    "            new_plot *= lorentz_lines\n",
    "        except:  # if integrating, we need to do the integral *before* normalising\n",
    "            ds_int = sel_or_integrate(ds, dim=\"theta\", val=th)\n",
    "            crs_1_int = sel_or_integrate(crs_1, dim=\"theta\", val=th)\n",
    "            norm = enhancement_factor(\n",
    "                ds_int,\n",
    "                ref=crs_1_int,\n",
    "                common_dim=\"total_excitonic_thickness\",\n",
    "                method=\"groupby\",\n",
    "            )\n",
    "            restacked_norm = restack_plt_to_period(norm)\n",
    "            # replaces the lines below\n",
    "            #             # this should all get separated out into its own function\n",
    "            #             crs_1_like_ds = crs_1.sel(\n",
    "            #                 total_excitonic_thickness=ds.total_excitonic_thickness\n",
    "            #             )\n",
    "\n",
    "            #             ds_int = sel_or_integrate(ds, dim=\"theta\", val=th)\n",
    "            #             crs_1_int = sel_or_integrate(crs_1_like_ds, dim=\"theta\", val=th)\n",
    "            #             norm = ds_int / crs_1_int\n",
    "            #             restacked_norm = norm.stack(multiperiod=['passive_layer_thickness', 'excitonic_layer_thickness']).set_index(multiperiod=['period', 'excitonic_layer_thickness']).unstack()\n",
    "\n",
    "            sel = {\"period\": P, \"excitonic_layer_thickness\": t, \"num_periods\": N}\n",
    "            new_plot = plot_ef(variable=\"A\", dataset=restacked_norm, sel=sel)\n",
    "            new_plot *= lorentz_lines\n",
    "            sel[\"theta\"] = th\n",
    "            new_plot = new_plot.opts(opts.Overlay(title=f\"{coordinate_string(**sel)}\"))\n",
    "        plots.append(new_plot)\n",
    "\n",
    "    return hv.Layout(plots).cols(1)"
   ]
  },
  {
   "cell_type": "code",
   "execution_count": null,
   "id": "9be3f766-29c3-4832-9cc5-b9a496246428",
   "metadata": {},
   "outputs": [],
   "source": [
    "def wrapped_2D_ef_plot(\n",
    "    variable,\n",
    "    dataset,\n",
    "    ref,\n",
    "    optimise=\"max\",\n",
    "    lorentz_line=0,\n",
    "    window_radius=0,\n",
    "    theta=0,\n",
    "    cmap=\"viridis\",\n",
    "    period_start=None,\n",
    "    period_stop=None,\n",
    "    integrate_angle: float = None,\n",
    "    extra_plots=[\"RTA_normal\", \"RTA_int\", \"norm_1_normal\", \"norm_1_int\"],\n",
    "    dim=None,  # automatically assign if dataset recognised\n",
    "    restack_ef=None,\n",
    "    common_dim=None,\n",
    "):\n",
    "    plots = []\n",
    "\n",
    "    # detect string labels\n",
    "    if str(dataset) == \"ds\":\n",
    "        # the drop_sel is important for avoiding the most common degenerate cases\n",
    "        dataset = ds.drop_sel({\"excitonic_layer_thickness\": 0})\n",
    "\n",
    "    if str(ref) == \"crs_1\":\n",
    "        ref = crs_1\n",
    "        common_dim = \"total_excitonic_thickness\"\n",
    "\n",
    "    if str(dataset) == \"frs_1\":\n",
    "        ref = frs_1\n",
    "        common_dim = \"total_thickness\"\n",
    "    \n",
    "    match dim:  # if restack is the default value, automatically set it\n",
    "        case \"period\":\n",
    "            restack_ef = True if restack_ef is None else restack_ef\n",
    "        case \"passive_layer_thickness\":\n",
    "            restack_ef = False if restack_ef is None else restack_ef\n",
    "    integration_dims = []\n",
    "    vline_locs = [0]\n",
    "\n",
    "    da = dataset[variable]\n",
    "    ra = ref[variable]\n",
    "\n",
    "    da = select_lorentz_line(da, lorentz_line=lorentz_line, window_radius=window_radius)\n",
    "    ra = select_lorentz_line(ra, lorentz_line=lorentz_line, window_radius=window_radius)\n",
    "\n",
    "    if window_radius == 0:\n",
    "        wavelength = float(da.wavelength)\n",
    "        title = f\"{optimise.capitalize()}imum {variable} enhancement factor at {wavelength:.0f} nm\"\n",
    "        if lorentz_line != 0:  # don't put two lines over the resonance\n",
    "            vline_locs.append(lorentz_line)\n",
    "    else:\n",
    "        wavelength_start = float(da.wavelength[0])\n",
    "        wavelength_stop = float(da.wavelength[-1])\n",
    "        title = f\"{optimise.capitalize()}imum integrated {variable} enhancement factor between {wavelength_start:.0f} and {wavelength_stop:.0f} nm\"\n",
    "        vline_locs.append(lorentz_line - window_radius)\n",
    "        vline_locs.append(lorentz_line + window_radius)\n",
    "        integration_dims.append(\"wavelength\")\n",
    "\n",
    "    if integrate_angle:  # integrate angle should be a float\n",
    "        th = (theta, integrate_angle)\n",
    "        da = da.sel(theta=slice(*th))\n",
    "        ra = ra.sel(theta=slice(*th))\n",
    "        integration_dims.append(\"theta\")\n",
    "    else:  # this includes if integrate_angle==0, which is hacky but fine\n",
    "        da = da.sel(theta=theta, method=\"nearest\")\n",
    "        ra = ra.sel(theta=theta, method=\"nearest\")\n",
    "        th = theta\n",
    "\n",
    "    if integration_dims:  # if the list isn't empty\n",
    "        da = integrate_da(da, integration_dims, weighting=1, normalisation=None)\n",
    "        ra = integrate_da(ra, integration_dims, weighting=1, normalisation=None)\n",
    "\n",
    "    norm = enhancement_factor(ds=da, ref=ra, common_dim=common_dim, method=\"groupby\")\n",
    "\n",
    "    if (\n",
    "        window_radius == 0 and not integrate_angle\n",
    "    ):  # if the precalculated norm_1 dataset will suffice\n",
    "        norm = norm_1[variable].drop_sel({\"excitonic_layer_thickness\": 0})  # then use it instead\n",
    "        norm = select_lorentz_line(norm, lorentz_line=lorentz_line, window_radius=window_radius)\n",
    "        norm = norm.sel(theta=theta, method=\"nearest\")\n",
    "\n",
    "    match restack_ef:\n",
    "        case True:\n",
    "            norm = restack_plt_to_period(norm)\n",
    "\n",
    "    if period_start < period_stop:\n",
    "        norm = norm.sel(period=slice(period_start, period_stop))\n",
    "    else:  # otherwise no data is selected and everything breaks\n",
    "        norm = norm.sel(period=slice(period_start, None))\n",
    "\n",
    "    plot_1, optimum_coords = plot_optimum_over_dim(\n",
    "        norm,\n",
    "        dim=dim,\n",
    "        x=\"excitonic_layer_thickness\",\n",
    "        y=\"num_periods\",\n",
    "        optimise=optimise,\n",
    "    )\n",
    "    ############################################# code above is fresh, below is stale\n",
    "    P = float(optimum_coords[\"period\"])\n",
    "    t = float(optimum_coords[\"excitonic_layer_thickness\"])\n",
    "    N = float(optimum_coords[\"num_periods\"])\n",
    "    # try:  # this should work if not integrating over theta\n",
    "    #     th = float(optimum_coords[\"theta\"])\n",
    "    # except:  # probably the problem is that theta doesn't exist because I integrated over it already\n",
    "    #     th = (theta, integrate_angle)\n",
    "    lorentz_lines = lorentz_vlines(vline_locs, scale=1e-9, mode=\"wavelength\").opts(\n",
    "        opts.VLine(line_color=green, line_dash=\"dotted\"),\n",
    "    )\n",
    "\n",
    "    # give the resonance line a special colour\n",
    "    lorentz_lines.VLine.I.opts(opts.VLine(line_color=yellow))\n",
    "\n",
    "    plot_1.opts(\n",
    "        opts.QuadMesh(cmap=cmap),\n",
    "        opts.Points(color=\"red\"),\n",
    "        opts.Overlay(title=f\"{title}\\nOptimal period: {P:.0f}\"),\n",
    "    )\n",
    "\n",
    "    plots.append(plot_1)\n",
    "\n",
    "    if \"RTA_normal\" in extra_plots:  # plot RTA at theta=0\n",
    "        new_plot = plot_RTA(\n",
    "            period=P, excitonic_layer_thickness=t, num_periods=N, theta=0\n",
    "        )\n",
    "        new_plot *= lorentz_lines\n",
    "\n",
    "        plots.append(new_plot)\n",
    "\n",
    "    if \"RTA_int\" in extra_plots:  # plot RTA at theta OR integrating over theta\n",
    "        new_plot = plot_RTA(\n",
    "            period=P, excitonic_layer_thickness=t, num_periods=N, theta=th\n",
    "        )\n",
    "        new_plot *= lorentz_lines\n",
    "        plots.append(new_plot)\n",
    "\n",
    "    if \"norm_1_normal\" in extra_plots:  # plot enhancement factor at theta=0\n",
    "        sel = {\n",
    "            \"period\": P,\n",
    "            \"excitonic_layer_thickness\": t,\n",
    "            \"num_periods\": N,\n",
    "            \"theta\": 0,\n",
    "        }\n",
    "        new_plot = (\n",
    "            plot_ef(variable=\"A\", dataset=restacked_norm_1, sel=sel) * lorentz_lines\n",
    "        ).opts(opts.Overlay(legend_position=\"bottom_right\"))\n",
    "        plots.append(new_plot)\n",
    "\n",
    "    if (\n",
    "        \"norm_1_int\" in extra_plots\n",
    "    ):  # plot enhancement factor at theta OR integrating over theta\n",
    "        try:  # this should work if not integrating over theta\n",
    "            sel = {\n",
    "                \"period\": P,\n",
    "                \"excitonic_layer_thickness\": t,\n",
    "                \"num_periods\": N,\n",
    "                \"theta\": th,\n",
    "            }\n",
    "            new_plot = (\n",
    "                plot_ef(variable=\"A\", dataset=restacked_norm_1, sel=sel) * lorentz_lines\n",
    "            ).opts(opts.Overlay(legend_position=\"bottom_right\"))\n",
    "        except:  # if integrating, we need to do the integral *before* normalising\n",
    "            ds_int = sel_or_integrate(ds, dim=\"theta\", val=th)\n",
    "            crs_1_int = sel_or_integrate(crs_1, dim=\"theta\", val=th)\n",
    "            norm = enhancement_factor(\n",
    "                ds_int,\n",
    "                ref=crs_1_int,\n",
    "                common_dim=\"total_excitonic_thickness\",\n",
    "                method=\"groupby\",\n",
    "            )\n",
    "            restacked_norm = restack_plt_to_period(norm)\n",
    "\n",
    "            sel = {\"period\": P, \"excitonic_layer_thickness\": t, \"num_periods\": N}\n",
    "            new_plot = (\n",
    "                plot_ef(variable=\"A\", dataset=restacked_norm, sel=sel) * lorentz_lines\n",
    "            ).opts(opts.Overlay(legend_position=\"bottom_right\"))\n",
    "        plots.append(new_plot)\n",
    "\n",
    "    return hv.Layout(plots).cols(1)"
   ]
  },
  {
   "cell_type": "markdown",
   "id": "0dc0ad6f",
   "metadata": {
    "tags": []
   },
   "source": [
    "# Iridescence differentiates between diffuse and collimated light"
   ]
  },
  {
   "cell_type": "code",
   "execution_count": null,
   "id": "02173c62",
   "metadata": {},
   "outputs": [],
   "source": [
    "P = 300\n",
    "elt = 30\n",
    "N = 10\n",
    "theta = (0, 45)\n",
    "fig = plot_R(\n",
    "    dataset=restacked_ds.sel(\n",
    "        period=P, excitonic_layer_thickness=elt, num_periods=N\n",
    "    ).sel(theta=slice(*theta)).squeeze(),\n",
    "    x=\"wavelength\",\n",
    "    y=\"theta\",\n",
    ")\n",
    "fig.opts(opts.Image(clim=(0,None)))"
   ]
  },
  {
   "cell_type": "code",
   "execution_count": null,
   "id": "4b51818a-76b4-4f98-8227-e3b982280307",
   "metadata": {},
   "outputs": [],
   "source": [
    "fig = compare_RTA_normal_vs_integrated(\n",
    "    {\"theta\": 10, \"label_override\": \" (θ = 10)\"},\n",
    "    {\"theta\": 20, \"label_override\": \" (θ = 20)\"},\n",
    "    {\"theta\": 30, \"label_override\": \" (θ = 30)\"},\n",
    "    period=P,\n",
    "    excitonic_layer_thickness=elt,\n",
    "    num_periods=N,\n",
    "    plot_vars=[\"R\"],\n",
    "    include=[\"LOPC\"],\n",
    ")\n",
    "fig.opts(opts.Curve(ylim=(0, None)))"
   ]
  },
  {
   "cell_type": "code",
   "execution_count": null,
   "id": "5e27f3f5-059b-428f-9f8d-bab4520c400e",
   "metadata": {},
   "outputs": [],
   "source": [
    "fig = compare_RTA_normal_vs_integrated(period=P, excitonic_layer_thickness=elt, num_periods=N, plot_vars=[\"R\"])\n",
    "fig.opts(opts.Curve(ylim=(0, None)))"
   ]
  },
  {
   "cell_type": "code",
   "execution_count": null,
   "id": "e5adf1ff-8a74-4ec6-91e8-29ac00198f49",
   "metadata": {},
   "outputs": [],
   "source": [
    "P = 200\n",
    "elt = 30\n",
    "N = 10\n",
    "theta = (0, 45)\n",
    "fig = plot_R(\n",
    "    dataset=restacked_ds.sel(\n",
    "        period=P, excitonic_layer_thickness=elt, num_periods=N\n",
    "    ).sel(theta=slice(*theta)).squeeze(),\n",
    "    x=\"wavelength\",\n",
    "    y=\"theta\",\n",
    ")\n",
    "fig.opts(opts.Image(clim=(0,None)))"
   ]
  },
  {
   "cell_type": "code",
   "execution_count": null,
   "id": "48095470-0729-49b4-a29f-f3179e3f2e84",
   "metadata": {},
   "outputs": [],
   "source": [
    "fig = compare_RTA_normal_vs_integrated(\n",
    "    {\"theta\": 10, \"label_override\": \" (θ = 10)\"},\n",
    "    {\"theta\": 20, \"label_override\": \" (θ = 20)\"},\n",
    "    {\"theta\": 30, \"label_override\": \" (θ = 30)\"},\n",
    "    period=P,\n",
    "    excitonic_layer_thickness=elt,\n",
    "    num_periods=N,\n",
    "    plot_vars=[\"R\"],\n",
    "    include=[\"LOPC\"],\n",
    ")\n",
    "fig.opts(opts.Curve(ylim=(0, None)))"
   ]
  },
  {
   "cell_type": "code",
   "execution_count": null,
   "id": "94189172-f7ad-404f-91d2-a6544e135825",
   "metadata": {},
   "outputs": [],
   "source": [
    "fig = compare_RTA_normal_vs_integrated(period=P, excitonic_layer_thickness=elt, num_periods=N, plot_vars=[\"R\"])\n",
    "fig.opts(opts.Curve(ylim=(0, None)))"
   ]
  },
  {
   "cell_type": "code",
   "execution_count": null,
   "id": "a213b3db-470e-4237-9002-b806b5030fd8",
   "metadata": {},
   "outputs": [],
   "source": [
    "N = 30\n",
    "elt = 10\n",
    "normal_dataset = integrate_da(\n",
    "    restacked_ds.sel(num_periods=N, excitonic_layer_thickness=elt)\n",
    "    .sel(theta=0)\n",
    "    .squeeze(),\n",
    "    dim=\"wavelength\",\n",
    "    normalisation=1,\n",
    ")\n",
    "angle_dataset = integrate_da(\n",
    "    restacked_ds.sel(num_periods=N, excitonic_layer_thickness=elt)\n",
    "    .sel(theta=slice(0, 45))\n",
    "    .squeeze(),\n",
    "    dim=[\"wavelength\", \"theta\"],\n",
    "    normalisation=1,\n",
    ")\n",
    "(\n",
    "    compare_RTA(\n",
    "        {\"dataset\": angle_dataset, \"label_append\": \" (integrated)\"},\n",
    "        {\"dataset\": normal_dataset, \"label_append\": \" (θ = 0)\"},\n",
    "        plot_func=plot_R,\n",
    "        label_field=None,\n",
    "        x=\"period\",\n",
    "    )\n",
    ").redim(period=period_dim).opts(opts.Curve(ylim=(None, None), xlim=(100, 340), title=\"Integrated by wavelength\"))"
   ]
  },
  {
   "cell_type": "code",
   "execution_count": null,
   "id": "8f1daa4b-6f27-4d08-b3de-cc3c4ac2ee69",
   "metadata": {},
   "outputs": [],
   "source": [
    "(plot_ef(variable=\"R\", dataset=(normal_dataset / angle_dataset), x=\"period\")).redim(\n",
    "    period=period_dim, R=\"R (normal / integrated)\"\n",
    ").opts(opts.Curve(xlim=(100, 340)))"
   ]
  },
  {
   "cell_type": "code",
   "execution_count": null,
   "id": "cc4e40e5-4f3b-4178-af9b-07173349ad09",
   "metadata": {},
   "outputs": [],
   "source": [
    "# peak is at Lambda = 180\n",
    "P = 180\n",
    "fig = compare_RTA_normal_vs_integrated(period=P, excitonic_layer_thickness=elt, num_periods=N, plot_vars=[\"R\"])\n",
    "fig.opts(opts.Curve(ylim=(0, None)))"
   ]
  },
  {
   "cell_type": "code",
   "execution_count": null,
   "id": "188acb03-206b-49e9-98da-559ab746545d",
   "metadata": {
    "tags": []
   },
   "outputs": [],
   "source": [
    "fig = plot_R(\n",
    "    dataset=restacked_ds.sel(\n",
    "        period=P, excitonic_layer_thickness=elt, num_periods=N\n",
    "    ).sel(theta=slice(*theta_range)).squeeze(),\n",
    "    x=\"wavelength\",\n",
    "    y=\"theta\",\n",
    ")\n",
    "fig.opts(opts.Image(clim=(0,None)))"
   ]
  },
  {
   "cell_type": "code",
   "execution_count": null,
   "id": "83f93fe2-8e86-41f1-b22f-843ade1aff1d",
   "metadata": {},
   "outputs": [],
   "source": [
    "(\n",
    "    plot_R(dataset=(normal_dataset - angle_dataset), label_field=None, x=\"period\")\n",
    "    * hv.HLine(0)\n",
    ").redim(period=period_dim, R=\"R (normal - integrated)\",\n",
    ").opts(\n",
    "    opts.Curve(ylim=(None, None), xlim=(100, 340), title=\"\"),\n",
    "    opts.HLine(line_dash=\"dotted\"),\n",
    ")"
   ]
  },
  {
   "cell_type": "code",
   "execution_count": null,
   "id": "449113e8-bbd4-4ed9-9ca2-540a10441518",
   "metadata": {},
   "outputs": [],
   "source": [
    "# second peak is at Lambda = 260\n",
    "P = 260\n",
    "fig = compare_RTA_normal_vs_integrated(period=P, excitonic_layer_thickness=elt, num_periods=N, plot_vars=[\"R\"])\n",
    "fig.opts(opts.Curve(ylim=(0, None)))"
   ]
  },
  {
   "cell_type": "code",
   "execution_count": null,
   "id": "edcc89c4-64d4-4e7f-9b16-7bff115e6c78",
   "metadata": {},
   "outputs": [],
   "source": [
    "fig = plot_R(\n",
    "    dataset=restacked_ds.sel(\n",
    "        period=P, excitonic_layer_thickness=elt, num_periods=N\n",
    "    ).sel(theta=slice(*theta_range)).squeeze(),\n",
    "    x=\"wavelength\",\n",
    "    y=\"theta\",\n",
    ")\n",
    "fig.opts(opts.Image(clim=(0,None)))"
   ]
  },
  {
   "cell_type": "code",
   "execution_count": null,
   "id": "ac0465e4-b25d-4597-8126-6b0ca59b08f5",
   "metadata": {},
   "outputs": [],
   "source": [
    "lorentz_line = -11\n",
    "window_radius = 2\n",
    "N = 10\n",
    "elt = 30\n",
    "theta_range = (0, 45)\n",
    "normal_dataset = integrate_da(\n",
    "    select_lorentz_line(restacked_ds, lorentz_line, window_radius)\n",
    "    .sel(num_periods=N, excitonic_layer_thickness=elt)\n",
    "    .sel(theta=0)\n",
    "    .squeeze(),\n",
    "    dim=\"wavelength\",\n",
    "    normalisation=1,\n",
    ")\n",
    "angle_dataset = integrate_da(\n",
    "    select_lorentz_line(restacked_ds, lorentz_line, window_radius)\n",
    "    .sel(num_periods=N, excitonic_layer_thickness=elt)\n",
    "    .sel(theta=slice(*theta_range))\n",
    "    .squeeze(),\n",
    "    dim=[\"wavelength\", \"theta\"],\n",
    "    normalisation=1,\n",
    ")\n",
    "lines = lorentz_vlines(\n",
    "    [lorentz_line - window_radius, lorentz_line + window_radius], scale=1e-9\n",
    ").opts(\n",
    "    opts.VLine(line_color=green, line_dash=\"dotted\"),\n",
    ")\n",
    "\n",
    "(\n",
    "    compare_RTA(\n",
    "        {\"dataset\": angle_dataset, \"label_append\": \" (integrated)\"},\n",
    "        {\"dataset\": normal_dataset, \"label_append\": \" (θ = 0)\"},\n",
    "        plot_func=plot_R,\n",
    "        label_field=None,\n",
    "        x=\"period\",\n",
    "    )\n",
    ").redim(period=period_dim).opts(opts.Curve(ylim=(None, None), xlim=(100, 340), title=\"Integrated by wavelength\"))"
   ]
  },
  {
   "cell_type": "code",
   "execution_count": null,
   "id": "5b50ee7f-0de6-48b8-a734-4631b462ea29",
   "metadata": {},
   "outputs": [],
   "source": [
    "(plot_ef(variable=\"R\", dataset=(normal_dataset / angle_dataset), x=\"period\")).redim(\n",
    "    period=period_dim, R=\"R (normal / integrated)\"\n",
    ").opts(opts.Curve(xlim=(100, 340)))"
   ]
  },
  {
   "cell_type": "code",
   "execution_count": null,
   "id": "39c6c9ba-4167-43ad-8ea2-ddc18bc4a5ce",
   "metadata": {},
   "outputs": [],
   "source": [
    "# peak is at Lambda = 180 \n",
    "P = 180\n",
    "fig = compare_RTA_normal_vs_integrated(period=P, excitonic_layer_thickness=elt, num_periods=N, plot_vars=[\"R\"])*lines\n",
    "fig.opts(opts.Curve(ylim=(0, None)))"
   ]
  },
  {
   "cell_type": "code",
   "execution_count": null,
   "id": "857f74aa-4038-4842-a5d6-811c65286b98",
   "metadata": {},
   "outputs": [],
   "source": [
    "fig = plot_R(\n",
    "    dataset=restacked_ds.sel(\n",
    "        period=P, excitonic_layer_thickness=elt, num_periods=N\n",
    "    ).sel(theta=slice(*theta_range)).squeeze(),\n",
    "    x=\"wavelength\",\n",
    "    y=\"theta\",\n",
    ")*lines\n",
    "fig.opts(opts.Image(clim=(0,None)))"
   ]
  },
  {
   "cell_type": "code",
   "execution_count": null,
   "id": "4360a0ca-5c43-438e-85af-3a7ddff58340",
   "metadata": {},
   "outputs": [],
   "source": [
    "(\n",
    "    plot_R(dataset=(normal_dataset - angle_dataset), label_field=None, x=\"period\")\n",
    "    * hv.HLine(0)\n",
    ").redim(period=period_dim, R=\"R (normal - integrated)\",\n",
    ").opts(\n",
    "    opts.Curve(ylim=(None, None), title=\"\"),\n",
    "    opts.HLine(line_dash=\"dotted\"),\n",
    ")"
   ]
  },
  {
   "cell_type": "code",
   "execution_count": null,
   "id": "ace3a312-19d6-4f40-8493-9af914c25f2b",
   "metadata": {},
   "outputs": [],
   "source": [
    "# peak is at Lambda = 190\n",
    "P = 190\n",
    "fig = compare_RTA_normal_vs_integrated(period=P, excitonic_layer_thickness=elt, num_periods=N, plot_vars=[\"R\"])*lines\n",
    "fig.opts(opts.Curve(ylim=(0, None)))"
   ]
  },
  {
   "cell_type": "code",
   "execution_count": null,
   "id": "9403c774-e57a-4f7a-9ad9-89c731b3d54e",
   "metadata": {},
   "outputs": [],
   "source": [
    "fig = plot_R(\n",
    "    dataset=restacked_ds.sel(\n",
    "        period=P, excitonic_layer_thickness=elt, num_periods=N\n",
    "    ).sel(theta=slice(*theta_range)).squeeze(),\n",
    "    x=\"wavelength\",\n",
    "    y=\"theta\",\n",
    ")*lines\n",
    "fig.opts(opts.Image(clim=(0,None)))"
   ]
  },
  {
   "cell_type": "markdown",
   "id": "ad49d787-83b8-4666-95d8-0e37254d06d3",
   "metadata": {
    "tags": []
   },
   "source": [
    "# Cleanup"
   ]
  },
  {
   "cell_type": "code",
   "execution_count": null,
   "id": "8dbc4784-d764-47cf-abe9-aba6e493254e",
   "metadata": {},
   "outputs": [],
   "source": [
    "# hv.archive.export()"
   ]
  }
 ],
 "metadata": {
  "kernelspec": {
   "display_name": "Python [conda env:multilayer_simulator] *",
   "language": "python",
   "name": "conda-env-multilayer_simulator-py"
  },
  "language_info": {
   "codemirror_mode": {
    "name": "ipython",
    "version": 3
   },
   "file_extension": ".py",
   "mimetype": "text/x-python",
   "name": "python",
   "nbconvert_exporter": "python",
   "pygments_lexer": "ipython3",
   "version": "3.10.0"
  }
 },
 "nbformat": 4,
 "nbformat_minor": 5
}
