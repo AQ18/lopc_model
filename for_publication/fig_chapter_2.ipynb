{
 "cells": [
  {
   "cell_type": "markdown",
   "id": "16933af0-af89-4324-bb97-4d3752f27e6c",
   "metadata": {},
   "source": [
    "Generating plots that explore the disordered LOPC model. This notebook is for generating publication-ready plots, which will be automatically exported to the LaTeX directory. To follow the process of exploring the data, look at the other notebooks."
   ]
  },
  {
   "cell_type": "code",
   "execution_count": null,
   "id": "5c83c59e-8966-45c4-8f51-e978801de4c0",
   "metadata": {
    "tags": []
   },
   "outputs": [],
   "source": [
    "# computation\n",
    "import lumapi\n",
    "import numpy as np\n",
    "import warnings\n",
    "import xarray as xr\n",
    "# import xyzpy as xyz\n",
    "# from xyzpy.gen.combo_runner import multi_concat\n",
    "from multilayer_simulator.lumerical_classes import LumericalOscillator, format_stackrt, format_stackfield\n",
    "from multilayer_simulator.helpers.mixins import convert_wavelength_and_frequency\n",
    "import dask\n",
    "from functools import partial\n",
    "from pathlib import Path\n",
    "import sys\n",
    "from tqdm import tqdm\n",
    "# plotting\n",
    "import hvplot.xarray\n",
    "import holoviews as hv\n",
    "from holoviews import dim, opts\n",
    "import colorcet\n",
    "import panel as pn\n",
    "import panel.widgets as pnw\n",
    "from bokeh.io import export_png, export_svg\n",
    "from selenium.webdriver import Firefox\n",
    "from selenium.webdriver.firefox.options import Options\n",
    "from scipy.signal import find_peaks\n",
    "from bokeh.models import PrintfTickFormatter"
   ]
  },
  {
   "cell_type": "code",
   "execution_count": null,
   "id": "ac87f1e5-e9e1-4697-9208-c01741339ad3",
   "metadata": {
    "tags": []
   },
   "outputs": [],
   "source": [
    "hv.extension(\"bokeh\", inline=False, case_sensitive_completion=True)  # use matplotlib because rendering bokeh to svg is broken\n",
    "pn.config.throttled = True  # don't update interactive plots until mouse is unclicked\n",
    "\n",
    "# default_color_cycle = hv.Cycle(\"Colorblind\")  # Ruth doesn't like the inclusion of yellow, which is fair enough\n",
    "default_color_cycle = hv.Cycle(colorcet.glasbey_dark)\n",
    "default_dash_cycle = hv.Cycle([\"solid\", \"dashed\", \"dashdot\", \"dotted\", \"dotdash\"])\n",
    "universal_opts = dict(fontscale=2, title=\"\")\n",
    "matplotlib_opts = dict(fig_inches=5, aspect=2, fig_latex=True)\n",
    "bokeh_opts = dict(width=700, height=300)\n",
    "opts.defaults(opts.Curve(**universal_opts|bokeh_opts, color=default_color_cycle, line_width=1.5),\n",
    "              opts.Scatter(**universal_opts|bokeh_opts, color=default_color_cycle),\n",
    "              opts.Slope(**universal_opts|bokeh_opts, color=default_color_cycle),\n",
    "              opts.Area(**universal_opts|bokeh_opts, color=default_color_cycle),\n",
    "              opts.Overlay(**universal_opts|bokeh_opts),\n",
    "              opts.Layout(**universal_opts|bokeh_opts),\n",
    "              opts.GridSpace(**universal_opts|bokeh_opts),\n",
    "              )\n",
    "\n",
    "xarray_engine='h5netcdf'"
   ]
  },
  {
   "cell_type": "code",
   "execution_count": null,
   "id": "a1363c32",
   "metadata": {
    "tags": []
   },
   "outputs": [],
   "source": [
    "root = Path.cwd().parent.parent.parent  # depth of parents depends on if this is running in JupyterLab or Notebook"
   ]
  },
  {
   "cell_type": "code",
   "execution_count": null,
   "id": "d297ee98",
   "metadata": {
    "tags": []
   },
   "outputs": [],
   "source": [
    "code_path = root / r\"research\""
   ]
  },
  {
   "cell_type": "code",
   "execution_count": null,
   "id": "76cd59c3",
   "metadata": {
    "tags": []
   },
   "outputs": [],
   "source": [
    "data_path = code_path / r\"notebooks/data\""
   ]
  },
  {
   "cell_type": "code",
   "execution_count": null,
   "id": "7767f027",
   "metadata": {
    "tags": []
   },
   "outputs": [],
   "source": [
    "archive_path = root / r\"thesis/LaTeX/chapters/chapter_2\""
   ]
  },
  {
   "cell_type": "code",
   "execution_count": null,
   "id": "78372add-e3c0-4c96-a89b-a5b63ea144b5",
   "metadata": {
    "tags": []
   },
   "outputs": [],
   "source": [
    "fig_path = archive_path / \"fig_chapter_2\""
   ]
  },
  {
   "cell_type": "code",
   "execution_count": null,
   "id": "4d826d37-718a-4a7e-9c46-2e4ee069fe3c",
   "metadata": {
    "tags": []
   },
   "outputs": [],
   "source": [
    "if not code_path in sys.path:\n",
    "    sys.path.append(str(code_path))\n",
    "from LOPC import LOPC\n",
    "from LOPC.helpers import (\n",
    "    assign_derived_attrs,\n",
    "    restack,\n",
    "    enhancement_factor,\n",
    "    # combo_length,\n",
    "    # estimate_combo_run_time,\n",
    "    linewidth_calculator,\n",
    "    lopc_data,\n",
    "    spectrum,\n",
    "    normalise_over_dim,\n",
    "    integrate_da,\n",
    "    sel_or_integrate,\n",
    "    find_optimum_coords,\n",
    "    plot_secondary,\n",
    "    pre_process_for_plots,\n",
    "    vlines,\n",
    "    coordinate_string,\n",
    "    plot_da,\n",
    "    plot_var,\n",
    "    plot_optimum_over_dim,\n",
    "    plot_field,\n",
    "    visualise_multilayer,\n",
    "    complex_elements,\n",
    "    indexer_from_dataset,\n",
    "    fix_bin_labels,\n",
    "    mean_and_std,\n",
    "    assign_high_from_mean_and_std,\n",
    "    assign_low_from_mean_and_std,\n",
    "    assign_high_and_low,\n",
    "    max_min_pos,\n",
    ")"
   ]
  },
  {
   "cell_type": "markdown",
   "id": "32d1f679-dc47-4e62-935f-46757192a710",
   "metadata": {},
   "source": [
    "Turn on auto-archiving of cells and Holoviews outputs. See the user guide [here](https://holoviews.org/user_guide/Exporting_and_Archiving.html).\n",
    "\n",
    "Might need to install `ipympl`.\n",
    "\n",
    "EDIT: This does not work but I'm leaving this here so a future researcher can avoid the rabbithole I fell down."
   ]
  },
  {
   "cell_type": "code",
   "execution_count": null,
   "id": "2450ba99-e892-4be2-931b-0f0a07589273",
   "metadata": {
    "tags": []
   },
   "outputs": [],
   "source": [
    "# # This is the idiomatic way to record all generated figures with holoviews\n",
    "# # This does NOT work in JupyterLab: see https://github.com/holoviz/holoviews/issues/3570\n",
    "# # This also does not work in Jupyter Notebook\n",
    "# # It's just utterly broken\n",
    "\n",
    "# hv.archive.auto(root=str(archive_path), export_name=\"fig_chapter_2\") "
   ]
  },
  {
   "cell_type": "markdown",
   "id": "8201d51c-3b60-466d-ab5c-76638121dbaf",
   "metadata": {
    "tags": []
   },
   "source": [
    "Due to a bug that I still do not fully understand, `hv.save` raises\n",
    "```\n",
    "RuntimeError: Neither firefox and geckodriver nor a variant of chromium browser and chromedriver are available on system PATH. You can install the former with 'conda install -c conda-forge firefox geckodriver'.\n",
    "```\n",
    "The below code is part of a workaround. (The second part is to pass `web_driver` to `export_png(hv.render(fig), ..., webdriver=web_driver)` rather than `hv.save(fig)`, which is supposed to just work.)\n",
    "\n",
    "EDIT: `hv.save(fig)` seems to be working for now."
   ]
  },
  {
   "cell_type": "code",
   "execution_count": null,
   "id": "6355bf61-6b76-4af7-b69f-bd4ad1b63f81",
   "metadata": {
    "tags": []
   },
   "outputs": [],
   "source": [
    "# options = Options()\n",
    "# options.add_argument('-headless')\n",
    "# web_driver = Firefox(\n",
    "#     options=options,\n",
    "# )"
   ]
  },
  {
   "cell_type": "markdown",
   "id": "86a36028-8691-4140-9790-f742c001d5b2",
   "metadata": {
    "tags": []
   },
   "source": [
    "# Load/define datasets"
   ]
  },
  {
   "cell_type": "markdown",
   "id": "548f134e",
   "metadata": {},
   "source": [
    "## Basic datasets"
   ]
  },
  {
   "cell_type": "code",
   "execution_count": null,
   "id": "5d63156d-a3ab-4253-bc6f-e700f9238dd6",
   "metadata": {
    "tags": []
   },
   "outputs": [],
   "source": [
    "# plt = 50, 100\n",
    "uncorrelated_ds_01_04_short = xr.open_mfdataset(\n",
    "    [data_path / r\"run_103/LOPC_01.nc\",\n",
    "     data_path / r\"run_103/LOPC_02.nc\",\n",
    "     data_path / r\"run_103/LOPC_03.nc\",\n",
    "     data_path / r\"run_103/LOPC_04.nc\",\n",
    "    ],\n",
    "    engine=xarray_engine,\n",
    "    lock=False,\n",
    ")\n",
    "\n",
    "# plt = 150, 200, 250\n",
    "uncorrelated_ds_01_04_long = xr.open_mfdataset(\n",
    "    data_path / r\"run_101/LOPC.nc\",\n",
    "    engine=xarray_engine,\n",
    "    lock=False,\n",
    ")\n",
    "\n",
    "uncorrelated_ds_01_04 = xr.concat(\n",
    "    [uncorrelated_ds_01_04_short, uncorrelated_ds_01_04_long],\n",
    "    dim=\"passive_layer_thickness\",\n",
    ")\n",
    "uncorrelated_ds_01_04 = assign_derived_attrs(\n",
    "    uncorrelated_ds_01_04,\n",
    "    per_oscillator=[\"Rs\", \"Rp\", \"R\", \"Ts\", \"Tp\", \"T\", \"As\", \"Ap\", \"A\"],\n",
    ")"
   ]
  },
  {
   "cell_type": "code",
   "execution_count": null,
   "id": "8a68ffda-6314-406e-b698-29450fd0531c",
   "metadata": {
    "tags": []
   },
   "outputs": [],
   "source": [
    "# plt = 50, 100\n",
    "uncorrelated_ds_05_short = xr.open_mfdataset(\n",
    "    (data_path / \"run_103\").glob(\"LOPC_05_*\"),\n",
    "    chunks={\"run\": 100},\n",
    "    concat_dim=\"run\",\n",
    "    combine=\"nested\",\n",
    "    engine=xarray_engine,\n",
    "    lock=False,\n",
    ")\n",
    "\n",
    "# plt = 150, 200, 250\n",
    "uncorrelated_ds_05_long = xr.open_mfdataset(\n",
    "    (data_path / \"run_102\").glob(\"*\"),\n",
    "    chunks={\"run\": 100},\n",
    "    concat_dim=\"run\",\n",
    "    combine=\"nested\",\n",
    "    engine=xarray_engine,\n",
    "    lock=False,\n",
    ")\n",
    "\n",
    "uncorrelated_ds_05 = xr.concat(\n",
    "    [uncorrelated_ds_05_short, uncorrelated_ds_05_long],\n",
    "    dim=\"passive_layer_thickness\",\n",
    ")\n",
    "# assign each run a unique coordinate\n",
    "uncorrelated_ds_05 = uncorrelated_ds_05.assign_coords(\n",
    "    run=range(len(uncorrelated_ds_05.run))\n",
    ")\n",
    "uncorrelated_ds_05 = assign_derived_attrs(uncorrelated_ds_05, per_oscillator=[\"Rs\", \"Rp\", \"R\", \"Ts\", \"Tp\", \"T\", \"As\", \"Ap\", \"A\"])"
   ]
  },
  {
   "cell_type": "code",
   "execution_count": null,
   "id": "bd1842b5",
   "metadata": {
    "tags": []
   },
   "outputs": [],
   "source": [
    "uncorrelated_aggregated_ds = xr.open_mfdataset(\n",
    "    data_path / r\"run_199/LOPC_aggregated.nc\",\n",
    "    engine=xarray_engine,\n",
    "    lock=False,\n",
    ")\n",
    "uncorrelated_aggregated_ds = assign_derived_attrs(uncorrelated_aggregated_ds, per_oscillator=[\"Rs\", \"Rp\", \"R\", \"Ts\", \"Tp\", \"T\", \"As\", \"Ap\", \"A\"])"
   ]
  },
  {
   "cell_type": "code",
   "execution_count": null,
   "id": "3eccceee-9746-4439-8dfd-ac953dd808fd",
   "metadata": {
    "tags": []
   },
   "outputs": [],
   "source": [
    "correlated_run_number_long = 201\n",
    "long_run_path = data_path / f\"run_{correlated_run_number_long}\"\n",
    "correlated_run_number_short = 203\n",
    "short_run_path = data_path / f\"run_{correlated_run_number_short}\"\n",
    "\n",
    "# plt = 50, 100\n",
    "correlated_ds_01_04_short = xr.open_mfdataset(\n",
    "    [\n",
    "        short_run_path / \"LOPC_01.nc\",\n",
    "        short_run_path / \"LOPC_02.nc\",\n",
    "        short_run_path / \"LOPC_03.nc\",\n",
    "        short_run_path / \"LOPC_04.nc\",\n",
    "    ],\n",
    "    engine=xarray_engine,\n",
    "    lock=False,\n",
    ")\n",
    "\n",
    "# plt = 150, 200, 250\n",
    "correlated_ds_01_04_long = xr.open_mfdataset(\n",
    "    [\n",
    "        long_run_path / \"LOPC_01.nc\",\n",
    "        long_run_path / \"LOPC_02.nc\",\n",
    "        long_run_path / \"LOPC_03.nc\",\n",
    "        long_run_path / \"LOPC_04.nc\",\n",
    "    ],\n",
    "    engine=xarray_engine,\n",
    "    lock=False,\n",
    ")\n",
    "\n",
    "correlated_ds_01_04 = xr.concat(\n",
    "    [correlated_ds_01_04_short, correlated_ds_01_04_long],\n",
    "    dim=\"passive_layer_thickness\",\n",
    ")\n",
    "correlated_ds_01_04 = assign_derived_attrs(\n",
    "    correlated_ds_01_04,\n",
    "    per_oscillator=[\"Rs\", \"Rp\", \"R\", \"Ts\", \"Tp\", \"T\", \"As\", \"Ap\", \"A\"],\n",
    ")"
   ]
  },
  {
   "cell_type": "code",
   "execution_count": null,
   "id": "01c488b7-b1f6-4377-8d27-c8ba625be02d",
   "metadata": {
    "tags": []
   },
   "outputs": [],
   "source": [
    "# plt = 50, 100\n",
    "correlated_ds_05_short = xr.open_mfdataset(\n",
    "    short_run_path.glob(\"LOPC_05_*.nc\"),\n",
    "    chunks={\"run\": 100},\n",
    "    concat_dim=\"run\",\n",
    "    combine=\"nested\",\n",
    "    engine=xarray_engine,\n",
    "    lock=False,\n",
    ")\n",
    "\n",
    "# plt = 150, 200, 250\n",
    "correlated_ds_05_long = xr.open_mfdataset(\n",
    "    long_run_path.glob(\"LOPC_05_*.nc\"),\n",
    "    chunks={\"run\": 100},\n",
    "    concat_dim=\"run\",\n",
    "    combine=\"nested\",\n",
    "    engine=xarray_engine,\n",
    "    lock=False,\n",
    ")\n",
    "\n",
    "correlated_ds_05 = xr.concat(\n",
    "    [correlated_ds_05_short, correlated_ds_05_long],\n",
    "    dim=\"passive_layer_thickness\",\n",
    ")\n",
    "# assign each run a unique coordinate\n",
    "correlated_ds_05 = correlated_ds_05.assign_coords(run=range(len(correlated_ds_05.run)))\n",
    "correlated_ds_05 = assign_derived_attrs(\n",
    "    correlated_ds_05, per_oscillator=[\"Rs\", \"Rp\", \"R\", \"Ts\", \"Tp\", \"T\", \"As\", \"Ap\", \"A\"]\n",
    ")"
   ]
  },
  {
   "cell_type": "code",
   "execution_count": null,
   "id": "febde177-699f-47ba-8434-32b0479e5a59",
   "metadata": {
    "tags": []
   },
   "outputs": [],
   "source": [
    "# plt = 50, 100\n",
    "correlated_ds_10_short = xr.open_mfdataset(\n",
    "    short_run_path.glob(\"LOPC_10_*.nc\"),\n",
    "    chunks={\"run\": 100},\n",
    "    concat_dim=\"run\",\n",
    "    combine=\"nested\",\n",
    "    engine=xarray_engine,\n",
    "    lock=False,\n",
    ")\n",
    "\n",
    "# plt = 150, 200, 250\n",
    "correlated_ds_10_long = xr.open_mfdataset(\n",
    "    long_run_path.glob(\"LOPC_10_*.nc\"),\n",
    "    chunks={\"run\": 100},\n",
    "    concat_dim=\"run\",\n",
    "    combine=\"nested\",\n",
    "    engine=xarray_engine,\n",
    "    lock=False,\n",
    ")\n",
    "\n",
    "correlated_ds_10 = xr.concat(\n",
    "    [correlated_ds_10_short, correlated_ds_10_long],\n",
    "    dim=\"passive_layer_thickness\",\n",
    ")\n",
    "# assign each run a unique coordinate\n",
    "correlated_ds_10 = correlated_ds_10.assign_coords(run=range(len(correlated_ds_10.run)))\n",
    "correlated_ds_10 = assign_derived_attrs(\n",
    "    correlated_ds_10, per_oscillator=[\"Rs\", \"Rp\", \"R\", \"Ts\", \"Tp\", \"T\", \"As\", \"Ap\", \"A\"]\n",
    ")"
   ]
  },
  {
   "cell_type": "code",
   "execution_count": null,
   "id": "cbb32a6e-6094-4970-961d-6b96ab227902",
   "metadata": {
    "tags": []
   },
   "outputs": [],
   "source": [
    "# num_periods = 5, 10, 15, 20, 25\n",
    "correlated_aggregated_ds_short = xr.open_mfdataset(\n",
    "    data_path.glob(r\"run_211/LOPC_0*.nc\"),\n",
    "    engine=xarray_engine,\n",
    "    lock=False,\n",
    ")\n",
    "\n",
    "# num_periods = 30\n",
    "correlated_aggregated_ds_long = xr.open_mfdataset(\n",
    "    data_path.glob(r\"run_211/LOPC_N30_*.nc\"),\n",
    "    engine=xarray_engine,\n",
    "    lock=False,\n",
    ")\n",
    "\n",
    "correlated_aggregated_ds = xr.concat(\n",
    "    [correlated_aggregated_ds_short, correlated_aggregated_ds_long], dim=\"num_periods\"\n",
    ")\n",
    "\n",
    "correlated_aggregated_ds = assign_derived_attrs(\n",
    "    correlated_aggregated_ds,\n",
    "    per_oscillator=[\"Rs\", \"Rp\", \"R\", \"Ts\", \"Tp\", \"T\", \"As\", \"Ap\", \"A\"],\n",
    ")"
   ]
  },
  {
   "cell_type": "code",
   "execution_count": null,
   "id": "3bee6aba",
   "metadata": {
    "tags": []
   },
   "outputs": [],
   "source": [
    "# chunks for plotting or integrating over angle\n",
    "undisordered_run_number = 2\n",
    "pds_chunks = {\n",
    "    \"frequency\": 256,\n",
    "    \"excitonic_layer_thickness\": 16,\n",
    "    \"passive_layer_thickness\": 32,\n",
    "    \"theta\": 16,\n",
    "    \"num_periods\": 1,\n",
    "}\n",
    "\n",
    "periodic_ds = xr.open_mfdataset(\n",
    "    data_path / f\"run_{undisordered_run_number}/LOPC.nc\",\n",
    "    engine=xarray_engine,\n",
    "    lock=False,\n",
    "    chunks=pds_chunks,\n",
    ")\n",
    "periodic_ds = assign_derived_attrs(\n",
    "    periodic_ds, per_oscillator=[\"Rs\", \"Rp\", \"R\", \"Ts\", \"Tp\", \"T\", \"As\", \"Ap\", \"A\"]\n",
    ")"
   ]
  },
  {
   "cell_type": "markdown",
   "id": "8ef26758",
   "metadata": {},
   "source": [
    "## Synthesised datasets"
   ]
  },
  {
   "cell_type": "code",
   "execution_count": null,
   "id": "89049ae2",
   "metadata": {
    "tags": []
   },
   "outputs": [],
   "source": [
    "disorder_dim = \"disorder_correlation\"\n",
    "\n",
    "singles_ds_01_04 = xr.concat(\n",
    "    [\n",
    "        correlated_ds_01_04.expand_dims({disorder_dim: [\"correlated\"]}),\n",
    "        uncorrelated_ds_01_04.expand_dims({disorder_dim: [\"uncorrelated\"]}),\n",
    "    ],\n",
    "    dim=disorder_dim,\n",
    "    combine_attrs=\"drop_conflicts\",\n",
    ")\n",
    "\n",
    "singles_ds_05 = xr.concat(\n",
    "    [\n",
    "        correlated_ds_05.expand_dims({disorder_dim: [\"correlated\"]}),\n",
    "        uncorrelated_ds_05.expand_dims({disorder_dim: [\"uncorrelated\"]}),\n",
    "    ],\n",
    "    dim=disorder_dim,\n",
    "    combine_attrs=\"drop_conflicts\",\n",
    ")\n",
    "\n",
    "singles_ds_10 = correlated_ds_10.expand_dims({disorder_dim: [\"correlated\"]}).reindex(\n",
    "    {disorder_dim: [\"correlated\", \"uncorrelated\"]}\n",
    ")"
   ]
  },
  {
   "cell_type": "code",
   "execution_count": null,
   "id": "7311fe94",
   "metadata": {
    "tags": []
   },
   "outputs": [],
   "source": [
    "indexer_from_singles_ds = partial(indexer_from_dataset, drop=[\"run\", \"layer_number\", \"delta\", disorder_dim])"
   ]
  },
  {
   "cell_type": "code",
   "execution_count": null,
   "id": "066b2d5d",
   "metadata": {
    "tags": []
   },
   "outputs": [],
   "source": [
    "# loading the data into memory might save time later\n",
    "singles_pds = periodic_ds.sel(indexer_from_singles_ds(singles_ds_01_04)).expand_dims(\n",
    "    {\n",
    "        \"run\": [0],\n",
    "        disorder_dim: singles_ds_01_04[disorder_dim].values,\n",
    "        \"delta\": [0.0],\n",
    "    }\n",
    ")  # .load()"
   ]
  },
  {
   "cell_type": "markdown",
   "id": "8463eac1-b70b-4b8d-b61c-06abb00e5413",
   "metadata": {},
   "source": [
    "A `singles_ds` is defined below for convenience. There is a surprising difference in the performance of different ways to concatenate the datasets. Arranging the `disorder_dim` in alphabetical order to avoid resorting makes a 2x difference. Using the reindexed `singles_ds_10` versus letting `align` do the work also makes a difference.\n",
    "\n",
    "In general the use of this dataset should be avoided because accessing the data for delta<0.4 is 10x slower. This is due to having to load a bunch of nans because of the run number disparity. This dataset is okay for exploring the space conveniently but shouldn't be used often."
   ]
  },
  {
   "cell_type": "code",
   "execution_count": null,
   "id": "b5300c75",
   "metadata": {
    "tags": []
   },
   "outputs": [],
   "source": [
    "%%time\n",
    "with dask.config.set(**{\"array.slicing.split_large_chunks\": False}):\n",
    "    singles_ds = xr.concat(\n",
    "        xr.align(\n",
    "            singles_pds,\n",
    "            singles_ds_01_04,\n",
    "            singles_ds_05,\n",
    "            correlated_ds_10.expand_dims({disorder_dim: [\"correlated\"]}),\n",
    "            join=\"outer\",\n",
    "            exclude=\"delta\",\n",
    "        ),\n",
    "        dim=\"delta\",\n",
    "        combine_attrs=\"drop_conflicts\",\n",
    "    )"
   ]
  },
  {
   "cell_type": "code",
   "execution_count": null,
   "id": "7414c641-00f5-41f0-a6a4-04c077a4193e",
   "metadata": {
    "tags": []
   },
   "outputs": [],
   "source": [
    "# %%time\n",
    "# singles_ds.sel(delta=0.5, frequency=0, theta=0, method=\"nearest\").Rs.load()"
   ]
  },
  {
   "cell_type": "markdown",
   "id": "43c281dd-f3d7-454f-a3fd-e07efa0b3d78",
   "metadata": {},
   "source": [
    "```\n",
    "CPU times: total: 3.5 s\n",
    "Wall time: 3.45 s\n",
    "```"
   ]
  },
  {
   "cell_type": "code",
   "execution_count": null,
   "id": "cbfcdf16-af82-429c-bcae-bd6706ec7353",
   "metadata": {
    "tags": []
   },
   "outputs": [],
   "source": [
    "# %%time\n",
    "# # slightly less efficient overall\n",
    "# with dask.config.set(**{\"array.slicing.split_large_chunks\": False}):\n",
    "#     singles_ds = xr.concat(\n",
    "#         xr.align(\n",
    "#             singles_ds_01_04,\n",
    "#             singles_ds_05,\n",
    "#             singles_ds_10,\n",
    "#             join=\"outer\",\n",
    "#             exclude=\"delta\",\n",
    "#         ),\n",
    "#         dim=\"delta\",\n",
    "#         combine_attrs=\"drop_conflicts\",\n",
    "#     )"
   ]
  },
  {
   "cell_type": "markdown",
   "id": "35f522b3-0ccc-4899-96ba-9d5de56ae91e",
   "metadata": {},
   "source": [
    "```\n",
    "CPU times: total: 1.55 s\n",
    "Wall time: 1.61 s\n",
    "```"
   ]
  },
  {
   "cell_type": "code",
   "execution_count": null,
   "id": "ef9f472a-cbc6-48ab-909a-430698aa4be3",
   "metadata": {
    "tags": []
   },
   "outputs": [],
   "source": [
    "# %%time\n",
    "# singles_ds.sel(delta=0.5, frequency=0, theta=0, method=\"nearest\").Rs.load()"
   ]
  },
  {
   "cell_type": "markdown",
   "id": "9cc944dd-1185-4402-a547-2cb9bbbe06fd",
   "metadata": {},
   "source": [
    "```\n",
    "CPU times: total: 5.03 s\n",
    "Wall time: 6.57 s\n",
    "```"
   ]
  },
  {
   "cell_type": "code",
   "execution_count": null,
   "id": "4a7030a6-d78f-42c7-84d2-6c6e4da66cbd",
   "metadata": {
    "tags": []
   },
   "outputs": [],
   "source": [
    "# %%time\n",
    "# singles_ds_10.sel(delta=1, frequency=0, theta=0, method=\"nearest\").Rs.load()"
   ]
  },
  {
   "cell_type": "markdown",
   "id": "57a1e80b-61c3-4241-ae89-5cd2093954ae",
   "metadata": {},
   "source": [
    "```\n",
    "CPU times: total: 19 s\n",
    "Wall time: 5.58 s\n",
    "```"
   ]
  },
  {
   "cell_type": "code",
   "execution_count": null,
   "id": "d970eabf-0b9a-4d8e-a035-649741012c38",
   "metadata": {
    "tags": []
   },
   "outputs": [],
   "source": [
    "# %%time\n",
    "# singles_ds_01_04.sel(delta=0.1, frequency=0, theta=0, method=\"nearest\").Rs.load()"
   ]
  },
  {
   "cell_type": "markdown",
   "id": "357e77e8-1bbd-4bd7-862c-f6594e7367d4",
   "metadata": {
    "tags": []
   },
   "source": [
    "```\n",
    "CPU times: total: 1.08 s\n",
    "Wall time: 1.58 s\n",
    "```"
   ]
  },
  {
   "cell_type": "code",
   "execution_count": null,
   "id": "cc6c9a87-1e23-4e3f-a666-e9dd245b39ae",
   "metadata": {
    "tags": []
   },
   "outputs": [],
   "source": [
    "# %%time\n",
    "# singles_ds_10.sel(disorder_correlation=\"correlated\").sel(frequency=0, theta=0, method=\"nearest\").Rs.load()"
   ]
  },
  {
   "cell_type": "markdown",
   "id": "8d915f9b-767e-4122-8cc6-11bd1c3bcb64",
   "metadata": {},
   "source": [
    "```\n",
    "CPU times: total: 21.9 s\n",
    "Wall time: 6.8 s\n",
    "```"
   ]
  },
  {
   "cell_type": "code",
   "execution_count": null,
   "id": "f1b2074c-52ca-4979-9ca1-4992427ad059",
   "metadata": {
    "tags": []
   },
   "outputs": [],
   "source": [
    "# %%time\n",
    "# correlated_ds_10.sel(frequency=0, theta=0, method=\"nearest\").Rs.load()"
   ]
  },
  {
   "cell_type": "markdown",
   "id": "554b38b8-25a4-4ac1-9825-6650d0eda373",
   "metadata": {},
   "source": [
    "```\n",
    "CPU times: total: 1.02 s\n",
    "Wall time: 2.44 s\n",
    "```"
   ]
  },
  {
   "cell_type": "code",
   "execution_count": null,
   "id": "41dbb727",
   "metadata": {
    "tags": []
   },
   "outputs": [],
   "source": [
    "# stats_ds = xr.concat(\n",
    "#     [\n",
    "#         # could be done more efficiently with renaming but using mean_and_std guarantees I use the same code paths\n",
    "#         mean_and_std(singles_pds),\n",
    "#         mean_and_std(singles_ds_01_04.drop_dims(\"layer_number\")),\n",
    "#         mean_and_std(singles_ds_05.drop_dims(\"layer_number\")),\n",
    "#         # delay reindex to AFTER mean_and_std\n",
    "#         mean_and_std(\n",
    "#             correlated_ds_10.expand_dims({disorder_dim: [\"correlated\"]})\n",
    "#         # explicit reindex saves time over automatic inference\n",
    "#         ).reindex({disorder_dim: [\"correlated\", \"uncorrelated\"]}),\n",
    "#         # mean_and_std(singles_ds_10.drop_dims(\"layer_number\")),  # slower version of above\n",
    "#     ],\n",
    "#     dim=\"delta\",\n",
    "#     combine_attrs=\"drop_conflicts\",\n",
    "# )"
   ]
  },
  {
   "cell_type": "markdown",
   "id": "a6c2aac4-b1a0-406f-b66b-b3be08685960",
   "metadata": {},
   "source": [
    "To speed up later computations, we store the intermediate `stats_ds` dataset. We strip out the per-oscillator metrics, because those can be recovered from the bare RTA using the `assign_per_oscillator` helper function, which just does a simple divison. Dividing the mean by a given value divides the standard deviation by the same value.\n",
    "\n",
    "We could potentially also remove the unpolarised RTA, if the standard deviation of `R` is just the mean of the standard deviations of `Rs` and `Rp`. Preliminary investigations seem to indicate this, but I'm not confident it's universally true, because `Rs` and `Rp` are not obviously 'independent' from each other."
   ]
  },
  {
   "cell_type": "code",
   "execution_count": null,
   "id": "0fed856b-e61c-4919-93a9-66d66581774e",
   "metadata": {
    "tags": []
   },
   "outputs": [],
   "source": [
    "# stats_var_keys = list(stats_ds.data_vars.keys())\n",
    "\n",
    "# stats_var_keys_no_per_oscillator = [x for x in stats_var_keys if \"per_oscillator\" not in x]\n",
    "\n",
    "# stats_ds.sel(disorder_correlation=\"correlated\")[stats_var_keys_no_per_oscillator].to_netcdf(data_path/\"run_299/LOPC_stats_correlated.nc\", engine=xarray_engine)\n",
    "\n",
    "# (\n",
    "#     stats_ds\n",
    "#     .sel(disorder_correlation=\"uncorrelated\")\n",
    "#     .sel(delta=slice(0, 0.5))[\n",
    "#         stats_var_keys_no_per_oscillator\n",
    "#     ]\n",
    "# ).to_netcdf(data_path / \"run_299/LOPC_stats_uncorrelated.nc\", engine=xarray_engine)"
   ]
  },
  {
   "cell_type": "code",
   "execution_count": null,
   "id": "4d086b29-cf3a-4bfa-b96b-a771728f13cf",
   "metadata": {
    "tags": []
   },
   "outputs": [],
   "source": [
    "stats_ds = xr.open_mfdataset(\n",
    "    [data_path / \"run_299/LOPC_stats_correlated.nc\",\n",
    "     data_path / \"run_299/LOPC_stats_uncorrelated.nc\",],\n",
    "    concat_dim=disorder_dim,\n",
    "    combine=\"nested\",\n",
    "    engine=xarray_engine,\n",
    "    lock=False,\n",
    "    chunks=None,\n",
    ")"
   ]
  },
  {
   "cell_type": "code",
   "execution_count": null,
   "id": "b08c5421-10b8-48e1-9f4b-2635316efbbc",
   "metadata": {
    "tags": []
   },
   "outputs": [],
   "source": [
    "LOPC_var_keys = list(singles_pds.data_vars.keys())"
   ]
  },
  {
   "cell_type": "code",
   "execution_count": null,
   "id": "d979d610-01a5-49d5-9d27-395672465573",
   "metadata": {
    "tags": []
   },
   "outputs": [],
   "source": [
    "basic_RTA_var_keys = [x for x in LOPC_var_keys if \"per_oscillator\" not in x]"
   ]
  },
  {
   "cell_type": "code",
   "execution_count": null,
   "id": "a92e4639-a8f6-48fe-a31a-75fda9b308b6",
   "metadata": {
    "tags": []
   },
   "outputs": [],
   "source": [
    "stats_ds = assign_high_and_low(stats_ds, var_key=basic_RTA_var_keys)"
   ]
  },
  {
   "cell_type": "code",
   "execution_count": null,
   "id": "9a078da3",
   "metadata": {
    "tags": []
   },
   "outputs": [],
   "source": [
    "# # you might naively think that this should do the same as the above cell, but the\n",
    "# # nested align/concat makes accessing the data MUCH slower\n",
    "# stats_ds = xr.concat(\n",
    "#     [\n",
    "#         # could be done more efficiently with renaming but using mean_and_std guarantees I use the same code paths\n",
    "#         mean_and_std(singles_pds),\n",
    "#         mean_and_std(singles_ds.drop_dims(\"layer_number\")),\n",
    "#     ],\n",
    "#     dim=\"delta\",\n",
    "#     combine_attrs=\"drop_conflicts\",\n",
    "# )"
   ]
  },
  {
   "cell_type": "code",
   "execution_count": null,
   "id": "fdd7b6da-d6ac-439d-a4d1-c3b267f31ce6",
   "metadata": {
    "tags": []
   },
   "outputs": [],
   "source": [
    "aggregated_ds = xr.concat(\n",
    "    [\n",
    "        correlated_aggregated_ds.expand_dims({disorder_dim: [\"correlated\"]}),\n",
    "        uncorrelated_aggregated_ds.expand_dims({disorder_dim: [\"uncorrelated\"]}),\n",
    "    ],\n",
    "    dim=disorder_dim,\n",
    "    combine_attrs=\"drop_conflicts\",\n",
    ")"
   ]
  },
  {
   "cell_type": "code",
   "execution_count": null,
   "id": "388797d2-ac67-4c8b-bb08-09b9b9763171",
   "metadata": {
    "tags": []
   },
   "outputs": [],
   "source": [
    "indexer_from_aggregated_ds = partial(indexer_from_dataset, drop=[\"delta\", disorder_dim])"
   ]
  },
  {
   "cell_type": "code",
   "execution_count": null,
   "id": "a52c48b7-6f83-4f91-a486-fd3d1b87771f",
   "metadata": {
    "tags": []
   },
   "outputs": [],
   "source": [
    "# loading the data into memory might save time later\n",
    "aggregated_pds = periodic_ds.sel(indexer_from_aggregated_ds(aggregated_ds)).expand_dims(\n",
    "    {\n",
    "        \"run\": 1,\n",
    "        disorder_dim: aggregated_ds[disorder_dim].values,\n",
    "        \"delta\": [0.0],\n",
    "    }\n",
    ")  # .load()"
   ]
  },
  {
   "cell_type": "code",
   "execution_count": null,
   "id": "f7e85deb-df4c-4ecf-9a90-2e7b875512a4",
   "metadata": {
    "tags": []
   },
   "outputs": [],
   "source": [
    "aggregated_ds = xr.concat(\n",
    "    [aggregated_pds, aggregated_ds],\n",
    "    dim=\"delta\",\n",
    "    combine_attrs=\"drop_conflicts\",\n",
    ")"
   ]
  },
  {
   "cell_type": "code",
   "execution_count": null,
   "id": "21b61c65",
   "metadata": {
    "tags": []
   },
   "outputs": [],
   "source": [
    "restack_plt_to_period = partial(\n",
    "    restack,\n",
    "    start_idxs=[\"passive_layer_thickness\", \"excitonic_layer_thickness\"],\n",
    "    end_idxs=[\"period\", \"excitonic_layer_thickness\"],\n",
    ")"
   ]
  },
  {
   "cell_type": "code",
   "execution_count": null,
   "id": "fe12337a-ca6c-4bda-a4b8-c3c221cf75f0",
   "metadata": {
    "tags": []
   },
   "outputs": [],
   "source": [
    "# with dask.config.set(**{'array.slicing.split_large_chunks': False}):\n",
    "#     restacked_pds = restack_plt_to_period(periodic_ds)  # the delta=0 case\n",
    "#     restacked_spds = restack_plt_to_period(singles_pds)  # periodic_ds indexed by singles_ds, below\n",
    "\n",
    "#     restacked_uads = restack_plt_to_period(uncorrelated_aggregated_ds) # uncorrelated delta<0.15, higher precision in elt and period\n",
    "#     restacked_cads = restack_plt_to_period(correlated_aggregated_ds) # correlated delta<0.15, higher precision in elt and period\n",
    "#     restacked_ads = restack_plt_to_period(aggregated_ds)\n",
    "\n",
    "#     restacked_sds_01_04 = restack_plt_to_period(singles_ds_01_04)  # individual run data delta<0.4, coarse\n",
    "#     restacked_sds_05 = restack_plt_to_period(singles_ds_05)  # individual run data delta=0.5, coarse\n",
    "#     # restacked_sds_10 = restack_plt_to_period(singles_ds_10)  # individual run data delta=1, coarse, inefficient - never use this!\n",
    "#     restacked_cds_10 = restack_plt_to_period(correlated_ds_10)  # much faster version of above without unnecessary reindexing\n",
    "#     restacked_sds = restack_plt_to_period(singles_ds)  # merge of the above - convenient but inefficient due to ragged structure\n",
    "#     restacked_stats_ds = restack_plt_to_period(stats_ds)  # calculated mean and standard deviation of individual run data"
   ]
  },
  {
   "cell_type": "markdown",
   "id": "1df74ab3-aad3-4b06-850c-4cba4f4a77fe",
   "metadata": {},
   "source": [
    "Just some plots to test everything is working:"
   ]
  },
  {
   "cell_type": "code",
   "execution_count": null,
   "id": "13deb4a7",
   "metadata": {
    "tags": []
   },
   "outputs": [],
   "source": [
    "# restacked_stats_ds.Rs_mean.sel(\n",
    "#     theta=0, num_periods=20, period=300, delta=[0.1]\n",
    "# ).squeeze().hvplot.line(x=\"frequency\", by=\"disorder_correlation\").opts(\n",
    "#     legend_position=\"top_right\"\n",
    "# )"
   ]
  },
  {
   "cell_type": "code",
   "execution_count": null,
   "id": "c596eca5",
   "metadata": {
    "tags": []
   },
   "outputs": [],
   "source": [
    "# restacked_stats_ds.Rs_mean.sel(theta=0, num_periods=20, period=300).sel(\n",
    "#     delta=slice(0.1, None)\n",
    "# ).squeeze().hvplot.line(x=\"frequency\", by=\"disorder_correlation\", row=\"delta\").opts(\n",
    "#     opts.Curve(xticks=1, show_legend=False), opts.GridSpace(shared_xaxis=True)\n",
    "# )"
   ]
  },
  {
   "cell_type": "code",
   "execution_count": null,
   "id": "90b69e83-91c6-49b4-ac02-861c848d50d8",
   "metadata": {
    "tags": []
   },
   "outputs": [],
   "source": [
    "# var = pnw.Select(options = list(restacked_ads.data_vars.keys()))\n",
    "\n",
    "# xs = {\n",
    "#     \"period\": pnw.DiscreteSlider,\n",
    "#     \"excitonic_layer_thickness\": pnw.DiscreteSlider,\n",
    "#     \"num_periods\": pnw.DiscreteSlider,\n",
    "#     \"delta\": pnw.DiscreteSlider,\n",
    "#     \"theta\": pnw.DiscreteSlider,\n",
    "# }\n",
    "\n",
    "# restacked_ads.interactive(loc=\"left\")[var].sel(**xs).squeeze(drop=True).hvplot(\n",
    "#     x=\"frequency\",\n",
    "#     by=\"disorder_correlation\",\n",
    "# )"
   ]
  },
  {
   "cell_type": "markdown",
   "id": "d15a91c7-42ea-4f15-8670-84e948a3edd5",
   "metadata": {},
   "source": [
    "### Load reference slab dataset"
   ]
  },
  {
   "cell_type": "markdown",
   "id": "a36ff616-adfe-480c-97b5-f8b0621c321e",
   "metadata": {},
   "source": [
    "Note for future maintainers: the following code specifies a larger set of thicknesses that is actually covered by the disorder simulations, but that's fine because the latter is contained within the former, and arithmetic using both datasets will only use the intersection."
   ]
  },
  {
   "cell_type": "code",
   "execution_count": null,
   "id": "64e01795-ef79-4ce4-858f-77247d7b44ed",
   "metadata": {
    "tags": []
   },
   "outputs": [],
   "source": [
    "# useful variables\n",
    "total_excitonic_thicknesses = np.unique(periodic_ds.total_excitonic_thickness)\n",
    "total_passive_thicknesses = np.unique(periodic_ds.total_passive_thickness)\n",
    "total_thicknesses = np.unique(periodic_ds.total_thickness)"
   ]
  },
  {
   "cell_type": "code",
   "execution_count": null,
   "id": "0aee67aa-e335-4c80-a910-fcc5b4385020",
   "metadata": {
    "tags": []
   },
   "outputs": [],
   "source": [
    "ref = xr.open_mfdataset(\n",
    "    data_path / f\"run_{undisordered_run_number}/ref.nc\",\n",
    "    engine=xarray_engine,\n",
    "    lock=False,\n",
    "    # chunks={'theta': 16},\n",
    ")"
   ]
  },
  {
   "cell_type": "markdown",
   "id": "404c4881-138a-40c2-818f-963749107a88",
   "metadata": {},
   "source": [
    "Note: `period=False` is an important option because otherwise it ends up a coordinate of `total_excitonic_thickness` and causes a conflict after binary operations with `ds`."
   ]
  },
  {
   "cell_type": "code",
   "execution_count": null,
   "id": "ba64a3ed-03f4-4559-aa7a-b48e2dcf1ef8",
   "metadata": {
    "tags": []
   },
   "outputs": [],
   "source": [
    "ref = assign_derived_attrs(ref, period=False, total_excitonic_thickness=False, total_passive_thickness=False, total_thickness=False)\n",
    "# ref"
   ]
  },
  {
   "cell_type": "code",
   "execution_count": null,
   "id": "3d5bd968-e4c6-45af-ba1d-ff26023f2bb1",
   "metadata": {
    "tags": []
   },
   "outputs": [],
   "source": [
    "# compressed reference slab without passive layer\n",
    "crs_1 = (\n",
    "    ref.sel(\n",
    "        remove_last_layer=1,\n",
    "        passive_layer_thickness=0,\n",
    "        excitonic_layer_thickness=total_excitonic_thicknesses,\n",
    "        drop=True,\n",
    "    )\n",
    "    .squeeze(drop=True)\n",
    "    .rename(excitonic_layer_thickness=\"total_excitonic_thickness\")\n",
    "    # .load()\n",
    ")\n",
    "\n",
    "# # compressed reference slab with the passive layer at the end\n",
    "# crs_0 = (\n",
    "#     ref.sel(\n",
    "#         remove_last_layer=0,\n",
    "#         passive_layer_thickness=total_passive_thicknesses,\n",
    "#         excitonic_layer_thickness=total_excitonic_thicknesses,\n",
    "#         drop=True,\n",
    "#     )\n",
    "#     .squeeze(drop=True)\n",
    "#     .rename(\n",
    "#         excitonic_layer_thickness=\"total_excitonic_thickness\",\n",
    "#         passive_layer_thickness=\"total_passive_thickness\",\n",
    "#     )\n",
    "# )"
   ]
  },
  {
   "cell_type": "markdown",
   "id": "a2d17bd2-ee77-4e7f-a12f-cb81d2519d3a",
   "metadata": {
    "tags": []
   },
   "source": [
    "### Calculate derived variables"
   ]
  },
  {
   "cell_type": "code",
   "execution_count": null,
   "id": "b4cf4756-de6f-4972-9d4c-df46e949b291",
   "metadata": {
    "tags": []
   },
   "outputs": [],
   "source": [
    "# # dataset memo\n",
    "# periodic_ds  # the delta=0 case\n",
    "# singles_pds  # periodic_ds indexed by singles_ds, below\n",
    "\n",
    "# uncorrelated_aggregated_ds # uncorrelated delta<0.15, higher precision in elt and period\n",
    "# correlated_aggregated_ds # correlated delta<0.15, higher precision in elt and period\n",
    "# aggregated_ds # combination of above\n",
    "\n",
    "# singles_ds_01_04  # individual run data delta<0.4, coarse\n",
    "# singles_ds_05  # individual run data delta=0.5, coarse\n",
    "# singles_ds_10  # individual run data delta=1, coarse, inefficient - never use this!\n",
    "# correlated_ds_10  # much faster version of above without unnecessary reindexing\n",
    "# singles_ds  # merge of the above - convenient but inefficient due to ragged structure\n",
    "# stats_ds  # calculated mean and standard deviation of individual run data\n",
    "\n",
    "# # + restacked versions of all the above"
   ]
  },
  {
   "cell_type": "markdown",
   "id": "6c36d7af-9b11-4904-b135-c69c522e6ee5",
   "metadata": {
    "tags": []
   },
   "source": [
    "#### Normalise by CRS"
   ]
  },
  {
   "cell_type": "code",
   "execution_count": null,
   "id": "d45798a5-eeb1-47ab-8eda-97073d9f2b43",
   "metadata": {
    "tags": []
   },
   "outputs": [],
   "source": [
    "# with dask.config.set(**{'array.slicing.split_large_chunks': False}):\n",
    "#     norm_1 = enhancement_factor(ds, ref=crs_1, common_dim=\"total_excitonic_thickness\", method=\"groupby\")"
   ]
  },
  {
   "cell_type": "code",
   "execution_count": null,
   "id": "d1f23ca5-9f0b-495e-af57-0f1feccd9700",
   "metadata": {
    "tags": []
   },
   "outputs": [],
   "source": [
    "# with dask.config.set(**{'array.slicing.split_large_chunks': False}):\n",
    "#     restacked_norm_1 = restack_plt_to_period(norm_1)"
   ]
  },
  {
   "cell_type": "code",
   "execution_count": null,
   "id": "ae4b7ece-a9de-4299-a626-d963c87c4d8a",
   "metadata": {
    "tags": []
   },
   "outputs": [],
   "source": [
    "# with dask.config.set(**{'array.slicing.split_large_chunks': False}):\n",
    "#     norm_1_05 = enhancement_factor(ds_05, ref=crs_1, common_dim=\"total_excitonic_thickness\", method=\"groupby\")"
   ]
  },
  {
   "cell_type": "code",
   "execution_count": null,
   "id": "a8b26c6b-7fb2-4fc6-8839-27140a628711",
   "metadata": {
    "tags": []
   },
   "outputs": [],
   "source": [
    "# with dask.config.set(**{'array.slicing.split_large_chunks': False}):\n",
    "#     restacked_norm_1_05 = restack_plt_to_period(norm_1_05)"
   ]
  },
  {
   "cell_type": "markdown",
   "id": "89b64d77-8549-4bb6-b417-a3e138cccf29",
   "metadata": {
    "tags": []
   },
   "source": [
    "#### Difference with CRS"
   ]
  },
  {
   "cell_type": "code",
   "execution_count": null,
   "id": "aacc4dda-006f-4a70-95ae-b49347e794fa",
   "metadata": {
    "tags": []
   },
   "outputs": [],
   "source": [
    "# with dask.config.set(**{'array.slicing.split_large_chunks': False}):\n",
    "#     gb_tet = ds.groupby('total_excitonic_thickness')"
   ]
  },
  {
   "cell_type": "code",
   "execution_count": null,
   "id": "1992cf5b-6b9c-4eb5-969a-909295f956ba",
   "metadata": {
    "tags": []
   },
   "outputs": [],
   "source": [
    "# # 'biology' absorptance enhancement factor: normalise by reference slab type 1: compressed reference slab w/o passive layer\n",
    "# diff_1 = gb_tet - crs_1"
   ]
  },
  {
   "cell_type": "code",
   "execution_count": null,
   "id": "ad8f7f3c-c809-479c-b620-8a475d8e6e3b",
   "metadata": {
    "tags": []
   },
   "outputs": [],
   "source": [
    "# diff_1 = assign_derived_attrs(\n",
    "#     dataset=diff_1,\n",
    "#     unpolarised=True,\n",
    "#     absorption=False,\n",
    "#     period=False,\n",
    "#     total_excitonic_thickness=False,\n",
    "#     total_passive_thickness=False,\n",
    "#     total_thickness=False,\n",
    "#     N_tot=False,\n",
    "#     per_oscillator=[\"Rs\", \"Rp\", \"R\", \"Ts\", \"Tp\", \"T\", \"As\", \"Ap\", \"A\"],\n",
    "# )"
   ]
  },
  {
   "cell_type": "code",
   "execution_count": null,
   "id": "3654cbb1-65dd-47c7-b325-b89cd4ddc238",
   "metadata": {
    "tags": []
   },
   "outputs": [],
   "source": [
    "# with dask.config.set(**{'array.slicing.split_large_chunks': False}):\n",
    "#     restacked_diff_1 = restack_plt_to_period(diff_1)"
   ]
  },
  {
   "cell_type": "code",
   "execution_count": null,
   "id": "fb29ec91-07c5-4185-a391-b8ae3d123b97",
   "metadata": {
    "tags": []
   },
   "outputs": [],
   "source": [
    "# with dask.config.set(**{'array.slicing.split_large_chunks': False}):\n",
    "#     gb_tet_05 = ds_05.groupby('total_excitonic_thickness')"
   ]
  },
  {
   "cell_type": "code",
   "execution_count": null,
   "id": "f239bcc2-6ea2-4742-bf59-24ebc085b911",
   "metadata": {
    "tags": []
   },
   "outputs": [],
   "source": [
    "# # 'biology' absorptance enhancement factor: normalise by reference slab type 1: compressed reference slab w/o passive layer\n",
    "# diff_1_05 = gb_tet_05 - crs_1"
   ]
  },
  {
   "cell_type": "code",
   "execution_count": null,
   "id": "56a43a1e-b866-4397-a14a-2f79fe54af7f",
   "metadata": {
    "tags": []
   },
   "outputs": [],
   "source": [
    "# with dask.config.set(**{'array.slicing.split_large_chunks': False}):\n",
    "#     restacked_diff_1_05 = restack_plt_to_period(diff_1_05)"
   ]
  },
  {
   "cell_type": "markdown",
   "id": "7da19969-7f41-4964-8d2c-14fa18080b2b",
   "metadata": {
    "tags": []
   },
   "source": [
    "# Prepare for Plots"
   ]
  },
  {
   "cell_type": "markdown",
   "id": "84e1771d",
   "metadata": {
    "tags": []
   },
   "source": [
    "## Pre-processing"
   ]
  },
  {
   "cell_type": "code",
   "execution_count": null,
   "id": "8c09ebb3",
   "metadata": {
    "tags": []
   },
   "outputs": [],
   "source": [
    "blue = hv.Cycle.default_cycles['default_colors'][0]\n",
    "red = hv.Cycle.default_cycles['default_colors'][1]\n",
    "yellow = hv.Cycle.default_cycles['default_colors'][2]\n",
    "green = hv.Cycle.default_cycles['default_colors'][3]"
   ]
  },
  {
   "cell_type": "code",
   "execution_count": null,
   "id": "abce3eaa-cbac-4f5f-b71e-6ad62089bcb3",
   "metadata": {
    "tags": []
   },
   "outputs": [],
   "source": [
    "RTA_cycle = hv.Cycle([blue, yellow, red])"
   ]
  },
  {
   "cell_type": "code",
   "execution_count": null,
   "id": "bd3808e0-b4b0-45da-a7f4-d81e86964fb8",
   "metadata": {
    "tags": []
   },
   "outputs": [],
   "source": [
    "# change default colour cycle\n",
    "hv.Cycle.default_cycles[\"default_colors\"] = colorcet.glasbey_dark"
   ]
  },
  {
   "cell_type": "code",
   "execution_count": null,
   "id": "601daf03",
   "metadata": {
    "tags": []
   },
   "outputs": [],
   "source": [
    "wavelengths_in_nanometres = np.linspace(480, 880, 256)\n",
    "wavelengths = wavelengths_in_nanometres * 1e-9\n",
    "frequencies = convert_wavelength_and_frequency(wavelengths)\n",
    "angles = np.linspace(0, 86, 64)"
   ]
  },
  {
   "cell_type": "code",
   "execution_count": null,
   "id": "7eac8ecb",
   "metadata": {
    "tags": []
   },
   "outputs": [],
   "source": [
    "default_oscillator_params = {\n",
    "    \"N\": 1e26,\n",
    "    \"permittivity\": 2.2,\n",
    "    \"lorentz_resonance_wavelength\": 680,\n",
    "    \"lorentz_linewidth\": 7.5e13,\n",
    "}"
   ]
  },
  {
   "cell_type": "code",
   "execution_count": null,
   "id": "32781165-5c0f-4026-81a7-0782c710f85b",
   "metadata": {
    "tags": []
   },
   "outputs": [],
   "source": [
    "unpolarised_RTA = [\"R\", \"T\", \"A\"]\n",
    "s_polarised_RTA = [\"Rs\", \"Ts\", \"As\"]\n",
    "p_polarised_RTA = [\"Rp\", \"Tp\", \"Ap\"]\n",
    "reflectance = [\"Rs\", \"Rp\", \"R\"]\n",
    "transmittance = [\"Ts\", \"Tp\", \"T\"]\n",
    "absorptance = [\"As\", \"Ap\", \"A\"]\n",
    "per_oscillator_RTA = [\"R_per_oscillator\", \"T_per_oscillator\", \"A_per_oscillator\"]"
   ]
  },
  {
   "cell_type": "code",
   "execution_count": null,
   "id": "1dd26853-ebe3-44d1-b82a-25b28fdf040c",
   "metadata": {
    "tags": []
   },
   "outputs": [],
   "source": [
    "pre_process_for_plots = partial(pre_process_for_plots, strict=False)"
   ]
  },
  {
   "cell_type": "code",
   "execution_count": null,
   "id": "66feace0-b9f7-427a-b8d3-e7bf1883b4b6",
   "metadata": {
    "tags": []
   },
   "outputs": [],
   "source": [
    "# WARNING: all these datasets will be fundamentally changed after this cell, to the extent that it can't be run twice\n",
    "# For consistency, keep important calculations in the preceding section!\n",
    "periodic_ds = pre_process_for_plots(periodic_ds)  # the delta=0 case\n",
    "singles_pds = pre_process_for_plots(singles_pds)  # periodic_ds indexed by singles_ds, below\n",
    "\n",
    "uncorrelated_aggregated_ds = pre_process_for_plots(uncorrelated_aggregated_ds) # uncorrelated delta<0.15, higher precision in elt and period\n",
    "correlated_aggregated_ds = pre_process_for_plots(correlated_aggregated_ds) # correlated delta<0.15, higher precision in elt and period\n",
    "aggregated_ds = pre_process_for_plots(aggregated_ds) # combination of above\n",
    "\n",
    "singles_ds_01_04 = pre_process_for_plots(singles_ds_01_04)  # individual run data delta<0.4, coarse\n",
    "singles_ds_05 = pre_process_for_plots(singles_ds_05)  # individual run data delta=0.5, coarse\n",
    "# singles_ds_10 = pre_process_for_plots(singles_ds_10)  # individual run data delta=1, coarse, inefficient - never use this!\n",
    "correlated_ds_10 = pre_process_for_plots(correlated_ds_10)  # much faster version of above without unnecessary reindexing\n",
    "singles_ds = pre_process_for_plots(singles_ds)  # merge of the above - convenient but inefficient due to ragged structure\n",
    "stats_ds = pre_process_for_plots(stats_ds)  # calculated mean and standard deviation of individual run data\n",
    "\n",
    "# + restacked versions of all the above\n",
    "ref = pre_process_for_plots(ref)\n",
    "crs_1 = pre_process_for_plots(crs_1)\n",
    "# norm_1 = pre_process_for_plots(norm_1)\n",
    "# restacked_norm_1 = pre_process_for_plots(restacked_norm_1)\n",
    "# diff_1 = pre_process_for_plots(diff_1)\n",
    "# restacked_diff_1 = pre_process_for_plots(restacked_diff_1)"
   ]
  },
  {
   "cell_type": "code",
   "execution_count": null,
   "id": "c4a23365-0c62-4840-bc17-b575c1c5b939",
   "metadata": {
    "tags": []
   },
   "outputs": [],
   "source": [
    "with dask.config.set(**{'array.slicing.split_large_chunks': False}):\n",
    "    restacked_pds = restack_plt_to_period(periodic_ds)  # the delta=0 case\n",
    "    restacked_spds = restack_plt_to_period(singles_pds)  # periodic_ds indexed by singles_ds, below\n",
    "\n",
    "    restacked_uads = restack_plt_to_period(uncorrelated_aggregated_ds) # uncorrelated delta<0.15, higher precision in elt and period\n",
    "    restacked_cads = restack_plt_to_period(correlated_aggregated_ds) # correlated delta<0.15, higher precision in elt and period\n",
    "    restacked_ads = restack_plt_to_period(aggregated_ds)\n",
    "\n",
    "    restacked_sds_01_04 = restack_plt_to_period(singles_ds_01_04)  # individual run data delta<0.4, coarse\n",
    "    restacked_sds_05 = restack_plt_to_period(singles_ds_05)  # individual run data delta=0.5, coarse\n",
    "    # restacked_sds_10 = restack_plt_to_period(singles_ds_10)  # individual run data delta=1, coarse, inefficient - never use this!\n",
    "    restacked_cds_10 = restack_plt_to_period(correlated_ds_10)  # much faster version of above without unnecessary reindexing\n",
    "    restacked_sds = restack_plt_to_period(singles_ds)  # merge of the above - convenient but inefficient due to ragged structure\n",
    "    restacked_stats_ds = restack_plt_to_period(stats_ds)  # calculated mean and standard deviation of individual run data"
   ]
  },
  {
   "cell_type": "code",
   "execution_count": null,
   "id": "7afb56cf-5849-46da-923b-e90c0339a324",
   "metadata": {
    "tags": []
   },
   "outputs": [],
   "source": [
    "og_names = list(crs_1.data_vars.keys())"
   ]
  },
  {
   "cell_type": "code",
   "execution_count": null,
   "id": "3b2f8f08-5305-4417-923a-d6e2957c42ca",
   "metadata": {
    "tags": []
   },
   "outputs": [],
   "source": [
    "mean_names = [f\"{var}_mean\" for var in og_names]"
   ]
  },
  {
   "cell_type": "code",
   "execution_count": null,
   "id": "2f78790b-a898-477e-9e95-dfce360b76ed",
   "metadata": {
    "tags": []
   },
   "outputs": [],
   "source": [
    "std_names = [f\"{var}_std\" for var in og_names]"
   ]
  },
  {
   "cell_type": "code",
   "execution_count": null,
   "id": "e82afc62-30f3-4043-a7ce-59535288413e",
   "metadata": {
    "tags": []
   },
   "outputs": [],
   "source": [
    "mean_rename = {old_var: new_var for new_var, old_var in zip(mean_names, og_names)}"
   ]
  },
  {
   "cell_type": "code",
   "execution_count": null,
   "id": "f2b4f8c9-b94f-4a75-bcb3-719739ed8189",
   "metadata": {
    "tags": []
   },
   "outputs": [],
   "source": [
    "std_assignation = {new_var: (lambda x, var=old_var: x[var]) for new_var, old_var in zip(std_names, og_names)}"
   ]
  },
  {
   "cell_type": "code",
   "execution_count": null,
   "id": "117444e3-fb72-47ab-bea0-2098432eb018",
   "metadata": {
    "tags": []
   },
   "outputs": [],
   "source": [
    "# manipulated to give the correct enhancement factors when used in ratio with stats_ds\n",
    "crs_1_stats_norm = crs_1.assign(std_assignation).rename(mean_rename)"
   ]
  },
  {
   "cell_type": "code",
   "execution_count": null,
   "id": "09db483b-46d5-41b7-864f-2882912a34b2",
   "metadata": {
    "tags": []
   },
   "outputs": [],
   "source": [
    "std_assignation = {new_var: (lambda x: xr.zeros_like(x[old_var])) for new_var, old_var in zip(std_names, og_names)}"
   ]
  },
  {
   "cell_type": "code",
   "execution_count": null,
   "id": "865f40d6-1d9f-417f-91db-34503534935f",
   "metadata": {
    "tags": []
   },
   "outputs": [],
   "source": [
    "# manipulated to give the correct difference factors when subtracted from stats_ds\n",
    "crs_1_stats_diff = crs_1.assign(std_assignation).rename(mean_rename)"
   ]
  },
  {
   "cell_type": "code",
   "execution_count": null,
   "id": "9588bcd0-6425-41d8-a571-f4538055291b",
   "metadata": {
    "tags": []
   },
   "outputs": [],
   "source": [
    "norm_1 = partial(enhancement_factor, ref=crs_1, common_dim=\"total_excitonic_thickness\", method=\"groupby\")"
   ]
  },
  {
   "cell_type": "code",
   "execution_count": null,
   "id": "9bdadd9a-176e-444d-80cf-637cda3f2e83",
   "metadata": {
    "tags": []
   },
   "outputs": [],
   "source": [
    "def restacked_norm_1(ds):\n",
    "    with dask.config.set(**{'array.slicing.split_large_chunks': False}):\n",
    "        return restack_plt_to_period(norm_1(ds))"
   ]
  },
  {
   "cell_type": "code",
   "execution_count": null,
   "id": "36bd0aae-c9d9-4e15-bd08-052eeeab6bfc",
   "metadata": {
    "tags": []
   },
   "outputs": [],
   "source": [
    "# norm_1_stats = partial(enhancement_factor, ref=crs_1_stats_norm, common_dim=\"total_excitonic_thickness\", method=\"groupby\")"
   ]
  },
  {
   "cell_type": "code",
   "execution_count": null,
   "id": "9083e6ea-9279-4444-a840-82dbceffe983",
   "metadata": {
    "tags": []
   },
   "outputs": [],
   "source": [
    "def norm_1_stats(ds, ref=crs_1_stats_norm, common_dim=\"total_excitonic_thickness\", method=\"groupby\", assign_high=True, assign_low=True, high_low_var_key=basic_RTA_var_keys):\n",
    "    normed_stats = enhancement_factor(ds, ref=ref, common_dim=common_dim, method=method)\n",
    "    if assign_high:\n",
    "        normed_stats = assign_high_from_mean_and_std(normed_stats, var_key=high_low_var_key)\n",
    "    if assign_low:\n",
    "        normed_stats = assign_low_from_mean_and_std(normed_stats, var_key=high_low_var_key)\n",
    "        \n",
    "    return normed_stats"
   ]
  },
  {
   "cell_type": "code",
   "execution_count": null,
   "id": "94c79394-ac9a-4f7a-9d09-891615a384e7",
   "metadata": {
    "tags": []
   },
   "outputs": [],
   "source": [
    "def restacked_norm_1_stats(ds):\n",
    "    with dask.config.set(**{'array.slicing.split_large_chunks': False}):\n",
    "        return restack_plt_to_period(norm_1_stats(ds))"
   ]
  },
  {
   "cell_type": "code",
   "execution_count": null,
   "id": "3f324ec4-1f78-48c9-8b08-a433bdde480f",
   "metadata": {
    "tags": []
   },
   "outputs": [],
   "source": [
    "def diff_1(ds):\n",
    "    diff_1 = ds.groupby(\"total_excitonic_thickness\") - crs_1\n",
    "\n",
    "    diff_1 = assign_derived_attrs(\n",
    "        dataset=diff_1,\n",
    "        unpolarised=True,\n",
    "        absorption=False,\n",
    "        period=False,\n",
    "        total_excitonic_thickness=False,\n",
    "        total_passive_thickness=False,\n",
    "        total_thickness=False,\n",
    "        N_tot=False,\n",
    "        per_oscillator=[\"Rs\", \"Rp\", \"R\", \"Ts\", \"Tp\", \"T\", \"As\", \"Ap\", \"A\"],\n",
    "    )\n",
    "    \n",
    "    return diff_1"
   ]
  },
  {
   "cell_type": "code",
   "execution_count": null,
   "id": "89134806-04a5-47ad-8d09-9e7f22e4026d",
   "metadata": {
    "tags": []
   },
   "outputs": [],
   "source": [
    "def restacked_diff_1(ds):\n",
    "    return restack_plt_to_period(diff_1(ds))"
   ]
  },
  {
   "cell_type": "code",
   "execution_count": null,
   "id": "45b70add-eb7e-4b20-8ee8-c2cfbb50abc2",
   "metadata": {
    "tags": []
   },
   "outputs": [],
   "source": [
    "def diff_1_stats(ds):\n",
    "    diff_1 = ds.groupby(\"total_excitonic_thickness\") - crs_1_stats_diff\n",
    "\n",
    "    diff_1 = assign_derived_attrs(\n",
    "        dataset=diff_1,\n",
    "        unpolarised=True,\n",
    "        absorption=False,\n",
    "        period=False,\n",
    "        total_excitonic_thickness=False,\n",
    "        total_passive_thickness=False,\n",
    "        total_thickness=False,\n",
    "        N_tot=False,\n",
    "        per_oscillator=[\"Rs\", \"Rp\", \"R\", \"Ts\", \"Tp\", \"T\", \"As\", \"Ap\", \"A\"],\n",
    "    )\n",
    "    \n",
    "    return diff_1"
   ]
  },
  {
   "cell_type": "code",
   "execution_count": null,
   "id": "a415b773-707e-4870-a805-cefcf9503b95",
   "metadata": {
    "tags": []
   },
   "outputs": [],
   "source": [
    "def restacked_diff_1_stats(ds):\n",
    "    return restack_plt_to_period(diff_1_stats(ds))"
   ]
  },
  {
   "cell_type": "code",
   "execution_count": null,
   "id": "7590f46a-5257-4c2c-848d-5e32295cacd1",
   "metadata": {
    "tags": []
   },
   "outputs": [],
   "source": [
    "for n, c in stats_ds.coords.items():\n",
    "    print(n, c.attrs)"
   ]
  },
  {
   "cell_type": "code",
   "execution_count": null,
   "id": "471a3eb4-0924-42e7-9f57-871d6e70e240",
   "metadata": {
    "tags": []
   },
   "outputs": [],
   "source": [
    "for n, c in restacked_norm_1(stats_ds).coords.items():\n",
    "    print(n, c.attrs)"
   ]
  },
  {
   "cell_type": "code",
   "execution_count": null,
   "id": "44b0d870-c39b-466c-8861-a0fd029f989c",
   "metadata": {
    "tags": []
   },
   "outputs": [],
   "source": [
    "period_dim = hv.Dimension(\"period\", label=\"Λ\", unit=\"nm\")\n",
    "wavelength_dim = hv.Dimension(\"wavelength\", label=\"λ\", unit=\"nm\")\n",
    "real_index_dim = hv.Dimension(\"n\")\n",
    "imag_index_dim = hv.Dimension(\"k\", label=\"ϰ\")\n",
    "delta_dim = hv.Dimension(\"delta\", label=\"Δ\")\n",
    "elt_dim = hv.Dimension(\"excitonic_layer_thickness\", label=\"d_e\", unit=\"nm\")"
   ]
  },
  {
   "cell_type": "markdown",
   "id": "c390bf43-34a9-48a5-9e09-dd2c92c030ca",
   "metadata": {
    "tags": []
   },
   "source": [
    "### Useful lines"
   ]
  },
  {
   "cell_type": "markdown",
   "id": "9a3f4327-5f2a-4dfd-94bd-3df2e298872e",
   "metadata": {
    "tags": []
   },
   "source": [
    "#### Function to do linewidth maths"
   ]
  },
  {
   "cell_type": "code",
   "execution_count": null,
   "id": "1ac69d5a-91d5-4270-9a1d-26d4d4c23f27",
   "metadata": {
    "tags": []
   },
   "outputs": [],
   "source": [
    "def linewidth_calculator_factory(centre, linewidth):\n",
    "    return partial(linewidth_calculator, centre=centre, linewidth=linewidth)"
   ]
  },
  {
   "cell_type": "markdown",
   "id": "41983a1f-3153-4b5d-9425-d3999cc20c97",
   "metadata": {
    "tags": []
   },
   "source": [
    "#### Lorentz lines"
   ]
  },
  {
   "cell_type": "markdown",
   "id": "c611080a-f4a1-4c88-85ed-b139a2809afe",
   "metadata": {},
   "source": [
    "I want some sort of metric for 'near the resonance' and 'far from the resonance'. The natural unit of distance in this instance is the linewidth. The linewidth is given in rad/s so there need to be some conversions to get the equivalent lines in the plots by wavelength, but they are roughly symmetrical around the peak wavelength.\n",
    "\n",
    "Based on the plots of the refractive index below, I think I will consider 'near' to be 'within two linewidths', and 'far' to be 'at least four linewidths away'."
   ]
  },
  {
   "cell_type": "code",
   "execution_count": null,
   "id": "c0e09946-1106-40ea-a4d9-d3c93cf547ad",
   "metadata": {
    "tags": []
   },
   "outputs": [],
   "source": [
    "# resonance_line = hv.VLine(680, label='LO resonance wavelength').opts(line_dash='dotted')\n",
    "\n",
    "# Convert from rad/s to Hz\n",
    "lorentz_linewidth_frequency = default_oscillator_params[\"lorentz_linewidth\"] / (2*np.pi)"
   ]
  },
  {
   "cell_type": "code",
   "execution_count": null,
   "id": "f2f096fa-c791-46ec-b171-bab98f3c72c4",
   "metadata": {
    "tags": []
   },
   "outputs": [],
   "source": [
    "lorentz_line_frequency = linewidth_calculator_factory(convert_wavelength_and_frequency(680e-9), lorentz_linewidth_frequency)\n",
    "\n",
    "def lorentz_line_wavelength(x=None):\n",
    "    x = -x if x is not None else x\n",
    "    return convert_wavelength_and_frequency(lorentz_line_frequency(x))"
   ]
  },
  {
   "cell_type": "code",
   "execution_count": null,
   "id": "0ee00ed9-4f1e-40cb-9cf4-d52eb60746ea",
   "metadata": {
    "tags": []
   },
   "outputs": [],
   "source": [
    "def lorentz_vlines(x=0, scale=1, mode='wavelength', **kwargs):\n",
    "    if mode == 'wavelength':\n",
    "        line_func = lorentz_line_wavelength\n",
    "    elif mode == 'frequency':\n",
    "        line_func = lorentz_line_frequency\n",
    "    else:\n",
    "        raise TypeError(f\"mode should be 'wavelength' or 'frequency', not {mode}\")\n",
    "        \n",
    "    match x:\n",
    "        case [*xs]:\n",
    "            line_pos = [line_func(x)/scale for x in xs]\n",
    "        case x:\n",
    "            line_pos = line_func(x)/scale\n",
    "            \n",
    "    return vlines(line_pos, **kwargs)"
   ]
  },
  {
   "cell_type": "markdown",
   "id": "3d28e3b6-868e-41db-8789-e6eaffc37193",
   "metadata": {
    "tags": []
   },
   "source": [
    "### Useful functions"
   ]
  },
  {
   "cell_type": "markdown",
   "id": "a8bc52d9-1e1a-4465-9398-e1be7b844b6d",
   "metadata": {
    "tags": []
   },
   "source": [
    "#### Select a wavelength or wavelength range based on the distance from the resonance in linewidths."
   ]
  },
  {
   "cell_type": "code",
   "execution_count": null,
   "id": "ed89d4a1-671d-482d-b3bf-5fa6c396d3f6",
   "metadata": {
    "tags": []
   },
   "outputs": [],
   "source": [
    "def select_lorentz_line(da, lorentz_line=0, window_radius=0):\n",
    "    if window_radius == 0:\n",
    "        wavelength = lorentz_line_wavelength(lorentz_line) * 1e9\n",
    "        wavelength_sel_method = \"nearest\"\n",
    "    else:\n",
    "        wavelength = slice(\n",
    "            lorentz_line_wavelength(lorentz_line - window_radius) * 1e9,\n",
    "            lorentz_line_wavelength(lorentz_line + window_radius) * 1e9,\n",
    "        )\n",
    "        wavelength_sel_method = None\n",
    "    da = da.sel(wavelength=wavelength, method=wavelength_sel_method)\n",
    "    \n",
    "    return da"
   ]
  },
  {
   "cell_type": "code",
   "execution_count": null,
   "id": "3c1e2f29-89ba-4438-a8d7-ed84eda072ed",
   "metadata": {
    "tags": []
   },
   "outputs": [],
   "source": [
    "def cross_section(\n",
    "    dataset,\n",
    "    variable=None,\n",
    "    wavelength=None,\n",
    "    lorentz_line=0,\n",
    "    window_radius=0,\n",
    "    theta=0,\n",
    "    integrate_angle=None,\n",
    "    normalisation=1,\n",
    "):\n",
    "    \"\"\"Select and integrate\"\"\"\n",
    "    da = dataset[variable] if variable is not None else dataset\n",
    "    integration_dims = []\n",
    "\n",
    "    if not integrate_angle:\n",
    "        if theta is not None:\n",
    "            da = da.sel(theta=theta, method=\"nearest\")\n",
    "    else:  # integrate_angle must be a float, so that (theta, integrate_angle) is a slice syntax\n",
    "        da = da.sel(theta=slice(theta, integrate_angle))\n",
    "        integration_dims.append(\"theta\")\n",
    "\n",
    "    match wavelength:\n",
    "        case None:\n",
    "            da = select_lorentz_line(\n",
    "                da, lorentz_line=lorentz_line, window_radius=window_radius\n",
    "            )\n",
    "\n",
    "            if window_radius != 0:\n",
    "                integration_dims.append(\"wavelength\")\n",
    "        case (start, stop, *_):\n",
    "            da = da.sel(wavelength=slice(*wavelength))\n",
    "            integration_dims.append(\"wavelength\")\n",
    "        case _:\n",
    "            da = sel_slice_or_nearest(da, \"wavelength\", wavelength)\n",
    "\n",
    "    if integration_dims:  # if the list isn't empty\n",
    "        da = integrate_da(\n",
    "            da, integration_dims, weighting=1, normalisation=normalisation\n",
    "        )\n",
    "\n",
    "    return da"
   ]
  },
  {
   "cell_type": "markdown",
   "id": "026dea87-409e-4e1d-9733-233bc183a605",
   "metadata": {},
   "source": [
    "#### Calculate integrated enhancement factor"
   ]
  },
  {
   "cell_type": "code",
   "execution_count": null,
   "id": "d52812cb-ca15-46f5-aa88-f6075fc141b2",
   "metadata": {
    "tags": []
   },
   "outputs": [],
   "source": [
    "def integrated_enhancement_factor(ds, ref, common_dim, method=\"groupby\", assign_high=False, assign_low=False, high_low_var_key=basic_RTA_var_keys, **kwargs):\n",
    "    if \"normalisation\" not in kwargs:  # unless normalisation is specified for some reason...\n",
    "        kwargs |= {\"normalisation\": None}  # don't do it, because it happens automatically from taking the ratio\n",
    "    ds = cross_section(ds, **kwargs)\n",
    "    ref = cross_section(ref, **kwargs)\n",
    "    ef = enhancement_factor(ds=ds, ref=ref, common_dim=common_dim, method=method)\n",
    "    \n",
    "    # this bit is only relevant if I'm working with the stats dataset\n",
    "    if assign_high:\n",
    "        ef = assign_high_from_mean_and_std(ef, var_key=high_low_var_key)\n",
    "    if assign_low:\n",
    "        ef = assign_low_from_mean_and_std(ef, var_key=high_low_var_key)\n",
    "    \n",
    "    return ef"
   ]
  },
  {
   "cell_type": "code",
   "execution_count": null,
   "id": "af795a8e-909b-449c-b57d-efdf9456aa12",
   "metadata": {
    "tags": []
   },
   "outputs": [],
   "source": [
    "def restacked_ief(*args, **kwargs):\n",
    "    return restack_plt_to_period(integrated_enhancement_factor(*args, **kwargs))"
   ]
  },
  {
   "cell_type": "markdown",
   "id": "92775524-39af-444f-b8ed-0f67ca7b0ce7",
   "metadata": {
    "tags": []
   },
   "source": [
    "#### Plot a comparison of the reflectance and absorptance of the LOPC with that of the reference slab."
   ]
  },
  {
   "cell_type": "code",
   "execution_count": null,
   "id": "46eb5cb4-9c09-47dc-ab4d-b8b777371286",
   "metadata": {
    "tags": []
   },
   "outputs": [],
   "source": [
    "opts_R = [opts.Curve(color=blue, ylim=(0,1)), opts.Image(cmap='viridis', clim=(0,1)), opts.QuadMesh(cmap='viridis', clim=(0,1)), opts.Violin(violin_fill_color=blue)]\n",
    "\n",
    "def plot_R(variable=\"R\", dataset=None, label_field=\"long_name\", label_append=None, **hvplot_kwargs):\n",
    "    plot = plot_var(variable, dataset, label_field, label_append, **hvplot_kwargs)\n",
    "    plot.opts(*opts_R)\n",
    "    return plot\n",
    "\n",
    "# # test\n",
    "# plot_R(dataset=restacked_ds.mean(\"run\", keep_attrs=True).sel(period=200, excitonic_layer_thickness=50, num_periods=10).squeeze(), x=\"wavelength\", y=\"theta\").opts(cmap=\"cividis\", clim=(None, None))"
   ]
  },
  {
   "cell_type": "code",
   "execution_count": null,
   "id": "14bb83d6-f289-4771-a405-95a0afd31eed",
   "metadata": {
    "tags": []
   },
   "outputs": [],
   "source": [
    "opts_T = [opts.Curve(color=yellow, ylim=(0,1)), opts.Image(cmap='cividis', clim=(0,1)), opts.QuadMesh(cmap='cividis', clim=(0,1)), opts.Violin(violin_fill_color=yellow)]\n",
    "\n",
    "def plot_T(variable=\"T\", dataset=None, label_field=\"long_name\", label_append=None, **hvplot_kwargs):\n",
    "    plot = plot_var(variable, dataset, label_field, label_append, **hvplot_kwargs)\n",
    "    plot.opts(*opts_T)\n",
    "    return plot"
   ]
  },
  {
   "cell_type": "code",
   "execution_count": null,
   "id": "e4ada36f-3e13-4c72-8201-edfeadca171f",
   "metadata": {
    "tags": []
   },
   "outputs": [],
   "source": [
    "opts_A = [opts.Curve(color=red, ylim=(0,1)), opts.Image(cmap='inferno', clim=(0,1)), opts.QuadMesh(cmap='inferno', clim=(0,1)), opts.Violin(violin_fill_color=red)]\n",
    "\n",
    "def plot_A(variable=\"A\", dataset=None, label_field=\"long_name\", label_append=None, **hvplot_kwargs):\n",
    "    plot = plot_var(variable, dataset, label_field, label_append, **hvplot_kwargs)\n",
    "    plot.opts(*opts_A)\n",
    "    return plot"
   ]
  },
  {
   "cell_type": "code",
   "execution_count": null,
   "id": "bd86a5d3-55a4-4ce2-82e0-554b68fcec15",
   "metadata": {
    "tags": []
   },
   "outputs": [],
   "source": [
    "def plot_vars_to_funcs(plot_vars):\n",
    "    var_func_mapping = {\n",
    "        \"R\": plot_R,\n",
    "        \"T\": plot_T,\n",
    "        \"A\": plot_A,\n",
    "        \"Rs\": partial(plot_R, variable=\"Rs\"),\n",
    "        \"Ts\": partial(plot_T, variable=\"Ts\"),\n",
    "        \"As\": partial(plot_A, variable=\"As\"),\n",
    "        \"Rp\": partial(plot_R, variable=\"Rp\"),\n",
    "        \"Tp\": partial(plot_T, variable=\"Tp\"),\n",
    "        \"Ap\": partial(plot_A, variable=\"Ap\"),\n",
    "        \"R_per_oscillator\": partial(plot_R, variable=\"R_per_oscillator\"),\n",
    "        \"T_per_oscillator\": partial(plot_T, variable=\"T_per_oscillator\"),\n",
    "        \"A_per_oscillator\": partial(plot_A, variable=\"A_per_oscillator\"),\n",
    "        \"Rs_per_oscillator\": partial(plot_R, variable=\"Rs_per_oscillator\"),\n",
    "        \"Ts_per_oscillator\": partial(plot_T, variable=\"Ts_per_oscillator\"),\n",
    "        \"As_per_oscillator\": partial(plot_A, variable=\"As_per_oscillator\"),\n",
    "        \"Rp_per_oscillator\": partial(plot_R, variable=\"Rp_per_oscillator\"),\n",
    "        \"Tp_per_oscillator\": partial(plot_T, variable=\"Tp_per_oscillator\"),\n",
    "        \"Ap_per_oscillator\": partial(plot_A, variable=\"Ap_per_oscillator\"),\n",
    "    }\n",
    "\n",
    "    plot_funcs = []\n",
    "    for var in plot_vars:\n",
    "        try:\n",
    "            func = var_func_mapping[var]\n",
    "        except KeyError:\n",
    "            func = partial(plot_var, variable=var)\n",
    "        plot_funcs.append(func)\n",
    "\n",
    "    return plot_funcs"
   ]
  },
  {
   "cell_type": "code",
   "execution_count": null,
   "id": "7a42d071-e1ac-4adb-a0aa-0da64d0b73d0",
   "metadata": {
    "tags": []
   },
   "outputs": [],
   "source": [
    "# new version\n",
    "def plot_RTA(\n",
    "    period,\n",
    "    excitonic_layer_thickness,\n",
    "    num_periods,\n",
    "    theta,\n",
    "    title=\"\",\n",
    "    include=[\"LOPC\", \"CRS_1\"],\n",
    "    plot_vars=[\"R\", \"T\", \"A\"],\n",
    "    label_override=None,\n",
    "    label_append=None,\n",
    "):\n",
    "    label_field = None  # for debugging\n",
    "    label_append = \"\" if label_append is None else label_append\n",
    "\n",
    "    P = period\n",
    "    t = excitonic_layer_thickness\n",
    "    N = num_periods\n",
    "\n",
    "    plot_funcs = [\n",
    "        partial(func, x=\"wavelength\", label_field=label_field)\n",
    "        for func in plot_vars_to_funcs(plot_vars)\n",
    "    ]\n",
    "    curves = []\n",
    "    if \"LOPC\" in include:\n",
    "        lopc_label = \" (LOPC)\" if label_override is None else label_override\n",
    "        lopc_label += label_append\n",
    "        lopc_sel = restacked_ds.sel(\n",
    "            period=P, excitonic_layer_thickness=t, num_periods=N\n",
    "        ).squeeze()\n",
    "        lopc_sel = sel_or_integrate(lopc_sel, \"theta\", theta, normalisation=1)\n",
    "        lopc_curves = [\n",
    "            plot_func(dataset=lopc_sel, label_append=lopc_label).opts(line_dash=\"solid\")\n",
    "            for plot_func in plot_funcs\n",
    "        ]\n",
    "        curves += lopc_curves\n",
    "    if \"CRS_1\" in include:\n",
    "        crs_1_label = \" (CRS)\" if label_override is None else label_override\n",
    "        crs_1_label += label_append\n",
    "        crs_1_sel = crs_1.sel(total_excitonic_thickness=t * N).squeeze()\n",
    "        crs_1_sel = sel_or_integrate(crs_1_sel, \"theta\", theta, normalisation=1)\n",
    "        crs_1_curves = [\n",
    "            plot_func(dataset=crs_1_sel, label_append=crs_1_label).opts(\n",
    "                line_dash=\"dashed\"\n",
    "            )\n",
    "            for plot_func in plot_funcs\n",
    "        ]\n",
    "        curves += crs_1_curves\n",
    "    if \"FRS_1\" in include:\n",
    "        frs_1_label = \" (FRS)\" if label_override is None else label_override\n",
    "        frs_1_label += label_append\n",
    "        frs_1_sel = frs_1.sel(total_thickness=(P + t) * N).squeeze()\n",
    "        frs_1_sel = sel_or_integrate(frs_1_sel, \"theta\", theta, normalisation=1)\n",
    "        frs_1_curves = [\n",
    "            plot_func(dataset=frs_1_sel, label_append=frs_1_label).opts(\n",
    "                line_dash=\"dotted\"\n",
    "            )\n",
    "            for plot_func in plot_funcs\n",
    "        ]\n",
    "        curves += frs_1_curves\n",
    "\n",
    "    overlay = hv.Overlay(curves).opts(\n",
    "        opts.Curve(\n",
    "            ylim=(0, 1),\n",
    "            ylabel=\"Intensity\",\n",
    "            title=f\"{title}{coordinate_string(period=P, excitonic_layer_thickness=t, num_periods=N, theta=theta)}\",\n",
    "        ),\n",
    "    )\n",
    "\n",
    "    return overlay\n",
    "\n",
    "\n",
    "# # test\n",
    "# display(\n",
    "#     plot_RTA(200, 50, 20, 0, \"test\\n\", include=[\"LOPC\", \"CRS_1\"]).opts(\n",
    "#         legend_position=\"right\"\n",
    "#     )\n",
    "# )\n",
    "\n",
    "# display(\n",
    "#     plot_RTA(\n",
    "#         200,\n",
    "#         50,\n",
    "#         20,\n",
    "#         (10, 50),\n",
    "#         \"test RA only\\n\",\n",
    "#         include=[\"LOPC\", \"CRS_1\"],\n",
    "#         plot_vars=[\"R\", \"A\"],\n",
    "#     ).opts(opts.Overlay(legend_position=\"right\"))\n",
    "# )\n",
    "\n",
    "# display(\n",
    "#     plot_RTA(\n",
    "#         200,\n",
    "#         50,\n",
    "#         20,\n",
    "#         75,\n",
    "#         \"test\\n\",\n",
    "#         include=[\"LOPC\"],\n",
    "#         plot_vars=[\"R_per_oscillator\", \"A_per_oscillator\"],\n",
    "#         label_append=\" test\",\n",
    "#         label_override=\"OVERRIDDEN\",\n",
    "#     ).opts(opts.Curve(ylim=(None, None)), opts.Overlay(legend_position=\"right\"))\n",
    "# )"
   ]
  },
  {
   "cell_type": "markdown",
   "id": "b9d9dd16-21ce-48fc-b0c7-657b27ac2782",
   "metadata": {
    "tags": []
   },
   "source": [
    "#### Plot a comparison of normal incidence to integrated"
   ]
  },
  {
   "cell_type": "code",
   "execution_count": null,
   "id": "a0fdb364-45f4-4e8e-ac3c-49514bf7991f",
   "metadata": {
    "tags": []
   },
   "outputs": [],
   "source": [
    "def plot_comparison(*comparison_params: tuple[dict, list[\"opts\"]], plot_func=plot_RTA, **shared_params):\n",
    "    param_opts = [(shared_params|comp_params, comp_opts) for comp_params, comp_opts in comparison_params]\n",
    "    plots = [plot_func(**comp_params).opts(*comp_opts) for comp_params, comp_opts in param_opts]\n",
    "    return plots"
   ]
  },
  {
   "cell_type": "code",
   "execution_count": null,
   "id": "36cce711-5c47-4fab-a7cd-663744d3a4f2",
   "metadata": {
    "tags": []
   },
   "outputs": [],
   "source": [
    "def compare_RTA(*args, opts_cycle=None, plot_func=plot_RTA, **shared_params):\n",
    "    default_opts = [\n",
    "        [opts.Curve(line_dash=style)]\n",
    "        for style in [\"solid\", \"dashed\", \"dotted\", \"dotdash\", \"dashdot\"]\n",
    "    ]\n",
    "    opts_cycle = default_opts if opts_cycle is None else opts_cycle\n",
    "\n",
    "    # comparison_params = list(zip(args, opts_cycle))\n",
    "\n",
    "    plots = plot_comparison(\n",
    "        *zip(args, opts_cycle), plot_func=plot_func, **shared_params\n",
    "    )\n",
    "    overlay = hv.Overlay(plots).opts(opts.Overlay(legend_position=\"right\"))\n",
    "\n",
    "    return overlay\n",
    "\n",
    "\n",
    "# # test\n",
    "# shared_params = {\n",
    "#     \"period\": 250,\n",
    "#     \"excitonic_layer_thickness\": 70,\n",
    "#     \"num_periods\": 30,\n",
    "#     \"include\": [\"LOPC\"],\n",
    "# }\n",
    "# compare_RTA({\"theta\": (0, 75), \"label_override\": \" (integrated)\"}, {\"theta\": 0, \"label_override\": \" (θ = 0)\"}, **shared_params)"
   ]
  },
  {
   "cell_type": "code",
   "execution_count": null,
   "id": "de3497ad-d081-49c8-86fa-9275cd25b13d",
   "metadata": {
    "tags": []
   },
   "outputs": [],
   "source": [
    "compare_RTA_normal_vs_integrated = partial(compare_RTA, {\"theta\": (0, 75), \"label_override\": \" (integrated)\"}, {\"theta\": 0, \"label_override\": \" (θ = 0)\"}, include= [\"LOPC\"],)\n",
    "\n",
    "# # test\n",
    "# shared_params = {\n",
    "#     \"period\": 250,\n",
    "#     \"excitonic_layer_thickness\": 70,\n",
    "#     \"num_periods\": 30,\n",
    "# }\n",
    "# compare_RTA_normal_vs_integrated(**shared_params)"
   ]
  },
  {
   "cell_type": "markdown",
   "id": "f4a2ea7b-6ecf-4179-a06a-3c03ef43bbf1",
   "metadata": {
    "tags": []
   },
   "source": [
    "#### Plot the RTA of the structures in 2D"
   ]
  },
  {
   "cell_type": "code",
   "execution_count": null,
   "id": "a90b459a-5569-4c55-8a30-45c063c1369f",
   "metadata": {
    "tags": []
   },
   "outputs": [],
   "source": [
    "def plot_RTA_2D(\n",
    "    period,\n",
    "    excitonic_layer_thickness,\n",
    "    num_periods,\n",
    "    theta=(0, 75),\n",
    "    title=\"\",\n",
    "    include=[\"LOPC\", \"CRS_1\"],\n",
    "):\n",
    "    P = period\n",
    "    t = excitonic_layer_thickness\n",
    "    N = num_periods\n",
    "\n",
    "    plots = []\n",
    "    if \"LOPC\" in include:\n",
    "        lopc_sel = restacked_ds.sel(\n",
    "            period=P, excitonic_layer_thickness=t, num_periods=N\n",
    "        ).squeeze()\n",
    "        lopc_sel = lopc_sel.sel(theta=slice(*theta))\n",
    "        plots.append(\n",
    "            lopc_sel[\"R\"]\n",
    "            .hvplot(kind=\"image\", x=\"wavelength\", y=\"theta\", title=\"Reflectance (LOPC)\")\n",
    "            .opts(opts.Image(cmap=\"viridis\"))\n",
    "        )\n",
    "        plots.append(\n",
    "            lopc_sel[\"T\"]\n",
    "            .hvplot(kind=\"image\", x=\"wavelength\", y=\"theta\", title=\"Transmittance (LOPC)\")\n",
    "            .opts(opts.Image(cmap=\"cividis\"))\n",
    "        )\n",
    "        plots.append(\n",
    "            lopc_sel[\"A\"]\n",
    "            .hvplot(kind=\"image\", x=\"wavelength\", y=\"theta\", title=\"Absorptance (LOPC)\")\n",
    "            .opts(opts.Image(cmap=\"inferno\"))\n",
    "        )\n",
    "    if \"CRS_1\" in include:\n",
    "        crs_1_sel = crs_1.sel(total_excitonic_thickness=t * N).squeeze()\n",
    "        crs_1_sel = crs_1_sel.sel(theta=slice(*theta))\n",
    "        plots.append(\n",
    "            crs_1_sel[\"R\"]\n",
    "            .hvplot(kind=\"image\", x=\"wavelength\", y=\"theta\", title=\"Reflectance (CRS)\")\n",
    "            .opts(opts.Image(cmap=\"viridis\"))\n",
    "        )\n",
    "        plots.append(\n",
    "            crs_1_sel[\"T\"]\n",
    "            .hvplot(kind=\"image\", x=\"wavelength\", y=\"theta\", title=\"Transmittance (CRS)\")\n",
    "            .opts(opts.Image(cmap=\"cividis\"))\n",
    "        )\n",
    "        plots.append(\n",
    "            crs_1_sel[\"A\"]\n",
    "            .hvplot(kind=\"image\", x=\"wavelength\", y=\"theta\", title=\"Absorptance (CRS)\")\n",
    "            .opts(opts.Image(cmap=\"inferno\"))\n",
    "        )\n",
    "    if \"FRS_1\" in include:\n",
    "        frs_1_sel = frs_1.sel(total_thickness=(P + t) * N).squeeze()\n",
    "        frs_1_sel = frs_1_sel.sel(theta=slice(*theta))\n",
    "        plots.append(\n",
    "            frs_1_sel[\"R\"]\n",
    "            .hvplot(kind=\"image\", x=\"wavelength\", y=\"theta\", title=\"Reflectance (FRS)\")\n",
    "            .opts(opts.Image(cmap=\"viridis\"))\n",
    "        )\n",
    "        plots.append(\n",
    "            frs_1_sel[\"T\"]\n",
    "            .hvplot(kind=\"image\", x=\"wavelength\", y=\"theta\", title=\"Transmittance (FRS)\")\n",
    "            .opts(opts.Image(cmap=\"cividis\"))\n",
    "        )\n",
    "        plots.append(\n",
    "            frs_1_sel[\"A\"]\n",
    "            .hvplot(kind=\"image\", x=\"wavelength\", y=\"theta\", title=\"Absorptance (FRS)\")\n",
    "            .opts(opts.Image(cmap=\"inferno\"))\n",
    "        )\n",
    "\n",
    "    layout = hv.Layout(plots).opts(\n",
    "        opts.Image(\n",
    "            clim=(0, 1),\n",
    "            clabel=\"Intensity\",\n",
    "        ),\n",
    "        opts.Layout(\n",
    "            title=f\"{title}{coordinate_string(period=P, excitonic_layer_thickness=t, num_periods=N)}\",\n",
    "        ),\n",
    "    )\n",
    "\n",
    "    return layout\n",
    "\n",
    "# # test\n",
    "# display(plot_RTA_2D(200, 50, 20, (0, 90), \"test\\n\", include=[\"LOPC\", \"CRS_1\"]).opts(opts.Image(frame_width=200)).cols(3))\n",
    "\n",
    "# display(plot_RTA_2D(200, 40, 20, (10, 50), \"test\\n\", include=[\"LOPC\", \"CRS_1\", \"FRS_1\"]).opts(opts.Image(frame_width=200)).cols(3))"
   ]
  },
  {
   "cell_type": "markdown",
   "id": "50389be2-9138-4d8a-8236-eb7fc75f06ba",
   "metadata": {
    "tags": []
   },
   "source": [
    "#### Plot an enhancement factor."
   ]
  },
  {
   "cell_type": "code",
   "execution_count": null,
   "id": "9c62ddbb-0387-480b-aac7-fe67bfa6ccf8",
   "metadata": {
    "tags": []
   },
   "outputs": [],
   "source": [
    "def plot_ef(\n",
    "    variable,\n",
    "    dataset,\n",
    "    sel=None,\n",
    "    sel_method=None,\n",
    "    title=\"\",\n",
    "    *,\n",
    "    x=\"wavelength\",\n",
    "    y=None,\n",
    "):\n",
    "    sel = {} if sel is None else sel\n",
    "    da = dataset[variable].sel(**sel, method=sel_method).squeeze()\n",
    "    if y is None:\n",
    "        plot = da.hvplot(x=x, label=f\"{variable} enhancement factor\")\n",
    "        plot *= hv.HLine(1).opts(line_dash=\"dotted\")\n",
    "    else:\n",
    "        plot = da.hvplot(\n",
    "            kind=\"image\",\n",
    "            x=x,\n",
    "            y=y,\n",
    "            label=f\"{variable} enhancement factor\",\n",
    "            clim=(0.5, 1.5),\n",
    "        )\n",
    "    plot = plot.opts(\n",
    "        opts.Curve(\n",
    "            title=f\"{title}{coordinate_string(**sel)}\",\n",
    "        ),\n",
    "        opts.Overlay(\n",
    "            title=f\"{title}{coordinate_string(**sel)}\",\n",
    "        ),\n",
    "    )\n",
    "\n",
    "    return plot\n",
    "\n",
    "\n",
    "# # test\n",
    "# sel_1 = {\"period\": 200, \"excitonic_layer_thickness\": 40, \"num_periods\": 10, \"theta\": 30}\n",
    "# sel_2 = {\"period\": 200, \"excitonic_layer_thickness\": 40, \"num_periods\": 10, \"theta\": 0}\n",
    "# sel_3 = {\"period\": 200, \"excitonic_layer_thickness\": 40, \"num_periods\": 10}\n",
    "# display(\n",
    "#     (\n",
    "#         plot_ef(\"As\", restacked_norm_1, sel_1, \"nearest\", \"test\\n\")\n",
    "#         + plot_ef(\"As\", restacked_norm_2, sel_2, title=\"test2\\n\")\n",
    "#     ).cols(1)\n",
    "# )\n",
    "# display(\n",
    "#     plot_ef(\"As\", restacked_norm_1, sel_3, title=\"test3\\n\", x=\"theta\", y=\"wavelength\").opts(clim=(0, 2), cmap=\"RdBu_r\")\n",
    "# )"
   ]
  },
  {
   "cell_type": "markdown",
   "id": "2a6a7805-b3a7-49f2-8efc-f3d3ef859e10",
   "metadata": {
    "tags": []
   },
   "source": [
    "#### Test plot_optimum_over_dim"
   ]
  },
  {
   "cell_type": "code",
   "execution_count": null,
   "id": "623e92c9-95e9-4a24-8647-1246104e909d",
   "metadata": {
    "tags": []
   },
   "outputs": [],
   "source": [
    "# foo, bar = plot_optimum_over_dim(restacked_ds.A.sel(theta=0, wavelength=660, method=\"nearest\"), \"period\", \"excitonic_layer_thickness\", \"num_periods\", \"max\")"
   ]
  },
  {
   "cell_type": "code",
   "execution_count": null,
   "id": "5e040d3c-992f-4ad7-9e9b-0c2a2561f813",
   "metadata": {
    "tags": []
   },
   "outputs": [],
   "source": [
    "# foo, bar = plot_optimum_over_dim(integrate_da(restacked_ds.A, \"theta\", normalisation=1).sel(wavelength=660, method=\"nearest\"), \"period\", \"excitonic_layer_thickness\", \"num_periods\", \"max\")"
   ]
  },
  {
   "cell_type": "markdown",
   "id": "ce81a283-3527-4151-aa1a-8633dac55688",
   "metadata": {
    "tags": []
   },
   "source": [
    "#### Find and plot the min or max over any dimension."
   ]
  },
  {
   "cell_type": "code",
   "execution_count": null,
   "id": "265544e8-88b5-40c5-81bc-cd3fc0dc6733",
   "metadata": {
    "tags": []
   },
   "outputs": [],
   "source": [
    "def wrapped_2D_plot(\n",
    "    variable,\n",
    "    dataset,\n",
    "    optimise=\"max\",\n",
    "    lorentz_line=0,\n",
    "    window_radius=0,\n",
    "    theta=0,\n",
    "    cmap=\"viridis\",\n",
    "    period_start=None,\n",
    "    period_stop=None,\n",
    "    integrate_angle=None,\n",
    "    extra_plots=[\"RTA_normal\", \"RTA_int\", \"norm_1_normal\", \"norm_1_int\"],\n",
    "    dim=None,  # automatically assign if dataset recognised\n",
    "):\n",
    "    plots = []\n",
    "\n",
    "    if str(dataset) == \"restacked_ds\":\n",
    "        # the drop_sel is important for avoiding the most common degenerate cases\n",
    "        dataset = restacked_ds.drop_sel({\"excitonic_layer_thickness\": 0})\n",
    "        dim = \"period\"\n",
    "\n",
    "    if str(dataset) == \"restacked_norm_1\":\n",
    "        # the drop_sel is important for avoiding the most common degenerate cases\n",
    "        dataset = restacked_norm_1.drop_sel({\"excitonic_layer_thickness\": 0})\n",
    "        dim = \"period\"\n",
    "\n",
    "    if str(dataset) == \"restacked_diff_1\":\n",
    "        # the drop_sel is important for avoiding the most common degenerate cases\n",
    "        dataset = restacked_diff_1.drop_sel({\"excitonic_layer_thickness\": 0})\n",
    "        dim = \"period\"\n",
    "\n",
    "    da = dataset[variable]\n",
    "\n",
    "    if not integrate_angle:\n",
    "        da = da.sel(theta=theta, method=\"nearest\")\n",
    "    else:  # integrate_angle must be a float, so that (theta, integrate_angle) is a slice syntax\n",
    "        da = da.sel(theta=slice(theta, integrate_angle))\n",
    "        da = integrate_da(da, \"theta\", weighting=1, normalisation=1)\n",
    "\n",
    "    if period_start < period_stop:\n",
    "        da = da.sel(period=slice(period_start, period_stop))\n",
    "    else:  # otherwise no data is selected and everything breaks\n",
    "        da = da.sel(period=slice(period_start, None))\n",
    "    da = select_lorentz_line(da, lorentz_line=lorentz_line, window_radius=window_radius)\n",
    "\n",
    "    vline_locs = [0]\n",
    "\n",
    "    if window_radius == 0:\n",
    "        wavelength = float(da.wavelength)\n",
    "        title = f\"{optimise.capitalize()}imum {variable} at {wavelength:.0f} nm\"\n",
    "        if lorentz_line != 0:  # don't put two lines over the resonance\n",
    "            vline_locs.append(lorentz_line)\n",
    "    else:\n",
    "        wavelength_start = float(da.wavelength[0])\n",
    "        wavelength_stop = float(da.wavelength[-1])\n",
    "        # make it easier to compare values\n",
    "        da = integrate_da(\n",
    "            da, \"wavelength\", weighting=1, normalisation=1\n",
    "        )  # replaces the below two lines\n",
    "        # da = normalise_over_dim(da, \"wavelength\", 1)\n",
    "        # da = da.integrate(\"wavelength\")\n",
    "        title = f\"{optimise.capitalize()}imum integrated {variable} between {wavelength_start:.0f} and {wavelength_stop:.0f} nm\"\n",
    "        vline_locs.append(lorentz_line - window_radius)\n",
    "        vline_locs.append(lorentz_line + window_radius)\n",
    "\n",
    "    plot_1, optimum_coords = plot_optimum_over_dim(\n",
    "        da,\n",
    "        dim=dim,\n",
    "        x=\"excitonic_layer_thickness\",\n",
    "        y=\"num_periods\",\n",
    "        optimise=optimise,\n",
    "    )\n",
    "\n",
    "    P = float(optimum_coords[\"period\"])\n",
    "    t = float(optimum_coords[\"excitonic_layer_thickness\"])\n",
    "    N = float(optimum_coords[\"num_periods\"])\n",
    "    try:  # this should work if not integrating over theta\n",
    "        th = float(optimum_coords[\"theta\"])\n",
    "    except:  # probably the problem is that theta doesn't exist because I integrated over it already\n",
    "        th = (theta, integrate_angle)\n",
    "    lorentz_lines = lorentz_vlines(vline_locs, scale=1e-9, mode=\"wavelength\").opts(\n",
    "        opts.VLine(line_color=green, line_dash=\"dotted\"),\n",
    "    )\n",
    "\n",
    "    # give the resonance line a special colour\n",
    "    lorentz_lines.VLine.I.opts(opts.VLine(line_color=yellow))\n",
    "\n",
    "    plot_1.opts(\n",
    "        opts.QuadMesh(cmap=cmap),\n",
    "        opts.Points(color=\"red\"),\n",
    "        opts.Overlay(title=f\"{title}\\nOptimal period: {P:.0f}\"),\n",
    "    )\n",
    "\n",
    "    plots.append(plot_1)\n",
    "\n",
    "    if \"RTA_normal\" in extra_plots:  # plot RTA at theta=0\n",
    "        new_plot = plot_RTA(\n",
    "            period=P, excitonic_layer_thickness=t, num_periods=N, theta=0\n",
    "        )\n",
    "        new_plot *= lorentz_lines\n",
    "\n",
    "        plots.append(new_plot)\n",
    "\n",
    "    if \"RTA_int\" in extra_plots:  # plot RTA at theta OR integrating over theta\n",
    "        new_plot = plot_RTA(\n",
    "            period=P, excitonic_layer_thickness=t, num_periods=N, theta=th\n",
    "        )\n",
    "        new_plot *= lorentz_lines\n",
    "        plots.append(new_plot)\n",
    "\n",
    "    if \"norm_1_normal\" in extra_plots:  # plot enhancement factor at theta=0\n",
    "        sel = {\n",
    "            \"period\": P,\n",
    "            \"excitonic_layer_thickness\": t,\n",
    "            \"num_periods\": N,\n",
    "            \"theta\": 0,\n",
    "        }\n",
    "        new_plot = plot_ef(variable=\"A\", dataset=restacked_norm_1, sel=sel)\n",
    "        new_plot *= lorentz_lines\n",
    "\n",
    "        plots.append(new_plot)\n",
    "\n",
    "    if (\n",
    "        \"norm_1_int\" in extra_plots\n",
    "    ):  # plot enhancement factor at theta OR integrating over theta\n",
    "        try:  # this should work if not integrating over theta\n",
    "            sel = {\n",
    "                \"period\": P,\n",
    "                \"excitonic_layer_thickness\": t,\n",
    "                \"num_periods\": N,\n",
    "                \"theta\": th,\n",
    "            }\n",
    "            new_plot = plot_ef(variable=\"A\", dataset=restacked_norm_1, sel=sel)\n",
    "            new_plot *= lorentz_lines\n",
    "        except:  # if integrating, we need to do the integral *before* normalising\n",
    "            ds_int = sel_or_integrate(ds, dim=\"theta\", val=th)\n",
    "            crs_1_int = sel_or_integrate(crs_1, dim=\"theta\", val=th)\n",
    "            norm = enhancement_factor(\n",
    "                ds_int,\n",
    "                ref=crs_1_int,\n",
    "                common_dim=\"total_excitonic_thickness\",\n",
    "                method=\"groupby\",\n",
    "            )\n",
    "            restacked_norm = restack_plt_to_period(norm)\n",
    "            # replaces the lines below\n",
    "            #             # this should all get separated out into its own function\n",
    "            #             crs_1_like_ds = crs_1.sel(\n",
    "            #                 total_excitonic_thickness=ds.total_excitonic_thickness\n",
    "            #             )\n",
    "\n",
    "            #             ds_int = sel_or_integrate(ds, dim=\"theta\", val=th)\n",
    "            #             crs_1_int = sel_or_integrate(crs_1_like_ds, dim=\"theta\", val=th)\n",
    "            #             norm = ds_int / crs_1_int\n",
    "            #             restacked_norm = norm.stack(multiperiod=['passive_layer_thickness', 'excitonic_layer_thickness']).set_index(multiperiod=['period', 'excitonic_layer_thickness']).unstack()\n",
    "\n",
    "            sel = {\"period\": P, \"excitonic_layer_thickness\": t, \"num_periods\": N}\n",
    "            new_plot = plot_ef(variable=\"A\", dataset=restacked_norm, sel=sel)\n",
    "            new_plot *= lorentz_lines\n",
    "            sel[\"theta\"] = th\n",
    "            new_plot = new_plot.opts(opts.Overlay(title=f\"{coordinate_string(**sel)}\"))\n",
    "        plots.append(new_plot)\n",
    "\n",
    "    return hv.Layout(plots).cols(1)"
   ]
  },
  {
   "cell_type": "markdown",
   "id": "557d7698-080c-4f98-80e2-8bff1e70f742",
   "metadata": {
    "tags": []
   },
   "source": [
    "#### Plot the E-field, overlayed with the refractive index profile and layer boundaries."
   ]
  },
  {
   "cell_type": "code",
   "execution_count": null,
   "id": "0c227f92-326f-44f9-80d8-8d52979eae9a",
   "metadata": {
    "tags": []
   },
   "outputs": [],
   "source": [
    "# # sometimes this errors on the first call for some reason\n",
    "# fdtd = lumapi.FDTD()\n",
    "\n",
    "# oscillator = LumericalOscillator(fdtd)\n",
    "\n",
    "# def wrap_plot_field(\n",
    "#     wavelength=680,\n",
    "#     excitonic_layer_thickness=50,\n",
    "#     passive_layer_thickness=None,\n",
    "#     period=None,\n",
    "#     num_periods=5,\n",
    "#     theta=0,\n",
    "#     delta=0,\n",
    "#     run=0,\n",
    "#     disorder_correlation=\"correlated\",\n",
    "#     add_first_layer=True,\n",
    "#     z_scale=1e-9,\n",
    "#     ri_lower=1.35,\n",
    "#     ri_upper=1.65,\n",
    "#     **field_kwargs,\n",
    "# ):\n",
    "#     match passive_layer_thickness, period:\n",
    "#         case None, None:\n",
    "#             raise ValueError(\n",
    "#                 \"exactly one of passive_layer_thickness or period must be supplied\"\n",
    "#             )\n",
    "#         case _, None:\n",
    "#             period = passive_layer_thickness + excitonic_layer_thickness\n",
    "#         case None, period:\n",
    "#             passive_layer_thickness = period - excitonic_layer_thickness\n",
    "#         case _, _:\n",
    "#             raise ValueError(\n",
    "#                 \"exactly one of passive_layer_thickness or period must be supplied\"\n",
    "#             )\n",
    "\n",
    "#     default_field_kwargs = dict(\n",
    "#         wavelength=wavelength,\n",
    "#         lumerical_session=fdtd,\n",
    "#         oscillator=oscillator,\n",
    "#         ri_lower=ri_lower,\n",
    "#         ri_upper=ri_upper,\n",
    "#         z_scale=z_scale,\n",
    "#         excitonic_layer_thickness=excitonic_layer_thickness,\n",
    "#         passive_layer_thickness=passive_layer_thickness,\n",
    "#         num_periods=num_periods,\n",
    "#         angles=theta,\n",
    "#         add_first_layer=add_first_layer,  # add dummy passive layer to allow disorder on first excitonic layer\n",
    "#         **default_oscillator_params\n",
    "#     )\n",
    "\n",
    "#     if delta != 0:\n",
    "#         temp_dxs = np.array(\n",
    "#             [\n",
    "#                 singles_ds.sel(\n",
    "#                     delta=delta,\n",
    "#                     excitonic_layer_thickness=excitonic_layer_thickness,\n",
    "#                     num_periods=num_periods,\n",
    "#                     passive_layer_thickness=passive_layer_thickness,\n",
    "#                     run=run,\n",
    "#                     disorder_correlation=disorder_correlation,\n",
    "#                 )\n",
    "#                 .sel(layer_number=slice(0, num_periods))\n",
    "#                 .dxs.squeeze()\n",
    "#                 .compute()\n",
    "#                 .data\n",
    "#             ]\n",
    "#         )\n",
    "\n",
    "#         default_field_kwargs |= dict(\n",
    "#             copy_layers=True,\n",
    "#             apply_disorder=True,\n",
    "#             delta=1,\n",
    "#             delta_mode=\"exact\",\n",
    "#             disorder_type=\"dxs\",\n",
    "#             dxs=temp_dxs,\n",
    "#             correlated=True,  # False-> uncorrelated disorder; always use True if applying dxs directly\n",
    "#             retain_runs=False,  # True-> return concat'd array; False-> return mean array\n",
    "#         )\n",
    "\n",
    "#     field_kwargs = default_field_kwargs | field_kwargs\n",
    "\n",
    "#     with warnings.catch_warnings():\n",
    "#         warnings.filterwarnings(\"ignore\", \"Can't deepcopy\")\n",
    "#         field = plot_field(**field_kwargs)\n",
    "\n",
    "#     unperturbed_layer_pos = (np.arange(0, num_periods) * period) + (\n",
    "#         excitonic_layer_thickness / 2 + passive_layer_thickness * add_first_layer\n",
    "#     )\n",
    "#     unperturbed_layer_pos *= 1e-9 / z_scale  # default scale if z_scale=1 is metres\n",
    "#     unperturbed_layer_markers = vlines(list(unperturbed_layer_pos))\n",
    "\n",
    "#     the_plot = (field * unperturbed_layer_markers).opts(\n",
    "#         opts.VSpan(color=\"gray\"),\n",
    "#         opts.VLine(line_dash=\"dotted\", color=\"black\"),\n",
    "#         opts.Curve(\n",
    "#             # xlabel=r\"\\(z (m)\\)\",  # maybe in some future version of holoviews latex labels will work again :'(\n",
    "#             # ylabel=r\"\\(|E|^2\\)\",\n",
    "#             xlabel=\"z (nm)\",  # obviously the units here should be matched to z_scale\n",
    "#             ylabel=\"|E|^2\",\n",
    "#         ),\n",
    "#     )\n",
    "\n",
    "#     return the_plot"
   ]
  },
  {
   "cell_type": "markdown",
   "id": "93ba2fa0-728c-40c1-947b-22ebb0e604d2",
   "metadata": {},
   "source": [
    "#### More plots!"
   ]
  },
  {
   "cell_type": "code",
   "execution_count": null,
   "id": "723825ee-b8df-4dd4-8d85-5d21822cfbfe",
   "metadata": {
    "tags": []
   },
   "outputs": [],
   "source": [
    "def plot_singles(\n",
    "    var,\n",
    "    run,\n",
    "    disorder_correlation,\n",
    "    num_periods,\n",
    "    period,\n",
    "    delta,\n",
    "    theta,\n",
    "    wavelength_int_range=(None, None),\n",
    "    integrate_angle=None,\n",
    "    mode=\"raw\",\n",
    "):\n",
    "    plot_funcs = [partial(func, label_field=None) for func in plot_vars_to_funcs(var)]\n",
    "\n",
    "    match mode:\n",
    "        case \"raw\":\n",
    "            int_func = partial(\n",
    "                cross_section,\n",
    "                wavelength=slice(None, None),\n",
    "                theta=theta,\n",
    "                integrate_angle=integrate_angle,\n",
    "                normalisation=1,\n",
    "            )\n",
    "            temp_sds = int_func(restacked_sds)\n",
    "            temp_pds = int_func(restacked_pds)\n",
    "            temp_stats_ds = int_func(restacked_stats_ds)\n",
    "            fom_label = f\"{var[0]}\"\n",
    "        case \"ef\":\n",
    "            with warnings.catch_warnings():\n",
    "                warnings.filterwarnings(\"ignore\", \"invalid value\")\n",
    "                int_func = partial(\n",
    "                    restacked_ief,\n",
    "                    common_dim=\"total_excitonic_thickness\",\n",
    "                    method=\"vectorized_indexing\",\n",
    "                    wavelength=slice(None, None),\n",
    "                    theta=theta,\n",
    "                    integrate_angle=integrate_angle,\n",
    "                    # normalisation=1,\n",
    "                )\n",
    "                temp_sds = int_func(singles_ds, ref=crs_1)\n",
    "                temp_pds = int_func(periodic_ds, ref=crs_1)\n",
    "                temp_stats_ds = int_func(\n",
    "                    stats_ds, ref=crs_1_stats_norm, assign_high=True, assign_low=True\n",
    "                )\n",
    "            fom_label = f\"γ{var[0]}\"\n",
    "        case _:\n",
    "            raise NotImplementedError(f\"valid options for mode are 'raw' or 'ef', not {mode}\")\n",
    "\n",
    "    temp_sds = (\n",
    "        temp_sds[var]\n",
    "        .sel(run=run)\n",
    "        .sel(\n",
    "            disorder_correlation=disorder_correlation,\n",
    "            num_periods=num_periods,\n",
    "            period=period,\n",
    "            delta=delta,\n",
    "        )\n",
    "        .squeeze()\n",
    "        .load()\n",
    "    )\n",
    "\n",
    "    the_plot_1 = temp_sds.hvplot(x=\"wavelength\", by=\"run\", legend=False, alpha=0.5)\n",
    "\n",
    "    ####\n",
    "    temp_pds = (\n",
    "        temp_pds[var]\n",
    "        .sel(\n",
    "            num_periods=num_periods,\n",
    "            period=period,\n",
    "            excitonic_layer_thickness=excitonic_layer_thickness,\n",
    "        )\n",
    "        .squeeze()\n",
    "        .load()\n",
    "    )\n",
    "\n",
    "    the_plot_2 = (temp_pds.hvplot(x=\"wavelength\") * lorentz_vlines(0, scale=1e-9)).opts(\n",
    "        opts.Curve(\n",
    "            line_dash=\"dashed\",\n",
    "            color=\"black\",\n",
    "            line_width=2,\n",
    "            ylabel=fom_label,\n",
    "        ),\n",
    "        opts.VLine(\n",
    "            line_dash=\"dotted\",\n",
    "            color=yellow,\n",
    "        ),\n",
    "    )\n",
    "\n",
    "    if mode == \"ef\":\n",
    "        the_plot_2 *= hv.HLine(1).opts(opts.HLine(line_dash=\"dotted\", color=\"black\"))\n",
    "\n",
    "    ####\n",
    "    temp_mmds = max_min_pos(\n",
    "        temp_sds.drop_vars(\n",
    "            list(\n",
    "                variable\n",
    "                for variable in temp_sds.variables.keys()\n",
    "                if variable not in [*var, \"run\", \"wavelength\"]\n",
    "            )\n",
    "        ),\n",
    "        var_key=var,\n",
    "        dim=\"wavelength\",\n",
    "    )\n",
    "\n",
    "    the_plot_3 = temp_mmds.hvplot(\n",
    "        kind=\"scatter\",\n",
    "        x=f\"{var[0]}_max_wavelength\",\n",
    "        y=f\"{var[0]}_max\",\n",
    "        by=\"run\",\n",
    "        groupby=[],\n",
    "        alpha=0.5,\n",
    "        marker=\"x\",\n",
    "        size=100,\n",
    "        color=\"gray\",\n",
    "        legend=False,\n",
    "    ).opts(opts.Scatter(line_width=2, xlabel=\"λ (nm)\"))\n",
    "\n",
    "    ####\n",
    "    match mode:\n",
    "        case \"raw\":\n",
    "            # if I'm working with the raw FOMs it's fine to integrate the existing dataset again\n",
    "            temp_sds_int = integrate_da(\n",
    "                temp_sds.sel(wavelength=slice(*wavelength_int_range)),\n",
    "                dim=\"wavelength\",\n",
    "                normalisation=1,\n",
    "            )\n",
    "            temp_pds_int = integrate_da(\n",
    "                temp_pds.sel(wavelength=slice(*wavelength_int_range)),\n",
    "                dim=\"wavelength\",\n",
    "                normalisation=1,\n",
    "            )\n",
    "        case \"ef\":\n",
    "            # if I'm working with the EF then I NEED to go back to the original dataset\n",
    "            # and do the integral before calculating the enhancement factor\n",
    "            with warnings.catch_warnings():\n",
    "                warnings.filterwarnings(\"ignore\", \"invalid value\")\n",
    "                # I can re-use the int_func defined before though\n",
    "                temp_sds_int = (\n",
    "                    int_func(\n",
    "                        singles_ds[var],\n",
    "                        ref=crs_1,\n",
    "                        wavelength=wavelength_int_range,\n",
    "                        assign_high=False,\n",
    "                        assign_low=False,  # don't need to waste CPU cycles computing these\n",
    "                    )\n",
    "                    .sel(run=run)\n",
    "                    .sel(\n",
    "                        disorder_correlation=disorder_correlation,\n",
    "                        num_periods=num_periods,\n",
    "                        period=period,\n",
    "                        delta=delta,\n",
    "                    )\n",
    "                    .squeeze()\n",
    "                    .load()\n",
    "                )\n",
    "                temp_pds_int = (\n",
    "                    int_func(\n",
    "                        periodic_ds[var],\n",
    "                        ref=crs_1,\n",
    "                        wavelength=wavelength_int_range,\n",
    "                        assign_high=False,\n",
    "                        assign_low=False,  # don't need to waste CPU cycles computing these\n",
    "                    )\n",
    "                    .sel(\n",
    "                        num_periods=num_periods,\n",
    "                        period=period,\n",
    "                        excitonic_layer_thickness=excitonic_layer_thickness,\n",
    "                    )\n",
    "                    .squeeze()\n",
    "                    .load()\n",
    "                )\n",
    "\n",
    "    scatter = hv.Scatter(\n",
    "        (\n",
    "            temp_mmds[f\"{var[0]}_max\"],\n",
    "            temp_sds_int[var[0]],\n",
    "        )\n",
    "    ).opts(color=\"gray\")\n",
    "\n",
    "    slope = hv.Slope.from_scatter(scatter).opts(line_dash=\"dashed\")\n",
    "\n",
    "    the_plot_4 = (scatter * slope) * (\n",
    "        (\n",
    "            hv.Scatter(\n",
    "                (\n",
    "                    temp_pds[var[0]].max().data,\n",
    "                    temp_pds_int[var[0]].data,\n",
    "                ),\n",
    "            ).opts(color=red, marker=\"o\", size=10, line_width=2)\n",
    "        ).opts(opts.Scatter(xlabel=f\"Max {fom_label}\", ylabel=f\"{fom_label}_tot\"))\n",
    "    )\n",
    "\n",
    "    ####\n",
    "    # I decided that I don't want violin plots anymore and this is the easiest way of excising them\n",
    "    violin_plots = [\n",
    "        hv.Text(0, 0, \"violin dummy\")\n",
    "    #     plot_func(\n",
    "    #         variable=var_key,\n",
    "    #         dataset=temp_sds_int,\n",
    "    #         kind=\"violin\",\n",
    "    #     )\n",
    "    #     for plot_func, var_key in zip(plot_funcs, var)\n",
    "    ]\n",
    "\n",
    "    box_plots = [\n",
    "        hv.Text(1, 1, \"box dummy\")\n",
    "        # hv.BoxWhisker(\n",
    "        #     [temp_pds_int[var_key].data],\n",
    "        #     label=var_key,\n",
    "        # )\n",
    "        # for var_key in var\n",
    "    ]\n",
    "\n",
    "    the_plot_5 = hv.Layout(\n",
    "        [violin * box for violin, box in zip(violin_plots, box_plots)]\n",
    "    ).opts(opts.BoxWhisker(whisker_line_width=2), opts.Violin(ylabel=\"\"))\n",
    "\n",
    "    ####\n",
    "    temp_stats_ds = (\n",
    "        temp_stats_ds.drop_dims(\"layer_number\")\n",
    "        .sel(\n",
    "            disorder_correlation=disorder_correlation,\n",
    "            num_periods=num_periods,\n",
    "            period=period,\n",
    "            delta=delta,\n",
    "        )\n",
    "        .squeeze()\n",
    "    )\n",
    "\n",
    "    the_plot_6 = hv.Overlay(\n",
    "        [\n",
    "            plot_func(\n",
    "                variable=f\"{var_key}_mean\",\n",
    "                dataset=temp_stats_ds,\n",
    "                x=\"wavelength\",\n",
    "                legend=False,\n",
    "            )\n",
    "            for plot_func, var_key in zip(plot_funcs, var)\n",
    "        ]\n",
    "    ).opts(opts.Overlay(show_legend=False))\n",
    "\n",
    "    ####\n",
    "    the_plot_7 = hv.Overlay(\n",
    "        [\n",
    "            temp_stats_ds.hvplot.area(\n",
    "                x=\"wavelength\",\n",
    "                y=f\"{var_key}_low\",\n",
    "                y2=f\"{var_key}_high\",\n",
    "                color=\"gray\",\n",
    "                alpha=0.2,\n",
    "            )\n",
    "            for var_key in var\n",
    "        ]\n",
    "    )\n",
    "\n",
    "    return (\n",
    "        the_plot_1,\n",
    "        the_plot_2,\n",
    "        the_plot_3,\n",
    "        the_plot_4,\n",
    "        the_plot_5,\n",
    "        the_plot_6,\n",
    "        the_plot_7,\n",
    "    )"
   ]
  },
  {
   "cell_type": "code",
   "execution_count": null,
   "id": "265a6bf7-4544-4cca-876b-8955aab53af9",
   "metadata": {
    "tags": []
   },
   "outputs": [],
   "source": [
    "def wrapped_plot_singles(\n",
    "    variable,\n",
    "    disorder_correlation,\n",
    "    period,\n",
    "    num_periods,\n",
    "    delta,\n",
    "    theta,\n",
    "    integrate_angle,\n",
    "    mode,\n",
    "    run=slice(0, 1),\n",
    "    wavelength_int_range=(None, None),\n",
    "    save_figs=False,\n",
    "):\n",
    "    display_plots = []\n",
    "    var = [variable]\n",
    "\n",
    "    with warnings.catch_warnings():\n",
    "        warnings.filterwarnings(\"ignore\", \"divide\")\n",
    "        the_plots = plot_singles(\n",
    "            var=var,\n",
    "            run=run,\n",
    "            disorder_correlation=disorder_correlation,\n",
    "            num_periods=num_periods,\n",
    "            period=period,\n",
    "            delta=delta,\n",
    "            theta=theta,\n",
    "            integrate_angle=integrate_angle,\n",
    "            mode=mode,\n",
    "            wavelength_int_range=wavelength_int_range,\n",
    "        )\n",
    "\n",
    "        overlay_1 = (\n",
    "            hv.Overlay(the_plots[:3])\n",
    "            .select(run=slice(0, 8))\n",
    "            .opts(opts.Scatter(alpha=1), clone=True)\n",
    "        )\n",
    "        display_plots.append(overlay_1)\n",
    "\n",
    "        overlay_2 = hv.Overlay([the_plots[2], *the_plots[5:], the_plots[1]]).opts(\n",
    "            opts.Curve(\n",
    "                xlim=(480, 880), ylim=(None, None)\n",
    "            )  # I don't understand why this is needed but otherwise the ylim defaults to (0, 1)\n",
    "        )\n",
    "        display_plots.append(overlay_2)\n",
    "\n",
    "        max_vs_integral = the_plots[3].opts(opts.Scatter(apply_ranges=True))\n",
    "        display_plots.append(max_vs_integral)\n",
    "\n",
    "        # violin_plot = the_plots[4]\n",
    "        # display(violin_plot)\n",
    "\n",
    "        if save_figs:\n",
    "            P = period\n",
    "            elt = 50\n",
    "            N = num_periods\n",
    "            D = delta\n",
    "            disorder_code = disorder_correlation[0]\n",
    "            D = str(delta).replace(\".\", \"\")\n",
    "\n",
    "            hv.save(\n",
    "                overlay_1,\n",
    "                filename=fig_path\n",
    "                / f\"{var[0]}_DLOPC_runcurve_wl_P{P}_elt{elt}_N{N}_th{theta}_D{D}{disorder_code}\",\n",
    "                fmt=\"png\",\n",
    "                toolbar=False,\n",
    "            )\n",
    "\n",
    "            hv.save(\n",
    "                overlay_2,\n",
    "                filename=fig_path\n",
    "                / f\"{var[0]}_DLOPC_meancurve_wl_P{P}_elt{elt}_N{N}_th{theta}_D{D}{disorder_code}\",\n",
    "                fmt=\"png\",\n",
    "                toolbar=False,\n",
    "            )\n",
    "\n",
    "            hv.save(\n",
    "                max_vs_integral,\n",
    "                filename=fig_path\n",
    "                / f\"{var[0]}_DLOPC_max_vs_tot_P{P}_elt{elt}_N{N}_th{theta}_D{D}{disorder_code}\",\n",
    "                fmt=\"png\",\n",
    "                toolbar=False,\n",
    "            )\n",
    "\n",
    "    return hv.Layout(display_plots).cols(1)"
   ]
  },
  {
   "cell_type": "code",
   "execution_count": null,
   "id": "3e9d61be-60af-4ee0-94f0-ccfb8544031e",
   "metadata": {
    "tags": []
   },
   "outputs": [],
   "source": [
    "def plot_curve_max_min(dataset, variable, dim=\"wavelength\", **hvplot_kwargs):\n",
    "    \"\"\"\n",
    "    Scatter plot of max or min points on Curve.\n",
    "    \"\"\"\n",
    "    default_hvplot_kwargs = dict(\n",
    "        kind=\"scatter\",\n",
    "        x=f\"{variable}_max_{dim}\",\n",
    "        y=f\"{variable}_max\",\n",
    "        by=[\"run\"],\n",
    "        groupby=[],\n",
    "        alpha=1,\n",
    "        marker=\"o\",\n",
    "        size=100,\n",
    "        color=blue,\n",
    "        legend=False,\n",
    "    )\n",
    "\n",
    "    hvplot_kwargs = default_hvplot_kwargs|hvplot_kwargs\n",
    "    \n",
    "    temp_mmds = max_min_pos(\n",
    "        dataset.drop_vars(\n",
    "            list(\n",
    "                var\n",
    "                for var in dataset.variables.keys()\n",
    "                if var not in [variable, dim, *hvplot_kwargs[\"by\"], *hvplot_kwargs[\"groupby\"]]\n",
    "            )\n",
    "        ),\n",
    "        var_key=variable,\n",
    "        dim=dim,\n",
    "    )\n",
    "\n",
    "    the_plot = temp_mmds.hvplot(**hvplot_kwargs)\n",
    "    \n",
    "    return the_plot"
   ]
  },
  {
   "cell_type": "code",
   "execution_count": null,
   "id": "b21f2b18-e64b-4489-a451-935a8a23c2de",
   "metadata": {
    "tags": []
   },
   "outputs": [],
   "source": [
    "def sel_slice_or_nearest(ds, dim, val):\n",
    "    match val:\n",
    "        case None:\n",
    "            pass\n",
    "        case _:\n",
    "            try:\n",
    "                ds = ds.sel(**{dim: val})\n",
    "            except KeyError:\n",
    "                ds = ds.sel(**{dim: val}, method=\"nearest\")\n",
    "    return ds"
   ]
  },
  {
   "cell_type": "code",
   "execution_count": null,
   "id": "90e79970-9c84-4fe0-aaac-fc4fd21e38f4",
   "metadata": {
    "tags": []
   },
   "outputs": [],
   "source": [
    "def set_of_strings(str_or_container):\n",
    "    if isinstance(str_or_container, str):\n",
    "        return {str_or_container}\n",
    "    else:\n",
    "        return set(str_or_container)"
   ]
  },
  {
   "cell_type": "code",
   "execution_count": null,
   "id": "cdbf8bbd-c71f-4fbc-836d-678b4cfaaca0",
   "metadata": {
    "tags": []
   },
   "outputs": [],
   "source": [
    "def compare_integrated_stats(\n",
    "    variable,\n",
    "    disorder_correlation=None,\n",
    "    num_periods=None,\n",
    "    period=None,\n",
    "    delta=None,\n",
    "    excitonic_layer_thickness=50,\n",
    "    wavelength=None,\n",
    "    lorentz_line=0,\n",
    "    window_radius=0,\n",
    "    theta=0,\n",
    "    integrate_angle=None,\n",
    "    normalisation=1,\n",
    "    include=[\"DLOPC\", \"CRS\"],\n",
    "    color_cycle=default_color_cycle,\n",
    "    dash_cycle=default_dash_cycle,\n",
    "    mode=\"raw\",\n",
    "    **hvplot_kwargs,\n",
    "):\n",
    "    plots = []\n",
    "\n",
    "    match mode:\n",
    "        case \"raw\":\n",
    "            ds = restacked_stats_ds[f\"{variable}_mean\"]\n",
    "            for dim, val in zip(\n",
    "                [\n",
    "                    \"disorder_correlation\",\n",
    "                    \"num_periods\",\n",
    "                    \"period\",\n",
    "                    \"delta\",\n",
    "                    \"excitonic_layer_thickness\",\n",
    "                ],\n",
    "                [\n",
    "                    disorder_correlation,\n",
    "                    num_periods,\n",
    "                    period,\n",
    "                    delta,\n",
    "                    excitonic_layer_thickness,\n",
    "                ],\n",
    "            ):\n",
    "                ds = sel_slice_or_nearest(ds, dim, val)\n",
    "            ds = cross_section(\n",
    "                ds,\n",
    "                wavelength=wavelength,\n",
    "                lorentz_line=lorentz_line,\n",
    "                window_radius=window_radius,\n",
    "                theta=theta,\n",
    "                integrate_angle=integrate_angle,\n",
    "                normalisation=normalisation,\n",
    "            )\n",
    "            fom_label = variable\n",
    "        case \"ef\":\n",
    "            with warnings.catch_warnings():\n",
    "                warnings.filterwarnings(\"ignore\", \"invalid value\")\n",
    "                int_func = partial(\n",
    "                    restacked_ief,\n",
    "                    ref=crs_1_stats_norm,\n",
    "                    common_dim=\"total_excitonic_thickness\",\n",
    "                    method=\"vectorized_indexing\",\n",
    "                    wavelength=wavelength,\n",
    "                    lorentz_line=lorentz_line,\n",
    "                    window_radius=window_radius,\n",
    "                    theta=theta,\n",
    "                    integrate_angle=integrate_angle,\n",
    "                )\n",
    "                ds = stats_ds\n",
    "                ds = restacked_ief(\n",
    "                    ds,\n",
    "                    ref=crs_1_stats_norm,\n",
    "                    common_dim=\"total_excitonic_thickness\",\n",
    "                    method=\"vectorized_indexing\",\n",
    "                    wavelength=wavelength,\n",
    "                    lorentz_line=lorentz_line,\n",
    "                    window_radius=window_radius,\n",
    "                    theta=theta,\n",
    "                    integrate_angle=integrate_angle,\n",
    "                )\n",
    "                ds = ds[f\"{variable}_mean\"]\n",
    "                for dim, val in zip(\n",
    "                    [\n",
    "                        \"disorder_correlation\",\n",
    "                        \"num_periods\",\n",
    "                        \"period\",\n",
    "                        \"delta\",\n",
    "                        \"excitonic_layer_thickness\",\n",
    "                    ],\n",
    "                    [\n",
    "                        disorder_correlation,\n",
    "                        num_periods,\n",
    "                        period,\n",
    "                        delta,\n",
    "                        excitonic_layer_thickness,\n",
    "                    ],\n",
    "                ):\n",
    "                    ds = sel_slice_or_nearest(ds, dim, val)\n",
    "                ds = ds.compute()\n",
    "            fom_label = f\"γ{variable}\"\n",
    "        case _:\n",
    "            raise NotImplementedError(\n",
    "                f\"valid options for mode are 'raw' or 'ef', not {mode}\"\n",
    "            )\n",
    "\n",
    "    ds = ds.squeeze()\n",
    "\n",
    "    if \"DLOPC\" in include:\n",
    "        plots.append(\n",
    "            ds.hvplot(**hvplot_kwargs).opts(\n",
    "                opts.Curve(ylabel=fom_label, color=color_cycle, line_dash=dash_cycle)\n",
    "            )\n",
    "        )\n",
    "\n",
    "    if \"CRS\" in include:\n",
    "        match mode:\n",
    "            case \"raw\":\n",
    "                temp_crs = crs_1[variable].assign_coords(\n",
    "                    {\n",
    "                        \"num_periods\": lambda x: x.total_excitonic_thickness\n",
    "                        / excitonic_layer_thickness\n",
    "                    }\n",
    "                )\n",
    "                temp_crs = temp_crs.swap_dims(total_excitonic_thickness=\"num_periods\")\n",
    "                temp_crs = sel_slice_or_nearest(temp_crs, \"num_periods\", num_periods)\n",
    "                temp_crs = cross_section(\n",
    "                    temp_crs,\n",
    "                    wavelength=wavelength,\n",
    "                    lorentz_line=lorentz_line,\n",
    "                    window_radius=window_radius,\n",
    "                    theta=theta,\n",
    "                    integrate_angle=integrate_angle,\n",
    "                    normalisation=normalisation,\n",
    "                )\n",
    "                temp_crs = temp_crs.squeeze()\n",
    "\n",
    "                # only pass kwargs to hvplot if they're relevant to the CRS\n",
    "                filtered_kwargs = {\n",
    "                    k: v\n",
    "                    for k, v in hvplot_kwargs.items()\n",
    "                    if set_of_strings(v).issubset(temp_crs.coords.keys())\n",
    "                }\n",
    "\n",
    "                plots.append(\n",
    "                    temp_crs.hvplot(**filtered_kwargs).opts(\n",
    "                        opts.Curve(color=\"black\", line_dash=\"dotted\")\n",
    "                    )\n",
    "                )\n",
    "            case \"ef\":\n",
    "                plots.append(\n",
    "                    hv.HLine(1).opts(\n",
    "                        opts.HLine(color=\"black\", line_dash=\"dotted\", apply_ranges=True)\n",
    "                    )\n",
    "                )\n",
    "\n",
    "    return hv.Overlay(plots)"
   ]
  },
  {
   "cell_type": "code",
   "execution_count": null,
   "id": "8a205668-62a4-44b1-a22d-79fc9602ccf9",
   "metadata": {
    "tags": []
   },
   "outputs": [],
   "source": [
    "def compare_integrated_stats(\n",
    "    variable,\n",
    "    disorder_correlation=None,\n",
    "    num_periods=None,\n",
    "    period=None,\n",
    "    delta=None,\n",
    "    excitonic_layer_thickness=50,\n",
    "    wavelength=None,\n",
    "    lorentz_line=0,\n",
    "    window_radius=0,\n",
    "    theta=0,\n",
    "    integrate_angle=None,\n",
    "    normalisation=1,\n",
    "    include=[\"DLOPC\", \"CRS\"],\n",
    "    color_cycle=default_color_cycle,\n",
    "    dash_cycle=default_dash_cycle,\n",
    "    mode=\"raw\",\n",
    "    include_std=False,\n",
    "    **hvplot_kwargs,\n",
    "):\n",
    "    plots = []\n",
    "\n",
    "    match mode:\n",
    "        case \"raw\":\n",
    "            ds = restacked_stats_ds\n",
    "            for dim, val in zip(\n",
    "                [\n",
    "                    \"disorder_correlation\",\n",
    "                    \"num_periods\",\n",
    "                    \"period\",\n",
    "                    \"delta\",\n",
    "                    \"excitonic_layer_thickness\",\n",
    "                ],\n",
    "                [\n",
    "                    disorder_correlation,\n",
    "                    num_periods,\n",
    "                    period,\n",
    "                    delta,\n",
    "                    excitonic_layer_thickness,\n",
    "                ],\n",
    "            ):\n",
    "                ds = sel_slice_or_nearest(ds, dim, val)\n",
    "            ds = cross_section(\n",
    "                ds,\n",
    "                wavelength=wavelength,\n",
    "                lorentz_line=lorentz_line,\n",
    "                window_radius=window_radius,\n",
    "                theta=theta,\n",
    "                integrate_angle=integrate_angle,\n",
    "                normalisation=normalisation,\n",
    "            )\n",
    "            fom_label = variable\n",
    "        case \"ef\":\n",
    "            with warnings.catch_warnings():\n",
    "                warnings.filterwarnings(\"ignore\", \"invalid value\")\n",
    "                int_func = partial(\n",
    "                    restacked_ief,\n",
    "                    ref=crs_1_stats_norm,\n",
    "                    common_dim=\"total_excitonic_thickness\",\n",
    "                    method=\"vectorized_indexing\",\n",
    "                    wavelength=wavelength,\n",
    "                    lorentz_line=lorentz_line,\n",
    "                    window_radius=window_radius,\n",
    "                    theta=theta,\n",
    "                    integrate_angle=integrate_angle,\n",
    "                )\n",
    "                ds = stats_ds\n",
    "                ds = restacked_ief(\n",
    "                    ds,\n",
    "                    ref=crs_1_stats_norm,\n",
    "                    common_dim=\"total_excitonic_thickness\",\n",
    "                    method=\"vectorized_indexing\",\n",
    "                    wavelength=wavelength,\n",
    "                    lorentz_line=lorentz_line,\n",
    "                    window_radius=window_radius,\n",
    "                    theta=theta,\n",
    "                    integrate_angle=integrate_angle,\n",
    "                    assign_high=include_std,\n",
    "                    assign_low=include_std,\n",
    "                )\n",
    "                ds = ds\n",
    "                for dim, val in zip(\n",
    "                    [\n",
    "                        \"disorder_correlation\",\n",
    "                        \"num_periods\",\n",
    "                        \"period\",\n",
    "                        \"delta\",\n",
    "                        \"excitonic_layer_thickness\",\n",
    "                    ],\n",
    "                    [\n",
    "                        disorder_correlation,\n",
    "                        num_periods,\n",
    "                        period,\n",
    "                        delta,\n",
    "                        excitonic_layer_thickness,\n",
    "                    ],\n",
    "                ):\n",
    "                    ds = sel_slice_or_nearest(ds, dim, val)\n",
    "                # ds = ds.compute()\n",
    "            fom_label = f\"γ{variable}\"\n",
    "        case _:\n",
    "            raise NotImplementedError(\n",
    "                f\"valid options for mode are 'raw' or 'ef', not {mode}\"\n",
    "            )\n",
    "\n",
    "    ds = ds.squeeze()\n",
    "\n",
    "    if \"DLOPC\" in include:\n",
    "        plots.append(\n",
    "            ds[f\"{variable}_mean\"].hvplot.line(**hvplot_kwargs).opts(\n",
    "                opts.Curve(ylabel=fom_label, color=color_cycle, line_dash=dash_cycle)\n",
    "            )\n",
    "        )\n",
    "        \n",
    "        if include_std:\n",
    "            plots.append(\n",
    "            ds.hvplot.area(y=f\"{variable}_low\", y2=f\"{variable}_high\", **hvplot_kwargs).opts(\n",
    "                opts.Area(ylabel=fom_label, color=color_cycle, line_dash=dash_cycle, alpha=0.2)\n",
    "            )\n",
    "        )\n",
    "\n",
    "    if \"CRS\" in include:\n",
    "        match mode:\n",
    "            case \"raw\":\n",
    "                temp_crs = crs_1[variable].assign_coords(\n",
    "                    {\n",
    "                        \"num_periods\": lambda x: x.total_excitonic_thickness\n",
    "                        / excitonic_layer_thickness\n",
    "                    }\n",
    "                )\n",
    "                temp_crs = temp_crs.swap_dims(total_excitonic_thickness=\"num_periods\")\n",
    "                temp_crs = sel_slice_or_nearest(temp_crs, \"num_periods\", num_periods)\n",
    "                temp_crs = cross_section(\n",
    "                    temp_crs,\n",
    "                    wavelength=wavelength,\n",
    "                    lorentz_line=lorentz_line,\n",
    "                    window_radius=window_radius,\n",
    "                    theta=theta,\n",
    "                    integrate_angle=integrate_angle,\n",
    "                    normalisation=normalisation,\n",
    "                )\n",
    "                temp_crs = temp_crs.squeeze()\n",
    "\n",
    "                # only pass kwargs to hvplot if they're relevant to the CRS\n",
    "                filtered_kwargs = {\n",
    "                    k: v\n",
    "                    for k, v in hvplot_kwargs.items()\n",
    "                    if set_of_strings(v).issubset(temp_crs.coords.keys())\n",
    "                }\n",
    "\n",
    "                plots.append(\n",
    "                    temp_crs.hvplot(**filtered_kwargs).opts(\n",
    "                        opts.Curve(color=\"black\", line_dash=\"dotted\")\n",
    "                    )\n",
    "                )\n",
    "            case \"ef\":\n",
    "                plots.append(\n",
    "                    hv.HLine(1).opts(\n",
    "                        opts.HLine(color=\"black\", line_dash=\"dotted\", apply_ranges=True)\n",
    "                    )\n",
    "                )\n",
    "\n",
    "    return hv.Overlay(plots)"
   ]
  },
  {
   "cell_type": "code",
   "execution_count": null,
   "id": "e4805342-55e7-4f8d-89ed-fb5d2a969f6b",
   "metadata": {
    "tags": []
   },
   "outputs": [],
   "source": [
    "def compare_integrated_singles(\n",
    "    variable,\n",
    "    disorder_correlation=None,\n",
    "    num_periods=None,\n",
    "    period=None,\n",
    "    delta=None,\n",
    "    run=None,\n",
    "    excitonic_layer_thickness=50,\n",
    "    wavelength=None,\n",
    "    lorentz_line=0,\n",
    "    window_radius=0,\n",
    "    theta=0,\n",
    "    integrate_angle=None,\n",
    "    normalisation=1,\n",
    "    include=[\"DLOPC\", \"CRS\"],\n",
    "    color_cycle=default_color_cycle,\n",
    "    dash_cycle=default_dash_cycle,\n",
    "    mode=\"raw\",\n",
    "    maximise=None,\n",
    "    **hvplot_kwargs,\n",
    "):\n",
    "    plots = []\n",
    "\n",
    "    match mode:\n",
    "        case \"raw\":\n",
    "            ds = restacked_sds[variable]\n",
    "            for dim, val in zip(\n",
    "                [\n",
    "                    \"disorder_correlation\",\n",
    "                    \"num_periods\",\n",
    "                    \"period\",\n",
    "                    \"delta\",\n",
    "                    \"run\",\n",
    "                    \"excitonic_layer_thickness\",\n",
    "                ],\n",
    "                [\n",
    "                    disorder_correlation,\n",
    "                    num_periods,\n",
    "                    period,\n",
    "                    delta,\n",
    "                    run,\n",
    "                    excitonic_layer_thickness,\n",
    "                ],\n",
    "            ):\n",
    "                ds = sel_slice_or_nearest(ds, dim, val)\n",
    "            ds = cross_section(\n",
    "                ds,\n",
    "                wavelength=wavelength,\n",
    "                lorentz_line=lorentz_line,\n",
    "                window_radius=window_radius,\n",
    "                theta=theta,\n",
    "                integrate_angle=integrate_angle,\n",
    "                normalisation=normalisation,\n",
    "            )\n",
    "            \n",
    "            if maximise is not None:\n",
    "                ds = ds.max(dim=maximise)\n",
    "            \n",
    "            fom_label = variable\n",
    "        case \"ef\":\n",
    "            with warnings.catch_warnings():\n",
    "                warnings.filterwarnings(\"ignore\", \"invalid value\")\n",
    "                ds = singles_ds\n",
    "                ds = restacked_ief(\n",
    "                    ds,\n",
    "                    ref=crs_1,\n",
    "                    common_dim=\"total_excitonic_thickness\",\n",
    "                    method=\"vectorized_indexing\",\n",
    "                    wavelength=wavelength,\n",
    "                    lorentz_line=lorentz_line,\n",
    "                    window_radius=window_radius,\n",
    "                    theta=theta,\n",
    "                    integrate_angle=integrate_angle,\n",
    "                )\n",
    "                ds = ds[f\"{variable}\"]\n",
    "                for dim, val in zip(\n",
    "                    [\n",
    "                        \"disorder_correlation\",\n",
    "                        \"num_periods\",\n",
    "                        \"period\",\n",
    "                        \"delta\",\n",
    "                        \"run\",\n",
    "                        \"excitonic_layer_thickness\",\n",
    "                    ],\n",
    "                    [\n",
    "                        disorder_correlation,\n",
    "                        num_periods,\n",
    "                        period,\n",
    "                        delta,\n",
    "                        run,\n",
    "                        excitonic_layer_thickness,\n",
    "                    ],\n",
    "                ):\n",
    "                    ds = sel_slice_or_nearest(ds, dim, val)\n",
    "                \n",
    "                if maximise is not None:\n",
    "                    ds = ds.max(dim=maximise)\n",
    "                ds = ds.compute()\n",
    "            fom_label = f\"γ{variable}\"\n",
    "        case _:\n",
    "            raise NotImplementedError(\n",
    "                f\"valid options for mode are 'raw' or 'ef', not {mode}\"\n",
    "            )\n",
    "\n",
    "    ds = ds.squeeze()\n",
    "\n",
    "    if \"DLOPC\" in include:\n",
    "        plots.append(\n",
    "            ds.hvplot(**hvplot_kwargs).opts(\n",
    "                opts.Curve(ylabel=fom_label, color=color_cycle, line_dash=dash_cycle)\n",
    "            )\n",
    "        )\n",
    "\n",
    "    if \"CRS\" in include:\n",
    "        match mode:\n",
    "            case \"raw\":\n",
    "                temp_crs = crs_1[variable].assign_coords(\n",
    "                    {\n",
    "                        \"num_periods\": lambda x: x.total_excitonic_thickness\n",
    "                        / excitonic_layer_thickness\n",
    "                    }\n",
    "                )\n",
    "                temp_crs = temp_crs.swap_dims(total_excitonic_thickness=\"num_periods\")\n",
    "                temp_crs = sel_slice_or_nearest(temp_crs, \"num_periods\", num_periods)\n",
    "                temp_crs = cross_section(\n",
    "                    temp_crs,\n",
    "                    wavelength=wavelength,\n",
    "                    lorentz_line=lorentz_line,\n",
    "                    window_radius=window_radius,\n",
    "                    theta=theta,\n",
    "                    integrate_angle=integrate_angle,\n",
    "                    normalisation=normalisation,\n",
    "                )\n",
    "                temp_crs = temp_crs.squeeze()\n",
    "\n",
    "                # only pass kwargs to hvplot if they're relevant to the CRS\n",
    "                filtered_kwargs = {\n",
    "                    k: v\n",
    "                    for k, v in hvplot_kwargs.items()\n",
    "                    if set_of_strings(v).issubset(temp_crs.coords.keys())\n",
    "                }\n",
    "\n",
    "                plots.append(\n",
    "                    temp_crs.hvplot(**filtered_kwargs).opts(\n",
    "                        opts.Curve(color=\"black\", line_dash=\"dotted\")\n",
    "                    )\n",
    "                )\n",
    "            case \"ef\":\n",
    "                plots.append(\n",
    "                    hv.HLine(1).opts(\n",
    "                        opts.HLine(color=\"black\", line_dash=\"dotted\", apply_ranges=True)\n",
    "                    )\n",
    "                )\n",
    "\n",
    "    return hv.Overlay(plots)"
   ]
  },
  {
   "cell_type": "markdown",
   "id": "760c7f51-33a4-4263-a0d5-a63cdc7c4fa1",
   "metadata": {
    "tags": []
   },
   "source": [
    "# Plot!"
   ]
  },
  {
   "cell_type": "code",
   "execution_count": null,
   "id": "f7011088-953f-43c3-aca9-dee4da0d32c2",
   "metadata": {
    "tags": []
   },
   "outputs": [],
   "source": [
    "# restacked_norm_1(aggregated_ds)[\"A\"].sel(\n",
    "#     period=210, excitonic_layer_thickness=20, num_periods=5, theta=0\n",
    "# ).squeeze().hvplot(x=\"wavelength\", groupby=[\"disorder_correlation\", \"delta\"])"
   ]
  },
  {
   "cell_type": "code",
   "execution_count": null,
   "id": "db596de3-6072-43ba-806c-dfb68353291c",
   "metadata": {
    "tags": []
   },
   "outputs": [],
   "source": [
    "# the_plot = restacked_norm_1(aggregated_ds)[\"A\"].sel(\n",
    "#     period=210, excitonic_layer_thickness=20, num_periods=5, theta=0\n",
    "# ).squeeze().hvplot(x=\"wavelength\", y=\"delta\", row=\"disorder_correlation\")"
   ]
  },
  {
   "cell_type": "code",
   "execution_count": null,
   "id": "d07abe38-8f19-4d51-af5e-8c5423672f1e",
   "metadata": {
    "tags": []
   },
   "outputs": [],
   "source": [
    "# the_plot.opts(opts.Image(cmap=\"RdBu_r\"))"
   ]
  },
  {
   "cell_type": "code",
   "execution_count": null,
   "id": "df78d4f2-e604-492e-ae45-bc8856d11ede",
   "metadata": {
    "tags": []
   },
   "outputs": [],
   "source": [
    "# the_plot = restack_plt_to_period(aggregated_ds)[\"R\"].sel(\n",
    "#     period=210, excitonic_layer_thickness=20, num_periods=5, theta=0\n",
    "# ).squeeze().hvplot(x=\"wavelength\", y=\"delta\", row=\"disorder_correlation\")"
   ]
  },
  {
   "cell_type": "code",
   "execution_count": null,
   "id": "6751d941-0205-4379-876c-d2d164a74770",
   "metadata": {
    "tags": []
   },
   "outputs": [],
   "source": [
    "# the_plot.opts(opts.Image(cmap=\"viridis\"))"
   ]
  },
  {
   "cell_type": "code",
   "execution_count": null,
   "id": "6ca298b6-6474-4b42-b44b-2715e1c3e75e",
   "metadata": {
    "tags": []
   },
   "outputs": [],
   "source": [
    "the_plot = restack_plt_to_period(aggregated_ds)[\"R\"].sel(\n",
    "    period=210, excitonic_layer_thickness=20, theta=0\n",
    ").squeeze().hvplot(x=\"wavelength\", groupby=[\"delta\", \"disorder_correlation\", \"num_periods\"])"
   ]
  },
  {
   "cell_type": "code",
   "execution_count": null,
   "id": "bcf41da5-7336-435d-8c57-570706787315",
   "metadata": {
    "tags": []
   },
   "outputs": [],
   "source": [
    "the_plot"
   ]
  },
  {
   "cell_type": "code",
   "execution_count": null,
   "id": "fd678853-f3a4-4716-b1db-34cd22af2dd9",
   "metadata": {
    "tags": []
   },
   "outputs": [],
   "source": [
    "the_plot = restack_plt_to_period(aggregated_ds)[\"A\"].sel(\n",
    "    period=210, excitonic_layer_thickness=20, num_periods=5,\n",
    ").squeeze().integrate(\"wavelength\").hvplot(x=\"theta\", by=[\"disorder_correlation\", \"delta\"])"
   ]
  },
  {
   "cell_type": "code",
   "execution_count": null,
   "id": "f235baac-8fbc-40da-b83e-d48e4458ec0f",
   "metadata": {
    "tags": []
   },
   "outputs": [],
   "source": [
    "the_plot.opts(opts.Curve())"
   ]
  },
  {
   "cell_type": "code",
   "execution_count": null,
   "id": "2eadf737-860a-46fb-94a2-9005e565f9f6",
   "metadata": {
    "tags": []
   },
   "outputs": [],
   "source": [
    "the_plot = integrate_da(\n",
    "    restack_plt_to_period(stats_ds)[\"A_mean\"]\n",
    "    .sel(\n",
    "        period=200,\n",
    "        num_periods=5,\n",
    "    )\n",
    "    .squeeze(),\n",
    "    dim=\"wavelength\",\n",
    "    normalisation=1,\n",
    ").hvplot(x=\"theta\", by=[\"disorder_correlation\", \"delta\"])"
   ]
  },
  {
   "cell_type": "code",
   "execution_count": null,
   "id": "035b5311-cd88-47f8-8351-544da4391b3b",
   "metadata": {
    "tags": []
   },
   "outputs": [],
   "source": [
    "the_plot_2 = integrate_da(\n",
    "    crs_1_stats_norm[\"A_mean\"].sel(total_excitonic_thickness=250),\n",
    "    dim=\"wavelength\",\n",
    "    normalisation=1,\n",
    ").hvplot(x=\"theta\", line_color=\"black\", line_dash=\"dashed\")"
   ]
  },
  {
   "cell_type": "code",
   "execution_count": null,
   "id": "bbd6f55e-7393-4f51-944e-28163e4a213e",
   "metadata": {
    "tags": []
   },
   "outputs": [],
   "source": [
    "(the_plot*the_plot_2).opts(opts.Overlay(legend_cols=2))"
   ]
  },
  {
   "cell_type": "code",
   "execution_count": null,
   "id": "cf476442-e5bb-42ca-ad8e-5df7ce28d0b8",
   "metadata": {
    "tags": []
   },
   "outputs": [],
   "source": [
    "the_plot = restack_plt_to_period(stats_ds)[\"A_mean\"].sel(\n",
    "    period=300, num_periods=5,\n",
    ").squeeze().integrate(\"wavelength\").hvplot(x=\"theta\", by=[\"disorder_correlation\", \"delta\"])"
   ]
  },
  {
   "cell_type": "code",
   "execution_count": null,
   "id": "5feefc86-a9fd-45fb-91f8-8a79c676ffba",
   "metadata": {
    "tags": []
   },
   "outputs": [],
   "source": [
    "the_plot.opts(opts.Curve())"
   ]
  },
  {
   "cell_type": "code",
   "execution_count": null,
   "id": "ceb0f895-e135-4183-aca8-b1859fb38b7a",
   "metadata": {
    "tags": []
   },
   "outputs": [],
   "source": [
    "the_plot = restack_plt_to_period(stats_ds)[\"A_mean\"].sel(\n",
    "    period=200, num_periods=5, theta=0\n",
    ").squeeze().hvplot(x=\"wavelength\", by=\"delta\", row=\"disorder_correlation\")"
   ]
  },
  {
   "cell_type": "code",
   "execution_count": null,
   "id": "713c8510-8627-4ef4-b39d-3a415a573c02",
   "metadata": {
    "tags": []
   },
   "outputs": [],
   "source": [
    "the_plot.opts(opts.Curve())"
   ]
  },
  {
   "cell_type": "code",
   "execution_count": null,
   "id": "e0f6a96b-603f-4a04-8489-fa916d492ae7",
   "metadata": {
    "tags": []
   },
   "outputs": [],
   "source": [
    "the_plot = restacked_norm_1_stats(stats_ds)[\"A_mean\"].sel(\n",
    "    period=100, num_periods=5, theta=0, disorder_correlation=\"correlated\"\n",
    ").squeeze().hvplot(x=\"wavelength\", by=\"delta\")"
   ]
  },
  {
   "cell_type": "code",
   "execution_count": null,
   "id": "27a3b186-3f19-45f3-b332-1eacf9de6496",
   "metadata": {
    "tags": []
   },
   "outputs": [],
   "source": [
    "the_plot.opts(opts.Curve())"
   ]
  },
  {
   "cell_type": "code",
   "execution_count": null,
   "id": "d58bbc75-4cf6-4205-8267-10bc1b376e98",
   "metadata": {
    "tags": []
   },
   "outputs": [],
   "source": [
    "the_plot = restacked_norm_1_stats(stats_ds)[\"A_mean\"].sel(\n",
    "    period=200, num_periods=5, theta=0, disorder_correlation=\"correlated\"\n",
    ").squeeze().hvplot(x=\"wavelength\", by=\"delta\")"
   ]
  },
  {
   "cell_type": "code",
   "execution_count": null,
   "id": "e9bd0879-8b3f-4fa6-b982-391e9eb9b4b0",
   "metadata": {
    "tags": []
   },
   "outputs": [],
   "source": [
    "the_plot.opts(opts.Curve())"
   ]
  },
  {
   "cell_type": "code",
   "execution_count": null,
   "id": "e377da56-1b54-4f8d-b933-b48db5cdec66",
   "metadata": {
    "tags": []
   },
   "outputs": [],
   "source": [
    "the_plot = restacked_stats_ds[\"R_mean\"].sel(\n",
    "    period=200, num_periods=5, theta=0, disorder_correlation=\"correlated\"\n",
    ").squeeze().hvplot(x=\"wavelength\", by=\"delta\")"
   ]
  },
  {
   "cell_type": "code",
   "execution_count": null,
   "id": "1bb0ac8c-9c40-4931-aff8-266c124e7697",
   "metadata": {
    "tags": []
   },
   "outputs": [],
   "source": [
    "the_plot.opts(opts.Curve())"
   ]
  },
  {
   "cell_type": "code",
   "execution_count": null,
   "id": "9cabe212-9dd6-4a2d-af15-aafe96842d16",
   "metadata": {
    "tags": []
   },
   "outputs": [],
   "source": [
    "the_plot = restacked_norm_1_stats(stats_ds)[\"A_mean\"].sel(\n",
    "    period=200, num_periods=50, theta=0, disorder_correlation=\"correlated\"\n",
    ").squeeze().hvplot(x=\"wavelength\", by=\"delta\")"
   ]
  },
  {
   "cell_type": "code",
   "execution_count": null,
   "id": "81300869-5b6d-427f-86a8-cba178341900",
   "metadata": {
    "tags": []
   },
   "outputs": [],
   "source": [
    "the_plot.opts(opts.Curve())"
   ]
  },
  {
   "cell_type": "code",
   "execution_count": null,
   "id": "0608ecab-bf3a-442d-80d0-d2c3b8f56e62",
   "metadata": {
    "tags": []
   },
   "outputs": [],
   "source": [
    "the_plot = restacked_norm_1_stats(stats_ds)[\"A_mean\"].sel(\n",
    "    period=300, num_periods=5, theta=0, disorder_correlation=\"correlated\"\n",
    ").squeeze().hvplot(x=\"wavelength\", by=\"delta\")"
   ]
  },
  {
   "cell_type": "code",
   "execution_count": null,
   "id": "ba09ebf1-ed02-497e-a404-50affc428ec7",
   "metadata": {
    "tags": []
   },
   "outputs": [],
   "source": [
    "the_plot.opts(opts.Curve())"
   ]
  },
  {
   "cell_type": "code",
   "execution_count": null,
   "id": "0c30f6a6-43df-452d-84ff-431957762728",
   "metadata": {
    "tags": []
   },
   "outputs": [],
   "source": [
    "the_plot = restacked_norm_1_stats(stats_ds)[\"A_mean\"].sel(\n",
    "    period=300, num_periods=50, theta=0, disorder_correlation=\"correlated\"\n",
    ").squeeze().hvplot(x=\"wavelength\", by=\"delta\")"
   ]
  },
  {
   "cell_type": "code",
   "execution_count": null,
   "id": "4f19e64e-b153-4f5b-8ea3-67810c2f93cc",
   "metadata": {
    "tags": []
   },
   "outputs": [],
   "source": [
    "the_plot.opts(opts.Curve())"
   ]
  },
  {
   "cell_type": "code",
   "execution_count": null,
   "id": "6095a715-7724-4442-8b9b-2944eeeaa094",
   "metadata": {
    "tags": []
   },
   "outputs": [],
   "source": [
    "the_plot = restacked_norm_1_stats(stats_ds)[\"A_mean\"].sel(\n",
    "    period=200, num_periods=5, theta=0, disorder_correlation=\"uncorrelated\"\n",
    ").squeeze().hvplot(x=\"wavelength\", by=\"delta\")"
   ]
  },
  {
   "cell_type": "code",
   "execution_count": null,
   "id": "01b42162-09db-4db4-8ca3-eaaac91caac7",
   "metadata": {
    "tags": []
   },
   "outputs": [],
   "source": [
    "the_plot.opts(opts.Curve())"
   ]
  },
  {
   "cell_type": "code",
   "execution_count": null,
   "id": "064e8dc4-2f06-433a-a175-b6fbeaf3c21d",
   "metadata": {
    "tags": []
   },
   "outputs": [],
   "source": [
    "the_plot = restacked_norm_1_stats(stats_ds)[\"A_mean\"].sel(\n",
    "    period=200, num_periods=50, theta=0, disorder_correlation=\"uncorrelated\"\n",
    ").squeeze().hvplot(x=\"wavelength\", by=\"delta\")"
   ]
  },
  {
   "cell_type": "code",
   "execution_count": null,
   "id": "1574a9f7-f1a0-43c7-a2ec-ced0cfa8ec6e",
   "metadata": {
    "tags": []
   },
   "outputs": [],
   "source": [
    "the_plot.opts(opts.Curve())"
   ]
  },
  {
   "cell_type": "code",
   "execution_count": null,
   "id": "6794ef48-eb6b-4c5d-ac15-8a623babbf7b",
   "metadata": {
    "tags": []
   },
   "outputs": [],
   "source": [
    "the_plot = restacked_norm_1_stats(stats_ds)[\"A_mean\"].sel(\n",
    "    period=300, num_periods=5, theta=0, disorder_correlation=\"uncorrelated\"\n",
    ").squeeze().hvplot(x=\"wavelength\", by=\"delta\")"
   ]
  },
  {
   "cell_type": "code",
   "execution_count": null,
   "id": "9201b0f1-73ca-40ee-ba26-8b38c865e491",
   "metadata": {
    "tags": []
   },
   "outputs": [],
   "source": [
    "the_plot.opts(opts.Curve())"
   ]
  },
  {
   "cell_type": "code",
   "execution_count": null,
   "id": "2e1d9815-aea0-4e97-bf3f-9d3987e7d024",
   "metadata": {
    "tags": []
   },
   "outputs": [],
   "source": [
    "the_plot = (restacked_stats_ds)[\"R_mean\"].sel(\n",
    "    period=300, num_periods=5, theta=0, disorder_correlation=\"uncorrelated\"\n",
    ").squeeze().hvplot(x=\"wavelength\", by=\"delta\")"
   ]
  },
  {
   "cell_type": "code",
   "execution_count": null,
   "id": "62325f2a-bf19-46a3-84a0-7d1a4f1b13b2",
   "metadata": {
    "tags": []
   },
   "outputs": [],
   "source": [
    "the_plot.opts(opts.Curve())"
   ]
  },
  {
   "cell_type": "code",
   "execution_count": null,
   "id": "d97f9471-438c-4741-b186-d15d9416c51c",
   "metadata": {
    "tags": []
   },
   "outputs": [],
   "source": [
    "the_plot = restacked_norm_1_stats(stats_ds)[\"A_mean\"].sel(\n",
    "    period=300, num_periods=50, theta=0, disorder_correlation=\"uncorrelated\"\n",
    ").squeeze().hvplot(x=\"wavelength\", by=\"delta\")"
   ]
  },
  {
   "cell_type": "code",
   "execution_count": null,
   "id": "0f719587-3bae-4793-8e52-aa9f656ecc5b",
   "metadata": {
    "tags": []
   },
   "outputs": [],
   "source": [
    "the_plot.opts(opts.Curve())"
   ]
  },
  {
   "cell_type": "code",
   "execution_count": null,
   "id": "1e2ba7ec-9a38-4024-a0e7-b31902994a96",
   "metadata": {
    "tags": []
   },
   "outputs": [],
   "source": [
    "the_plot = integrate_da(\n",
    "    restacked_stats_ds[\"T_mean\"].sel(disorder_correlation=\"uncorrelated\").sel(delta=slice(0,0.5), theta=slice(0, 45)).squeeze(),\n",
    "    dim=[\"wavelength\", \"theta\"],\n",
    "    normalisation=1,\n",
    ").hvplot(\n",
    "    kind=\"quadmesh\",\n",
    "    x=\"delta\",\n",
    "    y=\"num_periods\",\n",
    "    row=\"period\",\n",
    "    # col=\"disorder_correlation\",\n",
    ")"
   ]
  },
  {
   "cell_type": "code",
   "execution_count": null,
   "id": "d7eff8db-70fb-40ea-b1c4-9b6d7de8426a",
   "metadata": {
    "tags": []
   },
   "outputs": [],
   "source": [
    "the_plot.opts(opts.QuadMesh(cmap=\"cividis\", colorbar=False, clim=(0.4, 1)))\n",
    "the_plot[100].opts(opts.QuadMesh(colorbar=True, colorbar_position=\"left\"))\n",
    "the_plot"
   ]
  },
  {
   "cell_type": "markdown",
   "id": "d812eddc-dceb-426f-bc6a-b3ef0e2e00b0",
   "metadata": {
    "jp-MarkdownHeadingCollapsed": true,
    "tags": []
   },
   "source": [
    "## Plots for explaining how disorder works"
   ]
  },
  {
   "cell_type": "markdown",
   "id": "5429ba8d-59c5-4607-8d55-a3a006f88eec",
   "metadata": {
    "jp-MarkdownHeadingCollapsed": true,
    "tags": []
   },
   "source": [
    "### What do disordered structures look like?"
   ]
  },
  {
   "cell_type": "code",
   "execution_count": null,
   "id": "d8160c05-5905-485b-bcd0-88fe96515fe6",
   "metadata": {
    "tags": []
   },
   "outputs": [],
   "source": [
    "runs = [10, 20, 30]\n",
    "correlated_example_plots = {run: wrap_plot_field(\n",
    "    wavelength=680,\n",
    "    excitonic_layer_thickness=50,\n",
    "    period=200,\n",
    "    num_periods=10,\n",
    "    theta=0,\n",
    "    delta=0.5,\n",
    "    run=run,\n",
    "    disorder_correlation='correlated',\n",
    "    add_first_layer=True,\n",
    ") for run in runs}"
   ]
  },
  {
   "cell_type": "code",
   "execution_count": null,
   "id": "07345471-8001-4141-8f8e-a2818857a58a",
   "metadata": {
    "tags": []
   },
   "outputs": [],
   "source": [
    "the_plot = hv.NdLayout(correlated_example_plots).cols(1)\n",
    "for run in runs[:2]:\n",
    "    the_plot[run].opts(opts.Curve(xaxis=\"bare\"))\n",
    "the_plot.opts(opts.Curve(alpha=0, yaxis=\"bare\", frame_height=50, xlim=(0, 2300)))"
   ]
  },
  {
   "cell_type": "code",
   "execution_count": null,
   "id": "fa06e183-bf6a-472e-b7c9-961d42edf0a4",
   "metadata": {
    "tags": []
   },
   "outputs": [],
   "source": [
    "hv.save(the_plot, filename=fig_path/\"correlated_disorder_example\", fmt=\"png\", toolbar=False)"
   ]
  },
  {
   "cell_type": "code",
   "execution_count": null,
   "id": "0d26c01b-043c-4ea7-814c-37cab377744c",
   "metadata": {
    "tags": []
   },
   "outputs": [],
   "source": [
    "runs = [10, 20, 30]\n",
    "uncorrelated_example_plots = {run: wrap_plot_field(\n",
    "    wavelength=680,\n",
    "    excitonic_layer_thickness=50,\n",
    "    period=200,\n",
    "    num_periods=10,\n",
    "    theta=0,\n",
    "    delta=0.5,\n",
    "    run=run,\n",
    "    disorder_correlation='uncorrelated',\n",
    "    add_first_layer=True,\n",
    ") for run in runs}"
   ]
  },
  {
   "cell_type": "code",
   "execution_count": null,
   "id": "9524380f-9195-495f-9278-bd75da5fbab4",
   "metadata": {
    "tags": []
   },
   "outputs": [],
   "source": [
    "the_plot = hv.NdLayout(uncorrelated_example_plots).cols(1)\n",
    "for run in runs[:2]:\n",
    "    the_plot[run].opts(opts.Curve(xaxis=\"bare\"))\n",
    "the_plot.opts(opts.Curve(alpha=0, yaxis=\"bare\", frame_height=50, xlim=(0, 2300)))"
   ]
  },
  {
   "cell_type": "code",
   "execution_count": null,
   "id": "8bcbc3bd-c131-4241-b62b-c3a023861047",
   "metadata": {
    "tags": []
   },
   "outputs": [],
   "source": [
    "hv.save(the_plot, filename=fig_path/\"uncorrelated_disorder_example\", fmt=\"png\", toolbar=False)"
   ]
  },
  {
   "cell_type": "markdown",
   "id": "f22b7dc8-8271-4e92-a65c-ee3693298445",
   "metadata": {
    "jp-MarkdownHeadingCollapsed": true,
    "tags": []
   },
   "source": [
    "### What do the disordered FOMs look like?"
   ]
  },
  {
   "cell_type": "code",
   "execution_count": null,
   "id": "2f1db3c5-8aa0-4cb6-83df-d0c6bb20bbb0",
   "metadata": {
    "tags": []
   },
   "outputs": [],
   "source": [
    "compare_integrated_stats(\n",
    "    var,\n",
    "    \"correlated\",\n",
    "    period=[100, 200, 300],\n",
    "    delta=0.3,\n",
    "    theta=0,\n",
    "    wavelength=(480, 881),\n",
    "    x=\"num_periods\",\n",
    "    by=\"period\",\n",
    ").opts(opts.Curve(ylim=(0, None)))"
   ]
  },
  {
   "cell_type": "code",
   "execution_count": null,
   "id": "7c5b850f-7442-4cd2-a9d0-a7b520f03991",
   "metadata": {
    "tags": []
   },
   "outputs": [],
   "source": [
    "compare_integrated_stats(\n",
    "    \"R\",\n",
    "    \"uncorrelated\",\n",
    "    period=200,\n",
    "    delta=[0, 0.1, 0.3, 0.5],\n",
    "    theta=0,\n",
    "    wavelength=(480, 881),\n",
    "    x=\"num_periods\",\n",
    "    by=\"delta\",\n",
    ").opts(opts.Curve(ylim=(0, None)))"
   ]
  },
  {
   "cell_type": "code",
   "execution_count": null,
   "id": "65199fbe-2659-4ca3-8887-e91293e7f88a",
   "metadata": {
    "tags": []
   },
   "outputs": [],
   "source": [
    "compare_integrated_stats(\n",
    "    \"R\",\n",
    "    \"correlated\",\n",
    "    period=[200, 300],\n",
    "    delta=[0, 0.5],\n",
    "    theta=0,\n",
    "    wavelength=(480, 881),\n",
    "    x=\"num_periods\",\n",
    "    by=[\"period\", \"delta\"],\n",
    ").opts(opts.Curve(ylim=(0, None)))"
   ]
  },
  {
   "cell_type": "code",
   "execution_count": null,
   "id": "75953fe8-9b77-4ba1-b8f2-c830b285b8e2",
   "metadata": {
    "tags": []
   },
   "outputs": [],
   "source": [
    "restacked_stats_ds.sel(period=300, delta=0, num_periods=10, disorder_correlation=\"correlated\", theta=0).R_mean.squeeze().hvplot(x=\"wavelength\")*lorentz_vlines([4, 6, 8], scale=1e-9)"
   ]
  },
  {
   "cell_type": "code",
   "execution_count": null,
   "id": "cd6ce4d1-bfb0-49e6-8c3d-495d05e14e96",
   "metadata": {
    "tags": []
   },
   "outputs": [],
   "source": [
    "(compare_integrated_stats(\n",
    "    \"R\",\n",
    "    period=300,\n",
    "    delta=[0, 0.1, 0.3, 0.5],\n",
    "    theta=0,\n",
    "    lorentz_line=6,\n",
    "    window_radius=2,\n",
    "    x=\"num_periods\",\n",
    "    by=\"delta\",\n",
    ").collate()).layout().opts(opts.Curve(ylim=(0, None)))"
   ]
  },
  {
   "cell_type": "markdown",
   "id": "fa1efec6-a643-4c46-ad11-1e79542457b2",
   "metadata": {
    "jp-MarkdownHeadingCollapsed": true,
    "tags": []
   },
   "source": [
    "#### Reflectance"
   ]
  },
  {
   "cell_type": "markdown",
   "id": "6bab8254-0be5-466b-b7bc-3e31384f8444",
   "metadata": {},
   "source": [
    "Generally it seems that the lower the reflectance peak, the wider the reflectance is spread out. Does the spreading counteract the dimming so that the integrated reflectance remains high, or even higher?\n",
    "\n",
    "From the plots below, it would seem not (at normal incidence). There is a weak positive correlation between peak height and integrated reflectance.\n",
    "* The correlation seems stronger at lower N.\n",
    "* The periodic peak consistently has a higher max than the disordered peaks when N>10, but whether the integrated reflectance is higher depends on the number of layers. It's higher when N is low and generally lower when N is high."
   ]
  },
  {
   "cell_type": "markdown",
   "id": "60c52b6e-9763-4875-8da9-3b03636c3c1d",
   "metadata": {
    "jp-MarkdownHeadingCollapsed": true,
    "tags": []
   },
   "source": [
    "##### Correlated"
   ]
  },
  {
   "cell_type": "code",
   "execution_count": null,
   "id": "4e7dbe03-78ad-4777-9c1a-5ac0157ca981",
   "metadata": {
    "tags": []
   },
   "outputs": [],
   "source": [
    "var = [\"R\"]\n",
    "run = slice(0, 1)\n",
    "disorder_correlation = \"correlated\"\n",
    "N = num_periods = 5\n",
    "P = period = 200\n",
    "delta = 0.1\n",
    "theta = 0\n",
    "elt = excitonic_layer_thickness = 50\n",
    "disorder_code = disorder_correlation[0]\n",
    "D = str(delta).replace(\".\", \"\")\n",
    "\n",
    "the_plots = plot_singles(\n",
    "    var, run, disorder_correlation, num_periods, period, delta, theta\n",
    ")\n",
    "\n",
    "overlay_1 = (\n",
    "    hv.Overlay(the_plots[:3])\n",
    "    .select(run=slice(0, 8))\n",
    "    .opts(opts.Curve(ylim=(0, None)), opts.Scatter(alpha=1), clone=True)\n",
    ")\n",
    "display(overlay_1)\n",
    "\n",
    "overlay_2 = hv.Overlay([*the_plots[1:3], *the_plots[5:]]).opts(\n",
    "    opts.Curve(ylim=(0, None))\n",
    ")\n",
    "display(overlay_2)\n",
    "\n",
    "max_vs_integral = the_plots[3]\n",
    "display(max_vs_integral)\n",
    "\n",
    "violin_plot = the_plots[4]\n",
    "display(violin_plot)"
   ]
  },
  {
   "cell_type": "code",
   "execution_count": null,
   "id": "737c1cb2-a7d2-4b88-a2ad-255758bb4e46",
   "metadata": {
    "tags": []
   },
   "outputs": [],
   "source": [
    "reduced_overlay = overlay_1.select(run=slice(0,2))\n",
    "display(reduced_overlay)\n",
    "hv.save(\n",
    "    reduced_overlay,\n",
    "    filename=fig_path\n",
    "    / f\"{var[0]}_DLOPC_runcurve_reduced_wl_P{P}_elt{elt}_N{N}_th{theta}_D{D}{disorder_code}\",\n",
    "    fmt=\"png\",\n",
    "    toolbar=False,\n",
    ")"
   ]
  },
  {
   "cell_type": "code",
   "execution_count": null,
   "id": "59e12179-9b58-4819-ae53-19fd002e5a87",
   "metadata": {
    "tags": []
   },
   "outputs": [],
   "source": [
    "var = [\"R\"]\n",
    "run = slice(0, 1)\n",
    "disorder_correlation = \"correlated\"\n",
    "N = num_periods = 5\n",
    "P = period = 200\n",
    "delta = 0.3\n",
    "theta = 0\n",
    "elt = excitonic_layer_thickness = 50\n",
    "disorder_code = disorder_correlation[0]\n",
    "D = str(delta).replace(\".\", \"\")\n",
    "\n",
    "the_plots = plot_singles(var, run, disorder_correlation, num_periods, period, delta, theta)\n",
    "\n",
    "overlay_1 = hv.Overlay(the_plots[:3]).select(run=slice(0,8)).opts(opts.Scatter(alpha=1), clone=True)\n",
    "display(overlay_1)\n",
    "\n",
    "overlay_2 = hv.Overlay([*the_plots[1:3], *the_plots[5:]]).opts(opts.Curve(ylim=(0, None)))\n",
    "display(overlay_2)\n",
    "\n",
    "max_vs_integral = the_plots[3]\n",
    "display(max_vs_integral)\n",
    "\n",
    "violin_plot = the_plots[4]\n",
    "display(violin_plot)"
   ]
  },
  {
   "cell_type": "code",
   "execution_count": null,
   "id": "49ef6bba-b3f3-470e-b5a3-2042f78610da",
   "metadata": {
    "tags": []
   },
   "outputs": [],
   "source": [
    "reduced_overlay = overlay_1.select(run=slice(0,2))\n",
    "display(reduced_overlay)\n",
    "hv.save(\n",
    "    reduced_overlay,\n",
    "    filename=fig_path\n",
    "    / f\"{var[0]}_DLOPC_runcurve_reduced_wl_P{P}_elt{elt}_N{N}_th{theta}_D{D}{disorder_code}\",\n",
    "    fmt=\"png\",\n",
    "    toolbar=False,\n",
    ")"
   ]
  },
  {
   "cell_type": "code",
   "execution_count": null,
   "id": "7c83c1d5-dc5f-4cc4-8aa7-7a69524e96b4",
   "metadata": {
    "tags": []
   },
   "outputs": [],
   "source": [
    "var = [\"R\"]\n",
    "run = slice(0, 1)\n",
    "disorder_correlation = \"correlated\"\n",
    "N = num_periods = 5\n",
    "P = period = 200\n",
    "delta = 0.5\n",
    "theta = 0\n",
    "elt = excitonic_layer_thickness = 50\n",
    "disorder_code = disorder_correlation[0]\n",
    "D = str(delta).replace(\".\", \"\")\n",
    "\n",
    "the_plots = plot_singles(var, run, disorder_correlation, num_periods, period, delta, theta)\n",
    "\n",
    "overlay_1 = hv.Overlay(the_plots[:3]).select(run=slice(0,8)).opts(opts.Scatter(alpha=1), clone=True)\n",
    "display(overlay_1)\n",
    "\n",
    "overlay_2 = hv.Overlay([*the_plots[1:3], *the_plots[5:]]).opts(opts.Curve(ylim=(0, None)))\n",
    "display(overlay_2)\n",
    "\n",
    "max_vs_integral = the_plots[3]\n",
    "display(max_vs_integral)\n",
    "\n",
    "violin_plot = the_plots[4]\n",
    "display(violin_plot)"
   ]
  },
  {
   "cell_type": "code",
   "execution_count": null,
   "id": "708bfd9f-25b5-4d3d-9abe-16f6687bc621",
   "metadata": {
    "tags": []
   },
   "outputs": [],
   "source": [
    "reduced_overlay = overlay_1.select(run=slice(0,2))\n",
    "display(reduced_overlay)\n",
    "hv.save(\n",
    "    reduced_overlay,\n",
    "    filename=fig_path\n",
    "    / f\"{var[0]}_DLOPC_runcurve_reduced_wl_P{P}_elt{elt}_N{N}_th{theta}_D{D}{disorder_code}\",\n",
    "    fmt=\"png\",\n",
    "    toolbar=False,\n",
    ")"
   ]
  },
  {
   "cell_type": "code",
   "execution_count": null,
   "id": "a3cc9a52-bbbb-4821-9d6a-edb6ae2137a0",
   "metadata": {
    "tags": []
   },
   "outputs": [],
   "source": [
    "var = [\"R\"]\n",
    "run = slice(0, 1)\n",
    "disorder_correlation = \"correlated\"\n",
    "N = num_periods = 5\n",
    "P = period = 200\n",
    "delta = 1\n",
    "theta = 0\n",
    "elt = excitonic_layer_thickness = 50\n",
    "disorder_code = disorder_correlation[0]\n",
    "D = str(delta).replace(\".\", \"\")\n",
    "\n",
    "the_plots = plot_singles(var, run, disorder_correlation, num_periods, period, delta, theta)\n",
    "\n",
    "overlay_1 = hv.Overlay(the_plots[:3]).select(run=slice(0,8)).opts(opts.Scatter(alpha=1), clone=True)\n",
    "display(overlay_1)\n",
    "\n",
    "overlay_2 = hv.Overlay([*the_plots[1:3], *the_plots[5:]]).opts(opts.Curve(ylim=(0, None)))\n",
    "display(overlay_2)\n",
    "\n",
    "max_vs_integral = the_plots[3]\n",
    "display(max_vs_integral)\n",
    "\n",
    "violin_plot = the_plots[4]\n",
    "display(violin_plot)"
   ]
  },
  {
   "cell_type": "code",
   "execution_count": null,
   "id": "0b2cb1bc-bff6-42c8-b5d9-7798711a6cd3",
   "metadata": {
    "tags": []
   },
   "outputs": [],
   "source": [
    "reduced_overlay = overlay_1.select(run=slice(0,2))\n",
    "display(reduced_overlay)\n",
    "hv.save(\n",
    "    reduced_overlay,\n",
    "    filename=fig_path\n",
    "    / f\"{var[0]}_DLOPC_runcurve_reduced_wl_P{P}_elt{elt}_N{N}_th{theta}_D{D}{disorder_code}\",\n",
    "    fmt=\"png\",\n",
    "    toolbar=False,\n",
    ")"
   ]
  },
  {
   "cell_type": "code",
   "execution_count": null,
   "id": "043e94ec-9c2c-45f1-aa4e-94231da1be55",
   "metadata": {
    "tags": []
   },
   "outputs": [],
   "source": [
    "var = [\"R\"]\n",
    "run = slice(0, 99)\n",
    "disorder_correlation = \"correlated\"\n",
    "N = num_periods = 10\n",
    "P = period = 200\n",
    "delta = 0.1\n",
    "theta = 0\n",
    "elt = excitonic_layer_thickness = 50\n",
    "disorder_code = disorder_correlation[0]\n",
    "D = str(delta).replace(\".\", \"\")\n",
    "\n",
    "the_plots = plot_singles(var, run, disorder_correlation, num_periods, period, delta, theta)\n",
    "\n",
    "overlay_1 = hv.Overlay(the_plots[:3]).select(run=slice(0,8)).opts(opts.Scatter(alpha=1), clone=True)\n",
    "display(overlay_1)\n",
    "\n",
    "overlay_2 = hv.Overlay([*the_plots[1:3], *the_plots[5:]]).opts(opts.Curve(ylim=(0, None)))\n",
    "display(overlay_2)\n",
    "\n",
    "max_vs_integral = the_plots[3]\n",
    "display(max_vs_integral)\n",
    "\n",
    "violin_plot = the_plots[4]\n",
    "display(violin_plot)"
   ]
  },
  {
   "cell_type": "code",
   "execution_count": null,
   "id": "5fd7de74-f492-43a5-8d0f-56f240bc9892",
   "metadata": {
    "tags": []
   },
   "outputs": [],
   "source": [
    "var = [\"R\"]\n",
    "run = slice(0, 999)\n",
    "disorder_correlation = \"correlated\"\n",
    "N = num_periods = 10\n",
    "P = period = 200\n",
    "delta = 0.5\n",
    "theta = 0\n",
    "elt = excitonic_layer_thickness = 50\n",
    "disorder_code = disorder_correlation[0]\n",
    "D = str(delta).replace(\".\", \"\")\n",
    "\n",
    "the_plots = plot_singles(var, run, disorder_correlation, num_periods, period, delta, theta)\n",
    "\n",
    "overlay_1 = hv.Overlay(the_plots[:3]).select(run=slice(0,8)).opts(opts.Scatter(alpha=1), clone=True)\n",
    "display(overlay_1)\n",
    "\n",
    "overlay_2 = hv.Overlay([*the_plots[1:3], *the_plots[5:]]).opts(opts.Curve(ylim=(0, None)))\n",
    "display(overlay_2)\n",
    "\n",
    "max_vs_integral = the_plots[3]\n",
    "display(max_vs_integral)\n",
    "\n",
    "violin_plot = the_plots[4]\n",
    "display(violin_plot)"
   ]
  },
  {
   "cell_type": "code",
   "execution_count": null,
   "id": "6d0bc547-7190-4531-8618-cb56e3e04697",
   "metadata": {
    "tags": []
   },
   "outputs": [],
   "source": [
    "var = [\"R\"]\n",
    "run = slice(0, 99)\n",
    "disorder_correlation = \"correlated\"\n",
    "N = num_periods = 20\n",
    "P = period = 200\n",
    "delta = 0.1\n",
    "theta = 0\n",
    "elt = excitonic_layer_thickness = 50\n",
    "disorder_code = disorder_correlation[0]\n",
    "D = str(delta).replace(\".\", \"\")\n",
    "\n",
    "the_plots = plot_singles(var, run, disorder_correlation, num_periods, period, delta, theta)\n",
    "\n",
    "overlay_1 = hv.Overlay(the_plots[:3]).select(run=slice(0,8)).opts(opts.Scatter(alpha=1), clone=True)\n",
    "display(overlay_1)\n",
    "\n",
    "overlay_2 = hv.Overlay([*the_plots[1:3], *the_plots[5:]]).opts(opts.Curve(ylim=(0, None)))\n",
    "display(overlay_2)\n",
    "\n",
    "max_vs_integral = the_plots[3]\n",
    "display(max_vs_integral)\n",
    "\n",
    "violin_plot = the_plots[4]\n",
    "display(violin_plot)"
   ]
  },
  {
   "cell_type": "code",
   "execution_count": null,
   "id": "df27c68a-9aac-4bf1-b3f3-95ef495643b0",
   "metadata": {
    "tags": []
   },
   "outputs": [],
   "source": [
    "var = [\"R\"]\n",
    "run = slice(0, 999)\n",
    "disorder_correlation = \"correlated\"\n",
    "N = num_periods = 20\n",
    "P = period = 200\n",
    "delta = 0.5\n",
    "theta = 0\n",
    "elt = excitonic_layer_thickness = 50\n",
    "disorder_code = disorder_correlation[0]\n",
    "D = str(delta).replace(\".\", \"\")\n",
    "\n",
    "the_plots = plot_singles(var, run, disorder_correlation, num_periods, period, delta, theta)\n",
    "\n",
    "overlay_1 = hv.Overlay(the_plots[:3]).select(run=slice(0,8)).opts(opts.Scatter(alpha=1), clone=True)\n",
    "display(overlay_1)\n",
    "\n",
    "overlay_2 = hv.Overlay([*the_plots[1:3], *the_plots[5:]]).opts(opts.Curve(ylim=(0, None)))\n",
    "display(overlay_2)\n",
    "\n",
    "max_vs_integral = the_plots[3]\n",
    "display(max_vs_integral)\n",
    "\n",
    "violin_plot = the_plots[4]\n",
    "display(violin_plot)"
   ]
  },
  {
   "cell_type": "code",
   "execution_count": null,
   "id": "ad724183-ae0a-4238-b284-0f8dcec219c1",
   "metadata": {
    "tags": []
   },
   "outputs": [],
   "source": [
    "var = [\"R\"]\n",
    "run = slice(0, 1)\n",
    "disorder_correlation = \"correlated\"\n",
    "N = num_periods = 50\n",
    "P = period = 200\n",
    "delta = 0.1\n",
    "theta = 0\n",
    "elt = excitonic_layer_thickness = 50\n",
    "disorder_code = disorder_correlation[0]\n",
    "D = str(delta).replace(\".\", \"\")\n",
    "\n",
    "the_plots = plot_singles(var, run, disorder_correlation, num_periods, period, delta, theta)\n",
    "\n",
    "overlay_1 = hv.Overlay(the_plots[:3]).select(run=slice(0,8)).opts(opts.Scatter(alpha=1), clone=True)\n",
    "display(overlay_1)\n",
    "\n",
    "overlay_2 = hv.Overlay([*the_plots[1:3], *the_plots[5:]]).opts(opts.Curve(ylim=(0, None)))\n",
    "display(overlay_2)\n",
    "\n",
    "max_vs_integral = the_plots[3]\n",
    "display(max_vs_integral)\n",
    "\n",
    "violin_plot = the_plots[4]\n",
    "display(violin_plot)"
   ]
  },
  {
   "cell_type": "code",
   "execution_count": null,
   "id": "5f38e511-51e3-458b-a19c-44d18930270f",
   "metadata": {
    "tags": []
   },
   "outputs": [],
   "source": [
    "reduced_overlay = overlay_1.select(run=slice(0,2))\n",
    "display(reduced_overlay)\n",
    "hv.save(\n",
    "    reduced_overlay,\n",
    "    filename=fig_path\n",
    "    / f\"{var[0]}_DLOPC_runcurve_reduced_wl_P{P}_elt{elt}_N{N}_th{theta}_D{D}{disorder_code}\",\n",
    "    fmt=\"png\",\n",
    "    toolbar=False,\n",
    ")"
   ]
  },
  {
   "cell_type": "code",
   "execution_count": null,
   "id": "bd91efd8-fc0b-4c79-9985-b1d6067e8d7b",
   "metadata": {
    "tags": []
   },
   "outputs": [],
   "source": [
    "var = [\"R\"]\n",
    "run = slice(0, 1)\n",
    "disorder_correlation = \"correlated\"\n",
    "N = num_periods = 50\n",
    "P = period = 200\n",
    "delta = 0.3\n",
    "theta = 0\n",
    "elt = excitonic_layer_thickness = 50\n",
    "disorder_code = disorder_correlation[0]\n",
    "D = str(delta).replace(\".\", \"\")\n",
    "\n",
    "the_plots = plot_singles(var, run, disorder_correlation, num_periods, period, delta, theta)\n",
    "\n",
    "overlay_1 = hv.Overlay(the_plots[:3]).select(run=slice(0,8)).opts(opts.Scatter(alpha=1), clone=True)\n",
    "display(overlay_1)\n",
    "\n",
    "overlay_2 = hv.Overlay([*the_plots[1:3], *the_plots[5:]]).opts(opts.Curve(ylim=(0, None)))\n",
    "display(overlay_2)\n",
    "\n",
    "max_vs_integral = the_plots[3]\n",
    "display(max_vs_integral)\n",
    "\n",
    "violin_plot = the_plots[4]\n",
    "display(violin_plot)"
   ]
  },
  {
   "cell_type": "code",
   "execution_count": null,
   "id": "1f739610-d468-49da-8fa1-c2a9c184afd4",
   "metadata": {
    "tags": []
   },
   "outputs": [],
   "source": [
    "reduced_overlay = overlay_1.select(run=slice(0,2))\n",
    "display(reduced_overlay)\n",
    "hv.save(\n",
    "    reduced_overlay,\n",
    "    filename=fig_path\n",
    "    / f\"{var[0]}_DLOPC_runcurve_reduced_wl_P{P}_elt{elt}_N{N}_th{theta}_D{D}{disorder_code}\",\n",
    "    fmt=\"png\",\n",
    "    toolbar=False,\n",
    ")"
   ]
  },
  {
   "cell_type": "code",
   "execution_count": null,
   "id": "0d65053a-7774-44e4-8d40-ffa3ef40e63f",
   "metadata": {
    "tags": []
   },
   "outputs": [],
   "source": [
    "var = [\"R\"]\n",
    "run = slice(0, 1)\n",
    "disorder_correlation = \"correlated\"\n",
    "N = num_periods = 50\n",
    "P = period = 200\n",
    "delta = 0.5\n",
    "theta = 0\n",
    "elt = excitonic_layer_thickness = 50\n",
    "disorder_code = disorder_correlation[0]\n",
    "D = str(delta).replace(\".\", \"\")\n",
    "\n",
    "the_plots = plot_singles(var, run, disorder_correlation, num_periods, period, delta, theta)\n",
    "\n",
    "overlay_1 = hv.Overlay(the_plots[:3]).select(run=slice(0,8)).opts(opts.Scatter(alpha=1), clone=True)\n",
    "display(overlay_1)\n",
    "\n",
    "overlay_2 = hv.Overlay([*the_plots[1:3], *the_plots[5:]]).opts(opts.Curve(ylim=(0, None)))\n",
    "display(overlay_2)\n",
    "\n",
    "max_vs_integral = the_plots[3]\n",
    "display(max_vs_integral)\n",
    "\n",
    "violin_plot = the_plots[4]\n",
    "display(violin_plot)"
   ]
  },
  {
   "cell_type": "code",
   "execution_count": null,
   "id": "b49c72e0-128a-4174-a22b-75b7b3fdd1f0",
   "metadata": {
    "tags": []
   },
   "outputs": [],
   "source": [
    "reduced_overlay = overlay_1.select(run=slice(0,2))\n",
    "display(reduced_overlay)\n",
    "hv.save(\n",
    "    reduced_overlay,\n",
    "    filename=fig_path\n",
    "    / f\"{var[0]}_DLOPC_runcurve_reduced_wl_P{P}_elt{elt}_N{N}_th{theta}_D{D}{disorder_code}\",\n",
    "    fmt=\"png\",\n",
    "    toolbar=False,\n",
    ")"
   ]
  },
  {
   "cell_type": "code",
   "execution_count": null,
   "id": "e854881d-7a2b-4889-bef1-67b8bf8fbecf",
   "metadata": {
    "tags": []
   },
   "outputs": [],
   "source": [
    "var = [\"R\"]\n",
    "run = slice(0, 1)\n",
    "disorder_correlation = \"correlated\"\n",
    "N = num_periods = 50\n",
    "P = period = 200\n",
    "delta = 1\n",
    "theta = 0\n",
    "elt = excitonic_layer_thickness = 50\n",
    "disorder_code = disorder_correlation[0]\n",
    "D = str(delta).replace(\".\", \"\")\n",
    "\n",
    "the_plots = plot_singles(var, run, disorder_correlation, num_periods, period, delta, theta)\n",
    "\n",
    "overlay_1 = hv.Overlay(the_plots[:3]).select(run=slice(0,8)).opts(opts.Scatter(alpha=1), clone=True)\n",
    "display(overlay_1)\n",
    "\n",
    "overlay_2 = hv.Overlay([*the_plots[1:3], *the_plots[5:]]).opts(opts.Curve(ylim=(0, None)))\n",
    "display(overlay_2)\n",
    "\n",
    "max_vs_integral = the_plots[3]\n",
    "display(max_vs_integral)\n",
    "\n",
    "violin_plot = the_plots[4]\n",
    "display(violin_plot)"
   ]
  },
  {
   "cell_type": "code",
   "execution_count": null,
   "id": "80e89615-b976-4c19-8a0d-9a1b1ae6f763",
   "metadata": {
    "tags": []
   },
   "outputs": [],
   "source": [
    "reduced_overlay = overlay_1.select(run=slice(0,2))\n",
    "display(reduced_overlay)\n",
    "hv.save(\n",
    "    reduced_overlay,\n",
    "    filename=fig_path\n",
    "    / f\"{var[0]}_DLOPC_runcurve_reduced_wl_P{P}_elt{elt}_N{N}_th{theta}_D{D}{disorder_code}\",\n",
    "    fmt=\"png\",\n",
    "    toolbar=False,\n",
    ")"
   ]
  },
  {
   "cell_type": "markdown",
   "id": "8054c687-64e0-4db2-87c0-5eb1d7a678b7",
   "metadata": {},
   "source": [
    "P=250"
   ]
  },
  {
   "cell_type": "code",
   "execution_count": null,
   "id": "f128047b-7e69-4652-828d-9549333474ad",
   "metadata": {},
   "outputs": [],
   "source": []
  },
  {
   "cell_type": "markdown",
   "id": "7d77780d-79fa-4168-8054-5ef6f8ce0c6e",
   "metadata": {},
   "source": [
    "P=300"
   ]
  },
  {
   "cell_type": "code",
   "execution_count": null,
   "id": "b6abe94e-082b-4ec1-835b-955267f116cf",
   "metadata": {
    "tags": []
   },
   "outputs": [],
   "source": [
    "var = [\"R\"]\n",
    "run = slice(0, 99)\n",
    "disorder_correlation = \"correlated\"\n",
    "N = num_periods = 20\n",
    "P = period = 300\n",
    "delta = 0.1\n",
    "theta = 0\n",
    "elt = excitonic_layer_thickness = 50\n",
    "disorder_code = disorder_correlation[0]\n",
    "D = str(delta).replace(\".\", \"\")\n",
    "\n",
    "the_plots = plot_singles(var, run, disorder_correlation, num_periods, period, delta, theta)\n",
    "\n",
    "overlay_1 = hv.Overlay(the_plots[:3]).select(run=slice(0,8)).opts(opts.Scatter(alpha=1), clone=True)\n",
    "display(overlay_1)\n",
    "\n",
    "overlay_2 = hv.Overlay([*the_plots[1:3], *the_plots[5:]]).opts(opts.Curve(ylim=(0, None)))\n",
    "display(overlay_2)\n",
    "\n",
    "max_vs_integral = the_plots[3]\n",
    "display(max_vs_integral)\n",
    "\n",
    "violin_plot = the_plots[4]\n",
    "display(violin_plot)"
   ]
  },
  {
   "cell_type": "code",
   "execution_count": null,
   "id": "2974db01-ab01-47a0-aa53-237dd4c5ea74",
   "metadata": {
    "tags": []
   },
   "outputs": [],
   "source": [
    "reduced_overlay = overlay_1.select(run=slice(0,2))\n",
    "display(reduced_overlay)\n",
    "hv.save(\n",
    "    reduced_overlay,\n",
    "    filename=fig_path\n",
    "    / f\"{var[0]}_DLOPC_runcurve_reduced_wl_P{P}_elt{elt}_N{N}_th{theta}_D{D}{disorder_code}\",\n",
    "    fmt=\"png\",\n",
    "    toolbar=False,\n",
    ")"
   ]
  },
  {
   "cell_type": "code",
   "execution_count": null,
   "id": "9dea3b64-20fb-430f-89c6-395b4a3fd3e0",
   "metadata": {
    "tags": []
   },
   "outputs": [],
   "source": [
    "hv.save(\n",
    "    overlay_1,\n",
    "    filename=fig_path\n",
    "    / f\"{var[0]}_DLOPC_runcurve_wl_P{P}_elt{elt}_N{N}_th{theta}_D{D}{disorder_code}\",\n",
    "    fmt=\"png\",\n",
    "    toolbar=False,\n",
    ")\n",
    "\n",
    "hv.save(\n",
    "    overlay_2,\n",
    "    filename=fig_path\n",
    "    / f\"{var[0]}_DLOPC_meancurve_wl_P{P}_elt{elt}_N{N}_th{theta}_D{D}{disorder_code}\",\n",
    "    fmt=\"png\",\n",
    "    toolbar=False,\n",
    ")\n",
    "\n",
    "hv.save(\n",
    "    max_vs_integral,\n",
    "    filename=fig_path\n",
    "    / f\"{var[0]}_DLOPC_max_vs_tot_P{P}_elt{elt}_N{N}_th{theta}_D{D}{disorder_code}\",\n",
    "    fmt=\"png\",\n",
    "    toolbar=False,\n",
    ")\n",
    "\n",
    "# have no use for the violin plots yet"
   ]
  },
  {
   "cell_type": "code",
   "execution_count": null,
   "id": "b911ad1b-d5c4-4f3e-9e6d-e4de5b34374f",
   "metadata": {
    "tags": []
   },
   "outputs": [],
   "source": [
    "var = [\"R\"]\n",
    "run = slice(0, 99)\n",
    "disorder_correlation = \"correlated\"\n",
    "N = num_periods = 20\n",
    "P = period = 300\n",
    "delta = 0.3\n",
    "theta = 0\n",
    "elt = excitonic_layer_thickness = 50\n",
    "disorder_code = disorder_correlation[0]\n",
    "D = str(delta).replace(\".\", \"\")\n",
    "\n",
    "the_plots = plot_singles(var, run, disorder_correlation, num_periods, period, delta, theta)\n",
    "\n",
    "overlay_1 = hv.Overlay(the_plots[:3]).select(run=slice(0,8)).opts(opts.Scatter(alpha=1), clone=True)\n",
    "display(overlay_1)\n",
    "\n",
    "overlay_2 = hv.Overlay([*the_plots[1:3], *the_plots[5:]]).opts(opts.Curve(ylim=(0, None)))\n",
    "display(overlay_2)\n",
    "\n",
    "max_vs_integral = the_plots[3]\n",
    "display(max_vs_integral)\n",
    "\n",
    "violin_plot = the_plots[4]\n",
    "display(violin_plot)"
   ]
  },
  {
   "cell_type": "code",
   "execution_count": null,
   "id": "6388e98a-bd38-4a76-8872-5ace82bce448",
   "metadata": {
    "tags": []
   },
   "outputs": [],
   "source": [
    "reduced_overlay = overlay_1.select(run=slice(0,2))\n",
    "display(reduced_overlay)\n",
    "hv.save(\n",
    "    reduced_overlay,\n",
    "    filename=fig_path\n",
    "    / f\"{var[0]}_DLOPC_runcurve_reduced_wl_P{P}_elt{elt}_N{N}_th{theta}_D{D}{disorder_code}\",\n",
    "    fmt=\"png\",\n",
    "    toolbar=False,\n",
    ")"
   ]
  },
  {
   "cell_type": "code",
   "execution_count": null,
   "id": "27c348d1-444d-4920-af8d-a1cef7983ca8",
   "metadata": {
    "tags": []
   },
   "outputs": [],
   "source": [
    "hv.save(\n",
    "    overlay_1,\n",
    "    filename=fig_path\n",
    "    / f\"{var[0]}_DLOPC_runcurve_wl_P{P}_elt{elt}_N{N}_th{theta}_D{D}{disorder_code}\",\n",
    "    fmt=\"png\",\n",
    "    toolbar=False,\n",
    ")\n",
    "\n",
    "hv.save(\n",
    "    overlay_2,\n",
    "    filename=fig_path\n",
    "    / f\"{var[0]}_DLOPC_meancurve_wl_P{P}_elt{elt}_N{N}_th{theta}_D{D}{disorder_code}\",\n",
    "    fmt=\"png\",\n",
    "    toolbar=False,\n",
    ")\n",
    "\n",
    "hv.save(\n",
    "    max_vs_integral,\n",
    "    filename=fig_path\n",
    "    / f\"{var[0]}_DLOPC_max_vs_tot_P{P}_elt{elt}_N{N}_th{theta}_D{D}{disorder_code}\",\n",
    "    fmt=\"png\",\n",
    "    toolbar=False,\n",
    ")\n",
    "\n",
    "# have no use for the violin plots yet"
   ]
  },
  {
   "cell_type": "code",
   "execution_count": null,
   "id": "52d68fc8-30eb-471a-b849-dbf4e837078a",
   "metadata": {
    "tags": []
   },
   "outputs": [],
   "source": [
    "var = [\"R\"]\n",
    "run = slice(0, 999)\n",
    "disorder_correlation = \"correlated\"\n",
    "N = num_periods = 20\n",
    "P = period = 300\n",
    "delta = 0.5\n",
    "theta = 0\n",
    "elt = excitonic_layer_thickness = 50\n",
    "disorder_code = disorder_correlation[0]\n",
    "D = str(delta).replace(\".\", \"\")\n",
    "\n",
    "the_plots = plot_singles(var, run, disorder_correlation, num_periods, period, delta, theta)\n",
    "\n",
    "overlay_1 = hv.Overlay(the_plots[:3]).select(run=slice(0,8)).opts(opts.Scatter(alpha=1), clone=True)\n",
    "display(overlay_1)\n",
    "\n",
    "overlay_2 = hv.Overlay([*the_plots[1:3], *the_plots[5:]]).opts(opts.Curve(ylim=(0, None)))\n",
    "display(overlay_2)\n",
    "\n",
    "max_vs_integral = the_plots[3]\n",
    "display(max_vs_integral)\n",
    "\n",
    "violin_plot = the_plots[4]\n",
    "display(violin_plot)"
   ]
  },
  {
   "cell_type": "code",
   "execution_count": null,
   "id": "b56e0e4e-bba0-4527-ab77-1f6aa8e0db4c",
   "metadata": {
    "tags": []
   },
   "outputs": [],
   "source": [
    "reduced_overlay = overlay_1.select(run=slice(0,2))\n",
    "display(reduced_overlay)\n",
    "hv.save(\n",
    "    reduced_overlay,\n",
    "    filename=fig_path\n",
    "    / f\"{var[0]}_DLOPC_runcurve_reduced_wl_P{P}_elt{elt}_N{N}_th{theta}_D{D}{disorder_code}\",\n",
    "    fmt=\"png\",\n",
    "    toolbar=False,\n",
    ")"
   ]
  },
  {
   "cell_type": "code",
   "execution_count": null,
   "id": "30387cb2-29b9-4862-b847-3236a86c9068",
   "metadata": {
    "tags": []
   },
   "outputs": [],
   "source": [
    "hv.save(\n",
    "    overlay_1,\n",
    "    filename=fig_path\n",
    "    / f\"{var[0]}_DLOPC_runcurve_wl_P{P}_elt{elt}_N{N}_th{theta}_D{D}{disorder_code}\",\n",
    "    fmt=\"png\",\n",
    "    toolbar=False,\n",
    ")\n",
    "\n",
    "hv.save(\n",
    "    overlay_2,\n",
    "    filename=fig_path\n",
    "    / f\"{var[0]}_DLOPC_meancurve_wl_P{P}_elt{elt}_N{N}_th{theta}_D{D}{disorder_code}\",\n",
    "    fmt=\"png\",\n",
    "    toolbar=False,\n",
    ")\n",
    "\n",
    "hv.save(\n",
    "    max_vs_integral,\n",
    "    filename=fig_path\n",
    "    / f\"{var[0]}_DLOPC_max_vs_tot_P{P}_elt{elt}_N{N}_th{theta}_D{D}{disorder_code}\",\n",
    "    fmt=\"png\",\n",
    "    toolbar=False,\n",
    ")\n",
    "\n",
    "# have no use for the violin plots yet"
   ]
  },
  {
   "cell_type": "code",
   "execution_count": null,
   "id": "856495c1-8fb6-49ba-9ba2-3569795bf570",
   "metadata": {
    "tags": []
   },
   "outputs": [],
   "source": [
    "var = [\"R\"]\n",
    "run = slice(0, 99)\n",
    "disorder_correlation = \"correlated\"\n",
    "N = num_periods = 50\n",
    "P = period = 300\n",
    "delta = 0.1\n",
    "theta = 0\n",
    "elt = excitonic_layer_thickness = 50\n",
    "disorder_code = disorder_correlation[0]\n",
    "D = str(delta).replace(\".\", \"\")\n",
    "\n",
    "the_plots = plot_singles(var, run, disorder_correlation, num_periods, period, delta, theta)\n",
    "\n",
    "overlay_1 = hv.Overlay(the_plots[:3]).select(run=slice(0,8)).opts(opts.Scatter(alpha=1), clone=True)\n",
    "display(overlay_1)\n",
    "\n",
    "overlay_2 = hv.Overlay([*the_plots[1:3], *the_plots[5:]]).opts(opts.Curve(ylim=(0, None)))\n",
    "display(overlay_2)\n",
    "\n",
    "max_vs_integral = the_plots[3]\n",
    "display(max_vs_integral)\n",
    "\n",
    "violin_plot = the_plots[4]\n",
    "display(violin_plot)"
   ]
  },
  {
   "cell_type": "code",
   "execution_count": null,
   "id": "c7c79058-7e6c-4463-a731-cb5008dd82af",
   "metadata": {
    "tags": []
   },
   "outputs": [],
   "source": [
    "reduced_overlay = overlay_1.select(run=slice(0,2))\n",
    "display(reduced_overlay)\n",
    "hv.save(\n",
    "    reduced_overlay,\n",
    "    filename=fig_path\n",
    "    / f\"{var[0]}_DLOPC_runcurve_reduced_wl_P{P}_elt{elt}_N{N}_th{theta}_D{D}{disorder_code}\",\n",
    "    fmt=\"png\",\n",
    "    toolbar=False,\n",
    ")"
   ]
  },
  {
   "cell_type": "code",
   "execution_count": null,
   "id": "dcfdaa3e-6c86-45d8-b0a5-5fc76154ad9a",
   "metadata": {
    "tags": []
   },
   "outputs": [],
   "source": [
    "hv.save(\n",
    "    overlay_1,\n",
    "    filename=fig_path\n",
    "    / f\"{var[0]}_DLOPC_runcurve_wl_P{P}_elt{elt}_N{N}_th{theta}_D{D}{disorder_code}\",\n",
    "    fmt=\"png\",\n",
    "    toolbar=False,\n",
    ")\n",
    "\n",
    "hv.save(\n",
    "    overlay_2,\n",
    "    filename=fig_path\n",
    "    / f\"{var[0]}_DLOPC_meancurve_wl_P{P}_elt{elt}_N{N}_th{theta}_D{D}{disorder_code}\",\n",
    "    fmt=\"png\",\n",
    "    toolbar=False,\n",
    ")\n",
    "\n",
    "hv.save(\n",
    "    max_vs_integral,\n",
    "    filename=fig_path\n",
    "    / f\"{var[0]}_DLOPC_max_vs_tot_P{P}_elt{elt}_N{N}_th{theta}_D{D}{disorder_code}\",\n",
    "    fmt=\"png\",\n",
    "    toolbar=False,\n",
    ")\n",
    "\n",
    "# have no use for the violin plots yet"
   ]
  },
  {
   "cell_type": "code",
   "execution_count": null,
   "id": "984584c4-5b62-4caa-b009-06ba6f33ca9c",
   "metadata": {
    "tags": []
   },
   "outputs": [],
   "source": [
    "var = [\"R\"]\n",
    "run = slice(0, 999)\n",
    "disorder_correlation = \"correlated\"\n",
    "N = num_periods = 50\n",
    "P = period = 300\n",
    "delta = 0.5\n",
    "theta = 0\n",
    "elt = excitonic_layer_thickness = 50\n",
    "disorder_code = disorder_correlation[0]\n",
    "D = str(delta).replace(\".\", \"\")\n",
    "\n",
    "the_plots = plot_singles(var, run, disorder_correlation, num_periods, period, delta, theta)\n",
    "\n",
    "overlay_1 = hv.Overlay(the_plots[:3]).select(run=slice(0,8)).opts(opts.Scatter(alpha=1), clone=True)\n",
    "display(overlay_1)\n",
    "\n",
    "overlay_2 = hv.Overlay([*the_plots[1:3], *the_plots[5:]]).opts(opts.Curve(ylim=(0, None)))\n",
    "display(overlay_2)\n",
    "\n",
    "max_vs_integral = the_plots[3]\n",
    "display(max_vs_integral)\n",
    "\n",
    "violin_plot = the_plots[4]\n",
    "display(violin_plot)"
   ]
  },
  {
   "cell_type": "code",
   "execution_count": null,
   "id": "bbcb35c0-8d67-4266-879c-58c9703c9888",
   "metadata": {
    "tags": []
   },
   "outputs": [],
   "source": [
    "reduced_overlay = overlay_1.select(run=slice(0,2))\n",
    "display(reduced_overlay)\n",
    "hv.save(\n",
    "    reduced_overlay,\n",
    "    filename=fig_path\n",
    "    / f\"{var[0]}_DLOPC_runcurve_reduced_wl_P{P}_elt{elt}_N{N}_th{theta}_D{D}{disorder_code}\",\n",
    "    fmt=\"png\",\n",
    "    toolbar=False,\n",
    ")"
   ]
  },
  {
   "cell_type": "code",
   "execution_count": null,
   "id": "3566d678-744a-41d9-884d-b42f50c73761",
   "metadata": {
    "tags": []
   },
   "outputs": [],
   "source": [
    "hv.save(\n",
    "    overlay_1,\n",
    "    filename=fig_path\n",
    "    / f\"{var[0]}_DLOPC_runcurve_wl_P{P}_elt{elt}_N{N}_th{theta}_D{D}{disorder_code}\",\n",
    "    fmt=\"png\",\n",
    "    toolbar=False,\n",
    ")\n",
    "\n",
    "hv.save(\n",
    "    overlay_2,\n",
    "    filename=fig_path\n",
    "    / f\"{var[0]}_DLOPC_meancurve_wl_P{P}_elt{elt}_N{N}_th{theta}_D{D}{disorder_code}\",\n",
    "    fmt=\"png\",\n",
    "    toolbar=False,\n",
    ")\n",
    "\n",
    "hv.save(\n",
    "    max_vs_integral,\n",
    "    filename=fig_path\n",
    "    / f\"{var[0]}_DLOPC_max_vs_tot_P{P}_elt{elt}_N{N}_th{theta}_D{D}{disorder_code}\",\n",
    "    fmt=\"png\",\n",
    "    toolbar=False,\n",
    ")\n",
    "\n",
    "# have no use for the violin plots yet"
   ]
  },
  {
   "cell_type": "markdown",
   "id": "a54d4f8f-46ca-4a19-ab90-c0d9131012f6",
   "metadata": {},
   "source": [
    "Period=100, D=0.5"
   ]
  },
  {
   "cell_type": "code",
   "execution_count": null,
   "id": "3f03bb49-87c5-47a3-9aa1-753e4c3398aa",
   "metadata": {
    "tags": []
   },
   "outputs": [],
   "source": [
    "var = [\"R\"]\n",
    "run = slice(0, 999)\n",
    "disorder_correlation = \"correlated\"\n",
    "N = num_periods = 5\n",
    "P = period = 100\n",
    "delta = 0.5\n",
    "theta = 0\n",
    "elt = excitonic_layer_thickness = 50\n",
    "disorder_code = disorder_correlation[0]\n",
    "D = str(delta).replace(\".\", \"\")\n",
    "\n",
    "the_plots = plot_singles(var, run, disorder_correlation, num_periods, period, delta, theta)\n",
    "\n",
    "overlay_1 = hv.Overlay(the_plots[:3]).select(run=slice(0,8)).opts(opts.Scatter(alpha=1), clone=True)\n",
    "display(overlay_1)\n",
    "\n",
    "overlay_2 = hv.Overlay([*the_plots[1:3], *the_plots[5:]]).opts(opts.Curve(ylim=(0, None)))\n",
    "display(overlay_2)\n",
    "\n",
    "max_vs_integral = the_plots[3]\n",
    "display(max_vs_integral)\n",
    "\n",
    "violin_plot = the_plots[4]\n",
    "display(violin_plot)"
   ]
  },
  {
   "cell_type": "code",
   "execution_count": null,
   "id": "04d448af-627c-4a09-98fb-43130da48cad",
   "metadata": {
    "tags": []
   },
   "outputs": [],
   "source": [
    "reduced_overlay = overlay_1.select(run=slice(0,2))\n",
    "display(reduced_overlay)\n",
    "hv.save(\n",
    "    reduced_overlay,\n",
    "    filename=fig_path\n",
    "    / f\"{var[0]}_DLOPC_runcurve_reduced_wl_P{P}_elt{elt}_N{N}_th{theta}_D{D}{disorder_code}\",\n",
    "    fmt=\"png\",\n",
    "    toolbar=False,\n",
    ")"
   ]
  },
  {
   "cell_type": "code",
   "execution_count": null,
   "id": "b6545dfd-e5be-4dd8-9ea9-3429e056b2f7",
   "metadata": {
    "tags": []
   },
   "outputs": [],
   "source": [
    "hv.save(\n",
    "    overlay_1,\n",
    "    filename=fig_path\n",
    "    / f\"{var[0]}_DLOPC_runcurve_wl_P{P}_elt{elt}_N{N}_th{theta}_D{D}{disorder_code}\",\n",
    "    fmt=\"png\",\n",
    "    toolbar=False,\n",
    ")\n",
    "\n",
    "hv.save(\n",
    "    overlay_2,\n",
    "    filename=fig_path\n",
    "    / f\"{var[0]}_DLOPC_meancurve_wl_P{P}_elt{elt}_N{N}_th{theta}_D{D}{disorder_code}\",\n",
    "    fmt=\"png\",\n",
    "    toolbar=False,\n",
    ")\n",
    "\n",
    "hv.save(\n",
    "    max_vs_integral,\n",
    "    filename=fig_path\n",
    "    / f\"{var[0]}_DLOPC_max_vs_tot_P{P}_elt{elt}_N{N}_th{theta}_D{D}{disorder_code}\",\n",
    "    fmt=\"png\",\n",
    "    toolbar=False,\n",
    ")\n",
    "\n",
    "# have no use for the violin plots yet"
   ]
  },
  {
   "cell_type": "code",
   "execution_count": null,
   "id": "78df9f6c-beac-4279-813d-f761c69a79ab",
   "metadata": {
    "tags": []
   },
   "outputs": [],
   "source": [
    "var = [\"R\"]\n",
    "run = slice(0, 999)\n",
    "disorder_correlation = \"correlated\"\n",
    "N = num_periods = 20\n",
    "P = period = 100\n",
    "delta = 0.5\n",
    "theta = 0\n",
    "elt = excitonic_layer_thickness = 50\n",
    "disorder_code = disorder_correlation[0]\n",
    "D = str(delta).replace(\".\", \"\")\n",
    "\n",
    "the_plots = plot_singles(var, run, disorder_correlation, num_periods, period, delta, theta)\n",
    "\n",
    "overlay_1 = hv.Overlay(the_plots[:3]).select(run=slice(0,8)).opts(opts.Scatter(alpha=1), clone=True)\n",
    "display(overlay_1)\n",
    "\n",
    "overlay_2 = hv.Overlay([*the_plots[1:3], *the_plots[5:]]).opts(opts.Curve(ylim=(0, None)))\n",
    "display(overlay_2)\n",
    "\n",
    "max_vs_integral = the_plots[3]\n",
    "display(max_vs_integral)\n",
    "\n",
    "violin_plot = the_plots[4]\n",
    "display(violin_plot)"
   ]
  },
  {
   "cell_type": "code",
   "execution_count": null,
   "id": "1ff4f2f6-6b26-4e66-b149-0d8056c984c7",
   "metadata": {
    "tags": []
   },
   "outputs": [],
   "source": [
    "reduced_overlay = overlay_1.select(run=slice(0,2))\n",
    "display(reduced_overlay)\n",
    "hv.save(\n",
    "    reduced_overlay,\n",
    "    filename=fig_path\n",
    "    / f\"{var[0]}_DLOPC_runcurve_reduced_wl_P{P}_elt{elt}_N{N}_th{theta}_D{D}{disorder_code}\",\n",
    "    fmt=\"png\",\n",
    "    toolbar=False,\n",
    ")"
   ]
  },
  {
   "cell_type": "code",
   "execution_count": null,
   "id": "de7f43f0-ccfb-45d6-b5d1-262bef4ab482",
   "metadata": {
    "tags": []
   },
   "outputs": [],
   "source": [
    "hv.save(\n",
    "    overlay_1,\n",
    "    filename=fig_path\n",
    "    / f\"{var[0]}_DLOPC_runcurve_wl_P{P}_elt{elt}_N{N}_th{theta}_D{D}{disorder_code}\",\n",
    "    fmt=\"png\",\n",
    "    toolbar=False,\n",
    ")\n",
    "\n",
    "hv.save(\n",
    "    overlay_2,\n",
    "    filename=fig_path\n",
    "    / f\"{var[0]}_DLOPC_meancurve_wl_P{P}_elt{elt}_N{N}_th{theta}_D{D}{disorder_code}\",\n",
    "    fmt=\"png\",\n",
    "    toolbar=False,\n",
    ")\n",
    "\n",
    "hv.save(\n",
    "    max_vs_integral,\n",
    "    filename=fig_path\n",
    "    / f\"{var[0]}_DLOPC_max_vs_tot_P{P}_elt{elt}_N{N}_th{theta}_D{D}{disorder_code}\",\n",
    "    fmt=\"png\",\n",
    "    toolbar=False,\n",
    ")\n",
    "\n",
    "# have no use for the violin plots yet"
   ]
  },
  {
   "cell_type": "code",
   "execution_count": null,
   "id": "60979489-ab11-4507-8e24-ed6ff51424de",
   "metadata": {
    "tags": []
   },
   "outputs": [],
   "source": [
    "var = [\"R\"]\n",
    "run = slice(0, 999)\n",
    "disorder_correlation = \"correlated\"\n",
    "N = num_periods = 50\n",
    "P = period = 100\n",
    "delta = 0.5\n",
    "theta = 0\n",
    "elt = excitonic_layer_thickness = 50\n",
    "disorder_code = disorder_correlation[0]\n",
    "D = str(delta).replace(\".\", \"\")\n",
    "\n",
    "the_plots = plot_singles(var, run, disorder_correlation, num_periods, period, delta, theta)\n",
    "\n",
    "overlay_1 = hv.Overlay(the_plots[:3]).select(run=slice(0,8)).opts(opts.Scatter(alpha=1), clone=True)\n",
    "display(overlay_1)\n",
    "\n",
    "overlay_2 = hv.Overlay([*the_plots[1:3], *the_plots[5:]]).opts(opts.Curve(ylim=(0, None)))\n",
    "display(overlay_2)\n",
    "\n",
    "max_vs_integral = the_plots[3]\n",
    "display(max_vs_integral)\n",
    "\n",
    "violin_plot = the_plots[4]\n",
    "display(violin_plot)"
   ]
  },
  {
   "cell_type": "code",
   "execution_count": null,
   "id": "79e99a13-ded5-464b-a0cc-36e335306786",
   "metadata": {
    "tags": []
   },
   "outputs": [],
   "source": [
    "reduced_overlay = overlay_1.select(run=slice(0,2))\n",
    "display(reduced_overlay)\n",
    "hv.save(\n",
    "    reduced_overlay,\n",
    "    filename=fig_path\n",
    "    / f\"{var[0]}_DLOPC_runcurve_reduced_wl_P{P}_elt{elt}_N{N}_th{theta}_D{D}{disorder_code}\",\n",
    "    fmt=\"png\",\n",
    "    toolbar=False,\n",
    ")"
   ]
  },
  {
   "cell_type": "code",
   "execution_count": null,
   "id": "35fd6009-2af7-48dc-88f5-dfb83b524619",
   "metadata": {
    "tags": []
   },
   "outputs": [],
   "source": [
    "hv.save(\n",
    "    overlay_1,\n",
    "    filename=fig_path\n",
    "    / f\"{var[0]}_DLOPC_runcurve_wl_P{P}_elt{elt}_N{N}_th{theta}_D{D}{disorder_code}\",\n",
    "    fmt=\"png\",\n",
    "    toolbar=False,\n",
    ")\n",
    "\n",
    "hv.save(\n",
    "    overlay_2,\n",
    "    filename=fig_path\n",
    "    / f\"{var[0]}_DLOPC_meancurve_wl_P{P}_elt{elt}_N{N}_th{theta}_D{D}{disorder_code}\",\n",
    "    fmt=\"png\",\n",
    "    toolbar=False,\n",
    ")\n",
    "\n",
    "hv.save(\n",
    "    max_vs_integral,\n",
    "    filename=fig_path\n",
    "    / f\"{var[0]}_DLOPC_max_vs_tot_P{P}_elt{elt}_N{N}_th{theta}_D{D}{disorder_code}\",\n",
    "    fmt=\"png\",\n",
    "    toolbar=False,\n",
    ")\n",
    "\n",
    "# have no use for the violin plots yet"
   ]
  },
  {
   "cell_type": "markdown",
   "id": "503cf0dc-8c1d-486f-a6e0-6dc6195ae63f",
   "metadata": {},
   "source": [
    "Period=100, D=1?"
   ]
  },
  {
   "cell_type": "code",
   "execution_count": null,
   "id": "f660ac22-3cb8-425a-a39d-b1a0a51bb299",
   "metadata": {
    "tags": []
   },
   "outputs": [],
   "source": [
    "var = [\"R\"]\n",
    "run = slice(0, 999)\n",
    "disorder_correlation = \"correlated\"\n",
    "N = num_periods = 5\n",
    "P = period = 100\n",
    "delta = 1\n",
    "theta = 0\n",
    "elt = excitonic_layer_thickness = 50\n",
    "disorder_code = disorder_correlation[0]\n",
    "D = str(delta).replace(\".\", \"\")\n",
    "\n",
    "the_plots = plot_singles(var, run, disorder_correlation, num_periods, period, delta, theta)\n",
    "\n",
    "overlay_1 = hv.Overlay(the_plots[:3]).select(run=slice(0,8)).opts(opts.Scatter(alpha=1), clone=True)\n",
    "display(overlay_1)\n",
    "\n",
    "overlay_2 = hv.Overlay([*the_plots[1:3], *the_plots[5:]]).opts(opts.Curve(ylim=(0, None)))\n",
    "display(overlay_2)\n",
    "\n",
    "max_vs_integral = the_plots[3]\n",
    "display(max_vs_integral)\n",
    "\n",
    "violin_plot = the_plots[4]\n",
    "display(violin_plot)"
   ]
  },
  {
   "cell_type": "code",
   "execution_count": null,
   "id": "4869c56c-786c-493a-9fbc-5ec9c687647d",
   "metadata": {
    "tags": []
   },
   "outputs": [],
   "source": [
    "reduced_overlay = overlay_1.select(run=slice(0,2))\n",
    "display(reduced_overlay)\n",
    "hv.save(\n",
    "    reduced_overlay,\n",
    "    filename=fig_path\n",
    "    / f\"{var[0]}_DLOPC_runcurve_reduced_wl_P{P}_elt{elt}_N{N}_th{theta}_D{D}{disorder_code}\",\n",
    "    fmt=\"png\",\n",
    "    toolbar=False,\n",
    ")"
   ]
  },
  {
   "cell_type": "code",
   "execution_count": null,
   "id": "ac83d444-c8f8-4867-a990-db5aefa4dc00",
   "metadata": {
    "tags": []
   },
   "outputs": [],
   "source": [
    "hv.save(\n",
    "    overlay_1,\n",
    "    filename=fig_path\n",
    "    / f\"{var[0]}_DLOPC_runcurve_wl_P{P}_elt{elt}_N{N}_th{theta}_D{D}{disorder_code}\",\n",
    "    fmt=\"png\",\n",
    "    toolbar=False,\n",
    ")\n",
    "\n",
    "hv.save(\n",
    "    overlay_2,\n",
    "    filename=fig_path\n",
    "    / f\"{var[0]}_DLOPC_meancurve_wl_P{P}_elt{elt}_N{N}_th{theta}_D{D}{disorder_code}\",\n",
    "    fmt=\"png\",\n",
    "    toolbar=False,\n",
    ")\n",
    "\n",
    "hv.save(\n",
    "    max_vs_integral,\n",
    "    filename=fig_path\n",
    "    / f\"{var[0]}_DLOPC_max_vs_tot_P{P}_elt{elt}_N{N}_th{theta}_D{D}{disorder_code}\",\n",
    "    fmt=\"png\",\n",
    "    toolbar=False,\n",
    ")\n",
    "\n",
    "# have no use for the violin plots yet"
   ]
  },
  {
   "cell_type": "code",
   "execution_count": null,
   "id": "fbb3e5eb-1092-4a8e-8633-71fb2e0427d4",
   "metadata": {
    "tags": []
   },
   "outputs": [],
   "source": [
    "var = [\"R\"]\n",
    "run = slice(0, 999)\n",
    "disorder_correlation = \"correlated\"\n",
    "N = num_periods = 20\n",
    "P = period = 100\n",
    "delta = 1\n",
    "theta = 0\n",
    "elt = excitonic_layer_thickness = 50\n",
    "disorder_code = disorder_correlation[0]\n",
    "D = str(delta).replace(\".\", \"\")\n",
    "\n",
    "the_plots = plot_singles(var, run, disorder_correlation, num_periods, period, delta, theta)\n",
    "\n",
    "overlay_1 = hv.Overlay(the_plots[:3]).select(run=slice(0,8)).opts(opts.Scatter(alpha=1), clone=True)\n",
    "display(overlay_1)\n",
    "\n",
    "overlay_2 = hv.Overlay([*the_plots[1:3], *the_plots[5:]]).opts(opts.Curve(ylim=(0, None)))\n",
    "display(overlay_2)\n",
    "\n",
    "max_vs_integral = the_plots[3]\n",
    "display(max_vs_integral)\n",
    "\n",
    "violin_plot = the_plots[4]\n",
    "display(violin_plot)"
   ]
  },
  {
   "cell_type": "code",
   "execution_count": null,
   "id": "d0c94676-5bf0-43c2-8039-2673c081dd56",
   "metadata": {
    "tags": []
   },
   "outputs": [],
   "source": [
    "reduced_overlay = overlay_1.select(run=slice(0,2))\n",
    "display(reduced_overlay)\n",
    "hv.save(\n",
    "    reduced_overlay,\n",
    "    filename=fig_path\n",
    "    / f\"{var[0]}_DLOPC_runcurve_reduced_wl_P{P}_elt{elt}_N{N}_th{theta}_D{D}{disorder_code}\",\n",
    "    fmt=\"png\",\n",
    "    toolbar=False,\n",
    ")"
   ]
  },
  {
   "cell_type": "code",
   "execution_count": null,
   "id": "a06bca5a-675c-4ec9-ab5d-d8144a2fac01",
   "metadata": {
    "tags": []
   },
   "outputs": [],
   "source": [
    "hv.save(\n",
    "    overlay_1,\n",
    "    filename=fig_path\n",
    "    / f\"{var[0]}_DLOPC_runcurve_wl_P{P}_elt{elt}_N{N}_th{theta}_D{D}{disorder_code}\",\n",
    "    fmt=\"png\",\n",
    "    toolbar=False,\n",
    ")\n",
    "\n",
    "hv.save(\n",
    "    overlay_2,\n",
    "    filename=fig_path\n",
    "    / f\"{var[0]}_DLOPC_meancurve_wl_P{P}_elt{elt}_N{N}_th{theta}_D{D}{disorder_code}\",\n",
    "    fmt=\"png\",\n",
    "    toolbar=False,\n",
    ")\n",
    "\n",
    "hv.save(\n",
    "    max_vs_integral,\n",
    "    filename=fig_path\n",
    "    / f\"{var[0]}_DLOPC_max_vs_tot_P{P}_elt{elt}_N{N}_th{theta}_D{D}{disorder_code}\",\n",
    "    fmt=\"png\",\n",
    "    toolbar=False,\n",
    ")\n",
    "\n",
    "# have no use for the violin plots yet"
   ]
  },
  {
   "cell_type": "code",
   "execution_count": null,
   "id": "d691f48f-8659-4ff5-85d9-85b2e38d82f7",
   "metadata": {
    "tags": []
   },
   "outputs": [],
   "source": [
    "var = [\"R\"]\n",
    "run = slice(0, 2)\n",
    "disorder_correlation = \"correlated\"\n",
    "N = num_periods = 50\n",
    "P = period = 100\n",
    "delta = 1\n",
    "theta = 0\n",
    "elt = excitonic_layer_thickness = 50\n",
    "disorder_code = disorder_correlation[0]\n",
    "D = str(delta).replace(\".\", \"\")\n",
    "\n",
    "the_plots = plot_singles(var, run, disorder_correlation, num_periods, period, delta, theta)\n",
    "\n",
    "overlay_1 = hv.Overlay(the_plots[:3]).select(run=slice(0,8)).opts(opts.Scatter(alpha=1), clone=True)\n",
    "display(overlay_1)\n",
    "\n",
    "overlay_2 = hv.Overlay([*the_plots[1:3], *the_plots[5:]]).opts(opts.Curve(ylim=(0, None)))\n",
    "display(overlay_2)\n",
    "\n",
    "max_vs_integral = the_plots[3]\n",
    "display(max_vs_integral)\n",
    "\n",
    "violin_plot = the_plots[4]\n",
    "display(violin_plot)"
   ]
  },
  {
   "cell_type": "code",
   "execution_count": null,
   "id": "758ecf54-9d6a-4746-bd84-367cb534162c",
   "metadata": {
    "tags": []
   },
   "outputs": [],
   "source": [
    "reduced_overlay = overlay_1.select(run=slice(0,2))\n",
    "display(reduced_overlay)"
   ]
  },
  {
   "cell_type": "code",
   "execution_count": null,
   "id": "85eaa35b-091a-4c68-a310-b71e69270efd",
   "metadata": {
    "tags": []
   },
   "outputs": [],
   "source": [
    "hv.save(\n",
    "    reduced_overlay,\n",
    "    filename=fig_path\n",
    "    / f\"{var[0]}_DLOPC_runcurve_reduced_wl_P{P}_elt{elt}_N{N}_th{theta}_D{D}{disorder_code}\",\n",
    "    fmt=\"png\",\n",
    "    toolbar=False,\n",
    ")"
   ]
  },
  {
   "cell_type": "code",
   "execution_count": null,
   "id": "0155ea5a-be23-444a-a665-8118adfe65e1",
   "metadata": {
    "tags": []
   },
   "outputs": [],
   "source": [
    "reduced_overlay = overlay_1.select(run=0)"
   ]
  },
  {
   "cell_type": "code",
   "execution_count": null,
   "id": "84f13aed-336b-4e10-81e3-4ae43dbc20a7",
   "metadata": {
    "tags": []
   },
   "outputs": [],
   "source": [
    "reduced_overlay.NdOverlay.I.opts(opts.Curve(color=blue, alpha=1))"
   ]
  },
  {
   "cell_type": "code",
   "execution_count": null,
   "id": "161d3cfc-f012-4377-9b82-edd441fcb737",
   "metadata": {
    "tags": []
   },
   "outputs": [],
   "source": [
    "temp_curve = reduced_overlay.NdOverlay.I.data"
   ]
  },
  {
   "cell_type": "code",
   "execution_count": null,
   "id": "ce5ec4b1-70f7-43c6-b473-07cb63e9c8f4",
   "metadata": {
    "tags": []
   },
   "outputs": [],
   "source": [
    "peaks = find_peaks(temp_curve[var[0]])[0]"
   ]
  },
  {
   "cell_type": "code",
   "execution_count": null,
   "id": "83c6dc4e-1e82-4399-bb19-1357f0a965be",
   "metadata": {
    "tags": []
   },
   "outputs": [],
   "source": [
    "wls = temp_curve.loc[peaks].wavelength.values"
   ]
  },
  {
   "cell_type": "code",
   "execution_count": null,
   "id": "926c12f9-3c8f-4901-b544-91d779432e6b",
   "metadata": {
    "tags": []
   },
   "outputs": [],
   "source": [
    "vals = temp_curve.loc[peaks][var[0]].values"
   ]
  },
  {
   "cell_type": "code",
   "execution_count": null,
   "id": "d1f493f6-4bd6-4984-afb3-14fc44c631b0",
   "metadata": {
    "tags": []
   },
   "outputs": [],
   "source": [
    "arrows = [hv.Arrow(wl, val, f\"{i+1}\", 'v') for i, (wl, val) in enumerate(zip(wls, vals))]"
   ]
  },
  {
   "cell_type": "code",
   "execution_count": null,
   "id": "02cba661-e6e7-4e12-9ce5-b8ac12df6792",
   "metadata": {
    "tags": []
   },
   "outputs": [],
   "source": [
    "the_plot = (reduced_overlay*hv.Overlay(arrows)).opts(opts.Curve(ylim=(0, 0.15)))\n",
    "the_plot"
   ]
  },
  {
   "cell_type": "code",
   "execution_count": null,
   "id": "469d40c9-10bd-40f3-aff2-bdb19f42fbc9",
   "metadata": {
    "tags": []
   },
   "outputs": [],
   "source": [
    "hv.save(\n",
    "    the_plot,\n",
    "    filename=fig_path\n",
    "    / f\"{var[0]}_DLOPC_runcurve_reduced_wl_P{P}_elt{elt}_N{N}_th{theta}_D{D}{disorder_code}_annotated\",\n",
    "    fmt=\"png\",\n",
    "    toolbar=False,\n",
    ")"
   ]
  },
  {
   "cell_type": "code",
   "execution_count": null,
   "id": "bf7e58a2-ae9d-4a88-85bf-dbff22618786",
   "metadata": {
    "tags": []
   },
   "outputs": [],
   "source": [
    "var = [\"R\"]\n",
    "run = slice(0, 5)\n",
    "disorder_correlation = \"correlated\"\n",
    "N = num_periods = 20\n",
    "P = period = 100\n",
    "delta = 1\n",
    "theta = 0\n",
    "elt = excitonic_layer_thickness = 50\n",
    "disorder_code = disorder_correlation[0]\n",
    "D = str(delta).replace(\".\", \"\")\n",
    "\n",
    "the_plots = plot_singles(var, run, disorder_correlation, num_periods, period, delta, theta)\n",
    "\n",
    "overlay_1 = hv.Overlay(the_plots[:3]).select(run=slice(0,8)).opts(opts.Scatter(alpha=1), clone=True)\n",
    "display(overlay_1)\n",
    "\n",
    "overlay_2 = hv.Overlay([*the_plots[1:3], *the_plots[5:]]).opts(opts.Curve(ylim=(0, None)))\n",
    "display(overlay_2)\n",
    "\n",
    "max_vs_integral = the_plots[3]\n",
    "display(max_vs_integral)\n",
    "\n",
    "violin_plot = the_plots[4]\n",
    "display(violin_plot)"
   ]
  },
  {
   "cell_type": "code",
   "execution_count": null,
   "id": "c2407651-5770-4da8-854a-383e351561bc",
   "metadata": {
    "tags": []
   },
   "outputs": [],
   "source": [
    "reduced_overlay = overlay_1.select(run=1)"
   ]
  },
  {
   "cell_type": "code",
   "execution_count": null,
   "id": "b9d69266-37cb-4e6f-b28d-354fb220a112",
   "metadata": {
    "tags": []
   },
   "outputs": [],
   "source": [
    "reduced_overlay.NdOverlay.I.opts(opts.Curve(color=blue, alpha=1))"
   ]
  },
  {
   "cell_type": "code",
   "execution_count": null,
   "id": "7c201f7f-fd53-4153-b8b7-0f7fe0fcd852",
   "metadata": {
    "tags": []
   },
   "outputs": [],
   "source": [
    "temp_curve = reduced_overlay.NdOverlay.I.data.reset_index()"
   ]
  },
  {
   "cell_type": "code",
   "execution_count": null,
   "id": "66b934ee-ddf7-4530-8b9f-50a227d18ca4",
   "metadata": {
    "tags": []
   },
   "outputs": [],
   "source": [
    "peaks = find_peaks(temp_curve[var[0]])[0]"
   ]
  },
  {
   "cell_type": "code",
   "execution_count": null,
   "id": "9ebb93c9-4949-497c-b7ba-735864b11c13",
   "metadata": {
    "tags": []
   },
   "outputs": [],
   "source": [
    "wls = temp_curve.loc[peaks].wavelength.values"
   ]
  },
  {
   "cell_type": "code",
   "execution_count": null,
   "id": "48a2f2b7-edd2-4135-8f7e-24246df40460",
   "metadata": {
    "tags": []
   },
   "outputs": [],
   "source": [
    "vals = temp_curve.loc[peaks][var[0]].values"
   ]
  },
  {
   "cell_type": "code",
   "execution_count": null,
   "id": "79d51c66-98cd-495c-9a1b-0c34782866b8",
   "metadata": {
    "tags": []
   },
   "outputs": [],
   "source": [
    "arrows = [hv.Arrow(wl, val, f\"{i+1}\", 'v') for i, (wl, val) in enumerate(zip(wls, vals))]"
   ]
  },
  {
   "cell_type": "code",
   "execution_count": null,
   "id": "8a6fe6fb-1bad-46cb-96a1-10e20b34bc92",
   "metadata": {
    "tags": []
   },
   "outputs": [],
   "source": [
    "the_plot = (reduced_overlay*hv.Overlay(arrows)).opts(opts.Curve(ylim=(0, 0.03)))\n",
    "the_plot"
   ]
  },
  {
   "cell_type": "code",
   "execution_count": null,
   "id": "206885fc-8866-41d5-a6a4-cf7315fbceb0",
   "metadata": {
    "tags": []
   },
   "outputs": [],
   "source": [
    "hv.save(\n",
    "    the_plot,\n",
    "    filename=fig_path\n",
    "    / f\"{var[0]}_DLOPC_runcurve_reduced_wl_P{P}_elt{elt}_N{N}_th{theta}_D{D}{disorder_code}_annotated\",\n",
    "    fmt=\"png\",\n",
    "    toolbar=False,\n",
    ")"
   ]
  },
  {
   "cell_type": "code",
   "execution_count": null,
   "id": "2f11bf2c-cd54-45e8-803c-1f106c4b8026",
   "metadata": {
    "tags": []
   },
   "outputs": [],
   "source": [
    "the_plot_1 = wrap_plot_field(\n",
    "    wavelength=778,\n",
    "    excitonic_layer_thickness=excitonic_layer_thickness,\n",
    "    period=period,\n",
    "    num_periods=num_periods,\n",
    "    theta=theta,\n",
    "    # delta=delta,\n",
    "    # run=5,\n",
    "    # disorder_correlation=disorder_correlation,\n",
    ")"
   ]
  },
  {
   "cell_type": "code",
   "execution_count": null,
   "id": "4bac7ea5-19ef-49f5-9587-cce057000b2d",
   "metadata": {
    "tags": []
   },
   "outputs": [],
   "source": [
    "the_plot_2 = wrap_plot_field(\n",
    "    wavelength=734,\n",
    "    excitonic_layer_thickness=excitonic_layer_thickness,\n",
    "    period=period,\n",
    "    num_periods=num_periods,\n",
    "    theta=theta,\n",
    "    delta=delta,\n",
    "    run=1,\n",
    "    disorder_correlation=disorder_correlation,\n",
    ")"
   ]
  },
  {
   "cell_type": "code",
   "execution_count": null,
   "id": "fdeca469-24dd-4f85-b561-be6c8b16da23",
   "metadata": {
    "tags": []
   },
   "outputs": [],
   "source": [
    "the_plot_3 = wrap_plot_field(\n",
    "    wavelength=778,\n",
    "    excitonic_layer_thickness=excitonic_layer_thickness,\n",
    "    period=period,\n",
    "    num_periods=num_periods,\n",
    "    theta=theta,\n",
    "    delta=delta,\n",
    "    run=1,\n",
    "    disorder_correlation=disorder_correlation,\n",
    ")"
   ]
  },
  {
   "cell_type": "code",
   "execution_count": null,
   "id": "1a110d53-2e49-404c-9ce7-0af792161b48",
   "metadata": {
    "tags": []
   },
   "outputs": [],
   "source": [
    "the_plot_4 = wrap_plot_field(\n",
    "    wavelength=847,\n",
    "    excitonic_layer_thickness=excitonic_layer_thickness,\n",
    "    period=period,\n",
    "    num_periods=num_periods,\n",
    "    theta=theta,\n",
    "    delta=delta,\n",
    "    run=1,\n",
    "    disorder_correlation=disorder_correlation,\n",
    ")"
   ]
  },
  {
   "cell_type": "code",
   "execution_count": null,
   "id": "e8924a5a-05bf-40a6-b6ff-cff36d1cee4d",
   "metadata": {
    "tags": []
   },
   "outputs": [],
   "source": [
    "the_plot = (\n",
    "    hv.Layout(\n",
    "        [\n",
    "            the_plot_1,\n",
    "            the_plot_2,\n",
    "            the_plot_3,\n",
    "            the_plot_4,\n",
    "        ]\n",
    "    ).opts(opts.Curve(color=blue))\n",
    ").cols(\n",
    "    1\n",
    ")  # autoranging, yeah!\n",
    "the_plot"
   ]
  },
  {
   "cell_type": "code",
   "execution_count": null,
   "id": "d25f48a1-4cb2-420c-8049-43d5155d3285",
   "metadata": {
    "tags": []
   },
   "outputs": [],
   "source": [
    "var = [\"R\"]\n",
    "run = slice(0, 5)\n",
    "disorder_correlation = \"uncorrelated\"\n",
    "N = num_periods = 20\n",
    "P = period = 100\n",
    "delta = 0.5\n",
    "theta = 0\n",
    "elt = excitonic_layer_thickness = 50\n",
    "disorder_code = disorder_correlation[0]\n",
    "D = str(delta).replace(\".\", \"\")\n",
    "\n",
    "the_plots = plot_singles(var, run, disorder_correlation, num_periods, period, delta, theta)\n",
    "\n",
    "overlay_1 = hv.Overlay(the_plots[:3]).select(run=slice(0,8)).opts(opts.Scatter(alpha=1), clone=True)\n",
    "display(overlay_1)\n",
    "\n",
    "overlay_2 = hv.Overlay([*the_plots[1:3], *the_plots[5:]]).opts(opts.Curve(ylim=(0, None)))\n",
    "display(overlay_2)\n",
    "\n",
    "max_vs_integral = the_plots[3]\n",
    "display(max_vs_integral)\n",
    "\n",
    "violin_plot = the_plots[4]\n",
    "display(violin_plot)"
   ]
  },
  {
   "cell_type": "code",
   "execution_count": null,
   "id": "65729696-124d-4bc1-abd4-dc6051faa707",
   "metadata": {
    "tags": []
   },
   "outputs": [],
   "source": [
    "reduced_overlay = overlay_1.select(run=5)"
   ]
  },
  {
   "cell_type": "code",
   "execution_count": null,
   "id": "d9c79af3-52a6-4b05-9be9-89af9aca9100",
   "metadata": {
    "tags": []
   },
   "outputs": [],
   "source": [
    "reduced_overlay.NdOverlay.I.opts(opts.Curve(color=blue, alpha=1))"
   ]
  },
  {
   "cell_type": "code",
   "execution_count": null,
   "id": "621fca1f-29e9-440c-a0cc-45dbc98d9364",
   "metadata": {
    "tags": []
   },
   "outputs": [],
   "source": [
    "temp_curve = reduced_overlay.NdOverlay.I.data.reset_index()"
   ]
  },
  {
   "cell_type": "code",
   "execution_count": null,
   "id": "deecea5d-77c1-4632-a9ed-b9a67b2008d2",
   "metadata": {
    "tags": []
   },
   "outputs": [],
   "source": [
    "peaks = find_peaks(temp_curve[var[0]])[0]"
   ]
  },
  {
   "cell_type": "code",
   "execution_count": null,
   "id": "2c79e7e0-68dc-40a9-a259-f5ec3459de02",
   "metadata": {
    "tags": []
   },
   "outputs": [],
   "source": [
    "wls = temp_curve.loc[peaks].wavelength.values"
   ]
  },
  {
   "cell_type": "code",
   "execution_count": null,
   "id": "142ba9b5-0c4b-434b-b527-9fcc337eb49e",
   "metadata": {
    "tags": []
   },
   "outputs": [],
   "source": [
    "vals = temp_curve.loc[peaks][var[0]].values"
   ]
  },
  {
   "cell_type": "code",
   "execution_count": null,
   "id": "e8129881-621a-4a9e-bd0d-b802c9331dc3",
   "metadata": {
    "tags": []
   },
   "outputs": [],
   "source": [
    "arrows = [hv.Arrow(wl, val, f\"{i+1}\", 'v') for i, (wl, val) in enumerate(zip(wls, vals))]"
   ]
  },
  {
   "cell_type": "code",
   "execution_count": null,
   "id": "3182c45b-63c9-4d2f-b4f8-e20c70668311",
   "metadata": {
    "tags": []
   },
   "outputs": [],
   "source": [
    "the_plot = (reduced_overlay*hv.Overlay(arrows)).opts(opts.Curve(ylim=(0, 0.09)))\n",
    "the_plot"
   ]
  },
  {
   "cell_type": "code",
   "execution_count": null,
   "id": "adb02fcc-7d4c-4899-8887-fb1fad359796",
   "metadata": {
    "tags": []
   },
   "outputs": [],
   "source": [
    "hv.save(\n",
    "    the_plot,\n",
    "    filename=fig_path\n",
    "    / f\"{var[0]}_DLOPC_runcurve_reduced_wl_P{P}_elt{elt}_N{N}_th{theta}_D{D}{disorder_code}_annotated\",\n",
    "    fmt=\"png\",\n",
    "    toolbar=False,\n",
    ")"
   ]
  },
  {
   "cell_type": "code",
   "execution_count": null,
   "id": "f03ecb55-cb39-4cfc-9c11-e142c6bd76f7",
   "metadata": {
    "tags": []
   },
   "outputs": [],
   "source": [
    "the_plot_1 = wrap_plot_field(\n",
    "    wavelength=535,\n",
    "    excitonic_layer_thickness=excitonic_layer_thickness,\n",
    "    period=period,\n",
    "    num_periods=num_periods,\n",
    "    theta=theta,\n",
    "    # delta=delta,\n",
    "    # run=5,\n",
    "    # disorder_correlation=disorder_correlation,\n",
    ")"
   ]
  },
  {
   "cell_type": "code",
   "execution_count": null,
   "id": "02ad4f7a-5b40-4bd4-b16c-129f20453f47",
   "metadata": {
    "tags": []
   },
   "outputs": [],
   "source": [
    "the_plot_2 = wrap_plot_field(\n",
    "    wavelength=562,\n",
    "    excitonic_layer_thickness=excitonic_layer_thickness,\n",
    "    period=period,\n",
    "    num_periods=num_periods,\n",
    "    theta=theta,\n",
    "    delta=delta,\n",
    "    run=5,\n",
    "    disorder_correlation=disorder_correlation,\n",
    ")"
   ]
  },
  {
   "cell_type": "code",
   "execution_count": null,
   "id": "190e47d1-8e4e-4b9f-83f6-ea3433cf52f5",
   "metadata": {
    "tags": []
   },
   "outputs": [],
   "source": [
    "the_plot_3 = wrap_plot_field(\n",
    "    wavelength=535,\n",
    "    excitonic_layer_thickness=excitonic_layer_thickness,\n",
    "    period=period,\n",
    "    num_periods=num_periods,\n",
    "    theta=theta,\n",
    "    delta=delta,\n",
    "    run=5,\n",
    "    disorder_correlation=disorder_correlation,\n",
    ")"
   ]
  },
  {
   "cell_type": "code",
   "execution_count": null,
   "id": "7ef6ba7c-cc76-4962-a682-9c36be99911a",
   "metadata": {
    "tags": []
   },
   "outputs": [],
   "source": [
    "the_plot_4 = wrap_plot_field(\n",
    "    wavelength=508,\n",
    "    excitonic_layer_thickness=excitonic_layer_thickness,\n",
    "    period=period,\n",
    "    num_periods=num_periods,\n",
    "    theta=theta,\n",
    "    delta=delta,\n",
    "    run=5,\n",
    "    disorder_correlation=disorder_correlation,\n",
    ")"
   ]
  },
  {
   "cell_type": "code",
   "execution_count": null,
   "id": "6b5f3618-c997-4c87-a201-dcece97dd9c6",
   "metadata": {
    "tags": []
   },
   "outputs": [],
   "source": [
    "the_plot = (\n",
    "    hv.Layout(\n",
    "        [\n",
    "            the_plot_1,\n",
    "            the_plot_2,\n",
    "            the_plot_3,\n",
    "            the_plot_4,\n",
    "        ]\n",
    "    ).opts(opts.Curve(color=blue))\n",
    ").cols(\n",
    "    1\n",
    ")  # autoranging, yeah!\n",
    "the_plot"
   ]
  },
  {
   "cell_type": "markdown",
   "id": "f198e9a0-9e8d-4d11-ae38-43f2e932e39b",
   "metadata": {},
   "source": [
    "Period=150, D=0.5"
   ]
  },
  {
   "cell_type": "code",
   "execution_count": null,
   "id": "d3f057f1-b6aa-4c33-a590-20fc38deec88",
   "metadata": {
    "tags": []
   },
   "outputs": [],
   "source": [
    "var = [\"R\"]\n",
    "run = slice(0, 999)\n",
    "disorder_correlation = \"correlated\"\n",
    "N = num_periods = 5\n",
    "P = period = 150\n",
    "delta = 0.5\n",
    "theta = 0\n",
    "elt = excitonic_layer_thickness = 50\n",
    "disorder_code = disorder_correlation[0]\n",
    "D = str(delta).replace(\".\", \"\")\n",
    "\n",
    "the_plots = plot_singles(var, run, disorder_correlation, num_periods, period, delta, theta)\n",
    "\n",
    "overlay_1 = hv.Overlay(the_plots[:3]).select(run=slice(0,8)).opts(opts.Scatter(alpha=1), clone=True)\n",
    "display(overlay_1)\n",
    "\n",
    "overlay_2 = hv.Overlay([*the_plots[1:3], *the_plots[5:]]).opts(opts.Curve(ylim=(0, None)))\n",
    "display(overlay_2)\n",
    "\n",
    "max_vs_integral = the_plots[3]\n",
    "display(max_vs_integral)\n",
    "\n",
    "violin_plot = the_plots[4]\n",
    "display(violin_plot)"
   ]
  },
  {
   "cell_type": "code",
   "execution_count": null,
   "id": "4c2f5d4c-a31d-4f98-b8ae-be92531a37a9",
   "metadata": {
    "tags": []
   },
   "outputs": [],
   "source": [
    "reduced_overlay = overlay_1.select(run=slice(0,2))\n",
    "display(reduced_overlay)\n",
    "hv.save(\n",
    "    reduced_overlay,\n",
    "    filename=fig_path\n",
    "    / f\"{var[0]}_DLOPC_runcurve_reduced_wl_P{P}_elt{elt}_N{N}_th{theta}_D{D}{disorder_code}\",\n",
    "    fmt=\"png\",\n",
    "    toolbar=False,\n",
    ")"
   ]
  },
  {
   "cell_type": "code",
   "execution_count": null,
   "id": "39a761b2-ae68-4cea-9380-68d26784230b",
   "metadata": {
    "tags": []
   },
   "outputs": [],
   "source": [
    "hv.save(\n",
    "    overlay_1,\n",
    "    filename=fig_path\n",
    "    / f\"{var[0]}_DLOPC_runcurve_wl_P{P}_elt{elt}_N{N}_th{theta}_D{D}{disorder_code}\",\n",
    "    fmt=\"png\",\n",
    "    toolbar=False,\n",
    ")\n",
    "\n",
    "hv.save(\n",
    "    overlay_2,\n",
    "    filename=fig_path\n",
    "    / f\"{var[0]}_DLOPC_meancurve_wl_P{P}_elt{elt}_N{N}_th{theta}_D{D}{disorder_code}\",\n",
    "    fmt=\"png\",\n",
    "    toolbar=False,\n",
    ")\n",
    "\n",
    "hv.save(\n",
    "    max_vs_integral,\n",
    "    filename=fig_path\n",
    "    / f\"{var[0]}_DLOPC_max_vs_tot_P{P}_elt{elt}_N{N}_th{theta}_D{D}{disorder_code}\",\n",
    "    fmt=\"png\",\n",
    "    toolbar=False,\n",
    ")\n",
    "\n",
    "# have no use for the violin plots yet"
   ]
  },
  {
   "cell_type": "code",
   "execution_count": null,
   "id": "1446c2c7-9f77-46c4-aeb4-b967cb9f7d36",
   "metadata": {
    "tags": []
   },
   "outputs": [],
   "source": [
    "var = [\"R\"]\n",
    "run = slice(0, 999)\n",
    "disorder_correlation = \"correlated\"\n",
    "N = num_periods = 20\n",
    "P = period = 150\n",
    "delta = 0.5\n",
    "theta = 0\n",
    "elt = excitonic_layer_thickness = 50\n",
    "disorder_code = disorder_correlation[0]\n",
    "D = str(delta).replace(\".\", \"\")\n",
    "\n",
    "the_plots = plot_singles(var, run, disorder_correlation, num_periods, period, delta, theta)\n",
    "\n",
    "overlay_1 = hv.Overlay(the_plots[:3]).select(run=slice(0,8)).opts(opts.Scatter(alpha=1), clone=True)\n",
    "display(overlay_1)\n",
    "\n",
    "overlay_2 = hv.Overlay([*the_plots[1:3], *the_plots[5:]]).opts(opts.Curve(ylim=(0, None)))\n",
    "display(overlay_2)\n",
    "\n",
    "max_vs_integral = the_plots[3]\n",
    "display(max_vs_integral)\n",
    "\n",
    "violin_plot = the_plots[4]\n",
    "display(violin_plot)"
   ]
  },
  {
   "cell_type": "code",
   "execution_count": null,
   "id": "93061e98-4882-4da8-9db8-26065f71d938",
   "metadata": {
    "tags": []
   },
   "outputs": [],
   "source": [
    "reduced_overlay = overlay_1.select(run=slice(0,2))\n",
    "display(reduced_overlay)\n",
    "hv.save(\n",
    "    reduced_overlay,\n",
    "    filename=fig_path\n",
    "    / f\"{var[0]}_DLOPC_runcurve_reduced_wl_P{P}_elt{elt}_N{N}_th{theta}_D{D}{disorder_code}\",\n",
    "    fmt=\"png\",\n",
    "    toolbar=False,\n",
    ")"
   ]
  },
  {
   "cell_type": "code",
   "execution_count": null,
   "id": "0c1dfb45-a95f-467f-9fc7-2eebd2901f31",
   "metadata": {
    "tags": []
   },
   "outputs": [],
   "source": [
    "hv.save(\n",
    "    overlay_1,\n",
    "    filename=fig_path\n",
    "    / f\"{var[0]}_DLOPC_runcurve_wl_P{P}_elt{elt}_N{N}_th{theta}_D{D}{disorder_code}\",\n",
    "    fmt=\"png\",\n",
    "    toolbar=False,\n",
    ")\n",
    "\n",
    "hv.save(\n",
    "    overlay_2,\n",
    "    filename=fig_path\n",
    "    / f\"{var[0]}_DLOPC_meancurve_wl_P{P}_elt{elt}_N{N}_th{theta}_D{D}{disorder_code}\",\n",
    "    fmt=\"png\",\n",
    "    toolbar=False,\n",
    ")\n",
    "\n",
    "hv.save(\n",
    "    max_vs_integral,\n",
    "    filename=fig_path\n",
    "    / f\"{var[0]}_DLOPC_max_vs_tot_P{P}_elt{elt}_N{N}_th{theta}_D{D}{disorder_code}\",\n",
    "    fmt=\"png\",\n",
    "    toolbar=False,\n",
    ")\n",
    "\n",
    "# have no use for the violin plots yet"
   ]
  },
  {
   "cell_type": "code",
   "execution_count": null,
   "id": "333377a3-527a-4ce2-b43c-975334586cdd",
   "metadata": {
    "tags": []
   },
   "outputs": [],
   "source": [
    "var = [\"R\"]\n",
    "run = slice(0, 999)\n",
    "disorder_correlation = \"correlated\"\n",
    "N = num_periods = 50\n",
    "P = period = 150\n",
    "delta = 0.5\n",
    "theta = 0\n",
    "elt = excitonic_layer_thickness = 50\n",
    "disorder_code = disorder_correlation[0]\n",
    "D = str(delta).replace(\".\", \"\")\n",
    "\n",
    "the_plots = plot_singles(var, run, disorder_correlation, num_periods, period, delta, theta)\n",
    "\n",
    "overlay_1 = hv.Overlay(the_plots[:3]).select(run=slice(0,8)).opts(opts.Scatter(alpha=1), clone=True)\n",
    "display(overlay_1)\n",
    "\n",
    "overlay_2 = hv.Overlay([*the_plots[1:3], *the_plots[5:]]).opts(opts.Curve(ylim=(0, None)))\n",
    "display(overlay_2)\n",
    "\n",
    "max_vs_integral = the_plots[3]\n",
    "display(max_vs_integral)\n",
    "\n",
    "violin_plot = the_plots[4]\n",
    "display(violin_plot)"
   ]
  },
  {
   "cell_type": "code",
   "execution_count": null,
   "id": "62c7ea3c-838e-474d-811f-a8590f587230",
   "metadata": {
    "tags": []
   },
   "outputs": [],
   "source": [
    "reduced_overlay = overlay_1.select(run=slice(0,2))\n",
    "display(reduced_overlay)\n",
    "hv.save(\n",
    "    reduced_overlay,\n",
    "    filename=fig_path\n",
    "    / f\"{var[0]}_DLOPC_runcurve_reduced_wl_P{P}_elt{elt}_N{N}_th{theta}_D{D}{disorder_code}\",\n",
    "    fmt=\"png\",\n",
    "    toolbar=False,\n",
    ")"
   ]
  },
  {
   "cell_type": "code",
   "execution_count": null,
   "id": "c70eb6d0-0b4b-471d-92e0-857dc34ed766",
   "metadata": {
    "tags": []
   },
   "outputs": [],
   "source": [
    "hv.save(\n",
    "    overlay_1,\n",
    "    filename=fig_path\n",
    "    / f\"{var[0]}_DLOPC_runcurve_wl_P{P}_elt{elt}_N{N}_th{theta}_D{D}{disorder_code}\",\n",
    "    fmt=\"png\",\n",
    "    toolbar=False,\n",
    ")\n",
    "\n",
    "hv.save(\n",
    "    overlay_2,\n",
    "    filename=fig_path\n",
    "    / f\"{var[0]}_DLOPC_meancurve_wl_P{P}_elt{elt}_N{N}_th{theta}_D{D}{disorder_code}\",\n",
    "    fmt=\"png\",\n",
    "    toolbar=False,\n",
    ")\n",
    "\n",
    "hv.save(\n",
    "    max_vs_integral,\n",
    "    filename=fig_path\n",
    "    / f\"{var[0]}_DLOPC_max_vs_tot_P{P}_elt{elt}_N{N}_th{theta}_D{D}{disorder_code}\",\n",
    "    fmt=\"png\",\n",
    "    toolbar=False,\n",
    ")\n",
    "\n",
    "# have no use for the violin plots yet"
   ]
  },
  {
   "cell_type": "markdown",
   "id": "89ce7596-ed5e-451b-8111-05302d4a80cd",
   "metadata": {},
   "source": [
    "Period=150, D=1?"
   ]
  },
  {
   "cell_type": "code",
   "execution_count": null,
   "id": "bbe7c31c-35dd-47a4-ae31-054825a65e16",
   "metadata": {
    "tags": []
   },
   "outputs": [],
   "source": [
    "var = [\"R\"]\n",
    "run = slice(0, 999)\n",
    "disorder_correlation = \"correlated\"\n",
    "N = num_periods = 5\n",
    "P = period = 150\n",
    "delta = 1\n",
    "theta = 0\n",
    "elt = excitonic_layer_thickness = 50\n",
    "disorder_code = disorder_correlation[0]\n",
    "D = str(delta).replace(\".\", \"\")\n",
    "\n",
    "the_plots = plot_singles(var, run, disorder_correlation, num_periods, period, delta, theta)\n",
    "\n",
    "overlay_1 = hv.Overlay(the_plots[:3]).select(run=slice(0,8)).opts(opts.Scatter(alpha=1), clone=True)\n",
    "display(overlay_1)\n",
    "\n",
    "overlay_2 = hv.Overlay([*the_plots[1:3], *the_plots[5:]]).opts(opts.Curve(ylim=(0, None)))\n",
    "display(overlay_2)\n",
    "\n",
    "max_vs_integral = the_plots[3]\n",
    "display(max_vs_integral)\n",
    "\n",
    "violin_plot = the_plots[4]\n",
    "display(violin_plot)"
   ]
  },
  {
   "cell_type": "code",
   "execution_count": null,
   "id": "1a0fe809-bd3a-4a16-83a3-6f00b246660a",
   "metadata": {
    "tags": []
   },
   "outputs": [],
   "source": [
    "reduced_overlay = overlay_1.select(run=slice(0,2))\n",
    "display(reduced_overlay)\n",
    "hv.save(\n",
    "    reduced_overlay,\n",
    "    filename=fig_path\n",
    "    / f\"{var[0]}_DLOPC_runcurve_reduced_wl_P{P}_elt{elt}_N{N}_th{theta}_D{D}{disorder_code}\",\n",
    "    fmt=\"png\",\n",
    "    toolbar=False,\n",
    ")"
   ]
  },
  {
   "cell_type": "code",
   "execution_count": null,
   "id": "8866fd6f-27af-45bf-ad7b-7a6ae8786e4d",
   "metadata": {
    "tags": []
   },
   "outputs": [],
   "source": [
    "hv.save(\n",
    "    overlay_1,\n",
    "    filename=fig_path\n",
    "    / f\"{var[0]}_DLOPC_runcurve_wl_P{P}_elt{elt}_N{N}_th{theta}_D{D}{disorder_code}\",\n",
    "    fmt=\"png\",\n",
    "    toolbar=False,\n",
    ")\n",
    "\n",
    "hv.save(\n",
    "    overlay_2,\n",
    "    filename=fig_path\n",
    "    / f\"{var[0]}_DLOPC_meancurve_wl_P{P}_elt{elt}_N{N}_th{theta}_D{D}{disorder_code}\",\n",
    "    fmt=\"png\",\n",
    "    toolbar=False,\n",
    ")\n",
    "\n",
    "hv.save(\n",
    "    max_vs_integral,\n",
    "    filename=fig_path\n",
    "    / f\"{var[0]}_DLOPC_max_vs_tot_P{P}_elt{elt}_N{N}_th{theta}_D{D}{disorder_code}\",\n",
    "    fmt=\"png\",\n",
    "    toolbar=False,\n",
    ")\n",
    "\n",
    "# have no use for the violin plots yet"
   ]
  },
  {
   "cell_type": "code",
   "execution_count": null,
   "id": "cad86c5b-e154-4040-847e-5bff9df56b22",
   "metadata": {
    "tags": []
   },
   "outputs": [],
   "source": [
    "var = [\"R\"]\n",
    "run = slice(0, 999)\n",
    "disorder_correlation = \"correlated\"\n",
    "N = num_periods = 20\n",
    "P = period = 150\n",
    "delta = 1\n",
    "theta = 0\n",
    "elt = excitonic_layer_thickness = 50\n",
    "disorder_code = disorder_correlation[0]\n",
    "D = str(delta).replace(\".\", \"\")\n",
    "\n",
    "the_plots = plot_singles(var, run, disorder_correlation, num_periods, period, delta, theta)\n",
    "\n",
    "overlay_1 = hv.Overlay(the_plots[:3]).select(run=slice(0,8)).opts(opts.Scatter(alpha=1), clone=True)\n",
    "display(overlay_1)\n",
    "\n",
    "overlay_2 = hv.Overlay([*the_plots[1:3], *the_plots[5:]]).opts(opts.Curve(ylim=(0, None)))\n",
    "display(overlay_2)\n",
    "\n",
    "max_vs_integral = the_plots[3]\n",
    "display(max_vs_integral)\n",
    "\n",
    "violin_plot = the_plots[4]\n",
    "display(violin_plot)"
   ]
  },
  {
   "cell_type": "code",
   "execution_count": null,
   "id": "76245fd1-6f45-410e-8906-b451cf8e0536",
   "metadata": {
    "tags": []
   },
   "outputs": [],
   "source": [
    "reduced_overlay = overlay_1.select(run=slice(0,2))\n",
    "display(reduced_overlay)\n",
    "hv.save(\n",
    "    reduced_overlay,\n",
    "    filename=fig_path\n",
    "    / f\"{var[0]}_DLOPC_runcurve_reduced_wl_P{P}_elt{elt}_N{N}_th{theta}_D{D}{disorder_code}\",\n",
    "    fmt=\"png\",\n",
    "    toolbar=False,\n",
    ")"
   ]
  },
  {
   "cell_type": "code",
   "execution_count": null,
   "id": "014b9741-7d51-43bd-8fb1-ecbf3aafe1de",
   "metadata": {
    "tags": []
   },
   "outputs": [],
   "source": [
    "hv.save(\n",
    "    overlay_1,\n",
    "    filename=fig_path\n",
    "    / f\"{var[0]}_DLOPC_runcurve_wl_P{P}_elt{elt}_N{N}_th{theta}_D{D}{disorder_code}\",\n",
    "    fmt=\"png\",\n",
    "    toolbar=False,\n",
    ")\n",
    "\n",
    "hv.save(\n",
    "    overlay_2,\n",
    "    filename=fig_path\n",
    "    / f\"{var[0]}_DLOPC_meancurve_wl_P{P}_elt{elt}_N{N}_th{theta}_D{D}{disorder_code}\",\n",
    "    fmt=\"png\",\n",
    "    toolbar=False,\n",
    ")\n",
    "\n",
    "hv.save(\n",
    "    max_vs_integral,\n",
    "    filename=fig_path\n",
    "    / f\"{var[0]}_DLOPC_max_vs_tot_P{P}_elt{elt}_N{N}_th{theta}_D{D}{disorder_code}\",\n",
    "    fmt=\"png\",\n",
    "    toolbar=False,\n",
    ")\n",
    "\n",
    "# have no use for the violin plots yet"
   ]
  },
  {
   "cell_type": "code",
   "execution_count": null,
   "id": "d61055ef-6a98-4582-ac29-91b8740e92ff",
   "metadata": {
    "tags": []
   },
   "outputs": [],
   "source": [
    "var = [\"R\"]\n",
    "run = slice(0, 999)\n",
    "disorder_correlation = \"correlated\"\n",
    "N = num_periods = 50\n",
    "P = period = 150\n",
    "delta = 1\n",
    "theta = 0\n",
    "elt = excitonic_layer_thickness = 50\n",
    "disorder_code = disorder_correlation[0]\n",
    "D = str(delta).replace(\".\", \"\")\n",
    "\n",
    "the_plots = plot_singles(var, run, disorder_correlation, num_periods, period, delta, theta)\n",
    "\n",
    "overlay_1 = hv.Overlay(the_plots[:3]).select(run=slice(0,8)).opts(opts.Scatter(alpha=1), clone=True)\n",
    "display(overlay_1)\n",
    "\n",
    "overlay_2 = hv.Overlay([*the_plots[1:3], *the_plots[5:]]).opts(opts.Curve(ylim=(0, None)))\n",
    "display(overlay_2)\n",
    "\n",
    "max_vs_integral = the_plots[3]\n",
    "display(max_vs_integral)\n",
    "\n",
    "violin_plot = the_plots[4]\n",
    "display(violin_plot)"
   ]
  },
  {
   "cell_type": "code",
   "execution_count": null,
   "id": "17d4d05e-9cc5-4a59-be6a-94eb6dce862b",
   "metadata": {
    "tags": []
   },
   "outputs": [],
   "source": [
    "reduced_overlay = overlay_1.select(run=slice(0,2))\n",
    "display(reduced_overlay)\n",
    "hv.save(\n",
    "    reduced_overlay,\n",
    "    filename=fig_path\n",
    "    / f\"{var[0]}_DLOPC_runcurve_reduced_wl_P{P}_elt{elt}_N{N}_th{theta}_D{D}{disorder_code}\",\n",
    "    fmt=\"png\",\n",
    "    toolbar=False,\n",
    ")"
   ]
  },
  {
   "cell_type": "code",
   "execution_count": null,
   "id": "c237244a-50ee-4e72-b40d-2675a26cffee",
   "metadata": {
    "tags": []
   },
   "outputs": [],
   "source": [
    "hv.save(\n",
    "    overlay_1,\n",
    "    filename=fig_path\n",
    "    / f\"{var[0]}_DLOPC_runcurve_wl_P{P}_elt{elt}_N{N}_th{theta}_D{D}{disorder_code}\",\n",
    "    fmt=\"png\",\n",
    "    toolbar=False,\n",
    ")\n",
    "\n",
    "hv.save(\n",
    "    overlay_2,\n",
    "    filename=fig_path\n",
    "    / f\"{var[0]}_DLOPC_meancurve_wl_P{P}_elt{elt}_N{N}_th{theta}_D{D}{disorder_code}\",\n",
    "    fmt=\"png\",\n",
    "    toolbar=False,\n",
    ")\n",
    "\n",
    "hv.save(\n",
    "    max_vs_integral,\n",
    "    filename=fig_path\n",
    "    / f\"{var[0]}_DLOPC_max_vs_tot_P{P}_elt{elt}_N{N}_th{theta}_D{D}{disorder_code}\",\n",
    "    fmt=\"png\",\n",
    "    toolbar=False,\n",
    ")\n",
    "\n",
    "# have no use for the violin plots yet"
   ]
  },
  {
   "cell_type": "markdown",
   "id": "2696be13-0257-4175-a177-5f04c96960e0",
   "metadata": {
    "jp-MarkdownHeadingCollapsed": true,
    "tags": []
   },
   "source": [
    "##### Uncorrelated"
   ]
  },
  {
   "cell_type": "code",
   "execution_count": null,
   "id": "989fe35a-4d96-486f-b27f-40e731c4933b",
   "metadata": {
    "tags": []
   },
   "outputs": [],
   "source": [
    "var = [\"R\"]\n",
    "run = slice(0, 2)\n",
    "disorder_correlation = \"uncorrelated\"\n",
    "N = num_periods = 5\n",
    "P = period = 200\n",
    "delta = 0.1\n",
    "theta = 0\n",
    "elt = excitonic_layer_thickness = 50\n",
    "disorder_code = disorder_correlation[0]\n",
    "D = str(delta).replace(\".\", \"\")\n",
    "mode = \"raw\"\n",
    "\n",
    "with warnings.catch_warnings():\n",
    "    warnings.filterwarnings(\"ignore\", \"divide\")\n",
    "    the_plots = plot_singles(\n",
    "        var, run, disorder_correlation, num_periods, period, delta, theta, mode=mode\n",
    "    )\n",
    "\n",
    "    overlay_1 = (\n",
    "        hv.Overlay(the_plots[:3])\n",
    "        .select(run=slice(0, 8))\n",
    "        .opts(opts.Curve(ylim=(0, None)), opts.Scatter(alpha=1), clone=True)\n",
    "    )\n",
    "    display(overlay_1)"
   ]
  },
  {
   "cell_type": "code",
   "execution_count": null,
   "id": "ece24876-dd38-4079-b05b-01af474e79e9",
   "metadata": {
    "tags": []
   },
   "outputs": [],
   "source": [
    "reduced_overlay = overlay_1.select(run=slice(0,3))\n",
    "display(reduced_overlay)\n",
    "hv.save(\n",
    "    reduced_overlay,\n",
    "    filename=fig_path\n",
    "    / f\"{var[0]}_DLOPC_runcurve_reduced_wl_P{P}_elt{elt}_N{N}_th{theta}_D{D}{disorder_code}\",\n",
    "    fmt=\"png\",\n",
    "    toolbar=False,\n",
    ")"
   ]
  },
  {
   "cell_type": "code",
   "execution_count": null,
   "id": "6450df24-c773-4a6c-95d7-ab12af3b4fc2",
   "metadata": {
    "tags": []
   },
   "outputs": [],
   "source": [
    "var = [\"R\"]\n",
    "run = slice(0, 2)\n",
    "disorder_correlation = \"uncorrelated\"\n",
    "num_periods = 5\n",
    "period = 200\n",
    "delta = 0.3\n",
    "theta = 0\n",
    "excitonic_layer_thickness = 50\n",
    "disorder_code = disorder_correlation[0]\n",
    "D = str(delta).replace(\".\", \"\")\n",
    "\n",
    "the_plots = plot_singles(\n",
    "    var, run, disorder_correlation, num_periods, period, delta, theta\n",
    ")\n",
    "\n",
    "overlay_1 = (\n",
    "    hv.Overlay(the_plots[:3])\n",
    "    .select(run=slice(0, 8))\n",
    "    .opts(opts.Curve(ylim=(0, None)), opts.Scatter(alpha=1), clone=True)\n",
    ")\n",
    "display(overlay_1)\n",
    "\n",
    "overlay_2 = hv.Overlay([*the_plots[5:], *the_plots[1:3]])\n",
    "display(overlay_2)\n",
    "\n",
    "max_vs_integral = the_plots[3]\n",
    "display(max_vs_integral)\n",
    "\n",
    "violin_plot = the_plots[4]\n",
    "display(violin_plot)"
   ]
  },
  {
   "cell_type": "code",
   "execution_count": null,
   "id": "815a272a-3571-4c73-aa4c-101f6c9fee11",
   "metadata": {
    "tags": []
   },
   "outputs": [],
   "source": [
    "reduced_overlay = overlay_1.select(run=slice(0,3))\n",
    "display(reduced_overlay)\n",
    "hv.save(\n",
    "    reduced_overlay,\n",
    "    filename=fig_path\n",
    "    / f\"{var[0]}_DLOPC_runcurve_reduced_wl_P{P}_elt{elt}_N{N}_th{theta}_D{D}{disorder_code}\",\n",
    "    fmt=\"png\",\n",
    "    toolbar=False,\n",
    ")"
   ]
  },
  {
   "cell_type": "code",
   "execution_count": null,
   "id": "5c4beb53-2069-4c48-afab-4c90a47613a8",
   "metadata": {
    "tags": []
   },
   "outputs": [],
   "source": [
    "var = [\"R\"]\n",
    "run = slice(0, 2)\n",
    "disorder_correlation = \"uncorrelated\"\n",
    "N = num_periods = 5\n",
    "P = period = 200\n",
    "delta = 0.5\n",
    "theta = 0\n",
    "elt = excitonic_layer_thickness = 50\n",
    "disorder_code = disorder_correlation[0]\n",
    "D = str(delta).replace(\".\", \"\")\n",
    "\n",
    "the_plots = plot_singles(\n",
    "    var, run, disorder_correlation, num_periods, period, delta, theta\n",
    ")\n",
    "\n",
    "overlay_1 = (\n",
    "    hv.Overlay(the_plots[:3])\n",
    "    .select(run=slice(0, 8))\n",
    "    .opts(opts.Curve(ylim=(0, None)), opts.Scatter(alpha=1), clone=True)\n",
    ")\n",
    "display(overlay_1)\n",
    "\n",
    "overlay_2 = hv.Overlay([*the_plots[1:3], *the_plots[5:]]).opts(\n",
    "    opts.Curve(ylim=(0, None))\n",
    ")\n",
    "display(overlay_2)\n",
    "\n",
    "max_vs_integral = the_plots[3]\n",
    "display(max_vs_integral)\n",
    "\n",
    "violin_plot = the_plots[4]\n",
    "display(violin_plot)"
   ]
  },
  {
   "cell_type": "code",
   "execution_count": null,
   "id": "1eb201b4-ba32-4949-ab41-8f93b84ab099",
   "metadata": {
    "tags": []
   },
   "outputs": [],
   "source": [
    "reduced_overlay = overlay_1.select(run=slice(0,3))\n",
    "display(reduced_overlay)\n",
    "hv.save(\n",
    "    reduced_overlay,\n",
    "    filename=fig_path\n",
    "    / f\"{var[0]}_DLOPC_runcurve_reduced_wl_P{P}_elt{elt}_N{N}_th{theta}_D{D}{disorder_code}\",\n",
    "    fmt=\"png\",\n",
    "    toolbar=False,\n",
    ")"
   ]
  },
  {
   "cell_type": "code",
   "execution_count": null,
   "id": "44f7b3c1-4e50-41a7-8606-35ee479dc26b",
   "metadata": {
    "tags": []
   },
   "outputs": [],
   "source": [
    "the_plot_1 = wrap_plot_field(\n",
    "    wavelength=538,\n",
    "    excitonic_layer_thickness=excitonic_layer_thickness,\n",
    "    period=period,\n",
    "    num_periods=num_periods,\n",
    "    theta=theta,\n",
    "    # delta=delta,\n",
    "    # run=5,\n",
    "    # disorder_correlation=disorder_correlation,\n",
    ")"
   ]
  },
  {
   "cell_type": "code",
   "execution_count": null,
   "id": "bd28448c-1fe7-4a9e-8c2d-5d99ef4cbc6b",
   "metadata": {
    "tags": []
   },
   "outputs": [],
   "source": [
    "the_plot_2 = wrap_plot_field(\n",
    "    wavelength=538,\n",
    "    excitonic_layer_thickness=excitonic_layer_thickness,\n",
    "    period=period,\n",
    "    num_periods=num_periods,\n",
    "    theta=theta,\n",
    "    delta=delta,\n",
    "    run=2,\n",
    "    disorder_correlation=disorder_correlation,\n",
    ")"
   ]
  },
  {
   "cell_type": "code",
   "execution_count": null,
   "id": "69d4f4a6-1c3b-4efa-94be-2468f0221041",
   "metadata": {
    "tags": []
   },
   "outputs": [],
   "source": [
    "the_plot_3 = wrap_plot_field(\n",
    "    wavelength=707,\n",
    "    excitonic_layer_thickness=excitonic_layer_thickness,\n",
    "    period=period,\n",
    "    num_periods=num_periods,\n",
    "    theta=theta,\n",
    "    # delta=delta,\n",
    "    # run=1,\n",
    "    # disorder_correlation=disorder_correlation,\n",
    ")"
   ]
  },
  {
   "cell_type": "code",
   "execution_count": null,
   "id": "273e95e8-7034-4c74-ab4a-725f169d2347",
   "metadata": {
    "tags": []
   },
   "outputs": [],
   "source": [
    "the_plot_4 = wrap_plot_field(\n",
    "    wavelength=707,\n",
    "    excitonic_layer_thickness=excitonic_layer_thickness,\n",
    "    period=period,\n",
    "    num_periods=num_periods,\n",
    "    theta=theta,\n",
    "    delta=delta,\n",
    "    run=2,\n",
    "    disorder_correlation=disorder_correlation,\n",
    ")"
   ]
  },
  {
   "cell_type": "code",
   "execution_count": null,
   "id": "3f0e362b-3c66-41c2-89b1-0a75b52ff716",
   "metadata": {
    "tags": []
   },
   "outputs": [],
   "source": [
    "the_plot = (\n",
    "    hv.Layout(\n",
    "        [\n",
    "            the_plot_1,\n",
    "            the_plot_2,\n",
    "            the_plot_3,\n",
    "            the_plot_4,\n",
    "        ]\n",
    "    ).opts(opts.Curve(color=blue))\n",
    ").cols(\n",
    "    1\n",
    ")  # autoranging, yeah!\n",
    "the_plot"
   ]
  },
  {
   "cell_type": "code",
   "execution_count": null,
   "id": "f5a107a3-76d5-4216-b94c-002bee9d1eba",
   "metadata": {
    "tags": []
   },
   "outputs": [],
   "source": [
    "var = [\"R\"]\n",
    "run = slice(0, 2)\n",
    "disorder_correlation = \"uncorrelated\"\n",
    "N = num_periods = 20\n",
    "P = period = 200\n",
    "delta = 0.1\n",
    "theta = 0\n",
    "elt = excitonic_layer_thickness = 50\n",
    "disorder_code = disorder_correlation[0]\n",
    "D = str(delta).replace(\".\", \"\")\n",
    "mode = \"raw\"\n",
    "\n",
    "with warnings.catch_warnings():\n",
    "    warnings.filterwarnings(\"ignore\", \"divide\")\n",
    "    the_plots = plot_singles(\n",
    "        var, run, disorder_correlation, num_periods, period, delta, theta, mode=mode\n",
    "    )\n",
    "\n",
    "    overlay_1 = (\n",
    "        hv.Overlay(the_plots[:3])\n",
    "        .select(run=slice(0, 8))\n",
    "        .opts(opts.Curve(ylim=(0, None)), opts.Scatter(alpha=1), clone=True)\n",
    "    )\n",
    "    display(overlay_1)\n",
    "\n",
    "    overlay_2 = hv.Overlay([*the_plots[1:3], *the_plots[5:]]).opts(\n",
    "        opts.Curve(ylim=(0, None))\n",
    "    )\n",
    "    display(overlay_2)\n",
    "\n",
    "    max_vs_integral = the_plots[3]\n",
    "    display(max_vs_integral)\n",
    "\n",
    "    violin_plot = the_plots[4]\n",
    "    display(violin_plot)"
   ]
  },
  {
   "cell_type": "code",
   "execution_count": null,
   "id": "c6d8522d-d19f-4b4c-829d-b05bd2bf2d9f",
   "metadata": {
    "tags": []
   },
   "outputs": [],
   "source": [
    "reduced_overlay = overlay_1.select(run=slice(0,3))\n",
    "display(reduced_overlay)\n",
    "hv.save(\n",
    "    reduced_overlay,\n",
    "    filename=fig_path\n",
    "    / f\"{var[0]}_DLOPC_runcurve_reduced_wl_P{P}_elt{elt}_N{N}_th{theta}_D{D}{disorder_code}\",\n",
    "    fmt=\"png\",\n",
    "    toolbar=False,\n",
    ")"
   ]
  },
  {
   "cell_type": "code",
   "execution_count": null,
   "id": "7964168e-7c62-4f26-ae83-bcbad2a7a3ca",
   "metadata": {
    "tags": []
   },
   "outputs": [],
   "source": [
    "var = [\"R\"]\n",
    "run = slice(0, 2)\n",
    "disorder_correlation = \"uncorrelated\"\n",
    "num_periods = 20\n",
    "period = 200\n",
    "delta = 0.3\n",
    "theta = 0\n",
    "excitonic_layer_thickness = 50\n",
    "disorder_code = disorder_correlation[0]\n",
    "D = str(delta).replace(\".\", \"\")\n",
    "\n",
    "the_plots = plot_singles(\n",
    "    var, run, disorder_correlation, num_periods, period, delta, theta\n",
    ")\n",
    "\n",
    "overlay_1 = (\n",
    "    hv.Overlay(the_plots[:3])\n",
    "    .select(run=slice(0, 8))\n",
    "    .opts(opts.Curve(ylim=(0, None)), opts.Scatter(alpha=1), clone=True)\n",
    ")\n",
    "display(overlay_1)\n",
    "\n",
    "overlay_2 = hv.Overlay([*the_plots[5:], *the_plots[1:3]])\n",
    "display(overlay_2)\n",
    "\n",
    "max_vs_integral = the_plots[3]\n",
    "display(max_vs_integral)\n",
    "\n",
    "violin_plot = the_plots[4]\n",
    "display(violin_plot)"
   ]
  },
  {
   "cell_type": "code",
   "execution_count": null,
   "id": "97f13c2d-f0fb-4f31-99af-856c57d5c26e",
   "metadata": {
    "tags": []
   },
   "outputs": [],
   "source": [
    "reduced_overlay = overlay_1.select(run=slice(0,3))\n",
    "display(reduced_overlay)\n",
    "hv.save(\n",
    "    reduced_overlay,\n",
    "    filename=fig_path\n",
    "    / f\"{var[0]}_DLOPC_runcurve_reduced_wl_P{P}_elt{elt}_N{N}_th{theta}_D{D}{disorder_code}\",\n",
    "    fmt=\"png\",\n",
    "    toolbar=False,\n",
    ")"
   ]
  },
  {
   "cell_type": "code",
   "execution_count": null,
   "id": "cb116369-f9ce-4bdf-aea3-bbe151838d34",
   "metadata": {
    "tags": []
   },
   "outputs": [],
   "source": [
    "var = [\"R\"]\n",
    "run = slice(0, 2)\n",
    "disorder_correlation = \"uncorrelated\"\n",
    "N = num_periods = 20\n",
    "P = period = 200\n",
    "delta = 0.5\n",
    "theta = 0\n",
    "elt = excitonic_layer_thickness = 50\n",
    "disorder_code = disorder_correlation[0]\n",
    "D = str(delta).replace(\".\", \"\")\n",
    "\n",
    "the_plots = plot_singles(\n",
    "    var, run, disorder_correlation, num_periods, period, delta, theta\n",
    ")\n",
    "\n",
    "overlay_1 = (\n",
    "    hv.Overlay(the_plots[:3])\n",
    "    .select(run=slice(0, 8))\n",
    "    .opts(opts.Curve(ylim=(0, None)), opts.Scatter(alpha=1), clone=True)\n",
    ")\n",
    "display(overlay_1)\n",
    "\n",
    "overlay_2 = hv.Overlay([*the_plots[1:3], *the_plots[5:]]).opts(\n",
    "    opts.Curve(ylim=(0, None))\n",
    ")\n",
    "display(overlay_2)\n",
    "\n",
    "max_vs_integral = the_plots[3]\n",
    "display(max_vs_integral)\n",
    "\n",
    "violin_plot = the_plots[4]\n",
    "display(violin_plot)"
   ]
  },
  {
   "cell_type": "code",
   "execution_count": null,
   "id": "052eed29-44d9-444b-96e4-12f719b03da0",
   "metadata": {
    "tags": []
   },
   "outputs": [],
   "source": [
    "reduced_overlay = overlay_1.select(run=slice(0,3))\n",
    "display(reduced_overlay)\n",
    "hv.save(\n",
    "    reduced_overlay,\n",
    "    filename=fig_path\n",
    "    / f\"{var[0]}_DLOPC_runcurve_reduced_wl_P{P}_elt{elt}_N{N}_th{theta}_D{D}{disorder_code}\",\n",
    "    fmt=\"png\",\n",
    "    toolbar=False,\n",
    ")"
   ]
  },
  {
   "cell_type": "code",
   "execution_count": null,
   "id": "962bccc5-3cb3-4aee-9346-c7815f3326f1",
   "metadata": {
    "tags": []
   },
   "outputs": [],
   "source": [
    "the_plot_1 = wrap_plot_field(\n",
    "    wavelength=502,\n",
    "    excitonic_layer_thickness=excitonic_layer_thickness,\n",
    "    period=period,\n",
    "    num_periods=num_periods,\n",
    "    theta=theta,\n",
    "    # delta=delta,\n",
    "    # run=5,\n",
    "    # disorder_correlation=disorder_correlation,\n",
    ")"
   ]
  },
  {
   "cell_type": "code",
   "execution_count": null,
   "id": "ca3edddc-f0a5-40b4-bf22-1e00b9a54be9",
   "metadata": {
    "tags": []
   },
   "outputs": [],
   "source": [
    "the_plot_2 = wrap_plot_field(\n",
    "    wavelength=502,\n",
    "    excitonic_layer_thickness=excitonic_layer_thickness,\n",
    "    period=period,\n",
    "    num_periods=num_periods,\n",
    "    theta=theta,\n",
    "    delta=delta,\n",
    "    run=2,\n",
    "    disorder_correlation=disorder_correlation,\n",
    ")"
   ]
  },
  {
   "cell_type": "code",
   "execution_count": null,
   "id": "91f87044-e589-46d0-aa56-24245d7f1fa3",
   "metadata": {
    "tags": []
   },
   "outputs": [],
   "source": [
    "the_plot_3 = wrap_plot_field(\n",
    "    wavelength=485,\n",
    "    excitonic_layer_thickness=excitonic_layer_thickness,\n",
    "    period=period,\n",
    "    num_periods=num_periods,\n",
    "    theta=theta,\n",
    "    delta=delta,\n",
    "    run=2,\n",
    "    disorder_correlation=disorder_correlation,\n",
    ")"
   ]
  },
  {
   "cell_type": "code",
   "execution_count": null,
   "id": "7906950a-b9ae-4175-bd90-1a66d0d5e2fa",
   "metadata": {
    "tags": []
   },
   "outputs": [],
   "source": [
    "the_plot_4 = wrap_plot_field(\n",
    "    wavelength=524,\n",
    "    excitonic_layer_thickness=excitonic_layer_thickness,\n",
    "    period=period,\n",
    "    num_periods=num_periods,\n",
    "    theta=theta,\n",
    "    delta=delta,\n",
    "    run=2,\n",
    "    disorder_correlation=disorder_correlation,\n",
    ")"
   ]
  },
  {
   "cell_type": "code",
   "execution_count": null,
   "id": "950f412d-fafa-4349-92bb-6f3a0401d728",
   "metadata": {
    "tags": []
   },
   "outputs": [],
   "source": [
    "the_plot = (\n",
    "    hv.Layout(\n",
    "        [\n",
    "            the_plot_1,\n",
    "            the_plot_2,\n",
    "            the_plot_3,\n",
    "            the_plot_4,\n",
    "        ]\n",
    "    ).opts(opts.Curve(color=blue))\n",
    ").cols(\n",
    "    1\n",
    ")  # autoranging, yeah!\n",
    "the_plot"
   ]
  },
  {
   "cell_type": "markdown",
   "id": "b0f4ef77-f9a0-40b7-8e47-71480fae094b",
   "metadata": {},
   "source": [
    "P=200 N=50"
   ]
  },
  {
   "cell_type": "code",
   "execution_count": null,
   "id": "d8ce8262-bff2-4274-b43e-2205917b9bee",
   "metadata": {
    "tags": []
   },
   "outputs": [],
   "source": [
    "var = [\"R\"]\n",
    "run = slice(0, 2)\n",
    "disorder_correlation = \"uncorrelated\"\n",
    "N = num_periods = 50\n",
    "P = period = 200\n",
    "delta = 0.1\n",
    "theta = 0\n",
    "elt = excitonic_layer_thickness = 50\n",
    "disorder_code = disorder_correlation[0]\n",
    "D = str(delta).replace(\".\", \"\")\n",
    "mode = \"raw\"\n",
    "\n",
    "with warnings.catch_warnings():\n",
    "    warnings.filterwarnings(\"ignore\", \"divide\")\n",
    "    the_plots = plot_singles(\n",
    "        var, run, disorder_correlation, num_periods, period, delta, theta, mode=mode\n",
    "    )\n",
    "\n",
    "    overlay_1 = (\n",
    "        hv.Overlay(the_plots[:3])\n",
    "        .select(run=slice(0, 8))\n",
    "        .opts(opts.Curve(ylim=(0, None)), opts.Scatter(alpha=1), clone=True)\n",
    "    )\n",
    "    display(overlay_1)\n",
    "\n",
    "    overlay_2 = hv.Overlay([*the_plots[1:3], *the_plots[5:]]).opts(\n",
    "        opts.Curve(ylim=(0, None))\n",
    "    )\n",
    "    display(overlay_2)\n",
    "\n",
    "    max_vs_integral = the_plots[3]\n",
    "    display(max_vs_integral)\n",
    "\n",
    "    violin_plot = the_plots[4]\n",
    "    display(violin_plot)"
   ]
  },
  {
   "cell_type": "code",
   "execution_count": null,
   "id": "0a45e7e2-9cef-46e7-b220-1487e9bdca77",
   "metadata": {
    "tags": []
   },
   "outputs": [],
   "source": [
    "reduced_overlay = overlay_1.select(run=slice(0,3))\n",
    "display(reduced_overlay)\n",
    "hv.save(\n",
    "    reduced_overlay,\n",
    "    filename=fig_path\n",
    "    / f\"{var[0]}_DLOPC_runcurve_reduced_wl_P{P}_elt{elt}_N{N}_th{theta}_D{D}{disorder_code}\",\n",
    "    fmt=\"png\",\n",
    "    toolbar=False,\n",
    ")"
   ]
  },
  {
   "cell_type": "code",
   "execution_count": null,
   "id": "7ef55831-9b4a-4446-b8f4-b6b1cced8337",
   "metadata": {
    "tags": []
   },
   "outputs": [],
   "source": [
    "var = [\"R\"]\n",
    "run = slice(0, 2)\n",
    "disorder_correlation = \"uncorrelated\"\n",
    "num_periods = 50\n",
    "period = 200\n",
    "delta = 0.3\n",
    "theta = 0\n",
    "excitonic_layer_thickness = 50\n",
    "disorder_code = disorder_correlation[0]\n",
    "D = str(delta).replace(\".\", \"\")\n",
    "\n",
    "the_plots = plot_singles(\n",
    "    var, run, disorder_correlation, num_periods, period, delta, theta\n",
    ")\n",
    "\n",
    "overlay_1 = (\n",
    "    hv.Overlay(the_plots[:3])\n",
    "    .select(run=slice(0, 8))\n",
    "    .opts(opts.Curve(ylim=(0, None)), opts.Scatter(alpha=1), clone=True)\n",
    ")\n",
    "display(overlay_1)\n",
    "\n",
    "overlay_2 = hv.Overlay([*the_plots[5:], *the_plots[1:3]])\n",
    "display(overlay_2)\n",
    "\n",
    "max_vs_integral = the_plots[3]\n",
    "display(max_vs_integral)\n",
    "\n",
    "violin_plot = the_plots[4]\n",
    "display(violin_plot)"
   ]
  },
  {
   "cell_type": "code",
   "execution_count": null,
   "id": "b7139d2a-4a43-4974-8487-61680f1bef32",
   "metadata": {
    "tags": []
   },
   "outputs": [],
   "source": [
    "reduced_overlay = overlay_1.select(run=slice(0,3))\n",
    "display(reduced_overlay)\n",
    "hv.save(\n",
    "    reduced_overlay,\n",
    "    filename=fig_path\n",
    "    / f\"{var[0]}_DLOPC_runcurve_reduced_wl_P{P}_elt{elt}_N{N}_th{theta}_D{D}{disorder_code}\",\n",
    "    fmt=\"png\",\n",
    "    toolbar=False,\n",
    ")"
   ]
  },
  {
   "cell_type": "code",
   "execution_count": null,
   "id": "19eae04c-4d5f-447b-9eec-fec21bcad683",
   "metadata": {
    "tags": []
   },
   "outputs": [],
   "source": [
    "var = [\"R\"]\n",
    "run = slice(0, 2)\n",
    "disorder_correlation = \"uncorrelated\"\n",
    "N = num_periods = 50\n",
    "P = period = 200\n",
    "delta = 0.5\n",
    "theta = 0\n",
    "elt = excitonic_layer_thickness = 50\n",
    "disorder_code = disorder_correlation[0]\n",
    "D = str(delta).replace(\".\", \"\")\n",
    "\n",
    "the_plots = plot_singles(\n",
    "    var, run, disorder_correlation, num_periods, period, delta, theta\n",
    ")\n",
    "\n",
    "overlay_1 = (\n",
    "    hv.Overlay(the_plots[:3])\n",
    "    .select(run=slice(0, 8))\n",
    "    .opts(opts.Curve(ylim=(0, None)), opts.Scatter(alpha=1), clone=True)\n",
    ")\n",
    "display(overlay_1)\n",
    "\n",
    "overlay_2 = hv.Overlay([*the_plots[1:3], *the_plots[5:]]).opts(\n",
    "    opts.Curve(ylim=(0, None))\n",
    ")\n",
    "display(overlay_2)\n",
    "\n",
    "max_vs_integral = the_plots[3]\n",
    "display(max_vs_integral)\n",
    "\n",
    "violin_plot = the_plots[4]\n",
    "display(violin_plot)"
   ]
  },
  {
   "cell_type": "code",
   "execution_count": null,
   "id": "f54af0ac-e6d5-4559-a8e7-fb1b5024b21e",
   "metadata": {
    "tags": []
   },
   "outputs": [],
   "source": [
    "reduced_overlay = overlay_1.select(run=slice(0,3))\n",
    "display(reduced_overlay)\n",
    "hv.save(\n",
    "    reduced_overlay,\n",
    "    filename=fig_path\n",
    "    / f\"{var[0]}_DLOPC_runcurve_reduced_wl_P{P}_elt{elt}_N{N}_th{theta}_D{D}{disorder_code}\",\n",
    "    fmt=\"png\",\n",
    "    toolbar=False,\n",
    ")"
   ]
  },
  {
   "cell_type": "code",
   "execution_count": null,
   "id": "48d268f1-2052-496d-bbed-45dd712ddf19",
   "metadata": {
    "tags": []
   },
   "outputs": [],
   "source": [
    "the_plot_1 = wrap_plot_field(\n",
    "    wavelength=752,\n",
    "    excitonic_layer_thickness=excitonic_layer_thickness,\n",
    "    period=period,\n",
    "    num_periods=num_periods,\n",
    "    theta=theta,\n",
    "    # delta=delta,\n",
    "    # run=5,\n",
    "    # disorder_correlation=disorder_correlation,\n",
    ")"
   ]
  },
  {
   "cell_type": "code",
   "execution_count": null,
   "id": "70fc9684-9101-484f-bf5e-6401403ac95e",
   "metadata": {
    "tags": []
   },
   "outputs": [],
   "source": [
    "the_plot_2 = wrap_plot_field(\n",
    "    wavelength=752,\n",
    "    excitonic_layer_thickness=excitonic_layer_thickness,\n",
    "    period=period,\n",
    "    num_periods=num_periods,\n",
    "    theta=theta,\n",
    "    delta=delta,\n",
    "    run=2,\n",
    "    disorder_correlation=disorder_correlation,\n",
    ")"
   ]
  },
  {
   "cell_type": "code",
   "execution_count": null,
   "id": "fa8a6e77-13e6-4de8-b6b0-530f3653924d",
   "metadata": {
    "tags": []
   },
   "outputs": [],
   "source": [
    "the_plot_3 = wrap_plot_field(\n",
    "    wavelength=734,\n",
    "    excitonic_layer_thickness=excitonic_layer_thickness,\n",
    "    period=period,\n",
    "    num_periods=num_periods,\n",
    "    theta=theta,\n",
    "    delta=delta,\n",
    "    run=2,\n",
    "    disorder_correlation=disorder_correlation,\n",
    ")"
   ]
  },
  {
   "cell_type": "code",
   "execution_count": null,
   "id": "bb298668-4615-4734-ad7a-b9c3374621b0",
   "metadata": {
    "tags": []
   },
   "outputs": [],
   "source": [
    "the_plot_4 = wrap_plot_field(\n",
    "    wavelength=770,\n",
    "    excitonic_layer_thickness=excitonic_layer_thickness,\n",
    "    period=period,\n",
    "    num_periods=num_periods,\n",
    "    theta=theta,\n",
    "    delta=delta,\n",
    "    run=2,\n",
    "    disorder_correlation=disorder_correlation,\n",
    ")"
   ]
  },
  {
   "cell_type": "code",
   "execution_count": null,
   "id": "8f68ea24-2c2b-427c-b646-0f6f99a71e90",
   "metadata": {
    "tags": []
   },
   "outputs": [],
   "source": [
    "the_plot = (\n",
    "    hv.Layout(\n",
    "        [\n",
    "            the_plot_1,\n",
    "            the_plot_2,\n",
    "            the_plot_3,\n",
    "            the_plot_4,\n",
    "        ]\n",
    "    ).opts(opts.Curve(color=blue))\n",
    ").cols(\n",
    "    1\n",
    ")  # autoranging, yeah!\n",
    "the_plot"
   ]
  },
  {
   "cell_type": "markdown",
   "id": "8c003eaa-e7a9-4ff6-bba0-02d9424dd151",
   "metadata": {},
   "source": [
    "P=250"
   ]
  },
  {
   "cell_type": "code",
   "execution_count": null,
   "id": "8b50c7dc-3d45-43eb-8fb2-24bab9db0e9f",
   "metadata": {
    "tags": []
   },
   "outputs": [],
   "source": [
    "var = [\"R\"]\n",
    "run = slice(0, 999)\n",
    "disorder_correlation = \"uncorrelated\"\n",
    "num_periods = 50\n",
    "period = 250\n",
    "delta = 0.5\n",
    "theta = 0\n",
    "excitonic_layer_thickness = 50\n",
    "\n",
    "the_plots = plot_singles(var, run, disorder_correlation, num_periods, period, delta, theta)\n",
    "\n",
    "overlay_1 = hv.Overlay(the_plots[:3]).select(run=slice(0,8))\n",
    "display(overlay_1)\n",
    "\n",
    "overlay_2 = hv.Overlay([*the_plots[1:3], *the_plots[5:]])\n",
    "display(overlay_2)\n",
    "\n",
    "max_vs_integral = the_plots[3]\n",
    "display(max_vs_integral)\n",
    "\n",
    "violin_plot = the_plots[4]\n",
    "display(violin_plot)"
   ]
  },
  {
   "cell_type": "code",
   "execution_count": null,
   "id": "a4ede6b1-b177-40ed-9e87-9ecd2438329e",
   "metadata": {
    "tags": []
   },
   "outputs": [],
   "source": [
    "var = [\"R\"]\n",
    "run = slice(0, 99)\n",
    "disorder_correlation = \"uncorrelated\"\n",
    "N = num_periods = 20\n",
    "P = period = 300\n",
    "delta = 0.1\n",
    "theta = 0\n",
    "elt = excitonic_layer_thickness = 50\n",
    "disorder_code = disorder_correlation[0]\n",
    "D = str(delta).replace(\".\", \"\")\n",
    "\n",
    "the_plots = plot_singles(var, run, disorder_correlation, num_periods, period, delta, theta)\n",
    "\n",
    "overlay_1 = hv.Overlay(the_plots[:3]).select(run=slice(0,8)).opts(opts.Scatter(alpha=1), clone=True)\n",
    "display(overlay_1)\n",
    "\n",
    "overlay_2 = hv.Overlay([*the_plots[1:3], *the_plots[5:]]).opts(opts.Curve(ylim=(0, None)))\n",
    "display(overlay_2)\n",
    "\n",
    "max_vs_integral = the_plots[3]\n",
    "display(max_vs_integral)\n",
    "\n",
    "violin_plot = the_plots[4]\n",
    "display(violin_plot)"
   ]
  },
  {
   "cell_type": "code",
   "execution_count": null,
   "id": "d225abc8-942d-4b9a-8f5b-ea7424d87baf",
   "metadata": {
    "tags": []
   },
   "outputs": [],
   "source": [
    "reduced_overlay = overlay_1.select(run=slice(0,2))\n",
    "display(reduced_overlay)\n",
    "hv.save(\n",
    "    reduced_overlay,\n",
    "    filename=fig_path\n",
    "    / f\"{var[0]}_DLOPC_runcurve_reduced_wl_P{P}_elt{elt}_N{N}_th{theta}_D{D}{disorder_code}\",\n",
    "    fmt=\"png\",\n",
    "    toolbar=False,\n",
    ")"
   ]
  },
  {
   "cell_type": "code",
   "execution_count": null,
   "id": "ce577882-8b9e-484b-b50c-1989f7201063",
   "metadata": {
    "tags": []
   },
   "outputs": [],
   "source": [
    "hv.save(\n",
    "    overlay_1,\n",
    "    filename=fig_path\n",
    "    / f\"{var[0]}_DLOPC_runcurve_wl_P{P}_elt{elt}_N{N}_th{theta}_D{D}{disorder_code}\",\n",
    "    fmt=\"png\",\n",
    "    toolbar=False,\n",
    ")\n",
    "\n",
    "hv.save(\n",
    "    overlay_2,\n",
    "    filename=fig_path\n",
    "    / f\"{var[0]}_DLOPC_meancurve_wl_P{P}_elt{elt}_N{N}_th{theta}_D{D}{disorder_code}\",\n",
    "    fmt=\"png\",\n",
    "    toolbar=False,\n",
    ")\n",
    "\n",
    "hv.save(\n",
    "    max_vs_integral,\n",
    "    filename=fig_path\n",
    "    / f\"{var[0]}_DLOPC_max_vs_tot_P{P}_elt{elt}_N{N}_th{theta}_D{D}{disorder_code}\",\n",
    "    fmt=\"png\",\n",
    "    toolbar=False,\n",
    ")\n",
    "\n",
    "# have no use for the violin plots yet"
   ]
  },
  {
   "cell_type": "code",
   "execution_count": null,
   "id": "cb355cee-07f1-4c08-87b2-8e370aed1cf6",
   "metadata": {
    "tags": []
   },
   "outputs": [],
   "source": [
    "var = [\"R\"]\n",
    "run = slice(0, 99)\n",
    "disorder_correlation = \"uncorrelated\"\n",
    "N = num_periods = 20\n",
    "P = period = 300\n",
    "delta = 0.3\n",
    "theta = 0\n",
    "elt = excitonic_layer_thickness = 50\n",
    "disorder_code = disorder_correlation[0]\n",
    "D = str(delta).replace(\".\", \"\")\n",
    "\n",
    "the_plots = plot_singles(var, run, disorder_correlation, num_periods, period, delta, theta)\n",
    "\n",
    "overlay_1 = hv.Overlay(the_plots[:3]).select(run=slice(0,8)).opts(opts.Scatter(alpha=1), clone=True)\n",
    "display(overlay_1)\n",
    "\n",
    "overlay_2 = hv.Overlay([*the_plots[1:3], *the_plots[5:]]).opts(opts.Curve(ylim=(0, None)))\n",
    "display(overlay_2)\n",
    "\n",
    "max_vs_integral = the_plots[3]\n",
    "display(max_vs_integral)\n",
    "\n",
    "violin_plot = the_plots[4]\n",
    "display(violin_plot)"
   ]
  },
  {
   "cell_type": "code",
   "execution_count": null,
   "id": "49b9a856-48a5-4668-ad90-c633b0ffc849",
   "metadata": {
    "tags": []
   },
   "outputs": [],
   "source": [
    "reduced_overlay = overlay_1.select(run=slice(0,2))\n",
    "display(reduced_overlay)\n",
    "hv.save(\n",
    "    reduced_overlay,\n",
    "    filename=fig_path\n",
    "    / f\"{var[0]}_DLOPC_runcurve_reduced_wl_P{P}_elt{elt}_N{N}_th{theta}_D{D}{disorder_code}\",\n",
    "    fmt=\"png\",\n",
    "    toolbar=False,\n",
    ")"
   ]
  },
  {
   "cell_type": "code",
   "execution_count": null,
   "id": "885ee5b1-3d6d-45cf-abc0-9211d5c64654",
   "metadata": {
    "tags": []
   },
   "outputs": [],
   "source": [
    "hv.save(\n",
    "    overlay_1,\n",
    "    filename=fig_path\n",
    "    / f\"{var[0]}_DLOPC_runcurve_wl_P{P}_elt{elt}_N{N}_th{theta}_D{D}{disorder_code}\",\n",
    "    fmt=\"png\",\n",
    "    toolbar=False,\n",
    ")\n",
    "\n",
    "hv.save(\n",
    "    overlay_2,\n",
    "    filename=fig_path\n",
    "    / f\"{var[0]}_DLOPC_meancurve_wl_P{P}_elt{elt}_N{N}_th{theta}_D{D}{disorder_code}\",\n",
    "    fmt=\"png\",\n",
    "    toolbar=False,\n",
    ")\n",
    "\n",
    "hv.save(\n",
    "    max_vs_integral,\n",
    "    filename=fig_path\n",
    "    / f\"{var[0]}_DLOPC_max_vs_tot_P{P}_elt{elt}_N{N}_th{theta}_D{D}{disorder_code}\",\n",
    "    fmt=\"png\",\n",
    "    toolbar=False,\n",
    ")\n",
    "\n",
    "# have no use for the violin plots yet"
   ]
  },
  {
   "cell_type": "code",
   "execution_count": null,
   "id": "21981507-496a-47d9-b487-63fc7be2ea50",
   "metadata": {
    "tags": []
   },
   "outputs": [],
   "source": [
    "var = [\"R\"]\n",
    "run = slice(0, 999)\n",
    "disorder_correlation = \"uncorrelated\"\n",
    "N = num_periods = 20\n",
    "P = period = 300\n",
    "delta = 0.5\n",
    "theta = 0\n",
    "elt = excitonic_layer_thickness = 50\n",
    "disorder_code = disorder_correlation[0]\n",
    "D = str(delta).replace(\".\", \"\")\n",
    "\n",
    "the_plots = plot_singles(var, run, disorder_correlation, num_periods, period, delta, theta)\n",
    "\n",
    "overlay_1 = hv.Overlay(the_plots[:3]).select(run=slice(0,8)).opts(opts.Scatter(alpha=1), clone=True)\n",
    "display(overlay_1)\n",
    "\n",
    "overlay_2 = hv.Overlay([*the_plots[1:3], *the_plots[5:]]).opts(opts.Curve(ylim=(0, None)))\n",
    "display(overlay_2)\n",
    "\n",
    "max_vs_integral = the_plots[3]\n",
    "display(max_vs_integral)\n",
    "\n",
    "violin_plot = the_plots[4]\n",
    "display(violin_plot)"
   ]
  },
  {
   "cell_type": "code",
   "execution_count": null,
   "id": "5ce54ee5-5b28-4e99-9698-dd4c3d651dd1",
   "metadata": {
    "tags": []
   },
   "outputs": [],
   "source": [
    "reduced_overlay = overlay_1.select(run=slice(0,2))\n",
    "display(reduced_overlay)\n",
    "hv.save(\n",
    "    reduced_overlay,\n",
    "    filename=fig_path\n",
    "    / f\"{var[0]}_DLOPC_runcurve_reduced_wl_P{P}_elt{elt}_N{N}_th{theta}_D{D}{disorder_code}\",\n",
    "    fmt=\"png\",\n",
    "    toolbar=False,\n",
    ")"
   ]
  },
  {
   "cell_type": "code",
   "execution_count": null,
   "id": "399020ac-1756-483e-90fe-3c90d868765e",
   "metadata": {
    "tags": []
   },
   "outputs": [],
   "source": [
    "hv.save(\n",
    "    overlay_1,\n",
    "    filename=fig_path\n",
    "    / f\"{var[0]}_DLOPC_runcurve_wl_P{P}_elt{elt}_N{N}_th{theta}_D{D}{disorder_code}\",\n",
    "    fmt=\"png\",\n",
    "    toolbar=False,\n",
    ")\n",
    "\n",
    "hv.save(\n",
    "    overlay_2,\n",
    "    filename=fig_path\n",
    "    / f\"{var[0]}_DLOPC_meancurve_wl_P{P}_elt{elt}_N{N}_th{theta}_D{D}{disorder_code}\",\n",
    "    fmt=\"png\",\n",
    "    toolbar=False,\n",
    ")\n",
    "\n",
    "hv.save(\n",
    "    max_vs_integral,\n",
    "    filename=fig_path\n",
    "    / f\"{var[0]}_DLOPC_max_vs_tot_P{P}_elt{elt}_N{N}_th{theta}_D{D}{disorder_code}\",\n",
    "    fmt=\"png\",\n",
    "    toolbar=False,\n",
    ")\n",
    "\n",
    "# have no use for the violin plots yet"
   ]
  },
  {
   "cell_type": "code",
   "execution_count": null,
   "id": "6a1d47ce-0431-47aa-a7ff-d9b68c7d718f",
   "metadata": {
    "tags": []
   },
   "outputs": [],
   "source": [
    "var = [\"R\"]\n",
    "run = slice(0, 99)\n",
    "disorder_correlation = \"uncorrelated\"\n",
    "N = num_periods = 50\n",
    "P = period = 300\n",
    "delta = 0.1\n",
    "theta = 0\n",
    "elt = excitonic_layer_thickness = 50\n",
    "disorder_code = disorder_correlation[0]\n",
    "D = str(delta).replace(\".\", \"\")\n",
    "\n",
    "the_plots = plot_singles(var, run, disorder_correlation, num_periods, period, delta, theta)\n",
    "\n",
    "overlay_1 = hv.Overlay(the_plots[:3]).select(run=slice(0,8)).opts(opts.Scatter(alpha=1), clone=True)\n",
    "display(overlay_1)\n",
    "\n",
    "overlay_2 = hv.Overlay([*the_plots[1:3], *the_plots[5:]]).opts(opts.Curve(ylim=(0, None)))\n",
    "display(overlay_2)\n",
    "\n",
    "max_vs_integral = the_plots[3]\n",
    "display(max_vs_integral)\n",
    "\n",
    "violin_plot = the_plots[4]\n",
    "display(violin_plot)"
   ]
  },
  {
   "cell_type": "code",
   "execution_count": null,
   "id": "ead0a266-8fe2-4758-8479-d3d4e020a740",
   "metadata": {
    "tags": []
   },
   "outputs": [],
   "source": [
    "reduced_overlay = overlay_1.select(run=slice(0,2))\n",
    "display(reduced_overlay)\n",
    "hv.save(\n",
    "    reduced_overlay,\n",
    "    filename=fig_path\n",
    "    / f\"{var[0]}_DLOPC_runcurve_reduced_wl_P{P}_elt{elt}_N{N}_th{theta}_D{D}{disorder_code}\",\n",
    "    fmt=\"png\",\n",
    "    toolbar=False,\n",
    ")"
   ]
  },
  {
   "cell_type": "code",
   "execution_count": null,
   "id": "1a25e55c-cbe7-4b7b-8256-aabf8053fd5f",
   "metadata": {
    "tags": []
   },
   "outputs": [],
   "source": [
    "hv.save(\n",
    "    overlay_1,\n",
    "    filename=fig_path\n",
    "    / f\"{var[0]}_DLOPC_runcurve_wl_P{P}_elt{elt}_N{N}_th{theta}_D{D}{disorder_code}\",\n",
    "    fmt=\"png\",\n",
    "    toolbar=False,\n",
    ")\n",
    "\n",
    "hv.save(\n",
    "    overlay_2,\n",
    "    filename=fig_path\n",
    "    / f\"{var[0]}_DLOPC_meancurve_wl_P{P}_elt{elt}_N{N}_th{theta}_D{D}{disorder_code}\",\n",
    "    fmt=\"png\",\n",
    "    toolbar=False,\n",
    ")\n",
    "\n",
    "hv.save(\n",
    "    max_vs_integral,\n",
    "    filename=fig_path\n",
    "    / f\"{var[0]}_DLOPC_max_vs_tot_P{P}_elt{elt}_N{N}_th{theta}_D{D}{disorder_code}\",\n",
    "    fmt=\"png\",\n",
    "    toolbar=False,\n",
    ")\n",
    "\n",
    "# have no use for the violin plots yet"
   ]
  },
  {
   "cell_type": "code",
   "execution_count": null,
   "id": "a5a9f329-d953-4ef3-b5fe-33f53fe4cb2c",
   "metadata": {
    "tags": []
   },
   "outputs": [],
   "source": [
    "var = [\"R\"]\n",
    "run = slice(0, 99)\n",
    "disorder_correlation = \"uncorrelated\"\n",
    "N = num_periods = 50\n",
    "P = period = 300\n",
    "delta = 0.3\n",
    "theta = 0\n",
    "elt = excitonic_layer_thickness = 50\n",
    "disorder_code = disorder_correlation[0]\n",
    "D = str(delta).replace(\".\", \"\")\n",
    "\n",
    "the_plots = plot_singles(var, run, disorder_correlation, num_periods, period, delta, theta)\n",
    "\n",
    "overlay_1 = hv.Overlay(the_plots[:3]).select(run=slice(0,8)).opts(opts.Scatter(alpha=1), clone=True)\n",
    "display(overlay_1)\n",
    "\n",
    "overlay_2 = hv.Overlay([*the_plots[1:3], *the_plots[5:]]).opts(opts.Curve(ylim=(0, None)))\n",
    "display(overlay_2)\n",
    "\n",
    "max_vs_integral = the_plots[3]\n",
    "display(max_vs_integral)\n",
    "\n",
    "violin_plot = the_plots[4]\n",
    "display(violin_plot)"
   ]
  },
  {
   "cell_type": "code",
   "execution_count": null,
   "id": "97fa79f7-53bd-44b6-80d9-be4c121efbd4",
   "metadata": {
    "tags": []
   },
   "outputs": [],
   "source": [
    "reduced_overlay = overlay_1.select(run=slice(0,2))\n",
    "display(reduced_overlay)\n",
    "hv.save(\n",
    "    reduced_overlay,\n",
    "    filename=fig_path\n",
    "    / f\"{var[0]}_DLOPC_runcurve_reduced_wl_P{P}_elt{elt}_N{N}_th{theta}_D{D}{disorder_code}\",\n",
    "    fmt=\"png\",\n",
    "    toolbar=False,\n",
    ")"
   ]
  },
  {
   "cell_type": "code",
   "execution_count": null,
   "id": "0d2889fd-d4ac-41d6-a8e2-b5d4576bc898",
   "metadata": {
    "tags": []
   },
   "outputs": [],
   "source": [
    "hv.save(\n",
    "    overlay_1,\n",
    "    filename=fig_path\n",
    "    / f\"{var[0]}_DLOPC_runcurve_wl_P{P}_elt{elt}_N{N}_th{theta}_D{D}{disorder_code}\",\n",
    "    fmt=\"png\",\n",
    "    toolbar=False,\n",
    ")\n",
    "\n",
    "hv.save(\n",
    "    overlay_2,\n",
    "    filename=fig_path\n",
    "    / f\"{var[0]}_DLOPC_meancurve_wl_P{P}_elt{elt}_N{N}_th{theta}_D{D}{disorder_code}\",\n",
    "    fmt=\"png\",\n",
    "    toolbar=False,\n",
    ")\n",
    "\n",
    "hv.save(\n",
    "    max_vs_integral,\n",
    "    filename=fig_path\n",
    "    / f\"{var[0]}_DLOPC_max_vs_tot_P{P}_elt{elt}_N{N}_th{theta}_D{D}{disorder_code}\",\n",
    "    fmt=\"png\",\n",
    "    toolbar=False,\n",
    ")\n",
    "\n",
    "# have no use for the violin plots yet"
   ]
  },
  {
   "cell_type": "code",
   "execution_count": null,
   "id": "2788766f-85b3-4e86-8c9b-b87208f2c083",
   "metadata": {
    "tags": []
   },
   "outputs": [],
   "source": [
    "var = [\"R\"]\n",
    "run = slice(0, 999)\n",
    "disorder_correlation = \"uncorrelated\"\n",
    "N = num_periods = 50\n",
    "P = period = 300\n",
    "delta = 0.5\n",
    "theta = 0\n",
    "elt = excitonic_layer_thickness = 50\n",
    "disorder_code = disorder_correlation[0]\n",
    "D = str(delta).replace(\".\", \"\")\n",
    "\n",
    "the_plots = plot_singles(var, run, disorder_correlation, num_periods, period, delta, theta)\n",
    "\n",
    "overlay_1 = hv.Overlay(the_plots[:3]).select(run=slice(0,8)).opts(opts.Scatter(alpha=1), clone=True)\n",
    "display(overlay_1)\n",
    "\n",
    "overlay_2 = hv.Overlay([*the_plots[1:3], *the_plots[5:]]).opts(opts.Curve(ylim=(0, None)))\n",
    "display(overlay_2)\n",
    "\n",
    "max_vs_integral = the_plots[3]\n",
    "display(max_vs_integral)\n",
    "\n",
    "violin_plot = the_plots[4]\n",
    "display(violin_plot)"
   ]
  },
  {
   "cell_type": "code",
   "execution_count": null,
   "id": "f1967263-b7cd-4684-bab5-ec329bd0dcf3",
   "metadata": {
    "tags": []
   },
   "outputs": [],
   "source": [
    "reduced_overlay = overlay_1.select(run=slice(0,2))\n",
    "display(reduced_overlay)\n",
    "hv.save(\n",
    "    reduced_overlay,\n",
    "    filename=fig_path\n",
    "    / f\"{var[0]}_DLOPC_runcurve_reduced_wl_P{P}_elt{elt}_N{N}_th{theta}_D{D}{disorder_code}\",\n",
    "    fmt=\"png\",\n",
    "    toolbar=False,\n",
    ")"
   ]
  },
  {
   "cell_type": "code",
   "execution_count": null,
   "id": "9c9dc5f1-7a4b-4d16-ae7b-05661c0e88df",
   "metadata": {
    "tags": []
   },
   "outputs": [],
   "source": [
    "hv.save(\n",
    "    overlay_1,\n",
    "    filename=fig_path\n",
    "    / f\"{var[0]}_DLOPC_runcurve_wl_P{P}_elt{elt}_N{N}_th{theta}_D{D}{disorder_code}\",\n",
    "    fmt=\"png\",\n",
    "    toolbar=False,\n",
    ")\n",
    "\n",
    "hv.save(\n",
    "    overlay_2,\n",
    "    filename=fig_path\n",
    "    / f\"{var[0]}_DLOPC_meancurve_wl_P{P}_elt{elt}_N{N}_th{theta}_D{D}{disorder_code}\",\n",
    "    fmt=\"png\",\n",
    "    toolbar=False,\n",
    ")\n",
    "\n",
    "hv.save(\n",
    "    max_vs_integral,\n",
    "    filename=fig_path\n",
    "    / f\"{var[0]}_DLOPC_max_vs_tot_P{P}_elt{elt}_N{N}_th{theta}_D{D}{disorder_code}\",\n",
    "    fmt=\"png\",\n",
    "    toolbar=False,\n",
    ")\n",
    "\n",
    "# have no use for the violin plots yet"
   ]
  },
  {
   "cell_type": "markdown",
   "id": "8a990e2e-61c6-44d2-97f8-e30f7d35a0af",
   "metadata": {},
   "source": [
    "Period=100, D=0.5"
   ]
  },
  {
   "cell_type": "code",
   "execution_count": null,
   "id": "2d8516f7-1fb3-42d2-8cac-e4518761d04f",
   "metadata": {
    "tags": []
   },
   "outputs": [],
   "source": [
    "var = [\"R\"]\n",
    "run = slice(0, 999)\n",
    "disorder_correlation = \"uncorrelated\"\n",
    "N = num_periods = 5\n",
    "P = period = 100\n",
    "delta = 0.5\n",
    "theta = 0\n",
    "elt = excitonic_layer_thickness = 50\n",
    "disorder_code = disorder_correlation[0]\n",
    "D = str(delta).replace(\".\", \"\")\n",
    "\n",
    "the_plots = plot_singles(var, run, disorder_correlation, num_periods, period, delta, theta)\n",
    "\n",
    "overlay_1 = hv.Overlay(the_plots[:3]).select(run=slice(0,8)).opts(opts.Scatter(alpha=1), clone=True)\n",
    "display(overlay_1)\n",
    "\n",
    "overlay_2 = hv.Overlay([*the_plots[1:3], *the_plots[5:]]).opts(opts.Curve(ylim=(0, None)))\n",
    "display(overlay_2)\n",
    "\n",
    "max_vs_integral = the_plots[3]\n",
    "display(max_vs_integral)\n",
    "\n",
    "violin_plot = the_plots[4]\n",
    "display(violin_plot)"
   ]
  },
  {
   "cell_type": "code",
   "execution_count": null,
   "id": "ca25b296-101a-419a-afbd-09a15885060f",
   "metadata": {
    "tags": []
   },
   "outputs": [],
   "source": [
    "reduced_overlay = overlay_1.select(run=slice(0,2))\n",
    "display(reduced_overlay)\n",
    "hv.save(\n",
    "    reduced_overlay,\n",
    "    filename=fig_path\n",
    "    / f\"{var[0]}_DLOPC_runcurve_reduced_wl_P{P}_elt{elt}_N{N}_th{theta}_D{D}{disorder_code}\",\n",
    "    fmt=\"png\",\n",
    "    toolbar=False,\n",
    ")"
   ]
  },
  {
   "cell_type": "code",
   "execution_count": null,
   "id": "0c24011c-61bc-4679-be3d-ea8bf5a5f1a8",
   "metadata": {
    "tags": []
   },
   "outputs": [],
   "source": [
    "hv.save(\n",
    "    overlay_1,\n",
    "    filename=fig_path\n",
    "    / f\"{var[0]}_DLOPC_runcurve_wl_P{P}_elt{elt}_N{N}_th{theta}_D{D}{disorder_code}\",\n",
    "    fmt=\"png\",\n",
    "    toolbar=False,\n",
    ")\n",
    "\n",
    "hv.save(\n",
    "    overlay_2,\n",
    "    filename=fig_path\n",
    "    / f\"{var[0]}_DLOPC_meancurve_wl_P{P}_elt{elt}_N{N}_th{theta}_D{D}{disorder_code}\",\n",
    "    fmt=\"png\",\n",
    "    toolbar=False,\n",
    ")\n",
    "\n",
    "hv.save(\n",
    "    max_vs_integral,\n",
    "    filename=fig_path\n",
    "    / f\"{var[0]}_DLOPC_max_vs_tot_P{P}_elt{elt}_N{N}_th{theta}_D{D}{disorder_code}\",\n",
    "    fmt=\"png\",\n",
    "    toolbar=False,\n",
    ")\n",
    "\n",
    "# have no use for the violin plots yet"
   ]
  },
  {
   "cell_type": "code",
   "execution_count": null,
   "id": "835059bc-e434-4d3f-ad47-9420650cff7a",
   "metadata": {
    "tags": []
   },
   "outputs": [],
   "source": [
    "var = [\"R\"]\n",
    "run = slice(0, 999)\n",
    "disorder_correlation = \"uncorrelated\"\n",
    "N = num_periods = 20\n",
    "P = period = 100\n",
    "delta = 0.5\n",
    "theta = 0\n",
    "elt = excitonic_layer_thickness = 50\n",
    "disorder_code = disorder_correlation[0]\n",
    "D = str(delta).replace(\".\", \"\")\n",
    "\n",
    "the_plots = plot_singles(var, run, disorder_correlation, num_periods, period, delta, theta)\n",
    "\n",
    "overlay_1 = hv.Overlay(the_plots[:3]).select(run=slice(0,8)).opts(opts.Scatter(alpha=1), clone=True)\n",
    "display(overlay_1)\n",
    "\n",
    "overlay_2 = hv.Overlay([*the_plots[1:3], *the_plots[5:]]).opts(opts.Curve(ylim=(0, None)))\n",
    "display(overlay_2)\n",
    "\n",
    "max_vs_integral = the_plots[3]\n",
    "display(max_vs_integral)\n",
    "\n",
    "violin_plot = the_plots[4]\n",
    "display(violin_plot)"
   ]
  },
  {
   "cell_type": "code",
   "execution_count": null,
   "id": "e6f3a09d-e22e-436d-93b3-9a2ed20611a5",
   "metadata": {
    "tags": []
   },
   "outputs": [],
   "source": [
    "reduced_overlay = overlay_1.select(run=slice(0,2))\n",
    "display(reduced_overlay)\n",
    "hv.save(\n",
    "    reduced_overlay,\n",
    "    filename=fig_path\n",
    "    / f\"{var[0]}_DLOPC_runcurve_reduced_wl_P{P}_elt{elt}_N{N}_th{theta}_D{D}{disorder_code}\",\n",
    "    fmt=\"png\",\n",
    "    toolbar=False,\n",
    ")"
   ]
  },
  {
   "cell_type": "code",
   "execution_count": null,
   "id": "4f14bd04-0b98-44fa-ae02-a15ff4401af1",
   "metadata": {
    "tags": []
   },
   "outputs": [],
   "source": [
    "hv.save(\n",
    "    overlay_1,\n",
    "    filename=fig_path\n",
    "    / f\"{var[0]}_DLOPC_runcurve_wl_P{P}_elt{elt}_N{N}_th{theta}_D{D}{disorder_code}\",\n",
    "    fmt=\"png\",\n",
    "    toolbar=False,\n",
    ")\n",
    "\n",
    "hv.save(\n",
    "    overlay_2,\n",
    "    filename=fig_path\n",
    "    / f\"{var[0]}_DLOPC_meancurve_wl_P{P}_elt{elt}_N{N}_th{theta}_D{D}{disorder_code}\",\n",
    "    fmt=\"png\",\n",
    "    toolbar=False,\n",
    ")\n",
    "\n",
    "hv.save(\n",
    "    max_vs_integral,\n",
    "    filename=fig_path\n",
    "    / f\"{var[0]}_DLOPC_max_vs_tot_P{P}_elt{elt}_N{N}_th{theta}_D{D}{disorder_code}\",\n",
    "    fmt=\"png\",\n",
    "    toolbar=False,\n",
    ")\n",
    "\n",
    "# have no use for the violin plots yet"
   ]
  },
  {
   "cell_type": "code",
   "execution_count": null,
   "id": "92ea2298-b184-4637-a8a9-be4e0789ade2",
   "metadata": {
    "tags": []
   },
   "outputs": [],
   "source": [
    "var = [\"R\"]\n",
    "run = slice(0, 999)\n",
    "disorder_correlation = \"uncorrelated\"\n",
    "N = num_periods = 50\n",
    "P = period = 100\n",
    "delta = 0.5\n",
    "theta = 0\n",
    "elt = excitonic_layer_thickness = 50\n",
    "disorder_code = disorder_correlation[0]\n",
    "D = str(delta).replace(\".\", \"\")\n",
    "\n",
    "the_plots = plot_singles(var, run, disorder_correlation, num_periods, period, delta, theta)\n",
    "\n",
    "overlay_1 = hv.Overlay(the_plots[:3]).select(run=slice(0,8)).opts(opts.Scatter(alpha=1), clone=True)\n",
    "display(overlay_1)\n",
    "\n",
    "overlay_2 = hv.Overlay([*the_plots[1:3], *the_plots[5:]]).opts(opts.Curve(ylim=(0, None)))\n",
    "display(overlay_2)\n",
    "\n",
    "max_vs_integral = the_plots[3]\n",
    "display(max_vs_integral)\n",
    "\n",
    "violin_plot = the_plots[4]\n",
    "display(violin_plot)"
   ]
  },
  {
   "cell_type": "code",
   "execution_count": null,
   "id": "293222ee-4e18-4934-b83d-6b4be5242e34",
   "metadata": {
    "tags": []
   },
   "outputs": [],
   "source": [
    "reduced_overlay = overlay_1.select(run=slice(0,2))\n",
    "display(reduced_overlay)\n",
    "hv.save(\n",
    "    reduced_overlay,\n",
    "    filename=fig_path\n",
    "    / f\"{var[0]}_DLOPC_runcurve_reduced_wl_P{P}_elt{elt}_N{N}_th{theta}_D{D}{disorder_code}\",\n",
    "    fmt=\"png\",\n",
    "    toolbar=False,\n",
    ")"
   ]
  },
  {
   "cell_type": "code",
   "execution_count": null,
   "id": "78d71bb0-560a-4494-9c70-52b224d3805e",
   "metadata": {
    "tags": []
   },
   "outputs": [],
   "source": [
    "hv.save(\n",
    "    overlay_1,\n",
    "    filename=fig_path\n",
    "    / f\"{var[0]}_DLOPC_runcurve_wl_P{P}_elt{elt}_N{N}_th{theta}_D{D}{disorder_code}\",\n",
    "    fmt=\"png\",\n",
    "    toolbar=False,\n",
    ")\n",
    "\n",
    "hv.save(\n",
    "    overlay_2,\n",
    "    filename=fig_path\n",
    "    / f\"{var[0]}_DLOPC_meancurve_wl_P{P}_elt{elt}_N{N}_th{theta}_D{D}{disorder_code}\",\n",
    "    fmt=\"png\",\n",
    "    toolbar=False,\n",
    ")\n",
    "\n",
    "hv.save(\n",
    "    max_vs_integral,\n",
    "    filename=fig_path\n",
    "    / f\"{var[0]}_DLOPC_max_vs_tot_P{P}_elt{elt}_N{N}_th{theta}_D{D}{disorder_code}\",\n",
    "    fmt=\"png\",\n",
    "    toolbar=False,\n",
    ")\n",
    "\n",
    "# have no use for the violin plots yet"
   ]
  },
  {
   "cell_type": "markdown",
   "id": "d1061424-b34d-4ea1-9e33-60da9ef72311",
   "metadata": {},
   "source": [
    "Period=150, D=0.5"
   ]
  },
  {
   "cell_type": "code",
   "execution_count": null,
   "id": "2c40dcd2-8032-406f-8e1c-e6f88c743b41",
   "metadata": {
    "tags": []
   },
   "outputs": [],
   "source": [
    "var = [\"R\"]\n",
    "run = slice(0, 999)\n",
    "disorder_correlation = \"uncorrelated\"\n",
    "N = num_periods = 5\n",
    "P = period = 150\n",
    "delta = 0.5\n",
    "theta = 0\n",
    "elt = excitonic_layer_thickness = 50\n",
    "disorder_code = disorder_correlation[0]\n",
    "D = str(delta).replace(\".\", \"\")\n",
    "\n",
    "the_plots = plot_singles(var, run, disorder_correlation, num_periods, period, delta, theta)\n",
    "\n",
    "overlay_1 = hv.Overlay(the_plots[:3]).select(run=slice(0,8)).opts(opts.Scatter(alpha=1), clone=True)\n",
    "display(overlay_1)\n",
    "\n",
    "overlay_2 = hv.Overlay([*the_plots[1:3], *the_plots[5:]]).opts(opts.Curve(ylim=(0, None)))\n",
    "display(overlay_2)\n",
    "\n",
    "max_vs_integral = the_plots[3]\n",
    "display(max_vs_integral)\n",
    "\n",
    "violin_plot = the_plots[4]\n",
    "display(violin_plot)"
   ]
  },
  {
   "cell_type": "code",
   "execution_count": null,
   "id": "e8f7a420-2e2e-4c5f-a668-0517fb2545e5",
   "metadata": {
    "tags": []
   },
   "outputs": [],
   "source": [
    "reduced_overlay = overlay_1.select(run=slice(0,2))\n",
    "display(reduced_overlay)\n",
    "hv.save(\n",
    "    reduced_overlay,\n",
    "    filename=fig_path\n",
    "    / f\"{var[0]}_DLOPC_runcurve_reduced_wl_P{P}_elt{elt}_N{N}_th{theta}_D{D}{disorder_code}\",\n",
    "    fmt=\"png\",\n",
    "    toolbar=False,\n",
    ")"
   ]
  },
  {
   "cell_type": "code",
   "execution_count": null,
   "id": "acace212-911d-4def-b9b2-775addb86703",
   "metadata": {
    "tags": []
   },
   "outputs": [],
   "source": [
    "hv.save(\n",
    "    overlay_1,\n",
    "    filename=fig_path\n",
    "    / f\"{var[0]}_DLOPC_runcurve_wl_P{P}_elt{elt}_N{N}_th{theta}_D{D}{disorder_code}\",\n",
    "    fmt=\"png\",\n",
    "    toolbar=False,\n",
    ")\n",
    "\n",
    "hv.save(\n",
    "    overlay_2,\n",
    "    filename=fig_path\n",
    "    / f\"{var[0]}_DLOPC_meancurve_wl_P{P}_elt{elt}_N{N}_th{theta}_D{D}{disorder_code}\",\n",
    "    fmt=\"png\",\n",
    "    toolbar=False,\n",
    ")\n",
    "\n",
    "hv.save(\n",
    "    max_vs_integral,\n",
    "    filename=fig_path\n",
    "    / f\"{var[0]}_DLOPC_max_vs_tot_P{P}_elt{elt}_N{N}_th{theta}_D{D}{disorder_code}\",\n",
    "    fmt=\"png\",\n",
    "    toolbar=False,\n",
    ")\n",
    "\n",
    "# have no use for the violin plots yet"
   ]
  },
  {
   "cell_type": "code",
   "execution_count": null,
   "id": "1e0ce203-4879-4e68-94db-11b274b920f7",
   "metadata": {
    "tags": []
   },
   "outputs": [],
   "source": [
    "var = [\"R\"]\n",
    "run = slice(0, 999)\n",
    "disorder_correlation = \"uncorrelated\"\n",
    "N = num_periods = 20\n",
    "P = period = 150\n",
    "delta = 0.5\n",
    "theta = 0\n",
    "elt = excitonic_layer_thickness = 50\n",
    "disorder_code = disorder_correlation[0]\n",
    "D = str(delta).replace(\".\", \"\")\n",
    "\n",
    "the_plots = plot_singles(var, run, disorder_correlation, num_periods, period, delta, theta)\n",
    "\n",
    "overlay_1 = hv.Overlay(the_plots[:3]).select(run=slice(0,8)).opts(opts.Scatter(alpha=1), clone=True)\n",
    "display(overlay_1)\n",
    "\n",
    "overlay_2 = hv.Overlay([*the_plots[1:3], *the_plots[5:]]).opts(opts.Curve(ylim=(0, None)))\n",
    "display(overlay_2)\n",
    "\n",
    "max_vs_integral = the_plots[3]\n",
    "display(max_vs_integral)\n",
    "\n",
    "violin_plot = the_plots[4]\n",
    "display(violin_plot)"
   ]
  },
  {
   "cell_type": "code",
   "execution_count": null,
   "id": "f4fe6bf8-2e83-4891-9833-c1e0501b7ef2",
   "metadata": {
    "tags": []
   },
   "outputs": [],
   "source": [
    "reduced_overlay = overlay_1.select(run=slice(0,2))\n",
    "display(reduced_overlay)\n",
    "hv.save(\n",
    "    reduced_overlay,\n",
    "    filename=fig_path\n",
    "    / f\"{var[0]}_DLOPC_runcurve_reduced_wl_P{P}_elt{elt}_N{N}_th{theta}_D{D}{disorder_code}\",\n",
    "    fmt=\"png\",\n",
    "    toolbar=False,\n",
    ")"
   ]
  },
  {
   "cell_type": "code",
   "execution_count": null,
   "id": "c33862b9-ea77-4b1c-89e4-f80e061c9474",
   "metadata": {
    "tags": []
   },
   "outputs": [],
   "source": [
    "hv.save(\n",
    "    overlay_1,\n",
    "    filename=fig_path\n",
    "    / f\"{var[0]}_DLOPC_runcurve_wl_P{P}_elt{elt}_N{N}_th{theta}_D{D}{disorder_code}\",\n",
    "    fmt=\"png\",\n",
    "    toolbar=False,\n",
    ")\n",
    "\n",
    "hv.save(\n",
    "    overlay_2,\n",
    "    filename=fig_path\n",
    "    / f\"{var[0]}_DLOPC_meancurve_wl_P{P}_elt{elt}_N{N}_th{theta}_D{D}{disorder_code}\",\n",
    "    fmt=\"png\",\n",
    "    toolbar=False,\n",
    ")\n",
    "\n",
    "hv.save(\n",
    "    max_vs_integral,\n",
    "    filename=fig_path\n",
    "    / f\"{var[0]}_DLOPC_max_vs_tot_P{P}_elt{elt}_N{N}_th{theta}_D{D}{disorder_code}\",\n",
    "    fmt=\"png\",\n",
    "    toolbar=False,\n",
    ")\n",
    "\n",
    "# have no use for the violin plots yet"
   ]
  },
  {
   "cell_type": "code",
   "execution_count": null,
   "id": "c3960292-32b1-4586-82f8-692f6a799ef1",
   "metadata": {
    "tags": []
   },
   "outputs": [],
   "source": [
    "var = [\"R\"]\n",
    "run = slice(0, 999)\n",
    "disorder_correlation = \"uncorrelated\"\n",
    "N = num_periods = 50\n",
    "P = period = 150\n",
    "delta = 0.5\n",
    "theta = 0\n",
    "elt = excitonic_layer_thickness = 50\n",
    "disorder_code = disorder_correlation[0]\n",
    "D = str(delta).replace(\".\", \"\")\n",
    "\n",
    "the_plots = plot_singles(var, run, disorder_correlation, num_periods, period, delta, theta)\n",
    "\n",
    "overlay_1 = hv.Overlay(the_plots[:3]).select(run=slice(0,8)).opts(opts.Scatter(alpha=1), clone=True)\n",
    "display(overlay_1)\n",
    "\n",
    "overlay_2 = hv.Overlay([*the_plots[1:3], *the_plots[5:]]).opts(opts.Curve(ylim=(0, None)))\n",
    "display(overlay_2)\n",
    "\n",
    "max_vs_integral = the_plots[3]\n",
    "display(max_vs_integral)\n",
    "\n",
    "violin_plot = the_plots[4]\n",
    "display(violin_plot)"
   ]
  },
  {
   "cell_type": "code",
   "execution_count": null,
   "id": "d803cf4f-bcaf-4686-8a84-a8af9b16d78b",
   "metadata": {
    "tags": []
   },
   "outputs": [],
   "source": [
    "reduced_overlay = overlay_1.select(run=slice(0,2))\n",
    "display(reduced_overlay)\n",
    "hv.save(\n",
    "    reduced_overlay,\n",
    "    filename=fig_path\n",
    "    / f\"{var[0]}_DLOPC_runcurve_reduced_wl_P{P}_elt{elt}_N{N}_th{theta}_D{D}{disorder_code}\",\n",
    "    fmt=\"png\",\n",
    "    toolbar=False,\n",
    ")"
   ]
  },
  {
   "cell_type": "code",
   "execution_count": null,
   "id": "1e8b17d7-ddd5-41df-b8a4-a600528c68fa",
   "metadata": {
    "tags": []
   },
   "outputs": [],
   "source": [
    "hv.save(\n",
    "    overlay_1,\n",
    "    filename=fig_path\n",
    "    / f\"{var[0]}_DLOPC_runcurve_wl_P{P}_elt{elt}_N{N}_th{theta}_D{D}{disorder_code}\",\n",
    "    fmt=\"png\",\n",
    "    toolbar=False,\n",
    ")\n",
    "\n",
    "hv.save(\n",
    "    overlay_2,\n",
    "    filename=fig_path\n",
    "    / f\"{var[0]}_DLOPC_meancurve_wl_P{P}_elt{elt}_N{N}_th{theta}_D{D}{disorder_code}\",\n",
    "    fmt=\"png\",\n",
    "    toolbar=False,\n",
    ")\n",
    "\n",
    "hv.save(\n",
    "    max_vs_integral,\n",
    "    filename=fig_path\n",
    "    / f\"{var[0]}_DLOPC_max_vs_tot_P{P}_elt{elt}_N{N}_th{theta}_D{D}{disorder_code}\",\n",
    "    fmt=\"png\",\n",
    "    toolbar=False,\n",
    ")\n",
    "\n",
    "# have no use for the violin plots yet"
   ]
  },
  {
   "cell_type": "markdown",
   "id": "d496a015-d7b3-4976-a523-679ea95ce2bb",
   "metadata": {
    "jp-MarkdownHeadingCollapsed": true,
    "tags": []
   },
   "source": [
    "### vs N"
   ]
  },
  {
   "cell_type": "markdown",
   "id": "b608a30a-c268-4dff-aeea-551cf1af460c",
   "metadata": {
    "jp-MarkdownHeadingCollapsed": true,
    "tags": []
   },
   "source": [
    "#### RTA"
   ]
  },
  {
   "cell_type": "code",
   "execution_count": null,
   "id": "81428be9-a1e8-4fa2-bd0c-7b1c3ef7fbce",
   "metadata": {
    "tags": []
   },
   "outputs": [],
   "source": [
    "period = 300\n",
    "theta = 0\n",
    "disorder_correlation = \"correlated\"\n",
    "excitonic_layer_thickness = 50\n",
    "delta = 0.5"
   ]
  },
  {
   "cell_type": "code",
   "execution_count": null,
   "id": "72977d22-7b53-41f1-bd31-ea59643fdc1f",
   "metadata": {
    "tags": []
   },
   "outputs": [],
   "source": [
    "(\n",
    "    integrate_da(\n",
    "        restacked_stats_ds[[\"R_mean\", \"T_mean\", \"A_mean\"]]\n",
    "        .sel(\n",
    "            disorder_correlation=disorder_correlation,\n",
    "            period=period,\n",
    "            delta=delta,\n",
    "        )\n",
    "        .sel(\n",
    "            theta=theta,\n",
    "        )\n",
    "        .squeeze(),\n",
    "        dim=\"wavelength\",\n",
    "        normalisation=1,\n",
    "    )\n",
    "    .hvplot(x=\"num_periods\")\n",
    "    .opts(opts.Curve(color=RTA_cycle))\n",
    "    * integrate_da(\n",
    "        restacked_pds[[\"R\", \"T\", \"A\"]]\n",
    "        .sel(\n",
    "            period=period,\n",
    "            excitonic_layer_thickness=excitonic_layer_thickness,\n",
    "        )\n",
    "        .sel(\n",
    "            theta=theta,\n",
    "        )\n",
    "        .squeeze(),\n",
    "        dim=\"wavelength\",\n",
    "        normalisation=1,\n",
    "    )\n",
    "    .hvplot(x=\"num_periods\")\n",
    "    .opts(opts.Curve(color=RTA_cycle, line_dash=\"dashed\"))\n",
    "    * integrate_da(\n",
    "        crs_1[[\"R\", \"T\", \"A\"]]\n",
    "        .assign_coords(\n",
    "            {\n",
    "                \"num_periods\": lambda x: x.total_excitonic_thickness\n",
    "                / excitonic_layer_thickness\n",
    "            }\n",
    "        )\n",
    "        .sel(\n",
    "            theta=theta,\n",
    "        )\n",
    "        .sel(total_excitonic_thickness=slice(None, 2500))\n",
    "        .squeeze(),\n",
    "        dim=\"wavelength\",\n",
    "        normalisation=1,\n",
    "    )\n",
    "    .hvplot(x=\"num_periods\")\n",
    "    .opts(opts.Curve(color=RTA_cycle, line_dash=\"dotted\"))\n",
    ")"
   ]
  },
  {
   "cell_type": "code",
   "execution_count": null,
   "id": "225ed891-a38d-4942-b63a-3d4473c57e4e",
   "metadata": {
    "tags": []
   },
   "outputs": [],
   "source": [
    "period = 300\n",
    "theta = slice(0, 45)\n",
    "disorder_correlation = \"correlated\"\n",
    "excitonic_layer_thickness = 50\n",
    "delta = 0.5\n",
    "integration_dims = [\"wavelength\", \"theta\"]"
   ]
  },
  {
   "cell_type": "code",
   "execution_count": null,
   "id": "6681b803-af81-4af5-bc10-8a672ea3ff46",
   "metadata": {
    "tags": []
   },
   "outputs": [],
   "source": [
    "(\n",
    "    integrate_da(\n",
    "        restacked_stats_ds[[\"R_mean\", \"T_mean\", \"A_mean\"]]\n",
    "        .sel(\n",
    "            disorder_correlation=disorder_correlation,\n",
    "            period=period,\n",
    "            delta=delta,\n",
    "        )\n",
    "        .sel(\n",
    "            theta=theta,\n",
    "        )\n",
    "        .squeeze(),\n",
    "        dim=integration_dims,\n",
    "        normalisation=1,\n",
    "    )\n",
    "    .hvplot(x=\"num_periods\")\n",
    "    .opts(opts.Curve(color=RTA_cycle))\n",
    "    * integrate_da(\n",
    "        restacked_pds[[\"R\", \"T\", \"A\"]]\n",
    "        .sel(\n",
    "            period=period,\n",
    "            excitonic_layer_thickness=excitonic_layer_thickness,\n",
    "        )\n",
    "        .sel(\n",
    "            theta=theta,\n",
    "        )\n",
    "        .squeeze(),\n",
    "        dim=integration_dims,\n",
    "        normalisation=1,\n",
    "    )\n",
    "    .hvplot(x=\"num_periods\")\n",
    "    .opts(opts.Curve(color=RTA_cycle, line_dash=\"dashed\"))\n",
    "    * integrate_da(\n",
    "        crs_1[[\"R\", \"T\", \"A\"]]\n",
    "        .assign_coords(\n",
    "            {\n",
    "                \"num_periods\": lambda x: x.total_excitonic_thickness\n",
    "                / excitonic_layer_thickness\n",
    "            }\n",
    "        )\n",
    "        .sel(\n",
    "            theta=theta,\n",
    "        )\n",
    "        .sel(total_excitonic_thickness=slice(None, 2500))\n",
    "        .squeeze(),\n",
    "        dim=integration_dims,\n",
    "        normalisation=1,\n",
    "    )\n",
    "    .hvplot(x=\"num_periods\")\n",
    "    .opts(opts.Curve(color=RTA_cycle, line_dash=\"dotted\"))\n",
    ")"
   ]
  },
  {
   "cell_type": "markdown",
   "id": "387d7cd5-9608-4686-a1ee-d84d7c635c2c",
   "metadata": {
    "jp-MarkdownHeadingCollapsed": true,
    "tags": []
   },
   "source": [
    "#### by Lambda"
   ]
  },
  {
   "cell_type": "code",
   "execution_count": null,
   "id": "3d700e2c-8b0d-48c0-ae0c-0092f6ad7cd5",
   "metadata": {
    "tags": []
   },
   "outputs": [],
   "source": [
    "for delta in [0, 0.1, 0.2, 0.3, 0.4, 0.5, 1]:\n",
    "    periods = [100, 150, 200, 250, 300]\n",
    "    theta = 0\n",
    "    variable = \"R\"\n",
    "    disorder_correlation = \"correlated\"\n",
    "    excitonic_layer_thickness = 50\n",
    "    elt = excitonic_layer_thickness = 50\n",
    "    disorder_code = disorder_correlation[0]\n",
    "    D = str(delta).replace(\".\", \"\")\n",
    "\n",
    "    the_plot = compare_integrated_stats(\n",
    "        variable=variable,\n",
    "        disorder_correlation=disorder_correlation,\n",
    "        period=periods,\n",
    "        delta=delta,\n",
    "        theta=theta,\n",
    "        num_periods=slice(5, 50),\n",
    "        wavelength=(480, 881),\n",
    "        x=\"num_periods\",\n",
    "        by=\"period\",\n",
    "        dash_cycle=hv.Cycle(default_dash_cycle.values[::-1])\n",
    "    ).opts(opts.Curve(ylim=(0, None)))\n",
    "    # display(the_plot)\n",
    "\n",
    "    hv.save(\n",
    "        the_plot,\n",
    "        filename=fig_path\n",
    "        /f\"{variable}tot_DLOPC_period_comparison_N_elt{elt}_th{theta}_D{D}{disorder_code}\",\n",
    "        fmt=\"png\",\n",
    "        toolbar=False,\n",
    "    )"
   ]
  },
  {
   "cell_type": "code",
   "execution_count": null,
   "id": "7379456a-7a05-41ef-8f8b-59a80a4e059a",
   "metadata": {
    "tags": []
   },
   "outputs": [],
   "source": [
    "for delta in [0, 0.1, 0.2, 0.3, 0.4, 0.5]:\n",
    "    periods = [100, 150, 200, 250, 300]\n",
    "    theta = 0\n",
    "    variable = \"R\"\n",
    "    disorder_correlation = \"uncorrelated\"\n",
    "    excitonic_layer_thickness = 50\n",
    "    elt = excitonic_layer_thickness = 50\n",
    "    disorder_code = disorder_correlation[0]\n",
    "    D = str(delta).replace(\".\", \"\")\n",
    "\n",
    "    the_plot = compare_integrated_stats(\n",
    "        variable=variable,\n",
    "        disorder_correlation=disorder_correlation,\n",
    "        period=periods,\n",
    "        delta=delta,\n",
    "        theta=theta,\n",
    "        num_periods=slice(5, 50),\n",
    "        wavelength=(480, 881),\n",
    "        x=\"num_periods\",\n",
    "        by=\"period\",\n",
    "        dash_cycle=hv.Cycle(default_dash_cycle.values[::-1])\n",
    "    ).opts(opts.Curve(ylim=(0, None)))\n",
    "    # display(the_plot)\n",
    "\n",
    "    hv.save(\n",
    "        the_plot,\n",
    "        filename=fig_path\n",
    "        /f\"{variable}tot_DLOPC_period_comparison_N_elt{elt}_th{theta}_D{D}{disorder_code}\",\n",
    "        fmt=\"png\",\n",
    "        toolbar=False,\n",
    "    )"
   ]
  },
  {
   "cell_type": "code",
   "execution_count": null,
   "id": "c67aff44-464e-4974-bba6-3fe4c3842ca4",
   "metadata": {
    "tags": []
   },
   "outputs": [],
   "source": [
    "delta = 0\n",
    "periods = [100, 150, 200, 250, 300]\n",
    "theta = 0\n",
    "variable = \"R\"\n",
    "disorder_correlation = \"correlated\"\n",
    "excitonic_layer_thickness = 50\n",
    "elt = excitonic_layer_thickness = 50\n",
    "disorder_code = disorder_correlation[0]\n",
    "D = str(delta).replace(\".\", \"\")\n",
    "\n",
    "the_plot = compare_integrated_stats(\n",
    "    variable=variable,\n",
    "    disorder_correlation=disorder_correlation,\n",
    "    period=periods,\n",
    "    delta=delta,\n",
    "    theta=theta,\n",
    "    wavelength=(480, 881),\n",
    "    x=\"num_periods\",\n",
    "    by=\"period\",\n",
    "    dash_cycle=hv.Cycle(default_dash_cycle.values[::-1])\n",
    ").opts(opts.Curve(ylim=(0, None)))\n",
    "the_plot"
   ]
  },
  {
   "cell_type": "code",
   "execution_count": null,
   "id": "cedbe76c-c842-4c1a-89fe-2a24395343b7",
   "metadata": {
    "tags": []
   },
   "outputs": [],
   "source": [
    "hv.save(\n",
    "    the_plot,\n",
    "    filename=fig_path\n",
    "    /f\"{variable}tot_DLOPC_period_comparison_N_elt{elt}_th{theta}_D{D}{disorder_code}\",\n",
    "    fmt=\"png\",\n",
    "    toolbar=False,\n",
    ")"
   ]
  },
  {
   "cell_type": "code",
   "execution_count": null,
   "id": "36501aea-e11f-4c11-934e-535afe8e2041",
   "metadata": {
    "tags": []
   },
   "outputs": [],
   "source": [
    "delta = 1\n",
    "periods = [100, 150, 200, 250, 300]\n",
    "theta = 0\n",
    "variable = \"R\"\n",
    "disorder_correlation = \"correlated\"\n",
    "excitonic_layer_thickness = 50\n",
    "elt = excitonic_layer_thickness = 50\n",
    "disorder_code = disorder_correlation[0]\n",
    "D = str(delta).replace(\".\", \"\")\n",
    "\n",
    "the_plot = compare_integrated_stats(\n",
    "    variable=variable,\n",
    "    disorder_correlation=disorder_correlation,\n",
    "    period=periods,\n",
    "    delta=delta,\n",
    "    theta=theta,\n",
    "    wavelength=(480, 881),\n",
    "    x=\"num_periods\",\n",
    "    by=\"period\",\n",
    "    dash_cycle=hv.Cycle(default_dash_cycle.values[::-1])\n",
    ").opts(opts.Curve(ylim=(0, None)))\n",
    "the_plot"
   ]
  },
  {
   "cell_type": "code",
   "execution_count": null,
   "id": "cb87c774-afcd-4ccd-8fe7-bd7963e14385",
   "metadata": {
    "tags": []
   },
   "outputs": [],
   "source": [
    "hv.save(\n",
    "    the_plot,\n",
    "    filename=fig_path\n",
    "    /f\"{variable}tot_DLOPC_period_comparison_N_elt{elt}_th{theta}_D{D}{disorder_code}\",\n",
    "    fmt=\"png\",\n",
    "    toolbar=False,\n",
    ")"
   ]
  },
  {
   "cell_type": "code",
   "execution_count": null,
   "id": "17302fb2-5b11-49a9-aca3-13c36be46ae0",
   "metadata": {
    "tags": []
   },
   "outputs": [],
   "source": [
    "delta = 0.3\n",
    "periods = [100, 150, 200, 250, 300]\n",
    "theta = 0\n",
    "variable = \"R\"\n",
    "disorder_correlation = \"uncorrelated\"\n",
    "excitonic_layer_thickness = 50\n",
    "elt = excitonic_layer_thickness = 50\n",
    "disorder_code = disorder_correlation[0]\n",
    "D = str(delta).replace(\".\", \"\")\n",
    "\n",
    "the_plot = compare_integrated_stats(\n",
    "    variable=variable,\n",
    "    disorder_correlation=disorder_correlation,\n",
    "    period=periods,\n",
    "    delta=delta,\n",
    "    theta=theta,\n",
    "    wavelength=(480, 881),\n",
    "    x=\"num_periods\",\n",
    "    by=\"period\",\n",
    "    dash_cycle=hv.Cycle(default_dash_cycle.values[::-1])\n",
    ").opts(opts.Curve(ylim=(0, None)))\n",
    "the_plot"
   ]
  },
  {
   "cell_type": "code",
   "execution_count": null,
   "id": "336ab37b-4289-4941-9424-0ebb538fcccd",
   "metadata": {
    "tags": []
   },
   "outputs": [],
   "source": [
    "hv.save(\n",
    "    the_plot,\n",
    "    filename=fig_path\n",
    "    /f\"{variable}tot_DLOPC_period_comparison_N_elt{elt}_th{theta}_D{D}{disorder_code}\",\n",
    "    fmt=\"png\",\n",
    "    toolbar=False,\n",
    ")"
   ]
  },
  {
   "cell_type": "code",
   "execution_count": null,
   "id": "e844a496-b155-483a-abd4-38aa1cd49de1",
   "metadata": {
    "tags": []
   },
   "outputs": [],
   "source": [
    "periods = [100, 150, 200, 250, 300]\n",
    "color_cycle = hv.Cycle(colorcet.glasbey[:len(periods)])\n",
    "var = \"R\"\n",
    "delta = 0.5\n",
    "\n",
    "(\n",
    "    integrate_da(\n",
    "        restacked_stats_ds[f\"{var}_mean\"]\n",
    "        .sel(\n",
    "            disorder_correlation=disorder_correlation,\n",
    "            period=periods,\n",
    "            delta=delta,\n",
    "            theta=0,\n",
    "        )\n",
    "        .squeeze(),\n",
    "        dim=\"wavelength\",\n",
    "        normalisation=1,\n",
    "    )\n",
    "    .hvplot(x=\"num_periods\", by=\"period\")\n",
    "    .opts(opts.Curve(color=color_cycle))\n",
    "    * integrate_da(\n",
    "        restacked_pds[var]\n",
    "        .sel(\n",
    "            period=periods,\n",
    "            excitonic_layer_thickness=excitonic_layer_thickness,\n",
    "            theta=0,\n",
    "        )\n",
    "        .squeeze(),\n",
    "        dim=\"wavelength\",\n",
    "        normalisation=1,\n",
    "    )\n",
    "    .hvplot(x=\"num_periods\", by=\"period\")\n",
    "    .opts(opts.Curve(color=color_cycle, line_dash=\"dashed\"))\n",
    "    * integrate_da(\n",
    "        crs_1[var]\n",
    "        .assign_coords(\n",
    "            {\n",
    "                \"num_periods\": lambda x: x.total_excitonic_thickness\n",
    "                / excitonic_layer_thickness\n",
    "            }\n",
    "        )\n",
    "        .sel(\n",
    "            theta=0,\n",
    "        )\n",
    "        .sel(total_excitonic_thickness=slice(None, 2500))\n",
    "        .squeeze(),\n",
    "        dim=\"wavelength\",\n",
    "        normalisation=1,\n",
    "    )\n",
    "    .hvplot(x=\"num_periods\")\n",
    "    .opts(opts.Curve(color=\"black\", line_dash=\"dotted\"))\n",
    ").opts(opts.Curve(ylabel=var, ylim=(0, None)))"
   ]
  },
  {
   "cell_type": "code",
   "execution_count": null,
   "id": "989a9b03-ab76-47b0-b5ee-809fa89c4713",
   "metadata": {
    "tags": []
   },
   "outputs": [],
   "source": [
    "periods = [100, 150, 200, 250, 300]\n",
    "color_cycle = hv.Cycle(colorcet.glasbey[:len(periods)])\n",
    "var = \"T\"\n",
    "\n",
    "(\n",
    "    integrate_da(\n",
    "        restacked_stats_ds[f\"{var}_mean\"]\n",
    "        .sel(\n",
    "            disorder_correlation=disorder_correlation,\n",
    "            period=periods,\n",
    "            delta=delta,\n",
    "            theta=0,\n",
    "        )\n",
    "        .squeeze(),\n",
    "        dim=\"wavelength\",\n",
    "        normalisation=1,\n",
    "    )\n",
    "    .hvplot(x=\"num_periods\", by=\"period\")\n",
    "    .opts(opts.Curve(color=color_cycle))\n",
    "    * integrate_da(\n",
    "        restacked_pds[var]\n",
    "        .sel(\n",
    "            period=periods,\n",
    "            excitonic_layer_thickness=excitonic_layer_thickness,\n",
    "            theta=0,\n",
    "        )\n",
    "        .squeeze(),\n",
    "        dim=\"wavelength\",\n",
    "        normalisation=1,\n",
    "    )\n",
    "    .hvplot(x=\"num_periods\", by=\"period\")\n",
    "    .opts(opts.Curve(color=color_cycle, line_dash=\"dashed\"))\n",
    "    * integrate_da(\n",
    "        crs_1[var]\n",
    "        .assign_coords(\n",
    "            {\n",
    "                \"num_periods\": lambda x: x.total_excitonic_thickness\n",
    "                / excitonic_layer_thickness\n",
    "            }\n",
    "        )\n",
    "        .sel(\n",
    "            theta=0,\n",
    "        )\n",
    "        .sel(total_excitonic_thickness=slice(None, 2500))\n",
    "        .squeeze(),\n",
    "        dim=\"wavelength\",\n",
    "        normalisation=1,\n",
    "    )\n",
    "    .hvplot(x=\"num_periods\")\n",
    "    .opts(opts.Curve(color=\"black\", line_dash=\"dotted\"))\n",
    ").opts(opts.Curve(ylabel=var, ylim=(None, 1)))"
   ]
  },
  {
   "cell_type": "code",
   "execution_count": null,
   "id": "678b76ee-c8a7-43aa-8a9b-9f32eff6a94b",
   "metadata": {
    "tags": []
   },
   "outputs": [],
   "source": [
    "periods = [100, 150, 200, 250, 300]\n",
    "color_cycle = hv.Cycle(colorcet.glasbey[:len(periods)])\n",
    "var = \"A\"\n",
    "\n",
    "(\n",
    "    integrate_da(\n",
    "        restacked_stats_ds[f\"{var}_mean\"]\n",
    "        .sel(\n",
    "            disorder_correlation=disorder_correlation,\n",
    "            period=periods,\n",
    "            delta=delta,\n",
    "            theta=0,\n",
    "        )\n",
    "        .squeeze(),\n",
    "        dim=\"wavelength\",\n",
    "        normalisation=1,\n",
    "    )\n",
    "    .hvplot(x=\"num_periods\", by=\"period\")\n",
    "    .opts(opts.Curve(color=color_cycle))\n",
    "    * integrate_da(\n",
    "        restacked_pds[var]\n",
    "        .sel(\n",
    "            period=periods,\n",
    "            excitonic_layer_thickness=excitonic_layer_thickness,\n",
    "            theta=0,\n",
    "        )\n",
    "        .squeeze(),\n",
    "        dim=\"wavelength\",\n",
    "        normalisation=1,\n",
    "    )\n",
    "    .hvplot(x=\"num_periods\", by=\"period\")\n",
    "    .opts(opts.Curve(color=color_cycle, line_dash=\"dashed\"))\n",
    "    * integrate_da(\n",
    "        crs_1[var]\n",
    "        .assign_coords(\n",
    "            {\n",
    "                \"num_periods\": lambda x: x.total_excitonic_thickness\n",
    "                / excitonic_layer_thickness\n",
    "            }\n",
    "        )\n",
    "        .sel(\n",
    "            theta=0,\n",
    "        )\n",
    "        .sel(total_excitonic_thickness=slice(None, 2500))\n",
    "        .squeeze(),\n",
    "        dim=\"wavelength\",\n",
    "        normalisation=1,\n",
    "    )\n",
    "    .hvplot(x=\"num_periods\")\n",
    "    .opts(opts.Curve(color=\"black\", line_dash=\"dotted\"))\n",
    ").opts(opts.Curve(ylabel=var, ylim=(0, None)))"
   ]
  },
  {
   "cell_type": "markdown",
   "id": "499641f6-3117-42c0-9d70-cdd3866abb2b",
   "metadata": {
    "tags": []
   },
   "source": [
    "#### by D"
   ]
  },
  {
   "cell_type": "markdown",
   "id": "8c501e77-873c-463e-b2e0-dec0f8daa895",
   "metadata": {
    "jp-MarkdownHeadingCollapsed": true,
    "tags": []
   },
   "source": [
    "##### Correlated"
   ]
  },
  {
   "cell_type": "code",
   "execution_count": null,
   "id": "5aab2cff-0a22-4034-bb1d-5c3454aaafb3",
   "metadata": {
    "tags": []
   },
   "outputs": [],
   "source": [
    "deltas = [0, 0.1, 0.3, 0.5, 1]\n",
    "P = period = 100\n",
    "theta = 0\n",
    "variable = \"R\"\n",
    "disorder_correlation = \"correlated\"\n",
    "excitonic_layer_thickness = 50\n",
    "elt = excitonic_layer_thickness = 50\n",
    "disorder_code = disorder_correlation[0]\n",
    "# D = \"-\".join([str(deltas[0]), str(deltas[-1])])\n",
    "\n",
    "the_plot = compare_integrated_stats(\n",
    "    variable=variable,\n",
    "    disorder_correlation=disorder_correlation,\n",
    "    period=period,\n",
    "    delta=deltas,\n",
    "    theta=theta,\n",
    "    wavelength=(480, 881),\n",
    "    x=\"num_periods\",\n",
    "    by=\"delta\",\n",
    ").opts(opts.Curve(ylim=(0, None)))\n",
    "the_plot"
   ]
  },
  {
   "cell_type": "code",
   "execution_count": null,
   "id": "e895034f-138a-4961-9666-a7f0b02259ea",
   "metadata": {
    "tags": []
   },
   "outputs": [],
   "source": [
    "hv.save(\n",
    "    the_plot,\n",
    "    filename=fig_path\n",
    "    /f\"{variable}tot_DLOPC_delta_comparison_N_P{P}_elt{elt}_th{theta}_D{disorder_code}\",\n",
    "    fmt=\"png\",\n",
    "    toolbar=False,\n",
    ")"
   ]
  },
  {
   "cell_type": "code",
   "execution_count": null,
   "id": "920ed27d-0ca4-49b4-a46d-a13a6280e73b",
   "metadata": {
    "tags": []
   },
   "outputs": [],
   "source": [
    "deltas = [0, 0.1, 0.3, 0.5, 1]\n",
    "P = period = 150\n",
    "theta = 0\n",
    "variable = \"R\"\n",
    "disorder_correlation = \"correlated\"\n",
    "excitonic_layer_thickness = 50\n",
    "elt = excitonic_layer_thickness = 50\n",
    "disorder_code = disorder_correlation[0]\n",
    "# D = \"-\".join([str(deltas[0]), str(deltas[-1])])\n",
    "\n",
    "the_plot = compare_integrated_stats(\n",
    "    variable=variable,\n",
    "    disorder_correlation=disorder_correlation,\n",
    "    period=period,\n",
    "    delta=deltas,\n",
    "    theta=theta,\n",
    "    wavelength=(480, 881),\n",
    "    x=\"num_periods\",\n",
    "    by=\"delta\",\n",
    ").opts(opts.Curve(ylim=(0, None)))\n",
    "the_plot"
   ]
  },
  {
   "cell_type": "code",
   "execution_count": null,
   "id": "573f8945-b699-4b6f-b3ac-69e96971106f",
   "metadata": {
    "tags": []
   },
   "outputs": [],
   "source": [
    "hv.save(\n",
    "    the_plot,\n",
    "    filename=fig_path\n",
    "    /f\"{variable}tot_DLOPC_delta_comparison_N_P{P}_elt{elt}_th{theta}_D{disorder_code}\",\n",
    "    fmt=\"png\",\n",
    "    toolbar=False,\n",
    ")"
   ]
  },
  {
   "cell_type": "code",
   "execution_count": null,
   "id": "5a332955-f7eb-45be-ac1d-b4a1580927f0",
   "metadata": {
    "tags": []
   },
   "outputs": [],
   "source": [
    "deltas = [0, 0.1, 0.3, 0.5, 1]\n",
    "P = period = 200\n",
    "theta = 0\n",
    "variable = \"R\"\n",
    "disorder_correlation = \"correlated\"\n",
    "excitonic_layer_thickness = 50\n",
    "elt = excitonic_layer_thickness = 50\n",
    "disorder_code = disorder_correlation[0]\n",
    "# D = \"-\".join([str(deltas[0]), str(deltas[-1])])\n",
    "\n",
    "the_plot = compare_integrated_stats(\n",
    "    variable=variable,\n",
    "    disorder_correlation=disorder_correlation,\n",
    "    period=period,\n",
    "    delta=deltas,\n",
    "    theta=theta,\n",
    "    wavelength=(480, 881),\n",
    "    x=\"num_periods\",\n",
    "    by=\"delta\",\n",
    ").opts(opts.Curve(ylim=(0, None)))\n",
    "the_plot"
   ]
  },
  {
   "cell_type": "code",
   "execution_count": null,
   "id": "b4745ebe-897c-4ba9-a33f-995184bf3a99",
   "metadata": {
    "tags": []
   },
   "outputs": [],
   "source": [
    "hv.save(\n",
    "    the_plot,\n",
    "    filename=fig_path\n",
    "    /f\"{variable}tot_DLOPC_delta_comparison_N_P{P}_elt{elt}_th{theta}_D{disorder_code}\",\n",
    "    fmt=\"png\",\n",
    "    toolbar=False,\n",
    ")"
   ]
  },
  {
   "cell_type": "code",
   "execution_count": null,
   "id": "5253d030-1276-4134-915f-d9a952c21020",
   "metadata": {
    "tags": []
   },
   "outputs": [],
   "source": [
    "deltas = [0, 0.1, 0.3, 0.5, 1]\n",
    "P = period = 250\n",
    "theta = 0\n",
    "variable = \"R\"\n",
    "disorder_correlation = \"correlated\"\n",
    "excitonic_layer_thickness = 50\n",
    "elt = excitonic_layer_thickness = 50\n",
    "disorder_code = disorder_correlation[0]\n",
    "# D = \"-\".join([str(deltas[0]), str(deltas[-1])])\n",
    "\n",
    "the_plot = compare_integrated_stats(\n",
    "    variable=variable,\n",
    "    disorder_correlation=disorder_correlation,\n",
    "    period=period,\n",
    "    delta=deltas,\n",
    "    theta=theta,\n",
    "    wavelength=(480, 881),\n",
    "    x=\"num_periods\",\n",
    "    by=\"delta\",\n",
    ").opts(opts.Curve(ylim=(0, None)))\n",
    "the_plot"
   ]
  },
  {
   "cell_type": "code",
   "execution_count": null,
   "id": "635fc9c7-ed46-4da6-b9cc-5c328a74e9e3",
   "metadata": {
    "tags": []
   },
   "outputs": [],
   "source": [
    "hv.save(\n",
    "    the_plot,\n",
    "    filename=fig_path\n",
    "    /f\"{variable}tot_DLOPC_delta_comparison_N_P{P}_elt{elt}_th{theta}_D{disorder_code}\",\n",
    "    fmt=\"png\",\n",
    "    toolbar=False,\n",
    ")"
   ]
  },
  {
   "cell_type": "code",
   "execution_count": null,
   "id": "b8f0f34a-a722-46d7-9a26-bbb07421a452",
   "metadata": {
    "tags": []
   },
   "outputs": [],
   "source": [
    "deltas = [0, 0.1, 0.3, 0.5, 1]\n",
    "P = period = 300\n",
    "theta = 0\n",
    "variable = \"R\"\n",
    "disorder_correlation = \"correlated\"\n",
    "excitonic_layer_thickness = 50\n",
    "elt = excitonic_layer_thickness = 50\n",
    "disorder_code = disorder_correlation[0]\n",
    "# D = \"-\".join([str(deltas[0]), str(deltas[-1])])\n",
    "\n",
    "the_plot = compare_integrated_stats(\n",
    "    variable=variable,\n",
    "    disorder_correlation=disorder_correlation,\n",
    "    period=period,\n",
    "    delta=deltas,\n",
    "    theta=theta,\n",
    "    wavelength=(480, 881),\n",
    "    x=\"num_periods\",\n",
    "    by=\"delta\",\n",
    ").opts(opts.Curve(ylim=(0, None)))\n",
    "the_plot"
   ]
  },
  {
   "cell_type": "code",
   "execution_count": null,
   "id": "850cf8dc-1fa8-45ab-af6d-effcbd4f073c",
   "metadata": {
    "tags": []
   },
   "outputs": [],
   "source": [
    "hv.save(\n",
    "    the_plot,\n",
    "    filename=fig_path\n",
    "    /f\"{variable}tot_DLOPC_delta_comparison_N_P{P}_elt{elt}_th{theta}_D{disorder_code}\",\n",
    "    fmt=\"png\",\n",
    "    toolbar=False,\n",
    ")"
   ]
  },
  {
   "cell_type": "markdown",
   "id": "9e68a53d-5c80-4d77-a383-10ce5f3b1ef9",
   "metadata": {
    "jp-MarkdownHeadingCollapsed": true,
    "tags": []
   },
   "source": [
    "##### Uncorrelated"
   ]
  },
  {
   "cell_type": "code",
   "execution_count": null,
   "id": "462bee07-269f-4fcb-b891-486fae37d76e",
   "metadata": {
    "tags": []
   },
   "outputs": [],
   "source": [
    "deltas = [0, 0.1, 0.3, 0.5]\n",
    "P = period = 100\n",
    "theta = 0\n",
    "variable = \"R\"\n",
    "disorder_correlation = \"uncorrelated\"\n",
    "excitonic_layer_thickness = 50\n",
    "elt = excitonic_layer_thickness = 50\n",
    "disorder_code = disorder_correlation[0]\n",
    "# D = \"-\".join([str(deltas[0]), str(deltas[-1])])\n",
    "\n",
    "the_plot = compare_integrated_stats(\n",
    "    variable=variable,\n",
    "    disorder_correlation=disorder_correlation,\n",
    "    period=period,\n",
    "    delta=deltas,\n",
    "    theta=theta,\n",
    "    wavelength=(480, 881),\n",
    "    x=\"num_periods\",\n",
    "    by=\"delta\",\n",
    ").opts(opts.Curve(ylim=(0, None)))\n",
    "the_plot"
   ]
  },
  {
   "cell_type": "code",
   "execution_count": null,
   "id": "1bc22493-ca37-44d1-93a9-2116140104c0",
   "metadata": {
    "tags": []
   },
   "outputs": [],
   "source": [
    "hv.save(\n",
    "    the_plot,\n",
    "    filename=fig_path\n",
    "    /f\"{variable}tot_DLOPC_delta_comparison_N_P{P}_elt{elt}_th{theta}_D{disorder_code}\",\n",
    "    fmt=\"png\",\n",
    "    toolbar=False,\n",
    ")"
   ]
  },
  {
   "cell_type": "code",
   "execution_count": null,
   "id": "26bb972d-ee35-4b30-b72b-a2180cff3a54",
   "metadata": {
    "tags": []
   },
   "outputs": [],
   "source": [
    "deltas = [0, 0.1, 0.3, 0.5]\n",
    "P = period = 150\n",
    "theta = 0\n",
    "variable = \"R\"\n",
    "disorder_correlation = \"uncorrelated\"\n",
    "excitonic_layer_thickness = 50\n",
    "elt = excitonic_layer_thickness = 50\n",
    "disorder_code = disorder_correlation[0]\n",
    "# D = \"-\".join([str(deltas[0]), str(deltas[-1])])\n",
    "\n",
    "the_plot = compare_integrated_stats(\n",
    "    variable=variable,\n",
    "    disorder_correlation=disorder_correlation,\n",
    "    period=period,\n",
    "    delta=deltas,\n",
    "    theta=theta,\n",
    "    wavelength=(480, 881),\n",
    "    x=\"num_periods\",\n",
    "    by=\"delta\",\n",
    ").opts(opts.Curve(ylim=(0, None)))\n",
    "the_plot"
   ]
  },
  {
   "cell_type": "code",
   "execution_count": null,
   "id": "e64b4ff3-1718-451e-a457-8845e1b8a64a",
   "metadata": {
    "tags": []
   },
   "outputs": [],
   "source": [
    "hv.save(\n",
    "    the_plot,\n",
    "    filename=fig_path\n",
    "    /f\"{variable}tot_DLOPC_delta_comparison_N_P{P}_elt{elt}_th{theta}_D{disorder_code}\",\n",
    "    fmt=\"png\",\n",
    "    toolbar=False,\n",
    ")"
   ]
  },
  {
   "cell_type": "code",
   "execution_count": null,
   "id": "8c5aadd3-e7ff-4d51-af65-910ee3c032ee",
   "metadata": {
    "tags": []
   },
   "outputs": [],
   "source": [
    "deltas = [0, 0.1, 0.3, 0.5]\n",
    "P = period = 200\n",
    "theta = 0\n",
    "variable = \"R\"\n",
    "disorder_correlation = \"uncorrelated\"\n",
    "excitonic_layer_thickness = 50\n",
    "elt = excitonic_layer_thickness = 50\n",
    "disorder_code = disorder_correlation[0]\n",
    "# D = \"-\".join([str(deltas[0]), str(deltas[-1])])\n",
    "\n",
    "the_plot = compare_integrated_stats(\n",
    "    variable=variable,\n",
    "    disorder_correlation=disorder_correlation,\n",
    "    period=period,\n",
    "    delta=deltas,\n",
    "    theta=theta,\n",
    "    wavelength=(480, 881),\n",
    "    x=\"num_periods\",\n",
    "    by=\"delta\",\n",
    ").opts(opts.Curve(ylim=(0, None)))\n",
    "the_plot"
   ]
  },
  {
   "cell_type": "code",
   "execution_count": null,
   "id": "5c0aa7f6-91a5-4f6d-9c4c-acdac1e12097",
   "metadata": {
    "tags": []
   },
   "outputs": [],
   "source": [
    "hv.save(\n",
    "    the_plot,\n",
    "    filename=fig_path\n",
    "    /f\"{variable}tot_DLOPC_delta_comparison_N_P{P}_elt{elt}_th{theta}_D{disorder_code}\",\n",
    "    fmt=\"png\",\n",
    "    toolbar=False,\n",
    ")"
   ]
  },
  {
   "cell_type": "code",
   "execution_count": null,
   "id": "13890d32-9c41-4472-abdd-ad875f2da3e5",
   "metadata": {
    "tags": []
   },
   "outputs": [],
   "source": [
    "deltas = [0, 0.1, 0.3, 0.5]\n",
    "P = period = 250\n",
    "theta = 0\n",
    "variable = \"R\"\n",
    "disorder_correlation = \"uncorrelated\"\n",
    "excitonic_layer_thickness = 50\n",
    "elt = excitonic_layer_thickness = 50\n",
    "disorder_code = disorder_correlation[0]\n",
    "# D = \"-\".join([str(deltas[0]), str(deltas[-1])])\n",
    "\n",
    "the_plot = compare_integrated_stats(\n",
    "    variable=variable,\n",
    "    disorder_correlation=disorder_correlation,\n",
    "    period=period,\n",
    "    delta=deltas,\n",
    "    theta=theta,\n",
    "    wavelength=(480, 881),\n",
    "    x=\"num_periods\",\n",
    "    by=\"delta\",\n",
    ").opts(opts.Curve(ylim=(0, None)))\n",
    "the_plot"
   ]
  },
  {
   "cell_type": "code",
   "execution_count": null,
   "id": "dafcb30e-ff97-47df-8f36-523c4b6bb4a0",
   "metadata": {
    "tags": []
   },
   "outputs": [],
   "source": [
    "hv.save(\n",
    "    the_plot,\n",
    "    filename=fig_path\n",
    "    /f\"{variable}tot_DLOPC_delta_comparison_N_P{P}_elt{elt}_th{theta}_D{disorder_code}\",\n",
    "    fmt=\"png\",\n",
    "    toolbar=False,\n",
    ")"
   ]
  },
  {
   "cell_type": "code",
   "execution_count": null,
   "id": "d9f62c19-e82d-40e0-93b4-89bd2fc10f41",
   "metadata": {
    "tags": []
   },
   "outputs": [],
   "source": [
    "deltas = [0, 0.1, 0.3, 0.5]\n",
    "P = period = 300\n",
    "num_periods=slice(0, 50)\n",
    "theta = 0\n",
    "variable = \"R\"\n",
    "disorder_correlation = \"uncorrelated\"\n",
    "excitonic_layer_thickness = 50\n",
    "elt = excitonic_layer_thickness = 50\n",
    "disorder_code = disorder_correlation[0]\n",
    "# D = \"-\".join([str(deltas[0]), str(deltas[-1])])\n",
    "\n",
    "the_plot = compare_integrated_stats(\n",
    "    variable=variable,\n",
    "    disorder_correlation=disorder_correlation,\n",
    "    num_periods=num_periods,\n",
    "    period=period,\n",
    "    delta=deltas,\n",
    "    theta=theta,\n",
    "    wavelength=(480, 881),\n",
    "    x=\"num_periods\",\n",
    "    by=\"delta\",\n",
    ").opts(opts.Curve(ylim=(0, None)))\n",
    "the_plot"
   ]
  },
  {
   "cell_type": "code",
   "execution_count": null,
   "id": "45c70591-0b6d-4fd7-9136-170877b3e180",
   "metadata": {
    "tags": []
   },
   "outputs": [],
   "source": [
    "hv.save(\n",
    "    the_plot,\n",
    "    filename=fig_path\n",
    "    /f\"{variable}tot_DLOPC_delta_comparison_N_P{P}_elt{elt}_th{theta}_D{disorder_code}\",\n",
    "    fmt=\"png\",\n",
    "    toolbar=False,\n",
    ")"
   ]
  },
  {
   "cell_type": "markdown",
   "id": "0c793aee-85cf-4961-bad3-fae8a79e0740",
   "metadata": {
    "tags": []
   },
   "source": [
    "##### Integrating over theta?"
   ]
  },
  {
   "cell_type": "markdown",
   "id": "08c3f873-0238-44cb-a20b-c5111a274881",
   "metadata": {},
   "source": [
    "Integrating to 45 degrees."
   ]
  },
  {
   "cell_type": "code",
   "execution_count": null,
   "id": "9a6e07d0-9ca5-4b54-9f6d-467d60d0a57a",
   "metadata": {
    "tags": []
   },
   "outputs": [],
   "source": [
    "deltas = [0, 0.1, 0.3, 0.5, 1]\n",
    "num_periods=slice(0, 50)\n",
    "theta = 0\n",
    "variable = \"R\"\n",
    "disorder_correlation = \"correlated\"\n",
    "excitonic_layer_thickness = 50\n",
    "elt = excitonic_layer_thickness = 50\n",
    "disorder_code = disorder_correlation[0]\n",
    "\n",
    "for period in [100, 150, 200, 250, 300]:\n",
    "    P = period\n",
    "    for integrate_angle in [45, 86]:\n",
    "        the_plot = compare_integrated_stats(\n",
    "            variable=variable,\n",
    "            disorder_correlation=disorder_correlation,\n",
    "            num_periods=num_periods,\n",
    "            period=period,\n",
    "            delta=deltas,\n",
    "            theta=theta,\n",
    "            integrate_angle=integrate_angle,\n",
    "            wavelength=(480, 881),\n",
    "            x=\"num_periods\",\n",
    "            by=\"delta\",\n",
    "        ).opts(opts.Curve(ylim=(0, None)))\n",
    "        # display(the_plot)\n",
    "\n",
    "        hv.save(\n",
    "            the_plot,\n",
    "            filename=fig_path\n",
    "            /f\"{variable}tot_DLOPC_delta_comparison_N_P{P}_elt{elt}_th{theta}-{integrate_angle}_D{disorder_code}\",\n",
    "            fmt=\"png\",\n",
    "            toolbar=False,\n",
    "        )"
   ]
  },
  {
   "cell_type": "code",
   "execution_count": null,
   "id": "5433802e-2996-4f6b-91db-07d840c038db",
   "metadata": {
    "tags": []
   },
   "outputs": [],
   "source": [
    "deltas = [0, 0.1, 0.3, 0.5]\n",
    "num_periods=slice(0, 50)\n",
    "theta = 0\n",
    "variable = \"R\"\n",
    "disorder_correlation = \"uncorrelated\"\n",
    "excitonic_layer_thickness = 50\n",
    "elt = excitonic_layer_thickness = 50\n",
    "disorder_code = disorder_correlation[0]\n",
    "\n",
    "for period in [100, 150, 200, 250, 300]:\n",
    "    P = period\n",
    "    for integrate_angle in [45, 86]:\n",
    "        the_plot = compare_integrated_stats(\n",
    "            variable=variable,\n",
    "            disorder_correlation=disorder_correlation,\n",
    "            num_periods=num_periods,\n",
    "            period=period,\n",
    "            delta=deltas,\n",
    "            theta=theta,\n",
    "            integrate_angle=integrate_angle,\n",
    "            wavelength=(480, 881),\n",
    "            x=\"num_periods\",\n",
    "            by=\"delta\",\n",
    "        ).opts(opts.Curve(ylim=(0, None)))\n",
    "        # display(the_plot)\n",
    "\n",
    "        hv.save(\n",
    "            the_plot,\n",
    "            filename=fig_path\n",
    "            /f\"{variable}tot_DLOPC_delta_comparison_N_P{P}_elt{elt}_th{theta}-{integrate_angle}_D{disorder_code}\",\n",
    "            fmt=\"png\",\n",
    "            toolbar=False,\n",
    "        )"
   ]
  },
  {
   "cell_type": "code",
   "execution_count": null,
   "id": "19c0a04f-6f4c-4977-b5e2-35d6105290a4",
   "metadata": {
    "tags": []
   },
   "outputs": [],
   "source": [
    "deltas = [0, 0.1, 0.3, 0.5]\n",
    "P = period = 300\n",
    "num_periods=slice(0, 50)\n",
    "theta = 0\n",
    "integrate_angle = 45\n",
    "variable = \"R\"\n",
    "disorder_correlation = \"uncorrelated\"\n",
    "excitonic_layer_thickness = 50\n",
    "elt = excitonic_layer_thickness = 50\n",
    "disorder_code = disorder_correlation[0]\n",
    "# D = \"-\".join([str(deltas[0]), str(deltas[-1])])\n",
    "\n",
    "the_plot = compare_integrated_stats(\n",
    "    variable=variable,\n",
    "    disorder_correlation=disorder_correlation,\n",
    "    num_periods=num_periods,\n",
    "    period=period,\n",
    "    delta=deltas,\n",
    "    theta=theta,\n",
    "    integrate_angle=integrate_angle,\n",
    "    wavelength=(480, 881),\n",
    "    x=\"num_periods\",\n",
    "    by=\"delta\",\n",
    ").opts(opts.Curve(ylim=(0, None)))\n",
    "the_plot"
   ]
  },
  {
   "cell_type": "code",
   "execution_count": null,
   "id": "9dfa6686-9df4-40ce-a2c3-0a41a979a7e1",
   "metadata": {
    "tags": []
   },
   "outputs": [],
   "source": [
    "hv.save(\n",
    "    the_plot,\n",
    "    filename=fig_path\n",
    "    /f\"{variable}tot_DLOPC_delta_comparison_N_P{P}_elt{elt}_th{theta}-{integrate_angle}_D{disorder_code}\",\n",
    "    fmt=\"png\",\n",
    "    toolbar=False,\n",
    ")"
   ]
  },
  {
   "cell_type": "code",
   "execution_count": null,
   "id": "232573f1-be55-4e84-92e9-9b24975ce27e",
   "metadata": {
    "tags": []
   },
   "outputs": [],
   "source": [
    "deltas = [0, 0.1, 0.3, 0.5, 1]\n",
    "P = period = 250\n",
    "num_periods=slice(0, 50)\n",
    "theta = 0\n",
    "integrate_angle = 45\n",
    "variable = \"R\"\n",
    "disorder_correlation = \"correlated\"\n",
    "excitonic_layer_thickness = 50\n",
    "elt = excitonic_layer_thickness = 50\n",
    "disorder_code = disorder_correlation[0]\n",
    "# D = \"-\".join([str(deltas[0]), str(deltas[-1])])\n",
    "\n",
    "the_plot = compare_integrated_stats(\n",
    "    variable=variable,\n",
    "    disorder_correlation=disorder_correlation,\n",
    "    num_periods=num_periods,\n",
    "    period=period,\n",
    "    delta=deltas,\n",
    "    theta=theta,\n",
    "    integrate_angle=integrate_angle,\n",
    "    wavelength=(480, 881),\n",
    "    x=\"num_periods\",\n",
    "    by=\"delta\",\n",
    ").opts(opts.Curve(ylim=(0, None)))\n",
    "the_plot"
   ]
  },
  {
   "cell_type": "code",
   "execution_count": null,
   "id": "c24efaa3-db7b-4540-b558-9c132bc013c8",
   "metadata": {
    "tags": []
   },
   "outputs": [],
   "source": [
    "hv.save(\n",
    "    the_plot,\n",
    "    filename=fig_path\n",
    "    /f\"{variable}tot_DLOPC_delta_comparison_N_P{P}_elt{elt}_th{theta}-{integrate_angle}_D{disorder_code}\",\n",
    "    fmt=\"png\",\n",
    "    toolbar=False,\n",
    ")"
   ]
  },
  {
   "cell_type": "code",
   "execution_count": null,
   "id": "77e3d593-63cc-4f71-8287-64e80b232d0a",
   "metadata": {
    "tags": []
   },
   "outputs": [],
   "source": [
    "deltas = [0, 0.1, 0.3, 0.5]\n",
    "P = period = 250\n",
    "num_periods=slice(0, 50)\n",
    "theta = 0\n",
    "integrate_angle = 45\n",
    "variable = \"R\"\n",
    "disorder_correlation = \"uncorrelated\"\n",
    "excitonic_layer_thickness = 50\n",
    "elt = excitonic_layer_thickness = 50\n",
    "disorder_code = disorder_correlation[0]\n",
    "# D = \"-\".join([str(deltas[0]), str(deltas[-1])])\n",
    "\n",
    "the_plot = compare_integrated_stats(\n",
    "    variable=variable,\n",
    "    disorder_correlation=disorder_correlation,\n",
    "    num_periods=num_periods,\n",
    "    period=period,\n",
    "    delta=deltas,\n",
    "    theta=theta,\n",
    "    integrate_angle=integrate_angle,\n",
    "    wavelength=(480, 881),\n",
    "    x=\"num_periods\",\n",
    "    by=\"delta\",\n",
    ").opts(opts.Curve(ylim=(0, None)))\n",
    "the_plot"
   ]
  },
  {
   "cell_type": "code",
   "execution_count": null,
   "id": "8b3689d1-340c-4f22-803d-8d409bcaf5ba",
   "metadata": {
    "tags": []
   },
   "outputs": [],
   "source": [
    "hv.save(\n",
    "    the_plot,\n",
    "    filename=fig_path\n",
    "    /f\"{variable}tot_DLOPC_delta_comparison_N_P{P}_elt{elt}_th{theta}-{integrate_angle}_D{disorder_code}\",\n",
    "    fmt=\"png\",\n",
    "    toolbar=False,\n",
    ")"
   ]
  },
  {
   "cell_type": "code",
   "execution_count": null,
   "id": "48c9ce0e-4415-4b3e-b0c1-2d319c7ffbab",
   "metadata": {
    "tags": []
   },
   "outputs": [],
   "source": [
    "deltas = [0, 0.1, 0.3, 0.5, 1]\n",
    "P = period = 200\n",
    "num_periods=slice(0, 50)\n",
    "theta = 0\n",
    "integrate_angle = 45\n",
    "variable = \"R\"\n",
    "disorder_correlation = \"correlated\"\n",
    "excitonic_layer_thickness = 50\n",
    "elt = excitonic_layer_thickness = 50\n",
    "disorder_code = disorder_correlation[0]\n",
    "# D = \"-\".join([str(deltas[0]), str(deltas[-1])])\n",
    "\n",
    "the_plot = compare_integrated_stats(\n",
    "    variable=variable,\n",
    "    disorder_correlation=disorder_correlation,\n",
    "    num_periods=num_periods,\n",
    "    period=period,\n",
    "    delta=deltas,\n",
    "    theta=theta,\n",
    "    integrate_angle=integrate_angle,\n",
    "    wavelength=(480, 881),\n",
    "    x=\"num_periods\",\n",
    "    by=\"delta\",\n",
    ").opts(opts.Curve(ylim=(0, None)))\n",
    "the_plot"
   ]
  },
  {
   "cell_type": "code",
   "execution_count": null,
   "id": "c6c0570d-9167-4f32-9790-3ddb435915ea",
   "metadata": {
    "tags": []
   },
   "outputs": [],
   "source": [
    "hv.save(\n",
    "    the_plot,\n",
    "    filename=fig_path\n",
    "    /f\"{variable}tot_DLOPC_delta_comparison_N_P{P}_elt{elt}_th{theta}-{integrate_angle}_D{disorder_code}\",\n",
    "    fmt=\"png\",\n",
    "    toolbar=False,\n",
    ")"
   ]
  },
  {
   "cell_type": "code",
   "execution_count": null,
   "id": "454c1154-a816-408e-bcaf-b6bca94e8bfb",
   "metadata": {
    "tags": []
   },
   "outputs": [],
   "source": [
    "deltas = [0, 0.1, 0.3, 0.5]\n",
    "P = period = 200\n",
    "num_periods=slice(0, 50)\n",
    "theta = 0\n",
    "integrate_angle = 45\n",
    "variable = \"R\"\n",
    "disorder_correlation = \"uncorrelated\"\n",
    "excitonic_layer_thickness = 50\n",
    "elt = excitonic_layer_thickness = 50\n",
    "disorder_code = disorder_correlation[0]\n",
    "# D = \"-\".join([str(deltas[0]), str(deltas[-1])])\n",
    "\n",
    "the_plot = compare_integrated_stats(\n",
    "    variable=variable,\n",
    "    disorder_correlation=disorder_correlation,\n",
    "    num_periods=num_periods,\n",
    "    period=period,\n",
    "    delta=deltas,\n",
    "    theta=theta,\n",
    "    integrate_angle=integrate_angle,\n",
    "    wavelength=(480, 881),\n",
    "    x=\"num_periods\",\n",
    "    by=\"delta\",\n",
    ").opts(opts.Curve(ylim=(0, None)))\n",
    "the_plot"
   ]
  },
  {
   "cell_type": "code",
   "execution_count": null,
   "id": "d2b0aacc-8eac-4168-a6f7-5f93de2fd4c0",
   "metadata": {
    "tags": []
   },
   "outputs": [],
   "source": [
    "hv.save(\n",
    "    the_plot,\n",
    "    filename=fig_path\n",
    "    /f\"{variable}tot_DLOPC_delta_comparison_N_P{P}_elt{elt}_th{theta}-{integrate_angle}_D{disorder_code}\",\n",
    "    fmt=\"png\",\n",
    "    toolbar=False,\n",
    ")"
   ]
  },
  {
   "cell_type": "markdown",
   "id": "e96e4438-9ec7-4855-adab-f5cc25e4ebcc",
   "metadata": {},
   "source": [
    "Integrating to 86 degrees."
   ]
  },
  {
   "cell_type": "code",
   "execution_count": null,
   "id": "92193c1a-95fd-407d-8484-74380c4aa302",
   "metadata": {
    "tags": []
   },
   "outputs": [],
   "source": [
    "deltas = [0, 0.1, 0.3, 0.5, 1]\n",
    "P = period = 300\n",
    "num_periods=slice(0, 50)\n",
    "theta = 0\n",
    "integrate_angle = 86\n",
    "variable = \"R\"\n",
    "disorder_correlation = \"correlated\"\n",
    "excitonic_layer_thickness = 50\n",
    "elt = excitonic_layer_thickness = 50\n",
    "disorder_code = disorder_correlation[0]\n",
    "# D = \"-\".join([str(deltas[0]), str(deltas[-1])])\n",
    "\n",
    "the_plot = compare_integrated_stats(\n",
    "    variable=variable,\n",
    "    disorder_correlation=disorder_correlation,\n",
    "    num_periods=num_periods,\n",
    "    period=period,\n",
    "    delta=deltas,\n",
    "    theta=theta,\n",
    "    integrate_angle=integrate_angle,\n",
    "    wavelength=(480, 881),\n",
    "    x=\"num_periods\",\n",
    "    by=\"delta\",\n",
    ").opts(opts.Curve(ylim=(0, None)))\n",
    "the_plot"
   ]
  },
  {
   "cell_type": "code",
   "execution_count": null,
   "id": "66369f6f-5e3c-430b-bab8-580057ba18d4",
   "metadata": {
    "tags": []
   },
   "outputs": [],
   "source": [
    "hv.save(\n",
    "    the_plot,\n",
    "    filename=fig_path\n",
    "    /f\"{variable}tot_DLOPC_delta_comparison_N_P{P}_elt{elt}_th{theta}-{integrate_angle}_D{disorder_code}\",\n",
    "    fmt=\"png\",\n",
    "    toolbar=False,\n",
    ")"
   ]
  },
  {
   "cell_type": "code",
   "execution_count": null,
   "id": "eec41ea8-f321-4e6c-aef8-61ec32e395c9",
   "metadata": {
    "tags": []
   },
   "outputs": [],
   "source": [
    "deltas = [0, 0.1, 0.3, 0.5]\n",
    "P = period = 300\n",
    "num_periods=slice(0, 50)\n",
    "theta = 0\n",
    "integrate_angle = 86\n",
    "variable = \"R\"\n",
    "disorder_correlation = \"uncorrelated\"\n",
    "excitonic_layer_thickness = 50\n",
    "elt = excitonic_layer_thickness = 50\n",
    "disorder_code = disorder_correlation[0]\n",
    "# D = \"-\".join([str(deltas[0]), str(deltas[-1])])\n",
    "\n",
    "the_plot = compare_integrated_stats(\n",
    "    variable=variable,\n",
    "    disorder_correlation=disorder_correlation,\n",
    "    num_periods=num_periods,\n",
    "    period=period,\n",
    "    delta=deltas,\n",
    "    theta=theta,\n",
    "    integrate_angle=integrate_angle,\n",
    "    wavelength=(480, 881),\n",
    "    x=\"num_periods\",\n",
    "    by=\"delta\",\n",
    ").opts(opts.Curve(ylim=(0, None)))\n",
    "the_plot"
   ]
  },
  {
   "cell_type": "code",
   "execution_count": null,
   "id": "3a57da84-fb07-4bdf-a427-00848a06be38",
   "metadata": {
    "tags": []
   },
   "outputs": [],
   "source": [
    "hv.save(\n",
    "    the_plot,\n",
    "    filename=fig_path\n",
    "    /f\"{variable}tot_DLOPC_delta_comparison_N_P{P}_elt{elt}_th{theta}-{integrate_angle}_D{disorder_code}\",\n",
    "    fmt=\"png\",\n",
    "    toolbar=False,\n",
    ")"
   ]
  },
  {
   "cell_type": "code",
   "execution_count": null,
   "id": "6f8d98aa-b968-4bb3-b346-89a0293d086b",
   "metadata": {
    "tags": []
   },
   "outputs": [],
   "source": [
    "deltas = [0, 0.1, 0.3, 0.5, 1]\n",
    "P = period = 250\n",
    "num_periods=slice(0, 50)\n",
    "theta = 0\n",
    "integrate_angle = 86\n",
    "variable = \"R\"\n",
    "disorder_correlation = \"correlated\"\n",
    "excitonic_layer_thickness = 50\n",
    "elt = excitonic_layer_thickness = 50\n",
    "disorder_code = disorder_correlation[0]\n",
    "# D = \"-\".join([str(deltas[0]), str(deltas[-1])])\n",
    "\n",
    "the_plot = compare_integrated_stats(\n",
    "    variable=variable,\n",
    "    disorder_correlation=disorder_correlation,\n",
    "    num_periods=num_periods,\n",
    "    period=period,\n",
    "    delta=deltas,\n",
    "    theta=theta,\n",
    "    integrate_angle=integrate_angle,\n",
    "    wavelength=(480, 881),\n",
    "    x=\"num_periods\",\n",
    "    by=\"delta\",\n",
    ").opts(opts.Curve(ylim=(0, None)))\n",
    "the_plot"
   ]
  },
  {
   "cell_type": "code",
   "execution_count": null,
   "id": "11bd3cc5-e401-474b-983d-f52fdbf03d1d",
   "metadata": {
    "tags": []
   },
   "outputs": [],
   "source": [
    "hv.save(\n",
    "    the_plot,\n",
    "    filename=fig_path\n",
    "    /f\"{variable}tot_DLOPC_delta_comparison_N_P{P}_elt{elt}_th{theta}-{integrate_angle}_D{disorder_code}\",\n",
    "    fmt=\"png\",\n",
    "    toolbar=False,\n",
    ")"
   ]
  },
  {
   "cell_type": "code",
   "execution_count": null,
   "id": "8a40ab23-ebe5-4548-aded-c9f71f7ced9e",
   "metadata": {
    "tags": []
   },
   "outputs": [],
   "source": [
    "deltas = [0, 0.1, 0.3, 0.5]\n",
    "P = period = 250\n",
    "num_periods=slice(0, 50)\n",
    "theta = 0\n",
    "integrate_angle = 86\n",
    "variable = \"R\"\n",
    "disorder_correlation = \"uncorrelated\"\n",
    "excitonic_layer_thickness = 50\n",
    "elt = excitonic_layer_thickness = 50\n",
    "disorder_code = disorder_correlation[0]\n",
    "# D = \"-\".join([str(deltas[0]), str(deltas[-1])])\n",
    "\n",
    "the_plot = compare_integrated_stats(\n",
    "    variable=variable,\n",
    "    disorder_correlation=disorder_correlation,\n",
    "    num_periods=num_periods,\n",
    "    period=period,\n",
    "    delta=deltas,\n",
    "    theta=theta,\n",
    "    integrate_angle=integrate_angle,\n",
    "    wavelength=(480, 881),\n",
    "    x=\"num_periods\",\n",
    "    by=\"delta\",\n",
    ").opts(opts.Curve(ylim=(0, None)))\n",
    "the_plot"
   ]
  },
  {
   "cell_type": "code",
   "execution_count": null,
   "id": "0dd3308b-3a1c-47aa-8002-da671cc893e0",
   "metadata": {
    "tags": []
   },
   "outputs": [],
   "source": [
    "hv.save(\n",
    "    the_plot,\n",
    "    filename=fig_path\n",
    "    /f\"{variable}tot_DLOPC_delta_comparison_N_P{P}_elt{elt}_th{theta}-{integrate_angle}_D{disorder_code}\",\n",
    "    fmt=\"png\",\n",
    "    toolbar=False,\n",
    ")"
   ]
  },
  {
   "cell_type": "markdown",
   "id": "f3eae3a1-4916-4e78-9a86-f7c4afe34fd5",
   "metadata": {
    "jp-MarkdownHeadingCollapsed": true,
    "tags": []
   },
   "source": [
    "#### Comparing FOMs of disordered and periodic structures"
   ]
  },
  {
   "cell_type": "code",
   "execution_count": null,
   "id": "ab93657e-bfae-4874-81ac-0f58b5047c1e",
   "metadata": {
    "tags": []
   },
   "outputs": [],
   "source": [
    "periods = [100, 150, 200, 250, 300]\n",
    "color_cycle = hv.Cycle(colorcet.glasbey[: len(periods)])\n",
    "var = \"R\"\n",
    "theta = slice(0, 45)\n",
    "\n",
    "(\n",
    "    integrate_da(\n",
    "        restacked_stats_ds[f\"{var}_mean\"]\n",
    "        .sel(disorder_correlation=disorder_correlation, period=periods, delta=delta)\n",
    "        .sel(\n",
    "            theta=theta,\n",
    "        )\n",
    "        .squeeze(),\n",
    "        dim=[\"wavelength\", \"theta\"],\n",
    "        normalisation=1,\n",
    "    )\n",
    "    .hvplot(x=\"num_periods\", by=\"period\")\n",
    "    .opts(opts.Curve(color=color_cycle))\n",
    "    * integrate_da(\n",
    "        restacked_pds[var]\n",
    "        .sel(\n",
    "            period=periods,\n",
    "            excitonic_layer_thickness=excitonic_layer_thickness,\n",
    "        )\n",
    "        .sel(\n",
    "            theta=theta,\n",
    "        )\n",
    "        .squeeze(),\n",
    "        dim=[\"wavelength\", \"theta\"],\n",
    "        normalisation=1,\n",
    "    )\n",
    "    .hvplot(x=\"num_periods\", by=\"period\")\n",
    "    .opts(opts.Curve(color=color_cycle, line_dash=\"dashed\"))\n",
    "    * integrate_da(\n",
    "        crs_1[var]\n",
    "        .assign_coords(\n",
    "            {\n",
    "                \"num_periods\": lambda x: x.total_excitonic_thickness\n",
    "                / excitonic_layer_thickness\n",
    "            }\n",
    "        )\n",
    "        .sel(\n",
    "            theta=theta,\n",
    "        )\n",
    "        .sel(total_excitonic_thickness=slice(None, 2500))\n",
    "        .squeeze(),\n",
    "        dim=[\"wavelength\", \"theta\"],\n",
    "        normalisation=1,\n",
    "    )\n",
    "    .hvplot(x=\"num_periods\")\n",
    "    .opts(opts.Curve(color=\"black\", line_dash=\"dotted\"))\n",
    ").opts(opts.Curve(ylabel=var, ylim=(0, None)))"
   ]
  },
  {
   "cell_type": "code",
   "execution_count": null,
   "id": "561d7edf-45b7-46f0-83ae-f63acbd6be98",
   "metadata": {
    "tags": []
   },
   "outputs": [],
   "source": [
    "periods = [100, 150, 200, 250, 300]\n",
    "color_cycle = hv.Cycle(colorcet.glasbey[: len(periods)])\n",
    "var = \"T\"\n",
    "theta = slice(0, 45)\n",
    "\n",
    "(\n",
    "    integrate_da(\n",
    "        restacked_stats_ds[f\"{var}_mean\"]\n",
    "        .sel(disorder_correlation=disorder_correlation, period=periods, delta=delta)\n",
    "        .sel(\n",
    "            theta=theta,\n",
    "        )\n",
    "        .squeeze(),\n",
    "        dim=[\"wavelength\", \"theta\"],\n",
    "        normalisation=1,\n",
    "    )\n",
    "    .hvplot(x=\"num_periods\", by=\"period\")\n",
    "    .opts(opts.Curve(color=color_cycle))\n",
    "    * integrate_da(\n",
    "        restacked_pds[var]\n",
    "        .sel(\n",
    "            period=periods,\n",
    "            excitonic_layer_thickness=excitonic_layer_thickness,\n",
    "        )\n",
    "        .sel(\n",
    "            theta=theta,\n",
    "        )\n",
    "        .squeeze(),\n",
    "        dim=[\"wavelength\", \"theta\"],\n",
    "        normalisation=1,\n",
    "    )\n",
    "    .hvplot(x=\"num_periods\", by=\"period\")\n",
    "    .opts(opts.Curve(color=color_cycle, line_dash=\"dashed\"))\n",
    "    * integrate_da(\n",
    "        crs_1[var]\n",
    "        .assign_coords(\n",
    "            {\n",
    "                \"num_periods\": lambda x: x.total_excitonic_thickness\n",
    "                / excitonic_layer_thickness\n",
    "            }\n",
    "        )\n",
    "        .sel(\n",
    "            theta=theta,\n",
    "        )\n",
    "        .sel(total_excitonic_thickness=slice(None, 2500))\n",
    "        .squeeze(),\n",
    "        dim=[\"wavelength\", \"theta\"],\n",
    "        normalisation=1,\n",
    "    )\n",
    "    .hvplot(x=\"num_periods\")\n",
    "    .opts(opts.Curve(color=\"black\", line_dash=\"dotted\"))\n",
    ").opts(opts.Curve(ylabel=var, ylim=(None, 1)))"
   ]
  },
  {
   "cell_type": "code",
   "execution_count": null,
   "id": "daec126f-e898-4ad4-aba3-ca2571906a6e",
   "metadata": {
    "tags": []
   },
   "outputs": [],
   "source": [
    "periods = [100, 150, 200, 250, 300]\n",
    "color_cycle = default_color_cycle[len(periods)]\n",
    "var = \"A\"\n",
    "theta = slice(0, 45)\n",
    "\n",
    "(\n",
    "    integrate_da(\n",
    "        restacked_stats_ds[f\"{var}_mean\"]\n",
    "        .sel(disorder_correlation=disorder_correlation, period=periods, delta=delta)\n",
    "        .sel(\n",
    "            theta=theta,\n",
    "        )\n",
    "        .squeeze(),\n",
    "        dim=[\"wavelength\", \"theta\"],\n",
    "        normalisation=1,\n",
    "    )\n",
    "    .hvplot(x=\"num_periods\", by=\"period\")\n",
    "    .opts(opts.Curve(color=color_cycle))\n",
    "    * integrate_da(\n",
    "        restacked_pds[var]\n",
    "        .sel(\n",
    "            period=periods,\n",
    "            excitonic_layer_thickness=excitonic_layer_thickness,\n",
    "        )\n",
    "        .sel(\n",
    "            theta=theta,\n",
    "        )\n",
    "        .squeeze(),\n",
    "        dim=[\"wavelength\", \"theta\"],\n",
    "        normalisation=1,\n",
    "    )\n",
    "    .hvplot(x=\"num_periods\", by=\"period\")\n",
    "    .opts(opts.Curve(color=color_cycle, line_dash=\"dashed\"))\n",
    "    * integrate_da(\n",
    "        crs_1[var]\n",
    "        .assign_coords(\n",
    "            {\n",
    "                \"num_periods\": lambda x: x.total_excitonic_thickness\n",
    "                / excitonic_layer_thickness\n",
    "            }\n",
    "        )\n",
    "        .sel(\n",
    "            theta=theta,\n",
    "        )\n",
    "        .sel(total_excitonic_thickness=slice(None, 2500))\n",
    "        .squeeze(),\n",
    "        dim=[\"wavelength\", \"theta\"],\n",
    "        normalisation=1,\n",
    "    )\n",
    "    .hvplot(x=\"num_periods\")\n",
    "    .opts(opts.Curve(color=\"black\", line_dash=\"dotted\"))\n",
    ").opts(opts.Curve(ylabel=var, ylim=(0, None)))"
   ]
  },
  {
   "cell_type": "code",
   "execution_count": null,
   "id": "027224f0-e28d-45c8-9a7a-96622d57332c",
   "metadata": {
    "tags": []
   },
   "outputs": [],
   "source": [
    "periods = [100, 150, 200, 250, 300]\n",
    "color_cycle = hv.Cycle(colorcet.glasbey[: len(periods)])\n",
    "var = \"R\"\n",
    "theta = slice(0, None)\n",
    "\n",
    "(\n",
    "    integrate_da(\n",
    "        restacked_stats_ds[f\"{var}_mean\"]\n",
    "        .sel(disorder_correlation=disorder_correlation, period=periods, delta=delta)\n",
    "        .sel(\n",
    "            theta=theta,\n",
    "        )\n",
    "        .squeeze(),\n",
    "        dim=[\"wavelength\", \"theta\"],\n",
    "        normalisation=1,\n",
    "    )\n",
    "    .hvplot(x=\"num_periods\", by=\"period\")\n",
    "    .opts(opts.Curve(color=color_cycle))\n",
    "    * integrate_da(\n",
    "        restacked_pds[var]\n",
    "        .sel(\n",
    "            period=periods,\n",
    "            excitonic_layer_thickness=excitonic_layer_thickness,\n",
    "        )\n",
    "        .sel(\n",
    "            theta=theta,\n",
    "        )\n",
    "        .squeeze(),\n",
    "        dim=[\"wavelength\", \"theta\"],\n",
    "        normalisation=1,\n",
    "    )\n",
    "    .hvplot(x=\"num_periods\", by=\"period\")\n",
    "    .opts(opts.Curve(color=color_cycle, line_dash=\"dashed\"))\n",
    "    * integrate_da(\n",
    "        crs_1[var]\n",
    "        .assign_coords(\n",
    "            {\n",
    "                \"num_periods\": lambda x: x.total_excitonic_thickness\n",
    "                / excitonic_layer_thickness\n",
    "            }\n",
    "        )\n",
    "        .sel(\n",
    "            theta=theta,\n",
    "        )\n",
    "        .sel(total_excitonic_thickness=slice(None, 2500))\n",
    "        .squeeze(),\n",
    "        dim=[\"wavelength\", \"theta\"],\n",
    "        normalisation=1,\n",
    "    )\n",
    "    .hvplot(x=\"num_periods\")\n",
    "    .opts(opts.Curve(color=\"black\", line_dash=\"dotted\"))\n",
    ").opts(opts.Curve(ylabel=var, ylim=(0, None)))"
   ]
  },
  {
   "cell_type": "code",
   "execution_count": null,
   "id": "f62ab107-229c-439d-a5b0-a64e3439bc63",
   "metadata": {
    "tags": []
   },
   "outputs": [],
   "source": [
    "periods = [100, 150, 200, 250, 300]\n",
    "color_cycle = hv.Cycle(colorcet.glasbey[: len(periods)])\n",
    "var = \"T\"\n",
    "theta = slice(0, None)\n",
    "\n",
    "(\n",
    "    integrate_da(\n",
    "        restacked_stats_ds[f\"{var}_mean\"]\n",
    "        .sel(disorder_correlation=disorder_correlation, period=periods, delta=delta)\n",
    "        .sel(\n",
    "            theta=theta,\n",
    "        )\n",
    "        .squeeze(),\n",
    "        dim=[\"wavelength\", \"theta\"],\n",
    "        normalisation=1,\n",
    "    )\n",
    "    .hvplot(x=\"num_periods\", by=\"period\")\n",
    "    .opts(opts.Curve(color=color_cycle))\n",
    "    * integrate_da(\n",
    "        restacked_pds[var]\n",
    "        .sel(\n",
    "            period=periods,\n",
    "            excitonic_layer_thickness=excitonic_layer_thickness,\n",
    "        )\n",
    "        .sel(\n",
    "            theta=theta,\n",
    "        )\n",
    "        .squeeze(),\n",
    "        dim=[\"wavelength\", \"theta\"],\n",
    "        normalisation=1,\n",
    "    )\n",
    "    .hvplot(x=\"num_periods\", by=\"period\")\n",
    "    .opts(opts.Curve(color=color_cycle, line_dash=\"dashed\"))\n",
    "    * integrate_da(\n",
    "        crs_1[var]\n",
    "        .assign_coords(\n",
    "            {\n",
    "                \"num_periods\": lambda x: x.total_excitonic_thickness\n",
    "                / excitonic_layer_thickness\n",
    "            }\n",
    "        )\n",
    "        .sel(\n",
    "            theta=theta,\n",
    "        )\n",
    "        .sel(total_excitonic_thickness=slice(None, 2500))\n",
    "        .squeeze(),\n",
    "        dim=[\"wavelength\", \"theta\"],\n",
    "        normalisation=1,\n",
    "    )\n",
    "    .hvplot(x=\"num_periods\")\n",
    "    .opts(opts.Curve(color=\"black\", line_dash=\"dotted\"))\n",
    ").opts(opts.Curve(ylabel=var, ylim=(None, 1)))"
   ]
  },
  {
   "cell_type": "code",
   "execution_count": null,
   "id": "1fa9bd2b-fbfe-449c-8cb8-43dfa6d3b807",
   "metadata": {
    "tags": []
   },
   "outputs": [],
   "source": [
    "periods = [100, 150, 200, 250, 300]\n",
    "color_cycle = hv.Cycle(colorcet.glasbey[: len(periods)])\n",
    "var = \"A\"\n",
    "theta = slice(0, None)\n",
    "\n",
    "(\n",
    "    integrate_da(\n",
    "        restacked_stats_ds[f\"{var}_mean\"]\n",
    "        .sel(disorder_correlation=disorder_correlation, period=periods, delta=delta)\n",
    "        .sel(\n",
    "            theta=theta,\n",
    "        )\n",
    "        .squeeze(),\n",
    "        dim=[\"wavelength\", \"theta\"],\n",
    "        normalisation=1,\n",
    "    )\n",
    "    .hvplot(x=\"num_periods\", by=\"period\")\n",
    "    .opts(opts.Curve(color=color_cycle))\n",
    "    * integrate_da(\n",
    "        restacked_pds[var]\n",
    "        .sel(\n",
    "            period=periods,\n",
    "            excitonic_layer_thickness=excitonic_layer_thickness,\n",
    "        )\n",
    "        .sel(\n",
    "            theta=theta,\n",
    "        )\n",
    "        .squeeze(),\n",
    "        dim=[\"wavelength\", \"theta\"],\n",
    "        normalisation=1,\n",
    "    )\n",
    "    .hvplot(x=\"num_periods\", by=\"period\")\n",
    "    .opts(opts.Curve(color=color_cycle, line_dash=\"dashed\"))\n",
    "    * integrate_da(\n",
    "        crs_1[var]\n",
    "        .assign_coords(\n",
    "            {\n",
    "                \"num_periods\": lambda x: x.total_excitonic_thickness\n",
    "                / excitonic_layer_thickness\n",
    "            }\n",
    "        )\n",
    "        .sel(\n",
    "            theta=theta,\n",
    "        )\n",
    "        .sel(total_excitonic_thickness=slice(None, 2500))\n",
    "        .squeeze(),\n",
    "        dim=[\"wavelength\", \"theta\"],\n",
    "        normalisation=1,\n",
    "    )\n",
    "    .hvplot(x=\"num_periods\")\n",
    "    .opts(opts.Curve(color=\"black\", line_dash=\"dotted\"))\n",
    "\n",
    ").opts(opts.Curve(ylabel=var, ylim=(0, None)))"
   ]
  },
  {
   "cell_type": "markdown",
   "id": "c354c90a-66d6-46e2-992a-8bc954c98326",
   "metadata": {
    "jp-MarkdownHeadingCollapsed": true,
    "tags": []
   },
   "source": [
    "## How do correlated and uncorrelated disorder differ?"
   ]
  },
  {
   "cell_type": "markdown",
   "id": "f79e94d7-94dc-4606-806f-c0a565d8420a",
   "metadata": {
    "tags": []
   },
   "source": [
    "### P=300"
   ]
  },
  {
   "cell_type": "code",
   "execution_count": null,
   "id": "0e22fdda-79a3-498e-af33-d3067307ec2c",
   "metadata": {
    "tags": []
   },
   "outputs": [],
   "source": [
    "var = \"R\"\n",
    "P = period = 300\n",
    "N = num_periods = 20\n",
    "theta = 0\n",
    "elt = excitonic_layer_thickness = 50\n",
    "\n",
    "\n",
    "the_plots = {\n",
    "    delta: (restacked_stats_ds[f\"{var}_mean\"]\n",
    "    .sel(theta=theta, num_periods=num_periods, period=period, delta=delta)\n",
    "    .squeeze()\n",
    "    .hvplot.line(x=\"wavelength\", by=\"disorder_correlation\")\n",
    "    .opts(opts.Curve(ylabel=var, xticks=2, yticks=4, show_legend=False)) * hv.Text(550, 0.7, f\"Delta={delta}\", fontsize=18))\n",
    "    for delta in [0.1, 0.2, 0.3, 0.4, 0.5, 1]\n",
    "}\n",
    "\n",
    "for d in [0.2, 0.3, 0.5, 1]:\n",
    "    the_plots[d].opts(opts.Curve(yaxis=\"bare\"))\n",
    "\n",
    "for d in [0.1, 0.2, 0.3]:\n",
    "    the_plots[d].opts(opts.Curve(xaxis=\"bare\"))\n",
    "\n",
    "periodic_curve = (\n",
    "    restacked_pds[var]\n",
    "    .sel(\n",
    "        theta=theta,\n",
    "        num_periods=num_periods,\n",
    "        period=period,\n",
    "        excitonic_layer_thickness=excitonic_layer_thickness,\n",
    "    )\n",
    "    .squeeze()\n",
    "    .hvplot(x=\"wavelength\")\n",
    "    .opts(color=\"black\", line_dash=\"dashed\")\n",
    ")\n",
    "\n",
    "layout = hv.NdLayout(the_plots)\n",
    "layout *= periodic_curve\n",
    "layout *= lorentz_vlines(0, scale=1e-9).opts(color=yellow, line_dash=\"dotted\")\n",
    "\n",
    "layout.cols(3).opts(opts.Curve(frame_width=400, frame_height=300))"
   ]
  },
  {
   "cell_type": "code",
   "execution_count": null,
   "id": "df789d9d-daee-4757-856a-8ac5bef86971",
   "metadata": {
    "tags": []
   },
   "outputs": [],
   "source": [
    "hv.save(\n",
    "    layout,\n",
    "    filename=fig_path\n",
    "    / f\"{var}_DLOPC_correlation_comparison_wl_P{P}_elt{elt}_N{N}_th{theta}_D0-1c-uc\",\n",
    "    fmt=\"png\",\n",
    "    toolbar=False,\n",
    ")"
   ]
  },
  {
   "cell_type": "code",
   "execution_count": null,
   "id": "8c009df1-9d7c-480d-ae23-2b8711a32d23",
   "metadata": {
    "tags": []
   },
   "outputs": [],
   "source": [
    "var = \"R\"\n",
    "P = period = 300\n",
    "N = num_periods = 5\n",
    "theta = 0\n",
    "elt = excitonic_layer_thickness = 50\n",
    "\n",
    "\n",
    "the_plots = {\n",
    "    delta: (restacked_stats_ds[f\"{var}_mean\"]\n",
    "    .sel(theta=theta, num_periods=num_periods, period=period, delta=delta)\n",
    "    .squeeze()\n",
    "    .hvplot.line(x=\"wavelength\", by=\"disorder_correlation\")\n",
    "    .opts(opts.Curve(ylabel=var, xticks=2, yticks=4, show_legend=False)) * hv.Text(550, 0.1, f\"Delta={delta}\", fontsize=18))\n",
    "    for delta in [0.1, 0.2, 0.3, 0.4, 0.5, 1]\n",
    "}\n",
    "\n",
    "for d in [0.2, 0.3, 0.5, 1]:\n",
    "    the_plots[d].opts(opts.Curve(yaxis=\"bare\"))\n",
    "\n",
    "for d in [0.1, 0.2, 0.3]:\n",
    "    the_plots[d].opts(opts.Curve(xaxis=\"bare\"))\n",
    "\n",
    "periodic_curve = (\n",
    "    restacked_pds[var]\n",
    "    .sel(\n",
    "        theta=theta,\n",
    "        num_periods=num_periods,\n",
    "        period=period,\n",
    "        excitonic_layer_thickness=excitonic_layer_thickness,\n",
    "    )\n",
    "    .squeeze()\n",
    "    .hvplot(x=\"wavelength\")\n",
    "    .opts(color=\"black\", line_dash=\"dashed\")\n",
    ")\n",
    "\n",
    "layout = hv.NdLayout(the_plots)\n",
    "layout *= periodic_curve\n",
    "layout *= lorentz_vlines(0, scale=1e-9).opts(color=yellow, line_dash=\"dotted\")\n",
    "\n",
    "layout.cols(3).opts(opts.Curve(frame_width=400, frame_height=300))"
   ]
  },
  {
   "cell_type": "code",
   "execution_count": null,
   "id": "c92323b8-5bcc-44e3-9d62-64374657f25d",
   "metadata": {
    "tags": []
   },
   "outputs": [],
   "source": [
    "hv.save(\n",
    "    layout,\n",
    "    filename=fig_path\n",
    "    / f\"{var}_DLOPC_correlation_comparison_wl_P{P}_elt{elt}_N{N}_th{theta}_D0-1c-uc\",\n",
    "    fmt=\"png\",\n",
    "    toolbar=False,\n",
    ")"
   ]
  },
  {
   "cell_type": "code",
   "execution_count": null,
   "id": "7bff3cc1-22f0-4b1a-a315-44ac2a8f4e5c",
   "metadata": {
    "tags": []
   },
   "outputs": [],
   "source": [
    "var = \"R\"\n",
    "P = period = 300\n",
    "N = num_periods = 50\n",
    "theta = 0\n",
    "elt = excitonic_layer_thickness = 50\n",
    "\n",
    "\n",
    "the_plots = {\n",
    "    delta: (restacked_stats_ds[f\"{var}_mean\"]\n",
    "    .sel(theta=theta, num_periods=num_periods, period=period, delta=delta)\n",
    "    .squeeze()\n",
    "    .hvplot.line(x=\"wavelength\", by=\"disorder_correlation\")\n",
    "    .opts(opts.Curve(ylabel=var, xticks=2, yticks=4, show_legend=False)) * hv.Text(550, 0.95, f\"Delta={delta}\", fontsize=18))\n",
    "    for delta in [0.1, 0.2, 0.3, 0.4, 0.5, 1]\n",
    "}\n",
    "\n",
    "for d in [0.2, 0.3, 0.5, 1]:\n",
    "    the_plots[d].opts(opts.Curve(yaxis=\"bare\"))\n",
    "\n",
    "for d in [0.1, 0.2, 0.3]:\n",
    "    the_plots[d].opts(opts.Curve(xaxis=\"bare\"))\n",
    "\n",
    "periodic_curve = (\n",
    "    restacked_pds[var]\n",
    "    .sel(\n",
    "        theta=theta,\n",
    "        num_periods=num_periods,\n",
    "        period=period,\n",
    "        excitonic_layer_thickness=excitonic_layer_thickness,\n",
    "    )\n",
    "    .squeeze()\n",
    "    .hvplot(x=\"wavelength\")\n",
    "    .opts(color=\"black\", line_dash=\"dashed\")\n",
    ")\n",
    "\n",
    "layout = hv.NdLayout(the_plots)\n",
    "layout *= periodic_curve\n",
    "layout *= lorentz_vlines(0, scale=1e-9).opts(color=yellow, line_dash=\"dotted\")\n",
    "\n",
    "layout.cols(3).opts(opts.Curve(frame_width=400, frame_height=300))"
   ]
  },
  {
   "cell_type": "code",
   "execution_count": null,
   "id": "c48206b7-ac17-4110-a357-dcb3ad1ff737",
   "metadata": {
    "tags": []
   },
   "outputs": [],
   "source": [
    "hv.save(\n",
    "    layout,\n",
    "    filename=fig_path\n",
    "    / f\"{var}_DLOPC_correlation_comparison_wl_P{P}_elt{elt}_N{N}_th{theta}_D0-1c-uc\",\n",
    "    fmt=\"png\",\n",
    "    toolbar=False,\n",
    ")"
   ]
  },
  {
   "cell_type": "code",
   "execution_count": null,
   "id": "5079b605-ff55-4d39-bf80-4b1320382e75",
   "metadata": {
    "tags": []
   },
   "outputs": [],
   "source": [
    "var = \"R\"\n",
    "P = period = 300\n",
    "N = num_periods = 10\n",
    "theta = 0\n",
    "elt = excitonic_layer_thickness = 50\n",
    "\n",
    "\n",
    "the_plots = {\n",
    "    delta: (restacked_stats_ds[f\"{var}_mean\"]\n",
    "    .sel(theta=theta, num_periods=num_periods, period=period, delta=delta)\n",
    "    .squeeze()\n",
    "    .hvplot.line(x=\"wavelength\", by=\"disorder_correlation\")\n",
    "    .opts(opts.Curve(ylabel=var, xticks=2, yticks=4, show_legend=False)) * hv.Text(550, 0.33, f\"Delta={delta}\", fontsize=18))\n",
    "    for delta in [0.1, 0.2, 0.3, 0.4, 0.5, 1]\n",
    "}\n",
    "\n",
    "for d in [0.2, 0.3, 0.5, 1]:\n",
    "    the_plots[d].opts(opts.Curve(yaxis=\"bare\"))\n",
    "\n",
    "for d in [0.1, 0.2, 0.3]:\n",
    "    the_plots[d].opts(opts.Curve(xaxis=\"bare\"))\n",
    "\n",
    "periodic_curve = (\n",
    "    restacked_pds[var]\n",
    "    .sel(\n",
    "        theta=theta,\n",
    "        num_periods=num_periods,\n",
    "        period=period,\n",
    "        excitonic_layer_thickness=excitonic_layer_thickness,\n",
    "    )\n",
    "    .squeeze()\n",
    "    .hvplot(x=\"wavelength\")\n",
    "    .opts(color=\"black\", line_dash=\"dashed\")\n",
    ")\n",
    "\n",
    "layout = hv.NdLayout(the_plots)\n",
    "layout *= periodic_curve\n",
    "layout *= lorentz_vlines(0, scale=1e-9).opts(color=yellow, line_dash=\"dotted\")\n",
    "\n",
    "layout.cols(3).opts(opts.Curve(frame_width=400, frame_height=300))"
   ]
  },
  {
   "cell_type": "code",
   "execution_count": null,
   "id": "2742221a-8152-478b-bd5a-723affabad17",
   "metadata": {
    "tags": []
   },
   "outputs": [],
   "source": [
    "hv.save(\n",
    "    layout,\n",
    "    filename=fig_path\n",
    "    / f\"{var}_DLOPC_correlation_comparison_wl_P{P}_elt{elt}_N{N}_th{theta}_D0-1c-uc\",\n",
    "    fmt=\"png\",\n",
    "    toolbar=False,\n",
    ")"
   ]
  },
  {
   "cell_type": "markdown",
   "id": "0209c0ac-2b3e-4f02-aa44-443f431f00a9",
   "metadata": {
    "jp-MarkdownHeadingCollapsed": true,
    "tags": []
   },
   "source": [
    "### P=250"
   ]
  },
  {
   "cell_type": "code",
   "execution_count": null,
   "id": "aaae0c29-c51b-4da3-97a7-d6b06b7e3b2b",
   "metadata": {
    "tags": []
   },
   "outputs": [],
   "source": [
    "var = \"R\"\n",
    "P = period = 250\n",
    "N = num_periods = 5\n",
    "theta = 0\n",
    "elt = excitonic_layer_thickness = 50\n",
    "\n",
    "\n",
    "the_plots = {\n",
    "    delta: (restacked_stats_ds[f\"{var}_mean\"]\n",
    "    .sel(theta=theta, num_periods=num_periods, period=period, delta=delta)\n",
    "    .squeeze()\n",
    "    .hvplot.line(x=\"wavelength\", by=\"disorder_correlation\")\n",
    "    .opts(opts.Curve(ylabel=var, xticks=2, yticks=4, show_legend=False)) * hv.Text(550, 0.1, f\"Delta={delta}\", fontsize=18))\n",
    "    for delta in [0.1, 0.2, 0.3, 0.4, 0.5, 1]\n",
    "}\n",
    "\n",
    "for d in [0.2, 0.3, 0.5, 1]:\n",
    "    the_plots[d].opts(opts.Curve(yaxis=\"bare\"))\n",
    "\n",
    "for d in [0.1, 0.2, 0.3]:\n",
    "    the_plots[d].opts(opts.Curve(xaxis=\"bare\"))\n",
    "\n",
    "periodic_curve = (\n",
    "    restacked_pds[var]\n",
    "    .sel(\n",
    "        theta=theta,\n",
    "        num_periods=num_periods,\n",
    "        period=period,\n",
    "        excitonic_layer_thickness=excitonic_layer_thickness,\n",
    "    )\n",
    "    .squeeze()\n",
    "    .hvplot(x=\"wavelength\")\n",
    "    .opts(color=\"black\", line_dash=\"dashed\")\n",
    ")\n",
    "\n",
    "layout = hv.NdLayout(the_plots)\n",
    "layout *= periodic_curve\n",
    "layout *= lorentz_vlines(0, scale=1e-9).opts(color=yellow, line_dash=\"dotted\")\n",
    "\n",
    "layout.cols(3).opts(opts.Curve(frame_width=400, frame_height=300))"
   ]
  },
  {
   "cell_type": "code",
   "execution_count": null,
   "id": "230785d0-2865-458f-854f-caf2b01f306e",
   "metadata": {
    "tags": []
   },
   "outputs": [],
   "source": [
    "hv.save(\n",
    "    layout,\n",
    "    filename=fig_path\n",
    "    / f\"{var}_DLOPC_correlation_comparison_wl_P{P}_elt{elt}_N{N}_th{theta}_D0-1c-uc\",\n",
    "    fmt=\"png\",\n",
    "    toolbar=False,\n",
    ")"
   ]
  },
  {
   "cell_type": "code",
   "execution_count": null,
   "id": "a77ce725-4d0a-49c0-a2e6-de141923956b",
   "metadata": {
    "tags": []
   },
   "outputs": [],
   "source": [
    "var = \"R\"\n",
    "P = period = 250\n",
    "N = num_periods = 10\n",
    "theta = 0\n",
    "elt = excitonic_layer_thickness = 50\n",
    "\n",
    "\n",
    "the_plots = {\n",
    "    delta: (restacked_stats_ds[f\"{var}_mean\"]\n",
    "    .sel(theta=theta, num_periods=num_periods, period=period, delta=delta)\n",
    "    .squeeze()\n",
    "    .hvplot.line(x=\"wavelength\", by=\"disorder_correlation\")\n",
    "    .opts(opts.Curve(ylabel=var, xticks=2, yticks=4, show_legend=False)) * hv.Text(550, 0.33, f\"Delta={delta}\", fontsize=18))\n",
    "    for delta in [0.1, 0.2, 0.3, 0.4, 0.5, 1]\n",
    "}\n",
    "\n",
    "for d in [0.2, 0.3, 0.5, 1]:\n",
    "    the_plots[d].opts(opts.Curve(yaxis=\"bare\"))\n",
    "\n",
    "for d in [0.1, 0.2, 0.3]:\n",
    "    the_plots[d].opts(opts.Curve(xaxis=\"bare\"))\n",
    "\n",
    "periodic_curve = (\n",
    "    restacked_pds[var]\n",
    "    .sel(\n",
    "        theta=theta,\n",
    "        num_periods=num_periods,\n",
    "        period=period,\n",
    "        excitonic_layer_thickness=excitonic_layer_thickness,\n",
    "    )\n",
    "    .squeeze()\n",
    "    .hvplot(x=\"wavelength\")\n",
    "    .opts(color=\"black\", line_dash=\"dashed\")\n",
    ")\n",
    "\n",
    "layout = hv.NdLayout(the_plots)\n",
    "layout *= periodic_curve\n",
    "layout *= lorentz_vlines(0, scale=1e-9).opts(color=yellow, line_dash=\"dotted\")\n",
    "\n",
    "layout.cols(3).opts(opts.Curve(frame_width=400, frame_height=300))"
   ]
  },
  {
   "cell_type": "code",
   "execution_count": null,
   "id": "4c51361b-f761-4eed-8af7-5c9fc3b16e88",
   "metadata": {
    "tags": []
   },
   "outputs": [],
   "source": [
    "hv.save(\n",
    "    layout,\n",
    "    filename=fig_path\n",
    "    / f\"{var}_DLOPC_correlation_comparison_wl_P{P}_elt{elt}_N{N}_th{theta}_D0-1c-uc\",\n",
    "    fmt=\"png\",\n",
    "    toolbar=False,\n",
    ")"
   ]
  },
  {
   "cell_type": "code",
   "execution_count": null,
   "id": "dd33f8cc-bb08-4169-929a-bcad0b96de4a",
   "metadata": {
    "tags": []
   },
   "outputs": [],
   "source": [
    "var = \"R\"\n",
    "P = period = 250\n",
    "N = num_periods = 20\n",
    "theta = 0\n",
    "elt = excitonic_layer_thickness = 50\n",
    "\n",
    "\n",
    "the_plots = {\n",
    "    delta: (restacked_stats_ds[f\"{var}_mean\"]\n",
    "    .sel(theta=theta, num_periods=num_periods, period=period, delta=delta)\n",
    "    .squeeze()\n",
    "    .hvplot.line(x=\"wavelength\", by=\"disorder_correlation\")\n",
    "    .opts(opts.Curve(ylabel=var, xticks=2, yticks=4, show_legend=False)) * hv.Text(550, 0.7, f\"Delta={delta}\", fontsize=18))\n",
    "    for delta in [0.1, 0.2, 0.3, 0.4, 0.5, 1]\n",
    "}\n",
    "\n",
    "for d in [0.2, 0.3, 0.5, 1]:\n",
    "    the_plots[d].opts(opts.Curve(yaxis=\"bare\"))\n",
    "\n",
    "for d in [0.1, 0.2, 0.3]:\n",
    "    the_plots[d].opts(opts.Curve(xaxis=\"bare\"))\n",
    "\n",
    "periodic_curve = (\n",
    "    restacked_pds[var]\n",
    "    .sel(\n",
    "        theta=theta,\n",
    "        num_periods=num_periods,\n",
    "        period=period,\n",
    "        excitonic_layer_thickness=excitonic_layer_thickness,\n",
    "    )\n",
    "    .squeeze()\n",
    "    .hvplot(x=\"wavelength\")\n",
    "    .opts(color=\"black\", line_dash=\"dashed\")\n",
    ")\n",
    "\n",
    "layout = hv.NdLayout(the_plots)\n",
    "layout *= periodic_curve\n",
    "layout *= lorentz_vlines(0, scale=1e-9).opts(color=yellow, line_dash=\"dotted\")\n",
    "\n",
    "layout.cols(3).opts(opts.Curve(frame_width=400, frame_height=300))"
   ]
  },
  {
   "cell_type": "code",
   "execution_count": null,
   "id": "2120af78-1ca1-424c-b5fd-f1bdab70b001",
   "metadata": {
    "tags": []
   },
   "outputs": [],
   "source": [
    "hv.save(\n",
    "    layout,\n",
    "    filename=fig_path\n",
    "    / f\"{var}_DLOPC_correlation_comparison_wl_P{P}_elt{elt}_N{N}_th{theta}_D0-1c-uc\",\n",
    "    fmt=\"png\",\n",
    "    toolbar=False,\n",
    ")"
   ]
  },
  {
   "cell_type": "code",
   "execution_count": null,
   "id": "b6e3b31a-2202-4f74-b32c-71051279a68a",
   "metadata": {
    "tags": []
   },
   "outputs": [],
   "source": [
    "var = \"R\"\n",
    "P = period = 250\n",
    "N = num_periods = 50\n",
    "theta = 0\n",
    "elt = excitonic_layer_thickness = 50\n",
    "\n",
    "\n",
    "the_plots = {\n",
    "    delta: (restacked_stats_ds[f\"{var}_mean\"]\n",
    "    .sel(theta=theta, num_periods=num_periods, period=period, delta=delta)\n",
    "    .squeeze()\n",
    "    .hvplot.line(x=\"wavelength\", by=\"disorder_correlation\")\n",
    "    .opts(opts.Curve(ylabel=var, xticks=2, yticks=4, show_legend=False)) * hv.Text(550, 0.95, f\"Delta={delta}\", fontsize=18))\n",
    "    for delta in [0.1, 0.2, 0.3, 0.4, 0.5, 1]\n",
    "}\n",
    "\n",
    "for d in [0.2, 0.3, 0.5, 1]:\n",
    "    the_plots[d].opts(opts.Curve(yaxis=\"bare\"))\n",
    "\n",
    "for d in [0.1, 0.2, 0.3]:\n",
    "    the_plots[d].opts(opts.Curve(xaxis=\"bare\"))\n",
    "\n",
    "periodic_curve = (\n",
    "    restacked_pds[var]\n",
    "    .sel(\n",
    "        theta=theta,\n",
    "        num_periods=num_periods,\n",
    "        period=period,\n",
    "        excitonic_layer_thickness=excitonic_layer_thickness,\n",
    "    )\n",
    "    .squeeze()\n",
    "    .hvplot(x=\"wavelength\")\n",
    "    .opts(color=\"black\", line_dash=\"dashed\")\n",
    ")\n",
    "\n",
    "layout = hv.NdLayout(the_plots)\n",
    "layout *= periodic_curve\n",
    "layout *= lorentz_vlines(0, scale=1e-9).opts(color=yellow, line_dash=\"dotted\")\n",
    "\n",
    "layout.cols(3).opts(opts.Curve(frame_width=400, frame_height=300))"
   ]
  },
  {
   "cell_type": "code",
   "execution_count": null,
   "id": "9fa733a2-42ac-40fa-9561-58c25df79f21",
   "metadata": {
    "tags": []
   },
   "outputs": [],
   "source": [
    "hv.save(\n",
    "    layout,\n",
    "    filename=fig_path\n",
    "    / f\"{var}_DLOPC_correlation_comparison_wl_P{P}_elt{elt}_N{N}_th{theta}_D0-1c-uc\",\n",
    "    fmt=\"png\",\n",
    "    toolbar=False,\n",
    ")"
   ]
  },
  {
   "cell_type": "markdown",
   "id": "db5ab36a-f85b-497e-bc31-289d8b453280",
   "metadata": {
    "jp-MarkdownHeadingCollapsed": true,
    "tags": []
   },
   "source": [
    "### P=200"
   ]
  },
  {
   "cell_type": "code",
   "execution_count": null,
   "id": "4d6775c4-0a9f-47b6-afdc-68ab758c1b6e",
   "metadata": {
    "tags": []
   },
   "outputs": [],
   "source": [
    "var = \"R\"\n",
    "P = period = 200\n",
    "N = num_periods = 5\n",
    "theta = 0\n",
    "elt = excitonic_layer_thickness = 50\n",
    "\n",
    "\n",
    "the_plots = {\n",
    "    delta: (restacked_stats_ds[f\"{var}_mean\"]\n",
    "    .sel(theta=theta, num_periods=num_periods, period=period, delta=delta)\n",
    "    .squeeze()\n",
    "    .hvplot.line(x=\"wavelength\", by=\"disorder_correlation\")\n",
    "    .opts(opts.Curve(ylabel=var, xticks=2, yticks=4, show_legend=False)) * hv.Text(550, 0.1, f\"Delta={delta}\", fontsize=18))\n",
    "    for delta in [0.1, 0.2, 0.3, 0.4, 0.5, 1]\n",
    "}\n",
    "\n",
    "for d in [0.2, 0.3, 0.5, 1]:\n",
    "    the_plots[d].opts(opts.Curve(yaxis=\"bare\"))\n",
    "\n",
    "for d in [0.1, 0.2, 0.3]:\n",
    "    the_plots[d].opts(opts.Curve(xaxis=\"bare\"))\n",
    "\n",
    "periodic_curve = (\n",
    "    restacked_pds[var]\n",
    "    .sel(\n",
    "        theta=theta,\n",
    "        num_periods=num_periods,\n",
    "        period=period,\n",
    "        excitonic_layer_thickness=excitonic_layer_thickness,\n",
    "    )\n",
    "    .squeeze()\n",
    "    .hvplot(x=\"wavelength\")\n",
    "    .opts(color=\"black\", line_dash=\"dashed\")\n",
    ")\n",
    "\n",
    "layout = hv.NdLayout(the_plots)\n",
    "layout *= periodic_curve\n",
    "layout *= lorentz_vlines(0, scale=1e-9).opts(color=yellow, line_dash=\"dotted\")\n",
    "\n",
    "layout.cols(3).opts(opts.Curve(frame_width=400, frame_height=300))"
   ]
  },
  {
   "cell_type": "code",
   "execution_count": null,
   "id": "e6ab59a5-8b21-4991-a769-9a9713f1a174",
   "metadata": {
    "tags": []
   },
   "outputs": [],
   "source": [
    "hv.save(\n",
    "    layout,\n",
    "    filename=fig_path\n",
    "    / f\"{var}_DLOPC_correlation_comparison_wl_P{P}_elt{elt}_N{N}_th{theta}_D0-1c-uc\",\n",
    "    fmt=\"png\",\n",
    "    toolbar=False,\n",
    ")"
   ]
  },
  {
   "cell_type": "code",
   "execution_count": null,
   "id": "84eb5ab2-2632-4bc2-bfc7-f45af8077d68",
   "metadata": {
    "tags": []
   },
   "outputs": [],
   "source": [
    "var = \"R\"\n",
    "P = period = 200\n",
    "N = num_periods = 10\n",
    "theta = 0\n",
    "elt = excitonic_layer_thickness = 50\n",
    "\n",
    "\n",
    "the_plots = {\n",
    "    delta: (restacked_stats_ds[f\"{var}_mean\"]\n",
    "    .sel(theta=theta, num_periods=num_periods, period=period, delta=delta)\n",
    "    .squeeze()\n",
    "    .hvplot.line(x=\"wavelength\", by=\"disorder_correlation\")\n",
    "    .opts(opts.Curve(ylabel=var, xticks=2, yticks=4, show_legend=False)) * hv.Text(550, 0.33, f\"Delta={delta}\", fontsize=18))\n",
    "    for delta in [0.1, 0.2, 0.3, 0.4, 0.5, 1]\n",
    "}\n",
    "\n",
    "for d in [0.2, 0.3, 0.5, 1]:\n",
    "    the_plots[d].opts(opts.Curve(yaxis=\"bare\"))\n",
    "\n",
    "for d in [0.1, 0.2, 0.3]:\n",
    "    the_plots[d].opts(opts.Curve(xaxis=\"bare\"))\n",
    "\n",
    "periodic_curve = (\n",
    "    restacked_pds[var]\n",
    "    .sel(\n",
    "        theta=theta,\n",
    "        num_periods=num_periods,\n",
    "        period=period,\n",
    "        excitonic_layer_thickness=excitonic_layer_thickness,\n",
    "    )\n",
    "    .squeeze()\n",
    "    .hvplot(x=\"wavelength\")\n",
    "    .opts(color=\"black\", line_dash=\"dashed\")\n",
    ")\n",
    "\n",
    "layout = hv.NdLayout(the_plots)\n",
    "layout *= periodic_curve\n",
    "layout *= lorentz_vlines(0, scale=1e-9).opts(color=yellow, line_dash=\"dotted\")\n",
    "\n",
    "layout.cols(3).opts(opts.Curve(frame_width=400, frame_height=300))"
   ]
  },
  {
   "cell_type": "code",
   "execution_count": null,
   "id": "cebd18a0-06a2-4399-bcef-6832dbe9ec70",
   "metadata": {
    "tags": []
   },
   "outputs": [],
   "source": [
    "hv.save(\n",
    "    layout,\n",
    "    filename=fig_path\n",
    "    / f\"{var}_DLOPC_correlation_comparison_wl_P{P}_elt{elt}_N{N}_th{theta}_D0-1c-uc\",\n",
    "    fmt=\"png\",\n",
    "    toolbar=False,\n",
    ")"
   ]
  },
  {
   "cell_type": "code",
   "execution_count": null,
   "id": "c3f19aeb-0e8e-4135-9e99-4acfd6144e6a",
   "metadata": {
    "tags": []
   },
   "outputs": [],
   "source": [
    "var = \"R\"\n",
    "P = period = 200\n",
    "N = num_periods = 20\n",
    "theta = 0\n",
    "elt = excitonic_layer_thickness = 50\n",
    "\n",
    "\n",
    "the_plots = {\n",
    "    delta: (restacked_stats_ds[f\"{var}_mean\"]\n",
    "    .sel(theta=theta, num_periods=num_periods, period=period, delta=delta)\n",
    "    .squeeze()\n",
    "    .hvplot.line(x=\"wavelength\", by=\"disorder_correlation\")\n",
    "    .opts(opts.Curve(ylabel=var, xticks=2, yticks=4, show_legend=False)) * hv.Text(550, 0.7, f\"Delta={delta}\", fontsize=18))\n",
    "    for delta in [0.1, 0.2, 0.3, 0.4, 0.5, 1]\n",
    "}\n",
    "\n",
    "for d in [0.2, 0.3, 0.5, 1]:\n",
    "    the_plots[d].opts(opts.Curve(yaxis=\"bare\"))\n",
    "\n",
    "for d in [0.1, 0.2, 0.3]:\n",
    "    the_plots[d].opts(opts.Curve(xaxis=\"bare\"))\n",
    "\n",
    "periodic_curve = (\n",
    "    restacked_pds[var]\n",
    "    .sel(\n",
    "        theta=theta,\n",
    "        num_periods=num_periods,\n",
    "        period=period,\n",
    "        excitonic_layer_thickness=excitonic_layer_thickness,\n",
    "    )\n",
    "    .squeeze()\n",
    "    .hvplot(x=\"wavelength\")\n",
    "    .opts(color=\"black\", line_dash=\"dashed\")\n",
    ")\n",
    "\n",
    "layout = hv.NdLayout(the_plots)\n",
    "layout *= periodic_curve\n",
    "layout *= lorentz_vlines(0, scale=1e-9).opts(color=yellow, line_dash=\"dotted\")\n",
    "\n",
    "layout.cols(3).opts(opts.Curve(frame_width=400, frame_height=300))"
   ]
  },
  {
   "cell_type": "code",
   "execution_count": null,
   "id": "d57d33b1-511c-45a8-943c-68db31594aac",
   "metadata": {
    "tags": []
   },
   "outputs": [],
   "source": [
    "hv.save(\n",
    "    layout,\n",
    "    filename=fig_path\n",
    "    / f\"{var}_DLOPC_correlation_comparison_wl_P{P}_elt{elt}_N{N}_th{theta}_D0-1c-uc\",\n",
    "    fmt=\"png\",\n",
    "    toolbar=False,\n",
    ")"
   ]
  },
  {
   "cell_type": "code",
   "execution_count": null,
   "id": "cba6943a-1bf5-495c-bf4e-9c808569b6af",
   "metadata": {
    "tags": []
   },
   "outputs": [],
   "source": [
    "var = \"R\"\n",
    "P = period = 200\n",
    "N = num_periods = 50\n",
    "theta = 0\n",
    "elt = excitonic_layer_thickness = 50\n",
    "\n",
    "\n",
    "the_plots = {\n",
    "    delta: (restacked_stats_ds[f\"{var}_mean\"]\n",
    "    .sel(theta=theta, num_periods=num_periods, period=period, delta=delta)\n",
    "    .squeeze()\n",
    "    .hvplot.line(x=\"wavelength\", by=\"disorder_correlation\")\n",
    "    .opts(opts.Curve(ylabel=var, xticks=2, yticks=4, show_legend=False)) * hv.Text(550, 0.95, f\"Delta={delta}\", fontsize=18))\n",
    "    for delta in [0.1, 0.2, 0.3, 0.4, 0.5, 1]\n",
    "}\n",
    "\n",
    "for d in [0.2, 0.3, 0.5, 1]:\n",
    "    the_plots[d].opts(opts.Curve(yaxis=\"bare\"))\n",
    "\n",
    "for d in [0.1, 0.2, 0.3]:\n",
    "    the_plots[d].opts(opts.Curve(xaxis=\"bare\"))\n",
    "\n",
    "periodic_curve = (\n",
    "    restacked_pds[var]\n",
    "    .sel(\n",
    "        theta=theta,\n",
    "        num_periods=num_periods,\n",
    "        period=period,\n",
    "        excitonic_layer_thickness=excitonic_layer_thickness,\n",
    "    )\n",
    "    .squeeze()\n",
    "    .hvplot(x=\"wavelength\")\n",
    "    .opts(color=\"black\", line_dash=\"dashed\")\n",
    ")\n",
    "\n",
    "layout = hv.NdLayout(the_plots)\n",
    "layout *= periodic_curve\n",
    "layout *= lorentz_vlines(0, scale=1e-9).opts(color=yellow, line_dash=\"dotted\")\n",
    "\n",
    "layout.cols(3).opts(opts.Curve(frame_width=400, frame_height=300))"
   ]
  },
  {
   "cell_type": "code",
   "execution_count": null,
   "id": "20f67964-4817-4a90-95fa-4c45efd41812",
   "metadata": {
    "tags": []
   },
   "outputs": [],
   "source": [
    "hv.save(\n",
    "    layout,\n",
    "    filename=fig_path\n",
    "    / f\"{var}_DLOPC_correlation_comparison_wl_P{P}_elt{elt}_N{N}_th{theta}_D0-1c-uc\",\n",
    "    fmt=\"png\",\n",
    "    toolbar=False,\n",
    ")"
   ]
  },
  {
   "cell_type": "markdown",
   "id": "9f836012-0a1b-4f9b-8282-b358dd82efc5",
   "metadata": {
    "jp-MarkdownHeadingCollapsed": true,
    "tags": []
   },
   "source": [
    "### Old GridSpace approach"
   ]
  },
  {
   "cell_type": "code",
   "execution_count": null,
   "id": "65e1ce6e-cd1a-4947-b805-bf4b0ac730ae",
   "metadata": {
    "tags": []
   },
   "outputs": [],
   "source": [
    "# var = \"A\"\n",
    "# period = 200\n",
    "# num_periods = 5\n",
    "# theta = 0\n",
    "# excitonic_layer_thickness = 50\n",
    "\n",
    "# restacked_stats_ds[f\"{var}_mean\"].sel(\n",
    "#     theta=theta, num_periods=num_periods, period=period\n",
    "# ).sel(delta=slice(0.1, None)).squeeze().hvplot.line(\n",
    "#     x=\"wavelength\", by=\"disorder_correlation\", row=\"delta\"\n",
    "# ).opts(\n",
    "#     opts.Curve(xticks=1, show_legend=False), opts.GridSpace(shared_xaxis=True)\n",
    "# ) * restacked_pds[\n",
    "#     var\n",
    "# ].sel(\n",
    "#     theta=theta,\n",
    "#     num_periods=num_periods,\n",
    "#     period=period,\n",
    "#     excitonic_layer_thickness=excitonic_layer_thickness,\n",
    "# ).squeeze().hvplot(\n",
    "#     x=\"wavelength\"\n",
    "# ).opts(\n",
    "#     color=\"black\", line_dash=\"dashed\"\n",
    "# )"
   ]
  },
  {
   "cell_type": "markdown",
   "id": "c29d26f3-eb73-4803-b27b-e189cd120936",
   "metadata": {},
   "source": [
    "GridSpace for aggregated dataset - not really useful"
   ]
  },
  {
   "cell_type": "code",
   "execution_count": null,
   "id": "e16ed229-69ff-4c4b-bc52-c777512c773d",
   "metadata": {
    "tags": []
   },
   "outputs": [],
   "source": [
    "# var = \"R\"\n",
    "# period = 220\n",
    "# num_periods = 30\n",
    "# theta = 0\n",
    "# excitonic_layer_thickness = 40\n",
    "\n",
    "# (\n",
    "#     restacked_ads[var]\n",
    "#     .sel(\n",
    "#         disorder_correlation=\"correlated\",\n",
    "#         theta=theta,\n",
    "#         num_periods=num_periods,\n",
    "#         period=period,\n",
    "#         excitonic_layer_thickness=excitonic_layer_thickness,\n",
    "#     )\n",
    "#     .sel(delta=slice(0.01, None))\n",
    "#     .squeeze()\n",
    "#     .hvplot.line(x=\"wavelength\", by=[\"delta\"], subplots=True, label=\"correlated\")\n",
    "#     .opts(\n",
    "#         opts.Curve(\n",
    "#             xticks=1,\n",
    "#             show_legend=False,\n",
    "#         ),\n",
    "#         opts.GridSpace(shared_xaxis=True),\n",
    "#     )\n",
    "#     .cols(5)\n",
    "#     * restacked_ads[var]\n",
    "#     .sel(\n",
    "#         disorder_correlation=\"uncorrelated\",\n",
    "#         theta=theta,\n",
    "#         num_periods=num_periods,\n",
    "#         period=period,\n",
    "#         excitonic_layer_thickness=excitonic_layer_thickness,\n",
    "#     )\n",
    "#     .sel(delta=slice(0.01, None))\n",
    "#     .squeeze()\n",
    "#     .hvplot.line(x=\"wavelength\", by=[\"delta\"], subplots=True, label=\"uncorrelated\")\n",
    "#     .opts(\n",
    "#         opts.Curve(\n",
    "#             xticks=1,\n",
    "#             show_legend=False,\n",
    "#         ),\n",
    "#         opts.GridSpace(shared_xaxis=True),\n",
    "#     )\n",
    "#     .cols(5)\n",
    "#     * restacked_pds[var]\n",
    "#     .sel(\n",
    "#         theta=theta,\n",
    "#         num_periods=num_periods,\n",
    "#         period=period,\n",
    "#         excitonic_layer_thickness=excitonic_layer_thickness,\n",
    "#     )\n",
    "#     .squeeze()\n",
    "#     .hvplot(x=\"wavelength\")\n",
    "#     .opts(color=\"black\", line_dash=\"dashed\")\n",
    "# ).opts(opts.Curve(frame_width=100))"
   ]
  },
  {
   "cell_type": "markdown",
   "id": "c0466ef2-0347-4a1b-af4d-227d00c74065",
   "metadata": {
    "jp-MarkdownHeadingCollapsed": true,
    "tags": []
   },
   "source": [
    "## Does disorder make reflectance higher or lower?"
   ]
  },
  {
   "cell_type": "code",
   "execution_count": null,
   "id": "229ff159-4761-462a-a762-28ff8f3595c2",
   "metadata": {
    "tags": []
   },
   "outputs": [],
   "source": [
    "# the_plot = restack_plt_to_period(stats_ds)[\"R_mean\"].sel(\n",
    "#     period=300, num_periods=5, theta=0\n",
    "# ).squeeze().hvplot(x=\"wavelength\", by=\"delta\", row=\"disorder_correlation\")\n",
    "\n",
    "# the_plot.opts(opts.Curve())"
   ]
  },
  {
   "cell_type": "code",
   "execution_count": null,
   "id": "62af070d-75d0-4bf4-85c2-2201707a5cd6",
   "metadata": {
    "tags": []
   },
   "outputs": [],
   "source": [
    "# overlay = compare_integrated_stats(\n",
    "#     \"R\",\n",
    "#     wavelength=slice(480, 880),\n",
    "#     num_periods=5,\n",
    "#     period=300,\n",
    "#     theta=0,\n",
    "#     include=[\"DLOPC\"],\n",
    "#     x=\"wavelength\",\n",
    "#     y=\"delta\",\n",
    "#     by=\"disorder_correlation\",\n",
    "#     kind=\"quadmesh\",\n",
    "# )\n",
    "\n",
    "# layout = hv.NdLayout(overlay.NdOverlay.I).opts(opts.QuadMesh(cmap=\"viridis\"), opts.NdLayout(shared_axes=False))\n",
    "\n",
    "# layout[\"uncorrelated\"].opts(opts.QuadMesh(ylim=(0,0.5)))\n",
    "# layout"
   ]
  },
  {
   "cell_type": "code",
   "execution_count": null,
   "id": "5f5999bc-211a-44ea-9d99-73027fb07784",
   "metadata": {
    "tags": []
   },
   "outputs": [],
   "source": [
    "# the_plot = integrate_da(\n",
    "#     restacked_stats_ds[\"R_mean\"].sel(disorder_correlation=\"correlated\").squeeze(),\n",
    "#     dim=[\"wavelength\", \"theta\"],\n",
    "#     normalisation=1,\n",
    "# ).hvplot(\n",
    "#     kind=\"quadmesh\",\n",
    "#     x=\"delta\",\n",
    "#     y=\"num_periods\",\n",
    "#     row=\"period\",\n",
    "#     # col=\"disorder_correlation\",\n",
    "# )\n",
    "\n",
    "# the_plot.opts(opts.QuadMesh(cmap=\"viridis\", colorbar=False, clim=(0.02, 0.125)))\n",
    "# the_plot[100].opts(opts.QuadMesh(colorbar=True, colorbar_position=\"left\"))\n",
    "# the_plot"
   ]
  },
  {
   "cell_type": "code",
   "execution_count": null,
   "id": "9d89d71b-0aed-4551-b0c2-c68f49c9eb03",
   "metadata": {
    "tags": []
   },
   "outputs": [],
   "source": [
    "# hv.save(R_int_grid_plot, filename=fig_path/\"R_dLOPC_2D_d_N\", fmt=\"png\", toolbar=False)"
   ]
  },
  {
   "cell_type": "markdown",
   "id": "6f715a93-6a22-4a14-ac0e-0f675cfc26f5",
   "metadata": {
    "jp-MarkdownHeadingCollapsed": true,
    "tags": []
   },
   "source": [
    "### Big loop"
   ]
  },
  {
   "cell_type": "code",
   "execution_count": null,
   "id": "549d74ea-74da-4ce5-925e-246b07c164fd",
   "metadata": {},
   "outputs": [],
   "source": [
    "# def load_singles_plots(variable, disorder_correlation, N, P, D, elt=50, theta=0, include=(\"runcurve_wl\", \"meancurve_wl\", \"max_vs_tot\")):\n",
    "#     disorder_code = disorder_correlation[0]\n",
    "#     plots = [hv.RGB.load_image(fig_path / f\"\") for plot_type in include]\n",
    "    \n",
    "#     return plots"
   ]
  },
  {
   "cell_type": "markdown",
   "id": "d2bbcaac-aa84-4ee0-9d23-62102764da00",
   "metadata": {},
   "source": [
    "I've given up on using a DynamicMap-based approach to this because it seems scatter plots don't autorange for some reason. I've tried `framewise=True`, `xlim=(None, None)`, etc."
   ]
  },
  {
   "cell_type": "code",
   "execution_count": null,
   "id": "c91b29e4-26d2-4b8c-9b24-bbcee61c0077",
   "metadata": {
    "tags": []
   },
   "outputs": [],
   "source": [
    "## kdims = [\n",
    "#     hv.Dimension(\"variable\", values=list(singles_ds.data_vars.keys())),\n",
    "#     hv.Dimension(\"disorder_correlation\", values=singles_ds.disorder_correlation.data),\n",
    "#     hv.Dimension(\"period\", values=singles_ds.period.squeeze().data, default=200),\n",
    "#     hv.Dimension(\"num_periods\", values=singles_ds.num_periods.data),\n",
    "#     hv.Dimension(\"delta\", values=[0.1, 0.2, 0.3, 0.4, 0.5, 1]),\n",
    "#     hv.Dimension(\"theta\", range=(0, 86), default=0),\n",
    "#     hv.Dimension(\"integrate_angle\", range=(0, 86), default=0),\n",
    "#     hv.Dimension(\"mode\", values=[\"raw\", \"ef\"], default=\"raw\"),\n",
    "# ]\n",
    "\n",
    "# singles_dmap_D01_04 = hv.DynamicMap(partial(wrapped_plot_singles, run=slice(0,99)), kdims=kdims)"
   ]
  },
  {
   "cell_type": "code",
   "execution_count": null,
   "id": "1f670f52-ec10-4e55-9be1-8be13ef1dba7",
   "metadata": {
    "tags": []
   },
   "outputs": [],
   "source": [
    "var = [\"R\"]\n",
    "theta = 0\n",
    "elt = excitonic_layer_thickness = 50\n",
    "mode = \"raw\"\n",
    "wavelength_int_range = (None, None)\n",
    "\n",
    "for period in tqdm([100, 150, 200, 250, 300]):\n",
    "    for num_periods in [5, 20, 50]:\n",
    "        for integrate_angle in [None, 45, 86]:\n",
    "            for delta in [0.1, 0.3, 0.5, 1]:\n",
    "                for disorder_correlation in [\"correlated\", \"uncorrelated\"]:\n",
    "                    if delta == 1 and disorder_correlation == \"uncorrelated\":\n",
    "                        pass\n",
    "                    else:\n",
    "                        P = period\n",
    "                        N = num_periods\n",
    "                        if delta < 0.5:\n",
    "                            run = slice(0, 99)\n",
    "                        else:\n",
    "                            run = slice(0, 999)\n",
    "                        if integrate_angle:\n",
    "                            th = f\"{theta}-{integrate_angle}\"\n",
    "                        else:\n",
    "                            th = theta\n",
    "                        if mode == \"raw\":\n",
    "                            fom = var[0]\n",
    "                        elif mode == \"ef\":\n",
    "                            fom = f\"{var[0]}ef\"\n",
    "                        disorder_code = disorder_correlation[0]\n",
    "                        D = str(delta).replace(\".\", \"\")\n",
    "\n",
    "                        with warnings.catch_warnings():\n",
    "                            warnings.filterwarnings(\"ignore\", \"divide\")\n",
    "                            the_plots = plot_singles(\n",
    "                                var,\n",
    "                                run,\n",
    "                                disorder_correlation,\n",
    "                                num_periods,\n",
    "                                period,\n",
    "                                delta,\n",
    "                                theta,\n",
    "                                mode=mode,\n",
    "                                wavelength_int_range=wavelength_int_range,\n",
    "                                integrate_angle=integrate_angle,\n",
    "                            )\n",
    "\n",
    "                            overlay_1 = (\n",
    "                                hv.Overlay(the_plots[:3])\n",
    "                                .select(run=slice(0, 8))\n",
    "                                .opts(\n",
    "                                    opts.Curve(ylim=(0, None)),\n",
    "                                    opts.Scatter(alpha=1),\n",
    "                                    clone=True,\n",
    "                                )\n",
    "                            )\n",
    "                            # display(overlay_1)\n",
    "\n",
    "                            overlay_2 = hv.Overlay(\n",
    "                                [the_plots[2], *the_plots[5:], the_plots[1]]\n",
    "                            ).opts(opts.Curve(xlim=(480, 880), ylim=(0, None)))\n",
    "                            # display(overlay_2)\n",
    "\n",
    "                            max_vs_integral = the_plots[3]\n",
    "                            # display(max_vs_integral)\n",
    "\n",
    "                            hv.save(\n",
    "                                overlay_1,\n",
    "                                filename=fig_path\n",
    "                                / f\"{fom}_DLOPC_runcurve_wl_P{P}_elt{elt}_N{N}_th{th}_D{D}{disorder_code}\",\n",
    "                                fmt=\"png\",\n",
    "                                toolbar=False,\n",
    "                            )\n",
    "\n",
    "                            hv.save(\n",
    "                                overlay_2,\n",
    "                                filename=fig_path\n",
    "                                / f\"{fom}_DLOPC_meancurve_wl_P{P}_elt{elt}_N{N}_th{th}_D{D}{disorder_code}\",\n",
    "                                fmt=\"png\",\n",
    "                                toolbar=False,\n",
    "                            )\n",
    "\n",
    "                            hv.save(\n",
    "                                max_vs_integral,\n",
    "                                filename=fig_path\n",
    "                                / f\"{fom}_DLOPC_max_vs_tot_P{P}_elt{elt}_N{N}_th{th}_D{D}{disorder_code}\",\n",
    "                                fmt=\"png\",\n",
    "                                toolbar=False,\n",
    "                            )"
   ]
  },
  {
   "cell_type": "code",
   "execution_count": null,
   "id": "45e7c969-f233-404c-8f02-c3fb7d52402f",
   "metadata": {
    "tags": []
   },
   "outputs": [],
   "source": [
    "var = [\"R\"]\n",
    "elt = excitonic_layer_thickness = 50\n",
    "mode = \"raw\"\n",
    "wavelength_int_range = (None, None)\n",
    "N = num_periods = 5\n",
    "theta = 0\n",
    "integrate_angle = None\n",
    "delta = 0.2\n",
    "disorder_correlation = \"uncorrelated\"\n",
    "\n",
    "for period in [200, 250]:\n",
    "    P = period\n",
    "    if delta < 0.5:\n",
    "        run = slice(0, 99)\n",
    "    else:\n",
    "        run = slice(0, 999)\n",
    "    if integrate_angle:\n",
    "        th = f\"{theta}-{integrate_angle}\"\n",
    "    else:\n",
    "        th = theta\n",
    "    if mode == \"raw\":\n",
    "        fom = var[0]\n",
    "    elif mode == \"ef\":\n",
    "        fom = f\"{var[0]}ef\"\n",
    "    disorder_code = disorder_correlation[0]\n",
    "    D = str(delta).replace(\".\", \"\")\n",
    "\n",
    "    with warnings.catch_warnings():\n",
    "        warnings.filterwarnings(\"ignore\", \"divide\")\n",
    "        the_plots = plot_singles(\n",
    "            var,\n",
    "            run,\n",
    "            disorder_correlation,\n",
    "            num_periods,\n",
    "            period,\n",
    "            delta,\n",
    "            theta,\n",
    "            mode=mode,\n",
    "            wavelength_int_range=wavelength_int_range,\n",
    "            integrate_angle=integrate_angle,\n",
    "        )\n",
    "\n",
    "        overlay_1 = (\n",
    "            hv.Overlay(the_plots[:3])\n",
    "            .select(run=slice(0, 8))\n",
    "            .opts(opts.Curve(ylim=(0, None)), opts.Scatter(alpha=1), clone=True)\n",
    "        )\n",
    "        # display(overlay_1)\n",
    "\n",
    "        overlay_2 = hv.Overlay([the_plots[2], *the_plots[5:], the_plots[1]]).opts(\n",
    "            opts.Curve(xlim=(480, 880), ylim=(0, None))\n",
    "        )\n",
    "        # display(overlay_2)\n",
    "\n",
    "        max_vs_integral = the_plots[3]\n",
    "        # display(max_vs_integral)\n",
    "\n",
    "        hv.save(\n",
    "            overlay_1,\n",
    "            filename=fig_path\n",
    "            / f\"{fom}_DLOPC_runcurve_wl_P{P}_elt{elt}_N{N}_th{th}_D{D}{disorder_code}\",\n",
    "            fmt=\"png\",\n",
    "            toolbar=False,\n",
    "        )\n",
    "\n",
    "        hv.save(\n",
    "            overlay_2,\n",
    "            filename=fig_path\n",
    "            / f\"{fom}_DLOPC_meancurve_wl_P{P}_elt{elt}_N{N}_th{th}_D{D}{disorder_code}\",\n",
    "            fmt=\"png\",\n",
    "            toolbar=False,\n",
    "        )\n",
    "\n",
    "        hv.save(\n",
    "            max_vs_integral,\n",
    "            filename=fig_path\n",
    "            / f\"{fom}_DLOPC_max_vs_tot_P{P}_elt{elt}_N{N}_th{th}_D{D}{disorder_code}\",\n",
    "            fmt=\"png\",\n",
    "            toolbar=False,\n",
    "        )"
   ]
  },
  {
   "cell_type": "code",
   "execution_count": null,
   "id": "56c1ad22-7174-4412-be7a-71b1a60e85da",
   "metadata": {
    "tags": []
   },
   "outputs": [],
   "source": [
    "var = [\"R\"]\n",
    "elt = excitonic_layer_thickness = 50\n",
    "mode = \"raw\"\n",
    "wavelength_int_range = (None, None)\n",
    "N = num_periods = 50\n",
    "theta = 0\n",
    "integrate_angle = None\n",
    "delta = 0.4\n",
    "disorder_correlation = \"uncorrelated\"\n",
    "\n",
    "for period in [100, 150, 200, 250, 300]:\n",
    "    P = period\n",
    "    if delta < 0.5:\n",
    "        run = slice(0, 99)\n",
    "    else:\n",
    "        run = slice(0, 999)\n",
    "    if integrate_angle:\n",
    "        th = f\"{theta}-{integrate_angle}\"\n",
    "    else:\n",
    "        th = theta\n",
    "    if mode == \"raw\":\n",
    "        fom = var[0]\n",
    "    elif mode == \"ef\":\n",
    "        fom = f\"{var[0]}ef\"\n",
    "    disorder_code = disorder_correlation[0]\n",
    "    D = str(delta).replace(\".\", \"\")\n",
    "\n",
    "    with warnings.catch_warnings():\n",
    "        warnings.filterwarnings(\"ignore\", \"divide\")\n",
    "        the_plots = plot_singles(\n",
    "            var,\n",
    "            run,\n",
    "            disorder_correlation,\n",
    "            num_periods,\n",
    "            period,\n",
    "            delta,\n",
    "            theta,\n",
    "            mode=mode,\n",
    "            wavelength_int_range=wavelength_int_range,\n",
    "            integrate_angle=integrate_angle,\n",
    "        )\n",
    "\n",
    "        overlay_1 = (\n",
    "            hv.Overlay(the_plots[:3])\n",
    "            .select(run=slice(0, 8))\n",
    "            .opts(opts.Curve(ylim=(0, None)), opts.Scatter(alpha=1), clone=True)\n",
    "        )\n",
    "        # display(overlay_1)\n",
    "\n",
    "        overlay_2 = hv.Overlay([the_plots[2], *the_plots[5:], the_plots[1]]).opts(\n",
    "            opts.Curve(xlim=(480, 880), ylim=(0, None))\n",
    "        )\n",
    "        # display(overlay_2)\n",
    "\n",
    "        max_vs_integral = the_plots[3]\n",
    "        # display(max_vs_integral)\n",
    "\n",
    "        hv.save(\n",
    "            overlay_1,\n",
    "            filename=fig_path\n",
    "            / f\"{fom}_DLOPC_runcurve_wl_P{P}_elt{elt}_N{N}_th{th}_D{D}{disorder_code}\",\n",
    "            fmt=\"png\",\n",
    "            toolbar=False,\n",
    "        )\n",
    "\n",
    "        hv.save(\n",
    "            overlay_2,\n",
    "            filename=fig_path\n",
    "            / f\"{fom}_DLOPC_meancurve_wl_P{P}_elt{elt}_N{N}_th{th}_D{D}{disorder_code}\",\n",
    "            fmt=\"png\",\n",
    "            toolbar=False,\n",
    "        )\n",
    "\n",
    "        hv.save(\n",
    "            max_vs_integral,\n",
    "            filename=fig_path\n",
    "            / f\"{fom}_DLOPC_max_vs_tot_P{P}_elt{elt}_N{N}_th{th}_D{D}{disorder_code}\",\n",
    "            fmt=\"png\",\n",
    "            toolbar=False,\n",
    "        )"
   ]
  },
  {
   "cell_type": "markdown",
   "id": "8bdc012a-c58a-47b4-8bde-cd86f0c3ff50",
   "metadata": {
    "jp-MarkdownHeadingCollapsed": true,
    "tags": []
   },
   "source": [
    "### Reflectance difference factor to compare against absorptance"
   ]
  },
  {
   "cell_type": "markdown",
   "id": "8eb022d9-ed3c-4abc-b695-71432c2b95f9",
   "metadata": {},
   "source": [
    "#### Normal incidence"
   ]
  },
  {
   "cell_type": "code",
   "execution_count": null,
   "id": "ce6c636a-4dae-4fbc-b31c-48e5ee881f9b",
   "metadata": {
    "tags": []
   },
   "outputs": [],
   "source": [
    "variable = \"R\"\n",
    "N = num_periods = 5\n",
    "wavelength = (480, 881)\n",
    "theta = 0\n",
    "integrate_angle = None\n",
    "elt = excitonic_layer_thickness = 50\n",
    "color_cycle = default_color_cycle[len(restacked_stats_ds.period)]\n",
    "\n",
    "temp_stats_ds = (\n",
    "    restacked_stats_ds[f\"{variable}_mean\"].sel(num_periods=num_periods).squeeze()\n",
    ")\n",
    "the_plot = (\n",
    "    cross_section(\n",
    "        temp_stats_ds.sel(disorder_correlation=\"correlated\"),\n",
    "        wavelength=wavelength,\n",
    "        theta=theta,\n",
    "        integrate_angle=integrate_angle,\n",
    "    ).hvplot.line(x=\"delta\", by=\"period\", color=color_cycle, line_dash=\"dashed\")\n",
    "    * cross_section(\n",
    "        temp_stats_ds.sel(disorder_correlation=\"uncorrelated\"),\n",
    "        wavelength=wavelength,\n",
    "        theta=theta,\n",
    "        integrate_angle=integrate_angle,\n",
    "    ).hvplot.line(x=\"delta\", by=\"period\", color=color_cycle, line_dash=\"solid\")\n",
    "    * hv.HLine(\n",
    "        float(\n",
    "            cross_section(\n",
    "                crs_1[variable].sel(\n",
    "                    total_excitonic_thickness=num_periods * excitonic_layer_thickness,\n",
    "                ),\n",
    "                wavelength=wavelength,\n",
    "                theta=theta,\n",
    "                integrate_angle=integrate_angle,\n",
    "            )\n",
    "        )\n",
    "    )\n",
    ")\n",
    "the_plot.opts(\n",
    "    opts.HLine(line_color=\"black\", line_dash=\"dotted\"), opts.Curve(ylabel=variable, ylim=(0, None))\n",
    ")\n",
    "the_plot"
   ]
  },
  {
   "cell_type": "code",
   "execution_count": null,
   "id": "6b77a5a7-15aa-4c97-9ddf-a4498f10a639",
   "metadata": {
    "tags": []
   },
   "outputs": [],
   "source": [
    "hv.save(\n",
    "    the_plot,\n",
    "    filename=fig_path\n",
    "    / f\"{variable}tot_DLOPC_period_comparison_D_elt{elt}_N{N}_th{theta}\",\n",
    "    fmt=\"png\",\n",
    "    toolbar=False,\n",
    ")"
   ]
  },
  {
   "cell_type": "code",
   "execution_count": null,
   "id": "022c2c23-6776-41b5-b246-40ee6208bed2",
   "metadata": {
    "tags": []
   },
   "outputs": [],
   "source": [
    "variable = \"R\"\n",
    "N = num_periods = 20\n",
    "wavelength = (480, 881)\n",
    "theta = 0\n",
    "integrate_angle = None\n",
    "elt = excitonic_layer_thickness = 50\n",
    "color_cycle = default_color_cycle[len(restacked_stats_ds.period)]\n",
    "\n",
    "temp_stats_ds = (\n",
    "    restacked_stats_ds[f\"{variable}_mean\"].sel(num_periods=num_periods).squeeze()\n",
    ")\n",
    "the_plot = (\n",
    "    cross_section(\n",
    "        temp_stats_ds.sel(disorder_correlation=\"correlated\"),\n",
    "        wavelength=wavelength,\n",
    "        theta=theta,\n",
    "        integrate_angle=integrate_angle,\n",
    "    ).hvplot.line(x=\"delta\", by=\"period\", color=color_cycle, line_dash=\"dashed\")\n",
    "    * cross_section(\n",
    "        temp_stats_ds.sel(disorder_correlation=\"uncorrelated\"),\n",
    "        wavelength=wavelength,\n",
    "        theta=theta,\n",
    "        integrate_angle=integrate_angle,\n",
    "    ).hvplot.line(x=\"delta\", by=\"period\", color=color_cycle, line_dash=\"solid\")\n",
    "    * hv.HLine(\n",
    "        float(\n",
    "            cross_section(\n",
    "                crs_1[variable].sel(\n",
    "                    total_excitonic_thickness=num_periods * excitonic_layer_thickness,\n",
    "                ),\n",
    "                wavelength=wavelength,\n",
    "                theta=theta,\n",
    "                integrate_angle=integrate_angle,\n",
    "            )\n",
    "        )\n",
    "    )\n",
    ")\n",
    "the_plot.opts(\n",
    "    opts.HLine(line_color=\"black\", line_dash=\"dotted\"), opts.Curve(ylabel=variable, ylim=(0, None))\n",
    ")\n",
    "the_plot"
   ]
  },
  {
   "cell_type": "code",
   "execution_count": null,
   "id": "ac1b1c8e-388c-4039-822a-6e7778b6065c",
   "metadata": {
    "tags": []
   },
   "outputs": [],
   "source": [
    "hv.save(\n",
    "    the_plot,\n",
    "    filename=fig_path\n",
    "    / f\"{variable}tot_DLOPC_period_comparison_D_elt{elt}_N{N}_th{theta}\",\n",
    "    fmt=\"png\",\n",
    "    toolbar=False,\n",
    ")"
   ]
  },
  {
   "cell_type": "code",
   "execution_count": null,
   "id": "aeabfc45-d383-4c27-9375-8d1bfa73f880",
   "metadata": {
    "tags": []
   },
   "outputs": [],
   "source": [
    "variable = \"R\"\n",
    "N = num_periods = 50\n",
    "wavelength = (480, 881)\n",
    "theta = 0\n",
    "integrate_angle = None\n",
    "elt = excitonic_layer_thickness = 50\n",
    "color_cycle = default_color_cycle[len(restacked_stats_ds.period)]\n",
    "\n",
    "temp_stats_ds = (\n",
    "    restacked_stats_ds[f\"{variable}_mean\"].sel(num_periods=num_periods).squeeze()\n",
    ")\n",
    "the_plot = (\n",
    "    cross_section(\n",
    "        temp_stats_ds.sel(disorder_correlation=\"correlated\"),\n",
    "        wavelength=wavelength,\n",
    "        theta=theta,\n",
    "        integrate_angle=integrate_angle,\n",
    "    ).hvplot.line(x=\"delta\", by=\"period\", color=color_cycle, line_dash=\"dashed\")\n",
    "    * cross_section(\n",
    "        temp_stats_ds.sel(disorder_correlation=\"uncorrelated\"),\n",
    "        wavelength=wavelength,\n",
    "        theta=theta,\n",
    "        integrate_angle=integrate_angle,\n",
    "    ).hvplot.line(x=\"delta\", by=\"period\", color=color_cycle, line_dash=\"solid\")\n",
    "    * hv.HLine(\n",
    "        float(\n",
    "            cross_section(\n",
    "                crs_1[variable].sel(\n",
    "                    total_excitonic_thickness=num_periods * excitonic_layer_thickness,\n",
    "                ),\n",
    "                wavelength=wavelength,\n",
    "                theta=theta,\n",
    "                integrate_angle=integrate_angle,\n",
    "            )\n",
    "        )\n",
    "    )\n",
    ")\n",
    "the_plot.opts(\n",
    "    opts.HLine(line_color=\"black\", line_dash=\"dotted\"), opts.Curve(ylabel=variable, ylim=(0, None))\n",
    ")\n",
    "the_plot"
   ]
  },
  {
   "cell_type": "code",
   "execution_count": null,
   "id": "343bdf96-a3fb-4f08-acc7-570ebf6cd629",
   "metadata": {
    "tags": []
   },
   "outputs": [],
   "source": [
    "hv.save(\n",
    "    the_plot,\n",
    "    filename=fig_path\n",
    "    / f\"{variable}tot_DLOPC_period_comparison_D_elt{elt}_N{N}_th{theta}\",\n",
    "    fmt=\"png\",\n",
    "    toolbar=False,\n",
    ")"
   ]
  },
  {
   "cell_type": "markdown",
   "id": "58b3dd2f-aaf4-486f-9777-7d91e107a5ca",
   "metadata": {},
   "source": [
    "#### Integrated to 45"
   ]
  },
  {
   "cell_type": "code",
   "execution_count": null,
   "id": "78d79e29-22eb-4944-940e-01a29912ecef",
   "metadata": {
    "tags": []
   },
   "outputs": [],
   "source": [
    "variable = \"R\"\n",
    "N = num_periods = 5\n",
    "wavelength = (480, 881)\n",
    "theta = 0\n",
    "integrate_angle = 45\n",
    "if integrate_angle:\n",
    "    th = f\"{theta}-{integrate_angle}\"\n",
    "else:\n",
    "    th = theta\n",
    "elt = excitonic_layer_thickness = 50\n",
    "color_cycle = default_color_cycle[len(restacked_stats_ds.period)]\n",
    "\n",
    "temp_stats_ds = (\n",
    "    restacked_stats_ds[f\"{variable}_mean\"].sel(num_periods=num_periods).squeeze()\n",
    ")\n",
    "the_plot = (\n",
    "    cross_section(\n",
    "        temp_stats_ds.sel(disorder_correlation=\"correlated\"),\n",
    "        wavelength=wavelength,\n",
    "        theta=theta,\n",
    "        integrate_angle=integrate_angle,\n",
    "    ).hvplot.line(x=\"delta\", by=\"period\", color=color_cycle, line_dash=\"dashed\")\n",
    "    * cross_section(\n",
    "        temp_stats_ds.sel(disorder_correlation=\"uncorrelated\"),\n",
    "        wavelength=wavelength,\n",
    "        theta=theta,\n",
    "        integrate_angle=integrate_angle,\n",
    "    ).hvplot.line(x=\"delta\", by=\"period\", color=color_cycle, line_dash=\"solid\")\n",
    "    * hv.HLine(\n",
    "        float(\n",
    "            cross_section(\n",
    "                crs_1[variable].sel(\n",
    "                    total_excitonic_thickness=num_periods * excitonic_layer_thickness,\n",
    "                ),\n",
    "                wavelength=wavelength,\n",
    "                theta=theta,\n",
    "                integrate_angle=integrate_angle,\n",
    "            )\n",
    "        )\n",
    "    )\n",
    ")\n",
    "the_plot.opts(\n",
    "    opts.HLine(line_color=\"black\", line_dash=\"dotted\"), opts.Curve(ylabel=variable, ylim=(0, None))\n",
    ")\n",
    "the_plot"
   ]
  },
  {
   "cell_type": "code",
   "execution_count": null,
   "id": "18f9b5ce-6b14-40af-b672-b9f34db5d337",
   "metadata": {
    "tags": []
   },
   "outputs": [],
   "source": [
    "hv.save(\n",
    "    the_plot,\n",
    "    filename=fig_path\n",
    "    / f\"{variable}tot_DLOPC_period_comparison_D_elt{elt}_N{N}_th{th}\",\n",
    "    fmt=\"png\",\n",
    "    toolbar=False,\n",
    ")"
   ]
  },
  {
   "cell_type": "code",
   "execution_count": null,
   "id": "957ad55c-a74d-418f-9433-2200c647114a",
   "metadata": {
    "tags": []
   },
   "outputs": [],
   "source": [
    "variable = \"R\"\n",
    "N = num_periods = 20\n",
    "wavelength = (480, 881)\n",
    "theta = 0\n",
    "integrate_angle = 45\n",
    "if integrate_angle:\n",
    "    th = f\"{theta}-{integrate_angle}\"\n",
    "else:\n",
    "    th = theta\n",
    "elt = excitonic_layer_thickness = 50\n",
    "color_cycle = default_color_cycle[len(restacked_stats_ds.period)]\n",
    "\n",
    "temp_stats_ds = (\n",
    "    restacked_stats_ds[f\"{variable}_mean\"].sel(num_periods=num_periods).squeeze()\n",
    ")\n",
    "the_plot = (\n",
    "    cross_section(\n",
    "        temp_stats_ds.sel(disorder_correlation=\"correlated\"),\n",
    "        wavelength=wavelength,\n",
    "        theta=theta,\n",
    "        integrate_angle=integrate_angle,\n",
    "    ).hvplot.line(x=\"delta\", by=\"period\", color=color_cycle, line_dash=\"dashed\")\n",
    "    * cross_section(\n",
    "        temp_stats_ds.sel(disorder_correlation=\"uncorrelated\"),\n",
    "        wavelength=wavelength,\n",
    "        theta=theta,\n",
    "        integrate_angle=integrate_angle,\n",
    "    ).hvplot.line(x=\"delta\", by=\"period\", color=color_cycle, line_dash=\"solid\")\n",
    "    * hv.HLine(\n",
    "        float(\n",
    "            cross_section(\n",
    "                crs_1[variable].sel(\n",
    "                    total_excitonic_thickness=num_periods * excitonic_layer_thickness,\n",
    "                ),\n",
    "                wavelength=wavelength,\n",
    "                theta=theta,\n",
    "                integrate_angle=integrate_angle,\n",
    "            )\n",
    "        )\n",
    "    )\n",
    ")\n",
    "the_plot.opts(\n",
    "    opts.HLine(line_color=\"black\", line_dash=\"dotted\"), opts.Curve(ylabel=variable, ylim=(0, None))\n",
    ")\n",
    "the_plot"
   ]
  },
  {
   "cell_type": "code",
   "execution_count": null,
   "id": "8f02d0dc-dc2f-4368-a7db-a41e82686e0c",
   "metadata": {
    "tags": []
   },
   "outputs": [],
   "source": [
    "hv.save(\n",
    "    the_plot,\n",
    "    filename=fig_path\n",
    "    / f\"{variable}tot_DLOPC_period_comparison_D_elt{elt}_N{N}_th{th}\",\n",
    "    fmt=\"png\",\n",
    "    toolbar=False,\n",
    ")"
   ]
  },
  {
   "cell_type": "code",
   "execution_count": null,
   "id": "3892f980-fc2c-4085-a64b-86161b8028f0",
   "metadata": {
    "tags": []
   },
   "outputs": [],
   "source": [
    "variable = \"R\"\n",
    "N = num_periods = 50\n",
    "wavelength = (480, 881)\n",
    "theta = 0\n",
    "integrate_angle = 45\n",
    "if integrate_angle:\n",
    "    th = f\"{theta}-{integrate_angle}\"\n",
    "else:\n",
    "    th = theta\n",
    "elt = excitonic_layer_thickness = 50\n",
    "color_cycle = default_color_cycle[len(restacked_stats_ds.period)]\n",
    "\n",
    "temp_stats_ds = (\n",
    "    restacked_stats_ds[f\"{variable}_mean\"].sel(num_periods=num_periods).squeeze()\n",
    ")\n",
    "the_plot = (\n",
    "    cross_section(\n",
    "        temp_stats_ds.sel(disorder_correlation=\"correlated\"),\n",
    "        wavelength=wavelength,\n",
    "        theta=theta,\n",
    "        integrate_angle=integrate_angle,\n",
    "    ).hvplot.line(x=\"delta\", by=\"period\", color=color_cycle, line_dash=\"dashed\")\n",
    "    * cross_section(\n",
    "        temp_stats_ds.sel(disorder_correlation=\"uncorrelated\"),\n",
    "        wavelength=wavelength,\n",
    "        theta=theta,\n",
    "        integrate_angle=integrate_angle,\n",
    "    ).hvplot.line(x=\"delta\", by=\"period\", color=color_cycle, line_dash=\"solid\")\n",
    "    * hv.HLine(\n",
    "        float(\n",
    "            cross_section(\n",
    "                crs_1[variable].sel(\n",
    "                    total_excitonic_thickness=num_periods * excitonic_layer_thickness,\n",
    "                ),\n",
    "                wavelength=wavelength,\n",
    "                theta=theta,\n",
    "                integrate_angle=integrate_angle,\n",
    "            )\n",
    "        )\n",
    "    )\n",
    ")\n",
    "the_plot.opts(\n",
    "    opts.HLine(line_color=\"black\", line_dash=\"dotted\"), opts.Curve(ylabel=variable, ylim=(0, None))\n",
    ")\n",
    "the_plot"
   ]
  },
  {
   "cell_type": "code",
   "execution_count": null,
   "id": "f3bc92c2-3a16-4677-a92f-914f79761d59",
   "metadata": {
    "tags": []
   },
   "outputs": [],
   "source": [
    "hv.save(\n",
    "    the_plot,\n",
    "    filename=fig_path\n",
    "    / f\"{variable}tot_DLOPC_period_comparison_D_elt{elt}_N{N}_th{th}\",\n",
    "    fmt=\"png\",\n",
    "    toolbar=False,\n",
    ")"
   ]
  },
  {
   "cell_type": "markdown",
   "id": "3f19628c-28a7-43bc-8077-4845307202aa",
   "metadata": {},
   "source": [
    "#### Integrated to 86"
   ]
  },
  {
   "cell_type": "code",
   "execution_count": null,
   "id": "92d59859-1407-4ec3-8cab-2d4fabaeb6ec",
   "metadata": {
    "tags": []
   },
   "outputs": [],
   "source": [
    "variable = \"R\"\n",
    "N = num_periods = 5\n",
    "wavelength = (480, 881)\n",
    "theta = 0\n",
    "integrate_angle = 86\n",
    "if integrate_angle:\n",
    "    th = f\"{theta}-{integrate_angle}\"\n",
    "else:\n",
    "    th = theta\n",
    "elt = excitonic_layer_thickness = 50\n",
    "color_cycle = default_color_cycle[len(restacked_stats_ds.period)]\n",
    "\n",
    "temp_stats_ds = (\n",
    "    restacked_stats_ds[f\"{variable}_mean\"].sel(num_periods=num_periods).squeeze()\n",
    ")\n",
    "the_plot = (\n",
    "    cross_section(\n",
    "        temp_stats_ds.sel(disorder_correlation=\"correlated\"),\n",
    "        wavelength=wavelength,\n",
    "        theta=theta,\n",
    "        integrate_angle=integrate_angle,\n",
    "    ).hvplot.line(x=\"delta\", by=\"period\", color=color_cycle, line_dash=\"dashed\")\n",
    "    * cross_section(\n",
    "        temp_stats_ds.sel(disorder_correlation=\"uncorrelated\"),\n",
    "        wavelength=wavelength,\n",
    "        theta=theta,\n",
    "        integrate_angle=integrate_angle,\n",
    "    ).hvplot.line(x=\"delta\", by=\"period\", color=color_cycle, line_dash=\"solid\")\n",
    "    * hv.HLine(\n",
    "        float(\n",
    "            cross_section(\n",
    "                crs_1[variable].sel(\n",
    "                    total_excitonic_thickness=num_periods * excitonic_layer_thickness,\n",
    "                ),\n",
    "                wavelength=wavelength,\n",
    "                theta=theta,\n",
    "                integrate_angle=integrate_angle,\n",
    "            )\n",
    "        )\n",
    "    )\n",
    ")\n",
    "the_plot.opts(\n",
    "    opts.HLine(line_color=\"black\", line_dash=\"dotted\", apply_ranges=True), opts.Curve(ylabel=variable, ylim=(None, 0.1))\n",
    ")\n",
    "the_plot"
   ]
  },
  {
   "cell_type": "code",
   "execution_count": null,
   "id": "179f6494-a3bc-4930-b3c1-226c5d4c32cc",
   "metadata": {
    "tags": []
   },
   "outputs": [],
   "source": [
    "hv.save(\n",
    "    the_plot,\n",
    "    filename=fig_path\n",
    "    / f\"{variable}tot_DLOPC_period_comparison_D_elt{elt}_N{N}_th{th}\",\n",
    "    fmt=\"png\",\n",
    "    toolbar=False,\n",
    ")"
   ]
  },
  {
   "cell_type": "code",
   "execution_count": null,
   "id": "fbe45e4a-6c36-4e99-bb19-7c3cc17b63ee",
   "metadata": {
    "tags": []
   },
   "outputs": [],
   "source": [
    "variable = \"R\"\n",
    "N = num_periods = 20\n",
    "wavelength = (480, 881)\n",
    "theta = 0\n",
    "integrate_angle = 86\n",
    "if integrate_angle:\n",
    "    th = f\"{theta}-{integrate_angle}\"\n",
    "else:\n",
    "    th = theta\n",
    "elt = excitonic_layer_thickness = 50\n",
    "color_cycle = default_color_cycle[len(restacked_stats_ds.period)]\n",
    "\n",
    "temp_stats_ds = (\n",
    "    restacked_stats_ds[f\"{variable}_mean\"].sel(num_periods=num_periods).squeeze()\n",
    ")\n",
    "the_plot = (\n",
    "    cross_section(\n",
    "        temp_stats_ds.sel(disorder_correlation=\"correlated\"),\n",
    "        wavelength=wavelength,\n",
    "        theta=theta,\n",
    "        integrate_angle=integrate_angle,\n",
    "    ).hvplot.line(x=\"delta\", by=\"period\", color=color_cycle, line_dash=\"dashed\")\n",
    "    * cross_section(\n",
    "        temp_stats_ds.sel(disorder_correlation=\"uncorrelated\"),\n",
    "        wavelength=wavelength,\n",
    "        theta=theta,\n",
    "        integrate_angle=integrate_angle,\n",
    "    ).hvplot.line(x=\"delta\", by=\"period\", color=color_cycle, line_dash=\"solid\")\n",
    "    * hv.HLine(\n",
    "        float(\n",
    "            cross_section(\n",
    "                crs_1[variable].sel(\n",
    "                    total_excitonic_thickness=num_periods * excitonic_layer_thickness,\n",
    "                ),\n",
    "                wavelength=wavelength,\n",
    "                theta=theta,\n",
    "                integrate_angle=integrate_angle,\n",
    "            )\n",
    "        )\n",
    "    )\n",
    ")\n",
    "the_plot.opts(\n",
    "    opts.HLine(line_color=\"black\", line_dash=\"dotted\"), opts.Curve(ylabel=variable, ylim=(0, None))\n",
    ")\n",
    "the_plot"
   ]
  },
  {
   "cell_type": "code",
   "execution_count": null,
   "id": "ae52f0c5-228f-40db-abb3-21d7f772be7b",
   "metadata": {
    "tags": []
   },
   "outputs": [],
   "source": [
    "hv.save(\n",
    "    the_plot,\n",
    "    filename=fig_path\n",
    "    / f\"{variable}tot_DLOPC_period_comparison_D_elt{elt}_N{N}_th{th}\",\n",
    "    fmt=\"png\",\n",
    "    toolbar=False,\n",
    ")"
   ]
  },
  {
   "cell_type": "code",
   "execution_count": null,
   "id": "999419d1-79b1-4a5c-8a1c-f121b2333ef8",
   "metadata": {
    "tags": []
   },
   "outputs": [],
   "source": [
    "variable = \"R\"\n",
    "N = num_periods = 50\n",
    "wavelength = (480, 881)\n",
    "theta = 0\n",
    "integrate_angle = 86\n",
    "if integrate_angle:\n",
    "    th = f\"{theta}-{integrate_angle}\"\n",
    "else:\n",
    "    th = theta\n",
    "elt = excitonic_layer_thickness = 50\n",
    "color_cycle = default_color_cycle[len(restacked_stats_ds.period)]\n",
    "\n",
    "temp_stats_ds = (\n",
    "    restacked_stats_ds[f\"{variable}_mean\"].sel(num_periods=num_periods).squeeze()\n",
    ")\n",
    "the_plot = (\n",
    "    cross_section(\n",
    "        temp_stats_ds.sel(disorder_correlation=\"correlated\"),\n",
    "        wavelength=wavelength,\n",
    "        theta=theta,\n",
    "        integrate_angle=integrate_angle,\n",
    "    ).hvplot.line(x=\"delta\", by=\"period\", color=color_cycle, line_dash=\"dashed\")\n",
    "    * cross_section(\n",
    "        temp_stats_ds.sel(disorder_correlation=\"uncorrelated\"),\n",
    "        wavelength=wavelength,\n",
    "        theta=theta,\n",
    "        integrate_angle=integrate_angle,\n",
    "    ).hvplot.line(x=\"delta\", by=\"period\", color=color_cycle, line_dash=\"solid\")\n",
    "    * hv.HLine(\n",
    "        float(\n",
    "            cross_section(\n",
    "                crs_1[variable].sel(\n",
    "                    total_excitonic_thickness=num_periods * excitonic_layer_thickness,\n",
    "                ),\n",
    "                wavelength=wavelength,\n",
    "                theta=theta,\n",
    "                integrate_angle=integrate_angle,\n",
    "            )\n",
    "        )\n",
    "    )\n",
    ")\n",
    "the_plot.opts(\n",
    "    opts.HLine(line_color=\"black\", line_dash=\"dotted\"), opts.Curve(ylabel=variable, ylim=(0, None))\n",
    ")\n",
    "the_plot"
   ]
  },
  {
   "cell_type": "code",
   "execution_count": null,
   "id": "92ff3433-fbf6-4949-abd6-42d39331fead",
   "metadata": {
    "tags": []
   },
   "outputs": [],
   "source": [
    "hv.save(\n",
    "    the_plot,\n",
    "    filename=fig_path\n",
    "    / f\"{variable}tot_DLOPC_period_comparison_D_elt{elt}_N{N}_th{th}\",\n",
    "    fmt=\"png\",\n",
    "    toolbar=False,\n",
    ")"
   ]
  },
  {
   "cell_type": "markdown",
   "id": "b77cc2e5-cf5a-4022-872a-ed32a7b14d93",
   "metadata": {
    "tags": []
   },
   "source": [
    "### Plots over theta"
   ]
  },
  {
   "cell_type": "markdown",
   "id": "d22f80ff-03e3-4138-8fc3-c2ee6beebbba",
   "metadata": {
    "jp-MarkdownHeadingCollapsed": true,
    "tags": []
   },
   "source": [
    "#### 2D plots"
   ]
  },
  {
   "cell_type": "code",
   "execution_count": null,
   "id": "f0e36d47-09ff-47b0-abd6-90c57cc87fc9",
   "metadata": {
    "tags": []
   },
   "outputs": [],
   "source": [
    "the_plot = integrate_da(\n",
    "    restacked_stats_ds[\"R_mean\"].sel(disorder_correlation=\"correlated\").squeeze(),\n",
    "    dim=[\"wavelength\"],\n",
    "    normalisation=1,\n",
    ").hvplot(\n",
    "    kind=\"quadmesh\",\n",
    "    x=\"delta\",\n",
    "    y=\"theta\",\n",
    "    row=\"period\",\n",
    "    col=\"num_periods\",\n",
    ")"
   ]
  },
  {
   "cell_type": "code",
   "execution_count": null,
   "id": "db4721f8-0ebf-40ca-ae6e-e820e38b49cc",
   "metadata": {
    "tags": []
   },
   "outputs": [],
   "source": [
    "the_plot.opts(opts.QuadMesh(cmap=\"viridis\", colorbar=False, clim=(0, 0.6)))\n",
    "the_plot[100].opts(opts.QuadMesh(colorbar=True, colorbar_position=\"left\"))\n",
    "the_plot"
   ]
  },
  {
   "cell_type": "code",
   "execution_count": null,
   "id": "99097d55-8417-4888-beac-6871da6aca7e",
   "metadata": {
    "tags": []
   },
   "outputs": [],
   "source": [
    "# the_plot = (\n",
    "#     restacked_stats_ds[\"R_mean\"].sel(disorder_correlation=\"correlated\", num_periods=20).squeeze()\n",
    "# ).hvplot(\n",
    "#     kind=\"quadmesh\",\n",
    "#     x=\"wavelength\",\n",
    "#     y=\"theta\",\n",
    "#     row=\"period\",\n",
    "#     col=\"delta\",\n",
    "# )"
   ]
  },
  {
   "cell_type": "code",
   "execution_count": null,
   "id": "8458ccea-3d8b-4a3b-84d6-ad2f9a1a48d2",
   "metadata": {
    "tags": []
   },
   "outputs": [],
   "source": [
    "# the_plot.opts(opts.QuadMesh(cmap=\"viridis\", colorbar=False))#, clim=(0, 0.6)))\n",
    "# the_plot[100].opts(opts.QuadMesh(colorbar=True, colorbar_position=\"left\"))\n",
    "# the_plot"
   ]
  },
  {
   "cell_type": "markdown",
   "id": "99ebfd1a-28d6-452f-8520-da0cb7b2e8dc",
   "metadata": {},
   "source": [
    "Period doesn't make much difference to the picture, so focus on N and D."
   ]
  },
  {
   "cell_type": "code",
   "execution_count": null,
   "id": "d4fbc3f1-711f-4228-8e07-0603bd8cfe69",
   "metadata": {
    "tags": []
   },
   "outputs": [],
   "source": [
    "deltas = [0, 0.1, 0.3, 0.5]\n",
    "P = period = 300\n",
    "variable = \"R\"\n",
    "disorder_correlation = \"uncorrelated\"\n",
    "excitonic_layer_thickness = 50\n",
    "elt = excitonic_layer_thickness = 50\n",
    "num_periods = [5, 10, 20, 50]\n",
    "disorder_code = disorder_correlation[0]\n",
    "\n",
    "the_plot = (\n",
    "    restacked_stats_ds[\"R_mean\"].sel(disorder_correlation=disorder_correlation, period=period, num_periods=num_periods, delta=deltas).squeeze()\n",
    ").hvplot(\n",
    "    kind=\"quadmesh\",\n",
    "    x=\"wavelength\",\n",
    "    y=\"theta\",\n",
    "    row=\"num_periods\",\n",
    "    col=\"delta\",\n",
    ") * lorentz_vlines(0, scale=1e-9)"
   ]
  },
  {
   "cell_type": "code",
   "execution_count": null,
   "id": "d12911ae-29fa-4db5-8a2e-8567794378de",
   "metadata": {
    "tags": []
   },
   "outputs": [],
   "source": [
    "the_plot.opts(opts.QuadMesh(cmap=\"viridis\", colorbar=False, clim=(0, 1), xticks=2, yticks=[0, 40, 80]), opts.VLine(color=\"white\", line_dash=\"dotted\"))\n",
    "the_plot[5].opts(opts.QuadMesh(colorbar=True, colorbar_position=\"left\"))\n",
    "the_plot"
   ]
  },
  {
   "cell_type": "code",
   "execution_count": null,
   "id": "3663d4fb-d584-4b1b-818c-403d970bc8e0",
   "metadata": {
    "tags": []
   },
   "outputs": [],
   "source": [
    "hv.save(the_plot, filename=fig_path/f\"R_DLOPC_2D_wl_th_grid_N_D{disorder_code}_P{P}_elt{elt}_avg\", fmt=\"png\", toolbar=False)"
   ]
  },
  {
   "cell_type": "code",
   "execution_count": null,
   "id": "9dda4cb1-a1fe-45f5-a6c3-684884f434b7",
   "metadata": {
    "tags": []
   },
   "outputs": [],
   "source": [
    "deltas = [0.1, 0.3, 0.5, 1]\n",
    "P = period = 300\n",
    "variable = \"R\"\n",
    "disorder_correlation = \"correlated\"\n",
    "excitonic_layer_thickness = 50\n",
    "elt = excitonic_layer_thickness = 50\n",
    "num_periods = [5, 10, 20, 50]\n",
    "run = 0\n",
    "disorder_code = disorder_correlation[0]\n",
    "\n",
    "the_plot = (\n",
    "    restacked_stats_ds[\"R_mean\"].sel(disorder_correlation=disorder_correlation, period=period, num_periods=num_periods, delta=deltas).squeeze()\n",
    ").hvplot(\n",
    "    kind=\"quadmesh\",\n",
    "    x=\"wavelength\",\n",
    "    y=\"theta\",\n",
    "    row=\"num_periods\",\n",
    "    col=\"delta\",\n",
    ") * lorentz_vlines(0, scale=1e-9)"
   ]
  },
  {
   "cell_type": "code",
   "execution_count": null,
   "id": "5993694b-8938-467c-bb75-0ddb0ae04aba",
   "metadata": {
    "tags": []
   },
   "outputs": [],
   "source": [
    "the_plot.opts(opts.QuadMesh(cmap=\"viridis\", colorbar=False, clim=(0, 1), xticks=2, yticks=[0, 40, 80]), opts.VLine(color=\"white\", line_dash=\"dotted\"))\n",
    "the_plot[5].opts(opts.QuadMesh(colorbar=True, colorbar_position=\"left\"))\n",
    "the_plot"
   ]
  },
  {
   "cell_type": "code",
   "execution_count": null,
   "id": "8f729fcc-cdba-4064-878d-0908268d58d3",
   "metadata": {
    "tags": []
   },
   "outputs": [],
   "source": [
    "hv.save(the_plot, filename=fig_path/f\"R_DLOPC_2D_wl_th_grid_N_D{disorder_code}_P{P}_elt{elt}_avg\", fmt=\"png\", toolbar=False)"
   ]
  },
  {
   "cell_type": "markdown",
   "id": "da390ffd-df03-43e9-9d21-1e1de7d54b66",
   "metadata": {},
   "source": [
    "Interesting. Singles?"
   ]
  },
  {
   "cell_type": "code",
   "execution_count": null,
   "id": "3a62d325-063b-4211-a484-dc2f816a364f",
   "metadata": {
    "tags": []
   },
   "outputs": [],
   "source": [
    "deltas = [0, 0.1, 0.3, 0.5]\n",
    "P = period = 300\n",
    "variable = \"R\"\n",
    "disorder_correlation = \"uncorrelated\"\n",
    "excitonic_layer_thickness = 50\n",
    "elt = excitonic_layer_thickness = 50\n",
    "num_periods = [5, 10, 20, 50]\n",
    "run = 0\n",
    "disorder_code = disorder_correlation[0]\n",
    "\n",
    "the_plot = (\n",
    "    restacked_sds[\"R\"].sel(run=run, disorder_correlation=disorder_correlation, period=period, num_periods=num_periods, delta=deltas).squeeze()\n",
    ").hvplot(\n",
    "    kind=\"quadmesh\",\n",
    "    x=\"wavelength\",\n",
    "    y=\"theta\",\n",
    "    row=\"num_periods\",\n",
    "    col=\"delta\",\n",
    ") * lorentz_vlines(0, scale=1e-9)"
   ]
  },
  {
   "cell_type": "code",
   "execution_count": null,
   "id": "3864686b-2813-43ab-8e51-7d7e8c660423",
   "metadata": {
    "tags": []
   },
   "outputs": [],
   "source": [
    "the_plot.opts(opts.QuadMesh(cmap=\"viridis\", colorbar=False, clim=(0, 1), xticks=2, yticks=[0, 40, 80]), opts.VLine(color=\"white\", line_dash=\"dotted\"))\n",
    "the_plot[5].opts(opts.QuadMesh(colorbar=True, colorbar_position=\"left\"))\n",
    "the_plot"
   ]
  },
  {
   "cell_type": "code",
   "execution_count": null,
   "id": "04f3792c-fe98-4dbc-8851-cf470fa6bb10",
   "metadata": {
    "tags": []
   },
   "outputs": [],
   "source": [
    "hv.save(the_plot, filename=fig_path/f\"R_DLOPC_2D_wl_th_grid_N_D{disorder_code}_P{P}_elt{elt}_r{run}\", fmt=\"png\", toolbar=False)"
   ]
  },
  {
   "cell_type": "code",
   "execution_count": null,
   "id": "d83c1f1a-93ab-4541-8f47-810cdaafaac0",
   "metadata": {
    "tags": []
   },
   "outputs": [],
   "source": [
    "deltas = [0.1, 0.3, 0.5, 1]\n",
    "P = period = 300\n",
    "variable = \"R\"\n",
    "disorder_correlation = \"correlated\"\n",
    "excitonic_layer_thickness = 50\n",
    "elt = excitonic_layer_thickness = 50\n",
    "num_periods = [5, 10, 20, 50]\n",
    "run = 0\n",
    "disorder_code = disorder_correlation[0]\n",
    "\n",
    "the_plot = (\n",
    "    restacked_sds[\"R\"].sel(run=run, disorder_correlation=disorder_correlation, period=period, num_periods=num_periods, delta=deltas).squeeze()\n",
    ").hvplot(\n",
    "    kind=\"quadmesh\",\n",
    "    x=\"wavelength\",\n",
    "    y=\"theta\",\n",
    "    row=\"num_periods\",\n",
    "    col=\"delta\",\n",
    ") * lorentz_vlines(0, scale=1e-9)"
   ]
  },
  {
   "cell_type": "code",
   "execution_count": null,
   "id": "95f3632b-1f96-46be-a9b3-302dca208ac7",
   "metadata": {
    "tags": []
   },
   "outputs": [],
   "source": [
    "the_plot.opts(opts.QuadMesh(cmap=\"viridis\", colorbar=False, clim=(0, 1), xticks=2, yticks=[0, 40, 80]), opts.VLine(color=\"white\", line_dash=\"dotted\"))\n",
    "the_plot[5].opts(opts.QuadMesh(colorbar=True, colorbar_position=\"left\"))\n",
    "the_plot"
   ]
  },
  {
   "cell_type": "code",
   "execution_count": null,
   "id": "8c1dcf32-3e64-48e1-a91b-9dcdd9b5f4e7",
   "metadata": {
    "tags": []
   },
   "outputs": [],
   "source": [
    "hv.save(the_plot, filename=fig_path/f\"R_DLOPC_2D_wl_th_grid_N_D{disorder_code}_P{P}_elt{elt}_r{run}\", fmt=\"png\", toolbar=False)"
   ]
  },
  {
   "cell_type": "markdown",
   "id": "d2c9b578-6303-4bee-80da-72c30ddc1c10",
   "metadata": {
    "jp-MarkdownHeadingCollapsed": true,
    "tags": []
   },
   "source": [
    " #### 1D plots"
   ]
  },
  {
   "cell_type": "code",
   "execution_count": null,
   "id": "9162358d-8dcb-4987-96ac-f415c8093cf5",
   "metadata": {
    "tags": []
   },
   "outputs": [],
   "source": [
    "variable = \"R\"\n",
    "disorder_correlation = \"correlated\"\n",
    "N = num_periods = 20\n",
    "P = period = 300\n",
    "deltas = [0, 0.1, 0.3, 0.5, 1]\n",
    "theta = None\n",
    "elt = excitonic_layer_thickness = 50\n",
    "disorder_code = disorder_correlation[0]\n",
    "\n",
    "the_plot = compare_integrated_stats(\n",
    "    variable=variable,\n",
    "    disorder_correlation=disorder_correlation,\n",
    "    num_periods=num_periods,\n",
    "    period=period,\n",
    "    delta=deltas,\n",
    "    wavelength=(480, 881),\n",
    "    theta=None,\n",
    "    kind=\"line\",\n",
    "    x=\"theta\",\n",
    "    by=\"delta\"\n",
    ")\n",
    "the_plot.opts(opts.Curve(ylim=(0,None)))"
   ]
  },
  {
   "cell_type": "code",
   "execution_count": null,
   "id": "eb6f1b53-1006-47af-88f0-fa3fcbfd5909",
   "metadata": {
    "tags": []
   },
   "outputs": [],
   "source": [
    "hv.save(the_plot, filename=fig_path/f\"{variable}tot_DLOPC_delta_comparison_th_P{P}_elt{elt}_N{N}_D{disorder_code}\", fmt=\"png\", toolbar=False)"
   ]
  },
  {
   "cell_type": "code",
   "execution_count": null,
   "id": "413782ab-3780-4a0a-b706-829534659cf8",
   "metadata": {
    "tags": []
   },
   "outputs": [],
   "source": [
    "the_plot.opts(opts.Curve(xlim=(0, 45), ylim=(0, 0.12)))"
   ]
  },
  {
   "cell_type": "code",
   "execution_count": null,
   "id": "a40f735f-08ca-46ca-9a54-69bfe1092c09",
   "metadata": {
    "tags": []
   },
   "outputs": [],
   "source": [
    "hv.save(the_plot, filename=fig_path/f\"{variable}tot_DLOPC_delta_comparison_th0-45_P{P}_elt{elt}_N{N}_D{disorder_code}\", fmt=\"png\", toolbar=False)"
   ]
  },
  {
   "cell_type": "code",
   "execution_count": null,
   "id": "cd889e0c-bf25-4a2f-a797-160fa7eb2f64",
   "metadata": {
    "tags": []
   },
   "outputs": [],
   "source": [
    "variable = \"R\"\n",
    "disorder_correlation = \"correlated\"\n",
    "N = num_periods = 50\n",
    "P = period = 300\n",
    "deltas = [0, 0.1, 0.3, 0.5, 1]\n",
    "theta = None\n",
    "elt = excitonic_layer_thickness = 50\n",
    "disorder_code = disorder_correlation[0]\n",
    "\n",
    "the_plot = compare_integrated_stats(\n",
    "    variable=variable,\n",
    "    disorder_correlation=disorder_correlation,\n",
    "    num_periods=num_periods,\n",
    "    period=period,\n",
    "    delta=deltas,\n",
    "    wavelength=(480, 881),\n",
    "    theta=None,\n",
    "    kind=\"line\",\n",
    "    x=\"theta\",\n",
    "    by=\"delta\"\n",
    ")\n",
    "the_plot.opts(opts.Curve(ylim=(0,None)))"
   ]
  },
  {
   "cell_type": "code",
   "execution_count": null,
   "id": "054681fd-2b2a-45f7-973b-671263ab412a",
   "metadata": {
    "tags": []
   },
   "outputs": [],
   "source": [
    "hv.save(the_plot, filename=fig_path/f\"{variable}tot_DLOPC_delta_comparison_th_P{P}_elt{elt}_N{N}_D{disorder_code}\", fmt=\"png\", toolbar=False)"
   ]
  },
  {
   "cell_type": "code",
   "execution_count": null,
   "id": "4261c57f-220d-4cb6-9b0f-04315ecc7e35",
   "metadata": {
    "tags": []
   },
   "outputs": [],
   "source": [
    "the_plot.opts(opts.Curve(xlim=(0, 45), ylim=(0, 0.18)))"
   ]
  },
  {
   "cell_type": "code",
   "execution_count": null,
   "id": "aeaf7abc-e353-4b94-9add-4e31b8f23a8f",
   "metadata": {
    "tags": []
   },
   "outputs": [],
   "source": [
    "hv.save(the_plot, filename=fig_path/f\"{variable}tot_DLOPC_delta_comparison_th0-45_P{P}_elt{elt}_N{N}_D{disorder_code}\", fmt=\"png\", toolbar=False)"
   ]
  },
  {
   "cell_type": "code",
   "execution_count": null,
   "id": "56b17841-f6cc-4f26-bf8f-df20850ecbfa",
   "metadata": {
    "tags": []
   },
   "outputs": [],
   "source": [
    "variable = \"R\"\n",
    "disorder_correlation = \"uncorrelated\"\n",
    "N = num_periods = 20\n",
    "P = period = 300\n",
    "deltas = [0, 0.1, 0.3, 0.5]\n",
    "theta = None\n",
    "elt = excitonic_layer_thickness = 50\n",
    "disorder_code = disorder_correlation[0]\n",
    "\n",
    "the_plot = compare_integrated_stats(\n",
    "    variable=variable,\n",
    "    disorder_correlation=disorder_correlation,\n",
    "    num_periods=num_periods,\n",
    "    period=period,\n",
    "    delta=deltas,\n",
    "    wavelength=(480, 881),\n",
    "    theta=None,\n",
    "    kind=\"line\",\n",
    "    x=\"theta\",\n",
    "    by=\"delta\"\n",
    ")\n",
    "the_plot.opts(opts.Curve(ylim=(0,None)))"
   ]
  },
  {
   "cell_type": "code",
   "execution_count": null,
   "id": "7253eb94-304a-49b0-842a-16aed220b2c8",
   "metadata": {
    "tags": []
   },
   "outputs": [],
   "source": [
    "hv.save(the_plot, filename=fig_path/f\"{variable}tot_DLOPC_delta_comparison_th_P{P}_elt{elt}_N{N}_D{disorder_code}\", fmt=\"png\", toolbar=False)"
   ]
  },
  {
   "cell_type": "code",
   "execution_count": null,
   "id": "01cea000-0bc1-4948-b137-0e03771594dd",
   "metadata": {
    "tags": []
   },
   "outputs": [],
   "source": [
    "the_plot.opts(opts.Curve(xlim=(0, 45), ylim=(0, 0.12)))"
   ]
  },
  {
   "cell_type": "code",
   "execution_count": null,
   "id": "d3e9af34-1e62-4ed1-a2d9-88b08530ff33",
   "metadata": {
    "tags": []
   },
   "outputs": [],
   "source": [
    "hv.save(the_plot, filename=fig_path/f\"{variable}tot_DLOPC_delta_comparison_th0-45_P{P}_elt{elt}_N{N}_D{disorder_code}\", fmt=\"png\", toolbar=False)"
   ]
  },
  {
   "cell_type": "code",
   "execution_count": null,
   "id": "9aba089d-8001-4cce-95eb-0bf63a0aa5e4",
   "metadata": {
    "tags": []
   },
   "outputs": [],
   "source": [
    "variable = \"R\"\n",
    "disorder_correlation = \"uncorrelated\"\n",
    "N = num_periods = 50\n",
    "P = period = 300\n",
    "deltas = [0, 0.1, 0.3, 0.5]\n",
    "theta = None\n",
    "elt = excitonic_layer_thickness = 50\n",
    "disorder_code = disorder_correlation[0]\n",
    "\n",
    "the_plot = compare_integrated_stats(\n",
    "    variable=variable,\n",
    "    disorder_correlation=disorder_correlation,\n",
    "    num_periods=num_periods,\n",
    "    period=period,\n",
    "    delta=deltas,\n",
    "    wavelength=(480, 881),\n",
    "    theta=None,\n",
    "    kind=\"line\",\n",
    "    x=\"theta\",\n",
    "    by=\"delta\"\n",
    ")\n",
    "the_plot.opts(opts.Curve(ylim=(0,None)))"
   ]
  },
  {
   "cell_type": "code",
   "execution_count": null,
   "id": "c75d8876-a2b8-466b-a6e1-1b17970360df",
   "metadata": {
    "tags": []
   },
   "outputs": [],
   "source": [
    "hv.save(the_plot, filename=fig_path/f\"{variable}tot_DLOPC_delta_comparison_th_P{P}_elt{elt}_N{N}_D{disorder_code}\", fmt=\"png\", toolbar=False)"
   ]
  },
  {
   "cell_type": "code",
   "execution_count": null,
   "id": "667d1aa1-e1d2-47b3-a041-244490d846f7",
   "metadata": {
    "tags": []
   },
   "outputs": [],
   "source": [
    "the_plot.opts(opts.Curve(xlim=(0, 45), ylim=(0, 0.18)))"
   ]
  },
  {
   "cell_type": "code",
   "execution_count": null,
   "id": "6a28bf1b-0cb0-4ec2-8ebc-7e3c7ab8f2a6",
   "metadata": {
    "tags": []
   },
   "outputs": [],
   "source": [
    "hv.save(the_plot, filename=fig_path/f\"{variable}tot_DLOPC_delta_comparison_th0-45_P{P}_elt{elt}_N{N}_D{disorder_code}\", fmt=\"png\", toolbar=False)"
   ]
  },
  {
   "cell_type": "markdown",
   "id": "3576c0e4-7d86-45da-b93f-c274c3de44cc",
   "metadata": {},
   "source": [
    "Interesting behaviour at P=250."
   ]
  },
  {
   "cell_type": "code",
   "execution_count": null,
   "id": "280b8de4-fdbc-43fe-be0e-6fe3e6bb46b6",
   "metadata": {
    "tags": []
   },
   "outputs": [],
   "source": [
    "variable = \"R\"\n",
    "disorder_correlation = \"correlated\"\n",
    "N = num_periods = 20\n",
    "P = period = 250\n",
    "deltas = [0, 0.1, 0.3, 0.5, 1]\n",
    "theta = None\n",
    "elt = excitonic_layer_thickness = 50\n",
    "disorder_code = disorder_correlation[0]\n",
    "\n",
    "the_plot = compare_integrated_stats(\n",
    "    variable=variable,\n",
    "    disorder_correlation=disorder_correlation,\n",
    "    num_periods=num_periods,\n",
    "    period=period,\n",
    "    delta=deltas,\n",
    "    wavelength=(480, 881),\n",
    "    theta=None,\n",
    "    kind=\"line\",\n",
    "    x=\"theta\",\n",
    "    by=\"delta\"\n",
    ")\n",
    "the_plot.opts(opts.Curve(ylim=(0,None)))"
   ]
  },
  {
   "cell_type": "code",
   "execution_count": null,
   "id": "701ca5ad-3efe-46dd-a47e-4e30a6c63d84",
   "metadata": {
    "tags": []
   },
   "outputs": [],
   "source": [
    "hv.save(the_plot, filename=fig_path/f\"{variable}tot_DLOPC_delta_comparison_th_P{P}_elt{elt}_N{N}_D{disorder_code}\", fmt=\"png\", toolbar=False)"
   ]
  },
  {
   "cell_type": "code",
   "execution_count": null,
   "id": "d0a8b2ef-81a9-46d4-94f8-f94fb59ab6cc",
   "metadata": {
    "tags": []
   },
   "outputs": [],
   "source": [
    "the_plot.opts(opts.Curve(xlim=(0, 45), ylim=(0, 0.1)))"
   ]
  },
  {
   "cell_type": "code",
   "execution_count": null,
   "id": "7950f613-9428-426a-9373-5687af0c0bde",
   "metadata": {
    "tags": []
   },
   "outputs": [],
   "source": [
    "hv.save(the_plot, filename=fig_path/f\"{variable}tot_DLOPC_delta_comparison_th0-45_P{P}_elt{elt}_N{N}_D{disorder_code}\", fmt=\"png\", toolbar=False)"
   ]
  },
  {
   "cell_type": "code",
   "execution_count": null,
   "id": "bc403d11-91ee-4c92-9fa3-670dec251bba",
   "metadata": {
    "tags": []
   },
   "outputs": [],
   "source": [
    "variable = \"R\"\n",
    "disorder_correlation = \"uncorrelated\"\n",
    "N = num_periods = 20\n",
    "P = period = 250\n",
    "deltas = [0, 0.1, 0.3, 0.5]\n",
    "theta = None\n",
    "elt = excitonic_layer_thickness = 50\n",
    "disorder_code = disorder_correlation[0]\n",
    "\n",
    "the_plot = compare_integrated_stats(\n",
    "    variable=variable,\n",
    "    disorder_correlation=disorder_correlation,\n",
    "    num_periods=num_periods,\n",
    "    period=period,\n",
    "    delta=deltas,\n",
    "    wavelength=(480, 881),\n",
    "    theta=None,\n",
    "    kind=\"line\",\n",
    "    x=\"theta\",\n",
    "    by=\"delta\"\n",
    ")\n",
    "the_plot.opts(opts.Curve(ylim=(0,None)))"
   ]
  },
  {
   "cell_type": "code",
   "execution_count": null,
   "id": "86297f39-f279-4f4f-b61e-8971d0d6d5d6",
   "metadata": {
    "tags": []
   },
   "outputs": [],
   "source": [
    "hv.save(the_plot, filename=fig_path/f\"{variable}tot_DLOPC_delta_comparison_th_P{P}_elt{elt}_N{N}_D{disorder_code}\", fmt=\"png\", toolbar=False)"
   ]
  },
  {
   "cell_type": "code",
   "execution_count": null,
   "id": "29cfd0cf-e93d-4de8-b129-db0ce912a307",
   "metadata": {
    "tags": []
   },
   "outputs": [],
   "source": [
    "the_plot.opts(opts.Curve(xlim=(0, 45), ylim=(0, 0.1)))"
   ]
  },
  {
   "cell_type": "code",
   "execution_count": null,
   "id": "b6119eb6-38ba-4ecd-b7b0-71a11c581e51",
   "metadata": {
    "tags": []
   },
   "outputs": [],
   "source": [
    "hv.save(the_plot, filename=fig_path/f\"{variable}tot_DLOPC_delta_comparison_th0-45_P{P}_elt{elt}_N{N}_D{disorder_code}\", fmt=\"png\", toolbar=False)"
   ]
  },
  {
   "cell_type": "markdown",
   "id": "36e02143-4afd-4aa5-91ae-22da6567fe79",
   "metadata": {},
   "source": [
    "What about P=200?"
   ]
  },
  {
   "cell_type": "code",
   "execution_count": null,
   "id": "535a3fda-5807-4638-bc10-6077b291d340",
   "metadata": {
    "tags": []
   },
   "outputs": [],
   "source": [
    "variable = \"R\"\n",
    "disorder_correlation = \"correlated\"\n",
    "N = num_periods = 20\n",
    "P = period = 200\n",
    "deltas = [0, 0.1, 0.3, 0.5, 1]\n",
    "theta = None\n",
    "elt = excitonic_layer_thickness = 50\n",
    "disorder_code = disorder_correlation[0]\n",
    "\n",
    "the_plot = compare_integrated_stats(\n",
    "    variable=variable,\n",
    "    disorder_correlation=disorder_correlation,\n",
    "    num_periods=num_periods,\n",
    "    period=period,\n",
    "    delta=deltas,\n",
    "    wavelength=(480, 881),\n",
    "    theta=None,\n",
    "    kind=\"line\",\n",
    "    x=\"theta\",\n",
    "    by=\"delta\"\n",
    ")\n",
    "the_plot.opts(opts.Curve(ylim=(0,None)))"
   ]
  },
  {
   "cell_type": "code",
   "execution_count": null,
   "id": "17fdf555-b188-4d4e-90f6-9edaf58b51be",
   "metadata": {
    "tags": []
   },
   "outputs": [],
   "source": [
    "hv.save(the_plot, filename=fig_path/f\"{variable}tot_DLOPC_delta_comparison_th_P{P}_elt{elt}_N{N}_D{disorder_code}\", fmt=\"png\", toolbar=False)"
   ]
  },
  {
   "cell_type": "code",
   "execution_count": null,
   "id": "d0edcdff-9367-4bb3-b8ac-cba6302afc04",
   "metadata": {
    "tags": []
   },
   "outputs": [],
   "source": [
    "the_plot.opts(opts.Curve(xlim=(0, 45), ylim=(0, 0.07)))"
   ]
  },
  {
   "cell_type": "code",
   "execution_count": null,
   "id": "b6f45884-b9de-41fc-a6ef-3ac4d406f179",
   "metadata": {
    "tags": []
   },
   "outputs": [],
   "source": [
    "hv.save(the_plot, filename=fig_path/f\"{variable}tot_DLOPC_delta_comparison_th0-45_P{P}_elt{elt}_N{N}_D{disorder_code}\", fmt=\"png\", toolbar=False)"
   ]
  },
  {
   "cell_type": "code",
   "execution_count": null,
   "id": "76a7a15c-21ab-47ef-9157-26559d7880a3",
   "metadata": {
    "tags": []
   },
   "outputs": [],
   "source": [
    "variable = \"R\"\n",
    "disorder_correlation = \"uncorrelated\"\n",
    "N = num_periods = 20\n",
    "P = period = 200\n",
    "deltas = [0, 0.1, 0.3, 0.5]\n",
    "theta = None\n",
    "elt = excitonic_layer_thickness = 50\n",
    "disorder_code = disorder_correlation[0]\n",
    "\n",
    "the_plot = compare_integrated_stats(\n",
    "    variable=variable,\n",
    "    disorder_correlation=disorder_correlation,\n",
    "    num_periods=num_periods,\n",
    "    period=period,\n",
    "    delta=deltas,\n",
    "    wavelength=(480, 881),\n",
    "    theta=None,\n",
    "    kind=\"line\",\n",
    "    x=\"theta\",\n",
    "    by=\"delta\"\n",
    ")\n",
    "the_plot.opts(opts.Curve(ylim=(0,None)))"
   ]
  },
  {
   "cell_type": "code",
   "execution_count": null,
   "id": "c105c3e0-b7c0-4a38-9e9a-b8cb4b636ad3",
   "metadata": {
    "tags": []
   },
   "outputs": [],
   "source": [
    "hv.save(the_plot, filename=fig_path/f\"{variable}tot_DLOPC_delta_comparison_th_P{P}_elt{elt}_N{N}_D{disorder_code}\", fmt=\"png\", toolbar=False)"
   ]
  },
  {
   "cell_type": "code",
   "execution_count": null,
   "id": "4fca8ead-a123-4f07-96f6-dd275e064113",
   "metadata": {
    "tags": []
   },
   "outputs": [],
   "source": [
    "the_plot.opts(opts.Curve(xlim=(0, 45), ylim=(0, 0.07)))"
   ]
  },
  {
   "cell_type": "code",
   "execution_count": null,
   "id": "9c10e39c-25d6-4a6d-b121-ccfdc1cedba3",
   "metadata": {
    "tags": []
   },
   "outputs": [],
   "source": [
    "hv.save(the_plot, filename=fig_path/f\"{variable}tot_DLOPC_delta_comparison_th0-45_P{P}_elt{elt}_N{N}_D{disorder_code}\", fmt=\"png\", toolbar=False)"
   ]
  },
  {
   "cell_type": "markdown",
   "id": "4c4ceea6-073e-46c7-8eb9-d19a81c96c5b",
   "metadata": {},
   "source": [
    "End of section"
   ]
  },
  {
   "cell_type": "code",
   "execution_count": null,
   "id": "94896866-43e5-4295-9016-c561d9bba4c7",
   "metadata": {
    "tags": []
   },
   "outputs": [],
   "source": [
    "the_plot = integrate_da(\n",
    "    restacked_stats_ds[\"R_mean\"].sel(disorder_correlation=\"correlated\").sel(theta=slice(0, 45)).squeeze(),\n",
    "    dim=[\"wavelength\", \"theta\"],\n",
    "    normalisation=1,\n",
    ").hvplot(\n",
    "    kind=\"quadmesh\",\n",
    "    x=\"delta\",\n",
    "    y=\"num_periods\",\n",
    "    row=\"period\",\n",
    "    # col=\"disorder_correlation\",\n",
    ")"
   ]
  },
  {
   "cell_type": "code",
   "execution_count": null,
   "id": "e18431b1-57f8-4968-a025-573e785360bd",
   "metadata": {
    "tags": []
   },
   "outputs": [],
   "source": [
    "the_plot.opts(opts.QuadMesh(cmap=\"viridis\", colorbar=False, clim=(0.02, 0.135)))\n",
    "the_plot[100].opts(opts.QuadMesh(colorbar=True, colorbar_position=\"left\"))\n",
    "the_plot"
   ]
  },
  {
   "cell_type": "code",
   "execution_count": null,
   "id": "c5b3dad6-f295-4756-b273-748edd19736e",
   "metadata": {
    "tags": []
   },
   "outputs": [],
   "source": [
    "the_plot = integrate_da(\n",
    "    restacked_stats_ds[\"R_mean\"]\n",
    "    .sel(disorder_correlation=\"uncorrelated\")\n",
    "    .sel(delta=slice(0, 0.5))\n",
    "    .squeeze(),\n",
    "    dim=[\"wavelength\", \"theta\"],\n",
    "    normalisation=1,\n",
    ").hvplot(\n",
    "    kind=\"quadmesh\",\n",
    "    x=\"delta\",\n",
    "    y=\"num_periods\",\n",
    "    row=\"period\",\n",
    "    # col=\"disorder_correlation\",\n",
    ")"
   ]
  },
  {
   "cell_type": "code",
   "execution_count": null,
   "id": "056dfec6-ea22-45eb-9c0f-ecdc6e2048d1",
   "metadata": {
    "tags": []
   },
   "outputs": [],
   "source": [
    "the_plot.opts(opts.QuadMesh(cmap=\"viridis\", colorbar=False, clim=(0.02, 0.125)))\n",
    "the_plot[100].opts(opts.QuadMesh(colorbar=True, colorbar_position=\"left\"))\n",
    "the_plot"
   ]
  },
  {
   "cell_type": "code",
   "execution_count": null,
   "id": "663163e4-d450-4106-8a00-49adb90fb404",
   "metadata": {
    "tags": []
   },
   "outputs": [],
   "source": [
    "the_plot = integrate_da(\n",
    "    restacked_stats_ds[\"R_mean\"].sel(disorder_correlation=\"uncorrelated\").sel(delta=slice(0,0.5), theta=slice(0, 45)).squeeze(),\n",
    "    dim=[\"wavelength\", \"theta\"],\n",
    "    normalisation=1,\n",
    ").hvplot(\n",
    "    kind=\"quadmesh\",\n",
    "    x=\"delta\",\n",
    "    y=\"num_periods\",\n",
    "    row=\"period\",\n",
    "    # col=\"disorder_correlation\",\n",
    ")"
   ]
  },
  {
   "cell_type": "code",
   "execution_count": null,
   "id": "8df2db6d-8d32-4854-b6f5-99d41a8f36f1",
   "metadata": {
    "tags": []
   },
   "outputs": [],
   "source": [
    "the_plot.opts(opts.QuadMesh(cmap=\"viridis\", colorbar=False, clim=(0.02, 0.135)))\n",
    "the_plot[100].opts(opts.QuadMesh(colorbar=True, colorbar_position=\"left\"))\n",
    "the_plot"
   ]
  },
  {
   "cell_type": "markdown",
   "id": "a0126d4a-c5ae-472d-ae00-ba9ce0ef3503",
   "metadata": {
    "jp-MarkdownHeadingCollapsed": true,
    "tags": []
   },
   "source": [
    "### Is reflectance near the LO resonance easier to disrupt?"
   ]
  },
  {
   "cell_type": "code",
   "execution_count": null,
   "id": "8b9e58e6-0ee6-4dcb-87b7-5f1bcba8dc97",
   "metadata": {
    "tags": []
   },
   "outputs": [],
   "source": [
    "variable = \"R\"\n",
    "periods = [200, 250, 300]\n",
    "wavelength = slice(None, None)\n",
    "theta = 0\n",
    "integrate_angle = None\n",
    "elt = excitonic_layer_thickness = 50\n",
    "disorder_correlation = \"correlated\"\n",
    "disorder_code = disorder_correlation[0]\n",
    "\n",
    "match disorder_correlation:\n",
    "    case \"uncorrelated\":\n",
    "        deltas = [0, 0.1, 0.3, 0.5]\n",
    "    case \"correlated\":\n",
    "        deltas = [0.1, 0.3, 0.5, 1]\n",
    "\n",
    "if \"per_oscillator\" in variable:\n",
    "    var_code = variable[0] + \"po\"\n",
    "else:\n",
    "    var_code = variable\n",
    "if integrate_angle:\n",
    "    th = f\"{theta}-{integrate_angle}\"\n",
    "else:\n",
    "    th = theta\n",
    "match variable[0]:\n",
    "    case \"R\":\n",
    "        cmap = \"viridis\"\n",
    "    case \"T\":\n",
    "        cmap = \"cividis\"\n",
    "    case \"A\":\n",
    "        cmap = \"inferno\"\n",
    "\n",
    "\n",
    "temp_da = cross_section(\n",
    "    restacked_stats_ds.sel(period=periods, disorder_correlation=disorder_correlation, delta=deltas),\n",
    "    variable=f\"{variable}_mean\",\n",
    "    wavelength=wavelength,\n",
    "    theta=theta,\n",
    "    integrate_angle=integrate_angle,\n",
    ").squeeze()\n",
    "\n",
    "the_plot = temp_da.hvplot(\n",
    "    kind=\"quadmesh\", x=\"wavelength\", y=\"num_periods\", row=\"period\", col=\"delta\", cmap=cmap\n",
    ")"
   ]
  },
  {
   "cell_type": "code",
   "execution_count": null,
   "id": "dd19795d-7280-47e5-9e53-d56f06d73d61",
   "metadata": {
    "tags": []
   },
   "outputs": [],
   "source": [
    "the_plot = the_plot.redim(period=period_dim)\n",
    "the_plot.opts(opts.QuadMesh(cmap=\"viridis\", colorbar=False, clim=(None, None)))\n",
    "the_plot[200].opts(opts.QuadMesh(colorbar=True, colorbar_position=\"left\"))\n",
    "the_plot"
   ]
  },
  {
   "cell_type": "code",
   "execution_count": null,
   "id": "e3c456c9-1bbf-4fba-ab0f-e9c65746a79f",
   "metadata": {
    "tags": []
   },
   "outputs": [],
   "source": [
    "hv.save(the_plot, filename=fig_path/f\"{variable}_DLOPC_2D_wl_N_grid_P_D{disorder_code}_elt{elt}_th{th}_avg\", fmt=\"png\", toolbar=False)"
   ]
  },
  {
   "cell_type": "code",
   "execution_count": null,
   "id": "bd97f02b-8c4a-497b-b938-888350ee57c8",
   "metadata": {
    "tags": []
   },
   "outputs": [],
   "source": [
    "variable = \"R\"\n",
    "periods = [200, 250, 300]\n",
    "wavelength = slice(None, None)\n",
    "theta = None\n",
    "integrate_angle = None\n",
    "N = num_periods = 20\n",
    "elt = excitonic_layer_thickness = 50\n",
    "disorder_correlation = \"correlated\"\n",
    "disorder_code = disorder_correlation[0]\n",
    "\n",
    "match disorder_correlation:\n",
    "    case \"uncorrelated\":\n",
    "        deltas = [0, 0.1, 0.3, 0.5]\n",
    "    case \"correlated\":\n",
    "        deltas = [0.1, 0.3, 0.5, 1]\n",
    "\n",
    "if \"per_oscillator\" in variable:\n",
    "    var_code = variable[0] + \"po\"\n",
    "else:\n",
    "    var_code = variable\n",
    "if integrate_angle:\n",
    "    th = f\"{theta}-{integrate_angle}\"\n",
    "else:\n",
    "    th = theta\n",
    "match variable[0]:\n",
    "    case \"R\":\n",
    "        cmap = \"viridis\"\n",
    "    case \"T\":\n",
    "        cmap = \"cividis\"\n",
    "    case \"A\":\n",
    "        cmap = \"inferno\"\n",
    "\n",
    "\n",
    "temp_da = cross_section(\n",
    "    restacked_stats_ds.sel(period=periods, disorder_correlation=disorder_correlation, delta=deltas, num_periods=num_periods),\n",
    "    variable=f\"{variable}_mean\",\n",
    "    wavelength=wavelength,\n",
    "    theta=theta,\n",
    "    integrate_angle=integrate_angle,\n",
    ").squeeze()\n",
    "\n",
    "the_plot = temp_da.hvplot(\n",
    "    kind=\"quadmesh\", x=\"wavelength\", y=\"theta\", row=\"period\", col=\"delta\", cmap=cmap\n",
    ")"
   ]
  },
  {
   "cell_type": "code",
   "execution_count": null,
   "id": "bcac6f79-d845-47ec-99aa-3be5a2469f04",
   "metadata": {
    "tags": []
   },
   "outputs": [],
   "source": [
    "the_plot = the_plot.redim(period=period_dim)\n",
    "the_plot.opts(opts.QuadMesh(cmap=\"viridis\", colorbar=False, clim=(None, None)))\n",
    "the_plot[200].opts(opts.QuadMesh(colorbar=True, colorbar_position=\"left\"))\n",
    "the_plot"
   ]
  },
  {
   "cell_type": "code",
   "execution_count": null,
   "id": "9951f5d7-90aa-4ccb-a185-82a4be48d9a4",
   "metadata": {
    "tags": []
   },
   "outputs": [],
   "source": [
    "hv.save(the_plot, filename=fig_path/f\"{variable}_DLOPC_2D_wl_th_grid_P_D{disorder_code}_N{N}_elt{elt}_avg\", fmt=\"png\", toolbar=False)"
   ]
  },
  {
   "cell_type": "code",
   "execution_count": null,
   "id": "2f036b21-21a5-4da1-92af-a708c0d9fa14",
   "metadata": {
    "tags": []
   },
   "outputs": [],
   "source": [
    "variable = \"R\"\n",
    "N = num_periods = 5\n",
    "wavelength = slice(None, None)\n",
    "theta = 0\n",
    "integrate_angle = None\n",
    "if integrate_angle:\n",
    "    th = f\"{theta}-{integrate_angle}\"\n",
    "else:\n",
    "    th = theta\n",
    "elt = excitonic_layer_thickness = 50\n",
    "color_cycle = default_color_cycle[len(restacked_stats_ds.period)]\n",
    "\n",
    "temp_stats_ds = cross_section(\n",
    "    restacked_stats_ds.sel(num_periods=num_periods),\n",
    "    variable = f\"{variable}_mean\",\n",
    "    wavelength = wavelength,\n",
    "    theta=theta,\n",
    "    integrate_angle=integrate_angle,\n",
    ").squeeze()\n",
    "\n",
    "temp_stats_ds = temp_stats_ds.max(\"wavelength\")"
   ]
  },
  {
   "cell_type": "code",
   "execution_count": null,
   "id": "1e49a777-427b-43fd-8099-0e00c21b61c8",
   "metadata": {
    "tags": []
   },
   "outputs": [],
   "source": [
    "the_plot = (\n",
    "    temp_stats_ds.sel(disorder_correlation=\"correlated\").hvplot.line(\n",
    "        x=\"delta\", by=\"period\", color=color_cycle, line_dash=\"dashed\"\n",
    "    )\n",
    "    * temp_stats_ds.sel(disorder_correlation=\"uncorrelated\").hvplot.line(\n",
    "        x=\"delta\", by=\"period\", color=color_cycle, line_dash=\"solid\"\n",
    "    )\n",
    "    * hv.HLine(\n",
    "        float(\n",
    "            cross_section(\n",
    "                crs_1[variable].sel(\n",
    "                    total_excitonic_thickness=num_periods * excitonic_layer_thickness,\n",
    "                ),\n",
    "                wavelength=wavelength,\n",
    "                theta=theta,\n",
    "                integrate_angle=integrate_angle,\n",
    "            )\n",
    "            .squeeze()\n",
    "            .max(\"wavelength\")\n",
    "        )\n",
    "    )\n",
    ")\n",
    "the_plot.opts(\n",
    "    opts.HLine(line_color=\"black\", line_dash=\"dotted\", apply_ranges=True),\n",
    "    opts.Curve(ylabel=f\"{variable}_max\", ylim=(0, None)),\n",
    ")\n",
    "the_plot"
   ]
  },
  {
   "cell_type": "code",
   "execution_count": null,
   "id": "a0e5600a-6c39-41bd-85ec-867b5f80f57e",
   "metadata": {
    "tags": []
   },
   "outputs": [],
   "source": [
    "hv.save(\n",
    "    the_plot,\n",
    "    filename=fig_path\n",
    "    / f\"{variable}max_DLOPC_period_comparison_D_elt{elt}_N{N}_th{th}\",\n",
    "    fmt=\"png\",\n",
    "    toolbar=False,\n",
    ")"
   ]
  },
  {
   "cell_type": "code",
   "execution_count": null,
   "id": "307d257f-e201-477f-85a6-a097e627527c",
   "metadata": {
    "tags": []
   },
   "outputs": [],
   "source": [
    "variable = \"R\"\n",
    "N = num_periods = 5\n",
    "wavelength = slice(None, None)\n",
    "theta = 0\n",
    "integrate_angle = None\n",
    "if integrate_angle:\n",
    "    th = f\"{theta}-{integrate_angle}\"\n",
    "else:\n",
    "    th = theta\n",
    "elt = excitonic_layer_thickness = 50\n",
    "color_cycle = default_color_cycle[len(restacked_stats_ds.period)]\n",
    "\n",
    "temp_stats_ds = cross_section(\n",
    "    restacked_stats_ds.sel(num_periods=num_periods),\n",
    "    variable = f\"{variable}_mean\",\n",
    "    wavelength = wavelength,\n",
    "    theta=theta,\n",
    "    integrate_angle=integrate_angle,\n",
    ").squeeze()\n",
    "\n",
    "# temp_stats_ds = temp_stats_ds.max(\"wavelength\")"
   ]
  },
  {
   "cell_type": "code",
   "execution_count": null,
   "id": "3cc9f0f3-0b71-4dca-964d-60be5a6aaee5",
   "metadata": {
    "tags": []
   },
   "outputs": [],
   "source": [
    "the_plot = (\n",
    "    temp_stats_ds.sel(disorder_correlation=\"correlated\").hvplot.line(\n",
    "        x=\"wavelength\", by=\"delta\", row=\"num_periods\", col=\"period\", color=color_cycle, line_dash=\"dashed\"\n",
    "    )\n",
    "    * temp_stats_ds.sel(disorder_correlation=\"uncorrelated\").hvplot.line(\n",
    "        x=\"wavelength\", by=\"delta\", row=\"num_periods\", col=\"period\", color=color_cycle, line_dash=\"solid\"\n",
    "    )\n",
    ")\n",
    "the_plot.opts(\n",
    "    opts.Curve(ylabel=f\"{variable}_max\", ylim=(0, None), frame_width=400),\n",
    ")\n",
    "the_plot"
   ]
  },
  {
   "cell_type": "code",
   "execution_count": null,
   "id": "5ed9f96f-e8bf-4798-89b8-11ab87a723a9",
   "metadata": {
    "tags": []
   },
   "outputs": [],
   "source": [
    "# this is not at all the right filename\n",
    "# hv.save(\n",
    "#     the_plot,\n",
    "#     filename=fig_path\n",
    "#     / f\"{variable}max_DLOPC_period_comparison_D_elt{elt}_N{N}_th{th}\",\n",
    "#     fmt=\"png\",\n",
    "#     toolbar=False,\n",
    "# )"
   ]
  },
  {
   "cell_type": "markdown",
   "id": "5b0ecafc-ee79-4b9a-ba23-12d58e03a80d",
   "metadata": {
    "tags": []
   },
   "source": [
    "## Does disorder make absorptance go up or down?"
   ]
  },
  {
   "cell_type": "markdown",
   "id": "eda34241-3748-40a8-9e92-7b86c9f764ed",
   "metadata": {
    "tags": []
   },
   "source": [
    "### Big loop"
   ]
  },
  {
   "cell_type": "code",
   "execution_count": null,
   "id": "130a85b5-666c-4d18-aadb-30d9646bbe14",
   "metadata": {
    "tags": []
   },
   "outputs": [],
   "source": [
    "var = [\"A\"]\n",
    "theta = 0\n",
    "elt = excitonic_layer_thickness = 50\n",
    "mode = \"ef\"\n",
    "wavelength_int_range = (None, None)\n",
    "\n",
    "for period in tqdm([100, 150, 200, 250, 300]):\n",
    "    for num_periods in [5, 20, 50]:\n",
    "        for integrate_angle in [None, 45, 86]:\n",
    "            for delta in [0.1, 0.3, 0.5, 1]:\n",
    "                for disorder_correlation in [\"correlated\", \"uncorrelated\"]:\n",
    "                    if delta == 1 and disorder_correlation == \"uncorrelated\":\n",
    "                        pass\n",
    "                    else:\n",
    "                        P = period\n",
    "                        N = num_periods\n",
    "                        if delta < 0.5:\n",
    "                            run = slice(0, 99)\n",
    "                        else:\n",
    "                            run = slice(0, 999)\n",
    "                        if integrate_angle:\n",
    "                            th = f\"{theta}-{integrate_angle}\"\n",
    "                        else:\n",
    "                            th = theta\n",
    "                        if mode == \"raw\":\n",
    "                            fom = var[0]\n",
    "                        elif mode == \"ef\":\n",
    "                            fom = f\"{var[0]}ef\"\n",
    "                        disorder_code = disorder_correlation[0]\n",
    "                        D = str(delta).replace(\".\", \"\")\n",
    "\n",
    "                        with warnings.catch_warnings():\n",
    "                            warnings.filterwarnings(\"ignore\", \"invalid value encountered in divide\")\n",
    "                            warnings.simplefilter(\"ignore\")\n",
    "                            the_plots = plot_singles(\n",
    "                                var,\n",
    "                                run,\n",
    "                                disorder_correlation,\n",
    "                                num_periods,\n",
    "                                period,\n",
    "                                delta,\n",
    "                                theta,\n",
    "                                mode=mode,\n",
    "                                wavelength_int_range=wavelength_int_range,\n",
    "                                integrate_angle=integrate_angle,\n",
    "                            )\n",
    "\n",
    "                            overlay_1 = (\n",
    "                                hv.Overlay(the_plots[:3])\n",
    "                                .select(run=slice(0, 8))\n",
    "                                .opts(opts.Scatter(alpha=1), clone=True)\n",
    "                            )\n",
    "                            # display(overlay_1)\n",
    "\n",
    "                            overlay_2 = hv.Overlay(\n",
    "                                [the_plots[2], *the_plots[5:], the_plots[1]]\n",
    "                            ).opts(opts.Curve(xlim=(480, 880), ylim=(None, None)))\n",
    "                            # display(overlay_2)\n",
    "\n",
    "                            max_vs_integral = the_plots[3]\n",
    "                            # display(max_vs_integral)\n",
    "\n",
    "                            hv.save(\n",
    "                                overlay_1,\n",
    "                                filename=fig_path\n",
    "                                / f\"{fom}_DLOPC_runcurve_wl_P{P}_elt{elt}_N{N}_th{th}_D{D}{disorder_code}\",\n",
    "                                fmt=\"png\",\n",
    "                                toolbar=False,\n",
    "                            )\n",
    "\n",
    "                            hv.save(\n",
    "                                overlay_2,\n",
    "                                filename=fig_path\n",
    "                                / f\"{fom}_DLOPC_meancurve_wl_P{P}_elt{elt}_N{N}_th{th}_D{D}{disorder_code}\",\n",
    "                                fmt=\"png\",\n",
    "                                toolbar=False,\n",
    "                            )\n",
    "\n",
    "                            hv.save(\n",
    "                                max_vs_integral,\n",
    "                                filename=fig_path\n",
    "                                / f\"{fom}_DLOPC_max_vs_tot_P{P}_elt{elt}_N{N}_th{th}_D{D}{disorder_code}\",\n",
    "                                fmt=\"png\",\n",
    "                                toolbar=False,\n",
    "                            )"
   ]
  },
  {
   "cell_type": "markdown",
   "id": "ea325fa7-4d5e-40b4-9ba1-1da17ee7cc2e",
   "metadata": {},
   "source": [
    "Extras for particular figures I want to make."
   ]
  },
  {
   "cell_type": "code",
   "execution_count": null,
   "id": "cf43b18b-371a-4928-91e3-2674bbf1f21f",
   "metadata": {
    "tags": []
   },
   "outputs": [],
   "source": [
    "var = [\"A\"]\n",
    "theta = 0\n",
    "elt = excitonic_layer_thickness = 50\n",
    "mode = \"ef\"\n",
    "wavelength_int_range = (None, None)\n",
    "\n",
    "for period in tqdm([200, 250]):\n",
    "    for num_periods in [50]:\n",
    "        for integrate_angle in [None]:\n",
    "            for delta in [0.4]:\n",
    "                for disorder_correlation in [\"uncorrelated\"]:\n",
    "                    if delta == 1 and disorder_correlation == \"uncorrelated\":\n",
    "                        pass\n",
    "                    else:\n",
    "                        P = period\n",
    "                        N = num_periods\n",
    "                        if delta < 0.5:\n",
    "                            run = slice(0, 99)\n",
    "                        else:\n",
    "                            run = slice(0, 999)\n",
    "                        if integrate_angle:\n",
    "                            th = f\"{theta}-{integrate_angle}\"\n",
    "                        else:\n",
    "                            th = theta\n",
    "                        if mode == \"raw\":\n",
    "                            fom = var[0]\n",
    "                        elif mode == \"ef\":\n",
    "                            fom = f\"{var[0]}ef\"\n",
    "                        disorder_code = disorder_correlation[0]\n",
    "                        D = str(delta).replace(\".\", \"\")\n",
    "\n",
    "                        with warnings.catch_warnings():\n",
    "                            warnings.filterwarnings(\"ignore\", \"invalid value encountered in divide\")\n",
    "                            warnings.simplefilter(\"ignore\")\n",
    "                            the_plots = plot_singles(\n",
    "                                var,\n",
    "                                run,\n",
    "                                disorder_correlation,\n",
    "                                num_periods,\n",
    "                                period,\n",
    "                                delta,\n",
    "                                theta,\n",
    "                                mode=mode,\n",
    "                                wavelength_int_range=wavelength_int_range,\n",
    "                                integrate_angle=integrate_angle,\n",
    "                            )\n",
    "\n",
    "                            overlay_1 = (\n",
    "                                hv.Overlay(the_plots[:3])\n",
    "                                .select(run=slice(0, 8))\n",
    "                                .opts(opts.Scatter(alpha=1), clone=True)\n",
    "                            )\n",
    "                            # display(overlay_1)\n",
    "\n",
    "                            overlay_2 = hv.Overlay(\n",
    "                                [the_plots[2], *the_plots[5:], the_plots[1]]\n",
    "                            ).opts(opts.Curve(xlim=(480, 880), ylim=(None, None)))\n",
    "                            # display(overlay_2)\n",
    "\n",
    "                            max_vs_integral = the_plots[3]\n",
    "                            # display(max_vs_integral)\n",
    "\n",
    "                            hv.save(\n",
    "                                overlay_1,\n",
    "                                filename=fig_path\n",
    "                                / f\"{fom}_DLOPC_runcurve_wl_P{P}_elt{elt}_N{N}_th{th}_D{D}{disorder_code}\",\n",
    "                                fmt=\"png\",\n",
    "                                toolbar=False,\n",
    "                            )\n",
    "\n",
    "                            hv.save(\n",
    "                                overlay_2,\n",
    "                                filename=fig_path\n",
    "                                / f\"{fom}_DLOPC_meancurve_wl_P{P}_elt{elt}_N{N}_th{th}_D{D}{disorder_code}\",\n",
    "                                fmt=\"png\",\n",
    "                                toolbar=False,\n",
    "                            )\n",
    "\n",
    "                            hv.save(\n",
    "                                max_vs_integral,\n",
    "                                filename=fig_path\n",
    "                                / f\"{fom}_DLOPC_max_vs_tot_P{P}_elt{elt}_N{N}_th{th}_D{D}{disorder_code}\",\n",
    "                                fmt=\"png\",\n",
    "                                toolbar=False,\n",
    "                            )"
   ]
  },
  {
   "cell_type": "markdown",
   "id": "cedecdb6-10d2-41d1-a3bc-6521fcde6528",
   "metadata": {},
   "source": [
    "Absorptance (not AEF) to demonstrate that it's not very informative to look at."
   ]
  },
  {
   "cell_type": "code",
   "execution_count": null,
   "id": "4630ff9f-bc91-44b3-834f-0405d73462be",
   "metadata": {
    "tags": []
   },
   "outputs": [],
   "source": [
    "var = [\"A\"]\n",
    "theta = 0\n",
    "elt = excitonic_layer_thickness = 50\n",
    "mode = \"raw\"\n",
    "wavelength_int_range = (None, None)\n",
    "\n",
    "for period in tqdm([200]):\n",
    "    for num_periods in [5, 20, 50]:\n",
    "        for integrate_angle in [None]: #[None, 45, 86]:\n",
    "            for delta in [0.3, 0.5, 1]:\n",
    "                for disorder_correlation in [\"correlated\", \"uncorrelated\"]:\n",
    "                    if delta == 1 and disorder_correlation == \"uncorrelated\":\n",
    "                        pass\n",
    "                    else:\n",
    "                        P = period\n",
    "                        N = num_periods\n",
    "                        if delta < 0.5:\n",
    "                            run = slice(0, 99)\n",
    "                        else:\n",
    "                            run = slice(0, 999)\n",
    "                        if integrate_angle:\n",
    "                            th = f\"{theta}-{integrate_angle}\"\n",
    "                        else:\n",
    "                            th = theta\n",
    "                        if mode == \"raw\":\n",
    "                            fom = var[0]\n",
    "                        elif mode == \"ef\":\n",
    "                            fom = f\"{var[0]}ef\"\n",
    "                        disorder_code = disorder_correlation[0]\n",
    "                        D = str(delta).replace(\".\", \"\")\n",
    "\n",
    "                        with warnings.catch_warnings():\n",
    "                            warnings.filterwarnings(\"ignore\", \"invalid value encountered in divide\")\n",
    "                            warnings.simplefilter(\"ignore\")\n",
    "                            the_plots = plot_singles(\n",
    "                                var,\n",
    "                                run,\n",
    "                                disorder_correlation,\n",
    "                                num_periods,\n",
    "                                period,\n",
    "                                delta,\n",
    "                                theta,\n",
    "                                mode=mode,\n",
    "                                wavelength_int_range=wavelength_int_range,\n",
    "                                integrate_angle=integrate_angle,\n",
    "                            )\n",
    "\n",
    "                            overlay_1 = (\n",
    "                                hv.Overlay(the_plots[:3])\n",
    "                                .select(run=slice(0, 8))\n",
    "                                .opts(opts.Scatter(alpha=1), clone=True)\n",
    "                            )\n",
    "                            # display(overlay_1)\n",
    "\n",
    "                            overlay_2 = hv.Overlay(\n",
    "                                [the_plots[2], *the_plots[5:], the_plots[1]]\n",
    "                            ).opts(opts.Curve(xlim=(480, 880), ylim=(None, None)))\n",
    "                            # display(overlay_2)\n",
    "\n",
    "                            max_vs_integral = the_plots[3]\n",
    "                            # display(max_vs_integral)\n",
    "\n",
    "                            hv.save(\n",
    "                                overlay_1,\n",
    "                                filename=fig_path\n",
    "                                / f\"{fom}_DLOPC_runcurve_wl_P{P}_elt{elt}_N{N}_th{th}_D{D}{disorder_code}\",\n",
    "                                fmt=\"png\",\n",
    "                                toolbar=False,\n",
    "                            )\n",
    "\n",
    "                            hv.save(\n",
    "                                overlay_2,\n",
    "                                filename=fig_path\n",
    "                                / f\"{fom}_DLOPC_meancurve_wl_P{P}_elt{elt}_N{N}_th{th}_D{D}{disorder_code}\",\n",
    "                                fmt=\"png\",\n",
    "                                toolbar=False,\n",
    "                            )\n",
    "\n",
    "                            hv.save(\n",
    "                                max_vs_integral,\n",
    "                                filename=fig_path\n",
    "                                / f\"{fom}_DLOPC_max_vs_tot_P{P}_elt{elt}_N{N}_th{th}_D{D}{disorder_code}\",\n",
    "                                fmt=\"png\",\n",
    "                                toolbar=False,\n",
    "                            )"
   ]
  },
  {
   "cell_type": "markdown",
   "id": "5a9ded0c-535d-4fc0-bdf9-11de72a15ba5",
   "metadata": {
    "jp-MarkdownHeadingCollapsed": true,
    "tags": []
   },
   "source": [
    "### Other stuff"
   ]
  },
  {
   "cell_type": "code",
   "execution_count": null,
   "id": "184ce914-b30a-46b2-86d0-d8507883af26",
   "metadata": {
    "tags": []
   },
   "outputs": [],
   "source": [
    "var = [\"A\"]\n",
    "run = slice(0, 999)\n",
    "disorder_correlation = \"correlated\"\n",
    "N = num_periods = 5\n",
    "P = period = 100\n",
    "delta = 0.5\n",
    "theta = 0\n",
    "integrate_angle = None\n",
    "elt = excitonic_layer_thickness = 50\n",
    "disorder_code = disorder_correlation[0]\n",
    "D = str(delta).replace(\".\", \"\")\n",
    "mode = \"ef\"\n",
    "wavelength_int_range = (None, None)\n",
    "\n",
    "with warnings.catch_warnings():\n",
    "    warnings.filterwarnings(\"ignore\", \"divide\")\n",
    "    the_plots = plot_singles(\n",
    "        var,\n",
    "        run,\n",
    "        disorder_correlation,\n",
    "        num_periods,\n",
    "        period,\n",
    "        delta,\n",
    "        theta,\n",
    "        mode=mode,\n",
    "        wavelength_int_range=wavelength_int_range,\n",
    "        integrate_angle=integrate_angle,\n",
    "    )\n",
    "\n",
    "    overlay_1 = (\n",
    "        hv.Overlay(the_plots[:3])\n",
    "        .select(run=slice(0, 8))\n",
    "        .opts(opts.Scatter(alpha=1), clone=True)\n",
    "    )\n",
    "    display(overlay_1)\n",
    "\n",
    "    overlay_2 = hv.Overlay([the_plots[2], *the_plots[5:], the_plots[1]]).opts(\n",
    "        opts.Curve(ylim=(None, None))  # I don't understand why this is needed but otherwise the ylim defaults to (0, 1)\n",
    "    )\n",
    "    display(overlay_2)\n",
    "\n",
    "    max_vs_integral = the_plots[3]\n",
    "    display(max_vs_integral)\n",
    "\n",
    "    violin_plot = the_plots[4]\n",
    "    display(violin_plot)"
   ]
  },
  {
   "cell_type": "code",
   "execution_count": null,
   "id": "8247eef3-faa7-4a10-bc8f-05af25cd4c70",
   "metadata": {
    "tags": []
   },
   "outputs": [],
   "source": [
    "var = [\"A\"]\n",
    "run = slice(0, 999)\n",
    "disorder_correlation = \"correlated\"\n",
    "N = num_periods = 5\n",
    "P = period = 200\n",
    "delta = 0.5\n",
    "theta = 0\n",
    "integrate_angle = None\n",
    "elt = excitonic_layer_thickness = 50\n",
    "disorder_code = disorder_correlation[0]\n",
    "D = str(delta).replace(\".\", \"\")\n",
    "mode = \"ef\"\n",
    "wavelength_int_range = (None, None)\n",
    "\n",
    "with warnings.catch_warnings():\n",
    "    warnings.filterwarnings(\"ignore\", \"divide\")\n",
    "    the_plots = plot_singles(\n",
    "        var,\n",
    "        run,\n",
    "        disorder_correlation,\n",
    "        num_periods,\n",
    "        period,\n",
    "        delta,\n",
    "        theta,\n",
    "        mode=mode,\n",
    "        wavelength_int_range=wavelength_int_range,\n",
    "        integrate_angle=integrate_angle,\n",
    "    )\n",
    "\n",
    "    overlay_1 = (\n",
    "        hv.Overlay(the_plots[:3])\n",
    "        .select(run=slice(0, 8))\n",
    "        .opts(opts.Scatter(alpha=1), clone=True)\n",
    "    )\n",
    "    display(overlay_1)\n",
    "\n",
    "    overlay_2 = hv.Overlay([the_plots[2], *the_plots[5:], the_plots[1]]).opts(\n",
    "        opts.Curve(ylim=(None, None))  # I don't understand why this is needed but otherwise the ylim defaults to (0, 1)\n",
    "    )\n",
    "    display(overlay_2)\n",
    "\n",
    "    max_vs_integral = the_plots[3]\n",
    "    display(max_vs_integral)\n",
    "\n",
    "    violin_plot = the_plots[4]\n",
    "    display(violin_plot)"
   ]
  },
  {
   "cell_type": "code",
   "execution_count": null,
   "id": "c14d98e3-1150-4dfc-9e48-17ff647df319",
   "metadata": {
    "tags": []
   },
   "outputs": [],
   "source": [
    "var = [\"A\"]\n",
    "run = slice(0, 2)\n",
    "disorder_correlation = \"correlated\"\n",
    "N = num_periods = 50\n",
    "P = period = 100\n",
    "delta = 1\n",
    "theta = 0\n",
    "integrate_angle = None\n",
    "elt = excitonic_layer_thickness = 50\n",
    "disorder_code = disorder_correlation[0]\n",
    "D = str(delta).replace(\".\", \"\")\n",
    "mode = \"ef\"\n",
    "wavelength_int_range = (None, None)\n",
    "match mode:\n",
    "    case \"ef\":\n",
    "        var_code = var[0] + \"ef\"\n",
    "    case _:\n",
    "        var_code = var[0]\n",
    "\n",
    "with warnings.catch_warnings():\n",
    "    warnings.filterwarnings(\"ignore\", \"divide\")\n",
    "    the_plots = plot_singles(\n",
    "        var,\n",
    "        run,\n",
    "        disorder_correlation,\n",
    "        num_periods,\n",
    "        period,\n",
    "        delta,\n",
    "        theta,\n",
    "        mode=mode,\n",
    "        wavelength_int_range=wavelength_int_range,\n",
    "        integrate_angle=integrate_angle,\n",
    "    )\n",
    "\n",
    "    overlay_1 = (\n",
    "        hv.Overlay(the_plots[:3])\n",
    "        .select(run=slice(0, 8))\n",
    "        .opts(opts.Scatter(alpha=1), clone=True)\n",
    "    )\n",
    "    display(overlay_1)\n",
    "\n",
    "    overlay_2 = hv.Overlay([the_plots[2], *the_plots[5:], the_plots[1]]).opts(\n",
    "        opts.Curve(ylim=(None, None))  # I don't understand why this is needed but otherwise the ylim defaults to (0, 1)\n",
    "    )\n",
    "    display(overlay_2)\n",
    "\n",
    "    max_vs_integral = the_plots[3]\n",
    "    display(max_vs_integral)\n",
    "\n",
    "    violin_plot = the_plots[4]\n",
    "    display(violin_plot)"
   ]
  },
  {
   "cell_type": "code",
   "execution_count": null,
   "id": "191ba301-fc67-4e37-b89f-8a204bdbc7cb",
   "metadata": {
    "tags": []
   },
   "outputs": [],
   "source": [
    "reduced_overlay = overlay_1.select(run=slice(0,2))\n",
    "display(reduced_overlay)"
   ]
  },
  {
   "cell_type": "code",
   "execution_count": null,
   "id": "657ab5bd-e99f-48b7-be77-45beaed5ac3e",
   "metadata": {
    "tags": []
   },
   "outputs": [],
   "source": [
    "hv.save(\n",
    "    reduced_overlay,\n",
    "    filename=fig_path\n",
    "    / f\"{var_code}_DLOPC_runcurve_reduced_wl_P{P}_elt{elt}_N{N}_th{theta}_D{D}{disorder_code}\",\n",
    "    fmt=\"png\",\n",
    "    toolbar=False,\n",
    ")"
   ]
  },
  {
   "cell_type": "code",
   "execution_count": null,
   "id": "1ae5cb8e-c90e-43cc-83da-7e39bfa6eb74",
   "metadata": {
    "tags": []
   },
   "outputs": [],
   "source": [
    "reduced_overlay = overlay_1.select(run=0)"
   ]
  },
  {
   "cell_type": "code",
   "execution_count": null,
   "id": "f713a2c8-67c1-4487-906d-8504d86bed74",
   "metadata": {
    "tags": []
   },
   "outputs": [],
   "source": [
    "reduced_overlay.NdOverlay.I.opts(opts.Curve(color=red, alpha=1))"
   ]
  },
  {
   "cell_type": "code",
   "execution_count": null,
   "id": "c69030e9-03ba-400a-8428-86ccf7e45a68",
   "metadata": {
    "tags": []
   },
   "outputs": [],
   "source": [
    "temp_curve = reduced_overlay.NdOverlay.I.data"
   ]
  },
  {
   "cell_type": "code",
   "execution_count": null,
   "id": "5255e434-8a38-4421-b36d-0602503d3459",
   "metadata": {
    "tags": []
   },
   "outputs": [],
   "source": [
    "peaks = find_peaks(temp_curve[var[0]])[0]"
   ]
  },
  {
   "cell_type": "code",
   "execution_count": null,
   "id": "44581fc2-db78-4446-966c-09999761cb9d",
   "metadata": {
    "tags": []
   },
   "outputs": [],
   "source": [
    "wls = temp_curve.loc[peaks].wavelength.values"
   ]
  },
  {
   "cell_type": "code",
   "execution_count": null,
   "id": "2533b1b6-ebf8-4a42-9520-6481a336c6da",
   "metadata": {
    "tags": []
   },
   "outputs": [],
   "source": [
    "vals = temp_curve.loc[peaks][var[0]].values"
   ]
  },
  {
   "cell_type": "code",
   "execution_count": null,
   "id": "0b4c0935-326e-47f5-8f58-816c24a9fc87",
   "metadata": {
    "tags": []
   },
   "outputs": [],
   "source": [
    "arrows = [hv.Arrow(wl, val, f\"{i+1}\", 'v') for i, (wl, val) in enumerate(zip(wls, vals))]"
   ]
  },
  {
   "cell_type": "code",
   "execution_count": null,
   "id": "ed527104-1fb0-4142-bd1a-b507bc642f83",
   "metadata": {
    "tags": []
   },
   "outputs": [],
   "source": [
    "the_plot = (reduced_overlay*hv.Overlay(arrows)).opts(opts.Curve(ylim=(None, 1.17)))\n",
    "the_plot"
   ]
  },
  {
   "cell_type": "code",
   "execution_count": null,
   "id": "cdffeba0-7a88-4a5b-bbc2-715fa911db4a",
   "metadata": {
    "tags": []
   },
   "outputs": [],
   "source": [
    "hv.save(\n",
    "    the_plot,\n",
    "    filename=fig_path\n",
    "    / f\"{var_code}_DLOPC_runcurve_reduced_wl_P{P}_elt{elt}_N{N}_th{theta}_D{D}{disorder_code}_annotated\",\n",
    "    fmt=\"png\",\n",
    "    toolbar=False,\n",
    ")"
   ]
  },
  {
   "cell_type": "code",
   "execution_count": null,
   "id": "29daba5b-1421-43f8-bf57-2e748358035f",
   "metadata": {
    "tags": []
   },
   "outputs": [],
   "source": [
    "var = [\"A\"]\n",
    "run = slice(0, 2)\n",
    "disorder_correlation = \"correlated\"\n",
    "N = num_periods = 20\n",
    "P = period = 100\n",
    "delta = 1\n",
    "theta = 0\n",
    "integrate_angle = None\n",
    "elt = excitonic_layer_thickness = 50\n",
    "disorder_code = disorder_correlation[0]\n",
    "D = str(delta).replace(\".\", \"\")\n",
    "mode = \"ef\"\n",
    "wavelength_int_range = (None, None)\n",
    "match mode:\n",
    "    case \"ef\":\n",
    "        var_code = var[0] + \"ef\"\n",
    "    case _:\n",
    "        var_code = var[0]\n",
    "\n",
    "with warnings.catch_warnings():\n",
    "    warnings.filterwarnings(\"ignore\", \"divide\")\n",
    "    the_plots = plot_singles(\n",
    "        var,\n",
    "        run,\n",
    "        disorder_correlation,\n",
    "        num_periods,\n",
    "        period,\n",
    "        delta,\n",
    "        theta,\n",
    "        mode=mode,\n",
    "        wavelength_int_range=wavelength_int_range,\n",
    "        integrate_angle=integrate_angle,\n",
    "    )\n",
    "\n",
    "    overlay_1 = (\n",
    "        hv.Overlay(the_plots[:3])\n",
    "        .select(run=slice(0, 8))\n",
    "        .opts(opts.Scatter(alpha=1), clone=True)\n",
    "    )\n",
    "    display(overlay_1)\n",
    "\n",
    "    overlay_2 = hv.Overlay([the_plots[2], *the_plots[5:], the_plots[1]]).opts(\n",
    "        opts.Curve(ylim=(None, None))  # I don't understand why this is needed but otherwise the ylim defaults to (0, 1)\n",
    "    )\n",
    "    display(overlay_2)\n",
    "\n",
    "    max_vs_integral = the_plots[3]\n",
    "    display(max_vs_integral)\n",
    "\n",
    "    violin_plot = the_plots[4]\n",
    "    display(violin_plot)"
   ]
  },
  {
   "cell_type": "code",
   "execution_count": null,
   "id": "896aa7b5-5884-4492-920c-8c47f27dfa55",
   "metadata": {
    "tags": []
   },
   "outputs": [],
   "source": [
    "reduced_overlay = overlay_1.select(run=1)"
   ]
  },
  {
   "cell_type": "code",
   "execution_count": null,
   "id": "e8b68e40-6821-4ee7-a8a3-df1a55adcd84",
   "metadata": {
    "tags": []
   },
   "outputs": [],
   "source": [
    "reduced_overlay.NdOverlay.I.opts(opts.Curve(color=red, alpha=1))"
   ]
  },
  {
   "cell_type": "code",
   "execution_count": null,
   "id": "7ac2aa01-cba0-448b-9386-1af421168527",
   "metadata": {
    "tags": []
   },
   "outputs": [],
   "source": [
    "temp_curve = reduced_overlay.NdOverlay.I.data.reset_index()"
   ]
  },
  {
   "cell_type": "code",
   "execution_count": null,
   "id": "09f7cdd4-d3f2-4007-88e2-9aa03a7c3b6f",
   "metadata": {
    "tags": []
   },
   "outputs": [],
   "source": [
    "peaks = find_peaks(temp_curve[var[0]])[0]"
   ]
  },
  {
   "cell_type": "code",
   "execution_count": null,
   "id": "262a76c7-e62e-43ec-aa16-e02b2b8b7b23",
   "metadata": {
    "tags": []
   },
   "outputs": [],
   "source": [
    "wls = temp_curve.loc[peaks].wavelength.values"
   ]
  },
  {
   "cell_type": "code",
   "execution_count": null,
   "id": "8897b08d-1158-48cb-8a91-298b8c5e25df",
   "metadata": {
    "tags": []
   },
   "outputs": [],
   "source": [
    "vals = temp_curve.loc[peaks][var[0]].values"
   ]
  },
  {
   "cell_type": "code",
   "execution_count": null,
   "id": "1d892f33-e1f1-4f0b-b414-add0eadf6c5e",
   "metadata": {
    "tags": []
   },
   "outputs": [],
   "source": [
    "arrows = [hv.Arrow(wl, val, f\"{i+1}\", 'v') for i, (wl, val) in enumerate(zip(wls, vals))]"
   ]
  },
  {
   "cell_type": "code",
   "execution_count": null,
   "id": "cd37726d-59e6-4bc3-9511-c31e3d76aadd",
   "metadata": {
    "tags": []
   },
   "outputs": [],
   "source": [
    "the_plot = (reduced_overlay*hv.Overlay(arrows)).opts(opts.Curve(ylim=(None, 1.13)))\n",
    "the_plot"
   ]
  },
  {
   "cell_type": "code",
   "execution_count": null,
   "id": "45b978a5-fc97-4783-acc3-2d19770a7420",
   "metadata": {
    "tags": []
   },
   "outputs": [],
   "source": [
    "hv.save(\n",
    "    the_plot,\n",
    "    filename=fig_path\n",
    "    / f\"{var_code}_DLOPC_runcurve_reduced_wl_P{P}_elt{elt}_N{N}_th{theta}_D{D}{disorder_code}_annotated\",\n",
    "    fmt=\"png\",\n",
    "    toolbar=False,\n",
    ")"
   ]
  },
  {
   "cell_type": "code",
   "execution_count": null,
   "id": "007e7ece-6bcb-4e9d-9c78-806bbb5f3096",
   "metadata": {
    "tags": []
   },
   "outputs": [],
   "source": [
    "var = [\"A\"]\n",
    "run = slice(0, 5)\n",
    "disorder_correlation = \"uncorrelated\"\n",
    "N = num_periods = 20\n",
    "P = period = 100\n",
    "delta = 0.5\n",
    "theta = 0\n",
    "integrate_angle = None\n",
    "elt = excitonic_layer_thickness = 50\n",
    "disorder_code = disorder_correlation[0]\n",
    "D = str(delta).replace(\".\", \"\")\n",
    "mode = \"ef\"\n",
    "wavelength_int_range = (None, None)\n",
    "match mode:\n",
    "    case \"ef\":\n",
    "        var_code = var[0] + \"ef\"\n",
    "    case _:\n",
    "        var_code = var[0]\n",
    "\n",
    "with warnings.catch_warnings():\n",
    "    warnings.filterwarnings(\"ignore\", \"divide\")\n",
    "    the_plots = plot_singles(\n",
    "        var,\n",
    "        run,\n",
    "        disorder_correlation,\n",
    "        num_periods,\n",
    "        period,\n",
    "        delta,\n",
    "        theta,\n",
    "        mode=mode,\n",
    "        wavelength_int_range=wavelength_int_range,\n",
    "        integrate_angle=integrate_angle,\n",
    "    )\n",
    "\n",
    "    overlay_1 = (\n",
    "        hv.Overlay(the_plots[:3])\n",
    "        .select(run=slice(0, 8))\n",
    "        .opts(opts.Scatter(alpha=1), clone=True)\n",
    "    )\n",
    "    display(overlay_1)\n",
    "\n",
    "    overlay_2 = hv.Overlay([the_plots[2], *the_plots[5:], the_plots[1]]).opts(\n",
    "        opts.Curve(ylim=(None, None))  # I don't understand why this is needed but otherwise the ylim defaults to (0, 1)\n",
    "    )\n",
    "    display(overlay_2)\n",
    "\n",
    "    max_vs_integral = the_plots[3]\n",
    "    display(max_vs_integral)\n",
    "\n",
    "    violin_plot = the_plots[4]\n",
    "    display(violin_plot)"
   ]
  },
  {
   "cell_type": "code",
   "execution_count": null,
   "id": "5917cad6-1ccf-4e80-ac3c-40b66dc14627",
   "metadata": {
    "tags": []
   },
   "outputs": [],
   "source": [
    "reduced_overlay = overlay_1.select(run=5)"
   ]
  },
  {
   "cell_type": "code",
   "execution_count": null,
   "id": "25a1d16f-df04-43c4-b72d-90a8dc4d9d85",
   "metadata": {
    "tags": []
   },
   "outputs": [],
   "source": [
    "reduced_overlay.NdOverlay.I.opts(opts.Curve(color=red, alpha=1))"
   ]
  },
  {
   "cell_type": "code",
   "execution_count": null,
   "id": "013ffea5-12da-4179-8f8a-a61d7b64f02e",
   "metadata": {
    "tags": []
   },
   "outputs": [],
   "source": [
    "temp_curve = reduced_overlay.NdOverlay.I.data.reset_index()"
   ]
  },
  {
   "cell_type": "code",
   "execution_count": null,
   "id": "0992b6b5-fad0-4406-a81b-3f94f5578f28",
   "metadata": {
    "tags": []
   },
   "outputs": [],
   "source": [
    "peaks = find_peaks(temp_curve[var[0]], threshold=)[0]"
   ]
  },
  {
   "cell_type": "code",
   "execution_count": null,
   "id": "eafa3f0e-2070-4eb3-9c48-0c1455f48607",
   "metadata": {
    "tags": []
   },
   "outputs": [],
   "source": [
    "wls = temp_curve.loc[peaks].wavelength.values"
   ]
  },
  {
   "cell_type": "code",
   "execution_count": null,
   "id": "63182e7b-de85-4e7f-aeb8-be29f93f260b",
   "metadata": {
    "tags": []
   },
   "outputs": [],
   "source": [
    "vals = temp_curve.loc[peaks][var[0]].values"
   ]
  },
  {
   "cell_type": "code",
   "execution_count": null,
   "id": "d8fc0f10-fdba-41b9-be80-28ac5c21a53f",
   "metadata": {
    "tags": []
   },
   "outputs": [],
   "source": [
    "arrows = [hv.Arrow(wl, val, f\"{i+1}\", 'v') for i, (wl, val) in enumerate(zip(wls, vals))]"
   ]
  },
  {
   "cell_type": "code",
   "execution_count": null,
   "id": "403e4278-e6c7-47c3-8d4e-69ab162ed373",
   "metadata": {
    "tags": []
   },
   "outputs": [],
   "source": [
    "the_plot = (reduced_overlay*hv.Overlay(arrows)).opts(opts.Curve(ylim=(None, 1.13)))\n",
    "the_plot"
   ]
  },
  {
   "cell_type": "code",
   "execution_count": null,
   "id": "9a5398f7-b765-4d1c-9622-990d5f38f32b",
   "metadata": {
    "tags": []
   },
   "outputs": [],
   "source": [
    "hv.save(\n",
    "    the_plot,\n",
    "    filename=fig_path\n",
    "    / f\"{var_code}_DLOPC_runcurve_reduced_wl_P{P}_elt{elt}_N{N}_th{theta}_D{D}{disorder_code}_annotated\",\n",
    "    fmt=\"png\",\n",
    "    toolbar=False,\n",
    ")"
   ]
  },
  {
   "cell_type": "markdown",
   "id": "45661e44-82a9-47dd-8392-73ef88969881",
   "metadata": {
    "tags": []
   },
   "source": [
    "### Plots by period"
   ]
  },
  {
   "cell_type": "markdown",
   "id": "aa03c088-2386-403d-85f0-a0306745c7a4",
   "metadata": {},
   "source": [
    "#### Loop"
   ]
  },
  {
   "cell_type": "code",
   "execution_count": null,
   "id": "8a166733-649a-4de5-9a09-77acf640c244",
   "metadata": {
    "tags": []
   },
   "outputs": [],
   "source": [
    "period_legend_dim = hv.Dimension('period', label='Λ (nm)')"
   ]
  },
  {
   "cell_type": "code",
   "execution_count": null,
   "id": "ce174f11-3c58-4c19-ade1-b4c07a6e0fd5",
   "metadata": {
    "tags": []
   },
   "outputs": [],
   "source": [
    "wavelength = (None, None)\n",
    "theta = 0\n",
    "elt = excitonic_layer_thickness = 50\n",
    "color_cycle = default_color_cycle[len(restacked_stats_ds.period)]\n",
    "\n",
    "for variable in tqdm([\"R\", \"A\"]):\n",
    "    for num_periods in [5, 20, 50]:\n",
    "        for integrate_angle in [None, 45, 86]:\n",
    "            N = num_periods\n",
    "            if integrate_angle:\n",
    "                th = f\"{theta}-{integrate_angle}\"\n",
    "            else:\n",
    "                th = theta\n",
    "            temp_stats_ds = (\n",
    "                restacked_stats_ds[f\"{variable}_mean\"].sel(num_periods=num_periods).squeeze()\n",
    "            )\n",
    "            the_plot = (\n",
    "                cross_section(\n",
    "                    temp_stats_ds.sel(disorder_correlation=\"correlated\"),\n",
    "                    wavelength=wavelength,\n",
    "                    theta=theta,\n",
    "                    integrate_angle=integrate_angle,\n",
    "                )\n",
    "                .hvplot.line(\n",
    "                    x=\"delta\", by=\"period\", color=color_cycle, line_dash=\"dashed\", legend=False\n",
    "                )\n",
    "                .redim(period=period_legend_dim)\n",
    "                * cross_section(\n",
    "                    temp_stats_ds.sel(disorder_correlation=\"uncorrelated\"),\n",
    "                    wavelength=wavelength,\n",
    "                    theta=theta,\n",
    "                    integrate_angle=integrate_angle,\n",
    "                )\n",
    "                .hvplot.line(x=\"delta\", by=\"period\", color=color_cycle, line_dash=\"solid\")\n",
    "                .redim(period=period_legend_dim)\n",
    "                * hv.HLine(\n",
    "                    float(\n",
    "                        cross_section(\n",
    "                            crs_1[variable].sel(\n",
    "                                total_excitonic_thickness=num_periods * excitonic_layer_thickness,\n",
    "                            ),\n",
    "                            wavelength=wavelength,\n",
    "                            theta=theta,\n",
    "                            integrate_angle=integrate_angle,\n",
    "                        )\n",
    "                    )\n",
    "                )\n",
    "            )\n",
    "            the_plot.opts(\n",
    "                opts.HLine(line_color=\"black\", line_dash=\"dotted\", apply_ranges=True),\n",
    "                opts.Curve(ylabel=f\"{variable}_tot\"),\n",
    "                opts.Overlay(legend_opts={\"title\": \"Λ (nm)\"}),\n",
    "            )\n",
    "            # display(the_plot)\n",
    "\n",
    "            hv.save(\n",
    "                the_plot,\n",
    "                filename=fig_path\n",
    "                / f\"{variable}tot_DLOPC_period_comparison_D_elt{elt}_N{N}_th{th}\",\n",
    "                fmt=\"png\",\n",
    "                toolbar=False,\n",
    "            )"
   ]
  },
  {
   "cell_type": "markdown",
   "id": "15210322-3595-4414-850b-52fcecdce8e1",
   "metadata": {
    "jp-MarkdownHeadingCollapsed": true,
    "tags": []
   },
   "source": [
    "#### Normal incidence"
   ]
  },
  {
   "cell_type": "code",
   "execution_count": null,
   "id": "71a73a23-cefb-480f-83cb-1699016582b5",
   "metadata": {
    "tags": []
   },
   "outputs": [],
   "source": [
    "variable = \"A\"\n",
    "N = num_periods = 5\n",
    "wavelength = (None, None)\n",
    "theta = 0\n",
    "integrate_angle = None\n",
    "elt = excitonic_layer_thickness = 50\n",
    "color_cycle = default_color_cycle[len(restacked_stats_ds.period)]\n",
    "\n",
    "temp_stats_ds = (\n",
    "    restacked_stats_ds[f\"{variable}_mean\"].sel(num_periods=num_periods).squeeze()\n",
    ")\n",
    "the_plot = (\n",
    "    cross_section(\n",
    "        temp_stats_ds.sel(disorder_correlation=\"correlated\"),\n",
    "        wavelength=wavelength,\n",
    "        theta=theta,\n",
    "        integrate_angle=integrate_angle,\n",
    "    )\n",
    "    .hvplot.line(\n",
    "        x=\"delta\", by=\"period\", color=color_cycle, line_dash=\"dashed\", legend=False\n",
    "    )\n",
    "    .redim(period=period_legend_dim)\n",
    "    * cross_section(\n",
    "        temp_stats_ds.sel(disorder_correlation=\"uncorrelated\"),\n",
    "        wavelength=wavelength,\n",
    "        theta=theta,\n",
    "        integrate_angle=integrate_angle,\n",
    "    )\n",
    "    .hvplot.line(x=\"delta\", by=\"period\", color=color_cycle, line_dash=\"solid\")\n",
    "    .redim(period=period_legend_dim)\n",
    "    * hv.HLine(\n",
    "        float(\n",
    "            cross_section(\n",
    "                crs_1[variable].sel(\n",
    "                    total_excitonic_thickness=num_periods * excitonic_layer_thickness,\n",
    "                ),\n",
    "                wavelength=wavelength,\n",
    "                theta=theta,\n",
    "                integrate_angle=integrate_angle,\n",
    "            )\n",
    "        )\n",
    "    )\n",
    ")\n",
    "the_plot.opts(\n",
    "    opts.HLine(line_color=\"black\", line_dash=\"dotted\", apply_ranges=True),\n",
    "    opts.Curve(ylabel=f\"{variable}_tot\"),\n",
    "    opts.Overlay(legend_opts={\"title\": \"Λ (nm)\"}),\n",
    ")\n",
    "the_plot"
   ]
  },
  {
   "cell_type": "code",
   "execution_count": null,
   "id": "58009031-8969-465a-9760-059f5682672b",
   "metadata": {
    "tags": []
   },
   "outputs": [],
   "source": [
    "hv.save(\n",
    "    the_plot,\n",
    "    filename=fig_path\n",
    "    / f\"{variable}tot_DLOPC_period_comparison_D_elt{elt}_N{N}_th{theta}\",\n",
    "    fmt=\"png\",\n",
    "    toolbar=False,\n",
    ")"
   ]
  },
  {
   "cell_type": "code",
   "execution_count": null,
   "id": "e5122dd3-fc96-45bd-84c7-2b0b17580a83",
   "metadata": {
    "tags": []
   },
   "outputs": [],
   "source": [
    "variable = \"A\"\n",
    "N = num_periods = 20\n",
    "wavelength = (480, 881)\n",
    "theta = 0\n",
    "integrate_angle = None\n",
    "elt = excitonic_layer_thickness = 50\n",
    "color_cycle = default_color_cycle[len(restacked_stats_ds.period)]\n",
    "\n",
    "temp_stats_ds = (\n",
    "    restacked_stats_ds[f\"{variable}_mean\"].sel(num_periods=num_periods).squeeze()\n",
    ")\n",
    "the_plot = (\n",
    "    cross_section(\n",
    "        temp_stats_ds.sel(disorder_correlation=\"correlated\"),\n",
    "        wavelength=wavelength,\n",
    "        theta=theta,\n",
    "        integrate_angle=integrate_angle,\n",
    "    ).hvplot.line(x=\"delta\", by=\"period\", color=color_cycle, line_dash=\"dashed\")\n",
    "    * cross_section(\n",
    "        temp_stats_ds.sel(disorder_correlation=\"uncorrelated\"),\n",
    "        wavelength=wavelength,\n",
    "        theta=theta,\n",
    "        integrate_angle=integrate_angle,\n",
    "    ).hvplot.line(x=\"delta\", by=\"period\", color=color_cycle, line_dash=\"solid\")\n",
    "    * hv.HLine(\n",
    "        float(\n",
    "            cross_section(\n",
    "                crs_1[variable].sel(\n",
    "                    total_excitonic_thickness=num_periods * excitonic_layer_thickness,\n",
    "                ),\n",
    "                wavelength=wavelength,\n",
    "                theta=theta,\n",
    "                integrate_angle=integrate_angle,\n",
    "            )\n",
    "        )\n",
    "    )\n",
    ")\n",
    "the_plot.opts(\n",
    "    opts.HLine(line_color=\"black\", line_dash=\"dotted\"), opts.Curve(ylabel=variable)\n",
    ")\n",
    "the_plot"
   ]
  },
  {
   "cell_type": "code",
   "execution_count": null,
   "id": "7e06ec77-4776-4620-bbe1-d2d814439635",
   "metadata": {
    "tags": []
   },
   "outputs": [],
   "source": [
    "hv.save(\n",
    "    the_plot,\n",
    "    filename=fig_path\n",
    "    / f\"{variable}tot_DLOPC_period_comparison_D_elt{elt}_N{N}_th{theta}\",\n",
    "    fmt=\"png\",\n",
    "    toolbar=False,\n",
    ")"
   ]
  },
  {
   "cell_type": "code",
   "execution_count": null,
   "id": "fe47c0a7-0993-408f-aa20-6419691b0859",
   "metadata": {
    "tags": []
   },
   "outputs": [],
   "source": [
    "variable = \"A\"\n",
    "N = num_periods = 50\n",
    "wavelength = (480, 881)\n",
    "theta = 0\n",
    "integrate_angle = None\n",
    "elt = excitonic_layer_thickness = 50\n",
    "color_cycle = default_color_cycle[len(restacked_stats_ds.period)]\n",
    "\n",
    "temp_stats_ds = (\n",
    "    restacked_stats_ds[f\"{variable}_mean\"].sel(num_periods=num_periods).squeeze()\n",
    ")\n",
    "the_plot = (\n",
    "    cross_section(\n",
    "        temp_stats_ds.sel(disorder_correlation=\"correlated\"),\n",
    "        wavelength=wavelength,\n",
    "        theta=theta,\n",
    "        integrate_angle=integrate_angle,\n",
    "    ).hvplot.line(x=\"delta\", by=\"period\", color=color_cycle, line_dash=\"dashed\")\n",
    "    * cross_section(\n",
    "        temp_stats_ds.sel(disorder_correlation=\"uncorrelated\"),\n",
    "        wavelength=wavelength,\n",
    "        theta=theta,\n",
    "        integrate_angle=integrate_angle,\n",
    "    ).hvplot.line(x=\"delta\", by=\"period\", color=color_cycle, line_dash=\"solid\")\n",
    "    * hv.HLine(\n",
    "        float(\n",
    "            cross_section(\n",
    "                crs_1[variable].sel(\n",
    "                    total_excitonic_thickness=num_periods * excitonic_layer_thickness,\n",
    "                ),\n",
    "                wavelength=wavelength,\n",
    "                theta=theta,\n",
    "                integrate_angle=integrate_angle,\n",
    "            )\n",
    "        )\n",
    "    )\n",
    ")\n",
    "the_plot.opts(\n",
    "    opts.HLine(line_color=\"black\", line_dash=\"dotted\"), opts.Curve(ylabel=variable)\n",
    ")\n",
    "the_plot"
   ]
  },
  {
   "cell_type": "code",
   "execution_count": null,
   "id": "b823d720-81f2-49ed-8e0b-e91385ff5b9a",
   "metadata": {
    "tags": []
   },
   "outputs": [],
   "source": [
    "hv.save(\n",
    "    the_plot,\n",
    "    filename=fig_path\n",
    "    / f\"{variable}tot_DLOPC_period_comparison_D_elt{elt}_N{N}_th{theta}\",\n",
    "    fmt=\"png\",\n",
    "    toolbar=False,\n",
    ")"
   ]
  },
  {
   "cell_type": "code",
   "execution_count": null,
   "id": "ccf69541-8582-4168-bcf1-2666d90edded",
   "metadata": {
    "tags": []
   },
   "outputs": [],
   "source": [
    "variable = \"A\"\n",
    "N = num_periods = 5\n",
    "wavelength = slice(None, None)\n",
    "theta = 0\n",
    "integrate_angle = None\n",
    "if integrate_angle:\n",
    "    th = f\"{theta}-{integrate_angle}\"\n",
    "else:\n",
    "    th = theta\n",
    "elt = excitonic_layer_thickness = 50\n",
    "color_cycle = default_color_cycle[len(restacked_stats_ds.period)]\n",
    "\n",
    "temp_stats_ds = cross_section(\n",
    "    restacked_stats_ds.sel(num_periods=num_periods),\n",
    "    variable = f\"{variable}_mean\",\n",
    "    wavelength = wavelength,\n",
    "    theta=theta,\n",
    "    integrate_angle=integrate_angle,\n",
    ").squeeze()\n",
    "\n",
    "temp_stats_ds = temp_stats_ds.max(\"wavelength\")"
   ]
  },
  {
   "cell_type": "code",
   "execution_count": null,
   "id": "939b54fc-7f21-4a50-94d9-7ac200932592",
   "metadata": {
    "tags": []
   },
   "outputs": [],
   "source": [
    "the_plot = (\n",
    "    temp_stats_ds.sel(disorder_correlation=\"correlated\").hvplot.line(\n",
    "        x=\"delta\", by=\"period\", color=color_cycle, line_dash=\"dashed\"\n",
    "    )\n",
    "    * temp_stats_ds.sel(disorder_correlation=\"uncorrelated\").hvplot.line(\n",
    "        x=\"delta\", by=\"period\", color=color_cycle, line_dash=\"solid\"\n",
    "    )\n",
    "    * hv.HLine(\n",
    "        float(\n",
    "            cross_section(\n",
    "                crs_1[variable].sel(\n",
    "                    total_excitonic_thickness=num_periods * excitonic_layer_thickness,\n",
    "                ),\n",
    "                wavelength=wavelength,\n",
    "                theta=theta,\n",
    "                integrate_angle=integrate_angle,\n",
    "            )\n",
    "            .squeeze()\n",
    "            .max(\"wavelength\")\n",
    "        )\n",
    "    )\n",
    ")\n",
    "the_plot.opts(\n",
    "    opts.HLine(line_color=\"black\", line_dash=\"dotted\", apply_ranges=True),\n",
    "    opts.Curve(ylabel=f\"{variable}_max\", ylim=(None, None)),\n",
    ")\n",
    "the_plot"
   ]
  },
  {
   "cell_type": "code",
   "execution_count": null,
   "id": "1e8b617d-6e83-4112-a29c-1d040dd121e1",
   "metadata": {
    "tags": []
   },
   "outputs": [],
   "source": [
    "hv.save(\n",
    "    the_plot,\n",
    "    filename=fig_path\n",
    "    / f\"{variable}max_DLOPC_period_comparison_D_elt{elt}_N{N}_th{th}\",\n",
    "    fmt=\"png\",\n",
    "    toolbar=False,\n",
    ")"
   ]
  },
  {
   "cell_type": "markdown",
   "id": "55ffe37e-ee4f-4390-bbc2-e4fd57a77324",
   "metadata": {
    "jp-MarkdownHeadingCollapsed": true,
    "tags": []
   },
   "source": [
    "#### Integrated to 45"
   ]
  },
  {
   "cell_type": "code",
   "execution_count": null,
   "id": "5dc5472b-0fd4-414d-9a9d-635348287f93",
   "metadata": {
    "tags": []
   },
   "outputs": [],
   "source": [
    "variable = \"A\"\n",
    "N = num_periods = 5\n",
    "wavelength = (480, 881)\n",
    "theta = 0\n",
    "integrate_angle = 45\n",
    "if integrate_angle:\n",
    "    th = f\"{theta}-{integrate_angle}\"\n",
    "else:\n",
    "    th = theta\n",
    "elt = excitonic_layer_thickness = 50\n",
    "color_cycle = default_color_cycle[len(restacked_stats_ds.period)]\n",
    "\n",
    "temp_stats_ds = (\n",
    "    restacked_stats_ds[f\"{variable}_mean\"].sel(num_periods=num_periods).squeeze()\n",
    ")\n",
    "the_plot = (\n",
    "    cross_section(\n",
    "        temp_stats_ds.sel(disorder_correlation=\"correlated\"),\n",
    "        wavelength=wavelength,\n",
    "        theta=theta,\n",
    "        integrate_angle=integrate_angle,\n",
    "    ).hvplot.line(x=\"delta\", by=\"period\", color=color_cycle, line_dash=\"dashed\")\n",
    "    * cross_section(\n",
    "        temp_stats_ds.sel(disorder_correlation=\"uncorrelated\"),\n",
    "        wavelength=wavelength,\n",
    "        theta=theta,\n",
    "        integrate_angle=integrate_angle,\n",
    "    ).hvplot.line(x=\"delta\", by=\"period\", color=color_cycle, line_dash=\"solid\")\n",
    "    * hv.HLine(\n",
    "        float(\n",
    "            cross_section(\n",
    "                crs_1[variable].sel(\n",
    "                    total_excitonic_thickness=num_periods * excitonic_layer_thickness,\n",
    "                ),\n",
    "                wavelength=wavelength,\n",
    "                theta=theta,\n",
    "                integrate_angle=integrate_angle,\n",
    "            )\n",
    "        )\n",
    "    )\n",
    ")\n",
    "the_plot.opts(\n",
    "    opts.HLine(line_color=\"black\", line_dash=\"dotted\", apply_ranges=True), opts.Curve(ylabel=variable, ylim=(None, None))\n",
    ")\n",
    "the_plot"
   ]
  },
  {
   "cell_type": "code",
   "execution_count": null,
   "id": "2b95183e-9b26-4a41-8bc1-8c745a729b97",
   "metadata": {
    "tags": []
   },
   "outputs": [],
   "source": [
    "hv.save(\n",
    "    the_plot,\n",
    "    filename=fig_path\n",
    "    / f\"{variable}tot_DLOPC_period_comparison_D_elt{elt}_N{N}_th{th}\",\n",
    "    fmt=\"png\",\n",
    "    toolbar=False,\n",
    ")"
   ]
  },
  {
   "cell_type": "code",
   "execution_count": null,
   "id": "5866d354-8466-486d-b728-31a55ec38a96",
   "metadata": {
    "tags": []
   },
   "outputs": [],
   "source": [
    "variable = \"A\"\n",
    "N = num_periods = 20\n",
    "wavelength = (480, 881)\n",
    "theta = 0\n",
    "integrate_angle = 45\n",
    "if integrate_angle:\n",
    "    th = f\"{theta}-{integrate_angle}\"\n",
    "else:\n",
    "    th = theta\n",
    "elt = excitonic_layer_thickness = 50\n",
    "color_cycle = default_color_cycle[len(restacked_stats_ds.period)]\n",
    "\n",
    "temp_stats_ds = (\n",
    "    restacked_stats_ds[f\"{variable}_mean\"].sel(num_periods=num_periods).squeeze()\n",
    ")\n",
    "the_plot = (\n",
    "    cross_section(\n",
    "        temp_stats_ds.sel(disorder_correlation=\"correlated\"),\n",
    "        wavelength=wavelength,\n",
    "        theta=theta,\n",
    "        integrate_angle=integrate_angle,\n",
    "    ).hvplot.line(x=\"delta\", by=\"period\", color=color_cycle, line_dash=\"dashed\")\n",
    "    * cross_section(\n",
    "        temp_stats_ds.sel(disorder_correlation=\"uncorrelated\"),\n",
    "        wavelength=wavelength,\n",
    "        theta=theta,\n",
    "        integrate_angle=integrate_angle,\n",
    "    ).hvplot.line(x=\"delta\", by=\"period\", color=color_cycle, line_dash=\"solid\")\n",
    "    * hv.HLine(\n",
    "        float(\n",
    "            cross_section(\n",
    "                crs_1[variable].sel(\n",
    "                    total_excitonic_thickness=num_periods * excitonic_layer_thickness,\n",
    "                ),\n",
    "                wavelength=wavelength,\n",
    "                theta=theta,\n",
    "                integrate_angle=integrate_angle,\n",
    "            )\n",
    "        )\n",
    "    )\n",
    ")\n",
    "the_plot.opts(\n",
    "    opts.HLine(line_color=\"black\", line_dash=\"dotted\", apply_ranges=True), opts.Curve(ylabel=variable, ylim=(None, None))\n",
    ")\n",
    "the_plot"
   ]
  },
  {
   "cell_type": "code",
   "execution_count": null,
   "id": "e3de9c07-1936-42f0-af70-95c98225a72d",
   "metadata": {
    "tags": []
   },
   "outputs": [],
   "source": [
    "hv.save(\n",
    "    the_plot,\n",
    "    filename=fig_path\n",
    "    / f\"{variable}tot_DLOPC_period_comparison_D_elt{elt}_N{N}_th{th}\",\n",
    "    fmt=\"png\",\n",
    "    toolbar=False,\n",
    ")"
   ]
  },
  {
   "cell_type": "code",
   "execution_count": null,
   "id": "28e1aff0-5c1d-4ee1-b76b-06deb8701ac2",
   "metadata": {
    "tags": []
   },
   "outputs": [],
   "source": [
    "variable = \"A\"\n",
    "N = num_periods = 50\n",
    "wavelength = (480, 881)\n",
    "theta = 0\n",
    "integrate_angle = 45\n",
    "if integrate_angle:\n",
    "    th = f\"{theta}-{integrate_angle}\"\n",
    "else:\n",
    "    th = theta\n",
    "elt = excitonic_layer_thickness = 50\n",
    "color_cycle = default_color_cycle[len(restacked_stats_ds.period)]\n",
    "\n",
    "temp_stats_ds = (\n",
    "    restacked_stats_ds[f\"{variable}_mean\"].sel(num_periods=num_periods).squeeze()\n",
    ")\n",
    "the_plot = (\n",
    "    cross_section(\n",
    "        temp_stats_ds.sel(disorder_correlation=\"correlated\"),\n",
    "        wavelength=wavelength,\n",
    "        theta=theta,\n",
    "        integrate_angle=integrate_angle,\n",
    "    ).hvplot.line(x=\"delta\", by=\"period\", color=color_cycle, line_dash=\"dashed\")\n",
    "    * cross_section(\n",
    "        temp_stats_ds.sel(disorder_correlation=\"uncorrelated\"),\n",
    "        wavelength=wavelength,\n",
    "        theta=theta,\n",
    "        integrate_angle=integrate_angle,\n",
    "    ).hvplot.line(x=\"delta\", by=\"period\", color=color_cycle, line_dash=\"solid\")\n",
    "    * hv.HLine(\n",
    "        float(\n",
    "            cross_section(\n",
    "                crs_1[variable].sel(\n",
    "                    total_excitonic_thickness=num_periods * excitonic_layer_thickness,\n",
    "                ),\n",
    "                wavelength=wavelength,\n",
    "                theta=theta,\n",
    "                integrate_angle=integrate_angle,\n",
    "            )\n",
    "        )\n",
    "    )\n",
    ")\n",
    "the_plot.opts(\n",
    "    opts.HLine(line_color=\"black\", line_dash=\"dotted\", apply_ranges=True), opts.Curve(ylabel=variable, ylim=(None, None))\n",
    ")\n",
    "the_plot"
   ]
  },
  {
   "cell_type": "code",
   "execution_count": null,
   "id": "a771635b-56fa-4622-91c3-46e2dc81623d",
   "metadata": {
    "tags": []
   },
   "outputs": [],
   "source": [
    "hv.save(\n",
    "    the_plot,\n",
    "    filename=fig_path\n",
    "    / f\"{variable}tot_DLOPC_period_comparison_D_elt{elt}_N{N}_th{th}\",\n",
    "    fmt=\"png\",\n",
    "    toolbar=False,\n",
    ")"
   ]
  },
  {
   "cell_type": "markdown",
   "id": "70f9721c-fef1-4be0-9b2c-90aa7d2af475",
   "metadata": {
    "jp-MarkdownHeadingCollapsed": true,
    "tags": []
   },
   "source": [
    "#### Integrated to 86"
   ]
  },
  {
   "cell_type": "code",
   "execution_count": null,
   "id": "f0248abe-8b42-4479-8f39-edf2aff01100",
   "metadata": {
    "tags": []
   },
   "outputs": [],
   "source": [
    "variable = \"A\"\n",
    "N = num_periods = 5\n",
    "wavelength = (480, 881)\n",
    "theta = 0\n",
    "integrate_angle = 86\n",
    "if integrate_angle:\n",
    "    th = f\"{theta}-{integrate_angle}\"\n",
    "else:\n",
    "    th = theta\n",
    "elt = excitonic_layer_thickness = 50\n",
    "color_cycle = default_color_cycle[len(restacked_stats_ds.period)]\n",
    "\n",
    "temp_stats_ds = (\n",
    "    restacked_stats_ds[f\"{variable}_mean\"].sel(num_periods=num_periods).squeeze()\n",
    ")\n",
    "the_plot = (\n",
    "    cross_section(\n",
    "        temp_stats_ds.sel(disorder_correlation=\"correlated\"),\n",
    "        wavelength=wavelength,\n",
    "        theta=theta,\n",
    "        integrate_angle=integrate_angle,\n",
    "    ).hvplot.line(x=\"delta\", by=\"period\", color=color_cycle, line_dash=\"dashed\")\n",
    "    * cross_section(\n",
    "        temp_stats_ds.sel(disorder_correlation=\"uncorrelated\"),\n",
    "        wavelength=wavelength,\n",
    "        theta=theta,\n",
    "        integrate_angle=integrate_angle,\n",
    "    ).hvplot.line(x=\"delta\", by=\"period\", color=color_cycle, line_dash=\"solid\")\n",
    "    * hv.HLine(\n",
    "        float(\n",
    "            cross_section(\n",
    "                crs_1[variable].sel(\n",
    "                    total_excitonic_thickness=num_periods * excitonic_layer_thickness,\n",
    "                ),\n",
    "                wavelength=wavelength,\n",
    "                theta=theta,\n",
    "                integrate_angle=integrate_angle,\n",
    "            )\n",
    "        )\n",
    "    )\n",
    ")\n",
    "the_plot.opts(\n",
    "    opts.HLine(line_color=\"black\", line_dash=\"dotted\", apply_ranges=True), opts.Curve(ylabel=variable, ylim=(0.14, None))\n",
    ")\n",
    "the_plot"
   ]
  },
  {
   "cell_type": "code",
   "execution_count": null,
   "id": "dec86c3a-e4b5-4843-af15-c0f9627d4f3d",
   "metadata": {
    "tags": []
   },
   "outputs": [],
   "source": [
    "hv.save(\n",
    "    the_plot,\n",
    "    filename=fig_path\n",
    "    / f\"{variable}tot_DLOPC_period_comparison_D_elt{elt}_N{N}_th{th}\",\n",
    "    fmt=\"png\",\n",
    "    toolbar=False,\n",
    ")"
   ]
  },
  {
   "cell_type": "code",
   "execution_count": null,
   "id": "87a35965-f74e-42e6-9204-30d034dd64d8",
   "metadata": {
    "tags": []
   },
   "outputs": [],
   "source": [
    "variable = \"A\"\n",
    "N = num_periods = 20\n",
    "wavelength = (480, 881)\n",
    "theta = 0\n",
    "integrate_angle = 86\n",
    "if integrate_angle:\n",
    "    th = f\"{theta}-{integrate_angle}\"\n",
    "else:\n",
    "    th = theta\n",
    "elt = excitonic_layer_thickness = 50\n",
    "color_cycle = default_color_cycle[len(restacked_stats_ds.period)]\n",
    "\n",
    "temp_stats_ds = (\n",
    "    restacked_stats_ds[f\"{variable}_mean\"].sel(num_periods=num_periods).squeeze()\n",
    ")\n",
    "the_plot = (\n",
    "    cross_section(\n",
    "        temp_stats_ds.sel(disorder_correlation=\"correlated\"),\n",
    "        wavelength=wavelength,\n",
    "        theta=theta,\n",
    "        integrate_angle=integrate_angle,\n",
    "    ).hvplot.line(x=\"delta\", by=\"period\", color=color_cycle, line_dash=\"dashed\")\n",
    "    * cross_section(\n",
    "        temp_stats_ds.sel(disorder_correlation=\"uncorrelated\"),\n",
    "        wavelength=wavelength,\n",
    "        theta=theta,\n",
    "        integrate_angle=integrate_angle,\n",
    "    ).hvplot.line(x=\"delta\", by=\"period\", color=color_cycle, line_dash=\"solid\")\n",
    "    * hv.HLine(\n",
    "        float(\n",
    "            cross_section(\n",
    "                crs_1[variable].sel(\n",
    "                    total_excitonic_thickness=num_periods * excitonic_layer_thickness,\n",
    "                ),\n",
    "                wavelength=wavelength,\n",
    "                theta=theta,\n",
    "                integrate_angle=integrate_angle,\n",
    "            )\n",
    "        )\n",
    "    )\n",
    ")\n",
    "the_plot.opts(\n",
    "    opts.HLine(line_color=\"black\", line_dash=\"dotted\", apply_ranges=True), opts.Curve(ylabel=variable, ylim=(0.33, None))\n",
    ")\n",
    "the_plot"
   ]
  },
  {
   "cell_type": "code",
   "execution_count": null,
   "id": "0ce0c75a-460b-42ec-9141-90ec875e5d23",
   "metadata": {
    "tags": []
   },
   "outputs": [],
   "source": [
    "hv.save(\n",
    "    the_plot,\n",
    "    filename=fig_path\n",
    "    / f\"{variable}tot_DLOPC_period_comparison_D_elt{elt}_N{N}_th{th}\",\n",
    "    fmt=\"png\",\n",
    "    toolbar=False,\n",
    ")"
   ]
  },
  {
   "cell_type": "code",
   "execution_count": null,
   "id": "2ff8f9fd-83f1-461a-8a15-0a3ef215ab7a",
   "metadata": {
    "tags": []
   },
   "outputs": [],
   "source": [
    "variable = \"A\"\n",
    "N = num_periods = 50\n",
    "wavelength = (480, 881)\n",
    "theta = 0\n",
    "integrate_angle = 86\n",
    "if integrate_angle:\n",
    "    th = f\"{theta}-{integrate_angle}\"\n",
    "else:\n",
    "    th = theta\n",
    "elt = excitonic_layer_thickness = 50\n",
    "color_cycle = default_color_cycle[len(restacked_stats_ds.period)]\n",
    "\n",
    "temp_stats_ds = (\n",
    "    restacked_stats_ds[f\"{variable}_mean\"].sel(num_periods=num_periods).squeeze()\n",
    ")\n",
    "the_plot = (\n",
    "    cross_section(\n",
    "        temp_stats_ds.sel(disorder_correlation=\"correlated\"),\n",
    "        wavelength=wavelength,\n",
    "        theta=theta,\n",
    "        integrate_angle=integrate_angle,\n",
    "    ).hvplot.line(x=\"delta\", by=\"period\", color=color_cycle, line_dash=\"dashed\")\n",
    "    * cross_section(\n",
    "        temp_stats_ds.sel(disorder_correlation=\"uncorrelated\"),\n",
    "        wavelength=wavelength,\n",
    "        theta=theta,\n",
    "        integrate_angle=integrate_angle,\n",
    "    ).hvplot.line(x=\"delta\", by=\"period\", color=color_cycle, line_dash=\"solid\")\n",
    "    * hv.HLine(\n",
    "        float(\n",
    "            cross_section(\n",
    "                crs_1[variable].sel(\n",
    "                    total_excitonic_thickness=num_periods * excitonic_layer_thickness,\n",
    "                ),\n",
    "                wavelength=wavelength,\n",
    "                theta=theta,\n",
    "                integrate_angle=integrate_angle,\n",
    "            )\n",
    "        )\n",
    "    )\n",
    ")\n",
    "the_plot.opts(\n",
    "    opts.HLine(line_color=\"black\", line_dash=\"dotted\", apply_ranges=True), opts.Curve(ylabel=variable, ylim=(0.485, None))\n",
    ")\n",
    "the_plot"
   ]
  },
  {
   "cell_type": "code",
   "execution_count": null,
   "id": "31b63341-e0d9-4356-ac2f-082d96ccefa8",
   "metadata": {
    "tags": []
   },
   "outputs": [],
   "source": [
    "hv.save(\n",
    "    the_plot,\n",
    "    filename=fig_path\n",
    "    / f\"{variable}tot_DLOPC_period_comparison_D_elt{elt}_N{N}_th{th}\",\n",
    "    fmt=\"png\",\n",
    "    toolbar=False,\n",
    ")"
   ]
  },
  {
   "cell_type": "markdown",
   "id": "64c48afe-1046-46a5-8d89-8b98cfebb300",
   "metadata": {
    "jp-MarkdownHeadingCollapsed": true,
    "tags": []
   },
   "source": [
    "#### What is going on at P=200, D=1?"
   ]
  },
  {
   "cell_type": "code",
   "execution_count": null,
   "id": "e2d74b3d-9724-43ab-8a9c-5d8d78029fac",
   "metadata": {
    "tags": []
   },
   "outputs": [],
   "source": [
    "var = [\"A\"]\n",
    "run = slice(0, 999)\n",
    "disorder_correlation = \"correlated\"\n",
    "N = num_periods = 5\n",
    "P = period = 200\n",
    "delta = 1\n",
    "theta = 0\n",
    "integrate_angle = None\n",
    "elt = excitonic_layer_thickness = 50\n",
    "disorder_code = disorder_correlation[0]\n",
    "D = str(delta).replace(\".\", \"\")\n",
    "mode = \"ef\"\n",
    "wavelength_int_range = (None, None)\n",
    "\n",
    "with warnings.catch_warnings():\n",
    "    warnings.filterwarnings(\"ignore\", \"divide\")\n",
    "    the_plots = plot_singles(\n",
    "        var,\n",
    "        run,\n",
    "        disorder_correlation,\n",
    "        num_periods,\n",
    "        period,\n",
    "        delta,\n",
    "        theta,\n",
    "        mode=mode,\n",
    "        wavelength_int_range=wavelength_int_range,\n",
    "        integrate_angle=integrate_angle,\n",
    "    )\n",
    "\n",
    "    overlay_1 = (\n",
    "        hv.Overlay(the_plots[:3])\n",
    "        .select(run=slice(0, 8))\n",
    "        .opts(opts.Scatter(alpha=1), clone=True)\n",
    "    )\n",
    "    display(overlay_1)\n",
    "\n",
    "    overlay_2 = hv.Overlay([the_plots[2], *the_plots[5:], the_plots[1]]).opts(\n",
    "        opts.Curve(ylim=(None, None))  # I don't understand why this is needed but otherwise the ylim defaults to (0, 1)\n",
    "    )\n",
    "    display(overlay_2)\n",
    "\n",
    "    max_vs_integral = the_plots[3]\n",
    "    display(max_vs_integral)\n",
    "\n",
    "    violin_plot = the_plots[4]\n",
    "    display(violin_plot)"
   ]
  },
  {
   "cell_type": "code",
   "execution_count": null,
   "id": "9c16f2e9-6891-40bb-b6dc-e3dbb1c998ca",
   "metadata": {
    "tags": []
   },
   "outputs": [],
   "source": [
    "var = [\"A\"]\n",
    "run = slice(0, 999)\n",
    "disorder_correlation = \"correlated\"\n",
    "N = num_periods = 5\n",
    "P = period = 250\n",
    "delta = 1\n",
    "theta = 0\n",
    "integrate_angle = None\n",
    "elt = excitonic_layer_thickness = 50\n",
    "disorder_code = disorder_correlation[0]\n",
    "D = str(delta).replace(\".\", \"\")\n",
    "mode = \"ef\"\n",
    "wavelength_int_range = (None, None)\n",
    "\n",
    "with warnings.catch_warnings():\n",
    "    warnings.filterwarnings(\"ignore\", \"divide\")\n",
    "    the_plots = plot_singles(\n",
    "        var,\n",
    "        run,\n",
    "        disorder_correlation,\n",
    "        num_periods,\n",
    "        period,\n",
    "        delta,\n",
    "        theta,\n",
    "        mode=mode,\n",
    "        wavelength_int_range=wavelength_int_range,\n",
    "        integrate_angle=integrate_angle,\n",
    "    )\n",
    "\n",
    "    overlay_1 = (\n",
    "        hv.Overlay(the_plots[:3])\n",
    "        .select(run=slice(0, 8))\n",
    "        .opts(opts.Scatter(alpha=1), clone=True)\n",
    "    )\n",
    "    display(overlay_1)\n",
    "\n",
    "    overlay_2 = hv.Overlay([the_plots[2], *the_plots[5:], the_plots[1]]).opts(\n",
    "        opts.Curve(ylim=(None, None))  # I don't understand why this is needed but otherwise the ylim defaults to (0, 1)\n",
    "    )\n",
    "    display(overlay_2)\n",
    "\n",
    "    max_vs_integral = the_plots[3]\n",
    "    display(max_vs_integral)\n",
    "\n",
    "    violin_plot = the_plots[4]\n",
    "    display(violin_plot)"
   ]
  },
  {
   "cell_type": "code",
   "execution_count": null,
   "id": "f1bd8ad2-6bb1-4a09-9341-d417ffb1c167",
   "metadata": {
    "tags": []
   },
   "outputs": [],
   "source": [
    "hv.save(\n",
    "    overlay_1,\n",
    "    filename=fig_path\n",
    "    / f\"{var[0]}_DLOPC_runcurve_wl_P{P}_elt{elt}_N{N}_th{theta}_D{D}{disorder_code}\",\n",
    "    fmt=\"png\",\n",
    "    toolbar=False,\n",
    ")\n",
    "\n",
    "hv.save(\n",
    "    overlay_2,\n",
    "    filename=fig_path\n",
    "    / f\"{var[0]}_DLOPC_meancurve_wl_P{P}_elt{elt}_N{N}_th{theta}_D{D}{disorder_code}\",\n",
    "    fmt=\"png\",\n",
    "    toolbar=False,\n",
    ")\n",
    "\n",
    "hv.save(\n",
    "    max_vs_integral,\n",
    "    filename=fig_path\n",
    "    / f\"{var[0]}_DLOPC_max_vs_tot_P{P}_elt{elt}_N{N}_th{theta}_D{D}{disorder_code}\",\n",
    "    fmt=\"png\",\n",
    "    toolbar=False,\n",
    ")\n",
    "\n",
    "# have no use for the violin plots yet"
   ]
  },
  {
   "cell_type": "code",
   "execution_count": null,
   "id": "dc75c60c-277c-4d69-8275-abf72cfec224",
   "metadata": {
    "tags": []
   },
   "outputs": [],
   "source": [
    "variable = \"A\"\n",
    "N = num_periods = 50\n",
    "wavelength = (480, 881)\n",
    "theta = 0\n",
    "integrate_angle = None\n",
    "elt = excitonic_layer_thickness = 50\n",
    "color_cycle = default_color_cycle[len(restacked_stats_ds.period)]\n",
    "\n",
    "temp_stats_ds = (\n",
    "    restacked_stats_ds[f\"{variable}_mean\"].sel(num_periods=num_periods).squeeze()\n",
    ")\n",
    "the_plot = (\n",
    "    cross_section(\n",
    "        temp_stats_ds.sel(disorder_correlation=\"correlated\"),\n",
    "        wavelength=wavelength,\n",
    "        theta=theta,\n",
    "        integrate_angle=integrate_angle,\n",
    "    ).hvplot.line(x=\"delta\", by=\"period\", color=color_cycle, line_dash=\"dashed\")\n",
    "    * cross_section(\n",
    "        temp_stats_ds.sel(disorder_correlation=\"uncorrelated\"),\n",
    "        wavelength=wavelength,\n",
    "        theta=theta,\n",
    "        integrate_angle=integrate_angle,\n",
    "    ).hvplot.line(x=\"delta\", by=\"period\", color=color_cycle, line_dash=\"solid\")\n",
    "    * hv.HLine(\n",
    "        float(\n",
    "            cross_section(\n",
    "                crs_1[variable].sel(\n",
    "                    total_excitonic_thickness=num_periods * excitonic_layer_thickness,\n",
    "                ),\n",
    "                wavelength=wavelength,\n",
    "                theta=theta,\n",
    "                integrate_angle=integrate_angle,\n",
    "            )\n",
    "        )\n",
    "    )\n",
    ")\n",
    "the_plot.opts(\n",
    "    opts.HLine(line_color=\"black\", line_dash=\"dotted\"), opts.Curve(ylabel=variable)\n",
    ")\n",
    "the_plot"
   ]
  },
  {
   "cell_type": "code",
   "execution_count": null,
   "id": "9cbf9100-7f03-4eb3-b884-2913c9a3e236",
   "metadata": {
    "tags": []
   },
   "outputs": [],
   "source": [
    "hv.save(\n",
    "    the_plot,\n",
    "    filename=fig_path\n",
    "    / f\"{variable}tot_DLOPC_period_comparison_D_elt{elt}_N{N}_th{theta}\",\n",
    "    fmt=\"png\",\n",
    "    toolbar=False,\n",
    ")"
   ]
  },
  {
   "cell_type": "code",
   "execution_count": null,
   "id": "3faaed28-f2ca-4cbf-8d3f-67c55fb1cb31",
   "metadata": {
    "tags": []
   },
   "outputs": [],
   "source": [
    "the_plot = (\n",
    "    restacked_ief(\n",
    "        ds=stats_ds,\n",
    "        ref=crs_1_stats_norm,\n",
    "        common_dim=\"total_excitonic_thickness\",\n",
    "        method=\"vectorized_indexing\",\n",
    "        variable=\"A_mean\",\n",
    "        wavelength=(480, 881),\n",
    "        integrate_angle=86,\n",
    "    )\n",
    "    .sel(disorder_correlation=\"correlated\")\n",
    "    .squeeze()\n",
    "    .hvplot(\n",
    "        kind=\"quadmesh\",\n",
    "        x=\"delta\",\n",
    "        y=\"num_periods\",\n",
    "        row=\"period\",\n",
    "        # col=\"disorder_correlation\",\n",
    "    )\n",
    ")"
   ]
  },
  {
   "cell_type": "code",
   "execution_count": null,
   "id": "766d6f47-0599-4754-8050-19d85943f3ad",
   "metadata": {
    "tags": []
   },
   "outputs": [],
   "source": [
    "the_plot.opts(opts.QuadMesh(colorbar=False, cmap=\"RdBu_r\", clim=(0.75, 1.25)))\n",
    "the_plot[100].opts(opts.QuadMesh(colorbar=True, colorbar_position=\"left\"))\n",
    "the_plot"
   ]
  },
  {
   "cell_type": "code",
   "execution_count": null,
   "id": "5f7cd9ea-f759-45ff-a32b-fbdb95c375fd",
   "metadata": {
    "tags": []
   },
   "outputs": [],
   "source": [
    "the_plot = (\n",
    "    restacked_ief(\n",
    "        ds=stats_ds,\n",
    "        ref=crs_1_stats_norm,\n",
    "        common_dim=\"total_excitonic_thickness\",\n",
    "        method=\"vectorized_indexing\",\n",
    "        variable=\"A_mean\",\n",
    "        wavelength=(480, 881),\n",
    "        integrate_angle=45,\n",
    "    )\n",
    "    .sel(disorder_correlation=\"correlated\")\n",
    "    .squeeze()\n",
    "    .hvplot(\n",
    "        kind=\"quadmesh\",\n",
    "        x=\"delta\",\n",
    "        y=\"num_periods\",\n",
    "        row=\"period\",\n",
    "        # col=\"disorder_correlation\",\n",
    "    )\n",
    ")"
   ]
  },
  {
   "cell_type": "code",
   "execution_count": null,
   "id": "1992c81d-3b4f-4389-b1b7-89028616f56a",
   "metadata": {
    "tags": []
   },
   "outputs": [],
   "source": [
    "the_plot.opts(opts.QuadMesh(colorbar=False, cmap=\"RdBu_r\", clim=(0.9, 1.1)))\n",
    "the_plot[100].opts(opts.QuadMesh(colorbar=True, colorbar_position=\"left\"))\n",
    "the_plot"
   ]
  },
  {
   "cell_type": "code",
   "execution_count": null,
   "id": "8bbda214-cbf9-4480-b262-2ca58d6c2714",
   "metadata": {
    "tags": []
   },
   "outputs": [],
   "source": [
    "the_plot = (\n",
    "    restacked_ief(\n",
    "        ds=stats_ds,\n",
    "        ref=crs_1_stats_norm,\n",
    "        common_dim=\"total_excitonic_thickness\",\n",
    "        method=\"vectorized_indexing\",\n",
    "        variable=\"A_mean\",\n",
    "        wavelength=(480, 881),\n",
    "        integrate_angle=86,\n",
    "    )\n",
    "    .sel(disorder_correlation=\"uncorrelated\")\n",
    "    .sel(delta=slice(0, 0.5))\n",
    "    .squeeze()\n",
    "    .hvplot(\n",
    "        kind=\"quadmesh\",\n",
    "        x=\"delta\",\n",
    "        y=\"num_periods\",\n",
    "        row=\"period\",\n",
    "        # col=\"disorder_correlation\",\n",
    "    )\n",
    ")"
   ]
  },
  {
   "cell_type": "code",
   "execution_count": null,
   "id": "44d8af7b-b9d2-4f3d-9689-fa37e616c642",
   "metadata": {
    "tags": []
   },
   "outputs": [],
   "source": [
    "the_plot.opts(opts.QuadMesh(colorbar=False, cmap=\"RdBu_r\", clim=(0.75, 1.25)))\n",
    "the_plot[100].opts(opts.QuadMesh(colorbar=True, colorbar_position=\"left\"))\n",
    "the_plot"
   ]
  },
  {
   "cell_type": "code",
   "execution_count": null,
   "id": "9dfc2e65-8387-49c7-a255-f2a2c0437301",
   "metadata": {
    "tags": []
   },
   "outputs": [],
   "source": [
    "the_plot = (\n",
    "    restacked_ief(\n",
    "        ds=stats_ds,\n",
    "        ref=crs_1_stats_norm,\n",
    "        common_dim=\"total_excitonic_thickness\",\n",
    "        method=\"vectorized_indexing\",\n",
    "        variable=\"A_mean\",\n",
    "        wavelength=(480, 881),\n",
    "        integrate_angle=45,\n",
    "    )\n",
    "    .sel(disorder_correlation=\"uncorrelated\")\n",
    "    .sel(delta=slice(0, 0.5))\n",
    "    .squeeze()\n",
    "    .hvplot(\n",
    "        kind=\"quadmesh\",\n",
    "        x=\"delta\",\n",
    "        y=\"num_periods\",\n",
    "        row=\"period\",\n",
    "        # col=\"disorder_correlation\",\n",
    "    )\n",
    ")"
   ]
  },
  {
   "cell_type": "code",
   "execution_count": null,
   "id": "c8d00083-1bad-4bbb-86f0-070513e25d5f",
   "metadata": {
    "tags": []
   },
   "outputs": [],
   "source": [
    "the_plot.opts(opts.QuadMesh(colorbar=False, cmap=\"RdBu_r\", clim=(0.9, 1.1)))\n",
    "the_plot[100].opts(opts.QuadMesh(colorbar=True, colorbar_position=\"left\"))\n",
    "the_plot"
   ]
  },
  {
   "cell_type": "markdown",
   "id": "8af2cc91-c2a7-4527-af2a-ee056c6033a1",
   "metadata": {
    "tags": []
   },
   "source": [
    "### Plots over N"
   ]
  },
  {
   "cell_type": "markdown",
   "id": "6bb82a93-38b0-440c-b59b-2a4b4862c9b2",
   "metadata": {
    "tags": []
   },
   "source": [
    "#### Absorptance enhancement"
   ]
  },
  {
   "cell_type": "markdown",
   "id": "eb10d382-e342-4aa9-af65-9169eb180646",
   "metadata": {},
   "source": [
    "Testing"
   ]
  },
  {
   "cell_type": "code",
   "execution_count": null,
   "id": "18a4b9c2-784b-4c4e-931d-7f11b56f0f06",
   "metadata": {
    "tags": []
   },
   "outputs": [],
   "source": [
    "deltas = [1]\n",
    "P = period = 100\n",
    "theta = 0\n",
    "variable = \"A\"\n",
    "disorder_correlation = \"correlated\"\n",
    "elt = excitonic_layer_thickness = 50\n",
    "disorder_code = disorder_correlation[0]\n",
    "# D = \"-\".join([str(deltas[0]), str(deltas[-1])])\n",
    "\n",
    "the_plot_1 = compare_integrated_stats(\n",
    "    variable=variable,\n",
    "    disorder_correlation=disorder_correlation,\n",
    "    period=period,\n",
    "    delta=deltas,\n",
    "    wavelength=(None, None),\n",
    "    theta=theta,\n",
    "    # kind=\"line\",\n",
    "    x=\"num_periods\",\n",
    "    by=\"delta\",\n",
    "    mode=\"ef\",\n",
    "    include_std=True,\n",
    ")\n",
    "the_plot_1.opts(opts.HLine(apply_ranges=False))"
   ]
  },
  {
   "cell_type": "code",
   "execution_count": null,
   "id": "3c92aef8-2ee7-424d-b8e3-27a57600fc18",
   "metadata": {
    "tags": []
   },
   "outputs": [],
   "source": [
    "deltas = [0, 1]\n",
    "P = period = 100\n",
    "theta = 0\n",
    "variable = \"A\"\n",
    "disorder_correlation = \"correlated\"\n",
    "elt = excitonic_layer_thickness = 50\n",
    "disorder_code = disorder_correlation[0]\n",
    "# D = \"-\".join([str(deltas[0]), str(deltas[-1])])\n",
    "\n",
    "the_plot_1 = compare_integrated_stats(\n",
    "    variable=variable,\n",
    "    disorder_correlation=disorder_correlation,\n",
    "    period=period,\n",
    "    delta=deltas,\n",
    "    wavelength=(None, None),\n",
    "    theta=theta,\n",
    "    # kind=\"line\",\n",
    "    x=\"num_periods\",\n",
    "    by=\"delta\",\n",
    "    mode=\"raw\",\n",
    "    include_std=True,\n",
    ")\n",
    "the_plot_1.opts(opts.HLine(apply_ranges=False))"
   ]
  },
  {
   "cell_type": "markdown",
   "id": "36748e71-a4eb-44ef-a12b-3e34e2884102",
   "metadata": {
    "jp-MarkdownHeadingCollapsed": true,
    "tags": []
   },
   "source": [
    "##### Mean"
   ]
  },
  {
   "cell_type": "markdown",
   "id": "0c192370-3c38-417b-bb4c-096623564643",
   "metadata": {},
   "source": [
    "P=100"
   ]
  },
  {
   "cell_type": "code",
   "execution_count": null,
   "id": "bbe70d5f-1509-4156-aae9-1392b996b50c",
   "metadata": {
    "tags": []
   },
   "outputs": [],
   "source": [
    "deltas = [0, 0.1, 0.3, 0.5, 1]\n",
    "P = period = 100\n",
    "theta = 0\n",
    "variable = \"A\"\n",
    "disorder_correlation = \"correlated\"\n",
    "elt = excitonic_layer_thickness = 50\n",
    "disorder_code = disorder_correlation[0]\n",
    "# D = \"-\".join([str(deltas[0]), str(deltas[-1])])\n",
    "\n",
    "the_plot_1 = compare_integrated_stats(\n",
    "    variable=variable,\n",
    "    disorder_correlation=disorder_correlation,\n",
    "    period=period,\n",
    "    delta=deltas,\n",
    "    wavelength=(None, None),\n",
    "    theta=theta,\n",
    "    kind=\"line\",\n",
    "    x=\"num_periods\",\n",
    "    by=\"delta\",\n",
    "    mode=\"ef\",\n",
    ")\n",
    "the_plot_1.opts(opts.HLine(apply_ranges=False))"
   ]
  },
  {
   "cell_type": "code",
   "execution_count": null,
   "id": "1cc442c1-cc0c-49e0-9954-5d0e0db291ab",
   "metadata": {
    "tags": []
   },
   "outputs": [],
   "source": [
    "hv.save(\n",
    "    the_plot_1,\n",
    "    filename=fig_path\n",
    "    / f\"{variable+'ef'}tot_DLOPC_delta_comparison_N_P{P}_elt{elt}_th{theta}_Dc\",\n",
    "    fmt=\"png\",\n",
    "    toolbar=False,\n",
    ")"
   ]
  },
  {
   "cell_type": "markdown",
   "id": "04988702-8ffd-446c-8f2b-2058eaf622b0",
   "metadata": {},
   "source": [
    "P=200"
   ]
  },
  {
   "cell_type": "code",
   "execution_count": null,
   "id": "ab7cb0ea-b84f-47a1-b8ae-283399013789",
   "metadata": {
    "tags": []
   },
   "outputs": [],
   "source": [
    "deltas = [0, 0.1, 0.3, 0.5, 1]\n",
    "P = period = 200\n",
    "theta = 0\n",
    "variable = \"A\"\n",
    "disorder_correlation = \"correlated\"\n",
    "elt = excitonic_layer_thickness = 50\n",
    "disorder_code = disorder_correlation[0]\n",
    "# D = \"-\".join([str(deltas[0]), str(deltas[-1])])\n",
    "\n",
    "the_plot_2 = compare_integrated_stats(\n",
    "    variable=variable,\n",
    "    disorder_correlation=disorder_correlation,\n",
    "    period=period,\n",
    "    delta=deltas,\n",
    "    wavelength=(480, 881),\n",
    "    theta=theta,\n",
    "    kind=\"line\",\n",
    "    x=\"num_periods\",\n",
    "    by=\"delta\",\n",
    "    mode=\"ef\",\n",
    ")\n",
    "the_plot_2"
   ]
  },
  {
   "cell_type": "code",
   "execution_count": null,
   "id": "107e44ba-a756-47ba-80cd-4e959019bda4",
   "metadata": {
    "tags": []
   },
   "outputs": [],
   "source": [
    "hv.save(\n",
    "    the_plot_2,\n",
    "    filename=fig_path\n",
    "    / f\"{variable+'ef'}tot_DLOPC_delta_comparison_N_P{P}_elt{elt}_th{theta}_Dc\",\n",
    "    fmt=\"png\",\n",
    "    toolbar=False,\n",
    ")"
   ]
  },
  {
   "cell_type": "markdown",
   "id": "074b668a-e8ee-4663-900f-f011a99f2ff9",
   "metadata": {},
   "source": [
    "P=300"
   ]
  },
  {
   "cell_type": "code",
   "execution_count": null,
   "id": "50fde0bb-d6ca-4996-9a92-884b754d0ba5",
   "metadata": {
    "tags": []
   },
   "outputs": [],
   "source": [
    "deltas = [0, 0.1, 0.3, 0.5, 1]\n",
    "P = period = 300\n",
    "theta = 0\n",
    "variable = \"A\"\n",
    "disorder_correlation = \"correlated\"\n",
    "elt = excitonic_layer_thickness = 50\n",
    "disorder_code = disorder_correlation[0]\n",
    "# D = \"-\".join([str(deltas[0]), str(deltas[-1])])\n",
    "\n",
    "the_plot_3 = compare_integrated_stats(\n",
    "    variable=variable,\n",
    "    disorder_correlation=disorder_correlation,\n",
    "    period=period,\n",
    "    delta=deltas,\n",
    "    wavelength=(480, 881),\n",
    "    theta=theta,\n",
    "    kind=\"line\",\n",
    "    x=\"num_periods\",\n",
    "    by=\"delta\",\n",
    "    mode=\"ef\",\n",
    ")\n",
    "the_plot_3"
   ]
  },
  {
   "cell_type": "code",
   "execution_count": null,
   "id": "305f5244-c4c9-4aeb-8b3e-4faa54ba90f9",
   "metadata": {
    "tags": []
   },
   "outputs": [],
   "source": [
    "hv.save(\n",
    "    the_plot_3,\n",
    "    filename=fig_path\n",
    "    / f\"{variable+'ef'}tot_DLOPC_delta_comparison_N_P{P}_elt{elt}_th{theta}_Dc\",\n",
    "    fmt=\"png\",\n",
    "    toolbar=False,\n",
    ")"
   ]
  },
  {
   "cell_type": "markdown",
   "id": "ab31f684-fbd7-47c6-a4c2-9be506e753e2",
   "metadata": {},
   "source": [
    "All our ~powers~ periods combined"
   ]
  },
  {
   "cell_type": "code",
   "execution_count": null,
   "id": "412cae28-8416-4f35-97ff-eb315bfd461a",
   "metadata": {
    "tags": []
   },
   "outputs": [],
   "source": [
    "the_big_plot = (\n",
    "    hv.NdOverlay(\n",
    "        {\n",
    "            (100, 0): the_plot_1.select(delta=0),\n",
    "            (100, 1): the_plot_1.select(delta=1),\n",
    "            (200, 0): the_plot_2.select(delta=0),\n",
    "            (200, 1): the_plot_2.select(delta=1),\n",
    "            (300, 0): the_plot_3.select(delta=0),\n",
    "            (300, 1): the_plot_3.select(delta=1),\n",
    "        },\n",
    "        kdims=[period_dim, delta_dim],\n",
    "    )\n",
    ")"
   ]
  },
  {
   "cell_type": "code",
   "execution_count": null,
   "id": "04553bf9-eed0-46e0-8d34-d0a7cfccbf83",
   "metadata": {
    "tags": []
   },
   "outputs": [],
   "source": [
    "the_big_plot[:,0].opts(opts.Curve(line_dash=\"solid\"))\n",
    "the_big_plot[:,1].opts(opts.Curve(line_dash=\"dashed\"))\n",
    "\n",
    "the_big_plot[100,:].opts(opts.Curve(color=default_color_cycle.values[0]))\n",
    "the_big_plot[200,:].opts(opts.Curve(color=default_color_cycle.values[1]))\n",
    "the_big_plot[300,:].opts(opts.Curve(color=default_color_cycle.values[2]))\n",
    "\n",
    "the_big_plot.opts(opts.NdOverlay(legend_position=\"right\", legend_opts = {\"title\": \"\"}))"
   ]
  },
  {
   "cell_type": "code",
   "execution_count": null,
   "id": "22397a5f-2f2e-4f1f-85a6-b62b3269e9fe",
   "metadata": {
    "tags": []
   },
   "outputs": [],
   "source": [
    "hv.save(\n",
    "    the_big_plot,\n",
    "    filename=fig_path\n",
    "    / f\"{variable+'ef'}tot_DLOPC_period_delta_comparison_N_P_100-300_elt{elt}_th{theta}_D0-1c\",\n",
    "    fmt=\"png\",\n",
    "    toolbar=False,\n",
    ")"
   ]
  },
  {
   "cell_type": "markdown",
   "id": "5ddd4d54-8f96-44cc-860c-53af413f713a",
   "metadata": {
    "jp-MarkdownHeadingCollapsed": true,
    "tags": []
   },
   "source": [
    "### Plots over theta"
   ]
  },
  {
   "cell_type": "markdown",
   "id": "ebcd27f8-6d4c-44e5-ab4c-8f8e9cb1d668",
   "metadata": {
    "jp-MarkdownHeadingCollapsed": true,
    "tags": []
   },
   "source": [
    "#### 2D plots"
   ]
  },
  {
   "cell_type": "code",
   "execution_count": null,
   "id": "763b23d0-04d9-470c-8c43-5b0383ff3121",
   "metadata": {
    "tags": []
   },
   "outputs": [],
   "source": [
    "deltas = [0, 0.1, 0.3, 0.5]\n",
    "P = period = 300\n",
    "variable = \"A\"\n",
    "disorder_correlation = \"uncorrelated\"\n",
    "excitonic_layer_thickness = 50\n",
    "elt = excitonic_layer_thickness = 50\n",
    "num_periods = [5, 10, 20, 50]\n",
    "disorder_code = disorder_correlation[0]\n",
    "\n",
    "the_plot = (\n",
    "    restacked_norm_1_stats(stats_ds)[f\"{variable}_mean\"].sel(disorder_correlation=disorder_correlation, period=period, num_periods=num_periods, delta=deltas).squeeze()\n",
    ").hvplot(\n",
    "    kind=\"quadmesh\",\n",
    "    x=\"wavelength\",\n",
    "    y=\"theta\",\n",
    "    row=\"num_periods\",\n",
    "    col=\"delta\",\n",
    ") * lorentz_vlines(0, scale=1e-9)"
   ]
  },
  {
   "cell_type": "code",
   "execution_count": null,
   "id": "252131c6-9f52-4c4e-97f5-1a85c2c2232b",
   "metadata": {
    "tags": []
   },
   "outputs": [],
   "source": [
    "the_plot.opts(opts.QuadMesh(cmap=\"RdBu_r\", colorbar=False, clim=(0, 2), xticks=2, yticks=[0, 40, 80]), opts.VLine(color=\"black\", line_dash=\"dotted\"))\n",
    "the_plot[5].opts(opts.QuadMesh(colorbar=True, colorbar_position=\"left\"))\n",
    "the_plot"
   ]
  },
  {
   "cell_type": "code",
   "execution_count": null,
   "id": "7810d679-5627-45fc-85fa-d35d51d269c9",
   "metadata": {
    "tags": []
   },
   "outputs": [],
   "source": [
    "hv.save(the_plot, filename=fig_path/f\"{variable+'ef'}_DLOPC_2D_wl_th_grid_N_D{disorder_code}_P{P}_elt{elt}_avg\", fmt=\"png\", toolbar=False)"
   ]
  },
  {
   "cell_type": "code",
   "execution_count": null,
   "id": "d8bc83ee-9466-468c-ac07-836226a44bae",
   "metadata": {
    "tags": []
   },
   "outputs": [],
   "source": [
    "deltas = [0.1, 0.3, 0.5, 1]\n",
    "P = period = 300\n",
    "variable = \"A\"\n",
    "disorder_correlation = \"correlated\"\n",
    "excitonic_layer_thickness = 50\n",
    "elt = excitonic_layer_thickness = 50\n",
    "num_periods = [5, 10, 20, 50]\n",
    "disorder_code = disorder_correlation[0]\n",
    "\n",
    "the_plot = (\n",
    "    restacked_norm_1_stats(stats_ds)[f\"{variable}_mean\"].sel(disorder_correlation=disorder_correlation, period=period, num_periods=num_periods, delta=deltas).squeeze()\n",
    ").hvplot(\n",
    "    kind=\"quadmesh\",\n",
    "    x=\"wavelength\",\n",
    "    y=\"theta\",\n",
    "    row=\"num_periods\",\n",
    "    col=\"delta\",\n",
    ") * lorentz_vlines(0, scale=1e-9)"
   ]
  },
  {
   "cell_type": "code",
   "execution_count": null,
   "id": "63d394b5-c047-42f9-98da-4096253189b1",
   "metadata": {
    "tags": []
   },
   "outputs": [],
   "source": [
    "the_plot.opts(opts.QuadMesh(cmap=\"RdBu_r\", colorbar=False, clim=(0, 2), xticks=2, yticks=[0, 40, 80]), opts.VLine(color=\"black\", line_dash=\"dotted\"))\n",
    "the_plot[5].opts(opts.QuadMesh(colorbar=True, colorbar_position=\"left\"))\n",
    "the_plot"
   ]
  },
  {
   "cell_type": "code",
   "execution_count": null,
   "id": "3818fca8-6c15-4335-9c3a-e88aec98dfde",
   "metadata": {
    "tags": []
   },
   "outputs": [],
   "source": [
    "hv.save(the_plot, filename=fig_path/f\"{variable+'ef'}_DLOPC_2D_wl_th_grid_N_D{disorder_code}_P{P}_elt{elt}_avg\", fmt=\"png\", toolbar=False)"
   ]
  },
  {
   "cell_type": "markdown",
   "id": "9c2bed78-4b39-483b-9363-365864c3d37e",
   "metadata": {},
   "source": [
    "Interesting. Singles?"
   ]
  },
  {
   "cell_type": "code",
   "execution_count": null,
   "id": "506ad62f-b2d7-4734-a20a-aa2288233aaf",
   "metadata": {
    "tags": []
   },
   "outputs": [],
   "source": [
    "deltas = [0, 0.1, 0.3, 0.5]\n",
    "P = period = 300\n",
    "variable = \"A\"\n",
    "disorder_correlation = \"uncorrelated\"\n",
    "excitonic_layer_thickness = 50\n",
    "elt = excitonic_layer_thickness = 50\n",
    "num_periods = [5, 10, 20, 50]\n",
    "run = 0\n",
    "disorder_code = disorder_correlation[0]\n",
    "\n",
    "the_plot = (\n",
    "    restacked_norm_1(singles_ds)[f\"{variable}\"].sel(run=run, disorder_correlation=disorder_correlation, period=period, num_periods=num_periods, delta=deltas).squeeze()\n",
    ").hvplot(\n",
    "    kind=\"quadmesh\",\n",
    "    x=\"wavelength\",\n",
    "    y=\"theta\",\n",
    "    row=\"num_periods\",\n",
    "    col=\"delta\",\n",
    ") * lorentz_vlines(0, scale=1e-9)"
   ]
  },
  {
   "cell_type": "code",
   "execution_count": null,
   "id": "19f26ab9-ac3c-46fe-9d66-2a28ba880c39",
   "metadata": {
    "tags": []
   },
   "outputs": [],
   "source": [
    "the_plot.opts(opts.QuadMesh(cmap=\"RdBu_r\", colorbar=False, clim=(0, 2), xticks=2, yticks=[0, 40, 80]), opts.VLine(color=\"black\", line_dash=\"dotted\"))\n",
    "the_plot[5].opts(opts.QuadMesh(colorbar=True, colorbar_position=\"left\"))\n",
    "the_plot"
   ]
  },
  {
   "cell_type": "code",
   "execution_count": null,
   "id": "ae80a3c5-84ad-48bb-b1e0-69e82f253fbf",
   "metadata": {
    "tags": []
   },
   "outputs": [],
   "source": [
    "hv.save(the_plot, filename=fig_path/f\"{variable+'ef'}_DLOPC_2D_wl_th_grid_N_D{disorder_code}_P{P}_elt{elt}_r{run}\", fmt=\"png\", toolbar=False)"
   ]
  },
  {
   "cell_type": "code",
   "execution_count": null,
   "id": "2c3eb0ce-a4d4-4cf2-85d6-568cceeb29b8",
   "metadata": {
    "tags": []
   },
   "outputs": [],
   "source": [
    "deltas = [0.1, 0.3, 0.5, 1]\n",
    "P = period = 300\n",
    "variable = \"A\"\n",
    "disorder_correlation = \"correlated\"\n",
    "excitonic_layer_thickness = 50\n",
    "elt = excitonic_layer_thickness = 50\n",
    "num_periods = [5, 10, 20, 50]\n",
    "run = 0\n",
    "disorder_code = disorder_correlation[0]\n",
    "\n",
    "the_plot = (\n",
    "    restacked_norm_1(singles_ds)[f\"{variable}\"].sel(run=run, disorder_correlation=disorder_correlation, period=period, num_periods=num_periods, delta=deltas).squeeze()\n",
    ").hvplot(\n",
    "    kind=\"quadmesh\",\n",
    "    x=\"wavelength\",\n",
    "    y=\"theta\",\n",
    "    row=\"num_periods\",\n",
    "    col=\"delta\",\n",
    ") * lorentz_vlines(0, scale=1e-9)"
   ]
  },
  {
   "cell_type": "code",
   "execution_count": null,
   "id": "ebd0628c-4500-47a5-b232-7f2fba9b19a8",
   "metadata": {
    "tags": []
   },
   "outputs": [],
   "source": [
    "the_plot.opts(opts.QuadMesh(cmap=\"RdBu_r\", colorbar=False, clim=(0, 2), xticks=2, yticks=[0, 40, 80]), opts.VLine(color=\"black\", line_dash=\"dotted\"))\n",
    "the_plot[5].opts(opts.QuadMesh(colorbar=True, colorbar_position=\"left\"))\n",
    "the_plot"
   ]
  },
  {
   "cell_type": "code",
   "execution_count": null,
   "id": "f00ef8e0-2541-4345-af8e-6f3f8075314f",
   "metadata": {
    "tags": []
   },
   "outputs": [],
   "source": [
    "hv.save(the_plot, filename=fig_path/f\"{variable+'ef'}_DLOPC_2D_wl_th_grid_N_D{disorder_code}_P{P}_elt{elt}_r{run}\", fmt=\"png\", toolbar=False)"
   ]
  },
  {
   "cell_type": "code",
   "execution_count": null,
   "id": "55aa0009-deb9-4c4c-8a56-cfc53aff58df",
   "metadata": {
    "tags": []
   },
   "outputs": [],
   "source": [
    "deltas = [0.1, 0.3, 0.5, 1]\n",
    "P = period = 300\n",
    "variable = \"A\"\n",
    "disorder_correlation = \"correlated\"\n",
    "excitonic_layer_thickness = 50\n",
    "elt = excitonic_layer_thickness = 50\n",
    "num_periods = [5, 10, 20, 50]\n",
    "run = 0\n",
    "disorder_code = disorder_correlation[0]\n",
    "\n",
    "the_plot = (\n",
    "    restacked_sds[f\"{variable}\"].sel(run=run, disorder_correlation=disorder_correlation, period=period, num_periods=num_periods, delta=deltas).squeeze()\n",
    ").hvplot(\n",
    "    kind=\"quadmesh\",\n",
    "    x=\"wavelength\",\n",
    "    y=\"theta\",\n",
    "    row=\"num_periods\",\n",
    "    col=\"delta\",\n",
    ") * lorentz_vlines(0, scale=1e-9)"
   ]
  },
  {
   "cell_type": "code",
   "execution_count": null,
   "id": "f7621087-23eb-474e-9b3b-2cf03a3c1d96",
   "metadata": {
    "tags": []
   },
   "outputs": [],
   "source": [
    "the_plot.opts(opts.QuadMesh(cmap=\"inferno\", colorbar=False, clim=(0, 1), xticks=2, yticks=[0, 40, 80]), opts.VLine(color=\"black\", line_dash=\"dotted\"))\n",
    "the_plot[5].opts(opts.QuadMesh(colorbar=True, colorbar_position=\"left\"))\n",
    "the_plot"
   ]
  },
  {
   "cell_type": "code",
   "execution_count": null,
   "id": "e6b85d26-c10f-4b7c-b136-52f635a90a17",
   "metadata": {
    "tags": []
   },
   "outputs": [],
   "source": [
    "hv.save(the_plot, filename=fig_path/f\"{variable}_DLOPC_2D_wl_th_grid_N_D{disorder_code}_P{P}_elt{elt}_r{run}\", fmt=\"png\", toolbar=False)"
   ]
  },
  {
   "cell_type": "markdown",
   "id": "7c8b17b6-7886-41f4-9aaf-75e7b3954308",
   "metadata": {},
   "source": [
    "Why is the AEF at high angles so much lower for P=100 than P=200-300?"
   ]
  },
  {
   "cell_type": "code",
   "execution_count": null,
   "id": "10748769-1c50-4373-b674-03de78fd8c89",
   "metadata": {
    "tags": []
   },
   "outputs": [],
   "source": [
    "deltas = [0.1, 0.3, 0.5, 1]\n",
    "P = period = 100\n",
    "variable = \"A\"\n",
    "disorder_correlation = \"correlated\"\n",
    "excitonic_layer_thickness = 50\n",
    "elt = excitonic_layer_thickness = 50\n",
    "num_periods = [5, 10, 20, 50]\n",
    "disorder_code = disorder_correlation[0]\n",
    "\n",
    "the_plot = (\n",
    "    restacked_norm_1_stats(stats_ds)[f\"{variable}_mean\"].sel(disorder_correlation=disorder_correlation, period=period, num_periods=num_periods, delta=deltas).squeeze()\n",
    ").hvplot(\n",
    "    kind=\"quadmesh\",\n",
    "    x=\"wavelength\",\n",
    "    y=\"theta\",\n",
    "    row=\"num_periods\",\n",
    "    col=\"delta\",\n",
    ") * lorentz_vlines(0, scale=1e-9)"
   ]
  },
  {
   "cell_type": "code",
   "execution_count": null,
   "id": "a16d0e70-b251-4ced-9e53-174491c857ef",
   "metadata": {
    "tags": []
   },
   "outputs": [],
   "source": [
    "the_plot.opts(opts.QuadMesh(cmap=\"RdBu_r\", colorbar=False, clim=(0, 2), xticks=2, yticks=[0, 40, 80]), opts.VLine(color=\"black\", line_dash=\"dotted\"))\n",
    "the_plot[5].opts(opts.QuadMesh(colorbar=True, colorbar_position=\"left\"))\n",
    "the_plot"
   ]
  },
  {
   "cell_type": "code",
   "execution_count": null,
   "id": "a081b50b-2caf-4b4f-8237-5fba1c9c008b",
   "metadata": {
    "tags": []
   },
   "outputs": [],
   "source": [
    "hv.save(the_plot, filename=fig_path/f\"{variable+'ef'}_DLOPC_2D_wl_th_grid_N_D{disorder_code}_P{P}_elt{elt}_avg\", fmt=\"png\", toolbar=False)"
   ]
  },
  {
   "cell_type": "code",
   "execution_count": null,
   "id": "21b9a12d-ed36-4884-b490-c52e94ff2fe6",
   "metadata": {
    "tags": []
   },
   "outputs": [],
   "source": [
    "deltas = [0, 0.1, 0.3, 0.5]\n",
    "P = period = 100\n",
    "variable = \"R\"\n",
    "disorder_correlation = \"uncorrelated\"\n",
    "excitonic_layer_thickness = 50\n",
    "elt = excitonic_layer_thickness = 50\n",
    "num_periods = [5, 10, 20, 50]\n",
    "disorder_code = disorder_correlation[0]\n",
    "\n",
    "the_plot = (\n",
    "    restacked_stats_ds[\"R_mean\"].sel(disorder_correlation=disorder_correlation, period=period, num_periods=num_periods, delta=deltas).squeeze()\n",
    ").hvplot(\n",
    "    kind=\"quadmesh\",\n",
    "    x=\"wavelength\",\n",
    "    y=\"theta\",\n",
    "    row=\"num_periods\",\n",
    "    col=\"delta\",\n",
    ") * lorentz_vlines(0, scale=1e-9)"
   ]
  },
  {
   "cell_type": "code",
   "execution_count": null,
   "id": "94dc7689-230a-4bd0-95b6-0a8fa9b5a396",
   "metadata": {
    "tags": []
   },
   "outputs": [],
   "source": [
    "the_plot.opts(opts.QuadMesh(cmap=\"viridis\", colorbar=False, clim=(0, 1), xticks=2, yticks=[0, 40, 80]), opts.VLine(color=\"white\", line_dash=\"dotted\"))\n",
    "the_plot[5].opts(opts.QuadMesh(colorbar=True, colorbar_position=\"left\"))\n",
    "the_plot"
   ]
  },
  {
   "cell_type": "code",
   "execution_count": null,
   "id": "9c02d8d7-0279-4945-9b06-10fd0e9c2750",
   "metadata": {
    "tags": []
   },
   "outputs": [],
   "source": [
    "hv.save(the_plot, filename=fig_path/f\"R_DLOPC_2D_wl_th_grid_N_D{disorder_code}_P{P}_elt{elt}_avg\", fmt=\"png\", toolbar=False)"
   ]
  },
  {
   "cell_type": "code",
   "execution_count": null,
   "id": "2343f6a2-3068-4818-8265-f4ee6262fe03",
   "metadata": {
    "tags": []
   },
   "outputs": [],
   "source": [
    "deltas = [0.1, 0.3, 0.5, 1]\n",
    "P = period = 100\n",
    "variable = \"R\"\n",
    "disorder_correlation = \"correlated\"\n",
    "excitonic_layer_thickness = 50\n",
    "elt = excitonic_layer_thickness = 50\n",
    "num_periods = [5, 10, 20, 50]\n",
    "run = 0\n",
    "disorder_code = disorder_correlation[0]\n",
    "\n",
    "the_plot = (\n",
    "    restacked_stats_ds[\"R_mean\"].sel(disorder_correlation=disorder_correlation, period=period, num_periods=num_periods, delta=deltas).squeeze()\n",
    ").hvplot(\n",
    "    kind=\"quadmesh\",\n",
    "    x=\"wavelength\",\n",
    "    y=\"theta\",\n",
    "    row=\"num_periods\",\n",
    "    col=\"delta\",\n",
    ") * lorentz_vlines(0, scale=1e-9)"
   ]
  },
  {
   "cell_type": "code",
   "execution_count": null,
   "id": "85acaa18-e5a7-4429-ab50-1630ceccb28a",
   "metadata": {
    "tags": []
   },
   "outputs": [],
   "source": [
    "the_plot.opts(opts.QuadMesh(cmap=\"viridis\", colorbar=False, clim=(0, 1), xticks=2, yticks=[0, 40, 80]), opts.VLine(color=\"white\", line_dash=\"dotted\"))\n",
    "the_plot[5].opts(opts.QuadMesh(colorbar=True, colorbar_position=\"left\"))\n",
    "the_plot"
   ]
  },
  {
   "cell_type": "code",
   "execution_count": null,
   "id": "8af5c343-78e0-4a8b-9e4c-cf0610932fad",
   "metadata": {
    "tags": []
   },
   "outputs": [],
   "source": [
    "hv.save(the_plot, filename=fig_path/f\"R_DLOPC_2D_wl_th_grid_N_D{disorder_code}_P{P}_elt{elt}_avg\", fmt=\"png\", toolbar=False)"
   ]
  },
  {
   "cell_type": "markdown",
   "id": "5ed08d40-2535-4af4-b657-a8d710415ad0",
   "metadata": {},
   "source": [
    "Ah, it's because d_e=50 is pretty chunky compared to P=100."
   ]
  },
  {
   "cell_type": "code",
   "execution_count": null,
   "id": "bdf8b4d1-7b74-4069-84f8-dc34561dd08e",
   "metadata": {
    "tags": []
   },
   "outputs": [],
   "source": [
    "plts = [0, 50]\n",
    "variable = \"R\"\n",
    "disorder_correlation = \"correlated\"\n",
    "elts = [10, 20, 30, 50]\n",
    "num_periods = 50\n",
    "\n",
    "the_plot = (\n",
    "    periodic_ds[variable].sel(passive_layer_thickness=plts, num_periods=num_periods, excitonic_layer_thickness=elts).squeeze()\n",
    ").hvplot(\n",
    "    kind=\"quadmesh\",\n",
    "    x=\"wavelength\",\n",
    "    y=\"theta\",\n",
    "    row=\"excitonic_layer_thickness\",\n",
    "    col=\"passive_layer_thickness\",\n",
    ") * lorentz_vlines(0, scale=1e-9)"
   ]
  },
  {
   "cell_type": "code",
   "execution_count": null,
   "id": "96120ed3-d730-4c9b-9d56-ee2879ee9e3b",
   "metadata": {
    "tags": []
   },
   "outputs": [],
   "source": [
    "the_plot.opts(opts.QuadMesh(cmap=\"viridis\", colorbar=False, clim=(0, 1), xticks=2, yticks=[0, 40, 80]), opts.VLine(color=\"white\", line_dash=\"dotted\"))\n",
    "the_plot[5].opts(opts.QuadMesh(colorbar=True, colorbar_position=\"left\"))\n",
    "the_plot"
   ]
  },
  {
   "cell_type": "code",
   "execution_count": null,
   "id": "0599f7c5-27fe-474f-9bc3-ad8fc1f82e6e",
   "metadata": {
    "tags": []
   },
   "outputs": [],
   "source": [
    "period = 100\n",
    "variable = \"R\"\n",
    "disorder_correlation = \"correlated\"\n",
    "elts = [10, 20, 30, 50]\n",
    "num_periods = 50\n",
    "\n",
    "the_plot = (\n",
    "    restacked_pds[variable].sel(period=period, num_periods=num_periods, excitonic_layer_thickness=elts).squeeze()\n",
    ").hvplot(\n",
    "    kind=\"quadmesh\",\n",
    "    x=\"wavelength\",\n",
    "    y=\"theta\",\n",
    "    row=\"excitonic_layer_thickness\",\n",
    ") * lorentz_vlines(0, scale=1e-9)"
   ]
  },
  {
   "cell_type": "code",
   "execution_count": null,
   "id": "7f7393ca-9167-4c32-a618-38545788b435",
   "metadata": {
    "tags": []
   },
   "outputs": [],
   "source": [
    "the_plot = the_plot.redim(excitonic_layer_thickness=elt_dim)\n",
    "the_plot.opts(opts.QuadMesh(cmap=\"viridis\", colorbar=False, clim=(0, 1), xticks=2, yticks=[0, 40, 80]), opts.VLine(color=\"white\", line_dash=\"dotted\"))\n",
    "the_plot[5].opts(opts.QuadMesh(colorbar=True, colorbar_position=\"left\"))\n",
    "the_plot"
   ]
  },
  {
   "cell_type": "code",
   "execution_count": null,
   "id": "c1203e4a-81f6-41ab-9e06-65a242673a53",
   "metadata": {
    "tags": []
   },
   "outputs": [],
   "source": [
    "hv.save(the_plot, filename=fig_path/\"R_LOPC_lambda_theta_2D_elt_grid\", fmt=\"png\", toolbar=None)"
   ]
  },
  {
   "cell_type": "code",
   "execution_count": null,
   "id": "6c2e23e8-1481-4010-8106-5b9c37d7c442",
   "metadata": {
    "tags": []
   },
   "outputs": [],
   "source": [
    "period = 100\n",
    "excitonic_layer_thickness = 50\n",
    "passive_layer_thickness = period - excitonic_layer_thickness\n",
    "num_periods = 20"
   ]
  },
  {
   "cell_type": "code",
   "execution_count": null,
   "id": "f31045a0-7edc-439b-811e-02529f791641",
   "metadata": {
    "tags": []
   },
   "outputs": [],
   "source": [
    "plots = OrderedDict({\n",
    "    var: plot_R(\n",
    "        variable=var,\n",
    "        dataset=restacked_ds.sel(\n",
    "            period=period,\n",
    "            excitonic_layer_thickness=excitonic_layer_thickness,\n",
    "            num_periods=num_periods,\n",
    "        ).squeeze(),\n",
    "        x=\"wavelength\",\n",
    "        y=\"theta\",\n",
    "    )\n",
    "    for var in [\"R\", \"Rs\", \"Rp\"]\n",
    "})"
   ]
  },
  {
   "cell_type": "code",
   "execution_count": null,
   "id": "9b3a1437-8c30-4ce2-ab2c-1ad8ad94db75",
   "metadata": {
    "tags": []
   },
   "outputs": [],
   "source": [
    "grid = hv.GridSpace(plots, kdims=[\"Reflectance\"], sort=False)*lorentz_vlines(0, scale=1e-9)"
   ]
  },
  {
   "cell_type": "code",
   "execution_count": null,
   "id": "077e7423-2f61-448e-957a-b5037acb1511",
   "metadata": {
    "tags": []
   },
   "outputs": [],
   "source": [
    "grid.opts(opts.Image(colorbar=False))\n",
    "grid[\"R\"].opts(opts.Image(colorbar=True, colorbar_position=\"left\"))\n",
    "\n",
    "grid.opts(opts.Image(xticks=3, frame_height=120, frame_width=160), opts.VLine(line_dash=\"dotted\", color=\"white\"), opts.GridSpace(fontsize={\"xlabel\": 8}, toolbar=\"below\"))"
   ]
  },
  {
   "cell_type": "code",
   "execution_count": null,
   "id": "a6783835-65b4-4f3f-a5f5-0c44bae73d07",
   "metadata": {
    "tags": []
   },
   "outputs": [],
   "source": [
    "# hv.save(grid, filename=fig_path/\"R_lambda_theta_2D\", fmt=\"png\", toolbar=None)"
   ]
  },
  {
   "cell_type": "code",
   "execution_count": null,
   "id": "989e2783-1cd1-4685-8950-4160974ad309",
   "metadata": {
    "tags": []
   },
   "outputs": [],
   "source": [
    "excitonic_layer_thickness = 30\n",
    "theta = 0"
   ]
  },
  {
   "cell_type": "code",
   "execution_count": null,
   "id": "72a9dda8-89bb-4184-bf6e-653903dea066",
   "metadata": {
    "tags": []
   },
   "outputs": [],
   "source": [
    "coords = {\"excitonic_layer_thickness\": excitonic_layer_thickness, \"theta\": theta}"
   ]
  },
  {
   "cell_type": "code",
   "execution_count": null,
   "id": "137dc0a8-8b62-4292-b163-f0df40a5d6ca",
   "metadata": {
    "tags": []
   },
   "outputs": [],
   "source": [
    "curves = {(P,N): restacked_ds[unpolarised_RTA].sel(num_periods=N, period=P, **coords).squeeze().hvplot.line(x=\"wavelength\")*lorentz_vlines(0, scale=1e-9).opts(line_dash='dotted') for N in [50, 20, 10] for P in [200, 250, 300]}"
   ]
  },
  {
   "cell_type": "code",
   "execution_count": null,
   "id": "0e05bfe8-4a38-415c-910a-e542bf13951a",
   "metadata": {
    "tags": []
   },
   "outputs": [],
   "source": [
    "grid = hv.GridSpace(curves, kdims=[period_dim, \"Number of periods\"])"
   ]
  },
  {
   "cell_type": "code",
   "execution_count": null,
   "id": "dd202c6f-6439-43d2-aed1-34aaca6c79b5",
   "metadata": {
    "tags": []
   },
   "outputs": [],
   "source": [
    "# hacky workaround to bugs in hvplot/holoviews\n",
    "for p in grid:\n",
    "    p.opts(\n",
    "        opts.Overlay(\n",
    "            show_legend=False,\n",
    "            show_grid=True,\n",
    "        ),\n",
    "        opts.Curve(\n",
    "            color=hv.Cycle([blue, yellow, red]),  # set R/T/A->blue/yellow/red\n",
    "            frame_width=200,\n",
    "        ),\n",
    "    )  # remove the excess legends\n",
    "\n",
    "# grid[200, 50].opts(\n",
    "#     opts.Overlay(show_legend=True, legend_position=\"left\")\n",
    "# )  # add the legend back in on a free side but this breaks the left alignment somehow\n",
    "\n",
    "grid.opts(opts.GridSpace(show_legend=False, shared_xaxis=True, shared_yaxis=True, toolbar=None))"
   ]
  },
  {
   "cell_type": "markdown",
   "id": "01857888-24fa-4aaa-b8ec-aa6f7c0ff866",
   "metadata": {},
   "source": [
    "This is the code I would have liked to have used to save this image.\n",
    "\n",
    "Unfortunately the `toolbar=False` argument doesn't work so I have to actually *use* the toolbar above to save it!\n",
    "\n",
    "... Except this ALSO doesn't work, because the save button saves 9 individual images?! So I guess I have to use the below code and manually crop or something stupid."
   ]
  },
  {
   "cell_type": "code",
   "execution_count": null,
   "id": "13c0057e-861f-4090-ae06-3db5f512395f",
   "metadata": {
    "tags": []
   },
   "outputs": [],
   "source": [
    "# hv.save(grid, filename=fig_path/f\"N_Lambda_grid_2\", fmt=\"png\", toolbar=None)"
   ]
  },
  {
   "cell_type": "markdown",
   "id": "e4f40979-e13c-488e-b974-3082aaea9b82",
   "metadata": {
    "tags": []
   },
   "source": [
    "#### 1D plots"
   ]
  },
  {
   "cell_type": "markdown",
   "id": "1155d41b-af72-467e-ab52-9983e74783ea",
   "metadata": {
    "tags": []
   },
   "source": [
    "##### Absorptance"
   ]
  },
  {
   "cell_type": "markdown",
   "id": "5a377c6b-22dd-4343-9264-b0751ff6ccd1",
   "metadata": {},
   "source": [
    "(P=300)"
   ]
  },
  {
   "cell_type": "code",
   "execution_count": null,
   "id": "759d73d1-792c-46e9-80d6-bbb8aa400178",
   "metadata": {
    "tags": []
   },
   "outputs": [],
   "source": [
    "variable = \"A\"\n",
    "disorder_correlation = \"correlated\"\n",
    "N = num_periods = 20\n",
    "P = period = 300\n",
    "deltas = [0, 0.1, 0.3, 0.5, 1]\n",
    "theta = None\n",
    "elt = excitonic_layer_thickness = 50\n",
    "disorder_code = disorder_correlation[0]\n",
    "\n",
    "the_plot = compare_integrated_stats(\n",
    "    variable=variable,\n",
    "    disorder_correlation=disorder_correlation,\n",
    "    num_periods=num_periods,\n",
    "    period=period,\n",
    "    delta=deltas,\n",
    "    wavelength=(480, 881),\n",
    "    theta=None,\n",
    "    kind=\"line\",\n",
    "    x=\"theta\",\n",
    "    by=\"delta\"\n",
    ")\n",
    "the_plot"
   ]
  },
  {
   "cell_type": "code",
   "execution_count": null,
   "id": "82768ea6-8f5b-4238-a657-8eaeeda88aa8",
   "metadata": {
    "tags": []
   },
   "outputs": [],
   "source": [
    "hv.save(the_plot, filename=fig_path/f\"{variable}tot_DLOPC_delta_comparison_th_P{P}_elt{elt}_N{N}_D{disorder_code}\", fmt=\"png\", toolbar=False)"
   ]
  },
  {
   "cell_type": "markdown",
   "id": "00bdc461-452c-4c2b-9606-4930dc2a095e",
   "metadata": {},
   "source": [
    "(P=200)"
   ]
  },
  {
   "cell_type": "code",
   "execution_count": null,
   "id": "c2832ef4-32eb-44b2-b72d-410efbd243e8",
   "metadata": {
    "tags": []
   },
   "outputs": [],
   "source": [
    "variable = \"A\"\n",
    "disorder_correlation = \"correlated\"\n",
    "N = num_periods = 20\n",
    "P = period = 200\n",
    "deltas = [0, 0.1, 0.3, 0.5, 1]\n",
    "theta = None\n",
    "elt = excitonic_layer_thickness = 50\n",
    "disorder_code = disorder_correlation[0]\n",
    "\n",
    "the_plot = compare_integrated_stats(\n",
    "    variable=variable,\n",
    "    disorder_correlation=disorder_correlation,\n",
    "    num_periods=num_periods,\n",
    "    period=period,\n",
    "    delta=deltas,\n",
    "    wavelength=(480, 881),\n",
    "    theta=None,\n",
    "    kind=\"line\",\n",
    "    x=\"theta\",\n",
    "    by=\"delta\"\n",
    ")\n",
    "the_plot"
   ]
  },
  {
   "cell_type": "code",
   "execution_count": null,
   "id": "bd1d03f1-a994-4c68-9fe0-fc1d94d0f689",
   "metadata": {
    "tags": []
   },
   "outputs": [],
   "source": [
    "hv.save(the_plot, filename=fig_path/f\"{variable}tot_DLOPC_delta_comparison_th_P{P}_elt{elt}_N{N}_D{disorder_code}\", fmt=\"png\", toolbar=False)"
   ]
  },
  {
   "cell_type": "markdown",
   "id": "9e94af9b-cf32-4c77-a530-686d8df182e7",
   "metadata": {},
   "source": [
    "(P=100)"
   ]
  },
  {
   "cell_type": "code",
   "execution_count": null,
   "id": "b5a1e06d-c926-4930-879a-a0ab96bdce83",
   "metadata": {
    "tags": []
   },
   "outputs": [],
   "source": [
    "variable = \"A\"\n",
    "disorder_correlation = \"correlated\"\n",
    "N = num_periods = 20\n",
    "P = period = 100\n",
    "deltas = [0, 0.1, 0.3, 0.5, 1]\n",
    "theta = None\n",
    "elt = excitonic_layer_thickness = 50\n",
    "disorder_code = disorder_correlation[0]\n",
    "\n",
    "the_plot = compare_integrated_stats(\n",
    "    variable=variable,\n",
    "    disorder_correlation=disorder_correlation,\n",
    "    num_periods=num_periods,\n",
    "    period=period,\n",
    "    delta=deltas,\n",
    "    wavelength=(480, 881),\n",
    "    theta=None,\n",
    "    kind=\"line\",\n",
    "    x=\"theta\",\n",
    "    by=\"delta\"\n",
    ")\n",
    "the_plot"
   ]
  },
  {
   "cell_type": "code",
   "execution_count": null,
   "id": "c80d7abf-49f5-47ac-9c36-281620855011",
   "metadata": {
    "tags": []
   },
   "outputs": [],
   "source": [
    "hv.save(the_plot, filename=fig_path/f\"{variable}tot_DLOPC_delta_comparison_th_P{P}_elt{elt}_N{N}_D{disorder_code}\", fmt=\"png\", toolbar=False)"
   ]
  },
  {
   "cell_type": "markdown",
   "id": "58477aac-cf23-4720-97cc-d5eae5f375da",
   "metadata": {},
   "source": [
    "##### Absorptance enhancement"
   ]
  },
  {
   "cell_type": "markdown",
   "id": "63698107-6d69-43d3-980c-74cc06102b09",
   "metadata": {},
   "source": [
    "(P=300) When the periodic structure would cause absorption suppression, disorder can turn that into enhancement..."
   ]
  },
  {
   "cell_type": "code",
   "execution_count": null,
   "id": "42090e8c-27c5-4dad-9918-11e9f426442f",
   "metadata": {
    "tags": []
   },
   "outputs": [],
   "source": [
    "variable = \"A\"\n",
    "disorder_correlation = \"correlated\"\n",
    "N = num_periods = 20\n",
    "P = period = 300\n",
    "deltas = [0, 0.1, 0.3, 0.5, 1]\n",
    "theta = None\n",
    "elt = excitonic_layer_thickness = 50\n",
    "disorder_code = disorder_correlation[0]\n",
    "\n",
    "the_plot = compare_integrated_stats(\n",
    "    variable=variable,\n",
    "    disorder_correlation=disorder_correlation,\n",
    "    num_periods=num_periods,\n",
    "    period=period,\n",
    "    delta=deltas,\n",
    "    wavelength=(480, 881),\n",
    "    theta=None,\n",
    "    kind=\"line\",\n",
    "    x=\"theta\",\n",
    "    by=\"delta\",\n",
    "    mode=\"ef\",\n",
    ")\n",
    "the_plot"
   ]
  },
  {
   "cell_type": "code",
   "execution_count": null,
   "id": "3ddd703d-8879-443f-a911-3f1476b7fd38",
   "metadata": {
    "tags": []
   },
   "outputs": [],
   "source": [
    "hv.save(the_plot, filename=fig_path/f\"{variable+'ef'}tot_DLOPC_delta_comparison_th_P{P}_elt{elt}_N{N}_D{disorder_code}\", fmt=\"png\", toolbar=False)"
   ]
  },
  {
   "cell_type": "code",
   "execution_count": null,
   "id": "e4abba56-034d-4f09-80b7-f18f2d4a1e07",
   "metadata": {
    "tags": []
   },
   "outputs": [],
   "source": [
    "the_plot.opts(opts.Curve(xlim=(0, 45), ylim=(0.9, 1.1)))"
   ]
  },
  {
   "cell_type": "code",
   "execution_count": null,
   "id": "2bc628d3-ae0b-40da-8141-112a724e264f",
   "metadata": {
    "tags": []
   },
   "outputs": [],
   "source": [
    "hv.save(the_plot, filename=fig_path/f\"{variable+'ef'}tot_DLOPC_delta_comparison_th0-45_P{P}_elt{elt}_N{N}_D{disorder_code}\", fmt=\"png\", toolbar=False)"
   ]
  },
  {
   "cell_type": "markdown",
   "id": "e9000aa4-77d8-4184-8482-6424f3fa3052",
   "metadata": {},
   "source": [
    "(P=200) What about when it would cause enhancement?"
   ]
  },
  {
   "cell_type": "code",
   "execution_count": null,
   "id": "02b73792-87c7-4f8a-bcce-fdb531684002",
   "metadata": {
    "tags": []
   },
   "outputs": [],
   "source": [
    "variable = \"A\"\n",
    "disorder_correlation = \"correlated\"\n",
    "N = num_periods = 20\n",
    "P = period = 200\n",
    "deltas = [0, 0.1, 0.3, 0.5, 1]\n",
    "theta = None\n",
    "elt = excitonic_layer_thickness = 50\n",
    "disorder_code = disorder_correlation[0]\n",
    "\n",
    "the_plot = compare_integrated_stats(\n",
    "    variable=variable,\n",
    "    disorder_correlation=disorder_correlation,\n",
    "    num_periods=num_periods,\n",
    "    period=period,\n",
    "    delta=deltas,\n",
    "    wavelength=(480, 881),\n",
    "    theta=None,\n",
    "    kind=\"line\",\n",
    "    x=\"theta\",\n",
    "    by=\"delta\",\n",
    "    mode=\"ef\",\n",
    ")\n",
    "the_plot"
   ]
  },
  {
   "cell_type": "code",
   "execution_count": null,
   "id": "f1ac4b26-70ae-4564-b99f-3aea6205f22f",
   "metadata": {
    "tags": []
   },
   "outputs": [],
   "source": [
    "hv.save(the_plot, filename=fig_path/f\"{variable+'ef'}tot_DLOPC_delta_comparison_th_P{P}_elt{elt}_N{N}_D{disorder_code}\", fmt=\"png\", toolbar=False)"
   ]
  },
  {
   "cell_type": "code",
   "execution_count": null,
   "id": "1ebba9bc-0f3c-486a-948b-7714fd9709b5",
   "metadata": {
    "tags": []
   },
   "outputs": [],
   "source": [
    "the_plot.opts(opts.Curve(xlim=(0, 45), ylim=(0.98, 1.1)))"
   ]
  },
  {
   "cell_type": "code",
   "execution_count": null,
   "id": "bbcfa468-24a0-4aac-aaab-d5a410ab743b",
   "metadata": {
    "tags": []
   },
   "outputs": [],
   "source": [
    "hv.save(the_plot, filename=fig_path/f\"{variable+'ef'}tot_DLOPC_delta_comparison_th0-45_P{P}_elt{elt}_N{N}_D{disorder_code}\", fmt=\"png\", toolbar=False)"
   ]
  },
  {
   "cell_type": "markdown",
   "id": "f9e7cb14-771c-4211-941a-50c15078a784",
   "metadata": {},
   "source": [
    "(P=250) What about when we're on the LO resonance?"
   ]
  },
  {
   "cell_type": "code",
   "execution_count": null,
   "id": "5e8848a6-575d-4b9d-87ed-461b66e12473",
   "metadata": {
    "tags": []
   },
   "outputs": [],
   "source": [
    "variable = \"A\"\n",
    "disorder_correlation = \"correlated\"\n",
    "N = num_periods = 20\n",
    "P = period = 250\n",
    "deltas = [0, 0.1, 0.3, 0.5, 1]\n",
    "theta = None\n",
    "elt = excitonic_layer_thickness = 50\n",
    "disorder_code = disorder_correlation[0]\n",
    "\n",
    "the_plot = compare_integrated_stats(\n",
    "    variable=variable,\n",
    "    disorder_correlation=disorder_correlation,\n",
    "    num_periods=num_periods,\n",
    "    period=period,\n",
    "    delta=deltas,\n",
    "    wavelength=(480, 881),\n",
    "    theta=None,\n",
    "    kind=\"line\",\n",
    "    x=\"theta\",\n",
    "    by=\"delta\",\n",
    "    mode=\"ef\",\n",
    ")\n",
    "the_plot"
   ]
  },
  {
   "cell_type": "code",
   "execution_count": null,
   "id": "ff8e36ac-db19-43c7-9880-8d09c9d422e4",
   "metadata": {
    "tags": []
   },
   "outputs": [],
   "source": [
    "hv.save(the_plot, filename=fig_path/f\"{variable+'ef'}tot_DLOPC_delta_comparison_th_P{P}_elt{elt}_N{N}_D{disorder_code}\", fmt=\"png\", toolbar=False)"
   ]
  },
  {
   "cell_type": "code",
   "execution_count": null,
   "id": "cd41f03d-a2b1-4325-80e5-fe921f47141f",
   "metadata": {
    "tags": []
   },
   "outputs": [],
   "source": [
    "the_plot.opts(opts.Curve(xlim=(0, 45), ylim=(0.88, 1.1)))"
   ]
  },
  {
   "cell_type": "code",
   "execution_count": null,
   "id": "afeb794b-6f97-4f07-83b6-778da6811d48",
   "metadata": {
    "tags": []
   },
   "outputs": [],
   "source": [
    "hv.save(the_plot, filename=fig_path/f\"{variable+'ef'}tot_DLOPC_delta_comparison_th0-45_P{P}_elt{elt}_N{N}_D{disorder_code}\", fmt=\"png\", toolbar=False)"
   ]
  },
  {
   "cell_type": "markdown",
   "id": "0759c1ea-fee5-449b-80be-1f328212cefe",
   "metadata": {},
   "source": [
    "(P=100) What about when we're far from the LO resonance?"
   ]
  },
  {
   "cell_type": "code",
   "execution_count": null,
   "id": "b53f1f09-6198-4086-9c57-f972bd2c7d79",
   "metadata": {
    "tags": []
   },
   "outputs": [],
   "source": [
    "variable = \"A\"\n",
    "disorder_correlation = \"correlated\"\n",
    "N = num_periods = 20\n",
    "P = period = 100\n",
    "deltas = [0, 0.1, 0.3, 0.5, 1]\n",
    "theta = None\n",
    "elt = excitonic_layer_thickness = 50\n",
    "disorder_code = disorder_correlation[0]\n",
    "\n",
    "the_plot = compare_integrated_stats(\n",
    "    variable=variable,\n",
    "    disorder_correlation=disorder_correlation,\n",
    "    num_periods=num_periods,\n",
    "    period=period,\n",
    "    delta=deltas,\n",
    "    wavelength=(480, 881),\n",
    "    theta=None,\n",
    "    kind=\"line\",\n",
    "    x=\"theta\",\n",
    "    by=\"delta\",\n",
    "    mode=\"ef\",\n",
    ")\n",
    "the_plot"
   ]
  },
  {
   "cell_type": "code",
   "execution_count": null,
   "id": "a22f0b14-92b1-499d-b108-d18ea9a9d688",
   "metadata": {
    "tags": []
   },
   "outputs": [],
   "source": [
    "hv.save(the_plot, filename=fig_path/f\"{variable+'ef'}tot_DLOPC_delta_comparison_th_P{P}_elt{elt}_N{N}_D{disorder_code}\", fmt=\"png\", toolbar=False)"
   ]
  },
  {
   "cell_type": "markdown",
   "id": "a2e3d311-d02e-4b74-83e4-42a4394bd393",
   "metadata": {
    "tags": []
   },
   "source": [
    "### Optimal absorptance enhancement"
   ]
  },
  {
   "cell_type": "markdown",
   "id": "d6aa50ff-4123-4916-b356-a3914e3e4bf2",
   "metadata": {
    "tags": []
   },
   "source": [
    "#### Tests"
   ]
  },
  {
   "cell_type": "markdown",
   "id": "7a0554e8-d57b-4705-aff4-1a0db6c0f3d7",
   "metadata": {},
   "source": [
    "It seems that disorder strictly reduces the optimum for my model..."
   ]
  },
  {
   "cell_type": "code",
   "execution_count": null,
   "id": "5ac49329-9e9c-4445-8cdb-1e222fc91d91",
   "metadata": {
    "tags": []
   },
   "outputs": [],
   "source": [
    "temp_da = (\n",
    "    restacked_ief(\n",
    "        stats_ds, ref=crs_1_stats_norm, common_dim=\"total_excitonic_thickness\", wavelength=(None, None), lorentz_line=0, window_radius=1, integrate_angle=86,\n",
    "    )[\"A_mean\"]\n",
    "    .sel(disorder_correlation=\"uncorrelated\")\n",
    "    .sel(delta=slice(0, 0.5))\n",
    "    .squeeze()\n",
    ")\n",
    "\n",
    "the_plot = plot_optimum_over_dim(da=temp_da, x=\"delta\", y=\"num_periods\", dim=\"period\")[\n",
    "    0\n",
    "].opts(opts.QuadMesh(cmap=\"inferno\", clim=(1, None)))"
   ]
  },
  {
   "cell_type": "code",
   "execution_count": null,
   "id": "8f72344e-94bb-4b65-b75d-5199e32dd0ac",
   "metadata": {
    "tags": []
   },
   "outputs": [],
   "source": [
    "the_plot"
   ]
  },
  {
   "cell_type": "code",
   "execution_count": null,
   "id": "01782c49-f78f-45a5-8c69-08e5ad77953d",
   "metadata": {
    "tags": []
   },
   "outputs": [],
   "source": [
    "variable = \"A\"\n",
    "theta = 0\n",
    "integrate_angle = None\n",
    "elt = excitonic_layer_thickness = 50\n",
    "if integrate_angle:\n",
    "    th = f\"{theta}-{integrate_angle}\"\n",
    "else:\n",
    "    th = theta\n",
    "\n",
    "temp_da = (\n",
    "    restacked_ief(\n",
    "        stats_ds,\n",
    "        ref=crs_1_stats_norm,\n",
    "        common_dim=\"total_excitonic_thickness\",\n",
    "        wavelength=(None, None),\n",
    "        # lorentz_line=0,\n",
    "        # window_radius=5,\n",
    "        integrate_angle=integrate_angle,\n",
    "    )[f\"{variable}_mean\"]\n",
    "    .sel(delta=slice(0, 1))\n",
    "    .squeeze()\n",
    ")\n",
    "\n",
    "the_plot = plot_optimum_over_dim(\n",
    "    da=temp_da, x=\"delta\", y=\"num_periods\", dim=[\"period\", \"disorder_correlation\"]\n",
    ")[0].opts(opts.QuadMesh(cmap=\"inferno\", clim=(1, None)), opts.Points(color=red))\n",
    "\n",
    "the_plot"
   ]
  },
  {
   "cell_type": "code",
   "execution_count": null,
   "id": "aeb1b044-feb2-460e-81e5-444fe560044f",
   "metadata": {
    "tags": []
   },
   "outputs": [],
   "source": [
    "restacked_"
   ]
  },
  {
   "cell_type": "code",
   "execution_count": null,
   "id": "1d640f1c-d1b6-4cf0-89aa-404b94a3f1cd",
   "metadata": {
    "tags": []
   },
   "outputs": [],
   "source": [
    "(\n",
    "    restacked_pds[\"R\"]\n",
    "    .sel(period=200, excitonic_layer_thickness=50, theta=0, num_periods=[5, 20, 50])\n",
    "    .squeeze()\n",
    "    .hvplot(x=\"wavelength\", by=\"num_periods\")\n",
    "    * lorentz_vlines(-9, scale=1e-9)\n",
    ")"
   ]
  },
  {
   "cell_type": "code",
   "execution_count": null,
   "id": "666c83df-7e23-488e-91da-5afad720da1c",
   "metadata": {
    "tags": []
   },
   "outputs": [],
   "source": [
    "# find the lorentz line corresponding to a peak\n",
    "\n",
    "temp_da = (\n",
    "    restacked_ief(\n",
    "        stats_ds,\n",
    "        ref=crs_1_stats_norm,\n",
    "        common_dim=\"total_excitonic_thickness\",\n",
    "        wavelength=slice(None, None),\n",
    "        integrate_angle=integrate_angle,\n",
    "    )[f\"{variable}_mean\"]\n",
    "    .sel(delta=slice(0, 1))\n",
    "    .squeeze()\n",
    ")\n",
    "\n",
    "(\n",
    "    temp_da.sel(\n",
    "        delta=0, disorder_correlation=\"correlated\", period=200, num_periods=[5, 20, 50]\n",
    "    ).hvplot(x=\"wavelength\", by=\"num_periods\")\n",
    "    * lorentz_vlines(-7.5, scale=1e-9)\n",
    ")"
   ]
  },
  {
   "cell_type": "code",
   "execution_count": null,
   "id": "5b2977b7-d15f-4fb8-bf4a-d7bd222a091d",
   "metadata": {
    "tags": []
   },
   "outputs": [],
   "source": [
    "variable = \"A\"\n",
    "theta = 0\n",
    "integrate_angle = None\n",
    "elt = excitonic_layer_thickness = 50\n",
    "if integrate_angle:\n",
    "    th = f\"{theta}-{integrate_angle}\"\n",
    "else:\n",
    "    th = theta\n",
    "\n",
    "temp_da = (\n",
    "    restacked_ief(\n",
    "        stats_ds,\n",
    "        ref=crs_1_stats_norm,\n",
    "        common_dim=\"total_excitonic_thickness\",\n",
    "        # wavelength=(None, None),\n",
    "        lorentz_line=-7.5,\n",
    "        window_radius=4,\n",
    "        integrate_angle=integrate_angle,\n",
    "    )[f\"{variable}_mean\"]\n",
    "    .sel(delta=slice(0, 1))\n",
    "    .squeeze()\n",
    ")\n",
    "\n",
    "the_plot = plot_optimum_over_dim(\n",
    "    da=temp_da, x=\"delta\", y=\"num_periods\", dim=[\"period\", \"disorder_correlation\"]\n",
    ")[0].opts(opts.QuadMesh(cmap=\"inferno\", clim=(None, None)), opts.Points(color=red))\n",
    "\n",
    "the_plot"
   ]
  },
  {
   "cell_type": "code",
   "execution_count": null,
   "id": "09b02e49-8931-4a7f-b88b-85007b10056a",
   "metadata": {
    "tags": []
   },
   "outputs": [],
   "source": [
    "variable = \"A\"\n",
    "theta = 0\n",
    "integrate_angle = None\n",
    "elt = excitonic_layer_thickness = 50\n",
    "if integrate_angle:\n",
    "    th = f\"{theta}-{integrate_angle}\"\n",
    "else:\n",
    "    th = theta\n",
    "\n",
    "temp_da = (\n",
    "    restacked_ief(\n",
    "        stats_ds,\n",
    "        ref=crs_1_stats_norm,\n",
    "        common_dim=\"total_excitonic_thickness\",\n",
    "        # wavelength=(None, None),\n",
    "        lorentz_line=0,\n",
    "        window_radius=2,\n",
    "        integrate_angle=integrate_angle,\n",
    "    )[f\"{variable}_mean\"]\n",
    "    .sel(delta=slice(0, 1))\n",
    "    .squeeze()\n",
    ")\n",
    "\n",
    "the_plot = plot_optimum_over_dim(\n",
    "    da=temp_da, x=\"delta\", y=\"num_periods\", dim=[\"period\", \"disorder_correlation\"]\n",
    ")[0].opts(opts.QuadMesh(cmap=\"inferno\", clim=(1, None)), opts.Points(color=red))\n",
    "\n",
    "the_plot"
   ]
  },
  {
   "cell_type": "code",
   "execution_count": null,
   "id": "25ae9bbb-3789-41a2-b7a2-714d89ae0922",
   "metadata": {
    "tags": []
   },
   "outputs": [],
   "source": [
    "variable = \"R\"\n",
    "theta = 0\n",
    "integrate_angle = None\n",
    "elt = excitonic_layer_thickness = 50\n",
    "if integrate_angle:\n",
    "    th = f\"{theta}-{integrate_angle}\"\n",
    "else:\n",
    "    th = theta\n",
    "\n",
    "temp_da = (\n",
    "    cross_section(\n",
    "        restacked_stats_ds,\n",
    "        wavelength=(None, None),\n",
    "        # lorentz_line=0,\n",
    "        # window_radius=1,\n",
    "        integrate_angle=integrate_angle,\n",
    "    )[f\"{variable}_mean\"]\n",
    "    .sel(delta=slice(0, 1))\n",
    "    .squeeze()\n",
    ")\n",
    "\n",
    "the_plot = plot_optimum_over_dim(\n",
    "    da=temp_da, x=\"delta\", y=\"num_periods\", dim=[\"period\", \"disorder_correlation\"]\n",
    ")[0].opts(opts.QuadMesh(cmap=\"viridis\", clim=(0, None)), opts.Points(color=red))\n",
    "\n",
    "the_plot"
   ]
  },
  {
   "cell_type": "code",
   "execution_count": null,
   "id": "063d4328-3dcf-4e9c-ae84-1a0a90385955",
   "metadata": {
    "tags": []
   },
   "outputs": [],
   "source": [
    "variable = \"A\"\n",
    "theta = 0\n",
    "integrate_angle = None\n",
    "elt = excitonic_layer_thickness = 50\n",
    "if integrate_angle:\n",
    "    th = f\"{theta}-{integrate_angle}\"\n",
    "else:\n",
    "    th = theta\n",
    "\n",
    "temp_da = (\n",
    "    cross_section(\n",
    "        restacked_stats_ds,\n",
    "        wavelength=(None, None),\n",
    "        # lorentz_line=0,\n",
    "        # window_radius=1,\n",
    "        integrate_angle=integrate_angle,\n",
    "    )[f\"{variable}_mean\"]\n",
    "    .sel(delta=slice(0, 1))\n",
    "    .squeeze()\n",
    ")\n",
    "\n",
    "the_plot = plot_optimum_over_dim(\n",
    "    da=temp_da, x=\"delta\", y=\"num_periods\", dim=[\"period\", \"disorder_correlation\"]\n",
    ")[0].opts(opts.QuadMesh(cmap=\"inferno\", clim=(0, None)), opts.Points(color=red))"
   ]
  },
  {
   "cell_type": "code",
   "execution_count": null,
   "id": "7b7a9593-fc06-4469-a200-155b111986ac",
   "metadata": {
    "tags": []
   },
   "outputs": [],
   "source": [
    "the_plot"
   ]
  },
  {
   "cell_type": "code",
   "execution_count": null,
   "id": "4380ddcb-043c-46d0-80fe-39823b9e9056",
   "metadata": {
    "tags": []
   },
   "outputs": [],
   "source": [
    "hv.save(the_plot, filename=fig_path/f\"opt_{variable}tot_max_DLOPC_D_N_th{th}_elt{elt}\", fmt=\"png\", toolbar=False)"
   ]
  },
  {
   "cell_type": "markdown",
   "id": "f0d6269c-8905-4e91-87bd-1fa2d045b7b7",
   "metadata": {},
   "source": [
    "#### Loops"
   ]
  },
  {
   "cell_type": "code",
   "execution_count": null,
   "id": "a058ab2b-81f7-4849-8b08-301c6af4f435",
   "metadata": {
    "tags": []
   },
   "outputs": [],
   "source": [
    "variable = \"A\"\n",
    "theta = 0\n",
    "elt = excitonic_layer_thickness = 50\n",
    "\n",
    "for integrate_angle in [None, 45, 86]:\n",
    "    if integrate_angle:\n",
    "        th = f\"{theta}-{integrate_angle}\"\n",
    "    else:\n",
    "        th = theta\n",
    "    temp_da = (\n",
    "        restacked_ief(\n",
    "            stats_ds,\n",
    "            ref=crs_1_stats_norm,\n",
    "            common_dim=\"total_excitonic_thickness\",\n",
    "            wavelength=(None, None),\n",
    "            # lorentz_line=0,\n",
    "            # window_radius=1,\n",
    "            integrate_angle=integrate_angle,\n",
    "        )[f\"{variable}_mean\"]\n",
    "        .sel(delta=slice(0, 1))\n",
    "        .squeeze()\n",
    "    )\n",
    "\n",
    "    the_plot = plot_optimum_over_dim(\n",
    "        da=temp_da, x=\"delta\", y=\"num_periods\", dim=[\"period\", \"disorder_correlation\"]\n",
    "    )[0].opts(opts.QuadMesh(cmap=\"inferno\", clim=(None, None)), opts.Points(color=red))\n",
    "\n",
    "    # display(the_plot)\n",
    "\n",
    "    hv.save(\n",
    "        the_plot,\n",
    "        filename=fig_path / f\"opt_{variable + 'ef'}tot_max_DLOPC_D_N_th{th}_elt{elt}\",\n",
    "        fmt=\"png\",\n",
    "        toolbar=False,\n",
    "    )"
   ]
  },
  {
   "cell_type": "code",
   "execution_count": null,
   "id": "8524b48c-066f-4898-89c8-f12a004a8fbe",
   "metadata": {
    "tags": []
   },
   "outputs": [],
   "source": [
    "variable = \"R\"\n",
    "theta = 0\n",
    "elt = excitonic_layer_thickness = 50\n",
    "\n",
    "for integrate_angle in [None, 45, 86]:\n",
    "    if integrate_angle:\n",
    "        th = f\"{theta}-{integrate_angle}\"\n",
    "    else:\n",
    "        th = theta\n",
    "    temp_da = (\n",
    "        cross_section(\n",
    "            restacked_stats_ds,\n",
    "            wavelength=(None, None),\n",
    "            # lorentz_line=0,\n",
    "            # window_radius=1,\n",
    "            integrate_angle=integrate_angle,\n",
    "        )[f\"{variable}_mean\"]\n",
    "        .sel(delta=slice(0, 1))\n",
    "        .squeeze()\n",
    "    )\n",
    "\n",
    "    the_plot = plot_optimum_over_dim(\n",
    "        da=temp_da, x=\"delta\", y=\"num_periods\", dim=[\"period\", \"disorder_correlation\"]\n",
    "    )[0].opts(opts.QuadMesh(cmap=\"viridis\", clim=(0, None)), opts.Points(color=red))\n",
    "    # display(the_plot)\n",
    "\n",
    "    hv.save(\n",
    "        the_plot,\n",
    "        filename=fig_path / f\"opt_{variable}tot_max_DLOPC_D_N_th{th}_elt{elt}\",\n",
    "        fmt=\"png\",\n",
    "        toolbar=False,\n",
    "    )"
   ]
  },
  {
   "cell_type": "markdown",
   "id": "583bded9-1da4-41d7-b1c6-81b1b1628173",
   "metadata": {
    "jp-MarkdownHeadingCollapsed": true,
    "tags": []
   },
   "source": [
    "### Unweighted integrated absorptance enhancement"
   ]
  },
  {
   "cell_type": "markdown",
   "id": "46ba9839-efc0-4eec-92d7-c601669e1afa",
   "metadata": {},
   "source": [
    "My theory for the discrepancy with results in PCSCs (where disorder can increase absorptance enhancement) is that my absorption is narrow-band, so spectral selectivity is important. If I just integrate the spectral AEF:"
   ]
  },
  {
   "cell_type": "code",
   "execution_count": null,
   "id": "3421017d-2b44-46e4-aaba-8aa00a4566c1",
   "metadata": {
    "tags": []
   },
   "outputs": [],
   "source": [
    "variable = \"A\"\n",
    "theta = 0\n",
    "integrate_angle = None\n",
    "elt = excitonic_layer_thickness = 50\n",
    "if integrate_angle:\n",
    "    th = f\"{theta}-{integrate_angle}\"\n",
    "else:\n",
    "    th = theta\n",
    "\n",
    "temp_da = (\n",
    "    cross_section(\n",
    "        restacked_norm_1_stats(stats_ds),\n",
    "        wavelength=(None, None),\n",
    "        # lorentz_line=0,\n",
    "        # window_radius=1,\n",
    "        integrate_angle=integrate_angle,\n",
    "    )[f\"{variable}_mean\"]\n",
    "    .sel(delta=slice(0, 1))\n",
    "    .squeeze()\n",
    ")\n",
    "\n",
    "the_plot = plot_optimum_over_dim(\n",
    "    da=temp_da, x=\"delta\", y=\"num_periods\", dim=[\"period\", \"disorder_correlation\"]\n",
    ")[0].opts(opts.QuadMesh(cmap=\"inferno\", clim=(None, None)), opts.Points(color=red))"
   ]
  },
  {
   "cell_type": "code",
   "execution_count": null,
   "id": "d8126137-ab65-483f-bc37-1b797dd96ae1",
   "metadata": {
    "tags": []
   },
   "outputs": [],
   "source": [
    "the_plot.opts(opts.Points(color=yellow))"
   ]
  },
  {
   "cell_type": "code",
   "execution_count": null,
   "id": "4c14d83e-96d6-44ad-82c4-1ebe1ac13f09",
   "metadata": {
    "tags": []
   },
   "outputs": [],
   "source": [
    "hv.save(the_plot, filename=fig_path/f\"opt_{variable + 'ef'}_unweighted_tot_max_DLOPC_D_N_th{th}_elt{elt}\", fmt=\"png\", toolbar=False)"
   ]
  },
  {
   "cell_type": "code",
   "execution_count": null,
   "id": "e1e3057f-f368-4240-9a3c-b72e80eaa901",
   "metadata": {
    "tags": []
   },
   "outputs": [],
   "source": [
    "variable = \"A\"\n",
    "theta = 0\n",
    "integrate_angle = None\n",
    "elt = excitonic_layer_thickness = 50\n",
    "if integrate_angle:\n",
    "    th = f\"{theta}-{integrate_angle}\"\n",
    "else:\n",
    "    th = theta\n",
    "\n",
    "temp_da = (\n",
    "    cross_section(\n",
    "        restacked_norm_1_stats(stats_ds),\n",
    "        # wavelength=(None, None),\n",
    "        lorentz_line=-7,\n",
    "        window_radius=3,\n",
    "        integrate_angle=integrate_angle,\n",
    "    )[f\"{variable}_mean\"]\n",
    "    .sel(delta=slice(0, 1))\n",
    "    .squeeze()\n",
    ")\n",
    "\n",
    "the_plot = plot_optimum_over_dim(\n",
    "    da=temp_da, x=\"delta\", y=\"num_periods\", dim=[\"period\", \"disorder_correlation\"]\n",
    ")[0].opts(opts.QuadMesh(cmap=\"inferno\", clim=(None, None)), opts.Points(color=red))\n",
    "\n",
    "the_plot"
   ]
  },
  {
   "cell_type": "code",
   "execution_count": null,
   "id": "6f81a816-1d1a-4f1b-8f11-1afe36cbcee8",
   "metadata": {
    "tags": []
   },
   "outputs": [],
   "source": [
    "hv.save(the_plot, filename=fig_path/f\"opt_{variable + 'ef'}_unweighted_tot_max_DLOPC_L-7-3_D_N_th{th}_elt{elt}_\", fmt=\"png\", toolbar=False)"
   ]
  },
  {
   "cell_type": "markdown",
   "id": "08441c09-2145-4a9d-a6ea-a18fcfa7498b",
   "metadata": {
    "jp-MarkdownHeadingCollapsed": true,
    "tags": []
   },
   "source": [
    "#### P=200, N=5"
   ]
  },
  {
   "cell_type": "code",
   "execution_count": null,
   "id": "78ef2bc1-2433-4a68-9130-3a96c8ebbd80",
   "metadata": {
    "tags": []
   },
   "outputs": [],
   "source": [
    "variable = \"A\"\n",
    "disorder_correlation = \"correlated\"\n",
    "N = num_periods = 5\n",
    "P = period = 200\n",
    "deltas = [0, 0.1, 0.3, 0.5, 1]\n",
    "theta = None\n",
    "elt = excitonic_layer_thickness = 50\n",
    "disorder_code = disorder_correlation[0]\n",
    "\n",
    "\n",
    "temp_ds = (\n",
    "    restacked_norm_1_stats(stats_ds)\n",
    "    .sel(\n",
    "        disorder_correlation=disorder_correlation,\n",
    "        num_periods=num_periods,\n",
    "        period=period,\n",
    "        delta=deltas,\n",
    "    )\n",
    "    .squeeze()\n",
    ")"
   ]
  },
  {
   "cell_type": "code",
   "execution_count": null,
   "id": "13bb4480-2cac-429f-b62d-ffb09f084a5a",
   "metadata": {
    "tags": []
   },
   "outputs": [],
   "source": [
    "the_plot = cross_section(\n",
    "    dataset=temp_ds,\n",
    "    variable=f\"{variable}_mean\",\n",
    "    wavelength=(480, 881),\n",
    "    theta=None,\n",
    ").hvplot(\n",
    "    kind=\"line\",\n",
    "    x=\"theta\",\n",
    "    by=\"delta\",\n",
    ")\n",
    "the_plot = (the_plot * hv.HLine(1)).opts(\n",
    "    opts.Curve(\n",
    "        ylabel=f\"γ{variable}\",\n",
    "        color=default_color_cycle,\n",
    "        line_dash=default_dash_cycle,\n",
    "    ),\n",
    "    opts.HLine(line_dash=\"dotted\", color=\"black\"),\n",
    ")\n",
    "the_plot"
   ]
  },
  {
   "cell_type": "code",
   "execution_count": null,
   "id": "f4a2474c-de31-4eca-b51f-9387713349b0",
   "metadata": {
    "tags": []
   },
   "outputs": [],
   "source": [
    "hv.save(the_plot, filename=fig_path/f\"{variable+'ef'}_unweighted_tot_DLOPC_delta_comparison_th_P{P}_elt{elt}_N{N}_D{disorder_code}\", fmt=\"png\", toolbar=False)"
   ]
  },
  {
   "cell_type": "code",
   "execution_count": null,
   "id": "c90a75f5-e0a3-44c4-a042-49bf21ec48bd",
   "metadata": {
    "tags": []
   },
   "outputs": [],
   "source": [
    "the_plot.opts(opts.Curve(xlim=(0, 45), ylim=(1.04, 1.12)))"
   ]
  },
  {
   "cell_type": "code",
   "execution_count": null,
   "id": "3b745c20-e053-4e5e-912c-37ccc4ebf3a0",
   "metadata": {
    "tags": []
   },
   "outputs": [],
   "source": [
    "hv.save(the_plot, filename=fig_path/f\"{variable+'ef'}_unweighted_tot_DLOPC_delta_comparison_th0-45_P{P}_elt{elt}_N{N}_D{disorder_code}\", fmt=\"png\", toolbar=False)"
   ]
  },
  {
   "cell_type": "markdown",
   "id": "35784f16-94a8-486b-a8fe-7b778b1ec4fb",
   "metadata": {
    "jp-MarkdownHeadingCollapsed": true,
    "tags": []
   },
   "source": [
    "#### P=200, N=20"
   ]
  },
  {
   "cell_type": "code",
   "execution_count": null,
   "id": "d55238a4-2c25-4410-bc55-a88f41aa1f16",
   "metadata": {
    "tags": []
   },
   "outputs": [],
   "source": [
    "variable = \"A\"\n",
    "disorder_correlation = \"correlated\"\n",
    "N = num_periods = 20\n",
    "P = period = 200\n",
    "deltas = [0, 0.1, 0.3, 0.5, 1]\n",
    "theta = None\n",
    "elt = excitonic_layer_thickness = 50\n",
    "disorder_code = disorder_correlation[0]\n",
    "\n",
    "\n",
    "temp_ds = (\n",
    "    restacked_norm_1_stats(stats_ds)\n",
    "    .sel(\n",
    "        disorder_correlation=disorder_correlation,\n",
    "        num_periods=num_periods,\n",
    "        period=period,\n",
    "        delta=deltas,\n",
    "    )\n",
    "    .squeeze()\n",
    ")"
   ]
  },
  {
   "cell_type": "code",
   "execution_count": null,
   "id": "71795f7d-9102-4784-a002-311deac5efc7",
   "metadata": {
    "tags": []
   },
   "outputs": [],
   "source": [
    "the_plot = cross_section(\n",
    "    dataset=temp_ds,\n",
    "    variable=f\"{variable}_mean\",\n",
    "    wavelength=(480, 881),\n",
    "    theta=None,\n",
    ").hvplot(\n",
    "    kind=\"line\",\n",
    "    x=\"theta\",\n",
    "    by=\"delta\",\n",
    ")\n",
    "the_plot = (the_plot * hv.HLine(1)).opts(\n",
    "    opts.Curve(\n",
    "        ylabel=f\"γ{variable}\",\n",
    "        color=default_color_cycle,\n",
    "        line_dash=default_dash_cycle,\n",
    "    ),\n",
    "    opts.HLine(line_dash=\"dotted\", color=\"black\"),\n",
    ")\n",
    "the_plot"
   ]
  },
  {
   "cell_type": "code",
   "execution_count": null,
   "id": "8e7b5464-fb60-4414-9c34-f1d0a446c3ab",
   "metadata": {
    "tags": []
   },
   "outputs": [],
   "source": [
    "hv.save(the_plot, filename=fig_path/f\"{variable+'ef'}_unweighted_tot_DLOPC_delta_comparison_th_P{P}_elt{elt}_N{N}_D{disorder_code}\", fmt=\"png\", toolbar=False)"
   ]
  },
  {
   "cell_type": "code",
   "execution_count": null,
   "id": "1897d996-67c6-4758-be39-5b339753e7a8",
   "metadata": {
    "tags": []
   },
   "outputs": [],
   "source": [
    "the_plot.opts(opts.Curve(xlim=(0, 45), ylim=(1.04, 1.12)))"
   ]
  },
  {
   "cell_type": "code",
   "execution_count": null,
   "id": "d7b2a0ed-8fb5-4dde-b853-808b1ea8be4e",
   "metadata": {
    "tags": []
   },
   "outputs": [],
   "source": [
    "hv.save(the_plot, filename=fig_path/f\"{variable+'ef'}_unweighted_tot_DLOPC_delta_comparison_th0-45_P{P}_elt{elt}_N{N}_D{disorder_code}\", fmt=\"png\", toolbar=False)"
   ]
  },
  {
   "cell_type": "markdown",
   "id": "cc34706d-0662-4d48-a90a-db5a302dce77",
   "metadata": {
    "tags": []
   },
   "source": [
    "#### P=150"
   ]
  },
  {
   "cell_type": "code",
   "execution_count": null,
   "id": "6cc6b936-530b-4dcd-8c2e-dff220ce158c",
   "metadata": {
    "tags": []
   },
   "outputs": [],
   "source": [
    "variable = \"A\"\n",
    "disorder_correlation = \"correlated\"\n",
    "N = num_periods = 20\n",
    "P = period = 150\n",
    "deltas = [0, 0.1, 0.3, 0.5, 1]\n",
    "theta = None\n",
    "elt = excitonic_layer_thickness = 50\n",
    "disorder_code = disorder_correlation[0]\n",
    "\n",
    "\n",
    "temp_ds = (\n",
    "    restacked_norm_1_stats(stats_ds)\n",
    "    .sel(\n",
    "        disorder_correlation=disorder_correlation,\n",
    "        num_periods=num_periods,\n",
    "        period=period,\n",
    "        delta=deltas,\n",
    "    )\n",
    "    .squeeze()\n",
    ")"
   ]
  },
  {
   "cell_type": "code",
   "execution_count": null,
   "id": "e2abf9b4-4c86-449e-b815-bcb697f25ba9",
   "metadata": {
    "tags": []
   },
   "outputs": [],
   "source": [
    "the_plot = cross_section(\n",
    "    dataset=temp_ds,\n",
    "    variable=f\"{variable}_mean\",\n",
    "    wavelength=(480, 881),\n",
    "    theta=None,\n",
    ").hvplot(\n",
    "    kind=\"line\",\n",
    "    x=\"theta\",\n",
    "    by=\"delta\",\n",
    ")\n",
    "the_plot = (the_plot * hv.HLine(1)).opts(\n",
    "    opts.Curve(\n",
    "        ylabel=f\"γ{variable}\",\n",
    "        color=default_color_cycle,\n",
    "        line_dash=default_dash_cycle,\n",
    "    ),\n",
    "    opts.HLine(line_dash=\"dotted\", color=\"black\"),\n",
    ")\n",
    "the_plot"
   ]
  },
  {
   "cell_type": "code",
   "execution_count": null,
   "id": "e2fe4ec8-5e67-462d-9a62-be93b3364821",
   "metadata": {
    "tags": []
   },
   "outputs": [],
   "source": [
    "hv.save(the_plot, filename=fig_path/f\"{variable+'ef'}_unweighted_tot_DLOPC_delta_comparison_th_P{P}_elt{elt}_N{N}_D{disorder_code}\", fmt=\"png\", toolbar=False)"
   ]
  },
  {
   "cell_type": "code",
   "execution_count": null,
   "id": "da832257-d719-4c96-874b-b6d4c9563cf0",
   "metadata": {
    "tags": []
   },
   "outputs": [],
   "source": [
    "the_plot.opts(opts.Curve(xlim=(0, 45), ylim=(1.04, 1.12)))"
   ]
  },
  {
   "cell_type": "code",
   "execution_count": null,
   "id": "56b072b9-3873-4b02-95c5-169834735a6f",
   "metadata": {
    "tags": []
   },
   "outputs": [],
   "source": [
    "hv.save(the_plot, filename=fig_path/f\"{variable+'ef'}_unweighted_tot_DLOPC_delta_comparison_th0-45_P{P}_elt{elt}_N{N}_D{disorder_code}\", fmt=\"png\", toolbar=False)"
   ]
  },
  {
   "cell_type": "markdown",
   "id": "1204188b-5e34-4460-bedb-1b9e22d95631",
   "metadata": {},
   "source": [
    "### Max singles 2D"
   ]
  },
  {
   "cell_type": "code",
   "execution_count": null,
   "id": "7588e1e8-8cdf-4d32-b55e-966e8fcf3e0b",
   "metadata": {
    "tags": []
   },
   "outputs": [],
   "source": [
    "variable = \"A\"\n",
    "theta = 0\n",
    "elt = excitonic_layer_thickness = 50\n",
    "\n",
    "for integrate_angle in [None, 45, 86]:\n",
    "    if integrate_angle:\n",
    "        th = f\"{theta}-{integrate_angle}\"\n",
    "    else:\n",
    "        th = theta\n",
    "    temp_da = (\n",
    "        restacked_ief(\n",
    "            singles_ds,\n",
    "            ref=crs_1,\n",
    "            common_dim=\"total_excitonic_thickness\",\n",
    "            wavelength=(None, None),\n",
    "            # lorentz_line=0,\n",
    "            # window_radius=1,\n",
    "            integrate_angle=integrate_angle,\n",
    "        )[variable]\n",
    "        .sel(delta=slice(0, 1))\n",
    "        .squeeze()\n",
    "        .max(\"run\")\n",
    "        .compute()\n",
    "    )\n",
    "\n",
    "    the_plot = plot_optimum_over_dim(\n",
    "        da=temp_da, x=\"delta\", y=\"num_periods\", dim=[\"period\", \"disorder_correlation\"]\n",
    "    )[0].opts(opts.QuadMesh(cmap=\"inferno\", clim=(None, None)), opts.Points(color=red))\n",
    "\n",
    "    display(the_plot)\n",
    "\n",
    "    hv.save(\n",
    "        the_plot,\n",
    "        filename=fig_path / f\"opt_{variable + 'ef'}tot_max_DLOPC_D_N_th{th}_elt{elt}_rmax\",\n",
    "        fmt=\"png\",\n",
    "        toolbar=False,\n",
    "    )"
   ]
  },
  {
   "cell_type": "markdown",
   "id": "23d0774a-625b-4902-8b66-e2d3ddcbc355",
   "metadata": {
    "tags": []
   },
   "source": [
    "##### Max"
   ]
  },
  {
   "cell_type": "markdown",
   "id": "7ba60537-0486-440a-870a-46dbf42452cf",
   "metadata": {},
   "source": [
    "P=100"
   ]
  },
  {
   "cell_type": "code",
   "execution_count": null,
   "id": "9bddeb8b-e156-4cb9-a0a6-41c38b77f223",
   "metadata": {
    "tags": []
   },
   "outputs": [],
   "source": [
    "deltas = [0, 0.1, 0.3, 0.5, 1]\n",
    "P = period = 100\n",
    "theta = 0\n",
    "variable = \"A\"\n",
    "disorder_correlation = \"correlated\"\n",
    "runs = slice(None, None)\n",
    "elt = excitonic_layer_thickness = 50\n",
    "disorder_code = disorder_correlation[0]\n",
    "# D = \"-\".join([str(deltas[0]), str(deltas[-1])])\n",
    "\n",
    "the_plot_1 = compare_integrated_singles(\n",
    "    variable=variable,\n",
    "    disorder_correlation=disorder_correlation,\n",
    "    period=period,\n",
    "    delta=deltas,\n",
    "    run=runs,\n",
    "    wavelength=(None, None),\n",
    "    theta=theta,\n",
    "    kind=\"line\",\n",
    "    x=\"num_periods\",\n",
    "    by=\"delta\",\n",
    "    mode=\"ef\",\n",
    "    maximise=\"run\",\n",
    ")\n",
    "the_plot_1.opts(opts.HLine(apply_ranges=False))"
   ]
  },
  {
   "cell_type": "code",
   "execution_count": null,
   "id": "f5d2f0ae-6efb-418d-9b6e-be6c3302e5f8",
   "metadata": {
    "tags": []
   },
   "outputs": [],
   "source": [
    "hv.save(\n",
    "    the_plot_1,\n",
    "    filename=fig_path\n",
    "    / f\"{variable+'ef'}tot_DLOPC_delta_comparison_N_P{P}_elt{elt}_th{theta}_D{disorder_code}_rmax\",\n",
    "    fmt=\"png\",\n",
    "    toolbar=False,\n",
    ")"
   ]
  },
  {
   "cell_type": "code",
   "execution_count": null,
   "id": "5acdb5fb-4fab-4ea7-8132-b802209aa2ea",
   "metadata": {
    "tags": []
   },
   "outputs": [],
   "source": [
    "deltas = [0, 0.1, 0.3, 0.5, 1]\n",
    "P = period = 100\n",
    "theta = 0\n",
    "variable = \"A\"\n",
    "disorder_correlation = \"uncorrelated\"\n",
    "runs = slice(None, None)\n",
    "elt = excitonic_layer_thickness = 50\n",
    "disorder_code = disorder_correlation[0]\n",
    "# D = \"-\".join([str(deltas[0]), str(deltas[-1])])\n",
    "\n",
    "the_plot_1 = compare_integrated_singles(\n",
    "    variable=variable,\n",
    "    disorder_correlation=disorder_correlation,\n",
    "    period=period,\n",
    "    delta=deltas,\n",
    "    run=runs,\n",
    "    wavelength=(None, None),\n",
    "    theta=theta,\n",
    "    kind=\"line\",\n",
    "    x=\"num_periods\",\n",
    "    by=\"delta\",\n",
    "    mode=\"ef\",\n",
    "    maximise=\"run\",\n",
    ")\n",
    "the_plot_1.opts(opts.HLine(apply_ranges=False))"
   ]
  },
  {
   "cell_type": "code",
   "execution_count": null,
   "id": "f387fa16-2352-4640-9260-4a7c150e3949",
   "metadata": {
    "tags": []
   },
   "outputs": [],
   "source": [
    "hv.save(\n",
    "    the_plot_1,\n",
    "    filename=fig_path\n",
    "    / f\"{variable+'ef'}tot_DLOPC_delta_comparison_N_P{P}_elt{elt}_th{theta}_D{disorder_code}_rmax\",\n",
    "    fmt=\"png\",\n",
    "    toolbar=False,\n",
    ")"
   ]
  },
  {
   "cell_type": "markdown",
   "id": "1423f1f8-88a9-4a5a-a501-c8490b14551f",
   "metadata": {},
   "source": [
    "P=200"
   ]
  },
  {
   "cell_type": "code",
   "execution_count": null,
   "id": "53bcee34-ec3e-424b-a0a8-3484183cfdf7",
   "metadata": {
    "tags": []
   },
   "outputs": [],
   "source": [
    "variable = \"A\"\n",
    "theta = 0\n",
    "deltas = [0, 0.1, 0.3, 0.5, 1]\n",
    "disorder_correlation = \"correlated\"\n",
    "runs = slice(None, None)\n",
    "elt = excitonic_layer_thickness = 50\n",
    "disorder_code = disorder_correlation[0]\n",
    "\n",
    "for period in [150, 200, 250, 300]:\n",
    "    for integrate_angle in [None, 45, 86]:\n",
    "        if integrate_angle:\n",
    "            th = f\"{theta}-{integrate_angle}\"\n",
    "        else:\n",
    "            th = theta\n",
    "        P = period\n",
    "\n",
    "        with warnings.catch_warnings():\n",
    "            warnings.simplefilter(\"ignore\")\n",
    "            periodic_optimum = (\n",
    "                restacked_ief(\n",
    "                    periodic_ds,\n",
    "                    ref=crs_1,\n",
    "                    common_dim=\"total_excitonic_thickness\",\n",
    "                    wavelength=(None, None),\n",
    "                    theta=theta,\n",
    "                    integrate_angle=integrate_angle,\n",
    "                )[\"A\"]\n",
    "                .sel(excitonic_layer_thickness=excitonic_layer_thickness)\n",
    "                .sel(num_periods=singles_ds.num_periods)\n",
    "                .squeeze()\n",
    "                .max(\"period\")\n",
    "                .hvplot(kind=\"scatter\", x=\"num_periods\", y=\"A\")\n",
    "            )\n",
    "            # periodic_optimum_2 = (\n",
    "            #     restacked_ief(\n",
    "            #         periodic_ds,\n",
    "            #         ref=crs_1,\n",
    "            #         common_dim=\"total_excitonic_thickness\",\n",
    "            #         wavelength=(None, None),\n",
    "            #         theta=theta,\n",
    "            #         integrate_angle=integrate_angle,\n",
    "            #     )[\"A\"]\n",
    "            #     .drop_sel({\"excitonic_layer_thickness\": 0})\n",
    "            #     .sel(num_periods=singles_ds.num_periods)\n",
    "            #     .squeeze()\n",
    "            #     .max([\"period\", \"excitonic_layer_thickness\"])\n",
    "            #     .hvplot(kind=\"scatter\", x=\"num_periods\", y=\"A\")\n",
    "            # )\n",
    "\n",
    "        periodic_optimum.opts(\n",
    "            opts.Scatter(color=\"black\", marker=\"square\", fill_alpha=0, size=10)\n",
    "        )\n",
    "        # periodic_optimum_2.opts(opts.Scatter(color=\"black\", marker=\"circle\"))\n",
    "\n",
    "        the_plot = compare_integrated_singles(\n",
    "            variable=variable,\n",
    "            disorder_correlation=disorder_correlation,\n",
    "            period=period,\n",
    "            delta=deltas,\n",
    "            run=runs,\n",
    "            wavelength=(None, None),\n",
    "            theta=theta,\n",
    "            integrate_angle=integrate_angle,\n",
    "            kind=\"line\",\n",
    "            x=\"num_periods\",\n",
    "            by=\"delta\",\n",
    "            mode=\"ef\",\n",
    "            maximise=\"run\",\n",
    "        )\n",
    "        the_plot.opts(opts.HLine(apply_ranges=False))\n",
    "\n",
    "        mega_plot = (\n",
    "            periodic_optimum\n",
    "            # *periodic_optimum_2\n",
    "            * the_plot\n",
    "        )\n",
    "        display(mega_plot)\n",
    "\n",
    "        hv.save(\n",
    "            mega_plot,\n",
    "            filename=fig_path\n",
    "            / f\"{variable+'ef'}tot_DLOPC_delta_comparison_N_P{P}_elt{elt}_th{th}_D{disorder_code}_rmax_LOPC_opt\",\n",
    "            fmt=\"png\",\n",
    "            toolbar=False,\n",
    "        )"
   ]
  },
  {
   "cell_type": "code",
   "execution_count": null,
   "id": "cf94acf8-4ff5-435d-a004-242b2dc631f2",
   "metadata": {
    "tags": []
   },
   "outputs": [],
   "source": [
    "with warnings.catch_warnings():\n",
    "    warnings.simplefilter(\"ignore\")\n",
    "    periodic_optimum = (\n",
    "        restacked_ief(\n",
    "            periodic_ds,\n",
    "            ref=crs_1,\n",
    "            common_dim=\"total_excitonic_thickness\",\n",
    "            wavelength=(None, None),\n",
    "            theta=theta,\n",
    "        )[\"A\"]\n",
    "        .sel(excitonic_layer_thickness=excitonic_layer_thickness)\n",
    "        .sel(num_periods=singles_ds.num_periods)\n",
    "        .squeeze()\n",
    "        .max(\"period\")\n",
    "        .hvplot(kind=\"scatter\", x=\"num_periods\", y=\"A\")\n",
    "    )"
   ]
  },
  {
   "cell_type": "code",
   "execution_count": null,
   "id": "cd87a935-97d6-4ee6-aa96-e628253e81a7",
   "metadata": {
    "tags": []
   },
   "outputs": [],
   "source": [
    "periodic_optimum.opts(opts.Scatter(color=\"black\", marker=\"square\", fill_alpha=0, size=10))"
   ]
  },
  {
   "cell_type": "code",
   "execution_count": null,
   "id": "2f4805a8-dd5e-49fb-9dce-0b4434004eb6",
   "metadata": {
    "tags": []
   },
   "outputs": [],
   "source": [
    "with warnings.catch_warnings():\n",
    "    warnings.simplefilter(\"ignore\")\n",
    "    periodic_optimum_2 = (\n",
    "        restacked_ief(\n",
    "            periodic_ds,\n",
    "            ref=crs_1,\n",
    "            common_dim=\"total_excitonic_thickness\",\n",
    "            wavelength=(None, None),\n",
    "            theta=theta,\n",
    "        )[\"A\"]\n",
    "        .drop_sel({\"excitonic_layer_thickness\": 0})\n",
    "        .sel(num_periods=singles_ds.num_periods)\n",
    "        .squeeze()\n",
    "        .max([\"period\", \"excitonic_layer_thickness\"])\n",
    "        .hvplot(kind=\"scatter\", x=\"num_periods\", y=\"A\")\n",
    "    )"
   ]
  },
  {
   "cell_type": "code",
   "execution_count": null,
   "id": "be57173d-d0e5-4ca9-b921-31f30f231239",
   "metadata": {
    "tags": []
   },
   "outputs": [],
   "source": [
    "periodic_optimum_2.opts(opts.Scatter(color=\"black\", marker=\"circle\"))"
   ]
  },
  {
   "cell_type": "code",
   "execution_count": null,
   "id": "abc6dba4-9c86-46d7-a052-ae4a0668cec6",
   "metadata": {
    "tags": []
   },
   "outputs": [],
   "source": [
    "deltas = [0, 0.1, 0.3, 0.5, 1]\n",
    "P = period = 200\n",
    "theta = 0\n",
    "variable = \"A\"\n",
    "disorder_correlation = \"correlated\"\n",
    "runs = slice(None, None)\n",
    "elt = excitonic_layer_thickness = 50\n",
    "disorder_code = disorder_correlation[0]\n",
    "# D = \"-\".join([str(deltas[0]), str(deltas[-1])])\n",
    "\n",
    "the_plot_2 = compare_integrated_singles(\n",
    "    variable=variable,\n",
    "    disorder_correlation=disorder_correlation,\n",
    "    period=period,\n",
    "    delta=deltas,\n",
    "    run=runs,\n",
    "    wavelength=(None, None),\n",
    "    theta=theta,\n",
    "    kind=\"line\",\n",
    "    x=\"num_periods\",\n",
    "    by=\"delta\",\n",
    "    mode=\"ef\",\n",
    "    maximise=\"run\",\n",
    ")\n",
    "the_plot_2.opts(opts.HLine(apply_ranges=False))"
   ]
  },
  {
   "cell_type": "code",
   "execution_count": null,
   "id": "28f68fa1-8b8b-47b6-867c-54d7e2bdf08d",
   "metadata": {
    "tags": []
   },
   "outputs": [],
   "source": [
    "mega_plot = (periodic_optimum*periodic_optimum_2*the_plot_2)\n",
    "mega_plot"
   ]
  },
  {
   "cell_type": "code",
   "execution_count": null,
   "id": "a0791531-1236-4211-b50d-1ad7b10cae87",
   "metadata": {
    "tags": []
   },
   "outputs": [],
   "source": [
    "hv.save(\n",
    "    the_plot_2,\n",
    "    filename=fig_path\n",
    "    / f\"{variable+'ef'}tot_DLOPC_delta_comparison_N_P{P}_elt{elt}_th{theta}_D{disorder_code}_rmax\",\n",
    "    fmt=\"png\",\n",
    "    toolbar=False,\n",
    ")"
   ]
  },
  {
   "cell_type": "code",
   "execution_count": null,
   "id": "40adbd67-4cac-4a00-82fd-2336dfd9a088",
   "metadata": {
    "tags": []
   },
   "outputs": [],
   "source": [
    "hv.save(\n",
    "    mega_plot,\n",
    "    filename=fig_path\n",
    "    / f\"{variable+'ef'}tot_DLOPC_delta_comparison_N_P{P}_elt{elt}_th{theta}_D{disorder_code}_rmax_LOPC_opt\",\n",
    "    fmt=\"png\",\n",
    "    toolbar=False,\n",
    ")"
   ]
  },
  {
   "cell_type": "code",
   "execution_count": null,
   "id": "4b319c59-0654-4e5c-a811-cee97c0e203b",
   "metadata": {
    "tags": []
   },
   "outputs": [],
   "source": [
    "deltas = [0, 0.1, 0.3, 0.5, 1]\n",
    "P = period = 200\n",
    "theta = 0\n",
    "variable = \"A\"\n",
    "disorder_correlation = \"uncorrelated\"\n",
    "runs = slice(None, None)\n",
    "elt = excitonic_layer_thickness = 50\n",
    "disorder_code = disorder_correlation[0]\n",
    "# D = \"-\".join([str(deltas[0]), str(deltas[-1])])\n",
    "\n",
    "the_plot_2 = compare_integrated_singles(\n",
    "    variable=variable,\n",
    "    disorder_correlation=disorder_correlation,\n",
    "    period=period,\n",
    "    delta=deltas,\n",
    "    run=runs,\n",
    "    wavelength=(None, None),\n",
    "    theta=theta,\n",
    "    kind=\"line\",\n",
    "    x=\"num_periods\",\n",
    "    by=\"delta\",\n",
    "    mode=\"ef\",\n",
    "    maximise=\"run\",\n",
    ")\n",
    "the_plot_2.opts(opts.HLine(apply_ranges=False))"
   ]
  },
  {
   "cell_type": "code",
   "execution_count": null,
   "id": "57e9c7de-6b67-4d06-9ede-27108404b602",
   "metadata": {
    "tags": []
   },
   "outputs": [],
   "source": [
    "hv.save(\n",
    "    the_plot_2,\n",
    "    filename=fig_path\n",
    "    / f\"{variable+'ef'}tot_DLOPC_delta_comparison_N_P{P}_elt{elt}_th{theta}_D{disorder_code}_rmax\",\n",
    "    fmt=\"png\",\n",
    "    toolbar=False,\n",
    ")"
   ]
  },
  {
   "cell_type": "markdown",
   "id": "f58019c5-f29b-4544-b042-16d9569cdb3b",
   "metadata": {},
   "source": [
    "P=300"
   ]
  },
  {
   "cell_type": "code",
   "execution_count": null,
   "id": "2cfdc1ce-55fc-4876-94d3-117669c6fb86",
   "metadata": {
    "tags": []
   },
   "outputs": [],
   "source": [
    "deltas = [0, 0.1, 0.3, 0.5, 1]\n",
    "P = period = 300\n",
    "theta = 0\n",
    "variable = \"A\"\n",
    "disorder_correlation = \"correlated\"\n",
    "runs = slice(None, None)\n",
    "elt = excitonic_layer_thickness = 50\n",
    "disorder_code = disorder_correlation[0]\n",
    "# D = \"-\".join([str(deltas[0]), str(deltas[-1])])\n",
    "\n",
    "the_plot_3 = compare_integrated_singles(\n",
    "    variable=variable,\n",
    "    disorder_correlation=disorder_correlation,\n",
    "    period=period,\n",
    "    delta=deltas,\n",
    "    run=runs,\n",
    "    wavelength=(None, None),\n",
    "    theta=theta,\n",
    "    kind=\"line\",\n",
    "    x=\"num_periods\",\n",
    "    by=\"delta\",\n",
    "    mode=\"ef\",\n",
    "    maximise=\"run\",\n",
    ")\n",
    "the_plot_3.opts(opts.HLine(apply_ranges=False))"
   ]
  },
  {
   "cell_type": "code",
   "execution_count": null,
   "id": "746e2dc2-7ea8-469d-a48a-687dc506d892",
   "metadata": {
    "tags": []
   },
   "outputs": [],
   "source": [
    "hv.save(\n",
    "    the_plot_3,\n",
    "    filename=fig_path\n",
    "    / f\"{variable+'ef'}tot_DLOPC_delta_comparison_N_P{P}_elt{elt}_th{theta}_D{disorder_code}_rmax\",\n",
    "    fmt=\"png\",\n",
    "    toolbar=False,\n",
    ")"
   ]
  },
  {
   "cell_type": "code",
   "execution_count": null,
   "id": "767aa39c-79a3-4e8b-b9e0-f051766e27b7",
   "metadata": {
    "tags": []
   },
   "outputs": [],
   "source": [
    "deltas = [0, 0.1, 0.3, 0.5, 1]\n",
    "P = period = 300\n",
    "theta = 0\n",
    "variable = \"A\"\n",
    "disorder_correlation = \"uncorrelated\"\n",
    "runs = slice(None, None)\n",
    "elt = excitonic_layer_thickness = 50\n",
    "disorder_code = disorder_correlation[0]\n",
    "# D = \"-\".join([str(deltas[0]), str(deltas[-1])])\n",
    "\n",
    "the_plot_3 = compare_integrated_singles(\n",
    "    variable=variable,\n",
    "    disorder_correlation=disorder_correlation,\n",
    "    period=period,\n",
    "    delta=deltas,\n",
    "    run=runs,\n",
    "    wavelength=(None, None),\n",
    "    theta=theta,\n",
    "    kind=\"line\",\n",
    "    x=\"num_periods\",\n",
    "    by=\"delta\",\n",
    "    mode=\"ef\",\n",
    "    maximise=\"run\",\n",
    ")\n",
    "the_plot_3.opts(opts.HLine(apply_ranges=False))"
   ]
  },
  {
   "cell_type": "code",
   "execution_count": null,
   "id": "3e5acda4-7f85-417a-bcc9-cc2c9474e2be",
   "metadata": {
    "tags": []
   },
   "outputs": [],
   "source": [
    "hv.save(\n",
    "    the_plot_3,\n",
    "    filename=fig_path\n",
    "    / f\"{variable+'ef'}tot_DLOPC_delta_comparison_N_P{P}_elt{elt}_th{theta}_D{disorder_code}_rmax\",\n",
    "    fmt=\"png\",\n",
    "    toolbar=False,\n",
    ")"
   ]
  },
  {
   "cell_type": "markdown",
   "id": "34964489-1155-4fe7-8ab6-5a8e17b383ef",
   "metadata": {
    "tags": []
   },
   "source": [
    "## Does disorder reduce wavelength sensitivity?"
   ]
  },
  {
   "cell_type": "markdown",
   "id": "391d195f-e81e-4c67-8731-456c76b354f3",
   "metadata": {},
   "source": [
    "Well, yes, but at the cost of reducing the magnitude of effects."
   ]
  },
  {
   "cell_type": "markdown",
   "id": "e1b672db-8987-4e6e-b0de-61028326ffd4",
   "metadata": {
    "tags": []
   },
   "source": [
    "## Does disorder reduce angle sensitivity?"
   ]
  },
  {
   "cell_type": "markdown",
   "id": "2c7c18e1-5a87-4c6c-af07-712f04fb22f7",
   "metadata": {},
   "source": [
    "Yes, it tends to smooth out the reflectance and absorptance curves."
   ]
  },
  {
   "cell_type": "markdown",
   "id": "0db51932-6a47-48f8-9f90-00ad03d71a63",
   "metadata": {
    "tags": []
   },
   "source": [
    "## Does disorder qualitatively change the optimality results?"
   ]
  },
  {
   "cell_type": "code",
   "execution_count": null,
   "id": "5669b6cd-cb34-4420-8b9a-332f9a93329b",
   "metadata": {
    "tags": []
   },
   "outputs": [],
   "source": [
    "wrapped_2D_plot(variable=\"R\", dataset=restacked_ads, lorentz_line=0, window_radius=5, period_start=0, period_stop=400, extra_plots=[], dim=\"period\")"
   ]
  },
  {
   "cell_type": "code",
   "execution_count": null,
   "id": "bba03c89-8144-4219-88e0-8583f56430a3",
   "metadata": {
    "tags": []
   },
   "outputs": [],
   "source": [
    "wrapped_2D_plot(variable=\"R\", dataset=restacked_ads, lorentz_line=0, window_radius=5, period_start=0, period_stop=400, extra_plots=[], dim=[\"period\", \"delta\"])"
   ]
  },
  {
   "cell_type": "markdown",
   "id": "e32df41e-0dbf-4580-99a5-82eb3c3a3f7f",
   "metadata": {},
   "source": [
    "Delta=0.15 (correlated) is enough to shift the position of the optimum R_per_osc at L0 significantly..."
   ]
  },
  {
   "cell_type": "code",
   "execution_count": null,
   "id": "3ce57f80-7d12-4003-98c4-07514bd7fd89",
   "metadata": {
    "tags": []
   },
   "outputs": [],
   "source": [
    "# variable = \"R_per_oscillator\"\n",
    "# theta = 0\n",
    "# integrate_angle = None\n",
    "# delta = 0.15\n",
    "# disorder_correlation = \"correlated\"\n",
    "# lorentz_line = 0\n",
    "# window_radius = 0\n",
    "\n",
    "\n",
    "# disorder_code = disorder_correlation[0]\n",
    "# D = str(delta).replace(\".\", \"\")\n",
    "# if \"per_oscillator\" in variable:\n",
    "#     var_code = variable[0] + \"po\"\n",
    "# else:\n",
    "#     var_code = variable\n",
    "# if integrate_angle:\n",
    "#     th = f\"{theta}-{integrate_angle}\"\n",
    "# else:\n",
    "#     th = theta\n",
    "# match variable[0]:\n",
    "#     case \"R\":\n",
    "#         cmap = \"viridis\"\n",
    "#     case \"T\":\n",
    "#         cmap = \"cividis\"\n",
    "#     case \"A\":\n",
    "#         cmap = \"inferno\"\n",
    "\n",
    "# temp_da = (\n",
    "#     cross_section(\n",
    "#         restacked_ads,\n",
    "#         # wavelength=(None, None),\n",
    "#         lorentz_line=lorentz_line,\n",
    "#         window_radius=window_radius,\n",
    "#         integrate_angle=integrate_angle,\n",
    "#     )[f\"{variable}\"]\n",
    "#     .sel(delta=delta)\n",
    "#     .sel(disorder_correlation=disorder_correlation)\n",
    "#     .squeeze()\n",
    "# )\n",
    "\n",
    "# the_plot = plot_optimum_over_dim(\n",
    "#     da=temp_da, x=\"excitonic_layer_thickness\", y=\"num_periods\", dim=[\"period\"]\n",
    "# )[0].opts(opts.QuadMesh(cmap=cmap, clim=(0, None)), opts.Points(color=red))"
   ]
  },
  {
   "cell_type": "code",
   "execution_count": null,
   "id": "0047abae-f660-4586-9c8d-a4d4e6872146",
   "metadata": {
    "tags": []
   },
   "outputs": [],
   "source": [
    "tick_formatter = PrintfTickFormatter(format='%.0e')\n",
    "# plot_opts = dict(colorbar=True, colorbar_opts={'formatter': formatter})\n",
    "# hv.HeatMap([(0,0,0), (1,1,1)]).opts(plot=plot_opts)"
   ]
  },
  {
   "cell_type": "code",
   "execution_count": null,
   "id": "3c7bf12b-600f-4f2b-b314-4738319cb7a5",
   "metadata": {
    "tags": []
   },
   "outputs": [],
   "source": [
    "\"%.0e\" % (5.000e-30)"
   ]
  },
  {
   "cell_type": "code",
   "execution_count": null,
   "id": "b976bb3f-056c-46b7-806e-8375decd322a",
   "metadata": {
    "tags": []
   },
   "outputs": [],
   "source": [
    "variable = \"R_per_oscillator\"\n",
    "lorentz_line = 0\n",
    "window_radius = 0\n",
    "theta = 0\n",
    "integrate_angle = 0\n",
    "\n",
    "if \"per_oscillator\" in variable:\n",
    "    var_code = variable[0] + \"po\"\n",
    "else:\n",
    "    var_code = variable\n",
    "if integrate_angle:\n",
    "    th = f\"{theta}-{integrate_angle}\"\n",
    "else:\n",
    "    th = theta\n",
    "match variable[0]:\n",
    "    case \"R\":\n",
    "        cmap = \"viridis\"\n",
    "    case \"T\":\n",
    "        cmap = \"cividis\"\n",
    "    case \"A\":\n",
    "        cmap = \"inferno\"\n",
    "\n",
    "temp_ds = restacked_ads\n",
    "dmap = wrapped_2D_plot(\n",
    "    variable=variable,\n",
    "    dataset=temp_ds,\n",
    "    lorentz_line=lorentz_line,\n",
    "    window_radius=window_radius,\n",
    "    theta=theta,\n",
    "    integrate_angle=integrate_angle,\n",
    "    period_start=0,\n",
    "    period_stop=400,\n",
    "    extra_plots=[],\n",
    "    dim=\"period\",\n",
    "    cmap=cmap,\n",
    ").opts(\n",
    "    opts.Overlay(title=\"\"),\n",
    "    opts.QuadMesh(xlabel=\"d_e (nm)\", colorbar_opts={\"formatter\": tick_formatter}),\n",
    ")"
   ]
  },
  {
   "cell_type": "code",
   "execution_count": null,
   "id": "6c49f4a3-7d81-4e83-85bc-7abc81155096",
   "metadata": {
    "tags": []
   },
   "outputs": [],
   "source": [
    "dmap"
   ]
  },
  {
   "cell_type": "code",
   "execution_count": null,
   "id": "ed9a27b8-a773-404f-b357-499c23ffc8a4",
   "metadata": {
    "tags": []
   },
   "outputs": [],
   "source": [
    "delta = 0\n",
    "disorder_correlation = \"correlated\"\n",
    "disorder_code = disorder_correlation[0]\n",
    "D = str(delta).replace(\".\", \"\")\n",
    "\n",
    "the_plot = dmap.select(delta=delta, disorder_correlation=disorder_correlation)\n",
    "display(the_plot)\n",
    "hv.save(\n",
    "    the_plot,\n",
    "    filename=fig_path\n",
    "    / f\"opt_{var_code}_max_DLOPC_elt_N_{lorentz_line}_{window_radius}_{theta}_{integrate_angle}_D{D}{disorder_code}\",\n",
    "    fmt=\"png\",\n",
    "    toolbar=False,\n",
    ")"
   ]
  },
  {
   "cell_type": "code",
   "execution_count": null,
   "id": "f99bf8f6-2ab0-4411-939c-613c40698610",
   "metadata": {
    "tags": []
   },
   "outputs": [],
   "source": [
    "delta = 0.15\n",
    "disorder_correlation = \"correlated\"\n",
    "disorder_code = disorder_correlation[0]\n",
    "D = str(delta).replace(\".\", \"\")\n",
    "\n",
    "the_plot = dmap.select(delta=delta, disorder_correlation=disorder_correlation)\n",
    "display(the_plot)\n",
    "hv.save(\n",
    "    the_plot,\n",
    "    filename=fig_path\n",
    "    / f\"opt_{var_code}_max_DLOPC_elt_N_{lorentz_line}_{window_radius}_{theta}_{integrate_angle}_D{D}{disorder_code}\",\n",
    "    fmt=\"png\",\n",
    "    toolbar=False,\n",
    ")"
   ]
  },
  {
   "cell_type": "code",
   "execution_count": null,
   "id": "db68a631-630c-47bf-88e2-858918164438",
   "metadata": {
    "tags": []
   },
   "outputs": [],
   "source": [
    "delta = 0.15\n",
    "disorder_correlation = \"uncorrelated\"\n",
    "disorder_code = disorder_correlation[0]\n",
    "D = str(delta).replace(\".\", \"\")\n",
    "\n",
    "the_plot = dmap.select(delta=delta, disorder_correlation=disorder_correlation)\n",
    "display(the_plot)\n",
    "hv.save(\n",
    "    the_plot,\n",
    "    filename=fig_path\n",
    "    / f\"opt_{var_code}_max_DLOPC_elt_N_{lorentz_line}_{window_radius}_{theta}_{integrate_angle}_D{D}{disorder_code}\",\n",
    "    fmt=\"png\",\n",
    "    toolbar=False,\n",
    ")"
   ]
  },
  {
   "cell_type": "markdown",
   "id": "941fa1dd-ea67-4988-a1bf-0e96a0ef39ad",
   "metadata": {},
   "source": [
    "Further from LO resonance?"
   ]
  },
  {
   "cell_type": "code",
   "execution_count": null,
   "id": "25c485b5-467e-45c0-9ed3-64c2ab49eca1",
   "metadata": {
    "tags": []
   },
   "outputs": [],
   "source": [
    "variable = \"R_per_oscillator\"\n",
    "lorentz_line = 5\n",
    "window_radius = 3\n",
    "theta = 0\n",
    "integrate_angle = 0\n",
    "\n",
    "if \"per_oscillator\" in variable:\n",
    "    var_code = variable[0] + \"po\"\n",
    "else:\n",
    "    var_code = variable\n",
    "if integrate_angle:\n",
    "    th = f\"{theta}-{integrate_angle}\"\n",
    "else:\n",
    "    th = theta\n",
    "match variable[0]:\n",
    "    case \"R\":\n",
    "        cmap = \"viridis\"\n",
    "    case \"T\":\n",
    "        cmap = \"cividis\"\n",
    "    case \"A\":\n",
    "        cmap = \"inferno\"\n",
    "\n",
    "temp_ds = restacked_ads\n",
    "dmap = wrapped_2D_plot(\n",
    "    variable=variable,\n",
    "    dataset=temp_ds,\n",
    "    lorentz_line=lorentz_line,\n",
    "    window_radius=window_radius,\n",
    "    theta=theta,\n",
    "    integrate_angle=integrate_angle,\n",
    "    period_start=0,\n",
    "    period_stop=400,\n",
    "    extra_plots=[],\n",
    "    dim=\"period\",\n",
    "    cmap=cmap,\n",
    ").opts(opts.Overlay(title=\"\"), opts.QuadMesh(xlabel=\"d_e (nm)\"))"
   ]
  },
  {
   "cell_type": "code",
   "execution_count": null,
   "id": "470f804c-0a6a-4f37-9a67-7b89a8efa716",
   "metadata": {
    "tags": []
   },
   "outputs": [],
   "source": [
    "dmap"
   ]
  },
  {
   "cell_type": "code",
   "execution_count": null,
   "id": "3b11690b-e0a9-4c0e-8707-e9e1e5fea88c",
   "metadata": {
    "tags": []
   },
   "outputs": [],
   "source": [
    "delta = 0\n",
    "disorder_correlation = \"correlated\"\n",
    "disorder_code = disorder_correlation[0]\n",
    "D = str(delta).replace(\".\", \"\")\n",
    "\n",
    "the_plot = dmap.select(delta=delta, disorder_correlation=disorder_correlation)\n",
    "display(the_plot)\n",
    "hv.save(\n",
    "    the_plot,\n",
    "    filename=fig_path\n",
    "    / f\"opt_{var_code}_max_DLOPC_elt_N_{lorentz_line}_{window_radius}_{theta}_{integrate_angle}_D{D}{disorder_code}\",\n",
    "    fmt=\"png\",\n",
    "    toolbar=False,\n",
    ")"
   ]
  },
  {
   "cell_type": "code",
   "execution_count": null,
   "id": "1e4e1d87-355b-427b-8920-a3149fa1d409",
   "metadata": {
    "tags": []
   },
   "outputs": [],
   "source": [
    "delta = 0.15\n",
    "disorder_correlation = \"correlated\"\n",
    "disorder_code = disorder_correlation[0]\n",
    "D = str(delta).replace(\".\", \"\")\n",
    "\n",
    "the_plot = dmap.select(delta=delta, disorder_correlation=disorder_correlation)\n",
    "display(the_plot)\n",
    "hv.save(\n",
    "    the_plot,\n",
    "    filename=fig_path\n",
    "    / f\"opt_{var_code}_max_DLOPC_elt_N_{lorentz_line}_{window_radius}_{theta}_{integrate_angle}_D{D}{disorder_code}\",\n",
    "    fmt=\"png\",\n",
    "    toolbar=False,\n",
    ")"
   ]
  },
  {
   "cell_type": "code",
   "execution_count": null,
   "id": "3f8f7e3d-560d-4929-a93b-1b7f0614adf3",
   "metadata": {
    "tags": []
   },
   "outputs": [],
   "source": [
    "delta = 0.15\n",
    "disorder_correlation = \"uncorrelated\"\n",
    "disorder_code = disorder_correlation[0]\n",
    "D = str(delta).replace(\".\", \"\")\n",
    "\n",
    "the_plot = dmap.select(delta=delta, disorder_correlation=disorder_correlation)\n",
    "display(the_plot)\n",
    "hv.save(\n",
    "    the_plot,\n",
    "    filename=fig_path\n",
    "    / f\"opt_{var_code}_max_DLOPC_elt_N_{lorentz_line}_{window_radius}_{theta}_{integrate_angle}_D{D}{disorder_code}\",\n",
    "    fmt=\"png\",\n",
    "    toolbar=False,\n",
    ")"
   ]
  },
  {
   "cell_type": "markdown",
   "id": "56a66b4b-1b17-499e-adcb-5339454f7d79",
   "metadata": {},
   "source": [
    "Integrating over theta?"
   ]
  },
  {
   "cell_type": "code",
   "execution_count": null,
   "id": "0a1b16da-c54e-4dbf-984c-1bda1b17ce2b",
   "metadata": {
    "tags": []
   },
   "outputs": [],
   "source": [
    "variable = \"R_per_oscillator\"\n",
    "lorentz_line = 0\n",
    "window_radius = 0\n",
    "theta = 0\n",
    "integrate_angle = 45\n",
    "\n",
    "if \"per_oscillator\" in variable:\n",
    "    var_code = variable[0] + \"po\"\n",
    "else:\n",
    "    var_code = variable\n",
    "if integrate_angle:\n",
    "    th = f\"{theta}-{integrate_angle}\"\n",
    "else:\n",
    "    th = theta\n",
    "match variable[0]:\n",
    "    case \"R\":\n",
    "        cmap = \"viridis\"\n",
    "    case \"T\":\n",
    "        cmap = \"cividis\"\n",
    "    case \"A\":\n",
    "        cmap = \"inferno\"\n",
    "\n",
    "temp_ds = restacked_ads\n",
    "dmap = wrapped_2D_plot(\n",
    "    variable=variable,\n",
    "    dataset=temp_ds,\n",
    "    lorentz_line=lorentz_line,\n",
    "    window_radius=window_radius,\n",
    "    theta=theta,\n",
    "    integrate_angle=integrate_angle,\n",
    "    period_start=0,\n",
    "    period_stop=400,\n",
    "    extra_plots=[],\n",
    "    dim=\"period\",\n",
    "    cmap=cmap,\n",
    ").opts(opts.Overlay(title=\"\"), opts.QuadMesh(xlabel=\"d_e (nm)\"))"
   ]
  },
  {
   "cell_type": "code",
   "execution_count": null,
   "id": "5f406d35-b160-4bab-afd2-2f4ed311de82",
   "metadata": {
    "tags": []
   },
   "outputs": [],
   "source": [
    "dmap"
   ]
  },
  {
   "cell_type": "code",
   "execution_count": null,
   "id": "7a2e40e0-c3a7-4b61-9075-eb1d051c5e45",
   "metadata": {
    "tags": []
   },
   "outputs": [],
   "source": [
    "delta = 0\n",
    "disorder_correlation = \"correlated\"\n",
    "disorder_code = disorder_correlation[0]\n",
    "D = str(delta).replace(\".\", \"\")\n",
    "\n",
    "the_plot = dmap.select(delta=delta, disorder_correlation=disorder_correlation)\n",
    "display(the_plot)\n",
    "hv.save(\n",
    "    the_plot,\n",
    "    filename=fig_path\n",
    "    / f\"opt_{var_code}_max_DLOPC_elt_N_{lorentz_line}_{window_radius}_{theta}_{integrate_angle}_D{D}{disorder_code}\",\n",
    "    fmt=\"png\",\n",
    "    toolbar=False,\n",
    ")"
   ]
  },
  {
   "cell_type": "code",
   "execution_count": null,
   "id": "ff151067-7810-4341-a262-4b569d4f13db",
   "metadata": {
    "tags": []
   },
   "outputs": [],
   "source": [
    "delta = 0.15\n",
    "disorder_correlation = \"correlated\"\n",
    "disorder_code = disorder_correlation[0]\n",
    "D = str(delta).replace(\".\", \"\")\n",
    "\n",
    "the_plot = dmap.select(delta=delta, disorder_correlation=disorder_correlation)\n",
    "display(the_plot)\n",
    "hv.save(\n",
    "    the_plot,\n",
    "    filename=fig_path\n",
    "    / f\"opt_{var_code}_max_DLOPC_elt_N_{lorentz_line}_{window_radius}_{theta}_{integrate_angle}_D{D}{disorder_code}\",\n",
    "    fmt=\"png\",\n",
    "    toolbar=False,\n",
    ")"
   ]
  },
  {
   "cell_type": "code",
   "execution_count": null,
   "id": "e38b6bb0-471d-449b-9b03-358f8e180b97",
   "metadata": {
    "tags": []
   },
   "outputs": [],
   "source": [
    "delta = 0.15\n",
    "disorder_correlation = \"uncorrelated\"\n",
    "disorder_code = disorder_correlation[0]\n",
    "D = str(delta).replace(\".\", \"\")\n",
    "\n",
    "the_plot = dmap.select(delta=delta, disorder_correlation=disorder_correlation)\n",
    "display(the_plot)\n",
    "hv.save(\n",
    "    the_plot,\n",
    "    filename=fig_path\n",
    "    / f\"opt_{var_code}_max_DLOPC_elt_N_{lorentz_line}_{window_radius}_{theta}_{integrate_angle}_D{D}{disorder_code}\",\n",
    "    fmt=\"png\",\n",
    "    toolbar=False,\n",
    ")"
   ]
  },
  {
   "cell_type": "markdown",
   "id": "b0dcd5ea-214b-4492-aa1e-3cb8e270edaf",
   "metadata": {},
   "source": [
    "... and also R."
   ]
  },
  {
   "cell_type": "markdown",
   "id": "9e465ed3-61ed-47d1-b60f-380330585d53",
   "metadata": {},
   "source": [
    "R-0-0-0-0: 0.47268407 (D=0.01c) vs 0.46824249 (D=0)\n",
    "\n",
    "R-0-8-0-0: 0.23540381 (D=0.14c) vs 0.20471805 (D=0)\n",
    "\n",
    "R-0-8-0-45: 0.17701249 (D=0.13c) vs 0.16186628 (D=0)"
   ]
  },
  {
   "cell_type": "code",
   "execution_count": null,
   "id": "73e1c192-8c23-4332-b6d0-33ad5ca078f7",
   "metadata": {
    "tags": []
   },
   "outputs": [],
   "source": [
    "variable = \"R\"\n",
    "lorentz_line = 0\n",
    "window_radius = 0\n",
    "theta = 0\n",
    "integrate_angle = 0\n",
    "\n",
    "if \"per_oscillator\" in variable:\n",
    "    var_code = variable[0] + \"po\"\n",
    "else:\n",
    "    var_code = variable\n",
    "if integrate_angle:\n",
    "    th = f\"{theta}-{integrate_angle}\"\n",
    "else:\n",
    "    th = theta\n",
    "\n",
    "temp_ds = cross_section(\n",
    "    restacked_ads,\n",
    "    variable=variable,\n",
    "    lorentz_line=lorentz_line,\n",
    "    window_radius=window_radius,\n",
    "    theta=theta,\n",
    "    integrate_angle=integrate_angle,\n",
    ")"
   ]
  },
  {
   "cell_type": "code",
   "execution_count": null,
   "id": "541b9eb7-e3c1-4058-8fc8-a2c467ff4346",
   "metadata": {
    "tags": []
   },
   "outputs": [],
   "source": [
    "find_optimum_coords(temp_ds)"
   ]
  },
  {
   "cell_type": "code",
   "execution_count": null,
   "id": "7b0a72e6-b25d-41b4-9b95-e442963e9c06",
   "metadata": {
    "tags": []
   },
   "outputs": [],
   "source": [
    "find_optimum_coords(temp_ds.sel(delta=0, disorder_correlation=\"correlated\"))"
   ]
  },
  {
   "cell_type": "code",
   "execution_count": null,
   "id": "7dbd3103-5edf-46d6-81ad-f127fb4a1c7a",
   "metadata": {
    "tags": []
   },
   "outputs": [],
   "source": [
    "P = 250\n",
    "elt = 40\n",
    "N = 30\n",
    "the_plot = temp_ds.sel(period=P, excitonic_layer_thickness=elt, num_periods=N).squeeze().hvplot(\n",
    "    x=\"delta\", by=\"disorder_correlation\"\n",
    ").opts(opts.Curve(ylabel=var_code), opts.NdOverlay(title=\"\", legend_position=\"bottom_left\", legend_opts={\"title\": None}))\n",
    "the_plot"
   ]
  },
  {
   "cell_type": "code",
   "execution_count": null,
   "id": "010a66f1-2d02-4690-8a39-e139c3abb666",
   "metadata": {
    "tags": []
   },
   "outputs": [],
   "source": [
    "print(f\"correlated: {(1-0.227/0.468)*100:.2f}%\\nuncorrelated: {(1-0.347/0.468)*100:.2f}%\")"
   ]
  },
  {
   "cell_type": "code",
   "execution_count": null,
   "id": "d993dcfd-8359-49fb-ac70-4aaca3e0a84a",
   "metadata": {
    "tags": []
   },
   "outputs": [],
   "source": [
    "hv.save(\n",
    "    the_plot,\n",
    "    filename=fig_path\n",
    "    / f\"{var_code}_DLOPC_1D_D_L0_P{P}_elt{elt}_N{N}_th{th}\",\n",
    "    fmt=\"png\",\n",
    "    toolbar=False,\n",
    ")"
   ]
  },
  {
   "cell_type": "code",
   "execution_count": null,
   "id": "a77e41a2-cd49-419f-9dfd-98368a827788",
   "metadata": {
    "tags": []
   },
   "outputs": [],
   "source": [
    "variable = \"R\"\n",
    "lorentz_line = 0\n",
    "window_radius = 8\n",
    "theta = 0\n",
    "integrate_angle = 0\n",
    "\n",
    "if \"per_oscillator\" in variable:\n",
    "    var_code = variable[0] + \"po\"\n",
    "else:\n",
    "    var_code = variable\n",
    "if window_radius:\n",
    "    L = f\"{lorentz_line}-{window_radius}\"\n",
    "else:\n",
    "    L = lorentz_line\n",
    "if integrate_angle:\n",
    "    th = f\"{theta}-{integrate_angle}\"\n",
    "else:\n",
    "    th = theta\n",
    "\n",
    "temp_ds = cross_section(\n",
    "    restacked_ads,\n",
    "    variable=variable,\n",
    "    lorentz_line=lorentz_line,\n",
    "    window_radius=window_radius,\n",
    "    theta=theta,\n",
    "    integrate_angle=integrate_angle,\n",
    ")"
   ]
  },
  {
   "cell_type": "code",
   "execution_count": null,
   "id": "fefd4105-3ca6-4ff4-807a-8e588ebd313d",
   "metadata": {
    "tags": []
   },
   "outputs": [],
   "source": [
    "find_optimum_coords(temp_ds)"
   ]
  },
  {
   "cell_type": "code",
   "execution_count": null,
   "id": "b4c4e588-1a2f-49a3-997f-eb9ee94bdc47",
   "metadata": {
    "tags": []
   },
   "outputs": [],
   "source": [
    "find_optimum_coords(temp_ds.sel(delta=0, disorder_correlation=\"correlated\"))"
   ]
  },
  {
   "cell_type": "code",
   "execution_count": null,
   "id": "655b1969-597b-46b9-adfc-cff14bb168c8",
   "metadata": {
    "tags": []
   },
   "outputs": [],
   "source": [
    "P = 290\n",
    "elt = 80\n",
    "N = 30\n",
    "the_plot = temp_ds.sel(period=P, excitonic_layer_thickness=elt, num_periods=N).squeeze().hvplot(\n",
    "    x=\"delta\", by=\"disorder_correlation\"\n",
    ").opts(opts.Curve(ylabel=var_code), opts.NdOverlay(title=\"\", legend_position=\"top_left\", legend_opts={\"title\": None}))\n",
    "the_plot"
   ]
  },
  {
   "cell_type": "code",
   "execution_count": null,
   "id": "37797409-f493-4075-9667-f444fa65a0a8",
   "metadata": {
    "tags": []
   },
   "outputs": [],
   "source": [
    "print(f\"correlated: {(1-0.235/0.205)*100:.2f}%\\nuncorrelated: {(1-0.207/0.205)*100:.2f}%\")"
   ]
  },
  {
   "cell_type": "code",
   "execution_count": null,
   "id": "eac66029-5a3a-4aa7-9848-a901327466c9",
   "metadata": {
    "tags": []
   },
   "outputs": [],
   "source": [
    "hv.save(\n",
    "    the_plot,\n",
    "    filename=fig_path\n",
    "    / f\"{var_code}_DLOPC_1D_D_L{L}_P{P}_elt{elt}_N{N}_th{th}\",\n",
    "    fmt=\"png\",\n",
    "    toolbar=False,\n",
    ")"
   ]
  },
  {
   "cell_type": "code",
   "execution_count": null,
   "id": "929453b0-3d1e-4d4d-8454-8989f96fb74a",
   "metadata": {
    "tags": []
   },
   "outputs": [],
   "source": [
    "variable = \"R\"\n",
    "lorentz_line = 0\n",
    "window_radius = 8\n",
    "theta = 0\n",
    "integrate_angle = 45\n",
    "\n",
    "if \"per_oscillator\" in variable:\n",
    "    var_code = variable[0] + \"po\"\n",
    "else:\n",
    "    var_code = variable\n",
    "if window_radius:\n",
    "    L = f\"{lorentz_line}-{window_radius}\"\n",
    "else:\n",
    "    L = lorentz_line\n",
    "if integrate_angle:\n",
    "    th = f\"{theta}-{integrate_angle}\"\n",
    "else:\n",
    "    th = theta\n",
    "\n",
    "temp_ds = cross_section(\n",
    "    restacked_ads,\n",
    "    variable=variable,\n",
    "    lorentz_line=lorentz_line,\n",
    "    window_radius=window_radius,\n",
    "    theta=theta,\n",
    "    integrate_angle=integrate_angle,\n",
    ")"
   ]
  },
  {
   "cell_type": "code",
   "execution_count": null,
   "id": "7d2ac0c7-d642-482b-bc51-38c86c1c655b",
   "metadata": {
    "tags": []
   },
   "outputs": [],
   "source": [
    "find_optimum_coords(temp_ds)"
   ]
  },
  {
   "cell_type": "code",
   "execution_count": null,
   "id": "0483c68b-644a-4486-96a4-4e938d9c43f0",
   "metadata": {
    "tags": []
   },
   "outputs": [],
   "source": [
    "find_optimum_coords(temp_ds.sel(delta=0, disorder_correlation=\"correlated\"))"
   ]
  },
  {
   "cell_type": "code",
   "execution_count": null,
   "id": "0b25501d-950d-40bd-b07d-0ba2d55183f1",
   "metadata": {
    "tags": []
   },
   "outputs": [],
   "source": [
    "P = 300\n",
    "elt = 80\n",
    "N = 30\n",
    "the_plot = temp_ds.sel(period=P, excitonic_layer_thickness=elt, num_periods=N).squeeze().hvplot(\n",
    "    x=\"delta\", by=\"disorder_correlation\"\n",
    ").opts(opts.Curve(ylabel=var_code), opts.NdOverlay(title=\"\", legend_position=\"top_left\", legend_opts={\"title\": None}))\n",
    "the_plot"
   ]
  },
  {
   "cell_type": "code",
   "execution_count": null,
   "id": "a82af2aa-73e9-4c50-8a55-fcef88732de5",
   "metadata": {
    "tags": []
   },
   "outputs": [],
   "source": [
    "print(f\"correlated: {(0.177/0.162-1)*100:.2f}%\\nuncorrelated: {(0.160/0.162-1)*100:.2f}%\")"
   ]
  },
  {
   "cell_type": "code",
   "execution_count": null,
   "id": "b2c40835-9198-49bd-9e8c-d868aa047dcd",
   "metadata": {
    "tags": []
   },
   "outputs": [],
   "source": [
    "hv.save(\n",
    "    the_plot,\n",
    "    filename=fig_path\n",
    "    / f\"{var_code}_DLOPC_1D_D_L{L}_P{P}_elt{elt}_N{N}_th{th}\",\n",
    "    fmt=\"png\",\n",
    "    toolbar=False,\n",
    ")"
   ]
  },
  {
   "cell_type": "code",
   "execution_count": null,
   "id": "4eae05c3-85c4-434d-900f-63595a236620",
   "metadata": {
    "tags": []
   },
   "outputs": [],
   "source": [
    "variable = \"R\"\n",
    "lorentz_line = 0\n",
    "window_radius = 0\n",
    "theta = 0\n",
    "integrate_angle = 0\n",
    "\n",
    "if \"per_oscillator\" in variable:\n",
    "    var_code = variable[0] + \"po\"\n",
    "else:\n",
    "    var_code = variable\n",
    "if integrate_angle:\n",
    "    th = f\"{theta}-{integrate_angle}\"\n",
    "else:\n",
    "    th = theta\n",
    "match variable[0]:\n",
    "    case \"R\":\n",
    "        cmap = \"viridis\"\n",
    "    case \"T\":\n",
    "        cmap = \"cividis\"\n",
    "    case \"A\":\n",
    "        cmap = \"inferno\"\n",
    "\n",
    "temp_ds = restacked_ads\n",
    "dmap = wrapped_2D_plot(\n",
    "    variable=variable,\n",
    "    dataset=temp_ds,\n",
    "    lorentz_line=lorentz_line,\n",
    "    window_radius=window_radius,\n",
    "    theta=theta,\n",
    "    integrate_angle=integrate_angle,\n",
    "    period_start=0,\n",
    "    period_stop=400,\n",
    "    extra_plots=[],\n",
    "    dim=\"period\",\n",
    "    cmap=cmap,\n",
    ").opts(opts.Overlay(title=\"\"), opts.QuadMesh(xlabel=\"d_e (nm)\"))"
   ]
  },
  {
   "cell_type": "code",
   "execution_count": null,
   "id": "d181c86a-c871-4239-a2ab-8c2a7114bee0",
   "metadata": {
    "tags": []
   },
   "outputs": [],
   "source": [
    "dmap"
   ]
  },
  {
   "cell_type": "code",
   "execution_count": null,
   "id": "17ddf549-d359-462a-abfb-c58039e7b59b",
   "metadata": {
    "tags": []
   },
   "outputs": [],
   "source": [
    "delta = 0\n",
    "disorder_correlation = \"correlated\"\n",
    "disorder_code = disorder_correlation[0]\n",
    "D = str(delta).replace(\".\", \"\")\n",
    "\n",
    "the_plot = dmap.select(delta=delta, disorder_correlation=disorder_correlation)\n",
    "display(the_plot)\n",
    "hv.save(\n",
    "    the_plot,\n",
    "    filename=fig_path\n",
    "    / f\"opt_{var_code}_max_DLOPC_elt_N_{lorentz_line}_{window_radius}_{theta}_{integrate_angle}_D{D}{disorder_code}\",\n",
    "    fmt=\"png\",\n",
    "    toolbar=False,\n",
    ")"
   ]
  },
  {
   "cell_type": "code",
   "execution_count": null,
   "id": "802ed8b8-5252-4747-b4ed-e7fa4d6467a6",
   "metadata": {
    "tags": []
   },
   "outputs": [],
   "source": [
    "delta = 0.15\n",
    "disorder_correlation = \"correlated\"\n",
    "disorder_code = disorder_correlation[0]\n",
    "D = str(delta).replace(\".\", \"\")\n",
    "\n",
    "the_plot = dmap.select(delta=delta, disorder_correlation=disorder_correlation)\n",
    "display(the_plot)\n",
    "hv.save(\n",
    "    the_plot,\n",
    "    filename=fig_path\n",
    "    / f\"opt_{var_code}_max_DLOPC_elt_N_{lorentz_line}_{window_radius}_{theta}_{integrate_angle}_D{D}{disorder_code}\",\n",
    "    fmt=\"png\",\n",
    "    toolbar=False,\n",
    ")"
   ]
  },
  {
   "cell_type": "code",
   "execution_count": null,
   "id": "b5ee8343-6d46-4cca-bb08-31c66978f5ee",
   "metadata": {
    "tags": []
   },
   "outputs": [],
   "source": [
    "delta = 0.15\n",
    "disorder_correlation = \"uncorrelated\"\n",
    "disorder_code = disorder_correlation[0]\n",
    "D = str(delta).replace(\".\", \"\")\n",
    "\n",
    "the_plot = dmap.select(delta=delta, disorder_correlation=disorder_correlation)\n",
    "display(the_plot)\n",
    "hv.save(\n",
    "    the_plot,\n",
    "    filename=fig_path\n",
    "    / f\"opt_{var_code}_max_DLOPC_elt_N_{lorentz_line}_{window_radius}_{theta}_{integrate_angle}_D{D}{disorder_code}\",\n",
    "    fmt=\"png\",\n",
    "    toolbar=False,\n",
    ")"
   ]
  },
  {
   "cell_type": "markdown",
   "id": "5b86d127-f14f-4d35-a3a0-3d0aaf151f5a",
   "metadata": {},
   "source": [
    "Integrating over lambda?"
   ]
  },
  {
   "cell_type": "code",
   "execution_count": null,
   "id": "f17a9089-2df8-4af3-817c-63a99199e7b8",
   "metadata": {
    "tags": []
   },
   "outputs": [],
   "source": [
    "variable = \"R\"\n",
    "lorentz_line = 0\n",
    "window_radius = 3\n",
    "theta = 0\n",
    "integrate_angle = 0\n",
    "\n",
    "if \"per_oscillator\" in variable:\n",
    "    var_code = variable[0] + \"po\"\n",
    "else:\n",
    "    var_code = variable\n",
    "if integrate_angle:\n",
    "    th = f\"{theta}-{integrate_angle}\"\n",
    "else:\n",
    "    th = theta\n",
    "match variable[0]:\n",
    "    case \"R\":\n",
    "        cmap = \"viridis\"\n",
    "    case \"T\":\n",
    "        cmap = \"cividis\"\n",
    "    case \"A\":\n",
    "        cmap = \"inferno\"\n",
    "\n",
    "temp_ds = restacked_ads\n",
    "dmap = wrapped_2D_plot(\n",
    "    variable=variable,\n",
    "    dataset=temp_ds,\n",
    "    lorentz_line=lorentz_line,\n",
    "    window_radius=window_radius,\n",
    "    theta=theta,\n",
    "    integrate_angle=integrate_angle,\n",
    "    period_start=0,\n",
    "    period_stop=400,\n",
    "    extra_plots=[],\n",
    "    dim=\"period\",\n",
    "    cmap=cmap,\n",
    ").opts(opts.Overlay(title=\"\"), opts.QuadMesh(xlabel=\"d_e (nm)\"))"
   ]
  },
  {
   "cell_type": "code",
   "execution_count": null,
   "id": "d45f6cd0-c20d-44a6-bae6-8aef892dccf0",
   "metadata": {
    "tags": []
   },
   "outputs": [],
   "source": [
    "# find_optimum_coords(temp_ds)"
   ]
  },
  {
   "cell_type": "code",
   "execution_count": null,
   "id": "da6c4632-1d09-4994-a718-13ef9cbfe2e9",
   "metadata": {
    "tags": []
   },
   "outputs": [],
   "source": [
    "dmap"
   ]
  },
  {
   "cell_type": "code",
   "execution_count": null,
   "id": "30aa469f-4c79-4971-8026-f3a0908fa6ff",
   "metadata": {
    "tags": []
   },
   "outputs": [],
   "source": [
    "delta = 0\n",
    "disorder_correlation = \"correlated\"\n",
    "disorder_code = disorder_correlation[0]\n",
    "D = str(delta).replace(\".\", \"\")\n",
    "\n",
    "the_plot = dmap.select(delta=delta, disorder_correlation=disorder_correlation)\n",
    "display(the_plot)\n",
    "hv.save(\n",
    "    the_plot,\n",
    "    filename=fig_path\n",
    "    / f\"opt_{var_code}_max_DLOPC_elt_N_{lorentz_line}_{window_radius}_{theta}_{integrate_angle}_D{D}{disorder_code}\",\n",
    "    fmt=\"png\",\n",
    "    toolbar=False,\n",
    ")"
   ]
  },
  {
   "cell_type": "code",
   "execution_count": null,
   "id": "8a513b79-5140-4523-a0c8-0b738ae581d6",
   "metadata": {
    "tags": []
   },
   "outputs": [],
   "source": [
    "delta = 0.15\n",
    "disorder_correlation = \"correlated\"\n",
    "disorder_code = disorder_correlation[0]\n",
    "D = str(delta).replace(\".\", \"\")\n",
    "\n",
    "the_plot = dmap.select(delta=delta, disorder_correlation=disorder_correlation)\n",
    "display(the_plot)\n",
    "hv.save(\n",
    "    the_plot,\n",
    "    filename=fig_path\n",
    "    / f\"opt_{var_code}_max_DLOPC_elt_N_{lorentz_line}_{window_radius}_{theta}_{integrate_angle}_D{D}{disorder_code}\",\n",
    "    fmt=\"png\",\n",
    "    toolbar=False,\n",
    ")"
   ]
  },
  {
   "cell_type": "code",
   "execution_count": null,
   "id": "8935f13f-22d0-4ba4-97e4-0a7300cd2034",
   "metadata": {
    "tags": []
   },
   "outputs": [],
   "source": [
    "delta = 0.15\n",
    "disorder_correlation = \"uncorrelated\"\n",
    "disorder_code = disorder_correlation[0]\n",
    "D = str(delta).replace(\".\", \"\")\n",
    "\n",
    "the_plot = dmap.select(delta=delta, disorder_correlation=disorder_correlation)\n",
    "display(the_plot)\n",
    "hv.save(\n",
    "    the_plot,\n",
    "    filename=fig_path\n",
    "    / f\"opt_{var_code}_max_DLOPC_elt_N_{lorentz_line}_{window_radius}_{theta}_{integrate_angle}_D{D}{disorder_code}\",\n",
    "    fmt=\"png\",\n",
    "    toolbar=False,\n",
    ")"
   ]
  },
  {
   "cell_type": "markdown",
   "id": "d545149f-c657-4166-9cce-d656bd52de29",
   "metadata": {},
   "source": [
    "Integrating over theta?"
   ]
  },
  {
   "cell_type": "code",
   "execution_count": null,
   "id": "1f6c0bf0-5fb6-4254-80b8-f9d8a8b43ffc",
   "metadata": {
    "tags": []
   },
   "outputs": [],
   "source": [
    "variable = \"R\"\n",
    "lorentz_line = 0\n",
    "window_radius = 0\n",
    "theta = 0\n",
    "integrate_angle = 45\n",
    "\n",
    "if \"per_oscillator\" in variable:\n",
    "    var_code = variable[0] + \"po\"\n",
    "else:\n",
    "    var_code = variable\n",
    "if integrate_angle:\n",
    "    th = f\"{theta}-{integrate_angle}\"\n",
    "else:\n",
    "    th = theta\n",
    "match variable[0]:\n",
    "    case \"R\":\n",
    "        cmap = \"viridis\"\n",
    "    case \"T\":\n",
    "        cmap = \"cividis\"\n",
    "    case \"A\":\n",
    "        cmap = \"inferno\"\n",
    "\n",
    "temp_ds = restacked_ads\n",
    "dmap = wrapped_2D_plot(\n",
    "    variable=variable,\n",
    "    dataset=temp_ds,\n",
    "    lorentz_line=lorentz_line,\n",
    "    window_radius=window_radius,\n",
    "    theta=theta,\n",
    "    integrate_angle=integrate_angle,\n",
    "    period_start=0,\n",
    "    period_stop=400,\n",
    "    extra_plots=[],\n",
    "    dim=\"period\",\n",
    "    cmap=cmap,\n",
    ").opts(opts.Overlay(title=\"\"), opts.QuadMesh(xlabel=\"d_e (nm)\"))"
   ]
  },
  {
   "cell_type": "code",
   "execution_count": null,
   "id": "641aec76-d152-4027-b65c-b2d3ab1a59e7",
   "metadata": {
    "tags": []
   },
   "outputs": [],
   "source": [
    "dmap"
   ]
  },
  {
   "cell_type": "code",
   "execution_count": null,
   "id": "ac82cdd7-9f50-4ff3-ab39-5699d6f16a53",
   "metadata": {
    "tags": []
   },
   "outputs": [],
   "source": [
    "delta = 0\n",
    "disorder_correlation = \"correlated\"\n",
    "disorder_code = disorder_correlation[0]\n",
    "D = str(delta).replace(\".\", \"\")\n",
    "\n",
    "the_plot = dmap.select(delta=delta, disorder_correlation=disorder_correlation)\n",
    "display(the_plot)\n",
    "hv.save(\n",
    "    the_plot,\n",
    "    filename=fig_path\n",
    "    / f\"opt_{var_code}_max_DLOPC_elt_N_{lorentz_line}_{window_radius}_{theta}_{integrate_angle}_D{D}{disorder_code}\",\n",
    "    fmt=\"png\",\n",
    "    toolbar=False,\n",
    ")"
   ]
  },
  {
   "cell_type": "code",
   "execution_count": null,
   "id": "f1d65d75-dfcb-4165-86ad-a79d80b1c418",
   "metadata": {
    "tags": []
   },
   "outputs": [],
   "source": [
    "delta = 0.15\n",
    "disorder_correlation = \"correlated\"\n",
    "disorder_code = disorder_correlation[0]\n",
    "D = str(delta).replace(\".\", \"\")\n",
    "\n",
    "the_plot = dmap.select(delta=delta, disorder_correlation=disorder_correlation)\n",
    "display(the_plot)\n",
    "hv.save(\n",
    "    the_plot,\n",
    "    filename=fig_path\n",
    "    / f\"opt_{var_code}_max_DLOPC_elt_N_{lorentz_line}_{window_radius}_{theta}_{integrate_angle}_D{D}{disorder_code}\",\n",
    "    fmt=\"png\",\n",
    "    toolbar=False,\n",
    ")"
   ]
  },
  {
   "cell_type": "code",
   "execution_count": null,
   "id": "d7762a6d-1395-4279-82d4-7025a29d761b",
   "metadata": {
    "tags": []
   },
   "outputs": [],
   "source": [
    "delta = 0.15\n",
    "disorder_correlation = \"uncorrelated\"\n",
    "disorder_code = disorder_correlation[0]\n",
    "D = str(delta).replace(\".\", \"\")\n",
    "\n",
    "the_plot = dmap.select(delta=delta, disorder_correlation=disorder_correlation)\n",
    "display(the_plot)\n",
    "hv.save(\n",
    "    the_plot,\n",
    "    filename=fig_path\n",
    "    / f\"opt_{var_code}_max_DLOPC_elt_N_{lorentz_line}_{window_radius}_{theta}_{integrate_angle}_D{D}{disorder_code}\",\n",
    "    fmt=\"png\",\n",
    "    toolbar=False,\n",
    ")"
   ]
  },
  {
   "cell_type": "markdown",
   "id": "65ff606c-63bb-4c5b-8359-0ee662529777",
   "metadata": {},
   "source": [
    "Integrating over theta and lambda?"
   ]
  },
  {
   "cell_type": "code",
   "execution_count": null,
   "id": "d06ca177-ecd3-4b9c-9a16-0692c4fa6f73",
   "metadata": {
    "tags": []
   },
   "outputs": [],
   "source": [
    "variable = \"R\"\n",
    "lorentz_line = 0\n",
    "window_radius = 8\n",
    "theta = 0\n",
    "integrate_angle = 45\n",
    "\n",
    "if \"per_oscillator\" in variable:\n",
    "    var_code = variable[0] + \"po\"\n",
    "else:\n",
    "    var_code = variable\n",
    "if integrate_angle:\n",
    "    th = f\"{theta}-{integrate_angle}\"\n",
    "else:\n",
    "    th = theta\n",
    "match variable[0]:\n",
    "    case \"R\":\n",
    "        cmap = \"viridis\"\n",
    "    case \"T\":\n",
    "        cmap = \"cividis\"\n",
    "    case \"A\":\n",
    "        cmap = \"inferno\"\n",
    "\n",
    "temp_ds = restacked_ads\n",
    "dmap = wrapped_2D_plot(\n",
    "    variable=variable,\n",
    "    dataset=temp_ds,\n",
    "    lorentz_line=lorentz_line,\n",
    "    window_radius=window_radius,\n",
    "    theta=theta,\n",
    "    integrate_angle=integrate_angle,\n",
    "    period_start=0,\n",
    "    period_stop=400,\n",
    "    extra_plots=[],\n",
    "    dim=\"period\",\n",
    "    cmap=cmap,\n",
    ").opts(opts.Overlay(title=\"\"), opts.QuadMesh(xlabel=\"d_e (nm)\"))"
   ]
  },
  {
   "cell_type": "code",
   "execution_count": null,
   "id": "920d3e1b-be18-434d-90e8-21efad666c41",
   "metadata": {
    "tags": []
   },
   "outputs": [],
   "source": [
    "# find_optimum_coords(temp_ds)"
   ]
  },
  {
   "cell_type": "code",
   "execution_count": null,
   "id": "d78cac07-d5b7-4710-b887-1191dde0cf21",
   "metadata": {
    "tags": []
   },
   "outputs": [],
   "source": [
    "dmap"
   ]
  },
  {
   "cell_type": "code",
   "execution_count": null,
   "id": "6bbc3bd1-11b9-4e4e-bd73-9fe85e5003ac",
   "metadata": {
    "tags": []
   },
   "outputs": [],
   "source": [
    "delta = 0\n",
    "disorder_correlation = \"correlated\"\n",
    "disorder_code = disorder_correlation[0]\n",
    "D = str(delta).replace(\".\", \"\")\n",
    "\n",
    "the_plot = dmap.select(delta=delta, disorder_correlation=disorder_correlation)\n",
    "display(the_plot)\n",
    "hv.save(\n",
    "    the_plot,\n",
    "    filename=fig_path\n",
    "    / f\"opt_{var_code}_max_DLOPC_elt_N_{lorentz_line}_{window_radius}_{theta}_{integrate_angle}_D{D}{disorder_code}\",\n",
    "    fmt=\"png\",\n",
    "    toolbar=False,\n",
    ")"
   ]
  },
  {
   "cell_type": "code",
   "execution_count": null,
   "id": "469ff246-52f1-4919-8cb6-ac5922d8ac8b",
   "metadata": {
    "tags": []
   },
   "outputs": [],
   "source": [
    "delta = 0.15\n",
    "disorder_correlation = \"correlated\"\n",
    "disorder_code = disorder_correlation[0]\n",
    "D = str(delta).replace(\".\", \"\")\n",
    "\n",
    "the_plot = dmap.select(delta=delta, disorder_correlation=disorder_correlation)\n",
    "display(the_plot)\n",
    "hv.save(\n",
    "    the_plot,\n",
    "    filename=fig_path\n",
    "    / f\"opt_{var_code}_max_DLOPC_elt_N_{lorentz_line}_{window_radius}_{theta}_{integrate_angle}_D{D}{disorder_code}\",\n",
    "    fmt=\"png\",\n",
    "    toolbar=False,\n",
    ")"
   ]
  },
  {
   "cell_type": "code",
   "execution_count": null,
   "id": "435443c7-6081-4bf4-87e6-6a9bb657d976",
   "metadata": {
    "tags": []
   },
   "outputs": [],
   "source": [
    "delta = 0.15\n",
    "disorder_correlation = \"uncorrelated\"\n",
    "disorder_code = disorder_correlation[0]\n",
    "D = str(delta).replace(\".\", \"\")\n",
    "\n",
    "the_plot = dmap.select(delta=delta, disorder_correlation=disorder_correlation)\n",
    "display(the_plot)\n",
    "hv.save(\n",
    "    the_plot,\n",
    "    filename=fig_path\n",
    "    / f\"opt_{var_code}_max_DLOPC_elt_N_{lorentz_line}_{window_radius}_{theta}_{integrate_angle}_D{D}{disorder_code}\",\n",
    "    fmt=\"png\",\n",
    "    toolbar=False,\n",
    ")"
   ]
  },
  {
   "cell_type": "markdown",
   "id": "877a3ddb-0013-4f05-9fa6-24a0b4e852f7",
   "metadata": {},
   "source": [
    "With absorptance, it's hard to see any patterns because it saturates. Look at Aef instead."
   ]
  },
  {
   "cell_type": "code",
   "execution_count": null,
   "id": "905c351f-46c4-4e39-b6df-e5a00d54d688",
   "metadata": {
    "tags": []
   },
   "outputs": [],
   "source": [
    "variable = \"A\"\n",
    "lorentz_line = 0\n",
    "window_radius = 0\n",
    "theta = 0\n",
    "integrate_angle = 0\n",
    "\n",
    "if \"per_oscillator\" in variable:\n",
    "    var_code = variable[0] + \"po\"\n",
    "else:\n",
    "    var_code = variable\n",
    "if integrate_angle:\n",
    "    th = f\"{theta}-{integrate_angle}\"\n",
    "else:\n",
    "    th = theta\n",
    "match variable[0]:\n",
    "    case \"R\":\n",
    "        cmap = \"viridis\"\n",
    "    case \"T\":\n",
    "        cmap = \"cividis\"\n",
    "    case \"A\":\n",
    "        cmap = \"inferno\"\n",
    "\n",
    "temp_ds = restacked_ads\n",
    "dmap = wrapped_2D_plot(\n",
    "    variable=variable,\n",
    "    dataset=temp_ds,\n",
    "    lorentz_line=lorentz_line,\n",
    "    window_radius=window_radius,\n",
    "    theta=theta,\n",
    "    integrate_angle=integrate_angle,\n",
    "    period_start=0,\n",
    "    period_stop=400,\n",
    "    extra_plots=[],\n",
    "    dim=\"period\",\n",
    "    cmap=cmap,\n",
    ").opts(opts.Overlay(title=\"\"), opts.QuadMesh(xlabel=\"d_e (nm)\"))"
   ]
  },
  {
   "cell_type": "code",
   "execution_count": null,
   "id": "67b7cd20-e53c-4c32-8d9e-5a8d3ce09e3d",
   "metadata": {
    "tags": []
   },
   "outputs": [],
   "source": [
    "dmap"
   ]
  },
  {
   "cell_type": "code",
   "execution_count": null,
   "id": "3ccb0d9c-0155-417e-bf80-7c92077a7824",
   "metadata": {
    "tags": []
   },
   "outputs": [],
   "source": [
    "delta = 0\n",
    "disorder_correlation = \"correlated\"\n",
    "disorder_code = disorder_correlation[0]\n",
    "D = str(delta).replace(\".\", \"\")\n",
    "\n",
    "the_plot = dmap.select(delta=delta, disorder_correlation=disorder_correlation)\n",
    "display(the_plot)\n",
    "hv.save(\n",
    "    the_plot,\n",
    "    filename=fig_path\n",
    "    / f\"opt_{var_code}_max_DLOPC_elt_N_{lorentz_line}_{window_radius}_{theta}_{integrate_angle}_D{D}{disorder_code}\",\n",
    "    fmt=\"png\",\n",
    "    toolbar=False,\n",
    ")"
   ]
  },
  {
   "cell_type": "code",
   "execution_count": null,
   "id": "385edc1d-1cd4-4f42-b27d-6d5499005423",
   "metadata": {
    "tags": []
   },
   "outputs": [],
   "source": [
    "delta = 0.15\n",
    "disorder_correlation = \"correlated\"\n",
    "disorder_code = disorder_correlation[0]\n",
    "D = str(delta).replace(\".\", \"\")\n",
    "\n",
    "the_plot = dmap.select(delta=delta, disorder_correlation=disorder_correlation)\n",
    "display(the_plot)\n",
    "hv.save(\n",
    "    the_plot,\n",
    "    filename=fig_path\n",
    "    / f\"opt_{var_code}_max_DLOPC_elt_N_{lorentz_line}_{window_radius}_{theta}_{integrate_angle}_D{D}{disorder_code}\",\n",
    "    fmt=\"png\",\n",
    "    toolbar=False,\n",
    ")"
   ]
  },
  {
   "cell_type": "code",
   "execution_count": null,
   "id": "af318fdf-a285-4955-a694-44de08ac6066",
   "metadata": {
    "tags": []
   },
   "outputs": [],
   "source": [
    "delta = 0.15\n",
    "disorder_correlation = \"uncorrelated\"\n",
    "disorder_code = disorder_correlation[0]\n",
    "D = str(delta).replace(\".\", \"\")\n",
    "\n",
    "the_plot = dmap.select(delta=delta, disorder_correlation=disorder_correlation)\n",
    "display(the_plot)\n",
    "hv.save(\n",
    "    the_plot,\n",
    "    filename=fig_path\n",
    "    / f\"opt_{var_code}_max_DLOPC_elt_N_{lorentz_line}_{window_radius}_{theta}_{integrate_angle}_D{D}{disorder_code}\",\n",
    "    fmt=\"png\",\n",
    "    toolbar=False,\n",
    ")"
   ]
  },
  {
   "cell_type": "markdown",
   "id": "7d414c65-9c52-4bca-a90f-fba4c1de3d26",
   "metadata": {},
   "source": [
    "Disorder can also shift the position of the optimal parameters for absorptance enhancement."
   ]
  },
  {
   "cell_type": "code",
   "execution_count": null,
   "id": "ea149488-85f3-44dd-b688-e4f36cf89e47",
   "metadata": {
    "tags": []
   },
   "outputs": [],
   "source": [
    "variable = \"A\"\n",
    "lorentz_line = 0\n",
    "window_radius = 0\n",
    "theta = 0\n",
    "integrate_angle = 0\n",
    "\n",
    "if \"per_oscillator\" in variable:\n",
    "    var_code = variable[0] + \"po\"\n",
    "else:\n",
    "    var_code = variable\n",
    "if integrate_angle:\n",
    "    th = f\"{theta}-{integrate_angle}\"\n",
    "else:\n",
    "    th = theta\n",
    "\n",
    "temp_ds = cross_section(\n",
    "    restacked_norm_1(aggregated_ds),\n",
    "    variable=variable,\n",
    "    lorentz_line=lorentz_line,\n",
    "    window_radius=window_radius,\n",
    "    theta=theta,\n",
    "    integrate_angle=integrate_angle,\n",
    ")"
   ]
  },
  {
   "cell_type": "code",
   "execution_count": null,
   "id": "bb68cf9e-bbe9-4879-9883-ac74bb5c7b04",
   "metadata": {
    "tags": []
   },
   "outputs": [],
   "source": [
    "find_optimum_coords(temp_ds)"
   ]
  },
  {
   "cell_type": "code",
   "execution_count": null,
   "id": "bf0641a2-7c11-4b49-a7d0-729385786fee",
   "metadata": {
    "tags": []
   },
   "outputs": [],
   "source": [
    "find_optimum_coords(temp_ds.sel(delta=0, disorder_correlation=\"correlated\"))"
   ]
  },
  {
   "cell_type": "code",
   "execution_count": null,
   "id": "3f4605c6-1cb8-4b66-8f07-b24843e9f825",
   "metadata": {
    "tags": []
   },
   "outputs": [],
   "source": [
    "P = 230\n",
    "elt = 10\n",
    "N = 10\n",
    "the_plot = temp_ds.sel(period=P, excitonic_layer_thickness=elt, num_periods=N).squeeze().hvplot(\n",
    "    x=\"delta\", by=\"disorder_correlation\"\n",
    ").opts(opts.Curve(ylabel=\"γA\"), opts.NdOverlay(title=\"\", legend_position=\"bottom_left\", legend_opts={\"title\": None}))\n",
    "the_plot"
   ]
  },
  {
   "cell_type": "code",
   "execution_count": null,
   "id": "f2abca9c-f2d0-4eaf-b05f-0b2651d16135",
   "metadata": {
    "tags": []
   },
   "outputs": [],
   "source": [
    "print(f\"correlated: {(16.5/20.5-1)*100:.2f}%\\nuncorrelated: {(19.1/20.5-1)*100:.2f}%\")"
   ]
  },
  {
   "cell_type": "code",
   "execution_count": null,
   "id": "f73f53e7-5bea-4c28-bd79-8c1d0d0801b7",
   "metadata": {
    "tags": []
   },
   "outputs": [],
   "source": [
    "hv.save(\n",
    "    the_plot,\n",
    "    filename=fig_path\n",
    "    / f\"{var_code + 'ef'}_DLOPC_1D_D_L0_P{P}_elt{elt}_N{N}_th{th}\",\n",
    "    fmt=\"png\",\n",
    "    toolbar=False,\n",
    ")"
   ]
  },
  {
   "cell_type": "code",
   "execution_count": null,
   "id": "39e8cde1-fba2-4ebc-badc-20f08f7f2aa7",
   "metadata": {
    "tags": []
   },
   "outputs": [],
   "source": [
    "variable = \"A\"\n",
    "lorentz_line = 0\n",
    "window_radius = 8\n",
    "theta = 0\n",
    "integrate_angle = 0\n",
    "\n",
    "if \"per_oscillator\" in variable:\n",
    "    var_code = variable[0] + \"po\"\n",
    "else:\n",
    "    var_code = variable\n",
    "if integrate_angle:\n",
    "    th = f\"{theta}-{integrate_angle}\"\n",
    "else:\n",
    "    th = theta\n",
    "if window_radius:\n",
    "    L = f\"{lorentz_line}-{window_radius}\"\n",
    "else:\n",
    "    L= lorentz_line\n",
    "\n",
    "temp_ds = restacked_ief(\n",
    "    aggregated_ds,\n",
    "    ref=crs_1,\n",
    "    common_dim=\"total_excitonic_thickness\",\n",
    "    variable=variable,\n",
    "    lorentz_line=lorentz_line,\n",
    "    window_radius=window_radius,\n",
    "    theta=theta,\n",
    "    integrate_angle=integrate_angle,\n",
    ")"
   ]
  },
  {
   "cell_type": "code",
   "execution_count": null,
   "id": "f6116d78-6da0-4704-aa2c-fff7d7b5c523",
   "metadata": {
    "tags": []
   },
   "outputs": [],
   "source": [
    "find_optimum_coords(temp_ds)"
   ]
  },
  {
   "cell_type": "code",
   "execution_count": null,
   "id": "dd90a44b-d4ed-4527-9958-d4f129d4cb70",
   "metadata": {
    "tags": []
   },
   "outputs": [],
   "source": [
    "find_optimum_coords(temp_ds.sel(delta=0, disorder_correlation=\"correlated\"))"
   ]
  },
  {
   "cell_type": "code",
   "execution_count": null,
   "id": "fd163c6d-9415-44e4-8c50-baa25c64f587",
   "metadata": {
    "tags": []
   },
   "outputs": [],
   "source": [
    "P = 210\n",
    "elt = 20\n",
    "N = 5\n",
    "the_plot = temp_ds.sel(period=P, excitonic_layer_thickness=elt, num_periods=N).squeeze().hvplot(\n",
    "    x=\"delta\", by=\"disorder_correlation\"\n",
    ").opts(opts.Curve(ylabel=\"γA_tot\"), opts.NdOverlay(title=\"\", legend_position=\"bottom_left\", legend_opts={\"title\": None}))\n",
    "the_plot"
   ]
  },
  {
   "cell_type": "code",
   "execution_count": null,
   "id": "ce435cfb-4d24-43c8-abaa-5ce40aaad073",
   "metadata": {
    "tags": []
   },
   "outputs": [],
   "source": [
    "print(f\"correlated: {(16.3/17.1-1)*100:.2f}%\\nuncorrelated: {(16.1/17.1-1)*100:.2f}%\")"
   ]
  },
  {
   "cell_type": "code",
   "execution_count": null,
   "id": "c393f797-4076-4641-bad9-d24d17a239c1",
   "metadata": {
    "tags": []
   },
   "outputs": [],
   "source": [
    "hv.save(\n",
    "    the_plot,\n",
    "    filename=fig_path\n",
    "    / f\"{var_code + 'ef'}_DLOPC_1D_D_L{L}_P{P}_elt{elt}_N{N}_th{th}\",\n",
    "    fmt=\"png\",\n",
    "    toolbar=False,\n",
    ")"
   ]
  },
  {
   "cell_type": "code",
   "execution_count": null,
   "id": "7b15f04b-962e-49e9-b3c6-6620fca9c690",
   "metadata": {
    "tags": []
   },
   "outputs": [],
   "source": [
    "variable = \"A\"\n",
    "lorentz_line = 0\n",
    "window_radius = 8\n",
    "theta = 0\n",
    "integrate_angle = 45\n",
    "\n",
    "if \"per_oscillator\" in variable:\n",
    "    var_code = variable[0] + \"po\"\n",
    "else:\n",
    "    var_code = variable\n",
    "if integrate_angle:\n",
    "    th = f\"{theta}-{integrate_angle}\"\n",
    "else:\n",
    "    th = theta\n",
    "if window_radius:\n",
    "    L = f\"{lorentz_line}-{window_radius}\"\n",
    "else:\n",
    "    L= lorentz_line\n",
    "\n",
    "temp_ds = restacked_ief(\n",
    "    aggregated_ds,\n",
    "    ref=crs_1,\n",
    "    common_dim=\"total_excitonic_thickness\",\n",
    "    variable=variable,\n",
    "    lorentz_line=lorentz_line,\n",
    "    window_radius=window_radius,\n",
    "    theta=theta,\n",
    "    integrate_angle=integrate_angle,\n",
    ")"
   ]
  },
  {
   "cell_type": "code",
   "execution_count": null,
   "id": "fc3532dd-dc92-42a8-9a65-c81bf4d0377e",
   "metadata": {
    "tags": []
   },
   "outputs": [],
   "source": [
    "find_optimum_coords(temp_ds)"
   ]
  },
  {
   "cell_type": "code",
   "execution_count": null,
   "id": "9f278f8e-a82e-422a-b133-e506810099a8",
   "metadata": {
    "tags": []
   },
   "outputs": [],
   "source": [
    "find_optimum_coords(temp_ds.sel(delta=0, disorder_correlation=\"correlated\"))"
   ]
  },
  {
   "cell_type": "code",
   "execution_count": null,
   "id": "f1114bb3-6edd-439f-96bc-82a07de0553a",
   "metadata": {
    "tags": []
   },
   "outputs": [],
   "source": [
    "P = 210\n",
    "elt = 30\n",
    "N = 5\n",
    "the_plot = temp_ds.sel(period=P, excitonic_layer_thickness=elt, num_periods=N).squeeze().hvplot(\n",
    "    x=\"delta\", by=\"disorder_correlation\"\n",
    ").opts(opts.Curve(ylabel=\"γA_tot\"), opts.NdOverlay(title=\"\", legend_position=\"bottom_left\", legend_opts={\"title\": None}))\n",
    "the_plot"
   ]
  },
  {
   "cell_type": "code",
   "execution_count": null,
   "id": "96761336-61fb-4ed4-a0d9-778a723e225a",
   "metadata": {
    "tags": []
   },
   "outputs": [],
   "source": [
    "print(f\"correlated: {(13.3/14.1-1)*100:.2f}%\\nuncorrelated: {(13.4/14.1-1)*100:.2f}%\")"
   ]
  },
  {
   "cell_type": "code",
   "execution_count": null,
   "id": "27fb829b-ab71-4675-b862-0b575d040cea",
   "metadata": {
    "tags": []
   },
   "outputs": [],
   "source": [
    "hv.save(\n",
    "    the_plot,\n",
    "    filename=fig_path\n",
    "    / f\"{var_code + 'ef'}_DLOPC_1D_D_L{L}_P{P}_elt{elt}_N{N}_th{th}\",\n",
    "    fmt=\"png\",\n",
    "    toolbar=False,\n",
    ")"
   ]
  },
  {
   "cell_type": "markdown",
   "id": "8c744f65-62b2-4b99-a070-2b26a1bd2b3e",
   "metadata": {
    "jp-MarkdownHeadingCollapsed": true,
    "tags": []
   },
   "source": [
    "#### What if we ignore the absorption and illumination spectra?"
   ]
  },
  {
   "cell_type": "markdown",
   "id": "bde7d63e-defa-4c5b-a42d-3228f89344bb",
   "metadata": {},
   "source": [
    "Normal incidence"
   ]
  },
  {
   "cell_type": "code",
   "execution_count": null,
   "id": "bf58b966-e3b7-440b-b664-d34e4d5c7adb",
   "metadata": {
    "tags": []
   },
   "outputs": [],
   "source": [
    "variable = \"A\"\n",
    "lorentz_line = 0\n",
    "window_radius = 8\n",
    "theta = 0\n",
    "integrate_angle = 0\n",
    "\n",
    "if \"per_oscillator\" in variable:\n",
    "    var_code = variable[0] + \"po\"\n",
    "else:\n",
    "    var_code = variable\n",
    "if integrate_angle:\n",
    "    th = f\"{theta}-{integrate_angle}\"\n",
    "else:\n",
    "    th = theta\n",
    "if window_radius:\n",
    "    L = f\"{lorentz_line}-{window_radius}\"\n",
    "else:\n",
    "    L= lorentz_line\n",
    "\n",
    "temp_ds = cross_section(\n",
    "    restacked_norm_1(aggregated_ds),\n",
    "    variable=variable,\n",
    "    lorentz_line=lorentz_line,\n",
    "    window_radius=window_radius,\n",
    "    theta=theta,\n",
    "    integrate_angle=integrate_angle,\n",
    ")"
   ]
  },
  {
   "cell_type": "code",
   "execution_count": null,
   "id": "25a6ac07-821f-47b8-b068-52e32ed18969",
   "metadata": {
    "tags": []
   },
   "outputs": [],
   "source": [
    "find_optimum_coords(temp_ds)"
   ]
  },
  {
   "cell_type": "code",
   "execution_count": null,
   "id": "3fa775e6-32b4-4bb2-8395-5a8feca1947d",
   "metadata": {
    "tags": []
   },
   "outputs": [],
   "source": [
    "find_optimum_coords(temp_ds.sel(delta=0, disorder_correlation=\"correlated\"))"
   ]
  },
  {
   "cell_type": "markdown",
   "id": "7d718927-cfb9-408f-9684-e7c347e380e7",
   "metadata": {},
   "source": [
    "Integrating over wavelength without accounting for absorption changes the position of the optima. Let's compare them..."
   ]
  },
  {
   "cell_type": "code",
   "execution_count": null,
   "id": "553c73c1-edd7-4b6c-b5c0-bf0f6bbf0308",
   "metadata": {
    "tags": []
   },
   "outputs": [],
   "source": [
    "# original optimum\n",
    "P = 210\n",
    "elt = 20\n",
    "N = 5\n",
    "the_plot = temp_ds.sel(period=P, excitonic_layer_thickness=elt, num_periods=N).squeeze().hvplot(\n",
    "    x=\"delta\", by=\"disorder_correlation\"\n",
    ").opts(opts.Curve(ylabel=\"γA_tot\"), opts.NdOverlay(title=\"\", legend_position=\"bottom_left\", legend_opts={\"title\": None}))\n",
    "the_plot"
   ]
  },
  {
   "cell_type": "code",
   "execution_count": null,
   "id": "63487b78-58be-4192-a2f9-ddbdc0f73d87",
   "metadata": {
    "tags": []
   },
   "outputs": [],
   "source": [
    "hv.save(\n",
    "    the_plot,\n",
    "    filename=fig_path\n",
    "    / f\"{var_code + 'ef'}_unweighted_DLOPC_1D_D_L{L}_P{P}_elt{elt}_N{N}_th{th}\",\n",
    "    fmt=\"png\",\n",
    "    toolbar=False,\n",
    ")"
   ]
  },
  {
   "cell_type": "code",
   "execution_count": null,
   "id": "d9b28221-428f-4ca0-942d-7206505268c1",
   "metadata": {
    "tags": []
   },
   "outputs": [],
   "source": [
    "P = 200\n",
    "elt = 30\n",
    "N = 5\n",
    "the_plot = temp_ds.sel(period=P, excitonic_layer_thickness=elt, num_periods=N).squeeze().hvplot(\n",
    "    x=\"delta\", by=\"disorder_correlation\"\n",
    ").opts(opts.Curve(ylabel=\"γA_tot\"), opts.NdOverlay(title=\"\", legend_position=\"bottom_left\", legend_opts={\"title\": None}))\n",
    "the_plot"
   ]
  },
  {
   "cell_type": "code",
   "execution_count": null,
   "id": "03a1af87-6f6e-4df4-888f-8724ca70193b",
   "metadata": {
    "tags": []
   },
   "outputs": [],
   "source": [
    "hv.save(\n",
    "    the_plot,\n",
    "    filename=fig_path\n",
    "    / f\"{var_code + 'ef'}_unweighted_DLOPC_1D_D_L{L}_P{P}_elt{elt}_N{N}_th{th}\",\n",
    "    fmt=\"png\",\n",
    "    toolbar=False,\n",
    ")"
   ]
  },
  {
   "cell_type": "markdown",
   "id": "7f318b29-19bd-4065-972a-aa168e8f1e84",
   "metadata": {},
   "source": [
    "Integrated to 45 degrees"
   ]
  },
  {
   "cell_type": "code",
   "execution_count": null,
   "id": "f8ec6247-a2dc-4a9c-b9e8-87414127acb7",
   "metadata": {
    "tags": []
   },
   "outputs": [],
   "source": [
    "variable = \"A\"\n",
    "lorentz_line = 0\n",
    "window_radius = 8\n",
    "theta = 0\n",
    "integrate_angle = 45\n",
    "\n",
    "if \"per_oscillator\" in variable:\n",
    "    var_code = variable[0] + \"po\"\n",
    "else:\n",
    "    var_code = variable\n",
    "if integrate_angle:\n",
    "    th = f\"{theta}-{integrate_angle}\"\n",
    "else:\n",
    "    th = theta\n",
    "if window_radius:\n",
    "    L = f\"{lorentz_line}-{window_radius}\"\n",
    "else:\n",
    "    L= lorentz_line\n",
    "\n",
    "temp_ds = cross_section(\n",
    "    restacked_norm_1(aggregated_ds),\n",
    "    variable=variable,\n",
    "    lorentz_line=lorentz_line,\n",
    "    window_radius=window_radius,\n",
    "    theta=theta,\n",
    "    integrate_angle=integrate_angle,\n",
    ")"
   ]
  },
  {
   "cell_type": "code",
   "execution_count": null,
   "id": "f8fd833f-b266-4aa1-8de1-b898a8053b9b",
   "metadata": {
    "tags": []
   },
   "outputs": [],
   "source": [
    "find_optimum_coords(temp_ds)"
   ]
  },
  {
   "cell_type": "code",
   "execution_count": null,
   "id": "ab105a43-efde-45d8-afaf-34129177a0b0",
   "metadata": {
    "tags": []
   },
   "outputs": [],
   "source": [
    "P = 210\n",
    "elt = 30\n",
    "N = 5\n",
    "the_plot = temp_ds.sel(period=P, excitonic_layer_thickness=elt, num_periods=N).squeeze().hvplot(\n",
    "    x=\"delta\", by=\"disorder_correlation\"\n",
    ").opts(opts.Curve(ylabel=\"γA_tot\"), opts.NdOverlay(title=\"\", legend_position=\"bottom_left\", legend_opts={\"title\": None}))\n",
    "the_plot"
   ]
  },
  {
   "cell_type": "code",
   "execution_count": null,
   "id": "aa3a3f41-4ffc-4861-9934-2ecdbb46c4ab",
   "metadata": {
    "tags": []
   },
   "outputs": [],
   "source": [
    "hv.save(\n",
    "    the_plot,\n",
    "    filename=fig_path\n",
    "    / f\"{var_code + 'ef'}_unweighted_DLOPC_1D_D_L{L}_P{P}_elt{elt}_N{N}_th{th}\",\n",
    "    fmt=\"png\",\n",
    "    toolbar=False,\n",
    ")"
   ]
  },
  {
   "cell_type": "code",
   "execution_count": null,
   "id": "417a01a8-6e44-4f44-9e85-977b6dda2a39",
   "metadata": {
    "tags": []
   },
   "outputs": [],
   "source": [
    "variable = \"A\"\n",
    "lorentz_line = 5\n",
    "window_radius = 0\n",
    "theta = 0\n",
    "integrate_angle = 0\n",
    "\n",
    "if \"per_oscillator\" in variable:\n",
    "    var_code = variable[0] + \"po\"\n",
    "else:\n",
    "    var_code = variable\n",
    "if integrate_angle:\n",
    "    th = f\"{theta}-{integrate_angle}\"\n",
    "else:\n",
    "    th = theta\n",
    "match variable[0]:\n",
    "    case \"R\":\n",
    "        cmap = \"viridis\"\n",
    "    case \"T\":\n",
    "        cmap = \"cividis\"\n",
    "    case \"A\":\n",
    "        cmap = \"inferno\"\n",
    "\n",
    "temp_ds = restacked_norm_1(aggregated_ds)\n",
    "dmap = wrapped_2D_plot(\n",
    "    variable=variable,\n",
    "    dataset=temp_ds,\n",
    "    lorentz_line=lorentz_line,\n",
    "    window_radius=window_radius,\n",
    "    theta=theta,\n",
    "    integrate_angle=integrate_angle,\n",
    "    period_start=0,\n",
    "    period_stop=400,\n",
    "    extra_plots=[],\n",
    "    dim=\"period\",\n",
    "    cmap=cmap,\n",
    ").opts(opts.Overlay(title=\"\"), opts.QuadMesh(xlabel=\"d_e (nm)\"))"
   ]
  },
  {
   "cell_type": "code",
   "execution_count": null,
   "id": "db1b0933-86c0-40e5-bbec-85bc5327b25f",
   "metadata": {
    "tags": []
   },
   "outputs": [],
   "source": [
    "dmap"
   ]
  },
  {
   "cell_type": "code",
   "execution_count": null,
   "id": "2074b317-edab-45aa-90dd-50a27b571dec",
   "metadata": {
    "tags": []
   },
   "outputs": [],
   "source": [
    "delta = 0\n",
    "disorder_correlation = \"correlated\"\n",
    "disorder_code = disorder_correlation[0]\n",
    "D = str(delta).replace(\".\", \"\")\n",
    "\n",
    "the_plot = dmap.select(delta=delta, disorder_correlation=disorder_correlation)\n",
    "display(the_plot)\n",
    "hv.save(\n",
    "    the_plot,\n",
    "    filename=fig_path\n",
    "    / f\"opt_{var_code + 'ef'}_max_DLOPC_elt_N_{lorentz_line}_{window_radius}_{theta}_{integrate_angle}_D{D}{disorder_code}\",\n",
    "    fmt=\"png\",\n",
    "    toolbar=False,\n",
    ")"
   ]
  },
  {
   "cell_type": "code",
   "execution_count": null,
   "id": "cd17ebaa-7cb5-4b43-aa98-6ef48c0fab68",
   "metadata": {
    "tags": []
   },
   "outputs": [],
   "source": [
    "delta = 0.15\n",
    "disorder_correlation = \"correlated\"\n",
    "disorder_code = disorder_correlation[0]\n",
    "D = str(delta).replace(\".\", \"\")\n",
    "\n",
    "the_plot = dmap.select(delta=delta, disorder_correlation=disorder_correlation)\n",
    "display(the_plot)\n",
    "hv.save(\n",
    "    the_plot,\n",
    "    filename=fig_path\n",
    "    / f\"opt_{var_code + 'ef'}_max_DLOPC_elt_N_{lorentz_line}_{window_radius}_{theta}_{integrate_angle}_D{D}{disorder_code}\",\n",
    "    fmt=\"png\",\n",
    "    toolbar=False,\n",
    ")"
   ]
  },
  {
   "cell_type": "code",
   "execution_count": null,
   "id": "0bf70563-d6dc-48d8-88f8-5397f3814607",
   "metadata": {
    "tags": []
   },
   "outputs": [],
   "source": [
    "delta = 0.15\n",
    "disorder_correlation = \"uncorrelated\"\n",
    "disorder_code = disorder_correlation[0]\n",
    "D = str(delta).replace(\".\", \"\")\n",
    "\n",
    "the_plot = dmap.select(delta=delta, disorder_correlation=disorder_correlation)\n",
    "display(the_plot)\n",
    "hv.save(\n",
    "    the_plot,\n",
    "    filename=fig_path\n",
    "    / f\"opt_{var_code + 'ef'}_max_DLOPC_elt_N_{lorentz_line}_{window_radius}_{theta}_{integrate_angle}_D{D}{disorder_code}\",\n",
    "    fmt=\"png\",\n",
    "    toolbar=False,\n",
    ")"
   ]
  },
  {
   "cell_type": "markdown",
   "id": "e9b95d1e-feb1-49c7-90a4-089461a30e62",
   "metadata": {},
   "source": [
    "Integrating over theta?"
   ]
  },
  {
   "cell_type": "code",
   "execution_count": null,
   "id": "2561a620-48aa-4a86-a458-9983e10d32b5",
   "metadata": {
    "tags": []
   },
   "outputs": [],
   "source": [
    "variable = \"A\"\n",
    "lorentz_line = 5\n",
    "window_radius = 0\n",
    "theta = 0\n",
    "integrate_angle = 45\n",
    "\n",
    "if \"per_oscillator\" in variable:\n",
    "    var_code = variable[0] + \"po\"\n",
    "else:\n",
    "    var_code = variable\n",
    "if integrate_angle:\n",
    "    th = f\"{theta}-{integrate_angle}\"\n",
    "else:\n",
    "    th = theta\n",
    "match variable[0]:\n",
    "    case \"R\":\n",
    "        cmap = \"viridis\"\n",
    "    case \"T\":\n",
    "        cmap = \"cividis\"\n",
    "    case \"A\":\n",
    "        cmap = \"inferno\"\n",
    "\n",
    "temp_ds = restacked_norm_1(aggregated_ds)\n",
    "dmap = wrapped_2D_plot(\n",
    "    variable=variable,\n",
    "    dataset=temp_ds,\n",
    "    lorentz_line=lorentz_line,\n",
    "    window_radius=window_radius,\n",
    "    theta=theta,\n",
    "    integrate_angle=integrate_angle,\n",
    "    period_start=0,\n",
    "    period_stop=400,\n",
    "    extra_plots=[],\n",
    "    dim=\"period\",\n",
    "    cmap=cmap,\n",
    ").opts(opts.Overlay(title=\"\"), opts.QuadMesh(xlabel=\"d_e (nm)\"))"
   ]
  },
  {
   "cell_type": "code",
   "execution_count": null,
   "id": "b32ca78c-9782-4a67-8fe6-4f7531acc9a1",
   "metadata": {
    "tags": []
   },
   "outputs": [],
   "source": [
    "dmap"
   ]
  },
  {
   "cell_type": "code",
   "execution_count": null,
   "id": "ae8195a2-555a-4518-8281-dc4db1236100",
   "metadata": {
    "tags": []
   },
   "outputs": [],
   "source": [
    "delta = 0\n",
    "disorder_correlation = \"correlated\"\n",
    "disorder_code = disorder_correlation[0]\n",
    "D = str(delta).replace(\".\", \"\")\n",
    "\n",
    "the_plot = dmap.select(delta=delta, disorder_correlation=disorder_correlation)\n",
    "display(the_plot)\n",
    "hv.save(\n",
    "    the_plot,\n",
    "    filename=fig_path\n",
    "    / f\"opt_{var_code + 'ef'}_max_DLOPC_elt_N_{lorentz_line}_{window_radius}_{theta}_{integrate_angle}_D{D}{disorder_code}\",\n",
    "    fmt=\"png\",\n",
    "    toolbar=False,\n",
    ")"
   ]
  },
  {
   "cell_type": "code",
   "execution_count": null,
   "id": "954ede87-3b82-4aa0-afd5-9fc9a5921c7c",
   "metadata": {
    "tags": []
   },
   "outputs": [],
   "source": [
    "delta = 0.15\n",
    "disorder_correlation = \"correlated\"\n",
    "disorder_code = disorder_correlation[0]\n",
    "D = str(delta).replace(\".\", \"\")\n",
    "\n",
    "the_plot = dmap.select(delta=delta, disorder_correlation=disorder_correlation)\n",
    "display(the_plot)\n",
    "hv.save(\n",
    "    the_plot,\n",
    "    filename=fig_path\n",
    "    / f\"opt_{var_code + 'ef'}_max_DLOPC_elt_N_{lorentz_line}_{window_radius}_{theta}_{integrate_angle}_D{D}{disorder_code}\",\n",
    "    fmt=\"png\",\n",
    "    toolbar=False,\n",
    ")"
   ]
  },
  {
   "cell_type": "code",
   "execution_count": null,
   "id": "3aa3a64b-bb11-4d2c-967c-5c4d116a5e88",
   "metadata": {
    "tags": []
   },
   "outputs": [],
   "source": [
    "delta = 0.15\n",
    "disorder_correlation = \"uncorrelated\"\n",
    "disorder_code = disorder_correlation[0]\n",
    "D = str(delta).replace(\".\", \"\")\n",
    "\n",
    "the_plot = dmap.select(delta=delta, disorder_correlation=disorder_correlation)\n",
    "display(the_plot)\n",
    "hv.save(\n",
    "    the_plot,\n",
    "    filename=fig_path\n",
    "    / f\"opt_{var_code + 'ef'}_max_DLOPC_elt_N_{lorentz_line}_{window_radius}_{theta}_{integrate_angle}_D{D}{disorder_code}\",\n",
    "    fmt=\"png\",\n",
    "    toolbar=False,\n",
    ")"
   ]
  },
  {
   "cell_type": "markdown",
   "id": "227383fc-52e2-4cbe-acfc-387f4bbcea0f",
   "metadata": {},
   "source": [
    "## Does disorder make a difference on the level found in iridoplasts?"
   ]
  },
  {
   "cell_type": "code",
   "execution_count": null,
   "id": "a1028022-4e97-4245-98af-984654cc9644",
   "metadata": {
    "tags": []
   },
   "outputs": [],
   "source": [
    "R_CRS = integrate_da(\n",
    "    crs_1[\"R\"].sel(total_excitonic_thickness=400),\n",
    "    dim=\"wavelength\",\n",
    "    normalisation=1,\n",
    ").hvplot(x=\"theta\", line_color=\"black\", line_dash=\"dashed\")"
   ]
  },
  {
   "cell_type": "code",
   "execution_count": null,
   "id": "e3cf240b-05a9-41ef-baa3-77ce2545f29b",
   "metadata": {
    "tags": []
   },
   "outputs": [],
   "source": [
    "the_plot = (\n",
    "    integrate_da(\n",
    "        restacked_ads[\"R\"].sel(\n",
    "            period=300,\n",
    "            num_periods=20,\n",
    "            excitonic_layer_thickness=20,\n",
    "        ).sel(delta=slice(None,None,3)),\n",
    "        dim=\"wavelength\",\n",
    "        normalisation=1,\n",
    "    )\n",
    "    .squeeze()\n",
    "    .hvplot(x=\"theta\", by=\"delta\", groupby=[\"disorder_correlation\"])\n",
    ")"
   ]
  },
  {
   "cell_type": "code",
   "execution_count": null,
   "id": "9d28894e-2394-4555-a116-18f07082abf9",
   "metadata": {
    "tags": []
   },
   "outputs": [],
   "source": [
    "the_plot.opts(opts.Curve())*R_CRS"
   ]
  },
  {
   "cell_type": "code",
   "execution_count": null,
   "id": "e403e14f-bfc1-46aa-8da4-1d31aea7bc30",
   "metadata": {
    "tags": []
   },
   "outputs": [],
   "source": [
    "the_plot = (\n",
    "    integrate_da(\n",
    "        restack_plt_to_period(stats_ds)[\"R_mean\"].sel(\n",
    "            period=300,\n",
    "            num_periods=5,\n",
    "        ),\n",
    "        dim=\"wavelength\",\n",
    "        normalisation=1,\n",
    "    )\n",
    "    .squeeze()\n",
    "    .hvplot(\n",
    "        x=\"theta\",\n",
    "        by=\"delta\",\n",
    "        groupby=[\n",
    "            \"disorder_correlation\",\n",
    "        ],\n",
    "    )\n",
    ")"
   ]
  },
  {
   "cell_type": "code",
   "execution_count": null,
   "id": "d3943727-e30c-4687-95cc-b81e5925a128",
   "metadata": {
    "tags": []
   },
   "outputs": [],
   "source": [
    "the_plot.opts(opts.Curve())#*R_CRS  # wrong thickness"
   ]
  },
  {
   "cell_type": "markdown",
   "id": "5761a65e-065e-42f1-994b-6bb31d784ec6",
   "metadata": {},
   "source": [
    "Seems that disorder does smooth out the curves, and also brings the shape back to the shape of the CRS reflectance."
   ]
  },
  {
   "cell_type": "code",
   "execution_count": null,
   "id": "b5939467-bd2c-4117-95ae-45de88744452",
   "metadata": {
    "tags": []
   },
   "outputs": [],
   "source": [
    "the_plot = (\n",
    "    integrate_da(\n",
    "        restack_plt_to_period(stats_ds)[\"R_mean\"], dim=\"wavelength\", normalisation=1\n",
    "    )\n",
    "    .sel(period=300, num_periods=5, theta=0)\n",
    "    .squeeze()\n",
    "    .hvplot(x=\"delta\", by=\"disorder_correlation\")\n",
    ")"
   ]
  },
  {
   "cell_type": "code",
   "execution_count": null,
   "id": "91687b11-5be4-4c8f-b1b6-ba1e7463f8bb",
   "metadata": {
    "tags": []
   },
   "outputs": [],
   "source": [
    "the_plot.opts()"
   ]
  },
  {
   "cell_type": "code",
   "execution_count": null,
   "id": "e4f3d0cd-219b-44fc-8a5c-5e54cf7f98b0",
   "metadata": {
    "tags": []
   },
   "outputs": [],
   "source": [
    "the_plot = (\n",
    "    integrate_da(\n",
    "        restack_plt_to_period(stats_ds)[\"R_mean\"], dim=[\"wavelength\", \"theta\"], normalisation=1\n",
    "    )\n",
    "    .sel(period=300, num_periods=5)\n",
    "    .squeeze()\n",
    "    .hvplot(x=\"delta\", by=\"disorder_correlation\")\n",
    ")"
   ]
  },
  {
   "cell_type": "code",
   "execution_count": null,
   "id": "9b9f3ff7-76d0-4313-8142-c522cfea3dab",
   "metadata": {
    "tags": []
   },
   "outputs": [],
   "source": [
    "the_plot.opts()"
   ]
  },
  {
   "cell_type": "code",
   "execution_count": null,
   "id": "82d34b8e-5b6c-4dd5-bf42-a30c1abbff3a",
   "metadata": {
    "tags": []
   },
   "outputs": [],
   "source": [
    "the_plot = (\n",
    "    integrate_da(\n",
    "        restack_plt_to_period(stats_ds)[\"R_mean\"].sel(theta=slice(0, 45)), dim=[\"wavelength\", \"theta\"], normalisation=1\n",
    "    )\n",
    "    .sel(period=300, num_periods=5)\n",
    "    .squeeze()\n",
    "    .hvplot(x=\"delta\", by=\"disorder_correlation\")\n",
    ")"
   ]
  },
  {
   "cell_type": "code",
   "execution_count": null,
   "id": "66d3e0bb-ce68-407d-b176-4c2faa377036",
   "metadata": {
    "tags": []
   },
   "outputs": [],
   "source": [
    "the_plot.opts()"
   ]
  },
  {
   "cell_type": "code",
   "execution_count": null,
   "id": "7b492bab-70b8-4879-879f-fde78916f2a4",
   "metadata": {
    "tags": []
   },
   "outputs": [],
   "source": [
    "the_plot = (\n",
    "    integrate_da(\n",
    "        restack_plt_to_period(stats_ds)[\"R_mean\"].sel(theta=slice(0, 45)),\n",
    "        dim=[\"wavelength\", \"theta\"],\n",
    "        normalisation=1,\n",
    "    )\n",
    "    - integrate_da(\n",
    "        restack_plt_to_period(stats_ds)[\"R_mean\"], dim=\"wavelength\", normalisation=1\n",
    "    ).sel(theta=0)\n",
    ").sel(period=250, num_periods=10).squeeze().hvplot(x=\"delta\", by=\"disorder_correlation\")"
   ]
  },
  {
   "cell_type": "code",
   "execution_count": null,
   "id": "a701b442-e290-4cb0-81fa-42ea57f904f0",
   "metadata": {
    "tags": []
   },
   "outputs": [],
   "source": [
    "the_plot.opts()"
   ]
  },
  {
   "cell_type": "code",
   "execution_count": null,
   "id": "16b27372-3195-456f-a797-4a1fce159a50",
   "metadata": {
    "tags": []
   },
   "outputs": [],
   "source": [
    "the_plot = (\n",
    "    restacked_ief(\n",
    "        stats_ds,\n",
    "        ref=crs_1_stats_norm,\n",
    "        common_dim=\"total_excitonic_thickness\",\n",
    "        variable=\"A_mean\",\n",
    "        wavelength=(480, 881),\n",
    "        theta=None\n",
    "    )\n",
    "    .sel(\n",
    "        period=300,\n",
    "        num_periods=30,\n",
    "    )\n",
    "    .squeeze()\n",
    "    .hvplot(\n",
    "        x=\"theta\",\n",
    "        by=\"delta\",\n",
    "        groupby=[\n",
    "            \"disorder_correlation\",\n",
    "        ],\n",
    "    )\n",
    ")"
   ]
  },
  {
   "cell_type": "code",
   "execution_count": null,
   "id": "bff5b8a3-af0a-405a-b106-1d579b642985",
   "metadata": {
    "tags": []
   },
   "outputs": [],
   "source": [
    "the_plot.opts(opts.Curve())*hv.HLine(1).opts(line_dash=\"dotted\")"
   ]
  },
  {
   "cell_type": "markdown",
   "id": "f70af03d-08c4-40e1-aefb-11cb073e1623",
   "metadata": {},
   "source": [
    "Seems that disorder does smooth out the curves, and also brings the shape back to the shape of the CRS reflectance."
   ]
  },
  {
   "cell_type": "code",
   "execution_count": null,
   "id": "a7555317-a57d-4945-b308-f8ed2539080a",
   "metadata": {},
   "outputs": [],
   "source": []
  },
  {
   "cell_type": "markdown",
   "id": "77507c99-b9e0-4d7d-bbd9-21eba7b3087f",
   "metadata": {},
   "source": [
    "What is the highest reflectance possible in the unperturbed LOPC at N=5, wavelength=700?"
   ]
  },
  {
   "cell_type": "code",
   "execution_count": null,
   "id": "052f0ebc-00c2-409d-b137-d0c5b1a2aa6c",
   "metadata": {
    "tags": []
   },
   "outputs": [],
   "source": [
    "wrapped_2D_plot(variable=\"R\", dataset=restacked_pds, lorentz_line=1, period_start=0, period_stop=400, extra_plots=[], cmap=\"viridis\", dim=\"period\")"
   ]
  },
  {
   "cell_type": "markdown",
   "id": "4235cccc-2843-4871-ae92-9f8addab0904",
   "metadata": {},
   "source": [
    "21%!"
   ]
  },
  {
   "cell_type": "markdown",
   "id": "f6a48db2-f256-40e4-b5fa-40c96e308c48",
   "metadata": {},
   "source": [
    "What about N=20? Only 51.6% at d_e=50! But have a look at `R_DLOPC_meancurve_wl_P250_elt50_N20_th0_D01c.png` and `R_DLOPC_runcurve_wl_P250_elt50_N20_th0_D01c.png`. Some of the runs go as high as 60% reflectance there! What's going on?"
   ]
  },
  {
   "cell_type": "code",
   "execution_count": null,
   "id": "c8314370-f3ac-4cd3-9ee1-2c663ab20a90",
   "metadata": {
    "tags": []
   },
   "outputs": [],
   "source": [
    "wrapped_2D_plot(variable=\"R\", dataset=restacked_pds, lorentz_line=1.2, period_start=0, period_stop=400, extra_plots=[], cmap=\"viridis\", dim=\"period\")"
   ]
  },
  {
   "cell_type": "markdown",
   "id": "1febd24d-6185-4e48-be85-6021652e9501",
   "metadata": {},
   "source": [
    "What's going on is that the maximum R really does skyrocket over a couple of nm. At 703 nm, max R at d_e=50, N=20 is 61.2%. This is a great illustration of how much a difference the dispersion can make."
   ]
  },
  {
   "cell_type": "markdown",
   "id": "bdc4ed34-4463-4ffa-9859-4572214646b1",
   "metadata": {
    "tags": []
   },
   "source": [
    "# Cleanup"
   ]
  },
  {
   "cell_type": "markdown",
   "id": "b8eeda70-54b9-495d-999c-43ef47590d57",
   "metadata": {},
   "source": [
    "This depends on if the disorder is correlated or uncorrelated! I think in iridoplasts it is probably uncorrelated."
   ]
  },
  {
   "cell_type": "code",
   "execution_count": null,
   "id": "ad45479c",
   "metadata": {},
   "outputs": [],
   "source": [
    "# hv.archive.export()"
   ]
  },
  {
   "cell_type": "code",
   "execution_count": null,
   "id": "86cbe228",
   "metadata": {},
   "outputs": [],
   "source": [
    "# hv.archive.last_export_status()"
   ]
  }
 ],
 "metadata": {
  "kernelspec": {
   "display_name": "Python [conda env:multilayer_simulator] *",
   "language": "python",
   "name": "conda-env-multilayer_simulator-py"
  },
  "language_info": {
   "codemirror_mode": {
    "name": "ipython",
    "version": 3
   },
   "file_extension": ".py",
   "mimetype": "text/x-python",
   "name": "python",
   "nbconvert_exporter": "python",
   "pygments_lexer": "ipython3",
   "version": "3.10.0"
  }
 },
 "nbformat": 4,
 "nbformat_minor": 5
}
